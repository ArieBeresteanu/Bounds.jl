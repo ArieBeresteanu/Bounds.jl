{
 "cells": [
  {
   "cell_type": "code",
   "execution_count": 1,
   "id": "214139e2",
   "metadata": {},
   "outputs": [],
   "source": [
    "import pandas as pd\n",
    "import math"
   ]
  },
  {
   "cell_type": "code",
   "execution_count": 2,
   "id": "cde9c704",
   "metadata": {},
   "outputs": [],
   "source": [
    "def dotDist(p1, p2, p3):\n",
    "    # Finds the minimal distance between a point p3 and\n",
    "    # the line segment connecting points p1 and p2\n",
    "    if len(p1)==len(p2) and len(p2)==len(p3):\n",
    "        p31 = [a-b for (a,b) in zip(p3,p1)]\n",
    "        p21 = [a-b for (a,b) in zip(p2,p1)]\n",
    "        t = sum([a*b for (a,b) in zip(p31, p21)])/sum([a**2 for a in p21])\n",
    "        t = min(1,max(t,0))\n",
    "        p0 = [a+t*b for (a,b) in zip(p1,p21)]\n",
    "        dist = math.dist(p3,p0)\n",
    "        return dist\n",
    "    else:\n",
    "        raise ValueError(\"dimensions of the three points do not match\")"
   ]
  },
  {
   "cell_type": "code",
   "execution_count": 3,
   "id": "4010ee70",
   "metadata": {},
   "outputs": [],
   "source": [
    "def xangle(p1, p2):\n",
    "    # Computes the angle between the vector from p1 to p2, and the X-axis\n",
    "    d = math.dist(p1,p2)\n",
    "    if d>0:\n",
    "        theta = (p2[0]-p1[0])/d\n",
    "        theta = math.acos(theta)\n",
    "        theta = theta+2*(math.pi-theta)*(p2[1]<p1[1])\n",
    "    else:\n",
    "        theta =0\n",
    "    return theta"
   ]
  },
  {
   "cell_type": "code",
   "execution_count": 4,
   "id": "97200b0d",
   "metadata": {},
   "outputs": [],
   "source": [
    "class Polygons:\n",
    "    # inputs are coordinates (x,y) of all vertices of a convex polygon in any order\n",
    "    # x: x-coordinate of vertices ordered counter-clockwise, starting with the vertex with the smallest y-coordinate.\n",
    "    # y: y-coordinate of vertices ordered counter-clockwise, starting with the vertex with the smallest y-coordinate.\n",
    "    # in case of tie, pick the one with smallest x\n",
    "    \n",
    "    # ang: the polar angle of each edge\n",
    "    \n",
    "    def __init__(self, *args):\n",
    "        # find the starting point p1\n",
    "        df = pd.DataFrame(args, columns=['x','y'])\n",
    "        df.drop_duplicates(inplace = True)\n",
    "        df = df.sort_values(by=['y','x'])\n",
    "        p1 = df.iloc[0,:]\n",
    "        n = df.shape[0]\n",
    "        \n",
    "        # calculate theta between p1 and other vertices\n",
    "        theta = []\n",
    "        for i in range(n):\n",
    "            theta.append(xangle(p1, df.iloc[i,:]))\n",
    "        df['theta'] = theta\n",
    "        \n",
    "        # sort by theta (counter-clockwise order)\n",
    "        df.sort_values(by=['theta'], inplace = True)\n",
    "        \n",
    "        # get rid of non-vertex points:\n",
    "        # caculate d, the distance between any vertex to the line segment connecting the previous and next vertices\n",
    "        # if d is 0, drop the middle point\n",
    "        d = [dotDist(df.iloc[-1,0:2], df.iloc[1,0:2], df.iloc[0,0:2])]\n",
    "        for i in range(1,n-1):\n",
    "            d.append(dotDist(df.iloc[i-1,0:2], df.iloc[i+1,0:2], df.iloc[i,0:2]))\n",
    "        d.append(dotDist(df.iloc[-2,0:2], df.iloc[0,0:2], df.iloc[-1,0:2]))\n",
    "        df['d'] = d\n",
    "        df = df.loc[df['d']>0.0]\n",
    "        \n",
    "        # caculate the polar angle of each edge i (from vertex i to vertex i+1)\n",
    "        n = df.shape[0]\n",
    "        angle = [None]*n\n",
    "        for i in range(n-1):\n",
    "            angle[i] = (xangle(df.iloc[i,0:2], df.iloc[i+1,0:2]))\n",
    "        angle[-1] = (xangle(df.iloc[-1,0:2], df.iloc[0,0:2]))\n",
    "        df['angle'] = angle\n",
    "        \n",
    "        self.x = list(df['x'])\n",
    "        self.y = list(df['y'])\n",
    "        self.ang = list(df['angle'])\n",
    "        self.dim = n"
   ]
  },
  {
   "cell_type": "code",
   "execution_count": 5,
   "id": "b8858de8",
   "metadata": {},
   "outputs": [],
   "source": [
    "def minksum(P1:Polygons, P2:Polygons):\n",
    "    m = P1.dim\n",
    "    n = P2.dim\n",
    "    i = 0\n",
    "    j = 0\n",
    "    P1.x+=[P1.x[0]]\n",
    "    P2.x+=[P2.x[0]]\n",
    "    P1.y+=[P1.y[0]]\n",
    "    P2.y+=[P2.y[0]]\n",
    "    P1.ang+=[P1.ang[0]]\n",
    "    P2.ang+=[P2.ang[0]]\n",
    "    P = ()\n",
    "    while i<m or j<n:\n",
    "        P+=([P1.x[i]+P2.x[j],P1.y[i]+P2.y[j]],)\n",
    "        if i == m:\n",
    "            j+=1\n",
    "        elif j==n:\n",
    "            i+=1\n",
    "        else:        \n",
    "            dif = P1.ang[i]-P2.ang[j]\n",
    "            if dif>=0:\n",
    "                j+=1\n",
    "            if dif<=0:\n",
    "                i+=1\n",
    "    return Polygons(*P)"
   ]
  },
  {
   "cell_type": "markdown",
   "id": "461c230d",
   "metadata": {},
   "source": [
    "# Testing "
   ]
  },
  {
   "cell_type": "code",
   "execution_count": 6,
   "id": "0825697b",
   "metadata": {},
   "outputs": [
    {
     "name": "stdout",
     "output_type": "stream",
     "text": [
      "[0.4993467216801301, 2.792821650005886, 3.4903636571737002, 5.783838585499456]\n",
      "[0.049958395721943306, 1.325817663668032, 3.117787627404723, 4.71238898038469]\n"
     ]
    }
   ],
   "source": [
    "P1 = Polygons([0.0,0.4],[-1.1,0.0],[1.1,0.0],[0.0,-0.6])\n",
    "P2 = Polygons([-1.0,0.0],[1.0,0.1],[-1.0,0.55],[1.1,0.5])\n",
    "print(P1.ang)\n",
    "print(P2.ang)"
   ]
  },
  {
   "cell_type": "code",
   "execution_count": 7,
   "id": "f7b0e078",
   "metadata": {},
   "outputs": [
    {
     "name": "stdout",
     "output_type": "stream",
     "text": [
      "[-1.0, 1.0, 2.1, 2.2, 1.1, -1.0, -2.1, -2.1]\n",
      "[-0.6, -0.5, 0.1, 0.5, 0.9, 0.9500000000000001, 0.55, 0.0]\n"
     ]
    },
    {
     "data": {
      "text/plain": [
       "8"
      ]
     },
     "execution_count": 7,
     "metadata": {},
     "output_type": "execute_result"
    }
   ],
   "source": [
    "P = minksum(P1, P2)\n",
    "print(P.x)\n",
    "print(P.y)\n",
    "P.dim"
   ]
  },
  {
   "cell_type": "markdown",
   "id": "2c1d804a",
   "metadata": {},
   "source": [
    "## If I don't force one index to increase when another index has reached the boundary:"
   ]
  },
  {
   "cell_type": "code",
   "execution_count": 8,
   "id": "a1508312",
   "metadata": {},
   "outputs": [
    {
     "ename": "IndexError",
     "evalue": "list index out of range",
     "output_type": "error",
     "traceback": [
      "\u001b[0;31m---------------------------------------------------------------------------\u001b[0m",
      "\u001b[0;31mIndexError\u001b[0m                                Traceback (most recent call last)",
      "\u001b[0;32m/var/folders/jq/plz_wl9x6rvfnhd5sbqd9xnw0000gn/T/ipykernel_31411/3594702880.py\u001b[0m in \u001b[0;36m<module>\u001b[0;34m\u001b[0m\n\u001b[1;32m     14\u001b[0m \u001b[0mP\u001b[0m \u001b[0;34m=\u001b[0m \u001b[0;34m(\u001b[0m\u001b[0;34m)\u001b[0m\u001b[0;34m\u001b[0m\u001b[0;34m\u001b[0m\u001b[0m\n\u001b[1;32m     15\u001b[0m \u001b[0;32mwhile\u001b[0m \u001b[0mi\u001b[0m\u001b[0;34m<\u001b[0m\u001b[0mm\u001b[0m \u001b[0;32mor\u001b[0m \u001b[0mj\u001b[0m\u001b[0;34m<\u001b[0m\u001b[0mn\u001b[0m\u001b[0;34m:\u001b[0m\u001b[0;34m\u001b[0m\u001b[0;34m\u001b[0m\u001b[0m\n\u001b[0;32m---> 16\u001b[0;31m     \u001b[0mP\u001b[0m\u001b[0;34m+=\u001b[0m\u001b[0;34m(\u001b[0m\u001b[0;34m[\u001b[0m\u001b[0mP1\u001b[0m\u001b[0;34m.\u001b[0m\u001b[0mx\u001b[0m\u001b[0;34m[\u001b[0m\u001b[0mi\u001b[0m\u001b[0;34m]\u001b[0m\u001b[0;34m+\u001b[0m\u001b[0mP2\u001b[0m\u001b[0;34m.\u001b[0m\u001b[0mx\u001b[0m\u001b[0;34m[\u001b[0m\u001b[0mj\u001b[0m\u001b[0;34m]\u001b[0m\u001b[0;34m,\u001b[0m\u001b[0mP1\u001b[0m\u001b[0;34m.\u001b[0m\u001b[0my\u001b[0m\u001b[0;34m[\u001b[0m\u001b[0mi\u001b[0m\u001b[0;34m]\u001b[0m\u001b[0;34m+\u001b[0m\u001b[0mP2\u001b[0m\u001b[0;34m.\u001b[0m\u001b[0my\u001b[0m\u001b[0;34m[\u001b[0m\u001b[0mj\u001b[0m\u001b[0;34m]\u001b[0m\u001b[0;34m]\u001b[0m\u001b[0;34m,\u001b[0m\u001b[0;34m)\u001b[0m\u001b[0;34m\u001b[0m\u001b[0;34m\u001b[0m\u001b[0m\n\u001b[0m\u001b[1;32m     17\u001b[0m     \u001b[0mdif\u001b[0m \u001b[0;34m=\u001b[0m \u001b[0mP1\u001b[0m\u001b[0;34m.\u001b[0m\u001b[0mang\u001b[0m\u001b[0;34m[\u001b[0m\u001b[0mi\u001b[0m\u001b[0;34m]\u001b[0m\u001b[0;34m-\u001b[0m\u001b[0mP2\u001b[0m\u001b[0;34m.\u001b[0m\u001b[0mang\u001b[0m\u001b[0;34m[\u001b[0m\u001b[0mj\u001b[0m\u001b[0;34m]\u001b[0m\u001b[0;34m\u001b[0m\u001b[0;34m\u001b[0m\u001b[0m\n\u001b[1;32m     18\u001b[0m     \u001b[0;32mif\u001b[0m \u001b[0mdif\u001b[0m\u001b[0;34m>=\u001b[0m\u001b[0;36m0\u001b[0m\u001b[0;34m:\u001b[0m\u001b[0;34m\u001b[0m\u001b[0;34m\u001b[0m\u001b[0m\n",
      "\u001b[0;31mIndexError\u001b[0m: list index out of range"
     ]
    }
   ],
   "source": [
    "P1 = Polygons([0.0,0.4],[-1.1,0.0],[1.1,0.0],[0.0,-0.6])\n",
    "P2 = Polygons([-1.0,0.0],[1.0,0.1],[-1.0,0.55],[1.1,0.5])\n",
    "\n",
    "m = P1.dim\n",
    "n = P2.dim\n",
    "i = 0\n",
    "j = 0\n",
    "P1.x+=[P1.x[0]]\n",
    "P2.x+=[P2.x[0]]\n",
    "P1.y+=[P1.y[0]]\n",
    "P2.y+=[P2.y[0]]\n",
    "P1.ang+=[P1.ang[0]]\n",
    "P2.ang+=[P2.ang[0]]\n",
    "P = ()\n",
    "while i<m or j<n:\n",
    "    P+=([P1.x[i]+P2.x[j],P1.y[i]+P2.y[j]],)        \n",
    "    dif = P1.ang[i]-P2.ang[j]\n",
    "    if dif>=0:\n",
    "        j+=1\n",
    "    if dif<=0:\n",
    "        i+=1"
   ]
  },
  {
   "cell_type": "code",
   "execution_count": 9,
   "id": "d13bb2a8",
   "metadata": {},
   "outputs": [
    {
     "data": {
      "text/plain": [
       "(3, 5)"
      ]
     },
     "execution_count": 9,
     "metadata": {},
     "output_type": "execute_result"
    }
   ],
   "source": [
    "(i, j) # corresponds to (4,6) in Julia"
   ]
  },
  {
   "cell_type": "code",
   "execution_count": null,
   "id": "dff820a8",
   "metadata": {},
   "outputs": [],
   "source": []
  }
 ],
 "metadata": {
  "kernelspec": {
   "display_name": "Python 3 (ipykernel)",
   "language": "python",
   "name": "python3"
  },
  "language_info": {
   "codemirror_mode": {
    "name": "ipython",
    "version": 3
   },
   "file_extension": ".py",
   "mimetype": "text/x-python",
   "name": "python",
   "nbconvert_exporter": "python",
   "pygments_lexer": "ipython3",
   "version": "3.8.12"
  }
 },
 "nbformat": 4,
 "nbformat_minor": 5
}
