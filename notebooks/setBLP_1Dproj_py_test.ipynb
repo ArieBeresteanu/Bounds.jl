{
 "cells": [
  {
   "cell_type": "code",
   "execution_count": 1,
   "id": "04ece091",
   "metadata": {},
   "outputs": [],
   "source": [
    "import pandas as pd\n",
    "import numpy as np\n",
    "import statsmodels.formula.api as smf\n",
    "import statsmodels.api as sm"
   ]
  },
  {
   "cell_type": "markdown",
   "id": "e4f27db1",
   "metadata": {},
   "source": [
    "# Uploading CPS data"
   ]
  },
  {
   "cell_type": "code",
   "execution_count": 2,
   "id": "b0bc0089",
   "metadata": {},
   "outputs": [],
   "source": [
    "cps = pd.read_csv('cps.csv')"
   ]
  },
  {
   "cell_type": "markdown",
   "id": "fa0d5fd1",
   "metadata": {},
   "source": [
    "# Best Linear Predictor"
   ]
  },
  {
   "cell_type": "code",
   "execution_count": 3,
   "id": "d493dac9",
   "metadata": {
    "scrolled": true
   },
   "outputs": [
    {
     "name": "stdout",
     "output_type": "stream",
     "text": [
      "                            OLS Regression Results                            \n",
      "==============================================================================\n",
      "Dep. Variable:               log_wage   R-squared:                       0.092\n",
      "Model:                            OLS   Adj. R-squared:                  0.092\n",
      "Method:                 Least Squares   F-statistic:                     2441.\n",
      "Date:                Mon, 16 Oct 2023   Prob (F-statistic):               0.00\n",
      "Time:                        11:37:28   Log-Likelihood:                -29890.\n",
      "No. Observations:               22715   AIC:                         5.978e+04\n",
      "Df Residuals:                   22713   BIC:                         5.980e+04\n",
      "Df Model:                           1                                         \n",
      "Covariance Type:                  HC1                                         \n",
      "==============================================================================\n",
      "                 coef    std err          z      P>|z|      [0.025      0.975]\n",
      "------------------------------------------------------------------------------\n",
      "Intercept      8.5711      0.034    254.650      0.000       8.505       8.637\n",
      "educ           0.1249      0.003     49.403      0.000       0.120       0.130\n",
      "==============================================================================\n",
      "Omnibus:                     8105.723   Durbin-Watson:                   1.889\n",
      "Prob(Omnibus):                  0.000   Jarque-Bera (JB):            48342.534\n",
      "Skew:                          -1.597   Prob(JB):                         0.00\n",
      "Kurtosis:                       9.394   Cond. No.                         76.9\n",
      "==============================================================================\n",
      "\n",
      "Notes:\n",
      "[1] Standard Errors are heteroscedasticity robust (HC1)\n"
     ]
    }
   ],
   "source": [
    "ols1 = smf.ols(formula='log_wage ~ educ',data=cps).fit(cov_type='HC1')\n",
    "\n",
    "print(ols1.summary())"
   ]
  },
  {
   "cell_type": "code",
   "execution_count": 4,
   "id": "2e244a79",
   "metadata": {},
   "outputs": [],
   "source": [
    "beta1 = ols1._results.params[1]"
   ]
  },
  {
   "cell_type": "code",
   "execution_count": 5,
   "id": "b0ea07e1",
   "metadata": {
    "scrolled": true
   },
   "outputs": [
    {
     "name": "stdout",
     "output_type": "stream",
     "text": [
      "                            OLS Regression Results                            \n",
      "==============================================================================\n",
      "Dep. Variable:               log_wage   R-squared:                       0.209\n",
      "Model:                            OLS   Adj. R-squared:                  0.209\n",
      "Method:                 Least Squares   F-statistic:                     2684.\n",
      "Date:                Mon, 16 Oct 2023   Prob (F-statistic):               0.00\n",
      "Time:                        11:37:29   Log-Likelihood:                -28323.\n",
      "No. Observations:               22715   AIC:                         5.665e+04\n",
      "Df Residuals:                   22712   BIC:                         5.668e+04\n",
      "Df Model:                           2                                         \n",
      "Covariance Type:                  HC1                                         \n",
      "==============================================================================\n",
      "                 coef    std err          z      P>|z|      [0.025      0.975]\n",
      "------------------------------------------------------------------------------\n",
      "Intercept      7.4145      0.039    187.891      0.000       7.337       7.492\n",
      "educ           0.1109      0.002     45.926      0.000       0.106       0.116\n",
      "age            0.0377      0.001     52.950      0.000       0.036       0.039\n",
      "==============================================================================\n",
      "Omnibus:                     9245.542   Durbin-Watson:                   1.884\n",
      "Prob(Omnibus):                  0.000   Jarque-Bera (JB):            76076.119\n",
      "Skew:                          -1.747   Prob(JB):                         0.00\n",
      "Kurtosis:                      11.257   Cond. No.                         263.\n",
      "==============================================================================\n",
      "\n",
      "Notes:\n",
      "[1] Standard Errors are heteroscedasticity robust (HC1)\n"
     ]
    }
   ],
   "source": [
    "ols2 = smf.ols(formula='log_wage ~ educ+age',data=cps).fit(cov_type='HC1')\n",
    "\n",
    "print(ols2.summary())"
   ]
  },
  {
   "cell_type": "code",
   "execution_count": 6,
   "id": "9ccaebe8",
   "metadata": {},
   "outputs": [],
   "source": [
    "beta2_0 = ols2._results.params[0]\n",
    "beta2_1 = ols2._results.params[1]\n",
    "beta2_2 = ols2._results.params[2]"
   ]
  },
  {
   "cell_type": "markdown",
   "id": "5e5545bf",
   "metadata": {},
   "source": [
    "# Creating Interval Data"
   ]
  },
  {
   "cell_type": "code",
   "execution_count": 7,
   "id": "c722613d",
   "metadata": {},
   "outputs": [],
   "source": [
    "# def createIntervalData(df, Y, thresholds):\n",
    "#     # The function accepts a dataframe, df, and make interval data from the Y (string) variable. \n",
    "#     # It adds to the dataframe the lower and upper values for Y (based on the thresholds) and the covariates.\n",
    "    \n",
    "#     thresholds = np.array(thresholds)\n",
    "\n",
    "#     idx = [sum(t <= y for t in thresholds)-1 for y in df[Y]]\n",
    "#     df[Y+'_l'] = thresholds[idx]\n",
    "#     df[Y+'_u'] = thresholds[np.array(idx)+1]\n",
    "    \n",
    "#     df['log'+Y+'_l']= np.log(df[Y+'_l'])\n",
    "#     df['log'+Y+'_u']= np.log(df[Y+'_u'])\n",
    "    \n",
    "#     return df"
   ]
  },
  {
   "cell_type": "code",
   "execution_count": 8,
   "id": "4661e8be",
   "metadata": {},
   "outputs": [],
   "source": [
    "# wage_quantiles = np.array(cps['wage'].quantile([0.0, 0.1,0.2,0.3,0.4,0.5,0.6,0.7,0.8,0.9,1.0]))\n",
    "# wage_quantiles[-1]+=1\n",
    "# logwage_quantiles = np.log(wage_quantiles)\n",
    "\n",
    "# cps['wage_qt'] = np.floor(cps['wage'].rank(method = 'max', pct=True)*10).astype(int).replace({10:9})\n",
    "# cps['wage_lower'] = wage_quantiles[cps['wage_qt']]\n",
    "# cps['wage_upper'] = wage_quantiles[cps['wage_qt']+1]\n",
    "\n",
    "# cps['logwage_lower'] = logwage_quantiles[cps['wage_qt']]\n",
    "# cps['logwage_upper'] = logwage_quantiles[cps['wage_qt']+1]"
   ]
  },
  {
   "cell_type": "code",
   "execution_count": 9,
   "id": "a69378bc",
   "metadata": {},
   "outputs": [],
   "source": [
    "# wage_quantiles = np.array(cps['wage'].quantile(np.linspace(0,1,11)))\n",
    "# wage_quantiles[-1]+=1\n",
    "# cps = createIntervalData(cps, 'wage', wage_quantiles)"
   ]
  },
  {
   "cell_type": "code",
   "execution_count": 10,
   "id": "f6404b7d",
   "metadata": {},
   "outputs": [
    {
     "data": {
      "text/html": [
       "<div>\n",
       "<style scoped>\n",
       "    .dataframe tbody tr th:only-of-type {\n",
       "        vertical-align: middle;\n",
       "    }\n",
       "\n",
       "    .dataframe tbody tr th {\n",
       "        vertical-align: top;\n",
       "    }\n",
       "\n",
       "    .dataframe thead th {\n",
       "        text-align: right;\n",
       "    }\n",
       "</style>\n",
       "<table border=\"1\" class=\"dataframe\">\n",
       "  <thead>\n",
       "    <tr style=\"text-align: right;\">\n",
       "      <th></th>\n",
       "      <th>Unnamed: 0.1</th>\n",
       "      <th>Unnamed: 0</th>\n",
       "      <th>age</th>\n",
       "      <th>wage</th>\n",
       "      <th>educ</th>\n",
       "      <th>log_wage</th>\n",
       "      <th>wage_l</th>\n",
       "      <th>wage_u</th>\n",
       "      <th>logwage_l</th>\n",
       "      <th>logwage_u</th>\n",
       "    </tr>\n",
       "  </thead>\n",
       "  <tbody>\n",
       "    <tr>\n",
       "      <th>0</th>\n",
       "      <td>0</td>\n",
       "      <td>0</td>\n",
       "      <td>22</td>\n",
       "      <td>12000</td>\n",
       "      <td>13</td>\n",
       "      <td>9.392662</td>\n",
       "      <td>9000.0</td>\n",
       "      <td>15000.0</td>\n",
       "      <td>9.104980</td>\n",
       "      <td>9.615805</td>\n",
       "    </tr>\n",
       "    <tr>\n",
       "      <th>1</th>\n",
       "      <td>1</td>\n",
       "      <td>1</td>\n",
       "      <td>21</td>\n",
       "      <td>3500</td>\n",
       "      <td>13</td>\n",
       "      <td>8.160518</td>\n",
       "      <td>1.0</td>\n",
       "      <td>9000.0</td>\n",
       "      <td>0.000000</td>\n",
       "      <td>9.104980</td>\n",
       "    </tr>\n",
       "    <tr>\n",
       "      <th>2</th>\n",
       "      <td>2</td>\n",
       "      <td>3</td>\n",
       "      <td>49</td>\n",
       "      <td>30000</td>\n",
       "      <td>13</td>\n",
       "      <td>10.308953</td>\n",
       "      <td>30000.0</td>\n",
       "      <td>36000.0</td>\n",
       "      <td>10.308953</td>\n",
       "      <td>10.491274</td>\n",
       "    </tr>\n",
       "    <tr>\n",
       "      <th>3</th>\n",
       "      <td>3</td>\n",
       "      <td>4</td>\n",
       "      <td>31</td>\n",
       "      <td>32000</td>\n",
       "      <td>16</td>\n",
       "      <td>10.373491</td>\n",
       "      <td>30000.0</td>\n",
       "      <td>36000.0</td>\n",
       "      <td>10.308953</td>\n",
       "      <td>10.491274</td>\n",
       "    </tr>\n",
       "    <tr>\n",
       "      <th>4</th>\n",
       "      <td>4</td>\n",
       "      <td>5</td>\n",
       "      <td>42</td>\n",
       "      <td>89630</td>\n",
       "      <td>21</td>\n",
       "      <td>11.403445</td>\n",
       "      <td>71000.0</td>\n",
       "      <td>362303.0</td>\n",
       "      <td>11.170435</td>\n",
       "      <td>12.800236</td>\n",
       "    </tr>\n",
       "    <tr>\n",
       "      <th>5</th>\n",
       "      <td>5</td>\n",
       "      <td>6</td>\n",
       "      <td>35</td>\n",
       "      <td>229339</td>\n",
       "      <td>21</td>\n",
       "      <td>12.342957</td>\n",
       "      <td>71000.0</td>\n",
       "      <td>362303.0</td>\n",
       "      <td>11.170435</td>\n",
       "      <td>12.800236</td>\n",
       "    </tr>\n",
       "    <tr>\n",
       "      <th>6</th>\n",
       "      <td>6</td>\n",
       "      <td>7</td>\n",
       "      <td>42</td>\n",
       "      <td>39000</td>\n",
       "      <td>12</td>\n",
       "      <td>10.571317</td>\n",
       "      <td>36000.0</td>\n",
       "      <td>43277.8</td>\n",
       "      <td>10.491274</td>\n",
       "      <td>10.675395</td>\n",
       "    </tr>\n",
       "    <tr>\n",
       "      <th>7</th>\n",
       "      <td>7</td>\n",
       "      <td>8</td>\n",
       "      <td>48</td>\n",
       "      <td>50000</td>\n",
       "      <td>12</td>\n",
       "      <td>10.819778</td>\n",
       "      <td>43277.8</td>\n",
       "      <td>53000.0</td>\n",
       "      <td>10.675395</td>\n",
       "      <td>10.878047</td>\n",
       "    </tr>\n",
       "    <tr>\n",
       "      <th>8</th>\n",
       "      <td>8</td>\n",
       "      <td>9</td>\n",
       "      <td>41</td>\n",
       "      <td>37500</td>\n",
       "      <td>13</td>\n",
       "      <td>10.532096</td>\n",
       "      <td>36000.0</td>\n",
       "      <td>43277.8</td>\n",
       "      <td>10.491274</td>\n",
       "      <td>10.675395</td>\n",
       "    </tr>\n",
       "    <tr>\n",
       "      <th>9</th>\n",
       "      <td>9</td>\n",
       "      <td>10</td>\n",
       "      <td>41</td>\n",
       "      <td>52000</td>\n",
       "      <td>14</td>\n",
       "      <td>10.858999</td>\n",
       "      <td>43277.8</td>\n",
       "      <td>53000.0</td>\n",
       "      <td>10.675395</td>\n",
       "      <td>10.878047</td>\n",
       "    </tr>\n",
       "    <tr>\n",
       "      <th>10</th>\n",
       "      <td>10</td>\n",
       "      <td>12</td>\n",
       "      <td>46</td>\n",
       "      <td>35500</td>\n",
       "      <td>12</td>\n",
       "      <td>10.477288</td>\n",
       "      <td>30000.0</td>\n",
       "      <td>36000.0</td>\n",
       "      <td>10.308953</td>\n",
       "      <td>10.491274</td>\n",
       "    </tr>\n",
       "    <tr>\n",
       "      <th>11</th>\n",
       "      <td>11</td>\n",
       "      <td>13</td>\n",
       "      <td>22</td>\n",
       "      <td>2500</td>\n",
       "      <td>13</td>\n",
       "      <td>7.824046</td>\n",
       "      <td>1.0</td>\n",
       "      <td>9000.0</td>\n",
       "      <td>0.000000</td>\n",
       "      <td>9.104980</td>\n",
       "    </tr>\n",
       "    <tr>\n",
       "      <th>12</th>\n",
       "      <td>12</td>\n",
       "      <td>14</td>\n",
       "      <td>45</td>\n",
       "      <td>46000</td>\n",
       "      <td>14</td>\n",
       "      <td>10.736397</td>\n",
       "      <td>43277.8</td>\n",
       "      <td>53000.0</td>\n",
       "      <td>10.675395</td>\n",
       "      <td>10.878047</td>\n",
       "    </tr>\n",
       "    <tr>\n",
       "      <th>13</th>\n",
       "      <td>13</td>\n",
       "      <td>15</td>\n",
       "      <td>20</td>\n",
       "      <td>4996</td>\n",
       "      <td>13</td>\n",
       "      <td>8.516393</td>\n",
       "      <td>1.0</td>\n",
       "      <td>9000.0</td>\n",
       "      <td>0.000000</td>\n",
       "      <td>9.104980</td>\n",
       "    </tr>\n",
       "    <tr>\n",
       "      <th>14</th>\n",
       "      <td>14</td>\n",
       "      <td>16</td>\n",
       "      <td>36</td>\n",
       "      <td>229339</td>\n",
       "      <td>16</td>\n",
       "      <td>12.342957</td>\n",
       "      <td>71000.0</td>\n",
       "      <td>362303.0</td>\n",
       "      <td>11.170435</td>\n",
       "      <td>12.800236</td>\n",
       "    </tr>\n",
       "    <tr>\n",
       "      <th>15</th>\n",
       "      <td>15</td>\n",
       "      <td>17</td>\n",
       "      <td>43</td>\n",
       "      <td>48000</td>\n",
       "      <td>12</td>\n",
       "      <td>10.778956</td>\n",
       "      <td>43277.8</td>\n",
       "      <td>53000.0</td>\n",
       "      <td>10.675395</td>\n",
       "      <td>10.878047</td>\n",
       "    </tr>\n",
       "    <tr>\n",
       "      <th>16</th>\n",
       "      <td>16</td>\n",
       "      <td>18</td>\n",
       "      <td>46</td>\n",
       "      <td>48000</td>\n",
       "      <td>14</td>\n",
       "      <td>10.778956</td>\n",
       "      <td>43277.8</td>\n",
       "      <td>53000.0</td>\n",
       "      <td>10.675395</td>\n",
       "      <td>10.878047</td>\n",
       "    </tr>\n",
       "    <tr>\n",
       "      <th>17</th>\n",
       "      <td>17</td>\n",
       "      <td>19</td>\n",
       "      <td>21</td>\n",
       "      <td>4000</td>\n",
       "      <td>13</td>\n",
       "      <td>8.294050</td>\n",
       "      <td>1.0</td>\n",
       "      <td>9000.0</td>\n",
       "      <td>0.000000</td>\n",
       "      <td>9.104980</td>\n",
       "    </tr>\n",
       "    <tr>\n",
       "      <th>18</th>\n",
       "      <td>18</td>\n",
       "      <td>20</td>\n",
       "      <td>27</td>\n",
       "      <td>16500</td>\n",
       "      <td>12</td>\n",
       "      <td>9.711116</td>\n",
       "      <td>15000.0</td>\n",
       "      <td>20000.0</td>\n",
       "      <td>9.615805</td>\n",
       "      <td>9.903488</td>\n",
       "    </tr>\n",
       "    <tr>\n",
       "      <th>19</th>\n",
       "      <td>19</td>\n",
       "      <td>21</td>\n",
       "      <td>38</td>\n",
       "      <td>41923</td>\n",
       "      <td>16</td>\n",
       "      <td>10.643590</td>\n",
       "      <td>36000.0</td>\n",
       "      <td>43277.8</td>\n",
       "      <td>10.491274</td>\n",
       "      <td>10.675395</td>\n",
       "    </tr>\n",
       "  </tbody>\n",
       "</table>\n",
       "</div>"
      ],
      "text/plain": [
       "    Unnamed: 0.1  Unnamed: 0  age    wage  educ   log_wage   wage_l    wage_u  \\\n",
       "0              0           0   22   12000    13   9.392662   9000.0   15000.0   \n",
       "1              1           1   21    3500    13   8.160518      1.0    9000.0   \n",
       "2              2           3   49   30000    13  10.308953  30000.0   36000.0   \n",
       "3              3           4   31   32000    16  10.373491  30000.0   36000.0   \n",
       "4              4           5   42   89630    21  11.403445  71000.0  362303.0   \n",
       "5              5           6   35  229339    21  12.342957  71000.0  362303.0   \n",
       "6              6           7   42   39000    12  10.571317  36000.0   43277.8   \n",
       "7              7           8   48   50000    12  10.819778  43277.8   53000.0   \n",
       "8              8           9   41   37500    13  10.532096  36000.0   43277.8   \n",
       "9              9          10   41   52000    14  10.858999  43277.8   53000.0   \n",
       "10            10          12   46   35500    12  10.477288  30000.0   36000.0   \n",
       "11            11          13   22    2500    13   7.824046      1.0    9000.0   \n",
       "12            12          14   45   46000    14  10.736397  43277.8   53000.0   \n",
       "13            13          15   20    4996    13   8.516393      1.0    9000.0   \n",
       "14            14          16   36  229339    16  12.342957  71000.0  362303.0   \n",
       "15            15          17   43   48000    12  10.778956  43277.8   53000.0   \n",
       "16            16          18   46   48000    14  10.778956  43277.8   53000.0   \n",
       "17            17          19   21    4000    13   8.294050      1.0    9000.0   \n",
       "18            18          20   27   16500    12   9.711116  15000.0   20000.0   \n",
       "19            19          21   38   41923    16  10.643590  36000.0   43277.8   \n",
       "\n",
       "    logwage_l  logwage_u  \n",
       "0    9.104980   9.615805  \n",
       "1    0.000000   9.104980  \n",
       "2   10.308953  10.491274  \n",
       "3   10.308953  10.491274  \n",
       "4   11.170435  12.800236  \n",
       "5   11.170435  12.800236  \n",
       "6   10.491274  10.675395  \n",
       "7   10.675395  10.878047  \n",
       "8   10.491274  10.675395  \n",
       "9   10.675395  10.878047  \n",
       "10  10.308953  10.491274  \n",
       "11   0.000000   9.104980  \n",
       "12  10.675395  10.878047  \n",
       "13   0.000000   9.104980  \n",
       "14  11.170435  12.800236  \n",
       "15  10.675395  10.878047  \n",
       "16  10.675395  10.878047  \n",
       "17   0.000000   9.104980  \n",
       "18   9.615805   9.903488  \n",
       "19  10.491274  10.675395  "
      ]
     },
     "execution_count": 10,
     "metadata": {},
     "output_type": "execute_result"
    }
   ],
   "source": [
    "cps.head(20)"
   ]
  },
  {
   "cell_type": "code",
   "execution_count": 11,
   "id": "c9b5850a",
   "metadata": {},
   "outputs": [],
   "source": [
    "# cps.to_csv(\"cps.csv\")"
   ]
  },
  {
   "cell_type": "markdown",
   "id": "08d1556d",
   "metadata": {},
   "source": [
    "# Partial Identification"
   ]
  },
  {
   "cell_type": "code",
   "execution_count": 12,
   "id": "390f482c",
   "metadata": {},
   "outputs": [],
   "source": [
    "import setBLP"
   ]
  },
  {
   "cell_type": "markdown",
   "id": "1cfb6922",
   "metadata": {},
   "source": [
    "### Preparing vector and matrix versions of the data"
   ]
  },
  {
   "cell_type": "code",
   "execution_count": 13,
   "id": "b603ecbe",
   "metadata": {},
   "outputs": [],
   "source": [
    "yl = cps.logwage_l;\n",
    "yu = cps.logwage_u;\n",
    "x1 = cps.age;\n",
    "x2 = cps.educ;\n",
    "x = cps[['age','educ']];"
   ]
  },
  {
   "cell_type": "markdown",
   "id": "cfaae2f5",
   "metadata": {},
   "source": [
    "### Polygons from the first 20 data points, using x1 (age), yl, and yu"
   ]
  },
  {
   "cell_type": "code",
   "execution_count": 81,
   "id": "b0632b61",
   "metadata": {},
   "outputs": [],
   "source": [
    "G = []\n",
    "for i in range(20):\n",
    "    vl = setBLP.Vertex((yl[i], yl[i]*x1[i]))\n",
    "    vu = setBLP.Vertex((yu[i], yu[i]*x1[i]))\n",
    "    p = setBLP.Polygon(vl, vu) # a polygon with only two vertices is actually a segment\n",
    "    p.sort()\n",
    "    G.append(p)"
   ]
  },
  {
   "cell_type": "code",
   "execution_count": 73,
   "id": "636de20f",
   "metadata": {},
   "outputs": [
    {
     "data": {
      "text/plain": [
       "<polygons.Polygon at 0x151f8fad0>"
      ]
     },
     "execution_count": 73,
     "metadata": {},
     "output_type": "execute_result"
    }
   ],
   "source": [
    "P = G[0]\n",
    "for i in range(19):\n",
    "    P = setBLP.minkowskiSum(P, G[i+1])\n",
    "P.sort()"
   ]
  },
  {
   "cell_type": "code",
   "execution_count": 78,
   "id": "6fbea772",
   "metadata": {},
   "outputs": [
    {
     "data": {
      "image/png": "[encoded data removed]",
      "text/plain": [
       "<Figure size 640x480 with 1 Axes>"
      ]
     },
     "metadata": {},
     "output_type": "display_data"
    }
   ],
   "source": [
    "P.scatterPolygon()"
   ]
  },
  {
   "cell_type": "code",
   "execution_count": 79,
   "id": "4df4f473",
   "metadata": {},
   "outputs": [
    {
     "data": {
      "image/png": "[encoded data removed]",
      "text/plain": [
       "<Figure size 640x480 with 1 Axes>"
      ]
     },
     "metadata": {},
     "output_type": "display_data"
    }
   ],
   "source": [
    "P.plotPolygon()"
   ]
  },
  {
   "cell_type": "markdown",
   "id": "d33fe6c2",
   "metadata": {},
   "source": [
    "## 1. Testing the oneDproj function"
   ]
  },
  {
   "cell_type": "code",
   "execution_count": 14,
   "id": "f1443c9c",
   "metadata": {},
   "outputs": [],
   "source": [
    "r1=setBLP.oneDproj(yl,yu,x1)"
   ]
  },
  {
   "cell_type": "code",
   "execution_count": 15,
   "id": "7179939e",
   "metadata": {},
   "outputs": [
    {
     "data": {
      "text/plain": [
       "{'bound': [-0.004887858329797927, 0.14865963017398873],\n",
       " 'Htest': <setBLP.TestResults at 0x7fb852e2bfd0>,\n",
       " 'dHtest': <setBLP.TestResults at 0x7fb84168f070>}"
      ]
     },
     "execution_count": 15,
     "metadata": {},
     "output_type": "execute_result"
    }
   ],
   "source": [
    "vars(r1)"
   ]
  },
  {
   "cell_type": "code",
   "execution_count": 16,
   "id": "5bef481f",
   "metadata": {
    "scrolled": true
   },
   "outputs": [
    {
     "data": {
      "text/plain": [
       "{'TestStat': None,\n",
       " 'criticalVal': 0.7047452080966828,\n",
       " 'ConfidenceInterval': [-0.009563871880058493, 0.1533356437242493]}"
      ]
     },
     "execution_count": 16,
     "metadata": {},
     "output_type": "execute_result"
    }
   ],
   "source": [
    "vars(r1.Htest)"
   ]
  },
  {
   "cell_type": "code",
   "execution_count": 17,
   "id": "c9fcf97e",
   "metadata": {
    "scrolled": true
   },
   "outputs": [
    {
     "data": {
      "text/plain": [
       "{'TestStat': None,\n",
       " 'criticalVal': 0.5974789676534665,\n",
       " 'ConfidenceInterval': [-0.008852155946362954, 0.15262392779055375]}"
      ]
     },
     "execution_count": 17,
     "metadata": {},
     "output_type": "execute_result"
    }
   ],
   "source": [
    "vars(r1.dHtest)"
   ]
  },
  {
   "cell_type": "code",
   "execution_count": 18,
   "id": "065d71d6",
   "metadata": {},
   "outputs": [],
   "source": [
    "r2=setBLP.oneDproj(yl,yu,x2)"
   ]
  },
  {
   "cell_type": "code",
   "execution_count": 19,
   "id": "7899fde7",
   "metadata": {
    "scrolled": true
   },
   "outputs": [
    {
     "data": {
      "text/plain": [
       "{'bound': [0.001786042221938278, 0.3685793555816805],\n",
       " 'Htest': <setBLP.TestResults at 0x7fb84030bd00>,\n",
       " 'dHtest': <setBLP.TestResults at 0x7fb8208c7a30>}"
      ]
     },
     "execution_count": 19,
     "metadata": {},
     "output_type": "execute_result"
    }
   ],
   "source": [
    "vars(r2)"
   ]
  },
  {
   "cell_type": "code",
   "execution_count": 20,
   "id": "69505079",
   "metadata": {},
   "outputs": [
    {
     "data": {
      "text/plain": [
       "{'TestStat': None,\n",
       " 'criticalVal': 2.45608530397215,\n",
       " 'ConfidenceInterval': [-0.014510185166377709, 0.38487558296999647]}"
      ]
     },
     "execution_count": 20,
     "metadata": {},
     "output_type": "execute_result"
    }
   ],
   "source": [
    "vars(r2.Htest)"
   ]
  },
  {
   "cell_type": "code",
   "execution_count": 21,
   "id": "acd8388e",
   "metadata": {},
   "outputs": [
    {
     "data": {
      "text/plain": [
       "{'TestStat': None,\n",
       " 'criticalVal': 2.1522110409953727,\n",
       " 'ConfidenceInterval': [-0.012493966886451614, 0.38285936469007037]}"
      ]
     },
     "execution_count": 21,
     "metadata": {},
     "output_type": "execute_result"
    }
   ],
   "source": [
    "vars(r2.dHtest)"
   ]
  },
  {
   "cell_type": "code",
   "execution_count": 22,
   "id": "48c746d9",
   "metadata": {},
   "outputs": [
    {
     "name": "stderr",
     "output_type": "stream",
     "text": [
      "/Users/yunyun/opt/anaconda3/lib/python3.8/site-packages/statsmodels/tsa/tsatools.py:142: FutureWarning: In a future version of pandas all arguments of concat except for the argument 'objs' will be keyword-only\n",
      "  x = pd.concat(x[::order], 1)\n"
     ]
    }
   ],
   "source": [
    "r3=setBLP.oneDproj(yl,yu,x,0)"
   ]
  },
  {
   "cell_type": "code",
   "execution_count": 23,
   "id": "984abd38",
   "metadata": {},
   "outputs": [
    {
     "data": {
      "text/plain": [
       "{'bound': [-0.009051777215653997, 0.14432389300936818],\n",
       " 'Htest': <setBLP.TestResults at 0x7fb8416914c0>,\n",
       " 'dHtest': <setBLP.TestResults at 0x7fb841691df0>}"
      ]
     },
     "execution_count": 23,
     "metadata": {},
     "output_type": "execute_result"
    }
   ],
   "source": [
    "vars(r3)"
   ]
  },
  {
   "cell_type": "code",
   "execution_count": 24,
   "id": "a8b31138",
   "metadata": {},
   "outputs": [
    {
     "data": {
      "text/plain": [
       "{'TestStat': None,\n",
       " 'criticalVal': 1.2481549617964003,\n",
       " 'ConfidenceInterval': [-0.017333336915715473, 0.15260545270942966]}"
      ]
     },
     "execution_count": 24,
     "metadata": {},
     "output_type": "execute_result"
    }
   ],
   "source": [
    "vars(r3.Htest)"
   ]
  },
  {
   "cell_type": "code",
   "execution_count": 25,
   "id": "20263392",
   "metadata": {},
   "outputs": [
    {
     "data": {
      "text/plain": [
       "{'TestStat': None,\n",
       " 'criticalVal': 0.9464368350281701,\n",
       " 'ConfidenceInterval': [-0.015331424688546516, 0.1506035404822607]}"
      ]
     },
     "execution_count": 25,
     "metadata": {},
     "output_type": "execute_result"
    }
   ],
   "source": [
    "vars(r3.dHtest)"
   ]
  },
  {
   "cell_type": "code",
   "execution_count": 26,
   "id": "885b213f",
   "metadata": {},
   "outputs": [],
   "source": [
    "r4=setBLP.oneDproj(yl,yu,x,1)"
   ]
  },
  {
   "cell_type": "code",
   "execution_count": 27,
   "id": "c5a6fe30",
   "metadata": {},
   "outputs": [
    {
     "data": {
      "text/plain": [
       "{'bound': [-0.025567837808786895, 0.3456382284304264],\n",
       " 'Htest': <setBLP.TestResults at 0x7fb841691d60>,\n",
       " 'dHtest': <setBLP.TestResults at 0x7fb841695d60>}"
      ]
     },
     "execution_count": 27,
     "metadata": {},
     "output_type": "execute_result"
    }
   ],
   "source": [
    "vars(r4)"
   ]
  },
  {
   "cell_type": "code",
   "execution_count": 28,
   "id": "5e6f6a10",
   "metadata": {},
   "outputs": [
    {
     "data": {
      "text/plain": [
       "{'TestStat': None,\n",
       " 'criticalVal': 5.564816011424855,\n",
       " 'ConfidenceInterval': [-0.06249062178117508, 0.3825610124028146]}"
      ]
     },
     "execution_count": 28,
     "metadata": {},
     "output_type": "execute_result"
    }
   ],
   "source": [
    "vars(r4.Htest)"
   ]
  },
  {
   "cell_type": "code",
   "execution_count": 29,
   "id": "45841cb6",
   "metadata": {},
   "outputs": [
    {
     "data": {
      "text/plain": [
       "{'TestStat': None,\n",
       " 'criticalVal': 5.2010007031488295,\n",
       " 'ConfidenceInterval': [-0.06007669219109614, 0.3801470828127357]}"
      ]
     },
     "execution_count": 29,
     "metadata": {},
     "output_type": "execute_result"
    }
   ],
   "source": [
    "vars(r4.dHtest)"
   ]
  },
  {
   "cell_type": "code",
   "execution_count": 30,
   "id": "659e6cf3",
   "metadata": {
    "scrolled": true
   },
   "outputs": [],
   "source": [
    "r5=setBLP.oneDproj(yl,yu,x)"
   ]
  },
  {
   "cell_type": "code",
   "execution_count": 31,
   "id": "09bda6e2",
   "metadata": {},
   "outputs": [
    {
     "data": {
      "text/plain": [
       "{'bound': [-0.009051777215653997, 0.14432389300936818],\n",
       " 'Htest': <setBLP.TestResults at 0x7fb85366b760>,\n",
       " 'dHtest': <setBLP.TestResults at 0x7fb841695130>}"
      ]
     },
     "execution_count": 31,
     "metadata": {},
     "output_type": "execute_result"
    }
   ],
   "source": [
    "vars(r5[0])"
   ]
  },
  {
   "cell_type": "code",
   "execution_count": 32,
   "id": "6cbca7bc",
   "metadata": {},
   "outputs": [
    {
     "data": {
      "text/plain": [
       "{'TestStat': None,\n",
       " 'criticalVal': 0.6934361684131858,\n",
       " 'ConfidenceInterval': [-0.013652754820734766, -0.020966860203706125]}"
      ]
     },
     "execution_count": 32,
     "metadata": {},
     "output_type": "execute_result"
    }
   ],
   "source": [
    "vars(r5[0].Htest)"
   ]
  },
  {
   "cell_type": "code",
   "execution_count": 33,
   "id": "94e537bf",
   "metadata": {},
   "outputs": [
    {
     "data": {
      "text/plain": [
       "{'TestStat': None,\n",
       " 'criticalVal': 0.5942690040626841,\n",
       " 'ConfidenceInterval': [-0.012994776591274784, -0.021624838433166108]}"
      ]
     },
     "execution_count": 33,
     "metadata": {},
     "output_type": "execute_result"
    }
   ],
   "source": [
    "vars(r5[0].dHtest)"
   ]
  },
  {
   "cell_type": "code",
   "execution_count": 34,
   "id": "59788eb2",
   "metadata": {},
   "outputs": [
    {
     "data": {
      "text/plain": [
       "{'bound': [-0.025567837808786895, 0.3456382284304264],\n",
       " 'Htest': <setBLP.TestResults at 0x7fb85366f6a0>,\n",
       " 'dHtest': <setBLP.TestResults at 0x7fb85366ff70>}"
      ]
     },
     "execution_count": 34,
     "metadata": {},
     "output_type": "execute_result"
    }
   ],
   "source": [
    "vars(r5[1])"
   ]
  },
  {
   "cell_type": "code",
   "execution_count": 35,
   "id": "bba296e0",
   "metadata": {},
   "outputs": [
    {
     "data": {
      "text/plain": [
       "{'TestStat': None,\n",
       " 'criticalVal': 2.3388498311827313,\n",
       " 'ConfidenceInterval': [0.12880552782293228, 0.3611565936168623]}"
      ]
     },
     "execution_count": 35,
     "metadata": {},
     "output_type": "execute_result"
    }
   ],
   "source": [
    "vars(r5[1].Htest)"
   ]
  },
  {
   "cell_type": "code",
   "execution_count": 36,
   "id": "14ef31bc",
   "metadata": {},
   "outputs": [
    {
     "data": {
      "text/plain": [
       "{'TestStat': None,\n",
       " 'criticalVal': 2.0950305864517196,\n",
       " 'ConfidenceInterval': [0.13042327857750016, 0.3595388428622944]}"
      ]
     },
     "execution_count": 36,
     "metadata": {},
     "output_type": "execute_result"
    }
   ],
   "source": [
    "vars(r5[1].dHtest)"
   ]
  },
  {
   "cell_type": "code",
   "execution_count": 37,
   "id": "d88fa926",
   "metadata": {},
   "outputs": [],
   "source": [
    "r6 = setBLP.oneDproj(yl, 'logwage_u', 'age', data = cps)"
   ]
  },
  {
   "cell_type": "code",
   "execution_count": 38,
   "id": "ef2f897a",
   "metadata": {},
   "outputs": [
    {
     "data": {
      "text/plain": [
       "{'bound': [-0.004887858329797927, 0.14865963017398873],\n",
       " 'Htest': <setBLP.TestResults at 0x7fb85366b880>,\n",
       " 'dHtest': <setBLP.TestResults at 0x7fb85366fcd0>}"
      ]
     },
     "execution_count": 38,
     "metadata": {},
     "output_type": "execute_result"
    }
   ],
   "source": [
    "vars(r6)"
   ]
  },
  {
   "cell_type": "code",
   "execution_count": 39,
   "id": "0dec96a1",
   "metadata": {},
   "outputs": [
    {
     "data": {
      "text/plain": [
       "{'TestStat': None,\n",
       " 'criticalVal': 0.7047452080966828,\n",
       " 'ConfidenceInterval': [-0.009563871880058493, 0.1533356437242493]}"
      ]
     },
     "execution_count": 39,
     "metadata": {},
     "output_type": "execute_result"
    }
   ],
   "source": [
    "vars(r6.Htest)"
   ]
  },
  {
   "cell_type": "code",
   "execution_count": 40,
   "id": "877469cc",
   "metadata": {},
   "outputs": [
    {
     "data": {
      "text/plain": [
       "{'TestStat': None,\n",
       " 'criticalVal': 0.5974789676534665,\n",
       " 'ConfidenceInterval': [-0.008852155946362954, 0.15262392779055375]}"
      ]
     },
     "execution_count": 40,
     "metadata": {},
     "output_type": "execute_result"
    }
   ],
   "source": [
    "vars(r6.dHtest)"
   ]
  },
  {
   "cell_type": "code",
   "execution_count": 41,
   "id": "186d149d",
   "metadata": {},
   "outputs": [],
   "source": [
    "r7 = setBLP.oneDproj(yl, yu, 'educ', data = cps)"
   ]
  },
  {
   "cell_type": "code",
   "execution_count": 42,
   "id": "db3436c4",
   "metadata": {},
   "outputs": [
    {
     "data": {
      "text/plain": [
       "{'bound': [0.001786042221938278, 0.3685793555816805],\n",
       " 'Htest': <setBLP.TestResults at 0x7fb8208c7e80>,\n",
       " 'dHtest': <setBLP.TestResults at 0x7fb8208c76a0>}"
      ]
     },
     "execution_count": 42,
     "metadata": {},
     "output_type": "execute_result"
    }
   ],
   "source": [
    "vars(r7)"
   ]
  },
  {
   "cell_type": "code",
   "execution_count": 43,
   "id": "a9138708",
   "metadata": {},
   "outputs": [
    {
     "data": {
      "text/plain": [
       "{'TestStat': None,\n",
       " 'criticalVal': 2.45608530397215,\n",
       " 'ConfidenceInterval': [-0.014510185166377709, 0.38487558296999647]}"
      ]
     },
     "execution_count": 43,
     "metadata": {},
     "output_type": "execute_result"
    }
   ],
   "source": [
    "vars(r7.Htest)"
   ]
  },
  {
   "cell_type": "code",
   "execution_count": 44,
   "id": "ef5dfb8d",
   "metadata": {},
   "outputs": [
    {
     "data": {
      "text/plain": [
       "{'TestStat': None,\n",
       " 'criticalVal': 2.1522110409953727,\n",
       " 'ConfidenceInterval': [-0.012493966886451614, 0.38285936469007037]}"
      ]
     },
     "execution_count": 44,
     "metadata": {},
     "output_type": "execute_result"
    }
   ],
   "source": [
    "vars(r7.dHtest)"
   ]
  },
  {
   "cell_type": "code",
   "execution_count": 45,
   "id": "6d2589fa",
   "metadata": {},
   "outputs": [],
   "source": [
    "r8 = setBLP.oneDproj(yl, yu, ['age','educ'], 0, data = cps)"
   ]
  },
  {
   "cell_type": "code",
   "execution_count": 46,
   "id": "53993e18",
   "metadata": {},
   "outputs": [
    {
     "data": {
      "text/plain": [
       "{'bound': [-0.009051777215653997, 0.14432389300936818],\n",
       " 'Htest': <setBLP.TestResults at 0x7fb85366bb20>,\n",
       " 'dHtest': <setBLP.TestResults at 0x7fb8536868b0>}"
      ]
     },
     "execution_count": 46,
     "metadata": {},
     "output_type": "execute_result"
    }
   ],
   "source": [
    "vars(r8)"
   ]
  },
  {
   "cell_type": "code",
   "execution_count": 47,
   "id": "4d41af17",
   "metadata": {},
   "outputs": [
    {
     "data": {
      "text/plain": [
       "{'TestStat': None,\n",
       " 'criticalVal': 1.2481549617964003,\n",
       " 'ConfidenceInterval': [-0.017333336915715473, 0.15260545270942966]}"
      ]
     },
     "execution_count": 47,
     "metadata": {},
     "output_type": "execute_result"
    }
   ],
   "source": [
    "vars(r8.Htest)"
   ]
  },
  {
   "cell_type": "code",
   "execution_count": 48,
   "id": "6176f084",
   "metadata": {},
   "outputs": [
    {
     "data": {
      "text/plain": [
       "{'TestStat': None,\n",
       " 'criticalVal': 0.9464368350281701,\n",
       " 'ConfidenceInterval': [-0.015331424688546516, 0.1506035404822607]}"
      ]
     },
     "execution_count": 48,
     "metadata": {},
     "output_type": "execute_result"
    }
   ],
   "source": [
    "vars(r8.dHtest)"
   ]
  },
  {
   "cell_type": "code",
   "execution_count": 49,
   "id": "8421bd87",
   "metadata": {},
   "outputs": [],
   "source": [
    "r9 = setBLP.oneDproj('logwage_l', 'logwage_u', ['age','educ'], 1, data = cps)"
   ]
  },
  {
   "cell_type": "code",
   "execution_count": 50,
   "id": "8b3b6bb4",
   "metadata": {},
   "outputs": [
    {
     "data": {
      "text/plain": [
       "{'bound': [-0.025567837808786895, 0.3456382284304264],\n",
       " 'Htest': <setBLP.TestResults at 0x7fb84168fe20>,\n",
       " 'dHtest': <setBLP.TestResults at 0x7fb841691a60>}"
      ]
     },
     "execution_count": 50,
     "metadata": {},
     "output_type": "execute_result"
    }
   ],
   "source": [
    "vars(r9)"
   ]
  },
  {
   "cell_type": "code",
   "execution_count": 51,
   "id": "dc847a81",
   "metadata": {},
   "outputs": [
    {
     "data": {
      "text/plain": [
       "{'TestStat': None,\n",
       " 'criticalVal': 5.564816011424855,\n",
       " 'ConfidenceInterval': [-0.06249062178117508, 0.3825610124028146]}"
      ]
     },
     "execution_count": 51,
     "metadata": {},
     "output_type": "execute_result"
    }
   ],
   "source": [
    "vars(r9.Htest)"
   ]
  },
  {
   "cell_type": "code",
   "execution_count": 52,
   "id": "18d03836",
   "metadata": {},
   "outputs": [
    {
     "data": {
      "text/plain": [
       "{'TestStat': None,\n",
       " 'criticalVal': 5.2010007031488295,\n",
       " 'ConfidenceInterval': [-0.06007669219109614, 0.3801470828127357]}"
      ]
     },
     "execution_count": 52,
     "metadata": {},
     "output_type": "execute_result"
    }
   ],
   "source": [
    "vars(r9.dHtest)"
   ]
  },
  {
   "cell_type": "code",
   "execution_count": 53,
   "id": "8c237cd1",
   "metadata": {},
   "outputs": [],
   "source": [
    "r10 = setBLP.oneDproj(yl, yu, ['age','educ'], data = cps)"
   ]
  },
  {
   "cell_type": "code",
   "execution_count": 54,
   "id": "118f6dce",
   "metadata": {},
   "outputs": [
    {
     "data": {
      "text/plain": [
       "{'bound': [-0.009051777215653997, 0.14432389300936818],\n",
       " 'Htest': <setBLP.TestResults at 0x7fb841691a90>,\n",
       " 'dHtest': <setBLP.TestResults at 0x7fb8536917f0>}"
      ]
     },
     "execution_count": 54,
     "metadata": {},
     "output_type": "execute_result"
    }
   ],
   "source": [
    "vars(r10[0])"
   ]
  },
  {
   "cell_type": "code",
   "execution_count": 55,
   "id": "14f53d69",
   "metadata": {},
   "outputs": [
    {
     "data": {
      "text/plain": [
       "{'TestStat': None,\n",
       " 'criticalVal': 0.6934361684131858,\n",
       " 'ConfidenceInterval': [-0.013652754820734766, -0.020966860203706125]}"
      ]
     },
     "execution_count": 55,
     "metadata": {},
     "output_type": "execute_result"
    }
   ],
   "source": [
    "vars(r10[0].Htest)"
   ]
  },
  {
   "cell_type": "code",
   "execution_count": 56,
   "id": "29d8e34e",
   "metadata": {},
   "outputs": [
    {
     "data": {
      "text/plain": [
       "{'TestStat': None,\n",
       " 'criticalVal': 0.5942690040626841,\n",
       " 'ConfidenceInterval': [-0.012994776591274784, -0.021624838433166108]}"
      ]
     },
     "execution_count": 56,
     "metadata": {},
     "output_type": "execute_result"
    }
   ],
   "source": [
    "vars(r10[0].dHtest)"
   ]
  },
  {
   "cell_type": "code",
   "execution_count": 57,
   "id": "971c3753",
   "metadata": {},
   "outputs": [
    {
     "data": {
      "text/plain": [
       "{'bound': [-0.025567837808786895, 0.3456382284304264],\n",
       " 'Htest': <setBLP.TestResults at 0x7fb8536914f0>,\n",
       " 'dHtest': <setBLP.TestResults at 0x7fb853696af0>}"
      ]
     },
     "execution_count": 57,
     "metadata": {},
     "output_type": "execute_result"
    }
   ],
   "source": [
    "vars(r10[1])"
   ]
  },
  {
   "cell_type": "code",
   "execution_count": 58,
   "id": "ae66d931",
   "metadata": {},
   "outputs": [
    {
     "data": {
      "text/plain": [
       "{'TestStat': None,\n",
       " 'criticalVal': 2.3388498311827313,\n",
       " 'ConfidenceInterval': [0.12880552782293228, 0.3611565936168623]}"
      ]
     },
     "execution_count": 58,
     "metadata": {},
     "output_type": "execute_result"
    }
   ],
   "source": [
    "vars(r10[1].Htest)"
   ]
  },
  {
   "cell_type": "code",
   "execution_count": 59,
   "id": "ad57de22",
   "metadata": {},
   "outputs": [
    {
     "data": {
      "text/plain": [
       "{'TestStat': None,\n",
       " 'criticalVal': 2.0950305864517196,\n",
       " 'ConfidenceInterval': [0.13042327857750016, 0.3595388428622944]}"
      ]
     },
     "execution_count": 59,
     "metadata": {},
     "output_type": "execute_result"
    }
   ],
   "source": [
    "vars(r10[1].dHtest)"
   ]
  },
  {
   "cell_type": "markdown",
   "id": "03875c19",
   "metadata": {},
   "source": [
    "# 2. Testing EY"
   ]
  },
  {
   "cell_type": "code",
   "execution_count": 60,
   "id": "6d05b656",
   "metadata": {},
   "outputs": [],
   "source": [
    "r11= setBLP.EY(yl, yu, [1,2], method ='')"
   ]
  },
  {
   "cell_type": "code",
   "execution_count": 61,
   "id": "187b7cbd",
   "metadata": {},
   "outputs": [
    {
     "data": {
      "text/plain": [
       "{'bound': [9.296333950856683, 10.529931600617877],\n",
       " 'Htest': <setBLP.TestResults at 0x7fb840d77220>,\n",
       " 'dHtest': <setBLP.TestResults at 0x7fb853696400>}"
      ]
     },
     "execution_count": 61,
     "metadata": {},
     "output_type": "execute_result"
    }
   ],
   "source": [
    "vars(r11)"
   ]
  },
  {
   "cell_type": "code",
   "execution_count": 62,
   "id": "428f3401",
   "metadata": {},
   "outputs": [
    {
     "data": {
      "text/plain": [
       "{'TestStat': 1285.5883235395963,\n",
       " 'criticalVal': 5.966572506606667,\n",
       " 'ConfidenceInterval': [9.25674549595274, 10.569520055521819]}"
      ]
     },
     "execution_count": 62,
     "metadata": {},
     "output_type": "execute_result"
    }
   ],
   "source": [
    "vars(r11.Htest)"
   ]
  },
  {
   "cell_type": "code",
   "execution_count": 63,
   "id": "25c1ac96",
   "metadata": {},
   "outputs": [
    {
     "data": {
      "text/plain": [
       "{'TestStat': 1250.3816624548192,\n",
       " 'criticalVal': 4.989330763465701,\n",
       " 'ConfidenceInterval': [9.263229535262704, 10.563036016211855]}"
      ]
     },
     "execution_count": 63,
     "metadata": {},
     "output_type": "execute_result"
    }
   ],
   "source": [
    "vars(r11.dHtest)"
   ]
  },
  {
   "cell_type": "code",
   "execution_count": 64,
   "id": "2ffc53b0",
   "metadata": {},
   "outputs": [],
   "source": [
    "r12= setBLP.EY(yl, yu, [9.2963,10.5299],method='')"
   ]
  },
  {
   "cell_type": "code",
   "execution_count": 65,
   "id": "2bd8990b",
   "metadata": {},
   "outputs": [
    {
     "data": {
      "text/plain": [
       "{'bound': [9.296333950856683, 10.529931600617877],\n",
       " 'Htest': <setBLP.TestResults at 0x7fb8536960d0>,\n",
       " 'dHtest': <setBLP.TestResults at 0x7fb820d237f0>}"
      ]
     },
     "execution_count": 65,
     "metadata": {},
     "output_type": "execute_result"
    }
   ],
   "source": [
    "vars(r12)"
   ]
  },
  {
   "cell_type": "code",
   "execution_count": 66,
   "id": "70c2f1bc",
   "metadata": {},
   "outputs": [
    {
     "data": {
      "text/plain": [
       "{'TestStat': 0.005116902100594215,\n",
       " 'criticalVal': 5.966572506606667,\n",
       " 'ConfidenceInterval': [9.25674549595274, 10.569520055521819]}"
      ]
     },
     "execution_count": 66,
     "metadata": {},
     "output_type": "execute_result"
    }
   ],
   "source": [
    "vars(r12.Htest)"
   ]
  },
  {
   "cell_type": "code",
   "execution_count": 67,
   "id": "e28b5084",
   "metadata": {},
   "outputs": [
    {
     "data": {
      "text/plain": [
       "{'TestStat': 0.005116902100594215,\n",
       " 'criticalVal': 4.989330763465701,\n",
       " 'ConfidenceInterval': [9.263229535262704, 10.563036016211855]}"
      ]
     },
     "execution_count": 67,
     "metadata": {},
     "output_type": "execute_result"
    }
   ],
   "source": [
    "vars(r12.dHtest)"
   ]
  },
  {
   "cell_type": "markdown",
   "id": "de77cf8f",
   "metadata": {},
   "source": [
    "# Testing CI1d  "
   ]
  },
  {
   "cell_type": "markdown",
   "id": "c3fa851c",
   "metadata": {},
   "source": [
    "$H_0: \\beta_{age} = [0, 0.15]$"
   ]
  },
  {
   "cell_type": "code",
   "execution_count": 68,
   "id": "7b5b501d",
   "metadata": {},
   "outputs": [],
   "source": [
    "I1 = [0, 0.15]"
   ]
  },
  {
   "cell_type": "code",
   "execution_count": 69,
   "id": "5d75cc47",
   "metadata": {},
   "outputs": [],
   "source": [
    "result1 = setBLP.oneDproj(yl, yu, x1, H0=I1)"
   ]
  },
  {
   "cell_type": "code",
   "execution_count": 70,
   "id": "af5ea7ad",
   "metadata": {},
   "outputs": [
    {
     "data": {
      "text/plain": [
       "{'bound': [-0.004887858329797927, 0.14865963017398873],\n",
       " 'Htest': <setBLP.TestResults at 0x7fb820562d30>,\n",
       " 'dHtest': <setBLP.TestResults at 0x7fb84168c280>}"
      ]
     },
     "execution_count": 70,
     "metadata": {},
     "output_type": "execute_result"
    }
   ],
   "source": [
    "vars(result1)"
   ]
  },
  {
   "cell_type": "code",
   "execution_count": 71,
   "id": "4612f299",
   "metadata": {},
   "outputs": [
    {
     "data": {
      "text/plain": [
       "{'TestStat': 0.7366733861557336,\n",
       " 'criticalVal': 0.7047452080966828,\n",
       " 'ConfidenceInterval': [-0.009563871880058493, 0.1533356437242493]}"
      ]
     },
     "execution_count": 71,
     "metadata": {},
     "output_type": "execute_result"
    }
   ],
   "source": [
    "vars(result1.Htest)"
   ]
  },
  {
   "cell_type": "code",
   "execution_count": 72,
   "id": "7006f212",
   "metadata": {},
   "outputs": [
    {
     "data": {
      "text/plain": [
       "{'TestStat': 0.20201378841303558,\n",
       " 'criticalVal': 0.5974789676534665,\n",
       " 'ConfidenceInterval': [-0.008852155946362954, 0.15262392779055375]}"
      ]
     },
     "execution_count": 72,
     "metadata": {},
     "output_type": "execute_result"
    }
   ],
   "source": [
    "vars(result1.dHtest)"
   ]
  },
  {
   "cell_type": "markdown",
   "id": "5b83e520",
   "metadata": {},
   "source": [
    "$H_0: \\beta_{age} = [0.1, 0.25]$"
   ]
  },
  {
   "cell_type": "code",
   "execution_count": 73,
   "id": "7fde8b82",
   "metadata": {},
   "outputs": [],
   "source": [
    "I2 = [0.1, 0.25]"
   ]
  },
  {
   "cell_type": "code",
   "execution_count": 74,
   "id": "c9b0f148",
   "metadata": {},
   "outputs": [],
   "source": [
    "result2 = setBLP.oneDproj(yl, yu, x1, H0=I2)"
   ]
  },
  {
   "cell_type": "code",
   "execution_count": 75,
   "id": "9ff78c03",
   "metadata": {},
   "outputs": [
    {
     "data": {
      "text/plain": [
       "{'bound': [-0.004887858329797927, 0.14865963017398873],\n",
       " 'Htest': <setBLP.TestResults at 0x7fb840d55c70>,\n",
       " 'dHtest': <setBLP.TestResults at 0x7fb840d551c0>}"
      ]
     },
     "execution_count": 75,
     "metadata": {},
     "output_type": "execute_result"
    }
   ],
   "source": [
    "vars(result2)"
   ]
  },
  {
   "cell_type": "code",
   "execution_count": 76,
   "id": "21c06ab4",
   "metadata": {
    "scrolled": true
   },
   "outputs": [
    {
     "data": {
      "text/plain": [
       "{'TestStat': 15.808169662239274,\n",
       " 'criticalVal': 0.7047452080966828,\n",
       " 'ConfidenceInterval': [-0.009563871880058493, 0.1533356437242493]}"
      ]
     },
     "execution_count": 76,
     "metadata": {},
     "output_type": "execute_result"
    }
   ],
   "source": [
    "vars(result2.Htest)"
   ]
  },
  {
   "cell_type": "code",
   "execution_count": 77,
   "id": "fa3edffa",
   "metadata": {},
   "outputs": [
    {
     "data": {
      "text/plain": [
       "{'TestStat': 15.273510064496575,\n",
       " 'criticalVal': 0.5974789676534665,\n",
       " 'ConfidenceInterval': [-0.008852155946362954, 0.15262392779055375]}"
      ]
     },
     "execution_count": 77,
     "metadata": {},
     "output_type": "execute_result"
    }
   ],
   "source": [
    "vars(result2.dHtest)"
   ]
  },
  {
   "cell_type": "markdown",
   "id": "085d570b",
   "metadata": {},
   "source": [
    "$H_0: \\beta_{age} = [0, 0.1]$"
   ]
  },
  {
   "cell_type": "code",
   "execution_count": 78,
   "id": "3f9f3a9a",
   "metadata": {},
   "outputs": [],
   "source": [
    "I3 = [0, 0.1]"
   ]
  },
  {
   "cell_type": "code",
   "execution_count": 79,
   "id": "027b2d29",
   "metadata": {},
   "outputs": [],
   "source": [
    "result3 = setBLP.oneDproj(yl, yu, x1, H0=I3)"
   ]
  },
  {
   "cell_type": "code",
   "execution_count": 80,
   "id": "6dedc636",
   "metadata": {},
   "outputs": [
    {
     "data": {
      "text/plain": [
       "{'bound': [-0.004887858329797927, 0.14865963017398873],\n",
       " 'Htest': <setBLP.TestResults at 0x7fb85366f100>,\n",
       " 'dHtest': <setBLP.TestResults at 0x7fb85366ffd0>}"
      ]
     },
     "execution_count": 80,
     "metadata": {},
     "output_type": "execute_result"
    }
   ],
   "source": [
    "vars(result3)"
   ]
  },
  {
   "cell_type": "code",
   "execution_count": 81,
   "id": "f7a1ac75",
   "metadata": {},
   "outputs": [
    {
     "data": {
      "text/plain": [
       "{'TestStat': 7.333734349628732,\n",
       " 'criticalVal': 0.7047452080966828,\n",
       " 'ConfidenceInterval': [-0.009563871880058493, 0.1533356437242493]}"
      ]
     },
     "execution_count": 81,
     "metadata": {},
     "output_type": "execute_result"
    }
   ],
   "source": [
    "vars(result3.Htest)"
   ]
  },
  {
   "cell_type": "code",
   "execution_count": 82,
   "id": "a1e44e8c",
   "metadata": {},
   "outputs": [
    {
     "data": {
      "text/plain": [
       "{'TestStat': 0.0,\n",
       " 'criticalVal': 0.5974789676534665,\n",
       " 'ConfidenceInterval': [-0.008852155946362954, 0.15262392779055375]}"
      ]
     },
     "execution_count": 82,
     "metadata": {},
     "output_type": "execute_result"
    }
   ],
   "source": [
    "vars(result3.dHtest)"
   ]
  },
  {
   "cell_type": "markdown",
   "id": "1710164e",
   "metadata": {},
   "source": [
    "$H_0: \\beta_{age} = [-0.1, 0.15]$"
   ]
  },
  {
   "cell_type": "code",
   "execution_count": 83,
   "id": "57ac25fb",
   "metadata": {},
   "outputs": [],
   "source": [
    "I4 = [-0.1, 0.15]"
   ]
  },
  {
   "cell_type": "code",
   "execution_count": 84,
   "id": "4bfa8ef1",
   "metadata": {},
   "outputs": [],
   "source": [
    "result4 = setBLP.oneDproj(yl, yu, x1, H0=I4)"
   ]
  },
  {
   "cell_type": "code",
   "execution_count": 85,
   "id": "2725054f",
   "metadata": {},
   "outputs": [
    {
     "data": {
      "text/plain": [
       "{'bound': [-0.004887858329797927, 0.14865963017398873],\n",
       " 'Htest': <setBLP.TestResults at 0x7fb85366bb50>,\n",
       " 'dHtest': <setBLP.TestResults at 0x7fb85366fd60>}"
      ]
     },
     "execution_count": 85,
     "metadata": {},
     "output_type": "execute_result"
    }
   ],
   "source": [
    "vars(result4)"
   ]
  },
  {
   "cell_type": "code",
   "execution_count": 86,
   "id": "81c7ad45",
   "metadata": {},
   "outputs": [
    {
     "data": {
      "text/plain": [
       "{'TestStat': 14.334822889927805,\n",
       " 'criticalVal': 0.7047452080966828,\n",
       " 'ConfidenceInterval': [-0.009563871880058493, 0.1533356437242493]}"
      ]
     },
     "execution_count": 86,
     "metadata": {},
     "output_type": "execute_result"
    }
   ],
   "source": [
    "vars(result4.Htest)"
   ]
  },
  {
   "cell_type": "code",
   "execution_count": 87,
   "id": "f127cc91",
   "metadata": {},
   "outputs": [
    {
     "data": {
      "text/plain": [
       "{'TestStat': 14.334822889927805,\n",
       " 'criticalVal': 0.5974789676534665,\n",
       " 'ConfidenceInterval': [-0.008852155946362954, 0.15262392779055375]}"
      ]
     },
     "execution_count": 87,
     "metadata": {},
     "output_type": "execute_result"
    }
   ],
   "source": [
    "vars(result4.dHtest)"
   ]
  },
  {
   "cell_type": "markdown",
   "id": "9e0b6198",
   "metadata": {},
   "source": [
    "# regress $yl, yu$ on age, educ $\\rightarrow$ $\\beta_{age}$"
   ]
  },
  {
   "cell_type": "code",
   "execution_count": 88,
   "id": "84bcd597",
   "metadata": {},
   "outputs": [
    {
     "name": "stdout",
     "output_type": "stream",
     "text": [
      "                            OLS Regression Results                            \n",
      "==============================================================================\n",
      "Dep. Variable:              logwage_l   R-squared:                       0.105\n",
      "Model:                            OLS   Adj. R-squared:                  0.105\n",
      "Method:                 Least Squares   F-statistic:                     982.3\n",
      "Date:                Wed, 11 Oct 2023   Prob (F-statistic):               0.00\n",
      "Time:                        15:20:44   Log-Likelihood:                -56435.\n",
      "No. Observations:               22715   AIC:                         1.129e+05\n",
      "Df Residuals:                   22712   BIC:                         1.129e+05\n",
      "Df Model:                           2                                         \n",
      "Covariance Type:                  HC1                                         \n",
      "==============================================================================\n",
      "                 coef    std err          z      P>|z|      [0.025      0.975]\n",
      "------------------------------------------------------------------------------\n",
      "Intercept      3.3251      0.151     21.988      0.000       3.029       3.622\n",
      "educ           0.1892      0.009     21.669      0.000       0.172       0.206\n",
      "age            0.0985      0.003     36.340      0.000       0.093       0.104\n",
      "==============================================================================\n",
      "Omnibus:                    10680.502   Durbin-Watson:                   1.918\n",
      "Prob(Omnibus):                  0.000   Jarque-Bera (JB):            44014.677\n",
      "Skew:                          -2.425   Prob(JB):                         0.00\n",
      "Kurtosis:                       7.794   Cond. No.                         263.\n",
      "==============================================================================\n",
      "\n",
      "Notes:\n",
      "[1] Standard Errors are heteroscedasticity robust (HC1)\n"
     ]
    }
   ],
   "source": [
    "ols3 = smf.ols(formula='logwage_l ~ educ+age',data=cps).fit(cov_type='HC1')\n",
    "betal = ols3._results.params[2]\n",
    "print(ols3.summary())"
   ]
  },
  {
   "cell_type": "code",
   "execution_count": 89,
   "id": "85c8554b",
   "metadata": {},
   "outputs": [
    {
     "name": "stdout",
     "output_type": "stream",
     "text": [
      "                            OLS Regression Results                            \n",
      "==============================================================================\n",
      "Dep. Variable:              logwage_u   R-squared:                       0.234\n",
      "Model:                            OLS   Adj. R-squared:                  0.234\n",
      "Method:                 Least Squares   F-statistic:                     3220.\n",
      "Date:                Wed, 11 Oct 2023   Prob (F-statistic):               0.00\n",
      "Time:                        15:20:44   Log-Likelihood:                -27984.\n",
      "No. Observations:               22715   AIC:                         5.597e+04\n",
      "Df Residuals:                   22712   BIC:                         5.600e+04\n",
      "Df Model:                           2                                         \n",
      "Covariance Type:                  HC1                                         \n",
      "==============================================================================\n",
      "                 coef    std err          z      P>|z|      [0.025      0.975]\n",
      "------------------------------------------------------------------------------\n",
      "Intercept      7.5141      0.037    201.564      0.000       7.441       7.587\n",
      "educ           0.1309      0.003     52.253      0.000       0.126       0.136\n",
      "age            0.0368      0.001     59.087      0.000       0.036       0.038\n",
      "==============================================================================\n",
      "Omnibus:                     2417.526   Durbin-Watson:                   1.857\n",
      "Prob(Omnibus):                  0.000   Jarque-Bera (JB):             3602.613\n",
      "Skew:                           0.803   Prob(JB):                         0.00\n",
      "Kurtosis:                       4.107   Cond. No.                         263.\n",
      "==============================================================================\n",
      "\n",
      "Notes:\n",
      "[1] Standard Errors are heteroscedasticity robust (HC1)\n"
     ]
    }
   ],
   "source": [
    "ols4 = smf.ols(formula='logwage_u ~ educ+age',data=cps).fit(cov_type='HC1')\n",
    "betau = ols4._results.params[2]\n",
    "print(ols4.summary())"
   ]
  },
  {
   "cell_type": "code",
   "execution_count": 90,
   "id": "11fd46d2",
   "metadata": {},
   "outputs": [],
   "source": [
    "I5 = [min(betal, betau), max(betal, betau)]"
   ]
  },
  {
   "cell_type": "code",
   "execution_count": 91,
   "id": "dfe3c143",
   "metadata": {},
   "outputs": [],
   "source": [
    "result5 = setBLP.oneDproj(yl, yu, x1, H0=I5)"
   ]
  },
  {
   "cell_type": "code",
   "execution_count": 92,
   "id": "017e9bb9",
   "metadata": {},
   "outputs": [
    {
     "data": {
      "text/plain": [
       "{'bound': [-0.004887858329797927, 0.14865963017398873],\n",
       " 'Htest': <setBLP.TestResults at 0x7fb820d23a30>,\n",
       " 'dHtest': <setBLP.TestResults at 0x7fb820d232e0>}"
      ]
     },
     "execution_count": 92,
     "metadata": {},
     "output_type": "execute_result"
    }
   ],
   "source": [
    "vars(result5)"
   ]
  },
  {
   "cell_type": "code",
   "execution_count": 93,
   "id": "f7c55b54",
   "metadata": {},
   "outputs": [
    {
     "data": {
      "text/plain": [
       "{'TestStat': 7.556630260160127,\n",
       " 'criticalVal': 0.7047452080966828,\n",
       " 'ConfidenceInterval': [-0.009563871880058493, 0.1533356437242493]}"
      ]
     },
     "execution_count": 93,
     "metadata": {},
     "output_type": "execute_result"
    }
   ],
   "source": [
    "vars(result5.Htest)"
   ]
  },
  {
   "cell_type": "code",
   "execution_count": 94,
   "id": "e853e4d3",
   "metadata": {},
   "outputs": [
    {
     "data": {
      "text/plain": [
       "{'TestStat': 0.0,\n",
       " 'criticalVal': 0.5974789676534665,\n",
       " 'ConfidenceInterval': [-0.008852155946362954, 0.15262392779055375]}"
      ]
     },
     "execution_count": 94,
     "metadata": {},
     "output_type": "execute_result"
    }
   ],
   "source": [
    "vars(result5.dHtest)"
   ]
  },
  {
   "cell_type": "code",
   "execution_count": null,
   "id": "de2b72ca",
   "metadata": {},
   "outputs": [],
   "source": []
  },
  {
   "cell_type": "code",
   "execution_count": null,
   "id": "03c3a2ae",
   "metadata": {},
   "outputs": [],
   "source": []
  },
  {
   "cell_type": "markdown",
   "id": "4d2a1e6f",
   "metadata": {},
   "source": [
    "# Two ways to access the list of all attributes and values:"
   ]
  },
  {
   "cell_type": "code",
   "execution_count": null,
   "id": "6b45ea36",
   "metadata": {},
   "outputs": [],
   "source": [
    "result.__dict__"
   ]
  },
  {
   "cell_type": "code",
   "execution_count": null,
   "id": "7876a90e",
   "metadata": {},
   "outputs": [],
   "source": [
    "vars(result)"
   ]
  },
  {
   "cell_type": "code",
   "execution_count": null,
   "id": "edd4cc9b",
   "metadata": {},
   "outputs": [],
   "source": [
    "vars(result.dHtest)"
   ]
  },
  {
   "cell_type": "code",
   "execution_count": null,
   "id": "cd07dc66",
   "metadata": {},
   "outputs": [],
   "source": []
  },
  {
   "cell_type": "markdown",
   "id": "c25b5f7c",
   "metadata": {},
   "source": [
    "# Simulations"
   ]
  },
  {
   "cell_type": "markdown",
   "id": "82453404",
   "metadata": {},
   "source": [
    "## parameter"
   ]
  },
  {
   "cell_type": "code",
   "execution_count": null,
   "id": "f5583f20",
   "metadata": {},
   "outputs": [],
   "source": [
    "rng = np.random.MT19937(15217)\n",
    "rng = np.random.Generator(rng)\n",
    "np.random.seed(setBLP.default_options.seed)"
   ]
  },
  {
   "cell_type": "code",
   "execution_count": null,
   "id": "58e2a0b1",
   "metadata": {},
   "outputs": [],
   "source": [
    "popSize = cps.shape[0]"
   ]
  },
  {
   "cell_type": "code",
   "execution_count": null,
   "id": "0501d177",
   "metadata": {},
   "outputs": [],
   "source": [
    "Nobs = 100;  #size of sub sample\n",
    "Nsim = 5000; #number of simulations"
   ]
  },
  {
   "cell_type": "code",
   "execution_count": null,
   "id": "012dffdc",
   "metadata": {},
   "outputs": [],
   "source": [
    "Nintervals = 8; #number of intervals in the survey"
   ]
  },
  {
   "cell_type": "markdown",
   "id": "08c2b9d5",
   "metadata": {},
   "source": [
    "## Using quantiles"
   ]
  },
  {
   "cell_type": "code",
   "execution_count": null,
   "id": "1d80ffb3",
   "metadata": {},
   "outputs": [],
   "source": [
    "c = 0 \n",
    "width=0\n",
    "for i in range(Nsim):\n",
    "    indx = rng.integers(low=0, high=popSize, size=Nobs)\n",
    "    sample = cps.iloc[indx, :]\n",
    "    r = setBLP.oneDproj(sample.logwage_l,sample.logwage_u,sample.educ)\n",
    "    width += max(r)-min(r)\n",
    "    if beta1>=min(r) and beta1 <=max(r):\n",
    "        c+=1\n",
    "    \n",
    "width=width/Nsim"
   ]
  },
  {
   "cell_type": "code",
   "execution_count": null,
   "id": "df08814f",
   "metadata": {},
   "outputs": [],
   "source": [
    "i = 0 \n",
    "indx = rng.integers(low=0, high=popSize, size=Nobs)\n",
    "sample = cps.iloc[indx, :]\n",
    "r = setBLP.oneDproj(sample.logwage_l,sample.logwage_u,sample.educ)"
   ]
  },
  {
   "cell_type": "code",
   "execution_count": null,
   "id": "269f9880",
   "metadata": {},
   "outputs": [],
   "source": [
    "r"
   ]
  },
  {
   "cell_type": "code",
   "execution_count": null,
   "id": "7fbb540f",
   "metadata": {},
   "outputs": [],
   "source": []
  },
  {
   "cell_type": "code",
   "execution_count": null,
   "id": "c9d91138",
   "metadata": {},
   "outputs": [],
   "source": [
    "c/Nsim"
   ]
  },
  {
   "cell_type": "code",
   "execution_count": null,
   "id": "10a013be",
   "metadata": {},
   "outputs": [],
   "source": [
    "width"
   ]
  },
  {
   "cell_type": "markdown",
   "id": "e33b2136",
   "metadata": {},
   "source": [
    "## Using fixed intervals, ver 1"
   ]
  },
  {
   "cell_type": "code",
   "execution_count": null,
   "id": "47b911ae",
   "metadata": {},
   "outputs": [],
   "source": [
    "thresholds = np.linspace(1,max(cps.wage)+1,10)\n",
    "thresholds"
   ]
  },
  {
   "cell_type": "code",
   "execution_count": null,
   "id": "0fcf3322",
   "metadata": {},
   "outputs": [],
   "source": [
    "interval_cps = createIntervalData(cps, 'wage', thresholds)\n",
    "interval_cps.head(15)"
   ]
  },
  {
   "cell_type": "code",
   "execution_count": null,
   "id": "7f81d0e1",
   "metadata": {},
   "outputs": [],
   "source": [
    "c = 0 \n",
    "width =0\n",
    "for i in range(Nsim):\n",
    "    indx = rng.integers(low=0, high=popSize, size=Nobs)\n",
    "    sample = interval_cps.iloc[indx, :]\n",
    "    r = setBLP.oneDproj(sample.logwage_l,sample.logwage_u,sample.educ)\n",
    "    width+=max(r)-min(r)\n",
    "    if beta1>=min(r) and beta1 <=max(r):\n",
    "        c+=1\n",
    "width=width/Nsim"
   ]
  },
  {
   "cell_type": "code",
   "execution_count": null,
   "id": "b8d16ac3",
   "metadata": {},
   "outputs": [],
   "source": [
    "c/Nsim"
   ]
  },
  {
   "cell_type": "code",
   "execution_count": null,
   "id": "e1d4cc2b",
   "metadata": {},
   "outputs": [],
   "source": [
    "width"
   ]
  },
  {
   "cell_type": "markdown",
   "id": "ffbd4fa0",
   "metadata": {},
   "source": [
    "## Using fixed intervals, ver 2"
   ]
  },
  {
   "cell_type": "code",
   "execution_count": null,
   "id": "40619d8d",
   "metadata": {},
   "outputs": [],
   "source": [
    "max(cps.wage)"
   ]
  },
  {
   "cell_type": "code",
   "execution_count": null,
   "id": "c2ccce88",
   "metadata": {},
   "outputs": [],
   "source": [
    "thresholds = np.array([0, 10, 20, 40, 75, 100, 200, 300, 500 ])*1000\n",
    "thresholds[0] =1"
   ]
  },
  {
   "cell_type": "code",
   "execution_count": null,
   "id": "fdec1fae",
   "metadata": {},
   "outputs": [],
   "source": [
    "interval_cps = createIntervalData(cps, 'wage', thresholds)\n",
    "interval_cps.head(15)"
   ]
  },
  {
   "cell_type": "code",
   "execution_count": null,
   "id": "96351e37",
   "metadata": {},
   "outputs": [],
   "source": [
    "c = 0 \n",
    "width =0\n",
    "for i in range(Nsim):\n",
    "    indx = rng.integers(low=0, high=popSize, size=Nobs)\n",
    "    sample = interval_cps.iloc[indx, :]\n",
    "    r = setBLP.oneDproj(sample.logwage_l,sample.logwage_u,sample.educ)\n",
    "    width+=max(r)-min(r)\n",
    "    if beta1>=min(r) and beta1 <=max(r):\n",
    "        c+=1\n",
    "        \n",
    "width=width/Nsim"
   ]
  },
  {
   "cell_type": "code",
   "execution_count": null,
   "id": "fe58078c",
   "metadata": {},
   "outputs": [],
   "source": [
    "c/Nsim"
   ]
  },
  {
   "cell_type": "code",
   "execution_count": null,
   "id": "3e5d1c50",
   "metadata": {},
   "outputs": [],
   "source": [
    "width"
   ]
  },
  {
   "cell_type": "markdown",
   "id": "a4d060b2",
   "metadata": {},
   "source": [
    "### Conclusion:  \n",
    "The id interval is so wide that there is no chance that true $\\beta_1$ is not in the computed identification set."
   ]
  },
  {
   "cell_type": "markdown",
   "id": "d29f9c35",
   "metadata": {},
   "source": [
    "(age, wage) pair"
   ]
  },
  {
   "cell_type": "code",
   "execution_count": null,
   "id": "e761e27c",
   "metadata": {},
   "outputs": [],
   "source": []
  },
  {
   "cell_type": "code",
   "execution_count": null,
   "id": "e944e1be",
   "metadata": {},
   "outputs": [],
   "source": []
  }
 ],
 "metadata": {
  "kernelspec": {
   "display_name": "Python 3 (ipykernel)",
   "language": "python",
   "name": "python3"
  },
  "language_info": {
   "codemirror_mode": {
    "name": "ipython",
    "version": 3
   },
   "file_extension": ".py",
   "mimetype": "text/x-python",
   "name": "python",
   "nbconvert_exporter": "python",
   "pygments_lexer": "ipython3",
   "version": "3.11.4"
  }
 },
 "nbformat": 4,
 "nbformat_minor": 5
}
