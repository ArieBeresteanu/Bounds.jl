{
 "cells": [
  {
   "cell_type": "code",
   "execution_count": 1,
   "id": "04ece091",
   "metadata": {},
   "outputs": [],
   "source": [
    "import pandas as pd\n",
    "import numpy as np\n",
    "import statsmodels.formula.api as smf\n",
    "import statsmodels.api as sm"
   ]
  },
  {
   "cell_type": "markdown",
   "id": "e4f27db1",
   "metadata": {},
   "source": [
    "# Uploading CPS data"
   ]
  },
  {
   "cell_type": "code",
   "execution_count": 2,
   "id": "b0bc0089",
   "metadata": {},
   "outputs": [],
   "source": [
    "cps = pd.read_csv('cps_test.csv')"
   ]
  },
  {
   "cell_type": "markdown",
   "id": "fa0d5fd1",
   "metadata": {},
   "source": [
    "# Best Linear Predictor"
   ]
  },
  {
   "cell_type": "code",
   "execution_count": 3,
   "id": "d493dac9",
   "metadata": {
    "scrolled": true
   },
   "outputs": [
    {
     "name": "stdout",
     "output_type": "stream",
     "text": [
      "                            OLS Regression Results                            \n",
      "==============================================================================\n",
      "Dep. Variable:               log_wage   R-squared:                       0.092\n",
      "Model:                            OLS   Adj. R-squared:                  0.092\n",
      "Method:                 Least Squares   F-statistic:                     2441.\n",
      "Date:                Thu, 20 Jul 2023   Prob (F-statistic):               0.00\n",
      "Time:                        20:51:40   Log-Likelihood:                -29890.\n",
      "No. Observations:               22715   AIC:                         5.978e+04\n",
      "Df Residuals:                   22713   BIC:                         5.980e+04\n",
      "Df Model:                           1                                         \n",
      "Covariance Type:                  HC1                                         \n",
      "==============================================================================\n",
      "                 coef    std err          z      P>|z|      [0.025      0.975]\n",
      "------------------------------------------------------------------------------\n",
      "Intercept      8.5711      0.034    254.650      0.000       8.505       8.637\n",
      "educ           0.1249      0.003     49.403      0.000       0.120       0.130\n",
      "==============================================================================\n",
      "Omnibus:                     8105.723   Durbin-Watson:                   1.889\n",
      "Prob(Omnibus):                  0.000   Jarque-Bera (JB):            48342.534\n",
      "Skew:                          -1.597   Prob(JB):                         0.00\n",
      "Kurtosis:                       9.394   Cond. No.                         76.9\n",
      "==============================================================================\n",
      "\n",
      "Notes:\n",
      "[1] Standard Errors are heteroscedasticity robust (HC1)\n"
     ]
    }
   ],
   "source": [
    "ols1 = smf.ols(formula='log_wage ~ educ',data=cps).fit(cov_type='HC1')\n",
    "\n",
    "print(ols1.summary())"
   ]
  },
  {
   "cell_type": "code",
   "execution_count": 4,
   "id": "2e244a79",
   "metadata": {},
   "outputs": [],
   "source": [
    "beta1 = ols1._results.params[1]"
   ]
  },
  {
   "cell_type": "code",
   "execution_count": 5,
   "id": "b0ea07e1",
   "metadata": {
    "scrolled": true
   },
   "outputs": [
    {
     "name": "stdout",
     "output_type": "stream",
     "text": [
      "                            OLS Regression Results                            \n",
      "==============================================================================\n",
      "Dep. Variable:               log_wage   R-squared:                       0.209\n",
      "Model:                            OLS   Adj. R-squared:                  0.209\n",
      "Method:                 Least Squares   F-statistic:                     2684.\n",
      "Date:                Thu, 20 Jul 2023   Prob (F-statistic):               0.00\n",
      "Time:                        20:51:40   Log-Likelihood:                -28323.\n",
      "No. Observations:               22715   AIC:                         5.665e+04\n",
      "Df Residuals:                   22712   BIC:                         5.668e+04\n",
      "Df Model:                           2                                         \n",
      "Covariance Type:                  HC1                                         \n",
      "==============================================================================\n",
      "                 coef    std err          z      P>|z|      [0.025      0.975]\n",
      "------------------------------------------------------------------------------\n",
      "Intercept      7.4145      0.039    187.891      0.000       7.337       7.492\n",
      "educ           0.1109      0.002     45.926      0.000       0.106       0.116\n",
      "age            0.0377      0.001     52.950      0.000       0.036       0.039\n",
      "==============================================================================\n",
      "Omnibus:                     9245.542   Durbin-Watson:                   1.884\n",
      "Prob(Omnibus):                  0.000   Jarque-Bera (JB):            76076.119\n",
      "Skew:                          -1.747   Prob(JB):                         0.00\n",
      "Kurtosis:                      11.257   Cond. No.                         263.\n",
      "==============================================================================\n",
      "\n",
      "Notes:\n",
      "[1] Standard Errors are heteroscedasticity robust (HC1)\n"
     ]
    }
   ],
   "source": [
    "ols2 = smf.ols(formula='log_wage ~ educ+age',data=cps).fit(cov_type='HC1')\n",
    "\n",
    "print(ols2.summary())"
   ]
  },
  {
   "cell_type": "code",
   "execution_count": 6,
   "id": "9ccaebe8",
   "metadata": {},
   "outputs": [],
   "source": [
    "beta2_0 = ols2._results.params[0]\n",
    "beta2_1 = ols2._results.params[1]\n",
    "beta2_2 = ols2._results.params[2]"
   ]
  },
  {
   "cell_type": "markdown",
   "id": "5e5545bf",
   "metadata": {},
   "source": [
    "# Creating Interval Data"
   ]
  },
  {
   "cell_type": "code",
   "execution_count": 7,
   "id": "c722613d",
   "metadata": {},
   "outputs": [],
   "source": [
    "def createIntervalData(df, Y, thresholds):\n",
    "    # The function accepts a dataframe, df, and make interval data from the Y (string) variable. \n",
    "    # It adds to the dataframe the lower and upper values for Y (based on the thresholds) and the covariates.\n",
    "    \n",
    "    thresholds = np.array(thresholds)\n",
    "\n",
    "    idx = [sum(t <= y for t in thresholds)-1 for y in df[Y]]\n",
    "    df[Y+'_l'] = thresholds[idx]\n",
    "    df[Y+'_u'] = thresholds[np.array(idx)+1]\n",
    "    \n",
    "    df['log'+Y+'_l']= np.log(df[Y+'_l'])\n",
    "    df['log'+Y+'_u']= np.log(df[Y+'_u'])\n",
    "    \n",
    "    return df"
   ]
  },
  {
   "cell_type": "code",
   "execution_count": 8,
   "id": "4661e8be",
   "metadata": {},
   "outputs": [],
   "source": [
    "# wage_quantiles = np.array(cps['wage'].quantile([0.0, 0.1,0.2,0.3,0.4,0.5,0.6,0.7,0.8,0.9,1.0]))\n",
    "# wage_quantiles[-1]+=1\n",
    "# logwage_quantiles = np.log(wage_quantiles)\n",
    "\n",
    "# cps['wage_qt'] = np.floor(cps['wage'].rank(method = 'max', pct=True)*10).astype(int).replace({10:9})\n",
    "# cps['wage_lower'] = wage_quantiles[cps['wage_qt']]\n",
    "# cps['wage_upper'] = wage_quantiles[cps['wage_qt']+1]\n",
    "\n",
    "# cps['logwage_lower'] = logwage_quantiles[cps['wage_qt']]\n",
    "# cps['logwage_upper'] = logwage_quantiles[cps['wage_qt']+1]"
   ]
  },
  {
   "cell_type": "code",
   "execution_count": 9,
   "id": "a69378bc",
   "metadata": {},
   "outputs": [],
   "source": [
    "wage_quantiles = np.array(cps['wage'].quantile(np.linspace(0,1,11)))\n",
    "wage_quantiles[-1]+=1\n",
    "cps = createIntervalData(cps, 'wage', wage_quantiles)"
   ]
  },
  {
   "cell_type": "code",
   "execution_count": 10,
   "id": "f6404b7d",
   "metadata": {},
   "outputs": [
    {
     "data": {
      "text/html": [
       "<div>\n",
       "<style scoped>\n",
       "    .dataframe tbody tr th:only-of-type {\n",
       "        vertical-align: middle;\n",
       "    }\n",
       "\n",
       "    .dataframe tbody tr th {\n",
       "        vertical-align: top;\n",
       "    }\n",
       "\n",
       "    .dataframe thead th {\n",
       "        text-align: right;\n",
       "    }\n",
       "</style>\n",
       "<table border=\"1\" class=\"dataframe\">\n",
       "  <thead>\n",
       "    <tr style=\"text-align: right;\">\n",
       "      <th></th>\n",
       "      <th>Unnamed: 0</th>\n",
       "      <th>age</th>\n",
       "      <th>wage</th>\n",
       "      <th>educ</th>\n",
       "      <th>log_wage</th>\n",
       "      <th>wage_l</th>\n",
       "      <th>wage_u</th>\n",
       "      <th>logwage_l</th>\n",
       "      <th>logwage_u</th>\n",
       "    </tr>\n",
       "  </thead>\n",
       "  <tbody>\n",
       "    <tr>\n",
       "      <th>0</th>\n",
       "      <td>0</td>\n",
       "      <td>22</td>\n",
       "      <td>12000</td>\n",
       "      <td>13</td>\n",
       "      <td>9.392662</td>\n",
       "      <td>9000.0</td>\n",
       "      <td>15000.0</td>\n",
       "      <td>9.104980</td>\n",
       "      <td>9.615805</td>\n",
       "    </tr>\n",
       "    <tr>\n",
       "      <th>1</th>\n",
       "      <td>1</td>\n",
       "      <td>21</td>\n",
       "      <td>3500</td>\n",
       "      <td>13</td>\n",
       "      <td>8.160518</td>\n",
       "      <td>1.0</td>\n",
       "      <td>9000.0</td>\n",
       "      <td>0.000000</td>\n",
       "      <td>9.104980</td>\n",
       "    </tr>\n",
       "    <tr>\n",
       "      <th>2</th>\n",
       "      <td>3</td>\n",
       "      <td>49</td>\n",
       "      <td>30000</td>\n",
       "      <td>13</td>\n",
       "      <td>10.308953</td>\n",
       "      <td>30000.0</td>\n",
       "      <td>36000.0</td>\n",
       "      <td>10.308953</td>\n",
       "      <td>10.491274</td>\n",
       "    </tr>\n",
       "    <tr>\n",
       "      <th>3</th>\n",
       "      <td>4</td>\n",
       "      <td>31</td>\n",
       "      <td>32000</td>\n",
       "      <td>16</td>\n",
       "      <td>10.373491</td>\n",
       "      <td>30000.0</td>\n",
       "      <td>36000.0</td>\n",
       "      <td>10.308953</td>\n",
       "      <td>10.491274</td>\n",
       "    </tr>\n",
       "    <tr>\n",
       "      <th>4</th>\n",
       "      <td>5</td>\n",
       "      <td>42</td>\n",
       "      <td>89630</td>\n",
       "      <td>21</td>\n",
       "      <td>11.403445</td>\n",
       "      <td>71000.0</td>\n",
       "      <td>362303.0</td>\n",
       "      <td>11.170435</td>\n",
       "      <td>12.800236</td>\n",
       "    </tr>\n",
       "    <tr>\n",
       "      <th>...</th>\n",
       "      <td>...</td>\n",
       "      <td>...</td>\n",
       "      <td>...</td>\n",
       "      <td>...</td>\n",
       "      <td>...</td>\n",
       "      <td>...</td>\n",
       "      <td>...</td>\n",
       "      <td>...</td>\n",
       "      <td>...</td>\n",
       "    </tr>\n",
       "    <tr>\n",
       "      <th>22710</th>\n",
       "      <td>26111</td>\n",
       "      <td>37</td>\n",
       "      <td>32000</td>\n",
       "      <td>14</td>\n",
       "      <td>10.373491</td>\n",
       "      <td>30000.0</td>\n",
       "      <td>36000.0</td>\n",
       "      <td>10.308953</td>\n",
       "      <td>10.491274</td>\n",
       "    </tr>\n",
       "    <tr>\n",
       "      <th>22711</th>\n",
       "      <td>26112</td>\n",
       "      <td>50</td>\n",
       "      <td>56000</td>\n",
       "      <td>12</td>\n",
       "      <td>10.933107</td>\n",
       "      <td>53000.0</td>\n",
       "      <td>71000.0</td>\n",
       "      <td>10.878047</td>\n",
       "      <td>11.170435</td>\n",
       "    </tr>\n",
       "    <tr>\n",
       "      <th>22712</th>\n",
       "      <td>26113</td>\n",
       "      <td>24</td>\n",
       "      <td>9000</td>\n",
       "      <td>12</td>\n",
       "      <td>9.104980</td>\n",
       "      <td>9000.0</td>\n",
       "      <td>15000.0</td>\n",
       "      <td>9.104980</td>\n",
       "      <td>9.615805</td>\n",
       "    </tr>\n",
       "    <tr>\n",
       "      <th>22713</th>\n",
       "      <td>26114</td>\n",
       "      <td>49</td>\n",
       "      <td>29000</td>\n",
       "      <td>12</td>\n",
       "      <td>10.275051</td>\n",
       "      <td>25000.0</td>\n",
       "      <td>30000.0</td>\n",
       "      <td>10.126631</td>\n",
       "      <td>10.308953</td>\n",
       "    </tr>\n",
       "    <tr>\n",
       "      <th>22714</th>\n",
       "      <td>26116</td>\n",
       "      <td>35</td>\n",
       "      <td>24000</td>\n",
       "      <td>14</td>\n",
       "      <td>10.085809</td>\n",
       "      <td>20000.0</td>\n",
       "      <td>25000.0</td>\n",
       "      <td>9.903488</td>\n",
       "      <td>10.126631</td>\n",
       "    </tr>\n",
       "  </tbody>\n",
       "</table>\n",
       "<p>22715 rows × 9 columns</p>\n",
       "</div>"
      ],
      "text/plain": [
       "       Unnamed: 0  age   wage  educ   log_wage   wage_l    wage_u  logwage_l  \\\n",
       "0               0   22  12000    13   9.392662   9000.0   15000.0   9.104980   \n",
       "1               1   21   3500    13   8.160518      1.0    9000.0   0.000000   \n",
       "2               3   49  30000    13  10.308953  30000.0   36000.0  10.308953   \n",
       "3               4   31  32000    16  10.373491  30000.0   36000.0  10.308953   \n",
       "4               5   42  89630    21  11.403445  71000.0  362303.0  11.170435   \n",
       "...           ...  ...    ...   ...        ...      ...       ...        ...   \n",
       "22710       26111   37  32000    14  10.373491  30000.0   36000.0  10.308953   \n",
       "22711       26112   50  56000    12  10.933107  53000.0   71000.0  10.878047   \n",
       "22712       26113   24   9000    12   9.104980   9000.0   15000.0   9.104980   \n",
       "22713       26114   49  29000    12  10.275051  25000.0   30000.0  10.126631   \n",
       "22714       26116   35  24000    14  10.085809  20000.0   25000.0   9.903488   \n",
       "\n",
       "       logwage_u  \n",
       "0       9.615805  \n",
       "1       9.104980  \n",
       "2      10.491274  \n",
       "3      10.491274  \n",
       "4      12.800236  \n",
       "...          ...  \n",
       "22710  10.491274  \n",
       "22711  11.170435  \n",
       "22712   9.615805  \n",
       "22713  10.308953  \n",
       "22714  10.126631  \n",
       "\n",
       "[22715 rows x 9 columns]"
      ]
     },
     "execution_count": 10,
     "metadata": {},
     "output_type": "execute_result"
    }
   ],
   "source": [
    "cps"
   ]
  },
  {
   "cell_type": "markdown",
   "id": "08d1556d",
   "metadata": {},
   "source": [
    "# Partial Identification"
   ]
  },
  {
   "cell_type": "code",
   "execution_count": 11,
   "id": "390f482c",
   "metadata": {},
   "outputs": [],
   "source": [
    "import setBLP"
   ]
  },
  {
   "cell_type": "code",
   "execution_count": 12,
   "id": "b603ecbe",
   "metadata": {},
   "outputs": [],
   "source": [
    "# Preparing vector and matrix versions of the data\n",
    "\n",
    "yl = cps.logwage_l;\n",
    "yu = cps.logwage_u;\n",
    "x1 = cps.age;\n",
    "x2 = cps.educ;\n",
    "x = cps[['age','educ']];"
   ]
  },
  {
   "cell_type": "markdown",
   "id": "d3ad77cd",
   "metadata": {},
   "source": [
    "## Testing"
   ]
  },
  {
   "cell_type": "code",
   "execution_count": 13,
   "id": "f1443c9c",
   "metadata": {},
   "outputs": [
    {
     "data": {
      "text/plain": [
       "[-0.004887858329797926, 0.14865963017398875]"
      ]
     },
     "execution_count": 13,
     "metadata": {},
     "output_type": "execute_result"
    }
   ],
   "source": [
    "setBLP.oneDproj(yl,yu,x1)"
   ]
  },
  {
   "cell_type": "code",
   "execution_count": 14,
   "id": "065d71d6",
   "metadata": {},
   "outputs": [
    {
     "data": {
      "text/plain": [
       "[0.001786042221938278, 0.3685793555816805]"
      ]
     },
     "execution_count": 14,
     "metadata": {},
     "output_type": "execute_result"
    }
   ],
   "source": [
    "setBLP.oneDproj(yl,yu,x2)"
   ]
  },
  {
   "cell_type": "code",
   "execution_count": 15,
   "id": "48c746d9",
   "metadata": {},
   "outputs": [
    {
     "data": {
      "text/plain": [
       "[-0.009051777215653997, 0.14432389300936818]"
      ]
     },
     "execution_count": 15,
     "metadata": {},
     "output_type": "execute_result"
    }
   ],
   "source": [
    "setBLP.oneDproj(yl,yu,x,0)"
   ]
  },
  {
   "cell_type": "code",
   "execution_count": 16,
   "id": "885b213f",
   "metadata": {},
   "outputs": [
    {
     "data": {
      "text/plain": [
       "[-0.025567837808786964, 0.3456382284304264]"
      ]
     },
     "execution_count": 16,
     "metadata": {},
     "output_type": "execute_result"
    }
   ],
   "source": [
    "setBLP.oneDproj(yl,yu,x,1)"
   ]
  },
  {
   "cell_type": "code",
   "execution_count": 17,
   "id": "659e6cf3",
   "metadata": {},
   "outputs": [
    {
     "data": {
      "text/plain": [
       "[[-0.009051777215653997, 0.14432389300936818],\n",
       " [-0.025567837808786964, 0.3456382284304264]]"
      ]
     },
     "execution_count": 17,
     "metadata": {},
     "output_type": "execute_result"
    }
   ],
   "source": [
    "setBLP.oneDproj(yl,yu,x)"
   ]
  },
  {
   "cell_type": "code",
   "execution_count": 18,
   "id": "d88fa926",
   "metadata": {},
   "outputs": [
    {
     "data": {
      "text/plain": [
       "[-0.004887858329797926, 0.14865963017398875]"
      ]
     },
     "execution_count": 18,
     "metadata": {},
     "output_type": "execute_result"
    }
   ],
   "source": [
    "setBLP.oneDproj(yl, 'logwage_u', 'age', data = cps)"
   ]
  },
  {
   "cell_type": "code",
   "execution_count": 19,
   "id": "186d149d",
   "metadata": {},
   "outputs": [
    {
     "data": {
      "text/plain": [
       "[0.001786042221938278, 0.3685793555816805]"
      ]
     },
     "execution_count": 19,
     "metadata": {},
     "output_type": "execute_result"
    }
   ],
   "source": [
    "setBLP.oneDproj(yl, yu, 'educ', data = cps)"
   ]
  },
  {
   "cell_type": "code",
   "execution_count": 20,
   "id": "6d2589fa",
   "metadata": {},
   "outputs": [
    {
     "data": {
      "text/plain": [
       "[-0.009051777215653997, 0.14432389300936818]"
      ]
     },
     "execution_count": 20,
     "metadata": {},
     "output_type": "execute_result"
    }
   ],
   "source": [
    "setBLP.oneDproj(yl, yu, ['age','educ'], 0, data = cps)"
   ]
  },
  {
   "cell_type": "code",
   "execution_count": 21,
   "id": "8421bd87",
   "metadata": {},
   "outputs": [
    {
     "data": {
      "text/plain": [
       "[-0.025567837808786964, 0.3456382284304264]"
      ]
     },
     "execution_count": 21,
     "metadata": {},
     "output_type": "execute_result"
    }
   ],
   "source": [
    "setBLP.oneDproj('logwage_l', 'logwage_u', ['age','educ'], 1, data = cps)"
   ]
  },
  {
   "cell_type": "code",
   "execution_count": 22,
   "id": "8c237cd1",
   "metadata": {},
   "outputs": [
    {
     "data": {
      "text/plain": [
       "[[-0.009051777215653997, 0.14432389300936818],\n",
       " [-0.025567837808786964, 0.3456382284304264]]"
      ]
     },
     "execution_count": 22,
     "metadata": {},
     "output_type": "execute_result"
    }
   ],
   "source": [
    "setBLP.oneDproj(yl, yu, ['age','educ'], data = cps)"
   ]
  },
  {
   "cell_type": "markdown",
   "id": "de77cf8f",
   "metadata": {},
   "source": [
    "# Testing CI1d  "
   ]
  },
  {
   "cell_type": "code",
   "execution_count": 23,
   "id": "7fde8b82",
   "metadata": {},
   "outputs": [],
   "source": [
    "H0 = [0, 0.15]"
   ]
  },
  {
   "cell_type": "code",
   "execution_count": 30,
   "id": "c9b0f148",
   "metadata": {},
   "outputs": [],
   "source": [
    "result = setBLP.CI1d(yl, yu, x1, H0)"
   ]
  },
  {
   "cell_type": "code",
   "execution_count": 31,
   "id": "9ff78c03",
   "metadata": {},
   "outputs": [
    {
     "data": {
      "text/plain": [
       "[-0.004887858329797926, 0.14865963017398875]"
      ]
     },
     "execution_count": 31,
     "metadata": {},
     "output_type": "execute_result"
    }
   ],
   "source": [
    "result.bound"
   ]
  },
  {
   "cell_type": "code",
   "execution_count": 34,
   "id": "21c06ab4",
   "metadata": {},
   "outputs": [
    {
     "data": {
      "text/plain": [
       "0.7366733861557335"
      ]
     },
     "execution_count": 34,
     "metadata": {},
     "output_type": "execute_result"
    }
   ],
   "source": [
    "result.Htest.destStat "
   ]
  },
  {
   "cell_type": "code",
   "execution_count": 35,
   "id": "b1c37ec9",
   "metadata": {},
   "outputs": [
    {
     "data": {
      "text/plain": [
       "0.7455607394764423"
      ]
     },
     "execution_count": 35,
     "metadata": {},
     "output_type": "execute_result"
    }
   ],
   "source": [
    "result.Htest.criticalVal "
   ]
  },
  {
   "cell_type": "code",
   "execution_count": 36,
   "id": "237bc3a1",
   "metadata": {},
   "outputs": [
    {
     "data": {
      "text/plain": [
       "[9.291387124570699, 10.53487842690386]"
      ]
     },
     "execution_count": 36,
     "metadata": {},
     "output_type": "execute_result"
    }
   ],
   "source": [
    "result.Htest.ConfidenceInterval"
   ]
  },
  {
   "cell_type": "code",
   "execution_count": 37,
   "id": "9cbeaa1d",
   "metadata": {},
   "outputs": [
    {
     "data": {
      "text/plain": [
       "0.2020137884130314"
      ]
     },
     "execution_count": 37,
     "metadata": {},
     "output_type": "execute_result"
    }
   ],
   "source": [
    "result.dHtest.destStat "
   ]
  },
  {
   "cell_type": "code",
   "execution_count": 38,
   "id": "eb967c79",
   "metadata": {},
   "outputs": [
    {
     "data": {
      "text/plain": [
       "0.6138535541937418"
      ]
     },
     "execution_count": 38,
     "metadata": {},
     "output_type": "execute_result"
    }
   ],
   "source": [
    "result.dHtest.criticalVal "
   ]
  },
  {
   "cell_type": "code",
   "execution_count": 39,
   "id": "6f30e91b",
   "metadata": {},
   "outputs": [
    {
     "data": {
      "text/plain": [
       "[9.292261007182418, 10.534004544292142]"
      ]
     },
     "execution_count": 39,
     "metadata": {},
     "output_type": "execute_result"
    }
   ],
   "source": [
    "result.dHtest.ConfidenceInterval"
   ]
  },
  {
   "cell_type": "markdown",
   "id": "c25b5f7c",
   "metadata": {},
   "source": [
    "# Simulations"
   ]
  },
  {
   "cell_type": "markdown",
   "id": "82453404",
   "metadata": {},
   "source": [
    "## parameter"
   ]
  },
  {
   "cell_type": "code",
   "execution_count": 25,
   "id": "f5583f20",
   "metadata": {},
   "outputs": [],
   "source": [
    "rng = np.random.MT19937(15217)\n",
    "rng = np.random.Generator(rng)\n",
    "np.random.seed(setBLP.default_options.seed)"
   ]
  },
  {
   "cell_type": "code",
   "execution_count": 26,
   "id": "58e2a0b1",
   "metadata": {},
   "outputs": [],
   "source": [
    "popSize = cps.shape[0]"
   ]
  },
  {
   "cell_type": "code",
   "execution_count": 27,
   "id": "0501d177",
   "metadata": {},
   "outputs": [],
   "source": [
    "Nobs = 100;  #size of sub sample\n",
    "Nsim = 5000; #number of simulations"
   ]
  },
  {
   "cell_type": "code",
   "execution_count": 28,
   "id": "012dffdc",
   "metadata": {},
   "outputs": [],
   "source": [
    "Nintervals = 8; #number of intervals in the survey"
   ]
  },
  {
   "cell_type": "markdown",
   "id": "08c2b9d5",
   "metadata": {},
   "source": [
    "## Using quantiles"
   ]
  },
  {
   "cell_type": "code",
   "execution_count": 29,
   "id": "1d80ffb3",
   "metadata": {},
   "outputs": [],
   "source": [
    "c = 0 \n",
    "width=0\n",
    "for i in range(Nsim):\n",
    "    indx = rng.integers(low=0, high=popSize, size=Nobs)\n",
    "    sample = cps.iloc[indx, :]\n",
    "    r = setBLP.oneDproj(sample.logwage_l,sample.logwage_u,sample.educ)\n",
    "    width += max(r)-min(r)\n",
    "    if beta1>=min(r) and beta1 <=max(r):\n",
    "        c+=1\n",
    "    \n",
    "width=width/Nsim"
   ]
  },
  {
   "cell_type": "code",
   "execution_count": 55,
   "id": "df08814f",
   "metadata": {},
   "outputs": [],
   "source": [
    "i = 0 \n",
    "indx = rng.integers(low=0, high=popSize, size=Nobs)\n",
    "sample = cps.iloc[indx, :]\n",
    "r = setBLP.oneDproj(sample.logwage_l,sample.logwage_u,sample.educ)"
   ]
  },
  {
   "cell_type": "code",
   "execution_count": 56,
   "id": "269f9880",
   "metadata": {},
   "outputs": [
    {
     "data": {
      "text/plain": [
       "[-0.14332789145653219, 0.16148943332841725]"
      ]
     },
     "execution_count": 56,
     "metadata": {},
     "output_type": "execute_result"
    }
   ],
   "source": [
    "r"
   ]
  },
  {
   "cell_type": "code",
   "execution_count": null,
   "id": "7fbb540f",
   "metadata": {},
   "outputs": [],
   "source": []
  },
  {
   "cell_type": "code",
   "execution_count": 57,
   "id": "c9d91138",
   "metadata": {},
   "outputs": [
    {
     "data": {
      "text/plain": [
       "0.9926"
      ]
     },
     "execution_count": 57,
     "metadata": {},
     "output_type": "execute_result"
    }
   ],
   "source": [
    "c/Nsim"
   ]
  },
  {
   "cell_type": "code",
   "execution_count": 58,
   "id": "10a013be",
   "metadata": {},
   "outputs": [
    {
     "data": {
      "text/plain": [
       "0.38923085100548893"
      ]
     },
     "execution_count": 58,
     "metadata": {},
     "output_type": "execute_result"
    }
   ],
   "source": [
    "width"
   ]
  },
  {
   "cell_type": "markdown",
   "id": "e33b2136",
   "metadata": {},
   "source": [
    "## Using fixed intervals, ver 1"
   ]
  },
  {
   "cell_type": "code",
   "execution_count": 59,
   "id": "47b911ae",
   "metadata": {},
   "outputs": [
    {
     "data": {
      "text/plain": [
       "array([1.00000000e+00, 4.02567778e+04, 8.05125556e+04, 1.20768333e+05,\n",
       "       1.61024111e+05, 2.01279889e+05, 2.41535667e+05, 2.81791444e+05,\n",
       "       3.22047222e+05, 3.62303000e+05])"
      ]
     },
     "execution_count": 59,
     "metadata": {},
     "output_type": "execute_result"
    }
   ],
   "source": [
    "thresholds = np.linspace(1,max(cps.wage)+1,10)\n",
    "thresholds"
   ]
  },
  {
   "cell_type": "code",
   "execution_count": 60,
   "id": "0fcf3322",
   "metadata": {},
   "outputs": [
    {
     "data": {
      "text/html": [
       "<div>\n",
       "<style scoped>\n",
       "    .dataframe tbody tr th:only-of-type {\n",
       "        vertical-align: middle;\n",
       "    }\n",
       "\n",
       "    .dataframe tbody tr th {\n",
       "        vertical-align: top;\n",
       "    }\n",
       "\n",
       "    .dataframe thead th {\n",
       "        text-align: right;\n",
       "    }\n",
       "</style>\n",
       "<table border=\"1\" class=\"dataframe\">\n",
       "  <thead>\n",
       "    <tr style=\"text-align: right;\">\n",
       "      <th></th>\n",
       "      <th>Unnamed: 0</th>\n",
       "      <th>age</th>\n",
       "      <th>wage</th>\n",
       "      <th>educ</th>\n",
       "      <th>log_wage</th>\n",
       "      <th>wage_l</th>\n",
       "      <th>wage_u</th>\n",
       "      <th>logwage_l</th>\n",
       "      <th>logwage_u</th>\n",
       "    </tr>\n",
       "  </thead>\n",
       "  <tbody>\n",
       "    <tr>\n",
       "      <th>0</th>\n",
       "      <td>0</td>\n",
       "      <td>22</td>\n",
       "      <td>12000</td>\n",
       "      <td>13</td>\n",
       "      <td>9.392662</td>\n",
       "      <td>1.000000</td>\n",
       "      <td>40256.777778</td>\n",
       "      <td>0.000000</td>\n",
       "      <td>10.603034</td>\n",
       "    </tr>\n",
       "    <tr>\n",
       "      <th>1</th>\n",
       "      <td>1</td>\n",
       "      <td>21</td>\n",
       "      <td>3500</td>\n",
       "      <td>13</td>\n",
       "      <td>8.160518</td>\n",
       "      <td>1.000000</td>\n",
       "      <td>40256.777778</td>\n",
       "      <td>0.000000</td>\n",
       "      <td>10.603034</td>\n",
       "    </tr>\n",
       "    <tr>\n",
       "      <th>2</th>\n",
       "      <td>3</td>\n",
       "      <td>49</td>\n",
       "      <td>30000</td>\n",
       "      <td>13</td>\n",
       "      <td>10.308953</td>\n",
       "      <td>1.000000</td>\n",
       "      <td>40256.777778</td>\n",
       "      <td>0.000000</td>\n",
       "      <td>10.603034</td>\n",
       "    </tr>\n",
       "    <tr>\n",
       "      <th>3</th>\n",
       "      <td>4</td>\n",
       "      <td>31</td>\n",
       "      <td>32000</td>\n",
       "      <td>16</td>\n",
       "      <td>10.373491</td>\n",
       "      <td>1.000000</td>\n",
       "      <td>40256.777778</td>\n",
       "      <td>0.000000</td>\n",
       "      <td>10.603034</td>\n",
       "    </tr>\n",
       "    <tr>\n",
       "      <th>4</th>\n",
       "      <td>5</td>\n",
       "      <td>42</td>\n",
       "      <td>89630</td>\n",
       "      <td>21</td>\n",
       "      <td>11.403445</td>\n",
       "      <td>80512.555556</td>\n",
       "      <td>120768.333333</td>\n",
       "      <td>11.296168</td>\n",
       "      <td>11.701629</td>\n",
       "    </tr>\n",
       "    <tr>\n",
       "      <th>5</th>\n",
       "      <td>6</td>\n",
       "      <td>35</td>\n",
       "      <td>229339</td>\n",
       "      <td>21</td>\n",
       "      <td>12.342957</td>\n",
       "      <td>201279.888889</td>\n",
       "      <td>241535.666667</td>\n",
       "      <td>12.212452</td>\n",
       "      <td>12.394772</td>\n",
       "    </tr>\n",
       "    <tr>\n",
       "      <th>6</th>\n",
       "      <td>7</td>\n",
       "      <td>42</td>\n",
       "      <td>39000</td>\n",
       "      <td>12</td>\n",
       "      <td>10.571317</td>\n",
       "      <td>1.000000</td>\n",
       "      <td>40256.777778</td>\n",
       "      <td>0.000000</td>\n",
       "      <td>10.603034</td>\n",
       "    </tr>\n",
       "    <tr>\n",
       "      <th>7</th>\n",
       "      <td>8</td>\n",
       "      <td>48</td>\n",
       "      <td>50000</td>\n",
       "      <td>12</td>\n",
       "      <td>10.819778</td>\n",
       "      <td>40256.777778</td>\n",
       "      <td>80512.555556</td>\n",
       "      <td>10.603034</td>\n",
       "      <td>11.296168</td>\n",
       "    </tr>\n",
       "    <tr>\n",
       "      <th>8</th>\n",
       "      <td>9</td>\n",
       "      <td>41</td>\n",
       "      <td>37500</td>\n",
       "      <td>13</td>\n",
       "      <td>10.532096</td>\n",
       "      <td>1.000000</td>\n",
       "      <td>40256.777778</td>\n",
       "      <td>0.000000</td>\n",
       "      <td>10.603034</td>\n",
       "    </tr>\n",
       "    <tr>\n",
       "      <th>9</th>\n",
       "      <td>10</td>\n",
       "      <td>41</td>\n",
       "      <td>52000</td>\n",
       "      <td>14</td>\n",
       "      <td>10.858999</td>\n",
       "      <td>40256.777778</td>\n",
       "      <td>80512.555556</td>\n",
       "      <td>10.603034</td>\n",
       "      <td>11.296168</td>\n",
       "    </tr>\n",
       "    <tr>\n",
       "      <th>10</th>\n",
       "      <td>12</td>\n",
       "      <td>46</td>\n",
       "      <td>35500</td>\n",
       "      <td>12</td>\n",
       "      <td>10.477288</td>\n",
       "      <td>1.000000</td>\n",
       "      <td>40256.777778</td>\n",
       "      <td>0.000000</td>\n",
       "      <td>10.603034</td>\n",
       "    </tr>\n",
       "    <tr>\n",
       "      <th>11</th>\n",
       "      <td>13</td>\n",
       "      <td>22</td>\n",
       "      <td>2500</td>\n",
       "      <td>13</td>\n",
       "      <td>7.824046</td>\n",
       "      <td>1.000000</td>\n",
       "      <td>40256.777778</td>\n",
       "      <td>0.000000</td>\n",
       "      <td>10.603034</td>\n",
       "    </tr>\n",
       "    <tr>\n",
       "      <th>12</th>\n",
       "      <td>14</td>\n",
       "      <td>45</td>\n",
       "      <td>46000</td>\n",
       "      <td>14</td>\n",
       "      <td>10.736397</td>\n",
       "      <td>40256.777778</td>\n",
       "      <td>80512.555556</td>\n",
       "      <td>10.603034</td>\n",
       "      <td>11.296168</td>\n",
       "    </tr>\n",
       "    <tr>\n",
       "      <th>13</th>\n",
       "      <td>15</td>\n",
       "      <td>20</td>\n",
       "      <td>4996</td>\n",
       "      <td>13</td>\n",
       "      <td>8.516393</td>\n",
       "      <td>1.000000</td>\n",
       "      <td>40256.777778</td>\n",
       "      <td>0.000000</td>\n",
       "      <td>10.603034</td>\n",
       "    </tr>\n",
       "    <tr>\n",
       "      <th>14</th>\n",
       "      <td>16</td>\n",
       "      <td>36</td>\n",
       "      <td>229339</td>\n",
       "      <td>16</td>\n",
       "      <td>12.342957</td>\n",
       "      <td>201279.888889</td>\n",
       "      <td>241535.666667</td>\n",
       "      <td>12.212452</td>\n",
       "      <td>12.394772</td>\n",
       "    </tr>\n",
       "  </tbody>\n",
       "</table>\n",
       "</div>"
      ],
      "text/plain": [
       "    Unnamed: 0  age    wage  educ   log_wage         wage_l         wage_u  \\\n",
       "0            0   22   12000    13   9.392662       1.000000   40256.777778   \n",
       "1            1   21    3500    13   8.160518       1.000000   40256.777778   \n",
       "2            3   49   30000    13  10.308953       1.000000   40256.777778   \n",
       "3            4   31   32000    16  10.373491       1.000000   40256.777778   \n",
       "4            5   42   89630    21  11.403445   80512.555556  120768.333333   \n",
       "5            6   35  229339    21  12.342957  201279.888889  241535.666667   \n",
       "6            7   42   39000    12  10.571317       1.000000   40256.777778   \n",
       "7            8   48   50000    12  10.819778   40256.777778   80512.555556   \n",
       "8            9   41   37500    13  10.532096       1.000000   40256.777778   \n",
       "9           10   41   52000    14  10.858999   40256.777778   80512.555556   \n",
       "10          12   46   35500    12  10.477288       1.000000   40256.777778   \n",
       "11          13   22    2500    13   7.824046       1.000000   40256.777778   \n",
       "12          14   45   46000    14  10.736397   40256.777778   80512.555556   \n",
       "13          15   20    4996    13   8.516393       1.000000   40256.777778   \n",
       "14          16   36  229339    16  12.342957  201279.888889  241535.666667   \n",
       "\n",
       "    logwage_l  logwage_u  \n",
       "0    0.000000  10.603034  \n",
       "1    0.000000  10.603034  \n",
       "2    0.000000  10.603034  \n",
       "3    0.000000  10.603034  \n",
       "4   11.296168  11.701629  \n",
       "5   12.212452  12.394772  \n",
       "6    0.000000  10.603034  \n",
       "7   10.603034  11.296168  \n",
       "8    0.000000  10.603034  \n",
       "9   10.603034  11.296168  \n",
       "10   0.000000  10.603034  \n",
       "11   0.000000  10.603034  \n",
       "12  10.603034  11.296168  \n",
       "13   0.000000  10.603034  \n",
       "14  12.212452  12.394772  "
      ]
     },
     "execution_count": 60,
     "metadata": {},
     "output_type": "execute_result"
    }
   ],
   "source": [
    "interval_cps = createIntervalData(cps, 'wage', thresholds)\n",
    "interval_cps.head(15)"
   ]
  },
  {
   "cell_type": "code",
   "execution_count": 61,
   "id": "7f81d0e1",
   "metadata": {},
   "outputs": [],
   "source": [
    "c = 0 \n",
    "width =0\n",
    "for i in range(Nsim):\n",
    "    indx = rng.integers(low=0, high=popSize, size=Nobs)\n",
    "    sample = interval_cps.iloc[indx, :]\n",
    "    r = setBLP.oneDproj(sample.logwage_l,sample.logwage_u,sample.educ)\n",
    "    width+=max(r)-min(r)\n",
    "    if beta1>=min(r) and beta1 <=max(r):\n",
    "        c+=1\n",
    "width=width/Nsim"
   ]
  },
  {
   "cell_type": "code",
   "execution_count": 62,
   "id": "b8d16ac3",
   "metadata": {},
   "outputs": [
    {
     "data": {
      "text/plain": [
       "1.0"
      ]
     },
     "execution_count": 62,
     "metadata": {},
     "output_type": "execute_result"
    }
   ],
   "source": [
    "c/Nsim"
   ]
  },
  {
   "cell_type": "code",
   "execution_count": 63,
   "id": "e1d4cc2b",
   "metadata": {},
   "outputs": [
    {
     "data": {
      "text/plain": [
       "2.260491454846311"
      ]
     },
     "execution_count": 63,
     "metadata": {},
     "output_type": "execute_result"
    }
   ],
   "source": [
    "width"
   ]
  },
  {
   "cell_type": "markdown",
   "id": "ffbd4fa0",
   "metadata": {},
   "source": [
    "## Using fixed intervals, ver 2"
   ]
  },
  {
   "cell_type": "code",
   "execution_count": 64,
   "id": "40619d8d",
   "metadata": {},
   "outputs": [
    {
     "data": {
      "text/plain": [
       "362302"
      ]
     },
     "execution_count": 64,
     "metadata": {},
     "output_type": "execute_result"
    }
   ],
   "source": [
    "max(cps.wage)"
   ]
  },
  {
   "cell_type": "code",
   "execution_count": 65,
   "id": "c2ccce88",
   "metadata": {},
   "outputs": [],
   "source": [
    "thresholds = np.array([0, 10, 20, 40, 75, 100, 200, 300, 500 ])*1000\n",
    "thresholds[0] =1"
   ]
  },
  {
   "cell_type": "code",
   "execution_count": 66,
   "id": "fdec1fae",
   "metadata": {},
   "outputs": [
    {
     "data": {
      "text/html": [
       "<div>\n",
       "<style scoped>\n",
       "    .dataframe tbody tr th:only-of-type {\n",
       "        vertical-align: middle;\n",
       "    }\n",
       "\n",
       "    .dataframe tbody tr th {\n",
       "        vertical-align: top;\n",
       "    }\n",
       "\n",
       "    .dataframe thead th {\n",
       "        text-align: right;\n",
       "    }\n",
       "</style>\n",
       "<table border=\"1\" class=\"dataframe\">\n",
       "  <thead>\n",
       "    <tr style=\"text-align: right;\">\n",
       "      <th></th>\n",
       "      <th>Unnamed: 0</th>\n",
       "      <th>age</th>\n",
       "      <th>wage</th>\n",
       "      <th>educ</th>\n",
       "      <th>log_wage</th>\n",
       "      <th>wage_l</th>\n",
       "      <th>wage_u</th>\n",
       "      <th>logwage_l</th>\n",
       "      <th>logwage_u</th>\n",
       "    </tr>\n",
       "  </thead>\n",
       "  <tbody>\n",
       "    <tr>\n",
       "      <th>0</th>\n",
       "      <td>0</td>\n",
       "      <td>22</td>\n",
       "      <td>12000</td>\n",
       "      <td>13</td>\n",
       "      <td>9.392662</td>\n",
       "      <td>10000</td>\n",
       "      <td>20000</td>\n",
       "      <td>9.210340</td>\n",
       "      <td>9.903488</td>\n",
       "    </tr>\n",
       "    <tr>\n",
       "      <th>1</th>\n",
       "      <td>1</td>\n",
       "      <td>21</td>\n",
       "      <td>3500</td>\n",
       "      <td>13</td>\n",
       "      <td>8.160518</td>\n",
       "      <td>1</td>\n",
       "      <td>10000</td>\n",
       "      <td>0.000000</td>\n",
       "      <td>9.210340</td>\n",
       "    </tr>\n",
       "    <tr>\n",
       "      <th>2</th>\n",
       "      <td>3</td>\n",
       "      <td>49</td>\n",
       "      <td>30000</td>\n",
       "      <td>13</td>\n",
       "      <td>10.308953</td>\n",
       "      <td>20000</td>\n",
       "      <td>40000</td>\n",
       "      <td>9.903488</td>\n",
       "      <td>10.596635</td>\n",
       "    </tr>\n",
       "    <tr>\n",
       "      <th>3</th>\n",
       "      <td>4</td>\n",
       "      <td>31</td>\n",
       "      <td>32000</td>\n",
       "      <td>16</td>\n",
       "      <td>10.373491</td>\n",
       "      <td>20000</td>\n",
       "      <td>40000</td>\n",
       "      <td>9.903488</td>\n",
       "      <td>10.596635</td>\n",
       "    </tr>\n",
       "    <tr>\n",
       "      <th>4</th>\n",
       "      <td>5</td>\n",
       "      <td>42</td>\n",
       "      <td>89630</td>\n",
       "      <td>21</td>\n",
       "      <td>11.403445</td>\n",
       "      <td>75000</td>\n",
       "      <td>100000</td>\n",
       "      <td>11.225243</td>\n",
       "      <td>11.512925</td>\n",
       "    </tr>\n",
       "    <tr>\n",
       "      <th>5</th>\n",
       "      <td>6</td>\n",
       "      <td>35</td>\n",
       "      <td>229339</td>\n",
       "      <td>21</td>\n",
       "      <td>12.342957</td>\n",
       "      <td>200000</td>\n",
       "      <td>300000</td>\n",
       "      <td>12.206073</td>\n",
       "      <td>12.611538</td>\n",
       "    </tr>\n",
       "    <tr>\n",
       "      <th>6</th>\n",
       "      <td>7</td>\n",
       "      <td>42</td>\n",
       "      <td>39000</td>\n",
       "      <td>12</td>\n",
       "      <td>10.571317</td>\n",
       "      <td>20000</td>\n",
       "      <td>40000</td>\n",
       "      <td>9.903488</td>\n",
       "      <td>10.596635</td>\n",
       "    </tr>\n",
       "    <tr>\n",
       "      <th>7</th>\n",
       "      <td>8</td>\n",
       "      <td>48</td>\n",
       "      <td>50000</td>\n",
       "      <td>12</td>\n",
       "      <td>10.819778</td>\n",
       "      <td>40000</td>\n",
       "      <td>75000</td>\n",
       "      <td>10.596635</td>\n",
       "      <td>11.225243</td>\n",
       "    </tr>\n",
       "    <tr>\n",
       "      <th>8</th>\n",
       "      <td>9</td>\n",
       "      <td>41</td>\n",
       "      <td>37500</td>\n",
       "      <td>13</td>\n",
       "      <td>10.532096</td>\n",
       "      <td>20000</td>\n",
       "      <td>40000</td>\n",
       "      <td>9.903488</td>\n",
       "      <td>10.596635</td>\n",
       "    </tr>\n",
       "    <tr>\n",
       "      <th>9</th>\n",
       "      <td>10</td>\n",
       "      <td>41</td>\n",
       "      <td>52000</td>\n",
       "      <td>14</td>\n",
       "      <td>10.858999</td>\n",
       "      <td>40000</td>\n",
       "      <td>75000</td>\n",
       "      <td>10.596635</td>\n",
       "      <td>11.225243</td>\n",
       "    </tr>\n",
       "    <tr>\n",
       "      <th>10</th>\n",
       "      <td>12</td>\n",
       "      <td>46</td>\n",
       "      <td>35500</td>\n",
       "      <td>12</td>\n",
       "      <td>10.477288</td>\n",
       "      <td>20000</td>\n",
       "      <td>40000</td>\n",
       "      <td>9.903488</td>\n",
       "      <td>10.596635</td>\n",
       "    </tr>\n",
       "    <tr>\n",
       "      <th>11</th>\n",
       "      <td>13</td>\n",
       "      <td>22</td>\n",
       "      <td>2500</td>\n",
       "      <td>13</td>\n",
       "      <td>7.824046</td>\n",
       "      <td>1</td>\n",
       "      <td>10000</td>\n",
       "      <td>0.000000</td>\n",
       "      <td>9.210340</td>\n",
       "    </tr>\n",
       "    <tr>\n",
       "      <th>12</th>\n",
       "      <td>14</td>\n",
       "      <td>45</td>\n",
       "      <td>46000</td>\n",
       "      <td>14</td>\n",
       "      <td>10.736397</td>\n",
       "      <td>40000</td>\n",
       "      <td>75000</td>\n",
       "      <td>10.596635</td>\n",
       "      <td>11.225243</td>\n",
       "    </tr>\n",
       "    <tr>\n",
       "      <th>13</th>\n",
       "      <td>15</td>\n",
       "      <td>20</td>\n",
       "      <td>4996</td>\n",
       "      <td>13</td>\n",
       "      <td>8.516393</td>\n",
       "      <td>1</td>\n",
       "      <td>10000</td>\n",
       "      <td>0.000000</td>\n",
       "      <td>9.210340</td>\n",
       "    </tr>\n",
       "    <tr>\n",
       "      <th>14</th>\n",
       "      <td>16</td>\n",
       "      <td>36</td>\n",
       "      <td>229339</td>\n",
       "      <td>16</td>\n",
       "      <td>12.342957</td>\n",
       "      <td>200000</td>\n",
       "      <td>300000</td>\n",
       "      <td>12.206073</td>\n",
       "      <td>12.611538</td>\n",
       "    </tr>\n",
       "  </tbody>\n",
       "</table>\n",
       "</div>"
      ],
      "text/plain": [
       "    Unnamed: 0  age    wage  educ   log_wage  wage_l  wage_u  logwage_l  \\\n",
       "0            0   22   12000    13   9.392662   10000   20000   9.210340   \n",
       "1            1   21    3500    13   8.160518       1   10000   0.000000   \n",
       "2            3   49   30000    13  10.308953   20000   40000   9.903488   \n",
       "3            4   31   32000    16  10.373491   20000   40000   9.903488   \n",
       "4            5   42   89630    21  11.403445   75000  100000  11.225243   \n",
       "5            6   35  229339    21  12.342957  200000  300000  12.206073   \n",
       "6            7   42   39000    12  10.571317   20000   40000   9.903488   \n",
       "7            8   48   50000    12  10.819778   40000   75000  10.596635   \n",
       "8            9   41   37500    13  10.532096   20000   40000   9.903488   \n",
       "9           10   41   52000    14  10.858999   40000   75000  10.596635   \n",
       "10          12   46   35500    12  10.477288   20000   40000   9.903488   \n",
       "11          13   22    2500    13   7.824046       1   10000   0.000000   \n",
       "12          14   45   46000    14  10.736397   40000   75000  10.596635   \n",
       "13          15   20    4996    13   8.516393       1   10000   0.000000   \n",
       "14          16   36  229339    16  12.342957  200000  300000  12.206073   \n",
       "\n",
       "    logwage_u  \n",
       "0    9.903488  \n",
       "1    9.210340  \n",
       "2   10.596635  \n",
       "3   10.596635  \n",
       "4   11.512925  \n",
       "5   12.611538  \n",
       "6   10.596635  \n",
       "7   11.225243  \n",
       "8   10.596635  \n",
       "9   11.225243  \n",
       "10  10.596635  \n",
       "11   9.210340  \n",
       "12  11.225243  \n",
       "13   9.210340  \n",
       "14  12.611538  "
      ]
     },
     "execution_count": 66,
     "metadata": {},
     "output_type": "execute_result"
    }
   ],
   "source": [
    "interval_cps = createIntervalData(cps, 'wage', thresholds)\n",
    "interval_cps.head(15)"
   ]
  },
  {
   "cell_type": "code",
   "execution_count": null,
   "id": "96351e37",
   "metadata": {},
   "outputs": [],
   "source": [
    "c = 0 \n",
    "width =0\n",
    "for i in range(Nsim):\n",
    "    indx = rng.integers(low=0, high=popSize, size=Nobs)\n",
    "    sample = interval_cps.iloc[indx, :]\n",
    "    r = setBLP.oneDproj(sample.logwage_l,sample.logwage_u,sample.educ)\n",
    "    width+=max(r)-min(r)\n",
    "    if beta1>=min(r) and beta1 <=max(r):\n",
    "        c+=1\n",
    "        \n",
    "width=width/Nsim"
   ]
  },
  {
   "cell_type": "code",
   "execution_count": null,
   "id": "fe58078c",
   "metadata": {},
   "outputs": [],
   "source": [
    "c/Nsim"
   ]
  },
  {
   "cell_type": "code",
   "execution_count": null,
   "id": "3e5d1c50",
   "metadata": {},
   "outputs": [],
   "source": [
    "width"
   ]
  },
  {
   "cell_type": "markdown",
   "id": "a4d060b2",
   "metadata": {},
   "source": [
    "### Conclusion:  \n",
    "The id interval is so wide that there is no chance that true $\\beta_1$ is not in the computed identification set."
   ]
  },
  {
   "cell_type": "markdown",
   "id": "d29f9c35",
   "metadata": {},
   "source": [
    "(age, wage) pair"
   ]
  },
  {
   "cell_type": "code",
   "execution_count": null,
   "id": "e761e27c",
   "metadata": {},
   "outputs": [],
   "source": []
  },
  {
   "cell_type": "code",
   "execution_count": null,
   "id": "55eb4a08",
   "metadata": {},
   "outputs": [],
   "source": []
  },
  {
   "cell_type": "code",
   "execution_count": null,
   "id": "6a907795",
   "metadata": {},
   "outputs": [],
   "source": []
  },
  {
   "cell_type": "code",
   "execution_count": null,
   "id": "a816bd0d",
   "metadata": {},
   "outputs": [],
   "source": []
  }
 ],
 "metadata": {
  "kernelspec": {
   "display_name": "Python 3 (ipykernel)",
   "language": "python",
   "name": "python3"
  },
  "language_info": {
   "codemirror_mode": {
    "name": "ipython",
    "version": 3
   },
   "file_extension": ".py",
   "mimetype": "text/x-python",
   "name": "python",
   "nbconvert_exporter": "python",
   "pygments_lexer": "ipython3",
   "version": "3.8.12"
  }
 },
 "nbformat": 4,
 "nbformat_minor": 5
}
