{
 "cells": [
  {
   "cell_type": "code",
   "execution_count": 1,
   "id": "04ece091",
   "metadata": {},
   "outputs": [],
   "source": [
    "import pandas as pd\n",
    "import numpy as np\n",
    "import statsmodels.formula.api as smf\n",
    "import statsmodels.api as sm"
   ]
  },
  {
   "cell_type": "markdown",
   "id": "e4f27db1",
   "metadata": {},
   "source": [
    "# Uploading CPS data"
   ]
  },
  {
   "cell_type": "code",
   "execution_count": 2,
   "id": "b0bc0089",
   "metadata": {},
   "outputs": [],
   "source": [
    "cps = pd.read_csv('cps.csv')"
   ]
  },
  {
   "cell_type": "markdown",
   "id": "fa0d5fd1",
   "metadata": {},
   "source": [
    "# Best Linear Predictor"
   ]
  },
  {
   "cell_type": "code",
   "execution_count": 3,
   "id": "d493dac9",
   "metadata": {
    "scrolled": true
   },
   "outputs": [
    {
     "name": "stdout",
     "output_type": "stream",
     "text": [
      "                            OLS Regression Results                            \n",
      "==============================================================================\n",
      "Dep. Variable:               log_wage   R-squared:                       0.092\n",
      "Model:                            OLS   Adj. R-squared:                  0.092\n",
      "Method:                 Least Squares   F-statistic:                     2441.\n",
      "Date:                Mon, 25 Sep 2023   Prob (F-statistic):               0.00\n",
      "Time:                        12:10:17   Log-Likelihood:                -29890.\n",
      "No. Observations:               22715   AIC:                         5.978e+04\n",
      "Df Residuals:                   22713   BIC:                         5.980e+04\n",
      "Df Model:                           1                                         \n",
      "Covariance Type:                  HC1                                         \n",
      "==============================================================================\n",
      "                 coef    std err          z      P>|z|      [0.025      0.975]\n",
      "------------------------------------------------------------------------------\n",
      "Intercept      8.5711      0.034    254.650      0.000       8.505       8.637\n",
      "educ           0.1249      0.003     49.403      0.000       0.120       0.130\n",
      "==============================================================================\n",
      "Omnibus:                     8105.723   Durbin-Watson:                   1.889\n",
      "Prob(Omnibus):                  0.000   Jarque-Bera (JB):            48342.534\n",
      "Skew:                          -1.597   Prob(JB):                         0.00\n",
      "Kurtosis:                       9.394   Cond. No.                         76.9\n",
      "==============================================================================\n",
      "\n",
      "Notes:\n",
      "[1] Standard Errors are heteroscedasticity robust (HC1)\n"
     ]
    }
   ],
   "source": [
    "ols1 = smf.ols(formula='log_wage ~ educ',data=cps).fit(cov_type='HC1')\n",
    "\n",
    "print(ols1.summary())"
   ]
  },
  {
   "cell_type": "code",
   "execution_count": 4,
   "id": "2e244a79",
   "metadata": {},
   "outputs": [],
   "source": [
    "beta1 = ols1._results.params[1]"
   ]
  },
  {
   "cell_type": "code",
   "execution_count": 5,
   "id": "b0ea07e1",
   "metadata": {
    "scrolled": true
   },
   "outputs": [
    {
     "name": "stdout",
     "output_type": "stream",
     "text": [
      "                            OLS Regression Results                            \n",
      "==============================================================================\n",
      "Dep. Variable:               log_wage   R-squared:                       0.209\n",
      "Model:                            OLS   Adj. R-squared:                  0.209\n",
      "Method:                 Least Squares   F-statistic:                     2684.\n",
      "Date:                Mon, 25 Sep 2023   Prob (F-statistic):               0.00\n",
      "Time:                        12:10:17   Log-Likelihood:                -28323.\n",
      "No. Observations:               22715   AIC:                         5.665e+04\n",
      "Df Residuals:                   22712   BIC:                         5.668e+04\n",
      "Df Model:                           2                                         \n",
      "Covariance Type:                  HC1                                         \n",
      "==============================================================================\n",
      "                 coef    std err          z      P>|z|      [0.025      0.975]\n",
      "------------------------------------------------------------------------------\n",
      "Intercept      7.4145      0.039    187.891      0.000       7.337       7.492\n",
      "educ           0.1109      0.002     45.926      0.000       0.106       0.116\n",
      "age            0.0377      0.001     52.950      0.000       0.036       0.039\n",
      "==============================================================================\n",
      "Omnibus:                     9245.542   Durbin-Watson:                   1.884\n",
      "Prob(Omnibus):                  0.000   Jarque-Bera (JB):            76076.119\n",
      "Skew:                          -1.747   Prob(JB):                         0.00\n",
      "Kurtosis:                      11.257   Cond. No.                         263.\n",
      "==============================================================================\n",
      "\n",
      "Notes:\n",
      "[1] Standard Errors are heteroscedasticity robust (HC1)\n"
     ]
    }
   ],
   "source": [
    "ols2 = smf.ols(formula='log_wage ~ educ+age',data=cps).fit(cov_type='HC1')\n",
    "\n",
    "print(ols2.summary())"
   ]
  },
  {
   "cell_type": "code",
   "execution_count": 6,
   "id": "9ccaebe8",
   "metadata": {},
   "outputs": [],
   "source": [
    "beta2_0 = ols2._results.params[0]\n",
    "beta2_1 = ols2._results.params[1]\n",
    "beta2_2 = ols2._results.params[2]"
   ]
  },
  {
   "cell_type": "markdown",
   "id": "5e5545bf",
   "metadata": {},
   "source": [
    "# Creating Interval Data"
   ]
  },
  {
   "cell_type": "code",
   "execution_count": 7,
   "id": "c722613d",
   "metadata": {},
   "outputs": [],
   "source": [
    "# def createIntervalData(df, Y, thresholds):\n",
    "#     # The function accepts a dataframe, df, and make interval data from the Y (string) variable. \n",
    "#     # It adds to the dataframe the lower and upper values for Y (based on the thresholds) and the covariates.\n",
    "    \n",
    "#     thresholds = np.array(thresholds)\n",
    "\n",
    "#     idx = [sum(t <= y for t in thresholds)-1 for y in df[Y]]\n",
    "#     df[Y+'_l'] = thresholds[idx]\n",
    "#     df[Y+'_u'] = thresholds[np.array(idx)+1]\n",
    "    \n",
    "#     df['log'+Y+'_l']= np.log(df[Y+'_l'])\n",
    "#     df['log'+Y+'_u']= np.log(df[Y+'_u'])\n",
    "    \n",
    "#     return df"
   ]
  },
  {
   "cell_type": "code",
   "execution_count": 8,
   "id": "4661e8be",
   "metadata": {},
   "outputs": [],
   "source": [
    "# wage_quantiles = np.array(cps['wage'].quantile([0.0, 0.1,0.2,0.3,0.4,0.5,0.6,0.7,0.8,0.9,1.0]))\n",
    "# wage_quantiles[-1]+=1\n",
    "# logwage_quantiles = np.log(wage_quantiles)\n",
    "\n",
    "# cps['wage_qt'] = np.floor(cps['wage'].rank(method = 'max', pct=True)*10).astype(int).replace({10:9})\n",
    "# cps['wage_lower'] = wage_quantiles[cps['wage_qt']]\n",
    "# cps['wage_upper'] = wage_quantiles[cps['wage_qt']+1]\n",
    "\n",
    "# cps['logwage_lower'] = logwage_quantiles[cps['wage_qt']]\n",
    "# cps['logwage_upper'] = logwage_quantiles[cps['wage_qt']+1]"
   ]
  },
  {
   "cell_type": "code",
   "execution_count": 9,
   "id": "a69378bc",
   "metadata": {},
   "outputs": [],
   "source": [
    "# wage_quantiles = np.array(cps['wage'].quantile(np.linspace(0,1,11)))\n",
    "# wage_quantiles[-1]+=1\n",
    "# cps = createIntervalData(cps, 'wage', wage_quantiles)"
   ]
  },
  {
   "cell_type": "code",
   "execution_count": 10,
   "id": "f6404b7d",
   "metadata": {},
   "outputs": [
    {
     "data": {
      "text/html": [
       "<div>\n",
       "<style scoped>\n",
       "    .dataframe tbody tr th:only-of-type {\n",
       "        vertical-align: middle;\n",
       "    }\n",
       "\n",
       "    .dataframe tbody tr th {\n",
       "        vertical-align: top;\n",
       "    }\n",
       "\n",
       "    .dataframe thead th {\n",
       "        text-align: right;\n",
       "    }\n",
       "</style>\n",
       "<table border=\"1\" class=\"dataframe\">\n",
       "  <thead>\n",
       "    <tr style=\"text-align: right;\">\n",
       "      <th></th>\n",
       "      <th>Unnamed: 0.1</th>\n",
       "      <th>Unnamed: 0</th>\n",
       "      <th>age</th>\n",
       "      <th>wage</th>\n",
       "      <th>educ</th>\n",
       "      <th>log_wage</th>\n",
       "      <th>wage_l</th>\n",
       "      <th>wage_u</th>\n",
       "      <th>logwage_l</th>\n",
       "      <th>logwage_u</th>\n",
       "    </tr>\n",
       "  </thead>\n",
       "  <tbody>\n",
       "    <tr>\n",
       "      <th>0</th>\n",
       "      <td>0</td>\n",
       "      <td>0</td>\n",
       "      <td>22</td>\n",
       "      <td>12000</td>\n",
       "      <td>13</td>\n",
       "      <td>9.392662</td>\n",
       "      <td>9000.0</td>\n",
       "      <td>15000.0</td>\n",
       "      <td>9.104980</td>\n",
       "      <td>9.615805</td>\n",
       "    </tr>\n",
       "    <tr>\n",
       "      <th>1</th>\n",
       "      <td>1</td>\n",
       "      <td>1</td>\n",
       "      <td>21</td>\n",
       "      <td>3500</td>\n",
       "      <td>13</td>\n",
       "      <td>8.160518</td>\n",
       "      <td>1.0</td>\n",
       "      <td>9000.0</td>\n",
       "      <td>0.000000</td>\n",
       "      <td>9.104980</td>\n",
       "    </tr>\n",
       "    <tr>\n",
       "      <th>2</th>\n",
       "      <td>2</td>\n",
       "      <td>3</td>\n",
       "      <td>49</td>\n",
       "      <td>30000</td>\n",
       "      <td>13</td>\n",
       "      <td>10.308953</td>\n",
       "      <td>30000.0</td>\n",
       "      <td>36000.0</td>\n",
       "      <td>10.308953</td>\n",
       "      <td>10.491274</td>\n",
       "    </tr>\n",
       "    <tr>\n",
       "      <th>3</th>\n",
       "      <td>3</td>\n",
       "      <td>4</td>\n",
       "      <td>31</td>\n",
       "      <td>32000</td>\n",
       "      <td>16</td>\n",
       "      <td>10.373491</td>\n",
       "      <td>30000.0</td>\n",
       "      <td>36000.0</td>\n",
       "      <td>10.308953</td>\n",
       "      <td>10.491274</td>\n",
       "    </tr>\n",
       "    <tr>\n",
       "      <th>4</th>\n",
       "      <td>4</td>\n",
       "      <td>5</td>\n",
       "      <td>42</td>\n",
       "      <td>89630</td>\n",
       "      <td>21</td>\n",
       "      <td>11.403445</td>\n",
       "      <td>71000.0</td>\n",
       "      <td>362303.0</td>\n",
       "      <td>11.170435</td>\n",
       "      <td>12.800236</td>\n",
       "    </tr>\n",
       "    <tr>\n",
       "      <th>...</th>\n",
       "      <td>...</td>\n",
       "      <td>...</td>\n",
       "      <td>...</td>\n",
       "      <td>...</td>\n",
       "      <td>...</td>\n",
       "      <td>...</td>\n",
       "      <td>...</td>\n",
       "      <td>...</td>\n",
       "      <td>...</td>\n",
       "      <td>...</td>\n",
       "    </tr>\n",
       "    <tr>\n",
       "      <th>22710</th>\n",
       "      <td>22710</td>\n",
       "      <td>26111</td>\n",
       "      <td>37</td>\n",
       "      <td>32000</td>\n",
       "      <td>14</td>\n",
       "      <td>10.373491</td>\n",
       "      <td>30000.0</td>\n",
       "      <td>36000.0</td>\n",
       "      <td>10.308953</td>\n",
       "      <td>10.491274</td>\n",
       "    </tr>\n",
       "    <tr>\n",
       "      <th>22711</th>\n",
       "      <td>22711</td>\n",
       "      <td>26112</td>\n",
       "      <td>50</td>\n",
       "      <td>56000</td>\n",
       "      <td>12</td>\n",
       "      <td>10.933107</td>\n",
       "      <td>53000.0</td>\n",
       "      <td>71000.0</td>\n",
       "      <td>10.878047</td>\n",
       "      <td>11.170435</td>\n",
       "    </tr>\n",
       "    <tr>\n",
       "      <th>22712</th>\n",
       "      <td>22712</td>\n",
       "      <td>26113</td>\n",
       "      <td>24</td>\n",
       "      <td>9000</td>\n",
       "      <td>12</td>\n",
       "      <td>9.104980</td>\n",
       "      <td>9000.0</td>\n",
       "      <td>15000.0</td>\n",
       "      <td>9.104980</td>\n",
       "      <td>9.615805</td>\n",
       "    </tr>\n",
       "    <tr>\n",
       "      <th>22713</th>\n",
       "      <td>22713</td>\n",
       "      <td>26114</td>\n",
       "      <td>49</td>\n",
       "      <td>29000</td>\n",
       "      <td>12</td>\n",
       "      <td>10.275051</td>\n",
       "      <td>25000.0</td>\n",
       "      <td>30000.0</td>\n",
       "      <td>10.126631</td>\n",
       "      <td>10.308953</td>\n",
       "    </tr>\n",
       "    <tr>\n",
       "      <th>22714</th>\n",
       "      <td>22714</td>\n",
       "      <td>26116</td>\n",
       "      <td>35</td>\n",
       "      <td>24000</td>\n",
       "      <td>14</td>\n",
       "      <td>10.085809</td>\n",
       "      <td>20000.0</td>\n",
       "      <td>25000.0</td>\n",
       "      <td>9.903488</td>\n",
       "      <td>10.126631</td>\n",
       "    </tr>\n",
       "  </tbody>\n",
       "</table>\n",
       "<p>22715 rows × 10 columns</p>\n",
       "</div>"
      ],
      "text/plain": [
       "       Unnamed: 0.1  Unnamed: 0  age   wage  educ   log_wage   wage_l  \\\n",
       "0                 0           0   22  12000    13   9.392662   9000.0   \n",
       "1                 1           1   21   3500    13   8.160518      1.0   \n",
       "2                 2           3   49  30000    13  10.308953  30000.0   \n",
       "3                 3           4   31  32000    16  10.373491  30000.0   \n",
       "4                 4           5   42  89630    21  11.403445  71000.0   \n",
       "...             ...         ...  ...    ...   ...        ...      ...   \n",
       "22710         22710       26111   37  32000    14  10.373491  30000.0   \n",
       "22711         22711       26112   50  56000    12  10.933107  53000.0   \n",
       "22712         22712       26113   24   9000    12   9.104980   9000.0   \n",
       "22713         22713       26114   49  29000    12  10.275051  25000.0   \n",
       "22714         22714       26116   35  24000    14  10.085809  20000.0   \n",
       "\n",
       "         wage_u  logwage_l  logwage_u  \n",
       "0       15000.0   9.104980   9.615805  \n",
       "1        9000.0   0.000000   9.104980  \n",
       "2       36000.0  10.308953  10.491274  \n",
       "3       36000.0  10.308953  10.491274  \n",
       "4      362303.0  11.170435  12.800236  \n",
       "...         ...        ...        ...  \n",
       "22710   36000.0  10.308953  10.491274  \n",
       "22711   71000.0  10.878047  11.170435  \n",
       "22712   15000.0   9.104980   9.615805  \n",
       "22713   30000.0  10.126631  10.308953  \n",
       "22714   25000.0   9.903488  10.126631  \n",
       "\n",
       "[22715 rows x 10 columns]"
      ]
     },
     "execution_count": 10,
     "metadata": {},
     "output_type": "execute_result"
    }
   ],
   "source": [
    "cps"
   ]
  },
  {
   "cell_type": "code",
   "execution_count": 11,
   "id": "c9b5850a",
   "metadata": {},
   "outputs": [],
   "source": [
    "# cps.to_csv(\"cps.csv\")"
   ]
  },
  {
   "cell_type": "markdown",
   "id": "08d1556d",
   "metadata": {},
   "source": [
    "# Partial Identification"
   ]
  },
  {
   "cell_type": "code",
   "execution_count": 12,
   "id": "390f482c",
   "metadata": {},
   "outputs": [],
   "source": [
    "import setBLP"
   ]
  },
  {
   "cell_type": "code",
   "execution_count": 13,
   "id": "b603ecbe",
   "metadata": {},
   "outputs": [],
   "source": [
    "# Preparing vector and matrix versions of the data\n",
    "\n",
    "yl = cps.logwage_l;\n",
    "yu = cps.logwage_u;\n",
    "x1 = cps.age;\n",
    "x2 = cps.educ;\n",
    "x = cps[['age','educ']];"
   ]
  },
  {
   "cell_type": "markdown",
   "id": "d3ad77cd",
   "metadata": {},
   "source": [
    "## Testing"
   ]
  },
  {
   "cell_type": "code",
   "execution_count": 14,
   "id": "f1443c9c",
   "metadata": {},
   "outputs": [],
   "source": [
    "r1=setBLP.oneDproj(yl,yu,x1)"
   ]
  },
  {
   "cell_type": "code",
   "execution_count": 15,
   "id": "7179939e",
   "metadata": {},
   "outputs": [
    {
     "data": {
      "text/plain": [
       "{'bound': [-0.004887858329798024, 0.14865963017399167],\n",
       " 'Htest': <setBLP.TestResults at 0x150d1bfd0>,\n",
       " 'dHtest': <setBLP.TestResults at 0x150d36a50>}"
      ]
     },
     "execution_count": 15,
     "metadata": {},
     "output_type": "execute_result"
    }
   ],
   "source": [
    "vars(r1)"
   ]
  },
  {
   "cell_type": "code",
   "execution_count": 16,
   "id": "5bef481f",
   "metadata": {
    "scrolled": true
   },
   "outputs": [
    {
     "data": {
      "text/plain": [
       "{'TestStat': None,\n",
       " 'criticalVal': 0.7047452080972225,\n",
       " 'ConfidenceInterval': [-0.00956387188006217, 0.15333564372425582]}"
      ]
     },
     "execution_count": 16,
     "metadata": {},
     "output_type": "execute_result"
    }
   ],
   "source": [
    "vars(r1.Htest)"
   ]
  },
  {
   "cell_type": "code",
   "execution_count": 17,
   "id": "c9fcf97e",
   "metadata": {
    "scrolled": true
   },
   "outputs": [
    {
     "data": {
      "text/plain": [
       "{'TestStat': None,\n",
       " 'criticalVal': 0.5974789676538764,\n",
       " 'ConfidenceInterval': [-0.008852155946365771, 0.15262392779055942]}"
      ]
     },
     "execution_count": 17,
     "metadata": {},
     "output_type": "execute_result"
    }
   ],
   "source": [
    "vars(r1.dHtest)"
   ]
  },
  {
   "cell_type": "code",
   "execution_count": 18,
   "id": "065d71d6",
   "metadata": {},
   "outputs": [],
   "source": [
    "r2=setBLP.oneDproj(yl,yu,x2)"
   ]
  },
  {
   "cell_type": "code",
   "execution_count": 19,
   "id": "7899fde7",
   "metadata": {
    "scrolled": true
   },
   "outputs": [
    {
     "data": {
      "text/plain": [
       "{'bound': [0.0017860422219384202, 0.3685793555817098],\n",
       " 'Htest': <setBLP.TestResults at 0x150d372d0>,\n",
       " 'dHtest': <setBLP.TestResults at 0x150d35d50>}"
      ]
     },
     "execution_count": 19,
     "metadata": {},
     "output_type": "execute_result"
    }
   ],
   "source": [
    "vars(r2)"
   ]
  },
  {
   "cell_type": "code",
   "execution_count": 20,
   "id": "69505079",
   "metadata": {},
   "outputs": [
    {
     "data": {
      "text/plain": [
       "{'TestStat': None,\n",
       " 'criticalVal': 2.5848308860215328,\n",
       " 'ConfidenceInterval': [-0.01536441741837822, 0.38572981522202643]}"
      ]
     },
     "execution_count": 20,
     "metadata": {},
     "output_type": "execute_result"
    }
   ],
   "source": [
    "vars(r2.Htest)"
   ]
  },
  {
   "cell_type": "code",
   "execution_count": 21,
   "id": "acd8388e",
   "metadata": {},
   "outputs": [
    {
     "data": {
      "text/plain": [
       "{'TestStat': None,\n",
       " 'criticalVal': 2.0728710884640007,\n",
       " 'ConfidenceInterval': [-0.011967543025953466, 0.3823329408296017]}"
      ]
     },
     "execution_count": 21,
     "metadata": {},
     "output_type": "execute_result"
    }
   ],
   "source": [
    "vars(r2.dHtest)"
   ]
  },
  {
   "cell_type": "code",
   "execution_count": 22,
   "id": "48c746d9",
   "metadata": {},
   "outputs": [],
   "source": [
    "r3=setBLP.oneDproj(yl,yu,x,0)"
   ]
  },
  {
   "cell_type": "code",
   "execution_count": 23,
   "id": "984abd38",
   "metadata": {},
   "outputs": [
    {
     "data": {
      "text/plain": [
       "{'bound': [-0.009051777215651783, 0.1443238930093685],\n",
       " 'Htest': <setBLP.TestResults at 0x150c9aad0>,\n",
       " 'dHtest': <setBLP.TestResults at 0x150d0f850>}"
      ]
     },
     "execution_count": 23,
     "metadata": {},
     "output_type": "execute_result"
    }
   ],
   "source": [
    "vars(r3)"
   ]
  },
  {
   "cell_type": "code",
   "execution_count": 24,
   "id": "a8b31138",
   "metadata": {},
   "outputs": [
    {
     "data": {
      "text/plain": [
       "{'TestStat': None,\n",
       " 'criticalVal': 1.2750807017799315,\n",
       " 'ConfidenceInterval': [-0.017511990312100045, 0.15278410610581675]}"
      ]
     },
     "execution_count": 24,
     "metadata": {},
     "output_type": "execute_result"
    }
   ],
   "source": [
    "vars(r3.Htest)"
   ]
  },
  {
   "cell_type": "code",
   "execution_count": 25,
   "id": "20263392",
   "metadata": {},
   "outputs": [
    {
     "data": {
      "text/plain": [
       "{'TestStat': None,\n",
       " 'criticalVal': 0.9542935369205432,\n",
       " 'ConfidenceInterval': [-0.015383554229954473, 0.15065567002367117]}"
      ]
     },
     "execution_count": 25,
     "metadata": {},
     "output_type": "execute_result"
    }
   ],
   "source": [
    "vars(r3.dHtest)"
   ]
  },
  {
   "cell_type": "code",
   "execution_count": 26,
   "id": "885b213f",
   "metadata": {},
   "outputs": [],
   "source": [
    "r4=setBLP.oneDproj(yl,yu,x,1)"
   ]
  },
  {
   "cell_type": "code",
   "execution_count": 27,
   "id": "c5a6fe30",
   "metadata": {},
   "outputs": [
    {
     "data": {
      "text/plain": [
       "{'bound': [-0.025567837808788303, 0.34563822843043474],\n",
       " 'Htest': <setBLP.TestResults at 0x150d30f90>,\n",
       " 'dHtest': <setBLP.TestResults at 0x150d045d0>}"
      ]
     },
     "execution_count": 27,
     "metadata": {},
     "output_type": "execute_result"
    }
   ],
   "source": [
    "vars(r4)"
   ]
  },
  {
   "cell_type": "code",
   "execution_count": 28,
   "id": "5e6f6a10",
   "metadata": {},
   "outputs": [
    {
     "data": {
      "text/plain": [
       "{'TestStat': None,\n",
       " 'criticalVal': 5.647358010109039,\n",
       " 'ConfidenceInterval': [-0.06303829135009092, 0.38310868197173736]}"
      ]
     },
     "execution_count": 28,
     "metadata": {},
     "output_type": "execute_result"
    }
   ],
   "source": [
    "vars(r4.Htest)"
   ]
  },
  {
   "cell_type": "code",
   "execution_count": 29,
   "id": "45841cb6",
   "metadata": {},
   "outputs": [
    {
     "data": {
      "text/plain": [
       "{'TestStat': None,\n",
       " 'criticalVal': 5.249938514985009,\n",
       " 'ConfidenceInterval': [-0.06040139659296797, 0.3804717872146144]}"
      ]
     },
     "execution_count": 29,
     "metadata": {},
     "output_type": "execute_result"
    }
   ],
   "source": [
    "vars(r4.dHtest)"
   ]
  },
  {
   "cell_type": "code",
   "execution_count": 30,
   "id": "659e6cf3",
   "metadata": {
    "scrolled": true
   },
   "outputs": [],
   "source": [
    "r5=setBLP.oneDproj(yl,yu,x)"
   ]
  },
  {
   "cell_type": "code",
   "execution_count": 31,
   "id": "09bda6e2",
   "metadata": {},
   "outputs": [
    {
     "data": {
      "text/plain": [
       "{'bound': [-0.009051777215651783, 0.1443238930093685],\n",
       " 'Htest': <setBLP.TestResults at 0x150a14410>,\n",
       " 'dHtest': <setBLP.TestResults at 0x150d0b950>}"
      ]
     },
     "execution_count": 31,
     "metadata": {},
     "output_type": "execute_result"
    }
   ],
   "source": [
    "vars(r5[0])"
   ]
  },
  {
   "cell_type": "code",
   "execution_count": 32,
   "id": "6cbca7bc",
   "metadata": {},
   "outputs": [
    {
     "data": {
      "text/plain": [
       "{'TestStat': None,\n",
       " 'criticalVal': 0.7057800390978024,\n",
       " 'ConfidenceInterval': [-0.013734656912326502, -0.020884958112113584]}"
      ]
     },
     "execution_count": 32,
     "metadata": {},
     "output_type": "execute_result"
    }
   ],
   "source": [
    "vars(r5[0].Htest)"
   ]
  },
  {
   "cell_type": "code",
   "execution_count": 33,
   "id": "94e537bf",
   "metadata": {},
   "outputs": [
    {
     "data": {
      "text/plain": [
       "{'TestStat': None,\n",
       " 'criticalVal': 0.6446082859263649,\n",
       " 'ConfidenceInterval': [-0.013328779804633427, -0.02129083521980666]}"
      ]
     },
     "execution_count": 33,
     "metadata": {},
     "output_type": "execute_result"
    }
   ],
   "source": [
    "vars(r5[0].dHtest)"
   ]
  },
  {
   "cell_type": "code",
   "execution_count": 34,
   "id": "59788eb2",
   "metadata": {},
   "outputs": [
    {
     "data": {
      "text/plain": [
       "{'bound': [-0.025567837808788303, 0.34563822843043474],\n",
       " 'Htest': <setBLP.TestResults at 0x150d0b790>,\n",
       " 'dHtest': <setBLP.TestResults at 0x15091ecd0>}"
      ]
     },
     "execution_count": 34,
     "metadata": {},
     "output_type": "execute_result"
    }
   ],
   "source": [
    "vars(r5[1])"
   ]
  },
  {
   "cell_type": "code",
   "execution_count": 35,
   "id": "bba296e0",
   "metadata": {},
   "outputs": [
    {
     "data": {
      "text/plain": [
       "{'TestStat': None,\n",
       " 'criticalVal': 2.4007462549571277,\n",
       " 'ConfidenceInterval': [0.12839484249587174, 0.3615672789439315]}"
      ]
     },
     "execution_count": 35,
     "metadata": {},
     "output_type": "execute_result"
    }
   ],
   "source": [
    "vars(r5[1].Htest)"
   ]
  },
  {
   "cell_type": "code",
   "execution_count": 36,
   "id": "14ef31bc",
   "metadata": {},
   "outputs": [
    {
     "data": {
      "text/plain": [
       "{'TestStat': None,\n",
       " 'criticalVal': 2.026688153335207,\n",
       " 'ConfidenceInterval': [0.13087673344266182, 0.3590853879971414]}"
      ]
     },
     "execution_count": 36,
     "metadata": {},
     "output_type": "execute_result"
    }
   ],
   "source": [
    "vars(r5[1].dHtest)"
   ]
  },
  {
   "cell_type": "code",
   "execution_count": 37,
   "id": "d88fa926",
   "metadata": {},
   "outputs": [],
   "source": [
    "r6 = setBLP.oneDproj(yl, 'logwage_u', 'age', data = cps)"
   ]
  },
  {
   "cell_type": "code",
   "execution_count": 38,
   "id": "ef2f897a",
   "metadata": {},
   "outputs": [
    {
     "data": {
      "text/plain": [
       "{'bound': [-0.004887858329798024, 0.14865963017399167],\n",
       " 'Htest': <setBLP.TestResults at 0x150ca02d0>,\n",
       " 'dHtest': <setBLP.TestResults at 0x150d89210>}"
      ]
     },
     "execution_count": 38,
     "metadata": {},
     "output_type": "execute_result"
    }
   ],
   "source": [
    "vars(r6)"
   ]
  },
  {
   "cell_type": "code",
   "execution_count": 39,
   "id": "0dec96a1",
   "metadata": {},
   "outputs": [
    {
     "data": {
      "text/plain": [
       "{'TestStat': None,\n",
       " 'criticalVal': 0.7334538820404218,\n",
       " 'ConfidenceInterval': [-0.00975435511687759, 0.15352612696107124]}"
      ]
     },
     "execution_count": 39,
     "metadata": {},
     "output_type": "execute_result"
    }
   ],
   "source": [
    "vars(r6.Htest)"
   ]
  },
  {
   "cell_type": "code",
   "execution_count": 40,
   "id": "877469cc",
   "metadata": {},
   "outputs": [
    {
     "data": {
      "text/plain": [
       "{'TestStat': None,\n",
       " 'criticalVal': 0.6328099760557074,\n",
       " 'ConfidenceInterval': [-0.009086578645709144, 0.1528583504899028]}"
      ]
     },
     "execution_count": 40,
     "metadata": {},
     "output_type": "execute_result"
    }
   ],
   "source": [
    "vars(r6.dHtest)"
   ]
  },
  {
   "cell_type": "code",
   "execution_count": 41,
   "id": "186d149d",
   "metadata": {},
   "outputs": [],
   "source": [
    "r7 = setBLP.oneDproj(yl, yu, 'educ', data = cps)"
   ]
  },
  {
   "cell_type": "code",
   "execution_count": 42,
   "id": "db3436c4",
   "metadata": {},
   "outputs": [
    {
     "data": {
      "text/plain": [
       "{'bound': [0.0017860422219384202, 0.3685793555817098],\n",
       " 'Htest': <setBLP.TestResults at 0x150d13110>,\n",
       " 'dHtest': <setBLP.TestResults at 0x150d5a610>}"
      ]
     },
     "execution_count": 42,
     "metadata": {},
     "output_type": "execute_result"
    }
   ],
   "source": [
    "vars(r7)"
   ]
  },
  {
   "cell_type": "code",
   "execution_count": 43,
   "id": "a9138708",
   "metadata": {},
   "outputs": [
    {
     "data": {
      "text/plain": [
       "{'TestStat': None,\n",
       " 'criticalVal': 2.3752603908014684,\n",
       " 'ConfidenceInterval': [-0.013973908530732972, 0.3843393063343812]}"
      ]
     },
     "execution_count": 43,
     "metadata": {},
     "output_type": "execute_result"
    }
   ],
   "source": [
    "vars(r7.Htest)"
   ]
  },
  {
   "cell_type": "code",
   "execution_count": 44,
   "id": "ef5dfb8d",
   "metadata": {},
   "outputs": [
    {
     "data": {
      "text/plain": [
       "{'TestStat': None,\n",
       " 'criticalVal': 1.9509430348851013,\n",
       " 'ConfidenceInterval': [-0.011158545356807749, 0.38152394316045596]}"
      ]
     },
     "execution_count": 44,
     "metadata": {},
     "output_type": "execute_result"
    }
   ],
   "source": [
    "vars(r7.dHtest)"
   ]
  },
  {
   "cell_type": "code",
   "execution_count": 45,
   "id": "6d2589fa",
   "metadata": {},
   "outputs": [],
   "source": [
    "r8 = setBLP.oneDproj(yl, yu, ['age','educ'], 0, data = cps)"
   ]
  },
  {
   "cell_type": "code",
   "execution_count": 46,
   "id": "53993e18",
   "metadata": {},
   "outputs": [
    {
     "data": {
      "text/plain": [
       "{'bound': [-0.009051777215651783, 0.1443238930093685],\n",
       " 'Htest': <setBLP.TestResults at 0x150d81ed0>,\n",
       " 'dHtest': <setBLP.TestResults at 0x150d88910>}"
      ]
     },
     "execution_count": 46,
     "metadata": {},
     "output_type": "execute_result"
    }
   ],
   "source": [
    "vars(r8)"
   ]
  },
  {
   "cell_type": "code",
   "execution_count": 47,
   "id": "4d41af17",
   "metadata": {},
   "outputs": [
    {
     "data": {
      "text/plain": [
       "{'TestStat': None,\n",
       " 'criticalVal': 1.293213530107258,\n",
       " 'ConfidenceInterval': [-0.017632302376643372, 0.15290441817036007]}"
      ]
     },
     "execution_count": 47,
     "metadata": {},
     "output_type": "execute_result"
    }
   ],
   "source": [
    "vars(r8.Htest)"
   ]
  },
  {
   "cell_type": "code",
   "execution_count": 48,
   "id": "6176f084",
   "metadata": {},
   "outputs": [
    {
     "data": {
      "text/plain": [
       "{'TestStat': None,\n",
       " 'criticalVal': 0.9506623920091679,\n",
       " 'ConfidenceInterval': [-0.015359461433560146, 0.15063157722727685]}"
      ]
     },
     "execution_count": 48,
     "metadata": {},
     "output_type": "execute_result"
    }
   ],
   "source": [
    "vars(r8.dHtest)"
   ]
  },
  {
   "cell_type": "code",
   "execution_count": 49,
   "id": "8421bd87",
   "metadata": {},
   "outputs": [],
   "source": [
    "r9 = setBLP.oneDproj('logwage_l', 'logwage_u', ['age','educ'], 1, data = cps)"
   ]
  },
  {
   "cell_type": "code",
   "execution_count": 50,
   "id": "8b3b6bb4",
   "metadata": {},
   "outputs": [
    {
     "data": {
      "text/plain": [
       "{'bound': [-0.025567837808788303, 0.34563822843043474],\n",
       " 'Htest': <setBLP.TestResults at 0x150d82c50>,\n",
       " 'dHtest': <setBLP.TestResults at 0x150daa090>}"
      ]
     },
     "execution_count": 50,
     "metadata": {},
     "output_type": "execute_result"
    }
   ],
   "source": [
    "vars(r9)"
   ]
  },
  {
   "cell_type": "code",
   "execution_count": 51,
   "id": "dc847a81",
   "metadata": {},
   "outputs": [
    {
     "data": {
      "text/plain": [
       "{'TestStat': None,\n",
       " 'criticalVal': 5.681036878980088,\n",
       " 'ConfidenceInterval': [-0.06326175203544102, 0.3833321426570875]}"
      ]
     },
     "execution_count": 51,
     "metadata": {},
     "output_type": "execute_result"
    }
   ],
   "source": [
    "vars(r9.Htest)"
   ]
  },
  {
   "cell_type": "code",
   "execution_count": 52,
   "id": "18d03836",
   "metadata": {},
   "outputs": [
    {
     "data": {
      "text/plain": [
       "{'TestStat': None,\n",
       " 'criticalVal': 5.238847388745805,\n",
       " 'ConfidenceInterval': [-0.06032780651248735, 0.3803981971341338]}"
      ]
     },
     "execution_count": 52,
     "metadata": {},
     "output_type": "execute_result"
    }
   ],
   "source": [
    "vars(r9.dHtest)"
   ]
  },
  {
   "cell_type": "code",
   "execution_count": 53,
   "id": "8c237cd1",
   "metadata": {},
   "outputs": [],
   "source": [
    "r10 = setBLP.oneDproj(yl, yu, ['age','educ'], data = cps)"
   ]
  },
  {
   "cell_type": "code",
   "execution_count": 56,
   "id": "118f6dce",
   "metadata": {},
   "outputs": [
    {
     "data": {
      "text/plain": [
       "{'bound': [-0.009051777215651783, 0.1443238930093685],\n",
       " 'Htest': <setBLP.TestResults at 0x150d0ad50>,\n",
       " 'dHtest': <setBLP.TestResults at 0x150d09f50>}"
      ]
     },
     "execution_count": 56,
     "metadata": {},
     "output_type": "execute_result"
    }
   ],
   "source": [
    "vars(r10[0])"
   ]
  },
  {
   "cell_type": "code",
   "execution_count": 57,
   "id": "14f53d69",
   "metadata": {},
   "outputs": [
    {
     "data": {
      "text/plain": [
       "{'TestStat': None,\n",
       " 'criticalVal': 0.7049908492855393,\n",
       " 'ConfidenceInterval': [-0.013729420605341406, -0.02089019441909868]}"
      ]
     },
     "execution_count": 57,
     "metadata": {},
     "output_type": "execute_result"
    }
   ],
   "source": [
    "vars(r10[0].Htest)"
   ]
  },
  {
   "cell_type": "code",
   "execution_count": 58,
   "id": "29d8e34e",
   "metadata": {},
   "outputs": [
    {
     "data": {
      "text/plain": [
       "{'TestStat': None,\n",
       " 'criticalVal': 0.5907597488937556,\n",
       " 'ConfidenceInterval': [-0.012971492538351446, -0.02164812248608864]}"
      ]
     },
     "execution_count": 58,
     "metadata": {},
     "output_type": "execute_result"
    }
   ],
   "source": [
    "vars(r10[0].dHtest)"
   ]
  },
  {
   "cell_type": "code",
   "execution_count": 59,
   "id": "971c3753",
   "metadata": {},
   "outputs": [
    {
     "data": {
      "text/plain": [
       "{'bound': [-0.025567837808788303, 0.34563822843043474],\n",
       " 'Htest': <setBLP.TestResults at 0x150d82a90>,\n",
       " 'dHtest': <setBLP.TestResults at 0x150cb9790>}"
      ]
     },
     "execution_count": 59,
     "metadata": {},
     "output_type": "execute_result"
    }
   ],
   "source": [
    "vars(r10[1])"
   ]
  },
  {
   "cell_type": "code",
   "execution_count": 60,
   "id": "ae66d931",
   "metadata": {},
   "outputs": [
    {
     "data": {
      "text/plain": [
       "{'TestStat': None,\n",
       " 'criticalVal': 2.4391807997844244,\n",
       " 'ConfidenceInterval': [0.12813982770421972, 0.3618222937355835]}"
      ]
     },
     "execution_count": 60,
     "metadata": {},
     "output_type": "execute_result"
    }
   ],
   "source": [
    "vars(r10[1].Htest)"
   ]
  },
  {
   "cell_type": "code",
   "execution_count": 61,
   "id": "ad57de22",
   "metadata": {},
   "outputs": [
    {
     "data": {
      "text/plain": [
       "{'TestStat': None,\n",
       " 'criticalVal': 1.9991493046954785,\n",
       " 'ConfidenceInterval': [0.1310594548402939, 0.3589026665995093]}"
      ]
     },
     "execution_count": 61,
     "metadata": {},
     "output_type": "execute_result"
    }
   ],
   "source": [
    "vars(r10[1].dHtest)"
   ]
  },
  {
   "cell_type": "markdown",
   "id": "de77cf8f",
   "metadata": {},
   "source": [
    "# Testing CI1d  "
   ]
  },
  {
   "cell_type": "markdown",
   "id": "c3fa851c",
   "metadata": {},
   "source": [
    "$H_0: \\beta_{age} = [0, 0.15]$"
   ]
  },
  {
   "cell_type": "code",
   "execution_count": 62,
   "id": "7b5b501d",
   "metadata": {},
   "outputs": [],
   "source": [
    "I1 = [0, 0.15]"
   ]
  },
  {
   "cell_type": "code",
   "execution_count": 63,
   "id": "5d75cc47",
   "metadata": {},
   "outputs": [],
   "source": [
    "result1 = setBLP.oneDproj(yl, yu, x1, H0=I1)"
   ]
  },
  {
   "cell_type": "code",
   "execution_count": 64,
   "id": "af5ea7ad",
   "metadata": {},
   "outputs": [
    {
     "data": {
      "text/plain": [
       "{'bound': [-0.004887858329798024, 0.14865963017399167],\n",
       " 'Htest': <setBLP.TestResults at 0x150d59990>,\n",
       " 'dHtest': <setBLP.TestResults at 0x150d59f90>}"
      ]
     },
     "execution_count": 64,
     "metadata": {},
     "output_type": "execute_result"
    }
   ],
   "source": [
    "vars(result1)"
   ]
  },
  {
   "cell_type": "code",
   "execution_count": 65,
   "id": "4612f299",
   "metadata": {},
   "outputs": [
    {
     "data": {
      "text/plain": [
       "{'TestStat': 0.7366733861557483,\n",
       " 'criticalVal': 0.7139171525114368,\n",
       " 'ConfidenceInterval': [-0.009624728109902926, 0.15339649995409657]}"
      ]
     },
     "execution_count": 65,
     "metadata": {},
     "output_type": "execute_result"
    }
   ],
   "source": [
    "vars(result1.Htest)"
   ]
  },
  {
   "cell_type": "code",
   "execution_count": 66,
   "id": "7006f212",
   "metadata": {},
   "outputs": [
    {
     "data": {
      "text/plain": [
       "{'TestStat': 0.20201378841259215,\n",
       " 'criticalVal': 0.6171743707559667,\n",
       " 'ConfidenceInterval': [-0.008982835759048631, 0.15275460760324228]}"
      ]
     },
     "execution_count": 66,
     "metadata": {},
     "output_type": "execute_result"
    }
   ],
   "source": [
    "vars(result1.dHtest)"
   ]
  },
  {
   "cell_type": "markdown",
   "id": "5b83e520",
   "metadata": {},
   "source": [
    "$H_0: \\beta_{age} = [0.1, 0.25]$"
   ]
  },
  {
   "cell_type": "code",
   "execution_count": 67,
   "id": "7fde8b82",
   "metadata": {},
   "outputs": [],
   "source": [
    "I2 = [0.1, 0.25]"
   ]
  },
  {
   "cell_type": "code",
   "execution_count": 68,
   "id": "c9b0f148",
   "metadata": {},
   "outputs": [],
   "source": [
    "result2 = setBLP.oneDproj(yl, yu, x1, H0=I2)"
   ]
  },
  {
   "cell_type": "code",
   "execution_count": 69,
   "id": "9ff78c03",
   "metadata": {},
   "outputs": [
    {
     "data": {
      "text/plain": [
       "{'bound': [-0.004887858329798024, 0.14865963017399167],\n",
       " 'Htest': <setBLP.TestResults at 0x150d59a90>,\n",
       " 'dHtest': <setBLP.TestResults at 0x150d0d650>}"
      ]
     },
     "execution_count": 69,
     "metadata": {},
     "output_type": "execute_result"
    }
   ],
   "source": [
    "vars(result2)"
   ]
  },
  {
   "cell_type": "code",
   "execution_count": 70,
   "id": "21c06ab4",
   "metadata": {
    "scrolled": true
   },
   "outputs": [
    {
     "data": {
      "text/plain": [
       "{'TestStat': 15.808169662239287,\n",
       " 'criticalVal': 0.7188110546089332,\n",
       " 'ConfidenceInterval': [-0.009657199352358543, 0.1534289711965522]}"
      ]
     },
     "execution_count": 70,
     "metadata": {},
     "output_type": "execute_result"
    }
   ],
   "source": [
    "vars(result2.Htest)"
   ]
  },
  {
   "cell_type": "code",
   "execution_count": 71,
   "id": "fa3edffa",
   "metadata": {},
   "outputs": [
    {
     "data": {
      "text/plain": [
       "{'TestStat': 15.273510064496133,\n",
       " 'criticalVal': 0.6214583479800035,\n",
       " 'ConfidenceInterval': [-0.009011260124788846, 0.1527830319689825]}"
      ]
     },
     "execution_count": 71,
     "metadata": {},
     "output_type": "execute_result"
    }
   ],
   "source": [
    "vars(result2.dHtest)"
   ]
  },
  {
   "cell_type": "markdown",
   "id": "085d570b",
   "metadata": {},
   "source": [
    "$H_0: \\beta_{age} = [0, 0.1]$"
   ]
  },
  {
   "cell_type": "code",
   "execution_count": 72,
   "id": "3f9f3a9a",
   "metadata": {},
   "outputs": [],
   "source": [
    "I3 = [0, 0.1]"
   ]
  },
  {
   "cell_type": "code",
   "execution_count": 73,
   "id": "027b2d29",
   "metadata": {},
   "outputs": [],
   "source": [
    "result3 = setBLP.oneDproj(yl, yu, x1, H0=I3)"
   ]
  },
  {
   "cell_type": "code",
   "execution_count": 74,
   "id": "6dedc636",
   "metadata": {},
   "outputs": [
    {
     "data": {
      "text/plain": [
       "{'bound': [-0.004887858329798024, 0.14865963017399167],\n",
       " 'Htest': <setBLP.TestResults at 0x15006acd0>,\n",
       " 'dHtest': <setBLP.TestResults at 0x1060a0ad0>}"
      ]
     },
     "execution_count": 74,
     "metadata": {},
     "output_type": "execute_result"
    }
   ],
   "source": [
    "vars(result3)"
   ]
  },
  {
   "cell_type": "code",
   "execution_count": 75,
   "id": "f7a1ac75",
   "metadata": {},
   "outputs": [
    {
     "data": {
      "text/plain": [
       "{'TestStat': 7.333734349629176,\n",
       " 'criticalVal': 0.7031486859138284,\n",
       " 'ConfidenceInterval': [-0.009553278889464896, 0.15332505073365854]}"
      ]
     },
     "execution_count": 75,
     "metadata": {},
     "output_type": "execute_result"
    }
   ],
   "source": [
    "vars(result3.Htest)"
   ]
  },
  {
   "cell_type": "code",
   "execution_count": 76,
   "id": "a1e44e8c",
   "metadata": {},
   "outputs": [
    {
     "data": {
      "text/plain": [
       "{'TestStat': 0.0,\n",
       " 'criticalVal': 0.6053489212391338,\n",
       " 'ConfidenceInterval': [-0.008904373413305307, 0.15267614525749895]}"
      ]
     },
     "execution_count": 76,
     "metadata": {},
     "output_type": "execute_result"
    }
   ],
   "source": [
    "vars(result3.dHtest)"
   ]
  },
  {
   "cell_type": "markdown",
   "id": "1710164e",
   "metadata": {},
   "source": [
    "$H_0: \\beta_{age} = [-0.1, 0.15]$"
   ]
  },
  {
   "cell_type": "code",
   "execution_count": 77,
   "id": "57ac25fb",
   "metadata": {},
   "outputs": [],
   "source": [
    "I4 = [-0.1, 0.15]"
   ]
  },
  {
   "cell_type": "code",
   "execution_count": 78,
   "id": "4bfa8ef1",
   "metadata": {},
   "outputs": [],
   "source": [
    "result4 = setBLP.oneDproj(yl, yu, x1, H0=I4)"
   ]
  },
  {
   "cell_type": "code",
   "execution_count": 79,
   "id": "2725054f",
   "metadata": {},
   "outputs": [
    {
     "data": {
      "text/plain": [
       "{'bound': [-0.004887858329798024, 0.14865963017399167],\n",
       " 'Htest': <setBLP.TestResults at 0x150d82bd0>,\n",
       " 'dHtest': <setBLP.TestResults at 0x150d83090>}"
      ]
     },
     "execution_count": 79,
     "metadata": {},
     "output_type": "execute_result"
    }
   ],
   "source": [
    "vars(result4)"
   ]
  },
  {
   "cell_type": "code",
   "execution_count": 80,
   "id": "81c7ad45",
   "metadata": {},
   "outputs": [
    {
     "data": {
      "text/plain": [
       "{'TestStat': 14.334822889927793,\n",
       " 'criticalVal': 0.73837679954266,\n",
       " 'ConfidenceInterval': [-0.009787018877741534, 0.15355879072193518]}"
      ]
     },
     "execution_count": 80,
     "metadata": {},
     "output_type": "execute_result"
    }
   ],
   "source": [
    "vars(result4.Htest)"
   ]
  },
  {
   "cell_type": "code",
   "execution_count": 81,
   "id": "f127cc91",
   "metadata": {},
   "outputs": [
    {
     "data": {
      "text/plain": [
       "{'TestStat': 14.334822889927793,\n",
       " 'criticalVal': 0.6158786865587252,\n",
       " 'ConfidenceInterval': [-0.008974238840909206, 0.15274601068510285]}"
      ]
     },
     "execution_count": 81,
     "metadata": {},
     "output_type": "execute_result"
    }
   ],
   "source": [
    "vars(result4.dHtest)"
   ]
  },
  {
   "cell_type": "markdown",
   "id": "9e0b6198",
   "metadata": {},
   "source": [
    "# regress $yl, yu$ on age, educ $\\rightarrow$ $\\beta_{age}$"
   ]
  },
  {
   "cell_type": "code",
   "execution_count": 82,
   "id": "84bcd597",
   "metadata": {},
   "outputs": [
    {
     "name": "stdout",
     "output_type": "stream",
     "text": [
      "                            OLS Regression Results                            \n",
      "==============================================================================\n",
      "Dep. Variable:              logwage_l   R-squared:                       0.105\n",
      "Model:                            OLS   Adj. R-squared:                  0.105\n",
      "Method:                 Least Squares   F-statistic:                     982.3\n",
      "Date:                Mon, 25 Sep 2023   Prob (F-statistic):               0.00\n",
      "Time:                        12:13:02   Log-Likelihood:                -56435.\n",
      "No. Observations:               22715   AIC:                         1.129e+05\n",
      "Df Residuals:                   22712   BIC:                         1.129e+05\n",
      "Df Model:                           2                                         \n",
      "Covariance Type:                  HC1                                         \n",
      "==============================================================================\n",
      "                 coef    std err          z      P>|z|      [0.025      0.975]\n",
      "------------------------------------------------------------------------------\n",
      "Intercept      3.3251      0.151     21.988      0.000       3.029       3.622\n",
      "educ           0.1892      0.009     21.669      0.000       0.172       0.206\n",
      "age            0.0985      0.003     36.340      0.000       0.093       0.104\n",
      "==============================================================================\n",
      "Omnibus:                    10680.502   Durbin-Watson:                   1.918\n",
      "Prob(Omnibus):                  0.000   Jarque-Bera (JB):            44014.677\n",
      "Skew:                          -2.425   Prob(JB):                         0.00\n",
      "Kurtosis:                       7.794   Cond. No.                         263.\n",
      "==============================================================================\n",
      "\n",
      "Notes:\n",
      "[1] Standard Errors are heteroscedasticity robust (HC1)\n"
     ]
    }
   ],
   "source": [
    "ols3 = smf.ols(formula='logwage_l ~ educ+age',data=cps).fit(cov_type='HC1')\n",
    "betal = ols3._results.params[2]\n",
    "print(ols3.summary())"
   ]
  },
  {
   "cell_type": "code",
   "execution_count": 83,
   "id": "85c8554b",
   "metadata": {},
   "outputs": [
    {
     "name": "stdout",
     "output_type": "stream",
     "text": [
      "                            OLS Regression Results                            \n",
      "==============================================================================\n",
      "Dep. Variable:              logwage_u   R-squared:                       0.234\n",
      "Model:                            OLS   Adj. R-squared:                  0.234\n",
      "Method:                 Least Squares   F-statistic:                     3220.\n",
      "Date:                Mon, 25 Sep 2023   Prob (F-statistic):               0.00\n",
      "Time:                        12:13:03   Log-Likelihood:                -27984.\n",
      "No. Observations:               22715   AIC:                         5.597e+04\n",
      "Df Residuals:                   22712   BIC:                         5.600e+04\n",
      "Df Model:                           2                                         \n",
      "Covariance Type:                  HC1                                         \n",
      "==============================================================================\n",
      "                 coef    std err          z      P>|z|      [0.025      0.975]\n",
      "------------------------------------------------------------------------------\n",
      "Intercept      7.5141      0.037    201.564      0.000       7.441       7.587\n",
      "educ           0.1309      0.003     52.253      0.000       0.126       0.136\n",
      "age            0.0368      0.001     59.087      0.000       0.036       0.038\n",
      "==============================================================================\n",
      "Omnibus:                     2417.526   Durbin-Watson:                   1.857\n",
      "Prob(Omnibus):                  0.000   Jarque-Bera (JB):             3602.613\n",
      "Skew:                           0.803   Prob(JB):                         0.00\n",
      "Kurtosis:                       4.107   Cond. No.                         263.\n",
      "==============================================================================\n",
      "\n",
      "Notes:\n",
      "[1] Standard Errors are heteroscedasticity robust (HC1)\n"
     ]
    }
   ],
   "source": [
    "ols4 = smf.ols(formula='logwage_u ~ educ+age',data=cps).fit(cov_type='HC1')\n",
    "betau = ols4._results.params[2]\n",
    "print(ols4.summary())"
   ]
  },
  {
   "cell_type": "code",
   "execution_count": 84,
   "id": "11fd46d2",
   "metadata": {},
   "outputs": [],
   "source": [
    "I5 = [min(betal, betau), max(betal, betau)]"
   ]
  },
  {
   "cell_type": "code",
   "execution_count": 85,
   "id": "dfe3c143",
   "metadata": {},
   "outputs": [],
   "source": [
    "result5 = setBLP.oneDproj(yl, yu, x1, H0=I5)"
   ]
  },
  {
   "cell_type": "code",
   "execution_count": 86,
   "id": "017e9bb9",
   "metadata": {},
   "outputs": [
    {
     "data": {
      "text/plain": [
       "{'bound': [-0.004887858329798024, 0.14865963017399167],\n",
       " 'Htest': <setBLP.TestResults at 0x150cb5810>,\n",
       " 'dHtest': <setBLP.TestResults at 0x1519d1150>}"
      ]
     },
     "execution_count": 86,
     "metadata": {},
     "output_type": "execute_result"
    }
   ],
   "source": [
    "vars(result5)"
   ]
  },
  {
   "cell_type": "code",
   "execution_count": 87,
   "id": "f7c55b54",
   "metadata": {},
   "outputs": [
    {
     "data": {
      "text/plain": [
       "{'TestStat': 7.556630260161291,\n",
       " 'criticalVal': 0.6929737443891848,\n",
       " 'ConfidenceInterval': [-0.00948576773238894, 0.15325753957658259]}"
      ]
     },
     "execution_count": 87,
     "metadata": {},
     "output_type": "execute_result"
    }
   ],
   "source": [
    "vars(result5.Htest)"
   ]
  },
  {
   "cell_type": "code",
   "execution_count": 88,
   "id": "e853e4d3",
   "metadata": {},
   "outputs": [
    {
     "data": {
      "text/plain": [
       "{'TestStat': 0.0,\n",
       " 'criticalVal': 0.5946620129917048,\n",
       " 'ConfidenceInterval': [-0.008833465335887754, 0.1526052371800814]}"
      ]
     },
     "execution_count": 88,
     "metadata": {},
     "output_type": "execute_result"
    }
   ],
   "source": [
    "vars(result5.dHtest)"
   ]
  },
  {
   "cell_type": "code",
   "execution_count": null,
   "id": "de2b72ca",
   "metadata": {},
   "outputs": [],
   "source": []
  },
  {
   "cell_type": "code",
   "execution_count": null,
   "id": "03c3a2ae",
   "metadata": {},
   "outputs": [],
   "source": []
  },
  {
   "cell_type": "code",
   "execution_count": null,
   "id": "8b57607d",
   "metadata": {},
   "outputs": [],
   "source": []
  },
  {
   "cell_type": "code",
   "execution_count": null,
   "id": "d5468414",
   "metadata": {},
   "outputs": [],
   "source": []
  },
  {
   "cell_type": "markdown",
   "id": "4d2a1e6f",
   "metadata": {},
   "source": [
    "# Two ways to access the list of all attributes and values:"
   ]
  },
  {
   "cell_type": "code",
   "execution_count": null,
   "id": "6b45ea36",
   "metadata": {},
   "outputs": [],
   "source": [
    "result.__dict__"
   ]
  },
  {
   "cell_type": "code",
   "execution_count": null,
   "id": "7876a90e",
   "metadata": {},
   "outputs": [],
   "source": [
    "vars(result)"
   ]
  },
  {
   "cell_type": "code",
   "execution_count": null,
   "id": "edd4cc9b",
   "metadata": {},
   "outputs": [],
   "source": [
    "vars(result.dHtest)"
   ]
  },
  {
   "cell_type": "code",
   "execution_count": null,
   "id": "cd07dc66",
   "metadata": {},
   "outputs": [],
   "source": []
  },
  {
   "cell_type": "markdown",
   "id": "c25b5f7c",
   "metadata": {},
   "source": [
    "# Simulations"
   ]
  },
  {
   "cell_type": "markdown",
   "id": "82453404",
   "metadata": {},
   "source": [
    "## parameter"
   ]
  },
  {
   "cell_type": "code",
   "execution_count": null,
   "id": "f5583f20",
   "metadata": {},
   "outputs": [],
   "source": [
    "rng = np.random.MT19937(15217)\n",
    "rng = np.random.Generator(rng)\n",
    "np.random.seed(setBLP.default_options.seed)"
   ]
  },
  {
   "cell_type": "code",
   "execution_count": null,
   "id": "58e2a0b1",
   "metadata": {},
   "outputs": [],
   "source": [
    "popSize = cps.shape[0]"
   ]
  },
  {
   "cell_type": "code",
   "execution_count": null,
   "id": "0501d177",
   "metadata": {},
   "outputs": [],
   "source": [
    "Nobs = 100;  #size of sub sample\n",
    "Nsim = 5000; #number of simulations"
   ]
  },
  {
   "cell_type": "code",
   "execution_count": null,
   "id": "012dffdc",
   "metadata": {},
   "outputs": [],
   "source": [
    "Nintervals = 8; #number of intervals in the survey"
   ]
  },
  {
   "cell_type": "markdown",
   "id": "08c2b9d5",
   "metadata": {},
   "source": [
    "## Using quantiles"
   ]
  },
  {
   "cell_type": "code",
   "execution_count": null,
   "id": "1d80ffb3",
   "metadata": {},
   "outputs": [],
   "source": [
    "c = 0 \n",
    "width=0\n",
    "for i in range(Nsim):\n",
    "    indx = rng.integers(low=0, high=popSize, size=Nobs)\n",
    "    sample = cps.iloc[indx, :]\n",
    "    r = setBLP.oneDproj(sample.logwage_l,sample.logwage_u,sample.educ)\n",
    "    width += max(r)-min(r)\n",
    "    if beta1>=min(r) and beta1 <=max(r):\n",
    "        c+=1\n",
    "    \n",
    "width=width/Nsim"
   ]
  },
  {
   "cell_type": "code",
   "execution_count": null,
   "id": "df08814f",
   "metadata": {},
   "outputs": [],
   "source": [
    "i = 0 \n",
    "indx = rng.integers(low=0, high=popSize, size=Nobs)\n",
    "sample = cps.iloc[indx, :]\n",
    "r = setBLP.oneDproj(sample.logwage_l,sample.logwage_u,sample.educ)"
   ]
  },
  {
   "cell_type": "code",
   "execution_count": null,
   "id": "269f9880",
   "metadata": {},
   "outputs": [],
   "source": [
    "r"
   ]
  },
  {
   "cell_type": "code",
   "execution_count": null,
   "id": "7fbb540f",
   "metadata": {},
   "outputs": [],
   "source": []
  },
  {
   "cell_type": "code",
   "execution_count": null,
   "id": "c9d91138",
   "metadata": {},
   "outputs": [],
   "source": [
    "c/Nsim"
   ]
  },
  {
   "cell_type": "code",
   "execution_count": null,
   "id": "10a013be",
   "metadata": {},
   "outputs": [],
   "source": [
    "width"
   ]
  },
  {
   "cell_type": "markdown",
   "id": "e33b2136",
   "metadata": {},
   "source": [
    "## Using fixed intervals, ver 1"
   ]
  },
  {
   "cell_type": "code",
   "execution_count": null,
   "id": "47b911ae",
   "metadata": {},
   "outputs": [],
   "source": [
    "thresholds = np.linspace(1,max(cps.wage)+1,10)\n",
    "thresholds"
   ]
  },
  {
   "cell_type": "code",
   "execution_count": null,
   "id": "0fcf3322",
   "metadata": {},
   "outputs": [],
   "source": [
    "interval_cps = createIntervalData(cps, 'wage', thresholds)\n",
    "interval_cps.head(15)"
   ]
  },
  {
   "cell_type": "code",
   "execution_count": null,
   "id": "7f81d0e1",
   "metadata": {},
   "outputs": [],
   "source": [
    "c = 0 \n",
    "width =0\n",
    "for i in range(Nsim):\n",
    "    indx = rng.integers(low=0, high=popSize, size=Nobs)\n",
    "    sample = interval_cps.iloc[indx, :]\n",
    "    r = setBLP.oneDproj(sample.logwage_l,sample.logwage_u,sample.educ)\n",
    "    width+=max(r)-min(r)\n",
    "    if beta1>=min(r) and beta1 <=max(r):\n",
    "        c+=1\n",
    "width=width/Nsim"
   ]
  },
  {
   "cell_type": "code",
   "execution_count": null,
   "id": "b8d16ac3",
   "metadata": {},
   "outputs": [],
   "source": [
    "c/Nsim"
   ]
  },
  {
   "cell_type": "code",
   "execution_count": null,
   "id": "e1d4cc2b",
   "metadata": {},
   "outputs": [],
   "source": [
    "width"
   ]
  },
  {
   "cell_type": "markdown",
   "id": "ffbd4fa0",
   "metadata": {},
   "source": [
    "## Using fixed intervals, ver 2"
   ]
  },
  {
   "cell_type": "code",
   "execution_count": null,
   "id": "40619d8d",
   "metadata": {},
   "outputs": [],
   "source": [
    "max(cps.wage)"
   ]
  },
  {
   "cell_type": "code",
   "execution_count": null,
   "id": "c2ccce88",
   "metadata": {},
   "outputs": [],
   "source": [
    "thresholds = np.array([0, 10, 20, 40, 75, 100, 200, 300, 500 ])*1000\n",
    "thresholds[0] =1"
   ]
  },
  {
   "cell_type": "code",
   "execution_count": null,
   "id": "fdec1fae",
   "metadata": {},
   "outputs": [],
   "source": [
    "interval_cps = createIntervalData(cps, 'wage', thresholds)\n",
    "interval_cps.head(15)"
   ]
  },
  {
   "cell_type": "code",
   "execution_count": null,
   "id": "96351e37",
   "metadata": {},
   "outputs": [],
   "source": [
    "c = 0 \n",
    "width =0\n",
    "for i in range(Nsim):\n",
    "    indx = rng.integers(low=0, high=popSize, size=Nobs)\n",
    "    sample = interval_cps.iloc[indx, :]\n",
    "    r = setBLP.oneDproj(sample.logwage_l,sample.logwage_u,sample.educ)\n",
    "    width+=max(r)-min(r)\n",
    "    if beta1>=min(r) and beta1 <=max(r):\n",
    "        c+=1\n",
    "        \n",
    "width=width/Nsim"
   ]
  },
  {
   "cell_type": "code",
   "execution_count": null,
   "id": "fe58078c",
   "metadata": {},
   "outputs": [],
   "source": [
    "c/Nsim"
   ]
  },
  {
   "cell_type": "code",
   "execution_count": null,
   "id": "3e5d1c50",
   "metadata": {},
   "outputs": [],
   "source": [
    "width"
   ]
  },
  {
   "cell_type": "markdown",
   "id": "a4d060b2",
   "metadata": {},
   "source": [
    "### Conclusion:  \n",
    "The id interval is so wide that there is no chance that true $\\beta_1$ is not in the computed identification set."
   ]
  },
  {
   "cell_type": "markdown",
   "id": "d29f9c35",
   "metadata": {},
   "source": [
    "(age, wage) pair"
   ]
  },
  {
   "cell_type": "code",
   "execution_count": null,
   "id": "e761e27c",
   "metadata": {},
   "outputs": [],
   "source": []
  },
  {
   "cell_type": "code",
   "execution_count": null,
   "id": "55eb4a08",
   "metadata": {},
   "outputs": [],
   "source": []
  },
  {
   "cell_type": "code",
   "execution_count": null,
   "id": "6a907795",
   "metadata": {},
   "outputs": [],
   "source": []
  },
  {
   "cell_type": "code",
   "execution_count": null,
   "id": "a816bd0d",
   "metadata": {},
   "outputs": [],
   "source": []
  }
 ],
 "metadata": {
  "kernelspec": {
   "display_name": "Python 3 (ipykernel)",
   "language": "python",
   "name": "python3"
  },
  "language_info": {
   "codemirror_mode": {
    "name": "ipython",
    "version": 3
   },
   "file_extension": ".py",
   "mimetype": "text/x-python",
   "name": "python",
   "nbconvert_exporter": "python",
   "pygments_lexer": "ipython3",
   "version": "3.11.4"
  }
 },
 "nbformat": 4,
 "nbformat_minor": 5
}
