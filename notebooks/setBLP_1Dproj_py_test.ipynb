{
 "cells": [
  {
   "cell_type": "code",
   "execution_count": 1,
   "id": "04ece091",
   "metadata": {},
   "outputs": [],
   "source": [
    "import pandas as pd\n",
    "import numpy as np\n",
    "import statsmodels.formula.api as smf\n",
    "import statsmodels.api as sm"
   ]
  },
  {
   "cell_type": "code",
   "execution_count": 2,
   "id": "bce3f082",
   "metadata": {},
   "outputs": [],
   "source": [
    "from datetime import datetime "
   ]
  },
  {
   "cell_type": "markdown",
   "id": "e4f27db1",
   "metadata": {},
   "source": [
    "# Uploading CPS data"
   ]
  },
  {
   "cell_type": "code",
   "execution_count": 3,
   "id": "b0bc0089",
   "metadata": {},
   "outputs": [],
   "source": [
    "cps = pd.read_csv('cps.csv',index_col=0)"
   ]
  },
  {
   "cell_type": "markdown",
   "id": "fa0d5fd1",
   "metadata": {},
   "source": [
    "# Best Linear Predictor"
   ]
  },
  {
   "cell_type": "code",
   "execution_count": 4,
   "id": "d493dac9",
   "metadata": {
    "scrolled": true
   },
   "outputs": [
    {
     "name": "stdout",
     "output_type": "stream",
     "text": [
      "                            OLS Regression Results                            \n",
      "==============================================================================\n",
      "Dep. Variable:               log_wage   R-squared:                       0.092\n",
      "Model:                            OLS   Adj. R-squared:                  0.092\n",
      "Method:                 Least Squares   F-statistic:                     2441.\n",
      "Date:                Wed, 25 Oct 2023   Prob (F-statistic):               0.00\n",
      "Time:                        01:25:26   Log-Likelihood:                -29890.\n",
      "No. Observations:               22715   AIC:                         5.978e+04\n",
      "Df Residuals:                   22713   BIC:                         5.980e+04\n",
      "Df Model:                           1                                         \n",
      "Covariance Type:                  HC1                                         \n",
      "==============================================================================\n",
      "                 coef    std err          z      P>|z|      [0.025      0.975]\n",
      "------------------------------------------------------------------------------\n",
      "Intercept      8.5711      0.034    254.650      0.000       8.505       8.637\n",
      "educ           0.1249      0.003     49.403      0.000       0.120       0.130\n",
      "==============================================================================\n",
      "Omnibus:                     8105.723   Durbin-Watson:                   1.889\n",
      "Prob(Omnibus):                  0.000   Jarque-Bera (JB):            48342.534\n",
      "Skew:                          -1.597   Prob(JB):                         0.00\n",
      "Kurtosis:                       9.394   Cond. No.                         76.9\n",
      "==============================================================================\n",
      "\n",
      "Notes:\n",
      "[1] Standard Errors are heteroscedasticity robust (HC1)\n"
     ]
    }
   ],
   "source": [
    "ols1 = smf.ols(formula='log_wage ~ educ',data=cps).fit(cov_type='HC1')\n",
    "\n",
    "print(ols1.summary())"
   ]
  },
  {
   "cell_type": "code",
   "execution_count": 5,
   "id": "2e244a79",
   "metadata": {},
   "outputs": [],
   "source": [
    "beta1 = ols1._results.params[1]"
   ]
  },
  {
   "cell_type": "code",
   "execution_count": 6,
   "id": "b0ea07e1",
   "metadata": {
    "scrolled": true
   },
   "outputs": [
    {
     "name": "stdout",
     "output_type": "stream",
     "text": [
      "                            OLS Regression Results                            \n",
      "==============================================================================\n",
      "Dep. Variable:               log_wage   R-squared:                       0.209\n",
      "Model:                            OLS   Adj. R-squared:                  0.209\n",
      "Method:                 Least Squares   F-statistic:                     2684.\n",
      "Date:                Wed, 25 Oct 2023   Prob (F-statistic):               0.00\n",
      "Time:                        01:25:26   Log-Likelihood:                -28323.\n",
      "No. Observations:               22715   AIC:                         5.665e+04\n",
      "Df Residuals:                   22712   BIC:                         5.668e+04\n",
      "Df Model:                           2                                         \n",
      "Covariance Type:                  HC1                                         \n",
      "==============================================================================\n",
      "                 coef    std err          z      P>|z|      [0.025      0.975]\n",
      "------------------------------------------------------------------------------\n",
      "Intercept      7.4145      0.039    187.891      0.000       7.337       7.492\n",
      "educ           0.1109      0.002     45.926      0.000       0.106       0.116\n",
      "age            0.0377      0.001     52.950      0.000       0.036       0.039\n",
      "==============================================================================\n",
      "Omnibus:                     9245.542   Durbin-Watson:                   1.884\n",
      "Prob(Omnibus):                  0.000   Jarque-Bera (JB):            76076.119\n",
      "Skew:                          -1.747   Prob(JB):                         0.00\n",
      "Kurtosis:                      11.257   Cond. No.                         263.\n",
      "==============================================================================\n",
      "\n",
      "Notes:\n",
      "[1] Standard Errors are heteroscedasticity robust (HC1)\n"
     ]
    }
   ],
   "source": [
    "ols2 = smf.ols(formula='log_wage ~ educ+age',data=cps).fit(cov_type='HC1')\n",
    "\n",
    "print(ols2.summary())"
   ]
  },
  {
   "cell_type": "code",
   "execution_count": 7,
   "id": "9ccaebe8",
   "metadata": {},
   "outputs": [],
   "source": [
    "beta2_0 = ols2._results.params[0]\n",
    "beta2_1 = ols2._results.params[1]\n",
    "beta2_2 = ols2._results.params[2]"
   ]
  },
  {
   "cell_type": "markdown",
   "id": "5e5545bf",
   "metadata": {},
   "source": [
    "# Creating Interval Data"
   ]
  },
  {
   "cell_type": "code",
   "execution_count": 8,
   "id": "c722613d",
   "metadata": {},
   "outputs": [],
   "source": [
    "# def createIntervalData(df, Y, thresholds):\n",
    "#     # The function accepts a dataframe, df, and make interval data from the Y (string) variable. \n",
    "#     # It adds to the dataframe the lower and upper values for Y (based on the thresholds) and the covariates.\n",
    "    \n",
    "#     thresholds = np.array(thresholds)\n",
    "\n",
    "#     idx = [sum(t <= y for t in thresholds)-1 for y in df[Y]]\n",
    "#     df[Y+'_l'] = thresholds[idx]\n",
    "#     df[Y+'_u'] = thresholds[np.array(idx)+1]\n",
    "    \n",
    "#     df['log'+Y+'_l']= np.log(df[Y+'_l'])\n",
    "#     df['log'+Y+'_u']= np.log(df[Y+'_u'])\n",
    "    \n",
    "#     return df"
   ]
  },
  {
   "cell_type": "code",
   "execution_count": 9,
   "id": "4661e8be",
   "metadata": {},
   "outputs": [],
   "source": [
    "# wage_quantiles = np.array(cps['wage'].quantile([0.0, 0.1,0.2,0.3,0.4,0.5,0.6,0.7,0.8,0.9,1.0]))\n",
    "# wage_quantiles[-1]+=1\n",
    "# logwage_quantiles = np.log(wage_quantiles)\n",
    "\n",
    "# cps['wage_qt'] = np.floor(cps['wage'].rank(method = 'max', pct=True)*10).astype(int).replace({10:9})\n",
    "# cps['wage_lower'] = wage_quantiles[cps['wage_qt']]\n",
    "# cps['wage_upper'] = wage_quantiles[cps['wage_qt']+1]\n",
    "\n",
    "# cps['logwage_lower'] = logwage_quantiles[cps['wage_qt']]\n",
    "# cps['logwage_upper'] = logwage_quantiles[cps['wage_qt']+1]"
   ]
  },
  {
   "cell_type": "code",
   "execution_count": 10,
   "id": "a69378bc",
   "metadata": {},
   "outputs": [],
   "source": [
    "# wage_quantiles = np.array(cps['wage'].quantile(np.linspace(0,1,11)))\n",
    "# wage_quantiles[-1]+=1\n",
    "# cps = createIntervalData(cps, 'wage', wage_quantiles)"
   ]
  },
  {
   "cell_type": "code",
   "execution_count": 11,
   "id": "f6404b7d",
   "metadata": {},
   "outputs": [
    {
     "data": {
      "text/html": [
       "<div>\n",
       "<style scoped>\n",
       "    .dataframe tbody tr th:only-of-type {\n",
       "        vertical-align: middle;\n",
       "    }\n",
       "\n",
       "    .dataframe tbody tr th {\n",
       "        vertical-align: top;\n",
       "    }\n",
       "\n",
       "    .dataframe thead th {\n",
       "        text-align: right;\n",
       "    }\n",
       "</style>\n",
       "<table border=\"1\" class=\"dataframe\">\n",
       "  <thead>\n",
       "    <tr style=\"text-align: right;\">\n",
       "      <th></th>\n",
       "      <th>age</th>\n",
       "      <th>wage</th>\n",
       "      <th>educ</th>\n",
       "      <th>log_wage</th>\n",
       "      <th>wage_l</th>\n",
       "      <th>wage_u</th>\n",
       "      <th>logwage_l</th>\n",
       "      <th>logwage_u</th>\n",
       "    </tr>\n",
       "  </thead>\n",
       "  <tbody>\n",
       "    <tr>\n",
       "      <th>0</th>\n",
       "      <td>22</td>\n",
       "      <td>12000</td>\n",
       "      <td>13</td>\n",
       "      <td>9.392662</td>\n",
       "      <td>9000.0</td>\n",
       "      <td>15000.0</td>\n",
       "      <td>9.104980</td>\n",
       "      <td>9.615805</td>\n",
       "    </tr>\n",
       "    <tr>\n",
       "      <th>1</th>\n",
       "      <td>21</td>\n",
       "      <td>3500</td>\n",
       "      <td>13</td>\n",
       "      <td>8.160518</td>\n",
       "      <td>1.0</td>\n",
       "      <td>9000.0</td>\n",
       "      <td>0.000000</td>\n",
       "      <td>9.104980</td>\n",
       "    </tr>\n",
       "    <tr>\n",
       "      <th>2</th>\n",
       "      <td>49</td>\n",
       "      <td>30000</td>\n",
       "      <td>13</td>\n",
       "      <td>10.308953</td>\n",
       "      <td>30000.0</td>\n",
       "      <td>36000.0</td>\n",
       "      <td>10.308953</td>\n",
       "      <td>10.491274</td>\n",
       "    </tr>\n",
       "    <tr>\n",
       "      <th>3</th>\n",
       "      <td>31</td>\n",
       "      <td>32000</td>\n",
       "      <td>16</td>\n",
       "      <td>10.373491</td>\n",
       "      <td>30000.0</td>\n",
       "      <td>36000.0</td>\n",
       "      <td>10.308953</td>\n",
       "      <td>10.491274</td>\n",
       "    </tr>\n",
       "    <tr>\n",
       "      <th>4</th>\n",
       "      <td>42</td>\n",
       "      <td>89630</td>\n",
       "      <td>21</td>\n",
       "      <td>11.403445</td>\n",
       "      <td>71000.0</td>\n",
       "      <td>362303.0</td>\n",
       "      <td>11.170435</td>\n",
       "      <td>12.800236</td>\n",
       "    </tr>\n",
       "    <tr>\n",
       "      <th>5</th>\n",
       "      <td>35</td>\n",
       "      <td>229339</td>\n",
       "      <td>21</td>\n",
       "      <td>12.342957</td>\n",
       "      <td>71000.0</td>\n",
       "      <td>362303.0</td>\n",
       "      <td>11.170435</td>\n",
       "      <td>12.800236</td>\n",
       "    </tr>\n",
       "    <tr>\n",
       "      <th>6</th>\n",
       "      <td>42</td>\n",
       "      <td>39000</td>\n",
       "      <td>12</td>\n",
       "      <td>10.571317</td>\n",
       "      <td>36000.0</td>\n",
       "      <td>43277.8</td>\n",
       "      <td>10.491274</td>\n",
       "      <td>10.675395</td>\n",
       "    </tr>\n",
       "    <tr>\n",
       "      <th>7</th>\n",
       "      <td>48</td>\n",
       "      <td>50000</td>\n",
       "      <td>12</td>\n",
       "      <td>10.819778</td>\n",
       "      <td>43277.8</td>\n",
       "      <td>53000.0</td>\n",
       "      <td>10.675395</td>\n",
       "      <td>10.878047</td>\n",
       "    </tr>\n",
       "    <tr>\n",
       "      <th>8</th>\n",
       "      <td>41</td>\n",
       "      <td>37500</td>\n",
       "      <td>13</td>\n",
       "      <td>10.532096</td>\n",
       "      <td>36000.0</td>\n",
       "      <td>43277.8</td>\n",
       "      <td>10.491274</td>\n",
       "      <td>10.675395</td>\n",
       "    </tr>\n",
       "    <tr>\n",
       "      <th>9</th>\n",
       "      <td>41</td>\n",
       "      <td>52000</td>\n",
       "      <td>14</td>\n",
       "      <td>10.858999</td>\n",
       "      <td>43277.8</td>\n",
       "      <td>53000.0</td>\n",
       "      <td>10.675395</td>\n",
       "      <td>10.878047</td>\n",
       "    </tr>\n",
       "    <tr>\n",
       "      <th>10</th>\n",
       "      <td>46</td>\n",
       "      <td>35500</td>\n",
       "      <td>12</td>\n",
       "      <td>10.477288</td>\n",
       "      <td>30000.0</td>\n",
       "      <td>36000.0</td>\n",
       "      <td>10.308953</td>\n",
       "      <td>10.491274</td>\n",
       "    </tr>\n",
       "    <tr>\n",
       "      <th>11</th>\n",
       "      <td>22</td>\n",
       "      <td>2500</td>\n",
       "      <td>13</td>\n",
       "      <td>7.824046</td>\n",
       "      <td>1.0</td>\n",
       "      <td>9000.0</td>\n",
       "      <td>0.000000</td>\n",
       "      <td>9.104980</td>\n",
       "    </tr>\n",
       "    <tr>\n",
       "      <th>12</th>\n",
       "      <td>45</td>\n",
       "      <td>46000</td>\n",
       "      <td>14</td>\n",
       "      <td>10.736397</td>\n",
       "      <td>43277.8</td>\n",
       "      <td>53000.0</td>\n",
       "      <td>10.675395</td>\n",
       "      <td>10.878047</td>\n",
       "    </tr>\n",
       "    <tr>\n",
       "      <th>13</th>\n",
       "      <td>20</td>\n",
       "      <td>4996</td>\n",
       "      <td>13</td>\n",
       "      <td>8.516393</td>\n",
       "      <td>1.0</td>\n",
       "      <td>9000.0</td>\n",
       "      <td>0.000000</td>\n",
       "      <td>9.104980</td>\n",
       "    </tr>\n",
       "    <tr>\n",
       "      <th>14</th>\n",
       "      <td>36</td>\n",
       "      <td>229339</td>\n",
       "      <td>16</td>\n",
       "      <td>12.342957</td>\n",
       "      <td>71000.0</td>\n",
       "      <td>362303.0</td>\n",
       "      <td>11.170435</td>\n",
       "      <td>12.800236</td>\n",
       "    </tr>\n",
       "    <tr>\n",
       "      <th>15</th>\n",
       "      <td>43</td>\n",
       "      <td>48000</td>\n",
       "      <td>12</td>\n",
       "      <td>10.778956</td>\n",
       "      <td>43277.8</td>\n",
       "      <td>53000.0</td>\n",
       "      <td>10.675395</td>\n",
       "      <td>10.878047</td>\n",
       "    </tr>\n",
       "    <tr>\n",
       "      <th>16</th>\n",
       "      <td>46</td>\n",
       "      <td>48000</td>\n",
       "      <td>14</td>\n",
       "      <td>10.778956</td>\n",
       "      <td>43277.8</td>\n",
       "      <td>53000.0</td>\n",
       "      <td>10.675395</td>\n",
       "      <td>10.878047</td>\n",
       "    </tr>\n",
       "    <tr>\n",
       "      <th>17</th>\n",
       "      <td>21</td>\n",
       "      <td>4000</td>\n",
       "      <td>13</td>\n",
       "      <td>8.294050</td>\n",
       "      <td>1.0</td>\n",
       "      <td>9000.0</td>\n",
       "      <td>0.000000</td>\n",
       "      <td>9.104980</td>\n",
       "    </tr>\n",
       "    <tr>\n",
       "      <th>18</th>\n",
       "      <td>27</td>\n",
       "      <td>16500</td>\n",
       "      <td>12</td>\n",
       "      <td>9.711116</td>\n",
       "      <td>15000.0</td>\n",
       "      <td>20000.0</td>\n",
       "      <td>9.615805</td>\n",
       "      <td>9.903488</td>\n",
       "    </tr>\n",
       "    <tr>\n",
       "      <th>19</th>\n",
       "      <td>38</td>\n",
       "      <td>41923</td>\n",
       "      <td>16</td>\n",
       "      <td>10.643590</td>\n",
       "      <td>36000.0</td>\n",
       "      <td>43277.8</td>\n",
       "      <td>10.491274</td>\n",
       "      <td>10.675395</td>\n",
       "    </tr>\n",
       "  </tbody>\n",
       "</table>\n",
       "</div>"
      ],
      "text/plain": [
       "    age    wage  educ   log_wage   wage_l    wage_u  logwage_l  logwage_u\n",
       "0    22   12000    13   9.392662   9000.0   15000.0   9.104980   9.615805\n",
       "1    21    3500    13   8.160518      1.0    9000.0   0.000000   9.104980\n",
       "2    49   30000    13  10.308953  30000.0   36000.0  10.308953  10.491274\n",
       "3    31   32000    16  10.373491  30000.0   36000.0  10.308953  10.491274\n",
       "4    42   89630    21  11.403445  71000.0  362303.0  11.170435  12.800236\n",
       "5    35  229339    21  12.342957  71000.0  362303.0  11.170435  12.800236\n",
       "6    42   39000    12  10.571317  36000.0   43277.8  10.491274  10.675395\n",
       "7    48   50000    12  10.819778  43277.8   53000.0  10.675395  10.878047\n",
       "8    41   37500    13  10.532096  36000.0   43277.8  10.491274  10.675395\n",
       "9    41   52000    14  10.858999  43277.8   53000.0  10.675395  10.878047\n",
       "10   46   35500    12  10.477288  30000.0   36000.0  10.308953  10.491274\n",
       "11   22    2500    13   7.824046      1.0    9000.0   0.000000   9.104980\n",
       "12   45   46000    14  10.736397  43277.8   53000.0  10.675395  10.878047\n",
       "13   20    4996    13   8.516393      1.0    9000.0   0.000000   9.104980\n",
       "14   36  229339    16  12.342957  71000.0  362303.0  11.170435  12.800236\n",
       "15   43   48000    12  10.778956  43277.8   53000.0  10.675395  10.878047\n",
       "16   46   48000    14  10.778956  43277.8   53000.0  10.675395  10.878047\n",
       "17   21    4000    13   8.294050      1.0    9000.0   0.000000   9.104980\n",
       "18   27   16500    12   9.711116  15000.0   20000.0   9.615805   9.903488\n",
       "19   38   41923    16  10.643590  36000.0   43277.8  10.491274  10.675395"
      ]
     },
     "execution_count": 11,
     "metadata": {},
     "output_type": "execute_result"
    }
   ],
   "source": [
    "cps.head(20)"
   ]
  },
  {
   "cell_type": "code",
   "execution_count": 12,
   "id": "c9b5850a",
   "metadata": {},
   "outputs": [],
   "source": [
    "# cps.to_csv(\"cps.csv\")"
   ]
  },
  {
   "cell_type": "code",
   "execution_count": 13,
   "id": "d45fc55f",
   "metadata": {},
   "outputs": [
    {
     "data": {
      "text/html": [
       "<div>\n",
       "<style scoped>\n",
       "    .dataframe tbody tr th:only-of-type {\n",
       "        vertical-align: middle;\n",
       "    }\n",
       "\n",
       "    .dataframe tbody tr th {\n",
       "        vertical-align: top;\n",
       "    }\n",
       "\n",
       "    .dataframe thead th {\n",
       "        text-align: right;\n",
       "    }\n",
       "</style>\n",
       "<table border=\"1\" class=\"dataframe\">\n",
       "  <thead>\n",
       "    <tr style=\"text-align: right;\">\n",
       "      <th></th>\n",
       "      <th>age</th>\n",
       "      <th>wage</th>\n",
       "      <th>educ</th>\n",
       "      <th>log_wage</th>\n",
       "      <th>wage_l</th>\n",
       "      <th>wage_u</th>\n",
       "      <th>logwage_l</th>\n",
       "      <th>logwage_u</th>\n",
       "    </tr>\n",
       "  </thead>\n",
       "  <tbody>\n",
       "    <tr>\n",
       "      <th>count</th>\n",
       "      <td>20.000000</td>\n",
       "      <td>20.000000</td>\n",
       "      <td>20.000000</td>\n",
       "      <td>20.000000</td>\n",
       "      <td>20.000000</td>\n",
       "      <td>20.000000</td>\n",
       "      <td>20.000000</td>\n",
       "      <td>20.000000</td>\n",
       "    </tr>\n",
       "    <tr>\n",
       "      <th>mean</th>\n",
       "      <td>35.800000</td>\n",
       "      <td>52586.350000</td>\n",
       "      <td>14.150000</td>\n",
       "      <td>10.243398</td>\n",
       "      <td>32569.650000</td>\n",
       "      <td>83037.120000</td>\n",
       "      <td>8.400487</td>\n",
       "      <td>10.611508</td>\n",
       "    </tr>\n",
       "    <tr>\n",
       "      <th>std</th>\n",
       "      <td>10.190811</td>\n",
       "      <td>64151.364821</td>\n",
       "      <td>2.680829</td>\n",
       "      <td>1.258614</td>\n",
       "      <td>23131.429798</td>\n",
       "      <td>121479.482649</td>\n",
       "      <td>4.335780</td>\n",
       "      <td>1.155163</td>\n",
       "    </tr>\n",
       "    <tr>\n",
       "      <th>min</th>\n",
       "      <td>20.000000</td>\n",
       "      <td>2500.000000</td>\n",
       "      <td>12.000000</td>\n",
       "      <td>7.824046</td>\n",
       "      <td>1.000000</td>\n",
       "      <td>9000.000000</td>\n",
       "      <td>0.000000</td>\n",
       "      <td>9.104980</td>\n",
       "    </tr>\n",
       "    <tr>\n",
       "      <th>25%</th>\n",
       "      <td>25.750000</td>\n",
       "      <td>15375.000000</td>\n",
       "      <td>12.750000</td>\n",
       "      <td>9.631502</td>\n",
       "      <td>13500.000000</td>\n",
       "      <td>18750.000000</td>\n",
       "      <td>9.488099</td>\n",
       "      <td>9.831567</td>\n",
       "    </tr>\n",
       "    <tr>\n",
       "      <th>50%</th>\n",
       "      <td>39.500000</td>\n",
       "      <td>38250.000000</td>\n",
       "      <td>13.000000</td>\n",
       "      <td>10.551707</td>\n",
       "      <td>36000.000000</td>\n",
       "      <td>43277.800000</td>\n",
       "      <td>10.491274</td>\n",
       "      <td>10.675395</td>\n",
       "    </tr>\n",
       "    <tr>\n",
       "      <th>75%</th>\n",
       "      <td>43.500000</td>\n",
       "      <td>48500.000000</td>\n",
       "      <td>14.500000</td>\n",
       "      <td>10.789162</td>\n",
       "      <td>43277.800000</td>\n",
       "      <td>53000.000000</td>\n",
       "      <td>10.675395</td>\n",
       "      <td>10.878047</td>\n",
       "    </tr>\n",
       "    <tr>\n",
       "      <th>max</th>\n",
       "      <td>49.000000</td>\n",
       "      <td>229339.000000</td>\n",
       "      <td>21.000000</td>\n",
       "      <td>12.342957</td>\n",
       "      <td>71000.000000</td>\n",
       "      <td>362303.000000</td>\n",
       "      <td>11.170435</td>\n",
       "      <td>12.800236</td>\n",
       "    </tr>\n",
       "  </tbody>\n",
       "</table>\n",
       "</div>"
      ],
      "text/plain": [
       "             age           wage       educ   log_wage        wage_l  \\\n",
       "count  20.000000      20.000000  20.000000  20.000000     20.000000   \n",
       "mean   35.800000   52586.350000  14.150000  10.243398  32569.650000   \n",
       "std    10.190811   64151.364821   2.680829   1.258614  23131.429798   \n",
       "min    20.000000    2500.000000  12.000000   7.824046      1.000000   \n",
       "25%    25.750000   15375.000000  12.750000   9.631502  13500.000000   \n",
       "50%    39.500000   38250.000000  13.000000  10.551707  36000.000000   \n",
       "75%    43.500000   48500.000000  14.500000  10.789162  43277.800000   \n",
       "max    49.000000  229339.000000  21.000000  12.342957  71000.000000   \n",
       "\n",
       "              wage_u  logwage_l  logwage_u  \n",
       "count      20.000000  20.000000  20.000000  \n",
       "mean    83037.120000   8.400487  10.611508  \n",
       "std    121479.482649   4.335780   1.155163  \n",
       "min      9000.000000   0.000000   9.104980  \n",
       "25%     18750.000000   9.488099   9.831567  \n",
       "50%     43277.800000  10.491274  10.675395  \n",
       "75%     53000.000000  10.675395  10.878047  \n",
       "max    362303.000000  11.170435  12.800236  "
      ]
     },
     "execution_count": 13,
     "metadata": {},
     "output_type": "execute_result"
    }
   ],
   "source": [
    "cps.head(20).describe()"
   ]
  },
  {
   "cell_type": "markdown",
   "id": "08d1556d",
   "metadata": {},
   "source": [
    "# Partial Identification"
   ]
  },
  {
   "cell_type": "code",
   "execution_count": 14,
   "id": "390f482c",
   "metadata": {},
   "outputs": [],
   "source": [
    "import setBLP"
   ]
  },
  {
   "cell_type": "markdown",
   "id": "1cfb6922",
   "metadata": {},
   "source": [
    "### Preparing vector and matrix versions of the data"
   ]
  },
  {
   "cell_type": "code",
   "execution_count": 15,
   "id": "b603ecbe",
   "metadata": {},
   "outputs": [],
   "source": [
    "yl = cps.logwage_l;\n",
    "yu = cps.logwage_u;\n",
    "x1 = cps.age;\n",
    "x2 = cps.educ;\n",
    "x = cps[['age','educ']];"
   ]
  },
  {
   "cell_type": "markdown",
   "id": "cfaae2f5",
   "metadata": {},
   "source": [
    "### Polygons from the first 20 data points, using x1 (age), yl, and yu"
   ]
  },
  {
   "cell_type": "code",
   "execution_count": 16,
   "id": "b0632b61",
   "metadata": {},
   "outputs": [
    {
     "name": "stdout",
     "output_type": "stream",
     "text": [
      "Execution time:  10.361 ms\n"
     ]
    }
   ],
   "source": [
    "start_time = datetime.now() \n",
    "\n",
    "G = []\n",
    "for i in range(20):\n",
    "    vl = setBLP.Vertex((yl[i], yl[i]*x1[i]))\n",
    "    vu = setBLP.Vertex((yu[i], yu[i]*x1[i]))\n",
    "    p = setBLP.Polygon(vl, vu) # a polygon with only two vertices is actually a segment\n",
    "    p.sort()\n",
    "    G.append(p)\n",
    "    \n",
    "P = G[0]\n",
    "for i in range(19):\n",
    "    P = setBLP.minkowskiSum(P, G[i+1])\n",
    "P.sort()\n",
    "\n",
    "end_time = datetime.now() \n",
    "  \n",
    "time_difference = (end_time - start_time).total_seconds() * 10**3\n",
    "print(\"Execution time: \", time_difference, \"ms\")"
   ]
  },
  {
   "cell_type": "code",
   "execution_count": 17,
   "id": "6fbea772",
   "metadata": {},
   "outputs": [
    {
     "data": {
      "image/png": "[encoded data removed]",
      "text/plain": [
       "<Figure size 432x288 with 1 Axes>"
      ]
     },
     "metadata": {
      "needs_background": "light"
     },
     "output_type": "display_data"
    }
   ],
   "source": [
    "P.scatterPolygon()"
   ]
  },
  {
   "cell_type": "code",
   "execution_count": 18,
   "id": "4df4f473",
   "metadata": {},
   "outputs": [
    {
     "data": {
      "image/png": "[encoded data removed]",
      "text/plain": [
       "<Figure size 432x288 with 1 Axes>"
      ]
     },
     "metadata": {
      "needs_background": "light"
     },
     "output_type": "display_data"
    }
   ],
   "source": [
    "P.plotPolygon()"
   ]
  },
  {
   "cell_type": "code",
   "execution_count": 19,
   "id": "2f15c199",
   "metadata": {},
   "outputs": [
    {
     "data": {
      "text/plain": [
       "37"
      ]
     },
     "execution_count": 19,
     "metadata": {},
     "output_type": "execute_result"
    }
   ],
   "source": [
    "len(P.vertices)"
   ]
  },
  {
   "cell_type": "code",
   "execution_count": 20,
   "id": "bddb6792",
   "metadata": {
    "scrolled": true
   },
   "outputs": [
    {
     "name": "stdout",
     "output_type": "stream",
     "text": [
      "{'v': array([ 168.00974684, 6671.18079592])}\n",
      "{'v': array([ 177.1147267 , 6853.28039305])}\n",
      "{'v': array([ 186.21970655, 7044.48497003])}\n",
      "{'v': array([ 195.32468641, 7235.68954701])}\n",
      "{'v': array([ 195.83551203, 7246.92771073])}\n",
      "{'v': array([ 204.94049189, 7447.23726757])}\n",
      "{'v': array([ 205.22817396, 7455.00468353])}\n",
      "{'v': array([ 205.41049552, 7460.65665179])}\n",
      "{'v': array([ 207.04029652, 7517.69968683])}\n",
      "{'v': array([ 208.67009752, 7576.37252288])}\n",
      "{'v': array([ 208.85421838, 7583.36911567])}\n",
      "{'v': array([ 209.03833925, 7590.91807106])}\n",
      "{'v': array([ 209.24099136, 7599.22680765])}\n",
      "{'v': array([ 211.05491322, 7675.41152595])}\n",
      "{'v': array([ 211.25756534, 7684.12556677])}\n",
      "{'v': array([ 211.46021745, 7693.24491182])}\n",
      "{'v': array([ 211.66286956, 7702.56690897])}\n",
      "{'v': array([ 211.84519112, 7710.95370059])}\n",
      "{'v': array([ 212.04784323, 7720.68100197])}\n",
      "{'v': array([ 212.23016479, 7729.61475825])}\n",
      "{'v': array([ 203.12518493, 7547.51516112])}\n",
      "{'v': array([ 194.02020507, 7356.31058414])}\n",
      "{'v': array([ 184.91522522, 7165.10600716])}\n",
      "{'v': array([ 175.29941974, 6953.5582866 ])}\n",
      "{'v': array([ 175.01173766, 6945.79087064])}\n",
      "{'v': array([ 174.82941611, 6940.13890238])}\n",
      "{'v': array([ 173.19961511, 6883.09586733])}\n",
      "{'v': array([ 171.56981411, 6824.42303129])}\n",
      "{'v': array([ 171.38569324, 6817.4264385 ])}\n",
      "{'v': array([ 171.18304113, 6809.1177019 ])}\n",
      "{'v': array([ 170.99892027, 6801.56874652])}\n",
      "{'v': array([ 169.1849984 , 6725.38402822])}\n",
      "{'v': array([ 168.98234629, 6716.6699874 ])}\n",
      "{'v': array([ 168.77969418, 6707.55064235])}\n",
      "{'v': array([ 168.57704207, 6698.2286452 ])}\n",
      "{'v': array([ 168.39472051, 6689.84185358])}\n",
      "{'v': array([ 168.1920684, 6680.1145522])}\n"
     ]
    }
   ],
   "source": [
    "for i in range(37):\n",
    "    print(vars(P.vertices[i]))"
   ]
  },
  {
   "cell_type": "markdown",
   "id": "97d29df2",
   "metadata": {},
   "source": [
    "## Trying for all data in cps"
   ]
  },
  {
   "cell_type": "code",
   "execution_count": 118,
   "id": "72c557ba",
   "metadata": {},
   "outputs": [],
   "source": [
    "n = cps.shape[0]"
   ]
  },
  {
   "cell_type": "code",
   "execution_count": 120,
   "id": "b3679b3c",
   "metadata": {
    "scrolled": true
   },
   "outputs": [
    {
     "name": "stdout",
     "output_type": "stream",
     "text": [
      "6\n",
      "13\n",
      "21\n",
      "52\n",
      "106\n",
      "219\n",
      "329\n",
      "771\n",
      "1198\n",
      "2054\n",
      "3785\n",
      "10633\n",
      "24426\n",
      "38207\n",
      "Execution time:  14.705717 s\n"
     ]
    }
   ],
   "source": [
    "start_time = datetime.now() \n",
    "\n",
    "G = []\n",
    "for i in range(n):\n",
    "    vl = setBLP.Vertex((yl[i]/n, yl[i]*x1[i]/n))\n",
    "    vu = setBLP.Vertex((yu[i]/n, yu[i]*x1[i]/n))\n",
    "    p = setBLP.Polygon(vl, vu) # a polygon with only two vertices is actually a segment\n",
    "    p.sort()\n",
    "    G.append(p)\n",
    "    \n",
    "m = int(n)\n",
    "while m>1:\n",
    "    if m %2 !=0: # if we have odd numbers of polygons to add up\n",
    "        G[0] = setBLP.minkowskiSum(G[0], G[m-1])\n",
    "        G[0].sort()\n",
    "        m -=1\n",
    "    for j in range(int(m/2)):\n",
    "        G[j] = setBLP.minkowskiSum(G[j], G[m-1-j])\n",
    "        G[j].sort()\n",
    "    m = int(m/2)\n",
    "    print(len(G[0].vertices))\n",
    "    \n",
    "end_time = datetime.now() \n",
    "  \n",
    "time_difference = (end_time - start_time).total_seconds()\n",
    "print(\"Execution time: \", time_difference, \"s\")"
   ]
  },
  {
   "cell_type": "code",
   "execution_count": 121,
   "id": "e0c19347",
   "metadata": {
    "scrolled": false
   },
   "outputs": [
    {
     "data": {
      "image/png": "[encoded data removed]",
      "text/plain": [
       "<Figure size 432x288 with 1 Axes>"
      ]
     },
     "metadata": {
      "needs_background": "light"
     },
     "output_type": "display_data"
    }
   ],
   "source": [
    "G[0].sort()\n",
    "G[0].plotPolygon()"
   ]
  },
  {
   "cell_type": "code",
   "execution_count": 122,
   "id": "cc8b929a",
   "metadata": {},
   "outputs": [
    {
     "data": {
      "image/png": "[encoded data removed]",
      "text/plain": [
       "<Figure size 432x288 with 1 Axes>"
      ]
     },
     "metadata": {
      "needs_background": "light"
     },
     "output_type": "display_data"
    }
   ],
   "source": [
    "G[0].scatterPolygon()"
   ]
  },
  {
   "cell_type": "markdown",
   "id": "d33fe6c2",
   "metadata": {},
   "source": [
    "## 1. Testing the oneDproj function"
   ]
  },
  {
   "cell_type": "code",
   "execution_count": 25,
   "id": "f1443c9c",
   "metadata": {},
   "outputs": [],
   "source": [
    "r1=setBLP.oneDproj(yl,yu,x1)"
   ]
  },
  {
   "cell_type": "code",
   "execution_count": 26,
   "id": "7179939e",
   "metadata": {},
   "outputs": [
    {
     "data": {
      "text/plain": [
       "{'bound': [-0.004887858329797927, 0.14865963017398873],\n",
       " 'Htest': <setBLP.TestResults at 0x7fe3439c4730>,\n",
       " 'dHtest': <setBLP.TestResults at 0x7fe37558dfd0>}"
      ]
     },
     "execution_count": 26,
     "metadata": {},
     "output_type": "execute_result"
    }
   ],
   "source": [
    "vars(r1)"
   ]
  },
  {
   "cell_type": "code",
   "execution_count": 27,
   "id": "5bef481f",
   "metadata": {
    "scrolled": true
   },
   "outputs": [
    {
     "data": {
      "text/plain": [
       "{'TestStat': None,\n",
       " 'criticalVal': 0.7047452080966828,\n",
       " 'ConfidenceInterval': [-0.009563871880058493, 0.1533356437242493]}"
      ]
     },
     "execution_count": 27,
     "metadata": {},
     "output_type": "execute_result"
    }
   ],
   "source": [
    "vars(r1.Htest)"
   ]
  },
  {
   "cell_type": "code",
   "execution_count": 28,
   "id": "c9fcf97e",
   "metadata": {
    "scrolled": true
   },
   "outputs": [
    {
     "data": {
      "text/plain": [
       "{'TestStat': None,\n",
       " 'criticalVal': 0.5974789676534665,\n",
       " 'ConfidenceInterval': [-0.008852155946362954, 0.15262392779055375]}"
      ]
     },
     "execution_count": 28,
     "metadata": {},
     "output_type": "execute_result"
    }
   ],
   "source": [
    "vars(r1.dHtest)"
   ]
  },
  {
   "cell_type": "code",
   "execution_count": 29,
   "id": "065d71d6",
   "metadata": {},
   "outputs": [],
   "source": [
    "r2=setBLP.oneDproj(yl,yu,x2)"
   ]
  },
  {
   "cell_type": "code",
   "execution_count": 30,
   "id": "7899fde7",
   "metadata": {
    "scrolled": true
   },
   "outputs": [
    {
     "data": {
      "text/plain": [
       "{'bound': [0.001786042221938278, 0.3685793555816805],\n",
       " 'Htest': <setBLP.TestResults at 0x7fe35022bf40>,\n",
       " 'dHtest': <setBLP.TestResults at 0x7fe37558f130>}"
      ]
     },
     "execution_count": 30,
     "metadata": {},
     "output_type": "execute_result"
    }
   ],
   "source": [
    "vars(r2)"
   ]
  },
  {
   "cell_type": "code",
   "execution_count": 31,
   "id": "69505079",
   "metadata": {},
   "outputs": [
    {
     "data": {
      "text/plain": [
       "{'TestStat': None,\n",
       " 'criticalVal': 2.45608530397215,\n",
       " 'ConfidenceInterval': [-0.014510185166377709, 0.38487558296999647]}"
      ]
     },
     "execution_count": 31,
     "metadata": {},
     "output_type": "execute_result"
    }
   ],
   "source": [
    "vars(r2.Htest)"
   ]
  },
  {
   "cell_type": "code",
   "execution_count": 32,
   "id": "acd8388e",
   "metadata": {},
   "outputs": [
    {
     "data": {
      "text/plain": [
       "{'TestStat': None,\n",
       " 'criticalVal': 2.1522110409953727,\n",
       " 'ConfidenceInterval': [-0.012493966886451614, 0.38285936469007037]}"
      ]
     },
     "execution_count": 32,
     "metadata": {},
     "output_type": "execute_result"
    }
   ],
   "source": [
    "vars(r2.dHtest)"
   ]
  },
  {
   "cell_type": "code",
   "execution_count": 33,
   "id": "48c746d9",
   "metadata": {},
   "outputs": [
    {
     "name": "stderr",
     "output_type": "stream",
     "text": [
      "/Users/yunyun/opt/anaconda3/lib/python3.8/site-packages/statsmodels/tsa/tsatools.py:142: FutureWarning: In a future version of pandas all arguments of concat except for the argument 'objs' will be keyword-only\n",
      "  x = pd.concat(x[::order], 1)\n"
     ]
    }
   ],
   "source": [
    "r3=setBLP.oneDproj(yl,yu,x,0)"
   ]
  },
  {
   "cell_type": "code",
   "execution_count": 34,
   "id": "984abd38",
   "metadata": {},
   "outputs": [
    {
     "data": {
      "text/plain": [
       "{'bound': [-0.009051777215653997, 0.14432389300936818],\n",
       " 'Htest': <setBLP.TestResults at 0x7fe360258d60>,\n",
       " 'dHtest': <setBLP.TestResults at 0x7fe34348df70>}"
      ]
     },
     "execution_count": 34,
     "metadata": {},
     "output_type": "execute_result"
    }
   ],
   "source": [
    "vars(r3)"
   ]
  },
  {
   "cell_type": "code",
   "execution_count": 35,
   "id": "a8b31138",
   "metadata": {},
   "outputs": [
    {
     "data": {
      "text/plain": [
       "{'TestStat': None,\n",
       " 'criticalVal': 1.2481549617964003,\n",
       " 'ConfidenceInterval': [-0.017333336915715473, 0.15260545270942966]}"
      ]
     },
     "execution_count": 35,
     "metadata": {},
     "output_type": "execute_result"
    }
   ],
   "source": [
    "vars(r3.Htest)"
   ]
  },
  {
   "cell_type": "code",
   "execution_count": 36,
   "id": "20263392",
   "metadata": {},
   "outputs": [
    {
     "data": {
      "text/plain": [
       "{'TestStat': None,\n",
       " 'criticalVal': 0.9464368350281701,\n",
       " 'ConfidenceInterval': [-0.015331424688546516, 0.1506035404822607]}"
      ]
     },
     "execution_count": 36,
     "metadata": {},
     "output_type": "execute_result"
    }
   ],
   "source": [
    "vars(r3.dHtest)"
   ]
  },
  {
   "cell_type": "code",
   "execution_count": 37,
   "id": "885b213f",
   "metadata": {},
   "outputs": [],
   "source": [
    "r4=setBLP.oneDproj(yl,yu,x,1)"
   ]
  },
  {
   "cell_type": "code",
   "execution_count": 38,
   "id": "c5a6fe30",
   "metadata": {},
   "outputs": [
    {
     "data": {
      "text/plain": [
       "{'bound': [-0.025567837808786895, 0.3456382284304264],\n",
       " 'Htest': <setBLP.TestResults at 0x7fe34348daf0>,\n",
       " 'dHtest': <setBLP.TestResults at 0x7fe343490670>}"
      ]
     },
     "execution_count": 38,
     "metadata": {},
     "output_type": "execute_result"
    }
   ],
   "source": [
    "vars(r4)"
   ]
  },
  {
   "cell_type": "code",
   "execution_count": 39,
   "id": "5e6f6a10",
   "metadata": {},
   "outputs": [
    {
     "data": {
      "text/plain": [
       "{'TestStat': None,\n",
       " 'criticalVal': 5.564816011424855,\n",
       " 'ConfidenceInterval': [-0.06249062178117508, 0.3825610124028146]}"
      ]
     },
     "execution_count": 39,
     "metadata": {},
     "output_type": "execute_result"
    }
   ],
   "source": [
    "vars(r4.Htest)"
   ]
  },
  {
   "cell_type": "code",
   "execution_count": 40,
   "id": "45841cb6",
   "metadata": {},
   "outputs": [
    {
     "data": {
      "text/plain": [
       "{'TestStat': None,\n",
       " 'criticalVal': 5.2010007031488295,\n",
       " 'ConfidenceInterval': [-0.06007669219109614, 0.3801470828127357]}"
      ]
     },
     "execution_count": 40,
     "metadata": {},
     "output_type": "execute_result"
    }
   ],
   "source": [
    "vars(r4.dHtest)"
   ]
  },
  {
   "cell_type": "code",
   "execution_count": 41,
   "id": "659e6cf3",
   "metadata": {
    "scrolled": true
   },
   "outputs": [],
   "source": [
    "r5=setBLP.oneDproj(yl,yu,x)"
   ]
  },
  {
   "cell_type": "code",
   "execution_count": 42,
   "id": "09bda6e2",
   "metadata": {},
   "outputs": [
    {
     "data": {
      "text/plain": [
       "{'bound': [-0.009051777215653997, 0.14432389300936818],\n",
       " 'Htest': <setBLP.TestResults at 0x7fe34348d850>,\n",
       " 'dHtest': <setBLP.TestResults at 0x7fe343490280>}"
      ]
     },
     "execution_count": 42,
     "metadata": {},
     "output_type": "execute_result"
    }
   ],
   "source": [
    "vars(r5[0])"
   ]
  },
  {
   "cell_type": "code",
   "execution_count": 43,
   "id": "6cbca7bc",
   "metadata": {},
   "outputs": [
    {
     "data": {
      "text/plain": [
       "{'TestStat': None,\n",
       " 'criticalVal': 0.6934361684131858,\n",
       " 'ConfidenceInterval': [-0.013652754820734766, -0.020966860203706125]}"
      ]
     },
     "execution_count": 43,
     "metadata": {},
     "output_type": "execute_result"
    }
   ],
   "source": [
    "vars(r5[0].Htest)"
   ]
  },
  {
   "cell_type": "code",
   "execution_count": 44,
   "id": "94e537bf",
   "metadata": {},
   "outputs": [
    {
     "data": {
      "text/plain": [
       "{'TestStat': None,\n",
       " 'criticalVal': 0.5942690040626841,\n",
       " 'ConfidenceInterval': [-0.012994776591274784, -0.021624838433166108]}"
      ]
     },
     "execution_count": 44,
     "metadata": {},
     "output_type": "execute_result"
    }
   ],
   "source": [
    "vars(r5[0].dHtest)"
   ]
  },
  {
   "cell_type": "code",
   "execution_count": 45,
   "id": "59788eb2",
   "metadata": {},
   "outputs": [
    {
     "data": {
      "text/plain": [
       "{'bound': [-0.025567837808786895, 0.3456382284304264],\n",
       " 'Htest': <setBLP.TestResults at 0x7fe375ce8070>,\n",
       " 'dHtest': <setBLP.TestResults at 0x7fe375ce83a0>}"
      ]
     },
     "execution_count": 45,
     "metadata": {},
     "output_type": "execute_result"
    }
   ],
   "source": [
    "vars(r5[1])"
   ]
  },
  {
   "cell_type": "code",
   "execution_count": 46,
   "id": "bba296e0",
   "metadata": {},
   "outputs": [
    {
     "data": {
      "text/plain": [
       "{'TestStat': None,\n",
       " 'criticalVal': 2.3388498311827313,\n",
       " 'ConfidenceInterval': [0.12880552782293228, 0.3611565936168623]}"
      ]
     },
     "execution_count": 46,
     "metadata": {},
     "output_type": "execute_result"
    }
   ],
   "source": [
    "vars(r5[1].Htest)"
   ]
  },
  {
   "cell_type": "code",
   "execution_count": 47,
   "id": "14ef31bc",
   "metadata": {},
   "outputs": [
    {
     "data": {
      "text/plain": [
       "{'TestStat': None,\n",
       " 'criticalVal': 2.0950305864517196,\n",
       " 'ConfidenceInterval': [0.13042327857750016, 0.3595388428622944]}"
      ]
     },
     "execution_count": 47,
     "metadata": {},
     "output_type": "execute_result"
    }
   ],
   "source": [
    "vars(r5[1].dHtest)"
   ]
  },
  {
   "cell_type": "code",
   "execution_count": 48,
   "id": "d88fa926",
   "metadata": {},
   "outputs": [],
   "source": [
    "r6 = setBLP.oneDproj(yl, 'logwage_u', 'age', data = cps)"
   ]
  },
  {
   "cell_type": "code",
   "execution_count": 49,
   "id": "ef2f897a",
   "metadata": {},
   "outputs": [
    {
     "data": {
      "text/plain": [
       "{'bound': [-0.004887858329797927, 0.14865963017398873],\n",
       " 'Htest': <setBLP.TestResults at 0x7fe375ce80a0>,\n",
       " 'dHtest': <setBLP.TestResults at 0x7fe375cf2ee0>}"
      ]
     },
     "execution_count": 49,
     "metadata": {},
     "output_type": "execute_result"
    }
   ],
   "source": [
    "vars(r6)"
   ]
  },
  {
   "cell_type": "code",
   "execution_count": 50,
   "id": "0dec96a1",
   "metadata": {},
   "outputs": [
    {
     "data": {
      "text/plain": [
       "{'TestStat': None,\n",
       " 'criticalVal': 0.7047452080966828,\n",
       " 'ConfidenceInterval': [-0.009563871880058493, 0.1533356437242493]}"
      ]
     },
     "execution_count": 50,
     "metadata": {},
     "output_type": "execute_result"
    }
   ],
   "source": [
    "vars(r6.Htest)"
   ]
  },
  {
   "cell_type": "code",
   "execution_count": 51,
   "id": "877469cc",
   "metadata": {},
   "outputs": [
    {
     "data": {
      "text/plain": [
       "{'TestStat': None,\n",
       " 'criticalVal': 0.5974789676534665,\n",
       " 'ConfidenceInterval': [-0.008852155946362954, 0.15262392779055375]}"
      ]
     },
     "execution_count": 51,
     "metadata": {},
     "output_type": "execute_result"
    }
   ],
   "source": [
    "vars(r6.dHtest)"
   ]
  },
  {
   "cell_type": "code",
   "execution_count": 52,
   "id": "186d149d",
   "metadata": {},
   "outputs": [],
   "source": [
    "r7 = setBLP.oneDproj(yl, yu, 'educ', data = cps)"
   ]
  },
  {
   "cell_type": "code",
   "execution_count": 53,
   "id": "db3436c4",
   "metadata": {},
   "outputs": [
    {
     "data": {
      "text/plain": [
       "{'bound': [0.001786042221938278, 0.3685793555816805],\n",
       " 'Htest': <setBLP.TestResults at 0x7fe375cf2c40>,\n",
       " 'dHtest': <setBLP.TestResults at 0x7fe375ccdcd0>}"
      ]
     },
     "execution_count": 53,
     "metadata": {},
     "output_type": "execute_result"
    }
   ],
   "source": [
    "vars(r7)"
   ]
  },
  {
   "cell_type": "code",
   "execution_count": 54,
   "id": "a9138708",
   "metadata": {},
   "outputs": [
    {
     "data": {
      "text/plain": [
       "{'TestStat': None,\n",
       " 'criticalVal': 2.45608530397215,\n",
       " 'ConfidenceInterval': [-0.014510185166377709, 0.38487558296999647]}"
      ]
     },
     "execution_count": 54,
     "metadata": {},
     "output_type": "execute_result"
    }
   ],
   "source": [
    "vars(r7.Htest)"
   ]
  },
  {
   "cell_type": "code",
   "execution_count": 55,
   "id": "ef5dfb8d",
   "metadata": {},
   "outputs": [
    {
     "data": {
      "text/plain": [
       "{'TestStat': None,\n",
       " 'criticalVal': 2.1522110409953727,\n",
       " 'ConfidenceInterval': [-0.012493966886451614, 0.38285936469007037]}"
      ]
     },
     "execution_count": 55,
     "metadata": {},
     "output_type": "execute_result"
    }
   ],
   "source": [
    "vars(r7.dHtest)"
   ]
  },
  {
   "cell_type": "code",
   "execution_count": 56,
   "id": "6d2589fa",
   "metadata": {},
   "outputs": [],
   "source": [
    "r8 = setBLP.oneDproj(yl, yu, ['age','educ'], 0, data = cps)"
   ]
  },
  {
   "cell_type": "code",
   "execution_count": 57,
   "id": "53993e18",
   "metadata": {},
   "outputs": [
    {
     "data": {
      "text/plain": [
       "{'bound': [-0.009051777215653997, 0.14432389300936818],\n",
       " 'Htest': <setBLP.TestResults at 0x7fe375ccd160>,\n",
       " 'dHtest': <setBLP.TestResults at 0x7fe375ccd190>}"
      ]
     },
     "execution_count": 57,
     "metadata": {},
     "output_type": "execute_result"
    }
   ],
   "source": [
    "vars(r8)"
   ]
  },
  {
   "cell_type": "code",
   "execution_count": 58,
   "id": "4d41af17",
   "metadata": {},
   "outputs": [
    {
     "data": {
      "text/plain": [
       "{'TestStat': None,\n",
       " 'criticalVal': 1.2481549617964003,\n",
       " 'ConfidenceInterval': [-0.017333336915715473, 0.15260545270942966]}"
      ]
     },
     "execution_count": 58,
     "metadata": {},
     "output_type": "execute_result"
    }
   ],
   "source": [
    "vars(r8.Htest)"
   ]
  },
  {
   "cell_type": "code",
   "execution_count": 59,
   "id": "6176f084",
   "metadata": {},
   "outputs": [
    {
     "data": {
      "text/plain": [
       "{'TestStat': None,\n",
       " 'criticalVal': 0.9464368350281701,\n",
       " 'ConfidenceInterval': [-0.015331424688546516, 0.1506035404822607]}"
      ]
     },
     "execution_count": 59,
     "metadata": {},
     "output_type": "execute_result"
    }
   ],
   "source": [
    "vars(r8.dHtest)"
   ]
  },
  {
   "cell_type": "code",
   "execution_count": 60,
   "id": "8421bd87",
   "metadata": {},
   "outputs": [],
   "source": [
    "r9 = setBLP.oneDproj('logwage_l', 'logwage_u', ['age','educ'], 1, data = cps)"
   ]
  },
  {
   "cell_type": "code",
   "execution_count": 61,
   "id": "8b3b6bb4",
   "metadata": {},
   "outputs": [
    {
     "data": {
      "text/plain": [
       "{'bound': [-0.025567837808786895, 0.3456382284304264],\n",
       " 'Htest': <setBLP.TestResults at 0x7fe375ec21f0>,\n",
       " 'dHtest': <setBLP.TestResults at 0x7fe375ec2820>}"
      ]
     },
     "execution_count": 61,
     "metadata": {},
     "output_type": "execute_result"
    }
   ],
   "source": [
    "vars(r9)"
   ]
  },
  {
   "cell_type": "code",
   "execution_count": 62,
   "id": "dc847a81",
   "metadata": {},
   "outputs": [
    {
     "data": {
      "text/plain": [
       "{'TestStat': None,\n",
       " 'criticalVal': 5.564816011424855,\n",
       " 'ConfidenceInterval': [-0.06249062178117508, 0.3825610124028146]}"
      ]
     },
     "execution_count": 62,
     "metadata": {},
     "output_type": "execute_result"
    }
   ],
   "source": [
    "vars(r9.Htest)"
   ]
  },
  {
   "cell_type": "code",
   "execution_count": 63,
   "id": "18d03836",
   "metadata": {},
   "outputs": [
    {
     "data": {
      "text/plain": [
       "{'TestStat': None,\n",
       " 'criticalVal': 5.2010007031488295,\n",
       " 'ConfidenceInterval': [-0.06007669219109614, 0.3801470828127357]}"
      ]
     },
     "execution_count": 63,
     "metadata": {},
     "output_type": "execute_result"
    }
   ],
   "source": [
    "vars(r9.dHtest)"
   ]
  },
  {
   "cell_type": "code",
   "execution_count": 64,
   "id": "8c237cd1",
   "metadata": {},
   "outputs": [],
   "source": [
    "r10 = setBLP.oneDproj(yl, yu, ['age','educ'], data = cps)"
   ]
  },
  {
   "cell_type": "code",
   "execution_count": 65,
   "id": "118f6dce",
   "metadata": {},
   "outputs": [
    {
     "data": {
      "text/plain": [
       "{'bound': [-0.009051777215653997, 0.14432389300936818],\n",
       " 'Htest': <setBLP.TestResults at 0x7fe375ec2310>,\n",
       " 'dHtest': <setBLP.TestResults at 0x7fe375ec2040>}"
      ]
     },
     "execution_count": 65,
     "metadata": {},
     "output_type": "execute_result"
    }
   ],
   "source": [
    "vars(r10[0])"
   ]
  },
  {
   "cell_type": "code",
   "execution_count": 66,
   "id": "14f53d69",
   "metadata": {},
   "outputs": [
    {
     "data": {
      "text/plain": [
       "{'TestStat': None,\n",
       " 'criticalVal': 0.6934361684131858,\n",
       " 'ConfidenceInterval': [-0.013652754820734766, -0.020966860203706125]}"
      ]
     },
     "execution_count": 66,
     "metadata": {},
     "output_type": "execute_result"
    }
   ],
   "source": [
    "vars(r10[0].Htest)"
   ]
  },
  {
   "cell_type": "code",
   "execution_count": 67,
   "id": "29d8e34e",
   "metadata": {},
   "outputs": [
    {
     "data": {
      "text/plain": [
       "{'TestStat': None,\n",
       " 'criticalVal': 0.5942690040626841,\n",
       " 'ConfidenceInterval': [-0.012994776591274784, -0.021624838433166108]}"
      ]
     },
     "execution_count": 67,
     "metadata": {},
     "output_type": "execute_result"
    }
   ],
   "source": [
    "vars(r10[0].dHtest)"
   ]
  },
  {
   "cell_type": "code",
   "execution_count": 68,
   "id": "971c3753",
   "metadata": {},
   "outputs": [
    {
     "data": {
      "text/plain": [
       "{'bound': [-0.025567837808786895, 0.3456382284304264],\n",
       " 'Htest': <setBLP.TestResults at 0x7fe375ecd490>,\n",
       " 'dHtest': <setBLP.TestResults at 0x7fe375ecdd60>}"
      ]
     },
     "execution_count": 68,
     "metadata": {},
     "output_type": "execute_result"
    }
   ],
   "source": [
    "vars(r10[1])"
   ]
  },
  {
   "cell_type": "code",
   "execution_count": 69,
   "id": "ae66d931",
   "metadata": {},
   "outputs": [
    {
     "data": {
      "text/plain": [
       "{'TestStat': None,\n",
       " 'criticalVal': 2.3388498311827313,\n",
       " 'ConfidenceInterval': [0.12880552782293228, 0.3611565936168623]}"
      ]
     },
     "execution_count": 69,
     "metadata": {},
     "output_type": "execute_result"
    }
   ],
   "source": [
    "vars(r10[1].Htest)"
   ]
  },
  {
   "cell_type": "code",
   "execution_count": 70,
   "id": "ad57de22",
   "metadata": {},
   "outputs": [
    {
     "data": {
      "text/plain": [
       "{'TestStat': None,\n",
       " 'criticalVal': 2.0950305864517196,\n",
       " 'ConfidenceInterval': [0.13042327857750016, 0.3595388428622944]}"
      ]
     },
     "execution_count": 70,
     "metadata": {},
     "output_type": "execute_result"
    }
   ],
   "source": [
    "vars(r10[1].dHtest)"
   ]
  },
  {
   "cell_type": "markdown",
   "id": "03875c19",
   "metadata": {},
   "source": [
    "# 2. Testing EY"
   ]
  },
  {
   "cell_type": "code",
   "execution_count": 71,
   "id": "6d05b656",
   "metadata": {},
   "outputs": [],
   "source": [
    "r11= setBLP.EY(yl, yu, [1,2], method ='')"
   ]
  },
  {
   "cell_type": "code",
   "execution_count": 72,
   "id": "187b7cbd",
   "metadata": {},
   "outputs": [
    {
     "data": {
      "text/plain": [
       "{'bound': [9.296333950856683, 10.529931600617877],\n",
       " 'Htest': <setBLP.TestResults at 0x7fe375ecd1c0>,\n",
       " 'dHtest': <setBLP.TestResults at 0x7fe375ed6310>}"
      ]
     },
     "execution_count": 72,
     "metadata": {},
     "output_type": "execute_result"
    }
   ],
   "source": [
    "vars(r11)"
   ]
  },
  {
   "cell_type": "code",
   "execution_count": 73,
   "id": "428f3401",
   "metadata": {},
   "outputs": [
    {
     "data": {
      "text/plain": [
       "{'TestStat': 1285.5883235395963,\n",
       " 'criticalVal': 5.966572506606667,\n",
       " 'ConfidenceInterval': [9.25674549595274, 10.569520055521819]}"
      ]
     },
     "execution_count": 73,
     "metadata": {},
     "output_type": "execute_result"
    }
   ],
   "source": [
    "vars(r11.Htest)"
   ]
  },
  {
   "cell_type": "code",
   "execution_count": 74,
   "id": "25c1ac96",
   "metadata": {},
   "outputs": [
    {
     "data": {
      "text/plain": [
       "{'TestStat': 1250.3816624548192,\n",
       " 'criticalVal': 4.989330763465701,\n",
       " 'ConfidenceInterval': [9.263229535262704, 10.563036016211855]}"
      ]
     },
     "execution_count": 74,
     "metadata": {},
     "output_type": "execute_result"
    }
   ],
   "source": [
    "vars(r11.dHtest)"
   ]
  },
  {
   "cell_type": "code",
   "execution_count": 75,
   "id": "2ffc53b0",
   "metadata": {},
   "outputs": [],
   "source": [
    "r12= setBLP.EY(yl, yu, [9.2963,10.5299],method='')"
   ]
  },
  {
   "cell_type": "code",
   "execution_count": 76,
   "id": "2bd8990b",
   "metadata": {},
   "outputs": [
    {
     "data": {
      "text/plain": [
       "{'bound': [9.296333950856683, 10.529931600617877],\n",
       " 'Htest': <setBLP.TestResults at 0x7fe375ed6a30>,\n",
       " 'dHtest': <setBLP.TestResults at 0x7fe375edd8e0>}"
      ]
     },
     "execution_count": 76,
     "metadata": {},
     "output_type": "execute_result"
    }
   ],
   "source": [
    "vars(r12)"
   ]
  },
  {
   "cell_type": "code",
   "execution_count": 77,
   "id": "70c2f1bc",
   "metadata": {},
   "outputs": [
    {
     "data": {
      "text/plain": [
       "{'TestStat': 0.005116902100594215,\n",
       " 'criticalVal': 5.966572506606667,\n",
       " 'ConfidenceInterval': [9.25674549595274, 10.569520055521819]}"
      ]
     },
     "execution_count": 77,
     "metadata": {},
     "output_type": "execute_result"
    }
   ],
   "source": [
    "vars(r12.Htest)"
   ]
  },
  {
   "cell_type": "code",
   "execution_count": 78,
   "id": "e28b5084",
   "metadata": {},
   "outputs": [
    {
     "data": {
      "text/plain": [
       "{'TestStat': 0.005116902100594215,\n",
       " 'criticalVal': 4.989330763465701,\n",
       " 'ConfidenceInterval': [9.263229535262704, 10.563036016211855]}"
      ]
     },
     "execution_count": 78,
     "metadata": {},
     "output_type": "execute_result"
    }
   ],
   "source": [
    "vars(r12.dHtest)"
   ]
  },
  {
   "cell_type": "markdown",
   "id": "de77cf8f",
   "metadata": {},
   "source": [
    "# Testing CI1d  "
   ]
  },
  {
   "cell_type": "markdown",
   "id": "c3fa851c",
   "metadata": {},
   "source": [
    "$H_0: \\beta_{age} = [0, 0.15]$"
   ]
  },
  {
   "cell_type": "code",
   "execution_count": 79,
   "id": "7b5b501d",
   "metadata": {},
   "outputs": [],
   "source": [
    "I1 = [0, 0.15]"
   ]
  },
  {
   "cell_type": "code",
   "execution_count": 80,
   "id": "5d75cc47",
   "metadata": {},
   "outputs": [],
   "source": [
    "result1 = setBLP.oneDproj(yl, yu, x1, H0=I1)"
   ]
  },
  {
   "cell_type": "code",
   "execution_count": 81,
   "id": "af5ea7ad",
   "metadata": {},
   "outputs": [
    {
     "data": {
      "text/plain": [
       "{'bound': [-0.004887858329797927, 0.14865963017398873],\n",
       " 'Htest': <setBLP.TestResults at 0x7fe375edd9a0>,\n",
       " 'dHtest': <setBLP.TestResults at 0x7fe375eddac0>}"
      ]
     },
     "execution_count": 81,
     "metadata": {},
     "output_type": "execute_result"
    }
   ],
   "source": [
    "vars(result1)"
   ]
  },
  {
   "cell_type": "code",
   "execution_count": 82,
   "id": "4612f299",
   "metadata": {},
   "outputs": [
    {
     "data": {
      "text/plain": [
       "{'TestStat': 0.7366733861557336,\n",
       " 'criticalVal': 0.7047452080966828,\n",
       " 'ConfidenceInterval': [-0.009563871880058493, 0.1533356437242493]}"
      ]
     },
     "execution_count": 82,
     "metadata": {},
     "output_type": "execute_result"
    }
   ],
   "source": [
    "vars(result1.Htest)"
   ]
  },
  {
   "cell_type": "code",
   "execution_count": 83,
   "id": "7006f212",
   "metadata": {},
   "outputs": [
    {
     "data": {
      "text/plain": [
       "{'TestStat': 0.20201378841303558,\n",
       " 'criticalVal': 0.5974789676534665,\n",
       " 'ConfidenceInterval': [-0.008852155946362954, 0.15262392779055375]}"
      ]
     },
     "execution_count": 83,
     "metadata": {},
     "output_type": "execute_result"
    }
   ],
   "source": [
    "vars(result1.dHtest)"
   ]
  },
  {
   "cell_type": "markdown",
   "id": "5b83e520",
   "metadata": {},
   "source": [
    "$H_0: \\beta_{age} = [0.1, 0.25]$"
   ]
  },
  {
   "cell_type": "code",
   "execution_count": 84,
   "id": "7fde8b82",
   "metadata": {},
   "outputs": [],
   "source": [
    "I2 = [0.1, 0.25]"
   ]
  },
  {
   "cell_type": "code",
   "execution_count": 85,
   "id": "c9b0f148",
   "metadata": {},
   "outputs": [],
   "source": [
    "result2 = setBLP.oneDproj(yl, yu, x1, H0=I2)"
   ]
  },
  {
   "cell_type": "code",
   "execution_count": 86,
   "id": "9ff78c03",
   "metadata": {},
   "outputs": [
    {
     "data": {
      "text/plain": [
       "{'bound': [-0.004887858329797927, 0.14865963017398873],\n",
       " 'Htest': <setBLP.TestResults at 0x7fe35039ae20>,\n",
       " 'dHtest': <setBLP.TestResults at 0x7fe375ed6ee0>}"
      ]
     },
     "execution_count": 86,
     "metadata": {},
     "output_type": "execute_result"
    }
   ],
   "source": [
    "vars(result2)"
   ]
  },
  {
   "cell_type": "code",
   "execution_count": 87,
   "id": "21c06ab4",
   "metadata": {
    "scrolled": true
   },
   "outputs": [
    {
     "data": {
      "text/plain": [
       "{'TestStat': 15.808169662239274,\n",
       " 'criticalVal': 0.7047452080966828,\n",
       " 'ConfidenceInterval': [-0.009563871880058493, 0.1533356437242493]}"
      ]
     },
     "execution_count": 87,
     "metadata": {},
     "output_type": "execute_result"
    }
   ],
   "source": [
    "vars(result2.Htest)"
   ]
  },
  {
   "cell_type": "code",
   "execution_count": 88,
   "id": "fa3edffa",
   "metadata": {},
   "outputs": [
    {
     "data": {
      "text/plain": [
       "{'TestStat': 15.273510064496575,\n",
       " 'criticalVal': 0.5974789676534665,\n",
       " 'ConfidenceInterval': [-0.008852155946362954, 0.15262392779055375]}"
      ]
     },
     "execution_count": 88,
     "metadata": {},
     "output_type": "execute_result"
    }
   ],
   "source": [
    "vars(result2.dHtest)"
   ]
  },
  {
   "cell_type": "markdown",
   "id": "085d570b",
   "metadata": {},
   "source": [
    "$H_0: \\beta_{age} = [0, 0.1]$"
   ]
  },
  {
   "cell_type": "code",
   "execution_count": 89,
   "id": "3f9f3a9a",
   "metadata": {},
   "outputs": [],
   "source": [
    "I3 = [0, 0.1]"
   ]
  },
  {
   "cell_type": "code",
   "execution_count": 90,
   "id": "027b2d29",
   "metadata": {},
   "outputs": [],
   "source": [
    "result3 = setBLP.oneDproj(yl, yu, x1, H0=I3)"
   ]
  },
  {
   "cell_type": "code",
   "execution_count": 91,
   "id": "6dedc636",
   "metadata": {},
   "outputs": [
    {
     "data": {
      "text/plain": [
       "{'bound': [-0.004887858329797927, 0.14865963017398873],\n",
       " 'Htest': <setBLP.TestResults at 0x7fe374fad1c0>,\n",
       " 'dHtest': <setBLP.TestResults at 0x7fe35039acd0>}"
      ]
     },
     "execution_count": 91,
     "metadata": {},
     "output_type": "execute_result"
    }
   ],
   "source": [
    "vars(result3)"
   ]
  },
  {
   "cell_type": "code",
   "execution_count": 92,
   "id": "f7a1ac75",
   "metadata": {},
   "outputs": [
    {
     "data": {
      "text/plain": [
       "{'TestStat': 7.333734349628732,\n",
       " 'criticalVal': 0.7047452080966828,\n",
       " 'ConfidenceInterval': [-0.009563871880058493, 0.1533356437242493]}"
      ]
     },
     "execution_count": 92,
     "metadata": {},
     "output_type": "execute_result"
    }
   ],
   "source": [
    "vars(result3.Htest)"
   ]
  },
  {
   "cell_type": "code",
   "execution_count": 93,
   "id": "a1e44e8c",
   "metadata": {},
   "outputs": [
    {
     "data": {
      "text/plain": [
       "{'TestStat': 0.0,\n",
       " 'criticalVal': 0.5974789676534665,\n",
       " 'ConfidenceInterval': [-0.008852155946362954, 0.15262392779055375]}"
      ]
     },
     "execution_count": 93,
     "metadata": {},
     "output_type": "execute_result"
    }
   ],
   "source": [
    "vars(result3.dHtest)"
   ]
  },
  {
   "cell_type": "markdown",
   "id": "1710164e",
   "metadata": {},
   "source": [
    "$H_0: \\beta_{age} = [-0.1, 0.15]$"
   ]
  },
  {
   "cell_type": "code",
   "execution_count": 94,
   "id": "57ac25fb",
   "metadata": {},
   "outputs": [],
   "source": [
    "I4 = [-0.1, 0.15]"
   ]
  },
  {
   "cell_type": "code",
   "execution_count": 95,
   "id": "4bfa8ef1",
   "metadata": {},
   "outputs": [],
   "source": [
    "result4 = setBLP.oneDproj(yl, yu, x1, H0=I4)"
   ]
  },
  {
   "cell_type": "code",
   "execution_count": 96,
   "id": "2725054f",
   "metadata": {},
   "outputs": [
    {
     "data": {
      "text/plain": [
       "{'bound': [-0.004887858329797927, 0.14865963017398873],\n",
       " 'Htest': <setBLP.TestResults at 0x7fe342862f40>,\n",
       " 'dHtest': <setBLP.TestResults at 0x7fe3503689d0>}"
      ]
     },
     "execution_count": 96,
     "metadata": {},
     "output_type": "execute_result"
    }
   ],
   "source": [
    "vars(result4)"
   ]
  },
  {
   "cell_type": "code",
   "execution_count": 97,
   "id": "81c7ad45",
   "metadata": {},
   "outputs": [
    {
     "data": {
      "text/plain": [
       "{'TestStat': 14.334822889927805,\n",
       " 'criticalVal': 0.7047452080966828,\n",
       " 'ConfidenceInterval': [-0.009563871880058493, 0.1533356437242493]}"
      ]
     },
     "execution_count": 97,
     "metadata": {},
     "output_type": "execute_result"
    }
   ],
   "source": [
    "vars(result4.Htest)"
   ]
  },
  {
   "cell_type": "code",
   "execution_count": 98,
   "id": "f127cc91",
   "metadata": {},
   "outputs": [
    {
     "data": {
      "text/plain": [
       "{'TestStat': 14.334822889927805,\n",
       " 'criticalVal': 0.5974789676534665,\n",
       " 'ConfidenceInterval': [-0.008852155946362954, 0.15262392779055375]}"
      ]
     },
     "execution_count": 98,
     "metadata": {},
     "output_type": "execute_result"
    }
   ],
   "source": [
    "vars(result4.dHtest)"
   ]
  },
  {
   "cell_type": "markdown",
   "id": "9e0b6198",
   "metadata": {},
   "source": [
    "# regress $yl, yu$ on age, educ $\\rightarrow$ $\\beta_{age}$"
   ]
  },
  {
   "cell_type": "code",
   "execution_count": 99,
   "id": "84bcd597",
   "metadata": {},
   "outputs": [
    {
     "name": "stdout",
     "output_type": "stream",
     "text": [
      "                            OLS Regression Results                            \n",
      "==============================================================================\n",
      "Dep. Variable:              logwage_l   R-squared:                       0.105\n",
      "Model:                            OLS   Adj. R-squared:                  0.105\n",
      "Method:                 Least Squares   F-statistic:                     982.3\n",
      "Date:                Wed, 25 Oct 2023   Prob (F-statistic):               0.00\n",
      "Time:                        01:28:32   Log-Likelihood:                -56435.\n",
      "No. Observations:               22715   AIC:                         1.129e+05\n",
      "Df Residuals:                   22712   BIC:                         1.129e+05\n",
      "Df Model:                           2                                         \n",
      "Covariance Type:                  HC1                                         \n",
      "==============================================================================\n",
      "                 coef    std err          z      P>|z|      [0.025      0.975]\n",
      "------------------------------------------------------------------------------\n",
      "Intercept      3.3251      0.151     21.988      0.000       3.029       3.622\n",
      "educ           0.1892      0.009     21.669      0.000       0.172       0.206\n",
      "age            0.0985      0.003     36.340      0.000       0.093       0.104\n",
      "==============================================================================\n",
      "Omnibus:                    10680.502   Durbin-Watson:                   1.918\n",
      "Prob(Omnibus):                  0.000   Jarque-Bera (JB):            44014.677\n",
      "Skew:                          -2.425   Prob(JB):                         0.00\n",
      "Kurtosis:                       7.794   Cond. No.                         263.\n",
      "==============================================================================\n",
      "\n",
      "Notes:\n",
      "[1] Standard Errors are heteroscedasticity robust (HC1)\n"
     ]
    }
   ],
   "source": [
    "ols3 = smf.ols(formula='logwage_l ~ educ+age',data=cps).fit(cov_type='HC1')\n",
    "betal = ols3._results.params[2]\n",
    "print(ols3.summary())"
   ]
  },
  {
   "cell_type": "code",
   "execution_count": 100,
   "id": "85c8554b",
   "metadata": {},
   "outputs": [
    {
     "name": "stdout",
     "output_type": "stream",
     "text": [
      "                            OLS Regression Results                            \n",
      "==============================================================================\n",
      "Dep. Variable:              logwage_u   R-squared:                       0.234\n",
      "Model:                            OLS   Adj. R-squared:                  0.234\n",
      "Method:                 Least Squares   F-statistic:                     3220.\n",
      "Date:                Wed, 25 Oct 2023   Prob (F-statistic):               0.00\n",
      "Time:                        01:28:32   Log-Likelihood:                -27984.\n",
      "No. Observations:               22715   AIC:                         5.597e+04\n",
      "Df Residuals:                   22712   BIC:                         5.600e+04\n",
      "Df Model:                           2                                         \n",
      "Covariance Type:                  HC1                                         \n",
      "==============================================================================\n",
      "                 coef    std err          z      P>|z|      [0.025      0.975]\n",
      "------------------------------------------------------------------------------\n",
      "Intercept      7.5141      0.037    201.564      0.000       7.441       7.587\n",
      "educ           0.1309      0.003     52.253      0.000       0.126       0.136\n",
      "age            0.0368      0.001     59.087      0.000       0.036       0.038\n",
      "==============================================================================\n",
      "Omnibus:                     2417.526   Durbin-Watson:                   1.857\n",
      "Prob(Omnibus):                  0.000   Jarque-Bera (JB):             3602.613\n",
      "Skew:                           0.803   Prob(JB):                         0.00\n",
      "Kurtosis:                       4.107   Cond. No.                         263.\n",
      "==============================================================================\n",
      "\n",
      "Notes:\n",
      "[1] Standard Errors are heteroscedasticity robust (HC1)\n"
     ]
    }
   ],
   "source": [
    "ols4 = smf.ols(formula='logwage_u ~ educ+age',data=cps).fit(cov_type='HC1')\n",
    "betau = ols4._results.params[2]\n",
    "print(ols4.summary())"
   ]
  },
  {
   "cell_type": "code",
   "execution_count": 101,
   "id": "11fd46d2",
   "metadata": {},
   "outputs": [],
   "source": [
    "I5 = [min(betal, betau), max(betal, betau)]"
   ]
  },
  {
   "cell_type": "code",
   "execution_count": 102,
   "id": "dfe3c143",
   "metadata": {},
   "outputs": [],
   "source": [
    "result5 = setBLP.oneDproj(yl, yu, x1, H0=I5)"
   ]
  },
  {
   "cell_type": "code",
   "execution_count": 103,
   "id": "017e9bb9",
   "metadata": {},
   "outputs": [
    {
     "data": {
      "text/plain": [
       "{'bound': [-0.004887858329797927, 0.14865963017398873],\n",
       " 'Htest': <setBLP.TestResults at 0x7fe3430e0220>,\n",
       " 'dHtest': <setBLP.TestResults at 0x7fe37558ecd0>}"
      ]
     },
     "execution_count": 103,
     "metadata": {},
     "output_type": "execute_result"
    }
   ],
   "source": [
    "vars(result5)"
   ]
  },
  {
   "cell_type": "code",
   "execution_count": 104,
   "id": "f7c55b54",
   "metadata": {},
   "outputs": [
    {
     "data": {
      "text/plain": [
       "{'TestStat': 7.556630260160127,\n",
       " 'criticalVal': 0.7047452080966828,\n",
       " 'ConfidenceInterval': [-0.009563871880058493, 0.1533356437242493]}"
      ]
     },
     "execution_count": 104,
     "metadata": {},
     "output_type": "execute_result"
    }
   ],
   "source": [
    "vars(result5.Htest)"
   ]
  },
  {
   "cell_type": "code",
   "execution_count": 105,
   "id": "e853e4d3",
   "metadata": {},
   "outputs": [
    {
     "data": {
      "text/plain": [
       "{'TestStat': 0.0,\n",
       " 'criticalVal': 0.5974789676534665,\n",
       " 'ConfidenceInterval': [-0.008852155946362954, 0.15262392779055375]}"
      ]
     },
     "execution_count": 105,
     "metadata": {},
     "output_type": "execute_result"
    }
   ],
   "source": [
    "vars(result5.dHtest)"
   ]
  },
  {
   "cell_type": "code",
   "execution_count": null,
   "id": "de2b72ca",
   "metadata": {},
   "outputs": [],
   "source": []
  },
  {
   "cell_type": "code",
   "execution_count": null,
   "id": "03c3a2ae",
   "metadata": {},
   "outputs": [],
   "source": []
  },
  {
   "cell_type": "markdown",
   "id": "4d2a1e6f",
   "metadata": {},
   "source": [
    "# Two ways to access the list of all attributes and values:"
   ]
  },
  {
   "cell_type": "code",
   "execution_count": 106,
   "id": "6b45ea36",
   "metadata": {},
   "outputs": [
    {
     "ename": "NameError",
     "evalue": "name 'result' is not defined",
     "output_type": "error",
     "traceback": [
      "\u001b[0;31m---------------------------------------------------------------------------\u001b[0m",
      "\u001b[0;31mNameError\u001b[0m                                 Traceback (most recent call last)",
      "\u001b[0;32m/var/folders/jq/plz_wl9x6rvfnhd5sbqd9xnw0000gn/T/ipykernel_11160/1661766117.py\u001b[0m in \u001b[0;36m<module>\u001b[0;34m\u001b[0m\n\u001b[0;32m----> 1\u001b[0;31m \u001b[0mresult\u001b[0m\u001b[0;34m.\u001b[0m\u001b[0m__dict__\u001b[0m\u001b[0;34m\u001b[0m\u001b[0;34m\u001b[0m\u001b[0m\n\u001b[0m",
      "\u001b[0;31mNameError\u001b[0m: name 'result' is not defined"
     ]
    }
   ],
   "source": [
    "result.__dict__"
   ]
  },
  {
   "cell_type": "code",
   "execution_count": null,
   "id": "7876a90e",
   "metadata": {},
   "outputs": [],
   "source": [
    "vars(result)"
   ]
  },
  {
   "cell_type": "code",
   "execution_count": null,
   "id": "edd4cc9b",
   "metadata": {},
   "outputs": [],
   "source": [
    "vars(result.dHtest)"
   ]
  },
  {
   "cell_type": "code",
   "execution_count": null,
   "id": "cd07dc66",
   "metadata": {},
   "outputs": [],
   "source": []
  },
  {
   "cell_type": "markdown",
   "id": "c25b5f7c",
   "metadata": {},
   "source": [
    "# Simulations"
   ]
  },
  {
   "cell_type": "markdown",
   "id": "82453404",
   "metadata": {},
   "source": [
    "## parameter"
   ]
  },
  {
   "cell_type": "code",
   "execution_count": null,
   "id": "f5583f20",
   "metadata": {},
   "outputs": [],
   "source": [
    "rng = np.random.MT19937(15217)\n",
    "rng = np.random.Generator(rng)\n",
    "np.random.seed(setBLP.default_options.seed)"
   ]
  },
  {
   "cell_type": "code",
   "execution_count": null,
   "id": "58e2a0b1",
   "metadata": {},
   "outputs": [],
   "source": [
    "popSize = cps.shape[0]"
   ]
  },
  {
   "cell_type": "code",
   "execution_count": null,
   "id": "0501d177",
   "metadata": {},
   "outputs": [],
   "source": [
    "Nobs = 100;  #size of sub sample\n",
    "Nsim = 5000; #number of simulations"
   ]
  },
  {
   "cell_type": "code",
   "execution_count": null,
   "id": "012dffdc",
   "metadata": {},
   "outputs": [],
   "source": [
    "Nintervals = 8; #number of intervals in the survey"
   ]
  },
  {
   "cell_type": "markdown",
   "id": "08c2b9d5",
   "metadata": {},
   "source": [
    "## Using quantiles"
   ]
  },
  {
   "cell_type": "code",
   "execution_count": null,
   "id": "1d80ffb3",
   "metadata": {},
   "outputs": [],
   "source": [
    "c = 0 \n",
    "width=0\n",
    "for i in range(Nsim):\n",
    "    indx = rng.integers(low=0, high=popSize, size=Nobs)\n",
    "    sample = cps.iloc[indx, :]\n",
    "    r = setBLP.oneDproj(sample.logwage_l,sample.logwage_u,sample.educ)\n",
    "    width += max(r)-min(r)\n",
    "    if beta1>=min(r) and beta1 <=max(r):\n",
    "        c+=1\n",
    "    \n",
    "width=width/Nsim"
   ]
  },
  {
   "cell_type": "code",
   "execution_count": null,
   "id": "df08814f",
   "metadata": {},
   "outputs": [],
   "source": [
    "i = 0 \n",
    "indx = rng.integers(low=0, high=popSize, size=Nobs)\n",
    "sample = cps.iloc[indx, :]\n",
    "r = setBLP.oneDproj(sample.logwage_l,sample.logwage_u,sample.educ)"
   ]
  },
  {
   "cell_type": "code",
   "execution_count": null,
   "id": "269f9880",
   "metadata": {},
   "outputs": [],
   "source": [
    "r"
   ]
  },
  {
   "cell_type": "code",
   "execution_count": null,
   "id": "7fbb540f",
   "metadata": {},
   "outputs": [],
   "source": []
  },
  {
   "cell_type": "code",
   "execution_count": null,
   "id": "c9d91138",
   "metadata": {},
   "outputs": [],
   "source": [
    "c/Nsim"
   ]
  },
  {
   "cell_type": "code",
   "execution_count": null,
   "id": "10a013be",
   "metadata": {},
   "outputs": [],
   "source": [
    "width"
   ]
  },
  {
   "cell_type": "markdown",
   "id": "e33b2136",
   "metadata": {},
   "source": [
    "## Using fixed intervals, ver 1"
   ]
  },
  {
   "cell_type": "code",
   "execution_count": null,
   "id": "47b911ae",
   "metadata": {},
   "outputs": [],
   "source": [
    "thresholds = np.linspace(1,max(cps.wage)+1,10)\n",
    "thresholds"
   ]
  },
  {
   "cell_type": "code",
   "execution_count": null,
   "id": "0fcf3322",
   "metadata": {},
   "outputs": [],
   "source": [
    "interval_cps = createIntervalData(cps, 'wage', thresholds)\n",
    "interval_cps.head(15)"
   ]
  },
  {
   "cell_type": "code",
   "execution_count": null,
   "id": "7f81d0e1",
   "metadata": {},
   "outputs": [],
   "source": [
    "c = 0 \n",
    "width =0\n",
    "for i in range(Nsim):\n",
    "    indx = rng.integers(low=0, high=popSize, size=Nobs)\n",
    "    sample = interval_cps.iloc[indx, :]\n",
    "    r = setBLP.oneDproj(sample.logwage_l,sample.logwage_u,sample.educ)\n",
    "    width+=max(r)-min(r)\n",
    "    if beta1>=min(r) and beta1 <=max(r):\n",
    "        c+=1\n",
    "width=width/Nsim"
   ]
  },
  {
   "cell_type": "code",
   "execution_count": null,
   "id": "b8d16ac3",
   "metadata": {},
   "outputs": [],
   "source": [
    "c/Nsim"
   ]
  },
  {
   "cell_type": "code",
   "execution_count": null,
   "id": "e1d4cc2b",
   "metadata": {},
   "outputs": [],
   "source": [
    "width"
   ]
  },
  {
   "cell_type": "markdown",
   "id": "ffbd4fa0",
   "metadata": {},
   "source": [
    "## Using fixed intervals, ver 2"
   ]
  },
  {
   "cell_type": "code",
   "execution_count": null,
   "id": "40619d8d",
   "metadata": {},
   "outputs": [],
   "source": [
    "max(cps.wage)"
   ]
  },
  {
   "cell_type": "code",
   "execution_count": null,
   "id": "c2ccce88",
   "metadata": {},
   "outputs": [],
   "source": [
    "thresholds = np.array([0, 10, 20, 40, 75, 100, 200, 300, 500 ])*1000\n",
    "thresholds[0] =1"
   ]
  },
  {
   "cell_type": "code",
   "execution_count": null,
   "id": "fdec1fae",
   "metadata": {},
   "outputs": [],
   "source": [
    "interval_cps = createIntervalData(cps, 'wage', thresholds)\n",
    "interval_cps.head(15)"
   ]
  },
  {
   "cell_type": "code",
   "execution_count": null,
   "id": "96351e37",
   "metadata": {},
   "outputs": [],
   "source": [
    "c = 0 \n",
    "width =0\n",
    "for i in range(Nsim):\n",
    "    indx = rng.integers(low=0, high=popSize, size=Nobs)\n",
    "    sample = interval_cps.iloc[indx, :]\n",
    "    r = setBLP.oneDproj(sample.logwage_l,sample.logwage_u,sample.educ)\n",
    "    width+=max(r)-min(r)\n",
    "    if beta1>=min(r) and beta1 <=max(r):\n",
    "        c+=1\n",
    "        \n",
    "width=width/Nsim"
   ]
  },
  {
   "cell_type": "code",
   "execution_count": null,
   "id": "fe58078c",
   "metadata": {},
   "outputs": [],
   "source": [
    "c/Nsim"
   ]
  },
  {
   "cell_type": "code",
   "execution_count": null,
   "id": "3e5d1c50",
   "metadata": {},
   "outputs": [],
   "source": [
    "width"
   ]
  },
  {
   "cell_type": "markdown",
   "id": "a4d060b2",
   "metadata": {},
   "source": [
    "### Conclusion:  \n",
    "The id interval is so wide that there is no chance that true $\\beta_1$ is not in the computed identification set."
   ]
  },
  {
   "cell_type": "markdown",
   "id": "d29f9c35",
   "metadata": {},
   "source": [
    "(age, wage) pair"
   ]
  },
  {
   "cell_type": "code",
   "execution_count": null,
   "id": "e761e27c",
   "metadata": {},
   "outputs": [],
   "source": []
  },
  {
   "cell_type": "code",
   "execution_count": null,
   "id": "e944e1be",
   "metadata": {},
   "outputs": [],
   "source": []
  }
 ],
 "metadata": {
  "kernelspec": {
   "display_name": "Python 3 (ipykernel)",
   "language": "python",
   "name": "python3"
  },
  "language_info": {
   "codemirror_mode": {
    "name": "ipython",
    "version": 3
   },
   "file_extension": ".py",
   "mimetype": "text/x-python",
   "name": "python",
   "nbconvert_exporter": "python",
   "pygments_lexer": "ipython3",
   "version": "3.8.12"
  }
 },
 "nbformat": 4,
 "nbformat_minor": 5
}
