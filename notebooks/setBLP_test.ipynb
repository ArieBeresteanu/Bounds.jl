{
 "cells": [
  {
   "cell_type": "markdown",
   "metadata": {},
   "source": [
    "# Testing setBLP.jl"
   ]
  },
  {
   "cell_type": "markdown",
   "metadata": {},
   "source": [
    "## Packages"
   ]
  },
  {
   "cell_type": "code",
   "execution_count": 1,
   "metadata": {},
   "outputs": [],
   "source": [
    "import LinearAlgebra ,Base"
   ]
  },
  {
   "cell_type": "code",
   "execution_count": 2,
   "metadata": {},
   "outputs": [],
   "source": [
    "using Plots"
   ]
  },
  {
   "cell_type": "markdown",
   "metadata": {},
   "source": [
    "## Structures and related functions"
   ]
  },
  {
   "cell_type": "markdown",
   "metadata": {},
   "source": [
    "#### Vertex"
   ]
  },
  {
   "cell_type": "code",
   "execution_count": 3,
   "metadata": {},
   "outputs": [],
   "source": [
    "mutable struct Vertex\n",
    "    v::Vector{Real}\n",
    "end"
   ]
  },
  {
   "cell_type": "code",
   "execution_count": 4,
   "metadata": {},
   "outputs": [],
   "source": [
    "function subVertex(v1::Vertex,v2::Vertex)\n",
    "    return  Vertex(v1.v-v2.v)\n",
    "end\n",
    "\n",
    "Base.:(-)(v1::Vertex,v2::Vertex) = Vertex(v1.v-v2.v)\n",
    "\n",
    "function addVertex(v1::Vertex,v2::Vertex)\n",
    "    return Vertex(v1.v+v2.v)\n",
    "end\n",
    "\n",
    "Base.:(+)(v1::Vertex,v2::Vertex) = Vertex(v1.v+v2.v)"
   ]
  },
  {
   "cell_type": "code",
   "execution_count": 5,
   "metadata": {},
   "outputs": [
    {
     "data": {
      "text/plain": [
       "xangle (generic function with 1 method)"
      ]
     },
     "execution_count": 5,
     "metadata": {},
     "output_type": "execute_result"
    }
   ],
   "source": [
    "function xangle(p1::Vertex,p2::Vertex)\n",
    "    Δ = (p2-p1).v\n",
    "    flag=false\n",
    "    if Δ[2] < 0\n",
    "        Δ[2] = -Δ[2]\n",
    "        flag = true\n",
    "    end\n",
    "    xang =atan(Δ[2],abs(Δ[1]))\n",
    "    if Δ[1]<0\n",
    "        xang = pi-xang\n",
    "    end\n",
    "    if flag\n",
    "        xang=2*pi-xang\n",
    "    end\n",
    "    return xang\n",
    "\n",
    "end"
   ]
  },
  {
   "cell_type": "code",
   "execution_count": 6,
   "metadata": {},
   "outputs": [
    {
     "data": {
      "text/plain": [
       "fetchX (generic function with 1 method)"
      ]
     },
     "execution_count": 6,
     "metadata": {},
     "output_type": "execute_result"
    }
   ],
   "source": [
    "function fetchY(ver::Vertex)\n",
    "    return ver.v[2]\n",
    "end\n",
    "\n",
    "function fetchX(ver::Vertex)\n",
    "    return ver.v[1]\n",
    "end"
   ]
  },
  {
   "cell_type": "markdown",
   "metadata": {},
   "source": [
    "#### Segment"
   ]
  },
  {
   "cell_type": "code",
   "execution_count": 7,
   "metadata": {},
   "outputs": [],
   "source": [
    "mutable struct Segment\n",
    "    p1::Vertex\n",
    "    p2::Vertex\n",
    "    checkInput::Function\n",
    "    length::Function\n",
    "    dim::Function\n",
    "\n",
    "    \n",
    "    function Segment(p1,p2)\n",
    "        this = new()\n",
    "\n",
    "        this.p1 = p1\n",
    "        this.p2 = p2\n",
    "\n",
    "        this.checkInput = function()\n",
    "            return size(this.p1) == size(this.p2)       \n",
    "        end\n",
    "\n",
    "        this.length = function()\n",
    "            return norm(this.p1-this.p2)\n",
    "        end\n",
    "\n",
    "        this.dim = function()\n",
    "            if this.checkInput()\n",
    "                return length(this.p1)\n",
    "            else\n",
    "                return false\n",
    "            end\n",
    "        end\n",
    "\n",
    "        return this        \n",
    "    end\n",
    "end\n"
   ]
  },
  {
   "cell_type": "code",
   "execution_count": 8,
   "metadata": {},
   "outputs": [
    {
     "data": {
      "text/plain": [
       "dotDist (generic function with 1 method)"
      ]
     },
     "execution_count": 8,
     "metadata": {},
     "output_type": "execute_result"
    }
   ],
   "source": [
    "function dotDist(p::Vector{<:Real}, segment::Segment) \n",
    "    if segment.checkInput()\n",
    "        if length(p) == segment.dim()\n",
    "            p1_p2 = segment.p1 -segment.p2\n",
    "            p_p2 = p -segment.p2\n",
    "\n",
    "            λ = dot(p1_p2,p_p2)/dot(p1_p2,p1_p2)\n",
    "            λ = max(min(λ,1),0)\n",
    "\n",
    "            p0 = λ*segment.p1 + (1-λ)*segment.p2 \n",
    "\n",
    "            return norm(p-p0)\n",
    "        else\n",
    "            return \"dimention of p doesnt match dimention of segment\"\n",
    "        end\n",
    "    else\n",
    "        return \"Segment has wrong dimentions\"\n",
    "    end\n",
    "end\n"
   ]
  },
  {
   "cell_type": "code",
   "execution_count": 9,
   "metadata": {},
   "outputs": [
    {
     "data": {
      "text/plain": [
       "xangle (generic function with 2 methods)"
      ]
     },
     "execution_count": 9,
     "metadata": {},
     "output_type": "execute_result"
    }
   ],
   "source": [
    "function xangle(seg::Segment)\n",
    "    Δ = seg.p2-seg.p1\n",
    "    flag=false\n",
    "    if Δ[2] < 0\n",
    "        Δ[2] = -Δ[2]\n",
    "        flag = true\n",
    "    end\n",
    "    xang =atan(Δ[2],abs(Δ[1]))\n",
    "    if Δ[1]<0\n",
    "        xang = pi-xang\n",
    "    end\n",
    "    if flag\n",
    "        xang=2*pi-xang\n",
    "    end\n",
    "    return xang\n",
    "\n",
    "end"
   ]
  },
  {
   "cell_type": "markdown",
   "metadata": {},
   "source": [
    "#### Polygon"
   ]
  },
  {
   "cell_type": "code",
   "execution_count": 10,
   "metadata": {},
   "outputs": [],
   "source": [
    "mutable struct Polygon\n",
    "    vertices :: Vector{Vertex}\n",
    "    sort :: Function\n",
    "    plot :: Function\n",
    "    angles :: Function\n",
    "    scatter :: Function\n",
    "\n",
    "    function Polygon(vertices)\n",
    "        this = new()\n",
    "\n",
    "        this.vertices=vertices\n",
    "        this.sort = function()\n",
    "            n=length(this.vertices)\n",
    "            #step 1: find the point with a minimal y coordinate and put it first.\n",
    "            # comment: sorting is complexity nlog(n) but the following is just n\n",
    "            #using sorting:\n",
    "            #I = sortperm(fetchY.(this.vertices))\n",
    "            #this.vertices = this.vertices[I]\n",
    "            #going over the list\n",
    "            m=fetchY(this.vertices[1])\n",
    "            for i=2:n\n",
    "                l=fetchY(this.vertices[i])\n",
    "                if l<m #then swap\n",
    "                    m=l\n",
    "                    temp=this.vertices[i]\n",
    "                    this.vertices[i]=this.vertices[1]\n",
    "                    this.vertices[1]=temp\n",
    "                end\n",
    "            end\n",
    "            #step 2: compute angles between the minimal vertex and all other vertices\n",
    "            angs =zeros(n) #first column for angles and second column for the x coordinate\n",
    "            angs[1]=-1\n",
    "            v1 =this.vertices[1]\n",
    "            for i=2:n\n",
    "                angs[i] = xangle(v1,this.vertices[i])\n",
    "            end\n",
    "            #step 3: sort by angle\n",
    "            I=sortperm(angs)\n",
    "            this.vertices=this.vertices[I]   \n",
    "        end\n",
    "        this.angles = function()\n",
    "            n=length(this.vertices)\n",
    "            ang=zeros(n)\n",
    "            for i=1:n\n",
    "                i==n ? j=1 : j=i+1\n",
    "                ang[i] =xangle(this.vertices[i],this.vertices[j])                \n",
    "            end\n",
    "            return ang\n",
    "        end\n",
    "        \n",
    "        this.plot = function()\n",
    "            n=length(this.vertices)\n",
    "            x=zeros(n+1); y=zeros(n+1);\n",
    "            for i=1:n\n",
    "                x[i]=this.vertices[i].v[1]\n",
    "                y[i]=this.vertices[i].v[2]\n",
    "            end\n",
    "            x[n+1]=this.vertices[1].v[1]\n",
    "            y[n+1]=this.vertices[1].v[2]\n",
    "            plot(x,y,label=\"\",fill=true)\n",
    "        end\n",
    "        \n",
    "        this.scatter = function()\n",
    "            n=length(this.vertices)\n",
    "            x=zeros(n); y=zeros(n);\n",
    "            for i=1:n\n",
    "                x[i]=this.vertices[i].v[1]\n",
    "                y[i]=this.vertices[i].v[2]\n",
    "            end\n",
    "            scatter(x,y,label=\"\")\n",
    "        end\n",
    "            \n",
    "        return this\n",
    "    end\n",
    "end"
   ]
  },
  {
   "cell_type": "code",
   "execution_count": 11,
   "metadata": {},
   "outputs": [],
   "source": [
    "function minkowskiSum(v::Vertex,P::Polygon)\n",
    "    # this function adds v toevery vertex of P\n",
    "    n=length(P.vertices)\n",
    "    R=P #initial value\n",
    "    for i=1:n\n",
    "        R.vertices[i] +=v\n",
    "    end\n",
    "    return R\n",
    "end\n",
    "\n",
    "Base.:(+)(v::Vertex,P::Polygon) = minkowskiSum(v,P)"
   ]
  },
  {
   "cell_type": "code",
   "execution_count": 28,
   "metadata": {},
   "outputs": [],
   "source": [
    "function minkowskiSum(P::Polygon,Q::Polygon)\n",
    "    # Computes the minkowski sum of two convex polygons: P and Q. The polygons\n",
    "    # are represented by their vertices and are ordered counter clockwise such\n",
    "    #* that the first vertex will be the one who has the smallest Y coordinate\n",
    "    # (and smallest X coordinate in case of a tie).  This assumption is maintained\n",
    "    # in twoDproj by conditions in BLPcalculator.\n",
    "    \n",
    "      \n",
    "    angP=[P.angles(); 100]\n",
    "    angQ=[Q.angles(); 100]\n",
    "    \n",
    "    m = length(angP)\n",
    "    n = length(angQ)\n",
    "    \n",
    "    PP = [P.vertices; P.vertices[1]]\n",
    "    QQ = [Q.vertices; Q.vertices[1]]\n",
    "    \n",
    "    println(\"m=\",m,\" n=\",n)\n",
    "    \n",
    "    println(\"angP= \", angP)\n",
    "    println(\"angQ= \", angQ)\n",
    "    \n",
    "    i=1; j=1;\n",
    "    println(\"----- begin ----------\")\n",
    "    \n",
    "    R =Polygon([PP[1]+QQ[1]]) # a polygon with the sum of the two lower points as the first vertex.\n",
    "    println(\"R vertices: \",R.vertices)\n",
    "    while (i<m || j<n)\n",
    "         if angP[i]<angQ[j] \n",
    "            println(\"angP[i] is minimal\")\n",
    "            i +=1\n",
    "        elseif angQ[j]<angP[i]\n",
    "            println(\"angQ[j] is minimal\")\n",
    "            j +=1\n",
    "        else\n",
    "            i +=1\n",
    "            j +=1\n",
    "        end\n",
    "        R.vertices = [ R.vertices; PP[i]+QQ[j]]\n",
    "        println(i,j)\n",
    "        println(\"R vertices: \",R.vertices)\n",
    "    end\n",
    "    return R\n",
    "end\n",
    "\n",
    "Base.:(+)(P::Polygon,Q::Polygon) = minkowskiSum(P,Q)"
   ]
  },
  {
   "cell_type": "markdown",
   "metadata": {},
   "source": [
    "## Testing"
   ]
  },
  {
   "cell_type": "code",
   "execution_count": 13,
   "metadata": {},
   "outputs": [
    {
     "data": {
      "text/plain": [
       "Polygon(Vertex[Vertex(Real[0.0, -0.6]), Vertex(Real[-1.1, 0.0]), Vertex(Real[1.1, 0.0]), Vertex(Real[0.0, 0.4])], var\"#7#11\"{Polygon}(Polygon(#= circular reference @-2 =#)), var\"#9#13\"{Polygon}(Polygon(#= circular reference @-2 =#)), var\"#8#12\"{Polygon}(Polygon(#= circular reference @-2 =#)), var\"#10#14\"{Polygon}(Polygon(#= circular reference @-2 =#)))"
      ]
     },
     "execution_count": 13,
     "metadata": {},
     "output_type": "execute_result"
    }
   ],
   "source": [
    "v4=Vertex([0,0.4])\n",
    "v2=Vertex([-1.1,0])\n",
    "v3=Vertex([1.1,0])\n",
    "v1=Vertex([0.0,-0.6])\n",
    "P = Polygon([v1,v2,v3,v4])\n",
    "#P = Polygon([v1,v2,v3])"
   ]
  },
  {
   "cell_type": "code",
   "execution_count": 14,
   "metadata": {},
   "outputs": [
    {
     "name": "stdout",
     "output_type": "stream",
     "text": [
      "[0.49934672168013006, 2.792821650005886, 3.4903636571737002, 5.783838585499456]"
     ]
    },
    {
     "data": {
      "image/svg+xml": [
       "<?xml version=\"1.0\" encoding=\"utf-8\"?>\n",
       "<svg xmlns=\"http://www.w3.org/2000/svg\" xmlns:xlink=\"http://www.w3.org/1999/xlink\" width=\"600\" height=\"400\" viewBox=\"0 0 2400 1600\">\n",
       "<defs>\n",
       "  <clipPath id=\"clip910\">\n",
       "    <rect x=\"0\" y=\"0\" width=\"2400\" height=\"1600\"/>\n",
       "  </clipPath>\n",
       "</defs>\n",
       "<path clip-path=\"url(#clip910)\" d=\"\n",
       "M0 1600 L2400 1600 L2400 0 L0 0  Z\n",
       "  \" fill=\"#ffffff\" fill-rule=\"evenodd\" fill-opacity=\"1\"/>\n",
       "<defs>\n",
       "  <clipPath id=\"clip911\">\n",
       "    <rect x=\"480\" y=\"0\" width=\"1681\" height=\"1600\"/>\n",
       "  </clipPath>\n",
       "</defs>\n",
       "<path clip-path=\"url(#clip910)\" d=\"\n",
       "M224.098 1486.45 L2352.76 1486.45 L2352.76 47.2441 L224.098 47.2441  Z\n",
       "  \" fill=\"#ffffff\" fill-rule=\"evenodd\" fill-opacity=\"1\"/>\n",
       "<defs>\n",
       "  <clipPath id=\"clip912\">\n",
       "    <rect x=\"224\" y=\"47\" width=\"2130\" height=\"1440\"/>\n",
       "  </clipPath>\n",
       "</defs>\n",
       "<polyline clip-path=\"url(#clip912)\" style=\"stroke:#000000; stroke-linecap:butt; stroke-linejoin:round; stroke-width:2; stroke-opacity:0.1; fill:none\" points=\"\n",
       "  375.623,1486.45 375.623,47.2441 \n",
       "  \"/>\n",
       "<polyline clip-path=\"url(#clip912)\" style=\"stroke:#000000; stroke-linecap:butt; stroke-linejoin:round; stroke-width:2; stroke-opacity:0.1; fill:none\" points=\"\n",
       "  832.025,1486.45 832.025,47.2441 \n",
       "  \"/>\n",
       "<polyline clip-path=\"url(#clip912)\" style=\"stroke:#000000; stroke-linecap:butt; stroke-linejoin:round; stroke-width:2; stroke-opacity:0.1; fill:none\" points=\"\n",
       "  1288.43,1486.45 1288.43,47.2441 \n",
       "  \"/>\n",
       "<polyline clip-path=\"url(#clip912)\" style=\"stroke:#000000; stroke-linecap:butt; stroke-linejoin:round; stroke-width:2; stroke-opacity:0.1; fill:none\" points=\"\n",
       "  1744.83,1486.45 1744.83,47.2441 \n",
       "  \"/>\n",
       "<polyline clip-path=\"url(#clip912)\" style=\"stroke:#000000; stroke-linecap:butt; stroke-linejoin:round; stroke-width:2; stroke-opacity:0.1; fill:none\" points=\"\n",
       "  2201.23,1486.45 2201.23,47.2441 \n",
       "  \"/>\n",
       "<polyline clip-path=\"url(#clip910)\" style=\"stroke:#000000; stroke-linecap:butt; stroke-linejoin:round; stroke-width:4; stroke-opacity:1; fill:none\" points=\"\n",
       "  224.098,1486.45 2352.76,1486.45 \n",
       "  \"/>\n",
       "<polyline clip-path=\"url(#clip910)\" style=\"stroke:#000000; stroke-linecap:butt; stroke-linejoin:round; stroke-width:4; stroke-opacity:1; fill:none\" points=\"\n",
       "  375.623,1486.45 375.623,1467.55 \n",
       "  \"/>\n",
       "<polyline clip-path=\"url(#clip910)\" style=\"stroke:#000000; stroke-linecap:butt; stroke-linejoin:round; stroke-width:4; stroke-opacity:1; fill:none\" points=\"\n",
       "  832.025,1486.45 832.025,1467.55 \n",
       "  \"/>\n",
       "<polyline clip-path=\"url(#clip910)\" style=\"stroke:#000000; stroke-linecap:butt; stroke-linejoin:round; stroke-width:4; stroke-opacity:1; fill:none\" points=\"\n",
       "  1288.43,1486.45 1288.43,1467.55 \n",
       "  \"/>\n",
       "<polyline clip-path=\"url(#clip910)\" style=\"stroke:#000000; stroke-linecap:butt; stroke-linejoin:round; stroke-width:4; stroke-opacity:1; fill:none\" points=\"\n",
       "  1744.83,1486.45 1744.83,1467.55 \n",
       "  \"/>\n",
       "<polyline clip-path=\"url(#clip910)\" style=\"stroke:#000000; stroke-linecap:butt; stroke-linejoin:round; stroke-width:4; stroke-opacity:1; fill:none\" points=\"\n",
       "  2201.23,1486.45 2201.23,1467.55 \n",
       "  \"/>\n",
       "<path clip-path=\"url(#clip910)\" d=\"M322.151 1532.02 L351.827 1532.02 L351.827 1535.95 L322.151 1535.95 L322.151 1532.02 Z\" fill=\"#000000\" fill-rule=\"evenodd\" fill-opacity=\"1\" /><path clip-path=\"url(#clip910)\" d=\"M362.73 1544.91 L370.369 1544.91 L370.369 1518.55 L362.059 1520.21 L362.059 1515.95 L370.322 1514.29 L374.998 1514.29 L374.998 1544.91 L382.637 1544.91 L382.637 1548.85 L362.73 1548.85 L362.73 1544.91 Z\" fill=\"#000000\" fill-rule=\"evenodd\" fill-opacity=\"1\" /><path clip-path=\"url(#clip910)\" d=\"M392.082 1542.97 L396.966 1542.97 L396.966 1548.85 L392.082 1548.85 L392.082 1542.97 Z\" fill=\"#000000\" fill-rule=\"evenodd\" fill-opacity=\"1\" /><path clip-path=\"url(#clip910)\" d=\"M417.151 1517.37 Q413.54 1517.37 411.711 1520.93 Q409.905 1524.47 409.905 1531.6 Q409.905 1538.71 411.711 1542.27 Q413.54 1545.82 417.151 1545.82 Q420.785 1545.82 422.591 1542.27 Q424.419 1538.71 424.419 1531.6 Q424.419 1524.47 422.591 1520.93 Q420.785 1517.37 417.151 1517.37 M417.151 1513.66 Q422.961 1513.66 426.017 1518.27 Q429.095 1522.85 429.095 1531.6 Q429.095 1540.33 426.017 1544.94 Q422.961 1549.52 417.151 1549.52 Q411.341 1549.52 408.262 1544.94 Q405.206 1540.33 405.206 1531.6 Q405.206 1522.85 408.262 1518.27 Q411.341 1513.66 417.151 1513.66 Z\" fill=\"#000000\" fill-rule=\"evenodd\" fill-opacity=\"1\" /><path clip-path=\"url(#clip910)\" d=\"M779.051 1532.02 L808.727 1532.02 L808.727 1535.95 L779.051 1535.95 L779.051 1532.02 Z\" fill=\"#000000\" fill-rule=\"evenodd\" fill-opacity=\"1\" /><path clip-path=\"url(#clip910)\" d=\"M828.819 1517.37 Q825.208 1517.37 823.379 1520.93 Q821.574 1524.47 821.574 1531.6 Q821.574 1538.71 823.379 1542.27 Q825.208 1545.82 828.819 1545.82 Q832.453 1545.82 834.259 1542.27 Q836.088 1538.71 836.088 1531.6 Q836.088 1524.47 834.259 1520.93 Q832.453 1517.37 828.819 1517.37 M828.819 1513.66 Q834.629 1513.66 837.685 1518.27 Q840.763 1522.85 840.763 1531.6 Q840.763 1540.33 837.685 1544.94 Q834.629 1549.52 828.819 1549.52 Q823.009 1549.52 819.93 1544.94 Q816.875 1540.33 816.875 1531.6 Q816.875 1522.85 819.93 1518.27 Q823.009 1513.66 828.819 1513.66 Z\" fill=\"#000000\" fill-rule=\"evenodd\" fill-opacity=\"1\" /><path clip-path=\"url(#clip910)\" d=\"M848.981 1542.97 L853.865 1542.97 L853.865 1548.85 L848.981 1548.85 L848.981 1542.97 Z\" fill=\"#000000\" fill-rule=\"evenodd\" fill-opacity=\"1\" /><path clip-path=\"url(#clip910)\" d=\"M864.097 1514.29 L882.453 1514.29 L882.453 1518.22 L868.379 1518.22 L868.379 1526.7 Q869.398 1526.35 870.416 1526.19 Q871.435 1526 872.453 1526 Q878.24 1526 881.62 1529.17 Q884.999 1532.34 884.999 1537.76 Q884.999 1543.34 881.527 1546.44 Q878.055 1549.52 871.736 1549.52 Q869.56 1549.52 867.291 1549.15 Q865.046 1548.78 862.638 1548.04 L862.638 1543.34 Q864.722 1544.47 866.944 1545.03 Q869.166 1545.58 871.643 1545.58 Q875.648 1545.58 877.985 1543.48 Q880.323 1541.37 880.323 1537.76 Q880.323 1534.15 877.985 1532.04 Q875.648 1529.94 871.643 1529.94 Q869.768 1529.94 867.893 1530.35 Q866.041 1530.77 864.097 1531.65 L864.097 1514.29 Z\" fill=\"#000000\" fill-rule=\"evenodd\" fill-opacity=\"1\" /><path clip-path=\"url(#clip910)\" d=\"M1265.81 1517.37 Q1262.2 1517.37 1260.37 1520.93 Q1258.57 1524.47 1258.57 1531.6 Q1258.57 1538.71 1260.37 1542.27 Q1262.2 1545.82 1265.81 1545.82 Q1269.45 1545.82 1271.25 1542.27 Q1273.08 1538.71 1273.08 1531.6 Q1273.08 1524.47 1271.25 1520.93 Q1269.45 1517.37 1265.81 1517.37 M1265.81 1513.66 Q1271.62 1513.66 1274.68 1518.27 Q1277.76 1522.85 1277.76 1531.6 Q1277.76 1540.33 1274.68 1544.94 Q1271.62 1549.52 1265.81 1549.52 Q1260 1549.52 1256.92 1544.94 Q1253.87 1540.33 1253.87 1531.6 Q1253.87 1522.85 1256.92 1518.27 Q1260 1513.66 1265.81 1513.66 Z\" fill=\"#000000\" fill-rule=\"evenodd\" fill-opacity=\"1\" /><path clip-path=\"url(#clip910)\" d=\"M1285.97 1542.97 L1290.86 1542.97 L1290.86 1548.85 L1285.97 1548.85 L1285.97 1542.97 Z\" fill=\"#000000\" fill-rule=\"evenodd\" fill-opacity=\"1\" /><path clip-path=\"url(#clip910)\" d=\"M1311.04 1517.37 Q1307.43 1517.37 1305.6 1520.93 Q1303.8 1524.47 1303.8 1531.6 Q1303.8 1538.71 1305.6 1542.27 Q1307.43 1545.82 1311.04 1545.82 Q1314.68 1545.82 1316.48 1542.27 Q1318.31 1538.71 1318.31 1531.6 Q1318.31 1524.47 1316.48 1520.93 Q1314.68 1517.37 1311.04 1517.37 M1311.04 1513.66 Q1316.85 1513.66 1319.91 1518.27 Q1322.99 1522.85 1322.99 1531.6 Q1322.99 1540.33 1319.91 1544.94 Q1316.85 1549.52 1311.04 1549.52 Q1305.23 1549.52 1302.15 1544.94 Q1299.1 1540.33 1299.1 1531.6 Q1299.1 1522.85 1302.15 1518.27 Q1305.23 1513.66 1311.04 1513.66 Z\" fill=\"#000000\" fill-rule=\"evenodd\" fill-opacity=\"1\" /><path clip-path=\"url(#clip910)\" d=\"M1722.71 1517.37 Q1719.1 1517.37 1717.27 1520.93 Q1715.47 1524.47 1715.47 1531.6 Q1715.47 1538.71 1717.27 1542.27 Q1719.1 1545.82 1722.71 1545.82 Q1726.34 1545.82 1728.15 1542.27 Q1729.98 1538.71 1729.98 1531.6 Q1729.98 1524.47 1728.15 1520.93 Q1726.34 1517.37 1722.71 1517.37 M1722.71 1513.66 Q1728.52 1513.66 1731.58 1518.27 Q1734.66 1522.85 1734.66 1531.6 Q1734.66 1540.33 1731.58 1544.94 Q1728.52 1549.52 1722.71 1549.52 Q1716.9 1549.52 1713.82 1544.94 Q1710.77 1540.33 1710.77 1531.6 Q1710.77 1522.85 1713.82 1518.27 Q1716.9 1513.66 1722.71 1513.66 Z\" fill=\"#000000\" fill-rule=\"evenodd\" fill-opacity=\"1\" /><path clip-path=\"url(#clip910)\" d=\"M1742.87 1542.97 L1747.76 1542.97 L1747.76 1548.85 L1742.87 1548.85 L1742.87 1542.97 Z\" fill=\"#000000\" fill-rule=\"evenodd\" fill-opacity=\"1\" /><path clip-path=\"url(#clip910)\" d=\"M1757.99 1514.29 L1776.34 1514.29 L1776.34 1518.22 L1762.27 1518.22 L1762.27 1526.7 Q1763.29 1526.35 1764.31 1526.19 Q1765.33 1526 1766.34 1526 Q1772.13 1526 1775.51 1529.17 Q1778.89 1532.34 1778.89 1537.76 Q1778.89 1543.34 1775.42 1546.44 Q1771.95 1549.52 1765.63 1549.52 Q1763.45 1549.52 1761.18 1549.15 Q1758.94 1548.78 1756.53 1548.04 L1756.53 1543.34 Q1758.61 1544.47 1760.84 1545.03 Q1763.06 1545.58 1765.53 1545.58 Q1769.54 1545.58 1771.88 1543.48 Q1774.22 1541.37 1774.22 1537.76 Q1774.22 1534.15 1771.88 1532.04 Q1769.54 1529.94 1765.53 1529.94 Q1763.66 1529.94 1761.78 1530.35 Q1759.93 1530.77 1757.99 1531.65 L1757.99 1514.29 Z\" fill=\"#000000\" fill-rule=\"evenodd\" fill-opacity=\"1\" /><path clip-path=\"url(#clip910)\" d=\"M2168.38 1544.91 L2176.02 1544.91 L2176.02 1518.55 L2167.71 1520.21 L2167.71 1515.95 L2175.98 1514.29 L2180.65 1514.29 L2180.65 1544.91 L2188.29 1544.91 L2188.29 1548.85 L2168.38 1548.85 L2168.38 1544.91 Z\" fill=\"#000000\" fill-rule=\"evenodd\" fill-opacity=\"1\" /><path clip-path=\"url(#clip910)\" d=\"M2197.74 1542.97 L2202.62 1542.97 L2202.62 1548.85 L2197.74 1548.85 L2197.74 1542.97 Z\" fill=\"#000000\" fill-rule=\"evenodd\" fill-opacity=\"1\" /><path clip-path=\"url(#clip910)\" d=\"M2222.8 1517.37 Q2219.19 1517.37 2217.36 1520.93 Q2215.56 1524.47 2215.56 1531.6 Q2215.56 1538.71 2217.36 1542.27 Q2219.19 1545.82 2222.8 1545.82 Q2226.44 1545.82 2228.24 1542.27 Q2230.07 1538.71 2230.07 1531.6 Q2230.07 1524.47 2228.24 1520.93 Q2226.44 1517.37 2222.8 1517.37 M2222.8 1513.66 Q2228.61 1513.66 2231.67 1518.27 Q2234.75 1522.85 2234.75 1531.6 Q2234.75 1540.33 2231.67 1544.94 Q2228.61 1549.52 2222.8 1549.52 Q2216.99 1549.52 2213.92 1544.94 Q2210.86 1540.33 2210.86 1531.6 Q2210.86 1522.85 2213.92 1518.27 Q2216.99 1513.66 2222.8 1513.66 Z\" fill=\"#000000\" fill-rule=\"evenodd\" fill-opacity=\"1\" /><polyline clip-path=\"url(#clip912)\" style=\"stroke:#000000; stroke-linecap:butt; stroke-linejoin:round; stroke-width:2; stroke-opacity:0.1; fill:none\" points=\"\n",
       "  224.098,1309.94 2352.76,1309.94 \n",
       "  \"/>\n",
       "<polyline clip-path=\"url(#clip912)\" style=\"stroke:#000000; stroke-linecap:butt; stroke-linejoin:round; stroke-width:2; stroke-opacity:0.1; fill:none\" points=\"\n",
       "  224.098,970.507 2352.76,970.507 \n",
       "  \"/>\n",
       "<polyline clip-path=\"url(#clip912)\" style=\"stroke:#000000; stroke-linecap:butt; stroke-linejoin:round; stroke-width:2; stroke-opacity:0.1; fill:none\" points=\"\n",
       "  224.098,631.072 2352.76,631.072 \n",
       "  \"/>\n",
       "<polyline clip-path=\"url(#clip912)\" style=\"stroke:#000000; stroke-linecap:butt; stroke-linejoin:round; stroke-width:2; stroke-opacity:0.1; fill:none\" points=\"\n",
       "  224.098,291.637 2352.76,291.637 \n",
       "  \"/>\n",
       "<polyline clip-path=\"url(#clip910)\" style=\"stroke:#000000; stroke-linecap:butt; stroke-linejoin:round; stroke-width:4; stroke-opacity:1; fill:none\" points=\"\n",
       "  224.098,1486.45 224.098,47.2441 \n",
       "  \"/>\n",
       "<polyline clip-path=\"url(#clip910)\" style=\"stroke:#000000; stroke-linecap:butt; stroke-linejoin:round; stroke-width:4; stroke-opacity:1; fill:none\" points=\"\n",
       "  224.098,1309.94 242.996,1309.94 \n",
       "  \"/>\n",
       "<polyline clip-path=\"url(#clip910)\" style=\"stroke:#000000; stroke-linecap:butt; stroke-linejoin:round; stroke-width:4; stroke-opacity:1; fill:none\" points=\"\n",
       "  224.098,970.507 242.996,970.507 \n",
       "  \"/>\n",
       "<polyline clip-path=\"url(#clip910)\" style=\"stroke:#000000; stroke-linecap:butt; stroke-linejoin:round; stroke-width:4; stroke-opacity:1; fill:none\" points=\"\n",
       "  224.098,631.072 242.996,631.072 \n",
       "  \"/>\n",
       "<polyline clip-path=\"url(#clip910)\" style=\"stroke:#000000; stroke-linecap:butt; stroke-linejoin:round; stroke-width:4; stroke-opacity:1; fill:none\" points=\"\n",
       "  224.098,291.637 242.996,291.637 \n",
       "  \"/>\n",
       "<path clip-path=\"url(#clip910)\" d=\"M50.9921 1310.39 L80.6679 1310.39 L80.6679 1314.33 L50.9921 1314.33 L50.9921 1310.39 Z\" fill=\"#000000\" fill-rule=\"evenodd\" fill-opacity=\"1\" /><path clip-path=\"url(#clip910)\" d=\"M100.76 1295.74 Q97.1493 1295.74 95.3206 1299.31 Q93.515 1302.85 93.515 1309.98 Q93.515 1317.08 95.3206 1320.65 Q97.1493 1324.19 100.76 1324.19 Q104.395 1324.19 106.2 1320.65 Q108.029 1317.08 108.029 1309.98 Q108.029 1302.85 106.2 1299.31 Q104.395 1295.74 100.76 1295.74 M100.76 1292.04 Q106.571 1292.04 109.626 1296.64 Q112.705 1301.23 112.705 1309.98 Q112.705 1318.7 109.626 1323.31 Q106.571 1327.89 100.76 1327.89 Q94.9502 1327.89 91.8715 1323.31 Q88.816 1318.7 88.816 1309.98 Q88.816 1301.23 91.8715 1296.64 Q94.9502 1292.04 100.76 1292.04 Z\" fill=\"#000000\" fill-rule=\"evenodd\" fill-opacity=\"1\" /><path clip-path=\"url(#clip910)\" d=\"M120.922 1321.34 L125.807 1321.34 L125.807 1327.22 L120.922 1327.22 L120.922 1321.34 Z\" fill=\"#000000\" fill-rule=\"evenodd\" fill-opacity=\"1\" /><path clip-path=\"url(#clip910)\" d=\"M136.038 1292.66 L154.394 1292.66 L154.394 1296.6 L140.32 1296.6 L140.32 1305.07 Q141.339 1304.72 142.357 1304.56 Q143.376 1304.37 144.394 1304.37 Q150.181 1304.37 153.561 1307.55 Q156.941 1310.72 156.941 1316.13 Q156.941 1321.71 153.468 1324.81 Q149.996 1327.89 143.677 1327.89 Q141.501 1327.89 139.232 1327.52 Q136.987 1327.15 134.58 1326.41 L134.58 1321.71 Q136.663 1322.85 138.885 1323.4 Q141.107 1323.96 143.584 1323.96 Q147.589 1323.96 149.927 1321.85 Q152.265 1319.74 152.265 1316.13 Q152.265 1312.52 149.927 1310.42 Q147.589 1308.31 143.584 1308.31 Q141.709 1308.31 139.834 1308.73 Q137.982 1309.14 136.038 1310.02 L136.038 1292.66 Z\" fill=\"#000000\" fill-rule=\"evenodd\" fill-opacity=\"1\" /><path clip-path=\"url(#clip910)\" d=\"M176.153 1295.74 Q172.542 1295.74 170.714 1299.31 Q168.908 1302.85 168.908 1309.98 Q168.908 1317.08 170.714 1320.65 Q172.542 1324.19 176.153 1324.19 Q179.788 1324.19 181.593 1320.65 Q183.422 1317.08 183.422 1309.98 Q183.422 1302.85 181.593 1299.31 Q179.788 1295.74 176.153 1295.74 M176.153 1292.04 Q181.964 1292.04 185.019 1296.64 Q188.098 1301.23 188.098 1309.98 Q188.098 1318.7 185.019 1323.31 Q181.964 1327.89 176.153 1327.89 Q170.343 1327.89 167.265 1323.31 Q164.209 1318.7 164.209 1309.98 Q164.209 1301.23 167.265 1296.64 Q170.343 1292.04 176.153 1292.04 Z\" fill=\"#000000\" fill-rule=\"evenodd\" fill-opacity=\"1\" /><path clip-path=\"url(#clip910)\" d=\"M51.9875 970.958 L81.6633 970.958 L81.6633 974.893 L51.9875 974.893 L51.9875 970.958 Z\" fill=\"#000000\" fill-rule=\"evenodd\" fill-opacity=\"1\" /><path clip-path=\"url(#clip910)\" d=\"M101.756 956.306 Q98.1447 956.306 96.316 959.87 Q94.5104 963.412 94.5104 970.542 Q94.5104 977.648 96.316 981.213 Q98.1447 984.755 101.756 984.755 Q105.39 984.755 107.196 981.213 Q109.024 977.648 109.024 970.542 Q109.024 963.412 107.196 959.87 Q105.39 956.306 101.756 956.306 M101.756 952.602 Q107.566 952.602 110.621 957.208 Q113.7 961.792 113.7 970.542 Q113.7 979.268 110.621 983.875 Q107.566 988.458 101.756 988.458 Q95.9456 988.458 92.8669 983.875 Q89.8114 979.268 89.8114 970.542 Q89.8114 961.792 92.8669 957.208 Q95.9456 952.602 101.756 952.602 Z\" fill=\"#000000\" fill-rule=\"evenodd\" fill-opacity=\"1\" /><path clip-path=\"url(#clip910)\" d=\"M121.918 981.907 L126.802 981.907 L126.802 987.787 L121.918 987.787 L121.918 981.907 Z\" fill=\"#000000\" fill-rule=\"evenodd\" fill-opacity=\"1\" /><path clip-path=\"url(#clip910)\" d=\"M141.015 983.852 L157.334 983.852 L157.334 987.787 L135.39 987.787 L135.39 983.852 Q138.052 981.097 142.635 976.468 Q147.242 971.815 148.422 970.472 Q150.668 967.949 151.547 966.213 Q152.45 964.454 152.45 962.764 Q152.45 960.009 150.505 958.273 Q148.584 956.537 145.482 956.537 Q143.283 956.537 140.83 957.301 Q138.399 958.065 135.621 959.616 L135.621 954.894 Q138.445 953.759 140.899 953.181 Q143.353 952.602 145.39 952.602 Q150.76 952.602 153.955 955.287 Q157.149 957.972 157.149 962.463 Q157.149 964.593 156.339 966.514 Q155.552 968.412 153.445 971.005 Q152.867 971.676 149.765 974.893 Q146.663 978.088 141.015 983.852 Z\" fill=\"#000000\" fill-rule=\"evenodd\" fill-opacity=\"1\" /><path clip-path=\"url(#clip910)\" d=\"M167.195 953.227 L185.552 953.227 L185.552 957.162 L171.478 957.162 L171.478 965.634 Q172.496 965.287 173.515 965.125 Q174.533 964.94 175.552 964.94 Q181.339 964.94 184.718 968.111 Q188.098 971.282 188.098 976.699 Q188.098 982.278 184.626 985.38 Q181.153 988.458 174.834 988.458 Q172.658 988.458 170.39 988.088 Q168.144 987.717 165.737 986.977 L165.737 982.278 Q167.82 983.412 170.042 983.967 Q172.265 984.523 174.741 984.523 Q178.746 984.523 181.084 982.417 Q183.422 980.31 183.422 976.699 Q183.422 973.088 181.084 970.981 Q178.746 968.875 174.741 968.875 Q172.866 968.875 170.991 969.292 Q169.14 969.708 167.195 970.588 L167.195 953.227 Z\" fill=\"#000000\" fill-rule=\"evenodd\" fill-opacity=\"1\" /><path clip-path=\"url(#clip910)\" d=\"M100.76 616.871 Q97.1493 616.871 95.3206 620.436 Q93.515 623.977 93.515 631.107 Q93.515 638.213 95.3206 641.778 Q97.1493 645.32 100.76 645.32 Q104.395 645.32 106.2 641.778 Q108.029 638.213 108.029 631.107 Q108.029 623.977 106.2 620.436 Q104.395 616.871 100.76 616.871 M100.76 613.167 Q106.571 613.167 109.626 617.774 Q112.705 622.357 112.705 631.107 Q112.705 639.834 109.626 644.44 Q106.571 649.023 100.76 649.023 Q94.9502 649.023 91.8715 644.44 Q88.816 639.834 88.816 631.107 Q88.816 622.357 91.8715 617.774 Q94.9502 613.167 100.76 613.167 Z\" fill=\"#000000\" fill-rule=\"evenodd\" fill-opacity=\"1\" /><path clip-path=\"url(#clip910)\" d=\"M120.922 642.472 L125.807 642.472 L125.807 648.352 L120.922 648.352 L120.922 642.472 Z\" fill=\"#000000\" fill-rule=\"evenodd\" fill-opacity=\"1\" /><path clip-path=\"url(#clip910)\" d=\"M145.992 616.871 Q142.381 616.871 140.552 620.436 Q138.746 623.977 138.746 631.107 Q138.746 638.213 140.552 641.778 Q142.381 645.32 145.992 645.32 Q149.626 645.32 151.431 641.778 Q153.26 638.213 153.26 631.107 Q153.26 623.977 151.431 620.436 Q149.626 616.871 145.992 616.871 M145.992 613.167 Q151.802 613.167 154.857 617.774 Q157.936 622.357 157.936 631.107 Q157.936 639.834 154.857 644.44 Q151.802 649.023 145.992 649.023 Q140.181 649.023 137.103 644.44 Q134.047 639.834 134.047 631.107 Q134.047 622.357 137.103 617.774 Q140.181 613.167 145.992 613.167 Z\" fill=\"#000000\" fill-rule=\"evenodd\" fill-opacity=\"1\" /><path clip-path=\"url(#clip910)\" d=\"M176.153 616.871 Q172.542 616.871 170.714 620.436 Q168.908 623.977 168.908 631.107 Q168.908 638.213 170.714 641.778 Q172.542 645.32 176.153 645.32 Q179.788 645.32 181.593 641.778 Q183.422 638.213 183.422 631.107 Q183.422 623.977 181.593 620.436 Q179.788 616.871 176.153 616.871 M176.153 613.167 Q181.964 613.167 185.019 617.774 Q188.098 622.357 188.098 631.107 Q188.098 639.834 185.019 644.44 Q181.964 649.023 176.153 649.023 Q170.343 649.023 167.265 644.44 Q164.209 639.834 164.209 631.107 Q164.209 622.357 167.265 617.774 Q170.343 613.167 176.153 613.167 Z\" fill=\"#000000\" fill-rule=\"evenodd\" fill-opacity=\"1\" /><path clip-path=\"url(#clip910)\" d=\"M101.756 277.436 Q98.1447 277.436 96.316 281.001 Q94.5104 284.542 94.5104 291.672 Q94.5104 298.778 96.316 302.343 Q98.1447 305.885 101.756 305.885 Q105.39 305.885 107.196 302.343 Q109.024 298.778 109.024 291.672 Q109.024 284.542 107.196 281.001 Q105.39 277.436 101.756 277.436 M101.756 273.732 Q107.566 273.732 110.621 278.339 Q113.7 282.922 113.7 291.672 Q113.7 300.399 110.621 305.005 Q107.566 309.588 101.756 309.588 Q95.9456 309.588 92.8669 305.005 Q89.8114 300.399 89.8114 291.672 Q89.8114 282.922 92.8669 278.339 Q95.9456 273.732 101.756 273.732 Z\" fill=\"#000000\" fill-rule=\"evenodd\" fill-opacity=\"1\" /><path clip-path=\"url(#clip910)\" d=\"M121.918 303.038 L126.802 303.038 L126.802 308.917 L121.918 308.917 L121.918 303.038 Z\" fill=\"#000000\" fill-rule=\"evenodd\" fill-opacity=\"1\" /><path clip-path=\"url(#clip910)\" d=\"M141.015 304.982 L157.334 304.982 L157.334 308.917 L135.39 308.917 L135.39 304.982 Q138.052 302.227 142.635 297.598 Q147.242 292.945 148.422 291.602 Q150.668 289.079 151.547 287.343 Q152.45 285.584 152.45 283.894 Q152.45 281.14 150.505 279.403 Q148.584 277.667 145.482 277.667 Q143.283 277.667 140.83 278.431 Q138.399 279.195 135.621 280.746 L135.621 276.024 Q138.445 274.89 140.899 274.311 Q143.353 273.732 145.39 273.732 Q150.76 273.732 153.955 276.417 Q157.149 279.103 157.149 283.593 Q157.149 285.723 156.339 287.644 Q155.552 289.542 153.445 292.135 Q152.867 292.806 149.765 296.024 Q146.663 299.218 141.015 304.982 Z\" fill=\"#000000\" fill-rule=\"evenodd\" fill-opacity=\"1\" /><path clip-path=\"url(#clip910)\" d=\"M167.195 274.357 L185.552 274.357 L185.552 278.292 L171.478 278.292 L171.478 286.765 Q172.496 286.417 173.515 286.255 Q174.533 286.07 175.552 286.07 Q181.339 286.07 184.718 289.241 Q188.098 292.413 188.098 297.829 Q188.098 303.408 184.626 306.51 Q181.153 309.588 174.834 309.588 Q172.658 309.588 170.39 309.218 Q168.144 308.848 165.737 308.107 L165.737 303.408 Q167.82 304.542 170.042 305.098 Q172.265 305.653 174.741 305.653 Q178.746 305.653 181.084 303.547 Q183.422 301.44 183.422 297.829 Q183.422 294.218 181.084 292.112 Q178.746 290.005 174.741 290.005 Q172.866 290.005 170.991 290.422 Q169.14 290.839 167.195 291.718 L167.195 274.357 Z\" fill=\"#000000\" fill-rule=\"evenodd\" fill-opacity=\"1\" /><path clip-path=\"url(#clip912)\" d=\"\n",
       "M1288.43 1445.72 L2292.51 631.072 L1288.43 87.9763 L284.343 631.072 L1288.43 1445.72 L1288.43 631.072 L284.343 631.072 L1288.43 631.072 L2292.51 631.072 L1288.43 631.072 \n",
       "   Z\n",
       "  \" fill=\"#009af9\" fill-rule=\"evenodd\" fill-opacity=\"1\"/>\n",
       "<polyline clip-path=\"url(#clip912)\" style=\"stroke:#009af9; stroke-linecap:butt; stroke-linejoin:round; stroke-width:4; stroke-opacity:1; fill:none\" points=\"\n",
       "  1288.43,1445.72 2292.51,631.072 1288.43,87.9763 284.343,631.072 1288.43,1445.72 \n",
       "  \"/>\n",
       "</svg>\n"
      ]
     },
     "execution_count": 14,
     "metadata": {},
     "output_type": "execute_result"
    }
   ],
   "source": [
    "P.sort();\n",
    "print(P.angles())\n",
    "P.plot()"
   ]
  },
  {
   "cell_type": "code",
   "execution_count": 32,
   "metadata": {},
   "outputs": [
    {
     "data": {
      "text/plain": [
       "Polygon(Vertex[Vertex(Real[1.1, 0.5]), Vertex(Real[1.0, 0.1]), Vertex(Real[-1.0, 0.55]), Vertex(Real[-1, 0]), Vertex(Real[0.1, 1.1])], var\"#7#11\"{Polygon}(Polygon(#= circular reference @-2 =#)), var\"#9#13\"{Polygon}(Polygon(#= circular reference @-2 =#)), var\"#8#12\"{Polygon}(Polygon(#= circular reference @-2 =#)), var\"#10#14\"{Polygon}(Polygon(#= circular reference @-2 =#)))"
      ]
     },
     "execution_count": 32,
     "metadata": {},
     "output_type": "execute_result"
    }
   ],
   "source": [
    "u4=Vertex([-1,0])\n",
    "u2=Vertex([1,0.1])\n",
    "u3=Vertex([-1,0.55])\n",
    "u1=Vertex([1.1,0.5])\n",
    "u5=Vertex([0.1,1.1])\n",
    "Q = Polygon([u1,u2,u3,u4,u5])\n",
    "#Q = Polygon([u1,u2,u4,])"
   ]
  },
  {
   "cell_type": "code",
   "execution_count": 33,
   "metadata": {},
   "outputs": [
    {
     "name": "stdout",
     "output_type": "stream",
     "text": [
      "[0.049958395721942765, 1.3258176636680323, 2.601173153319209, 3.6052402625905993, 4.71238898038469]"
     ]
    },
    {
     "data": {
      "image/svg+xml": [
       "<?xml version=\"1.0\" encoding=\"utf-8\"?>\n",
       "<svg xmlns=\"http://www.w3.org/2000/svg\" xmlns:xlink=\"http://www.w3.org/1999/xlink\" width=\"600\" height=\"400\" viewBox=\"0 0 2400 1600\">\n",
       "<defs>\n",
       "  <clipPath id=\"clip230\">\n",
       "    <rect x=\"0\" y=\"0\" width=\"2400\" height=\"1600\"/>\n",
       "  </clipPath>\n",
       "</defs>\n",
       "<path clip-path=\"url(#clip230)\" d=\"\n",
       "M0 1600 L2400 1600 L2400 0 L0 0  Z\n",
       "  \" fill=\"#ffffff\" fill-rule=\"evenodd\" fill-opacity=\"1\"/>\n",
       "<defs>\n",
       "  <clipPath id=\"clip231\">\n",
       "    <rect x=\"480\" y=\"0\" width=\"1681\" height=\"1600\"/>\n",
       "  </clipPath>\n",
       "</defs>\n",
       "<path clip-path=\"url(#clip230)\" d=\"\n",
       "M186.274 1486.45 L2352.76 1486.45 L2352.76 47.2441 L186.274 47.2441  Z\n",
       "  \" fill=\"#ffffff\" fill-rule=\"evenodd\" fill-opacity=\"1\"/>\n",
       "<defs>\n",
       "  <clipPath id=\"clip232\">\n",
       "    <rect x=\"186\" y=\"47\" width=\"2167\" height=\"1440\"/>\n",
       "  </clipPath>\n",
       "</defs>\n",
       "<polyline clip-path=\"url(#clip232)\" style=\"stroke:#000000; stroke-linecap:butt; stroke-linejoin:round; stroke-width:2; stroke-opacity:0.1; fill:none\" points=\"\n",
       "  247.59,1486.45 247.59,47.2441 \n",
       "  \"/>\n",
       "<polyline clip-path=\"url(#clip232)\" style=\"stroke:#000000; stroke-linecap:butt; stroke-linejoin:round; stroke-width:2; stroke-opacity:0.1; fill:none\" points=\"\n",
       "  734.221,1486.45 734.221,47.2441 \n",
       "  \"/>\n",
       "<polyline clip-path=\"url(#clip232)\" style=\"stroke:#000000; stroke-linecap:butt; stroke-linejoin:round; stroke-width:2; stroke-opacity:0.1; fill:none\" points=\"\n",
       "  1220.85,1486.45 1220.85,47.2441 \n",
       "  \"/>\n",
       "<polyline clip-path=\"url(#clip232)\" style=\"stroke:#000000; stroke-linecap:butt; stroke-linejoin:round; stroke-width:2; stroke-opacity:0.1; fill:none\" points=\"\n",
       "  1707.48,1486.45 1707.48,47.2441 \n",
       "  \"/>\n",
       "<polyline clip-path=\"url(#clip232)\" style=\"stroke:#000000; stroke-linecap:butt; stroke-linejoin:round; stroke-width:2; stroke-opacity:0.1; fill:none\" points=\"\n",
       "  2194.11,1486.45 2194.11,47.2441 \n",
       "  \"/>\n",
       "<polyline clip-path=\"url(#clip230)\" style=\"stroke:#000000; stroke-linecap:butt; stroke-linejoin:round; stroke-width:4; stroke-opacity:1; fill:none\" points=\"\n",
       "  186.274,1486.45 2352.76,1486.45 \n",
       "  \"/>\n",
       "<polyline clip-path=\"url(#clip230)\" style=\"stroke:#000000; stroke-linecap:butt; stroke-linejoin:round; stroke-width:4; stroke-opacity:1; fill:none\" points=\"\n",
       "  247.59,1486.45 247.59,1467.55 \n",
       "  \"/>\n",
       "<polyline clip-path=\"url(#clip230)\" style=\"stroke:#000000; stroke-linecap:butt; stroke-linejoin:round; stroke-width:4; stroke-opacity:1; fill:none\" points=\"\n",
       "  734.221,1486.45 734.221,1467.55 \n",
       "  \"/>\n",
       "<polyline clip-path=\"url(#clip230)\" style=\"stroke:#000000; stroke-linecap:butt; stroke-linejoin:round; stroke-width:4; stroke-opacity:1; fill:none\" points=\"\n",
       "  1220.85,1486.45 1220.85,1467.55 \n",
       "  \"/>\n",
       "<polyline clip-path=\"url(#clip230)\" style=\"stroke:#000000; stroke-linecap:butt; stroke-linejoin:round; stroke-width:4; stroke-opacity:1; fill:none\" points=\"\n",
       "  1707.48,1486.45 1707.48,1467.55 \n",
       "  \"/>\n",
       "<polyline clip-path=\"url(#clip230)\" style=\"stroke:#000000; stroke-linecap:butt; stroke-linejoin:round; stroke-width:4; stroke-opacity:1; fill:none\" points=\"\n",
       "  2194.11,1486.45 2194.11,1467.55 \n",
       "  \"/>\n",
       "<path clip-path=\"url(#clip230)\" d=\"M194.118 1532.02 L223.793 1532.02 L223.793 1535.95 L194.118 1535.95 L194.118 1532.02 Z\" fill=\"#000000\" fill-rule=\"evenodd\" fill-opacity=\"1\" /><path clip-path=\"url(#clip230)\" d=\"M234.696 1544.91 L242.335 1544.91 L242.335 1518.55 L234.025 1520.21 L234.025 1515.95 L242.289 1514.29 L246.965 1514.29 L246.965 1544.91 L254.603 1544.91 L254.603 1548.85 L234.696 1548.85 L234.696 1544.91 Z\" fill=\"#000000\" fill-rule=\"evenodd\" fill-opacity=\"1\" /><path clip-path=\"url(#clip230)\" d=\"M264.048 1542.97 L268.932 1542.97 L268.932 1548.85 L264.048 1548.85 L264.048 1542.97 Z\" fill=\"#000000\" fill-rule=\"evenodd\" fill-opacity=\"1\" /><path clip-path=\"url(#clip230)\" d=\"M289.117 1517.37 Q285.506 1517.37 283.677 1520.93 Q281.872 1524.47 281.872 1531.6 Q281.872 1538.71 283.677 1542.27 Q285.506 1545.82 289.117 1545.82 Q292.751 1545.82 294.557 1542.27 Q296.386 1538.71 296.386 1531.6 Q296.386 1524.47 294.557 1520.93 Q292.751 1517.37 289.117 1517.37 M289.117 1513.66 Q294.927 1513.66 297.983 1518.27 Q301.061 1522.85 301.061 1531.6 Q301.061 1540.33 297.983 1544.94 Q294.927 1549.52 289.117 1549.52 Q283.307 1549.52 280.228 1544.94 Q277.173 1540.33 277.173 1531.6 Q277.173 1522.85 280.228 1518.27 Q283.307 1513.66 289.117 1513.66 Z\" fill=\"#000000\" fill-rule=\"evenodd\" fill-opacity=\"1\" /><path clip-path=\"url(#clip230)\" d=\"M681.246 1532.02 L710.922 1532.02 L710.922 1535.95 L681.246 1535.95 L681.246 1532.02 Z\" fill=\"#000000\" fill-rule=\"evenodd\" fill-opacity=\"1\" /><path clip-path=\"url(#clip230)\" d=\"M731.015 1517.37 Q727.404 1517.37 725.575 1520.93 Q723.769 1524.47 723.769 1531.6 Q723.769 1538.71 725.575 1542.27 Q727.404 1545.82 731.015 1545.82 Q734.649 1545.82 736.454 1542.27 Q738.283 1538.71 738.283 1531.6 Q738.283 1524.47 736.454 1520.93 Q734.649 1517.37 731.015 1517.37 M731.015 1513.66 Q736.825 1513.66 739.88 1518.27 Q742.959 1522.85 742.959 1531.6 Q742.959 1540.33 739.88 1544.94 Q736.825 1549.52 731.015 1549.52 Q725.205 1549.52 722.126 1544.94 Q719.07 1540.33 719.07 1531.6 Q719.07 1522.85 722.126 1518.27 Q725.205 1513.66 731.015 1513.66 Z\" fill=\"#000000\" fill-rule=\"evenodd\" fill-opacity=\"1\" /><path clip-path=\"url(#clip230)\" d=\"M751.177 1542.97 L756.061 1542.97 L756.061 1548.85 L751.177 1548.85 L751.177 1542.97 Z\" fill=\"#000000\" fill-rule=\"evenodd\" fill-opacity=\"1\" /><path clip-path=\"url(#clip230)\" d=\"M766.292 1514.29 L784.649 1514.29 L784.649 1518.22 L770.575 1518.22 L770.575 1526.7 Q771.593 1526.35 772.612 1526.19 Q773.63 1526 774.649 1526 Q780.436 1526 783.815 1529.17 Q787.195 1532.34 787.195 1537.76 Q787.195 1543.34 783.723 1546.44 Q780.251 1549.52 773.931 1549.52 Q771.755 1549.52 769.487 1549.15 Q767.241 1548.78 764.834 1548.04 L764.834 1543.34 Q766.917 1544.47 769.139 1545.03 Q771.362 1545.58 773.839 1545.58 Q777.843 1545.58 780.181 1543.48 Q782.519 1541.37 782.519 1537.76 Q782.519 1534.15 780.181 1532.04 Q777.843 1529.94 773.839 1529.94 Q771.964 1529.94 770.089 1530.35 Q768.237 1530.77 766.292 1531.65 L766.292 1514.29 Z\" fill=\"#000000\" fill-rule=\"evenodd\" fill-opacity=\"1\" /><path clip-path=\"url(#clip230)\" d=\"M1198.24 1517.37 Q1194.63 1517.37 1192.8 1520.93 Q1190.99 1524.47 1190.99 1531.6 Q1190.99 1538.71 1192.8 1542.27 Q1194.63 1545.82 1198.24 1545.82 Q1201.87 1545.82 1203.68 1542.27 Q1205.5 1538.71 1205.5 1531.6 Q1205.5 1524.47 1203.68 1520.93 Q1201.87 1517.37 1198.24 1517.37 M1198.24 1513.66 Q1204.05 1513.66 1207.1 1518.27 Q1210.18 1522.85 1210.18 1531.6 Q1210.18 1540.33 1207.1 1544.94 Q1204.05 1549.52 1198.24 1549.52 Q1192.43 1549.52 1189.35 1544.94 Q1186.29 1540.33 1186.29 1531.6 Q1186.29 1522.85 1189.35 1518.27 Q1192.43 1513.66 1198.24 1513.66 Z\" fill=\"#000000\" fill-rule=\"evenodd\" fill-opacity=\"1\" /><path clip-path=\"url(#clip230)\" d=\"M1218.4 1542.97 L1223.28 1542.97 L1223.28 1548.85 L1218.4 1548.85 L1218.4 1542.97 Z\" fill=\"#000000\" fill-rule=\"evenodd\" fill-opacity=\"1\" /><path clip-path=\"url(#clip230)\" d=\"M1243.47 1517.37 Q1239.86 1517.37 1238.03 1520.93 Q1236.22 1524.47 1236.22 1531.6 Q1236.22 1538.71 1238.03 1542.27 Q1239.86 1545.82 1243.47 1545.82 Q1247.1 1545.82 1248.91 1542.27 Q1250.74 1538.71 1250.74 1531.6 Q1250.74 1524.47 1248.91 1520.93 Q1247.1 1517.37 1243.47 1517.37 M1243.47 1513.66 Q1249.28 1513.66 1252.33 1518.27 Q1255.41 1522.85 1255.41 1531.6 Q1255.41 1540.33 1252.33 1544.94 Q1249.28 1549.52 1243.47 1549.52 Q1237.66 1549.52 1234.58 1544.94 Q1231.52 1540.33 1231.52 1531.6 Q1231.52 1522.85 1234.58 1518.27 Q1237.66 1513.66 1243.47 1513.66 Z\" fill=\"#000000\" fill-rule=\"evenodd\" fill-opacity=\"1\" /><path clip-path=\"url(#clip230)\" d=\"M1685.37 1517.37 Q1681.75 1517.37 1679.93 1520.93 Q1678.12 1524.47 1678.12 1531.6 Q1678.12 1538.71 1679.93 1542.27 Q1681.75 1545.82 1685.37 1545.82 Q1689 1545.82 1690.8 1542.27 Q1692.63 1538.71 1692.63 1531.6 Q1692.63 1524.47 1690.8 1520.93 Q1689 1517.37 1685.37 1517.37 M1685.37 1513.66 Q1691.18 1513.66 1694.23 1518.27 Q1697.31 1522.85 1697.31 1531.6 Q1697.31 1540.33 1694.23 1544.94 Q1691.18 1549.52 1685.37 1549.52 Q1679.55 1549.52 1676.48 1544.94 Q1673.42 1540.33 1673.42 1531.6 Q1673.42 1522.85 1676.48 1518.27 Q1679.55 1513.66 1685.37 1513.66 Z\" fill=\"#000000\" fill-rule=\"evenodd\" fill-opacity=\"1\" /><path clip-path=\"url(#clip230)\" d=\"M1705.53 1542.97 L1710.41 1542.97 L1710.41 1548.85 L1705.53 1548.85 L1705.53 1542.97 Z\" fill=\"#000000\" fill-rule=\"evenodd\" fill-opacity=\"1\" /><path clip-path=\"url(#clip230)\" d=\"M1720.64 1514.29 L1739 1514.29 L1739 1518.22 L1724.93 1518.22 L1724.93 1526.7 Q1725.94 1526.35 1726.96 1526.19 Q1727.98 1526 1729 1526 Q1734.79 1526 1738.17 1529.17 Q1741.55 1532.34 1741.55 1537.76 Q1741.55 1543.34 1738.07 1546.44 Q1734.6 1549.52 1728.28 1549.52 Q1726.11 1549.52 1723.84 1549.15 Q1721.59 1548.78 1719.18 1548.04 L1719.18 1543.34 Q1721.27 1544.47 1723.49 1545.03 Q1725.71 1545.58 1728.19 1545.58 Q1732.19 1545.58 1734.53 1543.48 Q1736.87 1541.37 1736.87 1537.76 Q1736.87 1534.15 1734.53 1532.04 Q1732.19 1529.94 1728.19 1529.94 Q1726.31 1529.94 1724.44 1530.35 Q1722.59 1530.77 1720.64 1531.65 L1720.64 1514.29 Z\" fill=\"#000000\" fill-rule=\"evenodd\" fill-opacity=\"1\" /><path clip-path=\"url(#clip230)\" d=\"M2161.27 1544.91 L2168.91 1544.91 L2168.91 1518.55 L2160.6 1520.21 L2160.6 1515.95 L2168.86 1514.29 L2173.54 1514.29 L2173.54 1544.91 L2181.17 1544.91 L2181.17 1548.85 L2161.27 1548.85 L2161.27 1544.91 Z\" fill=\"#000000\" fill-rule=\"evenodd\" fill-opacity=\"1\" /><path clip-path=\"url(#clip230)\" d=\"M2190.62 1542.97 L2195.5 1542.97 L2195.5 1548.85 L2190.62 1548.85 L2190.62 1542.97 Z\" fill=\"#000000\" fill-rule=\"evenodd\" fill-opacity=\"1\" /><path clip-path=\"url(#clip230)\" d=\"M2215.69 1517.37 Q2212.08 1517.37 2210.25 1520.93 Q2208.44 1524.47 2208.44 1531.6 Q2208.44 1538.71 2210.25 1542.27 Q2212.08 1545.82 2215.69 1545.82 Q2219.32 1545.82 2221.13 1542.27 Q2222.96 1538.71 2222.96 1531.6 Q2222.96 1524.47 2221.13 1520.93 Q2219.32 1517.37 2215.69 1517.37 M2215.69 1513.66 Q2221.5 1513.66 2224.55 1518.27 Q2227.63 1522.85 2227.63 1531.6 Q2227.63 1540.33 2224.55 1544.94 Q2221.5 1549.52 2215.69 1549.52 Q2209.88 1549.52 2206.8 1544.94 Q2203.74 1540.33 2203.74 1531.6 Q2203.74 1522.85 2206.8 1518.27 Q2209.88 1513.66 2215.69 1513.66 Z\" fill=\"#000000\" fill-rule=\"evenodd\" fill-opacity=\"1\" /><polyline clip-path=\"url(#clip232)\" style=\"stroke:#000000; stroke-linecap:butt; stroke-linejoin:round; stroke-width:2; stroke-opacity:0.1; fill:none\" points=\"\n",
       "  186.274,1445.72 2352.76,1445.72 \n",
       "  \"/>\n",
       "<polyline clip-path=\"url(#clip232)\" style=\"stroke:#000000; stroke-linecap:butt; stroke-linejoin:round; stroke-width:2; stroke-opacity:0.1; fill:none\" points=\"\n",
       "  186.274,1137.14 2352.76,1137.14 \n",
       "  \"/>\n",
       "<polyline clip-path=\"url(#clip232)\" style=\"stroke:#000000; stroke-linecap:butt; stroke-linejoin:round; stroke-width:2; stroke-opacity:0.1; fill:none\" points=\"\n",
       "  186.274,828.561 2352.76,828.561 \n",
       "  \"/>\n",
       "<polyline clip-path=\"url(#clip232)\" style=\"stroke:#000000; stroke-linecap:butt; stroke-linejoin:round; stroke-width:2; stroke-opacity:0.1; fill:none\" points=\"\n",
       "  186.274,519.984 2352.76,519.984 \n",
       "  \"/>\n",
       "<polyline clip-path=\"url(#clip232)\" style=\"stroke:#000000; stroke-linecap:butt; stroke-linejoin:round; stroke-width:2; stroke-opacity:0.1; fill:none\" points=\"\n",
       "  186.274,211.407 2352.76,211.407 \n",
       "  \"/>\n",
       "<polyline clip-path=\"url(#clip230)\" style=\"stroke:#000000; stroke-linecap:butt; stroke-linejoin:round; stroke-width:4; stroke-opacity:1; fill:none\" points=\"\n",
       "  186.274,1486.45 186.274,47.2441 \n",
       "  \"/>\n",
       "<polyline clip-path=\"url(#clip230)\" style=\"stroke:#000000; stroke-linecap:butt; stroke-linejoin:round; stroke-width:4; stroke-opacity:1; fill:none\" points=\"\n",
       "  186.274,1445.72 205.172,1445.72 \n",
       "  \"/>\n",
       "<polyline clip-path=\"url(#clip230)\" style=\"stroke:#000000; stroke-linecap:butt; stroke-linejoin:round; stroke-width:4; stroke-opacity:1; fill:none\" points=\"\n",
       "  186.274,1137.14 205.172,1137.14 \n",
       "  \"/>\n",
       "<polyline clip-path=\"url(#clip230)\" style=\"stroke:#000000; stroke-linecap:butt; stroke-linejoin:round; stroke-width:4; stroke-opacity:1; fill:none\" points=\"\n",
       "  186.274,828.561 205.172,828.561 \n",
       "  \"/>\n",
       "<polyline clip-path=\"url(#clip230)\" style=\"stroke:#000000; stroke-linecap:butt; stroke-linejoin:round; stroke-width:4; stroke-opacity:1; fill:none\" points=\"\n",
       "  186.274,519.984 205.172,519.984 \n",
       "  \"/>\n",
       "<polyline clip-path=\"url(#clip230)\" style=\"stroke:#000000; stroke-linecap:butt; stroke-linejoin:round; stroke-width:4; stroke-opacity:1; fill:none\" points=\"\n",
       "  186.274,211.407 205.172,211.407 \n",
       "  \"/>\n",
       "<path clip-path=\"url(#clip230)\" d=\"M62.9365 1431.51 Q59.3254 1431.51 57.4967 1435.08 Q55.6912 1438.62 55.6912 1445.75 Q55.6912 1452.86 57.4967 1456.42 Q59.3254 1459.96 62.9365 1459.96 Q66.5707 1459.96 68.3763 1456.42 Q70.205 1452.86 70.205 1445.75 Q70.205 1438.62 68.3763 1435.08 Q66.5707 1431.51 62.9365 1431.51 M62.9365 1427.81 Q68.7467 1427.81 71.8022 1432.42 Q74.8809 1437 74.8809 1445.75 Q74.8809 1454.48 71.8022 1459.08 Q68.7467 1463.67 62.9365 1463.67 Q57.1264 1463.67 54.0477 1459.08 Q50.9921 1454.48 50.9921 1445.75 Q50.9921 1437 54.0477 1432.42 Q57.1264 1427.81 62.9365 1427.81 Z\" fill=\"#000000\" fill-rule=\"evenodd\" fill-opacity=\"1\" /><path clip-path=\"url(#clip230)\" d=\"M83.0984 1457.12 L87.9827 1457.12 L87.9827 1463 L83.0984 1463 L83.0984 1457.12 Z\" fill=\"#000000\" fill-rule=\"evenodd\" fill-opacity=\"1\" /><path clip-path=\"url(#clip230)\" d=\"M108.168 1431.51 Q104.557 1431.51 102.728 1435.08 Q100.922 1438.62 100.922 1445.75 Q100.922 1452.86 102.728 1456.42 Q104.557 1459.96 108.168 1459.96 Q111.802 1459.96 113.608 1456.42 Q115.436 1452.86 115.436 1445.75 Q115.436 1438.62 113.608 1435.08 Q111.802 1431.51 108.168 1431.51 M108.168 1427.81 Q113.978 1427.81 117.033 1432.42 Q120.112 1437 120.112 1445.75 Q120.112 1454.48 117.033 1459.08 Q113.978 1463.67 108.168 1463.67 Q102.358 1463.67 99.2789 1459.08 Q96.2234 1454.48 96.2234 1445.75 Q96.2234 1437 99.2789 1432.42 Q102.358 1427.81 108.168 1427.81 Z\" fill=\"#000000\" fill-rule=\"evenodd\" fill-opacity=\"1\" /><path clip-path=\"url(#clip230)\" d=\"M138.33 1431.51 Q134.719 1431.51 132.89 1435.08 Q131.084 1438.62 131.084 1445.75 Q131.084 1452.86 132.89 1456.42 Q134.719 1459.96 138.33 1459.96 Q141.964 1459.96 143.769 1456.42 Q145.598 1452.86 145.598 1445.75 Q145.598 1438.62 143.769 1435.08 Q141.964 1431.51 138.33 1431.51 M138.33 1427.81 Q144.14 1427.81 147.195 1432.42 Q150.274 1437 150.274 1445.75 Q150.274 1454.48 147.195 1459.08 Q144.14 1463.67 138.33 1463.67 Q132.519 1463.67 129.441 1459.08 Q126.385 1454.48 126.385 1445.75 Q126.385 1437 129.441 1432.42 Q132.519 1427.81 138.33 1427.81 Z\" fill=\"#000000\" fill-rule=\"evenodd\" fill-opacity=\"1\" /><path clip-path=\"url(#clip230)\" d=\"M63.9319 1122.94 Q60.3208 1122.94 58.4921 1126.5 Q56.6865 1130.04 56.6865 1137.17 Q56.6865 1144.28 58.4921 1147.84 Q60.3208 1151.39 63.9319 1151.39 Q67.5661 1151.39 69.3717 1147.84 Q71.2004 1144.28 71.2004 1137.17 Q71.2004 1130.04 69.3717 1126.5 Q67.5661 1122.94 63.9319 1122.94 M63.9319 1119.23 Q69.742 1119.23 72.7976 1123.84 Q75.8763 1128.42 75.8763 1137.17 Q75.8763 1145.9 72.7976 1150.51 Q69.742 1155.09 63.9319 1155.09 Q58.1217 1155.09 55.043 1150.51 Q51.9875 1145.9 51.9875 1137.17 Q51.9875 1128.42 55.043 1123.84 Q58.1217 1119.23 63.9319 1119.23 Z\" fill=\"#000000\" fill-rule=\"evenodd\" fill-opacity=\"1\" /><path clip-path=\"url(#clip230)\" d=\"M84.0938 1148.54 L88.978 1148.54 L88.978 1154.42 L84.0938 1154.42 L84.0938 1148.54 Z\" fill=\"#000000\" fill-rule=\"evenodd\" fill-opacity=\"1\" /><path clip-path=\"url(#clip230)\" d=\"M103.191 1150.48 L119.51 1150.48 L119.51 1154.42 L97.566 1154.42 L97.566 1150.48 Q100.228 1147.73 104.811 1143.1 Q109.418 1138.45 110.598 1137.1 Q112.844 1134.58 113.723 1132.84 Q114.626 1131.09 114.626 1129.4 Q114.626 1126.64 112.682 1124.9 Q110.76 1123.17 107.658 1123.17 Q105.459 1123.17 103.006 1123.93 Q100.575 1124.7 97.7974 1126.25 L97.7974 1121.53 Q100.621 1120.39 103.075 1119.81 Q105.529 1119.23 107.566 1119.23 Q112.936 1119.23 116.131 1121.92 Q119.325 1124.6 119.325 1129.09 Q119.325 1131.22 118.515 1133.15 Q117.728 1135.04 115.621 1137.64 Q115.043 1138.31 111.941 1141.53 Q108.839 1144.72 103.191 1150.48 Z\" fill=\"#000000\" fill-rule=\"evenodd\" fill-opacity=\"1\" /><path clip-path=\"url(#clip230)\" d=\"M129.371 1119.86 L147.728 1119.86 L147.728 1123.79 L133.654 1123.79 L133.654 1132.27 Q134.672 1131.92 135.691 1131.76 Q136.709 1131.57 137.728 1131.57 Q143.515 1131.57 146.894 1134.74 Q150.274 1137.91 150.274 1143.33 Q150.274 1148.91 146.802 1152.01 Q143.33 1155.09 137.01 1155.09 Q134.834 1155.09 132.566 1154.72 Q130.32 1154.35 127.913 1153.61 L127.913 1148.91 Q129.996 1150.04 132.219 1150.6 Q134.441 1151.15 136.918 1151.15 Q140.922 1151.15 143.26 1149.05 Q145.598 1146.94 145.598 1143.33 Q145.598 1139.72 143.26 1137.61 Q140.922 1135.51 136.918 1135.51 Q135.043 1135.51 133.168 1135.92 Q131.316 1136.34 129.371 1137.22 L129.371 1119.86 Z\" fill=\"#000000\" fill-rule=\"evenodd\" fill-opacity=\"1\" /><path clip-path=\"url(#clip230)\" d=\"M62.9365 814.36 Q59.3254 814.36 57.4967 817.925 Q55.6912 821.467 55.6912 828.596 Q55.6912 835.703 57.4967 839.267 Q59.3254 842.809 62.9365 842.809 Q66.5707 842.809 68.3763 839.267 Q70.205 835.703 70.205 828.596 Q70.205 821.467 68.3763 817.925 Q66.5707 814.36 62.9365 814.36 M62.9365 810.656 Q68.7467 810.656 71.8022 815.263 Q74.8809 819.846 74.8809 828.596 Q74.8809 837.323 71.8022 841.929 Q68.7467 846.513 62.9365 846.513 Q57.1264 846.513 54.0477 841.929 Q50.9921 837.323 50.9921 828.596 Q50.9921 819.846 54.0477 815.263 Q57.1264 810.656 62.9365 810.656 Z\" fill=\"#000000\" fill-rule=\"evenodd\" fill-opacity=\"1\" /><path clip-path=\"url(#clip230)\" d=\"M83.0984 839.962 L87.9827 839.962 L87.9827 845.841 L83.0984 845.841 L83.0984 839.962 Z\" fill=\"#000000\" fill-rule=\"evenodd\" fill-opacity=\"1\" /><path clip-path=\"url(#clip230)\" d=\"M98.2141 811.281 L116.57 811.281 L116.57 815.217 L102.496 815.217 L102.496 823.689 Q103.515 823.342 104.534 823.179 Q105.552 822.994 106.571 822.994 Q112.358 822.994 115.737 826.166 Q119.117 829.337 119.117 834.754 Q119.117 840.332 115.645 843.434 Q112.172 846.513 105.853 846.513 Q103.677 846.513 101.409 846.142 Q99.1632 845.772 96.7558 845.031 L96.7558 840.332 Q98.8391 841.466 101.061 842.022 Q103.284 842.578 105.76 842.578 Q109.765 842.578 112.103 840.471 Q114.441 838.365 114.441 834.754 Q114.441 831.142 112.103 829.036 Q109.765 826.929 105.76 826.929 Q103.885 826.929 102.01 827.346 Q100.159 827.763 98.2141 828.642 L98.2141 811.281 Z\" fill=\"#000000\" fill-rule=\"evenodd\" fill-opacity=\"1\" /><path clip-path=\"url(#clip230)\" d=\"M138.33 814.36 Q134.719 814.36 132.89 817.925 Q131.084 821.467 131.084 828.596 Q131.084 835.703 132.89 839.267 Q134.719 842.809 138.33 842.809 Q141.964 842.809 143.769 839.267 Q145.598 835.703 145.598 828.596 Q145.598 821.467 143.769 817.925 Q141.964 814.36 138.33 814.36 M138.33 810.656 Q144.14 810.656 147.195 815.263 Q150.274 819.846 150.274 828.596 Q150.274 837.323 147.195 841.929 Q144.14 846.513 138.33 846.513 Q132.519 846.513 129.441 841.929 Q126.385 837.323 126.385 828.596 Q126.385 819.846 129.441 815.263 Q132.519 810.656 138.33 810.656 Z\" fill=\"#000000\" fill-rule=\"evenodd\" fill-opacity=\"1\" /><path clip-path=\"url(#clip230)\" d=\"M63.9319 505.783 Q60.3208 505.783 58.4921 509.348 Q56.6865 512.889 56.6865 520.019 Q56.6865 527.125 58.4921 530.69 Q60.3208 534.232 63.9319 534.232 Q67.5661 534.232 69.3717 530.69 Q71.2004 527.125 71.2004 520.019 Q71.2004 512.889 69.3717 509.348 Q67.5661 505.783 63.9319 505.783 M63.9319 502.079 Q69.742 502.079 72.7976 506.686 Q75.8763 511.269 75.8763 520.019 Q75.8763 528.746 72.7976 533.352 Q69.742 537.936 63.9319 537.936 Q58.1217 537.936 55.043 533.352 Q51.9875 528.746 51.9875 520.019 Q51.9875 511.269 55.043 506.686 Q58.1217 502.079 63.9319 502.079 Z\" fill=\"#000000\" fill-rule=\"evenodd\" fill-opacity=\"1\" /><path clip-path=\"url(#clip230)\" d=\"M84.0938 531.385 L88.978 531.385 L88.978 537.264 L84.0938 537.264 L84.0938 531.385 Z\" fill=\"#000000\" fill-rule=\"evenodd\" fill-opacity=\"1\" /><path clip-path=\"url(#clip230)\" d=\"M97.9826 502.704 L120.205 502.704 L120.205 504.695 L107.658 537.264 L102.774 537.264 L114.58 506.639 L97.9826 506.639 L97.9826 502.704 Z\" fill=\"#000000\" fill-rule=\"evenodd\" fill-opacity=\"1\" /><path clip-path=\"url(#clip230)\" d=\"M129.371 502.704 L147.728 502.704 L147.728 506.639 L133.654 506.639 L133.654 515.112 Q134.672 514.764 135.691 514.602 Q136.709 514.417 137.728 514.417 Q143.515 514.417 146.894 517.588 Q150.274 520.76 150.274 526.176 Q150.274 531.755 146.802 534.857 Q143.33 537.936 137.01 537.936 Q134.834 537.936 132.566 537.565 Q130.32 537.195 127.913 536.454 L127.913 531.755 Q129.996 532.889 132.219 533.445 Q134.441 534 136.918 534 Q140.922 534 143.26 531.894 Q145.598 529.787 145.598 526.176 Q145.598 522.565 143.26 520.459 Q140.922 518.352 136.918 518.352 Q135.043 518.352 133.168 518.769 Q131.316 519.186 129.371 520.065 L129.371 502.704 Z\" fill=\"#000000\" fill-rule=\"evenodd\" fill-opacity=\"1\" /><path clip-path=\"url(#clip230)\" d=\"M53.7467 224.752 L61.3856 224.752 L61.3856 198.386 L53.0754 200.053 L53.0754 195.794 L61.3393 194.127 L66.0152 194.127 L66.0152 224.752 L73.654 224.752 L73.654 228.687 L53.7467 228.687 L53.7467 224.752 Z\" fill=\"#000000\" fill-rule=\"evenodd\" fill-opacity=\"1\" /><path clip-path=\"url(#clip230)\" d=\"M83.0984 222.808 L87.9827 222.808 L87.9827 228.687 L83.0984 228.687 L83.0984 222.808 Z\" fill=\"#000000\" fill-rule=\"evenodd\" fill-opacity=\"1\" /><path clip-path=\"url(#clip230)\" d=\"M108.168 197.206 Q104.557 197.206 102.728 200.771 Q100.922 204.312 100.922 211.442 Q100.922 218.548 102.728 222.113 Q104.557 225.655 108.168 225.655 Q111.802 225.655 113.608 222.113 Q115.436 218.548 115.436 211.442 Q115.436 204.312 113.608 200.771 Q111.802 197.206 108.168 197.206 M108.168 193.502 Q113.978 193.502 117.033 198.109 Q120.112 202.692 120.112 211.442 Q120.112 220.169 117.033 224.775 Q113.978 229.358 108.168 229.358 Q102.358 229.358 99.2789 224.775 Q96.2234 220.169 96.2234 211.442 Q96.2234 202.692 99.2789 198.109 Q102.358 193.502 108.168 193.502 Z\" fill=\"#000000\" fill-rule=\"evenodd\" fill-opacity=\"1\" /><path clip-path=\"url(#clip230)\" d=\"M138.33 197.206 Q134.719 197.206 132.89 200.771 Q131.084 204.312 131.084 211.442 Q131.084 218.548 132.89 222.113 Q134.719 225.655 138.33 225.655 Q141.964 225.655 143.769 222.113 Q145.598 218.548 145.598 211.442 Q145.598 204.312 143.769 200.771 Q141.964 197.206 138.33 197.206 M138.33 193.502 Q144.14 193.502 147.195 198.109 Q150.274 202.692 150.274 211.442 Q150.274 220.169 147.195 224.775 Q144.14 229.358 138.33 229.358 Q132.519 229.358 129.441 224.775 Q126.385 220.169 126.385 211.442 Q126.385 202.692 129.441 198.109 Q132.519 193.502 138.33 193.502 Z\" fill=\"#000000\" fill-rule=\"evenodd\" fill-opacity=\"1\" /><path clip-path=\"url(#clip232)\" d=\"\n",
       "M247.59 1445.72 L2194.11 1322.28 L2291.44 828.561 L1318.18 87.9763 L247.59 766.846 L247.59 1445.72 L247.59 1445.72 L247.59 1445.72 L1318.18 1445.72 L2291.44 1445.72 \n",
       "  L2194.11 1445.72 L247.59 1445.72  Z\n",
       "  \" fill=\"#009af9\" fill-rule=\"evenodd\" fill-opacity=\"1\"/>\n",
       "<polyline clip-path=\"url(#clip232)\" style=\"stroke:#009af9; stroke-linecap:butt; stroke-linejoin:round; stroke-width:4; stroke-opacity:1; fill:none\" points=\"\n",
       "  247.59,1445.72 2194.11,1322.28 2291.44,828.561 1318.18,87.9763 247.59,766.846 247.59,1445.72 \n",
       "  \"/>\n",
       "</svg>\n"
      ]
     },
     "execution_count": 33,
     "metadata": {},
     "output_type": "execute_result"
    }
   ],
   "source": [
    "Q.sort();\n",
    "print(Q.angles())\n",
    "Q.plot()"
   ]
  },
  {
   "cell_type": "code",
   "execution_count": 34,
   "metadata": {
    "scrolled": true
   },
   "outputs": [
    {
     "name": "stdout",
     "output_type": "stream",
     "text": [
      "m=5 n=6\n",
      "angP= [0.49934672168013006, 2.792821650005886, 3.4903636571737002, 5.783838585499456, 100.0]\n",
      "angQ= [0.049958395721942765, 1.3258176636680323, 2.601173153319209, 3.6052402625905993, 4.71238898038469, 100.0]\n",
      "----- begin ----------\n",
      "R vertices: Vertex[Vertex(Real[0.10000000000000009, -0.09999999999999998])]\n",
      "angQ[j] is minimal\n",
      "12\n",
      "R vertices: Vertex[Vertex(Real[0.10000000000000009, -0.09999999999999998]), Vertex(Real[2.1, 2.7755575615628914e-17])]\n",
      "angP[i] is minimal\n",
      "22\n",
      "R vertices: Vertex[Vertex(Real[0.10000000000000009, -0.09999999999999998]), Vertex(Real[2.1, 2.7755575615628914e-17]), Vertex(Real[3.2, 0.6])]\n",
      "angQ[j] is minimal\n",
      "23\n",
      "R vertices: Vertex[Vertex(Real[0.10000000000000009, -0.09999999999999998]), Vertex(Real[2.1, 2.7755575615628914e-17]), Vertex(Real[3.2, 0.6]), Vertex(Real[3.3000000000000003, 1.0])]\n",
      "angQ[j] is minimal\n",
      "24\n",
      "R vertices: Vertex[Vertex(Real[0.10000000000000009, -0.09999999999999998]), Vertex(Real[2.1, 2.7755575615628914e-17]), Vertex(Real[3.2, 0.6]), Vertex(Real[3.3000000000000003, 1.0]), Vertex(Real[2.3000000000000003, 1.6])]\n",
      "angP[i] is minimal\n",
      "34\n",
      "R vertices: Vertex[Vertex(Real[0.10000000000000009, -0.09999999999999998]), Vertex(Real[2.1, 2.7755575615628914e-17]), Vertex(Real[3.2, 0.6]), Vertex(Real[3.3000000000000003, 1.0]), Vertex(Real[2.3000000000000003, 1.6]), Vertex(Real[1.2000000000000002, 2.0])]\n",
      "angP[i] is minimal\n",
      "44\n",
      "R vertices: Vertex[Vertex(Real[0.10000000000000009, -0.09999999999999998]), Vertex(Real[2.1, 2.7755575615628914e-17]), Vertex(Real[3.2, 0.6]), Vertex(Real[3.3000000000000003, 1.0]), Vertex(Real[2.3000000000000003, 1.6]), Vertex(Real[1.2000000000000002, 2.0]), Vertex(Real[0.1, 1.6])]\n",
      "angQ[j] is minimal\n",
      "45\n",
      "R vertices: Vertex[Vertex(Real[0.10000000000000009, -0.09999999999999998]), Vertex(Real[2.1, 2.7755575615628914e-17]), Vertex(Real[3.2, 0.6]), Vertex(Real[3.3000000000000003, 1.0]), Vertex(Real[2.3000000000000003, 1.6]), Vertex(Real[1.2000000000000002, 2.0]), Vertex(Real[0.1, 1.6]), Vertex(Real[-1.0, 1.05])]\n",
      "angQ[j] is minimal\n",
      "46\n",
      "R vertices: Vertex[Vertex(Real[0.10000000000000009, -0.09999999999999998]), Vertex(Real[2.1, 2.7755575615628914e-17]), Vertex(Real[3.2, 0.6]), Vertex(Real[3.3000000000000003, 1.0]), Vertex(Real[2.3000000000000003, 1.6]), Vertex(Real[1.2000000000000002, 2.0]), Vertex(Real[0.1, 1.6]), Vertex(Real[-1.0, 1.05]), Vertex(Real[-1.0, 0.5])]\n",
      "angP[i] is minimal\n",
      "56\n",
      "R vertices: Vertex[Vertex(Real[0.10000000000000009, -0.09999999999999998]), Vertex(Real[2.1, 2.7755575615628914e-17]), Vertex(Real[3.2, 0.6]), Vertex(Real[3.3000000000000003, 1.0]), Vertex(Real[2.3000000000000003, 1.6]), Vertex(Real[1.2000000000000002, 2.0]), Vertex(Real[0.1, 1.6]), Vertex(Real[-1.0, 1.05]), Vertex(Real[-1.0, 0.5]), Vertex(Real[0.10000000000000009, -0.09999999999999998])]\n"
     ]
    },
    {
     "data": {
      "text/plain": [
       "Polygon(Vertex[Vertex(Real[0.10000000000000009, -0.09999999999999998]), Vertex(Real[2.1, 2.7755575615628914e-17]), Vertex(Real[3.2, 0.6]), Vertex(Real[3.3000000000000003, 1.0]), Vertex(Real[2.3000000000000003, 1.6]), Vertex(Real[1.2000000000000002, 2.0]), Vertex(Real[0.1, 1.6]), Vertex(Real[-1.0, 1.05]), Vertex(Real[-1.0, 0.5]), Vertex(Real[0.10000000000000009, -0.09999999999999998])], var\"#7#11\"{Polygon}(Polygon(#= circular reference @-2 =#)), var\"#9#13\"{Polygon}(Polygon(#= circular reference @-2 =#)), var\"#8#12\"{Polygon}(Polygon(#= circular reference @-2 =#)), var\"#10#14\"{Polygon}(Polygon(#= circular reference @-2 =#)))"
      ]
     },
     "execution_count": 34,
     "metadata": {},
     "output_type": "execute_result"
    }
   ],
   "source": [
    "R=minkowskiSum(P,Q)\n",
    "#print(R.angles())"
   ]
  },
  {
   "cell_type": "code",
   "execution_count": 35,
   "metadata": {},
   "outputs": [
    {
     "data": {
      "image/svg+xml": [
       "<?xml version=\"1.0\" encoding=\"utf-8\"?>\n",
       "<svg xmlns=\"http://www.w3.org/2000/svg\" xmlns:xlink=\"http://www.w3.org/1999/xlink\" width=\"600\" height=\"400\" viewBox=\"0 0 2400 1600\">\n",
       "<defs>\n",
       "  <clipPath id=\"clip270\">\n",
       "    <rect x=\"0\" y=\"0\" width=\"2400\" height=\"1600\"/>\n",
       "  </clipPath>\n",
       "</defs>\n",
       "<path clip-path=\"url(#clip270)\" d=\"\n",
       "M0 1600 L2400 1600 L2400 0 L0 0  Z\n",
       "  \" fill=\"#ffffff\" fill-rule=\"evenodd\" fill-opacity=\"1\"/>\n",
       "<defs>\n",
       "  <clipPath id=\"clip271\">\n",
       "    <rect x=\"480\" y=\"0\" width=\"1681\" height=\"1600\"/>\n",
       "  </clipPath>\n",
       "</defs>\n",
       "<path clip-path=\"url(#clip270)\" d=\"\n",
       "M156.112 1486.45 L2352.76 1486.45 L2352.76 47.2441 L156.112 47.2441  Z\n",
       "  \" fill=\"#ffffff\" fill-rule=\"evenodd\" fill-opacity=\"1\"/>\n",
       "<defs>\n",
       "  <clipPath id=\"clip272\">\n",
       "    <rect x=\"156\" y=\"47\" width=\"2198\" height=\"1440\"/>\n",
       "  </clipPath>\n",
       "</defs>\n",
       "<polyline clip-path=\"url(#clip272)\" style=\"stroke:#000000; stroke-linecap:butt; stroke-linejoin:round; stroke-width:2; stroke-opacity:0.1; fill:none\" points=\"\n",
       "  218.281,1486.45 218.281,47.2441 \n",
       "  \"/>\n",
       "<polyline clip-path=\"url(#clip272)\" style=\"stroke:#000000; stroke-linecap:butt; stroke-linejoin:round; stroke-width:2; stroke-opacity:0.1; fill:none\" points=\"\n",
       "  700.213,1486.45 700.213,47.2441 \n",
       "  \"/>\n",
       "<polyline clip-path=\"url(#clip272)\" style=\"stroke:#000000; stroke-linecap:butt; stroke-linejoin:round; stroke-width:2; stroke-opacity:0.1; fill:none\" points=\"\n",
       "  1182.14,1486.45 1182.14,47.2441 \n",
       "  \"/>\n",
       "<polyline clip-path=\"url(#clip272)\" style=\"stroke:#000000; stroke-linecap:butt; stroke-linejoin:round; stroke-width:2; stroke-opacity:0.1; fill:none\" points=\"\n",
       "  1664.08,1486.45 1664.08,47.2441 \n",
       "  \"/>\n",
       "<polyline clip-path=\"url(#clip272)\" style=\"stroke:#000000; stroke-linecap:butt; stroke-linejoin:round; stroke-width:2; stroke-opacity:0.1; fill:none\" points=\"\n",
       "  2146.01,1486.45 2146.01,47.2441 \n",
       "  \"/>\n",
       "<polyline clip-path=\"url(#clip270)\" style=\"stroke:#000000; stroke-linecap:butt; stroke-linejoin:round; stroke-width:4; stroke-opacity:1; fill:none\" points=\"\n",
       "  156.112,1486.45 2352.76,1486.45 \n",
       "  \"/>\n",
       "<polyline clip-path=\"url(#clip270)\" style=\"stroke:#000000; stroke-linecap:butt; stroke-linejoin:round; stroke-width:4; stroke-opacity:1; fill:none\" points=\"\n",
       "  218.281,1486.45 218.281,1467.55 \n",
       "  \"/>\n",
       "<polyline clip-path=\"url(#clip270)\" style=\"stroke:#000000; stroke-linecap:butt; stroke-linejoin:round; stroke-width:4; stroke-opacity:1; fill:none\" points=\"\n",
       "  700.213,1486.45 700.213,1467.55 \n",
       "  \"/>\n",
       "<polyline clip-path=\"url(#clip270)\" style=\"stroke:#000000; stroke-linecap:butt; stroke-linejoin:round; stroke-width:4; stroke-opacity:1; fill:none\" points=\"\n",
       "  1182.14,1486.45 1182.14,1467.55 \n",
       "  \"/>\n",
       "<polyline clip-path=\"url(#clip270)\" style=\"stroke:#000000; stroke-linecap:butt; stroke-linejoin:round; stroke-width:4; stroke-opacity:1; fill:none\" points=\"\n",
       "  1664.08,1486.45 1664.08,1467.55 \n",
       "  \"/>\n",
       "<polyline clip-path=\"url(#clip270)\" style=\"stroke:#000000; stroke-linecap:butt; stroke-linejoin:round; stroke-width:4; stroke-opacity:1; fill:none\" points=\"\n",
       "  2146.01,1486.45 2146.01,1467.55 \n",
       "  \"/>\n",
       "<path clip-path=\"url(#clip270)\" d=\"M188.038 1532.02 L217.714 1532.02 L217.714 1535.95 L188.038 1535.95 L188.038 1532.02 Z\" fill=\"#000000\" fill-rule=\"evenodd\" fill-opacity=\"1\" /><path clip-path=\"url(#clip270)\" d=\"M228.617 1544.91 L236.256 1544.91 L236.256 1518.55 L227.946 1520.21 L227.946 1515.95 L236.209 1514.29 L240.885 1514.29 L240.885 1544.91 L248.524 1544.91 L248.524 1548.85 L228.617 1548.85 L228.617 1544.91 Z\" fill=\"#000000\" fill-rule=\"evenodd\" fill-opacity=\"1\" /><path clip-path=\"url(#clip270)\" d=\"M700.213 1517.37 Q696.602 1517.37 694.773 1520.93 Q692.967 1524.47 692.967 1531.6 Q692.967 1538.71 694.773 1542.27 Q696.602 1545.82 700.213 1545.82 Q703.847 1545.82 705.653 1542.27 Q707.481 1538.71 707.481 1531.6 Q707.481 1524.47 705.653 1520.93 Q703.847 1517.37 700.213 1517.37 M700.213 1513.66 Q706.023 1513.66 709.078 1518.27 Q712.157 1522.85 712.157 1531.6 Q712.157 1540.33 709.078 1544.94 Q706.023 1549.52 700.213 1549.52 Q694.403 1549.52 691.324 1544.94 Q688.268 1540.33 688.268 1531.6 Q688.268 1522.85 691.324 1518.27 Q694.403 1513.66 700.213 1513.66 Z\" fill=\"#000000\" fill-rule=\"evenodd\" fill-opacity=\"1\" /><path clip-path=\"url(#clip270)\" d=\"M1172.53 1544.91 L1180.17 1544.91 L1180.17 1518.55 L1171.85 1520.21 L1171.85 1515.95 L1180.12 1514.29 L1184.79 1514.29 L1184.79 1544.91 L1192.43 1544.91 L1192.43 1548.85 L1172.53 1548.85 L1172.53 1544.91 Z\" fill=\"#000000\" fill-rule=\"evenodd\" fill-opacity=\"1\" /><path clip-path=\"url(#clip270)\" d=\"M1658.73 1544.91 L1675.05 1544.91 L1675.05 1548.85 L1653.1 1548.85 L1653.1 1544.91 Q1655.77 1542.16 1660.35 1537.53 Q1664.96 1532.88 1666.14 1531.53 Q1668.38 1529.01 1669.26 1527.27 Q1670.16 1525.51 1670.16 1523.82 Q1670.16 1521.07 1668.22 1519.33 Q1666.3 1517.6 1663.2 1517.6 Q1661 1517.6 1658.54 1518.36 Q1656.11 1519.13 1653.34 1520.68 L1653.34 1515.95 Q1656.16 1514.82 1658.61 1514.24 Q1661.07 1513.66 1663.1 1513.66 Q1668.47 1513.66 1671.67 1516.35 Q1674.86 1519.03 1674.86 1523.52 Q1674.86 1525.65 1674.05 1527.57 Q1673.27 1529.47 1671.16 1532.07 Q1670.58 1532.74 1667.48 1535.95 Q1664.38 1539.15 1658.73 1544.91 Z\" fill=\"#000000\" fill-rule=\"evenodd\" fill-opacity=\"1\" /><path clip-path=\"url(#clip270)\" d=\"M2150.25 1530.21 Q2153.61 1530.93 2155.49 1533.2 Q2157.38 1535.47 2157.38 1538.8 Q2157.38 1543.92 2153.87 1546.72 Q2150.35 1549.52 2143.87 1549.52 Q2141.69 1549.52 2139.38 1549.08 Q2137.08 1548.66 2134.63 1547.81 L2134.63 1543.29 Q2136.57 1544.43 2138.89 1545.01 Q2141.2 1545.58 2143.73 1545.58 Q2148.13 1545.58 2150.42 1543.85 Q2152.73 1542.11 2152.73 1538.8 Q2152.73 1535.75 2150.58 1534.03 Q2148.45 1532.3 2144.63 1532.3 L2140.6 1532.3 L2140.6 1528.45 L2144.82 1528.45 Q2148.26 1528.45 2150.09 1527.09 Q2151.92 1525.7 2151.92 1523.11 Q2151.92 1520.45 2150.02 1519.03 Q2148.15 1517.6 2144.63 1517.6 Q2142.71 1517.6 2140.51 1518.01 Q2138.31 1518.43 2135.67 1519.31 L2135.67 1515.14 Q2138.33 1514.4 2140.65 1514.03 Q2142.99 1513.66 2145.05 1513.66 Q2150.37 1513.66 2153.47 1516.09 Q2156.57 1518.5 2156.57 1522.62 Q2156.57 1525.49 2154.93 1527.48 Q2153.29 1529.45 2150.25 1530.21 Z\" fill=\"#000000\" fill-rule=\"evenodd\" fill-opacity=\"1\" /><polyline clip-path=\"url(#clip272)\" style=\"stroke:#000000; stroke-linecap:butt; stroke-linejoin:round; stroke-width:2; stroke-opacity:0.1; fill:none\" points=\"\n",
       "  156.112,1381.06 2352.76,1381.06 \n",
       "  \"/>\n",
       "<polyline clip-path=\"url(#clip272)\" style=\"stroke:#000000; stroke-linecap:butt; stroke-linejoin:round; stroke-width:2; stroke-opacity:0.1; fill:none\" points=\"\n",
       "  156.112,1057.79 2352.76,1057.79 \n",
       "  \"/>\n",
       "<polyline clip-path=\"url(#clip272)\" style=\"stroke:#000000; stroke-linecap:butt; stroke-linejoin:round; stroke-width:2; stroke-opacity:0.1; fill:none\" points=\"\n",
       "  156.112,734.519 2352.76,734.519 \n",
       "  \"/>\n",
       "<polyline clip-path=\"url(#clip272)\" style=\"stroke:#000000; stroke-linecap:butt; stroke-linejoin:round; stroke-width:2; stroke-opacity:0.1; fill:none\" points=\"\n",
       "  156.112,411.248 2352.76,411.248 \n",
       "  \"/>\n",
       "<polyline clip-path=\"url(#clip272)\" style=\"stroke:#000000; stroke-linecap:butt; stroke-linejoin:round; stroke-width:2; stroke-opacity:0.1; fill:none\" points=\"\n",
       "  156.112,87.9763 2352.76,87.9763 \n",
       "  \"/>\n",
       "<polyline clip-path=\"url(#clip270)\" style=\"stroke:#000000; stroke-linecap:butt; stroke-linejoin:round; stroke-width:4; stroke-opacity:1; fill:none\" points=\"\n",
       "  156.112,1486.45 156.112,47.2441 \n",
       "  \"/>\n",
       "<polyline clip-path=\"url(#clip270)\" style=\"stroke:#000000; stroke-linecap:butt; stroke-linejoin:round; stroke-width:4; stroke-opacity:1; fill:none\" points=\"\n",
       "  156.112,1381.06 175.01,1381.06 \n",
       "  \"/>\n",
       "<polyline clip-path=\"url(#clip270)\" style=\"stroke:#000000; stroke-linecap:butt; stroke-linejoin:round; stroke-width:4; stroke-opacity:1; fill:none\" points=\"\n",
       "  156.112,1057.79 175.01,1057.79 \n",
       "  \"/>\n",
       "<polyline clip-path=\"url(#clip270)\" style=\"stroke:#000000; stroke-linecap:butt; stroke-linejoin:round; stroke-width:4; stroke-opacity:1; fill:none\" points=\"\n",
       "  156.112,734.519 175.01,734.519 \n",
       "  \"/>\n",
       "<polyline clip-path=\"url(#clip270)\" style=\"stroke:#000000; stroke-linecap:butt; stroke-linejoin:round; stroke-width:4; stroke-opacity:1; fill:none\" points=\"\n",
       "  156.112,411.248 175.01,411.248 \n",
       "  \"/>\n",
       "<polyline clip-path=\"url(#clip270)\" style=\"stroke:#000000; stroke-linecap:butt; stroke-linejoin:round; stroke-width:4; stroke-opacity:1; fill:none\" points=\"\n",
       "  156.112,87.9763 175.01,87.9763 \n",
       "  \"/>\n",
       "<path clip-path=\"url(#clip270)\" d=\"M62.9365 1366.86 Q59.3254 1366.86 57.4967 1370.42 Q55.6912 1373.97 55.6912 1381.1 Q55.6912 1388.2 57.4967 1391.77 Q59.3254 1395.31 62.9365 1395.31 Q66.5707 1395.31 68.3763 1391.77 Q70.205 1388.2 70.205 1381.1 Q70.205 1373.97 68.3763 1370.42 Q66.5707 1366.86 62.9365 1366.86 M62.9365 1363.16 Q68.7467 1363.16 71.8022 1367.76 Q74.8809 1372.35 74.8809 1381.1 Q74.8809 1389.82 71.8022 1394.43 Q68.7467 1399.01 62.9365 1399.01 Q57.1264 1399.01 54.0477 1394.43 Q50.9921 1389.82 50.9921 1381.1 Q50.9921 1372.35 54.0477 1367.76 Q57.1264 1363.16 62.9365 1363.16 Z\" fill=\"#000000\" fill-rule=\"evenodd\" fill-opacity=\"1\" /><path clip-path=\"url(#clip270)\" d=\"M83.0984 1392.46 L87.9827 1392.46 L87.9827 1398.34 L83.0984 1398.34 L83.0984 1392.46 Z\" fill=\"#000000\" fill-rule=\"evenodd\" fill-opacity=\"1\" /><path clip-path=\"url(#clip270)\" d=\"M108.168 1366.86 Q104.557 1366.86 102.728 1370.42 Q100.922 1373.97 100.922 1381.1 Q100.922 1388.2 102.728 1391.77 Q104.557 1395.31 108.168 1395.31 Q111.802 1395.31 113.608 1391.77 Q115.436 1388.2 115.436 1381.1 Q115.436 1373.97 113.608 1370.42 Q111.802 1366.86 108.168 1366.86 M108.168 1363.16 Q113.978 1363.16 117.033 1367.76 Q120.112 1372.35 120.112 1381.1 Q120.112 1389.82 117.033 1394.43 Q113.978 1399.01 108.168 1399.01 Q102.358 1399.01 99.2789 1394.43 Q96.2234 1389.82 96.2234 1381.1 Q96.2234 1372.35 99.2789 1367.76 Q102.358 1363.16 108.168 1363.16 Z\" fill=\"#000000\" fill-rule=\"evenodd\" fill-opacity=\"1\" /><path clip-path=\"url(#clip270)\" d=\"M63.9319 1043.59 Q60.3208 1043.59 58.4921 1047.15 Q56.6865 1050.7 56.6865 1057.82 Q56.6865 1064.93 58.4921 1068.5 Q60.3208 1072.04 63.9319 1072.04 Q67.5661 1072.04 69.3717 1068.5 Q71.2004 1064.93 71.2004 1057.82 Q71.2004 1050.7 69.3717 1047.15 Q67.5661 1043.59 63.9319 1043.59 M63.9319 1039.89 Q69.742 1039.89 72.7976 1044.49 Q75.8763 1049.07 75.8763 1057.82 Q75.8763 1066.55 72.7976 1071.16 Q69.742 1075.74 63.9319 1075.74 Q58.1217 1075.74 55.043 1071.16 Q51.9875 1066.55 51.9875 1057.82 Q51.9875 1049.07 55.043 1044.49 Q58.1217 1039.89 63.9319 1039.89 Z\" fill=\"#000000\" fill-rule=\"evenodd\" fill-opacity=\"1\" /><path clip-path=\"url(#clip270)\" d=\"M84.0938 1069.19 L88.978 1069.19 L88.978 1075.07 L84.0938 1075.07 L84.0938 1069.19 Z\" fill=\"#000000\" fill-rule=\"evenodd\" fill-opacity=\"1\" /><path clip-path=\"url(#clip270)\" d=\"M99.2095 1040.51 L117.566 1040.51 L117.566 1044.45 L103.492 1044.45 L103.492 1052.92 Q104.51 1052.57 105.529 1052.41 Q106.547 1052.22 107.566 1052.22 Q113.353 1052.22 116.733 1055.39 Q120.112 1058.57 120.112 1063.98 Q120.112 1069.56 116.64 1072.66 Q113.168 1075.74 106.848 1075.74 Q104.672 1075.74 102.404 1075.37 Q100.159 1075 97.7511 1074.26 L97.7511 1069.56 Q99.8345 1070.7 102.057 1071.25 Q104.279 1071.81 106.756 1071.81 Q110.76 1071.81 113.098 1069.7 Q115.436 1067.59 115.436 1063.98 Q115.436 1060.37 113.098 1058.26 Q110.76 1056.16 106.756 1056.16 Q104.881 1056.16 103.006 1056.57 Q101.154 1056.99 99.2095 1057.87 L99.2095 1040.51 Z\" fill=\"#000000\" fill-rule=\"evenodd\" fill-opacity=\"1\" /><path clip-path=\"url(#clip270)\" d=\"M53.7467 747.864 L61.3856 747.864 L61.3856 721.498 L53.0754 723.165 L53.0754 718.906 L61.3393 717.239 L66.0152 717.239 L66.0152 747.864 L73.654 747.864 L73.654 751.799 L53.7467 751.799 L53.7467 747.864 Z\" fill=\"#000000\" fill-rule=\"evenodd\" fill-opacity=\"1\" /><path clip-path=\"url(#clip270)\" d=\"M83.0984 745.919 L87.9827 745.919 L87.9827 751.799 L83.0984 751.799 L83.0984 745.919 Z\" fill=\"#000000\" fill-rule=\"evenodd\" fill-opacity=\"1\" /><path clip-path=\"url(#clip270)\" d=\"M108.168 720.318 Q104.557 720.318 102.728 723.882 Q100.922 727.424 100.922 734.554 Q100.922 741.66 102.728 745.225 Q104.557 748.766 108.168 748.766 Q111.802 748.766 113.608 745.225 Q115.436 741.66 115.436 734.554 Q115.436 727.424 113.608 723.882 Q111.802 720.318 108.168 720.318 M108.168 716.614 Q113.978 716.614 117.033 721.22 Q120.112 725.804 120.112 734.554 Q120.112 743.28 117.033 747.887 Q113.978 752.47 108.168 752.47 Q102.358 752.47 99.2789 747.887 Q96.2234 743.28 96.2234 734.554 Q96.2234 725.804 99.2789 721.22 Q102.358 716.614 108.168 716.614 Z\" fill=\"#000000\" fill-rule=\"evenodd\" fill-opacity=\"1\" /><path clip-path=\"url(#clip270)\" d=\"M54.7421 424.592 L62.381 424.592 L62.381 398.227 L54.0708 399.893 L54.0708 395.634 L62.3347 393.968 L67.0106 393.968 L67.0106 424.592 L74.6494 424.592 L74.6494 428.528 L54.7421 428.528 L54.7421 424.592 Z\" fill=\"#000000\" fill-rule=\"evenodd\" fill-opacity=\"1\" /><path clip-path=\"url(#clip270)\" d=\"M84.0938 422.648 L88.978 422.648 L88.978 428.528 L84.0938 428.528 L84.0938 422.648 Z\" fill=\"#000000\" fill-rule=\"evenodd\" fill-opacity=\"1\" /><path clip-path=\"url(#clip270)\" d=\"M99.2095 393.968 L117.566 393.968 L117.566 397.903 L103.492 397.903 L103.492 406.375 Q104.51 406.028 105.529 405.866 Q106.547 405.68 107.566 405.68 Q113.353 405.68 116.733 408.852 Q120.112 412.023 120.112 417.44 Q120.112 423.018 116.64 426.12 Q113.168 429.199 106.848 429.199 Q104.672 429.199 102.404 428.828 Q100.159 428.458 97.7511 427.717 L97.7511 423.018 Q99.8345 424.153 102.057 424.708 Q104.279 425.264 106.756 425.264 Q110.76 425.264 113.098 423.157 Q115.436 421.051 115.436 417.44 Q115.436 413.829 113.098 411.722 Q110.76 409.616 106.756 409.616 Q104.881 409.616 103.006 410.032 Q101.154 410.449 99.2095 411.329 L99.2095 393.968 Z\" fill=\"#000000\" fill-rule=\"evenodd\" fill-opacity=\"1\" /><path clip-path=\"url(#clip270)\" d=\"M56.9643 101.321 L73.2837 101.321 L73.2837 105.256 L51.3393 105.256 L51.3393 101.321 Q54.0014 98.5665 58.5847 93.9369 Q63.1911 89.2841 64.3717 87.9416 Q66.617 85.4184 67.4967 83.6823 Q68.3994 81.9231 68.3994 80.2333 Q68.3994 77.4786 66.455 75.7425 Q64.5337 74.0064 61.4319 74.0064 Q59.2328 74.0064 56.7791 74.7703 Q54.3486 75.5342 51.5708 77.0851 L51.5708 72.3629 Q54.3949 71.2287 56.8486 70.65 Q59.3023 70.0713 61.3393 70.0713 Q66.7096 70.0713 69.9041 72.7565 Q73.0985 75.4416 73.0985 79.9323 Q73.0985 82.062 72.2883 83.9832 Q71.5013 85.8814 69.3948 88.474 Q68.8161 89.1453 65.7143 92.3628 Q62.6124 95.5573 56.9643 101.321 Z\" fill=\"#000000\" fill-rule=\"evenodd\" fill-opacity=\"1\" /><path clip-path=\"url(#clip270)\" d=\"M83.0984 99.3767 L87.9827 99.3767 L87.9827 105.256 L83.0984 105.256 L83.0984 99.3767 Z\" fill=\"#000000\" fill-rule=\"evenodd\" fill-opacity=\"1\" /><path clip-path=\"url(#clip270)\" d=\"M108.168 73.775 Q104.557 73.775 102.728 77.3398 Q100.922 80.8814 100.922 88.011 Q100.922 95.1174 102.728 98.6822 Q104.557 102.224 108.168 102.224 Q111.802 102.224 113.608 98.6822 Q115.436 95.1174 115.436 88.011 Q115.436 80.8814 113.608 77.3398 Q111.802 73.775 108.168 73.775 M108.168 70.0713 Q113.978 70.0713 117.033 74.6777 Q120.112 79.261 120.112 88.011 Q120.112 96.7378 117.033 101.344 Q113.978 105.928 108.168 105.928 Q102.358 105.928 99.2789 101.344 Q96.2234 96.7378 96.2234 88.011 Q96.2234 79.261 99.2789 74.6777 Q102.358 70.0713 108.168 70.0713 Z\" fill=\"#000000\" fill-rule=\"evenodd\" fill-opacity=\"1\" /><path clip-path=\"url(#clip272)\" d=\"\n",
       "M748.406 1445.72 L748.406 1445.72 L1712.27 1381.06 L2242.39 993.136 L2290.59 734.519 L1808.66 346.593 L1278.53 87.9763 L748.406 346.593 L218.281 702.192 L218.281 1057.79 \n",
       "  L748.406 1445.72 L748.406 1381.06 L218.281 1381.06 L218.281 1381.06 L748.406 1381.06 L1278.53 1381.06 L1808.66 1381.06 L2290.59 1381.06 L2242.39 1381.06 L1712.27 1381.06 \n",
       "  L748.406 1381.06 L748.406 1381.06  Z\n",
       "  \" fill=\"#009af9\" fill-rule=\"evenodd\" fill-opacity=\"1\"/>\n",
       "<polyline clip-path=\"url(#clip272)\" style=\"stroke:#009af9; stroke-linecap:butt; stroke-linejoin:round; stroke-width:4; stroke-opacity:1; fill:none\" points=\"\n",
       "  748.406,1445.72 748.406,1445.72 1712.27,1381.06 2242.39,993.136 2290.59,734.519 1808.66,346.593 1278.53,87.9763 748.406,346.593 218.281,702.192 218.281,1057.79 \n",
       "  748.406,1445.72 \n",
       "  \"/>\n",
       "</svg>\n"
      ]
     },
     "execution_count": 35,
     "metadata": {},
     "output_type": "execute_result"
    }
   ],
   "source": [
    "R.sort();\n",
    "R.plot()"
   ]
  },
  {
   "cell_type": "code",
   "execution_count": 36,
   "metadata": {},
   "outputs": [
    {
     "data": {
      "image/svg+xml": [
       "<?xml version=\"1.0\" encoding=\"utf-8\"?>\n",
       "<svg xmlns=\"http://www.w3.org/2000/svg\" xmlns:xlink=\"http://www.w3.org/1999/xlink\" width=\"600\" height=\"400\" viewBox=\"0 0 2400 1600\">\n",
       "<defs>\n",
       "  <clipPath id=\"clip310\">\n",
       "    <rect x=\"0\" y=\"0\" width=\"2400\" height=\"1600\"/>\n",
       "  </clipPath>\n",
       "</defs>\n",
       "<path clip-path=\"url(#clip310)\" d=\"\n",
       "M0 1600 L2400 1600 L2400 0 L0 0  Z\n",
       "  \" fill=\"#ffffff\" fill-rule=\"evenodd\" fill-opacity=\"1\"/>\n",
       "<defs>\n",
       "  <clipPath id=\"clip311\">\n",
       "    <rect x=\"480\" y=\"0\" width=\"1681\" height=\"1600\"/>\n",
       "  </clipPath>\n",
       "</defs>\n",
       "<path clip-path=\"url(#clip310)\" d=\"\n",
       "M156.112 1486.45 L2352.76 1486.45 L2352.76 47.2441 L156.112 47.2441  Z\n",
       "  \" fill=\"#ffffff\" fill-rule=\"evenodd\" fill-opacity=\"1\"/>\n",
       "<defs>\n",
       "  <clipPath id=\"clip312\">\n",
       "    <rect x=\"156\" y=\"47\" width=\"2198\" height=\"1440\"/>\n",
       "  </clipPath>\n",
       "</defs>\n",
       "<polyline clip-path=\"url(#clip312)\" style=\"stroke:#000000; stroke-linecap:butt; stroke-linejoin:round; stroke-width:2; stroke-opacity:0.1; fill:none\" points=\"\n",
       "  218.281,1486.45 218.281,47.2441 \n",
       "  \"/>\n",
       "<polyline clip-path=\"url(#clip312)\" style=\"stroke:#000000; stroke-linecap:butt; stroke-linejoin:round; stroke-width:2; stroke-opacity:0.1; fill:none\" points=\"\n",
       "  700.213,1486.45 700.213,47.2441 \n",
       "  \"/>\n",
       "<polyline clip-path=\"url(#clip312)\" style=\"stroke:#000000; stroke-linecap:butt; stroke-linejoin:round; stroke-width:2; stroke-opacity:0.1; fill:none\" points=\"\n",
       "  1182.14,1486.45 1182.14,47.2441 \n",
       "  \"/>\n",
       "<polyline clip-path=\"url(#clip312)\" style=\"stroke:#000000; stroke-linecap:butt; stroke-linejoin:round; stroke-width:2; stroke-opacity:0.1; fill:none\" points=\"\n",
       "  1664.08,1486.45 1664.08,47.2441 \n",
       "  \"/>\n",
       "<polyline clip-path=\"url(#clip312)\" style=\"stroke:#000000; stroke-linecap:butt; stroke-linejoin:round; stroke-width:2; stroke-opacity:0.1; fill:none\" points=\"\n",
       "  2146.01,1486.45 2146.01,47.2441 \n",
       "  \"/>\n",
       "<polyline clip-path=\"url(#clip310)\" style=\"stroke:#000000; stroke-linecap:butt; stroke-linejoin:round; stroke-width:4; stroke-opacity:1; fill:none\" points=\"\n",
       "  156.112,1486.45 2352.76,1486.45 \n",
       "  \"/>\n",
       "<polyline clip-path=\"url(#clip310)\" style=\"stroke:#000000; stroke-linecap:butt; stroke-linejoin:round; stroke-width:4; stroke-opacity:1; fill:none\" points=\"\n",
       "  218.281,1486.45 218.281,1467.55 \n",
       "  \"/>\n",
       "<polyline clip-path=\"url(#clip310)\" style=\"stroke:#000000; stroke-linecap:butt; stroke-linejoin:round; stroke-width:4; stroke-opacity:1; fill:none\" points=\"\n",
       "  700.213,1486.45 700.213,1467.55 \n",
       "  \"/>\n",
       "<polyline clip-path=\"url(#clip310)\" style=\"stroke:#000000; stroke-linecap:butt; stroke-linejoin:round; stroke-width:4; stroke-opacity:1; fill:none\" points=\"\n",
       "  1182.14,1486.45 1182.14,1467.55 \n",
       "  \"/>\n",
       "<polyline clip-path=\"url(#clip310)\" style=\"stroke:#000000; stroke-linecap:butt; stroke-linejoin:round; stroke-width:4; stroke-opacity:1; fill:none\" points=\"\n",
       "  1664.08,1486.45 1664.08,1467.55 \n",
       "  \"/>\n",
       "<polyline clip-path=\"url(#clip310)\" style=\"stroke:#000000; stroke-linecap:butt; stroke-linejoin:round; stroke-width:4; stroke-opacity:1; fill:none\" points=\"\n",
       "  2146.01,1486.45 2146.01,1467.55 \n",
       "  \"/>\n",
       "<path clip-path=\"url(#clip310)\" d=\"M188.038 1532.02 L217.714 1532.02 L217.714 1535.95 L188.038 1535.95 L188.038 1532.02 Z\" fill=\"#000000\" fill-rule=\"evenodd\" fill-opacity=\"1\" /><path clip-path=\"url(#clip310)\" d=\"M228.617 1544.91 L236.256 1544.91 L236.256 1518.55 L227.946 1520.21 L227.946 1515.95 L236.209 1514.29 L240.885 1514.29 L240.885 1544.91 L248.524 1544.91 L248.524 1548.85 L228.617 1548.85 L228.617 1544.91 Z\" fill=\"#000000\" fill-rule=\"evenodd\" fill-opacity=\"1\" /><path clip-path=\"url(#clip310)\" d=\"M700.213 1517.37 Q696.602 1517.37 694.773 1520.93 Q692.967 1524.47 692.967 1531.6 Q692.967 1538.71 694.773 1542.27 Q696.602 1545.82 700.213 1545.82 Q703.847 1545.82 705.653 1542.27 Q707.481 1538.71 707.481 1531.6 Q707.481 1524.47 705.653 1520.93 Q703.847 1517.37 700.213 1517.37 M700.213 1513.66 Q706.023 1513.66 709.078 1518.27 Q712.157 1522.85 712.157 1531.6 Q712.157 1540.33 709.078 1544.94 Q706.023 1549.52 700.213 1549.52 Q694.403 1549.52 691.324 1544.94 Q688.268 1540.33 688.268 1531.6 Q688.268 1522.85 691.324 1518.27 Q694.403 1513.66 700.213 1513.66 Z\" fill=\"#000000\" fill-rule=\"evenodd\" fill-opacity=\"1\" /><path clip-path=\"url(#clip310)\" d=\"M1172.53 1544.91 L1180.17 1544.91 L1180.17 1518.55 L1171.85 1520.21 L1171.85 1515.95 L1180.12 1514.29 L1184.79 1514.29 L1184.79 1544.91 L1192.43 1544.91 L1192.43 1548.85 L1172.53 1548.85 L1172.53 1544.91 Z\" fill=\"#000000\" fill-rule=\"evenodd\" fill-opacity=\"1\" /><path clip-path=\"url(#clip310)\" d=\"M1658.73 1544.91 L1675.05 1544.91 L1675.05 1548.85 L1653.1 1548.85 L1653.1 1544.91 Q1655.77 1542.16 1660.35 1537.53 Q1664.96 1532.88 1666.14 1531.53 Q1668.38 1529.01 1669.26 1527.27 Q1670.16 1525.51 1670.16 1523.82 Q1670.16 1521.07 1668.22 1519.33 Q1666.3 1517.6 1663.2 1517.6 Q1661 1517.6 1658.54 1518.36 Q1656.11 1519.13 1653.34 1520.68 L1653.34 1515.95 Q1656.16 1514.82 1658.61 1514.24 Q1661.07 1513.66 1663.1 1513.66 Q1668.47 1513.66 1671.67 1516.35 Q1674.86 1519.03 1674.86 1523.52 Q1674.86 1525.65 1674.05 1527.57 Q1673.27 1529.47 1671.16 1532.07 Q1670.58 1532.74 1667.48 1535.95 Q1664.38 1539.15 1658.73 1544.91 Z\" fill=\"#000000\" fill-rule=\"evenodd\" fill-opacity=\"1\" /><path clip-path=\"url(#clip310)\" d=\"M2150.25 1530.21 Q2153.61 1530.93 2155.49 1533.2 Q2157.38 1535.47 2157.38 1538.8 Q2157.38 1543.92 2153.87 1546.72 Q2150.35 1549.52 2143.87 1549.52 Q2141.69 1549.52 2139.38 1549.08 Q2137.08 1548.66 2134.63 1547.81 L2134.63 1543.29 Q2136.57 1544.43 2138.89 1545.01 Q2141.2 1545.58 2143.73 1545.58 Q2148.13 1545.58 2150.42 1543.85 Q2152.73 1542.11 2152.73 1538.8 Q2152.73 1535.75 2150.58 1534.03 Q2148.45 1532.3 2144.63 1532.3 L2140.6 1532.3 L2140.6 1528.45 L2144.82 1528.45 Q2148.26 1528.45 2150.09 1527.09 Q2151.92 1525.7 2151.92 1523.11 Q2151.92 1520.45 2150.02 1519.03 Q2148.15 1517.6 2144.63 1517.6 Q2142.71 1517.6 2140.51 1518.01 Q2138.31 1518.43 2135.67 1519.31 L2135.67 1515.14 Q2138.33 1514.4 2140.65 1514.03 Q2142.99 1513.66 2145.05 1513.66 Q2150.37 1513.66 2153.47 1516.09 Q2156.57 1518.5 2156.57 1522.62 Q2156.57 1525.49 2154.93 1527.48 Q2153.29 1529.45 2150.25 1530.21 Z\" fill=\"#000000\" fill-rule=\"evenodd\" fill-opacity=\"1\" /><polyline clip-path=\"url(#clip312)\" style=\"stroke:#000000; stroke-linecap:butt; stroke-linejoin:round; stroke-width:2; stroke-opacity:0.1; fill:none\" points=\"\n",
       "  156.112,1381.06 2352.76,1381.06 \n",
       "  \"/>\n",
       "<polyline clip-path=\"url(#clip312)\" style=\"stroke:#000000; stroke-linecap:butt; stroke-linejoin:round; stroke-width:2; stroke-opacity:0.1; fill:none\" points=\"\n",
       "  156.112,1057.79 2352.76,1057.79 \n",
       "  \"/>\n",
       "<polyline clip-path=\"url(#clip312)\" style=\"stroke:#000000; stroke-linecap:butt; stroke-linejoin:round; stroke-width:2; stroke-opacity:0.1; fill:none\" points=\"\n",
       "  156.112,734.519 2352.76,734.519 \n",
       "  \"/>\n",
       "<polyline clip-path=\"url(#clip312)\" style=\"stroke:#000000; stroke-linecap:butt; stroke-linejoin:round; stroke-width:2; stroke-opacity:0.1; fill:none\" points=\"\n",
       "  156.112,411.248 2352.76,411.248 \n",
       "  \"/>\n",
       "<polyline clip-path=\"url(#clip312)\" style=\"stroke:#000000; stroke-linecap:butt; stroke-linejoin:round; stroke-width:2; stroke-opacity:0.1; fill:none\" points=\"\n",
       "  156.112,87.9763 2352.76,87.9763 \n",
       "  \"/>\n",
       "<polyline clip-path=\"url(#clip310)\" style=\"stroke:#000000; stroke-linecap:butt; stroke-linejoin:round; stroke-width:4; stroke-opacity:1; fill:none\" points=\"\n",
       "  156.112,1486.45 156.112,47.2441 \n",
       "  \"/>\n",
       "<polyline clip-path=\"url(#clip310)\" style=\"stroke:#000000; stroke-linecap:butt; stroke-linejoin:round; stroke-width:4; stroke-opacity:1; fill:none\" points=\"\n",
       "  156.112,1381.06 175.01,1381.06 \n",
       "  \"/>\n",
       "<polyline clip-path=\"url(#clip310)\" style=\"stroke:#000000; stroke-linecap:butt; stroke-linejoin:round; stroke-width:4; stroke-opacity:1; fill:none\" points=\"\n",
       "  156.112,1057.79 175.01,1057.79 \n",
       "  \"/>\n",
       "<polyline clip-path=\"url(#clip310)\" style=\"stroke:#000000; stroke-linecap:butt; stroke-linejoin:round; stroke-width:4; stroke-opacity:1; fill:none\" points=\"\n",
       "  156.112,734.519 175.01,734.519 \n",
       "  \"/>\n",
       "<polyline clip-path=\"url(#clip310)\" style=\"stroke:#000000; stroke-linecap:butt; stroke-linejoin:round; stroke-width:4; stroke-opacity:1; fill:none\" points=\"\n",
       "  156.112,411.248 175.01,411.248 \n",
       "  \"/>\n",
       "<polyline clip-path=\"url(#clip310)\" style=\"stroke:#000000; stroke-linecap:butt; stroke-linejoin:round; stroke-width:4; stroke-opacity:1; fill:none\" points=\"\n",
       "  156.112,87.9763 175.01,87.9763 \n",
       "  \"/>\n",
       "<path clip-path=\"url(#clip310)\" d=\"M62.9365 1366.86 Q59.3254 1366.86 57.4967 1370.42 Q55.6912 1373.97 55.6912 1381.1 Q55.6912 1388.2 57.4967 1391.77 Q59.3254 1395.31 62.9365 1395.31 Q66.5707 1395.31 68.3763 1391.77 Q70.205 1388.2 70.205 1381.1 Q70.205 1373.97 68.3763 1370.42 Q66.5707 1366.86 62.9365 1366.86 M62.9365 1363.16 Q68.7467 1363.16 71.8022 1367.76 Q74.8809 1372.35 74.8809 1381.1 Q74.8809 1389.82 71.8022 1394.43 Q68.7467 1399.01 62.9365 1399.01 Q57.1264 1399.01 54.0477 1394.43 Q50.9921 1389.82 50.9921 1381.1 Q50.9921 1372.35 54.0477 1367.76 Q57.1264 1363.16 62.9365 1363.16 Z\" fill=\"#000000\" fill-rule=\"evenodd\" fill-opacity=\"1\" /><path clip-path=\"url(#clip310)\" d=\"M83.0984 1392.46 L87.9827 1392.46 L87.9827 1398.34 L83.0984 1398.34 L83.0984 1392.46 Z\" fill=\"#000000\" fill-rule=\"evenodd\" fill-opacity=\"1\" /><path clip-path=\"url(#clip310)\" d=\"M108.168 1366.86 Q104.557 1366.86 102.728 1370.42 Q100.922 1373.97 100.922 1381.1 Q100.922 1388.2 102.728 1391.77 Q104.557 1395.31 108.168 1395.31 Q111.802 1395.31 113.608 1391.77 Q115.436 1388.2 115.436 1381.1 Q115.436 1373.97 113.608 1370.42 Q111.802 1366.86 108.168 1366.86 M108.168 1363.16 Q113.978 1363.16 117.033 1367.76 Q120.112 1372.35 120.112 1381.1 Q120.112 1389.82 117.033 1394.43 Q113.978 1399.01 108.168 1399.01 Q102.358 1399.01 99.2789 1394.43 Q96.2234 1389.82 96.2234 1381.1 Q96.2234 1372.35 99.2789 1367.76 Q102.358 1363.16 108.168 1363.16 Z\" fill=\"#000000\" fill-rule=\"evenodd\" fill-opacity=\"1\" /><path clip-path=\"url(#clip310)\" d=\"M63.9319 1043.59 Q60.3208 1043.59 58.4921 1047.15 Q56.6865 1050.7 56.6865 1057.82 Q56.6865 1064.93 58.4921 1068.5 Q60.3208 1072.04 63.9319 1072.04 Q67.5661 1072.04 69.3717 1068.5 Q71.2004 1064.93 71.2004 1057.82 Q71.2004 1050.7 69.3717 1047.15 Q67.5661 1043.59 63.9319 1043.59 M63.9319 1039.89 Q69.742 1039.89 72.7976 1044.49 Q75.8763 1049.07 75.8763 1057.82 Q75.8763 1066.55 72.7976 1071.16 Q69.742 1075.74 63.9319 1075.74 Q58.1217 1075.74 55.043 1071.16 Q51.9875 1066.55 51.9875 1057.82 Q51.9875 1049.07 55.043 1044.49 Q58.1217 1039.89 63.9319 1039.89 Z\" fill=\"#000000\" fill-rule=\"evenodd\" fill-opacity=\"1\" /><path clip-path=\"url(#clip310)\" d=\"M84.0938 1069.19 L88.978 1069.19 L88.978 1075.07 L84.0938 1075.07 L84.0938 1069.19 Z\" fill=\"#000000\" fill-rule=\"evenodd\" fill-opacity=\"1\" /><path clip-path=\"url(#clip310)\" d=\"M99.2095 1040.51 L117.566 1040.51 L117.566 1044.45 L103.492 1044.45 L103.492 1052.92 Q104.51 1052.57 105.529 1052.41 Q106.547 1052.22 107.566 1052.22 Q113.353 1052.22 116.733 1055.39 Q120.112 1058.57 120.112 1063.98 Q120.112 1069.56 116.64 1072.66 Q113.168 1075.74 106.848 1075.74 Q104.672 1075.74 102.404 1075.37 Q100.159 1075 97.7511 1074.26 L97.7511 1069.56 Q99.8345 1070.7 102.057 1071.25 Q104.279 1071.81 106.756 1071.81 Q110.76 1071.81 113.098 1069.7 Q115.436 1067.59 115.436 1063.98 Q115.436 1060.37 113.098 1058.26 Q110.76 1056.16 106.756 1056.16 Q104.881 1056.16 103.006 1056.57 Q101.154 1056.99 99.2095 1057.87 L99.2095 1040.51 Z\" fill=\"#000000\" fill-rule=\"evenodd\" fill-opacity=\"1\" /><path clip-path=\"url(#clip310)\" d=\"M53.7467 747.864 L61.3856 747.864 L61.3856 721.498 L53.0754 723.165 L53.0754 718.906 L61.3393 717.239 L66.0152 717.239 L66.0152 747.864 L73.654 747.864 L73.654 751.799 L53.7467 751.799 L53.7467 747.864 Z\" fill=\"#000000\" fill-rule=\"evenodd\" fill-opacity=\"1\" /><path clip-path=\"url(#clip310)\" d=\"M83.0984 745.919 L87.9827 745.919 L87.9827 751.799 L83.0984 751.799 L83.0984 745.919 Z\" fill=\"#000000\" fill-rule=\"evenodd\" fill-opacity=\"1\" /><path clip-path=\"url(#clip310)\" d=\"M108.168 720.318 Q104.557 720.318 102.728 723.882 Q100.922 727.424 100.922 734.554 Q100.922 741.66 102.728 745.225 Q104.557 748.766 108.168 748.766 Q111.802 748.766 113.608 745.225 Q115.436 741.66 115.436 734.554 Q115.436 727.424 113.608 723.882 Q111.802 720.318 108.168 720.318 M108.168 716.614 Q113.978 716.614 117.033 721.22 Q120.112 725.804 120.112 734.554 Q120.112 743.28 117.033 747.887 Q113.978 752.47 108.168 752.47 Q102.358 752.47 99.2789 747.887 Q96.2234 743.28 96.2234 734.554 Q96.2234 725.804 99.2789 721.22 Q102.358 716.614 108.168 716.614 Z\" fill=\"#000000\" fill-rule=\"evenodd\" fill-opacity=\"1\" /><path clip-path=\"url(#clip310)\" d=\"M54.7421 424.592 L62.381 424.592 L62.381 398.227 L54.0708 399.893 L54.0708 395.634 L62.3347 393.968 L67.0106 393.968 L67.0106 424.592 L74.6494 424.592 L74.6494 428.528 L54.7421 428.528 L54.7421 424.592 Z\" fill=\"#000000\" fill-rule=\"evenodd\" fill-opacity=\"1\" /><path clip-path=\"url(#clip310)\" d=\"M84.0938 422.648 L88.978 422.648 L88.978 428.528 L84.0938 428.528 L84.0938 422.648 Z\" fill=\"#000000\" fill-rule=\"evenodd\" fill-opacity=\"1\" /><path clip-path=\"url(#clip310)\" d=\"M99.2095 393.968 L117.566 393.968 L117.566 397.903 L103.492 397.903 L103.492 406.375 Q104.51 406.028 105.529 405.866 Q106.547 405.68 107.566 405.68 Q113.353 405.68 116.733 408.852 Q120.112 412.023 120.112 417.44 Q120.112 423.018 116.64 426.12 Q113.168 429.199 106.848 429.199 Q104.672 429.199 102.404 428.828 Q100.159 428.458 97.7511 427.717 L97.7511 423.018 Q99.8345 424.153 102.057 424.708 Q104.279 425.264 106.756 425.264 Q110.76 425.264 113.098 423.157 Q115.436 421.051 115.436 417.44 Q115.436 413.829 113.098 411.722 Q110.76 409.616 106.756 409.616 Q104.881 409.616 103.006 410.032 Q101.154 410.449 99.2095 411.329 L99.2095 393.968 Z\" fill=\"#000000\" fill-rule=\"evenodd\" fill-opacity=\"1\" /><path clip-path=\"url(#clip310)\" d=\"M56.9643 101.321 L73.2837 101.321 L73.2837 105.256 L51.3393 105.256 L51.3393 101.321 Q54.0014 98.5665 58.5847 93.9369 Q63.1911 89.2841 64.3717 87.9416 Q66.617 85.4184 67.4967 83.6823 Q68.3994 81.9231 68.3994 80.2333 Q68.3994 77.4786 66.455 75.7425 Q64.5337 74.0064 61.4319 74.0064 Q59.2328 74.0064 56.7791 74.7703 Q54.3486 75.5342 51.5708 77.0851 L51.5708 72.3629 Q54.3949 71.2287 56.8486 70.65 Q59.3023 70.0713 61.3393 70.0713 Q66.7096 70.0713 69.9041 72.7565 Q73.0985 75.4416 73.0985 79.9323 Q73.0985 82.062 72.2883 83.9832 Q71.5013 85.8814 69.3948 88.474 Q68.8161 89.1453 65.7143 92.3628 Q62.6124 95.5573 56.9643 101.321 Z\" fill=\"#000000\" fill-rule=\"evenodd\" fill-opacity=\"1\" /><path clip-path=\"url(#clip310)\" d=\"M83.0984 99.3767 L87.9827 99.3767 L87.9827 105.256 L83.0984 105.256 L83.0984 99.3767 Z\" fill=\"#000000\" fill-rule=\"evenodd\" fill-opacity=\"1\" /><path clip-path=\"url(#clip310)\" d=\"M108.168 73.775 Q104.557 73.775 102.728 77.3398 Q100.922 80.8814 100.922 88.011 Q100.922 95.1174 102.728 98.6822 Q104.557 102.224 108.168 102.224 Q111.802 102.224 113.608 98.6822 Q115.436 95.1174 115.436 88.011 Q115.436 80.8814 113.608 77.3398 Q111.802 73.775 108.168 73.775 M108.168 70.0713 Q113.978 70.0713 117.033 74.6777 Q120.112 79.261 120.112 88.011 Q120.112 96.7378 117.033 101.344 Q113.978 105.928 108.168 105.928 Q102.358 105.928 99.2789 101.344 Q96.2234 96.7378 96.2234 88.011 Q96.2234 79.261 99.2789 74.6777 Q102.358 70.0713 108.168 70.0713 Z\" fill=\"#000000\" fill-rule=\"evenodd\" fill-opacity=\"1\" /><circle clip-path=\"url(#clip312)\" cx=\"748.406\" cy=\"1445.72\" r=\"14\" fill=\"#009af9\" fill-rule=\"evenodd\" fill-opacity=\"1\" stroke=\"#000000\" stroke-opacity=\"1\" stroke-width=\"3.2\"/>\n",
       "<circle clip-path=\"url(#clip312)\" cx=\"748.406\" cy=\"1445.72\" r=\"14\" fill=\"#009af9\" fill-rule=\"evenodd\" fill-opacity=\"1\" stroke=\"#000000\" stroke-opacity=\"1\" stroke-width=\"3.2\"/>\n",
       "<circle clip-path=\"url(#clip312)\" cx=\"1712.27\" cy=\"1381.06\" r=\"14\" fill=\"#009af9\" fill-rule=\"evenodd\" fill-opacity=\"1\" stroke=\"#000000\" stroke-opacity=\"1\" stroke-width=\"3.2\"/>\n",
       "<circle clip-path=\"url(#clip312)\" cx=\"2242.39\" cy=\"993.136\" r=\"14\" fill=\"#009af9\" fill-rule=\"evenodd\" fill-opacity=\"1\" stroke=\"#000000\" stroke-opacity=\"1\" stroke-width=\"3.2\"/>\n",
       "<circle clip-path=\"url(#clip312)\" cx=\"2290.59\" cy=\"734.519\" r=\"14\" fill=\"#009af9\" fill-rule=\"evenodd\" fill-opacity=\"1\" stroke=\"#000000\" stroke-opacity=\"1\" stroke-width=\"3.2\"/>\n",
       "<circle clip-path=\"url(#clip312)\" cx=\"1808.66\" cy=\"346.593\" r=\"14\" fill=\"#009af9\" fill-rule=\"evenodd\" fill-opacity=\"1\" stroke=\"#000000\" stroke-opacity=\"1\" stroke-width=\"3.2\"/>\n",
       "<circle clip-path=\"url(#clip312)\" cx=\"1278.53\" cy=\"87.9763\" r=\"14\" fill=\"#009af9\" fill-rule=\"evenodd\" fill-opacity=\"1\" stroke=\"#000000\" stroke-opacity=\"1\" stroke-width=\"3.2\"/>\n",
       "<circle clip-path=\"url(#clip312)\" cx=\"748.406\" cy=\"346.593\" r=\"14\" fill=\"#009af9\" fill-rule=\"evenodd\" fill-opacity=\"1\" stroke=\"#000000\" stroke-opacity=\"1\" stroke-width=\"3.2\"/>\n",
       "<circle clip-path=\"url(#clip312)\" cx=\"218.281\" cy=\"702.192\" r=\"14\" fill=\"#009af9\" fill-rule=\"evenodd\" fill-opacity=\"1\" stroke=\"#000000\" stroke-opacity=\"1\" stroke-width=\"3.2\"/>\n",
       "<circle clip-path=\"url(#clip312)\" cx=\"218.281\" cy=\"1057.79\" r=\"14\" fill=\"#009af9\" fill-rule=\"evenodd\" fill-opacity=\"1\" stroke=\"#000000\" stroke-opacity=\"1\" stroke-width=\"3.2\"/>\n",
       "</svg>\n"
      ]
     },
     "execution_count": 36,
     "metadata": {},
     "output_type": "execute_result"
    }
   ],
   "source": [
    "R.scatter()"
   ]
  },
  {
   "cell_type": "code",
   "execution_count": 37,
   "metadata": {},
   "outputs": [
    {
     "data": {
      "text/plain": [
       "10-element Vector{Float64}:\n",
       " 0.0\n",
       " 0.049958395721942765\n",
       " 0.49934672168013006\n",
       " 1.3258176636680323\n",
       " 2.601173153319209\n",
       " 2.7928216500058864\n",
       " 3.4903636571737\n",
       " 3.6052402625905993\n",
       " 4.71238898038469\n",
       " 5.783838585499456"
      ]
     },
     "execution_count": 37,
     "metadata": {},
     "output_type": "execute_result"
    }
   ],
   "source": [
    "R.angles()"
   ]
  },
  {
   "cell_type": "code",
   "execution_count": 38,
   "metadata": {},
   "outputs": [
    {
     "data": {
      "text/plain": [
       "10-element Vector{Vertex}:\n",
       " Vertex(Real[0.10000000000000009, -0.09999999999999998])\n",
       " Vertex(Real[0.10000000000000009, -0.09999999999999998])\n",
       " Vertex(Real[2.1, 2.7755575615628914e-17])\n",
       " Vertex(Real[3.2, 0.6])\n",
       " Vertex(Real[3.3000000000000003, 1.0])\n",
       " Vertex(Real[2.3000000000000003, 1.6])\n",
       " Vertex(Real[1.2000000000000002, 2.0])\n",
       " Vertex(Real[0.1, 1.6])\n",
       " Vertex(Real[-1.0, 1.05])\n",
       " Vertex(Real[-1.0, 0.5])"
      ]
     },
     "execution_count": 38,
     "metadata": {},
     "output_type": "execute_result"
    }
   ],
   "source": [
    "R.vertices"
   ]
  },
  {
   "cell_type": "code",
   "execution_count": 39,
   "metadata": {},
   "outputs": [
    {
     "data": {
      "text/plain": [
       "4-element Vector{Float64}:\n",
       " 0.49934672168013006\n",
       " 2.792821650005886\n",
       " 3.4903636571737002\n",
       " 5.783838585499456"
      ]
     },
     "execution_count": 39,
     "metadata": {},
     "output_type": "execute_result"
    }
   ],
   "source": [
    "P.angles()"
   ]
  },
  {
   "cell_type": "code",
   "execution_count": 40,
   "metadata": {},
   "outputs": [
    {
     "data": {
      "text/plain": [
       "5-element Vector{Float64}:\n",
       " 0.049958395721942765\n",
       " 1.3258176636680323\n",
       " 2.601173153319209\n",
       " 3.6052402625905993\n",
       " 4.71238898038469"
      ]
     },
     "execution_count": 40,
     "metadata": {},
     "output_type": "execute_result"
    }
   ],
   "source": [
    " Q.angles()"
   ]
  },
  {
   "cell_type": "code",
   "execution_count": 41,
   "metadata": {},
   "outputs": [
    {
     "data": {
      "text/plain": [
       "Polygon(Vertex[Vertex(Real[2.2, 0.4]), Vertex(Real[3.3000000000000003, 1.0]), Vertex(Real[2.2, 1.4]), Vertex(Real[1.1, 1.0])], var\"#7#11\"{Polygon}(Polygon(#= circular reference @-2 =#)), var\"#9#13\"{Polygon}(Polygon(#= circular reference @-2 =#)), var\"#8#12\"{Polygon}(Polygon(#= circular reference @-2 =#)), var\"#10#14\"{Polygon}(Polygon(#= circular reference @-2 =#)))"
      ]
     },
     "execution_count": 41,
     "metadata": {},
     "output_type": "execute_result"
    }
   ],
   "source": [
    "RR = u1+P"
   ]
  },
  {
   "cell_type": "code",
   "execution_count": 42,
   "metadata": {},
   "outputs": [
    {
     "data": {
      "image/svg+xml": [
       "<?xml version=\"1.0\" encoding=\"utf-8\"?>\n",
       "<svg xmlns=\"http://www.w3.org/2000/svg\" xmlns:xlink=\"http://www.w3.org/1999/xlink\" width=\"600\" height=\"400\" viewBox=\"0 0 2400 1600\">\n",
       "<defs>\n",
       "  <clipPath id=\"clip350\">\n",
       "    <rect x=\"0\" y=\"0\" width=\"2400\" height=\"1600\"/>\n",
       "  </clipPath>\n",
       "</defs>\n",
       "<path clip-path=\"url(#clip350)\" d=\"\n",
       "M0 1600 L2400 1600 L2400 0 L0 0  Z\n",
       "  \" fill=\"#ffffff\" fill-rule=\"evenodd\" fill-opacity=\"1\"/>\n",
       "<defs>\n",
       "  <clipPath id=\"clip351\">\n",
       "    <rect x=\"480\" y=\"0\" width=\"1681\" height=\"1600\"/>\n",
       "  </clipPath>\n",
       "</defs>\n",
       "<path clip-path=\"url(#clip350)\" d=\"\n",
       "M186.274 1486.45 L2352.76 1486.45 L2352.76 47.2441 L186.274 47.2441  Z\n",
       "  \" fill=\"#ffffff\" fill-rule=\"evenodd\" fill-opacity=\"1\"/>\n",
       "<defs>\n",
       "  <clipPath id=\"clip352\">\n",
       "    <rect x=\"186\" y=\"47\" width=\"2167\" height=\"1440\"/>\n",
       "  </clipPath>\n",
       "</defs>\n",
       "<polyline clip-path=\"url(#clip352)\" style=\"stroke:#000000; stroke-linecap:butt; stroke-linejoin:round; stroke-width:2; stroke-opacity:0.1; fill:none\" points=\"\n",
       "  619.199,1486.45 619.199,47.2441 \n",
       "  \"/>\n",
       "<polyline clip-path=\"url(#clip352)\" style=\"stroke:#000000; stroke-linecap:butt; stroke-linejoin:round; stroke-width:2; stroke-opacity:0.1; fill:none\" points=\"\n",
       "  1083.71,1486.45 1083.71,47.2441 \n",
       "  \"/>\n",
       "<polyline clip-path=\"url(#clip352)\" style=\"stroke:#000000; stroke-linecap:butt; stroke-linejoin:round; stroke-width:2; stroke-opacity:0.1; fill:none\" points=\"\n",
       "  1548.22,1486.45 1548.22,47.2441 \n",
       "  \"/>\n",
       "<polyline clip-path=\"url(#clip352)\" style=\"stroke:#000000; stroke-linecap:butt; stroke-linejoin:round; stroke-width:2; stroke-opacity:0.1; fill:none\" points=\"\n",
       "  2012.73,1486.45 2012.73,47.2441 \n",
       "  \"/>\n",
       "<polyline clip-path=\"url(#clip350)\" style=\"stroke:#000000; stroke-linecap:butt; stroke-linejoin:round; stroke-width:4; stroke-opacity:1; fill:none\" points=\"\n",
       "  186.274,1486.45 2352.76,1486.45 \n",
       "  \"/>\n",
       "<polyline clip-path=\"url(#clip350)\" style=\"stroke:#000000; stroke-linecap:butt; stroke-linejoin:round; stroke-width:4; stroke-opacity:1; fill:none\" points=\"\n",
       "  619.199,1486.45 619.199,1467.55 \n",
       "  \"/>\n",
       "<polyline clip-path=\"url(#clip350)\" style=\"stroke:#000000; stroke-linecap:butt; stroke-linejoin:round; stroke-width:4; stroke-opacity:1; fill:none\" points=\"\n",
       "  1083.71,1486.45 1083.71,1467.55 \n",
       "  \"/>\n",
       "<polyline clip-path=\"url(#clip350)\" style=\"stroke:#000000; stroke-linecap:butt; stroke-linejoin:round; stroke-width:4; stroke-opacity:1; fill:none\" points=\"\n",
       "  1548.22,1486.45 1548.22,1467.55 \n",
       "  \"/>\n",
       "<polyline clip-path=\"url(#clip350)\" style=\"stroke:#000000; stroke-linecap:butt; stroke-linejoin:round; stroke-width:4; stroke-opacity:1; fill:none\" points=\"\n",
       "  2012.73,1486.45 2012.73,1467.55 \n",
       "  \"/>\n",
       "<path clip-path=\"url(#clip350)\" d=\"M586.849 1544.91 L594.488 1544.91 L594.488 1518.55 L586.178 1520.21 L586.178 1515.95 L594.442 1514.29 L599.118 1514.29 L599.118 1544.91 L606.757 1544.91 L606.757 1548.85 L586.849 1548.85 L586.849 1544.91 Z\" fill=\"#000000\" fill-rule=\"evenodd\" fill-opacity=\"1\" /><path clip-path=\"url(#clip350)\" d=\"M616.201 1542.97 L621.085 1542.97 L621.085 1548.85 L616.201 1548.85 L616.201 1542.97 Z\" fill=\"#000000\" fill-rule=\"evenodd\" fill-opacity=\"1\" /><path clip-path=\"url(#clip350)\" d=\"M631.317 1514.29 L649.673 1514.29 L649.673 1518.22 L635.599 1518.22 L635.599 1526.7 Q636.618 1526.35 637.636 1526.19 Q638.655 1526 639.673 1526 Q645.46 1526 648.84 1529.17 Q652.219 1532.34 652.219 1537.76 Q652.219 1543.34 648.747 1546.44 Q645.275 1549.52 638.956 1549.52 Q636.78 1549.52 634.511 1549.15 Q632.266 1548.78 629.858 1548.04 L629.858 1543.34 Q631.942 1544.47 634.164 1545.03 Q636.386 1545.58 638.863 1545.58 Q642.868 1545.58 645.206 1543.48 Q647.544 1541.37 647.544 1537.76 Q647.544 1534.15 645.206 1532.04 Q642.868 1529.94 638.863 1529.94 Q636.988 1529.94 635.113 1530.35 Q633.261 1530.77 631.317 1531.65 L631.317 1514.29 Z\" fill=\"#000000\" fill-rule=\"evenodd\" fill-opacity=\"1\" /><path clip-path=\"url(#clip350)\" d=\"M1054.95 1544.91 L1071.27 1544.91 L1071.27 1548.85 L1049.32 1548.85 L1049.32 1544.91 Q1051.99 1542.16 1056.57 1537.53 Q1061.18 1532.88 1062.36 1531.53 Q1064.6 1529.01 1065.48 1527.27 Q1066.38 1525.51 1066.38 1523.82 Q1066.38 1521.07 1064.44 1519.33 Q1062.52 1517.6 1059.42 1517.6 Q1057.22 1517.6 1054.76 1518.36 Q1052.33 1519.13 1049.56 1520.68 L1049.56 1515.95 Q1052.38 1514.82 1054.83 1514.24 Q1057.29 1513.66 1059.32 1513.66 Q1064.69 1513.66 1067.89 1516.35 Q1071.08 1519.03 1071.08 1523.52 Q1071.08 1525.65 1070.27 1527.57 Q1069.49 1529.47 1067.38 1532.07 Q1066.8 1532.74 1063.7 1535.95 Q1060.6 1539.15 1054.95 1544.91 Z\" fill=\"#000000\" fill-rule=\"evenodd\" fill-opacity=\"1\" /><path clip-path=\"url(#clip350)\" d=\"M1081.08 1542.97 L1085.97 1542.97 L1085.97 1548.85 L1081.08 1548.85 L1081.08 1542.97 Z\" fill=\"#000000\" fill-rule=\"evenodd\" fill-opacity=\"1\" /><path clip-path=\"url(#clip350)\" d=\"M1106.15 1517.37 Q1102.54 1517.37 1100.71 1520.93 Q1098.91 1524.47 1098.91 1531.6 Q1098.91 1538.71 1100.71 1542.27 Q1102.54 1545.82 1106.15 1545.82 Q1109.79 1545.82 1111.59 1542.27 Q1113.42 1538.71 1113.42 1531.6 Q1113.42 1524.47 1111.59 1520.93 Q1109.79 1517.37 1106.15 1517.37 M1106.15 1513.66 Q1111.96 1513.66 1115.02 1518.27 Q1118.1 1522.85 1118.1 1531.6 Q1118.1 1540.33 1115.02 1544.94 Q1111.96 1549.52 1106.15 1549.52 Q1100.34 1549.52 1097.26 1544.94 Q1094.21 1540.33 1094.21 1531.6 Q1094.21 1522.85 1097.26 1518.27 Q1100.34 1513.66 1106.15 1513.66 Z\" fill=\"#000000\" fill-rule=\"evenodd\" fill-opacity=\"1\" /><path clip-path=\"url(#clip350)\" d=\"M1519.96 1544.91 L1536.28 1544.91 L1536.28 1548.85 L1514.33 1548.85 L1514.33 1544.91 Q1517 1542.16 1521.58 1537.53 Q1526.18 1532.88 1527.37 1531.53 Q1529.61 1529.01 1530.49 1527.27 Q1531.39 1525.51 1531.39 1523.82 Q1531.39 1521.07 1529.45 1519.33 Q1527.53 1517.6 1524.43 1517.6 Q1522.23 1517.6 1519.77 1518.36 Q1517.34 1519.13 1514.56 1520.68 L1514.56 1515.95 Q1517.39 1514.82 1519.84 1514.24 Q1522.3 1513.66 1524.33 1513.66 Q1529.7 1513.66 1532.9 1516.35 Q1536.09 1519.03 1536.09 1523.52 Q1536.09 1525.65 1535.28 1527.57 Q1534.5 1529.47 1532.39 1532.07 Q1531.81 1532.74 1528.71 1535.95 Q1525.61 1539.15 1519.96 1544.91 Z\" fill=\"#000000\" fill-rule=\"evenodd\" fill-opacity=\"1\" /><path clip-path=\"url(#clip350)\" d=\"M1546.09 1542.97 L1550.98 1542.97 L1550.98 1548.85 L1546.09 1548.85 L1546.09 1542.97 Z\" fill=\"#000000\" fill-rule=\"evenodd\" fill-opacity=\"1\" /><path clip-path=\"url(#clip350)\" d=\"M1561.21 1514.29 L1579.56 1514.29 L1579.56 1518.22 L1565.49 1518.22 L1565.49 1526.7 Q1566.51 1526.35 1567.53 1526.19 Q1568.55 1526 1569.56 1526 Q1575.35 1526 1578.73 1529.17 Q1582.11 1532.34 1582.11 1537.76 Q1582.11 1543.34 1578.64 1546.44 Q1575.17 1549.52 1568.85 1549.52 Q1566.67 1549.52 1564.4 1549.15 Q1562.16 1548.78 1559.75 1548.04 L1559.75 1543.34 Q1561.83 1544.47 1564.06 1545.03 Q1566.28 1545.58 1568.75 1545.58 Q1572.76 1545.58 1575.1 1543.48 Q1577.43 1541.37 1577.43 1537.76 Q1577.43 1534.15 1575.1 1532.04 Q1572.76 1529.94 1568.75 1529.94 Q1566.88 1529.94 1565 1530.35 Q1563.15 1530.77 1561.21 1531.65 L1561.21 1514.29 Z\" fill=\"#000000\" fill-rule=\"evenodd\" fill-opacity=\"1\" /><path clip-path=\"url(#clip350)\" d=\"M1994.04 1530.21 Q1997.4 1530.93 1999.27 1533.2 Q2001.17 1535.47 2001.17 1538.8 Q2001.17 1543.92 1997.65 1546.72 Q1994.13 1549.52 1987.65 1549.52 Q1985.48 1549.52 1983.16 1549.08 Q1980.87 1548.66 1978.42 1547.81 L1978.42 1543.29 Q1980.36 1544.43 1982.68 1545.01 Q1984.99 1545.58 1987.51 1545.58 Q1991.91 1545.58 1994.2 1543.85 Q1996.52 1542.11 1996.52 1538.8 Q1996.52 1535.75 1994.37 1534.03 Q1992.24 1532.3 1988.42 1532.3 L1984.39 1532.3 L1984.39 1528.45 L1988.6 1528.45 Q1992.05 1528.45 1993.88 1527.09 Q1995.71 1525.7 1995.71 1523.11 Q1995.71 1520.45 1993.81 1519.03 Q1991.93 1517.6 1988.42 1517.6 Q1986.5 1517.6 1984.3 1518.01 Q1982.1 1518.43 1979.46 1519.31 L1979.46 1515.14 Q1982.12 1514.4 1984.43 1514.03 Q1986.77 1513.66 1988.83 1513.66 Q1994.16 1513.66 1997.26 1516.09 Q2000.36 1518.5 2000.36 1522.62 Q2000.36 1525.49 1998.72 1527.48 Q1997.07 1529.45 1994.04 1530.21 Z\" fill=\"#000000\" fill-rule=\"evenodd\" fill-opacity=\"1\" /><path clip-path=\"url(#clip350)\" d=\"M2010.04 1542.97 L2014.92 1542.97 L2014.92 1548.85 L2010.04 1548.85 L2010.04 1542.97 Z\" fill=\"#000000\" fill-rule=\"evenodd\" fill-opacity=\"1\" /><path clip-path=\"url(#clip350)\" d=\"M2035.11 1517.37 Q2031.49 1517.37 2029.67 1520.93 Q2027.86 1524.47 2027.86 1531.6 Q2027.86 1538.71 2029.67 1542.27 Q2031.49 1545.82 2035.11 1545.82 Q2038.74 1545.82 2040.55 1542.27 Q2042.37 1538.71 2042.37 1531.6 Q2042.37 1524.47 2040.55 1520.93 Q2038.74 1517.37 2035.11 1517.37 M2035.11 1513.66 Q2040.92 1513.66 2043.97 1518.27 Q2047.05 1522.85 2047.05 1531.6 Q2047.05 1540.33 2043.97 1544.94 Q2040.92 1549.52 2035.11 1549.52 Q2029.3 1549.52 2026.22 1544.94 Q2023.16 1540.33 2023.16 1531.6 Q2023.16 1522.85 2026.22 1518.27 Q2029.3 1513.66 2035.11 1513.66 Z\" fill=\"#000000\" fill-rule=\"evenodd\" fill-opacity=\"1\" /><polyline clip-path=\"url(#clip352)\" style=\"stroke:#000000; stroke-linecap:butt; stroke-linejoin:round; stroke-width:2; stroke-opacity:0.1; fill:none\" points=\"\n",
       "  186.274,1445.72 2352.76,1445.72 \n",
       "  \"/>\n",
       "<polyline clip-path=\"url(#clip352)\" style=\"stroke:#000000; stroke-linecap:butt; stroke-linejoin:round; stroke-width:2; stroke-opacity:0.1; fill:none\" points=\"\n",
       "  186.274,1203.26 2352.76,1203.26 \n",
       "  \"/>\n",
       "<polyline clip-path=\"url(#clip352)\" style=\"stroke:#000000; stroke-linecap:butt; stroke-linejoin:round; stroke-width:2; stroke-opacity:0.1; fill:none\" points=\"\n",
       "  186.274,960.809 2352.76,960.809 \n",
       "  \"/>\n",
       "<polyline clip-path=\"url(#clip352)\" style=\"stroke:#000000; stroke-linecap:butt; stroke-linejoin:round; stroke-width:2; stroke-opacity:0.1; fill:none\" points=\"\n",
       "  186.274,718.355 2352.76,718.355 \n",
       "  \"/>\n",
       "<polyline clip-path=\"url(#clip352)\" style=\"stroke:#000000; stroke-linecap:butt; stroke-linejoin:round; stroke-width:2; stroke-opacity:0.1; fill:none\" points=\"\n",
       "  186.274,475.902 2352.76,475.902 \n",
       "  \"/>\n",
       "<polyline clip-path=\"url(#clip352)\" style=\"stroke:#000000; stroke-linecap:butt; stroke-linejoin:round; stroke-width:2; stroke-opacity:0.1; fill:none\" points=\"\n",
       "  186.274,233.448 2352.76,233.448 \n",
       "  \"/>\n",
       "<polyline clip-path=\"url(#clip350)\" style=\"stroke:#000000; stroke-linecap:butt; stroke-linejoin:round; stroke-width:4; stroke-opacity:1; fill:none\" points=\"\n",
       "  186.274,1486.45 186.274,47.2441 \n",
       "  \"/>\n",
       "<polyline clip-path=\"url(#clip350)\" style=\"stroke:#000000; stroke-linecap:butt; stroke-linejoin:round; stroke-width:4; stroke-opacity:1; fill:none\" points=\"\n",
       "  186.274,1445.72 205.172,1445.72 \n",
       "  \"/>\n",
       "<polyline clip-path=\"url(#clip350)\" style=\"stroke:#000000; stroke-linecap:butt; stroke-linejoin:round; stroke-width:4; stroke-opacity:1; fill:none\" points=\"\n",
       "  186.274,1203.26 205.172,1203.26 \n",
       "  \"/>\n",
       "<polyline clip-path=\"url(#clip350)\" style=\"stroke:#000000; stroke-linecap:butt; stroke-linejoin:round; stroke-width:4; stroke-opacity:1; fill:none\" points=\"\n",
       "  186.274,960.809 205.172,960.809 \n",
       "  \"/>\n",
       "<polyline clip-path=\"url(#clip350)\" style=\"stroke:#000000; stroke-linecap:butt; stroke-linejoin:round; stroke-width:4; stroke-opacity:1; fill:none\" points=\"\n",
       "  186.274,718.355 205.172,718.355 \n",
       "  \"/>\n",
       "<polyline clip-path=\"url(#clip350)\" style=\"stroke:#000000; stroke-linecap:butt; stroke-linejoin:round; stroke-width:4; stroke-opacity:1; fill:none\" points=\"\n",
       "  186.274,475.902 205.172,475.902 \n",
       "  \"/>\n",
       "<polyline clip-path=\"url(#clip350)\" style=\"stroke:#000000; stroke-linecap:butt; stroke-linejoin:round; stroke-width:4; stroke-opacity:1; fill:none\" points=\"\n",
       "  186.274,233.448 205.172,233.448 \n",
       "  \"/>\n",
       "<path clip-path=\"url(#clip350)\" d=\"M62.9365 1431.51 Q59.3254 1431.51 57.4967 1435.08 Q55.6912 1438.62 55.6912 1445.75 Q55.6912 1452.86 57.4967 1456.42 Q59.3254 1459.96 62.9365 1459.96 Q66.5707 1459.96 68.3763 1456.42 Q70.205 1452.86 70.205 1445.75 Q70.205 1438.62 68.3763 1435.08 Q66.5707 1431.51 62.9365 1431.51 M62.9365 1427.81 Q68.7467 1427.81 71.8022 1432.42 Q74.8809 1437 74.8809 1445.75 Q74.8809 1454.48 71.8022 1459.08 Q68.7467 1463.67 62.9365 1463.67 Q57.1264 1463.67 54.0477 1459.08 Q50.9921 1454.48 50.9921 1445.75 Q50.9921 1437 54.0477 1432.42 Q57.1264 1427.81 62.9365 1427.81 Z\" fill=\"#000000\" fill-rule=\"evenodd\" fill-opacity=\"1\" /><path clip-path=\"url(#clip350)\" d=\"M83.0984 1457.12 L87.9827 1457.12 L87.9827 1463 L83.0984 1463 L83.0984 1457.12 Z\" fill=\"#000000\" fill-rule=\"evenodd\" fill-opacity=\"1\" /><path clip-path=\"url(#clip350)\" d=\"M108.168 1431.51 Q104.557 1431.51 102.728 1435.08 Q100.922 1438.62 100.922 1445.75 Q100.922 1452.86 102.728 1456.42 Q104.557 1459.96 108.168 1459.96 Q111.802 1459.96 113.608 1456.42 Q115.436 1452.86 115.436 1445.75 Q115.436 1438.62 113.608 1435.08 Q111.802 1431.51 108.168 1431.51 M108.168 1427.81 Q113.978 1427.81 117.033 1432.42 Q120.112 1437 120.112 1445.75 Q120.112 1454.48 117.033 1459.08 Q113.978 1463.67 108.168 1463.67 Q102.358 1463.67 99.2789 1459.08 Q96.2234 1454.48 96.2234 1445.75 Q96.2234 1437 99.2789 1432.42 Q102.358 1427.81 108.168 1427.81 Z\" fill=\"#000000\" fill-rule=\"evenodd\" fill-opacity=\"1\" /><path clip-path=\"url(#clip350)\" d=\"M138.33 1431.51 Q134.719 1431.51 132.89 1435.08 Q131.084 1438.62 131.084 1445.75 Q131.084 1452.86 132.89 1456.42 Q134.719 1459.96 138.33 1459.96 Q141.964 1459.96 143.769 1456.42 Q145.598 1452.86 145.598 1445.75 Q145.598 1438.62 143.769 1435.08 Q141.964 1431.51 138.33 1431.51 M138.33 1427.81 Q144.14 1427.81 147.195 1432.42 Q150.274 1437 150.274 1445.75 Q150.274 1454.48 147.195 1459.08 Q144.14 1463.67 138.33 1463.67 Q132.519 1463.67 129.441 1459.08 Q126.385 1454.48 126.385 1445.75 Q126.385 1437 129.441 1432.42 Q132.519 1427.81 138.33 1427.81 Z\" fill=\"#000000\" fill-rule=\"evenodd\" fill-opacity=\"1\" /><path clip-path=\"url(#clip350)\" d=\"M63.9319 1189.06 Q60.3208 1189.06 58.4921 1192.63 Q56.6865 1196.17 56.6865 1203.3 Q56.6865 1210.4 58.4921 1213.97 Q60.3208 1217.51 63.9319 1217.51 Q67.5661 1217.51 69.3717 1213.97 Q71.2004 1210.4 71.2004 1203.3 Q71.2004 1196.17 69.3717 1192.63 Q67.5661 1189.06 63.9319 1189.06 M63.9319 1185.36 Q69.742 1185.36 72.7976 1189.96 Q75.8763 1194.55 75.8763 1203.3 Q75.8763 1212.02 72.7976 1216.63 Q69.742 1221.21 63.9319 1221.21 Q58.1217 1221.21 55.043 1216.63 Q51.9875 1212.02 51.9875 1203.3 Q51.9875 1194.55 55.043 1189.96 Q58.1217 1185.36 63.9319 1185.36 Z\" fill=\"#000000\" fill-rule=\"evenodd\" fill-opacity=\"1\" /><path clip-path=\"url(#clip350)\" d=\"M84.0938 1214.66 L88.978 1214.66 L88.978 1220.54 L84.0938 1220.54 L84.0938 1214.66 Z\" fill=\"#000000\" fill-rule=\"evenodd\" fill-opacity=\"1\" /><path clip-path=\"url(#clip350)\" d=\"M103.191 1216.61 L119.51 1216.61 L119.51 1220.54 L97.566 1220.54 L97.566 1216.61 Q100.228 1213.85 104.811 1209.22 Q109.418 1204.57 110.598 1203.23 Q112.844 1200.7 113.723 1198.97 Q114.626 1197.21 114.626 1195.52 Q114.626 1192.76 112.682 1191.03 Q110.76 1189.29 107.658 1189.29 Q105.459 1189.29 103.006 1190.06 Q100.575 1190.82 97.7974 1192.37 L97.7974 1187.65 Q100.621 1186.51 103.075 1185.94 Q105.529 1185.36 107.566 1185.36 Q112.936 1185.36 116.131 1188.04 Q119.325 1190.73 119.325 1195.22 Q119.325 1197.35 118.515 1199.27 Q117.728 1201.17 115.621 1203.76 Q115.043 1204.43 111.941 1207.65 Q108.839 1210.84 103.191 1216.61 Z\" fill=\"#000000\" fill-rule=\"evenodd\" fill-opacity=\"1\" /><path clip-path=\"url(#clip350)\" d=\"M129.371 1185.98 L147.728 1185.98 L147.728 1189.92 L133.654 1189.92 L133.654 1198.39 Q134.672 1198.04 135.691 1197.88 Q136.709 1197.7 137.728 1197.7 Q143.515 1197.7 146.894 1200.87 Q150.274 1204.04 150.274 1209.45 Q150.274 1215.03 146.802 1218.13 Q143.33 1221.21 137.01 1221.21 Q134.834 1221.21 132.566 1220.84 Q130.32 1220.47 127.913 1219.73 L127.913 1215.03 Q129.996 1216.17 132.219 1216.72 Q134.441 1217.28 136.918 1217.28 Q140.922 1217.28 143.26 1215.17 Q145.598 1213.07 145.598 1209.45 Q145.598 1205.84 143.26 1203.74 Q140.922 1201.63 136.918 1201.63 Q135.043 1201.63 133.168 1202.05 Q131.316 1202.46 129.371 1203.34 L129.371 1185.98 Z\" fill=\"#000000\" fill-rule=\"evenodd\" fill-opacity=\"1\" /><path clip-path=\"url(#clip350)\" d=\"M62.9365 946.607 Q59.3254 946.607 57.4967 950.172 Q55.6912 953.714 55.6912 960.843 Q55.6912 967.95 57.4967 971.515 Q59.3254 975.056 62.9365 975.056 Q66.5707 975.056 68.3763 971.515 Q70.205 967.95 70.205 960.843 Q70.205 953.714 68.3763 950.172 Q66.5707 946.607 62.9365 946.607 M62.9365 942.904 Q68.7467 942.904 71.8022 947.51 Q74.8809 952.094 74.8809 960.843 Q74.8809 969.57 71.8022 974.177 Q68.7467 978.76 62.9365 978.76 Q57.1264 978.76 54.0477 974.177 Q50.9921 969.57 50.9921 960.843 Q50.9921 952.094 54.0477 947.51 Q57.1264 942.904 62.9365 942.904 Z\" fill=\"#000000\" fill-rule=\"evenodd\" fill-opacity=\"1\" /><path clip-path=\"url(#clip350)\" d=\"M83.0984 972.209 L87.9827 972.209 L87.9827 978.089 L83.0984 978.089 L83.0984 972.209 Z\" fill=\"#000000\" fill-rule=\"evenodd\" fill-opacity=\"1\" /><path clip-path=\"url(#clip350)\" d=\"M98.2141 943.529 L116.57 943.529 L116.57 947.464 L102.496 947.464 L102.496 955.936 Q103.515 955.589 104.534 955.427 Q105.552 955.242 106.571 955.242 Q112.358 955.242 115.737 958.413 Q119.117 961.584 119.117 967.001 Q119.117 972.58 115.645 975.681 Q112.172 978.76 105.853 978.76 Q103.677 978.76 101.409 978.39 Q99.1632 978.019 96.7558 977.279 L96.7558 972.58 Q98.8391 973.714 101.061 974.269 Q103.284 974.825 105.76 974.825 Q109.765 974.825 112.103 972.718 Q114.441 970.612 114.441 967.001 Q114.441 963.39 112.103 961.283 Q109.765 959.177 105.76 959.177 Q103.885 959.177 102.01 959.593 Q100.159 960.01 98.2141 960.89 L98.2141 943.529 Z\" fill=\"#000000\" fill-rule=\"evenodd\" fill-opacity=\"1\" /><path clip-path=\"url(#clip350)\" d=\"M138.33 946.607 Q134.719 946.607 132.89 950.172 Q131.084 953.714 131.084 960.843 Q131.084 967.95 132.89 971.515 Q134.719 975.056 138.33 975.056 Q141.964 975.056 143.769 971.515 Q145.598 967.95 145.598 960.843 Q145.598 953.714 143.769 950.172 Q141.964 946.607 138.33 946.607 M138.33 942.904 Q144.14 942.904 147.195 947.51 Q150.274 952.094 150.274 960.843 Q150.274 969.57 147.195 974.177 Q144.14 978.76 138.33 978.76 Q132.519 978.76 129.441 974.177 Q126.385 969.57 126.385 960.843 Q126.385 952.094 129.441 947.51 Q132.519 942.904 138.33 942.904 Z\" fill=\"#000000\" fill-rule=\"evenodd\" fill-opacity=\"1\" /><path clip-path=\"url(#clip350)\" d=\"M63.9319 704.154 Q60.3208 704.154 58.4921 707.719 Q56.6865 711.26 56.6865 718.39 Q56.6865 725.496 58.4921 729.061 Q60.3208 732.603 63.9319 732.603 Q67.5661 732.603 69.3717 729.061 Q71.2004 725.496 71.2004 718.39 Q71.2004 711.26 69.3717 707.719 Q67.5661 704.154 63.9319 704.154 M63.9319 700.45 Q69.742 700.45 72.7976 705.057 Q75.8763 709.64 75.8763 718.39 Q75.8763 727.117 72.7976 731.723 Q69.742 736.307 63.9319 736.307 Q58.1217 736.307 55.043 731.723 Q51.9875 727.117 51.9875 718.39 Q51.9875 709.64 55.043 705.057 Q58.1217 700.45 63.9319 700.45 Z\" fill=\"#000000\" fill-rule=\"evenodd\" fill-opacity=\"1\" /><path clip-path=\"url(#clip350)\" d=\"M84.0938 729.756 L88.978 729.756 L88.978 735.635 L84.0938 735.635 L84.0938 729.756 Z\" fill=\"#000000\" fill-rule=\"evenodd\" fill-opacity=\"1\" /><path clip-path=\"url(#clip350)\" d=\"M97.9826 701.075 L120.205 701.075 L120.205 703.066 L107.658 735.635 L102.774 735.635 L114.58 705.01 L97.9826 705.01 L97.9826 701.075 Z\" fill=\"#000000\" fill-rule=\"evenodd\" fill-opacity=\"1\" /><path clip-path=\"url(#clip350)\" d=\"M129.371 701.075 L147.728 701.075 L147.728 705.01 L133.654 705.01 L133.654 713.483 Q134.672 713.135 135.691 712.973 Q136.709 712.788 137.728 712.788 Q143.515 712.788 146.894 715.959 Q150.274 719.131 150.274 724.547 Q150.274 730.126 146.802 733.228 Q143.33 736.307 137.01 736.307 Q134.834 736.307 132.566 735.936 Q130.32 735.566 127.913 734.825 L127.913 730.126 Q129.996 731.26 132.219 731.816 Q134.441 732.371 136.918 732.371 Q140.922 732.371 143.26 730.265 Q145.598 728.158 145.598 724.547 Q145.598 720.936 143.26 718.83 Q140.922 716.723 136.918 716.723 Q135.043 716.723 133.168 717.14 Q131.316 717.557 129.371 718.436 L129.371 701.075 Z\" fill=\"#000000\" fill-rule=\"evenodd\" fill-opacity=\"1\" /><path clip-path=\"url(#clip350)\" d=\"M53.7467 489.247 L61.3856 489.247 L61.3856 462.881 L53.0754 464.548 L53.0754 460.288 L61.3393 458.622 L66.0152 458.622 L66.0152 489.247 L73.654 489.247 L73.654 493.182 L53.7467 493.182 L53.7467 489.247 Z\" fill=\"#000000\" fill-rule=\"evenodd\" fill-opacity=\"1\" /><path clip-path=\"url(#clip350)\" d=\"M83.0984 487.302 L87.9827 487.302 L87.9827 493.182 L83.0984 493.182 L83.0984 487.302 Z\" fill=\"#000000\" fill-rule=\"evenodd\" fill-opacity=\"1\" /><path clip-path=\"url(#clip350)\" d=\"M108.168 461.701 Q104.557 461.701 102.728 465.265 Q100.922 468.807 100.922 475.937 Q100.922 483.043 102.728 486.608 Q104.557 490.149 108.168 490.149 Q111.802 490.149 113.608 486.608 Q115.436 483.043 115.436 475.937 Q115.436 468.807 113.608 465.265 Q111.802 461.701 108.168 461.701 M108.168 457.997 Q113.978 457.997 117.033 462.603 Q120.112 467.187 120.112 475.937 Q120.112 484.663 117.033 489.27 Q113.978 493.853 108.168 493.853 Q102.358 493.853 99.2789 489.27 Q96.2234 484.663 96.2234 475.937 Q96.2234 467.187 99.2789 462.603 Q102.358 457.997 108.168 457.997 Z\" fill=\"#000000\" fill-rule=\"evenodd\" fill-opacity=\"1\" /><path clip-path=\"url(#clip350)\" d=\"M138.33 461.701 Q134.719 461.701 132.89 465.265 Q131.084 468.807 131.084 475.937 Q131.084 483.043 132.89 486.608 Q134.719 490.149 138.33 490.149 Q141.964 490.149 143.769 486.608 Q145.598 483.043 145.598 475.937 Q145.598 468.807 143.769 465.265 Q141.964 461.701 138.33 461.701 M138.33 457.997 Q144.14 457.997 147.195 462.603 Q150.274 467.187 150.274 475.937 Q150.274 484.663 147.195 489.27 Q144.14 493.853 138.33 493.853 Q132.519 493.853 129.441 489.27 Q126.385 484.663 126.385 475.937 Q126.385 467.187 129.441 462.603 Q132.519 457.997 138.33 457.997 Z\" fill=\"#000000\" fill-rule=\"evenodd\" fill-opacity=\"1\" /><path clip-path=\"url(#clip350)\" d=\"M54.7421 246.793 L62.381 246.793 L62.381 220.428 L54.0708 222.094 L54.0708 217.835 L62.3347 216.168 L67.0106 216.168 L67.0106 246.793 L74.6494 246.793 L74.6494 250.728 L54.7421 250.728 L54.7421 246.793 Z\" fill=\"#000000\" fill-rule=\"evenodd\" fill-opacity=\"1\" /><path clip-path=\"url(#clip350)\" d=\"M84.0938 244.849 L88.978 244.849 L88.978 250.728 L84.0938 250.728 L84.0938 244.849 Z\" fill=\"#000000\" fill-rule=\"evenodd\" fill-opacity=\"1\" /><path clip-path=\"url(#clip350)\" d=\"M103.191 246.793 L119.51 246.793 L119.51 250.728 L97.566 250.728 L97.566 246.793 Q100.228 244.039 104.811 239.409 Q109.418 234.756 110.598 233.414 Q112.844 230.891 113.723 229.154 Q114.626 227.395 114.626 225.705 Q114.626 222.951 112.682 221.215 Q110.76 219.479 107.658 219.479 Q105.459 219.479 103.006 220.242 Q100.575 221.006 97.7974 222.557 L97.7974 217.835 Q100.621 216.701 103.075 216.122 Q105.529 215.543 107.566 215.543 Q112.936 215.543 116.131 218.229 Q119.325 220.914 119.325 225.404 Q119.325 227.534 118.515 229.455 Q117.728 231.353 115.621 233.946 Q115.043 234.617 111.941 237.835 Q108.839 241.029 103.191 246.793 Z\" fill=\"#000000\" fill-rule=\"evenodd\" fill-opacity=\"1\" /><path clip-path=\"url(#clip350)\" d=\"M129.371 216.168 L147.728 216.168 L147.728 220.104 L133.654 220.104 L133.654 228.576 Q134.672 228.228 135.691 228.066 Q136.709 227.881 137.728 227.881 Q143.515 227.881 146.894 231.053 Q150.274 234.224 150.274 239.64 Q150.274 245.219 146.802 248.321 Q143.33 251.4 137.01 251.4 Q134.834 251.4 132.566 251.029 Q130.32 250.659 127.913 249.918 L127.913 245.219 Q129.996 246.353 132.219 246.909 Q134.441 247.464 136.918 247.464 Q140.922 247.464 143.26 245.358 Q145.598 243.252 145.598 239.64 Q145.598 236.029 143.26 233.923 Q140.922 231.816 136.918 231.816 Q135.043 231.816 133.168 232.233 Q131.316 232.65 129.371 233.529 L129.371 216.168 Z\" fill=\"#000000\" fill-rule=\"evenodd\" fill-opacity=\"1\" /><path clip-path=\"url(#clip352)\" d=\"\n",
       "M1269.51 1057.79 L2291.44 475.902 L1269.51 87.9763 L247.59 475.902 L1269.51 1057.79 L1269.51 1445.72 L247.59 1445.72 L1269.51 1445.72 L2291.44 1445.72 L1269.51 1445.72 \n",
       "   Z\n",
       "  \" fill=\"#009af9\" fill-rule=\"evenodd\" fill-opacity=\"1\"/>\n",
       "<polyline clip-path=\"url(#clip352)\" style=\"stroke:#009af9; stroke-linecap:butt; stroke-linejoin:round; stroke-width:4; stroke-opacity:1; fill:none\" points=\"\n",
       "  1269.51,1057.79 2291.44,475.902 1269.51,87.9763 247.59,475.902 1269.51,1057.79 \n",
       "  \"/>\n",
       "</svg>\n"
      ]
     },
     "execution_count": 42,
     "metadata": {},
     "output_type": "execute_result"
    }
   ],
   "source": [
    "RR.plot()"
   ]
  },
  {
   "cell_type": "code",
   "execution_count": 43,
   "metadata": {},
   "outputs": [
    {
     "data": {
      "image/svg+xml": [
       "<?xml version=\"1.0\" encoding=\"utf-8\"?>\n",
       "<svg xmlns=\"http://www.w3.org/2000/svg\" xmlns:xlink=\"http://www.w3.org/1999/xlink\" width=\"600\" height=\"400\" viewBox=\"0 0 2400 1600\">\n",
       "<defs>\n",
       "  <clipPath id=\"clip390\">\n",
       "    <rect x=\"0\" y=\"0\" width=\"2400\" height=\"1600\"/>\n",
       "  </clipPath>\n",
       "</defs>\n",
       "<path clip-path=\"url(#clip390)\" d=\"\n",
       "M0 1600 L2400 1600 L2400 0 L0 0  Z\n",
       "  \" fill=\"#ffffff\" fill-rule=\"evenodd\" fill-opacity=\"1\"/>\n",
       "<defs>\n",
       "  <clipPath id=\"clip391\">\n",
       "    <rect x=\"480\" y=\"0\" width=\"1681\" height=\"1600\"/>\n",
       "  </clipPath>\n",
       "</defs>\n",
       "<path clip-path=\"url(#clip390)\" d=\"\n",
       "M186.274 1486.45 L2352.76 1486.45 L2352.76 47.2441 L186.274 47.2441  Z\n",
       "  \" fill=\"#ffffff\" fill-rule=\"evenodd\" fill-opacity=\"1\"/>\n",
       "<defs>\n",
       "  <clipPath id=\"clip392\">\n",
       "    <rect x=\"186\" y=\"47\" width=\"2167\" height=\"1440\"/>\n",
       "  </clipPath>\n",
       "</defs>\n",
       "<polyline clip-path=\"url(#clip392)\" style=\"stroke:#000000; stroke-linecap:butt; stroke-linejoin:round; stroke-width:2; stroke-opacity:0.1; fill:none\" points=\"\n",
       "  619.199,1486.45 619.199,47.2441 \n",
       "  \"/>\n",
       "<polyline clip-path=\"url(#clip392)\" style=\"stroke:#000000; stroke-linecap:butt; stroke-linejoin:round; stroke-width:2; stroke-opacity:0.1; fill:none\" points=\"\n",
       "  1083.71,1486.45 1083.71,47.2441 \n",
       "  \"/>\n",
       "<polyline clip-path=\"url(#clip392)\" style=\"stroke:#000000; stroke-linecap:butt; stroke-linejoin:round; stroke-width:2; stroke-opacity:0.1; fill:none\" points=\"\n",
       "  1548.22,1486.45 1548.22,47.2441 \n",
       "  \"/>\n",
       "<polyline clip-path=\"url(#clip392)\" style=\"stroke:#000000; stroke-linecap:butt; stroke-linejoin:round; stroke-width:2; stroke-opacity:0.1; fill:none\" points=\"\n",
       "  2012.73,1486.45 2012.73,47.2441 \n",
       "  \"/>\n",
       "<polyline clip-path=\"url(#clip390)\" style=\"stroke:#000000; stroke-linecap:butt; stroke-linejoin:round; stroke-width:4; stroke-opacity:1; fill:none\" points=\"\n",
       "  186.274,1486.45 2352.76,1486.45 \n",
       "  \"/>\n",
       "<polyline clip-path=\"url(#clip390)\" style=\"stroke:#000000; stroke-linecap:butt; stroke-linejoin:round; stroke-width:4; stroke-opacity:1; fill:none\" points=\"\n",
       "  619.199,1486.45 619.199,1467.55 \n",
       "  \"/>\n",
       "<polyline clip-path=\"url(#clip390)\" style=\"stroke:#000000; stroke-linecap:butt; stroke-linejoin:round; stroke-width:4; stroke-opacity:1; fill:none\" points=\"\n",
       "  1083.71,1486.45 1083.71,1467.55 \n",
       "  \"/>\n",
       "<polyline clip-path=\"url(#clip390)\" style=\"stroke:#000000; stroke-linecap:butt; stroke-linejoin:round; stroke-width:4; stroke-opacity:1; fill:none\" points=\"\n",
       "  1548.22,1486.45 1548.22,1467.55 \n",
       "  \"/>\n",
       "<polyline clip-path=\"url(#clip390)\" style=\"stroke:#000000; stroke-linecap:butt; stroke-linejoin:round; stroke-width:4; stroke-opacity:1; fill:none\" points=\"\n",
       "  2012.73,1486.45 2012.73,1467.55 \n",
       "  \"/>\n",
       "<path clip-path=\"url(#clip390)\" d=\"M586.849 1544.91 L594.488 1544.91 L594.488 1518.55 L586.178 1520.21 L586.178 1515.95 L594.442 1514.29 L599.118 1514.29 L599.118 1544.91 L606.757 1544.91 L606.757 1548.85 L586.849 1548.85 L586.849 1544.91 Z\" fill=\"#000000\" fill-rule=\"evenodd\" fill-opacity=\"1\" /><path clip-path=\"url(#clip390)\" d=\"M616.201 1542.97 L621.085 1542.97 L621.085 1548.85 L616.201 1548.85 L616.201 1542.97 Z\" fill=\"#000000\" fill-rule=\"evenodd\" fill-opacity=\"1\" /><path clip-path=\"url(#clip390)\" d=\"M631.317 1514.29 L649.673 1514.29 L649.673 1518.22 L635.599 1518.22 L635.599 1526.7 Q636.618 1526.35 637.636 1526.19 Q638.655 1526 639.673 1526 Q645.46 1526 648.84 1529.17 Q652.219 1532.34 652.219 1537.76 Q652.219 1543.34 648.747 1546.44 Q645.275 1549.52 638.956 1549.52 Q636.78 1549.52 634.511 1549.15 Q632.266 1548.78 629.858 1548.04 L629.858 1543.34 Q631.942 1544.47 634.164 1545.03 Q636.386 1545.58 638.863 1545.58 Q642.868 1545.58 645.206 1543.48 Q647.544 1541.37 647.544 1537.76 Q647.544 1534.15 645.206 1532.04 Q642.868 1529.94 638.863 1529.94 Q636.988 1529.94 635.113 1530.35 Q633.261 1530.77 631.317 1531.65 L631.317 1514.29 Z\" fill=\"#000000\" fill-rule=\"evenodd\" fill-opacity=\"1\" /><path clip-path=\"url(#clip390)\" d=\"M1054.95 1544.91 L1071.27 1544.91 L1071.27 1548.85 L1049.32 1548.85 L1049.32 1544.91 Q1051.99 1542.16 1056.57 1537.53 Q1061.18 1532.88 1062.36 1531.53 Q1064.6 1529.01 1065.48 1527.27 Q1066.38 1525.51 1066.38 1523.82 Q1066.38 1521.07 1064.44 1519.33 Q1062.52 1517.6 1059.42 1517.6 Q1057.22 1517.6 1054.76 1518.36 Q1052.33 1519.13 1049.56 1520.68 L1049.56 1515.95 Q1052.38 1514.82 1054.83 1514.24 Q1057.29 1513.66 1059.32 1513.66 Q1064.69 1513.66 1067.89 1516.35 Q1071.08 1519.03 1071.08 1523.52 Q1071.08 1525.65 1070.27 1527.57 Q1069.49 1529.47 1067.38 1532.07 Q1066.8 1532.74 1063.7 1535.95 Q1060.6 1539.15 1054.95 1544.91 Z\" fill=\"#000000\" fill-rule=\"evenodd\" fill-opacity=\"1\" /><path clip-path=\"url(#clip390)\" d=\"M1081.08 1542.97 L1085.97 1542.97 L1085.97 1548.85 L1081.08 1548.85 L1081.08 1542.97 Z\" fill=\"#000000\" fill-rule=\"evenodd\" fill-opacity=\"1\" /><path clip-path=\"url(#clip390)\" d=\"M1106.15 1517.37 Q1102.54 1517.37 1100.71 1520.93 Q1098.91 1524.47 1098.91 1531.6 Q1098.91 1538.71 1100.71 1542.27 Q1102.54 1545.82 1106.15 1545.82 Q1109.79 1545.82 1111.59 1542.27 Q1113.42 1538.71 1113.42 1531.6 Q1113.42 1524.47 1111.59 1520.93 Q1109.79 1517.37 1106.15 1517.37 M1106.15 1513.66 Q1111.96 1513.66 1115.02 1518.27 Q1118.1 1522.85 1118.1 1531.6 Q1118.1 1540.33 1115.02 1544.94 Q1111.96 1549.52 1106.15 1549.52 Q1100.34 1549.52 1097.26 1544.94 Q1094.21 1540.33 1094.21 1531.6 Q1094.21 1522.85 1097.26 1518.27 Q1100.34 1513.66 1106.15 1513.66 Z\" fill=\"#000000\" fill-rule=\"evenodd\" fill-opacity=\"1\" /><path clip-path=\"url(#clip390)\" d=\"M1519.96 1544.91 L1536.28 1544.91 L1536.28 1548.85 L1514.33 1548.85 L1514.33 1544.91 Q1517 1542.16 1521.58 1537.53 Q1526.18 1532.88 1527.37 1531.53 Q1529.61 1529.01 1530.49 1527.27 Q1531.39 1525.51 1531.39 1523.82 Q1531.39 1521.07 1529.45 1519.33 Q1527.53 1517.6 1524.43 1517.6 Q1522.23 1517.6 1519.77 1518.36 Q1517.34 1519.13 1514.56 1520.68 L1514.56 1515.95 Q1517.39 1514.82 1519.84 1514.24 Q1522.3 1513.66 1524.33 1513.66 Q1529.7 1513.66 1532.9 1516.35 Q1536.09 1519.03 1536.09 1523.52 Q1536.09 1525.65 1535.28 1527.57 Q1534.5 1529.47 1532.39 1532.07 Q1531.81 1532.74 1528.71 1535.95 Q1525.61 1539.15 1519.96 1544.91 Z\" fill=\"#000000\" fill-rule=\"evenodd\" fill-opacity=\"1\" /><path clip-path=\"url(#clip390)\" d=\"M1546.09 1542.97 L1550.98 1542.97 L1550.98 1548.85 L1546.09 1548.85 L1546.09 1542.97 Z\" fill=\"#000000\" fill-rule=\"evenodd\" fill-opacity=\"1\" /><path clip-path=\"url(#clip390)\" d=\"M1561.21 1514.29 L1579.56 1514.29 L1579.56 1518.22 L1565.49 1518.22 L1565.49 1526.7 Q1566.51 1526.35 1567.53 1526.19 Q1568.55 1526 1569.56 1526 Q1575.35 1526 1578.73 1529.17 Q1582.11 1532.34 1582.11 1537.76 Q1582.11 1543.34 1578.64 1546.44 Q1575.17 1549.52 1568.85 1549.52 Q1566.67 1549.52 1564.4 1549.15 Q1562.16 1548.78 1559.75 1548.04 L1559.75 1543.34 Q1561.83 1544.47 1564.06 1545.03 Q1566.28 1545.58 1568.75 1545.58 Q1572.76 1545.58 1575.1 1543.48 Q1577.43 1541.37 1577.43 1537.76 Q1577.43 1534.15 1575.1 1532.04 Q1572.76 1529.94 1568.75 1529.94 Q1566.88 1529.94 1565 1530.35 Q1563.15 1530.77 1561.21 1531.65 L1561.21 1514.29 Z\" fill=\"#000000\" fill-rule=\"evenodd\" fill-opacity=\"1\" /><path clip-path=\"url(#clip390)\" d=\"M1994.04 1530.21 Q1997.4 1530.93 1999.27 1533.2 Q2001.17 1535.47 2001.17 1538.8 Q2001.17 1543.92 1997.65 1546.72 Q1994.13 1549.52 1987.65 1549.52 Q1985.48 1549.52 1983.16 1549.08 Q1980.87 1548.66 1978.42 1547.81 L1978.42 1543.29 Q1980.36 1544.43 1982.68 1545.01 Q1984.99 1545.58 1987.51 1545.58 Q1991.91 1545.58 1994.2 1543.85 Q1996.52 1542.11 1996.52 1538.8 Q1996.52 1535.75 1994.37 1534.03 Q1992.24 1532.3 1988.42 1532.3 L1984.39 1532.3 L1984.39 1528.45 L1988.6 1528.45 Q1992.05 1528.45 1993.88 1527.09 Q1995.71 1525.7 1995.71 1523.11 Q1995.71 1520.45 1993.81 1519.03 Q1991.93 1517.6 1988.42 1517.6 Q1986.5 1517.6 1984.3 1518.01 Q1982.1 1518.43 1979.46 1519.31 L1979.46 1515.14 Q1982.12 1514.4 1984.43 1514.03 Q1986.77 1513.66 1988.83 1513.66 Q1994.16 1513.66 1997.26 1516.09 Q2000.36 1518.5 2000.36 1522.62 Q2000.36 1525.49 1998.72 1527.48 Q1997.07 1529.45 1994.04 1530.21 Z\" fill=\"#000000\" fill-rule=\"evenodd\" fill-opacity=\"1\" /><path clip-path=\"url(#clip390)\" d=\"M2010.04 1542.97 L2014.92 1542.97 L2014.92 1548.85 L2010.04 1548.85 L2010.04 1542.97 Z\" fill=\"#000000\" fill-rule=\"evenodd\" fill-opacity=\"1\" /><path clip-path=\"url(#clip390)\" d=\"M2035.11 1517.37 Q2031.49 1517.37 2029.67 1520.93 Q2027.86 1524.47 2027.86 1531.6 Q2027.86 1538.71 2029.67 1542.27 Q2031.49 1545.82 2035.11 1545.82 Q2038.74 1545.82 2040.55 1542.27 Q2042.37 1538.71 2042.37 1531.6 Q2042.37 1524.47 2040.55 1520.93 Q2038.74 1517.37 2035.11 1517.37 M2035.11 1513.66 Q2040.92 1513.66 2043.97 1518.27 Q2047.05 1522.85 2047.05 1531.6 Q2047.05 1540.33 2043.97 1544.94 Q2040.92 1549.52 2035.11 1549.52 Q2029.3 1549.52 2026.22 1544.94 Q2023.16 1540.33 2023.16 1531.6 Q2023.16 1522.85 2026.22 1518.27 Q2029.3 1513.66 2035.11 1513.66 Z\" fill=\"#000000\" fill-rule=\"evenodd\" fill-opacity=\"1\" /><polyline clip-path=\"url(#clip392)\" style=\"stroke:#000000; stroke-linecap:butt; stroke-linejoin:round; stroke-width:2; stroke-opacity:0.1; fill:none\" points=\"\n",
       "  186.274,1445.72 2352.76,1445.72 \n",
       "  \"/>\n",
       "<polyline clip-path=\"url(#clip392)\" style=\"stroke:#000000; stroke-linecap:butt; stroke-linejoin:round; stroke-width:2; stroke-opacity:0.1; fill:none\" points=\"\n",
       "  186.274,1203.26 2352.76,1203.26 \n",
       "  \"/>\n",
       "<polyline clip-path=\"url(#clip392)\" style=\"stroke:#000000; stroke-linecap:butt; stroke-linejoin:round; stroke-width:2; stroke-opacity:0.1; fill:none\" points=\"\n",
       "  186.274,960.809 2352.76,960.809 \n",
       "  \"/>\n",
       "<polyline clip-path=\"url(#clip392)\" style=\"stroke:#000000; stroke-linecap:butt; stroke-linejoin:round; stroke-width:2; stroke-opacity:0.1; fill:none\" points=\"\n",
       "  186.274,718.355 2352.76,718.355 \n",
       "  \"/>\n",
       "<polyline clip-path=\"url(#clip392)\" style=\"stroke:#000000; stroke-linecap:butt; stroke-linejoin:round; stroke-width:2; stroke-opacity:0.1; fill:none\" points=\"\n",
       "  186.274,475.902 2352.76,475.902 \n",
       "  \"/>\n",
       "<polyline clip-path=\"url(#clip392)\" style=\"stroke:#000000; stroke-linecap:butt; stroke-linejoin:round; stroke-width:2; stroke-opacity:0.1; fill:none\" points=\"\n",
       "  186.274,233.448 2352.76,233.448 \n",
       "  \"/>\n",
       "<polyline clip-path=\"url(#clip390)\" style=\"stroke:#000000; stroke-linecap:butt; stroke-linejoin:round; stroke-width:4; stroke-opacity:1; fill:none\" points=\"\n",
       "  186.274,1486.45 186.274,47.2441 \n",
       "  \"/>\n",
       "<polyline clip-path=\"url(#clip390)\" style=\"stroke:#000000; stroke-linecap:butt; stroke-linejoin:round; stroke-width:4; stroke-opacity:1; fill:none\" points=\"\n",
       "  186.274,1445.72 205.172,1445.72 \n",
       "  \"/>\n",
       "<polyline clip-path=\"url(#clip390)\" style=\"stroke:#000000; stroke-linecap:butt; stroke-linejoin:round; stroke-width:4; stroke-opacity:1; fill:none\" points=\"\n",
       "  186.274,1203.26 205.172,1203.26 \n",
       "  \"/>\n",
       "<polyline clip-path=\"url(#clip390)\" style=\"stroke:#000000; stroke-linecap:butt; stroke-linejoin:round; stroke-width:4; stroke-opacity:1; fill:none\" points=\"\n",
       "  186.274,960.809 205.172,960.809 \n",
       "  \"/>\n",
       "<polyline clip-path=\"url(#clip390)\" style=\"stroke:#000000; stroke-linecap:butt; stroke-linejoin:round; stroke-width:4; stroke-opacity:1; fill:none\" points=\"\n",
       "  186.274,718.355 205.172,718.355 \n",
       "  \"/>\n",
       "<polyline clip-path=\"url(#clip390)\" style=\"stroke:#000000; stroke-linecap:butt; stroke-linejoin:round; stroke-width:4; stroke-opacity:1; fill:none\" points=\"\n",
       "  186.274,475.902 205.172,475.902 \n",
       "  \"/>\n",
       "<polyline clip-path=\"url(#clip390)\" style=\"stroke:#000000; stroke-linecap:butt; stroke-linejoin:round; stroke-width:4; stroke-opacity:1; fill:none\" points=\"\n",
       "  186.274,233.448 205.172,233.448 \n",
       "  \"/>\n",
       "<path clip-path=\"url(#clip390)\" d=\"M62.9365 1431.51 Q59.3254 1431.51 57.4967 1435.08 Q55.6912 1438.62 55.6912 1445.75 Q55.6912 1452.86 57.4967 1456.42 Q59.3254 1459.96 62.9365 1459.96 Q66.5707 1459.96 68.3763 1456.42 Q70.205 1452.86 70.205 1445.75 Q70.205 1438.62 68.3763 1435.08 Q66.5707 1431.51 62.9365 1431.51 M62.9365 1427.81 Q68.7467 1427.81 71.8022 1432.42 Q74.8809 1437 74.8809 1445.75 Q74.8809 1454.48 71.8022 1459.08 Q68.7467 1463.67 62.9365 1463.67 Q57.1264 1463.67 54.0477 1459.08 Q50.9921 1454.48 50.9921 1445.75 Q50.9921 1437 54.0477 1432.42 Q57.1264 1427.81 62.9365 1427.81 Z\" fill=\"#000000\" fill-rule=\"evenodd\" fill-opacity=\"1\" /><path clip-path=\"url(#clip390)\" d=\"M83.0984 1457.12 L87.9827 1457.12 L87.9827 1463 L83.0984 1463 L83.0984 1457.12 Z\" fill=\"#000000\" fill-rule=\"evenodd\" fill-opacity=\"1\" /><path clip-path=\"url(#clip390)\" d=\"M108.168 1431.51 Q104.557 1431.51 102.728 1435.08 Q100.922 1438.62 100.922 1445.75 Q100.922 1452.86 102.728 1456.42 Q104.557 1459.96 108.168 1459.96 Q111.802 1459.96 113.608 1456.42 Q115.436 1452.86 115.436 1445.75 Q115.436 1438.62 113.608 1435.08 Q111.802 1431.51 108.168 1431.51 M108.168 1427.81 Q113.978 1427.81 117.033 1432.42 Q120.112 1437 120.112 1445.75 Q120.112 1454.48 117.033 1459.08 Q113.978 1463.67 108.168 1463.67 Q102.358 1463.67 99.2789 1459.08 Q96.2234 1454.48 96.2234 1445.75 Q96.2234 1437 99.2789 1432.42 Q102.358 1427.81 108.168 1427.81 Z\" fill=\"#000000\" fill-rule=\"evenodd\" fill-opacity=\"1\" /><path clip-path=\"url(#clip390)\" d=\"M138.33 1431.51 Q134.719 1431.51 132.89 1435.08 Q131.084 1438.62 131.084 1445.75 Q131.084 1452.86 132.89 1456.42 Q134.719 1459.96 138.33 1459.96 Q141.964 1459.96 143.769 1456.42 Q145.598 1452.86 145.598 1445.75 Q145.598 1438.62 143.769 1435.08 Q141.964 1431.51 138.33 1431.51 M138.33 1427.81 Q144.14 1427.81 147.195 1432.42 Q150.274 1437 150.274 1445.75 Q150.274 1454.48 147.195 1459.08 Q144.14 1463.67 138.33 1463.67 Q132.519 1463.67 129.441 1459.08 Q126.385 1454.48 126.385 1445.75 Q126.385 1437 129.441 1432.42 Q132.519 1427.81 138.33 1427.81 Z\" fill=\"#000000\" fill-rule=\"evenodd\" fill-opacity=\"1\" /><path clip-path=\"url(#clip390)\" d=\"M63.9319 1189.06 Q60.3208 1189.06 58.4921 1192.63 Q56.6865 1196.17 56.6865 1203.3 Q56.6865 1210.4 58.4921 1213.97 Q60.3208 1217.51 63.9319 1217.51 Q67.5661 1217.51 69.3717 1213.97 Q71.2004 1210.4 71.2004 1203.3 Q71.2004 1196.17 69.3717 1192.63 Q67.5661 1189.06 63.9319 1189.06 M63.9319 1185.36 Q69.742 1185.36 72.7976 1189.96 Q75.8763 1194.55 75.8763 1203.3 Q75.8763 1212.02 72.7976 1216.63 Q69.742 1221.21 63.9319 1221.21 Q58.1217 1221.21 55.043 1216.63 Q51.9875 1212.02 51.9875 1203.3 Q51.9875 1194.55 55.043 1189.96 Q58.1217 1185.36 63.9319 1185.36 Z\" fill=\"#000000\" fill-rule=\"evenodd\" fill-opacity=\"1\" /><path clip-path=\"url(#clip390)\" d=\"M84.0938 1214.66 L88.978 1214.66 L88.978 1220.54 L84.0938 1220.54 L84.0938 1214.66 Z\" fill=\"#000000\" fill-rule=\"evenodd\" fill-opacity=\"1\" /><path clip-path=\"url(#clip390)\" d=\"M103.191 1216.61 L119.51 1216.61 L119.51 1220.54 L97.566 1220.54 L97.566 1216.61 Q100.228 1213.85 104.811 1209.22 Q109.418 1204.57 110.598 1203.23 Q112.844 1200.7 113.723 1198.97 Q114.626 1197.21 114.626 1195.52 Q114.626 1192.76 112.682 1191.03 Q110.76 1189.29 107.658 1189.29 Q105.459 1189.29 103.006 1190.06 Q100.575 1190.82 97.7974 1192.37 L97.7974 1187.65 Q100.621 1186.51 103.075 1185.94 Q105.529 1185.36 107.566 1185.36 Q112.936 1185.36 116.131 1188.04 Q119.325 1190.73 119.325 1195.22 Q119.325 1197.35 118.515 1199.27 Q117.728 1201.17 115.621 1203.76 Q115.043 1204.43 111.941 1207.65 Q108.839 1210.84 103.191 1216.61 Z\" fill=\"#000000\" fill-rule=\"evenodd\" fill-opacity=\"1\" /><path clip-path=\"url(#clip390)\" d=\"M129.371 1185.98 L147.728 1185.98 L147.728 1189.92 L133.654 1189.92 L133.654 1198.39 Q134.672 1198.04 135.691 1197.88 Q136.709 1197.7 137.728 1197.7 Q143.515 1197.7 146.894 1200.87 Q150.274 1204.04 150.274 1209.45 Q150.274 1215.03 146.802 1218.13 Q143.33 1221.21 137.01 1221.21 Q134.834 1221.21 132.566 1220.84 Q130.32 1220.47 127.913 1219.73 L127.913 1215.03 Q129.996 1216.17 132.219 1216.72 Q134.441 1217.28 136.918 1217.28 Q140.922 1217.28 143.26 1215.17 Q145.598 1213.07 145.598 1209.45 Q145.598 1205.84 143.26 1203.74 Q140.922 1201.63 136.918 1201.63 Q135.043 1201.63 133.168 1202.05 Q131.316 1202.46 129.371 1203.34 L129.371 1185.98 Z\" fill=\"#000000\" fill-rule=\"evenodd\" fill-opacity=\"1\" /><path clip-path=\"url(#clip390)\" d=\"M62.9365 946.607 Q59.3254 946.607 57.4967 950.172 Q55.6912 953.714 55.6912 960.843 Q55.6912 967.95 57.4967 971.515 Q59.3254 975.056 62.9365 975.056 Q66.5707 975.056 68.3763 971.515 Q70.205 967.95 70.205 960.843 Q70.205 953.714 68.3763 950.172 Q66.5707 946.607 62.9365 946.607 M62.9365 942.904 Q68.7467 942.904 71.8022 947.51 Q74.8809 952.094 74.8809 960.843 Q74.8809 969.57 71.8022 974.177 Q68.7467 978.76 62.9365 978.76 Q57.1264 978.76 54.0477 974.177 Q50.9921 969.57 50.9921 960.843 Q50.9921 952.094 54.0477 947.51 Q57.1264 942.904 62.9365 942.904 Z\" fill=\"#000000\" fill-rule=\"evenodd\" fill-opacity=\"1\" /><path clip-path=\"url(#clip390)\" d=\"M83.0984 972.209 L87.9827 972.209 L87.9827 978.089 L83.0984 978.089 L83.0984 972.209 Z\" fill=\"#000000\" fill-rule=\"evenodd\" fill-opacity=\"1\" /><path clip-path=\"url(#clip390)\" d=\"M98.2141 943.529 L116.57 943.529 L116.57 947.464 L102.496 947.464 L102.496 955.936 Q103.515 955.589 104.534 955.427 Q105.552 955.242 106.571 955.242 Q112.358 955.242 115.737 958.413 Q119.117 961.584 119.117 967.001 Q119.117 972.58 115.645 975.681 Q112.172 978.76 105.853 978.76 Q103.677 978.76 101.409 978.39 Q99.1632 978.019 96.7558 977.279 L96.7558 972.58 Q98.8391 973.714 101.061 974.269 Q103.284 974.825 105.76 974.825 Q109.765 974.825 112.103 972.718 Q114.441 970.612 114.441 967.001 Q114.441 963.39 112.103 961.283 Q109.765 959.177 105.76 959.177 Q103.885 959.177 102.01 959.593 Q100.159 960.01 98.2141 960.89 L98.2141 943.529 Z\" fill=\"#000000\" fill-rule=\"evenodd\" fill-opacity=\"1\" /><path clip-path=\"url(#clip390)\" d=\"M138.33 946.607 Q134.719 946.607 132.89 950.172 Q131.084 953.714 131.084 960.843 Q131.084 967.95 132.89 971.515 Q134.719 975.056 138.33 975.056 Q141.964 975.056 143.769 971.515 Q145.598 967.95 145.598 960.843 Q145.598 953.714 143.769 950.172 Q141.964 946.607 138.33 946.607 M138.33 942.904 Q144.14 942.904 147.195 947.51 Q150.274 952.094 150.274 960.843 Q150.274 969.57 147.195 974.177 Q144.14 978.76 138.33 978.76 Q132.519 978.76 129.441 974.177 Q126.385 969.57 126.385 960.843 Q126.385 952.094 129.441 947.51 Q132.519 942.904 138.33 942.904 Z\" fill=\"#000000\" fill-rule=\"evenodd\" fill-opacity=\"1\" /><path clip-path=\"url(#clip390)\" d=\"M63.9319 704.154 Q60.3208 704.154 58.4921 707.719 Q56.6865 711.26 56.6865 718.39 Q56.6865 725.496 58.4921 729.061 Q60.3208 732.603 63.9319 732.603 Q67.5661 732.603 69.3717 729.061 Q71.2004 725.496 71.2004 718.39 Q71.2004 711.26 69.3717 707.719 Q67.5661 704.154 63.9319 704.154 M63.9319 700.45 Q69.742 700.45 72.7976 705.057 Q75.8763 709.64 75.8763 718.39 Q75.8763 727.117 72.7976 731.723 Q69.742 736.307 63.9319 736.307 Q58.1217 736.307 55.043 731.723 Q51.9875 727.117 51.9875 718.39 Q51.9875 709.64 55.043 705.057 Q58.1217 700.45 63.9319 700.45 Z\" fill=\"#000000\" fill-rule=\"evenodd\" fill-opacity=\"1\" /><path clip-path=\"url(#clip390)\" d=\"M84.0938 729.756 L88.978 729.756 L88.978 735.635 L84.0938 735.635 L84.0938 729.756 Z\" fill=\"#000000\" fill-rule=\"evenodd\" fill-opacity=\"1\" /><path clip-path=\"url(#clip390)\" d=\"M97.9826 701.075 L120.205 701.075 L120.205 703.066 L107.658 735.635 L102.774 735.635 L114.58 705.01 L97.9826 705.01 L97.9826 701.075 Z\" fill=\"#000000\" fill-rule=\"evenodd\" fill-opacity=\"1\" /><path clip-path=\"url(#clip390)\" d=\"M129.371 701.075 L147.728 701.075 L147.728 705.01 L133.654 705.01 L133.654 713.483 Q134.672 713.135 135.691 712.973 Q136.709 712.788 137.728 712.788 Q143.515 712.788 146.894 715.959 Q150.274 719.131 150.274 724.547 Q150.274 730.126 146.802 733.228 Q143.33 736.307 137.01 736.307 Q134.834 736.307 132.566 735.936 Q130.32 735.566 127.913 734.825 L127.913 730.126 Q129.996 731.26 132.219 731.816 Q134.441 732.371 136.918 732.371 Q140.922 732.371 143.26 730.265 Q145.598 728.158 145.598 724.547 Q145.598 720.936 143.26 718.83 Q140.922 716.723 136.918 716.723 Q135.043 716.723 133.168 717.14 Q131.316 717.557 129.371 718.436 L129.371 701.075 Z\" fill=\"#000000\" fill-rule=\"evenodd\" fill-opacity=\"1\" /><path clip-path=\"url(#clip390)\" d=\"M53.7467 489.247 L61.3856 489.247 L61.3856 462.881 L53.0754 464.548 L53.0754 460.288 L61.3393 458.622 L66.0152 458.622 L66.0152 489.247 L73.654 489.247 L73.654 493.182 L53.7467 493.182 L53.7467 489.247 Z\" fill=\"#000000\" fill-rule=\"evenodd\" fill-opacity=\"1\" /><path clip-path=\"url(#clip390)\" d=\"M83.0984 487.302 L87.9827 487.302 L87.9827 493.182 L83.0984 493.182 L83.0984 487.302 Z\" fill=\"#000000\" fill-rule=\"evenodd\" fill-opacity=\"1\" /><path clip-path=\"url(#clip390)\" d=\"M108.168 461.701 Q104.557 461.701 102.728 465.265 Q100.922 468.807 100.922 475.937 Q100.922 483.043 102.728 486.608 Q104.557 490.149 108.168 490.149 Q111.802 490.149 113.608 486.608 Q115.436 483.043 115.436 475.937 Q115.436 468.807 113.608 465.265 Q111.802 461.701 108.168 461.701 M108.168 457.997 Q113.978 457.997 117.033 462.603 Q120.112 467.187 120.112 475.937 Q120.112 484.663 117.033 489.27 Q113.978 493.853 108.168 493.853 Q102.358 493.853 99.2789 489.27 Q96.2234 484.663 96.2234 475.937 Q96.2234 467.187 99.2789 462.603 Q102.358 457.997 108.168 457.997 Z\" fill=\"#000000\" fill-rule=\"evenodd\" fill-opacity=\"1\" /><path clip-path=\"url(#clip390)\" d=\"M138.33 461.701 Q134.719 461.701 132.89 465.265 Q131.084 468.807 131.084 475.937 Q131.084 483.043 132.89 486.608 Q134.719 490.149 138.33 490.149 Q141.964 490.149 143.769 486.608 Q145.598 483.043 145.598 475.937 Q145.598 468.807 143.769 465.265 Q141.964 461.701 138.33 461.701 M138.33 457.997 Q144.14 457.997 147.195 462.603 Q150.274 467.187 150.274 475.937 Q150.274 484.663 147.195 489.27 Q144.14 493.853 138.33 493.853 Q132.519 493.853 129.441 489.27 Q126.385 484.663 126.385 475.937 Q126.385 467.187 129.441 462.603 Q132.519 457.997 138.33 457.997 Z\" fill=\"#000000\" fill-rule=\"evenodd\" fill-opacity=\"1\" /><path clip-path=\"url(#clip390)\" d=\"M54.7421 246.793 L62.381 246.793 L62.381 220.428 L54.0708 222.094 L54.0708 217.835 L62.3347 216.168 L67.0106 216.168 L67.0106 246.793 L74.6494 246.793 L74.6494 250.728 L54.7421 250.728 L54.7421 246.793 Z\" fill=\"#000000\" fill-rule=\"evenodd\" fill-opacity=\"1\" /><path clip-path=\"url(#clip390)\" d=\"M84.0938 244.849 L88.978 244.849 L88.978 250.728 L84.0938 250.728 L84.0938 244.849 Z\" fill=\"#000000\" fill-rule=\"evenodd\" fill-opacity=\"1\" /><path clip-path=\"url(#clip390)\" d=\"M103.191 246.793 L119.51 246.793 L119.51 250.728 L97.566 250.728 L97.566 246.793 Q100.228 244.039 104.811 239.409 Q109.418 234.756 110.598 233.414 Q112.844 230.891 113.723 229.154 Q114.626 227.395 114.626 225.705 Q114.626 222.951 112.682 221.215 Q110.76 219.479 107.658 219.479 Q105.459 219.479 103.006 220.242 Q100.575 221.006 97.7974 222.557 L97.7974 217.835 Q100.621 216.701 103.075 216.122 Q105.529 215.543 107.566 215.543 Q112.936 215.543 116.131 218.229 Q119.325 220.914 119.325 225.404 Q119.325 227.534 118.515 229.455 Q117.728 231.353 115.621 233.946 Q115.043 234.617 111.941 237.835 Q108.839 241.029 103.191 246.793 Z\" fill=\"#000000\" fill-rule=\"evenodd\" fill-opacity=\"1\" /><path clip-path=\"url(#clip390)\" d=\"M129.371 216.168 L147.728 216.168 L147.728 220.104 L133.654 220.104 L133.654 228.576 Q134.672 228.228 135.691 228.066 Q136.709 227.881 137.728 227.881 Q143.515 227.881 146.894 231.053 Q150.274 234.224 150.274 239.64 Q150.274 245.219 146.802 248.321 Q143.33 251.4 137.01 251.4 Q134.834 251.4 132.566 251.029 Q130.32 250.659 127.913 249.918 L127.913 245.219 Q129.996 246.353 132.219 246.909 Q134.441 247.464 136.918 247.464 Q140.922 247.464 143.26 245.358 Q145.598 243.252 145.598 239.64 Q145.598 236.029 143.26 233.923 Q140.922 231.816 136.918 231.816 Q135.043 231.816 133.168 232.233 Q131.316 232.65 129.371 233.529 L129.371 216.168 Z\" fill=\"#000000\" fill-rule=\"evenodd\" fill-opacity=\"1\" /><path clip-path=\"url(#clip392)\" d=\"\n",
       "M1269.51 1057.79 L2291.44 475.902 L1269.51 87.9763 L247.59 475.902 L1269.51 1057.79 L1269.51 1445.72 L247.59 1445.72 L1269.51 1445.72 L2291.44 1445.72 L1269.51 1445.72 \n",
       "   Z\n",
       "  \" fill=\"#009af9\" fill-rule=\"evenodd\" fill-opacity=\"1\"/>\n",
       "<polyline clip-path=\"url(#clip392)\" style=\"stroke:#009af9; stroke-linecap:butt; stroke-linejoin:round; stroke-width:4; stroke-opacity:1; fill:none\" points=\"\n",
       "  1269.51,1057.79 2291.44,475.902 1269.51,87.9763 247.59,475.902 1269.51,1057.79 \n",
       "  \"/>\n",
       "</svg>\n"
      ]
     },
     "execution_count": 43,
     "metadata": {},
     "output_type": "execute_result"
    }
   ],
   "source": [
    "P.plot()"
   ]
  },
  {
   "cell_type": "code",
   "execution_count": 45,
   "metadata": {},
   "outputs": [
    {
     "data": {
      "text/plain": [
       "10"
      ]
     },
     "execution_count": 45,
     "metadata": {},
     "output_type": "execute_result"
    }
   ],
   "source": [
    "length(R.vertices)"
   ]
  },
  {
   "cell_type": "code",
   "execution_count": null,
   "metadata": {},
   "outputs": [],
   "source": []
  }
 ],
 "metadata": {
  "@webio": {
   "lastCommId": null,
   "lastKernelId": null
  },
  "kernelspec": {
   "display_name": "Julia 1.7.2",
   "language": "julia",
   "name": "julia-1.7"
  },
  "language_info": {
   "file_extension": ".jl",
   "mimetype": "application/julia",
   "name": "julia",
   "version": "1.7.2"
  }
 },
 "nbformat": 4,
 "nbformat_minor": 4
}
