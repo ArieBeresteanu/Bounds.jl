{
 "cells": [
  {
   "cell_type": "markdown",
   "metadata": {},
   "source": [
    "# Testing setBLP.jl"
   ]
  },
  {
   "cell_type": "markdown",
   "metadata": {},
   "source": [
    "## Packages"
   ]
  },
  {
   "cell_type": "code",
   "execution_count": 1,
   "metadata": {},
   "outputs": [],
   "source": [
    "import LinearAlgebra ,Base"
   ]
  },
  {
   "cell_type": "code",
   "execution_count": 2,
   "metadata": {},
   "outputs": [],
   "source": [
    "using Plots"
   ]
  },
  {
   "cell_type": "markdown",
   "metadata": {},
   "source": [
    "## Structures and related functions"
   ]
  },
  {
   "cell_type": "markdown",
   "metadata": {},
   "source": [
    "#### Vertex"
   ]
  },
  {
   "cell_type": "code",
   "execution_count": 3,
   "metadata": {},
   "outputs": [],
   "source": [
    "mutable struct Vertex\n",
    "    v::Vector{Real}\n",
    "end"
   ]
  },
  {
   "cell_type": "code",
   "execution_count": null,
   "metadata": {},
   "outputs": [],
   "source": [
    "function subVertex(v1::Vertex,v2::Vertex)\n",
    "    return  Vertex(v1.v-v2.v)\n",
    "end\n",
    "\n",
    "Base.:(-)(v1::Vertex,v2::Vertex) = Vertex(v1.v-v2.v)\n",
    "\n",
    "function addVertex(v1::Vertex,v2::Vertex)\n",
    "    return Vertex(v1.v+v2.v)\n",
    "end\n",
    "\n",
    "Base.:(+)(v1::Vertex,v2::Vertex) = Vertex(v1.v+v2.v)"
   ]
  },
  {
   "cell_type": "code",
   "execution_count": 8,
   "metadata": {},
   "outputs": [
    {
     "data": {
      "text/plain": [
       "xangle (generic function with 2 methods)"
      ]
     },
     "execution_count": 8,
     "metadata": {},
     "output_type": "execute_result"
    }
   ],
   "source": [
    "function xangle(p1::Vertex,p2::Vertex)\n",
    "    Δ = (p2-p1).v\n",
    "    flag=false\n",
    "    if Δ[2] < 0\n",
    "        Δ[2] = -Δ[2]\n",
    "        flag = true\n",
    "    end\n",
    "    xang =atan(Δ[2],abs(Δ[1]))\n",
    "    if Δ[1]<0\n",
    "        xang = pi-xang\n",
    "    end\n",
    "    if flag\n",
    "        xang=2*pi-xang\n",
    "    end\n",
    "    return xang\n",
    "\n",
    "end"
   ]
  },
  {
   "cell_type": "code",
   "execution_count": 9,
   "metadata": {},
   "outputs": [
    {
     "data": {
      "text/plain": [
       "fetchY (generic function with 1 method)"
      ]
     },
     "execution_count": 9,
     "metadata": {},
     "output_type": "execute_result"
    }
   ],
   "source": [
    "function fetchY(ver::Vertex)\n",
    "    return ver.v[2]\n",
    "end\n",
    "\n",
    "function fetchX(ver::Vertex)\n",
    "    return ver.v[1]\n",
    "end"
   ]
  },
  {
   "cell_type": "markdown",
   "metadata": {},
   "source": [
    "#### Segment"
   ]
  },
  {
   "cell_type": "code",
   "execution_count": 4,
   "metadata": {},
   "outputs": [],
   "source": [
    "mutable struct Segment\n",
    "    p1::Vertex\n",
    "    p2::Vertex\n",
    "    checkInput::Function\n",
    "    length::Function\n",
    "    dim::Function\n",
    "\n",
    "    \n",
    "    function Segment(p1,p2)\n",
    "        this = new()\n",
    "\n",
    "        this.p1 = p1\n",
    "        this.p2 = p2\n",
    "\n",
    "        this.checkInput = function()\n",
    "            return size(this.p1) == size(this.p2)       \n",
    "        end\n",
    "\n",
    "        this.length = function()\n",
    "            return norm(this.p1-this.p2)\n",
    "        end\n",
    "\n",
    "        this.dim = function()\n",
    "            if this.checkInput()\n",
    "                return length(this.p1)\n",
    "            else\n",
    "                return false\n",
    "            end\n",
    "        end\n",
    "\n",
    "        return this        \n",
    "    end\n",
    "end\n"
   ]
  },
  {
   "cell_type": "code",
   "execution_count": 6,
   "metadata": {},
   "outputs": [
    {
     "data": {
      "text/plain": [
       "dotDist (generic function with 1 method)"
      ]
     },
     "execution_count": 6,
     "metadata": {},
     "output_type": "execute_result"
    }
   ],
   "source": [
    "\n",
    "function dotDist(p::Vector{<:Real}, segment::Segment) \n",
    "    if segment.checkInput()\n",
    "        if length(p) == segment.dim()\n",
    "            p1_p2 = segment.p1 -segment.p2\n",
    "            p_p2 = p -segment.p2\n",
    "\n",
    "            λ = dot(p1_p2,p_p2)/dot(p1_p2,p1_p2)\n",
    "            λ = max(min(λ,1),0)\n",
    "\n",
    "            p0 = λ*segment.p1 + (1-λ)*segment.p2 \n",
    "\n",
    "            return norm(p-p0)\n",
    "        else\n",
    "            return \"dimention of p doesnt match dimention of segment\"\n",
    "        end\n",
    "    else\n",
    "        return \"Segment has wrong dimentions\"\n",
    "    end\n",
    "end\n"
   ]
  },
  {
   "cell_type": "code",
   "execution_count": 7,
   "metadata": {},
   "outputs": [
    {
     "data": {
      "text/plain": [
       "xangle (generic function with 1 method)"
      ]
     },
     "execution_count": 7,
     "metadata": {},
     "output_type": "execute_result"
    }
   ],
   "source": [
    "function xangle(seg::Segment)\n",
    "    Δ = seg.p2-seg.p1\n",
    "    flag=false\n",
    "    if Δ[2] < 0\n",
    "        Δ[2] = -Δ[2]\n",
    "        flag = true\n",
    "    end\n",
    "    xang =atan(Δ[2],abs(Δ[1]))\n",
    "    if Δ[1]<0\n",
    "        xang = pi-xang\n",
    "    end\n",
    "    if flag\n",
    "        xang=2*pi-xang\n",
    "    end\n",
    "    return xang\n",
    "\n",
    "end"
   ]
  },
  {
   "cell_type": "markdown",
   "metadata": {},
   "source": [
    "#### Polygon"
   ]
  },
  {
   "cell_type": "code",
   "execution_count": 5,
   "metadata": {},
   "outputs": [],
   "source": [
    "mutable struct Polygon\n",
    "    vertices :: Vector{Vertex}\n",
    "    sort :: Function\n",
    "\n",
    "    function Polygon(vertices)\n",
    "        this = new()\n",
    "\n",
    "        this.vertices=vertices\n",
    "        this.sort = function()\n",
    "            n=length(this.vertices)\n",
    "            #step 1: find the point with a minimal y coordinate and put it first.\n",
    "            # comment: sorting is complexity nlog(n) but the following is just n\n",
    "            #using sorting:\n",
    "            #I = sortperm(fetchY.(this.vertices))\n",
    "            #this.vertices = this.vertices[I]\n",
    "            #going over the list\n",
    "            m=fetchY(this.vertices[1])\n",
    "            for i=2:n\n",
    "                l=fetchY(this.vertices[i])\n",
    "                if l<m #then swap\n",
    "                    m=l\n",
    "                    temp=this.vertices[i]\n",
    "                    this.vertices[i]=this.vertices[1]\n",
    "                    this.vertices[1]=temp\n",
    "                end\n",
    "            end\n",
    "            #step 2: compute angles between the minimal vertex and all other vertices\n",
    "            angs =zeros(n)\n",
    "            angs[1]=-1\n",
    "            v1 =this.vertices[1]\n",
    "            for i=2:n\n",
    "                angs[i] = xangle(v1,this.vertices[i])\n",
    "            end\n",
    "            #step 3: sort by angle\n",
    "            I=sortperm(angs)\n",
    "            this.vertices=this.vertices[I]   \n",
    "        end\n",
    "        return this\n",
    "    end\n",
    "end"
   ]
  },
  {
   "cell_type": "code",
   "execution_count": null,
   "metadata": {},
   "outputs": [],
   "source": [
    "function minkowskiSum(P::Polygon,Q::Polygon)\n",
    "    # Computes the minkowski sum of two convex polygons: P and Q. The polygons\n",
    "    # are represented by their vertices and are ordered counter clockwise such\n",
    "    #* that the first vertex will be the one who has the smallest Y coordinate\n",
    "    # (and smallest X coordinate in case of a tie).  This assumption is maintained\n",
    "    # in twoDproj by conditions in BLPcalculator.\n",
    "    \n",
    "    m = length(P.vertices)\n",
    "    n = length(Q.vertices)\n",
    "    \n",
    "    # It is important that the P polygon will end with the largest angle and \n",
    "    # not the Q polygon. That means that we need to look at the last vertex of P and\n",
    "    # the last vertex of Q and compare the angle that each creates with the \n",
    "    # first vertex of the corresponding polygon. These angles are denoted as\n",
    "    # angP and angQ. If angP < angQ then we need to switch the order.\n",
    "    \n",
    "    local tol=1e-10\n",
    "    angP = xangle(P.vertices[1],P.vertices[m])\n",
    "    angQ = xangle(Q.vertices[1],Q.vertices[m]) \n",
    "    \n",
    "end\n",
    "\n",
    "#Base.:(+)(P::Polygon,Q::Polygon) = minkowskiSum(P,Q)"
   ]
  },
  {
   "cell_type": "markdown",
   "metadata": {},
   "source": [
    "## Testing"
   ]
  },
  {
   "cell_type": "code",
   "execution_count": 10,
   "metadata": {},
   "outputs": [
    {
     "data": {
      "text/plain": [
       "Polygon(Vertex[Vertex(Real[-0.5, 0.6]), Vertex(Real[1, 0]), Vertex(Real[2, 2]), Vertex(Real[0, 0])], var\"#7#8\"{Polygon}(Polygon(#= circular reference @-2 =#)))"
      ]
     },
     "execution_count": 10,
     "metadata": {},
     "output_type": "execute_result"
    }
   ],
   "source": [
    "v4=Vertex([0,0])\n",
    "v2=Vertex([1,0])\n",
    "v3=Vertex([2,2])\n",
    "v1=Vertex([-0.5,0.6])\n",
    "pol = Polygon([v1,v2,v3,v4])"
   ]
  },
  {
   "cell_type": "code",
   "execution_count": 11,
   "metadata": {},
   "outputs": [],
   "source": [
    "pol.sort();"
   ]
  },
  {
   "cell_type": "code",
   "execution_count": 12,
   "metadata": {},
   "outputs": [
    {
     "data": {
      "text/plain": [
       "4"
      ]
     },
     "execution_count": 12,
     "metadata": {},
     "output_type": "execute_result"
    }
   ],
   "source": [
    "n=length(pol.vertices)"
   ]
  },
  {
   "cell_type": "code",
   "execution_count": 13,
   "metadata": {},
   "outputs": [
    {
     "data": {
      "text/plain": [
       "0"
      ]
     },
     "execution_count": 13,
     "metadata": {},
     "output_type": "execute_result"
    }
   ],
   "source": [
    "x=zeros(n+1); y=zeros(n+1);\n",
    "for i=1:n\n",
    "    x[i]=pol.vertices[i].v[1]\n",
    "    y[i]=pol.vertices[i].v[2]\n",
    "end\n",
    "x[n+1]=pol.vertices[1].v[1]\n",
    "y[n+1]=pol.vertices[1].v[2]"
   ]
  },
  {
   "cell_type": "code",
   "execution_count": 14,
   "metadata": {},
   "outputs": [
    {
     "data": {
      "image/svg+xml": [
       "<?xml version=\"1.0\" encoding=\"utf-8\"?>\n",
       "<svg xmlns=\"http://www.w3.org/2000/svg\" xmlns:xlink=\"http://www.w3.org/1999/xlink\" width=\"600\" height=\"400\" viewBox=\"0 0 2400 1600\">\n",
       "<defs>\n",
       "  <clipPath id=\"clip350\">\n",
       "    <rect x=\"0\" y=\"0\" width=\"2400\" height=\"1600\"/>\n",
       "  </clipPath>\n",
       "</defs>\n",
       "<path clip-path=\"url(#clip350)\" d=\"\n",
       "M0 1600 L2400 1600 L2400 0 L0 0  Z\n",
       "  \" fill=\"#ffffff\" fill-rule=\"evenodd\" fill-opacity=\"1\"/>\n",
       "<defs>\n",
       "  <clipPath id=\"clip351\">\n",
       "    <rect x=\"480\" y=\"0\" width=\"1681\" height=\"1600\"/>\n",
       "  </clipPath>\n",
       "</defs>\n",
       "<path clip-path=\"url(#clip350)\" d=\"\n",
       "M156.112 1486.45 L2352.76 1486.45 L2352.76 47.2441 L156.112 47.2441  Z\n",
       "  \" fill=\"#ffffff\" fill-rule=\"evenodd\" fill-opacity=\"1\"/>\n",
       "<defs>\n",
       "  <clipPath id=\"clip352\">\n",
       "    <rect x=\"156\" y=\"47\" width=\"2198\" height=\"1440\"/>\n",
       "  </clipPath>\n",
       "</defs>\n",
       "<polyline clip-path=\"url(#clip352)\" style=\"stroke:#000000; stroke-linecap:butt; stroke-linejoin:round; stroke-width:2; stroke-opacity:0.1; fill:none\" points=\"\n",
       "  218.281,1486.45 218.281,47.2441 \n",
       "  \"/>\n",
       "<polyline clip-path=\"url(#clip352)\" style=\"stroke:#000000; stroke-linecap:butt; stroke-linejoin:round; stroke-width:2; stroke-opacity:0.1; fill:none\" points=\"\n",
       "  632.742,1486.45 632.742,47.2441 \n",
       "  \"/>\n",
       "<polyline clip-path=\"url(#clip352)\" style=\"stroke:#000000; stroke-linecap:butt; stroke-linejoin:round; stroke-width:2; stroke-opacity:0.1; fill:none\" points=\"\n",
       "  1047.2,1486.45 1047.2,47.2441 \n",
       "  \"/>\n",
       "<polyline clip-path=\"url(#clip352)\" style=\"stroke:#000000; stroke-linecap:butt; stroke-linejoin:round; stroke-width:2; stroke-opacity:0.1; fill:none\" points=\"\n",
       "  1461.66,1486.45 1461.66,47.2441 \n",
       "  \"/>\n",
       "<polyline clip-path=\"url(#clip352)\" style=\"stroke:#000000; stroke-linecap:butt; stroke-linejoin:round; stroke-width:2; stroke-opacity:0.1; fill:none\" points=\"\n",
       "  1876.13,1486.45 1876.13,47.2441 \n",
       "  \"/>\n",
       "<polyline clip-path=\"url(#clip352)\" style=\"stroke:#000000; stroke-linecap:butt; stroke-linejoin:round; stroke-width:2; stroke-opacity:0.1; fill:none\" points=\"\n",
       "  2290.59,1486.45 2290.59,47.2441 \n",
       "  \"/>\n",
       "<polyline clip-path=\"url(#clip350)\" style=\"stroke:#000000; stroke-linecap:butt; stroke-linejoin:round; stroke-width:4; stroke-opacity:1; fill:none\" points=\"\n",
       "  156.112,1486.45 2352.76,1486.45 \n",
       "  \"/>\n",
       "<polyline clip-path=\"url(#clip350)\" style=\"stroke:#000000; stroke-linecap:butt; stroke-linejoin:round; stroke-width:4; stroke-opacity:1; fill:none\" points=\"\n",
       "  218.281,1486.45 218.281,1467.55 \n",
       "  \"/>\n",
       "<polyline clip-path=\"url(#clip350)\" style=\"stroke:#000000; stroke-linecap:butt; stroke-linejoin:round; stroke-width:4; stroke-opacity:1; fill:none\" points=\"\n",
       "  632.742,1486.45 632.742,1467.55 \n",
       "  \"/>\n",
       "<polyline clip-path=\"url(#clip350)\" style=\"stroke:#000000; stroke-linecap:butt; stroke-linejoin:round; stroke-width:4; stroke-opacity:1; fill:none\" points=\"\n",
       "  1047.2,1486.45 1047.2,1467.55 \n",
       "  \"/>\n",
       "<polyline clip-path=\"url(#clip350)\" style=\"stroke:#000000; stroke-linecap:butt; stroke-linejoin:round; stroke-width:4; stroke-opacity:1; fill:none\" points=\"\n",
       "  1461.66,1486.45 1461.66,1467.55 \n",
       "  \"/>\n",
       "<polyline clip-path=\"url(#clip350)\" style=\"stroke:#000000; stroke-linecap:butt; stroke-linejoin:round; stroke-width:4; stroke-opacity:1; fill:none\" points=\"\n",
       "  1876.13,1486.45 1876.13,1467.55 \n",
       "  \"/>\n",
       "<polyline clip-path=\"url(#clip350)\" style=\"stroke:#000000; stroke-linecap:butt; stroke-linejoin:round; stroke-width:4; stroke-opacity:1; fill:none\" points=\"\n",
       "  2290.59,1486.45 2290.59,1467.55 \n",
       "  \"/>\n",
       "<path clip-path=\"url(#clip350)\" d=\"M165.307 1532.02 L194.983 1532.02 L194.983 1535.95 L165.307 1535.95 L165.307 1532.02 Z\" fill=\"#000000\" fill-rule=\"evenodd\" fill-opacity=\"1\" /><path clip-path=\"url(#clip350)\" d=\"M215.075 1517.37 Q211.464 1517.37 209.636 1520.93 Q207.83 1524.47 207.83 1531.6 Q207.83 1538.71 209.636 1542.27 Q211.464 1545.82 215.075 1545.82 Q218.71 1545.82 220.515 1542.27 Q222.344 1538.71 222.344 1531.6 Q222.344 1524.47 220.515 1520.93 Q218.71 1517.37 215.075 1517.37 M215.075 1513.66 Q220.885 1513.66 223.941 1518.27 Q227.02 1522.85 227.02 1531.6 Q227.02 1540.33 223.941 1544.94 Q220.885 1549.52 215.075 1549.52 Q209.265 1549.52 206.186 1544.94 Q203.131 1540.33 203.131 1531.6 Q203.131 1522.85 206.186 1518.27 Q209.265 1513.66 215.075 1513.66 Z\" fill=\"#000000\" fill-rule=\"evenodd\" fill-opacity=\"1\" /><path clip-path=\"url(#clip350)\" d=\"M235.237 1542.97 L240.121 1542.97 L240.121 1548.85 L235.237 1548.85 L235.237 1542.97 Z\" fill=\"#000000\" fill-rule=\"evenodd\" fill-opacity=\"1\" /><path clip-path=\"url(#clip350)\" d=\"M250.353 1514.29 L268.709 1514.29 L268.709 1518.22 L254.635 1518.22 L254.635 1526.7 Q255.654 1526.35 256.672 1526.19 Q257.691 1526 258.709 1526 Q264.496 1526 267.876 1529.17 Q271.256 1532.34 271.256 1537.76 Q271.256 1543.34 267.783 1546.44 Q264.311 1549.52 257.992 1549.52 Q255.816 1549.52 253.547 1549.15 Q251.302 1548.78 248.895 1548.04 L248.895 1543.34 Q250.978 1544.47 253.2 1545.03 Q255.422 1545.58 257.899 1545.58 Q261.904 1545.58 264.242 1543.48 Q266.58 1541.37 266.58 1537.76 Q266.58 1534.15 264.242 1532.04 Q261.904 1529.94 257.899 1529.94 Q256.024 1529.94 254.149 1530.35 Q252.297 1530.77 250.353 1531.65 L250.353 1514.29 Z\" fill=\"#000000\" fill-rule=\"evenodd\" fill-opacity=\"1\" /><path clip-path=\"url(#clip350)\" d=\"M610.127 1517.37 Q606.516 1517.37 604.687 1520.93 Q602.881 1524.47 602.881 1531.6 Q602.881 1538.71 604.687 1542.27 Q606.516 1545.82 610.127 1545.82 Q613.761 1545.82 615.567 1542.27 Q617.395 1538.71 617.395 1531.6 Q617.395 1524.47 615.567 1520.93 Q613.761 1517.37 610.127 1517.37 M610.127 1513.66 Q615.937 1513.66 618.992 1518.27 Q622.071 1522.85 622.071 1531.6 Q622.071 1540.33 618.992 1544.94 Q615.937 1549.52 610.127 1549.52 Q604.317 1549.52 601.238 1544.94 Q598.182 1540.33 598.182 1531.6 Q598.182 1522.85 601.238 1518.27 Q604.317 1513.66 610.127 1513.66 Z\" fill=\"#000000\" fill-rule=\"evenodd\" fill-opacity=\"1\" /><path clip-path=\"url(#clip350)\" d=\"M630.289 1542.97 L635.173 1542.97 L635.173 1548.85 L630.289 1548.85 L630.289 1542.97 Z\" fill=\"#000000\" fill-rule=\"evenodd\" fill-opacity=\"1\" /><path clip-path=\"url(#clip350)\" d=\"M655.358 1517.37 Q651.747 1517.37 649.918 1520.93 Q648.113 1524.47 648.113 1531.6 Q648.113 1538.71 649.918 1542.27 Q651.747 1545.82 655.358 1545.82 Q658.992 1545.82 660.798 1542.27 Q662.626 1538.71 662.626 1531.6 Q662.626 1524.47 660.798 1520.93 Q658.992 1517.37 655.358 1517.37 M655.358 1513.66 Q661.168 1513.66 664.224 1518.27 Q667.302 1522.85 667.302 1531.6 Q667.302 1540.33 664.224 1544.94 Q661.168 1549.52 655.358 1549.52 Q649.548 1549.52 646.469 1544.94 Q643.414 1540.33 643.414 1531.6 Q643.414 1522.85 646.469 1518.27 Q649.548 1513.66 655.358 1513.66 Z\" fill=\"#000000\" fill-rule=\"evenodd\" fill-opacity=\"1\" /><path clip-path=\"url(#clip350)\" d=\"M1025.09 1517.37 Q1021.47 1517.37 1019.65 1520.93 Q1017.84 1524.47 1017.84 1531.6 Q1017.84 1538.71 1019.65 1542.27 Q1021.47 1545.82 1025.09 1545.82 Q1028.72 1545.82 1030.53 1542.27 Q1032.35 1538.71 1032.35 1531.6 Q1032.35 1524.47 1030.53 1520.93 Q1028.72 1517.37 1025.09 1517.37 M1025.09 1513.66 Q1030.9 1513.66 1033.95 1518.27 Q1037.03 1522.85 1037.03 1531.6 Q1037.03 1540.33 1033.95 1544.94 Q1030.9 1549.52 1025.09 1549.52 Q1019.28 1549.52 1016.2 1544.94 Q1013.14 1540.33 1013.14 1531.6 Q1013.14 1522.85 1016.2 1518.27 Q1019.28 1513.66 1025.09 1513.66 Z\" fill=\"#000000\" fill-rule=\"evenodd\" fill-opacity=\"1\" /><path clip-path=\"url(#clip350)\" d=\"M1045.25 1542.97 L1050.13 1542.97 L1050.13 1548.85 L1045.25 1548.85 L1045.25 1542.97 Z\" fill=\"#000000\" fill-rule=\"evenodd\" fill-opacity=\"1\" /><path clip-path=\"url(#clip350)\" d=\"M1060.36 1514.29 L1078.72 1514.29 L1078.72 1518.22 L1064.65 1518.22 L1064.65 1526.7 Q1065.66 1526.35 1066.68 1526.19 Q1067.7 1526 1068.72 1526 Q1074.51 1526 1077.89 1529.17 Q1081.27 1532.34 1081.27 1537.76 Q1081.27 1543.34 1077.79 1546.44 Q1074.32 1549.52 1068 1549.52 Q1065.83 1549.52 1063.56 1549.15 Q1061.31 1548.78 1058.9 1548.04 L1058.9 1543.34 Q1060.99 1544.47 1063.21 1545.03 Q1065.43 1545.58 1067.91 1545.58 Q1071.91 1545.58 1074.25 1543.48 Q1076.59 1541.37 1076.59 1537.76 Q1076.59 1534.15 1074.25 1532.04 Q1071.91 1529.94 1067.91 1529.94 Q1066.03 1529.94 1064.16 1530.35 Q1062.31 1530.77 1060.36 1531.65 L1060.36 1514.29 Z\" fill=\"#000000\" fill-rule=\"evenodd\" fill-opacity=\"1\" /><path clip-path=\"url(#clip350)\" d=\"M1428.82 1544.91 L1436.46 1544.91 L1436.46 1518.55 L1428.15 1520.21 L1428.15 1515.95 L1436.41 1514.29 L1441.09 1514.29 L1441.09 1544.91 L1448.72 1544.91 L1448.72 1548.85 L1428.82 1548.85 L1428.82 1544.91 Z\" fill=\"#000000\" fill-rule=\"evenodd\" fill-opacity=\"1\" /><path clip-path=\"url(#clip350)\" d=\"M1458.17 1542.97 L1463.05 1542.97 L1463.05 1548.85 L1458.17 1548.85 L1458.17 1542.97 Z\" fill=\"#000000\" fill-rule=\"evenodd\" fill-opacity=\"1\" /><path clip-path=\"url(#clip350)\" d=\"M1483.24 1517.37 Q1479.63 1517.37 1477.8 1520.93 Q1475.99 1524.47 1475.99 1531.6 Q1475.99 1538.71 1477.8 1542.27 Q1479.63 1545.82 1483.24 1545.82 Q1486.87 1545.82 1488.68 1542.27 Q1490.51 1538.71 1490.51 1531.6 Q1490.51 1524.47 1488.68 1520.93 Q1486.87 1517.37 1483.24 1517.37 M1483.24 1513.66 Q1489.05 1513.66 1492.1 1518.27 Q1495.18 1522.85 1495.18 1531.6 Q1495.18 1540.33 1492.1 1544.94 Q1489.05 1549.52 1483.24 1549.52 Q1477.43 1549.52 1474.35 1544.94 Q1471.29 1540.33 1471.29 1531.6 Q1471.29 1522.85 1474.35 1518.27 Q1477.43 1513.66 1483.24 1513.66 Z\" fill=\"#000000\" fill-rule=\"evenodd\" fill-opacity=\"1\" /><path clip-path=\"url(#clip350)\" d=\"M1843.78 1544.91 L1851.42 1544.91 L1851.42 1518.55 L1843.1 1520.21 L1843.1 1515.95 L1851.37 1514.29 L1856.04 1514.29 L1856.04 1544.91 L1863.68 1544.91 L1863.68 1548.85 L1843.78 1548.85 L1843.78 1544.91 Z\" fill=\"#000000\" fill-rule=\"evenodd\" fill-opacity=\"1\" /><path clip-path=\"url(#clip350)\" d=\"M1873.13 1542.97 L1878.01 1542.97 L1878.01 1548.85 L1873.13 1548.85 L1873.13 1542.97 Z\" fill=\"#000000\" fill-rule=\"evenodd\" fill-opacity=\"1\" /><path clip-path=\"url(#clip350)\" d=\"M1888.24 1514.29 L1906.6 1514.29 L1906.6 1518.22 L1892.53 1518.22 L1892.53 1526.7 Q1893.54 1526.35 1894.56 1526.19 Q1895.58 1526 1896.6 1526 Q1902.39 1526 1905.77 1529.17 Q1909.15 1532.34 1909.15 1537.76 Q1909.15 1543.34 1905.67 1546.44 Q1902.2 1549.52 1895.88 1549.52 Q1893.71 1549.52 1891.44 1549.15 Q1889.19 1548.78 1886.79 1548.04 L1886.79 1543.34 Q1888.87 1544.47 1891.09 1545.03 Q1893.31 1545.58 1895.79 1545.58 Q1899.79 1545.58 1902.13 1543.48 Q1904.47 1541.37 1904.47 1537.76 Q1904.47 1534.15 1902.13 1532.04 Q1899.79 1529.94 1895.79 1529.94 Q1893.91 1529.94 1892.04 1530.35 Q1890.19 1530.77 1888.24 1531.65 L1888.24 1514.29 Z\" fill=\"#000000\" fill-rule=\"evenodd\" fill-opacity=\"1\" /><path clip-path=\"url(#clip350)\" d=\"M2261.83 1544.91 L2278.14 1544.91 L2278.14 1548.85 L2256.2 1548.85 L2256.2 1544.91 Q2258.86 1542.16 2263.45 1537.53 Q2268.05 1532.88 2269.23 1531.53 Q2271.48 1529.01 2272.36 1527.27 Q2273.26 1525.51 2273.26 1523.82 Q2273.26 1521.07 2271.32 1519.33 Q2269.39 1517.6 2266.29 1517.6 Q2264.09 1517.6 2261.64 1518.36 Q2259.21 1519.13 2256.43 1520.68 L2256.43 1515.95 Q2259.26 1514.82 2261.71 1514.24 Q2264.16 1513.66 2266.2 1513.66 Q2271.57 1513.66 2274.77 1516.35 Q2277.96 1519.03 2277.96 1523.52 Q2277.96 1525.65 2277.15 1527.57 Q2276.36 1529.47 2274.26 1532.07 Q2273.68 1532.74 2270.58 1535.95 Q2267.47 1539.15 2261.83 1544.91 Z\" fill=\"#000000\" fill-rule=\"evenodd\" fill-opacity=\"1\" /><path clip-path=\"url(#clip350)\" d=\"M2287.96 1542.97 L2292.84 1542.97 L2292.84 1548.85 L2287.96 1548.85 L2287.96 1542.97 Z\" fill=\"#000000\" fill-rule=\"evenodd\" fill-opacity=\"1\" /><path clip-path=\"url(#clip350)\" d=\"M2313.03 1517.37 Q2309.42 1517.37 2307.59 1520.93 Q2305.78 1524.47 2305.78 1531.6 Q2305.78 1538.71 2307.59 1542.27 Q2309.42 1545.82 2313.03 1545.82 Q2316.66 1545.82 2318.47 1542.27 Q2320.3 1538.71 2320.3 1531.6 Q2320.3 1524.47 2318.47 1520.93 Q2316.66 1517.37 2313.03 1517.37 M2313.03 1513.66 Q2318.84 1513.66 2321.89 1518.27 Q2324.97 1522.85 2324.97 1531.6 Q2324.97 1540.33 2321.89 1544.94 Q2318.84 1549.52 2313.03 1549.52 Q2307.22 1549.52 2304.14 1544.94 Q2301.08 1540.33 2301.08 1531.6 Q2301.08 1522.85 2304.14 1518.27 Q2307.22 1513.66 2313.03 1513.66 Z\" fill=\"#000000\" fill-rule=\"evenodd\" fill-opacity=\"1\" /><polyline clip-path=\"url(#clip352)\" style=\"stroke:#000000; stroke-linecap:butt; stroke-linejoin:round; stroke-width:2; stroke-opacity:0.1; fill:none\" points=\"\n",
       "  156.112,1445.72 2352.76,1445.72 \n",
       "  \"/>\n",
       "<polyline clip-path=\"url(#clip352)\" style=\"stroke:#000000; stroke-linecap:butt; stroke-linejoin:round; stroke-width:2; stroke-opacity:0.1; fill:none\" points=\"\n",
       "  156.112,1106.28 2352.76,1106.28 \n",
       "  \"/>\n",
       "<polyline clip-path=\"url(#clip352)\" style=\"stroke:#000000; stroke-linecap:butt; stroke-linejoin:round; stroke-width:2; stroke-opacity:0.1; fill:none\" points=\"\n",
       "  156.112,766.846 2352.76,766.846 \n",
       "  \"/>\n",
       "<polyline clip-path=\"url(#clip352)\" style=\"stroke:#000000; stroke-linecap:butt; stroke-linejoin:round; stroke-width:2; stroke-opacity:0.1; fill:none\" points=\"\n",
       "  156.112,427.411 2352.76,427.411 \n",
       "  \"/>\n",
       "<polyline clip-path=\"url(#clip352)\" style=\"stroke:#000000; stroke-linecap:butt; stroke-linejoin:round; stroke-width:2; stroke-opacity:0.1; fill:none\" points=\"\n",
       "  156.112,87.9763 2352.76,87.9763 \n",
       "  \"/>\n",
       "<polyline clip-path=\"url(#clip350)\" style=\"stroke:#000000; stroke-linecap:butt; stroke-linejoin:round; stroke-width:4; stroke-opacity:1; fill:none\" points=\"\n",
       "  156.112,1486.45 156.112,47.2441 \n",
       "  \"/>\n",
       "<polyline clip-path=\"url(#clip350)\" style=\"stroke:#000000; stroke-linecap:butt; stroke-linejoin:round; stroke-width:4; stroke-opacity:1; fill:none\" points=\"\n",
       "  156.112,1445.72 175.01,1445.72 \n",
       "  \"/>\n",
       "<polyline clip-path=\"url(#clip350)\" style=\"stroke:#000000; stroke-linecap:butt; stroke-linejoin:round; stroke-width:4; stroke-opacity:1; fill:none\" points=\"\n",
       "  156.112,1106.28 175.01,1106.28 \n",
       "  \"/>\n",
       "<polyline clip-path=\"url(#clip350)\" style=\"stroke:#000000; stroke-linecap:butt; stroke-linejoin:round; stroke-width:4; stroke-opacity:1; fill:none\" points=\"\n",
       "  156.112,766.846 175.01,766.846 \n",
       "  \"/>\n",
       "<polyline clip-path=\"url(#clip350)\" style=\"stroke:#000000; stroke-linecap:butt; stroke-linejoin:round; stroke-width:4; stroke-opacity:1; fill:none\" points=\"\n",
       "  156.112,427.411 175.01,427.411 \n",
       "  \"/>\n",
       "<polyline clip-path=\"url(#clip350)\" style=\"stroke:#000000; stroke-linecap:butt; stroke-linejoin:round; stroke-width:4; stroke-opacity:1; fill:none\" points=\"\n",
       "  156.112,87.9763 175.01,87.9763 \n",
       "  \"/>\n",
       "<path clip-path=\"url(#clip350)\" d=\"M62.9365 1431.51 Q59.3254 1431.51 57.4967 1435.08 Q55.6912 1438.62 55.6912 1445.75 Q55.6912 1452.86 57.4967 1456.42 Q59.3254 1459.96 62.9365 1459.96 Q66.5707 1459.96 68.3763 1456.42 Q70.205 1452.86 70.205 1445.75 Q70.205 1438.62 68.3763 1435.08 Q66.5707 1431.51 62.9365 1431.51 M62.9365 1427.81 Q68.7467 1427.81 71.8022 1432.42 Q74.8809 1437 74.8809 1445.75 Q74.8809 1454.48 71.8022 1459.08 Q68.7467 1463.67 62.9365 1463.67 Q57.1264 1463.67 54.0477 1459.08 Q50.9921 1454.48 50.9921 1445.75 Q50.9921 1437 54.0477 1432.42 Q57.1264 1427.81 62.9365 1427.81 Z\" fill=\"#000000\" fill-rule=\"evenodd\" fill-opacity=\"1\" /><path clip-path=\"url(#clip350)\" d=\"M83.0984 1457.12 L87.9827 1457.12 L87.9827 1463 L83.0984 1463 L83.0984 1457.12 Z\" fill=\"#000000\" fill-rule=\"evenodd\" fill-opacity=\"1\" /><path clip-path=\"url(#clip350)\" d=\"M108.168 1431.51 Q104.557 1431.51 102.728 1435.08 Q100.922 1438.62 100.922 1445.75 Q100.922 1452.86 102.728 1456.42 Q104.557 1459.96 108.168 1459.96 Q111.802 1459.96 113.608 1456.42 Q115.436 1452.86 115.436 1445.75 Q115.436 1438.62 113.608 1435.08 Q111.802 1431.51 108.168 1431.51 M108.168 1427.81 Q113.978 1427.81 117.033 1432.42 Q120.112 1437 120.112 1445.75 Q120.112 1454.48 117.033 1459.08 Q113.978 1463.67 108.168 1463.67 Q102.358 1463.67 99.2789 1459.08 Q96.2234 1454.48 96.2234 1445.75 Q96.2234 1437 99.2789 1432.42 Q102.358 1427.81 108.168 1427.81 Z\" fill=\"#000000\" fill-rule=\"evenodd\" fill-opacity=\"1\" /><path clip-path=\"url(#clip350)\" d=\"M63.9319 1092.08 Q60.3208 1092.08 58.4921 1095.64 Q56.6865 1099.19 56.6865 1106.32 Q56.6865 1113.42 58.4921 1116.99 Q60.3208 1120.53 63.9319 1120.53 Q67.5661 1120.53 69.3717 1116.99 Q71.2004 1113.42 71.2004 1106.32 Q71.2004 1099.19 69.3717 1095.64 Q67.5661 1092.08 63.9319 1092.08 M63.9319 1088.38 Q69.742 1088.38 72.7976 1092.98 Q75.8763 1097.57 75.8763 1106.32 Q75.8763 1115.04 72.7976 1119.65 Q69.742 1124.23 63.9319 1124.23 Q58.1217 1124.23 55.043 1119.65 Q51.9875 1115.04 51.9875 1106.32 Q51.9875 1097.57 55.043 1092.98 Q58.1217 1088.38 63.9319 1088.38 Z\" fill=\"#000000\" fill-rule=\"evenodd\" fill-opacity=\"1\" /><path clip-path=\"url(#clip350)\" d=\"M84.0938 1117.68 L88.978 1117.68 L88.978 1123.56 L84.0938 1123.56 L84.0938 1117.68 Z\" fill=\"#000000\" fill-rule=\"evenodd\" fill-opacity=\"1\" /><path clip-path=\"url(#clip350)\" d=\"M99.2095 1089 L117.566 1089 L117.566 1092.94 L103.492 1092.94 L103.492 1101.41 Q104.51 1101.06 105.529 1100.9 Q106.547 1100.71 107.566 1100.71 Q113.353 1100.71 116.733 1103.89 Q120.112 1107.06 120.112 1112.47 Q120.112 1118.05 116.64 1121.15 Q113.168 1124.23 106.848 1124.23 Q104.672 1124.23 102.404 1123.86 Q100.159 1123.49 97.7511 1122.75 L97.7511 1118.05 Q99.8345 1119.19 102.057 1119.74 Q104.279 1120.3 106.756 1120.3 Q110.76 1120.3 113.098 1118.19 Q115.436 1116.08 115.436 1112.47 Q115.436 1108.86 113.098 1106.76 Q110.76 1104.65 106.756 1104.65 Q104.881 1104.65 103.006 1105.07 Q101.154 1105.48 99.2095 1106.36 L99.2095 1089 Z\" fill=\"#000000\" fill-rule=\"evenodd\" fill-opacity=\"1\" /><path clip-path=\"url(#clip350)\" d=\"M53.7467 780.191 L61.3856 780.191 L61.3856 753.825 L53.0754 755.492 L53.0754 751.233 L61.3393 749.566 L66.0152 749.566 L66.0152 780.191 L73.654 780.191 L73.654 784.126 L53.7467 784.126 L53.7467 780.191 Z\" fill=\"#000000\" fill-rule=\"evenodd\" fill-opacity=\"1\" /><path clip-path=\"url(#clip350)\" d=\"M83.0984 778.246 L87.9827 778.246 L87.9827 784.126 L83.0984 784.126 L83.0984 778.246 Z\" fill=\"#000000\" fill-rule=\"evenodd\" fill-opacity=\"1\" /><path clip-path=\"url(#clip350)\" d=\"M108.168 752.645 Q104.557 752.645 102.728 756.209 Q100.922 759.751 100.922 766.881 Q100.922 773.987 102.728 777.552 Q104.557 781.094 108.168 781.094 Q111.802 781.094 113.608 777.552 Q115.436 773.987 115.436 766.881 Q115.436 759.751 113.608 756.209 Q111.802 752.645 108.168 752.645 M108.168 748.941 Q113.978 748.941 117.033 753.547 Q120.112 758.131 120.112 766.881 Q120.112 775.608 117.033 780.214 Q113.978 784.797 108.168 784.797 Q102.358 784.797 99.2789 780.214 Q96.2234 775.608 96.2234 766.881 Q96.2234 758.131 99.2789 753.547 Q102.358 748.941 108.168 748.941 Z\" fill=\"#000000\" fill-rule=\"evenodd\" fill-opacity=\"1\" /><path clip-path=\"url(#clip350)\" d=\"M54.7421 440.756 L62.381 440.756 L62.381 414.39 L54.0708 416.057 L54.0708 411.798 L62.3347 410.131 L67.0106 410.131 L67.0106 440.756 L74.6494 440.756 L74.6494 444.691 L54.7421 444.691 L54.7421 440.756 Z\" fill=\"#000000\" fill-rule=\"evenodd\" fill-opacity=\"1\" /><path clip-path=\"url(#clip350)\" d=\"M84.0938 438.812 L88.978 438.812 L88.978 444.691 L84.0938 444.691 L84.0938 438.812 Z\" fill=\"#000000\" fill-rule=\"evenodd\" fill-opacity=\"1\" /><path clip-path=\"url(#clip350)\" d=\"M99.2095 410.131 L117.566 410.131 L117.566 414.066 L103.492 414.066 L103.492 422.538 Q104.51 422.191 105.529 422.029 Q106.547 421.844 107.566 421.844 Q113.353 421.844 116.733 425.015 Q120.112 428.187 120.112 433.603 Q120.112 439.182 116.64 442.284 Q113.168 445.362 106.848 445.362 Q104.672 445.362 102.404 444.992 Q100.159 444.622 97.7511 443.881 L97.7511 439.182 Q99.8345 440.316 102.057 440.872 Q104.279 441.427 106.756 441.427 Q110.76 441.427 113.098 439.321 Q115.436 437.214 115.436 433.603 Q115.436 429.992 113.098 427.886 Q110.76 425.779 106.756 425.779 Q104.881 425.779 103.006 426.196 Q101.154 426.613 99.2095 427.492 L99.2095 410.131 Z\" fill=\"#000000\" fill-rule=\"evenodd\" fill-opacity=\"1\" /><path clip-path=\"url(#clip350)\" d=\"M56.9643 101.321 L73.2837 101.321 L73.2837 105.256 L51.3393 105.256 L51.3393 101.321 Q54.0014 98.5665 58.5847 93.9369 Q63.1911 89.2841 64.3717 87.9416 Q66.617 85.4184 67.4967 83.6823 Q68.3994 81.9231 68.3994 80.2333 Q68.3994 77.4786 66.455 75.7425 Q64.5337 74.0064 61.4319 74.0064 Q59.2328 74.0064 56.7791 74.7703 Q54.3486 75.5342 51.5708 77.0851 L51.5708 72.3629 Q54.3949 71.2287 56.8486 70.65 Q59.3023 70.0713 61.3393 70.0713 Q66.7096 70.0713 69.9041 72.7565 Q73.0985 75.4416 73.0985 79.9323 Q73.0985 82.062 72.2883 83.9832 Q71.5013 85.8814 69.3948 88.474 Q68.8161 89.1453 65.7143 92.3628 Q62.6124 95.5573 56.9643 101.321 Z\" fill=\"#000000\" fill-rule=\"evenodd\" fill-opacity=\"1\" /><path clip-path=\"url(#clip350)\" d=\"M83.0984 99.3767 L87.9827 99.3767 L87.9827 105.256 L83.0984 105.256 L83.0984 99.3767 Z\" fill=\"#000000\" fill-rule=\"evenodd\" fill-opacity=\"1\" /><path clip-path=\"url(#clip350)\" d=\"M108.168 73.775 Q104.557 73.775 102.728 77.3398 Q100.922 80.8814 100.922 88.011 Q100.922 95.1174 102.728 98.6822 Q104.557 102.224 108.168 102.224 Q111.802 102.224 113.608 98.6822 Q115.436 95.1174 115.436 88.011 Q115.436 80.8814 113.608 77.3398 Q111.802 73.775 108.168 73.775 M108.168 70.0713 Q113.978 70.0713 117.033 74.6777 Q120.112 79.261 120.112 88.011 Q120.112 96.7378 117.033 101.344 Q113.978 105.928 108.168 105.928 Q102.358 105.928 99.2789 101.344 Q96.2234 96.7378 96.2234 88.011 Q96.2234 79.261 99.2789 74.6777 Q102.358 70.0713 108.168 70.0713 Z\" fill=\"#000000\" fill-rule=\"evenodd\" fill-opacity=\"1\" /><path clip-path=\"url(#clip352)\" d=\"\n",
       "M1461.66 1445.72 L2290.59 87.9763 L218.281 1038.39 L632.742 1445.72 L1461.66 1445.72 L1461.66 1445.72 L632.742 1445.72 L218.281 1445.72 L2290.59 1445.72 L1461.66 1445.72 \n",
       "   Z\n",
       "  \" fill=\"#009af9\" fill-rule=\"evenodd\" fill-opacity=\"1\"/>\n",
       "<polyline clip-path=\"url(#clip352)\" style=\"stroke:#009af9; stroke-linecap:butt; stroke-linejoin:round; stroke-width:4; stroke-opacity:1; fill:none\" points=\"\n",
       "  1461.66,1445.72 2290.59,87.9763 218.281,1038.39 632.742,1445.72 1461.66,1445.72 \n",
       "  \"/>\n",
       "</svg>\n"
      ]
     },
     "execution_count": 14,
     "metadata": {},
     "output_type": "execute_result"
    }
   ],
   "source": [
    "plot(x,y,label=\"\",fill=true)"
   ]
  },
  {
   "cell_type": "code",
   "execution_count": null,
   "metadata": {},
   "outputs": [],
   "source": []
  }
 ],
 "metadata": {
  "@webio": {
   "lastCommId": null,
   "lastKernelId": null
  },
  "kernelspec": {
   "display_name": "Julia 1.7.2",
   "language": "julia",
   "name": "julia-1.7"
  },
  "language_info": {
   "file_extension": ".jl",
   "mimetype": "application/julia",
   "name": "julia",
   "version": "1.7.2"
  }
 },
 "nbformat": 4,
 "nbformat_minor": 4
}
