{
 "cells": [
  {
   "cell_type": "markdown",
   "metadata": {},
   "source": [
    "# Testing setBLP.jl"
   ]
  },
  {
   "cell_type": "markdown",
   "metadata": {},
   "source": [
    "## Packages"
   ]
  },
  {
   "cell_type": "code",
   "execution_count": 1,
   "metadata": {},
   "outputs": [],
   "source": [
    "import LinearAlgebra ,Base"
   ]
  },
  {
   "cell_type": "code",
   "execution_count": 2,
   "metadata": {},
   "outputs": [],
   "source": [
    "using Plots"
   ]
  },
  {
   "cell_type": "markdown",
   "metadata": {},
   "source": [
    "## Structures and related functions"
   ]
  },
  {
   "cell_type": "markdown",
   "metadata": {},
   "source": [
    "#### Vertex"
   ]
  },
  {
   "cell_type": "code",
   "execution_count": 3,
   "metadata": {},
   "outputs": [],
   "source": [
    "mutable struct Vertex\n",
    "    v::Vector{Real}\n",
    "end"
   ]
  },
  {
   "cell_type": "code",
   "execution_count": 4,
   "metadata": {},
   "outputs": [],
   "source": [
    "function subVertex(v1::Vertex,v2::Vertex)\n",
    "    return  Vertex(v1.v-v2.v)\n",
    "end\n",
    "\n",
    "Base.:(-)(v1::Vertex,v2::Vertex) = Vertex(v1.v-v2.v)\n",
    "\n",
    "function addVertex(v1::Vertex,v2::Vertex)\n",
    "    return Vertex(v1.v+v2.v)\n",
    "end\n",
    "\n",
    "Base.:(+)(v1::Vertex,v2::Vertex) = Vertex(v1.v+v2.v)"
   ]
  },
  {
   "cell_type": "code",
   "execution_count": 5,
   "metadata": {},
   "outputs": [
    {
     "data": {
      "text/plain": [
       "xangle (generic function with 1 method)"
      ]
     },
     "execution_count": 5,
     "metadata": {},
     "output_type": "execute_result"
    }
   ],
   "source": [
    "function xangle(p1::Vertex,p2::Vertex)\n",
    "    Δ = (p2-p1).v\n",
    "    flag=false\n",
    "    if Δ[2] < 0\n",
    "        Δ[2] = -Δ[2]\n",
    "        flag = true\n",
    "    end\n",
    "    xang =atan(Δ[2],abs(Δ[1]))\n",
    "    if Δ[1]<0\n",
    "        xang = pi-xang\n",
    "    end\n",
    "    if flag\n",
    "        xang=2*pi-xang\n",
    "    end\n",
    "    return xang\n",
    "\n",
    "end"
   ]
  },
  {
   "cell_type": "code",
   "execution_count": 6,
   "metadata": {},
   "outputs": [
    {
     "data": {
      "text/plain": [
       "fetchX (generic function with 1 method)"
      ]
     },
     "execution_count": 6,
     "metadata": {},
     "output_type": "execute_result"
    }
   ],
   "source": [
    "function fetchY(ver::Vertex)\n",
    "    return ver.v[2]\n",
    "end\n",
    "\n",
    "function fetchX(ver::Vertex)\n",
    "    return ver.v[1]\n",
    "end"
   ]
  },
  {
   "cell_type": "markdown",
   "metadata": {},
   "source": [
    "#### Segment"
   ]
  },
  {
   "cell_type": "code",
   "execution_count": 7,
   "metadata": {},
   "outputs": [],
   "source": [
    "mutable struct Segment\n",
    "    p1::Vertex\n",
    "    p2::Vertex\n",
    "    checkInput::Function\n",
    "    length::Function\n",
    "    dim::Function\n",
    "\n",
    "    \n",
    "    function Segment(p1,p2)\n",
    "        this = new()\n",
    "\n",
    "        this.p1 = p1\n",
    "        this.p2 = p2\n",
    "\n",
    "        this.checkInput = function()\n",
    "            return size(this.p1) == size(this.p2)       \n",
    "        end\n",
    "\n",
    "        this.length = function()\n",
    "            return norm(this.p1-this.p2)\n",
    "        end\n",
    "\n",
    "        this.dim = function()\n",
    "            if this.checkInput()\n",
    "                return length(this.p1)\n",
    "            else\n",
    "                return false\n",
    "            end\n",
    "        end\n",
    "\n",
    "        return this        \n",
    "    end\n",
    "end\n"
   ]
  },
  {
   "cell_type": "code",
   "execution_count": 8,
   "metadata": {},
   "outputs": [
    {
     "data": {
      "text/plain": [
       "dotDist (generic function with 1 method)"
      ]
     },
     "execution_count": 8,
     "metadata": {},
     "output_type": "execute_result"
    }
   ],
   "source": [
    "function dotDist(p::Vector{<:Real}, segment::Segment) \n",
    "    if segment.checkInput()\n",
    "        if length(p) == segment.dim()\n",
    "            p1_p2 = segment.p1 -segment.p2\n",
    "            p_p2 = p -segment.p2\n",
    "\n",
    "            λ = dot(p1_p2,p_p2)/dot(p1_p2,p1_p2)\n",
    "            λ = max(min(λ,1),0)\n",
    "\n",
    "            p0 = λ*segment.p1 + (1-λ)*segment.p2 \n",
    "\n",
    "            return norm(p-p0)\n",
    "        else\n",
    "            return \"dimention of p doesnt match dimention of segment\"\n",
    "        end\n",
    "    else\n",
    "        return \"Segment has wrong dimentions\"\n",
    "    end\n",
    "end\n"
   ]
  },
  {
   "cell_type": "code",
   "execution_count": 9,
   "metadata": {},
   "outputs": [
    {
     "data": {
      "text/plain": [
       "xangle (generic function with 2 methods)"
      ]
     },
     "execution_count": 9,
     "metadata": {},
     "output_type": "execute_result"
    }
   ],
   "source": [
    "function xangle(seg::Segment)\n",
    "    Δ = seg.p2-seg.p1\n",
    "    flag=false\n",
    "    if Δ[2] < 0\n",
    "        Δ[2] = -Δ[2]\n",
    "        flag = true\n",
    "    end\n",
    "    xang =atan(Δ[2],abs(Δ[1]))\n",
    "    if Δ[1]<0\n",
    "        xang = pi-xang\n",
    "    end\n",
    "    if flag\n",
    "        xang=2*pi-xang\n",
    "    end\n",
    "    return xang\n",
    "\n",
    "end"
   ]
  },
  {
   "cell_type": "markdown",
   "metadata": {},
   "source": [
    "#### Polygon"
   ]
  },
  {
   "cell_type": "code",
   "execution_count": 10,
   "metadata": {},
   "outputs": [],
   "source": [
    "mutable struct Polygon\n",
    "    vertices :: Vector{Vertex}\n",
    "    sort :: Function\n",
    "    plot :: Function\n",
    "    angles :: Function\n",
    "    scatter :: Function\n",
    "\n",
    "    function Polygon(vertices)\n",
    "        this = new()\n",
    "\n",
    "        this.vertices=vertices\n",
    "        this.sort = function()\n",
    "            n=length(this.vertices)\n",
    "            #step 1: find the point with a minimal y coordinate and put it first.\n",
    "            # comment: sorting is complexity nlog(n) but the following is just n\n",
    "            #using sorting:\n",
    "            #I = sortperm(fetchY.(this.vertices))\n",
    "            #this.vertices = this.vertices[I]\n",
    "            #going over the list\n",
    "            m=fetchY(this.vertices[1])\n",
    "            for i=2:n\n",
    "                l=fetchY(this.vertices[i])\n",
    "                if l<m #then swap\n",
    "                    m=l\n",
    "                    temp=this.vertices[i]\n",
    "                    this.vertices[i]=this.vertices[1]\n",
    "                    this.vertices[1]=temp\n",
    "                end\n",
    "            end\n",
    "            #step 2: compute angles between the minimal vertex and all other vertices\n",
    "            angs =zeros(n) #first column for angles and second column for the x coordinate\n",
    "            angs[1]=-1\n",
    "            v1 =this.vertices[1]\n",
    "            for i=2:n\n",
    "                angs[i] = xangle(v1,this.vertices[i])\n",
    "            end\n",
    "            #step 3: sort by angle\n",
    "            I=sortperm(angs)\n",
    "            this.vertices=this.vertices[I]   \n",
    "        end\n",
    "        this.angles = function()\n",
    "            n=length(this.vertices)\n",
    "            ang=zeros(n)\n",
    "            for i=1:n\n",
    "                i==n ? j=1 : j=i+1\n",
    "                ang[i] =xangle(this.vertices[i],this.vertices[j])                \n",
    "            end\n",
    "            return ang\n",
    "        end\n",
    "        \n",
    "        this.plot = function()\n",
    "            n=length(this.vertices)\n",
    "            x=zeros(n+1); y=zeros(n+1);\n",
    "            for i=1:n\n",
    "                x[i]=this.vertices[i].v[1]\n",
    "                y[i]=this.vertices[i].v[2]\n",
    "            end\n",
    "            x[n+1]=this.vertices[1].v[1]\n",
    "            y[n+1]=this.vertices[1].v[2]\n",
    "            plot(x,y,label=\"\",fill=true)\n",
    "        end\n",
    "        \n",
    "        this.scatter = function()\n",
    "            n=length(this.vertices)\n",
    "            x=zeros(n); y=zeros(n);\n",
    "            for i=1:n\n",
    "                x[i]=this.vertices[i].v[1]\n",
    "                y[i]=this.vertices[i].v[2]\n",
    "            end\n",
    "            scatter(x,y,label=\"\")\n",
    "        end\n",
    "            \n",
    "        return this\n",
    "    end\n",
    "end"
   ]
  },
  {
   "cell_type": "code",
   "execution_count": 30,
   "metadata": {},
   "outputs": [],
   "source": [
    "function minkowskiSum(v::Vertex,P::Polygon)\n",
    "    # this function adds v toevery vertex of P\n",
    "    n=length(P.vertices)\n",
    "    R=P #initial value\n",
    "    for i=1:n\n",
    "        R.vertices[i] +=v\n",
    "    end\n",
    "    return R\n",
    "end\n",
    "\n",
    "Base.:(+)(v::Vertex,P::Polygon) = minkowskiSum(v,P)"
   ]
  },
  {
   "cell_type": "code",
   "execution_count": 11,
   "metadata": {},
   "outputs": [],
   "source": [
    "function minkowskiSum(P::Polygon,Q::Polygon)\n",
    "    # Computes the minkowski sum of two convex polygons: P and Q. The polygons\n",
    "    # are represented by their vertices and are ordered counter clockwise such\n",
    "    #* that the first vertex will be the one who has the smallest Y coordinate\n",
    "    # (and smallest X coordinate in case of a tie).  This assumption is maintained\n",
    "    # in twoDproj by conditions in BLPcalculator.\n",
    "    \n",
    "      \n",
    "    angP=[P.angles(); 100]\n",
    "    angQ=[Q.angles(); 100]\n",
    "    \n",
    "    m = length(angP)-1\n",
    "    n = length(angQ)-1\n",
    "    \n",
    "    PP = [P.vertices; P.vertices[1]]\n",
    "    QQ = [Q.vertices; Q.vertices[1]]\n",
    "    \n",
    "    println(\"m=\",m,\" n=\",n)\n",
    "    \n",
    "    println(\"angP= \", angP)\n",
    "    println(\"angQ= \", angQ)\n",
    "    \n",
    "    i=1; j=1;\n",
    "    \n",
    "    R =Polygon([PP[1]+QQ[1]]) # a polygon with the sum of the two lower points as the first vertex.\n",
    "     while (i<m || j<n)\n",
    "         if angP[i]<angQ[j] \n",
    "            println(\"angP[i] is minimal\")\n",
    "            i +=1\n",
    "        elseif angQ[j]<angP[i]\n",
    "            println(\"angQ[j] is minimal\")\n",
    "            j +=1\n",
    "        else\n",
    "            i +=1\n",
    "            j +=1\n",
    "        end\n",
    "        R.vertices = [ R.vertices; PP[i]+QQ[j]]\n",
    "        println(i,j)\n",
    "    end\n",
    "    return R\n",
    "end\n",
    "\n",
    "Base.:(+)(P::Polygon,Q::Polygon) = minkowskiSum(P,Q)"
   ]
  },
  {
   "cell_type": "markdown",
   "metadata": {},
   "source": [
    "## Testing"
   ]
  },
  {
   "cell_type": "code",
   "execution_count": 12,
   "metadata": {},
   "outputs": [
    {
     "data": {
      "text/plain": [
       "Polygon(Vertex[Vertex(Real[0.0, -0.6]), Vertex(Real[-1.1, 0.0]), Vertex(Real[1.1, 0.0]), Vertex(Real[0.0, 0.4])], var\"#7#11\"{Polygon}(Polygon(#= circular reference @-2 =#)), var\"#9#13\"{Polygon}(Polygon(#= circular reference @-2 =#)), var\"#8#12\"{Polygon}(Polygon(#= circular reference @-2 =#)), var\"#10#14\"{Polygon}(Polygon(#= circular reference @-2 =#)))"
      ]
     },
     "execution_count": 12,
     "metadata": {},
     "output_type": "execute_result"
    }
   ],
   "source": [
    "v4=Vertex([0,0.4])\n",
    "v2=Vertex([-1.1,0])\n",
    "v3=Vertex([1.1,0])\n",
    "v1=Vertex([0.0,-0.6])\n",
    "P = Polygon([v1,v2,v3,v4])\n",
    "#P = Polygon([v1,v2,v3])"
   ]
  },
  {
   "cell_type": "code",
   "execution_count": 13,
   "metadata": {},
   "outputs": [
    {
     "name": "stdout",
     "output_type": "stream",
     "text": [
      "[0.49934672168013006, 2.792821650005886, 3.4903636571737002, 5.783838585499456]"
     ]
    },
    {
     "data": {
      "image/svg+xml": [
       "<?xml version=\"1.0\" encoding=\"utf-8\"?>\n",
       "<svg xmlns=\"http://www.w3.org/2000/svg\" xmlns:xlink=\"http://www.w3.org/1999/xlink\" width=\"600\" height=\"400\" viewBox=\"0 0 2400 1600\">\n",
       "<defs>\n",
       "  <clipPath id=\"clip280\">\n",
       "    <rect x=\"0\" y=\"0\" width=\"2400\" height=\"1600\"/>\n",
       "  </clipPath>\n",
       "</defs>\n",
       "<path clip-path=\"url(#clip280)\" d=\"\n",
       "M0 1600 L2400 1600 L2400 0 L0 0  Z\n",
       "  \" fill=\"#ffffff\" fill-rule=\"evenodd\" fill-opacity=\"1\"/>\n",
       "<defs>\n",
       "  <clipPath id=\"clip281\">\n",
       "    <rect x=\"480\" y=\"0\" width=\"1681\" height=\"1600\"/>\n",
       "  </clipPath>\n",
       "</defs>\n",
       "<path clip-path=\"url(#clip280)\" d=\"\n",
       "M224.098 1486.45 L2352.76 1486.45 L2352.76 47.2441 L224.098 47.2441  Z\n",
       "  \" fill=\"#ffffff\" fill-rule=\"evenodd\" fill-opacity=\"1\"/>\n",
       "<defs>\n",
       "  <clipPath id=\"clip282\">\n",
       "    <rect x=\"224\" y=\"47\" width=\"2130\" height=\"1440\"/>\n",
       "  </clipPath>\n",
       "</defs>\n",
       "<polyline clip-path=\"url(#clip282)\" style=\"stroke:#000000; stroke-linecap:butt; stroke-linejoin:round; stroke-width:2; stroke-opacity:0.1; fill:none\" points=\"\n",
       "  375.623,1486.45 375.623,47.2441 \n",
       "  \"/>\n",
       "<polyline clip-path=\"url(#clip282)\" style=\"stroke:#000000; stroke-linecap:butt; stroke-linejoin:round; stroke-width:2; stroke-opacity:0.1; fill:none\" points=\"\n",
       "  832.025,1486.45 832.025,47.2441 \n",
       "  \"/>\n",
       "<polyline clip-path=\"url(#clip282)\" style=\"stroke:#000000; stroke-linecap:butt; stroke-linejoin:round; stroke-width:2; stroke-opacity:0.1; fill:none\" points=\"\n",
       "  1288.43,1486.45 1288.43,47.2441 \n",
       "  \"/>\n",
       "<polyline clip-path=\"url(#clip282)\" style=\"stroke:#000000; stroke-linecap:butt; stroke-linejoin:round; stroke-width:2; stroke-opacity:0.1; fill:none\" points=\"\n",
       "  1744.83,1486.45 1744.83,47.2441 \n",
       "  \"/>\n",
       "<polyline clip-path=\"url(#clip282)\" style=\"stroke:#000000; stroke-linecap:butt; stroke-linejoin:round; stroke-width:2; stroke-opacity:0.1; fill:none\" points=\"\n",
       "  2201.23,1486.45 2201.23,47.2441 \n",
       "  \"/>\n",
       "<polyline clip-path=\"url(#clip280)\" style=\"stroke:#000000; stroke-linecap:butt; stroke-linejoin:round; stroke-width:4; stroke-opacity:1; fill:none\" points=\"\n",
       "  224.098,1486.45 2352.76,1486.45 \n",
       "  \"/>\n",
       "<polyline clip-path=\"url(#clip280)\" style=\"stroke:#000000; stroke-linecap:butt; stroke-linejoin:round; stroke-width:4; stroke-opacity:1; fill:none\" points=\"\n",
       "  375.623,1486.45 375.623,1467.55 \n",
       "  \"/>\n",
       "<polyline clip-path=\"url(#clip280)\" style=\"stroke:#000000; stroke-linecap:butt; stroke-linejoin:round; stroke-width:4; stroke-opacity:1; fill:none\" points=\"\n",
       "  832.025,1486.45 832.025,1467.55 \n",
       "  \"/>\n",
       "<polyline clip-path=\"url(#clip280)\" style=\"stroke:#000000; stroke-linecap:butt; stroke-linejoin:round; stroke-width:4; stroke-opacity:1; fill:none\" points=\"\n",
       "  1288.43,1486.45 1288.43,1467.55 \n",
       "  \"/>\n",
       "<polyline clip-path=\"url(#clip280)\" style=\"stroke:#000000; stroke-linecap:butt; stroke-linejoin:round; stroke-width:4; stroke-opacity:1; fill:none\" points=\"\n",
       "  1744.83,1486.45 1744.83,1467.55 \n",
       "  \"/>\n",
       "<polyline clip-path=\"url(#clip280)\" style=\"stroke:#000000; stroke-linecap:butt; stroke-linejoin:round; stroke-width:4; stroke-opacity:1; fill:none\" points=\"\n",
       "  2201.23,1486.45 2201.23,1467.55 \n",
       "  \"/>\n",
       "<path clip-path=\"url(#clip280)\" d=\"M322.151 1532.02 L351.827 1532.02 L351.827 1535.95 L322.151 1535.95 L322.151 1532.02 Z\" fill=\"#000000\" fill-rule=\"evenodd\" fill-opacity=\"1\" /><path clip-path=\"url(#clip280)\" d=\"M362.73 1544.91 L370.369 1544.91 L370.369 1518.55 L362.059 1520.21 L362.059 1515.95 L370.322 1514.29 L374.998 1514.29 L374.998 1544.91 L382.637 1544.91 L382.637 1548.85 L362.73 1548.85 L362.73 1544.91 Z\" fill=\"#000000\" fill-rule=\"evenodd\" fill-opacity=\"1\" /><path clip-path=\"url(#clip280)\" d=\"M392.082 1542.97 L396.966 1542.97 L396.966 1548.85 L392.082 1548.85 L392.082 1542.97 Z\" fill=\"#000000\" fill-rule=\"evenodd\" fill-opacity=\"1\" /><path clip-path=\"url(#clip280)\" d=\"M417.151 1517.37 Q413.54 1517.37 411.711 1520.93 Q409.905 1524.47 409.905 1531.6 Q409.905 1538.71 411.711 1542.27 Q413.54 1545.82 417.151 1545.82 Q420.785 1545.82 422.591 1542.27 Q424.419 1538.71 424.419 1531.6 Q424.419 1524.47 422.591 1520.93 Q420.785 1517.37 417.151 1517.37 M417.151 1513.66 Q422.961 1513.66 426.017 1518.27 Q429.095 1522.85 429.095 1531.6 Q429.095 1540.33 426.017 1544.94 Q422.961 1549.52 417.151 1549.52 Q411.341 1549.52 408.262 1544.94 Q405.206 1540.33 405.206 1531.6 Q405.206 1522.85 408.262 1518.27 Q411.341 1513.66 417.151 1513.66 Z\" fill=\"#000000\" fill-rule=\"evenodd\" fill-opacity=\"1\" /><path clip-path=\"url(#clip280)\" d=\"M779.051 1532.02 L808.727 1532.02 L808.727 1535.95 L779.051 1535.95 L779.051 1532.02 Z\" fill=\"#000000\" fill-rule=\"evenodd\" fill-opacity=\"1\" /><path clip-path=\"url(#clip280)\" d=\"M828.819 1517.37 Q825.208 1517.37 823.379 1520.93 Q821.574 1524.47 821.574 1531.6 Q821.574 1538.71 823.379 1542.27 Q825.208 1545.82 828.819 1545.82 Q832.453 1545.82 834.259 1542.27 Q836.088 1538.71 836.088 1531.6 Q836.088 1524.47 834.259 1520.93 Q832.453 1517.37 828.819 1517.37 M828.819 1513.66 Q834.629 1513.66 837.685 1518.27 Q840.763 1522.85 840.763 1531.6 Q840.763 1540.33 837.685 1544.94 Q834.629 1549.52 828.819 1549.52 Q823.009 1549.52 819.93 1544.94 Q816.875 1540.33 816.875 1531.6 Q816.875 1522.85 819.93 1518.27 Q823.009 1513.66 828.819 1513.66 Z\" fill=\"#000000\" fill-rule=\"evenodd\" fill-opacity=\"1\" /><path clip-path=\"url(#clip280)\" d=\"M848.981 1542.97 L853.865 1542.97 L853.865 1548.85 L848.981 1548.85 L848.981 1542.97 Z\" fill=\"#000000\" fill-rule=\"evenodd\" fill-opacity=\"1\" /><path clip-path=\"url(#clip280)\" d=\"M864.097 1514.29 L882.453 1514.29 L882.453 1518.22 L868.379 1518.22 L868.379 1526.7 Q869.398 1526.35 870.416 1526.19 Q871.435 1526 872.453 1526 Q878.24 1526 881.62 1529.17 Q884.999 1532.34 884.999 1537.76 Q884.999 1543.34 881.527 1546.44 Q878.055 1549.52 871.736 1549.52 Q869.56 1549.52 867.291 1549.15 Q865.046 1548.78 862.638 1548.04 L862.638 1543.34 Q864.722 1544.47 866.944 1545.03 Q869.166 1545.58 871.643 1545.58 Q875.648 1545.58 877.985 1543.48 Q880.323 1541.37 880.323 1537.76 Q880.323 1534.15 877.985 1532.04 Q875.648 1529.94 871.643 1529.94 Q869.768 1529.94 867.893 1530.35 Q866.041 1530.77 864.097 1531.65 L864.097 1514.29 Z\" fill=\"#000000\" fill-rule=\"evenodd\" fill-opacity=\"1\" /><path clip-path=\"url(#clip280)\" d=\"M1265.81 1517.37 Q1262.2 1517.37 1260.37 1520.93 Q1258.57 1524.47 1258.57 1531.6 Q1258.57 1538.71 1260.37 1542.27 Q1262.2 1545.82 1265.81 1545.82 Q1269.45 1545.82 1271.25 1542.27 Q1273.08 1538.71 1273.08 1531.6 Q1273.08 1524.47 1271.25 1520.93 Q1269.45 1517.37 1265.81 1517.37 M1265.81 1513.66 Q1271.62 1513.66 1274.68 1518.27 Q1277.76 1522.85 1277.76 1531.6 Q1277.76 1540.33 1274.68 1544.94 Q1271.62 1549.52 1265.81 1549.52 Q1260 1549.52 1256.92 1544.94 Q1253.87 1540.33 1253.87 1531.6 Q1253.87 1522.85 1256.92 1518.27 Q1260 1513.66 1265.81 1513.66 Z\" fill=\"#000000\" fill-rule=\"evenodd\" fill-opacity=\"1\" /><path clip-path=\"url(#clip280)\" d=\"M1285.97 1542.97 L1290.86 1542.97 L1290.86 1548.85 L1285.97 1548.85 L1285.97 1542.97 Z\" fill=\"#000000\" fill-rule=\"evenodd\" fill-opacity=\"1\" /><path clip-path=\"url(#clip280)\" d=\"M1311.04 1517.37 Q1307.43 1517.37 1305.6 1520.93 Q1303.8 1524.47 1303.8 1531.6 Q1303.8 1538.71 1305.6 1542.27 Q1307.43 1545.82 1311.04 1545.82 Q1314.68 1545.82 1316.48 1542.27 Q1318.31 1538.71 1318.31 1531.6 Q1318.31 1524.47 1316.48 1520.93 Q1314.68 1517.37 1311.04 1517.37 M1311.04 1513.66 Q1316.85 1513.66 1319.91 1518.27 Q1322.99 1522.85 1322.99 1531.6 Q1322.99 1540.33 1319.91 1544.94 Q1316.85 1549.52 1311.04 1549.52 Q1305.23 1549.52 1302.15 1544.94 Q1299.1 1540.33 1299.1 1531.6 Q1299.1 1522.85 1302.15 1518.27 Q1305.23 1513.66 1311.04 1513.66 Z\" fill=\"#000000\" fill-rule=\"evenodd\" fill-opacity=\"1\" /><path clip-path=\"url(#clip280)\" d=\"M1722.71 1517.37 Q1719.1 1517.37 1717.27 1520.93 Q1715.47 1524.47 1715.47 1531.6 Q1715.47 1538.71 1717.27 1542.27 Q1719.1 1545.82 1722.71 1545.82 Q1726.34 1545.82 1728.15 1542.27 Q1729.98 1538.71 1729.98 1531.6 Q1729.98 1524.47 1728.15 1520.93 Q1726.34 1517.37 1722.71 1517.37 M1722.71 1513.66 Q1728.52 1513.66 1731.58 1518.27 Q1734.66 1522.85 1734.66 1531.6 Q1734.66 1540.33 1731.58 1544.94 Q1728.52 1549.52 1722.71 1549.52 Q1716.9 1549.52 1713.82 1544.94 Q1710.77 1540.33 1710.77 1531.6 Q1710.77 1522.85 1713.82 1518.27 Q1716.9 1513.66 1722.71 1513.66 Z\" fill=\"#000000\" fill-rule=\"evenodd\" fill-opacity=\"1\" /><path clip-path=\"url(#clip280)\" d=\"M1742.87 1542.97 L1747.76 1542.97 L1747.76 1548.85 L1742.87 1548.85 L1742.87 1542.97 Z\" fill=\"#000000\" fill-rule=\"evenodd\" fill-opacity=\"1\" /><path clip-path=\"url(#clip280)\" d=\"M1757.99 1514.29 L1776.34 1514.29 L1776.34 1518.22 L1762.27 1518.22 L1762.27 1526.7 Q1763.29 1526.35 1764.31 1526.19 Q1765.33 1526 1766.34 1526 Q1772.13 1526 1775.51 1529.17 Q1778.89 1532.34 1778.89 1537.76 Q1778.89 1543.34 1775.42 1546.44 Q1771.95 1549.52 1765.63 1549.52 Q1763.45 1549.52 1761.18 1549.15 Q1758.94 1548.78 1756.53 1548.04 L1756.53 1543.34 Q1758.61 1544.47 1760.84 1545.03 Q1763.06 1545.58 1765.53 1545.58 Q1769.54 1545.58 1771.88 1543.48 Q1774.22 1541.37 1774.22 1537.76 Q1774.22 1534.15 1771.88 1532.04 Q1769.54 1529.94 1765.53 1529.94 Q1763.66 1529.94 1761.78 1530.35 Q1759.93 1530.77 1757.99 1531.65 L1757.99 1514.29 Z\" fill=\"#000000\" fill-rule=\"evenodd\" fill-opacity=\"1\" /><path clip-path=\"url(#clip280)\" d=\"M2168.38 1544.91 L2176.02 1544.91 L2176.02 1518.55 L2167.71 1520.21 L2167.71 1515.95 L2175.98 1514.29 L2180.65 1514.29 L2180.65 1544.91 L2188.29 1544.91 L2188.29 1548.85 L2168.38 1548.85 L2168.38 1544.91 Z\" fill=\"#000000\" fill-rule=\"evenodd\" fill-opacity=\"1\" /><path clip-path=\"url(#clip280)\" d=\"M2197.74 1542.97 L2202.62 1542.97 L2202.62 1548.85 L2197.74 1548.85 L2197.74 1542.97 Z\" fill=\"#000000\" fill-rule=\"evenodd\" fill-opacity=\"1\" /><path clip-path=\"url(#clip280)\" d=\"M2222.8 1517.37 Q2219.19 1517.37 2217.36 1520.93 Q2215.56 1524.47 2215.56 1531.6 Q2215.56 1538.71 2217.36 1542.27 Q2219.19 1545.82 2222.8 1545.82 Q2226.44 1545.82 2228.24 1542.27 Q2230.07 1538.71 2230.07 1531.6 Q2230.07 1524.47 2228.24 1520.93 Q2226.44 1517.37 2222.8 1517.37 M2222.8 1513.66 Q2228.61 1513.66 2231.67 1518.27 Q2234.75 1522.85 2234.75 1531.6 Q2234.75 1540.33 2231.67 1544.94 Q2228.61 1549.52 2222.8 1549.52 Q2216.99 1549.52 2213.92 1544.94 Q2210.86 1540.33 2210.86 1531.6 Q2210.86 1522.85 2213.92 1518.27 Q2216.99 1513.66 2222.8 1513.66 Z\" fill=\"#000000\" fill-rule=\"evenodd\" fill-opacity=\"1\" /><polyline clip-path=\"url(#clip282)\" style=\"stroke:#000000; stroke-linecap:butt; stroke-linejoin:round; stroke-width:2; stroke-opacity:0.1; fill:none\" points=\"\n",
       "  224.098,1309.94 2352.76,1309.94 \n",
       "  \"/>\n",
       "<polyline clip-path=\"url(#clip282)\" style=\"stroke:#000000; stroke-linecap:butt; stroke-linejoin:round; stroke-width:2; stroke-opacity:0.1; fill:none\" points=\"\n",
       "  224.098,970.507 2352.76,970.507 \n",
       "  \"/>\n",
       "<polyline clip-path=\"url(#clip282)\" style=\"stroke:#000000; stroke-linecap:butt; stroke-linejoin:round; stroke-width:2; stroke-opacity:0.1; fill:none\" points=\"\n",
       "  224.098,631.072 2352.76,631.072 \n",
       "  \"/>\n",
       "<polyline clip-path=\"url(#clip282)\" style=\"stroke:#000000; stroke-linecap:butt; stroke-linejoin:round; stroke-width:2; stroke-opacity:0.1; fill:none\" points=\"\n",
       "  224.098,291.637 2352.76,291.637 \n",
       "  \"/>\n",
       "<polyline clip-path=\"url(#clip280)\" style=\"stroke:#000000; stroke-linecap:butt; stroke-linejoin:round; stroke-width:4; stroke-opacity:1; fill:none\" points=\"\n",
       "  224.098,1486.45 224.098,47.2441 \n",
       "  \"/>\n",
       "<polyline clip-path=\"url(#clip280)\" style=\"stroke:#000000; stroke-linecap:butt; stroke-linejoin:round; stroke-width:4; stroke-opacity:1; fill:none\" points=\"\n",
       "  224.098,1309.94 242.996,1309.94 \n",
       "  \"/>\n",
       "<polyline clip-path=\"url(#clip280)\" style=\"stroke:#000000; stroke-linecap:butt; stroke-linejoin:round; stroke-width:4; stroke-opacity:1; fill:none\" points=\"\n",
       "  224.098,970.507 242.996,970.507 \n",
       "  \"/>\n",
       "<polyline clip-path=\"url(#clip280)\" style=\"stroke:#000000; stroke-linecap:butt; stroke-linejoin:round; stroke-width:4; stroke-opacity:1; fill:none\" points=\"\n",
       "  224.098,631.072 242.996,631.072 \n",
       "  \"/>\n",
       "<polyline clip-path=\"url(#clip280)\" style=\"stroke:#000000; stroke-linecap:butt; stroke-linejoin:round; stroke-width:4; stroke-opacity:1; fill:none\" points=\"\n",
       "  224.098,291.637 242.996,291.637 \n",
       "  \"/>\n",
       "<path clip-path=\"url(#clip280)\" d=\"M50.9921 1310.39 L80.6679 1310.39 L80.6679 1314.33 L50.9921 1314.33 L50.9921 1310.39 Z\" fill=\"#000000\" fill-rule=\"evenodd\" fill-opacity=\"1\" /><path clip-path=\"url(#clip280)\" d=\"M100.76 1295.74 Q97.1493 1295.74 95.3206 1299.31 Q93.515 1302.85 93.515 1309.98 Q93.515 1317.08 95.3206 1320.65 Q97.1493 1324.19 100.76 1324.19 Q104.395 1324.19 106.2 1320.65 Q108.029 1317.08 108.029 1309.98 Q108.029 1302.85 106.2 1299.31 Q104.395 1295.74 100.76 1295.74 M100.76 1292.04 Q106.571 1292.04 109.626 1296.64 Q112.705 1301.23 112.705 1309.98 Q112.705 1318.7 109.626 1323.31 Q106.571 1327.89 100.76 1327.89 Q94.9502 1327.89 91.8715 1323.31 Q88.816 1318.7 88.816 1309.98 Q88.816 1301.23 91.8715 1296.64 Q94.9502 1292.04 100.76 1292.04 Z\" fill=\"#000000\" fill-rule=\"evenodd\" fill-opacity=\"1\" /><path clip-path=\"url(#clip280)\" d=\"M120.922 1321.34 L125.807 1321.34 L125.807 1327.22 L120.922 1327.22 L120.922 1321.34 Z\" fill=\"#000000\" fill-rule=\"evenodd\" fill-opacity=\"1\" /><path clip-path=\"url(#clip280)\" d=\"M136.038 1292.66 L154.394 1292.66 L154.394 1296.6 L140.32 1296.6 L140.32 1305.07 Q141.339 1304.72 142.357 1304.56 Q143.376 1304.37 144.394 1304.37 Q150.181 1304.37 153.561 1307.55 Q156.941 1310.72 156.941 1316.13 Q156.941 1321.71 153.468 1324.81 Q149.996 1327.89 143.677 1327.89 Q141.501 1327.89 139.232 1327.52 Q136.987 1327.15 134.58 1326.41 L134.58 1321.71 Q136.663 1322.85 138.885 1323.4 Q141.107 1323.96 143.584 1323.96 Q147.589 1323.96 149.927 1321.85 Q152.265 1319.74 152.265 1316.13 Q152.265 1312.52 149.927 1310.42 Q147.589 1308.31 143.584 1308.31 Q141.709 1308.31 139.834 1308.73 Q137.982 1309.14 136.038 1310.02 L136.038 1292.66 Z\" fill=\"#000000\" fill-rule=\"evenodd\" fill-opacity=\"1\" /><path clip-path=\"url(#clip280)\" d=\"M176.153 1295.74 Q172.542 1295.74 170.714 1299.31 Q168.908 1302.85 168.908 1309.98 Q168.908 1317.08 170.714 1320.65 Q172.542 1324.19 176.153 1324.19 Q179.788 1324.19 181.593 1320.65 Q183.422 1317.08 183.422 1309.98 Q183.422 1302.85 181.593 1299.31 Q179.788 1295.74 176.153 1295.74 M176.153 1292.04 Q181.964 1292.04 185.019 1296.64 Q188.098 1301.23 188.098 1309.98 Q188.098 1318.7 185.019 1323.31 Q181.964 1327.89 176.153 1327.89 Q170.343 1327.89 167.265 1323.31 Q164.209 1318.7 164.209 1309.98 Q164.209 1301.23 167.265 1296.64 Q170.343 1292.04 176.153 1292.04 Z\" fill=\"#000000\" fill-rule=\"evenodd\" fill-opacity=\"1\" /><path clip-path=\"url(#clip280)\" d=\"M51.9875 970.958 L81.6633 970.958 L81.6633 974.893 L51.9875 974.893 L51.9875 970.958 Z\" fill=\"#000000\" fill-rule=\"evenodd\" fill-opacity=\"1\" /><path clip-path=\"url(#clip280)\" d=\"M101.756 956.306 Q98.1447 956.306 96.316 959.87 Q94.5104 963.412 94.5104 970.542 Q94.5104 977.648 96.316 981.213 Q98.1447 984.755 101.756 984.755 Q105.39 984.755 107.196 981.213 Q109.024 977.648 109.024 970.542 Q109.024 963.412 107.196 959.87 Q105.39 956.306 101.756 956.306 M101.756 952.602 Q107.566 952.602 110.621 957.208 Q113.7 961.792 113.7 970.542 Q113.7 979.268 110.621 983.875 Q107.566 988.458 101.756 988.458 Q95.9456 988.458 92.8669 983.875 Q89.8114 979.268 89.8114 970.542 Q89.8114 961.792 92.8669 957.208 Q95.9456 952.602 101.756 952.602 Z\" fill=\"#000000\" fill-rule=\"evenodd\" fill-opacity=\"1\" /><path clip-path=\"url(#clip280)\" d=\"M121.918 981.907 L126.802 981.907 L126.802 987.787 L121.918 987.787 L121.918 981.907 Z\" fill=\"#000000\" fill-rule=\"evenodd\" fill-opacity=\"1\" /><path clip-path=\"url(#clip280)\" d=\"M141.015 983.852 L157.334 983.852 L157.334 987.787 L135.39 987.787 L135.39 983.852 Q138.052 981.097 142.635 976.468 Q147.242 971.815 148.422 970.472 Q150.668 967.949 151.547 966.213 Q152.45 964.454 152.45 962.764 Q152.45 960.009 150.505 958.273 Q148.584 956.537 145.482 956.537 Q143.283 956.537 140.83 957.301 Q138.399 958.065 135.621 959.616 L135.621 954.894 Q138.445 953.759 140.899 953.181 Q143.353 952.602 145.39 952.602 Q150.76 952.602 153.955 955.287 Q157.149 957.972 157.149 962.463 Q157.149 964.593 156.339 966.514 Q155.552 968.412 153.445 971.005 Q152.867 971.676 149.765 974.893 Q146.663 978.088 141.015 983.852 Z\" fill=\"#000000\" fill-rule=\"evenodd\" fill-opacity=\"1\" /><path clip-path=\"url(#clip280)\" d=\"M167.195 953.227 L185.552 953.227 L185.552 957.162 L171.478 957.162 L171.478 965.634 Q172.496 965.287 173.515 965.125 Q174.533 964.94 175.552 964.94 Q181.339 964.94 184.718 968.111 Q188.098 971.282 188.098 976.699 Q188.098 982.278 184.626 985.38 Q181.153 988.458 174.834 988.458 Q172.658 988.458 170.39 988.088 Q168.144 987.717 165.737 986.977 L165.737 982.278 Q167.82 983.412 170.042 983.967 Q172.265 984.523 174.741 984.523 Q178.746 984.523 181.084 982.417 Q183.422 980.31 183.422 976.699 Q183.422 973.088 181.084 970.981 Q178.746 968.875 174.741 968.875 Q172.866 968.875 170.991 969.292 Q169.14 969.708 167.195 970.588 L167.195 953.227 Z\" fill=\"#000000\" fill-rule=\"evenodd\" fill-opacity=\"1\" /><path clip-path=\"url(#clip280)\" d=\"M100.76 616.871 Q97.1493 616.871 95.3206 620.436 Q93.515 623.977 93.515 631.107 Q93.515 638.213 95.3206 641.778 Q97.1493 645.32 100.76 645.32 Q104.395 645.32 106.2 641.778 Q108.029 638.213 108.029 631.107 Q108.029 623.977 106.2 620.436 Q104.395 616.871 100.76 616.871 M100.76 613.167 Q106.571 613.167 109.626 617.774 Q112.705 622.357 112.705 631.107 Q112.705 639.834 109.626 644.44 Q106.571 649.023 100.76 649.023 Q94.9502 649.023 91.8715 644.44 Q88.816 639.834 88.816 631.107 Q88.816 622.357 91.8715 617.774 Q94.9502 613.167 100.76 613.167 Z\" fill=\"#000000\" fill-rule=\"evenodd\" fill-opacity=\"1\" /><path clip-path=\"url(#clip280)\" d=\"M120.922 642.472 L125.807 642.472 L125.807 648.352 L120.922 648.352 L120.922 642.472 Z\" fill=\"#000000\" fill-rule=\"evenodd\" fill-opacity=\"1\" /><path clip-path=\"url(#clip280)\" d=\"M145.992 616.871 Q142.381 616.871 140.552 620.436 Q138.746 623.977 138.746 631.107 Q138.746 638.213 140.552 641.778 Q142.381 645.32 145.992 645.32 Q149.626 645.32 151.431 641.778 Q153.26 638.213 153.26 631.107 Q153.26 623.977 151.431 620.436 Q149.626 616.871 145.992 616.871 M145.992 613.167 Q151.802 613.167 154.857 617.774 Q157.936 622.357 157.936 631.107 Q157.936 639.834 154.857 644.44 Q151.802 649.023 145.992 649.023 Q140.181 649.023 137.103 644.44 Q134.047 639.834 134.047 631.107 Q134.047 622.357 137.103 617.774 Q140.181 613.167 145.992 613.167 Z\" fill=\"#000000\" fill-rule=\"evenodd\" fill-opacity=\"1\" /><path clip-path=\"url(#clip280)\" d=\"M176.153 616.871 Q172.542 616.871 170.714 620.436 Q168.908 623.977 168.908 631.107 Q168.908 638.213 170.714 641.778 Q172.542 645.32 176.153 645.32 Q179.788 645.32 181.593 641.778 Q183.422 638.213 183.422 631.107 Q183.422 623.977 181.593 620.436 Q179.788 616.871 176.153 616.871 M176.153 613.167 Q181.964 613.167 185.019 617.774 Q188.098 622.357 188.098 631.107 Q188.098 639.834 185.019 644.44 Q181.964 649.023 176.153 649.023 Q170.343 649.023 167.265 644.44 Q164.209 639.834 164.209 631.107 Q164.209 622.357 167.265 617.774 Q170.343 613.167 176.153 613.167 Z\" fill=\"#000000\" fill-rule=\"evenodd\" fill-opacity=\"1\" /><path clip-path=\"url(#clip280)\" d=\"M101.756 277.436 Q98.1447 277.436 96.316 281.001 Q94.5104 284.542 94.5104 291.672 Q94.5104 298.778 96.316 302.343 Q98.1447 305.885 101.756 305.885 Q105.39 305.885 107.196 302.343 Q109.024 298.778 109.024 291.672 Q109.024 284.542 107.196 281.001 Q105.39 277.436 101.756 277.436 M101.756 273.732 Q107.566 273.732 110.621 278.339 Q113.7 282.922 113.7 291.672 Q113.7 300.399 110.621 305.005 Q107.566 309.588 101.756 309.588 Q95.9456 309.588 92.8669 305.005 Q89.8114 300.399 89.8114 291.672 Q89.8114 282.922 92.8669 278.339 Q95.9456 273.732 101.756 273.732 Z\" fill=\"#000000\" fill-rule=\"evenodd\" fill-opacity=\"1\" /><path clip-path=\"url(#clip280)\" d=\"M121.918 303.038 L126.802 303.038 L126.802 308.917 L121.918 308.917 L121.918 303.038 Z\" fill=\"#000000\" fill-rule=\"evenodd\" fill-opacity=\"1\" /><path clip-path=\"url(#clip280)\" d=\"M141.015 304.982 L157.334 304.982 L157.334 308.917 L135.39 308.917 L135.39 304.982 Q138.052 302.227 142.635 297.598 Q147.242 292.945 148.422 291.602 Q150.668 289.079 151.547 287.343 Q152.45 285.584 152.45 283.894 Q152.45 281.14 150.505 279.403 Q148.584 277.667 145.482 277.667 Q143.283 277.667 140.83 278.431 Q138.399 279.195 135.621 280.746 L135.621 276.024 Q138.445 274.89 140.899 274.311 Q143.353 273.732 145.39 273.732 Q150.76 273.732 153.955 276.417 Q157.149 279.103 157.149 283.593 Q157.149 285.723 156.339 287.644 Q155.552 289.542 153.445 292.135 Q152.867 292.806 149.765 296.024 Q146.663 299.218 141.015 304.982 Z\" fill=\"#000000\" fill-rule=\"evenodd\" fill-opacity=\"1\" /><path clip-path=\"url(#clip280)\" d=\"M167.195 274.357 L185.552 274.357 L185.552 278.292 L171.478 278.292 L171.478 286.765 Q172.496 286.417 173.515 286.255 Q174.533 286.07 175.552 286.07 Q181.339 286.07 184.718 289.241 Q188.098 292.413 188.098 297.829 Q188.098 303.408 184.626 306.51 Q181.153 309.588 174.834 309.588 Q172.658 309.588 170.39 309.218 Q168.144 308.848 165.737 308.107 L165.737 303.408 Q167.82 304.542 170.042 305.098 Q172.265 305.653 174.741 305.653 Q178.746 305.653 181.084 303.547 Q183.422 301.44 183.422 297.829 Q183.422 294.218 181.084 292.112 Q178.746 290.005 174.741 290.005 Q172.866 290.005 170.991 290.422 Q169.14 290.839 167.195 291.718 L167.195 274.357 Z\" fill=\"#000000\" fill-rule=\"evenodd\" fill-opacity=\"1\" /><path clip-path=\"url(#clip282)\" d=\"\n",
       "M1288.43 1445.72 L2292.51 631.072 L1288.43 87.9763 L284.343 631.072 L1288.43 1445.72 L1288.43 631.072 L284.343 631.072 L1288.43 631.072 L2292.51 631.072 L1288.43 631.072 \n",
       "   Z\n",
       "  \" fill=\"#009af9\" fill-rule=\"evenodd\" fill-opacity=\"1\"/>\n",
       "<polyline clip-path=\"url(#clip282)\" style=\"stroke:#009af9; stroke-linecap:butt; stroke-linejoin:round; stroke-width:4; stroke-opacity:1; fill:none\" points=\"\n",
       "  1288.43,1445.72 2292.51,631.072 1288.43,87.9763 284.343,631.072 1288.43,1445.72 \n",
       "  \"/>\n",
       "</svg>\n"
      ]
     },
     "execution_count": 13,
     "metadata": {},
     "output_type": "execute_result"
    }
   ],
   "source": [
    "P.sort();\n",
    "print(P.angles())\n",
    "P.plot()"
   ]
  },
  {
   "cell_type": "code",
   "execution_count": 14,
   "metadata": {},
   "outputs": [
    {
     "data": {
      "text/plain": [
       "Polygon(Vertex[Vertex(Real[1.1, 0.5]), Vertex(Real[1.0, 0.1]), Vertex(Real[-1.0, 0.55]), Vertex(Real[-1, 0])], var\"#7#11\"{Polygon}(Polygon(#= circular reference @-2 =#)), var\"#9#13\"{Polygon}(Polygon(#= circular reference @-2 =#)), var\"#8#12\"{Polygon}(Polygon(#= circular reference @-2 =#)), var\"#10#14\"{Polygon}(Polygon(#= circular reference @-2 =#)))"
      ]
     },
     "execution_count": 14,
     "metadata": {},
     "output_type": "execute_result"
    }
   ],
   "source": [
    "u4=Vertex([-1,0])\n",
    "u2=Vertex([1,0.1])\n",
    "u3=Vertex([-1,0.55])\n",
    "u1=Vertex([1.1,0.5])\n",
    "Q = Polygon([u1,u2,u3,u4])\n",
    "#Q = Polygon([u1,u2,u4,])"
   ]
  },
  {
   "cell_type": "code",
   "execution_count": 15,
   "metadata": {},
   "outputs": [
    {
     "name": "stdout",
     "output_type": "stream",
     "text": [
      "[0.049958395721942765, 1.3258176636680323, 3.117787627404723, 4.71238898038469]"
     ]
    },
    {
     "data": {
      "image/svg+xml": [
       "<?xml version=\"1.0\" encoding=\"utf-8\"?>\n",
       "<svg xmlns=\"http://www.w3.org/2000/svg\" xmlns:xlink=\"http://www.w3.org/1999/xlink\" width=\"600\" height=\"400\" viewBox=\"0 0 2400 1600\">\n",
       "<defs>\n",
       "  <clipPath id=\"clip320\">\n",
       "    <rect x=\"0\" y=\"0\" width=\"2400\" height=\"1600\"/>\n",
       "  </clipPath>\n",
       "</defs>\n",
       "<path clip-path=\"url(#clip320)\" d=\"\n",
       "M0 1600 L2400 1600 L2400 0 L0 0  Z\n",
       "  \" fill=\"#ffffff\" fill-rule=\"evenodd\" fill-opacity=\"1\"/>\n",
       "<defs>\n",
       "  <clipPath id=\"clip321\">\n",
       "    <rect x=\"480\" y=\"0\" width=\"1681\" height=\"1600\"/>\n",
       "  </clipPath>\n",
       "</defs>\n",
       "<path clip-path=\"url(#clip320)\" d=\"\n",
       "M156.598 1486.45 L2352.76 1486.45 L2352.76 47.2441 L156.598 47.2441  Z\n",
       "  \" fill=\"#ffffff\" fill-rule=\"evenodd\" fill-opacity=\"1\"/>\n",
       "<defs>\n",
       "  <clipPath id=\"clip322\">\n",
       "    <rect x=\"156\" y=\"47\" width=\"2197\" height=\"1440\"/>\n",
       "  </clipPath>\n",
       "</defs>\n",
       "<polyline clip-path=\"url(#clip322)\" style=\"stroke:#000000; stroke-linecap:butt; stroke-linejoin:round; stroke-width:2; stroke-opacity:0.1; fill:none\" points=\"\n",
       "  218.754,1486.45 218.754,47.2441 \n",
       "  \"/>\n",
       "<polyline clip-path=\"url(#clip322)\" style=\"stroke:#000000; stroke-linecap:butt; stroke-linejoin:round; stroke-width:2; stroke-opacity:0.1; fill:none\" points=\"\n",
       "  712.051,1486.45 712.051,47.2441 \n",
       "  \"/>\n",
       "<polyline clip-path=\"url(#clip322)\" style=\"stroke:#000000; stroke-linecap:butt; stroke-linejoin:round; stroke-width:2; stroke-opacity:0.1; fill:none\" points=\"\n",
       "  1205.35,1486.45 1205.35,47.2441 \n",
       "  \"/>\n",
       "<polyline clip-path=\"url(#clip322)\" style=\"stroke:#000000; stroke-linecap:butt; stroke-linejoin:round; stroke-width:2; stroke-opacity:0.1; fill:none\" points=\"\n",
       "  1698.64,1486.45 1698.64,47.2441 \n",
       "  \"/>\n",
       "<polyline clip-path=\"url(#clip322)\" style=\"stroke:#000000; stroke-linecap:butt; stroke-linejoin:round; stroke-width:2; stroke-opacity:0.1; fill:none\" points=\"\n",
       "  2191.94,1486.45 2191.94,47.2441 \n",
       "  \"/>\n",
       "<polyline clip-path=\"url(#clip320)\" style=\"stroke:#000000; stroke-linecap:butt; stroke-linejoin:round; stroke-width:4; stroke-opacity:1; fill:none\" points=\"\n",
       "  156.598,1486.45 2352.76,1486.45 \n",
       "  \"/>\n",
       "<polyline clip-path=\"url(#clip320)\" style=\"stroke:#000000; stroke-linecap:butt; stroke-linejoin:round; stroke-width:4; stroke-opacity:1; fill:none\" points=\"\n",
       "  218.754,1486.45 218.754,1467.55 \n",
       "  \"/>\n",
       "<polyline clip-path=\"url(#clip320)\" style=\"stroke:#000000; stroke-linecap:butt; stroke-linejoin:round; stroke-width:4; stroke-opacity:1; fill:none\" points=\"\n",
       "  712.051,1486.45 712.051,1467.55 \n",
       "  \"/>\n",
       "<polyline clip-path=\"url(#clip320)\" style=\"stroke:#000000; stroke-linecap:butt; stroke-linejoin:round; stroke-width:4; stroke-opacity:1; fill:none\" points=\"\n",
       "  1205.35,1486.45 1205.35,1467.55 \n",
       "  \"/>\n",
       "<polyline clip-path=\"url(#clip320)\" style=\"stroke:#000000; stroke-linecap:butt; stroke-linejoin:round; stroke-width:4; stroke-opacity:1; fill:none\" points=\"\n",
       "  1698.64,1486.45 1698.64,1467.55 \n",
       "  \"/>\n",
       "<polyline clip-path=\"url(#clip320)\" style=\"stroke:#000000; stroke-linecap:butt; stroke-linejoin:round; stroke-width:4; stroke-opacity:1; fill:none\" points=\"\n",
       "  2191.94,1486.45 2191.94,1467.55 \n",
       "  \"/>\n",
       "<path clip-path=\"url(#clip320)\" d=\"M165.282 1532.02 L194.957 1532.02 L194.957 1535.95 L165.282 1535.95 L165.282 1532.02 Z\" fill=\"#000000\" fill-rule=\"evenodd\" fill-opacity=\"1\" /><path clip-path=\"url(#clip320)\" d=\"M205.86 1544.91 L213.499 1544.91 L213.499 1518.55 L205.189 1520.21 L205.189 1515.95 L213.453 1514.29 L218.129 1514.29 L218.129 1544.91 L225.767 1544.91 L225.767 1548.85 L205.86 1548.85 L205.86 1544.91 Z\" fill=\"#000000\" fill-rule=\"evenodd\" fill-opacity=\"1\" /><path clip-path=\"url(#clip320)\" d=\"M235.212 1542.97 L240.096 1542.97 L240.096 1548.85 L235.212 1548.85 L235.212 1542.97 Z\" fill=\"#000000\" fill-rule=\"evenodd\" fill-opacity=\"1\" /><path clip-path=\"url(#clip320)\" d=\"M260.281 1517.37 Q256.67 1517.37 254.841 1520.93 Q253.036 1524.47 253.036 1531.6 Q253.036 1538.71 254.841 1542.27 Q256.67 1545.82 260.281 1545.82 Q263.915 1545.82 265.721 1542.27 Q267.55 1538.71 267.55 1531.6 Q267.55 1524.47 265.721 1520.93 Q263.915 1517.37 260.281 1517.37 M260.281 1513.66 Q266.091 1513.66 269.147 1518.27 Q272.226 1522.85 272.226 1531.6 Q272.226 1540.33 269.147 1544.94 Q266.091 1549.52 260.281 1549.52 Q254.471 1549.52 251.392 1544.94 Q248.337 1540.33 248.337 1531.6 Q248.337 1522.85 251.392 1518.27 Q254.471 1513.66 260.281 1513.66 Z\" fill=\"#000000\" fill-rule=\"evenodd\" fill-opacity=\"1\" /><path clip-path=\"url(#clip320)\" d=\"M659.076 1532.02 L688.752 1532.02 L688.752 1535.95 L659.076 1535.95 L659.076 1532.02 Z\" fill=\"#000000\" fill-rule=\"evenodd\" fill-opacity=\"1\" /><path clip-path=\"url(#clip320)\" d=\"M708.845 1517.37 Q705.233 1517.37 703.405 1520.93 Q701.599 1524.47 701.599 1531.6 Q701.599 1538.71 703.405 1542.27 Q705.233 1545.82 708.845 1545.82 Q712.479 1545.82 714.284 1542.27 Q716.113 1538.71 716.113 1531.6 Q716.113 1524.47 714.284 1520.93 Q712.479 1517.37 708.845 1517.37 M708.845 1513.66 Q714.655 1513.66 717.71 1518.27 Q720.789 1522.85 720.789 1531.6 Q720.789 1540.33 717.71 1544.94 Q714.655 1549.52 708.845 1549.52 Q703.034 1549.52 699.956 1544.94 Q696.9 1540.33 696.9 1531.6 Q696.9 1522.85 699.956 1518.27 Q703.034 1513.66 708.845 1513.66 Z\" fill=\"#000000\" fill-rule=\"evenodd\" fill-opacity=\"1\" /><path clip-path=\"url(#clip320)\" d=\"M729.006 1542.97 L733.891 1542.97 L733.891 1548.85 L729.006 1548.85 L729.006 1542.97 Z\" fill=\"#000000\" fill-rule=\"evenodd\" fill-opacity=\"1\" /><path clip-path=\"url(#clip320)\" d=\"M744.122 1514.29 L762.478 1514.29 L762.478 1518.22 L748.404 1518.22 L748.404 1526.7 Q749.423 1526.35 750.442 1526.19 Q751.46 1526 752.479 1526 Q758.266 1526 761.645 1529.17 Q765.025 1532.34 765.025 1537.76 Q765.025 1543.34 761.553 1546.44 Q758.08 1549.52 751.761 1549.52 Q749.585 1549.52 747.317 1549.15 Q745.071 1548.78 742.664 1548.04 L742.664 1543.34 Q744.747 1544.47 746.969 1545.03 Q749.192 1545.58 751.668 1545.58 Q755.673 1545.58 758.011 1543.48 Q760.349 1541.37 760.349 1537.76 Q760.349 1534.15 758.011 1532.04 Q755.673 1529.94 751.668 1529.94 Q749.793 1529.94 747.918 1530.35 Q746.067 1530.77 744.122 1531.65 L744.122 1514.29 Z\" fill=\"#000000\" fill-rule=\"evenodd\" fill-opacity=\"1\" /><path clip-path=\"url(#clip320)\" d=\"M1182.73 1517.37 Q1179.12 1517.37 1177.29 1520.93 Q1175.49 1524.47 1175.49 1531.6 Q1175.49 1538.71 1177.29 1542.27 Q1179.12 1545.82 1182.73 1545.82 Q1186.37 1545.82 1188.17 1542.27 Q1190 1538.71 1190 1531.6 Q1190 1524.47 1188.17 1520.93 Q1186.37 1517.37 1182.73 1517.37 M1182.73 1513.66 Q1188.54 1513.66 1191.6 1518.27 Q1194.68 1522.85 1194.68 1531.6 Q1194.68 1540.33 1191.6 1544.94 Q1188.54 1549.52 1182.73 1549.52 Q1176.92 1549.52 1173.84 1544.94 Q1170.79 1540.33 1170.79 1531.6 Q1170.79 1522.85 1173.84 1518.27 Q1176.92 1513.66 1182.73 1513.66 Z\" fill=\"#000000\" fill-rule=\"evenodd\" fill-opacity=\"1\" /><path clip-path=\"url(#clip320)\" d=\"M1202.89 1542.97 L1207.78 1542.97 L1207.78 1548.85 L1202.89 1548.85 L1202.89 1542.97 Z\" fill=\"#000000\" fill-rule=\"evenodd\" fill-opacity=\"1\" /><path clip-path=\"url(#clip320)\" d=\"M1227.96 1517.37 Q1224.35 1517.37 1222.52 1520.93 Q1220.72 1524.47 1220.72 1531.6 Q1220.72 1538.71 1222.52 1542.27 Q1224.35 1545.82 1227.96 1545.82 Q1231.6 1545.82 1233.4 1542.27 Q1235.23 1538.71 1235.23 1531.6 Q1235.23 1524.47 1233.4 1520.93 Q1231.6 1517.37 1227.96 1517.37 M1227.96 1513.66 Q1233.77 1513.66 1236.83 1518.27 Q1239.91 1522.85 1239.91 1531.6 Q1239.91 1540.33 1236.83 1544.94 Q1233.77 1549.52 1227.96 1549.52 Q1222.15 1549.52 1219.07 1544.94 Q1216.02 1540.33 1216.02 1531.6 Q1216.02 1522.85 1219.07 1518.27 Q1222.15 1513.66 1227.96 1513.66 Z\" fill=\"#000000\" fill-rule=\"evenodd\" fill-opacity=\"1\" /><path clip-path=\"url(#clip320)\" d=\"M1676.53 1517.37 Q1672.92 1517.37 1671.09 1520.93 Q1669.28 1524.47 1669.28 1531.6 Q1669.28 1538.71 1671.09 1542.27 Q1672.92 1545.82 1676.53 1545.82 Q1680.16 1545.82 1681.97 1542.27 Q1683.79 1538.71 1683.79 1531.6 Q1683.79 1524.47 1681.97 1520.93 Q1680.16 1517.37 1676.53 1517.37 M1676.53 1513.66 Q1682.34 1513.66 1685.39 1518.27 Q1688.47 1522.85 1688.47 1531.6 Q1688.47 1540.33 1685.39 1544.94 Q1682.34 1549.52 1676.53 1549.52 Q1670.72 1549.52 1667.64 1544.94 Q1664.58 1540.33 1664.58 1531.6 Q1664.58 1522.85 1667.64 1518.27 Q1670.72 1513.66 1676.53 1513.66 Z\" fill=\"#000000\" fill-rule=\"evenodd\" fill-opacity=\"1\" /><path clip-path=\"url(#clip320)\" d=\"M1696.69 1542.97 L1701.57 1542.97 L1701.57 1548.85 L1696.69 1548.85 L1696.69 1542.97 Z\" fill=\"#000000\" fill-rule=\"evenodd\" fill-opacity=\"1\" /><path clip-path=\"url(#clip320)\" d=\"M1711.8 1514.29 L1730.16 1514.29 L1730.16 1518.22 L1716.09 1518.22 L1716.09 1526.7 Q1717.1 1526.35 1718.12 1526.19 Q1719.14 1526 1720.16 1526 Q1725.95 1526 1729.33 1529.17 Q1732.71 1532.34 1732.71 1537.76 Q1732.71 1543.34 1729.23 1546.44 Q1725.76 1549.52 1719.44 1549.52 Q1717.27 1549.52 1715 1549.15 Q1712.75 1548.78 1710.35 1548.04 L1710.35 1543.34 Q1712.43 1544.47 1714.65 1545.03 Q1716.87 1545.58 1719.35 1545.58 Q1723.35 1545.58 1725.69 1543.48 Q1728.03 1541.37 1728.03 1537.76 Q1728.03 1534.15 1725.69 1532.04 Q1723.35 1529.94 1719.35 1529.94 Q1717.48 1529.94 1715.6 1530.35 Q1713.75 1530.77 1711.8 1531.65 L1711.8 1514.29 Z\" fill=\"#000000\" fill-rule=\"evenodd\" fill-opacity=\"1\" /><path clip-path=\"url(#clip320)\" d=\"M2159.09 1544.91 L2166.73 1544.91 L2166.73 1518.55 L2158.42 1520.21 L2158.42 1515.95 L2166.69 1514.29 L2171.36 1514.29 L2171.36 1544.91 L2179 1544.91 L2179 1548.85 L2159.09 1548.85 L2159.09 1544.91 Z\" fill=\"#000000\" fill-rule=\"evenodd\" fill-opacity=\"1\" /><path clip-path=\"url(#clip320)\" d=\"M2188.45 1542.97 L2193.33 1542.97 L2193.33 1548.85 L2188.45 1548.85 L2188.45 1542.97 Z\" fill=\"#000000\" fill-rule=\"evenodd\" fill-opacity=\"1\" /><path clip-path=\"url(#clip320)\" d=\"M2213.52 1517.37 Q2209.9 1517.37 2208.08 1520.93 Q2206.27 1524.47 2206.27 1531.6 Q2206.27 1538.71 2208.08 1542.27 Q2209.9 1545.82 2213.52 1545.82 Q2217.15 1545.82 2218.95 1542.27 Q2220.78 1538.71 2220.78 1531.6 Q2220.78 1524.47 2218.95 1520.93 Q2217.15 1517.37 2213.52 1517.37 M2213.52 1513.66 Q2219.33 1513.66 2222.38 1518.27 Q2225.46 1522.85 2225.46 1531.6 Q2225.46 1540.33 2222.38 1544.94 Q2219.33 1549.52 2213.52 1549.52 Q2207.7 1549.52 2204.63 1544.94 Q2201.57 1540.33 2201.57 1531.6 Q2201.57 1522.85 2204.63 1518.27 Q2207.7 1513.66 2213.52 1513.66 Z\" fill=\"#000000\" fill-rule=\"evenodd\" fill-opacity=\"1\" /><polyline clip-path=\"url(#clip322)\" style=\"stroke:#000000; stroke-linecap:butt; stroke-linejoin:round; stroke-width:2; stroke-opacity:0.1; fill:none\" points=\"\n",
       "  156.598,1445.72 2352.76,1445.72 \n",
       "  \"/>\n",
       "<polyline clip-path=\"url(#clip322)\" style=\"stroke:#000000; stroke-linecap:butt; stroke-linejoin:round; stroke-width:2; stroke-opacity:0.1; fill:none\" points=\"\n",
       "  156.598,1198.85 2352.76,1198.85 \n",
       "  \"/>\n",
       "<polyline clip-path=\"url(#clip322)\" style=\"stroke:#000000; stroke-linecap:butt; stroke-linejoin:round; stroke-width:2; stroke-opacity:0.1; fill:none\" points=\"\n",
       "  156.598,951.992 2352.76,951.992 \n",
       "  \"/>\n",
       "<polyline clip-path=\"url(#clip322)\" style=\"stroke:#000000; stroke-linecap:butt; stroke-linejoin:round; stroke-width:2; stroke-opacity:0.1; fill:none\" points=\"\n",
       "  156.598,705.131 2352.76,705.131 \n",
       "  \"/>\n",
       "<polyline clip-path=\"url(#clip322)\" style=\"stroke:#000000; stroke-linecap:butt; stroke-linejoin:round; stroke-width:2; stroke-opacity:0.1; fill:none\" points=\"\n",
       "  156.598,458.269 2352.76,458.269 \n",
       "  \"/>\n",
       "<polyline clip-path=\"url(#clip322)\" style=\"stroke:#000000; stroke-linecap:butt; stroke-linejoin:round; stroke-width:2; stroke-opacity:0.1; fill:none\" points=\"\n",
       "  156.598,211.407 2352.76,211.407 \n",
       "  \"/>\n",
       "<polyline clip-path=\"url(#clip320)\" style=\"stroke:#000000; stroke-linecap:butt; stroke-linejoin:round; stroke-width:4; stroke-opacity:1; fill:none\" points=\"\n",
       "  156.598,1486.45 156.598,47.2441 \n",
       "  \"/>\n",
       "<polyline clip-path=\"url(#clip320)\" style=\"stroke:#000000; stroke-linecap:butt; stroke-linejoin:round; stroke-width:4; stroke-opacity:1; fill:none\" points=\"\n",
       "  156.598,1445.72 175.496,1445.72 \n",
       "  \"/>\n",
       "<polyline clip-path=\"url(#clip320)\" style=\"stroke:#000000; stroke-linecap:butt; stroke-linejoin:round; stroke-width:4; stroke-opacity:1; fill:none\" points=\"\n",
       "  156.598,1198.85 175.496,1198.85 \n",
       "  \"/>\n",
       "<polyline clip-path=\"url(#clip320)\" style=\"stroke:#000000; stroke-linecap:butt; stroke-linejoin:round; stroke-width:4; stroke-opacity:1; fill:none\" points=\"\n",
       "  156.598,951.992 175.496,951.992 \n",
       "  \"/>\n",
       "<polyline clip-path=\"url(#clip320)\" style=\"stroke:#000000; stroke-linecap:butt; stroke-linejoin:round; stroke-width:4; stroke-opacity:1; fill:none\" points=\"\n",
       "  156.598,705.131 175.496,705.131 \n",
       "  \"/>\n",
       "<polyline clip-path=\"url(#clip320)\" style=\"stroke:#000000; stroke-linecap:butt; stroke-linejoin:round; stroke-width:4; stroke-opacity:1; fill:none\" points=\"\n",
       "  156.598,458.269 175.496,458.269 \n",
       "  \"/>\n",
       "<polyline clip-path=\"url(#clip320)\" style=\"stroke:#000000; stroke-linecap:butt; stroke-linejoin:round; stroke-width:4; stroke-opacity:1; fill:none\" points=\"\n",
       "  156.598,211.407 175.496,211.407 \n",
       "  \"/>\n",
       "<path clip-path=\"url(#clip320)\" d=\"M63.4226 1431.51 Q59.8115 1431.51 57.9828 1435.08 Q56.1773 1438.62 56.1773 1445.75 Q56.1773 1452.86 57.9828 1456.42 Q59.8115 1459.96 63.4226 1459.96 Q67.0569 1459.96 68.8624 1456.42 Q70.6911 1452.86 70.6911 1445.75 Q70.6911 1438.62 68.8624 1435.08 Q67.0569 1431.51 63.4226 1431.51 M63.4226 1427.81 Q69.2328 1427.81 72.2883 1432.42 Q75.367 1437 75.367 1445.75 Q75.367 1454.48 72.2883 1459.08 Q69.2328 1463.67 63.4226 1463.67 Q57.6125 1463.67 54.5338 1459.08 Q51.4782 1454.48 51.4782 1445.75 Q51.4782 1437 54.5338 1432.42 Q57.6125 1427.81 63.4226 1427.81 Z\" fill=\"#000000\" fill-rule=\"evenodd\" fill-opacity=\"1\" /><path clip-path=\"url(#clip320)\" d=\"M83.5845 1457.12 L88.4688 1457.12 L88.4688 1463 L83.5845 1463 L83.5845 1457.12 Z\" fill=\"#000000\" fill-rule=\"evenodd\" fill-opacity=\"1\" /><path clip-path=\"url(#clip320)\" d=\"M108.654 1431.51 Q105.043 1431.51 103.214 1435.08 Q101.409 1438.62 101.409 1445.75 Q101.409 1452.86 103.214 1456.42 Q105.043 1459.96 108.654 1459.96 Q112.288 1459.96 114.094 1456.42 Q115.922 1452.86 115.922 1445.75 Q115.922 1438.62 114.094 1435.08 Q112.288 1431.51 108.654 1431.51 M108.654 1427.81 Q114.464 1427.81 117.52 1432.42 Q120.598 1437 120.598 1445.75 Q120.598 1454.48 117.52 1459.08 Q114.464 1463.67 108.654 1463.67 Q102.844 1463.67 99.765 1459.08 Q96.7095 1454.48 96.7095 1445.75 Q96.7095 1437 99.765 1432.42 Q102.844 1427.81 108.654 1427.81 Z\" fill=\"#000000\" fill-rule=\"evenodd\" fill-opacity=\"1\" /><path clip-path=\"url(#clip320)\" d=\"M64.6495 1184.65 Q61.0384 1184.65 59.2097 1188.22 Q57.4041 1191.76 57.4041 1198.89 Q57.4041 1206 59.2097 1209.56 Q61.0384 1213.1 64.6495 1213.1 Q68.2837 1213.1 70.0892 1209.56 Q71.9179 1206 71.9179 1198.89 Q71.9179 1191.76 70.0892 1188.22 Q68.2837 1184.65 64.6495 1184.65 M64.6495 1180.95 Q70.4596 1180.95 73.5152 1185.56 Q76.5938 1190.14 76.5938 1198.89 Q76.5938 1207.62 73.5152 1212.22 Q70.4596 1216.81 64.6495 1216.81 Q58.8393 1216.81 55.7606 1212.22 Q52.7051 1207.62 52.7051 1198.89 Q52.7051 1190.14 55.7606 1185.56 Q58.8393 1180.95 64.6495 1180.95 Z\" fill=\"#000000\" fill-rule=\"evenodd\" fill-opacity=\"1\" /><path clip-path=\"url(#clip320)\" d=\"M84.8114 1210.25 L89.6956 1210.25 L89.6956 1216.13 L84.8114 1216.13 L84.8114 1210.25 Z\" fill=\"#000000\" fill-rule=\"evenodd\" fill-opacity=\"1\" /><path clip-path=\"url(#clip320)\" d=\"M100.691 1212.2 L108.33 1212.2 L108.33 1185.83 L100.02 1187.5 L100.02 1183.24 L108.283 1181.57 L112.959 1181.57 L112.959 1212.2 L120.598 1212.2 L120.598 1216.13 L100.691 1216.13 L100.691 1212.2 Z\" fill=\"#000000\" fill-rule=\"evenodd\" fill-opacity=\"1\" /><path clip-path=\"url(#clip320)\" d=\"M65.0198 937.791 Q61.4087 937.791 59.58 941.356 Q57.7745 944.897 57.7745 952.027 Q57.7745 959.133 59.58 962.698 Q61.4087 966.24 65.0198 966.24 Q68.6541 966.24 70.4596 962.698 Q72.2883 959.133 72.2883 952.027 Q72.2883 944.897 70.4596 941.356 Q68.6541 937.791 65.0198 937.791 M65.0198 934.087 Q70.83 934.087 73.8855 938.694 Q76.9642 943.277 76.9642 952.027 Q76.9642 960.754 73.8855 965.36 Q70.83 969.944 65.0198 969.944 Q59.2097 969.944 56.131 965.36 Q53.0754 960.754 53.0754 952.027 Q53.0754 943.277 56.131 938.694 Q59.2097 934.087 65.0198 934.087 Z\" fill=\"#000000\" fill-rule=\"evenodd\" fill-opacity=\"1\" /><path clip-path=\"url(#clip320)\" d=\"M85.1818 963.393 L90.066 963.393 L90.066 969.272 L85.1818 969.272 L85.1818 963.393 Z\" fill=\"#000000\" fill-rule=\"evenodd\" fill-opacity=\"1\" /><path clip-path=\"url(#clip320)\" d=\"M104.279 965.337 L120.598 965.337 L120.598 969.272 L98.6539 969.272 L98.6539 965.337 Q101.316 962.582 105.899 957.953 Q110.506 953.3 111.686 951.958 Q113.932 949.434 114.811 947.698 Q115.714 945.939 115.714 944.249 Q115.714 941.495 113.77 939.759 Q111.848 938.022 108.746 938.022 Q106.547 938.022 104.094 938.786 Q101.663 939.55 98.8854 941.101 L98.8854 936.379 Q101.709 935.245 104.163 934.666 Q106.617 934.087 108.654 934.087 Q114.024 934.087 117.219 936.772 Q120.413 939.458 120.413 943.948 Q120.413 946.078 119.603 947.999 Q118.816 949.897 116.709 952.49 Q116.131 953.161 113.029 956.379 Q109.927 959.573 104.279 965.337 Z\" fill=\"#000000\" fill-rule=\"evenodd\" fill-opacity=\"1\" /><path clip-path=\"url(#clip320)\" d=\"M64.0708 690.929 Q60.4597 690.929 58.631 694.494 Q56.8254 698.036 56.8254 705.165 Q56.8254 712.272 58.631 715.837 Q60.4597 719.378 64.0708 719.378 Q67.705 719.378 69.5105 715.837 Q71.3392 712.272 71.3392 705.165 Q71.3392 698.036 69.5105 694.494 Q67.705 690.929 64.0708 690.929 M64.0708 687.226 Q69.8809 687.226 72.9365 691.832 Q76.0151 696.415 76.0151 705.165 Q76.0151 713.892 72.9365 718.499 Q69.8809 723.082 64.0708 723.082 Q58.2606 723.082 55.1819 718.499 Q52.1264 713.892 52.1264 705.165 Q52.1264 696.415 55.1819 691.832 Q58.2606 687.226 64.0708 687.226 Z\" fill=\"#000000\" fill-rule=\"evenodd\" fill-opacity=\"1\" /><path clip-path=\"url(#clip320)\" d=\"M84.2327 716.531 L89.1169 716.531 L89.1169 722.411 L84.2327 722.411 L84.2327 716.531 Z\" fill=\"#000000\" fill-rule=\"evenodd\" fill-opacity=\"1\" /><path clip-path=\"url(#clip320)\" d=\"M113.469 703.776 Q116.825 704.494 118.7 706.762 Q120.598 709.031 120.598 712.364 Q120.598 717.48 117.08 720.281 Q113.561 723.082 107.08 723.082 Q104.904 723.082 102.589 722.642 Q100.297 722.225 97.8437 721.369 L97.8437 716.855 Q99.7882 717.989 102.103 718.568 Q104.418 719.147 106.941 719.147 Q111.339 719.147 113.631 717.411 Q115.945 715.674 115.945 712.364 Q115.945 709.309 113.793 707.596 Q111.663 705.86 107.844 705.86 L103.816 705.86 L103.816 702.017 L108.029 702.017 Q111.478 702.017 113.307 700.651 Q115.135 699.263 115.135 696.67 Q115.135 694.008 113.237 692.596 Q111.362 691.161 107.844 691.161 Q105.922 691.161 103.723 691.577 Q101.524 691.994 98.8854 692.874 L98.8854 688.707 Q101.547 687.966 103.862 687.596 Q106.2 687.226 108.26 687.226 Q113.584 687.226 116.686 689.656 Q119.788 692.063 119.788 696.184 Q119.788 699.054 118.145 701.045 Q116.501 703.013 113.469 703.776 Z\" fill=\"#000000\" fill-rule=\"evenodd\" fill-opacity=\"1\" /><path clip-path=\"url(#clip320)\" d=\"M62.9365 444.068 Q59.3254 444.068 57.4967 447.632 Q55.6912 451.174 55.6912 458.304 Q55.6912 465.41 57.4967 468.975 Q59.3254 472.516 62.9365 472.516 Q66.5707 472.516 68.3763 468.975 Q70.205 465.41 70.205 458.304 Q70.205 451.174 68.3763 447.632 Q66.5707 444.068 62.9365 444.068 M62.9365 440.364 Q68.7467 440.364 71.8022 444.97 Q74.8809 449.554 74.8809 458.304 Q74.8809 467.03 71.8022 471.637 Q68.7467 476.22 62.9365 476.22 Q57.1264 476.22 54.0477 471.637 Q50.9921 467.03 50.9921 458.304 Q50.9921 449.554 54.0477 444.97 Q57.1264 440.364 62.9365 440.364 Z\" fill=\"#000000\" fill-rule=\"evenodd\" fill-opacity=\"1\" /><path clip-path=\"url(#clip320)\" d=\"M83.0984 469.669 L87.9827 469.669 L87.9827 475.549 L83.0984 475.549 L83.0984 469.669 Z\" fill=\"#000000\" fill-rule=\"evenodd\" fill-opacity=\"1\" /><path clip-path=\"url(#clip320)\" d=\"M111.015 445.063 L99.2095 463.512 L111.015 463.512 L111.015 445.063 M109.788 440.989 L115.668 440.989 L115.668 463.512 L120.598 463.512 L120.598 467.401 L115.668 467.401 L115.668 475.549 L111.015 475.549 L111.015 467.401 L95.4132 467.401 L95.4132 462.887 L109.788 440.989 Z\" fill=\"#000000\" fill-rule=\"evenodd\" fill-opacity=\"1\" /><path clip-path=\"url(#clip320)\" d=\"M64.418 197.206 Q60.8069 197.206 58.9782 200.771 Q57.1726 204.312 57.1726 211.442 Q57.1726 218.548 58.9782 222.113 Q60.8069 225.655 64.418 225.655 Q68.0522 225.655 69.8578 222.113 Q71.6865 218.548 71.6865 211.442 Q71.6865 204.312 69.8578 200.771 Q68.0522 197.206 64.418 197.206 M64.418 193.502 Q70.2281 193.502 73.2837 198.109 Q76.3624 202.692 76.3624 211.442 Q76.3624 220.169 73.2837 224.775 Q70.2281 229.358 64.418 229.358 Q58.6078 229.358 55.5291 224.775 Q52.4736 220.169 52.4736 211.442 Q52.4736 202.692 55.5291 198.109 Q58.6078 193.502 64.418 193.502 Z\" fill=\"#000000\" fill-rule=\"evenodd\" fill-opacity=\"1\" /><path clip-path=\"url(#clip320)\" d=\"M84.5799 222.808 L89.4641 222.808 L89.4641 228.687 L84.5799 228.687 L84.5799 222.808 Z\" fill=\"#000000\" fill-rule=\"evenodd\" fill-opacity=\"1\" /><path clip-path=\"url(#clip320)\" d=\"M99.6956 194.127 L118.052 194.127 L118.052 198.062 L103.978 198.062 L103.978 206.534 Q104.996 206.187 106.015 206.025 Q107.033 205.84 108.052 205.84 Q113.839 205.84 117.219 209.011 Q120.598 212.183 120.598 217.599 Q120.598 223.178 117.126 226.28 Q113.654 229.358 107.334 229.358 Q105.159 229.358 102.89 228.988 Q100.645 228.618 98.2372 227.877 L98.2372 223.178 Q100.321 224.312 102.543 224.868 Q104.765 225.423 107.242 225.423 Q111.246 225.423 113.584 223.317 Q115.922 221.21 115.922 217.599 Q115.922 213.988 113.584 211.882 Q111.246 209.775 107.242 209.775 Q105.367 209.775 103.492 210.192 Q101.64 210.609 99.6956 211.488 L99.6956 194.127 Z\" fill=\"#000000\" fill-rule=\"evenodd\" fill-opacity=\"1\" /><path clip-path=\"url(#clip322)\" d=\"\n",
       "M218.754 1445.72 L2191.94 1198.85 L2290.6 211.407 L218.754 87.9763 L218.754 1445.72 L218.754 1445.72 L218.754 1445.72 L2290.6 1445.72 L2191.94 1445.72 L218.754 1445.72 \n",
       "   Z\n",
       "  \" fill=\"#009af9\" fill-rule=\"evenodd\" fill-opacity=\"1\"/>\n",
       "<polyline clip-path=\"url(#clip322)\" style=\"stroke:#009af9; stroke-linecap:butt; stroke-linejoin:round; stroke-width:4; stroke-opacity:1; fill:none\" points=\"\n",
       "  218.754,1445.72 2191.94,1198.85 2290.6,211.407 218.754,87.9763 218.754,1445.72 \n",
       "  \"/>\n",
       "</svg>\n"
      ]
     },
     "execution_count": 15,
     "metadata": {},
     "output_type": "execute_result"
    }
   ],
   "source": [
    "Q.sort();\n",
    "print(Q.angles())\n",
    "Q.plot()"
   ]
  },
  {
   "cell_type": "code",
   "execution_count": 16,
   "metadata": {
    "scrolled": true
   },
   "outputs": [
    {
     "name": "stdout",
     "output_type": "stream",
     "text": [
      "m=4 n=4\n",
      "angP= [0.49934672168013006, 2.792821650005886, 3.4903636571737002, 5.783838585499456, 100.0]\n",
      "angQ= [0.049958395721942765, 1.3258176636680323, 3.117787627404723, 4.71238898038469, 100.0]\n",
      "angQ[j] is minimal\n",
      "12\n",
      "angP[i] is minimal\n",
      "22\n",
      "angQ[j] is minimal\n",
      "23\n",
      "angP[i] is minimal\n",
      "33\n",
      "angQ[j] is minimal\n",
      "34\n",
      "angP[i] is minimal\n",
      "44\n"
     ]
    },
    {
     "data": {
      "text/plain": [
       "Polygon(Vertex[Vertex(Real[-1.0, -0.6]), Vertex(Real[1.0, -0.5]), Vertex(Real[2.1, 0.1]), Vertex(Real[2.2, 0.5]), Vertex(Real[1.1, 0.9]), Vertex(Real[-1.0, 0.9500000000000001]), Vertex(Real[-2.1, 0.55])], var\"#7#11\"{Polygon}(Polygon(#= circular reference @-2 =#)), var\"#9#13\"{Polygon}(Polygon(#= circular reference @-2 =#)), var\"#8#12\"{Polygon}(Polygon(#= circular reference @-2 =#)), var\"#10#14\"{Polygon}(Polygon(#= circular reference @-2 =#)))"
      ]
     },
     "execution_count": 16,
     "metadata": {},
     "output_type": "execute_result"
    }
   ],
   "source": [
    "R=minkowskiSum(P,Q)\n",
    "#print(R.angles())"
   ]
  },
  {
   "cell_type": "code",
   "execution_count": 17,
   "metadata": {},
   "outputs": [
    {
     "data": {
      "image/svg+xml": [
       "<?xml version=\"1.0\" encoding=\"utf-8\"?>\n",
       "<svg xmlns=\"http://www.w3.org/2000/svg\" xmlns:xlink=\"http://www.w3.org/1999/xlink\" width=\"600\" height=\"400\" viewBox=\"0 0 2400 1600\">\n",
       "<defs>\n",
       "  <clipPath id=\"clip360\">\n",
       "    <rect x=\"0\" y=\"0\" width=\"2400\" height=\"1600\"/>\n",
       "  </clipPath>\n",
       "</defs>\n",
       "<path clip-path=\"url(#clip360)\" d=\"\n",
       "M0 1600 L2400 1600 L2400 0 L0 0  Z\n",
       "  \" fill=\"#ffffff\" fill-rule=\"evenodd\" fill-opacity=\"1\"/>\n",
       "<defs>\n",
       "  <clipPath id=\"clip361\">\n",
       "    <rect x=\"480\" y=\"0\" width=\"1681\" height=\"1600\"/>\n",
       "  </clipPath>\n",
       "</defs>\n",
       "<path clip-path=\"url(#clip360)\" d=\"\n",
       "M224.098 1486.45 L2352.76 1486.45 L2352.76 47.2441 L224.098 47.2441  Z\n",
       "  \" fill=\"#ffffff\" fill-rule=\"evenodd\" fill-opacity=\"1\"/>\n",
       "<defs>\n",
       "  <clipPath id=\"clip362\">\n",
       "    <rect x=\"224\" y=\"47\" width=\"2130\" height=\"1440\"/>\n",
       "  </clipPath>\n",
       "</defs>\n",
       "<polyline clip-path=\"url(#clip362)\" style=\"stroke:#000000; stroke-linecap:butt; stroke-linejoin:round; stroke-width:2; stroke-opacity:0.1; fill:none\" points=\"\n",
       "  331.044,1486.45 331.044,47.2441 \n",
       "  \"/>\n",
       "<polyline clip-path=\"url(#clip362)\" style=\"stroke:#000000; stroke-linecap:butt; stroke-linejoin:round; stroke-width:2; stroke-opacity:0.1; fill:none\" points=\"\n",
       "  798.06,1486.45 798.06,47.2441 \n",
       "  \"/>\n",
       "<polyline clip-path=\"url(#clip362)\" style=\"stroke:#000000; stroke-linecap:butt; stroke-linejoin:round; stroke-width:2; stroke-opacity:0.1; fill:none\" points=\"\n",
       "  1265.08,1486.45 1265.08,47.2441 \n",
       "  \"/>\n",
       "<polyline clip-path=\"url(#clip362)\" style=\"stroke:#000000; stroke-linecap:butt; stroke-linejoin:round; stroke-width:2; stroke-opacity:0.1; fill:none\" points=\"\n",
       "  1732.09,1486.45 1732.09,47.2441 \n",
       "  \"/>\n",
       "<polyline clip-path=\"url(#clip362)\" style=\"stroke:#000000; stroke-linecap:butt; stroke-linejoin:round; stroke-width:2; stroke-opacity:0.1; fill:none\" points=\"\n",
       "  2199.11,1486.45 2199.11,47.2441 \n",
       "  \"/>\n",
       "<polyline clip-path=\"url(#clip360)\" style=\"stroke:#000000; stroke-linecap:butt; stroke-linejoin:round; stroke-width:4; stroke-opacity:1; fill:none\" points=\"\n",
       "  224.098,1486.45 2352.76,1486.45 \n",
       "  \"/>\n",
       "<polyline clip-path=\"url(#clip360)\" style=\"stroke:#000000; stroke-linecap:butt; stroke-linejoin:round; stroke-width:4; stroke-opacity:1; fill:none\" points=\"\n",
       "  331.044,1486.45 331.044,1467.55 \n",
       "  \"/>\n",
       "<polyline clip-path=\"url(#clip360)\" style=\"stroke:#000000; stroke-linecap:butt; stroke-linejoin:round; stroke-width:4; stroke-opacity:1; fill:none\" points=\"\n",
       "  798.06,1486.45 798.06,1467.55 \n",
       "  \"/>\n",
       "<polyline clip-path=\"url(#clip360)\" style=\"stroke:#000000; stroke-linecap:butt; stroke-linejoin:round; stroke-width:4; stroke-opacity:1; fill:none\" points=\"\n",
       "  1265.08,1486.45 1265.08,1467.55 \n",
       "  \"/>\n",
       "<polyline clip-path=\"url(#clip360)\" style=\"stroke:#000000; stroke-linecap:butt; stroke-linejoin:round; stroke-width:4; stroke-opacity:1; fill:none\" points=\"\n",
       "  1732.09,1486.45 1732.09,1467.55 \n",
       "  \"/>\n",
       "<polyline clip-path=\"url(#clip360)\" style=\"stroke:#000000; stroke-linecap:butt; stroke-linejoin:round; stroke-width:4; stroke-opacity:1; fill:none\" points=\"\n",
       "  2199.11,1486.45 2199.11,1467.55 \n",
       "  \"/>\n",
       "<path clip-path=\"url(#clip360)\" d=\"M300.987 1532.02 L330.663 1532.02 L330.663 1535.95 L300.987 1535.95 L300.987 1532.02 Z\" fill=\"#000000\" fill-rule=\"evenodd\" fill-opacity=\"1\" /><path clip-path=\"url(#clip360)\" d=\"M344.783 1544.91 L361.102 1544.91 L361.102 1548.85 L339.158 1548.85 L339.158 1544.91 Q341.82 1542.16 346.403 1537.53 Q351.01 1532.88 352.19 1531.53 Q354.436 1529.01 355.315 1527.27 Q356.218 1525.51 356.218 1523.82 Q356.218 1521.07 354.274 1519.33 Q352.352 1517.6 349.25 1517.6 Q347.051 1517.6 344.598 1518.36 Q342.167 1519.13 339.389 1520.68 L339.389 1515.95 Q342.213 1514.82 344.667 1514.24 Q347.121 1513.66 349.158 1513.66 Q354.528 1513.66 357.723 1516.35 Q360.917 1519.03 360.917 1523.52 Q360.917 1525.65 360.107 1527.57 Q359.32 1529.47 357.213 1532.07 Q356.635 1532.74 353.533 1535.95 Q350.431 1539.15 344.783 1544.91 Z\" fill=\"#000000\" fill-rule=\"evenodd\" fill-opacity=\"1\" /><path clip-path=\"url(#clip360)\" d=\"M767.817 1532.02 L797.493 1532.02 L797.493 1535.95 L767.817 1535.95 L767.817 1532.02 Z\" fill=\"#000000\" fill-rule=\"evenodd\" fill-opacity=\"1\" /><path clip-path=\"url(#clip360)\" d=\"M808.396 1544.91 L816.035 1544.91 L816.035 1518.55 L807.725 1520.21 L807.725 1515.95 L815.988 1514.29 L820.664 1514.29 L820.664 1544.91 L828.303 1544.91 L828.303 1548.85 L808.396 1548.85 L808.396 1544.91 Z\" fill=\"#000000\" fill-rule=\"evenodd\" fill-opacity=\"1\" /><path clip-path=\"url(#clip360)\" d=\"M1265.08 1517.37 Q1261.47 1517.37 1259.64 1520.93 Q1257.83 1524.47 1257.83 1531.6 Q1257.83 1538.71 1259.64 1542.27 Q1261.47 1545.82 1265.08 1545.82 Q1268.71 1545.82 1270.52 1542.27 Q1272.34 1538.71 1272.34 1531.6 Q1272.34 1524.47 1270.52 1520.93 Q1268.71 1517.37 1265.08 1517.37 M1265.08 1513.66 Q1270.89 1513.66 1273.94 1518.27 Q1277.02 1522.85 1277.02 1531.6 Q1277.02 1540.33 1273.94 1544.94 Q1270.89 1549.52 1265.08 1549.52 Q1259.27 1549.52 1256.19 1544.94 Q1253.13 1540.33 1253.13 1531.6 Q1253.13 1522.85 1256.19 1518.27 Q1259.27 1513.66 1265.08 1513.66 Z\" fill=\"#000000\" fill-rule=\"evenodd\" fill-opacity=\"1\" /><path clip-path=\"url(#clip360)\" d=\"M1722.47 1544.91 L1730.11 1544.91 L1730.11 1518.55 L1721.8 1520.21 L1721.8 1515.95 L1730.07 1514.29 L1734.74 1514.29 L1734.74 1544.91 L1742.38 1544.91 L1742.38 1548.85 L1722.47 1548.85 L1722.47 1544.91 Z\" fill=\"#000000\" fill-rule=\"evenodd\" fill-opacity=\"1\" /><path clip-path=\"url(#clip360)\" d=\"M2193.76 1544.91 L2210.08 1544.91 L2210.08 1548.85 L2188.14 1548.85 L2188.14 1544.91 Q2190.8 1542.16 2195.38 1537.53 Q2199.99 1532.88 2201.17 1531.53 Q2203.41 1529.01 2204.29 1527.27 Q2205.2 1525.51 2205.2 1523.82 Q2205.2 1521.07 2203.25 1519.33 Q2201.33 1517.6 2198.23 1517.6 Q2196.03 1517.6 2193.58 1518.36 Q2191.14 1519.13 2188.37 1520.68 L2188.37 1515.95 Q2191.19 1514.82 2193.64 1514.24 Q2196.1 1513.66 2198.14 1513.66 Q2203.51 1513.66 2206.7 1516.35 Q2209.89 1519.03 2209.89 1523.52 Q2209.89 1525.65 2209.08 1527.57 Q2208.3 1529.47 2206.19 1532.07 Q2205.61 1532.74 2202.51 1535.95 Q2199.41 1539.15 2193.76 1544.91 Z\" fill=\"#000000\" fill-rule=\"evenodd\" fill-opacity=\"1\" /><polyline clip-path=\"url(#clip362)\" style=\"stroke:#000000; stroke-linecap:butt; stroke-linejoin:round; stroke-width:2; stroke-opacity:0.1; fill:none\" points=\"\n",
       "  224.098,1358.12 2352.76,1358.12 \n",
       "  \"/>\n",
       "<polyline clip-path=\"url(#clip362)\" style=\"stroke:#000000; stroke-linecap:butt; stroke-linejoin:round; stroke-width:2; stroke-opacity:0.1; fill:none\" points=\"\n",
       "  224.098,1139.13 2352.76,1139.13 \n",
       "  \"/>\n",
       "<polyline clip-path=\"url(#clip362)\" style=\"stroke:#000000; stroke-linecap:butt; stroke-linejoin:round; stroke-width:2; stroke-opacity:0.1; fill:none\" points=\"\n",
       "  224.098,920.139 2352.76,920.139 \n",
       "  \"/>\n",
       "<polyline clip-path=\"url(#clip362)\" style=\"stroke:#000000; stroke-linecap:butt; stroke-linejoin:round; stroke-width:2; stroke-opacity:0.1; fill:none\" points=\"\n",
       "  224.098,701.149 2352.76,701.149 \n",
       "  \"/>\n",
       "<polyline clip-path=\"url(#clip362)\" style=\"stroke:#000000; stroke-linecap:butt; stroke-linejoin:round; stroke-width:2; stroke-opacity:0.1; fill:none\" points=\"\n",
       "  224.098,482.159 2352.76,482.159 \n",
       "  \"/>\n",
       "<polyline clip-path=\"url(#clip362)\" style=\"stroke:#000000; stroke-linecap:butt; stroke-linejoin:round; stroke-width:2; stroke-opacity:0.1; fill:none\" points=\"\n",
       "  224.098,263.168 2352.76,263.168 \n",
       "  \"/>\n",
       "<polyline clip-path=\"url(#clip360)\" style=\"stroke:#000000; stroke-linecap:butt; stroke-linejoin:round; stroke-width:4; stroke-opacity:1; fill:none\" points=\"\n",
       "  224.098,1486.45 224.098,47.2441 \n",
       "  \"/>\n",
       "<polyline clip-path=\"url(#clip360)\" style=\"stroke:#000000; stroke-linecap:butt; stroke-linejoin:round; stroke-width:4; stroke-opacity:1; fill:none\" points=\"\n",
       "  224.098,1358.12 242.996,1358.12 \n",
       "  \"/>\n",
       "<polyline clip-path=\"url(#clip360)\" style=\"stroke:#000000; stroke-linecap:butt; stroke-linejoin:round; stroke-width:4; stroke-opacity:1; fill:none\" points=\"\n",
       "  224.098,1139.13 242.996,1139.13 \n",
       "  \"/>\n",
       "<polyline clip-path=\"url(#clip360)\" style=\"stroke:#000000; stroke-linecap:butt; stroke-linejoin:round; stroke-width:4; stroke-opacity:1; fill:none\" points=\"\n",
       "  224.098,920.139 242.996,920.139 \n",
       "  \"/>\n",
       "<polyline clip-path=\"url(#clip360)\" style=\"stroke:#000000; stroke-linecap:butt; stroke-linejoin:round; stroke-width:4; stroke-opacity:1; fill:none\" points=\"\n",
       "  224.098,701.149 242.996,701.149 \n",
       "  \"/>\n",
       "<polyline clip-path=\"url(#clip360)\" style=\"stroke:#000000; stroke-linecap:butt; stroke-linejoin:round; stroke-width:4; stroke-opacity:1; fill:none\" points=\"\n",
       "  224.098,482.159 242.996,482.159 \n",
       "  \"/>\n",
       "<polyline clip-path=\"url(#clip360)\" style=\"stroke:#000000; stroke-linecap:butt; stroke-linejoin:round; stroke-width:4; stroke-opacity:1; fill:none\" points=\"\n",
       "  224.098,263.168 242.996,263.168 \n",
       "  \"/>\n",
       "<path clip-path=\"url(#clip360)\" d=\"M50.9921 1358.57 L80.6679 1358.57 L80.6679 1362.51 L50.9921 1362.51 L50.9921 1358.57 Z\" fill=\"#000000\" fill-rule=\"evenodd\" fill-opacity=\"1\" /><path clip-path=\"url(#clip360)\" d=\"M100.76 1343.92 Q97.1493 1343.92 95.3206 1347.48 Q93.515 1351.02 93.515 1358.15 Q93.515 1365.26 95.3206 1368.83 Q97.1493 1372.37 100.76 1372.37 Q104.395 1372.37 106.2 1368.83 Q108.029 1365.26 108.029 1358.15 Q108.029 1351.02 106.2 1347.48 Q104.395 1343.92 100.76 1343.92 M100.76 1340.21 Q106.571 1340.21 109.626 1344.82 Q112.705 1349.4 112.705 1358.15 Q112.705 1366.88 109.626 1371.49 Q106.571 1376.07 100.76 1376.07 Q94.9502 1376.07 91.8715 1371.49 Q88.816 1366.88 88.816 1358.15 Q88.816 1349.4 91.8715 1344.82 Q94.9502 1340.21 100.76 1340.21 Z\" fill=\"#000000\" fill-rule=\"evenodd\" fill-opacity=\"1\" /><path clip-path=\"url(#clip360)\" d=\"M120.922 1369.52 L125.807 1369.52 L125.807 1375.4 L120.922 1375.4 L120.922 1369.52 Z\" fill=\"#000000\" fill-rule=\"evenodd\" fill-opacity=\"1\" /><path clip-path=\"url(#clip360)\" d=\"M136.038 1340.84 L154.394 1340.84 L154.394 1344.77 L140.32 1344.77 L140.32 1353.25 Q141.339 1352.9 142.357 1352.74 Q143.376 1352.55 144.394 1352.55 Q150.181 1352.55 153.561 1355.72 Q156.941 1358.9 156.941 1364.31 Q156.941 1369.89 153.468 1372.99 Q149.996 1376.07 143.677 1376.07 Q141.501 1376.07 139.232 1375.7 Q136.987 1375.33 134.58 1374.59 L134.58 1369.89 Q136.663 1371.02 138.885 1371.58 Q141.107 1372.14 143.584 1372.14 Q147.589 1372.14 149.927 1370.03 Q152.265 1367.92 152.265 1364.31 Q152.265 1360.7 149.927 1358.59 Q147.589 1356.49 143.584 1356.49 Q141.709 1356.49 139.834 1356.9 Q137.982 1357.32 136.038 1358.2 L136.038 1340.84 Z\" fill=\"#000000\" fill-rule=\"evenodd\" fill-opacity=\"1\" /><path clip-path=\"url(#clip360)\" d=\"M176.153 1343.92 Q172.542 1343.92 170.714 1347.48 Q168.908 1351.02 168.908 1358.15 Q168.908 1365.26 170.714 1368.83 Q172.542 1372.37 176.153 1372.37 Q179.788 1372.37 181.593 1368.83 Q183.422 1365.26 183.422 1358.15 Q183.422 1351.02 181.593 1347.48 Q179.788 1343.92 176.153 1343.92 M176.153 1340.21 Q181.964 1340.21 185.019 1344.82 Q188.098 1349.4 188.098 1358.15 Q188.098 1366.88 185.019 1371.49 Q181.964 1376.07 176.153 1376.07 Q170.343 1376.07 167.265 1371.49 Q164.209 1366.88 164.209 1358.15 Q164.209 1349.4 167.265 1344.82 Q170.343 1340.21 176.153 1340.21 Z\" fill=\"#000000\" fill-rule=\"evenodd\" fill-opacity=\"1\" /><path clip-path=\"url(#clip360)\" d=\"M51.9875 1139.58 L81.6633 1139.58 L81.6633 1143.52 L51.9875 1143.52 L51.9875 1139.58 Z\" fill=\"#000000\" fill-rule=\"evenodd\" fill-opacity=\"1\" /><path clip-path=\"url(#clip360)\" d=\"M101.756 1124.93 Q98.1447 1124.93 96.316 1128.49 Q94.5104 1132.03 94.5104 1139.16 Q94.5104 1146.27 96.316 1149.84 Q98.1447 1153.38 101.756 1153.38 Q105.39 1153.38 107.196 1149.84 Q109.024 1146.27 109.024 1139.16 Q109.024 1132.03 107.196 1128.49 Q105.39 1124.93 101.756 1124.93 M101.756 1121.22 Q107.566 1121.22 110.621 1125.83 Q113.7 1130.41 113.7 1139.16 Q113.7 1147.89 110.621 1152.5 Q107.566 1157.08 101.756 1157.08 Q95.9456 1157.08 92.8669 1152.5 Q89.8114 1147.89 89.8114 1139.16 Q89.8114 1130.41 92.8669 1125.83 Q95.9456 1121.22 101.756 1121.22 Z\" fill=\"#000000\" fill-rule=\"evenodd\" fill-opacity=\"1\" /><path clip-path=\"url(#clip360)\" d=\"M121.918 1150.53 L126.802 1150.53 L126.802 1156.41 L121.918 1156.41 L121.918 1150.53 Z\" fill=\"#000000\" fill-rule=\"evenodd\" fill-opacity=\"1\" /><path clip-path=\"url(#clip360)\" d=\"M141.015 1152.47 L157.334 1152.47 L157.334 1156.41 L135.39 1156.41 L135.39 1152.47 Q138.052 1149.72 142.635 1145.09 Q147.242 1140.44 148.422 1139.09 Q150.668 1136.57 151.547 1134.84 Q152.45 1133.08 152.45 1131.39 Q152.45 1128.63 150.505 1126.9 Q148.584 1125.16 145.482 1125.16 Q143.283 1125.16 140.83 1125.92 Q138.399 1126.69 135.621 1128.24 L135.621 1123.52 Q138.445 1122.38 140.899 1121.8 Q143.353 1121.22 145.39 1121.22 Q150.76 1121.22 153.955 1123.91 Q157.149 1126.59 157.149 1131.09 Q157.149 1133.22 156.339 1135.14 Q155.552 1137.03 153.445 1139.63 Q152.867 1140.3 149.765 1143.52 Q146.663 1146.71 141.015 1152.47 Z\" fill=\"#000000\" fill-rule=\"evenodd\" fill-opacity=\"1\" /><path clip-path=\"url(#clip360)\" d=\"M167.195 1121.85 L185.552 1121.85 L185.552 1125.78 L171.478 1125.78 L171.478 1134.26 Q172.496 1133.91 173.515 1133.75 Q174.533 1133.56 175.552 1133.56 Q181.339 1133.56 184.718 1136.73 Q188.098 1139.9 188.098 1145.32 Q188.098 1150.9 184.626 1154 Q181.153 1157.08 174.834 1157.08 Q172.658 1157.08 170.39 1156.71 Q168.144 1156.34 165.737 1155.6 L165.737 1150.9 Q167.82 1152.03 170.042 1152.59 Q172.265 1153.15 174.741 1153.15 Q178.746 1153.15 181.084 1151.04 Q183.422 1148.93 183.422 1145.32 Q183.422 1141.71 181.084 1139.6 Q178.746 1137.5 174.741 1137.5 Q172.866 1137.5 170.991 1137.91 Q169.14 1138.33 167.195 1139.21 L167.195 1121.85 Z\" fill=\"#000000\" fill-rule=\"evenodd\" fill-opacity=\"1\" /><path clip-path=\"url(#clip360)\" d=\"M100.76 905.938 Q97.1493 905.938 95.3206 909.503 Q93.515 913.044 93.515 920.174 Q93.515 927.28 95.3206 930.845 Q97.1493 934.387 100.76 934.387 Q104.395 934.387 106.2 930.845 Q108.029 927.28 108.029 920.174 Q108.029 913.044 106.2 909.503 Q104.395 905.938 100.76 905.938 M100.76 902.234 Q106.571 902.234 109.626 906.841 Q112.705 911.424 112.705 920.174 Q112.705 928.901 109.626 933.507 Q106.571 938.09 100.76 938.09 Q94.9502 938.09 91.8715 933.507 Q88.816 928.901 88.816 920.174 Q88.816 911.424 91.8715 906.841 Q94.9502 902.234 100.76 902.234 Z\" fill=\"#000000\" fill-rule=\"evenodd\" fill-opacity=\"1\" /><path clip-path=\"url(#clip360)\" d=\"M120.922 931.54 L125.807 931.54 L125.807 937.419 L120.922 937.419 L120.922 931.54 Z\" fill=\"#000000\" fill-rule=\"evenodd\" fill-opacity=\"1\" /><path clip-path=\"url(#clip360)\" d=\"M145.992 905.938 Q142.381 905.938 140.552 909.503 Q138.746 913.044 138.746 920.174 Q138.746 927.28 140.552 930.845 Q142.381 934.387 145.992 934.387 Q149.626 934.387 151.431 930.845 Q153.26 927.28 153.26 920.174 Q153.26 913.044 151.431 909.503 Q149.626 905.938 145.992 905.938 M145.992 902.234 Q151.802 902.234 154.857 906.841 Q157.936 911.424 157.936 920.174 Q157.936 928.901 154.857 933.507 Q151.802 938.09 145.992 938.09 Q140.181 938.09 137.103 933.507 Q134.047 928.901 134.047 920.174 Q134.047 911.424 137.103 906.841 Q140.181 902.234 145.992 902.234 Z\" fill=\"#000000\" fill-rule=\"evenodd\" fill-opacity=\"1\" /><path clip-path=\"url(#clip360)\" d=\"M176.153 905.938 Q172.542 905.938 170.714 909.503 Q168.908 913.044 168.908 920.174 Q168.908 927.28 170.714 930.845 Q172.542 934.387 176.153 934.387 Q179.788 934.387 181.593 930.845 Q183.422 927.28 183.422 920.174 Q183.422 913.044 181.593 909.503 Q179.788 905.938 176.153 905.938 M176.153 902.234 Q181.964 902.234 185.019 906.841 Q188.098 911.424 188.098 920.174 Q188.098 928.901 185.019 933.507 Q181.964 938.09 176.153 938.09 Q170.343 938.09 167.265 933.507 Q164.209 928.901 164.209 920.174 Q164.209 911.424 167.265 906.841 Q170.343 902.234 176.153 902.234 Z\" fill=\"#000000\" fill-rule=\"evenodd\" fill-opacity=\"1\" /><path clip-path=\"url(#clip360)\" d=\"M101.756 686.948 Q98.1447 686.948 96.316 690.512 Q94.5104 694.054 94.5104 701.184 Q94.5104 708.29 96.316 711.855 Q98.1447 715.397 101.756 715.397 Q105.39 715.397 107.196 711.855 Q109.024 708.29 109.024 701.184 Q109.024 694.054 107.196 690.512 Q105.39 686.948 101.756 686.948 M101.756 683.244 Q107.566 683.244 110.621 687.85 Q113.7 692.434 113.7 701.184 Q113.7 709.91 110.621 714.517 Q107.566 719.1 101.756 719.1 Q95.9456 719.1 92.8669 714.517 Q89.8114 709.91 89.8114 701.184 Q89.8114 692.434 92.8669 687.85 Q95.9456 683.244 101.756 683.244 Z\" fill=\"#000000\" fill-rule=\"evenodd\" fill-opacity=\"1\" /><path clip-path=\"url(#clip360)\" d=\"M121.918 712.549 L126.802 712.549 L126.802 718.429 L121.918 718.429 L121.918 712.549 Z\" fill=\"#000000\" fill-rule=\"evenodd\" fill-opacity=\"1\" /><path clip-path=\"url(#clip360)\" d=\"M141.015 714.494 L157.334 714.494 L157.334 718.429 L135.39 718.429 L135.39 714.494 Q138.052 711.739 142.635 707.11 Q147.242 702.457 148.422 701.114 Q150.668 698.591 151.547 696.855 Q152.45 695.096 152.45 693.406 Q152.45 690.651 150.505 688.915 Q148.584 687.179 145.482 687.179 Q143.283 687.179 140.83 687.943 Q138.399 688.707 135.621 690.258 L135.621 685.536 Q138.445 684.401 140.899 683.823 Q143.353 683.244 145.39 683.244 Q150.76 683.244 153.955 685.929 Q157.149 688.614 157.149 693.105 Q157.149 695.235 156.339 697.156 Q155.552 699.054 153.445 701.647 Q152.867 702.318 149.765 705.535 Q146.663 708.73 141.015 714.494 Z\" fill=\"#000000\" fill-rule=\"evenodd\" fill-opacity=\"1\" /><path clip-path=\"url(#clip360)\" d=\"M167.195 683.869 L185.552 683.869 L185.552 687.804 L171.478 687.804 L171.478 696.276 Q172.496 695.929 173.515 695.767 Q174.533 695.582 175.552 695.582 Q181.339 695.582 184.718 698.753 Q188.098 701.924 188.098 707.341 Q188.098 712.92 184.626 716.022 Q181.153 719.1 174.834 719.1 Q172.658 719.1 170.39 718.73 Q168.144 718.359 165.737 717.619 L165.737 712.92 Q167.82 714.054 170.042 714.609 Q172.265 715.165 174.741 715.165 Q178.746 715.165 181.084 713.059 Q183.422 710.952 183.422 707.341 Q183.422 703.73 181.084 701.623 Q178.746 699.517 174.741 699.517 Q172.866 699.517 170.991 699.934 Q169.14 700.35 167.195 701.23 L167.195 683.869 Z\" fill=\"#000000\" fill-rule=\"evenodd\" fill-opacity=\"1\" /><path clip-path=\"url(#clip360)\" d=\"M100.76 467.957 Q97.1493 467.957 95.3206 471.522 Q93.515 475.064 93.515 482.193 Q93.515 489.3 95.3206 492.865 Q97.1493 496.406 100.76 496.406 Q104.395 496.406 106.2 492.865 Q108.029 489.3 108.029 482.193 Q108.029 475.064 106.2 471.522 Q104.395 467.957 100.76 467.957 M100.76 464.254 Q106.571 464.254 109.626 468.86 Q112.705 473.443 112.705 482.193 Q112.705 490.92 109.626 495.527 Q106.571 500.11 100.76 500.11 Q94.9502 500.11 91.8715 495.527 Q88.816 490.92 88.816 482.193 Q88.816 473.443 91.8715 468.86 Q94.9502 464.254 100.76 464.254 Z\" fill=\"#000000\" fill-rule=\"evenodd\" fill-opacity=\"1\" /><path clip-path=\"url(#clip360)\" d=\"M120.922 493.559 L125.807 493.559 L125.807 499.439 L120.922 499.439 L120.922 493.559 Z\" fill=\"#000000\" fill-rule=\"evenodd\" fill-opacity=\"1\" /><path clip-path=\"url(#clip360)\" d=\"M136.038 464.879 L154.394 464.879 L154.394 468.814 L140.32 468.814 L140.32 477.286 Q141.339 476.939 142.357 476.777 Q143.376 476.592 144.394 476.592 Q150.181 476.592 153.561 479.763 Q156.941 482.934 156.941 488.351 Q156.941 493.929 153.468 497.031 Q149.996 500.11 143.677 500.11 Q141.501 500.11 139.232 499.74 Q136.987 499.369 134.58 498.629 L134.58 493.929 Q136.663 495.064 138.885 495.619 Q141.107 496.175 143.584 496.175 Q147.589 496.175 149.927 494.068 Q152.265 491.962 152.265 488.351 Q152.265 484.74 149.927 482.633 Q147.589 480.527 143.584 480.527 Q141.709 480.527 139.834 480.943 Q137.982 481.36 136.038 482.24 L136.038 464.879 Z\" fill=\"#000000\" fill-rule=\"evenodd\" fill-opacity=\"1\" /><path clip-path=\"url(#clip360)\" d=\"M176.153 467.957 Q172.542 467.957 170.714 471.522 Q168.908 475.064 168.908 482.193 Q168.908 489.3 170.714 492.865 Q172.542 496.406 176.153 496.406 Q179.788 496.406 181.593 492.865 Q183.422 489.3 183.422 482.193 Q183.422 475.064 181.593 471.522 Q179.788 467.957 176.153 467.957 M176.153 464.254 Q181.964 464.254 185.019 468.86 Q188.098 473.443 188.098 482.193 Q188.098 490.92 185.019 495.527 Q181.964 500.11 176.153 500.11 Q170.343 500.11 167.265 495.527 Q164.209 490.92 164.209 482.193 Q164.209 473.443 167.265 468.86 Q170.343 464.254 176.153 464.254 Z\" fill=\"#000000\" fill-rule=\"evenodd\" fill-opacity=\"1\" /><path clip-path=\"url(#clip360)\" d=\"M101.756 248.967 Q98.1447 248.967 96.316 252.532 Q94.5104 256.074 94.5104 263.203 Q94.5104 270.31 96.316 273.874 Q98.1447 277.416 101.756 277.416 Q105.39 277.416 107.196 273.874 Q109.024 270.31 109.024 263.203 Q109.024 256.074 107.196 252.532 Q105.39 248.967 101.756 248.967 M101.756 245.263 Q107.566 245.263 110.621 249.87 Q113.7 254.453 113.7 263.203 Q113.7 271.93 110.621 276.536 Q107.566 281.12 101.756 281.12 Q95.9456 281.12 92.8669 276.536 Q89.8114 271.93 89.8114 263.203 Q89.8114 254.453 92.8669 249.87 Q95.9456 245.263 101.756 245.263 Z\" fill=\"#000000\" fill-rule=\"evenodd\" fill-opacity=\"1\" /><path clip-path=\"url(#clip360)\" d=\"M121.918 274.569 L126.802 274.569 L126.802 280.448 L121.918 280.448 L121.918 274.569 Z\" fill=\"#000000\" fill-rule=\"evenodd\" fill-opacity=\"1\" /><path clip-path=\"url(#clip360)\" d=\"M135.806 245.888 L158.029 245.888 L158.029 247.879 L145.482 280.448 L140.598 280.448 L152.404 249.824 L135.806 249.824 L135.806 245.888 Z\" fill=\"#000000\" fill-rule=\"evenodd\" fill-opacity=\"1\" /><path clip-path=\"url(#clip360)\" d=\"M167.195 245.888 L185.552 245.888 L185.552 249.824 L171.478 249.824 L171.478 258.296 Q172.496 257.949 173.515 257.787 Q174.533 257.601 175.552 257.601 Q181.339 257.601 184.718 260.773 Q188.098 263.944 188.098 269.361 Q188.098 274.939 184.626 278.041 Q181.153 281.12 174.834 281.12 Q172.658 281.12 170.39 280.749 Q168.144 280.379 165.737 279.638 L165.737 274.939 Q167.82 276.073 170.042 276.629 Q172.265 277.185 174.741 277.185 Q178.746 277.185 181.084 275.078 Q183.422 272.972 183.422 269.361 Q183.422 265.749 181.084 263.643 Q178.746 261.537 174.741 261.537 Q172.866 261.537 170.991 261.953 Q169.14 262.37 167.195 263.249 L167.195 245.888 Z\" fill=\"#000000\" fill-rule=\"evenodd\" fill-opacity=\"1\" /><path clip-path=\"url(#clip362)\" d=\"\n",
       "M798.06 1445.72 L1732.09 1358.12 L2245.81 832.543 L2292.51 482.159 L1778.79 131.774 L798.06 87.9763 L284.343 438.361 L798.06 1445.72 L798.06 920.139 L284.343 920.139 \n",
       "  L798.06 920.139 L1778.79 920.139 L2292.51 920.139 L2245.81 920.139 L1732.09 920.139 L798.06 920.139  Z\n",
       "  \" fill=\"#009af9\" fill-rule=\"evenodd\" fill-opacity=\"1\"/>\n",
       "<polyline clip-path=\"url(#clip362)\" style=\"stroke:#009af9; stroke-linecap:butt; stroke-linejoin:round; stroke-width:4; stroke-opacity:1; fill:none\" points=\"\n",
       "  798.06,1445.72 1732.09,1358.12 2245.81,832.543 2292.51,482.159 1778.79,131.774 798.06,87.9763 284.343,438.361 798.06,1445.72 \n",
       "  \"/>\n",
       "</svg>\n"
      ]
     },
     "execution_count": 17,
     "metadata": {},
     "output_type": "execute_result"
    }
   ],
   "source": [
    "R.sort();\n",
    "R.plot()"
   ]
  },
  {
   "cell_type": "code",
   "execution_count": 18,
   "metadata": {},
   "outputs": [
    {
     "data": {
      "image/svg+xml": [
       "<?xml version=\"1.0\" encoding=\"utf-8\"?>\n",
       "<svg xmlns=\"http://www.w3.org/2000/svg\" xmlns:xlink=\"http://www.w3.org/1999/xlink\" width=\"600\" height=\"400\" viewBox=\"0 0 2400 1600\">\n",
       "<defs>\n",
       "  <clipPath id=\"clip400\">\n",
       "    <rect x=\"0\" y=\"0\" width=\"2400\" height=\"1600\"/>\n",
       "  </clipPath>\n",
       "</defs>\n",
       "<path clip-path=\"url(#clip400)\" d=\"\n",
       "M0 1600 L2400 1600 L2400 0 L0 0  Z\n",
       "  \" fill=\"#ffffff\" fill-rule=\"evenodd\" fill-opacity=\"1\"/>\n",
       "<defs>\n",
       "  <clipPath id=\"clip401\">\n",
       "    <rect x=\"480\" y=\"0\" width=\"1681\" height=\"1600\"/>\n",
       "  </clipPath>\n",
       "</defs>\n",
       "<path clip-path=\"url(#clip400)\" d=\"\n",
       "M224.098 1486.45 L2352.76 1486.45 L2352.76 47.2441 L224.098 47.2441  Z\n",
       "  \" fill=\"#ffffff\" fill-rule=\"evenodd\" fill-opacity=\"1\"/>\n",
       "<defs>\n",
       "  <clipPath id=\"clip402\">\n",
       "    <rect x=\"224\" y=\"47\" width=\"2130\" height=\"1440\"/>\n",
       "  </clipPath>\n",
       "</defs>\n",
       "<polyline clip-path=\"url(#clip402)\" style=\"stroke:#000000; stroke-linecap:butt; stroke-linejoin:round; stroke-width:2; stroke-opacity:0.1; fill:none\" points=\"\n",
       "  331.044,1486.45 331.044,47.2441 \n",
       "  \"/>\n",
       "<polyline clip-path=\"url(#clip402)\" style=\"stroke:#000000; stroke-linecap:butt; stroke-linejoin:round; stroke-width:2; stroke-opacity:0.1; fill:none\" points=\"\n",
       "  798.06,1486.45 798.06,47.2441 \n",
       "  \"/>\n",
       "<polyline clip-path=\"url(#clip402)\" style=\"stroke:#000000; stroke-linecap:butt; stroke-linejoin:round; stroke-width:2; stroke-opacity:0.1; fill:none\" points=\"\n",
       "  1265.08,1486.45 1265.08,47.2441 \n",
       "  \"/>\n",
       "<polyline clip-path=\"url(#clip402)\" style=\"stroke:#000000; stroke-linecap:butt; stroke-linejoin:round; stroke-width:2; stroke-opacity:0.1; fill:none\" points=\"\n",
       "  1732.09,1486.45 1732.09,47.2441 \n",
       "  \"/>\n",
       "<polyline clip-path=\"url(#clip402)\" style=\"stroke:#000000; stroke-linecap:butt; stroke-linejoin:round; stroke-width:2; stroke-opacity:0.1; fill:none\" points=\"\n",
       "  2199.11,1486.45 2199.11,47.2441 \n",
       "  \"/>\n",
       "<polyline clip-path=\"url(#clip400)\" style=\"stroke:#000000; stroke-linecap:butt; stroke-linejoin:round; stroke-width:4; stroke-opacity:1; fill:none\" points=\"\n",
       "  224.098,1486.45 2352.76,1486.45 \n",
       "  \"/>\n",
       "<polyline clip-path=\"url(#clip400)\" style=\"stroke:#000000; stroke-linecap:butt; stroke-linejoin:round; stroke-width:4; stroke-opacity:1; fill:none\" points=\"\n",
       "  331.044,1486.45 331.044,1467.55 \n",
       "  \"/>\n",
       "<polyline clip-path=\"url(#clip400)\" style=\"stroke:#000000; stroke-linecap:butt; stroke-linejoin:round; stroke-width:4; stroke-opacity:1; fill:none\" points=\"\n",
       "  798.06,1486.45 798.06,1467.55 \n",
       "  \"/>\n",
       "<polyline clip-path=\"url(#clip400)\" style=\"stroke:#000000; stroke-linecap:butt; stroke-linejoin:round; stroke-width:4; stroke-opacity:1; fill:none\" points=\"\n",
       "  1265.08,1486.45 1265.08,1467.55 \n",
       "  \"/>\n",
       "<polyline clip-path=\"url(#clip400)\" style=\"stroke:#000000; stroke-linecap:butt; stroke-linejoin:round; stroke-width:4; stroke-opacity:1; fill:none\" points=\"\n",
       "  1732.09,1486.45 1732.09,1467.55 \n",
       "  \"/>\n",
       "<polyline clip-path=\"url(#clip400)\" style=\"stroke:#000000; stroke-linecap:butt; stroke-linejoin:round; stroke-width:4; stroke-opacity:1; fill:none\" points=\"\n",
       "  2199.11,1486.45 2199.11,1467.55 \n",
       "  \"/>\n",
       "<path clip-path=\"url(#clip400)\" d=\"M300.987 1532.02 L330.663 1532.02 L330.663 1535.95 L300.987 1535.95 L300.987 1532.02 Z\" fill=\"#000000\" fill-rule=\"evenodd\" fill-opacity=\"1\" /><path clip-path=\"url(#clip400)\" d=\"M344.783 1544.91 L361.102 1544.91 L361.102 1548.85 L339.158 1548.85 L339.158 1544.91 Q341.82 1542.16 346.403 1537.53 Q351.01 1532.88 352.19 1531.53 Q354.436 1529.01 355.315 1527.27 Q356.218 1525.51 356.218 1523.82 Q356.218 1521.07 354.274 1519.33 Q352.352 1517.6 349.25 1517.6 Q347.051 1517.6 344.598 1518.36 Q342.167 1519.13 339.389 1520.68 L339.389 1515.95 Q342.213 1514.82 344.667 1514.24 Q347.121 1513.66 349.158 1513.66 Q354.528 1513.66 357.723 1516.35 Q360.917 1519.03 360.917 1523.52 Q360.917 1525.65 360.107 1527.57 Q359.32 1529.47 357.213 1532.07 Q356.635 1532.74 353.533 1535.95 Q350.431 1539.15 344.783 1544.91 Z\" fill=\"#000000\" fill-rule=\"evenodd\" fill-opacity=\"1\" /><path clip-path=\"url(#clip400)\" d=\"M767.817 1532.02 L797.493 1532.02 L797.493 1535.95 L767.817 1535.95 L767.817 1532.02 Z\" fill=\"#000000\" fill-rule=\"evenodd\" fill-opacity=\"1\" /><path clip-path=\"url(#clip400)\" d=\"M808.396 1544.91 L816.035 1544.91 L816.035 1518.55 L807.725 1520.21 L807.725 1515.95 L815.988 1514.29 L820.664 1514.29 L820.664 1544.91 L828.303 1544.91 L828.303 1548.85 L808.396 1548.85 L808.396 1544.91 Z\" fill=\"#000000\" fill-rule=\"evenodd\" fill-opacity=\"1\" /><path clip-path=\"url(#clip400)\" d=\"M1265.08 1517.37 Q1261.47 1517.37 1259.64 1520.93 Q1257.83 1524.47 1257.83 1531.6 Q1257.83 1538.71 1259.64 1542.27 Q1261.47 1545.82 1265.08 1545.82 Q1268.71 1545.82 1270.52 1542.27 Q1272.34 1538.71 1272.34 1531.6 Q1272.34 1524.47 1270.52 1520.93 Q1268.71 1517.37 1265.08 1517.37 M1265.08 1513.66 Q1270.89 1513.66 1273.94 1518.27 Q1277.02 1522.85 1277.02 1531.6 Q1277.02 1540.33 1273.94 1544.94 Q1270.89 1549.52 1265.08 1549.52 Q1259.27 1549.52 1256.19 1544.94 Q1253.13 1540.33 1253.13 1531.6 Q1253.13 1522.85 1256.19 1518.27 Q1259.27 1513.66 1265.08 1513.66 Z\" fill=\"#000000\" fill-rule=\"evenodd\" fill-opacity=\"1\" /><path clip-path=\"url(#clip400)\" d=\"M1722.47 1544.91 L1730.11 1544.91 L1730.11 1518.55 L1721.8 1520.21 L1721.8 1515.95 L1730.07 1514.29 L1734.74 1514.29 L1734.74 1544.91 L1742.38 1544.91 L1742.38 1548.85 L1722.47 1548.85 L1722.47 1544.91 Z\" fill=\"#000000\" fill-rule=\"evenodd\" fill-opacity=\"1\" /><path clip-path=\"url(#clip400)\" d=\"M2193.76 1544.91 L2210.08 1544.91 L2210.08 1548.85 L2188.14 1548.85 L2188.14 1544.91 Q2190.8 1542.16 2195.38 1537.53 Q2199.99 1532.88 2201.17 1531.53 Q2203.41 1529.01 2204.29 1527.27 Q2205.2 1525.51 2205.2 1523.82 Q2205.2 1521.07 2203.25 1519.33 Q2201.33 1517.6 2198.23 1517.6 Q2196.03 1517.6 2193.58 1518.36 Q2191.14 1519.13 2188.37 1520.68 L2188.37 1515.95 Q2191.19 1514.82 2193.64 1514.24 Q2196.1 1513.66 2198.14 1513.66 Q2203.51 1513.66 2206.7 1516.35 Q2209.89 1519.03 2209.89 1523.52 Q2209.89 1525.65 2209.08 1527.57 Q2208.3 1529.47 2206.19 1532.07 Q2205.61 1532.74 2202.51 1535.95 Q2199.41 1539.15 2193.76 1544.91 Z\" fill=\"#000000\" fill-rule=\"evenodd\" fill-opacity=\"1\" /><polyline clip-path=\"url(#clip402)\" style=\"stroke:#000000; stroke-linecap:butt; stroke-linejoin:round; stroke-width:2; stroke-opacity:0.1; fill:none\" points=\"\n",
       "  224.098,1358.12 2352.76,1358.12 \n",
       "  \"/>\n",
       "<polyline clip-path=\"url(#clip402)\" style=\"stroke:#000000; stroke-linecap:butt; stroke-linejoin:round; stroke-width:2; stroke-opacity:0.1; fill:none\" points=\"\n",
       "  224.098,1139.13 2352.76,1139.13 \n",
       "  \"/>\n",
       "<polyline clip-path=\"url(#clip402)\" style=\"stroke:#000000; stroke-linecap:butt; stroke-linejoin:round; stroke-width:2; stroke-opacity:0.1; fill:none\" points=\"\n",
       "  224.098,920.139 2352.76,920.139 \n",
       "  \"/>\n",
       "<polyline clip-path=\"url(#clip402)\" style=\"stroke:#000000; stroke-linecap:butt; stroke-linejoin:round; stroke-width:2; stroke-opacity:0.1; fill:none\" points=\"\n",
       "  224.098,701.149 2352.76,701.149 \n",
       "  \"/>\n",
       "<polyline clip-path=\"url(#clip402)\" style=\"stroke:#000000; stroke-linecap:butt; stroke-linejoin:round; stroke-width:2; stroke-opacity:0.1; fill:none\" points=\"\n",
       "  224.098,482.159 2352.76,482.159 \n",
       "  \"/>\n",
       "<polyline clip-path=\"url(#clip402)\" style=\"stroke:#000000; stroke-linecap:butt; stroke-linejoin:round; stroke-width:2; stroke-opacity:0.1; fill:none\" points=\"\n",
       "  224.098,263.168 2352.76,263.168 \n",
       "  \"/>\n",
       "<polyline clip-path=\"url(#clip400)\" style=\"stroke:#000000; stroke-linecap:butt; stroke-linejoin:round; stroke-width:4; stroke-opacity:1; fill:none\" points=\"\n",
       "  224.098,1486.45 224.098,47.2441 \n",
       "  \"/>\n",
       "<polyline clip-path=\"url(#clip400)\" style=\"stroke:#000000; stroke-linecap:butt; stroke-linejoin:round; stroke-width:4; stroke-opacity:1; fill:none\" points=\"\n",
       "  224.098,1358.12 242.996,1358.12 \n",
       "  \"/>\n",
       "<polyline clip-path=\"url(#clip400)\" style=\"stroke:#000000; stroke-linecap:butt; stroke-linejoin:round; stroke-width:4; stroke-opacity:1; fill:none\" points=\"\n",
       "  224.098,1139.13 242.996,1139.13 \n",
       "  \"/>\n",
       "<polyline clip-path=\"url(#clip400)\" style=\"stroke:#000000; stroke-linecap:butt; stroke-linejoin:round; stroke-width:4; stroke-opacity:1; fill:none\" points=\"\n",
       "  224.098,920.139 242.996,920.139 \n",
       "  \"/>\n",
       "<polyline clip-path=\"url(#clip400)\" style=\"stroke:#000000; stroke-linecap:butt; stroke-linejoin:round; stroke-width:4; stroke-opacity:1; fill:none\" points=\"\n",
       "  224.098,701.149 242.996,701.149 \n",
       "  \"/>\n",
       "<polyline clip-path=\"url(#clip400)\" style=\"stroke:#000000; stroke-linecap:butt; stroke-linejoin:round; stroke-width:4; stroke-opacity:1; fill:none\" points=\"\n",
       "  224.098,482.159 242.996,482.159 \n",
       "  \"/>\n",
       "<polyline clip-path=\"url(#clip400)\" style=\"stroke:#000000; stroke-linecap:butt; stroke-linejoin:round; stroke-width:4; stroke-opacity:1; fill:none\" points=\"\n",
       "  224.098,263.168 242.996,263.168 \n",
       "  \"/>\n",
       "<path clip-path=\"url(#clip400)\" d=\"M50.9921 1358.57 L80.6679 1358.57 L80.6679 1362.51 L50.9921 1362.51 L50.9921 1358.57 Z\" fill=\"#000000\" fill-rule=\"evenodd\" fill-opacity=\"1\" /><path clip-path=\"url(#clip400)\" d=\"M100.76 1343.92 Q97.1493 1343.92 95.3206 1347.48 Q93.515 1351.02 93.515 1358.15 Q93.515 1365.26 95.3206 1368.83 Q97.1493 1372.37 100.76 1372.37 Q104.395 1372.37 106.2 1368.83 Q108.029 1365.26 108.029 1358.15 Q108.029 1351.02 106.2 1347.48 Q104.395 1343.92 100.76 1343.92 M100.76 1340.21 Q106.571 1340.21 109.626 1344.82 Q112.705 1349.4 112.705 1358.15 Q112.705 1366.88 109.626 1371.49 Q106.571 1376.07 100.76 1376.07 Q94.9502 1376.07 91.8715 1371.49 Q88.816 1366.88 88.816 1358.15 Q88.816 1349.4 91.8715 1344.82 Q94.9502 1340.21 100.76 1340.21 Z\" fill=\"#000000\" fill-rule=\"evenodd\" fill-opacity=\"1\" /><path clip-path=\"url(#clip400)\" d=\"M120.922 1369.52 L125.807 1369.52 L125.807 1375.4 L120.922 1375.4 L120.922 1369.52 Z\" fill=\"#000000\" fill-rule=\"evenodd\" fill-opacity=\"1\" /><path clip-path=\"url(#clip400)\" d=\"M136.038 1340.84 L154.394 1340.84 L154.394 1344.77 L140.32 1344.77 L140.32 1353.25 Q141.339 1352.9 142.357 1352.74 Q143.376 1352.55 144.394 1352.55 Q150.181 1352.55 153.561 1355.72 Q156.941 1358.9 156.941 1364.31 Q156.941 1369.89 153.468 1372.99 Q149.996 1376.07 143.677 1376.07 Q141.501 1376.07 139.232 1375.7 Q136.987 1375.33 134.58 1374.59 L134.58 1369.89 Q136.663 1371.02 138.885 1371.58 Q141.107 1372.14 143.584 1372.14 Q147.589 1372.14 149.927 1370.03 Q152.265 1367.92 152.265 1364.31 Q152.265 1360.7 149.927 1358.59 Q147.589 1356.49 143.584 1356.49 Q141.709 1356.49 139.834 1356.9 Q137.982 1357.32 136.038 1358.2 L136.038 1340.84 Z\" fill=\"#000000\" fill-rule=\"evenodd\" fill-opacity=\"1\" /><path clip-path=\"url(#clip400)\" d=\"M176.153 1343.92 Q172.542 1343.92 170.714 1347.48 Q168.908 1351.02 168.908 1358.15 Q168.908 1365.26 170.714 1368.83 Q172.542 1372.37 176.153 1372.37 Q179.788 1372.37 181.593 1368.83 Q183.422 1365.26 183.422 1358.15 Q183.422 1351.02 181.593 1347.48 Q179.788 1343.92 176.153 1343.92 M176.153 1340.21 Q181.964 1340.21 185.019 1344.82 Q188.098 1349.4 188.098 1358.15 Q188.098 1366.88 185.019 1371.49 Q181.964 1376.07 176.153 1376.07 Q170.343 1376.07 167.265 1371.49 Q164.209 1366.88 164.209 1358.15 Q164.209 1349.4 167.265 1344.82 Q170.343 1340.21 176.153 1340.21 Z\" fill=\"#000000\" fill-rule=\"evenodd\" fill-opacity=\"1\" /><path clip-path=\"url(#clip400)\" d=\"M51.9875 1139.58 L81.6633 1139.58 L81.6633 1143.52 L51.9875 1143.52 L51.9875 1139.58 Z\" fill=\"#000000\" fill-rule=\"evenodd\" fill-opacity=\"1\" /><path clip-path=\"url(#clip400)\" d=\"M101.756 1124.93 Q98.1447 1124.93 96.316 1128.49 Q94.5104 1132.03 94.5104 1139.16 Q94.5104 1146.27 96.316 1149.84 Q98.1447 1153.38 101.756 1153.38 Q105.39 1153.38 107.196 1149.84 Q109.024 1146.27 109.024 1139.16 Q109.024 1132.03 107.196 1128.49 Q105.39 1124.93 101.756 1124.93 M101.756 1121.22 Q107.566 1121.22 110.621 1125.83 Q113.7 1130.41 113.7 1139.16 Q113.7 1147.89 110.621 1152.5 Q107.566 1157.08 101.756 1157.08 Q95.9456 1157.08 92.8669 1152.5 Q89.8114 1147.89 89.8114 1139.16 Q89.8114 1130.41 92.8669 1125.83 Q95.9456 1121.22 101.756 1121.22 Z\" fill=\"#000000\" fill-rule=\"evenodd\" fill-opacity=\"1\" /><path clip-path=\"url(#clip400)\" d=\"M121.918 1150.53 L126.802 1150.53 L126.802 1156.41 L121.918 1156.41 L121.918 1150.53 Z\" fill=\"#000000\" fill-rule=\"evenodd\" fill-opacity=\"1\" /><path clip-path=\"url(#clip400)\" d=\"M141.015 1152.47 L157.334 1152.47 L157.334 1156.41 L135.39 1156.41 L135.39 1152.47 Q138.052 1149.72 142.635 1145.09 Q147.242 1140.44 148.422 1139.09 Q150.668 1136.57 151.547 1134.84 Q152.45 1133.08 152.45 1131.39 Q152.45 1128.63 150.505 1126.9 Q148.584 1125.16 145.482 1125.16 Q143.283 1125.16 140.83 1125.92 Q138.399 1126.69 135.621 1128.24 L135.621 1123.52 Q138.445 1122.38 140.899 1121.8 Q143.353 1121.22 145.39 1121.22 Q150.76 1121.22 153.955 1123.91 Q157.149 1126.59 157.149 1131.09 Q157.149 1133.22 156.339 1135.14 Q155.552 1137.03 153.445 1139.63 Q152.867 1140.3 149.765 1143.52 Q146.663 1146.71 141.015 1152.47 Z\" fill=\"#000000\" fill-rule=\"evenodd\" fill-opacity=\"1\" /><path clip-path=\"url(#clip400)\" d=\"M167.195 1121.85 L185.552 1121.85 L185.552 1125.78 L171.478 1125.78 L171.478 1134.26 Q172.496 1133.91 173.515 1133.75 Q174.533 1133.56 175.552 1133.56 Q181.339 1133.56 184.718 1136.73 Q188.098 1139.9 188.098 1145.32 Q188.098 1150.9 184.626 1154 Q181.153 1157.08 174.834 1157.08 Q172.658 1157.08 170.39 1156.71 Q168.144 1156.34 165.737 1155.6 L165.737 1150.9 Q167.82 1152.03 170.042 1152.59 Q172.265 1153.15 174.741 1153.15 Q178.746 1153.15 181.084 1151.04 Q183.422 1148.93 183.422 1145.32 Q183.422 1141.71 181.084 1139.6 Q178.746 1137.5 174.741 1137.5 Q172.866 1137.5 170.991 1137.91 Q169.14 1138.33 167.195 1139.21 L167.195 1121.85 Z\" fill=\"#000000\" fill-rule=\"evenodd\" fill-opacity=\"1\" /><path clip-path=\"url(#clip400)\" d=\"M100.76 905.938 Q97.1493 905.938 95.3206 909.503 Q93.515 913.044 93.515 920.174 Q93.515 927.28 95.3206 930.845 Q97.1493 934.387 100.76 934.387 Q104.395 934.387 106.2 930.845 Q108.029 927.28 108.029 920.174 Q108.029 913.044 106.2 909.503 Q104.395 905.938 100.76 905.938 M100.76 902.234 Q106.571 902.234 109.626 906.841 Q112.705 911.424 112.705 920.174 Q112.705 928.901 109.626 933.507 Q106.571 938.09 100.76 938.09 Q94.9502 938.09 91.8715 933.507 Q88.816 928.901 88.816 920.174 Q88.816 911.424 91.8715 906.841 Q94.9502 902.234 100.76 902.234 Z\" fill=\"#000000\" fill-rule=\"evenodd\" fill-opacity=\"1\" /><path clip-path=\"url(#clip400)\" d=\"M120.922 931.54 L125.807 931.54 L125.807 937.419 L120.922 937.419 L120.922 931.54 Z\" fill=\"#000000\" fill-rule=\"evenodd\" fill-opacity=\"1\" /><path clip-path=\"url(#clip400)\" d=\"M145.992 905.938 Q142.381 905.938 140.552 909.503 Q138.746 913.044 138.746 920.174 Q138.746 927.28 140.552 930.845 Q142.381 934.387 145.992 934.387 Q149.626 934.387 151.431 930.845 Q153.26 927.28 153.26 920.174 Q153.26 913.044 151.431 909.503 Q149.626 905.938 145.992 905.938 M145.992 902.234 Q151.802 902.234 154.857 906.841 Q157.936 911.424 157.936 920.174 Q157.936 928.901 154.857 933.507 Q151.802 938.09 145.992 938.09 Q140.181 938.09 137.103 933.507 Q134.047 928.901 134.047 920.174 Q134.047 911.424 137.103 906.841 Q140.181 902.234 145.992 902.234 Z\" fill=\"#000000\" fill-rule=\"evenodd\" fill-opacity=\"1\" /><path clip-path=\"url(#clip400)\" d=\"M176.153 905.938 Q172.542 905.938 170.714 909.503 Q168.908 913.044 168.908 920.174 Q168.908 927.28 170.714 930.845 Q172.542 934.387 176.153 934.387 Q179.788 934.387 181.593 930.845 Q183.422 927.28 183.422 920.174 Q183.422 913.044 181.593 909.503 Q179.788 905.938 176.153 905.938 M176.153 902.234 Q181.964 902.234 185.019 906.841 Q188.098 911.424 188.098 920.174 Q188.098 928.901 185.019 933.507 Q181.964 938.09 176.153 938.09 Q170.343 938.09 167.265 933.507 Q164.209 928.901 164.209 920.174 Q164.209 911.424 167.265 906.841 Q170.343 902.234 176.153 902.234 Z\" fill=\"#000000\" fill-rule=\"evenodd\" fill-opacity=\"1\" /><path clip-path=\"url(#clip400)\" d=\"M101.756 686.948 Q98.1447 686.948 96.316 690.512 Q94.5104 694.054 94.5104 701.184 Q94.5104 708.29 96.316 711.855 Q98.1447 715.397 101.756 715.397 Q105.39 715.397 107.196 711.855 Q109.024 708.29 109.024 701.184 Q109.024 694.054 107.196 690.512 Q105.39 686.948 101.756 686.948 M101.756 683.244 Q107.566 683.244 110.621 687.85 Q113.7 692.434 113.7 701.184 Q113.7 709.91 110.621 714.517 Q107.566 719.1 101.756 719.1 Q95.9456 719.1 92.8669 714.517 Q89.8114 709.91 89.8114 701.184 Q89.8114 692.434 92.8669 687.85 Q95.9456 683.244 101.756 683.244 Z\" fill=\"#000000\" fill-rule=\"evenodd\" fill-opacity=\"1\" /><path clip-path=\"url(#clip400)\" d=\"M121.918 712.549 L126.802 712.549 L126.802 718.429 L121.918 718.429 L121.918 712.549 Z\" fill=\"#000000\" fill-rule=\"evenodd\" fill-opacity=\"1\" /><path clip-path=\"url(#clip400)\" d=\"M141.015 714.494 L157.334 714.494 L157.334 718.429 L135.39 718.429 L135.39 714.494 Q138.052 711.739 142.635 707.11 Q147.242 702.457 148.422 701.114 Q150.668 698.591 151.547 696.855 Q152.45 695.096 152.45 693.406 Q152.45 690.651 150.505 688.915 Q148.584 687.179 145.482 687.179 Q143.283 687.179 140.83 687.943 Q138.399 688.707 135.621 690.258 L135.621 685.536 Q138.445 684.401 140.899 683.823 Q143.353 683.244 145.39 683.244 Q150.76 683.244 153.955 685.929 Q157.149 688.614 157.149 693.105 Q157.149 695.235 156.339 697.156 Q155.552 699.054 153.445 701.647 Q152.867 702.318 149.765 705.535 Q146.663 708.73 141.015 714.494 Z\" fill=\"#000000\" fill-rule=\"evenodd\" fill-opacity=\"1\" /><path clip-path=\"url(#clip400)\" d=\"M167.195 683.869 L185.552 683.869 L185.552 687.804 L171.478 687.804 L171.478 696.276 Q172.496 695.929 173.515 695.767 Q174.533 695.582 175.552 695.582 Q181.339 695.582 184.718 698.753 Q188.098 701.924 188.098 707.341 Q188.098 712.92 184.626 716.022 Q181.153 719.1 174.834 719.1 Q172.658 719.1 170.39 718.73 Q168.144 718.359 165.737 717.619 L165.737 712.92 Q167.82 714.054 170.042 714.609 Q172.265 715.165 174.741 715.165 Q178.746 715.165 181.084 713.059 Q183.422 710.952 183.422 707.341 Q183.422 703.73 181.084 701.623 Q178.746 699.517 174.741 699.517 Q172.866 699.517 170.991 699.934 Q169.14 700.35 167.195 701.23 L167.195 683.869 Z\" fill=\"#000000\" fill-rule=\"evenodd\" fill-opacity=\"1\" /><path clip-path=\"url(#clip400)\" d=\"M100.76 467.957 Q97.1493 467.957 95.3206 471.522 Q93.515 475.064 93.515 482.193 Q93.515 489.3 95.3206 492.865 Q97.1493 496.406 100.76 496.406 Q104.395 496.406 106.2 492.865 Q108.029 489.3 108.029 482.193 Q108.029 475.064 106.2 471.522 Q104.395 467.957 100.76 467.957 M100.76 464.254 Q106.571 464.254 109.626 468.86 Q112.705 473.443 112.705 482.193 Q112.705 490.92 109.626 495.527 Q106.571 500.11 100.76 500.11 Q94.9502 500.11 91.8715 495.527 Q88.816 490.92 88.816 482.193 Q88.816 473.443 91.8715 468.86 Q94.9502 464.254 100.76 464.254 Z\" fill=\"#000000\" fill-rule=\"evenodd\" fill-opacity=\"1\" /><path clip-path=\"url(#clip400)\" d=\"M120.922 493.559 L125.807 493.559 L125.807 499.439 L120.922 499.439 L120.922 493.559 Z\" fill=\"#000000\" fill-rule=\"evenodd\" fill-opacity=\"1\" /><path clip-path=\"url(#clip400)\" d=\"M136.038 464.879 L154.394 464.879 L154.394 468.814 L140.32 468.814 L140.32 477.286 Q141.339 476.939 142.357 476.777 Q143.376 476.592 144.394 476.592 Q150.181 476.592 153.561 479.763 Q156.941 482.934 156.941 488.351 Q156.941 493.929 153.468 497.031 Q149.996 500.11 143.677 500.11 Q141.501 500.11 139.232 499.74 Q136.987 499.369 134.58 498.629 L134.58 493.929 Q136.663 495.064 138.885 495.619 Q141.107 496.175 143.584 496.175 Q147.589 496.175 149.927 494.068 Q152.265 491.962 152.265 488.351 Q152.265 484.74 149.927 482.633 Q147.589 480.527 143.584 480.527 Q141.709 480.527 139.834 480.943 Q137.982 481.36 136.038 482.24 L136.038 464.879 Z\" fill=\"#000000\" fill-rule=\"evenodd\" fill-opacity=\"1\" /><path clip-path=\"url(#clip400)\" d=\"M176.153 467.957 Q172.542 467.957 170.714 471.522 Q168.908 475.064 168.908 482.193 Q168.908 489.3 170.714 492.865 Q172.542 496.406 176.153 496.406 Q179.788 496.406 181.593 492.865 Q183.422 489.3 183.422 482.193 Q183.422 475.064 181.593 471.522 Q179.788 467.957 176.153 467.957 M176.153 464.254 Q181.964 464.254 185.019 468.86 Q188.098 473.443 188.098 482.193 Q188.098 490.92 185.019 495.527 Q181.964 500.11 176.153 500.11 Q170.343 500.11 167.265 495.527 Q164.209 490.92 164.209 482.193 Q164.209 473.443 167.265 468.86 Q170.343 464.254 176.153 464.254 Z\" fill=\"#000000\" fill-rule=\"evenodd\" fill-opacity=\"1\" /><path clip-path=\"url(#clip400)\" d=\"M101.756 248.967 Q98.1447 248.967 96.316 252.532 Q94.5104 256.074 94.5104 263.203 Q94.5104 270.31 96.316 273.874 Q98.1447 277.416 101.756 277.416 Q105.39 277.416 107.196 273.874 Q109.024 270.31 109.024 263.203 Q109.024 256.074 107.196 252.532 Q105.39 248.967 101.756 248.967 M101.756 245.263 Q107.566 245.263 110.621 249.87 Q113.7 254.453 113.7 263.203 Q113.7 271.93 110.621 276.536 Q107.566 281.12 101.756 281.12 Q95.9456 281.12 92.8669 276.536 Q89.8114 271.93 89.8114 263.203 Q89.8114 254.453 92.8669 249.87 Q95.9456 245.263 101.756 245.263 Z\" fill=\"#000000\" fill-rule=\"evenodd\" fill-opacity=\"1\" /><path clip-path=\"url(#clip400)\" d=\"M121.918 274.569 L126.802 274.569 L126.802 280.448 L121.918 280.448 L121.918 274.569 Z\" fill=\"#000000\" fill-rule=\"evenodd\" fill-opacity=\"1\" /><path clip-path=\"url(#clip400)\" d=\"M135.806 245.888 L158.029 245.888 L158.029 247.879 L145.482 280.448 L140.598 280.448 L152.404 249.824 L135.806 249.824 L135.806 245.888 Z\" fill=\"#000000\" fill-rule=\"evenodd\" fill-opacity=\"1\" /><path clip-path=\"url(#clip400)\" d=\"M167.195 245.888 L185.552 245.888 L185.552 249.824 L171.478 249.824 L171.478 258.296 Q172.496 257.949 173.515 257.787 Q174.533 257.601 175.552 257.601 Q181.339 257.601 184.718 260.773 Q188.098 263.944 188.098 269.361 Q188.098 274.939 184.626 278.041 Q181.153 281.12 174.834 281.12 Q172.658 281.12 170.39 280.749 Q168.144 280.379 165.737 279.638 L165.737 274.939 Q167.82 276.073 170.042 276.629 Q172.265 277.185 174.741 277.185 Q178.746 277.185 181.084 275.078 Q183.422 272.972 183.422 269.361 Q183.422 265.749 181.084 263.643 Q178.746 261.537 174.741 261.537 Q172.866 261.537 170.991 261.953 Q169.14 262.37 167.195 263.249 L167.195 245.888 Z\" fill=\"#000000\" fill-rule=\"evenodd\" fill-opacity=\"1\" /><circle clip-path=\"url(#clip402)\" cx=\"798.06\" cy=\"1445.72\" r=\"14\" fill=\"#009af9\" fill-rule=\"evenodd\" fill-opacity=\"1\" stroke=\"#000000\" stroke-opacity=\"1\" stroke-width=\"3.2\"/>\n",
       "<circle clip-path=\"url(#clip402)\" cx=\"1732.09\" cy=\"1358.12\" r=\"14\" fill=\"#009af9\" fill-rule=\"evenodd\" fill-opacity=\"1\" stroke=\"#000000\" stroke-opacity=\"1\" stroke-width=\"3.2\"/>\n",
       "<circle clip-path=\"url(#clip402)\" cx=\"2245.81\" cy=\"832.543\" r=\"14\" fill=\"#009af9\" fill-rule=\"evenodd\" fill-opacity=\"1\" stroke=\"#000000\" stroke-opacity=\"1\" stroke-width=\"3.2\"/>\n",
       "<circle clip-path=\"url(#clip402)\" cx=\"2292.51\" cy=\"482.159\" r=\"14\" fill=\"#009af9\" fill-rule=\"evenodd\" fill-opacity=\"1\" stroke=\"#000000\" stroke-opacity=\"1\" stroke-width=\"3.2\"/>\n",
       "<circle clip-path=\"url(#clip402)\" cx=\"1778.79\" cy=\"131.774\" r=\"14\" fill=\"#009af9\" fill-rule=\"evenodd\" fill-opacity=\"1\" stroke=\"#000000\" stroke-opacity=\"1\" stroke-width=\"3.2\"/>\n",
       "<circle clip-path=\"url(#clip402)\" cx=\"798.06\" cy=\"87.9763\" r=\"14\" fill=\"#009af9\" fill-rule=\"evenodd\" fill-opacity=\"1\" stroke=\"#000000\" stroke-opacity=\"1\" stroke-width=\"3.2\"/>\n",
       "<circle clip-path=\"url(#clip402)\" cx=\"284.343\" cy=\"438.361\" r=\"14\" fill=\"#009af9\" fill-rule=\"evenodd\" fill-opacity=\"1\" stroke=\"#000000\" stroke-opacity=\"1\" stroke-width=\"3.2\"/>\n",
       "</svg>\n"
      ]
     },
     "execution_count": 18,
     "metadata": {},
     "output_type": "execute_result"
    }
   ],
   "source": [
    "\n",
    "R.scatter()"
   ]
  },
  {
   "cell_type": "code",
   "execution_count": 19,
   "metadata": {},
   "outputs": [
    {
     "data": {
      "text/plain": [
       "7-element Vector{Float64}:\n",
       " 0.04995839572194275\n",
       " 0.49934672168013006\n",
       " 1.3258176636680323\n",
       " 2.792821650005886\n",
       " 3.117787627404723\n",
       " 3.4903636571737002\n",
       " 5.475568578455419"
      ]
     },
     "execution_count": 19,
     "metadata": {},
     "output_type": "execute_result"
    }
   ],
   "source": [
    "R.angles()"
   ]
  },
  {
   "cell_type": "code",
   "execution_count": 20,
   "metadata": {},
   "outputs": [
    {
     "data": {
      "text/plain": [
       "7-element Vector{Vertex}:\n",
       " Vertex(Real[-1.0, -0.6])\n",
       " Vertex(Real[1.0, -0.5])\n",
       " Vertex(Real[2.1, 0.1])\n",
       " Vertex(Real[2.2, 0.5])\n",
       " Vertex(Real[1.1, 0.9])\n",
       " Vertex(Real[-1.0, 0.9500000000000001])\n",
       " Vertex(Real[-2.1, 0.55])"
      ]
     },
     "execution_count": 20,
     "metadata": {},
     "output_type": "execute_result"
    }
   ],
   "source": [
    "R.vertices"
   ]
  },
  {
   "cell_type": "code",
   "execution_count": 21,
   "metadata": {},
   "outputs": [
    {
     "data": {
      "text/plain": [
       "4-element Vector{Float64}:\n",
       " 0.49934672168013006\n",
       " 2.792821650005886\n",
       " 3.4903636571737002\n",
       " 5.783838585499456"
      ]
     },
     "execution_count": 21,
     "metadata": {},
     "output_type": "execute_result"
    }
   ],
   "source": [
    "P.angles()"
   ]
  },
  {
   "cell_type": "code",
   "execution_count": 22,
   "metadata": {},
   "outputs": [
    {
     "data": {
      "text/plain": [
       "4-element Vector{Float64}:\n",
       " 0.049958395721942765\n",
       " 1.3258176636680323\n",
       " 3.117787627404723\n",
       " 4.71238898038469"
      ]
     },
     "execution_count": 22,
     "metadata": {},
     "output_type": "execute_result"
    }
   ],
   "source": [
    " Q.angles()"
   ]
  },
  {
   "cell_type": "code",
   "execution_count": 31,
   "metadata": {},
   "outputs": [
    {
     "data": {
      "text/plain": [
       "Polygon(Vertex[Vertex(Real[2.2, 0.4]), Vertex(Real[3.3000000000000003, 1.0]), Vertex(Real[2.2, 1.4]), Vertex(Real[1.1, 1.0])], var\"#7#11\"{Polygon}(Polygon(#= circular reference @-2 =#)), var\"#9#13\"{Polygon}(Polygon(#= circular reference @-2 =#)), var\"#8#12\"{Polygon}(Polygon(#= circular reference @-2 =#)), var\"#10#14\"{Polygon}(Polygon(#= circular reference @-2 =#)))"
      ]
     },
     "execution_count": 31,
     "metadata": {},
     "output_type": "execute_result"
    }
   ],
   "source": [
    "RR = u1+P"
   ]
  },
  {
   "cell_type": "code",
   "execution_count": 27,
   "metadata": {},
   "outputs": [
    {
     "data": {
      "image/svg+xml": [
       "<?xml version=\"1.0\" encoding=\"utf-8\"?>\n",
       "<svg xmlns=\"http://www.w3.org/2000/svg\" xmlns:xlink=\"http://www.w3.org/1999/xlink\" width=\"600\" height=\"400\" viewBox=\"0 0 2400 1600\">\n",
       "<defs>\n",
       "  <clipPath id=\"clip440\">\n",
       "    <rect x=\"0\" y=\"0\" width=\"2400\" height=\"1600\"/>\n",
       "  </clipPath>\n",
       "</defs>\n",
       "<path clip-path=\"url(#clip440)\" d=\"\n",
       "M0 1600 L2400 1600 L2400 0 L0 0  Z\n",
       "  \" fill=\"#ffffff\" fill-rule=\"evenodd\" fill-opacity=\"1\"/>\n",
       "<defs>\n",
       "  <clipPath id=\"clip441\">\n",
       "    <rect x=\"480\" y=\"0\" width=\"1681\" height=\"1600\"/>\n",
       "  </clipPath>\n",
       "</defs>\n",
       "<path clip-path=\"url(#clip440)\" d=\"\n",
       "M156.598 1486.45 L2352.76 1486.45 L2352.76 47.2441 L156.598 47.2441  Z\n",
       "  \" fill=\"#ffffff\" fill-rule=\"evenodd\" fill-opacity=\"1\"/>\n",
       "<defs>\n",
       "  <clipPath id=\"clip442\">\n",
       "    <rect x=\"156\" y=\"47\" width=\"2197\" height=\"1440\"/>\n",
       "  </clipPath>\n",
       "</defs>\n",
       "<polyline clip-path=\"url(#clip442)\" style=\"stroke:#000000; stroke-linecap:butt; stroke-linejoin:round; stroke-width:2; stroke-opacity:0.1; fill:none\" points=\"\n",
       "  218.754,1486.45 218.754,47.2441 \n",
       "  \"/>\n",
       "<polyline clip-path=\"url(#clip442)\" style=\"stroke:#000000; stroke-linecap:butt; stroke-linejoin:round; stroke-width:2; stroke-opacity:0.1; fill:none\" points=\"\n",
       "  689.628,1486.45 689.628,47.2441 \n",
       "  \"/>\n",
       "<polyline clip-path=\"url(#clip442)\" style=\"stroke:#000000; stroke-linecap:butt; stroke-linejoin:round; stroke-width:2; stroke-opacity:0.1; fill:none\" points=\"\n",
       "  1160.5,1486.45 1160.5,47.2441 \n",
       "  \"/>\n",
       "<polyline clip-path=\"url(#clip442)\" style=\"stroke:#000000; stroke-linecap:butt; stroke-linejoin:round; stroke-width:2; stroke-opacity:0.1; fill:none\" points=\"\n",
       "  1631.38,1486.45 1631.38,47.2441 \n",
       "  \"/>\n",
       "<polyline clip-path=\"url(#clip442)\" style=\"stroke:#000000; stroke-linecap:butt; stroke-linejoin:round; stroke-width:2; stroke-opacity:0.1; fill:none\" points=\"\n",
       "  2102.25,1486.45 2102.25,47.2441 \n",
       "  \"/>\n",
       "<polyline clip-path=\"url(#clip440)\" style=\"stroke:#000000; stroke-linecap:butt; stroke-linejoin:round; stroke-width:4; stroke-opacity:1; fill:none\" points=\"\n",
       "  156.598,1486.45 2352.76,1486.45 \n",
       "  \"/>\n",
       "<polyline clip-path=\"url(#clip440)\" style=\"stroke:#000000; stroke-linecap:butt; stroke-linejoin:round; stroke-width:4; stroke-opacity:1; fill:none\" points=\"\n",
       "  218.754,1486.45 218.754,1467.55 \n",
       "  \"/>\n",
       "<polyline clip-path=\"url(#clip440)\" style=\"stroke:#000000; stroke-linecap:butt; stroke-linejoin:round; stroke-width:4; stroke-opacity:1; fill:none\" points=\"\n",
       "  689.628,1486.45 689.628,1467.55 \n",
       "  \"/>\n",
       "<polyline clip-path=\"url(#clip440)\" style=\"stroke:#000000; stroke-linecap:butt; stroke-linejoin:round; stroke-width:4; stroke-opacity:1; fill:none\" points=\"\n",
       "  1160.5,1486.45 1160.5,1467.55 \n",
       "  \"/>\n",
       "<polyline clip-path=\"url(#clip440)\" style=\"stroke:#000000; stroke-linecap:butt; stroke-linejoin:round; stroke-width:4; stroke-opacity:1; fill:none\" points=\"\n",
       "  1631.38,1486.45 1631.38,1467.55 \n",
       "  \"/>\n",
       "<polyline clip-path=\"url(#clip440)\" style=\"stroke:#000000; stroke-linecap:butt; stroke-linejoin:round; stroke-width:4; stroke-opacity:1; fill:none\" points=\"\n",
       "  2102.25,1486.45 2102.25,1467.55 \n",
       "  \"/>\n",
       "<path clip-path=\"url(#clip440)\" d=\"M196.138 1517.37 Q192.527 1517.37 190.698 1520.93 Q188.893 1524.47 188.893 1531.6 Q188.893 1538.71 190.698 1542.27 Q192.527 1545.82 196.138 1545.82 Q199.772 1545.82 201.578 1542.27 Q203.407 1538.71 203.407 1531.6 Q203.407 1524.47 201.578 1520.93 Q199.772 1517.37 196.138 1517.37 M196.138 1513.66 Q201.948 1513.66 205.004 1518.27 Q208.082 1522.85 208.082 1531.6 Q208.082 1540.33 205.004 1544.94 Q201.948 1549.52 196.138 1549.52 Q190.328 1549.52 187.249 1544.94 Q184.194 1540.33 184.194 1531.6 Q184.194 1522.85 187.249 1518.27 Q190.328 1513.66 196.138 1513.66 Z\" fill=\"#000000\" fill-rule=\"evenodd\" fill-opacity=\"1\" /><path clip-path=\"url(#clip440)\" d=\"M216.3 1542.97 L221.184 1542.97 L221.184 1548.85 L216.3 1548.85 L216.3 1542.97 Z\" fill=\"#000000\" fill-rule=\"evenodd\" fill-opacity=\"1\" /><path clip-path=\"url(#clip440)\" d=\"M241.369 1517.37 Q237.758 1517.37 235.929 1520.93 Q234.124 1524.47 234.124 1531.6 Q234.124 1538.71 235.929 1542.27 Q237.758 1545.82 241.369 1545.82 Q245.003 1545.82 246.809 1542.27 Q248.638 1538.71 248.638 1531.6 Q248.638 1524.47 246.809 1520.93 Q245.003 1517.37 241.369 1517.37 M241.369 1513.66 Q247.179 1513.66 250.235 1518.27 Q253.314 1522.85 253.314 1531.6 Q253.314 1540.33 250.235 1544.94 Q247.179 1549.52 241.369 1549.52 Q235.559 1549.52 232.48 1544.94 Q229.425 1540.33 229.425 1531.6 Q229.425 1522.85 232.48 1518.27 Q235.559 1513.66 241.369 1513.66 Z\" fill=\"#000000\" fill-rule=\"evenodd\" fill-opacity=\"1\" /><path clip-path=\"url(#clip440)\" d=\"M667.51 1517.37 Q663.899 1517.37 662.07 1520.93 Q660.265 1524.47 660.265 1531.6 Q660.265 1538.71 662.07 1542.27 Q663.899 1545.82 667.51 1545.82 Q671.144 1545.82 672.95 1542.27 Q674.778 1538.71 674.778 1531.6 Q674.778 1524.47 672.95 1520.93 Q671.144 1517.37 667.51 1517.37 M667.51 1513.66 Q673.32 1513.66 676.376 1518.27 Q679.454 1522.85 679.454 1531.6 Q679.454 1540.33 676.376 1544.94 Q673.32 1549.52 667.51 1549.52 Q661.7 1549.52 658.621 1544.94 Q655.566 1540.33 655.566 1531.6 Q655.566 1522.85 658.621 1518.27 Q661.7 1513.66 667.51 1513.66 Z\" fill=\"#000000\" fill-rule=\"evenodd\" fill-opacity=\"1\" /><path clip-path=\"url(#clip440)\" d=\"M687.672 1542.97 L692.556 1542.97 L692.556 1548.85 L687.672 1548.85 L687.672 1542.97 Z\" fill=\"#000000\" fill-rule=\"evenodd\" fill-opacity=\"1\" /><path clip-path=\"url(#clip440)\" d=\"M702.788 1514.29 L721.144 1514.29 L721.144 1518.22 L707.07 1518.22 L707.07 1526.7 Q708.088 1526.35 709.107 1526.19 Q710.126 1526 711.144 1526 Q716.931 1526 720.311 1529.17 Q723.69 1532.34 723.69 1537.76 Q723.69 1543.34 720.218 1546.44 Q716.746 1549.52 710.426 1549.52 Q708.251 1549.52 705.982 1549.15 Q703.737 1548.78 701.329 1548.04 L701.329 1543.34 Q703.413 1544.47 705.635 1545.03 Q707.857 1545.58 710.334 1545.58 Q714.338 1545.58 716.676 1543.48 Q719.014 1541.37 719.014 1537.76 Q719.014 1534.15 716.676 1532.04 Q714.338 1529.94 710.334 1529.94 Q708.459 1529.94 706.584 1530.35 Q704.732 1530.77 702.788 1531.65 L702.788 1514.29 Z\" fill=\"#000000\" fill-rule=\"evenodd\" fill-opacity=\"1\" /><path clip-path=\"url(#clip440)\" d=\"M1127.66 1544.91 L1135.29 1544.91 L1135.29 1518.55 L1126.98 1520.21 L1126.98 1515.95 L1135.25 1514.29 L1139.92 1514.29 L1139.92 1544.91 L1147.56 1544.91 L1147.56 1548.85 L1127.66 1548.85 L1127.66 1544.91 Z\" fill=\"#000000\" fill-rule=\"evenodd\" fill-opacity=\"1\" /><path clip-path=\"url(#clip440)\" d=\"M1157.01 1542.97 L1161.89 1542.97 L1161.89 1548.85 L1157.01 1548.85 L1157.01 1542.97 Z\" fill=\"#000000\" fill-rule=\"evenodd\" fill-opacity=\"1\" /><path clip-path=\"url(#clip440)\" d=\"M1182.08 1517.37 Q1178.47 1517.37 1176.64 1520.93 Q1174.83 1524.47 1174.83 1531.6 Q1174.83 1538.71 1176.64 1542.27 Q1178.47 1545.82 1182.08 1545.82 Q1185.71 1545.82 1187.52 1542.27 Q1189.34 1538.71 1189.34 1531.6 Q1189.34 1524.47 1187.52 1520.93 Q1185.71 1517.37 1182.08 1517.37 M1182.08 1513.66 Q1187.89 1513.66 1190.94 1518.27 Q1194.02 1522.85 1194.02 1531.6 Q1194.02 1540.33 1190.94 1544.94 Q1187.89 1549.52 1182.08 1549.52 Q1176.27 1549.52 1173.19 1544.94 Q1170.13 1540.33 1170.13 1531.6 Q1170.13 1522.85 1173.19 1518.27 Q1176.27 1513.66 1182.08 1513.66 Z\" fill=\"#000000\" fill-rule=\"evenodd\" fill-opacity=\"1\" /><path clip-path=\"url(#clip440)\" d=\"M1599.03 1544.91 L1606.67 1544.91 L1606.67 1518.55 L1598.36 1520.21 L1598.36 1515.95 L1606.62 1514.29 L1611.3 1514.29 L1611.3 1544.91 L1618.93 1544.91 L1618.93 1548.85 L1599.03 1548.85 L1599.03 1544.91 Z\" fill=\"#000000\" fill-rule=\"evenodd\" fill-opacity=\"1\" /><path clip-path=\"url(#clip440)\" d=\"M1628.38 1542.97 L1633.26 1542.97 L1633.26 1548.85 L1628.38 1548.85 L1628.38 1542.97 Z\" fill=\"#000000\" fill-rule=\"evenodd\" fill-opacity=\"1\" /><path clip-path=\"url(#clip440)\" d=\"M1643.49 1514.29 L1661.85 1514.29 L1661.85 1518.22 L1647.78 1518.22 L1647.78 1526.7 Q1648.8 1526.35 1649.81 1526.19 Q1650.83 1526 1651.85 1526 Q1657.64 1526 1661.02 1529.17 Q1664.4 1532.34 1664.4 1537.76 Q1664.4 1543.34 1660.92 1546.44 Q1657.45 1549.52 1651.13 1549.52 Q1648.96 1549.52 1646.69 1549.15 Q1644.44 1548.78 1642.04 1548.04 L1642.04 1543.34 Q1644.12 1544.47 1646.34 1545.03 Q1648.56 1545.58 1651.04 1545.58 Q1655.05 1545.58 1657.38 1543.48 Q1659.72 1541.37 1659.72 1537.76 Q1659.72 1534.15 1657.38 1532.04 Q1655.05 1529.94 1651.04 1529.94 Q1649.17 1529.94 1647.29 1530.35 Q1645.44 1530.77 1643.49 1531.65 L1643.49 1514.29 Z\" fill=\"#000000\" fill-rule=\"evenodd\" fill-opacity=\"1\" /><path clip-path=\"url(#clip440)\" d=\"M2073.49 1544.91 L2089.81 1544.91 L2089.81 1548.85 L2067.86 1548.85 L2067.86 1544.91 Q2070.53 1542.16 2075.11 1537.53 Q2079.72 1532.88 2080.9 1531.53 Q2083.14 1529.01 2084.02 1527.27 Q2084.92 1525.51 2084.92 1523.82 Q2084.92 1521.07 2082.98 1519.33 Q2081.06 1517.6 2077.96 1517.6 Q2075.76 1517.6 2073.3 1518.36 Q2070.87 1519.13 2068.1 1520.68 L2068.1 1515.95 Q2070.92 1514.82 2073.37 1514.24 Q2075.83 1513.66 2077.86 1513.66 Q2083.23 1513.66 2086.43 1516.35 Q2089.62 1519.03 2089.62 1523.52 Q2089.62 1525.65 2088.81 1527.57 Q2088.03 1529.47 2085.92 1532.07 Q2085.34 1532.74 2082.24 1535.95 Q2079.14 1539.15 2073.49 1544.91 Z\" fill=\"#000000\" fill-rule=\"evenodd\" fill-opacity=\"1\" /><path clip-path=\"url(#clip440)\" d=\"M2099.62 1542.97 L2104.51 1542.97 L2104.51 1548.85 L2099.62 1548.85 L2099.62 1542.97 Z\" fill=\"#000000\" fill-rule=\"evenodd\" fill-opacity=\"1\" /><path clip-path=\"url(#clip440)\" d=\"M2124.69 1517.37 Q2121.08 1517.37 2119.25 1520.93 Q2117.45 1524.47 2117.45 1531.6 Q2117.45 1538.71 2119.25 1542.27 Q2121.08 1545.82 2124.69 1545.82 Q2128.33 1545.82 2130.13 1542.27 Q2131.96 1538.71 2131.96 1531.6 Q2131.96 1524.47 2130.13 1520.93 Q2128.33 1517.37 2124.69 1517.37 M2124.69 1513.66 Q2130.5 1513.66 2133.56 1518.27 Q2136.64 1522.85 2136.64 1531.6 Q2136.64 1540.33 2133.56 1544.94 Q2130.5 1549.52 2124.69 1549.52 Q2118.88 1549.52 2115.8 1544.94 Q2112.75 1540.33 2112.75 1531.6 Q2112.75 1522.85 2115.8 1518.27 Q2118.88 1513.66 2124.69 1513.66 Z\" fill=\"#000000\" fill-rule=\"evenodd\" fill-opacity=\"1\" /><polyline clip-path=\"url(#clip442)\" style=\"stroke:#000000; stroke-linecap:butt; stroke-linejoin:round; stroke-width:2; stroke-opacity:0.1; fill:none\" points=\"\n",
       "  156.598,1309.94 2352.76,1309.94 \n",
       "  \"/>\n",
       "<polyline clip-path=\"url(#clip442)\" style=\"stroke:#000000; stroke-linecap:butt; stroke-linejoin:round; stroke-width:2; stroke-opacity:0.1; fill:none\" points=\"\n",
       "  156.598,1038.39 2352.76,1038.39 \n",
       "  \"/>\n",
       "<polyline clip-path=\"url(#clip442)\" style=\"stroke:#000000; stroke-linecap:butt; stroke-linejoin:round; stroke-width:2; stroke-opacity:0.1; fill:none\" points=\"\n",
       "  156.598,766.846 2352.76,766.846 \n",
       "  \"/>\n",
       "<polyline clip-path=\"url(#clip442)\" style=\"stroke:#000000; stroke-linecap:butt; stroke-linejoin:round; stroke-width:2; stroke-opacity:0.1; fill:none\" points=\"\n",
       "  156.598,495.298 2352.76,495.298 \n",
       "  \"/>\n",
       "<polyline clip-path=\"url(#clip442)\" style=\"stroke:#000000; stroke-linecap:butt; stroke-linejoin:round; stroke-width:2; stroke-opacity:0.1; fill:none\" points=\"\n",
       "  156.598,223.75 2352.76,223.75 \n",
       "  \"/>\n",
       "<polyline clip-path=\"url(#clip440)\" style=\"stroke:#000000; stroke-linecap:butt; stroke-linejoin:round; stroke-width:4; stroke-opacity:1; fill:none\" points=\"\n",
       "  156.598,1486.45 156.598,47.2441 \n",
       "  \"/>\n",
       "<polyline clip-path=\"url(#clip440)\" style=\"stroke:#000000; stroke-linecap:butt; stroke-linejoin:round; stroke-width:4; stroke-opacity:1; fill:none\" points=\"\n",
       "  156.598,1309.94 175.496,1309.94 \n",
       "  \"/>\n",
       "<polyline clip-path=\"url(#clip440)\" style=\"stroke:#000000; stroke-linecap:butt; stroke-linejoin:round; stroke-width:4; stroke-opacity:1; fill:none\" points=\"\n",
       "  156.598,1038.39 175.496,1038.39 \n",
       "  \"/>\n",
       "<polyline clip-path=\"url(#clip440)\" style=\"stroke:#000000; stroke-linecap:butt; stroke-linejoin:round; stroke-width:4; stroke-opacity:1; fill:none\" points=\"\n",
       "  156.598,766.846 175.496,766.846 \n",
       "  \"/>\n",
       "<polyline clip-path=\"url(#clip440)\" style=\"stroke:#000000; stroke-linecap:butt; stroke-linejoin:round; stroke-width:4; stroke-opacity:1; fill:none\" points=\"\n",
       "  156.598,495.298 175.496,495.298 \n",
       "  \"/>\n",
       "<polyline clip-path=\"url(#clip440)\" style=\"stroke:#000000; stroke-linecap:butt; stroke-linejoin:round; stroke-width:4; stroke-opacity:1; fill:none\" points=\"\n",
       "  156.598,223.75 175.496,223.75 \n",
       "  \"/>\n",
       "<path clip-path=\"url(#clip440)\" d=\"M63.4226 1295.74 Q59.8115 1295.74 57.9828 1299.31 Q56.1773 1302.85 56.1773 1309.98 Q56.1773 1317.08 57.9828 1320.65 Q59.8115 1324.19 63.4226 1324.19 Q67.0569 1324.19 68.8624 1320.65 Q70.6911 1317.08 70.6911 1309.98 Q70.6911 1302.85 68.8624 1299.31 Q67.0569 1295.74 63.4226 1295.74 M63.4226 1292.04 Q69.2328 1292.04 72.2883 1296.64 Q75.367 1301.23 75.367 1309.98 Q75.367 1318.7 72.2883 1323.31 Q69.2328 1327.89 63.4226 1327.89 Q57.6125 1327.89 54.5338 1323.31 Q51.4782 1318.7 51.4782 1309.98 Q51.4782 1301.23 54.5338 1296.64 Q57.6125 1292.04 63.4226 1292.04 Z\" fill=\"#000000\" fill-rule=\"evenodd\" fill-opacity=\"1\" /><path clip-path=\"url(#clip440)\" d=\"M83.5845 1321.34 L88.4688 1321.34 L88.4688 1327.22 L83.5845 1327.22 L83.5845 1321.34 Z\" fill=\"#000000\" fill-rule=\"evenodd\" fill-opacity=\"1\" /><path clip-path=\"url(#clip440)\" d=\"M108.654 1295.74 Q105.043 1295.74 103.214 1299.31 Q101.409 1302.85 101.409 1309.98 Q101.409 1317.08 103.214 1320.65 Q105.043 1324.19 108.654 1324.19 Q112.288 1324.19 114.094 1320.65 Q115.922 1317.08 115.922 1309.98 Q115.922 1302.85 114.094 1299.31 Q112.288 1295.74 108.654 1295.74 M108.654 1292.04 Q114.464 1292.04 117.52 1296.64 Q120.598 1301.23 120.598 1309.98 Q120.598 1318.7 117.52 1323.31 Q114.464 1327.89 108.654 1327.89 Q102.844 1327.89 99.765 1323.31 Q96.7095 1318.7 96.7095 1309.98 Q96.7095 1301.23 99.765 1296.64 Q102.844 1292.04 108.654 1292.04 Z\" fill=\"#000000\" fill-rule=\"evenodd\" fill-opacity=\"1\" /><path clip-path=\"url(#clip440)\" d=\"M65.0198 1024.19 Q61.4087 1024.19 59.58 1027.76 Q57.7745 1031.3 57.7745 1038.43 Q57.7745 1045.54 59.58 1049.1 Q61.4087 1052.64 65.0198 1052.64 Q68.6541 1052.64 70.4596 1049.1 Q72.2883 1045.54 72.2883 1038.43 Q72.2883 1031.3 70.4596 1027.76 Q68.6541 1024.19 65.0198 1024.19 M65.0198 1020.49 Q70.83 1020.49 73.8855 1025.1 Q76.9642 1029.68 76.9642 1038.43 Q76.9642 1047.16 73.8855 1051.76 Q70.83 1056.35 65.0198 1056.35 Q59.2097 1056.35 56.131 1051.76 Q53.0754 1047.16 53.0754 1038.43 Q53.0754 1029.68 56.131 1025.1 Q59.2097 1020.49 65.0198 1020.49 Z\" fill=\"#000000\" fill-rule=\"evenodd\" fill-opacity=\"1\" /><path clip-path=\"url(#clip440)\" d=\"M85.1818 1049.79 L90.066 1049.79 L90.066 1055.67 L85.1818 1055.67 L85.1818 1049.79 Z\" fill=\"#000000\" fill-rule=\"evenodd\" fill-opacity=\"1\" /><path clip-path=\"url(#clip440)\" d=\"M104.279 1051.74 L120.598 1051.74 L120.598 1055.67 L98.6539 1055.67 L98.6539 1051.74 Q101.316 1048.98 105.899 1044.35 Q110.506 1039.7 111.686 1038.36 Q113.932 1035.84 114.811 1034.1 Q115.714 1032.34 115.714 1030.65 Q115.714 1027.9 113.77 1026.16 Q111.848 1024.42 108.746 1024.42 Q106.547 1024.42 104.094 1025.19 Q101.663 1025.95 98.8854 1027.5 L98.8854 1022.78 Q101.709 1021.65 104.163 1021.07 Q106.617 1020.49 108.654 1020.49 Q114.024 1020.49 117.219 1023.17 Q120.413 1025.86 120.413 1030.35 Q120.413 1032.48 119.603 1034.4 Q118.816 1036.3 116.709 1038.89 Q116.131 1039.56 113.029 1042.78 Q109.927 1045.97 104.279 1051.74 Z\" fill=\"#000000\" fill-rule=\"evenodd\" fill-opacity=\"1\" /><path clip-path=\"url(#clip440)\" d=\"M62.9365 752.645 Q59.3254 752.645 57.4967 756.209 Q55.6912 759.751 55.6912 766.881 Q55.6912 773.987 57.4967 777.552 Q59.3254 781.094 62.9365 781.094 Q66.5707 781.094 68.3763 777.552 Q70.205 773.987 70.205 766.881 Q70.205 759.751 68.3763 756.209 Q66.5707 752.645 62.9365 752.645 M62.9365 748.941 Q68.7467 748.941 71.8022 753.547 Q74.8809 758.131 74.8809 766.881 Q74.8809 775.608 71.8022 780.214 Q68.7467 784.797 62.9365 784.797 Q57.1264 784.797 54.0477 780.214 Q50.9921 775.608 50.9921 766.881 Q50.9921 758.131 54.0477 753.547 Q57.1264 748.941 62.9365 748.941 Z\" fill=\"#000000\" fill-rule=\"evenodd\" fill-opacity=\"1\" /><path clip-path=\"url(#clip440)\" d=\"M83.0984 778.246 L87.9827 778.246 L87.9827 784.126 L83.0984 784.126 L83.0984 778.246 Z\" fill=\"#000000\" fill-rule=\"evenodd\" fill-opacity=\"1\" /><path clip-path=\"url(#clip440)\" d=\"M111.015 753.64 L99.2095 772.089 L111.015 772.089 L111.015 753.64 M109.788 749.566 L115.668 749.566 L115.668 772.089 L120.598 772.089 L120.598 775.978 L115.668 775.978 L115.668 784.126 L111.015 784.126 L111.015 775.978 L95.4132 775.978 L95.4132 771.464 L109.788 749.566 Z\" fill=\"#000000\" fill-rule=\"evenodd\" fill-opacity=\"1\" /><path clip-path=\"url(#clip440)\" d=\"M63.2606 481.097 Q59.6495 481.097 57.8208 484.662 Q56.0152 488.203 56.0152 495.333 Q56.0152 502.439 57.8208 506.004 Q59.6495 509.546 63.2606 509.546 Q66.8948 509.546 68.7004 506.004 Q70.5291 502.439 70.5291 495.333 Q70.5291 488.203 68.7004 484.662 Q66.8948 481.097 63.2606 481.097 M63.2606 477.393 Q69.0707 477.393 72.1263 482 Q75.205 486.583 75.205 495.333 Q75.205 504.06 72.1263 508.666 Q69.0707 513.249 63.2606 513.249 Q57.4504 513.249 54.3717 508.666 Q51.3162 504.06 51.3162 495.333 Q51.3162 486.583 54.3717 482 Q57.4504 477.393 63.2606 477.393 Z\" fill=\"#000000\" fill-rule=\"evenodd\" fill-opacity=\"1\" /><path clip-path=\"url(#clip440)\" d=\"M83.4225 506.699 L88.3067 506.699 L88.3067 512.578 L83.4225 512.578 L83.4225 506.699 Z\" fill=\"#000000\" fill-rule=\"evenodd\" fill-opacity=\"1\" /><path clip-path=\"url(#clip440)\" d=\"M109.071 493.435 Q105.922 493.435 104.071 495.587 Q102.242 497.74 102.242 501.49 Q102.242 505.217 104.071 507.393 Q105.922 509.546 109.071 509.546 Q112.219 509.546 114.047 507.393 Q115.899 505.217 115.899 501.49 Q115.899 497.74 114.047 495.587 Q112.219 493.435 109.071 493.435 M118.353 478.782 L118.353 483.041 Q116.594 482.208 114.788 481.768 Q113.006 481.328 111.246 481.328 Q106.617 481.328 104.163 484.453 Q101.733 487.578 101.385 493.898 Q102.751 491.884 104.811 490.819 Q106.871 489.731 109.348 489.731 Q114.557 489.731 117.566 492.902 Q120.598 496.05 120.598 501.49 Q120.598 506.814 117.45 510.032 Q114.302 513.249 109.071 513.249 Q103.075 513.249 99.9039 508.666 Q96.7326 504.06 96.7326 495.333 Q96.7326 487.138 100.621 482.277 Q104.51 477.393 111.061 477.393 Q112.82 477.393 114.603 477.74 Q116.408 478.088 118.353 478.782 Z\" fill=\"#000000\" fill-rule=\"evenodd\" fill-opacity=\"1\" /><path clip-path=\"url(#clip440)\" d=\"M63.5152 209.549 Q59.9041 209.549 58.0754 213.114 Q56.2699 216.655 56.2699 223.785 Q56.2699 230.891 58.0754 234.456 Q59.9041 237.998 63.5152 237.998 Q67.1494 237.998 68.955 234.456 Q70.7837 230.891 70.7837 223.785 Q70.7837 216.655 68.955 213.114 Q67.1494 209.549 63.5152 209.549 M63.5152 205.845 Q69.3254 205.845 72.3809 210.452 Q75.4596 215.035 75.4596 223.785 Q75.4596 232.512 72.3809 237.118 Q69.3254 241.702 63.5152 241.702 Q57.7051 241.702 54.6264 237.118 Q51.5708 232.512 51.5708 223.785 Q51.5708 215.035 54.6264 210.452 Q57.7051 205.845 63.5152 205.845 Z\" fill=\"#000000\" fill-rule=\"evenodd\" fill-opacity=\"1\" /><path clip-path=\"url(#clip440)\" d=\"M83.6771 235.151 L88.5614 235.151 L88.5614 241.03 L83.6771 241.03 L83.6771 235.151 Z\" fill=\"#000000\" fill-rule=\"evenodd\" fill-opacity=\"1\" /><path clip-path=\"url(#clip440)\" d=\"M108.746 224.618 Q105.413 224.618 103.492 226.401 Q101.594 228.183 101.594 231.308 Q101.594 234.433 103.492 236.215 Q105.413 237.998 108.746 237.998 Q112.08 237.998 114.001 236.215 Q115.922 234.41 115.922 231.308 Q115.922 228.183 114.001 226.401 Q112.103 224.618 108.746 224.618 M104.071 222.628 Q101.061 221.887 99.3715 219.827 Q97.7048 217.766 97.7048 214.804 Q97.7048 210.66 100.645 208.253 Q103.608 205.845 108.746 205.845 Q113.908 205.845 116.848 208.253 Q119.788 210.66 119.788 214.804 Q119.788 217.766 118.098 219.827 Q116.432 221.887 113.445 222.628 Q116.825 223.415 118.7 225.706 Q120.598 227.998 120.598 231.308 Q120.598 236.331 117.52 239.016 Q114.464 241.702 108.746 241.702 Q103.029 241.702 99.9502 239.016 Q96.8947 236.331 96.8947 231.308 Q96.8947 227.998 98.7928 225.706 Q100.691 223.415 104.071 222.628 M102.358 215.243 Q102.358 217.928 104.024 219.433 Q105.714 220.938 108.746 220.938 Q111.756 220.938 113.445 219.433 Q115.158 217.928 115.158 215.243 Q115.158 212.558 113.445 211.054 Q111.756 209.549 108.746 209.549 Q105.714 209.549 104.024 211.054 Q102.358 212.558 102.358 215.243 Z\" fill=\"#000000\" fill-rule=\"evenodd\" fill-opacity=\"1\" /><path clip-path=\"url(#clip442)\" d=\"\n",
       "M1254.68 1445.72 L2290.6 631.072 L1254.68 87.9763 L218.754 631.072 L1254.68 1445.72 L1254.68 1309.94 L218.754 1309.94 L1254.68 1309.94 L2290.6 1309.94 L1254.68 1309.94 \n",
       "   Z\n",
       "  \" fill=\"#009af9\" fill-rule=\"evenodd\" fill-opacity=\"1\"/>\n",
       "<polyline clip-path=\"url(#clip442)\" style=\"stroke:#009af9; stroke-linecap:butt; stroke-linejoin:round; stroke-width:4; stroke-opacity:1; fill:none\" points=\"\n",
       "  1254.68,1445.72 2290.6,631.072 1254.68,87.9763 218.754,631.072 1254.68,1445.72 \n",
       "  \"/>\n",
       "</svg>\n"
      ]
     },
     "execution_count": 27,
     "metadata": {},
     "output_type": "execute_result"
    }
   ],
   "source": [
    "RR.plot()"
   ]
  },
  {
   "cell_type": "code",
   "execution_count": 29,
   "metadata": {},
   "outputs": [
    {
     "data": {
      "image/svg+xml": [
       "<?xml version=\"1.0\" encoding=\"utf-8\"?>\n",
       "<svg xmlns=\"http://www.w3.org/2000/svg\" xmlns:xlink=\"http://www.w3.org/1999/xlink\" width=\"600\" height=\"400\" viewBox=\"0 0 2400 1600\">\n",
       "<defs>\n",
       "  <clipPath id=\"clip520\">\n",
       "    <rect x=\"0\" y=\"0\" width=\"2400\" height=\"1600\"/>\n",
       "  </clipPath>\n",
       "</defs>\n",
       "<path clip-path=\"url(#clip520)\" d=\"\n",
       "M0 1600 L2400 1600 L2400 0 L0 0  Z\n",
       "  \" fill=\"#ffffff\" fill-rule=\"evenodd\" fill-opacity=\"1\"/>\n",
       "<defs>\n",
       "  <clipPath id=\"clip521\">\n",
       "    <rect x=\"480\" y=\"0\" width=\"1681\" height=\"1600\"/>\n",
       "  </clipPath>\n",
       "</defs>\n",
       "<path clip-path=\"url(#clip520)\" d=\"\n",
       "M156.598 1486.45 L2352.76 1486.45 L2352.76 47.2441 L156.598 47.2441  Z\n",
       "  \" fill=\"#ffffff\" fill-rule=\"evenodd\" fill-opacity=\"1\"/>\n",
       "<defs>\n",
       "  <clipPath id=\"clip522\">\n",
       "    <rect x=\"156\" y=\"47\" width=\"2197\" height=\"1440\"/>\n",
       "  </clipPath>\n",
       "</defs>\n",
       "<polyline clip-path=\"url(#clip522)\" style=\"stroke:#000000; stroke-linecap:butt; stroke-linejoin:round; stroke-width:2; stroke-opacity:0.1; fill:none\" points=\"\n",
       "  218.754,1486.45 218.754,47.2441 \n",
       "  \"/>\n",
       "<polyline clip-path=\"url(#clip522)\" style=\"stroke:#000000; stroke-linecap:butt; stroke-linejoin:round; stroke-width:2; stroke-opacity:0.1; fill:none\" points=\"\n",
       "  689.628,1486.45 689.628,47.2441 \n",
       "  \"/>\n",
       "<polyline clip-path=\"url(#clip522)\" style=\"stroke:#000000; stroke-linecap:butt; stroke-linejoin:round; stroke-width:2; stroke-opacity:0.1; fill:none\" points=\"\n",
       "  1160.5,1486.45 1160.5,47.2441 \n",
       "  \"/>\n",
       "<polyline clip-path=\"url(#clip522)\" style=\"stroke:#000000; stroke-linecap:butt; stroke-linejoin:round; stroke-width:2; stroke-opacity:0.1; fill:none\" points=\"\n",
       "  1631.38,1486.45 1631.38,47.2441 \n",
       "  \"/>\n",
       "<polyline clip-path=\"url(#clip522)\" style=\"stroke:#000000; stroke-linecap:butt; stroke-linejoin:round; stroke-width:2; stroke-opacity:0.1; fill:none\" points=\"\n",
       "  2102.25,1486.45 2102.25,47.2441 \n",
       "  \"/>\n",
       "<polyline clip-path=\"url(#clip520)\" style=\"stroke:#000000; stroke-linecap:butt; stroke-linejoin:round; stroke-width:4; stroke-opacity:1; fill:none\" points=\"\n",
       "  156.598,1486.45 2352.76,1486.45 \n",
       "  \"/>\n",
       "<polyline clip-path=\"url(#clip520)\" style=\"stroke:#000000; stroke-linecap:butt; stroke-linejoin:round; stroke-width:4; stroke-opacity:1; fill:none\" points=\"\n",
       "  218.754,1486.45 218.754,1467.55 \n",
       "  \"/>\n",
       "<polyline clip-path=\"url(#clip520)\" style=\"stroke:#000000; stroke-linecap:butt; stroke-linejoin:round; stroke-width:4; stroke-opacity:1; fill:none\" points=\"\n",
       "  689.628,1486.45 689.628,1467.55 \n",
       "  \"/>\n",
       "<polyline clip-path=\"url(#clip520)\" style=\"stroke:#000000; stroke-linecap:butt; stroke-linejoin:round; stroke-width:4; stroke-opacity:1; fill:none\" points=\"\n",
       "  1160.5,1486.45 1160.5,1467.55 \n",
       "  \"/>\n",
       "<polyline clip-path=\"url(#clip520)\" style=\"stroke:#000000; stroke-linecap:butt; stroke-linejoin:round; stroke-width:4; stroke-opacity:1; fill:none\" points=\"\n",
       "  1631.38,1486.45 1631.38,1467.55 \n",
       "  \"/>\n",
       "<polyline clip-path=\"url(#clip520)\" style=\"stroke:#000000; stroke-linecap:butt; stroke-linejoin:round; stroke-width:4; stroke-opacity:1; fill:none\" points=\"\n",
       "  2102.25,1486.45 2102.25,1467.55 \n",
       "  \"/>\n",
       "<path clip-path=\"url(#clip520)\" d=\"M196.138 1517.37 Q192.527 1517.37 190.698 1520.93 Q188.893 1524.47 188.893 1531.6 Q188.893 1538.71 190.698 1542.27 Q192.527 1545.82 196.138 1545.82 Q199.772 1545.82 201.578 1542.27 Q203.407 1538.71 203.407 1531.6 Q203.407 1524.47 201.578 1520.93 Q199.772 1517.37 196.138 1517.37 M196.138 1513.66 Q201.948 1513.66 205.004 1518.27 Q208.082 1522.85 208.082 1531.6 Q208.082 1540.33 205.004 1544.94 Q201.948 1549.52 196.138 1549.52 Q190.328 1549.52 187.249 1544.94 Q184.194 1540.33 184.194 1531.6 Q184.194 1522.85 187.249 1518.27 Q190.328 1513.66 196.138 1513.66 Z\" fill=\"#000000\" fill-rule=\"evenodd\" fill-opacity=\"1\" /><path clip-path=\"url(#clip520)\" d=\"M216.3 1542.97 L221.184 1542.97 L221.184 1548.85 L216.3 1548.85 L216.3 1542.97 Z\" fill=\"#000000\" fill-rule=\"evenodd\" fill-opacity=\"1\" /><path clip-path=\"url(#clip520)\" d=\"M241.369 1517.37 Q237.758 1517.37 235.929 1520.93 Q234.124 1524.47 234.124 1531.6 Q234.124 1538.71 235.929 1542.27 Q237.758 1545.82 241.369 1545.82 Q245.003 1545.82 246.809 1542.27 Q248.638 1538.71 248.638 1531.6 Q248.638 1524.47 246.809 1520.93 Q245.003 1517.37 241.369 1517.37 M241.369 1513.66 Q247.179 1513.66 250.235 1518.27 Q253.314 1522.85 253.314 1531.6 Q253.314 1540.33 250.235 1544.94 Q247.179 1549.52 241.369 1549.52 Q235.559 1549.52 232.48 1544.94 Q229.425 1540.33 229.425 1531.6 Q229.425 1522.85 232.48 1518.27 Q235.559 1513.66 241.369 1513.66 Z\" fill=\"#000000\" fill-rule=\"evenodd\" fill-opacity=\"1\" /><path clip-path=\"url(#clip520)\" d=\"M667.51 1517.37 Q663.899 1517.37 662.07 1520.93 Q660.265 1524.47 660.265 1531.6 Q660.265 1538.71 662.07 1542.27 Q663.899 1545.82 667.51 1545.82 Q671.144 1545.82 672.95 1542.27 Q674.778 1538.71 674.778 1531.6 Q674.778 1524.47 672.95 1520.93 Q671.144 1517.37 667.51 1517.37 M667.51 1513.66 Q673.32 1513.66 676.376 1518.27 Q679.454 1522.85 679.454 1531.6 Q679.454 1540.33 676.376 1544.94 Q673.32 1549.52 667.51 1549.52 Q661.7 1549.52 658.621 1544.94 Q655.566 1540.33 655.566 1531.6 Q655.566 1522.85 658.621 1518.27 Q661.7 1513.66 667.51 1513.66 Z\" fill=\"#000000\" fill-rule=\"evenodd\" fill-opacity=\"1\" /><path clip-path=\"url(#clip520)\" d=\"M687.672 1542.97 L692.556 1542.97 L692.556 1548.85 L687.672 1548.85 L687.672 1542.97 Z\" fill=\"#000000\" fill-rule=\"evenodd\" fill-opacity=\"1\" /><path clip-path=\"url(#clip520)\" d=\"M702.788 1514.29 L721.144 1514.29 L721.144 1518.22 L707.07 1518.22 L707.07 1526.7 Q708.088 1526.35 709.107 1526.19 Q710.126 1526 711.144 1526 Q716.931 1526 720.311 1529.17 Q723.69 1532.34 723.69 1537.76 Q723.69 1543.34 720.218 1546.44 Q716.746 1549.52 710.426 1549.52 Q708.251 1549.52 705.982 1549.15 Q703.737 1548.78 701.329 1548.04 L701.329 1543.34 Q703.413 1544.47 705.635 1545.03 Q707.857 1545.58 710.334 1545.58 Q714.338 1545.58 716.676 1543.48 Q719.014 1541.37 719.014 1537.76 Q719.014 1534.15 716.676 1532.04 Q714.338 1529.94 710.334 1529.94 Q708.459 1529.94 706.584 1530.35 Q704.732 1530.77 702.788 1531.65 L702.788 1514.29 Z\" fill=\"#000000\" fill-rule=\"evenodd\" fill-opacity=\"1\" /><path clip-path=\"url(#clip520)\" d=\"M1127.66 1544.91 L1135.29 1544.91 L1135.29 1518.55 L1126.98 1520.21 L1126.98 1515.95 L1135.25 1514.29 L1139.92 1514.29 L1139.92 1544.91 L1147.56 1544.91 L1147.56 1548.85 L1127.66 1548.85 L1127.66 1544.91 Z\" fill=\"#000000\" fill-rule=\"evenodd\" fill-opacity=\"1\" /><path clip-path=\"url(#clip520)\" d=\"M1157.01 1542.97 L1161.89 1542.97 L1161.89 1548.85 L1157.01 1548.85 L1157.01 1542.97 Z\" fill=\"#000000\" fill-rule=\"evenodd\" fill-opacity=\"1\" /><path clip-path=\"url(#clip520)\" d=\"M1182.08 1517.37 Q1178.47 1517.37 1176.64 1520.93 Q1174.83 1524.47 1174.83 1531.6 Q1174.83 1538.71 1176.64 1542.27 Q1178.47 1545.82 1182.08 1545.82 Q1185.71 1545.82 1187.52 1542.27 Q1189.34 1538.71 1189.34 1531.6 Q1189.34 1524.47 1187.52 1520.93 Q1185.71 1517.37 1182.08 1517.37 M1182.08 1513.66 Q1187.89 1513.66 1190.94 1518.27 Q1194.02 1522.85 1194.02 1531.6 Q1194.02 1540.33 1190.94 1544.94 Q1187.89 1549.52 1182.08 1549.52 Q1176.27 1549.52 1173.19 1544.94 Q1170.13 1540.33 1170.13 1531.6 Q1170.13 1522.85 1173.19 1518.27 Q1176.27 1513.66 1182.08 1513.66 Z\" fill=\"#000000\" fill-rule=\"evenodd\" fill-opacity=\"1\" /><path clip-path=\"url(#clip520)\" d=\"M1599.03 1544.91 L1606.67 1544.91 L1606.67 1518.55 L1598.36 1520.21 L1598.36 1515.95 L1606.62 1514.29 L1611.3 1514.29 L1611.3 1544.91 L1618.93 1544.91 L1618.93 1548.85 L1599.03 1548.85 L1599.03 1544.91 Z\" fill=\"#000000\" fill-rule=\"evenodd\" fill-opacity=\"1\" /><path clip-path=\"url(#clip520)\" d=\"M1628.38 1542.97 L1633.26 1542.97 L1633.26 1548.85 L1628.38 1548.85 L1628.38 1542.97 Z\" fill=\"#000000\" fill-rule=\"evenodd\" fill-opacity=\"1\" /><path clip-path=\"url(#clip520)\" d=\"M1643.49 1514.29 L1661.85 1514.29 L1661.85 1518.22 L1647.78 1518.22 L1647.78 1526.7 Q1648.8 1526.35 1649.81 1526.19 Q1650.83 1526 1651.85 1526 Q1657.64 1526 1661.02 1529.17 Q1664.4 1532.34 1664.4 1537.76 Q1664.4 1543.34 1660.92 1546.44 Q1657.45 1549.52 1651.13 1549.52 Q1648.96 1549.52 1646.69 1549.15 Q1644.44 1548.78 1642.04 1548.04 L1642.04 1543.34 Q1644.12 1544.47 1646.34 1545.03 Q1648.56 1545.58 1651.04 1545.58 Q1655.05 1545.58 1657.38 1543.48 Q1659.72 1541.37 1659.72 1537.76 Q1659.72 1534.15 1657.38 1532.04 Q1655.05 1529.94 1651.04 1529.94 Q1649.17 1529.94 1647.29 1530.35 Q1645.44 1530.77 1643.49 1531.65 L1643.49 1514.29 Z\" fill=\"#000000\" fill-rule=\"evenodd\" fill-opacity=\"1\" /><path clip-path=\"url(#clip520)\" d=\"M2073.49 1544.91 L2089.81 1544.91 L2089.81 1548.85 L2067.86 1548.85 L2067.86 1544.91 Q2070.53 1542.16 2075.11 1537.53 Q2079.72 1532.88 2080.9 1531.53 Q2083.14 1529.01 2084.02 1527.27 Q2084.92 1525.51 2084.92 1523.82 Q2084.92 1521.07 2082.98 1519.33 Q2081.06 1517.6 2077.96 1517.6 Q2075.76 1517.6 2073.3 1518.36 Q2070.87 1519.13 2068.1 1520.68 L2068.1 1515.95 Q2070.92 1514.82 2073.37 1514.24 Q2075.83 1513.66 2077.86 1513.66 Q2083.23 1513.66 2086.43 1516.35 Q2089.62 1519.03 2089.62 1523.52 Q2089.62 1525.65 2088.81 1527.57 Q2088.03 1529.47 2085.92 1532.07 Q2085.34 1532.74 2082.24 1535.95 Q2079.14 1539.15 2073.49 1544.91 Z\" fill=\"#000000\" fill-rule=\"evenodd\" fill-opacity=\"1\" /><path clip-path=\"url(#clip520)\" d=\"M2099.62 1542.97 L2104.51 1542.97 L2104.51 1548.85 L2099.62 1548.85 L2099.62 1542.97 Z\" fill=\"#000000\" fill-rule=\"evenodd\" fill-opacity=\"1\" /><path clip-path=\"url(#clip520)\" d=\"M2124.69 1517.37 Q2121.08 1517.37 2119.25 1520.93 Q2117.45 1524.47 2117.45 1531.6 Q2117.45 1538.71 2119.25 1542.27 Q2121.08 1545.82 2124.69 1545.82 Q2128.33 1545.82 2130.13 1542.27 Q2131.96 1538.71 2131.96 1531.6 Q2131.96 1524.47 2130.13 1520.93 Q2128.33 1517.37 2124.69 1517.37 M2124.69 1513.66 Q2130.5 1513.66 2133.56 1518.27 Q2136.64 1522.85 2136.64 1531.6 Q2136.64 1540.33 2133.56 1544.94 Q2130.5 1549.52 2124.69 1549.52 Q2118.88 1549.52 2115.8 1544.94 Q2112.75 1540.33 2112.75 1531.6 Q2112.75 1522.85 2115.8 1518.27 Q2118.88 1513.66 2124.69 1513.66 Z\" fill=\"#000000\" fill-rule=\"evenodd\" fill-opacity=\"1\" /><polyline clip-path=\"url(#clip522)\" style=\"stroke:#000000; stroke-linecap:butt; stroke-linejoin:round; stroke-width:2; stroke-opacity:0.1; fill:none\" points=\"\n",
       "  156.598,1309.94 2352.76,1309.94 \n",
       "  \"/>\n",
       "<polyline clip-path=\"url(#clip522)\" style=\"stroke:#000000; stroke-linecap:butt; stroke-linejoin:round; stroke-width:2; stroke-opacity:0.1; fill:none\" points=\"\n",
       "  156.598,1038.39 2352.76,1038.39 \n",
       "  \"/>\n",
       "<polyline clip-path=\"url(#clip522)\" style=\"stroke:#000000; stroke-linecap:butt; stroke-linejoin:round; stroke-width:2; stroke-opacity:0.1; fill:none\" points=\"\n",
       "  156.598,766.846 2352.76,766.846 \n",
       "  \"/>\n",
       "<polyline clip-path=\"url(#clip522)\" style=\"stroke:#000000; stroke-linecap:butt; stroke-linejoin:round; stroke-width:2; stroke-opacity:0.1; fill:none\" points=\"\n",
       "  156.598,495.298 2352.76,495.298 \n",
       "  \"/>\n",
       "<polyline clip-path=\"url(#clip522)\" style=\"stroke:#000000; stroke-linecap:butt; stroke-linejoin:round; stroke-width:2; stroke-opacity:0.1; fill:none\" points=\"\n",
       "  156.598,223.75 2352.76,223.75 \n",
       "  \"/>\n",
       "<polyline clip-path=\"url(#clip520)\" style=\"stroke:#000000; stroke-linecap:butt; stroke-linejoin:round; stroke-width:4; stroke-opacity:1; fill:none\" points=\"\n",
       "  156.598,1486.45 156.598,47.2441 \n",
       "  \"/>\n",
       "<polyline clip-path=\"url(#clip520)\" style=\"stroke:#000000; stroke-linecap:butt; stroke-linejoin:round; stroke-width:4; stroke-opacity:1; fill:none\" points=\"\n",
       "  156.598,1309.94 175.496,1309.94 \n",
       "  \"/>\n",
       "<polyline clip-path=\"url(#clip520)\" style=\"stroke:#000000; stroke-linecap:butt; stroke-linejoin:round; stroke-width:4; stroke-opacity:1; fill:none\" points=\"\n",
       "  156.598,1038.39 175.496,1038.39 \n",
       "  \"/>\n",
       "<polyline clip-path=\"url(#clip520)\" style=\"stroke:#000000; stroke-linecap:butt; stroke-linejoin:round; stroke-width:4; stroke-opacity:1; fill:none\" points=\"\n",
       "  156.598,766.846 175.496,766.846 \n",
       "  \"/>\n",
       "<polyline clip-path=\"url(#clip520)\" style=\"stroke:#000000; stroke-linecap:butt; stroke-linejoin:round; stroke-width:4; stroke-opacity:1; fill:none\" points=\"\n",
       "  156.598,495.298 175.496,495.298 \n",
       "  \"/>\n",
       "<polyline clip-path=\"url(#clip520)\" style=\"stroke:#000000; stroke-linecap:butt; stroke-linejoin:round; stroke-width:4; stroke-opacity:1; fill:none\" points=\"\n",
       "  156.598,223.75 175.496,223.75 \n",
       "  \"/>\n",
       "<path clip-path=\"url(#clip520)\" d=\"M63.4226 1295.74 Q59.8115 1295.74 57.9828 1299.31 Q56.1773 1302.85 56.1773 1309.98 Q56.1773 1317.08 57.9828 1320.65 Q59.8115 1324.19 63.4226 1324.19 Q67.0569 1324.19 68.8624 1320.65 Q70.6911 1317.08 70.6911 1309.98 Q70.6911 1302.85 68.8624 1299.31 Q67.0569 1295.74 63.4226 1295.74 M63.4226 1292.04 Q69.2328 1292.04 72.2883 1296.64 Q75.367 1301.23 75.367 1309.98 Q75.367 1318.7 72.2883 1323.31 Q69.2328 1327.89 63.4226 1327.89 Q57.6125 1327.89 54.5338 1323.31 Q51.4782 1318.7 51.4782 1309.98 Q51.4782 1301.23 54.5338 1296.64 Q57.6125 1292.04 63.4226 1292.04 Z\" fill=\"#000000\" fill-rule=\"evenodd\" fill-opacity=\"1\" /><path clip-path=\"url(#clip520)\" d=\"M83.5845 1321.34 L88.4688 1321.34 L88.4688 1327.22 L83.5845 1327.22 L83.5845 1321.34 Z\" fill=\"#000000\" fill-rule=\"evenodd\" fill-opacity=\"1\" /><path clip-path=\"url(#clip520)\" d=\"M108.654 1295.74 Q105.043 1295.74 103.214 1299.31 Q101.409 1302.85 101.409 1309.98 Q101.409 1317.08 103.214 1320.65 Q105.043 1324.19 108.654 1324.19 Q112.288 1324.19 114.094 1320.65 Q115.922 1317.08 115.922 1309.98 Q115.922 1302.85 114.094 1299.31 Q112.288 1295.74 108.654 1295.74 M108.654 1292.04 Q114.464 1292.04 117.52 1296.64 Q120.598 1301.23 120.598 1309.98 Q120.598 1318.7 117.52 1323.31 Q114.464 1327.89 108.654 1327.89 Q102.844 1327.89 99.765 1323.31 Q96.7095 1318.7 96.7095 1309.98 Q96.7095 1301.23 99.765 1296.64 Q102.844 1292.04 108.654 1292.04 Z\" fill=\"#000000\" fill-rule=\"evenodd\" fill-opacity=\"1\" /><path clip-path=\"url(#clip520)\" d=\"M65.0198 1024.19 Q61.4087 1024.19 59.58 1027.76 Q57.7745 1031.3 57.7745 1038.43 Q57.7745 1045.54 59.58 1049.1 Q61.4087 1052.64 65.0198 1052.64 Q68.6541 1052.64 70.4596 1049.1 Q72.2883 1045.54 72.2883 1038.43 Q72.2883 1031.3 70.4596 1027.76 Q68.6541 1024.19 65.0198 1024.19 M65.0198 1020.49 Q70.83 1020.49 73.8855 1025.1 Q76.9642 1029.68 76.9642 1038.43 Q76.9642 1047.16 73.8855 1051.76 Q70.83 1056.35 65.0198 1056.35 Q59.2097 1056.35 56.131 1051.76 Q53.0754 1047.16 53.0754 1038.43 Q53.0754 1029.68 56.131 1025.1 Q59.2097 1020.49 65.0198 1020.49 Z\" fill=\"#000000\" fill-rule=\"evenodd\" fill-opacity=\"1\" /><path clip-path=\"url(#clip520)\" d=\"M85.1818 1049.79 L90.066 1049.79 L90.066 1055.67 L85.1818 1055.67 L85.1818 1049.79 Z\" fill=\"#000000\" fill-rule=\"evenodd\" fill-opacity=\"1\" /><path clip-path=\"url(#clip520)\" d=\"M104.279 1051.74 L120.598 1051.74 L120.598 1055.67 L98.6539 1055.67 L98.6539 1051.74 Q101.316 1048.98 105.899 1044.35 Q110.506 1039.7 111.686 1038.36 Q113.932 1035.84 114.811 1034.1 Q115.714 1032.34 115.714 1030.65 Q115.714 1027.9 113.77 1026.16 Q111.848 1024.42 108.746 1024.42 Q106.547 1024.42 104.094 1025.19 Q101.663 1025.95 98.8854 1027.5 L98.8854 1022.78 Q101.709 1021.65 104.163 1021.07 Q106.617 1020.49 108.654 1020.49 Q114.024 1020.49 117.219 1023.17 Q120.413 1025.86 120.413 1030.35 Q120.413 1032.48 119.603 1034.4 Q118.816 1036.3 116.709 1038.89 Q116.131 1039.56 113.029 1042.78 Q109.927 1045.97 104.279 1051.74 Z\" fill=\"#000000\" fill-rule=\"evenodd\" fill-opacity=\"1\" /><path clip-path=\"url(#clip520)\" d=\"M62.9365 752.645 Q59.3254 752.645 57.4967 756.209 Q55.6912 759.751 55.6912 766.881 Q55.6912 773.987 57.4967 777.552 Q59.3254 781.094 62.9365 781.094 Q66.5707 781.094 68.3763 777.552 Q70.205 773.987 70.205 766.881 Q70.205 759.751 68.3763 756.209 Q66.5707 752.645 62.9365 752.645 M62.9365 748.941 Q68.7467 748.941 71.8022 753.547 Q74.8809 758.131 74.8809 766.881 Q74.8809 775.608 71.8022 780.214 Q68.7467 784.797 62.9365 784.797 Q57.1264 784.797 54.0477 780.214 Q50.9921 775.608 50.9921 766.881 Q50.9921 758.131 54.0477 753.547 Q57.1264 748.941 62.9365 748.941 Z\" fill=\"#000000\" fill-rule=\"evenodd\" fill-opacity=\"1\" /><path clip-path=\"url(#clip520)\" d=\"M83.0984 778.246 L87.9827 778.246 L87.9827 784.126 L83.0984 784.126 L83.0984 778.246 Z\" fill=\"#000000\" fill-rule=\"evenodd\" fill-opacity=\"1\" /><path clip-path=\"url(#clip520)\" d=\"M111.015 753.64 L99.2095 772.089 L111.015 772.089 L111.015 753.64 M109.788 749.566 L115.668 749.566 L115.668 772.089 L120.598 772.089 L120.598 775.978 L115.668 775.978 L115.668 784.126 L111.015 784.126 L111.015 775.978 L95.4132 775.978 L95.4132 771.464 L109.788 749.566 Z\" fill=\"#000000\" fill-rule=\"evenodd\" fill-opacity=\"1\" /><path clip-path=\"url(#clip520)\" d=\"M63.2606 481.097 Q59.6495 481.097 57.8208 484.662 Q56.0152 488.203 56.0152 495.333 Q56.0152 502.439 57.8208 506.004 Q59.6495 509.546 63.2606 509.546 Q66.8948 509.546 68.7004 506.004 Q70.5291 502.439 70.5291 495.333 Q70.5291 488.203 68.7004 484.662 Q66.8948 481.097 63.2606 481.097 M63.2606 477.393 Q69.0707 477.393 72.1263 482 Q75.205 486.583 75.205 495.333 Q75.205 504.06 72.1263 508.666 Q69.0707 513.249 63.2606 513.249 Q57.4504 513.249 54.3717 508.666 Q51.3162 504.06 51.3162 495.333 Q51.3162 486.583 54.3717 482 Q57.4504 477.393 63.2606 477.393 Z\" fill=\"#000000\" fill-rule=\"evenodd\" fill-opacity=\"1\" /><path clip-path=\"url(#clip520)\" d=\"M83.4225 506.699 L88.3067 506.699 L88.3067 512.578 L83.4225 512.578 L83.4225 506.699 Z\" fill=\"#000000\" fill-rule=\"evenodd\" fill-opacity=\"1\" /><path clip-path=\"url(#clip520)\" d=\"M109.071 493.435 Q105.922 493.435 104.071 495.587 Q102.242 497.74 102.242 501.49 Q102.242 505.217 104.071 507.393 Q105.922 509.546 109.071 509.546 Q112.219 509.546 114.047 507.393 Q115.899 505.217 115.899 501.49 Q115.899 497.74 114.047 495.587 Q112.219 493.435 109.071 493.435 M118.353 478.782 L118.353 483.041 Q116.594 482.208 114.788 481.768 Q113.006 481.328 111.246 481.328 Q106.617 481.328 104.163 484.453 Q101.733 487.578 101.385 493.898 Q102.751 491.884 104.811 490.819 Q106.871 489.731 109.348 489.731 Q114.557 489.731 117.566 492.902 Q120.598 496.05 120.598 501.49 Q120.598 506.814 117.45 510.032 Q114.302 513.249 109.071 513.249 Q103.075 513.249 99.9039 508.666 Q96.7326 504.06 96.7326 495.333 Q96.7326 487.138 100.621 482.277 Q104.51 477.393 111.061 477.393 Q112.82 477.393 114.603 477.74 Q116.408 478.088 118.353 478.782 Z\" fill=\"#000000\" fill-rule=\"evenodd\" fill-opacity=\"1\" /><path clip-path=\"url(#clip520)\" d=\"M63.5152 209.549 Q59.9041 209.549 58.0754 213.114 Q56.2699 216.655 56.2699 223.785 Q56.2699 230.891 58.0754 234.456 Q59.9041 237.998 63.5152 237.998 Q67.1494 237.998 68.955 234.456 Q70.7837 230.891 70.7837 223.785 Q70.7837 216.655 68.955 213.114 Q67.1494 209.549 63.5152 209.549 M63.5152 205.845 Q69.3254 205.845 72.3809 210.452 Q75.4596 215.035 75.4596 223.785 Q75.4596 232.512 72.3809 237.118 Q69.3254 241.702 63.5152 241.702 Q57.7051 241.702 54.6264 237.118 Q51.5708 232.512 51.5708 223.785 Q51.5708 215.035 54.6264 210.452 Q57.7051 205.845 63.5152 205.845 Z\" fill=\"#000000\" fill-rule=\"evenodd\" fill-opacity=\"1\" /><path clip-path=\"url(#clip520)\" d=\"M83.6771 235.151 L88.5614 235.151 L88.5614 241.03 L83.6771 241.03 L83.6771 235.151 Z\" fill=\"#000000\" fill-rule=\"evenodd\" fill-opacity=\"1\" /><path clip-path=\"url(#clip520)\" d=\"M108.746 224.618 Q105.413 224.618 103.492 226.401 Q101.594 228.183 101.594 231.308 Q101.594 234.433 103.492 236.215 Q105.413 237.998 108.746 237.998 Q112.08 237.998 114.001 236.215 Q115.922 234.41 115.922 231.308 Q115.922 228.183 114.001 226.401 Q112.103 224.618 108.746 224.618 M104.071 222.628 Q101.061 221.887 99.3715 219.827 Q97.7048 217.766 97.7048 214.804 Q97.7048 210.66 100.645 208.253 Q103.608 205.845 108.746 205.845 Q113.908 205.845 116.848 208.253 Q119.788 210.66 119.788 214.804 Q119.788 217.766 118.098 219.827 Q116.432 221.887 113.445 222.628 Q116.825 223.415 118.7 225.706 Q120.598 227.998 120.598 231.308 Q120.598 236.331 117.52 239.016 Q114.464 241.702 108.746 241.702 Q103.029 241.702 99.9502 239.016 Q96.8947 236.331 96.8947 231.308 Q96.8947 227.998 98.7928 225.706 Q100.691 223.415 104.071 222.628 M102.358 215.243 Q102.358 217.928 104.024 219.433 Q105.714 220.938 108.746 220.938 Q111.756 220.938 113.445 219.433 Q115.158 217.928 115.158 215.243 Q115.158 212.558 113.445 211.054 Q111.756 209.549 108.746 209.549 Q105.714 209.549 104.024 211.054 Q102.358 212.558 102.358 215.243 Z\" fill=\"#000000\" fill-rule=\"evenodd\" fill-opacity=\"1\" /><path clip-path=\"url(#clip522)\" d=\"\n",
       "M1254.68 1445.72 L2290.6 631.072 L1254.68 87.9763 L218.754 631.072 L1254.68 1445.72 L1254.68 1309.94 L218.754 1309.94 L1254.68 1309.94 L2290.6 1309.94 L1254.68 1309.94 \n",
       "   Z\n",
       "  \" fill=\"#009af9\" fill-rule=\"evenodd\" fill-opacity=\"1\"/>\n",
       "<polyline clip-path=\"url(#clip522)\" style=\"stroke:#009af9; stroke-linecap:butt; stroke-linejoin:round; stroke-width:4; stroke-opacity:1; fill:none\" points=\"\n",
       "  1254.68,1445.72 2290.6,631.072 1254.68,87.9763 218.754,631.072 1254.68,1445.72 \n",
       "  \"/>\n",
       "</svg>\n"
      ]
     },
     "execution_count": 29,
     "metadata": {},
     "output_type": "execute_result"
    }
   ],
   "source": [
    "P.plot()"
   ]
  },
  {
   "cell_type": "code",
   "execution_count": null,
   "metadata": {},
   "outputs": [],
   "source": []
  }
 ],
 "metadata": {
  "@webio": {
   "lastCommId": null,
   "lastKernelId": null
  },
  "kernelspec": {
   "display_name": "Julia 1.7.2",
   "language": "julia",
   "name": "julia-1.7"
  },
  "language_info": {
   "file_extension": ".jl",
   "mimetype": "application/julia",
   "name": "julia",
   "version": "1.7.2"
  }
 },
 "nbformat": 4,
 "nbformat_minor": 4
}
