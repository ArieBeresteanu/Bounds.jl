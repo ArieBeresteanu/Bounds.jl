{
 "cells": [
  {
   "cell_type": "markdown",
   "metadata": {},
   "source": [
    "# Testing setBLP.jl"
   ]
  },
  {
   "cell_type": "markdown",
   "metadata": {},
   "source": [
    "## Packages"
   ]
  },
  {
   "cell_type": "code",
   "execution_count": 1,
   "metadata": {},
   "outputs": [],
   "source": [
    "import LinearAlgebra ,Base"
   ]
  },
  {
   "cell_type": "code",
   "execution_count": 2,
   "metadata": {},
   "outputs": [],
   "source": [
    "using Plots"
   ]
  },
  {
   "cell_type": "markdown",
   "metadata": {},
   "source": [
    "## Structures and related functions"
   ]
  },
  {
   "cell_type": "markdown",
   "metadata": {},
   "source": [
    "#### Vertex"
   ]
  },
  {
   "cell_type": "code",
   "execution_count": 3,
   "metadata": {},
   "outputs": [],
   "source": [
    "mutable struct Vertex\n",
    "    v::Vector{Real}\n",
    "end"
   ]
  },
  {
   "cell_type": "code",
   "execution_count": 4,
   "metadata": {},
   "outputs": [],
   "source": [
    "function subVertex(v1::Vertex,v2::Vertex)\n",
    "    return  Vertex(v1.v-v2.v)\n",
    "end\n",
    "\n",
    "Base.:(-)(v1::Vertex,v2::Vertex) = Vertex(v1.v-v2.v)\n",
    "\n",
    "function addVertex(v1::Vertex,v2::Vertex)\n",
    "    return Vertex(v1.v+v2.v)\n",
    "end\n",
    "\n",
    "Base.:(+)(v1::Vertex,v2::Vertex) = Vertex(v1.v+v2.v)"
   ]
  },
  {
   "cell_type": "code",
   "execution_count": 5,
   "metadata": {},
   "outputs": [],
   "source": [
    "function lambdaVertex(λ::Real,ver::Vertex)\n",
    "    return Vertex(λ*ver.v)\n",
    "end\n",
    "\n",
    "Base.:(*)(λ::Real,ver::Vertex) = lambdaVertex(λ,ver)"
   ]
  },
  {
   "cell_type": "code",
   "execution_count": 6,
   "metadata": {},
   "outputs": [],
   "source": [
    "function negVertex(ver::Vertex)\n",
    "    return Vertex(-ver.v)\n",
    "end\n",
    "\n",
    "Base.:(-)(ver::Vertex) = negVertex(ver)"
   ]
  },
  {
   "cell_type": "code",
   "execution_count": 7,
   "metadata": {},
   "outputs": [],
   "source": [
    "function dot(v1::Vertex,v2::Vertex)\n",
    "    return LinearAlgebra.dot(v1.v,v2.v)\n",
    "end\n",
    "\n",
    "function norm(ver::Vertex)\n",
    "    return LinearAlgebra.norm(ver.v)\n",
    "end\n",
    "\n",
    "LinearAlgebra.:(*)(v1::Vertex,v2::Vertex) = dot(v1::Vertex,v2::Vertex)"
   ]
  },
  {
   "cell_type": "code",
   "execution_count": 8,
   "metadata": {},
   "outputs": [
    {
     "data": {
      "text/plain": [
       "xangle (generic function with 1 method)"
      ]
     },
     "execution_count": 8,
     "metadata": {},
     "output_type": "execute_result"
    }
   ],
   "source": [
    "function xangle(p1::Vertex,p2::Vertex)\n",
    "    Δ = (p2-p1).v\n",
    "    flag=false\n",
    "    if Δ[2] < 0\n",
    "        Δ[2] = -Δ[2]\n",
    "        flag = true\n",
    "    end\n",
    "    xang =atan(Δ[2],abs(Δ[1]))\n",
    "    if Δ[1]<0\n",
    "        xang = pi-xang\n",
    "    end\n",
    "    if flag\n",
    "        xang=2*pi-xang\n",
    "    end\n",
    "    return xang\n",
    "\n",
    "end"
   ]
  },
  {
   "cell_type": "code",
   "execution_count": 9,
   "metadata": {},
   "outputs": [
    {
     "data": {
      "text/plain": [
       "fetchX (generic function with 1 method)"
      ]
     },
     "execution_count": 9,
     "metadata": {},
     "output_type": "execute_result"
    }
   ],
   "source": [
    "function fetchY(ver::Vertex)\n",
    "    return ver.v[2]\n",
    "end\n",
    "\n",
    "function fetchX(ver::Vertex)\n",
    "    return ver.v[1]\n",
    "end"
   ]
  },
  {
   "cell_type": "markdown",
   "metadata": {},
   "source": [
    "#### Segment"
   ]
  },
  {
   "cell_type": "code",
   "execution_count": 10,
   "metadata": {},
   "outputs": [],
   "source": [
    "mutable struct Segment\n",
    "    p1::Vertex\n",
    "    p2::Vertex\n",
    "    checkInput::Function\n",
    "    length::Function\n",
    "    dim::Function\n",
    "\n",
    "    \n",
    "    function Segment(p1,p2)\n",
    "        this = new()\n",
    "\n",
    "        this.p1 = p1\n",
    "        this.p2 = p2\n",
    "\n",
    "        this.checkInput = function()\n",
    "            return size(this.p1.v) == size(this.p2.v)       \n",
    "        end\n",
    "\n",
    "        this.length = function()\n",
    "            return norm(this.p1-this.p2)\n",
    "        end\n",
    "\n",
    "        this.dim = function()\n",
    "            if this.checkInput()\n",
    "                return length(this.p1.v)\n",
    "            else\n",
    "                return false\n",
    "            end\n",
    "        end\n",
    "\n",
    "        return this        \n",
    "    end\n",
    "end\n"
   ]
  },
  {
   "cell_type": "code",
   "execution_count": 11,
   "metadata": {},
   "outputs": [
    {
     "data": {
      "text/plain": [
       "dotDist (generic function with 2 methods)"
      ]
     },
     "execution_count": 11,
     "metadata": {},
     "output_type": "execute_result"
    }
   ],
   "source": [
    "function dotDist(p::Vector{<:Real}, segment::Segment) \n",
    "    if segment.checkInput()\n",
    "        if length(p) == segment.dim()\n",
    "            p1_p2 = segment.p1 -segment.p2\n",
    "            p_p2 = p -segment.p2\n",
    "\n",
    "            λ = LinearAlgebra.dot(p1_p2,p_p2)/LinearAlgebra.dot(p1_p2,p1_p2)\n",
    "            λ = max(min(λ,1),0)\n",
    "\n",
    "            p0 = λ*segment.p1 + (1-λ)*segment.p2 \n",
    "\n",
    "            return LinearAlgebra.norm(p-p0)\n",
    "        else\n",
    "            return \"dimention of p doesnt match dimention of segment\"\n",
    "        end\n",
    "    else\n",
    "        return \"Segment has wrong dimentions\"\n",
    "    end\n",
    "end\n",
    "\n",
    "function dotDist(p::Vertex, segment::Segment) \n",
    "    if segment.checkInput()\n",
    "        if length(p.v) == segment.dim()\n",
    "            p1_p2 = segment.p1 -segment.p2\n",
    "            p_p2 = p -segment.p2\n",
    "\n",
    "            λ = LinearAlgebra.dot(p1_p2.v,p_p2.v)/LinearAlgebra.dot(p1_p2.v,p1_p2.v)\n",
    "            λ = max(min(λ,1),0)\n",
    "\n",
    "            p0 = λ*segment.p1 + (1-λ)*segment.p2 \n",
    "\n",
    "            return LinearAlgebra.norm((p-p0).v)\n",
    "        else\n",
    "            return \"dimention of p doesnt match dimention of segment\"\n",
    "        end\n",
    "    else\n",
    "        return \"Segment has wrong dimentions\"\n",
    "    end\n",
    "end"
   ]
  },
  {
   "cell_type": "code",
   "execution_count": 12,
   "metadata": {},
   "outputs": [
    {
     "data": {
      "text/plain": [
       "xangle (generic function with 2 methods)"
      ]
     },
     "execution_count": 12,
     "metadata": {},
     "output_type": "execute_result"
    }
   ],
   "source": [
    "function xangle(seg::Segment)\n",
    "    Δ = seg.p2-seg.p1\n",
    "    flag=false\n",
    "    if Δ[2] < 0\n",
    "        Δ[2] = -Δ[2]\n",
    "        flag = true\n",
    "    end\n",
    "    xang =atan(Δ[2],abs(Δ[1]))\n",
    "    if Δ[1]<0\n",
    "        xang = pi-xang\n",
    "    end\n",
    "    if flag\n",
    "        xang=2*pi-xang\n",
    "    end\n",
    "    return xang\n",
    "\n",
    "end"
   ]
  },
  {
   "cell_type": "markdown",
   "metadata": {},
   "source": [
    "#### Polygon"
   ]
  },
  {
   "cell_type": "code",
   "execution_count": 13,
   "metadata": {},
   "outputs": [],
   "source": [
    "mutable struct Polygon\n",
    "    vertices :: Vector{Vertex}\n",
    "    sort :: Function\n",
    "    plot :: Function\n",
    "    angles :: Function\n",
    "    scatter :: Function\n",
    "\n",
    "    function Polygon(vertices)\n",
    "        this = new()\n",
    "\n",
    "        this.vertices=vertices\n",
    "        this.sort = function()\n",
    "            n=length(this.vertices)\n",
    "            #step 1: find the point with a minimal y coordinate and put it first.\n",
    "            # comment: sorting is complexity nlog(n) but the following is just n\n",
    "            #using sorting:\n",
    "            #I = sortperm(fetchY.(this.vertices))\n",
    "            #this.vertices = this.vertices[I]\n",
    "            #going over the list\n",
    "            m=fetchY(this.vertices[1])\n",
    "            for i=2:n\n",
    "                l=fetchY(this.vertices[i])\n",
    "                if l<m #then swap\n",
    "                    m=l\n",
    "                    temp=this.vertices[i]\n",
    "                    this.vertices[i]=this.vertices[1]\n",
    "                    this.vertices[1]=temp\n",
    "                end\n",
    "            end\n",
    "            #step 2: compute angles between the minimal vertex and all other vertices\n",
    "            angs =zeros(n) #first column for angles and second column for the x coordinate\n",
    "            angs[1]=-1\n",
    "            v1 =this.vertices[1]\n",
    "            for i=2:n\n",
    "                angs[i] = xangle(v1,this.vertices[i])\n",
    "            end\n",
    "            #step 3: sort by angle\n",
    "            I=sortperm(angs)\n",
    "            this.vertices=this.vertices[I]   \n",
    "        end\n",
    "        this.angles = function()\n",
    "            n=length(this.vertices)\n",
    "            ang=zeros(n)\n",
    "            for i=1:n\n",
    "                i==n ? j=1 : j=i+1\n",
    "                ang[i] =xangle(this.vertices[i],this.vertices[j])                \n",
    "            end\n",
    "            return ang\n",
    "        end\n",
    "        \n",
    "        this.plot = function()\n",
    "            n=length(this.vertices)\n",
    "            x=zeros(n+1); y=zeros(n+1);\n",
    "            for i=1:n\n",
    "                x[i]=this.vertices[i].v[1]\n",
    "                y[i]=this.vertices[i].v[2]\n",
    "            end\n",
    "            x[n+1]=this.vertices[1].v[1]\n",
    "            y[n+1]=this.vertices[1].v[2]\n",
    "            plot(x,y,label=\"\",fill=true)\n",
    "        end\n",
    "        \n",
    "        this.scatter = function()\n",
    "            n=length(this.vertices)\n",
    "            x=zeros(n); y=zeros(n);\n",
    "            for i=1:n\n",
    "                x[i]=this.vertices[i].v[1]\n",
    "                y[i]=this.vertices[i].v[2]\n",
    "            end\n",
    "            scatter(x,y,label=\"\")\n",
    "        end\n",
    "            \n",
    "        return this\n",
    "    end\n",
    "end"
   ]
  },
  {
   "cell_type": "code",
   "execution_count": 14,
   "metadata": {},
   "outputs": [],
   "source": [
    "function minkowskiSum(v::Vertex,P::Polygon)\n",
    "    # this function adds v to every vertex of P\n",
    "    n=length(P.vertices)\n",
    "    R=P #initial value\n",
    "    for i=1:n\n",
    "        R.vertices[i] +=v\n",
    "    end\n",
    "    return R\n",
    "end\n",
    "\n",
    "function minkowskiSum(P::Polygon,v::Vertex)\n",
    "    # this function adds v to every vertex of P\n",
    "    n=length(P.vertices)\n",
    "    R=P #initial value\n",
    "    for i=1:n\n",
    "        R.vertices[i] +=v\n",
    "    end\n",
    "    return R\n",
    "end\n",
    "    \n",
    "Base.:(+)(v::Vertex,P::Polygon) = minkowskiSum(v,P)\n",
    "Base.:(+)(P::Polygon,v::Vertex) = minkowskiSum(P,v)"
   ]
  },
  {
   "cell_type": "code",
   "execution_count": 15,
   "metadata": {},
   "outputs": [],
   "source": [
    "function minkowskiSum(P::Polygon,Q::Polygon)\n",
    "    # Computes the minkowski sum of two convex polygons: P and Q. The polygons\n",
    "    # are represented by their vertices and are ordered counter clockwise such\n",
    "    #* that the first vertex will be the one who has the smallest Y coordinate\n",
    "    # (and smallest X coordinate in case of a tie).  This assumption is maintained\n",
    "    # in twoDproj by conditions in BLPcalculator.\n",
    "    \n",
    "    m = length(P.vertices)\n",
    "    n = length(Q.vertices)\n",
    "    \n",
    "# case 1: Both P and Q are length 1 (vertices)\n",
    "    if m==1 && n==1 \n",
    "        R = Polygon([P.vertices[1]+Q.vertices[1]])\n",
    "\n",
    "# case 2: P is length 1 (a vertex) and Q is not    \n",
    "    elseif m==1    \n",
    "        R = P.vertices[1] + Q\n",
    "\n",
    "# case 3: Q is length 1 (a vertex) and P is not\n",
    "    elseif n==1\n",
    "        R = Q.vertices[1] + P\n",
    "    \n",
    "# case 4: both Q and P have more than 1 vertex\n",
    "    else\n",
    "        angP=[P.angles(); 100]\n",
    "        angQ=[Q.angles(); 100]\n",
    "    \n",
    "    #m = length(angP)\n",
    "    #n = length(angQ)\n",
    "    \n",
    "        PP = [P.vertices; P.vertices[1]]\n",
    "        QQ = [Q.vertices; Q.vertices[1]]\n",
    "    \n",
    "        println(\"m=\",m,\" n=\",n)\n",
    "    \n",
    "        println(\"angP= \", angP)\n",
    "        println(\"angQ= \", angQ)\n",
    "    \n",
    "        i=1; j=1;\n",
    "        println(\"----- begin ----------\")\n",
    "    \n",
    "        R =Polygon([PP[1]+QQ[1]]) # a polygon with the sum of the two lower points as the first vertex.\n",
    "        println(\"R vertices: \",R.vertices)\n",
    "        while (i<m+1 || j<n+1)\n",
    "            if angP[i]<angQ[j] \n",
    "                println(\"angP[i] is minimal\")\n",
    "                i +=1\n",
    "            elseif angQ[j]<angP[i]\n",
    "                println(\"angQ[j] is minimal\")\n",
    "                j +=1\n",
    "            else\n",
    "                i +=1\n",
    "                j +=1\n",
    "            end\n",
    "            R.vertices = [ R.vertices; PP[i]+QQ[j]]\n",
    "            println(i,j)\n",
    "            println(\"R vertices: \",R.vertices)\n",
    "        end\n",
    "    end\n",
    "    return R\n",
    "end\n",
    "\n",
    "Base.:(+)(P::Polygon,Q::Polygon) = minkowskiSum(P,Q)"
   ]
  },
  {
   "cell_type": "code",
   "execution_count": 16,
   "metadata": {},
   "outputs": [
    {
     "data": {
      "text/plain": [
       "lambdaPolygon (generic function with 1 method)"
      ]
     },
     "execution_count": 16,
     "metadata": {},
     "output_type": "execute_result"
    }
   ],
   "source": [
    "function lambdaPolygon(λ::Real,P::Polygon)\n",
    "    n = length(P.vertices)\n",
    "    R=P\n",
    "    for i=1:n\n",
    "       R.vertices[i]=λ*P.vertices[i] \n",
    "    end\n",
    "end\n",
    "\n",
    "#question: can this function be written using a map() function?"
   ]
  },
  {
   "cell_type": "markdown",
   "metadata": {},
   "source": [
    "# Testing"
   ]
  },
  {
   "cell_type": "markdown",
   "metadata": {},
   "source": [
    "Devining a bunch of vertices:"
   ]
  },
  {
   "cell_type": "code",
   "execution_count": 17,
   "metadata": {},
   "outputs": [],
   "source": [
    "v4=Vertex([0,0.4]);\n",
    "v2=Vertex([-1.1,0]);\n",
    "v3=Vertex([1.1,0]);\n",
    "v1=Vertex([0.0,-0.6]);\n",
    "v5=Vertex([0.5,0.3]);\n",
    "\n",
    "u4=Vertex([-1,0]);\n",
    "u2=Vertex([1,0.1]);\n",
    "u3=Vertex([-1,0.55]);\n",
    "u1=Vertex([1.1,0.5]);\n",
    "u5=Vertex([0.1,1.1]);"
   ]
  },
  {
   "cell_type": "markdown",
   "metadata": {},
   "source": [
    "## Testing functions on vertices"
   ]
  },
  {
   "cell_type": "code",
   "execution_count": 18,
   "metadata": {},
   "outputs": [
    {
     "data": {
      "text/plain": [
       "Vertex(Real[0.5, -0.3])"
      ]
     },
     "execution_count": 18,
     "metadata": {},
     "output_type": "execute_result"
    }
   ],
   "source": [
    "# summation:\n",
    "# v1 = [0.0,-0.6]\n",
    "# v5 = [0.5,0.3]\n",
    "\n",
    "v1+v5"
   ]
  },
  {
   "cell_type": "code",
   "execution_count": 19,
   "metadata": {},
   "outputs": [
    {
     "data": {
      "text/plain": [
       "Vertex(Real[1.0, 0.6])"
      ]
     },
     "execution_count": 19,
     "metadata": {},
     "output_type": "execute_result"
    }
   ],
   "source": [
    "#testing lambdaVertex()\n",
    "# v5 = [0.5,0.3]\n",
    "\n",
    "2*v5"
   ]
  },
  {
   "cell_type": "code",
   "execution_count": 20,
   "metadata": {},
   "outputs": [
    {
     "data": {
      "text/plain": [
       "Vertex(Real[-1.1, -0.0])"
      ]
     },
     "execution_count": 20,
     "metadata": {},
     "output_type": "execute_result"
    }
   ],
   "source": [
    "#testing negVertex()\n",
    "# v3 = [1.1,0]\n",
    "\n",
    "-v3"
   ]
  },
  {
   "cell_type": "code",
   "execution_count": 21,
   "metadata": {},
   "outputs": [
    {
     "data": {
      "text/plain": [
       "-0.18"
      ]
     },
     "execution_count": 21,
     "metadata": {},
     "output_type": "execute_result"
    }
   ],
   "source": [
    "# dot product of two vertices\n",
    "\n",
    "v1*v5"
   ]
  },
  {
   "cell_type": "code",
   "execution_count": 22,
   "metadata": {},
   "outputs": [
    {
     "data": {
      "text/plain": [
       "1.1412712210513327"
      ]
     },
     "execution_count": 22,
     "metadata": {},
     "output_type": "execute_result"
    }
   ],
   "source": [
    "# norm of a vertex\n",
    "\n",
    "norm(u3)"
   ]
  },
  {
   "cell_type": "markdown",
   "metadata": {},
   "source": [
    "## Testing functions on segments"
   ]
  },
  {
   "cell_type": "code",
   "execution_count": 23,
   "metadata": {},
   "outputs": [
    {
     "data": {
      "text/plain": [
       "0.632455532033676"
      ]
     },
     "execution_count": 23,
     "metadata": {},
     "output_type": "execute_result"
    }
   ],
   "source": [
    "# distance\n",
    "\n",
    "seg = Segment(v1,v5)\n",
    "dotDist(u1,seg)"
   ]
  },
  {
   "cell_type": "markdown",
   "metadata": {},
   "source": [
    "## Testing functions on Polygons"
   ]
  },
  {
   "cell_type": "code",
   "execution_count": 24,
   "metadata": {},
   "outputs": [
    {
     "data": {
      "text/plain": [
       "Polygon(Vertex[Vertex(Real[0.0, -0.6]), Vertex(Real[-1.1, 0.0]), Vertex(Real[1.1, 0.0]), Vertex(Real[0.0, 0.4])], var\"#7#11\"{Polygon}(Polygon(#= circular reference @-2 =#)), var\"#9#13\"{Polygon}(Polygon(#= circular reference @-2 =#)), var\"#8#12\"{Polygon}(Polygon(#= circular reference @-2 =#)), var\"#10#14\"{Polygon}(Polygon(#= circular reference @-2 =#)))"
      ]
     },
     "execution_count": 24,
     "metadata": {},
     "output_type": "execute_result"
    }
   ],
   "source": [
    "P = Polygon([v1,v2,v3,v4])"
   ]
  },
  {
   "cell_type": "code",
   "execution_count": 25,
   "metadata": {},
   "outputs": [],
   "source": [
    "# What is this \"circular reference\" comment above???"
   ]
  },
  {
   "cell_type": "code",
   "execution_count": 26,
   "metadata": {},
   "outputs": [
    {
     "name": "stdout",
     "output_type": "stream",
     "text": [
      "Before:\n",
      "Vertex[Vertex(Real[0.0, -0.6]), Vertex(Real[-1.1, 0.0]), Vertex(Real[1.1, 0.0]), Vertex(Real[0.0, 0.4])]\n",
      "[2.642245931909663, 0.0, 2.792821650005886, 4.71238898038469]\n",
      "After:\n",
      "Vertex[Vertex(Real[0.0, -0.6]), Vertex(Real[1.1, 0.0]), Vertex(Real[0.0, 0.4]), Vertex(Real[-1.1, 0.0])]\n",
      "[0.49934672168013006, 2.792821650005886, 3.4903636571737002, 5.783838585499456]\n"
     ]
    }
   ],
   "source": [
    "# Testing sort() and angles()\n",
    "\n",
    "#Before\n",
    "println(\"Before:\")\n",
    "println(P.vertices)\n",
    "println(P.angles())\n",
    "\n",
    "#After\n",
    "P.sort();\n",
    "println(\"After:\")\n",
    "println(P.vertices)\n",
    "println(P.angles())\n"
   ]
  },
  {
   "cell_type": "code",
   "execution_count": 27,
   "metadata": {},
   "outputs": [
    {
     "data": {
      "image/svg+xml": [
       "<?xml version=\"1.0\" encoding=\"utf-8\"?>\n",
       "<svg xmlns=\"http://www.w3.org/2000/svg\" xmlns:xlink=\"http://www.w3.org/1999/xlink\" width=\"600\" height=\"400\" viewBox=\"0 0 2400 1600\">\n",
       "<defs>\n",
       "  <clipPath id=\"clip680\">\n",
       "    <rect x=\"0\" y=\"0\" width=\"2400\" height=\"1600\"/>\n",
       "  </clipPath>\n",
       "</defs>\n",
       "<path clip-path=\"url(#clip680)\" d=\"\n",
       "M0 1600 L2400 1600 L2400 0 L0 0  Z\n",
       "  \" fill=\"#ffffff\" fill-rule=\"evenodd\" fill-opacity=\"1\"/>\n",
       "<defs>\n",
       "  <clipPath id=\"clip681\">\n",
       "    <rect x=\"480\" y=\"0\" width=\"1681\" height=\"1600\"/>\n",
       "  </clipPath>\n",
       "</defs>\n",
       "<path clip-path=\"url(#clip680)\" d=\"\n",
       "M224.098 1486.45 L2352.76 1486.45 L2352.76 47.2441 L224.098 47.2441  Z\n",
       "  \" fill=\"#ffffff\" fill-rule=\"evenodd\" fill-opacity=\"1\"/>\n",
       "<defs>\n",
       "  <clipPath id=\"clip682\">\n",
       "    <rect x=\"224\" y=\"47\" width=\"2130\" height=\"1440\"/>\n",
       "  </clipPath>\n",
       "</defs>\n",
       "<polyline clip-path=\"url(#clip682)\" style=\"stroke:#000000; stroke-linecap:butt; stroke-linejoin:round; stroke-width:2; stroke-opacity:0.1; fill:none\" points=\"\n",
       "  375.623,1486.45 375.623,47.2441 \n",
       "  \"/>\n",
       "<polyline clip-path=\"url(#clip682)\" style=\"stroke:#000000; stroke-linecap:butt; stroke-linejoin:round; stroke-width:2; stroke-opacity:0.1; fill:none\" points=\"\n",
       "  832.025,1486.45 832.025,47.2441 \n",
       "  \"/>\n",
       "<polyline clip-path=\"url(#clip682)\" style=\"stroke:#000000; stroke-linecap:butt; stroke-linejoin:round; stroke-width:2; stroke-opacity:0.1; fill:none\" points=\"\n",
       "  1288.43,1486.45 1288.43,47.2441 \n",
       "  \"/>\n",
       "<polyline clip-path=\"url(#clip682)\" style=\"stroke:#000000; stroke-linecap:butt; stroke-linejoin:round; stroke-width:2; stroke-opacity:0.1; fill:none\" points=\"\n",
       "  1744.83,1486.45 1744.83,47.2441 \n",
       "  \"/>\n",
       "<polyline clip-path=\"url(#clip682)\" style=\"stroke:#000000; stroke-linecap:butt; stroke-linejoin:round; stroke-width:2; stroke-opacity:0.1; fill:none\" points=\"\n",
       "  2201.23,1486.45 2201.23,47.2441 \n",
       "  \"/>\n",
       "<polyline clip-path=\"url(#clip680)\" style=\"stroke:#000000; stroke-linecap:butt; stroke-linejoin:round; stroke-width:4; stroke-opacity:1; fill:none\" points=\"\n",
       "  224.098,1486.45 2352.76,1486.45 \n",
       "  \"/>\n",
       "<polyline clip-path=\"url(#clip680)\" style=\"stroke:#000000; stroke-linecap:butt; stroke-linejoin:round; stroke-width:4; stroke-opacity:1; fill:none\" points=\"\n",
       "  375.623,1486.45 375.623,1467.55 \n",
       "  \"/>\n",
       "<polyline clip-path=\"url(#clip680)\" style=\"stroke:#000000; stroke-linecap:butt; stroke-linejoin:round; stroke-width:4; stroke-opacity:1; fill:none\" points=\"\n",
       "  832.025,1486.45 832.025,1467.55 \n",
       "  \"/>\n",
       "<polyline clip-path=\"url(#clip680)\" style=\"stroke:#000000; stroke-linecap:butt; stroke-linejoin:round; stroke-width:4; stroke-opacity:1; fill:none\" points=\"\n",
       "  1288.43,1486.45 1288.43,1467.55 \n",
       "  \"/>\n",
       "<polyline clip-path=\"url(#clip680)\" style=\"stroke:#000000; stroke-linecap:butt; stroke-linejoin:round; stroke-width:4; stroke-opacity:1; fill:none\" points=\"\n",
       "  1744.83,1486.45 1744.83,1467.55 \n",
       "  \"/>\n",
       "<polyline clip-path=\"url(#clip680)\" style=\"stroke:#000000; stroke-linecap:butt; stroke-linejoin:round; stroke-width:4; stroke-opacity:1; fill:none\" points=\"\n",
       "  2201.23,1486.45 2201.23,1467.55 \n",
       "  \"/>\n",
       "<path clip-path=\"url(#clip680)\" d=\"M322.151 1532.02 L351.827 1532.02 L351.827 1535.95 L322.151 1535.95 L322.151 1532.02 Z\" fill=\"#000000\" fill-rule=\"evenodd\" fill-opacity=\"1\" /><path clip-path=\"url(#clip680)\" d=\"M362.73 1544.91 L370.369 1544.91 L370.369 1518.55 L362.059 1520.21 L362.059 1515.95 L370.322 1514.29 L374.998 1514.29 L374.998 1544.91 L382.637 1544.91 L382.637 1548.85 L362.73 1548.85 L362.73 1544.91 Z\" fill=\"#000000\" fill-rule=\"evenodd\" fill-opacity=\"1\" /><path clip-path=\"url(#clip680)\" d=\"M392.082 1542.97 L396.966 1542.97 L396.966 1548.85 L392.082 1548.85 L392.082 1542.97 Z\" fill=\"#000000\" fill-rule=\"evenodd\" fill-opacity=\"1\" /><path clip-path=\"url(#clip680)\" d=\"M417.151 1517.37 Q413.54 1517.37 411.711 1520.93 Q409.905 1524.47 409.905 1531.6 Q409.905 1538.71 411.711 1542.27 Q413.54 1545.82 417.151 1545.82 Q420.785 1545.82 422.591 1542.27 Q424.419 1538.71 424.419 1531.6 Q424.419 1524.47 422.591 1520.93 Q420.785 1517.37 417.151 1517.37 M417.151 1513.66 Q422.961 1513.66 426.017 1518.27 Q429.095 1522.85 429.095 1531.6 Q429.095 1540.33 426.017 1544.94 Q422.961 1549.52 417.151 1549.52 Q411.341 1549.52 408.262 1544.94 Q405.206 1540.33 405.206 1531.6 Q405.206 1522.85 408.262 1518.27 Q411.341 1513.66 417.151 1513.66 Z\" fill=\"#000000\" fill-rule=\"evenodd\" fill-opacity=\"1\" /><path clip-path=\"url(#clip680)\" d=\"M779.051 1532.02 L808.727 1532.02 L808.727 1535.95 L779.051 1535.95 L779.051 1532.02 Z\" fill=\"#000000\" fill-rule=\"evenodd\" fill-opacity=\"1\" /><path clip-path=\"url(#clip680)\" d=\"M828.819 1517.37 Q825.208 1517.37 823.379 1520.93 Q821.574 1524.47 821.574 1531.6 Q821.574 1538.71 823.379 1542.27 Q825.208 1545.82 828.819 1545.82 Q832.453 1545.82 834.259 1542.27 Q836.088 1538.71 836.088 1531.6 Q836.088 1524.47 834.259 1520.93 Q832.453 1517.37 828.819 1517.37 M828.819 1513.66 Q834.629 1513.66 837.685 1518.27 Q840.763 1522.85 840.763 1531.6 Q840.763 1540.33 837.685 1544.94 Q834.629 1549.52 828.819 1549.52 Q823.009 1549.52 819.93 1544.94 Q816.875 1540.33 816.875 1531.6 Q816.875 1522.85 819.93 1518.27 Q823.009 1513.66 828.819 1513.66 Z\" fill=\"#000000\" fill-rule=\"evenodd\" fill-opacity=\"1\" /><path clip-path=\"url(#clip680)\" d=\"M848.981 1542.97 L853.865 1542.97 L853.865 1548.85 L848.981 1548.85 L848.981 1542.97 Z\" fill=\"#000000\" fill-rule=\"evenodd\" fill-opacity=\"1\" /><path clip-path=\"url(#clip680)\" d=\"M864.097 1514.29 L882.453 1514.29 L882.453 1518.22 L868.379 1518.22 L868.379 1526.7 Q869.398 1526.35 870.416 1526.19 Q871.435 1526 872.453 1526 Q878.24 1526 881.62 1529.17 Q884.999 1532.34 884.999 1537.76 Q884.999 1543.34 881.527 1546.44 Q878.055 1549.52 871.736 1549.52 Q869.56 1549.52 867.291 1549.15 Q865.046 1548.78 862.638 1548.04 L862.638 1543.34 Q864.722 1544.47 866.944 1545.03 Q869.166 1545.58 871.643 1545.58 Q875.648 1545.58 877.985 1543.48 Q880.323 1541.37 880.323 1537.76 Q880.323 1534.15 877.985 1532.04 Q875.648 1529.94 871.643 1529.94 Q869.768 1529.94 867.893 1530.35 Q866.041 1530.77 864.097 1531.65 L864.097 1514.29 Z\" fill=\"#000000\" fill-rule=\"evenodd\" fill-opacity=\"1\" /><path clip-path=\"url(#clip680)\" d=\"M1265.81 1517.37 Q1262.2 1517.37 1260.37 1520.93 Q1258.57 1524.47 1258.57 1531.6 Q1258.57 1538.71 1260.37 1542.27 Q1262.2 1545.82 1265.81 1545.82 Q1269.45 1545.82 1271.25 1542.27 Q1273.08 1538.71 1273.08 1531.6 Q1273.08 1524.47 1271.25 1520.93 Q1269.45 1517.37 1265.81 1517.37 M1265.81 1513.66 Q1271.62 1513.66 1274.68 1518.27 Q1277.76 1522.85 1277.76 1531.6 Q1277.76 1540.33 1274.68 1544.94 Q1271.62 1549.52 1265.81 1549.52 Q1260 1549.52 1256.92 1544.94 Q1253.87 1540.33 1253.87 1531.6 Q1253.87 1522.85 1256.92 1518.27 Q1260 1513.66 1265.81 1513.66 Z\" fill=\"#000000\" fill-rule=\"evenodd\" fill-opacity=\"1\" /><path clip-path=\"url(#clip680)\" d=\"M1285.97 1542.97 L1290.86 1542.97 L1290.86 1548.85 L1285.97 1548.85 L1285.97 1542.97 Z\" fill=\"#000000\" fill-rule=\"evenodd\" fill-opacity=\"1\" /><path clip-path=\"url(#clip680)\" d=\"M1311.04 1517.37 Q1307.43 1517.37 1305.6 1520.93 Q1303.8 1524.47 1303.8 1531.6 Q1303.8 1538.71 1305.6 1542.27 Q1307.43 1545.82 1311.04 1545.82 Q1314.68 1545.82 1316.48 1542.27 Q1318.31 1538.71 1318.31 1531.6 Q1318.31 1524.47 1316.48 1520.93 Q1314.68 1517.37 1311.04 1517.37 M1311.04 1513.66 Q1316.85 1513.66 1319.91 1518.27 Q1322.99 1522.85 1322.99 1531.6 Q1322.99 1540.33 1319.91 1544.94 Q1316.85 1549.52 1311.04 1549.52 Q1305.23 1549.52 1302.15 1544.94 Q1299.1 1540.33 1299.1 1531.6 Q1299.1 1522.85 1302.15 1518.27 Q1305.23 1513.66 1311.04 1513.66 Z\" fill=\"#000000\" fill-rule=\"evenodd\" fill-opacity=\"1\" /><path clip-path=\"url(#clip680)\" d=\"M1722.71 1517.37 Q1719.1 1517.37 1717.27 1520.93 Q1715.47 1524.47 1715.47 1531.6 Q1715.47 1538.71 1717.27 1542.27 Q1719.1 1545.82 1722.71 1545.82 Q1726.34 1545.82 1728.15 1542.27 Q1729.98 1538.71 1729.98 1531.6 Q1729.98 1524.47 1728.15 1520.93 Q1726.34 1517.37 1722.71 1517.37 M1722.71 1513.66 Q1728.52 1513.66 1731.58 1518.27 Q1734.66 1522.85 1734.66 1531.6 Q1734.66 1540.33 1731.58 1544.94 Q1728.52 1549.52 1722.71 1549.52 Q1716.9 1549.52 1713.82 1544.94 Q1710.77 1540.33 1710.77 1531.6 Q1710.77 1522.85 1713.82 1518.27 Q1716.9 1513.66 1722.71 1513.66 Z\" fill=\"#000000\" fill-rule=\"evenodd\" fill-opacity=\"1\" /><path clip-path=\"url(#clip680)\" d=\"M1742.87 1542.97 L1747.76 1542.97 L1747.76 1548.85 L1742.87 1548.85 L1742.87 1542.97 Z\" fill=\"#000000\" fill-rule=\"evenodd\" fill-opacity=\"1\" /><path clip-path=\"url(#clip680)\" d=\"M1757.99 1514.29 L1776.34 1514.29 L1776.34 1518.22 L1762.27 1518.22 L1762.27 1526.7 Q1763.29 1526.35 1764.31 1526.19 Q1765.33 1526 1766.34 1526 Q1772.13 1526 1775.51 1529.17 Q1778.89 1532.34 1778.89 1537.76 Q1778.89 1543.34 1775.42 1546.44 Q1771.95 1549.52 1765.63 1549.52 Q1763.45 1549.52 1761.18 1549.15 Q1758.94 1548.78 1756.53 1548.04 L1756.53 1543.34 Q1758.61 1544.47 1760.84 1545.03 Q1763.06 1545.58 1765.53 1545.58 Q1769.54 1545.58 1771.88 1543.48 Q1774.22 1541.37 1774.22 1537.76 Q1774.22 1534.15 1771.88 1532.04 Q1769.54 1529.94 1765.53 1529.94 Q1763.66 1529.94 1761.78 1530.35 Q1759.93 1530.77 1757.99 1531.65 L1757.99 1514.29 Z\" fill=\"#000000\" fill-rule=\"evenodd\" fill-opacity=\"1\" /><path clip-path=\"url(#clip680)\" d=\"M2168.38 1544.91 L2176.02 1544.91 L2176.02 1518.55 L2167.71 1520.21 L2167.71 1515.95 L2175.98 1514.29 L2180.65 1514.29 L2180.65 1544.91 L2188.29 1544.91 L2188.29 1548.85 L2168.38 1548.85 L2168.38 1544.91 Z\" fill=\"#000000\" fill-rule=\"evenodd\" fill-opacity=\"1\" /><path clip-path=\"url(#clip680)\" d=\"M2197.74 1542.97 L2202.62 1542.97 L2202.62 1548.85 L2197.74 1548.85 L2197.74 1542.97 Z\" fill=\"#000000\" fill-rule=\"evenodd\" fill-opacity=\"1\" /><path clip-path=\"url(#clip680)\" d=\"M2222.8 1517.37 Q2219.19 1517.37 2217.36 1520.93 Q2215.56 1524.47 2215.56 1531.6 Q2215.56 1538.71 2217.36 1542.27 Q2219.19 1545.82 2222.8 1545.82 Q2226.44 1545.82 2228.24 1542.27 Q2230.07 1538.71 2230.07 1531.6 Q2230.07 1524.47 2228.24 1520.93 Q2226.44 1517.37 2222.8 1517.37 M2222.8 1513.66 Q2228.61 1513.66 2231.67 1518.27 Q2234.75 1522.85 2234.75 1531.6 Q2234.75 1540.33 2231.67 1544.94 Q2228.61 1549.52 2222.8 1549.52 Q2216.99 1549.52 2213.92 1544.94 Q2210.86 1540.33 2210.86 1531.6 Q2210.86 1522.85 2213.92 1518.27 Q2216.99 1513.66 2222.8 1513.66 Z\" fill=\"#000000\" fill-rule=\"evenodd\" fill-opacity=\"1\" /><polyline clip-path=\"url(#clip682)\" style=\"stroke:#000000; stroke-linecap:butt; stroke-linejoin:round; stroke-width:2; stroke-opacity:0.1; fill:none\" points=\"\n",
       "  224.098,1309.94 2352.76,1309.94 \n",
       "  \"/>\n",
       "<polyline clip-path=\"url(#clip682)\" style=\"stroke:#000000; stroke-linecap:butt; stroke-linejoin:round; stroke-width:2; stroke-opacity:0.1; fill:none\" points=\"\n",
       "  224.098,970.507 2352.76,970.507 \n",
       "  \"/>\n",
       "<polyline clip-path=\"url(#clip682)\" style=\"stroke:#000000; stroke-linecap:butt; stroke-linejoin:round; stroke-width:2; stroke-opacity:0.1; fill:none\" points=\"\n",
       "  224.098,631.072 2352.76,631.072 \n",
       "  \"/>\n",
       "<polyline clip-path=\"url(#clip682)\" style=\"stroke:#000000; stroke-linecap:butt; stroke-linejoin:round; stroke-width:2; stroke-opacity:0.1; fill:none\" points=\"\n",
       "  224.098,291.637 2352.76,291.637 \n",
       "  \"/>\n",
       "<polyline clip-path=\"url(#clip680)\" style=\"stroke:#000000; stroke-linecap:butt; stroke-linejoin:round; stroke-width:4; stroke-opacity:1; fill:none\" points=\"\n",
       "  224.098,1486.45 224.098,47.2441 \n",
       "  \"/>\n",
       "<polyline clip-path=\"url(#clip680)\" style=\"stroke:#000000; stroke-linecap:butt; stroke-linejoin:round; stroke-width:4; stroke-opacity:1; fill:none\" points=\"\n",
       "  224.098,1309.94 242.996,1309.94 \n",
       "  \"/>\n",
       "<polyline clip-path=\"url(#clip680)\" style=\"stroke:#000000; stroke-linecap:butt; stroke-linejoin:round; stroke-width:4; stroke-opacity:1; fill:none\" points=\"\n",
       "  224.098,970.507 242.996,970.507 \n",
       "  \"/>\n",
       "<polyline clip-path=\"url(#clip680)\" style=\"stroke:#000000; stroke-linecap:butt; stroke-linejoin:round; stroke-width:4; stroke-opacity:1; fill:none\" points=\"\n",
       "  224.098,631.072 242.996,631.072 \n",
       "  \"/>\n",
       "<polyline clip-path=\"url(#clip680)\" style=\"stroke:#000000; stroke-linecap:butt; stroke-linejoin:round; stroke-width:4; stroke-opacity:1; fill:none\" points=\"\n",
       "  224.098,291.637 242.996,291.637 \n",
       "  \"/>\n",
       "<path clip-path=\"url(#clip680)\" d=\"M50.9921 1310.39 L80.6679 1310.39 L80.6679 1314.33 L50.9921 1314.33 L50.9921 1310.39 Z\" fill=\"#000000\" fill-rule=\"evenodd\" fill-opacity=\"1\" /><path clip-path=\"url(#clip680)\" d=\"M100.76 1295.74 Q97.1493 1295.74 95.3206 1299.31 Q93.515 1302.85 93.515 1309.98 Q93.515 1317.08 95.3206 1320.65 Q97.1493 1324.19 100.76 1324.19 Q104.395 1324.19 106.2 1320.65 Q108.029 1317.08 108.029 1309.98 Q108.029 1302.85 106.2 1299.31 Q104.395 1295.74 100.76 1295.74 M100.76 1292.04 Q106.571 1292.04 109.626 1296.64 Q112.705 1301.23 112.705 1309.98 Q112.705 1318.7 109.626 1323.31 Q106.571 1327.89 100.76 1327.89 Q94.9502 1327.89 91.8715 1323.31 Q88.816 1318.7 88.816 1309.98 Q88.816 1301.23 91.8715 1296.64 Q94.9502 1292.04 100.76 1292.04 Z\" fill=\"#000000\" fill-rule=\"evenodd\" fill-opacity=\"1\" /><path clip-path=\"url(#clip680)\" d=\"M120.922 1321.34 L125.807 1321.34 L125.807 1327.22 L120.922 1327.22 L120.922 1321.34 Z\" fill=\"#000000\" fill-rule=\"evenodd\" fill-opacity=\"1\" /><path clip-path=\"url(#clip680)\" d=\"M136.038 1292.66 L154.394 1292.66 L154.394 1296.6 L140.32 1296.6 L140.32 1305.07 Q141.339 1304.72 142.357 1304.56 Q143.376 1304.37 144.394 1304.37 Q150.181 1304.37 153.561 1307.55 Q156.941 1310.72 156.941 1316.13 Q156.941 1321.71 153.468 1324.81 Q149.996 1327.89 143.677 1327.89 Q141.501 1327.89 139.232 1327.52 Q136.987 1327.15 134.58 1326.41 L134.58 1321.71 Q136.663 1322.85 138.885 1323.4 Q141.107 1323.96 143.584 1323.96 Q147.589 1323.96 149.927 1321.85 Q152.265 1319.74 152.265 1316.13 Q152.265 1312.52 149.927 1310.42 Q147.589 1308.31 143.584 1308.31 Q141.709 1308.31 139.834 1308.73 Q137.982 1309.14 136.038 1310.02 L136.038 1292.66 Z\" fill=\"#000000\" fill-rule=\"evenodd\" fill-opacity=\"1\" /><path clip-path=\"url(#clip680)\" d=\"M176.153 1295.74 Q172.542 1295.74 170.714 1299.31 Q168.908 1302.85 168.908 1309.98 Q168.908 1317.08 170.714 1320.65 Q172.542 1324.19 176.153 1324.19 Q179.788 1324.19 181.593 1320.65 Q183.422 1317.08 183.422 1309.98 Q183.422 1302.85 181.593 1299.31 Q179.788 1295.74 176.153 1295.74 M176.153 1292.04 Q181.964 1292.04 185.019 1296.64 Q188.098 1301.23 188.098 1309.98 Q188.098 1318.7 185.019 1323.31 Q181.964 1327.89 176.153 1327.89 Q170.343 1327.89 167.265 1323.31 Q164.209 1318.7 164.209 1309.98 Q164.209 1301.23 167.265 1296.64 Q170.343 1292.04 176.153 1292.04 Z\" fill=\"#000000\" fill-rule=\"evenodd\" fill-opacity=\"1\" /><path clip-path=\"url(#clip680)\" d=\"M51.9875 970.958 L81.6633 970.958 L81.6633 974.893 L51.9875 974.893 L51.9875 970.958 Z\" fill=\"#000000\" fill-rule=\"evenodd\" fill-opacity=\"1\" /><path clip-path=\"url(#clip680)\" d=\"M101.756 956.306 Q98.1447 956.306 96.316 959.87 Q94.5104 963.412 94.5104 970.542 Q94.5104 977.648 96.316 981.213 Q98.1447 984.755 101.756 984.755 Q105.39 984.755 107.196 981.213 Q109.024 977.648 109.024 970.542 Q109.024 963.412 107.196 959.87 Q105.39 956.306 101.756 956.306 M101.756 952.602 Q107.566 952.602 110.621 957.208 Q113.7 961.792 113.7 970.542 Q113.7 979.268 110.621 983.875 Q107.566 988.458 101.756 988.458 Q95.9456 988.458 92.8669 983.875 Q89.8114 979.268 89.8114 970.542 Q89.8114 961.792 92.8669 957.208 Q95.9456 952.602 101.756 952.602 Z\" fill=\"#000000\" fill-rule=\"evenodd\" fill-opacity=\"1\" /><path clip-path=\"url(#clip680)\" d=\"M121.918 981.907 L126.802 981.907 L126.802 987.787 L121.918 987.787 L121.918 981.907 Z\" fill=\"#000000\" fill-rule=\"evenodd\" fill-opacity=\"1\" /><path clip-path=\"url(#clip680)\" d=\"M141.015 983.852 L157.334 983.852 L157.334 987.787 L135.39 987.787 L135.39 983.852 Q138.052 981.097 142.635 976.468 Q147.242 971.815 148.422 970.472 Q150.668 967.949 151.547 966.213 Q152.45 964.454 152.45 962.764 Q152.45 960.009 150.505 958.273 Q148.584 956.537 145.482 956.537 Q143.283 956.537 140.83 957.301 Q138.399 958.065 135.621 959.616 L135.621 954.894 Q138.445 953.759 140.899 953.181 Q143.353 952.602 145.39 952.602 Q150.76 952.602 153.955 955.287 Q157.149 957.972 157.149 962.463 Q157.149 964.593 156.339 966.514 Q155.552 968.412 153.445 971.005 Q152.867 971.676 149.765 974.893 Q146.663 978.088 141.015 983.852 Z\" fill=\"#000000\" fill-rule=\"evenodd\" fill-opacity=\"1\" /><path clip-path=\"url(#clip680)\" d=\"M167.195 953.227 L185.552 953.227 L185.552 957.162 L171.478 957.162 L171.478 965.634 Q172.496 965.287 173.515 965.125 Q174.533 964.94 175.552 964.94 Q181.339 964.94 184.718 968.111 Q188.098 971.282 188.098 976.699 Q188.098 982.278 184.626 985.38 Q181.153 988.458 174.834 988.458 Q172.658 988.458 170.39 988.088 Q168.144 987.717 165.737 986.977 L165.737 982.278 Q167.82 983.412 170.042 983.967 Q172.265 984.523 174.741 984.523 Q178.746 984.523 181.084 982.417 Q183.422 980.31 183.422 976.699 Q183.422 973.088 181.084 970.981 Q178.746 968.875 174.741 968.875 Q172.866 968.875 170.991 969.292 Q169.14 969.708 167.195 970.588 L167.195 953.227 Z\" fill=\"#000000\" fill-rule=\"evenodd\" fill-opacity=\"1\" /><path clip-path=\"url(#clip680)\" d=\"M100.76 616.871 Q97.1493 616.871 95.3206 620.436 Q93.515 623.977 93.515 631.107 Q93.515 638.213 95.3206 641.778 Q97.1493 645.32 100.76 645.32 Q104.395 645.32 106.2 641.778 Q108.029 638.213 108.029 631.107 Q108.029 623.977 106.2 620.436 Q104.395 616.871 100.76 616.871 M100.76 613.167 Q106.571 613.167 109.626 617.774 Q112.705 622.357 112.705 631.107 Q112.705 639.834 109.626 644.44 Q106.571 649.023 100.76 649.023 Q94.9502 649.023 91.8715 644.44 Q88.816 639.834 88.816 631.107 Q88.816 622.357 91.8715 617.774 Q94.9502 613.167 100.76 613.167 Z\" fill=\"#000000\" fill-rule=\"evenodd\" fill-opacity=\"1\" /><path clip-path=\"url(#clip680)\" d=\"M120.922 642.472 L125.807 642.472 L125.807 648.352 L120.922 648.352 L120.922 642.472 Z\" fill=\"#000000\" fill-rule=\"evenodd\" fill-opacity=\"1\" /><path clip-path=\"url(#clip680)\" d=\"M145.992 616.871 Q142.381 616.871 140.552 620.436 Q138.746 623.977 138.746 631.107 Q138.746 638.213 140.552 641.778 Q142.381 645.32 145.992 645.32 Q149.626 645.32 151.431 641.778 Q153.26 638.213 153.26 631.107 Q153.26 623.977 151.431 620.436 Q149.626 616.871 145.992 616.871 M145.992 613.167 Q151.802 613.167 154.857 617.774 Q157.936 622.357 157.936 631.107 Q157.936 639.834 154.857 644.44 Q151.802 649.023 145.992 649.023 Q140.181 649.023 137.103 644.44 Q134.047 639.834 134.047 631.107 Q134.047 622.357 137.103 617.774 Q140.181 613.167 145.992 613.167 Z\" fill=\"#000000\" fill-rule=\"evenodd\" fill-opacity=\"1\" /><path clip-path=\"url(#clip680)\" d=\"M176.153 616.871 Q172.542 616.871 170.714 620.436 Q168.908 623.977 168.908 631.107 Q168.908 638.213 170.714 641.778 Q172.542 645.32 176.153 645.32 Q179.788 645.32 181.593 641.778 Q183.422 638.213 183.422 631.107 Q183.422 623.977 181.593 620.436 Q179.788 616.871 176.153 616.871 M176.153 613.167 Q181.964 613.167 185.019 617.774 Q188.098 622.357 188.098 631.107 Q188.098 639.834 185.019 644.44 Q181.964 649.023 176.153 649.023 Q170.343 649.023 167.265 644.44 Q164.209 639.834 164.209 631.107 Q164.209 622.357 167.265 617.774 Q170.343 613.167 176.153 613.167 Z\" fill=\"#000000\" fill-rule=\"evenodd\" fill-opacity=\"1\" /><path clip-path=\"url(#clip680)\" d=\"M101.756 277.436 Q98.1447 277.436 96.316 281.001 Q94.5104 284.542 94.5104 291.672 Q94.5104 298.778 96.316 302.343 Q98.1447 305.885 101.756 305.885 Q105.39 305.885 107.196 302.343 Q109.024 298.778 109.024 291.672 Q109.024 284.542 107.196 281.001 Q105.39 277.436 101.756 277.436 M101.756 273.732 Q107.566 273.732 110.621 278.339 Q113.7 282.922 113.7 291.672 Q113.7 300.399 110.621 305.005 Q107.566 309.588 101.756 309.588 Q95.9456 309.588 92.8669 305.005 Q89.8114 300.399 89.8114 291.672 Q89.8114 282.922 92.8669 278.339 Q95.9456 273.732 101.756 273.732 Z\" fill=\"#000000\" fill-rule=\"evenodd\" fill-opacity=\"1\" /><path clip-path=\"url(#clip680)\" d=\"M121.918 303.038 L126.802 303.038 L126.802 308.917 L121.918 308.917 L121.918 303.038 Z\" fill=\"#000000\" fill-rule=\"evenodd\" fill-opacity=\"1\" /><path clip-path=\"url(#clip680)\" d=\"M141.015 304.982 L157.334 304.982 L157.334 308.917 L135.39 308.917 L135.39 304.982 Q138.052 302.227 142.635 297.598 Q147.242 292.945 148.422 291.602 Q150.668 289.079 151.547 287.343 Q152.45 285.584 152.45 283.894 Q152.45 281.14 150.505 279.403 Q148.584 277.667 145.482 277.667 Q143.283 277.667 140.83 278.431 Q138.399 279.195 135.621 280.746 L135.621 276.024 Q138.445 274.89 140.899 274.311 Q143.353 273.732 145.39 273.732 Q150.76 273.732 153.955 276.417 Q157.149 279.103 157.149 283.593 Q157.149 285.723 156.339 287.644 Q155.552 289.542 153.445 292.135 Q152.867 292.806 149.765 296.024 Q146.663 299.218 141.015 304.982 Z\" fill=\"#000000\" fill-rule=\"evenodd\" fill-opacity=\"1\" /><path clip-path=\"url(#clip680)\" d=\"M167.195 274.357 L185.552 274.357 L185.552 278.292 L171.478 278.292 L171.478 286.765 Q172.496 286.417 173.515 286.255 Q174.533 286.07 175.552 286.07 Q181.339 286.07 184.718 289.241 Q188.098 292.413 188.098 297.829 Q188.098 303.408 184.626 306.51 Q181.153 309.588 174.834 309.588 Q172.658 309.588 170.39 309.218 Q168.144 308.848 165.737 308.107 L165.737 303.408 Q167.82 304.542 170.042 305.098 Q172.265 305.653 174.741 305.653 Q178.746 305.653 181.084 303.547 Q183.422 301.44 183.422 297.829 Q183.422 294.218 181.084 292.112 Q178.746 290.005 174.741 290.005 Q172.866 290.005 170.991 290.422 Q169.14 290.839 167.195 291.718 L167.195 274.357 Z\" fill=\"#000000\" fill-rule=\"evenodd\" fill-opacity=\"1\" /><path clip-path=\"url(#clip682)\" d=\"\n",
       "M1288.43 1445.72 L2292.51 631.072 L1288.43 87.9763 L284.343 631.072 L1288.43 1445.72 L1288.43 631.072 L284.343 631.072 L1288.43 631.072 L2292.51 631.072 L1288.43 631.072 \n",
       "   Z\n",
       "  \" fill=\"#009af9\" fill-rule=\"evenodd\" fill-opacity=\"1\"/>\n",
       "<polyline clip-path=\"url(#clip682)\" style=\"stroke:#009af9; stroke-linecap:butt; stroke-linejoin:round; stroke-width:4; stroke-opacity:1; fill:none\" points=\"\n",
       "  1288.43,1445.72 2292.51,631.072 1288.43,87.9763 284.343,631.072 1288.43,1445.72 \n",
       "  \"/>\n",
       "</svg>\n"
      ]
     },
     "execution_count": 27,
     "metadata": {},
     "output_type": "execute_result"
    }
   ],
   "source": [
    "# Testing plot()\n",
    "\n",
    "P.plot()"
   ]
  },
  {
   "cell_type": "code",
   "execution_count": 28,
   "metadata": {},
   "outputs": [
    {
     "data": {
      "image/svg+xml": [
       "<?xml version=\"1.0\" encoding=\"utf-8\"?>\n",
       "<svg xmlns=\"http://www.w3.org/2000/svg\" xmlns:xlink=\"http://www.w3.org/1999/xlink\" width=\"600\" height=\"400\" viewBox=\"0 0 2400 1600\">\n",
       "<defs>\n",
       "  <clipPath id=\"clip720\">\n",
       "    <rect x=\"0\" y=\"0\" width=\"2400\" height=\"1600\"/>\n",
       "  </clipPath>\n",
       "</defs>\n",
       "<path clip-path=\"url(#clip720)\" d=\"\n",
       "M0 1600 L2400 1600 L2400 0 L0 0  Z\n",
       "  \" fill=\"#ffffff\" fill-rule=\"evenodd\" fill-opacity=\"1\"/>\n",
       "<defs>\n",
       "  <clipPath id=\"clip721\">\n",
       "    <rect x=\"480\" y=\"0\" width=\"1681\" height=\"1600\"/>\n",
       "  </clipPath>\n",
       "</defs>\n",
       "<path clip-path=\"url(#clip720)\" d=\"\n",
       "M224.098 1486.45 L2352.76 1486.45 L2352.76 47.2441 L224.098 47.2441  Z\n",
       "  \" fill=\"#ffffff\" fill-rule=\"evenodd\" fill-opacity=\"1\"/>\n",
       "<defs>\n",
       "  <clipPath id=\"clip722\">\n",
       "    <rect x=\"224\" y=\"47\" width=\"2130\" height=\"1440\"/>\n",
       "  </clipPath>\n",
       "</defs>\n",
       "<polyline clip-path=\"url(#clip722)\" style=\"stroke:#000000; stroke-linecap:butt; stroke-linejoin:round; stroke-width:2; stroke-opacity:0.1; fill:none\" points=\"\n",
       "  375.623,1486.45 375.623,47.2441 \n",
       "  \"/>\n",
       "<polyline clip-path=\"url(#clip722)\" style=\"stroke:#000000; stroke-linecap:butt; stroke-linejoin:round; stroke-width:2; stroke-opacity:0.1; fill:none\" points=\"\n",
       "  832.025,1486.45 832.025,47.2441 \n",
       "  \"/>\n",
       "<polyline clip-path=\"url(#clip722)\" style=\"stroke:#000000; stroke-linecap:butt; stroke-linejoin:round; stroke-width:2; stroke-opacity:0.1; fill:none\" points=\"\n",
       "  1288.43,1486.45 1288.43,47.2441 \n",
       "  \"/>\n",
       "<polyline clip-path=\"url(#clip722)\" style=\"stroke:#000000; stroke-linecap:butt; stroke-linejoin:round; stroke-width:2; stroke-opacity:0.1; fill:none\" points=\"\n",
       "  1744.83,1486.45 1744.83,47.2441 \n",
       "  \"/>\n",
       "<polyline clip-path=\"url(#clip722)\" style=\"stroke:#000000; stroke-linecap:butt; stroke-linejoin:round; stroke-width:2; stroke-opacity:0.1; fill:none\" points=\"\n",
       "  2201.23,1486.45 2201.23,47.2441 \n",
       "  \"/>\n",
       "<polyline clip-path=\"url(#clip720)\" style=\"stroke:#000000; stroke-linecap:butt; stroke-linejoin:round; stroke-width:4; stroke-opacity:1; fill:none\" points=\"\n",
       "  224.098,1486.45 2352.76,1486.45 \n",
       "  \"/>\n",
       "<polyline clip-path=\"url(#clip720)\" style=\"stroke:#000000; stroke-linecap:butt; stroke-linejoin:round; stroke-width:4; stroke-opacity:1; fill:none\" points=\"\n",
       "  375.623,1486.45 375.623,1467.55 \n",
       "  \"/>\n",
       "<polyline clip-path=\"url(#clip720)\" style=\"stroke:#000000; stroke-linecap:butt; stroke-linejoin:round; stroke-width:4; stroke-opacity:1; fill:none\" points=\"\n",
       "  832.025,1486.45 832.025,1467.55 \n",
       "  \"/>\n",
       "<polyline clip-path=\"url(#clip720)\" style=\"stroke:#000000; stroke-linecap:butt; stroke-linejoin:round; stroke-width:4; stroke-opacity:1; fill:none\" points=\"\n",
       "  1288.43,1486.45 1288.43,1467.55 \n",
       "  \"/>\n",
       "<polyline clip-path=\"url(#clip720)\" style=\"stroke:#000000; stroke-linecap:butt; stroke-linejoin:round; stroke-width:4; stroke-opacity:1; fill:none\" points=\"\n",
       "  1744.83,1486.45 1744.83,1467.55 \n",
       "  \"/>\n",
       "<polyline clip-path=\"url(#clip720)\" style=\"stroke:#000000; stroke-linecap:butt; stroke-linejoin:round; stroke-width:4; stroke-opacity:1; fill:none\" points=\"\n",
       "  2201.23,1486.45 2201.23,1467.55 \n",
       "  \"/>\n",
       "<path clip-path=\"url(#clip720)\" d=\"M322.151 1532.02 L351.827 1532.02 L351.827 1535.95 L322.151 1535.95 L322.151 1532.02 Z\" fill=\"#000000\" fill-rule=\"evenodd\" fill-opacity=\"1\" /><path clip-path=\"url(#clip720)\" d=\"M362.73 1544.91 L370.369 1544.91 L370.369 1518.55 L362.059 1520.21 L362.059 1515.95 L370.322 1514.29 L374.998 1514.29 L374.998 1544.91 L382.637 1544.91 L382.637 1548.85 L362.73 1548.85 L362.73 1544.91 Z\" fill=\"#000000\" fill-rule=\"evenodd\" fill-opacity=\"1\" /><path clip-path=\"url(#clip720)\" d=\"M392.082 1542.97 L396.966 1542.97 L396.966 1548.85 L392.082 1548.85 L392.082 1542.97 Z\" fill=\"#000000\" fill-rule=\"evenodd\" fill-opacity=\"1\" /><path clip-path=\"url(#clip720)\" d=\"M417.151 1517.37 Q413.54 1517.37 411.711 1520.93 Q409.905 1524.47 409.905 1531.6 Q409.905 1538.71 411.711 1542.27 Q413.54 1545.82 417.151 1545.82 Q420.785 1545.82 422.591 1542.27 Q424.419 1538.71 424.419 1531.6 Q424.419 1524.47 422.591 1520.93 Q420.785 1517.37 417.151 1517.37 M417.151 1513.66 Q422.961 1513.66 426.017 1518.27 Q429.095 1522.85 429.095 1531.6 Q429.095 1540.33 426.017 1544.94 Q422.961 1549.52 417.151 1549.52 Q411.341 1549.52 408.262 1544.94 Q405.206 1540.33 405.206 1531.6 Q405.206 1522.85 408.262 1518.27 Q411.341 1513.66 417.151 1513.66 Z\" fill=\"#000000\" fill-rule=\"evenodd\" fill-opacity=\"1\" /><path clip-path=\"url(#clip720)\" d=\"M779.051 1532.02 L808.727 1532.02 L808.727 1535.95 L779.051 1535.95 L779.051 1532.02 Z\" fill=\"#000000\" fill-rule=\"evenodd\" fill-opacity=\"1\" /><path clip-path=\"url(#clip720)\" d=\"M828.819 1517.37 Q825.208 1517.37 823.379 1520.93 Q821.574 1524.47 821.574 1531.6 Q821.574 1538.71 823.379 1542.27 Q825.208 1545.82 828.819 1545.82 Q832.453 1545.82 834.259 1542.27 Q836.088 1538.71 836.088 1531.6 Q836.088 1524.47 834.259 1520.93 Q832.453 1517.37 828.819 1517.37 M828.819 1513.66 Q834.629 1513.66 837.685 1518.27 Q840.763 1522.85 840.763 1531.6 Q840.763 1540.33 837.685 1544.94 Q834.629 1549.52 828.819 1549.52 Q823.009 1549.52 819.93 1544.94 Q816.875 1540.33 816.875 1531.6 Q816.875 1522.85 819.93 1518.27 Q823.009 1513.66 828.819 1513.66 Z\" fill=\"#000000\" fill-rule=\"evenodd\" fill-opacity=\"1\" /><path clip-path=\"url(#clip720)\" d=\"M848.981 1542.97 L853.865 1542.97 L853.865 1548.85 L848.981 1548.85 L848.981 1542.97 Z\" fill=\"#000000\" fill-rule=\"evenodd\" fill-opacity=\"1\" /><path clip-path=\"url(#clip720)\" d=\"M864.097 1514.29 L882.453 1514.29 L882.453 1518.22 L868.379 1518.22 L868.379 1526.7 Q869.398 1526.35 870.416 1526.19 Q871.435 1526 872.453 1526 Q878.24 1526 881.62 1529.17 Q884.999 1532.34 884.999 1537.76 Q884.999 1543.34 881.527 1546.44 Q878.055 1549.52 871.736 1549.52 Q869.56 1549.52 867.291 1549.15 Q865.046 1548.78 862.638 1548.04 L862.638 1543.34 Q864.722 1544.47 866.944 1545.03 Q869.166 1545.58 871.643 1545.58 Q875.648 1545.58 877.985 1543.48 Q880.323 1541.37 880.323 1537.76 Q880.323 1534.15 877.985 1532.04 Q875.648 1529.94 871.643 1529.94 Q869.768 1529.94 867.893 1530.35 Q866.041 1530.77 864.097 1531.65 L864.097 1514.29 Z\" fill=\"#000000\" fill-rule=\"evenodd\" fill-opacity=\"1\" /><path clip-path=\"url(#clip720)\" d=\"M1265.81 1517.37 Q1262.2 1517.37 1260.37 1520.93 Q1258.57 1524.47 1258.57 1531.6 Q1258.57 1538.71 1260.37 1542.27 Q1262.2 1545.82 1265.81 1545.82 Q1269.45 1545.82 1271.25 1542.27 Q1273.08 1538.71 1273.08 1531.6 Q1273.08 1524.47 1271.25 1520.93 Q1269.45 1517.37 1265.81 1517.37 M1265.81 1513.66 Q1271.62 1513.66 1274.68 1518.27 Q1277.76 1522.85 1277.76 1531.6 Q1277.76 1540.33 1274.68 1544.94 Q1271.62 1549.52 1265.81 1549.52 Q1260 1549.52 1256.92 1544.94 Q1253.87 1540.33 1253.87 1531.6 Q1253.87 1522.85 1256.92 1518.27 Q1260 1513.66 1265.81 1513.66 Z\" fill=\"#000000\" fill-rule=\"evenodd\" fill-opacity=\"1\" /><path clip-path=\"url(#clip720)\" d=\"M1285.97 1542.97 L1290.86 1542.97 L1290.86 1548.85 L1285.97 1548.85 L1285.97 1542.97 Z\" fill=\"#000000\" fill-rule=\"evenodd\" fill-opacity=\"1\" /><path clip-path=\"url(#clip720)\" d=\"M1311.04 1517.37 Q1307.43 1517.37 1305.6 1520.93 Q1303.8 1524.47 1303.8 1531.6 Q1303.8 1538.71 1305.6 1542.27 Q1307.43 1545.82 1311.04 1545.82 Q1314.68 1545.82 1316.48 1542.27 Q1318.31 1538.71 1318.31 1531.6 Q1318.31 1524.47 1316.48 1520.93 Q1314.68 1517.37 1311.04 1517.37 M1311.04 1513.66 Q1316.85 1513.66 1319.91 1518.27 Q1322.99 1522.85 1322.99 1531.6 Q1322.99 1540.33 1319.91 1544.94 Q1316.85 1549.52 1311.04 1549.52 Q1305.23 1549.52 1302.15 1544.94 Q1299.1 1540.33 1299.1 1531.6 Q1299.1 1522.85 1302.15 1518.27 Q1305.23 1513.66 1311.04 1513.66 Z\" fill=\"#000000\" fill-rule=\"evenodd\" fill-opacity=\"1\" /><path clip-path=\"url(#clip720)\" d=\"M1722.71 1517.37 Q1719.1 1517.37 1717.27 1520.93 Q1715.47 1524.47 1715.47 1531.6 Q1715.47 1538.71 1717.27 1542.27 Q1719.1 1545.82 1722.71 1545.82 Q1726.34 1545.82 1728.15 1542.27 Q1729.98 1538.71 1729.98 1531.6 Q1729.98 1524.47 1728.15 1520.93 Q1726.34 1517.37 1722.71 1517.37 M1722.71 1513.66 Q1728.52 1513.66 1731.58 1518.27 Q1734.66 1522.85 1734.66 1531.6 Q1734.66 1540.33 1731.58 1544.94 Q1728.52 1549.52 1722.71 1549.52 Q1716.9 1549.52 1713.82 1544.94 Q1710.77 1540.33 1710.77 1531.6 Q1710.77 1522.85 1713.82 1518.27 Q1716.9 1513.66 1722.71 1513.66 Z\" fill=\"#000000\" fill-rule=\"evenodd\" fill-opacity=\"1\" /><path clip-path=\"url(#clip720)\" d=\"M1742.87 1542.97 L1747.76 1542.97 L1747.76 1548.85 L1742.87 1548.85 L1742.87 1542.97 Z\" fill=\"#000000\" fill-rule=\"evenodd\" fill-opacity=\"1\" /><path clip-path=\"url(#clip720)\" d=\"M1757.99 1514.29 L1776.34 1514.29 L1776.34 1518.22 L1762.27 1518.22 L1762.27 1526.7 Q1763.29 1526.35 1764.31 1526.19 Q1765.33 1526 1766.34 1526 Q1772.13 1526 1775.51 1529.17 Q1778.89 1532.34 1778.89 1537.76 Q1778.89 1543.34 1775.42 1546.44 Q1771.95 1549.52 1765.63 1549.52 Q1763.45 1549.52 1761.18 1549.15 Q1758.94 1548.78 1756.53 1548.04 L1756.53 1543.34 Q1758.61 1544.47 1760.84 1545.03 Q1763.06 1545.58 1765.53 1545.58 Q1769.54 1545.58 1771.88 1543.48 Q1774.22 1541.37 1774.22 1537.76 Q1774.22 1534.15 1771.88 1532.04 Q1769.54 1529.94 1765.53 1529.94 Q1763.66 1529.94 1761.78 1530.35 Q1759.93 1530.77 1757.99 1531.65 L1757.99 1514.29 Z\" fill=\"#000000\" fill-rule=\"evenodd\" fill-opacity=\"1\" /><path clip-path=\"url(#clip720)\" d=\"M2168.38 1544.91 L2176.02 1544.91 L2176.02 1518.55 L2167.71 1520.21 L2167.71 1515.95 L2175.98 1514.29 L2180.65 1514.29 L2180.65 1544.91 L2188.29 1544.91 L2188.29 1548.85 L2168.38 1548.85 L2168.38 1544.91 Z\" fill=\"#000000\" fill-rule=\"evenodd\" fill-opacity=\"1\" /><path clip-path=\"url(#clip720)\" d=\"M2197.74 1542.97 L2202.62 1542.97 L2202.62 1548.85 L2197.74 1548.85 L2197.74 1542.97 Z\" fill=\"#000000\" fill-rule=\"evenodd\" fill-opacity=\"1\" /><path clip-path=\"url(#clip720)\" d=\"M2222.8 1517.37 Q2219.19 1517.37 2217.36 1520.93 Q2215.56 1524.47 2215.56 1531.6 Q2215.56 1538.71 2217.36 1542.27 Q2219.19 1545.82 2222.8 1545.82 Q2226.44 1545.82 2228.24 1542.27 Q2230.07 1538.71 2230.07 1531.6 Q2230.07 1524.47 2228.24 1520.93 Q2226.44 1517.37 2222.8 1517.37 M2222.8 1513.66 Q2228.61 1513.66 2231.67 1518.27 Q2234.75 1522.85 2234.75 1531.6 Q2234.75 1540.33 2231.67 1544.94 Q2228.61 1549.52 2222.8 1549.52 Q2216.99 1549.52 2213.92 1544.94 Q2210.86 1540.33 2210.86 1531.6 Q2210.86 1522.85 2213.92 1518.27 Q2216.99 1513.66 2222.8 1513.66 Z\" fill=\"#000000\" fill-rule=\"evenodd\" fill-opacity=\"1\" /><polyline clip-path=\"url(#clip722)\" style=\"stroke:#000000; stroke-linecap:butt; stroke-linejoin:round; stroke-width:2; stroke-opacity:0.1; fill:none\" points=\"\n",
       "  224.098,1309.94 2352.76,1309.94 \n",
       "  \"/>\n",
       "<polyline clip-path=\"url(#clip722)\" style=\"stroke:#000000; stroke-linecap:butt; stroke-linejoin:round; stroke-width:2; stroke-opacity:0.1; fill:none\" points=\"\n",
       "  224.098,970.507 2352.76,970.507 \n",
       "  \"/>\n",
       "<polyline clip-path=\"url(#clip722)\" style=\"stroke:#000000; stroke-linecap:butt; stroke-linejoin:round; stroke-width:2; stroke-opacity:0.1; fill:none\" points=\"\n",
       "  224.098,631.072 2352.76,631.072 \n",
       "  \"/>\n",
       "<polyline clip-path=\"url(#clip722)\" style=\"stroke:#000000; stroke-linecap:butt; stroke-linejoin:round; stroke-width:2; stroke-opacity:0.1; fill:none\" points=\"\n",
       "  224.098,291.637 2352.76,291.637 \n",
       "  \"/>\n",
       "<polyline clip-path=\"url(#clip720)\" style=\"stroke:#000000; stroke-linecap:butt; stroke-linejoin:round; stroke-width:4; stroke-opacity:1; fill:none\" points=\"\n",
       "  224.098,1486.45 224.098,47.2441 \n",
       "  \"/>\n",
       "<polyline clip-path=\"url(#clip720)\" style=\"stroke:#000000; stroke-linecap:butt; stroke-linejoin:round; stroke-width:4; stroke-opacity:1; fill:none\" points=\"\n",
       "  224.098,1309.94 242.996,1309.94 \n",
       "  \"/>\n",
       "<polyline clip-path=\"url(#clip720)\" style=\"stroke:#000000; stroke-linecap:butt; stroke-linejoin:round; stroke-width:4; stroke-opacity:1; fill:none\" points=\"\n",
       "  224.098,970.507 242.996,970.507 \n",
       "  \"/>\n",
       "<polyline clip-path=\"url(#clip720)\" style=\"stroke:#000000; stroke-linecap:butt; stroke-linejoin:round; stroke-width:4; stroke-opacity:1; fill:none\" points=\"\n",
       "  224.098,631.072 242.996,631.072 \n",
       "  \"/>\n",
       "<polyline clip-path=\"url(#clip720)\" style=\"stroke:#000000; stroke-linecap:butt; stroke-linejoin:round; stroke-width:4; stroke-opacity:1; fill:none\" points=\"\n",
       "  224.098,291.637 242.996,291.637 \n",
       "  \"/>\n",
       "<path clip-path=\"url(#clip720)\" d=\"M50.9921 1310.39 L80.6679 1310.39 L80.6679 1314.33 L50.9921 1314.33 L50.9921 1310.39 Z\" fill=\"#000000\" fill-rule=\"evenodd\" fill-opacity=\"1\" /><path clip-path=\"url(#clip720)\" d=\"M100.76 1295.74 Q97.1493 1295.74 95.3206 1299.31 Q93.515 1302.85 93.515 1309.98 Q93.515 1317.08 95.3206 1320.65 Q97.1493 1324.19 100.76 1324.19 Q104.395 1324.19 106.2 1320.65 Q108.029 1317.08 108.029 1309.98 Q108.029 1302.85 106.2 1299.31 Q104.395 1295.74 100.76 1295.74 M100.76 1292.04 Q106.571 1292.04 109.626 1296.64 Q112.705 1301.23 112.705 1309.98 Q112.705 1318.7 109.626 1323.31 Q106.571 1327.89 100.76 1327.89 Q94.9502 1327.89 91.8715 1323.31 Q88.816 1318.7 88.816 1309.98 Q88.816 1301.23 91.8715 1296.64 Q94.9502 1292.04 100.76 1292.04 Z\" fill=\"#000000\" fill-rule=\"evenodd\" fill-opacity=\"1\" /><path clip-path=\"url(#clip720)\" d=\"M120.922 1321.34 L125.807 1321.34 L125.807 1327.22 L120.922 1327.22 L120.922 1321.34 Z\" fill=\"#000000\" fill-rule=\"evenodd\" fill-opacity=\"1\" /><path clip-path=\"url(#clip720)\" d=\"M136.038 1292.66 L154.394 1292.66 L154.394 1296.6 L140.32 1296.6 L140.32 1305.07 Q141.339 1304.72 142.357 1304.56 Q143.376 1304.37 144.394 1304.37 Q150.181 1304.37 153.561 1307.55 Q156.941 1310.72 156.941 1316.13 Q156.941 1321.71 153.468 1324.81 Q149.996 1327.89 143.677 1327.89 Q141.501 1327.89 139.232 1327.52 Q136.987 1327.15 134.58 1326.41 L134.58 1321.71 Q136.663 1322.85 138.885 1323.4 Q141.107 1323.96 143.584 1323.96 Q147.589 1323.96 149.927 1321.85 Q152.265 1319.74 152.265 1316.13 Q152.265 1312.52 149.927 1310.42 Q147.589 1308.31 143.584 1308.31 Q141.709 1308.31 139.834 1308.73 Q137.982 1309.14 136.038 1310.02 L136.038 1292.66 Z\" fill=\"#000000\" fill-rule=\"evenodd\" fill-opacity=\"1\" /><path clip-path=\"url(#clip720)\" d=\"M176.153 1295.74 Q172.542 1295.74 170.714 1299.31 Q168.908 1302.85 168.908 1309.98 Q168.908 1317.08 170.714 1320.65 Q172.542 1324.19 176.153 1324.19 Q179.788 1324.19 181.593 1320.65 Q183.422 1317.08 183.422 1309.98 Q183.422 1302.85 181.593 1299.31 Q179.788 1295.74 176.153 1295.74 M176.153 1292.04 Q181.964 1292.04 185.019 1296.64 Q188.098 1301.23 188.098 1309.98 Q188.098 1318.7 185.019 1323.31 Q181.964 1327.89 176.153 1327.89 Q170.343 1327.89 167.265 1323.31 Q164.209 1318.7 164.209 1309.98 Q164.209 1301.23 167.265 1296.64 Q170.343 1292.04 176.153 1292.04 Z\" fill=\"#000000\" fill-rule=\"evenodd\" fill-opacity=\"1\" /><path clip-path=\"url(#clip720)\" d=\"M51.9875 970.958 L81.6633 970.958 L81.6633 974.893 L51.9875 974.893 L51.9875 970.958 Z\" fill=\"#000000\" fill-rule=\"evenodd\" fill-opacity=\"1\" /><path clip-path=\"url(#clip720)\" d=\"M101.756 956.306 Q98.1447 956.306 96.316 959.87 Q94.5104 963.412 94.5104 970.542 Q94.5104 977.648 96.316 981.213 Q98.1447 984.755 101.756 984.755 Q105.39 984.755 107.196 981.213 Q109.024 977.648 109.024 970.542 Q109.024 963.412 107.196 959.87 Q105.39 956.306 101.756 956.306 M101.756 952.602 Q107.566 952.602 110.621 957.208 Q113.7 961.792 113.7 970.542 Q113.7 979.268 110.621 983.875 Q107.566 988.458 101.756 988.458 Q95.9456 988.458 92.8669 983.875 Q89.8114 979.268 89.8114 970.542 Q89.8114 961.792 92.8669 957.208 Q95.9456 952.602 101.756 952.602 Z\" fill=\"#000000\" fill-rule=\"evenodd\" fill-opacity=\"1\" /><path clip-path=\"url(#clip720)\" d=\"M121.918 981.907 L126.802 981.907 L126.802 987.787 L121.918 987.787 L121.918 981.907 Z\" fill=\"#000000\" fill-rule=\"evenodd\" fill-opacity=\"1\" /><path clip-path=\"url(#clip720)\" d=\"M141.015 983.852 L157.334 983.852 L157.334 987.787 L135.39 987.787 L135.39 983.852 Q138.052 981.097 142.635 976.468 Q147.242 971.815 148.422 970.472 Q150.668 967.949 151.547 966.213 Q152.45 964.454 152.45 962.764 Q152.45 960.009 150.505 958.273 Q148.584 956.537 145.482 956.537 Q143.283 956.537 140.83 957.301 Q138.399 958.065 135.621 959.616 L135.621 954.894 Q138.445 953.759 140.899 953.181 Q143.353 952.602 145.39 952.602 Q150.76 952.602 153.955 955.287 Q157.149 957.972 157.149 962.463 Q157.149 964.593 156.339 966.514 Q155.552 968.412 153.445 971.005 Q152.867 971.676 149.765 974.893 Q146.663 978.088 141.015 983.852 Z\" fill=\"#000000\" fill-rule=\"evenodd\" fill-opacity=\"1\" /><path clip-path=\"url(#clip720)\" d=\"M167.195 953.227 L185.552 953.227 L185.552 957.162 L171.478 957.162 L171.478 965.634 Q172.496 965.287 173.515 965.125 Q174.533 964.94 175.552 964.94 Q181.339 964.94 184.718 968.111 Q188.098 971.282 188.098 976.699 Q188.098 982.278 184.626 985.38 Q181.153 988.458 174.834 988.458 Q172.658 988.458 170.39 988.088 Q168.144 987.717 165.737 986.977 L165.737 982.278 Q167.82 983.412 170.042 983.967 Q172.265 984.523 174.741 984.523 Q178.746 984.523 181.084 982.417 Q183.422 980.31 183.422 976.699 Q183.422 973.088 181.084 970.981 Q178.746 968.875 174.741 968.875 Q172.866 968.875 170.991 969.292 Q169.14 969.708 167.195 970.588 L167.195 953.227 Z\" fill=\"#000000\" fill-rule=\"evenodd\" fill-opacity=\"1\" /><path clip-path=\"url(#clip720)\" d=\"M100.76 616.871 Q97.1493 616.871 95.3206 620.436 Q93.515 623.977 93.515 631.107 Q93.515 638.213 95.3206 641.778 Q97.1493 645.32 100.76 645.32 Q104.395 645.32 106.2 641.778 Q108.029 638.213 108.029 631.107 Q108.029 623.977 106.2 620.436 Q104.395 616.871 100.76 616.871 M100.76 613.167 Q106.571 613.167 109.626 617.774 Q112.705 622.357 112.705 631.107 Q112.705 639.834 109.626 644.44 Q106.571 649.023 100.76 649.023 Q94.9502 649.023 91.8715 644.44 Q88.816 639.834 88.816 631.107 Q88.816 622.357 91.8715 617.774 Q94.9502 613.167 100.76 613.167 Z\" fill=\"#000000\" fill-rule=\"evenodd\" fill-opacity=\"1\" /><path clip-path=\"url(#clip720)\" d=\"M120.922 642.472 L125.807 642.472 L125.807 648.352 L120.922 648.352 L120.922 642.472 Z\" fill=\"#000000\" fill-rule=\"evenodd\" fill-opacity=\"1\" /><path clip-path=\"url(#clip720)\" d=\"M145.992 616.871 Q142.381 616.871 140.552 620.436 Q138.746 623.977 138.746 631.107 Q138.746 638.213 140.552 641.778 Q142.381 645.32 145.992 645.32 Q149.626 645.32 151.431 641.778 Q153.26 638.213 153.26 631.107 Q153.26 623.977 151.431 620.436 Q149.626 616.871 145.992 616.871 M145.992 613.167 Q151.802 613.167 154.857 617.774 Q157.936 622.357 157.936 631.107 Q157.936 639.834 154.857 644.44 Q151.802 649.023 145.992 649.023 Q140.181 649.023 137.103 644.44 Q134.047 639.834 134.047 631.107 Q134.047 622.357 137.103 617.774 Q140.181 613.167 145.992 613.167 Z\" fill=\"#000000\" fill-rule=\"evenodd\" fill-opacity=\"1\" /><path clip-path=\"url(#clip720)\" d=\"M176.153 616.871 Q172.542 616.871 170.714 620.436 Q168.908 623.977 168.908 631.107 Q168.908 638.213 170.714 641.778 Q172.542 645.32 176.153 645.32 Q179.788 645.32 181.593 641.778 Q183.422 638.213 183.422 631.107 Q183.422 623.977 181.593 620.436 Q179.788 616.871 176.153 616.871 M176.153 613.167 Q181.964 613.167 185.019 617.774 Q188.098 622.357 188.098 631.107 Q188.098 639.834 185.019 644.44 Q181.964 649.023 176.153 649.023 Q170.343 649.023 167.265 644.44 Q164.209 639.834 164.209 631.107 Q164.209 622.357 167.265 617.774 Q170.343 613.167 176.153 613.167 Z\" fill=\"#000000\" fill-rule=\"evenodd\" fill-opacity=\"1\" /><path clip-path=\"url(#clip720)\" d=\"M101.756 277.436 Q98.1447 277.436 96.316 281.001 Q94.5104 284.542 94.5104 291.672 Q94.5104 298.778 96.316 302.343 Q98.1447 305.885 101.756 305.885 Q105.39 305.885 107.196 302.343 Q109.024 298.778 109.024 291.672 Q109.024 284.542 107.196 281.001 Q105.39 277.436 101.756 277.436 M101.756 273.732 Q107.566 273.732 110.621 278.339 Q113.7 282.922 113.7 291.672 Q113.7 300.399 110.621 305.005 Q107.566 309.588 101.756 309.588 Q95.9456 309.588 92.8669 305.005 Q89.8114 300.399 89.8114 291.672 Q89.8114 282.922 92.8669 278.339 Q95.9456 273.732 101.756 273.732 Z\" fill=\"#000000\" fill-rule=\"evenodd\" fill-opacity=\"1\" /><path clip-path=\"url(#clip720)\" d=\"M121.918 303.038 L126.802 303.038 L126.802 308.917 L121.918 308.917 L121.918 303.038 Z\" fill=\"#000000\" fill-rule=\"evenodd\" fill-opacity=\"1\" /><path clip-path=\"url(#clip720)\" d=\"M141.015 304.982 L157.334 304.982 L157.334 308.917 L135.39 308.917 L135.39 304.982 Q138.052 302.227 142.635 297.598 Q147.242 292.945 148.422 291.602 Q150.668 289.079 151.547 287.343 Q152.45 285.584 152.45 283.894 Q152.45 281.14 150.505 279.403 Q148.584 277.667 145.482 277.667 Q143.283 277.667 140.83 278.431 Q138.399 279.195 135.621 280.746 L135.621 276.024 Q138.445 274.89 140.899 274.311 Q143.353 273.732 145.39 273.732 Q150.76 273.732 153.955 276.417 Q157.149 279.103 157.149 283.593 Q157.149 285.723 156.339 287.644 Q155.552 289.542 153.445 292.135 Q152.867 292.806 149.765 296.024 Q146.663 299.218 141.015 304.982 Z\" fill=\"#000000\" fill-rule=\"evenodd\" fill-opacity=\"1\" /><path clip-path=\"url(#clip720)\" d=\"M167.195 274.357 L185.552 274.357 L185.552 278.292 L171.478 278.292 L171.478 286.765 Q172.496 286.417 173.515 286.255 Q174.533 286.07 175.552 286.07 Q181.339 286.07 184.718 289.241 Q188.098 292.413 188.098 297.829 Q188.098 303.408 184.626 306.51 Q181.153 309.588 174.834 309.588 Q172.658 309.588 170.39 309.218 Q168.144 308.848 165.737 308.107 L165.737 303.408 Q167.82 304.542 170.042 305.098 Q172.265 305.653 174.741 305.653 Q178.746 305.653 181.084 303.547 Q183.422 301.44 183.422 297.829 Q183.422 294.218 181.084 292.112 Q178.746 290.005 174.741 290.005 Q172.866 290.005 170.991 290.422 Q169.14 290.839 167.195 291.718 L167.195 274.357 Z\" fill=\"#000000\" fill-rule=\"evenodd\" fill-opacity=\"1\" /><circle clip-path=\"url(#clip722)\" cx=\"1288.43\" cy=\"1445.72\" r=\"14\" fill=\"#009af9\" fill-rule=\"evenodd\" fill-opacity=\"1\" stroke=\"#000000\" stroke-opacity=\"1\" stroke-width=\"3.2\"/>\n",
       "<circle clip-path=\"url(#clip722)\" cx=\"2292.51\" cy=\"631.072\" r=\"14\" fill=\"#009af9\" fill-rule=\"evenodd\" fill-opacity=\"1\" stroke=\"#000000\" stroke-opacity=\"1\" stroke-width=\"3.2\"/>\n",
       "<circle clip-path=\"url(#clip722)\" cx=\"1288.43\" cy=\"87.9763\" r=\"14\" fill=\"#009af9\" fill-rule=\"evenodd\" fill-opacity=\"1\" stroke=\"#000000\" stroke-opacity=\"1\" stroke-width=\"3.2\"/>\n",
       "<circle clip-path=\"url(#clip722)\" cx=\"284.343\" cy=\"631.072\" r=\"14\" fill=\"#009af9\" fill-rule=\"evenodd\" fill-opacity=\"1\" stroke=\"#000000\" stroke-opacity=\"1\" stroke-width=\"3.2\"/>\n",
       "</svg>\n"
      ]
     },
     "execution_count": 28,
     "metadata": {},
     "output_type": "execute_result"
    }
   ],
   "source": [
    "# Testing scatter()\n",
    "\n",
    "P.scatter()"
   ]
  },
  {
   "cell_type": "markdown",
   "metadata": {},
   "source": [
    "### Testing Minkowski Summation"
   ]
  },
  {
   "cell_type": "code",
   "execution_count": 29,
   "metadata": {},
   "outputs": [
    {
     "name": "stdout",
     "output_type": "stream",
     "text": [
      "Vertex[Vertex(Real[1.1, -0.09999999999999998])]\n"
     ]
    }
   ],
   "source": [
    "# n=1 and m=1\n",
    "\n",
    "P=Polygon([v1])\n",
    "Q=Polygon([u1])\n",
    "\n",
    "R = P+Q\n",
    "println(R.vertices)"
   ]
  },
  {
   "cell_type": "code",
   "execution_count": 30,
   "metadata": {},
   "outputs": [
    {
     "name": "stdout",
     "output_type": "stream",
     "text": [
      "Vertex[Vertex(Real[1.0, -0.5]), Vertex(Real[1.1, -0.09999999999999998])]\n"
     ]
    }
   ],
   "source": [
    "#n=1 m>1\n",
    "\n",
    "P=Polygon([v1])\n",
    "Q=Polygon([u1,u2])\n",
    "Q.sort()\n",
    "\n",
    "R = P+Q\n",
    "println(R.vertices)"
   ]
  },
  {
   "cell_type": "code",
   "execution_count": 31,
   "metadata": {},
   "outputs": [
    {
     "name": "stdout",
     "output_type": "stream",
     "text": [
      "Vertex[Vertex(Real[1.1, -0.09999999999999998]), Vertex(Real[0.0, 0.5])]\n"
     ]
    }
   ],
   "source": [
    "# n>1 m=1\n",
    "\n",
    "P=Polygon([v1,v2])\n",
    "Q=Polygon([u1])\n",
    "P.sort()\n",
    "\n",
    "R = P+Q\n",
    "println(R.vertices)"
   ]
  },
  {
   "cell_type": "code",
   "execution_count": 32,
   "metadata": {},
   "outputs": [
    {
     "name": "stdout",
     "output_type": "stream",
     "text": [
      "m=5 n=5\n",
      "angP= [0.49934672168013006, 2.677945044588987, 2.9441970937399122, 3.4903636571737002, 5.783838585499456, 100.0]\n",
      "angQ= [0.049958395721942765, 1.3258176636680323, 2.601173153319209, 3.6052402625905993, 4.71238898038469, 100.0]\n",
      "----- begin ----------\n",
      "R vertices: Vertex[Vertex(Real[-1.0, -0.6])]\n",
      "angQ[j] is minimal\n",
      "12\n",
      "R vertices: Vertex[Vertex(Real[-1.0, -0.6]), Vertex(Real[1.0, -0.5])]\n",
      "angP[i] is minimal\n",
      "22\n",
      "R vertices: Vertex[Vertex(Real[-1.0, -0.6]), Vertex(Real[1.0, -0.5]), Vertex(Real[2.1, 0.1])]\n",
      "angQ[j] is minimal\n",
      "23\n",
      "R vertices: Vertex[Vertex(Real[-1.0, -0.6]), Vertex(Real[1.0, -0.5]), Vertex(Real[2.1, 0.1]), Vertex(Real[2.2, 0.5])]\n",
      "angQ[j] is minimal\n",
      "24\n",
      "R vertices: Vertex[Vertex(Real[-1.0, -0.6]), Vertex(Real[1.0, -0.5]), Vertex(Real[2.1, 0.1]), Vertex(Real[2.2, 0.5]), Vertex(Real[1.2000000000000002, 1.1])]\n",
      "angP[i] is minimal\n",
      "34\n",
      "R vertices: Vertex[Vertex(Real[-1.0, -0.6]), Vertex(Real[1.0, -0.5]), Vertex(Real[2.1, 0.1]), Vertex(Real[2.2, 0.5]), Vertex(Real[1.2000000000000002, 1.1]), Vertex(Real[0.6, 1.4000000000000001])]\n",
      "angP[i] is minimal\n",
      "44\n",
      "R vertices: Vertex[Vertex(Real[-1.0, -0.6]), Vertex(Real[1.0, -0.5]), Vertex(Real[2.1, 0.1]), Vertex(Real[2.2, 0.5]), Vertex(Real[1.2000000000000002, 1.1]), Vertex(Real[0.6, 1.4000000000000001]), Vertex(Real[0.1, 1.5])]\n",
      "angP[i] is minimal\n",
      "54\n",
      "R vertices: Vertex[Vertex(Real[-1.0, -0.6]), Vertex(Real[1.0, -0.5]), Vertex(Real[2.1, 0.1]), Vertex(Real[2.2, 0.5]), Vertex(Real[1.2000000000000002, 1.1]), Vertex(Real[0.6, 1.4000000000000001]), Vertex(Real[0.1, 1.5]), Vertex(Real[-1.0, 1.1])]\n",
      "angQ[j] is minimal\n",
      "55\n",
      "R vertices: Vertex[Vertex(Real[-1.0, -0.6]), Vertex(Real[1.0, -0.5]), Vertex(Real[2.1, 0.1]), Vertex(Real[2.2, 0.5]), Vertex(Real[1.2000000000000002, 1.1]), Vertex(Real[0.6, 1.4000000000000001]), Vertex(Real[0.1, 1.5]), Vertex(Real[-1.0, 1.1]), Vertex(Real[-2.1, 0.55])]\n",
      "angQ[j] is minimal\n",
      "56\n",
      "R vertices: Vertex[Vertex(Real[-1.0, -0.6]), Vertex(Real[1.0, -0.5]), Vertex(Real[2.1, 0.1]), Vertex(Real[2.2, 0.5]), Vertex(Real[1.2000000000000002, 1.1]), Vertex(Real[0.6, 1.4000000000000001]), Vertex(Real[0.1, 1.5]), Vertex(Real[-1.0, 1.1]), Vertex(Real[-2.1, 0.55]), Vertex(Real[-2.1, 0.0])]\n",
      "angP[i] is minimal\n",
      "66\n",
      "R vertices: Vertex[Vertex(Real[-1.0, -0.6]), Vertex(Real[1.0, -0.5]), Vertex(Real[2.1, 0.1]), Vertex(Real[2.2, 0.5]), Vertex(Real[1.2000000000000002, 1.1]), Vertex(Real[0.6, 1.4000000000000001]), Vertex(Real[0.1, 1.5]), Vertex(Real[-1.0, 1.1]), Vertex(Real[-2.1, 0.55]), Vertex(Real[-2.1, 0.0]), Vertex(Real[-1.0, -0.6])]\n",
      "Vertex[Vertex(Real[-1.0, -0.6]), Vertex(Real[1.0, -0.5]), Vertex(Real[2.1, 0.1]), Vertex(Real[2.2, 0.5]), Vertex(Real[1.2000000000000002, 1.1]), Vertex(Real[0.6, 1.4000000000000001]), Vertex(Real[0.1, 1.5]), Vertex(Real[-1.0, 1.1]), Vertex(Real[-2.1, 0.55]), Vertex(Real[-2.1, 0.0]), Vertex(Real[-1.0, -0.6])]\n"
     ]
    }
   ],
   "source": [
    "# n>1 m>1\n",
    "\n",
    "P=Polygon([v1,v2,v3,v4,v5])\n",
    "Q = Polygon([u1,u2,u3,u4,u5])\n",
    "\n",
    "P.sort()\n",
    "Q.sort()\n",
    "\n",
    "R = P+Q\n",
    "println(R.vertices)"
   ]
  },
  {
   "cell_type": "code",
   "execution_count": 33,
   "metadata": {},
   "outputs": [
    {
     "data": {
      "image/svg+xml": [
       "<?xml version=\"1.0\" encoding=\"utf-8\"?>\n",
       "<svg xmlns=\"http://www.w3.org/2000/svg\" xmlns:xlink=\"http://www.w3.org/1999/xlink\" width=\"600\" height=\"400\" viewBox=\"0 0 2400 1600\">\n",
       "<defs>\n",
       "  <clipPath id=\"clip760\">\n",
       "    <rect x=\"0\" y=\"0\" width=\"2400\" height=\"1600\"/>\n",
       "  </clipPath>\n",
       "</defs>\n",
       "<path clip-path=\"url(#clip760)\" d=\"\n",
       "M0 1600 L2400 1600 L2400 0 L0 0  Z\n",
       "  \" fill=\"#ffffff\" fill-rule=\"evenodd\" fill-opacity=\"1\"/>\n",
       "<defs>\n",
       "  <clipPath id=\"clip761\">\n",
       "    <rect x=\"480\" y=\"0\" width=\"1681\" height=\"1600\"/>\n",
       "  </clipPath>\n",
       "</defs>\n",
       "<path clip-path=\"url(#clip760)\" d=\"\n",
       "M192.941 1486.45 L2352.76 1486.45 L2352.76 47.2441 L192.941 47.2441  Z\n",
       "  \" fill=\"#ffffff\" fill-rule=\"evenodd\" fill-opacity=\"1\"/>\n",
       "<defs>\n",
       "  <clipPath id=\"clip762\">\n",
       "    <rect x=\"192\" y=\"47\" width=\"2161\" height=\"1440\"/>\n",
       "  </clipPath>\n",
       "</defs>\n",
       "<polyline clip-path=\"url(#clip762)\" style=\"stroke:#000000; stroke-linecap:butt; stroke-linejoin:round; stroke-width:2; stroke-opacity:0.1; fill:none\" points=\"\n",
       "  301.453,1486.45 301.453,47.2441 \n",
       "  \"/>\n",
       "<polyline clip-path=\"url(#clip762)\" style=\"stroke:#000000; stroke-linecap:butt; stroke-linejoin:round; stroke-width:2; stroke-opacity:0.1; fill:none\" points=\"\n",
       "  775.304,1486.45 775.304,47.2441 \n",
       "  \"/>\n",
       "<polyline clip-path=\"url(#clip762)\" style=\"stroke:#000000; stroke-linecap:butt; stroke-linejoin:round; stroke-width:2; stroke-opacity:0.1; fill:none\" points=\"\n",
       "  1249.16,1486.45 1249.16,47.2441 \n",
       "  \"/>\n",
       "<polyline clip-path=\"url(#clip762)\" style=\"stroke:#000000; stroke-linecap:butt; stroke-linejoin:round; stroke-width:2; stroke-opacity:0.1; fill:none\" points=\"\n",
       "  1723.01,1486.45 1723.01,47.2441 \n",
       "  \"/>\n",
       "<polyline clip-path=\"url(#clip762)\" style=\"stroke:#000000; stroke-linecap:butt; stroke-linejoin:round; stroke-width:2; stroke-opacity:0.1; fill:none\" points=\"\n",
       "  2196.86,1486.45 2196.86,47.2441 \n",
       "  \"/>\n",
       "<polyline clip-path=\"url(#clip760)\" style=\"stroke:#000000; stroke-linecap:butt; stroke-linejoin:round; stroke-width:4; stroke-opacity:1; fill:none\" points=\"\n",
       "  192.941,1486.45 2352.76,1486.45 \n",
       "  \"/>\n",
       "<polyline clip-path=\"url(#clip760)\" style=\"stroke:#000000; stroke-linecap:butt; stroke-linejoin:round; stroke-width:4; stroke-opacity:1; fill:none\" points=\"\n",
       "  301.453,1486.45 301.453,1467.55 \n",
       "  \"/>\n",
       "<polyline clip-path=\"url(#clip760)\" style=\"stroke:#000000; stroke-linecap:butt; stroke-linejoin:round; stroke-width:4; stroke-opacity:1; fill:none\" points=\"\n",
       "  775.304,1486.45 775.304,1467.55 \n",
       "  \"/>\n",
       "<polyline clip-path=\"url(#clip760)\" style=\"stroke:#000000; stroke-linecap:butt; stroke-linejoin:round; stroke-width:4; stroke-opacity:1; fill:none\" points=\"\n",
       "  1249.16,1486.45 1249.16,1467.55 \n",
       "  \"/>\n",
       "<polyline clip-path=\"url(#clip760)\" style=\"stroke:#000000; stroke-linecap:butt; stroke-linejoin:round; stroke-width:4; stroke-opacity:1; fill:none\" points=\"\n",
       "  1723.01,1486.45 1723.01,1467.55 \n",
       "  \"/>\n",
       "<polyline clip-path=\"url(#clip760)\" style=\"stroke:#000000; stroke-linecap:butt; stroke-linejoin:round; stroke-width:4; stroke-opacity:1; fill:none\" points=\"\n",
       "  2196.86,1486.45 2196.86,1467.55 \n",
       "  \"/>\n",
       "<path clip-path=\"url(#clip760)\" d=\"M271.395 1532.02 L301.071 1532.02 L301.071 1535.95 L271.395 1535.95 L271.395 1532.02 Z\" fill=\"#000000\" fill-rule=\"evenodd\" fill-opacity=\"1\" /><path clip-path=\"url(#clip760)\" d=\"M315.191 1544.91 L331.51 1544.91 L331.51 1548.85 L309.566 1548.85 L309.566 1544.91 Q312.228 1542.16 316.811 1537.53 Q321.418 1532.88 322.598 1531.53 Q324.844 1529.01 325.723 1527.27 Q326.626 1525.51 326.626 1523.82 Q326.626 1521.07 324.682 1519.33 Q322.76 1517.6 319.659 1517.6 Q317.459 1517.6 315.006 1518.36 Q312.575 1519.13 309.797 1520.68 L309.797 1515.95 Q312.622 1514.82 315.075 1514.24 Q317.529 1513.66 319.566 1513.66 Q324.936 1513.66 328.131 1516.35 Q331.325 1519.03 331.325 1523.52 Q331.325 1525.65 330.515 1527.57 Q329.728 1529.47 327.621 1532.07 Q327.043 1532.74 323.941 1535.95 Q320.839 1539.15 315.191 1544.91 Z\" fill=\"#000000\" fill-rule=\"evenodd\" fill-opacity=\"1\" /><path clip-path=\"url(#clip760)\" d=\"M745.061 1532.02 L774.737 1532.02 L774.737 1535.95 L745.061 1535.95 L745.061 1532.02 Z\" fill=\"#000000\" fill-rule=\"evenodd\" fill-opacity=\"1\" /><path clip-path=\"url(#clip760)\" d=\"M785.64 1544.91 L793.279 1544.91 L793.279 1518.55 L784.968 1520.21 L784.968 1515.95 L793.232 1514.29 L797.908 1514.29 L797.908 1544.91 L805.547 1544.91 L805.547 1548.85 L785.64 1548.85 L785.64 1544.91 Z\" fill=\"#000000\" fill-rule=\"evenodd\" fill-opacity=\"1\" /><path clip-path=\"url(#clip760)\" d=\"M1249.16 1517.37 Q1245.54 1517.37 1243.72 1520.93 Q1241.91 1524.47 1241.91 1531.6 Q1241.91 1538.71 1243.72 1542.27 Q1245.54 1545.82 1249.16 1545.82 Q1252.79 1545.82 1254.6 1542.27 Q1256.42 1538.71 1256.42 1531.6 Q1256.42 1524.47 1254.6 1520.93 Q1252.79 1517.37 1249.16 1517.37 M1249.16 1513.66 Q1254.97 1513.66 1258.02 1518.27 Q1261.1 1522.85 1261.1 1531.6 Q1261.1 1540.33 1258.02 1544.94 Q1254.97 1549.52 1249.16 1549.52 Q1243.35 1549.52 1240.27 1544.94 Q1237.21 1540.33 1237.21 1531.6 Q1237.21 1522.85 1240.27 1518.27 Q1243.35 1513.66 1249.16 1513.66 Z\" fill=\"#000000\" fill-rule=\"evenodd\" fill-opacity=\"1\" /><path clip-path=\"url(#clip760)\" d=\"M1713.39 1544.91 L1721.03 1544.91 L1721.03 1518.55 L1712.72 1520.21 L1712.72 1515.95 L1720.98 1514.29 L1725.66 1514.29 L1725.66 1544.91 L1733.3 1544.91 L1733.3 1548.85 L1713.39 1548.85 L1713.39 1544.91 Z\" fill=\"#000000\" fill-rule=\"evenodd\" fill-opacity=\"1\" /><path clip-path=\"url(#clip760)\" d=\"M2191.51 1544.91 L2207.83 1544.91 L2207.83 1548.85 L2185.89 1548.85 L2185.89 1544.91 Q2188.55 1542.16 2193.13 1537.53 Q2197.74 1532.88 2198.92 1531.53 Q2201.16 1529.01 2202.04 1527.27 Q2202.95 1525.51 2202.95 1523.82 Q2202.95 1521.07 2201 1519.33 Q2199.08 1517.6 2195.98 1517.6 Q2193.78 1517.6 2191.33 1518.36 Q2188.9 1519.13 2186.12 1520.68 L2186.12 1515.95 Q2188.94 1514.82 2191.4 1514.24 Q2193.85 1513.66 2195.89 1513.66 Q2201.26 1513.66 2204.45 1516.35 Q2207.65 1519.03 2207.65 1523.52 Q2207.65 1525.65 2206.84 1527.57 Q2206.05 1529.47 2203.94 1532.07 Q2203.36 1532.74 2200.26 1535.95 Q2197.16 1539.15 2191.51 1544.91 Z\" fill=\"#000000\" fill-rule=\"evenodd\" fill-opacity=\"1\" /><polyline clip-path=\"url(#clip762)\" style=\"stroke:#000000; stroke-linecap:butt; stroke-linejoin:round; stroke-width:2; stroke-opacity:0.1; fill:none\" points=\"\n",
       "  192.941,1381.06 2352.76,1381.06 \n",
       "  \"/>\n",
       "<polyline clip-path=\"url(#clip762)\" style=\"stroke:#000000; stroke-linecap:butt; stroke-linejoin:round; stroke-width:2; stroke-opacity:0.1; fill:none\" points=\"\n",
       "  192.941,1057.79 2352.76,1057.79 \n",
       "  \"/>\n",
       "<polyline clip-path=\"url(#clip762)\" style=\"stroke:#000000; stroke-linecap:butt; stroke-linejoin:round; stroke-width:2; stroke-opacity:0.1; fill:none\" points=\"\n",
       "  192.941,734.519 2352.76,734.519 \n",
       "  \"/>\n",
       "<polyline clip-path=\"url(#clip762)\" style=\"stroke:#000000; stroke-linecap:butt; stroke-linejoin:round; stroke-width:2; stroke-opacity:0.1; fill:none\" points=\"\n",
       "  192.941,411.248 2352.76,411.248 \n",
       "  \"/>\n",
       "<polyline clip-path=\"url(#clip762)\" style=\"stroke:#000000; stroke-linecap:butt; stroke-linejoin:round; stroke-width:2; stroke-opacity:0.1; fill:none\" points=\"\n",
       "  192.941,87.9763 2352.76,87.9763 \n",
       "  \"/>\n",
       "<polyline clip-path=\"url(#clip760)\" style=\"stroke:#000000; stroke-linecap:butt; stroke-linejoin:round; stroke-width:4; stroke-opacity:1; fill:none\" points=\"\n",
       "  192.941,1486.45 192.941,47.2441 \n",
       "  \"/>\n",
       "<polyline clip-path=\"url(#clip760)\" style=\"stroke:#000000; stroke-linecap:butt; stroke-linejoin:round; stroke-width:4; stroke-opacity:1; fill:none\" points=\"\n",
       "  192.941,1381.06 211.838,1381.06 \n",
       "  \"/>\n",
       "<polyline clip-path=\"url(#clip760)\" style=\"stroke:#000000; stroke-linecap:butt; stroke-linejoin:round; stroke-width:4; stroke-opacity:1; fill:none\" points=\"\n",
       "  192.941,1057.79 211.838,1057.79 \n",
       "  \"/>\n",
       "<polyline clip-path=\"url(#clip760)\" style=\"stroke:#000000; stroke-linecap:butt; stroke-linejoin:round; stroke-width:4; stroke-opacity:1; fill:none\" points=\"\n",
       "  192.941,734.519 211.838,734.519 \n",
       "  \"/>\n",
       "<polyline clip-path=\"url(#clip760)\" style=\"stroke:#000000; stroke-linecap:butt; stroke-linejoin:round; stroke-width:4; stroke-opacity:1; fill:none\" points=\"\n",
       "  192.941,411.248 211.838,411.248 \n",
       "  \"/>\n",
       "<polyline clip-path=\"url(#clip760)\" style=\"stroke:#000000; stroke-linecap:butt; stroke-linejoin:round; stroke-width:4; stroke-opacity:1; fill:none\" points=\"\n",
       "  192.941,87.9763 211.838,87.9763 \n",
       "  \"/>\n",
       "<path clip-path=\"url(#clip760)\" d=\"M50.9921 1381.51 L80.6679 1381.51 L80.6679 1385.45 L50.9921 1385.45 L50.9921 1381.51 Z\" fill=\"#000000\" fill-rule=\"evenodd\" fill-opacity=\"1\" /><path clip-path=\"url(#clip760)\" d=\"M100.76 1366.86 Q97.1493 1366.86 95.3206 1370.42 Q93.515 1373.97 93.515 1381.1 Q93.515 1388.2 95.3206 1391.77 Q97.1493 1395.31 100.76 1395.31 Q104.395 1395.31 106.2 1391.77 Q108.029 1388.2 108.029 1381.1 Q108.029 1373.97 106.2 1370.42 Q104.395 1366.86 100.76 1366.86 M100.76 1363.16 Q106.571 1363.16 109.626 1367.76 Q112.705 1372.35 112.705 1381.1 Q112.705 1389.82 109.626 1394.43 Q106.571 1399.01 100.76 1399.01 Q94.9502 1399.01 91.8715 1394.43 Q88.816 1389.82 88.816 1381.1 Q88.816 1372.35 91.8715 1367.76 Q94.9502 1363.16 100.76 1363.16 Z\" fill=\"#000000\" fill-rule=\"evenodd\" fill-opacity=\"1\" /><path clip-path=\"url(#clip760)\" d=\"M120.922 1392.46 L125.807 1392.46 L125.807 1398.34 L120.922 1398.34 L120.922 1392.46 Z\" fill=\"#000000\" fill-rule=\"evenodd\" fill-opacity=\"1\" /><path clip-path=\"url(#clip760)\" d=\"M136.038 1363.78 L154.394 1363.78 L154.394 1367.72 L140.32 1367.72 L140.32 1376.19 Q141.339 1375.84 142.357 1375.68 Q143.376 1375.49 144.394 1375.49 Q150.181 1375.49 153.561 1378.67 Q156.941 1381.84 156.941 1387.25 Q156.941 1392.83 153.468 1395.93 Q149.996 1399.01 143.677 1399.01 Q141.501 1399.01 139.232 1398.64 Q136.987 1398.27 134.58 1397.53 L134.58 1392.83 Q136.663 1393.97 138.885 1394.52 Q141.107 1395.08 143.584 1395.08 Q147.589 1395.08 149.927 1392.97 Q152.265 1390.86 152.265 1387.25 Q152.265 1383.64 149.927 1381.54 Q147.589 1379.43 143.584 1379.43 Q141.709 1379.43 139.834 1379.85 Q137.982 1380.26 136.038 1381.14 L136.038 1363.78 Z\" fill=\"#000000\" fill-rule=\"evenodd\" fill-opacity=\"1\" /><path clip-path=\"url(#clip760)\" d=\"M99.765 1043.59 Q96.1539 1043.59 94.3252 1047.15 Q92.5197 1050.7 92.5197 1057.82 Q92.5197 1064.93 94.3252 1068.5 Q96.1539 1072.04 99.765 1072.04 Q103.399 1072.04 105.205 1068.5 Q107.033 1064.93 107.033 1057.82 Q107.033 1050.7 105.205 1047.15 Q103.399 1043.59 99.765 1043.59 M99.765 1039.89 Q105.575 1039.89 108.631 1044.49 Q111.709 1049.07 111.709 1057.82 Q111.709 1066.55 108.631 1071.16 Q105.575 1075.74 99.765 1075.74 Q93.9549 1075.74 90.8762 1071.16 Q87.8206 1066.55 87.8206 1057.82 Q87.8206 1049.07 90.8762 1044.49 Q93.9549 1039.89 99.765 1039.89 Z\" fill=\"#000000\" fill-rule=\"evenodd\" fill-opacity=\"1\" /><path clip-path=\"url(#clip760)\" d=\"M119.927 1069.19 L124.811 1069.19 L124.811 1075.07 L119.927 1075.07 L119.927 1069.19 Z\" fill=\"#000000\" fill-rule=\"evenodd\" fill-opacity=\"1\" /><path clip-path=\"url(#clip760)\" d=\"M144.996 1043.59 Q141.385 1043.59 139.556 1047.15 Q137.751 1050.7 137.751 1057.82 Q137.751 1064.93 139.556 1068.5 Q141.385 1072.04 144.996 1072.04 Q148.63 1072.04 150.436 1068.5 Q152.265 1064.93 152.265 1057.82 Q152.265 1050.7 150.436 1047.15 Q148.63 1043.59 144.996 1043.59 M144.996 1039.89 Q150.806 1039.89 153.862 1044.49 Q156.941 1049.07 156.941 1057.82 Q156.941 1066.55 153.862 1071.16 Q150.806 1075.74 144.996 1075.74 Q139.186 1075.74 136.107 1071.16 Q133.052 1066.55 133.052 1057.82 Q133.052 1049.07 136.107 1044.49 Q139.186 1039.89 144.996 1039.89 Z\" fill=\"#000000\" fill-rule=\"evenodd\" fill-opacity=\"1\" /><path clip-path=\"url(#clip760)\" d=\"M100.76 720.318 Q97.1493 720.318 95.3206 723.882 Q93.515 727.424 93.515 734.554 Q93.515 741.66 95.3206 745.225 Q97.1493 748.766 100.76 748.766 Q104.395 748.766 106.2 745.225 Q108.029 741.66 108.029 734.554 Q108.029 727.424 106.2 723.882 Q104.395 720.318 100.76 720.318 M100.76 716.614 Q106.571 716.614 109.626 721.22 Q112.705 725.804 112.705 734.554 Q112.705 743.28 109.626 747.887 Q106.571 752.47 100.76 752.47 Q94.9502 752.47 91.8715 747.887 Q88.816 743.28 88.816 734.554 Q88.816 725.804 91.8715 721.22 Q94.9502 716.614 100.76 716.614 Z\" fill=\"#000000\" fill-rule=\"evenodd\" fill-opacity=\"1\" /><path clip-path=\"url(#clip760)\" d=\"M120.922 745.919 L125.807 745.919 L125.807 751.799 L120.922 751.799 L120.922 745.919 Z\" fill=\"#000000\" fill-rule=\"evenodd\" fill-opacity=\"1\" /><path clip-path=\"url(#clip760)\" d=\"M136.038 717.239 L154.394 717.239 L154.394 721.174 L140.32 721.174 L140.32 729.646 Q141.339 729.299 142.357 729.137 Q143.376 728.952 144.394 728.952 Q150.181 728.952 153.561 732.123 Q156.941 735.294 156.941 740.711 Q156.941 746.29 153.468 749.391 Q149.996 752.47 143.677 752.47 Q141.501 752.47 139.232 752.1 Q136.987 751.729 134.58 750.989 L134.58 746.29 Q136.663 747.424 138.885 747.979 Q141.107 748.535 143.584 748.535 Q147.589 748.535 149.927 746.429 Q152.265 744.322 152.265 740.711 Q152.265 737.1 149.927 734.993 Q147.589 732.887 143.584 732.887 Q141.709 732.887 139.834 733.304 Q137.982 733.72 136.038 734.6 L136.038 717.239 Z\" fill=\"#000000\" fill-rule=\"evenodd\" fill-opacity=\"1\" /><path clip-path=\"url(#clip760)\" d=\"M90.5752 424.592 L98.2141 424.592 L98.2141 398.227 L89.904 399.893 L89.904 395.634 L98.1678 393.968 L102.844 393.968 L102.844 424.592 L110.483 424.592 L110.483 428.528 L90.5752 428.528 L90.5752 424.592 Z\" fill=\"#000000\" fill-rule=\"evenodd\" fill-opacity=\"1\" /><path clip-path=\"url(#clip760)\" d=\"M119.927 422.648 L124.811 422.648 L124.811 428.528 L119.927 428.528 L119.927 422.648 Z\" fill=\"#000000\" fill-rule=\"evenodd\" fill-opacity=\"1\" /><path clip-path=\"url(#clip760)\" d=\"M144.996 397.046 Q141.385 397.046 139.556 400.611 Q137.751 404.153 137.751 411.282 Q137.751 418.389 139.556 421.954 Q141.385 425.495 144.996 425.495 Q148.63 425.495 150.436 421.954 Q152.265 418.389 152.265 411.282 Q152.265 404.153 150.436 400.611 Q148.63 397.046 144.996 397.046 M144.996 393.343 Q150.806 393.343 153.862 397.949 Q156.941 402.532 156.941 411.282 Q156.941 420.009 153.862 424.616 Q150.806 429.199 144.996 429.199 Q139.186 429.199 136.107 424.616 Q133.052 420.009 133.052 411.282 Q133.052 402.532 136.107 397.949 Q139.186 393.343 144.996 393.343 Z\" fill=\"#000000\" fill-rule=\"evenodd\" fill-opacity=\"1\" /><path clip-path=\"url(#clip760)\" d=\"M91.5706 101.321 L99.2095 101.321 L99.2095 74.9555 L90.8993 76.6222 L90.8993 72.3629 L99.1632 70.6963 L103.839 70.6963 L103.839 101.321 L111.478 101.321 L111.478 105.256 L91.5706 105.256 L91.5706 101.321 Z\" fill=\"#000000\" fill-rule=\"evenodd\" fill-opacity=\"1\" /><path clip-path=\"url(#clip760)\" d=\"M120.922 99.3767 L125.807 99.3767 L125.807 105.256 L120.922 105.256 L120.922 99.3767 Z\" fill=\"#000000\" fill-rule=\"evenodd\" fill-opacity=\"1\" /><path clip-path=\"url(#clip760)\" d=\"M136.038 70.6963 L154.394 70.6963 L154.394 74.6314 L140.32 74.6314 L140.32 83.1036 Q141.339 82.7564 142.357 82.5944 Q143.376 82.4092 144.394 82.4092 Q150.181 82.4092 153.561 85.5805 Q156.941 88.7517 156.941 94.1684 Q156.941 99.747 153.468 102.849 Q149.996 105.928 143.677 105.928 Q141.501 105.928 139.232 105.557 Q136.987 105.187 134.58 104.446 L134.58 99.747 Q136.663 100.881 138.885 101.437 Q141.107 101.992 143.584 101.992 Q147.589 101.992 149.927 99.8859 Q152.265 97.7795 152.265 94.1684 Q152.265 90.5573 149.927 88.4508 Q147.589 86.3443 143.584 86.3443 Q141.709 86.3443 139.834 86.761 Q137.982 87.1777 136.038 88.0573 L136.038 70.6963 Z\" fill=\"#000000\" fill-rule=\"evenodd\" fill-opacity=\"1\" /><path clip-path=\"url(#clip762)\" d=\"\n",
       "M775.304 1445.72 L775.304 1445.72 L1723.01 1381.06 L2244.24 993.136 L2291.63 734.519 L1817.78 346.593 L1533.47 152.631 L1296.54 87.9763 L775.304 346.593 L254.067 702.192 \n",
       "  L254.067 1057.79 L775.304 1445.72 L775.304 1057.79 L254.067 1057.79 L254.067 1057.79 L775.304 1057.79 L1296.54 1057.79 L1533.47 1057.79 L1817.78 1057.79 L2291.63 1057.79 \n",
       "  L2244.24 1057.79 L1723.01 1057.79 L775.304 1057.79 L775.304 1057.79  Z\n",
       "  \" fill=\"#009af9\" fill-rule=\"evenodd\" fill-opacity=\"1\"/>\n",
       "<polyline clip-path=\"url(#clip762)\" style=\"stroke:#009af9; stroke-linecap:butt; stroke-linejoin:round; stroke-width:4; stroke-opacity:1; fill:none\" points=\"\n",
       "  775.304,1445.72 775.304,1445.72 1723.01,1381.06 2244.24,993.136 2291.63,734.519 1817.78,346.593 1533.47,152.631 1296.54,87.9763 775.304,346.593 254.067,702.192 \n",
       "  254.067,1057.79 775.304,1445.72 \n",
       "  \"/>\n",
       "</svg>\n"
      ]
     },
     "execution_count": 33,
     "metadata": {},
     "output_type": "execute_result"
    }
   ],
   "source": [
    "R.sort();\n",
    "R.plot()"
   ]
  },
  {
   "cell_type": "code",
   "execution_count": 34,
   "metadata": {},
   "outputs": [
    {
     "data": {
      "image/svg+xml": [
       "<?xml version=\"1.0\" encoding=\"utf-8\"?>\n",
       "<svg xmlns=\"http://www.w3.org/2000/svg\" xmlns:xlink=\"http://www.w3.org/1999/xlink\" width=\"600\" height=\"400\" viewBox=\"0 0 2400 1600\">\n",
       "<defs>\n",
       "  <clipPath id=\"clip800\">\n",
       "    <rect x=\"0\" y=\"0\" width=\"2400\" height=\"1600\"/>\n",
       "  </clipPath>\n",
       "</defs>\n",
       "<path clip-path=\"url(#clip800)\" d=\"\n",
       "M0 1600 L2400 1600 L2400 0 L0 0  Z\n",
       "  \" fill=\"#ffffff\" fill-rule=\"evenodd\" fill-opacity=\"1\"/>\n",
       "<defs>\n",
       "  <clipPath id=\"clip801\">\n",
       "    <rect x=\"480\" y=\"0\" width=\"1681\" height=\"1600\"/>\n",
       "  </clipPath>\n",
       "</defs>\n",
       "<path clip-path=\"url(#clip800)\" d=\"\n",
       "M192.941 1486.45 L2352.76 1486.45 L2352.76 47.2441 L192.941 47.2441  Z\n",
       "  \" fill=\"#ffffff\" fill-rule=\"evenodd\" fill-opacity=\"1\"/>\n",
       "<defs>\n",
       "  <clipPath id=\"clip802\">\n",
       "    <rect x=\"192\" y=\"47\" width=\"2161\" height=\"1440\"/>\n",
       "  </clipPath>\n",
       "</defs>\n",
       "<polyline clip-path=\"url(#clip802)\" style=\"stroke:#000000; stroke-linecap:butt; stroke-linejoin:round; stroke-width:2; stroke-opacity:0.1; fill:none\" points=\"\n",
       "  301.453,1486.45 301.453,47.2441 \n",
       "  \"/>\n",
       "<polyline clip-path=\"url(#clip802)\" style=\"stroke:#000000; stroke-linecap:butt; stroke-linejoin:round; stroke-width:2; stroke-opacity:0.1; fill:none\" points=\"\n",
       "  775.304,1486.45 775.304,47.2441 \n",
       "  \"/>\n",
       "<polyline clip-path=\"url(#clip802)\" style=\"stroke:#000000; stroke-linecap:butt; stroke-linejoin:round; stroke-width:2; stroke-opacity:0.1; fill:none\" points=\"\n",
       "  1249.16,1486.45 1249.16,47.2441 \n",
       "  \"/>\n",
       "<polyline clip-path=\"url(#clip802)\" style=\"stroke:#000000; stroke-linecap:butt; stroke-linejoin:round; stroke-width:2; stroke-opacity:0.1; fill:none\" points=\"\n",
       "  1723.01,1486.45 1723.01,47.2441 \n",
       "  \"/>\n",
       "<polyline clip-path=\"url(#clip802)\" style=\"stroke:#000000; stroke-linecap:butt; stroke-linejoin:round; stroke-width:2; stroke-opacity:0.1; fill:none\" points=\"\n",
       "  2196.86,1486.45 2196.86,47.2441 \n",
       "  \"/>\n",
       "<polyline clip-path=\"url(#clip800)\" style=\"stroke:#000000; stroke-linecap:butt; stroke-linejoin:round; stroke-width:4; stroke-opacity:1; fill:none\" points=\"\n",
       "  192.941,1486.45 2352.76,1486.45 \n",
       "  \"/>\n",
       "<polyline clip-path=\"url(#clip800)\" style=\"stroke:#000000; stroke-linecap:butt; stroke-linejoin:round; stroke-width:4; stroke-opacity:1; fill:none\" points=\"\n",
       "  301.453,1486.45 301.453,1467.55 \n",
       "  \"/>\n",
       "<polyline clip-path=\"url(#clip800)\" style=\"stroke:#000000; stroke-linecap:butt; stroke-linejoin:round; stroke-width:4; stroke-opacity:1; fill:none\" points=\"\n",
       "  775.304,1486.45 775.304,1467.55 \n",
       "  \"/>\n",
       "<polyline clip-path=\"url(#clip800)\" style=\"stroke:#000000; stroke-linecap:butt; stroke-linejoin:round; stroke-width:4; stroke-opacity:1; fill:none\" points=\"\n",
       "  1249.16,1486.45 1249.16,1467.55 \n",
       "  \"/>\n",
       "<polyline clip-path=\"url(#clip800)\" style=\"stroke:#000000; stroke-linecap:butt; stroke-linejoin:round; stroke-width:4; stroke-opacity:1; fill:none\" points=\"\n",
       "  1723.01,1486.45 1723.01,1467.55 \n",
       "  \"/>\n",
       "<polyline clip-path=\"url(#clip800)\" style=\"stroke:#000000; stroke-linecap:butt; stroke-linejoin:round; stroke-width:4; stroke-opacity:1; fill:none\" points=\"\n",
       "  2196.86,1486.45 2196.86,1467.55 \n",
       "  \"/>\n",
       "<path clip-path=\"url(#clip800)\" d=\"M271.395 1532.02 L301.071 1532.02 L301.071 1535.95 L271.395 1535.95 L271.395 1532.02 Z\" fill=\"#000000\" fill-rule=\"evenodd\" fill-opacity=\"1\" /><path clip-path=\"url(#clip800)\" d=\"M315.191 1544.91 L331.51 1544.91 L331.51 1548.85 L309.566 1548.85 L309.566 1544.91 Q312.228 1542.16 316.811 1537.53 Q321.418 1532.88 322.598 1531.53 Q324.844 1529.01 325.723 1527.27 Q326.626 1525.51 326.626 1523.82 Q326.626 1521.07 324.682 1519.33 Q322.76 1517.6 319.659 1517.6 Q317.459 1517.6 315.006 1518.36 Q312.575 1519.13 309.797 1520.68 L309.797 1515.95 Q312.622 1514.82 315.075 1514.24 Q317.529 1513.66 319.566 1513.66 Q324.936 1513.66 328.131 1516.35 Q331.325 1519.03 331.325 1523.52 Q331.325 1525.65 330.515 1527.57 Q329.728 1529.47 327.621 1532.07 Q327.043 1532.74 323.941 1535.95 Q320.839 1539.15 315.191 1544.91 Z\" fill=\"#000000\" fill-rule=\"evenodd\" fill-opacity=\"1\" /><path clip-path=\"url(#clip800)\" d=\"M745.061 1532.02 L774.737 1532.02 L774.737 1535.95 L745.061 1535.95 L745.061 1532.02 Z\" fill=\"#000000\" fill-rule=\"evenodd\" fill-opacity=\"1\" /><path clip-path=\"url(#clip800)\" d=\"M785.64 1544.91 L793.279 1544.91 L793.279 1518.55 L784.968 1520.21 L784.968 1515.95 L793.232 1514.29 L797.908 1514.29 L797.908 1544.91 L805.547 1544.91 L805.547 1548.85 L785.64 1548.85 L785.64 1544.91 Z\" fill=\"#000000\" fill-rule=\"evenodd\" fill-opacity=\"1\" /><path clip-path=\"url(#clip800)\" d=\"M1249.16 1517.37 Q1245.54 1517.37 1243.72 1520.93 Q1241.91 1524.47 1241.91 1531.6 Q1241.91 1538.71 1243.72 1542.27 Q1245.54 1545.82 1249.16 1545.82 Q1252.79 1545.82 1254.6 1542.27 Q1256.42 1538.71 1256.42 1531.6 Q1256.42 1524.47 1254.6 1520.93 Q1252.79 1517.37 1249.16 1517.37 M1249.16 1513.66 Q1254.97 1513.66 1258.02 1518.27 Q1261.1 1522.85 1261.1 1531.6 Q1261.1 1540.33 1258.02 1544.94 Q1254.97 1549.52 1249.16 1549.52 Q1243.35 1549.52 1240.27 1544.94 Q1237.21 1540.33 1237.21 1531.6 Q1237.21 1522.85 1240.27 1518.27 Q1243.35 1513.66 1249.16 1513.66 Z\" fill=\"#000000\" fill-rule=\"evenodd\" fill-opacity=\"1\" /><path clip-path=\"url(#clip800)\" d=\"M1713.39 1544.91 L1721.03 1544.91 L1721.03 1518.55 L1712.72 1520.21 L1712.72 1515.95 L1720.98 1514.29 L1725.66 1514.29 L1725.66 1544.91 L1733.3 1544.91 L1733.3 1548.85 L1713.39 1548.85 L1713.39 1544.91 Z\" fill=\"#000000\" fill-rule=\"evenodd\" fill-opacity=\"1\" /><path clip-path=\"url(#clip800)\" d=\"M2191.51 1544.91 L2207.83 1544.91 L2207.83 1548.85 L2185.89 1548.85 L2185.89 1544.91 Q2188.55 1542.16 2193.13 1537.53 Q2197.74 1532.88 2198.92 1531.53 Q2201.16 1529.01 2202.04 1527.27 Q2202.95 1525.51 2202.95 1523.82 Q2202.95 1521.07 2201 1519.33 Q2199.08 1517.6 2195.98 1517.6 Q2193.78 1517.6 2191.33 1518.36 Q2188.9 1519.13 2186.12 1520.68 L2186.12 1515.95 Q2188.94 1514.82 2191.4 1514.24 Q2193.85 1513.66 2195.89 1513.66 Q2201.26 1513.66 2204.45 1516.35 Q2207.65 1519.03 2207.65 1523.52 Q2207.65 1525.65 2206.84 1527.57 Q2206.05 1529.47 2203.94 1532.07 Q2203.36 1532.74 2200.26 1535.95 Q2197.16 1539.15 2191.51 1544.91 Z\" fill=\"#000000\" fill-rule=\"evenodd\" fill-opacity=\"1\" /><polyline clip-path=\"url(#clip802)\" style=\"stroke:#000000; stroke-linecap:butt; stroke-linejoin:round; stroke-width:2; stroke-opacity:0.1; fill:none\" points=\"\n",
       "  192.941,1381.06 2352.76,1381.06 \n",
       "  \"/>\n",
       "<polyline clip-path=\"url(#clip802)\" style=\"stroke:#000000; stroke-linecap:butt; stroke-linejoin:round; stroke-width:2; stroke-opacity:0.1; fill:none\" points=\"\n",
       "  192.941,1057.79 2352.76,1057.79 \n",
       "  \"/>\n",
       "<polyline clip-path=\"url(#clip802)\" style=\"stroke:#000000; stroke-linecap:butt; stroke-linejoin:round; stroke-width:2; stroke-opacity:0.1; fill:none\" points=\"\n",
       "  192.941,734.519 2352.76,734.519 \n",
       "  \"/>\n",
       "<polyline clip-path=\"url(#clip802)\" style=\"stroke:#000000; stroke-linecap:butt; stroke-linejoin:round; stroke-width:2; stroke-opacity:0.1; fill:none\" points=\"\n",
       "  192.941,411.248 2352.76,411.248 \n",
       "  \"/>\n",
       "<polyline clip-path=\"url(#clip802)\" style=\"stroke:#000000; stroke-linecap:butt; stroke-linejoin:round; stroke-width:2; stroke-opacity:0.1; fill:none\" points=\"\n",
       "  192.941,87.9763 2352.76,87.9763 \n",
       "  \"/>\n",
       "<polyline clip-path=\"url(#clip800)\" style=\"stroke:#000000; stroke-linecap:butt; stroke-linejoin:round; stroke-width:4; stroke-opacity:1; fill:none\" points=\"\n",
       "  192.941,1486.45 192.941,47.2441 \n",
       "  \"/>\n",
       "<polyline clip-path=\"url(#clip800)\" style=\"stroke:#000000; stroke-linecap:butt; stroke-linejoin:round; stroke-width:4; stroke-opacity:1; fill:none\" points=\"\n",
       "  192.941,1381.06 211.838,1381.06 \n",
       "  \"/>\n",
       "<polyline clip-path=\"url(#clip800)\" style=\"stroke:#000000; stroke-linecap:butt; stroke-linejoin:round; stroke-width:4; stroke-opacity:1; fill:none\" points=\"\n",
       "  192.941,1057.79 211.838,1057.79 \n",
       "  \"/>\n",
       "<polyline clip-path=\"url(#clip800)\" style=\"stroke:#000000; stroke-linecap:butt; stroke-linejoin:round; stroke-width:4; stroke-opacity:1; fill:none\" points=\"\n",
       "  192.941,734.519 211.838,734.519 \n",
       "  \"/>\n",
       "<polyline clip-path=\"url(#clip800)\" style=\"stroke:#000000; stroke-linecap:butt; stroke-linejoin:round; stroke-width:4; stroke-opacity:1; fill:none\" points=\"\n",
       "  192.941,411.248 211.838,411.248 \n",
       "  \"/>\n",
       "<polyline clip-path=\"url(#clip800)\" style=\"stroke:#000000; stroke-linecap:butt; stroke-linejoin:round; stroke-width:4; stroke-opacity:1; fill:none\" points=\"\n",
       "  192.941,87.9763 211.838,87.9763 \n",
       "  \"/>\n",
       "<path clip-path=\"url(#clip800)\" d=\"M50.9921 1381.51 L80.6679 1381.51 L80.6679 1385.45 L50.9921 1385.45 L50.9921 1381.51 Z\" fill=\"#000000\" fill-rule=\"evenodd\" fill-opacity=\"1\" /><path clip-path=\"url(#clip800)\" d=\"M100.76 1366.86 Q97.1493 1366.86 95.3206 1370.42 Q93.515 1373.97 93.515 1381.1 Q93.515 1388.2 95.3206 1391.77 Q97.1493 1395.31 100.76 1395.31 Q104.395 1395.31 106.2 1391.77 Q108.029 1388.2 108.029 1381.1 Q108.029 1373.97 106.2 1370.42 Q104.395 1366.86 100.76 1366.86 M100.76 1363.16 Q106.571 1363.16 109.626 1367.76 Q112.705 1372.35 112.705 1381.1 Q112.705 1389.82 109.626 1394.43 Q106.571 1399.01 100.76 1399.01 Q94.9502 1399.01 91.8715 1394.43 Q88.816 1389.82 88.816 1381.1 Q88.816 1372.35 91.8715 1367.76 Q94.9502 1363.16 100.76 1363.16 Z\" fill=\"#000000\" fill-rule=\"evenodd\" fill-opacity=\"1\" /><path clip-path=\"url(#clip800)\" d=\"M120.922 1392.46 L125.807 1392.46 L125.807 1398.34 L120.922 1398.34 L120.922 1392.46 Z\" fill=\"#000000\" fill-rule=\"evenodd\" fill-opacity=\"1\" /><path clip-path=\"url(#clip800)\" d=\"M136.038 1363.78 L154.394 1363.78 L154.394 1367.72 L140.32 1367.72 L140.32 1376.19 Q141.339 1375.84 142.357 1375.68 Q143.376 1375.49 144.394 1375.49 Q150.181 1375.49 153.561 1378.67 Q156.941 1381.84 156.941 1387.25 Q156.941 1392.83 153.468 1395.93 Q149.996 1399.01 143.677 1399.01 Q141.501 1399.01 139.232 1398.64 Q136.987 1398.27 134.58 1397.53 L134.58 1392.83 Q136.663 1393.97 138.885 1394.52 Q141.107 1395.08 143.584 1395.08 Q147.589 1395.08 149.927 1392.97 Q152.265 1390.86 152.265 1387.25 Q152.265 1383.64 149.927 1381.54 Q147.589 1379.43 143.584 1379.43 Q141.709 1379.43 139.834 1379.85 Q137.982 1380.26 136.038 1381.14 L136.038 1363.78 Z\" fill=\"#000000\" fill-rule=\"evenodd\" fill-opacity=\"1\" /><path clip-path=\"url(#clip800)\" d=\"M99.765 1043.59 Q96.1539 1043.59 94.3252 1047.15 Q92.5197 1050.7 92.5197 1057.82 Q92.5197 1064.93 94.3252 1068.5 Q96.1539 1072.04 99.765 1072.04 Q103.399 1072.04 105.205 1068.5 Q107.033 1064.93 107.033 1057.82 Q107.033 1050.7 105.205 1047.15 Q103.399 1043.59 99.765 1043.59 M99.765 1039.89 Q105.575 1039.89 108.631 1044.49 Q111.709 1049.07 111.709 1057.82 Q111.709 1066.55 108.631 1071.16 Q105.575 1075.74 99.765 1075.74 Q93.9549 1075.74 90.8762 1071.16 Q87.8206 1066.55 87.8206 1057.82 Q87.8206 1049.07 90.8762 1044.49 Q93.9549 1039.89 99.765 1039.89 Z\" fill=\"#000000\" fill-rule=\"evenodd\" fill-opacity=\"1\" /><path clip-path=\"url(#clip800)\" d=\"M119.927 1069.19 L124.811 1069.19 L124.811 1075.07 L119.927 1075.07 L119.927 1069.19 Z\" fill=\"#000000\" fill-rule=\"evenodd\" fill-opacity=\"1\" /><path clip-path=\"url(#clip800)\" d=\"M144.996 1043.59 Q141.385 1043.59 139.556 1047.15 Q137.751 1050.7 137.751 1057.82 Q137.751 1064.93 139.556 1068.5 Q141.385 1072.04 144.996 1072.04 Q148.63 1072.04 150.436 1068.5 Q152.265 1064.93 152.265 1057.82 Q152.265 1050.7 150.436 1047.15 Q148.63 1043.59 144.996 1043.59 M144.996 1039.89 Q150.806 1039.89 153.862 1044.49 Q156.941 1049.07 156.941 1057.82 Q156.941 1066.55 153.862 1071.16 Q150.806 1075.74 144.996 1075.74 Q139.186 1075.74 136.107 1071.16 Q133.052 1066.55 133.052 1057.82 Q133.052 1049.07 136.107 1044.49 Q139.186 1039.89 144.996 1039.89 Z\" fill=\"#000000\" fill-rule=\"evenodd\" fill-opacity=\"1\" /><path clip-path=\"url(#clip800)\" d=\"M100.76 720.318 Q97.1493 720.318 95.3206 723.882 Q93.515 727.424 93.515 734.554 Q93.515 741.66 95.3206 745.225 Q97.1493 748.766 100.76 748.766 Q104.395 748.766 106.2 745.225 Q108.029 741.66 108.029 734.554 Q108.029 727.424 106.2 723.882 Q104.395 720.318 100.76 720.318 M100.76 716.614 Q106.571 716.614 109.626 721.22 Q112.705 725.804 112.705 734.554 Q112.705 743.28 109.626 747.887 Q106.571 752.47 100.76 752.47 Q94.9502 752.47 91.8715 747.887 Q88.816 743.28 88.816 734.554 Q88.816 725.804 91.8715 721.22 Q94.9502 716.614 100.76 716.614 Z\" fill=\"#000000\" fill-rule=\"evenodd\" fill-opacity=\"1\" /><path clip-path=\"url(#clip800)\" d=\"M120.922 745.919 L125.807 745.919 L125.807 751.799 L120.922 751.799 L120.922 745.919 Z\" fill=\"#000000\" fill-rule=\"evenodd\" fill-opacity=\"1\" /><path clip-path=\"url(#clip800)\" d=\"M136.038 717.239 L154.394 717.239 L154.394 721.174 L140.32 721.174 L140.32 729.646 Q141.339 729.299 142.357 729.137 Q143.376 728.952 144.394 728.952 Q150.181 728.952 153.561 732.123 Q156.941 735.294 156.941 740.711 Q156.941 746.29 153.468 749.391 Q149.996 752.47 143.677 752.47 Q141.501 752.47 139.232 752.1 Q136.987 751.729 134.58 750.989 L134.58 746.29 Q136.663 747.424 138.885 747.979 Q141.107 748.535 143.584 748.535 Q147.589 748.535 149.927 746.429 Q152.265 744.322 152.265 740.711 Q152.265 737.1 149.927 734.993 Q147.589 732.887 143.584 732.887 Q141.709 732.887 139.834 733.304 Q137.982 733.72 136.038 734.6 L136.038 717.239 Z\" fill=\"#000000\" fill-rule=\"evenodd\" fill-opacity=\"1\" /><path clip-path=\"url(#clip800)\" d=\"M90.5752 424.592 L98.2141 424.592 L98.2141 398.227 L89.904 399.893 L89.904 395.634 L98.1678 393.968 L102.844 393.968 L102.844 424.592 L110.483 424.592 L110.483 428.528 L90.5752 428.528 L90.5752 424.592 Z\" fill=\"#000000\" fill-rule=\"evenodd\" fill-opacity=\"1\" /><path clip-path=\"url(#clip800)\" d=\"M119.927 422.648 L124.811 422.648 L124.811 428.528 L119.927 428.528 L119.927 422.648 Z\" fill=\"#000000\" fill-rule=\"evenodd\" fill-opacity=\"1\" /><path clip-path=\"url(#clip800)\" d=\"M144.996 397.046 Q141.385 397.046 139.556 400.611 Q137.751 404.153 137.751 411.282 Q137.751 418.389 139.556 421.954 Q141.385 425.495 144.996 425.495 Q148.63 425.495 150.436 421.954 Q152.265 418.389 152.265 411.282 Q152.265 404.153 150.436 400.611 Q148.63 397.046 144.996 397.046 M144.996 393.343 Q150.806 393.343 153.862 397.949 Q156.941 402.532 156.941 411.282 Q156.941 420.009 153.862 424.616 Q150.806 429.199 144.996 429.199 Q139.186 429.199 136.107 424.616 Q133.052 420.009 133.052 411.282 Q133.052 402.532 136.107 397.949 Q139.186 393.343 144.996 393.343 Z\" fill=\"#000000\" fill-rule=\"evenodd\" fill-opacity=\"1\" /><path clip-path=\"url(#clip800)\" d=\"M91.5706 101.321 L99.2095 101.321 L99.2095 74.9555 L90.8993 76.6222 L90.8993 72.3629 L99.1632 70.6963 L103.839 70.6963 L103.839 101.321 L111.478 101.321 L111.478 105.256 L91.5706 105.256 L91.5706 101.321 Z\" fill=\"#000000\" fill-rule=\"evenodd\" fill-opacity=\"1\" /><path clip-path=\"url(#clip800)\" d=\"M120.922 99.3767 L125.807 99.3767 L125.807 105.256 L120.922 105.256 L120.922 99.3767 Z\" fill=\"#000000\" fill-rule=\"evenodd\" fill-opacity=\"1\" /><path clip-path=\"url(#clip800)\" d=\"M136.038 70.6963 L154.394 70.6963 L154.394 74.6314 L140.32 74.6314 L140.32 83.1036 Q141.339 82.7564 142.357 82.5944 Q143.376 82.4092 144.394 82.4092 Q150.181 82.4092 153.561 85.5805 Q156.941 88.7517 156.941 94.1684 Q156.941 99.747 153.468 102.849 Q149.996 105.928 143.677 105.928 Q141.501 105.928 139.232 105.557 Q136.987 105.187 134.58 104.446 L134.58 99.747 Q136.663 100.881 138.885 101.437 Q141.107 101.992 143.584 101.992 Q147.589 101.992 149.927 99.8859 Q152.265 97.7795 152.265 94.1684 Q152.265 90.5573 149.927 88.4508 Q147.589 86.3443 143.584 86.3443 Q141.709 86.3443 139.834 86.761 Q137.982 87.1777 136.038 88.0573 L136.038 70.6963 Z\" fill=\"#000000\" fill-rule=\"evenodd\" fill-opacity=\"1\" /><circle clip-path=\"url(#clip802)\" cx=\"775.304\" cy=\"1445.72\" r=\"14\" fill=\"#009af9\" fill-rule=\"evenodd\" fill-opacity=\"1\" stroke=\"#000000\" stroke-opacity=\"1\" stroke-width=\"3.2\"/>\n",
       "<circle clip-path=\"url(#clip802)\" cx=\"775.304\" cy=\"1445.72\" r=\"14\" fill=\"#009af9\" fill-rule=\"evenodd\" fill-opacity=\"1\" stroke=\"#000000\" stroke-opacity=\"1\" stroke-width=\"3.2\"/>\n",
       "<circle clip-path=\"url(#clip802)\" cx=\"1723.01\" cy=\"1381.06\" r=\"14\" fill=\"#009af9\" fill-rule=\"evenodd\" fill-opacity=\"1\" stroke=\"#000000\" stroke-opacity=\"1\" stroke-width=\"3.2\"/>\n",
       "<circle clip-path=\"url(#clip802)\" cx=\"2244.24\" cy=\"993.136\" r=\"14\" fill=\"#009af9\" fill-rule=\"evenodd\" fill-opacity=\"1\" stroke=\"#000000\" stroke-opacity=\"1\" stroke-width=\"3.2\"/>\n",
       "<circle clip-path=\"url(#clip802)\" cx=\"2291.63\" cy=\"734.519\" r=\"14\" fill=\"#009af9\" fill-rule=\"evenodd\" fill-opacity=\"1\" stroke=\"#000000\" stroke-opacity=\"1\" stroke-width=\"3.2\"/>\n",
       "<circle clip-path=\"url(#clip802)\" cx=\"1817.78\" cy=\"346.593\" r=\"14\" fill=\"#009af9\" fill-rule=\"evenodd\" fill-opacity=\"1\" stroke=\"#000000\" stroke-opacity=\"1\" stroke-width=\"3.2\"/>\n",
       "<circle clip-path=\"url(#clip802)\" cx=\"1533.47\" cy=\"152.631\" r=\"14\" fill=\"#009af9\" fill-rule=\"evenodd\" fill-opacity=\"1\" stroke=\"#000000\" stroke-opacity=\"1\" stroke-width=\"3.2\"/>\n",
       "<circle clip-path=\"url(#clip802)\" cx=\"1296.54\" cy=\"87.9763\" r=\"14\" fill=\"#009af9\" fill-rule=\"evenodd\" fill-opacity=\"1\" stroke=\"#000000\" stroke-opacity=\"1\" stroke-width=\"3.2\"/>\n",
       "<circle clip-path=\"url(#clip802)\" cx=\"775.304\" cy=\"346.593\" r=\"14\" fill=\"#009af9\" fill-rule=\"evenodd\" fill-opacity=\"1\" stroke=\"#000000\" stroke-opacity=\"1\" stroke-width=\"3.2\"/>\n",
       "<circle clip-path=\"url(#clip802)\" cx=\"254.067\" cy=\"702.192\" r=\"14\" fill=\"#009af9\" fill-rule=\"evenodd\" fill-opacity=\"1\" stroke=\"#000000\" stroke-opacity=\"1\" stroke-width=\"3.2\"/>\n",
       "<circle clip-path=\"url(#clip802)\" cx=\"254.067\" cy=\"1057.79\" r=\"14\" fill=\"#009af9\" fill-rule=\"evenodd\" fill-opacity=\"1\" stroke=\"#000000\" stroke-opacity=\"1\" stroke-width=\"3.2\"/>\n",
       "</svg>\n"
      ]
     },
     "execution_count": 34,
     "metadata": {},
     "output_type": "execute_result"
    }
   ],
   "source": [
    "R.scatter()"
   ]
  },
  {
   "cell_type": "code",
   "execution_count": 35,
   "metadata": {},
   "outputs": [
    {
     "data": {
      "text/plain": [
       "11-element Vector{Float64}:\n",
       " 0.0\n",
       " 0.04995839572194275\n",
       " 0.49934672168013006\n",
       " 1.3258176636680323\n",
       " 2.601173153319209\n",
       " 2.677945044588987\n",
       " 2.9441970937399127\n",
       " 3.4903636571737\n",
       " 3.6052402625905993\n",
       " 4.71238898038469\n",
       " 5.783838585499456"
      ]
     },
     "execution_count": 35,
     "metadata": {},
     "output_type": "execute_result"
    }
   ],
   "source": [
    "R.angles()"
   ]
  },
  {
   "cell_type": "code",
   "execution_count": 36,
   "metadata": {},
   "outputs": [
    {
     "data": {
      "text/plain": [
       "11-element Vector{Vertex}:\n",
       " Vertex(Real[-1.0, -0.6])\n",
       " Vertex(Real[-1.0, -0.6])\n",
       " Vertex(Real[1.0, -0.5])\n",
       " Vertex(Real[2.1, 0.1])\n",
       " Vertex(Real[2.2, 0.5])\n",
       " Vertex(Real[1.2000000000000002, 1.1])\n",
       " Vertex(Real[0.6, 1.4000000000000001])\n",
       " Vertex(Real[0.1, 1.5])\n",
       " Vertex(Real[-1.0, 1.1])\n",
       " Vertex(Real[-2.1, 0.55])\n",
       " Vertex(Real[-2.1, 0.0])"
      ]
     },
     "execution_count": 36,
     "metadata": {},
     "output_type": "execute_result"
    }
   ],
   "source": [
    "R.vertices"
   ]
  },
  {
   "cell_type": "code",
   "execution_count": 37,
   "metadata": {},
   "outputs": [
    {
     "data": {
      "text/plain": [
       "11"
      ]
     },
     "execution_count": 37,
     "metadata": {},
     "output_type": "execute_result"
    }
   ],
   "source": [
    "length(R.vertices)"
   ]
  },
  {
   "cell_type": "code",
   "execution_count": null,
   "metadata": {},
   "outputs": [],
   "source": []
  }
 ],
 "metadata": {
  "@webio": {
   "lastCommId": null,
   "lastKernelId": null
  },
  "kernelspec": {
   "display_name": "Julia 1.7.2",
   "language": "julia",
   "name": "julia-1.7"
  },
  "language_info": {
   "file_extension": ".jl",
   "mimetype": "application/julia",
   "name": "julia",
   "version": "1.7.2"
  }
 },
 "nbformat": 4,
 "nbformat_minor": 4
}
