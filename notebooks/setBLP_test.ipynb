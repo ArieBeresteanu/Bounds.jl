{
 "cells": [
  {
   "cell_type": "markdown",
   "metadata": {},
   "source": [
    "# Testing setBLP.jl"
   ]
  },
  {
   "cell_type": "markdown",
   "metadata": {},
   "source": [
    "## Packages"
   ]
  },
  {
   "cell_type": "code",
   "execution_count": 1,
   "metadata": {},
   "outputs": [],
   "source": [
    "import LinearAlgebra ,Base"
   ]
  },
  {
   "cell_type": "code",
   "execution_count": 2,
   "metadata": {},
   "outputs": [],
   "source": [
    "using Plots"
   ]
  },
  {
   "cell_type": "markdown",
   "metadata": {},
   "source": [
    "## Structures and related functions"
   ]
  },
  {
   "cell_type": "markdown",
   "metadata": {},
   "source": [
    "#### Vertex"
   ]
  },
  {
   "cell_type": "code",
   "execution_count": 3,
   "metadata": {},
   "outputs": [],
   "source": [
    "mutable struct Vertex\n",
    "    v::Vector{Real}\n",
    "end"
   ]
  },
  {
   "cell_type": "code",
   "execution_count": 4,
   "metadata": {},
   "outputs": [],
   "source": [
    "function subVertex(v1::Vertex,v2::Vertex)\n",
    "    return  Vertex(v1.v-v2.v)\n",
    "end\n",
    "\n",
    "Base.:(-)(v1::Vertex,v2::Vertex) = Vertex(v1.v-v2.v)\n",
    "\n",
    "function addVertex(v1::Vertex,v2::Vertex)\n",
    "    return Vertex(v1.v+v2.v)\n",
    "end\n",
    "\n",
    "Base.:(+)(v1::Vertex,v2::Vertex) = Vertex(v1.v+v2.v)"
   ]
  },
  {
   "cell_type": "code",
   "execution_count": 5,
   "metadata": {},
   "outputs": [
    {
     "data": {
      "text/plain": [
       "xangle (generic function with 1 method)"
      ]
     },
     "execution_count": 5,
     "metadata": {},
     "output_type": "execute_result"
    }
   ],
   "source": [
    "function xangle(p1::Vertex,p2::Vertex)\n",
    "    Δ = (p2-p1).v\n",
    "    flag=false\n",
    "    if Δ[2] < 0\n",
    "        Δ[2] = -Δ[2]\n",
    "        flag = true\n",
    "    end\n",
    "    xang =atan(Δ[2],abs(Δ[1]))\n",
    "    if Δ[1]<0\n",
    "        xang = pi-xang\n",
    "    end\n",
    "    if flag\n",
    "        xang=2*pi-xang\n",
    "    end\n",
    "    return xang\n",
    "\n",
    "end"
   ]
  },
  {
   "cell_type": "code",
   "execution_count": 6,
   "metadata": {},
   "outputs": [
    {
     "data": {
      "text/plain": [
       "fetchX (generic function with 1 method)"
      ]
     },
     "execution_count": 6,
     "metadata": {},
     "output_type": "execute_result"
    }
   ],
   "source": [
    "function fetchY(ver::Vertex)\n",
    "    return ver.v[2]\n",
    "end\n",
    "\n",
    "function fetchX(ver::Vertex)\n",
    "    return ver.v[1]\n",
    "end"
   ]
  },
  {
   "cell_type": "markdown",
   "metadata": {},
   "source": [
    "#### Segment"
   ]
  },
  {
   "cell_type": "code",
   "execution_count": 7,
   "metadata": {},
   "outputs": [],
   "source": [
    "mutable struct Segment\n",
    "    p1::Vertex\n",
    "    p2::Vertex\n",
    "    checkInput::Function\n",
    "    length::Function\n",
    "    dim::Function\n",
    "\n",
    "    \n",
    "    function Segment(p1,p2)\n",
    "        this = new()\n",
    "\n",
    "        this.p1 = p1\n",
    "        this.p2 = p2\n",
    "\n",
    "        this.checkInput = function()\n",
    "            return size(this.p1) == size(this.p2)       \n",
    "        end\n",
    "\n",
    "        this.length = function()\n",
    "            return norm(this.p1-this.p2)\n",
    "        end\n",
    "\n",
    "        this.dim = function()\n",
    "            if this.checkInput()\n",
    "                return length(this.p1)\n",
    "            else\n",
    "                return false\n",
    "            end\n",
    "        end\n",
    "\n",
    "        return this        \n",
    "    end\n",
    "end\n"
   ]
  },
  {
   "cell_type": "code",
   "execution_count": 8,
   "metadata": {},
   "outputs": [
    {
     "data": {
      "text/plain": [
       "dotDist (generic function with 1 method)"
      ]
     },
     "execution_count": 8,
     "metadata": {},
     "output_type": "execute_result"
    }
   ],
   "source": [
    "function dotDist(p::Vector{<:Real}, segment::Segment) \n",
    "    if segment.checkInput()\n",
    "        if length(p) == segment.dim()\n",
    "            p1_p2 = segment.p1 -segment.p2\n",
    "            p_p2 = p -segment.p2\n",
    "\n",
    "            λ = dot(p1_p2,p_p2)/dot(p1_p2,p1_p2)\n",
    "            λ = max(min(λ,1),0)\n",
    "\n",
    "            p0 = λ*segment.p1 + (1-λ)*segment.p2 \n",
    "\n",
    "            return norm(p-p0)\n",
    "        else\n",
    "            return \"dimention of p doesnt match dimention of segment\"\n",
    "        end\n",
    "    else\n",
    "        return \"Segment has wrong dimentions\"\n",
    "    end\n",
    "end\n"
   ]
  },
  {
   "cell_type": "code",
   "execution_count": 9,
   "metadata": {},
   "outputs": [
    {
     "data": {
      "text/plain": [
       "xangle (generic function with 2 methods)"
      ]
     },
     "execution_count": 9,
     "metadata": {},
     "output_type": "execute_result"
    }
   ],
   "source": [
    "function xangle(seg::Segment)\n",
    "    Δ = seg.p2-seg.p1\n",
    "    flag=false\n",
    "    if Δ[2] < 0\n",
    "        Δ[2] = -Δ[2]\n",
    "        flag = true\n",
    "    end\n",
    "    xang =atan(Δ[2],abs(Δ[1]))\n",
    "    if Δ[1]<0\n",
    "        xang = pi-xang\n",
    "    end\n",
    "    if flag\n",
    "        xang=2*pi-xang\n",
    "    end\n",
    "    return xang\n",
    "\n",
    "end"
   ]
  },
  {
   "cell_type": "markdown",
   "metadata": {},
   "source": [
    "#### Polygon"
   ]
  },
  {
   "cell_type": "code",
   "execution_count": 10,
   "metadata": {},
   "outputs": [],
   "source": [
    "mutable struct Polygon\n",
    "    vertices :: Vector{Vertex}\n",
    "    sort :: Function\n",
    "    plot :: Function\n",
    "    angles :: Function\n",
    "    scatter :: Function\n",
    "\n",
    "    function Polygon(vertices)\n",
    "        this = new()\n",
    "\n",
    "        this.vertices=vertices\n",
    "        this.sort = function()\n",
    "            n=length(this.vertices)\n",
    "            #step 1: find the point with a minimal y coordinate and put it first.\n",
    "            # comment: sorting is complexity nlog(n) but the following is just n\n",
    "            #using sorting:\n",
    "            #I = sortperm(fetchY.(this.vertices))\n",
    "            #this.vertices = this.vertices[I]\n",
    "            #going over the list\n",
    "            m=fetchY(this.vertices[1])\n",
    "            for i=2:n\n",
    "                l=fetchY(this.vertices[i])\n",
    "                if l<m #then swap\n",
    "                    m=l\n",
    "                    temp=this.vertices[i]\n",
    "                    this.vertices[i]=this.vertices[1]\n",
    "                    this.vertices[1]=temp\n",
    "                end\n",
    "            end\n",
    "            #step 2: compute angles between the minimal vertex and all other vertices\n",
    "            angs =zeros(n) #first column for angles and second column for the x coordinate\n",
    "            angs[1]=-1\n",
    "            v1 =this.vertices[1]\n",
    "            for i=2:n\n",
    "                angs[i] = xangle(v1,this.vertices[i])\n",
    "            end\n",
    "            #step 3: sort by angle\n",
    "            I=sortperm(angs)\n",
    "            this.vertices=this.vertices[I]   \n",
    "        end\n",
    "        this.angles = function()\n",
    "            n=length(this.vertices)\n",
    "            ang=zeros(n)\n",
    "            for i=1:n\n",
    "                i==n ? j=1 : j=i+1\n",
    "                ang[i] =xangle(this.vertices[i],this.vertices[j])                \n",
    "            end\n",
    "            return ang\n",
    "        end\n",
    "        \n",
    "        this.plot = function()\n",
    "            n=length(this.vertices)\n",
    "            x=zeros(n+1); y=zeros(n+1);\n",
    "            for i=1:n\n",
    "                x[i]=this.vertices[i].v[1]\n",
    "                y[i]=this.vertices[i].v[2]\n",
    "            end\n",
    "            x[n+1]=this.vertices[1].v[1]\n",
    "            y[n+1]=this.vertices[1].v[2]\n",
    "            plot(x,y,label=\"\",fill=true)\n",
    "        end\n",
    "        \n",
    "        this.scatter = function()\n",
    "            n=length(this.vertices)\n",
    "            x=zeros(n); y=zeros(n);\n",
    "            for i=1:n\n",
    "                x[i]=this.vertices[i].v[1]\n",
    "                y[i]=this.vertices[i].v[2]\n",
    "            end\n",
    "            scatter(x,y,label=\"\")\n",
    "        end\n",
    "            \n",
    "        return this\n",
    "    end\n",
    "end"
   ]
  },
  {
   "cell_type": "code",
   "execution_count": 11,
   "metadata": {},
   "outputs": [],
   "source": [
    "function minkowskiSum(v::Vertex,P::Polygon)\n",
    "    # this function adds v toevery vertex of P\n",
    "    n=length(P.vertices)\n",
    "    R=P #initial value\n",
    "    for i=1:n\n",
    "        R.vertices[i] +=v\n",
    "    end\n",
    "    return R\n",
    "end\n",
    "\n",
    "Base.:(+)(v::Vertex,P::Polygon) = minkowskiSum(v,P)"
   ]
  },
  {
   "cell_type": "code",
   "execution_count": 12,
   "metadata": {},
   "outputs": [],
   "source": [
    "function minkowskiSum(P::Polygon,Q::Polygon)\n",
    "    # Computes the minkowski sum of two convex polygons: P and Q. The polygons\n",
    "    # are represented by their vertices and are ordered counter clockwise such\n",
    "    #* that the first vertex will be the one who has the smallest Y coordinate\n",
    "    # (and smallest X coordinate in case of a tie).  This assumption is maintained\n",
    "    # in twoDproj by conditions in BLPcalculator.\n",
    "    \n",
    "      \n",
    "    angP=[P.angles(); 100]\n",
    "    angQ=[Q.angles(); 100]\n",
    "    \n",
    "    m = length(angP)\n",
    "    n = length(angQ)\n",
    "    \n",
    "    PP = [P.vertices; P.vertices[1]]\n",
    "    QQ = [Q.vertices; Q.vertices[1]]\n",
    "    \n",
    "    println(\"m=\",m,\" n=\",n)\n",
    "    \n",
    "    println(\"angP= \", angP)\n",
    "    println(\"angQ= \", angQ)\n",
    "    \n",
    "    i=1; j=1;\n",
    "    println(\"----- begin ----------\")\n",
    "    \n",
    "    R =Polygon([PP[1]+QQ[1]]) # a polygon with the sum of the two lower points as the first vertex.\n",
    "    println(\"R vertices: \",R.vertices)\n",
    "    while (i<m || j<n)\n",
    "         if angP[i]<angQ[j] \n",
    "            println(\"angP[i] is minimal\")\n",
    "            i +=1\n",
    "        elseif angQ[j]<angP[i]\n",
    "            println(\"angQ[j] is minimal\")\n",
    "            j +=1\n",
    "        else\n",
    "            i +=1\n",
    "            j +=1\n",
    "        end\n",
    "        R.vertices = [ R.vertices; PP[i]+QQ[j]]\n",
    "        println(i,j)\n",
    "        println(\"R vertices: \",R.vertices)\n",
    "    end\n",
    "    return R\n",
    "end\n",
    "\n",
    "Base.:(+)(P::Polygon,Q::Polygon) = minkowskiSum(P,Q)"
   ]
  },
  {
   "cell_type": "markdown",
   "metadata": {},
   "source": [
    "## Testing"
   ]
  },
  {
   "cell_type": "code",
   "execution_count": 13,
   "metadata": {},
   "outputs": [
    {
     "data": {
      "text/plain": [
       "Polygon(Vertex[Vertex(Real[0.0, -0.6]), Vertex(Real[-1.1, 0.0]), Vertex(Real[1.1, 0.0]), Vertex(Real[0.0, 0.4])], var\"#7#11\"{Polygon}(Polygon(#= circular reference @-2 =#)), var\"#9#13\"{Polygon}(Polygon(#= circular reference @-2 =#)), var\"#8#12\"{Polygon}(Polygon(#= circular reference @-2 =#)), var\"#10#14\"{Polygon}(Polygon(#= circular reference @-2 =#)))"
      ]
     },
     "execution_count": 13,
     "metadata": {},
     "output_type": "execute_result"
    }
   ],
   "source": [
    "v4=Vertex([0,0.4])\n",
    "v2=Vertex([-1.1,0])\n",
    "v3=Vertex([1.1,0])\n",
    "v1=Vertex([0.0,-0.6])\n",
    "P = Polygon([v1,v2,v3,v4])\n",
    "#P = Polygon([v1,v2,v3])"
   ]
  },
  {
   "cell_type": "code",
   "execution_count": 14,
   "metadata": {},
   "outputs": [
    {
     "name": "stdout",
     "output_type": "stream",
     "text": [
      "[0.49934672168013006, 2.792821650005886, 3.4903636571737002, 5.783838585499456]"
     ]
    },
    {
     "data": {
      "image/svg+xml": [
       "<?xml version=\"1.0\" encoding=\"utf-8\"?>\n",
       "<svg xmlns=\"http://www.w3.org/2000/svg\" xmlns:xlink=\"http://www.w3.org/1999/xlink\" width=\"600\" height=\"400\" viewBox=\"0 0 2400 1600\">\n",
       "<defs>\n",
       "  <clipPath id=\"clip850\">\n",
       "    <rect x=\"0\" y=\"0\" width=\"2400\" height=\"1600\"/>\n",
       "  </clipPath>\n",
       "</defs>\n",
       "<path clip-path=\"url(#clip850)\" d=\"\n",
       "M0 1600 L2400 1600 L2400 0 L0 0  Z\n",
       "  \" fill=\"#ffffff\" fill-rule=\"evenodd\" fill-opacity=\"1\"/>\n",
       "<defs>\n",
       "  <clipPath id=\"clip851\">\n",
       "    <rect x=\"480\" y=\"0\" width=\"1681\" height=\"1600\"/>\n",
       "  </clipPath>\n",
       "</defs>\n",
       "<path clip-path=\"url(#clip850)\" d=\"\n",
       "M224.098 1486.45 L2352.76 1486.45 L2352.76 47.2441 L224.098 47.2441  Z\n",
       "  \" fill=\"#ffffff\" fill-rule=\"evenodd\" fill-opacity=\"1\"/>\n",
       "<defs>\n",
       "  <clipPath id=\"clip852\">\n",
       "    <rect x=\"224\" y=\"47\" width=\"2130\" height=\"1440\"/>\n",
       "  </clipPath>\n",
       "</defs>\n",
       "<polyline clip-path=\"url(#clip852)\" style=\"stroke:#000000; stroke-linecap:butt; stroke-linejoin:round; stroke-width:2; stroke-opacity:0.1; fill:none\" points=\"\n",
       "  375.623,1486.45 375.623,47.2441 \n",
       "  \"/>\n",
       "<polyline clip-path=\"url(#clip852)\" style=\"stroke:#000000; stroke-linecap:butt; stroke-linejoin:round; stroke-width:2; stroke-opacity:0.1; fill:none\" points=\"\n",
       "  832.025,1486.45 832.025,47.2441 \n",
       "  \"/>\n",
       "<polyline clip-path=\"url(#clip852)\" style=\"stroke:#000000; stroke-linecap:butt; stroke-linejoin:round; stroke-width:2; stroke-opacity:0.1; fill:none\" points=\"\n",
       "  1288.43,1486.45 1288.43,47.2441 \n",
       "  \"/>\n",
       "<polyline clip-path=\"url(#clip852)\" style=\"stroke:#000000; stroke-linecap:butt; stroke-linejoin:round; stroke-width:2; stroke-opacity:0.1; fill:none\" points=\"\n",
       "  1744.83,1486.45 1744.83,47.2441 \n",
       "  \"/>\n",
       "<polyline clip-path=\"url(#clip852)\" style=\"stroke:#000000; stroke-linecap:butt; stroke-linejoin:round; stroke-width:2; stroke-opacity:0.1; fill:none\" points=\"\n",
       "  2201.23,1486.45 2201.23,47.2441 \n",
       "  \"/>\n",
       "<polyline clip-path=\"url(#clip850)\" style=\"stroke:#000000; stroke-linecap:butt; stroke-linejoin:round; stroke-width:4; stroke-opacity:1; fill:none\" points=\"\n",
       "  224.098,1486.45 2352.76,1486.45 \n",
       "  \"/>\n",
       "<polyline clip-path=\"url(#clip850)\" style=\"stroke:#000000; stroke-linecap:butt; stroke-linejoin:round; stroke-width:4; stroke-opacity:1; fill:none\" points=\"\n",
       "  375.623,1486.45 375.623,1467.55 \n",
       "  \"/>\n",
       "<polyline clip-path=\"url(#clip850)\" style=\"stroke:#000000; stroke-linecap:butt; stroke-linejoin:round; stroke-width:4; stroke-opacity:1; fill:none\" points=\"\n",
       "  832.025,1486.45 832.025,1467.55 \n",
       "  \"/>\n",
       "<polyline clip-path=\"url(#clip850)\" style=\"stroke:#000000; stroke-linecap:butt; stroke-linejoin:round; stroke-width:4; stroke-opacity:1; fill:none\" points=\"\n",
       "  1288.43,1486.45 1288.43,1467.55 \n",
       "  \"/>\n",
       "<polyline clip-path=\"url(#clip850)\" style=\"stroke:#000000; stroke-linecap:butt; stroke-linejoin:round; stroke-width:4; stroke-opacity:1; fill:none\" points=\"\n",
       "  1744.83,1486.45 1744.83,1467.55 \n",
       "  \"/>\n",
       "<polyline clip-path=\"url(#clip850)\" style=\"stroke:#000000; stroke-linecap:butt; stroke-linejoin:round; stroke-width:4; stroke-opacity:1; fill:none\" points=\"\n",
       "  2201.23,1486.45 2201.23,1467.55 \n",
       "  \"/>\n",
       "<path clip-path=\"url(#clip850)\" d=\"M322.151 1532.02 L351.827 1532.02 L351.827 1535.95 L322.151 1535.95 L322.151 1532.02 Z\" fill=\"#000000\" fill-rule=\"evenodd\" fill-opacity=\"1\" /><path clip-path=\"url(#clip850)\" d=\"M362.73 1544.91 L370.369 1544.91 L370.369 1518.55 L362.059 1520.21 L362.059 1515.95 L370.322 1514.29 L374.998 1514.29 L374.998 1544.91 L382.637 1544.91 L382.637 1548.85 L362.73 1548.85 L362.73 1544.91 Z\" fill=\"#000000\" fill-rule=\"evenodd\" fill-opacity=\"1\" /><path clip-path=\"url(#clip850)\" d=\"M392.082 1542.97 L396.966 1542.97 L396.966 1548.85 L392.082 1548.85 L392.082 1542.97 Z\" fill=\"#000000\" fill-rule=\"evenodd\" fill-opacity=\"1\" /><path clip-path=\"url(#clip850)\" d=\"M417.151 1517.37 Q413.54 1517.37 411.711 1520.93 Q409.905 1524.47 409.905 1531.6 Q409.905 1538.71 411.711 1542.27 Q413.54 1545.82 417.151 1545.82 Q420.785 1545.82 422.591 1542.27 Q424.419 1538.71 424.419 1531.6 Q424.419 1524.47 422.591 1520.93 Q420.785 1517.37 417.151 1517.37 M417.151 1513.66 Q422.961 1513.66 426.017 1518.27 Q429.095 1522.85 429.095 1531.6 Q429.095 1540.33 426.017 1544.94 Q422.961 1549.52 417.151 1549.52 Q411.341 1549.52 408.262 1544.94 Q405.206 1540.33 405.206 1531.6 Q405.206 1522.85 408.262 1518.27 Q411.341 1513.66 417.151 1513.66 Z\" fill=\"#000000\" fill-rule=\"evenodd\" fill-opacity=\"1\" /><path clip-path=\"url(#clip850)\" d=\"M779.051 1532.02 L808.727 1532.02 L808.727 1535.95 L779.051 1535.95 L779.051 1532.02 Z\" fill=\"#000000\" fill-rule=\"evenodd\" fill-opacity=\"1\" /><path clip-path=\"url(#clip850)\" d=\"M828.819 1517.37 Q825.208 1517.37 823.379 1520.93 Q821.574 1524.47 821.574 1531.6 Q821.574 1538.71 823.379 1542.27 Q825.208 1545.82 828.819 1545.82 Q832.453 1545.82 834.259 1542.27 Q836.088 1538.71 836.088 1531.6 Q836.088 1524.47 834.259 1520.93 Q832.453 1517.37 828.819 1517.37 M828.819 1513.66 Q834.629 1513.66 837.685 1518.27 Q840.763 1522.85 840.763 1531.6 Q840.763 1540.33 837.685 1544.94 Q834.629 1549.52 828.819 1549.52 Q823.009 1549.52 819.93 1544.94 Q816.875 1540.33 816.875 1531.6 Q816.875 1522.85 819.93 1518.27 Q823.009 1513.66 828.819 1513.66 Z\" fill=\"#000000\" fill-rule=\"evenodd\" fill-opacity=\"1\" /><path clip-path=\"url(#clip850)\" d=\"M848.981 1542.97 L853.865 1542.97 L853.865 1548.85 L848.981 1548.85 L848.981 1542.97 Z\" fill=\"#000000\" fill-rule=\"evenodd\" fill-opacity=\"1\" /><path clip-path=\"url(#clip850)\" d=\"M864.097 1514.29 L882.453 1514.29 L882.453 1518.22 L868.379 1518.22 L868.379 1526.7 Q869.398 1526.35 870.416 1526.19 Q871.435 1526 872.453 1526 Q878.24 1526 881.62 1529.17 Q884.999 1532.34 884.999 1537.76 Q884.999 1543.34 881.527 1546.44 Q878.055 1549.52 871.736 1549.52 Q869.56 1549.52 867.291 1549.15 Q865.046 1548.78 862.638 1548.04 L862.638 1543.34 Q864.722 1544.47 866.944 1545.03 Q869.166 1545.58 871.643 1545.58 Q875.648 1545.58 877.985 1543.48 Q880.323 1541.37 880.323 1537.76 Q880.323 1534.15 877.985 1532.04 Q875.648 1529.94 871.643 1529.94 Q869.768 1529.94 867.893 1530.35 Q866.041 1530.77 864.097 1531.65 L864.097 1514.29 Z\" fill=\"#000000\" fill-rule=\"evenodd\" fill-opacity=\"1\" /><path clip-path=\"url(#clip850)\" d=\"M1265.81 1517.37 Q1262.2 1517.37 1260.37 1520.93 Q1258.57 1524.47 1258.57 1531.6 Q1258.57 1538.71 1260.37 1542.27 Q1262.2 1545.82 1265.81 1545.82 Q1269.45 1545.82 1271.25 1542.27 Q1273.08 1538.71 1273.08 1531.6 Q1273.08 1524.47 1271.25 1520.93 Q1269.45 1517.37 1265.81 1517.37 M1265.81 1513.66 Q1271.62 1513.66 1274.68 1518.27 Q1277.76 1522.85 1277.76 1531.6 Q1277.76 1540.33 1274.68 1544.94 Q1271.62 1549.52 1265.81 1549.52 Q1260 1549.52 1256.92 1544.94 Q1253.87 1540.33 1253.87 1531.6 Q1253.87 1522.85 1256.92 1518.27 Q1260 1513.66 1265.81 1513.66 Z\" fill=\"#000000\" fill-rule=\"evenodd\" fill-opacity=\"1\" /><path clip-path=\"url(#clip850)\" d=\"M1285.97 1542.97 L1290.86 1542.97 L1290.86 1548.85 L1285.97 1548.85 L1285.97 1542.97 Z\" fill=\"#000000\" fill-rule=\"evenodd\" fill-opacity=\"1\" /><path clip-path=\"url(#clip850)\" d=\"M1311.04 1517.37 Q1307.43 1517.37 1305.6 1520.93 Q1303.8 1524.47 1303.8 1531.6 Q1303.8 1538.71 1305.6 1542.27 Q1307.43 1545.82 1311.04 1545.82 Q1314.68 1545.82 1316.48 1542.27 Q1318.31 1538.71 1318.31 1531.6 Q1318.31 1524.47 1316.48 1520.93 Q1314.68 1517.37 1311.04 1517.37 M1311.04 1513.66 Q1316.85 1513.66 1319.91 1518.27 Q1322.99 1522.85 1322.99 1531.6 Q1322.99 1540.33 1319.91 1544.94 Q1316.85 1549.52 1311.04 1549.52 Q1305.23 1549.52 1302.15 1544.94 Q1299.1 1540.33 1299.1 1531.6 Q1299.1 1522.85 1302.15 1518.27 Q1305.23 1513.66 1311.04 1513.66 Z\" fill=\"#000000\" fill-rule=\"evenodd\" fill-opacity=\"1\" /><path clip-path=\"url(#clip850)\" d=\"M1722.71 1517.37 Q1719.1 1517.37 1717.27 1520.93 Q1715.47 1524.47 1715.47 1531.6 Q1715.47 1538.71 1717.27 1542.27 Q1719.1 1545.82 1722.71 1545.82 Q1726.34 1545.82 1728.15 1542.27 Q1729.98 1538.71 1729.98 1531.6 Q1729.98 1524.47 1728.15 1520.93 Q1726.34 1517.37 1722.71 1517.37 M1722.71 1513.66 Q1728.52 1513.66 1731.58 1518.27 Q1734.66 1522.85 1734.66 1531.6 Q1734.66 1540.33 1731.58 1544.94 Q1728.52 1549.52 1722.71 1549.52 Q1716.9 1549.52 1713.82 1544.94 Q1710.77 1540.33 1710.77 1531.6 Q1710.77 1522.85 1713.82 1518.27 Q1716.9 1513.66 1722.71 1513.66 Z\" fill=\"#000000\" fill-rule=\"evenodd\" fill-opacity=\"1\" /><path clip-path=\"url(#clip850)\" d=\"M1742.87 1542.97 L1747.76 1542.97 L1747.76 1548.85 L1742.87 1548.85 L1742.87 1542.97 Z\" fill=\"#000000\" fill-rule=\"evenodd\" fill-opacity=\"1\" /><path clip-path=\"url(#clip850)\" d=\"M1757.99 1514.29 L1776.34 1514.29 L1776.34 1518.22 L1762.27 1518.22 L1762.27 1526.7 Q1763.29 1526.35 1764.31 1526.19 Q1765.33 1526 1766.34 1526 Q1772.13 1526 1775.51 1529.17 Q1778.89 1532.34 1778.89 1537.76 Q1778.89 1543.34 1775.42 1546.44 Q1771.95 1549.52 1765.63 1549.52 Q1763.45 1549.52 1761.18 1549.15 Q1758.94 1548.78 1756.53 1548.04 L1756.53 1543.34 Q1758.61 1544.47 1760.84 1545.03 Q1763.06 1545.58 1765.53 1545.58 Q1769.54 1545.58 1771.88 1543.48 Q1774.22 1541.37 1774.22 1537.76 Q1774.22 1534.15 1771.88 1532.04 Q1769.54 1529.94 1765.53 1529.94 Q1763.66 1529.94 1761.78 1530.35 Q1759.93 1530.77 1757.99 1531.65 L1757.99 1514.29 Z\" fill=\"#000000\" fill-rule=\"evenodd\" fill-opacity=\"1\" /><path clip-path=\"url(#clip850)\" d=\"M2168.38 1544.91 L2176.02 1544.91 L2176.02 1518.55 L2167.71 1520.21 L2167.71 1515.95 L2175.98 1514.29 L2180.65 1514.29 L2180.65 1544.91 L2188.29 1544.91 L2188.29 1548.85 L2168.38 1548.85 L2168.38 1544.91 Z\" fill=\"#000000\" fill-rule=\"evenodd\" fill-opacity=\"1\" /><path clip-path=\"url(#clip850)\" d=\"M2197.74 1542.97 L2202.62 1542.97 L2202.62 1548.85 L2197.74 1548.85 L2197.74 1542.97 Z\" fill=\"#000000\" fill-rule=\"evenodd\" fill-opacity=\"1\" /><path clip-path=\"url(#clip850)\" d=\"M2222.8 1517.37 Q2219.19 1517.37 2217.36 1520.93 Q2215.56 1524.47 2215.56 1531.6 Q2215.56 1538.71 2217.36 1542.27 Q2219.19 1545.82 2222.8 1545.82 Q2226.44 1545.82 2228.24 1542.27 Q2230.07 1538.71 2230.07 1531.6 Q2230.07 1524.47 2228.24 1520.93 Q2226.44 1517.37 2222.8 1517.37 M2222.8 1513.66 Q2228.61 1513.66 2231.67 1518.27 Q2234.75 1522.85 2234.75 1531.6 Q2234.75 1540.33 2231.67 1544.94 Q2228.61 1549.52 2222.8 1549.52 Q2216.99 1549.52 2213.92 1544.94 Q2210.86 1540.33 2210.86 1531.6 Q2210.86 1522.85 2213.92 1518.27 Q2216.99 1513.66 2222.8 1513.66 Z\" fill=\"#000000\" fill-rule=\"evenodd\" fill-opacity=\"1\" /><polyline clip-path=\"url(#clip852)\" style=\"stroke:#000000; stroke-linecap:butt; stroke-linejoin:round; stroke-width:2; stroke-opacity:0.1; fill:none\" points=\"\n",
       "  224.098,1309.94 2352.76,1309.94 \n",
       "  \"/>\n",
       "<polyline clip-path=\"url(#clip852)\" style=\"stroke:#000000; stroke-linecap:butt; stroke-linejoin:round; stroke-width:2; stroke-opacity:0.1; fill:none\" points=\"\n",
       "  224.098,970.507 2352.76,970.507 \n",
       "  \"/>\n",
       "<polyline clip-path=\"url(#clip852)\" style=\"stroke:#000000; stroke-linecap:butt; stroke-linejoin:round; stroke-width:2; stroke-opacity:0.1; fill:none\" points=\"\n",
       "  224.098,631.072 2352.76,631.072 \n",
       "  \"/>\n",
       "<polyline clip-path=\"url(#clip852)\" style=\"stroke:#000000; stroke-linecap:butt; stroke-linejoin:round; stroke-width:2; stroke-opacity:0.1; fill:none\" points=\"\n",
       "  224.098,291.637 2352.76,291.637 \n",
       "  \"/>\n",
       "<polyline clip-path=\"url(#clip850)\" style=\"stroke:#000000; stroke-linecap:butt; stroke-linejoin:round; stroke-width:4; stroke-opacity:1; fill:none\" points=\"\n",
       "  224.098,1486.45 224.098,47.2441 \n",
       "  \"/>\n",
       "<polyline clip-path=\"url(#clip850)\" style=\"stroke:#000000; stroke-linecap:butt; stroke-linejoin:round; stroke-width:4; stroke-opacity:1; fill:none\" points=\"\n",
       "  224.098,1309.94 242.996,1309.94 \n",
       "  \"/>\n",
       "<polyline clip-path=\"url(#clip850)\" style=\"stroke:#000000; stroke-linecap:butt; stroke-linejoin:round; stroke-width:4; stroke-opacity:1; fill:none\" points=\"\n",
       "  224.098,970.507 242.996,970.507 \n",
       "  \"/>\n",
       "<polyline clip-path=\"url(#clip850)\" style=\"stroke:#000000; stroke-linecap:butt; stroke-linejoin:round; stroke-width:4; stroke-opacity:1; fill:none\" points=\"\n",
       "  224.098,631.072 242.996,631.072 \n",
       "  \"/>\n",
       "<polyline clip-path=\"url(#clip850)\" style=\"stroke:#000000; stroke-linecap:butt; stroke-linejoin:round; stroke-width:4; stroke-opacity:1; fill:none\" points=\"\n",
       "  224.098,291.637 242.996,291.637 \n",
       "  \"/>\n",
       "<path clip-path=\"url(#clip850)\" d=\"M50.9921 1310.39 L80.6679 1310.39 L80.6679 1314.33 L50.9921 1314.33 L50.9921 1310.39 Z\" fill=\"#000000\" fill-rule=\"evenodd\" fill-opacity=\"1\" /><path clip-path=\"url(#clip850)\" d=\"M100.76 1295.74 Q97.1493 1295.74 95.3206 1299.31 Q93.515 1302.85 93.515 1309.98 Q93.515 1317.08 95.3206 1320.65 Q97.1493 1324.19 100.76 1324.19 Q104.395 1324.19 106.2 1320.65 Q108.029 1317.08 108.029 1309.98 Q108.029 1302.85 106.2 1299.31 Q104.395 1295.74 100.76 1295.74 M100.76 1292.04 Q106.571 1292.04 109.626 1296.64 Q112.705 1301.23 112.705 1309.98 Q112.705 1318.7 109.626 1323.31 Q106.571 1327.89 100.76 1327.89 Q94.9502 1327.89 91.8715 1323.31 Q88.816 1318.7 88.816 1309.98 Q88.816 1301.23 91.8715 1296.64 Q94.9502 1292.04 100.76 1292.04 Z\" fill=\"#000000\" fill-rule=\"evenodd\" fill-opacity=\"1\" /><path clip-path=\"url(#clip850)\" d=\"M120.922 1321.34 L125.807 1321.34 L125.807 1327.22 L120.922 1327.22 L120.922 1321.34 Z\" fill=\"#000000\" fill-rule=\"evenodd\" fill-opacity=\"1\" /><path clip-path=\"url(#clip850)\" d=\"M136.038 1292.66 L154.394 1292.66 L154.394 1296.6 L140.32 1296.6 L140.32 1305.07 Q141.339 1304.72 142.357 1304.56 Q143.376 1304.37 144.394 1304.37 Q150.181 1304.37 153.561 1307.55 Q156.941 1310.72 156.941 1316.13 Q156.941 1321.71 153.468 1324.81 Q149.996 1327.89 143.677 1327.89 Q141.501 1327.89 139.232 1327.52 Q136.987 1327.15 134.58 1326.41 L134.58 1321.71 Q136.663 1322.85 138.885 1323.4 Q141.107 1323.96 143.584 1323.96 Q147.589 1323.96 149.927 1321.85 Q152.265 1319.74 152.265 1316.13 Q152.265 1312.52 149.927 1310.42 Q147.589 1308.31 143.584 1308.31 Q141.709 1308.31 139.834 1308.73 Q137.982 1309.14 136.038 1310.02 L136.038 1292.66 Z\" fill=\"#000000\" fill-rule=\"evenodd\" fill-opacity=\"1\" /><path clip-path=\"url(#clip850)\" d=\"M176.153 1295.74 Q172.542 1295.74 170.714 1299.31 Q168.908 1302.85 168.908 1309.98 Q168.908 1317.08 170.714 1320.65 Q172.542 1324.19 176.153 1324.19 Q179.788 1324.19 181.593 1320.65 Q183.422 1317.08 183.422 1309.98 Q183.422 1302.85 181.593 1299.31 Q179.788 1295.74 176.153 1295.74 M176.153 1292.04 Q181.964 1292.04 185.019 1296.64 Q188.098 1301.23 188.098 1309.98 Q188.098 1318.7 185.019 1323.31 Q181.964 1327.89 176.153 1327.89 Q170.343 1327.89 167.265 1323.31 Q164.209 1318.7 164.209 1309.98 Q164.209 1301.23 167.265 1296.64 Q170.343 1292.04 176.153 1292.04 Z\" fill=\"#000000\" fill-rule=\"evenodd\" fill-opacity=\"1\" /><path clip-path=\"url(#clip850)\" d=\"M51.9875 970.958 L81.6633 970.958 L81.6633 974.893 L51.9875 974.893 L51.9875 970.958 Z\" fill=\"#000000\" fill-rule=\"evenodd\" fill-opacity=\"1\" /><path clip-path=\"url(#clip850)\" d=\"M101.756 956.306 Q98.1447 956.306 96.316 959.87 Q94.5104 963.412 94.5104 970.542 Q94.5104 977.648 96.316 981.213 Q98.1447 984.755 101.756 984.755 Q105.39 984.755 107.196 981.213 Q109.024 977.648 109.024 970.542 Q109.024 963.412 107.196 959.87 Q105.39 956.306 101.756 956.306 M101.756 952.602 Q107.566 952.602 110.621 957.208 Q113.7 961.792 113.7 970.542 Q113.7 979.268 110.621 983.875 Q107.566 988.458 101.756 988.458 Q95.9456 988.458 92.8669 983.875 Q89.8114 979.268 89.8114 970.542 Q89.8114 961.792 92.8669 957.208 Q95.9456 952.602 101.756 952.602 Z\" fill=\"#000000\" fill-rule=\"evenodd\" fill-opacity=\"1\" /><path clip-path=\"url(#clip850)\" d=\"M121.918 981.907 L126.802 981.907 L126.802 987.787 L121.918 987.787 L121.918 981.907 Z\" fill=\"#000000\" fill-rule=\"evenodd\" fill-opacity=\"1\" /><path clip-path=\"url(#clip850)\" d=\"M141.015 983.852 L157.334 983.852 L157.334 987.787 L135.39 987.787 L135.39 983.852 Q138.052 981.097 142.635 976.468 Q147.242 971.815 148.422 970.472 Q150.668 967.949 151.547 966.213 Q152.45 964.454 152.45 962.764 Q152.45 960.009 150.505 958.273 Q148.584 956.537 145.482 956.537 Q143.283 956.537 140.83 957.301 Q138.399 958.065 135.621 959.616 L135.621 954.894 Q138.445 953.759 140.899 953.181 Q143.353 952.602 145.39 952.602 Q150.76 952.602 153.955 955.287 Q157.149 957.972 157.149 962.463 Q157.149 964.593 156.339 966.514 Q155.552 968.412 153.445 971.005 Q152.867 971.676 149.765 974.893 Q146.663 978.088 141.015 983.852 Z\" fill=\"#000000\" fill-rule=\"evenodd\" fill-opacity=\"1\" /><path clip-path=\"url(#clip850)\" d=\"M167.195 953.227 L185.552 953.227 L185.552 957.162 L171.478 957.162 L171.478 965.634 Q172.496 965.287 173.515 965.125 Q174.533 964.94 175.552 964.94 Q181.339 964.94 184.718 968.111 Q188.098 971.282 188.098 976.699 Q188.098 982.278 184.626 985.38 Q181.153 988.458 174.834 988.458 Q172.658 988.458 170.39 988.088 Q168.144 987.717 165.737 986.977 L165.737 982.278 Q167.82 983.412 170.042 983.967 Q172.265 984.523 174.741 984.523 Q178.746 984.523 181.084 982.417 Q183.422 980.31 183.422 976.699 Q183.422 973.088 181.084 970.981 Q178.746 968.875 174.741 968.875 Q172.866 968.875 170.991 969.292 Q169.14 969.708 167.195 970.588 L167.195 953.227 Z\" fill=\"#000000\" fill-rule=\"evenodd\" fill-opacity=\"1\" /><path clip-path=\"url(#clip850)\" d=\"M100.76 616.871 Q97.1493 616.871 95.3206 620.436 Q93.515 623.977 93.515 631.107 Q93.515 638.213 95.3206 641.778 Q97.1493 645.32 100.76 645.32 Q104.395 645.32 106.2 641.778 Q108.029 638.213 108.029 631.107 Q108.029 623.977 106.2 620.436 Q104.395 616.871 100.76 616.871 M100.76 613.167 Q106.571 613.167 109.626 617.774 Q112.705 622.357 112.705 631.107 Q112.705 639.834 109.626 644.44 Q106.571 649.023 100.76 649.023 Q94.9502 649.023 91.8715 644.44 Q88.816 639.834 88.816 631.107 Q88.816 622.357 91.8715 617.774 Q94.9502 613.167 100.76 613.167 Z\" fill=\"#000000\" fill-rule=\"evenodd\" fill-opacity=\"1\" /><path clip-path=\"url(#clip850)\" d=\"M120.922 642.472 L125.807 642.472 L125.807 648.352 L120.922 648.352 L120.922 642.472 Z\" fill=\"#000000\" fill-rule=\"evenodd\" fill-opacity=\"1\" /><path clip-path=\"url(#clip850)\" d=\"M145.992 616.871 Q142.381 616.871 140.552 620.436 Q138.746 623.977 138.746 631.107 Q138.746 638.213 140.552 641.778 Q142.381 645.32 145.992 645.32 Q149.626 645.32 151.431 641.778 Q153.26 638.213 153.26 631.107 Q153.26 623.977 151.431 620.436 Q149.626 616.871 145.992 616.871 M145.992 613.167 Q151.802 613.167 154.857 617.774 Q157.936 622.357 157.936 631.107 Q157.936 639.834 154.857 644.44 Q151.802 649.023 145.992 649.023 Q140.181 649.023 137.103 644.44 Q134.047 639.834 134.047 631.107 Q134.047 622.357 137.103 617.774 Q140.181 613.167 145.992 613.167 Z\" fill=\"#000000\" fill-rule=\"evenodd\" fill-opacity=\"1\" /><path clip-path=\"url(#clip850)\" d=\"M176.153 616.871 Q172.542 616.871 170.714 620.436 Q168.908 623.977 168.908 631.107 Q168.908 638.213 170.714 641.778 Q172.542 645.32 176.153 645.32 Q179.788 645.32 181.593 641.778 Q183.422 638.213 183.422 631.107 Q183.422 623.977 181.593 620.436 Q179.788 616.871 176.153 616.871 M176.153 613.167 Q181.964 613.167 185.019 617.774 Q188.098 622.357 188.098 631.107 Q188.098 639.834 185.019 644.44 Q181.964 649.023 176.153 649.023 Q170.343 649.023 167.265 644.44 Q164.209 639.834 164.209 631.107 Q164.209 622.357 167.265 617.774 Q170.343 613.167 176.153 613.167 Z\" fill=\"#000000\" fill-rule=\"evenodd\" fill-opacity=\"1\" /><path clip-path=\"url(#clip850)\" d=\"M101.756 277.436 Q98.1447 277.436 96.316 281.001 Q94.5104 284.542 94.5104 291.672 Q94.5104 298.778 96.316 302.343 Q98.1447 305.885 101.756 305.885 Q105.39 305.885 107.196 302.343 Q109.024 298.778 109.024 291.672 Q109.024 284.542 107.196 281.001 Q105.39 277.436 101.756 277.436 M101.756 273.732 Q107.566 273.732 110.621 278.339 Q113.7 282.922 113.7 291.672 Q113.7 300.399 110.621 305.005 Q107.566 309.588 101.756 309.588 Q95.9456 309.588 92.8669 305.005 Q89.8114 300.399 89.8114 291.672 Q89.8114 282.922 92.8669 278.339 Q95.9456 273.732 101.756 273.732 Z\" fill=\"#000000\" fill-rule=\"evenodd\" fill-opacity=\"1\" /><path clip-path=\"url(#clip850)\" d=\"M121.918 303.038 L126.802 303.038 L126.802 308.917 L121.918 308.917 L121.918 303.038 Z\" fill=\"#000000\" fill-rule=\"evenodd\" fill-opacity=\"1\" /><path clip-path=\"url(#clip850)\" d=\"M141.015 304.982 L157.334 304.982 L157.334 308.917 L135.39 308.917 L135.39 304.982 Q138.052 302.227 142.635 297.598 Q147.242 292.945 148.422 291.602 Q150.668 289.079 151.547 287.343 Q152.45 285.584 152.45 283.894 Q152.45 281.14 150.505 279.403 Q148.584 277.667 145.482 277.667 Q143.283 277.667 140.83 278.431 Q138.399 279.195 135.621 280.746 L135.621 276.024 Q138.445 274.89 140.899 274.311 Q143.353 273.732 145.39 273.732 Q150.76 273.732 153.955 276.417 Q157.149 279.103 157.149 283.593 Q157.149 285.723 156.339 287.644 Q155.552 289.542 153.445 292.135 Q152.867 292.806 149.765 296.024 Q146.663 299.218 141.015 304.982 Z\" fill=\"#000000\" fill-rule=\"evenodd\" fill-opacity=\"1\" /><path clip-path=\"url(#clip850)\" d=\"M167.195 274.357 L185.552 274.357 L185.552 278.292 L171.478 278.292 L171.478 286.765 Q172.496 286.417 173.515 286.255 Q174.533 286.07 175.552 286.07 Q181.339 286.07 184.718 289.241 Q188.098 292.413 188.098 297.829 Q188.098 303.408 184.626 306.51 Q181.153 309.588 174.834 309.588 Q172.658 309.588 170.39 309.218 Q168.144 308.848 165.737 308.107 L165.737 303.408 Q167.82 304.542 170.042 305.098 Q172.265 305.653 174.741 305.653 Q178.746 305.653 181.084 303.547 Q183.422 301.44 183.422 297.829 Q183.422 294.218 181.084 292.112 Q178.746 290.005 174.741 290.005 Q172.866 290.005 170.991 290.422 Q169.14 290.839 167.195 291.718 L167.195 274.357 Z\" fill=\"#000000\" fill-rule=\"evenodd\" fill-opacity=\"1\" /><path clip-path=\"url(#clip852)\" d=\"\n",
       "M1288.43 1445.72 L2292.51 631.072 L1288.43 87.9763 L284.343 631.072 L1288.43 1445.72 L1288.43 631.072 L284.343 631.072 L1288.43 631.072 L2292.51 631.072 L1288.43 631.072 \n",
       "   Z\n",
       "  \" fill=\"#009af9\" fill-rule=\"evenodd\" fill-opacity=\"1\"/>\n",
       "<polyline clip-path=\"url(#clip852)\" style=\"stroke:#009af9; stroke-linecap:butt; stroke-linejoin:round; stroke-width:4; stroke-opacity:1; fill:none\" points=\"\n",
       "  1288.43,1445.72 2292.51,631.072 1288.43,87.9763 284.343,631.072 1288.43,1445.72 \n",
       "  \"/>\n",
       "</svg>\n"
      ]
     },
     "execution_count": 14,
     "metadata": {},
     "output_type": "execute_result"
    }
   ],
   "source": [
    "P.sort();\n",
    "print(P.angles())\n",
    "P.plot()"
   ]
  },
  {
   "cell_type": "code",
   "execution_count": 15,
   "metadata": {},
   "outputs": [
    {
     "data": {
      "text/plain": [
       "Polygon(Vertex[Vertex(Real[1.1, 0.5]), Vertex(Real[1.0, 0.1]), Vertex(Real[-1.0, 0.55]), Vertex(Real[-1, 0]), Vertex(Real[0.1, 1.1])], var\"#7#11\"{Polygon}(Polygon(#= circular reference @-2 =#)), var\"#9#13\"{Polygon}(Polygon(#= circular reference @-2 =#)), var\"#8#12\"{Polygon}(Polygon(#= circular reference @-2 =#)), var\"#10#14\"{Polygon}(Polygon(#= circular reference @-2 =#)))"
      ]
     },
     "execution_count": 15,
     "metadata": {},
     "output_type": "execute_result"
    }
   ],
   "source": [
    "u4=Vertex([-1,0])\n",
    "u2=Vertex([1,0.1])\n",
    "u3=Vertex([-1,0.55])\n",
    "u1=Vertex([1.1,0.5])\n",
    "u5=Vertex([0.1,1.1])\n",
    "Q = Polygon([u1,u2,u3,u4,u5])\n",
    "#Q = Polygon([u1,u2,u4,])"
   ]
  },
  {
   "cell_type": "code",
   "execution_count": 16,
   "metadata": {},
   "outputs": [
    {
     "name": "stdout",
     "output_type": "stream",
     "text": [
      "[0.049958395721942765, 1.3258176636680323, 2.601173153319209, 3.6052402625905993, 4.71238898038469]"
     ]
    },
    {
     "data": {
      "image/svg+xml": [
       "<?xml version=\"1.0\" encoding=\"utf-8\"?>\n",
       "<svg xmlns=\"http://www.w3.org/2000/svg\" xmlns:xlink=\"http://www.w3.org/1999/xlink\" width=\"600\" height=\"400\" viewBox=\"0 0 2400 1600\">\n",
       "<defs>\n",
       "  <clipPath id=\"clip890\">\n",
       "    <rect x=\"0\" y=\"0\" width=\"2400\" height=\"1600\"/>\n",
       "  </clipPath>\n",
       "</defs>\n",
       "<path clip-path=\"url(#clip890)\" d=\"\n",
       "M0 1600 L2400 1600 L2400 0 L0 0  Z\n",
       "  \" fill=\"#ffffff\" fill-rule=\"evenodd\" fill-opacity=\"1\"/>\n",
       "<defs>\n",
       "  <clipPath id=\"clip891\">\n",
       "    <rect x=\"480\" y=\"0\" width=\"1681\" height=\"1600\"/>\n",
       "  </clipPath>\n",
       "</defs>\n",
       "<path clip-path=\"url(#clip890)\" d=\"\n",
       "M186.274 1486.45 L2352.76 1486.45 L2352.76 47.2441 L186.274 47.2441  Z\n",
       "  \" fill=\"#ffffff\" fill-rule=\"evenodd\" fill-opacity=\"1\"/>\n",
       "<defs>\n",
       "  <clipPath id=\"clip892\">\n",
       "    <rect x=\"186\" y=\"47\" width=\"2167\" height=\"1440\"/>\n",
       "  </clipPath>\n",
       "</defs>\n",
       "<polyline clip-path=\"url(#clip892)\" style=\"stroke:#000000; stroke-linecap:butt; stroke-linejoin:round; stroke-width:2; stroke-opacity:0.1; fill:none\" points=\"\n",
       "  247.59,1486.45 247.59,47.2441 \n",
       "  \"/>\n",
       "<polyline clip-path=\"url(#clip892)\" style=\"stroke:#000000; stroke-linecap:butt; stroke-linejoin:round; stroke-width:2; stroke-opacity:0.1; fill:none\" points=\"\n",
       "  734.221,1486.45 734.221,47.2441 \n",
       "  \"/>\n",
       "<polyline clip-path=\"url(#clip892)\" style=\"stroke:#000000; stroke-linecap:butt; stroke-linejoin:round; stroke-width:2; stroke-opacity:0.1; fill:none\" points=\"\n",
       "  1220.85,1486.45 1220.85,47.2441 \n",
       "  \"/>\n",
       "<polyline clip-path=\"url(#clip892)\" style=\"stroke:#000000; stroke-linecap:butt; stroke-linejoin:round; stroke-width:2; stroke-opacity:0.1; fill:none\" points=\"\n",
       "  1707.48,1486.45 1707.48,47.2441 \n",
       "  \"/>\n",
       "<polyline clip-path=\"url(#clip892)\" style=\"stroke:#000000; stroke-linecap:butt; stroke-linejoin:round; stroke-width:2; stroke-opacity:0.1; fill:none\" points=\"\n",
       "  2194.11,1486.45 2194.11,47.2441 \n",
       "  \"/>\n",
       "<polyline clip-path=\"url(#clip890)\" style=\"stroke:#000000; stroke-linecap:butt; stroke-linejoin:round; stroke-width:4; stroke-opacity:1; fill:none\" points=\"\n",
       "  186.274,1486.45 2352.76,1486.45 \n",
       "  \"/>\n",
       "<polyline clip-path=\"url(#clip890)\" style=\"stroke:#000000; stroke-linecap:butt; stroke-linejoin:round; stroke-width:4; stroke-opacity:1; fill:none\" points=\"\n",
       "  247.59,1486.45 247.59,1467.55 \n",
       "  \"/>\n",
       "<polyline clip-path=\"url(#clip890)\" style=\"stroke:#000000; stroke-linecap:butt; stroke-linejoin:round; stroke-width:4; stroke-opacity:1; fill:none\" points=\"\n",
       "  734.221,1486.45 734.221,1467.55 \n",
       "  \"/>\n",
       "<polyline clip-path=\"url(#clip890)\" style=\"stroke:#000000; stroke-linecap:butt; stroke-linejoin:round; stroke-width:4; stroke-opacity:1; fill:none\" points=\"\n",
       "  1220.85,1486.45 1220.85,1467.55 \n",
       "  \"/>\n",
       "<polyline clip-path=\"url(#clip890)\" style=\"stroke:#000000; stroke-linecap:butt; stroke-linejoin:round; stroke-width:4; stroke-opacity:1; fill:none\" points=\"\n",
       "  1707.48,1486.45 1707.48,1467.55 \n",
       "  \"/>\n",
       "<polyline clip-path=\"url(#clip890)\" style=\"stroke:#000000; stroke-linecap:butt; stroke-linejoin:round; stroke-width:4; stroke-opacity:1; fill:none\" points=\"\n",
       "  2194.11,1486.45 2194.11,1467.55 \n",
       "  \"/>\n",
       "<path clip-path=\"url(#clip890)\" d=\"M194.118 1532.02 L223.793 1532.02 L223.793 1535.95 L194.118 1535.95 L194.118 1532.02 Z\" fill=\"#000000\" fill-rule=\"evenodd\" fill-opacity=\"1\" /><path clip-path=\"url(#clip890)\" d=\"M234.696 1544.91 L242.335 1544.91 L242.335 1518.55 L234.025 1520.21 L234.025 1515.95 L242.289 1514.29 L246.965 1514.29 L246.965 1544.91 L254.603 1544.91 L254.603 1548.85 L234.696 1548.85 L234.696 1544.91 Z\" fill=\"#000000\" fill-rule=\"evenodd\" fill-opacity=\"1\" /><path clip-path=\"url(#clip890)\" d=\"M264.048 1542.97 L268.932 1542.97 L268.932 1548.85 L264.048 1548.85 L264.048 1542.97 Z\" fill=\"#000000\" fill-rule=\"evenodd\" fill-opacity=\"1\" /><path clip-path=\"url(#clip890)\" d=\"M289.117 1517.37 Q285.506 1517.37 283.677 1520.93 Q281.872 1524.47 281.872 1531.6 Q281.872 1538.71 283.677 1542.27 Q285.506 1545.82 289.117 1545.82 Q292.751 1545.82 294.557 1542.27 Q296.386 1538.71 296.386 1531.6 Q296.386 1524.47 294.557 1520.93 Q292.751 1517.37 289.117 1517.37 M289.117 1513.66 Q294.927 1513.66 297.983 1518.27 Q301.061 1522.85 301.061 1531.6 Q301.061 1540.33 297.983 1544.94 Q294.927 1549.52 289.117 1549.52 Q283.307 1549.52 280.228 1544.94 Q277.173 1540.33 277.173 1531.6 Q277.173 1522.85 280.228 1518.27 Q283.307 1513.66 289.117 1513.66 Z\" fill=\"#000000\" fill-rule=\"evenodd\" fill-opacity=\"1\" /><path clip-path=\"url(#clip890)\" d=\"M681.246 1532.02 L710.922 1532.02 L710.922 1535.95 L681.246 1535.95 L681.246 1532.02 Z\" fill=\"#000000\" fill-rule=\"evenodd\" fill-opacity=\"1\" /><path clip-path=\"url(#clip890)\" d=\"M731.015 1517.37 Q727.404 1517.37 725.575 1520.93 Q723.769 1524.47 723.769 1531.6 Q723.769 1538.71 725.575 1542.27 Q727.404 1545.82 731.015 1545.82 Q734.649 1545.82 736.454 1542.27 Q738.283 1538.71 738.283 1531.6 Q738.283 1524.47 736.454 1520.93 Q734.649 1517.37 731.015 1517.37 M731.015 1513.66 Q736.825 1513.66 739.88 1518.27 Q742.959 1522.85 742.959 1531.6 Q742.959 1540.33 739.88 1544.94 Q736.825 1549.52 731.015 1549.52 Q725.205 1549.52 722.126 1544.94 Q719.07 1540.33 719.07 1531.6 Q719.07 1522.85 722.126 1518.27 Q725.205 1513.66 731.015 1513.66 Z\" fill=\"#000000\" fill-rule=\"evenodd\" fill-opacity=\"1\" /><path clip-path=\"url(#clip890)\" d=\"M751.177 1542.97 L756.061 1542.97 L756.061 1548.85 L751.177 1548.85 L751.177 1542.97 Z\" fill=\"#000000\" fill-rule=\"evenodd\" fill-opacity=\"1\" /><path clip-path=\"url(#clip890)\" d=\"M766.292 1514.29 L784.649 1514.29 L784.649 1518.22 L770.575 1518.22 L770.575 1526.7 Q771.593 1526.35 772.612 1526.19 Q773.63 1526 774.649 1526 Q780.436 1526 783.815 1529.17 Q787.195 1532.34 787.195 1537.76 Q787.195 1543.34 783.723 1546.44 Q780.251 1549.52 773.931 1549.52 Q771.755 1549.52 769.487 1549.15 Q767.241 1548.78 764.834 1548.04 L764.834 1543.34 Q766.917 1544.47 769.139 1545.03 Q771.362 1545.58 773.839 1545.58 Q777.843 1545.58 780.181 1543.48 Q782.519 1541.37 782.519 1537.76 Q782.519 1534.15 780.181 1532.04 Q777.843 1529.94 773.839 1529.94 Q771.964 1529.94 770.089 1530.35 Q768.237 1530.77 766.292 1531.65 L766.292 1514.29 Z\" fill=\"#000000\" fill-rule=\"evenodd\" fill-opacity=\"1\" /><path clip-path=\"url(#clip890)\" d=\"M1198.24 1517.37 Q1194.63 1517.37 1192.8 1520.93 Q1190.99 1524.47 1190.99 1531.6 Q1190.99 1538.71 1192.8 1542.27 Q1194.63 1545.82 1198.24 1545.82 Q1201.87 1545.82 1203.68 1542.27 Q1205.5 1538.71 1205.5 1531.6 Q1205.5 1524.47 1203.68 1520.93 Q1201.87 1517.37 1198.24 1517.37 M1198.24 1513.66 Q1204.05 1513.66 1207.1 1518.27 Q1210.18 1522.85 1210.18 1531.6 Q1210.18 1540.33 1207.1 1544.94 Q1204.05 1549.52 1198.24 1549.52 Q1192.43 1549.52 1189.35 1544.94 Q1186.29 1540.33 1186.29 1531.6 Q1186.29 1522.85 1189.35 1518.27 Q1192.43 1513.66 1198.24 1513.66 Z\" fill=\"#000000\" fill-rule=\"evenodd\" fill-opacity=\"1\" /><path clip-path=\"url(#clip890)\" d=\"M1218.4 1542.97 L1223.28 1542.97 L1223.28 1548.85 L1218.4 1548.85 L1218.4 1542.97 Z\" fill=\"#000000\" fill-rule=\"evenodd\" fill-opacity=\"1\" /><path clip-path=\"url(#clip890)\" d=\"M1243.47 1517.37 Q1239.86 1517.37 1238.03 1520.93 Q1236.22 1524.47 1236.22 1531.6 Q1236.22 1538.71 1238.03 1542.27 Q1239.86 1545.82 1243.47 1545.82 Q1247.1 1545.82 1248.91 1542.27 Q1250.74 1538.71 1250.74 1531.6 Q1250.74 1524.47 1248.91 1520.93 Q1247.1 1517.37 1243.47 1517.37 M1243.47 1513.66 Q1249.28 1513.66 1252.33 1518.27 Q1255.41 1522.85 1255.41 1531.6 Q1255.41 1540.33 1252.33 1544.94 Q1249.28 1549.52 1243.47 1549.52 Q1237.66 1549.52 1234.58 1544.94 Q1231.52 1540.33 1231.52 1531.6 Q1231.52 1522.85 1234.58 1518.27 Q1237.66 1513.66 1243.47 1513.66 Z\" fill=\"#000000\" fill-rule=\"evenodd\" fill-opacity=\"1\" /><path clip-path=\"url(#clip890)\" d=\"M1685.37 1517.37 Q1681.75 1517.37 1679.93 1520.93 Q1678.12 1524.47 1678.12 1531.6 Q1678.12 1538.71 1679.93 1542.27 Q1681.75 1545.82 1685.37 1545.82 Q1689 1545.82 1690.8 1542.27 Q1692.63 1538.71 1692.63 1531.6 Q1692.63 1524.47 1690.8 1520.93 Q1689 1517.37 1685.37 1517.37 M1685.37 1513.66 Q1691.18 1513.66 1694.23 1518.27 Q1697.31 1522.85 1697.31 1531.6 Q1697.31 1540.33 1694.23 1544.94 Q1691.18 1549.52 1685.37 1549.52 Q1679.55 1549.52 1676.48 1544.94 Q1673.42 1540.33 1673.42 1531.6 Q1673.42 1522.85 1676.48 1518.27 Q1679.55 1513.66 1685.37 1513.66 Z\" fill=\"#000000\" fill-rule=\"evenodd\" fill-opacity=\"1\" /><path clip-path=\"url(#clip890)\" d=\"M1705.53 1542.97 L1710.41 1542.97 L1710.41 1548.85 L1705.53 1548.85 L1705.53 1542.97 Z\" fill=\"#000000\" fill-rule=\"evenodd\" fill-opacity=\"1\" /><path clip-path=\"url(#clip890)\" d=\"M1720.64 1514.29 L1739 1514.29 L1739 1518.22 L1724.93 1518.22 L1724.93 1526.7 Q1725.94 1526.35 1726.96 1526.19 Q1727.98 1526 1729 1526 Q1734.79 1526 1738.17 1529.17 Q1741.55 1532.34 1741.55 1537.76 Q1741.55 1543.34 1738.07 1546.44 Q1734.6 1549.52 1728.28 1549.52 Q1726.11 1549.52 1723.84 1549.15 Q1721.59 1548.78 1719.18 1548.04 L1719.18 1543.34 Q1721.27 1544.47 1723.49 1545.03 Q1725.71 1545.58 1728.19 1545.58 Q1732.19 1545.58 1734.53 1543.48 Q1736.87 1541.37 1736.87 1537.76 Q1736.87 1534.15 1734.53 1532.04 Q1732.19 1529.94 1728.19 1529.94 Q1726.31 1529.94 1724.44 1530.35 Q1722.59 1530.77 1720.64 1531.65 L1720.64 1514.29 Z\" fill=\"#000000\" fill-rule=\"evenodd\" fill-opacity=\"1\" /><path clip-path=\"url(#clip890)\" d=\"M2161.27 1544.91 L2168.91 1544.91 L2168.91 1518.55 L2160.6 1520.21 L2160.6 1515.95 L2168.86 1514.29 L2173.54 1514.29 L2173.54 1544.91 L2181.17 1544.91 L2181.17 1548.85 L2161.27 1548.85 L2161.27 1544.91 Z\" fill=\"#000000\" fill-rule=\"evenodd\" fill-opacity=\"1\" /><path clip-path=\"url(#clip890)\" d=\"M2190.62 1542.97 L2195.5 1542.97 L2195.5 1548.85 L2190.62 1548.85 L2190.62 1542.97 Z\" fill=\"#000000\" fill-rule=\"evenodd\" fill-opacity=\"1\" /><path clip-path=\"url(#clip890)\" d=\"M2215.69 1517.37 Q2212.08 1517.37 2210.25 1520.93 Q2208.44 1524.47 2208.44 1531.6 Q2208.44 1538.71 2210.25 1542.27 Q2212.08 1545.82 2215.69 1545.82 Q2219.32 1545.82 2221.13 1542.27 Q2222.96 1538.71 2222.96 1531.6 Q2222.96 1524.47 2221.13 1520.93 Q2219.32 1517.37 2215.69 1517.37 M2215.69 1513.66 Q2221.5 1513.66 2224.55 1518.27 Q2227.63 1522.85 2227.63 1531.6 Q2227.63 1540.33 2224.55 1544.94 Q2221.5 1549.52 2215.69 1549.52 Q2209.88 1549.52 2206.8 1544.94 Q2203.74 1540.33 2203.74 1531.6 Q2203.74 1522.85 2206.8 1518.27 Q2209.88 1513.66 2215.69 1513.66 Z\" fill=\"#000000\" fill-rule=\"evenodd\" fill-opacity=\"1\" /><polyline clip-path=\"url(#clip892)\" style=\"stroke:#000000; stroke-linecap:butt; stroke-linejoin:round; stroke-width:2; stroke-opacity:0.1; fill:none\" points=\"\n",
       "  186.274,1445.72 2352.76,1445.72 \n",
       "  \"/>\n",
       "<polyline clip-path=\"url(#clip892)\" style=\"stroke:#000000; stroke-linecap:butt; stroke-linejoin:round; stroke-width:2; stroke-opacity:0.1; fill:none\" points=\"\n",
       "  186.274,1137.14 2352.76,1137.14 \n",
       "  \"/>\n",
       "<polyline clip-path=\"url(#clip892)\" style=\"stroke:#000000; stroke-linecap:butt; stroke-linejoin:round; stroke-width:2; stroke-opacity:0.1; fill:none\" points=\"\n",
       "  186.274,828.561 2352.76,828.561 \n",
       "  \"/>\n",
       "<polyline clip-path=\"url(#clip892)\" style=\"stroke:#000000; stroke-linecap:butt; stroke-linejoin:round; stroke-width:2; stroke-opacity:0.1; fill:none\" points=\"\n",
       "  186.274,519.984 2352.76,519.984 \n",
       "  \"/>\n",
       "<polyline clip-path=\"url(#clip892)\" style=\"stroke:#000000; stroke-linecap:butt; stroke-linejoin:round; stroke-width:2; stroke-opacity:0.1; fill:none\" points=\"\n",
       "  186.274,211.407 2352.76,211.407 \n",
       "  \"/>\n",
       "<polyline clip-path=\"url(#clip890)\" style=\"stroke:#000000; stroke-linecap:butt; stroke-linejoin:round; stroke-width:4; stroke-opacity:1; fill:none\" points=\"\n",
       "  186.274,1486.45 186.274,47.2441 \n",
       "  \"/>\n",
       "<polyline clip-path=\"url(#clip890)\" style=\"stroke:#000000; stroke-linecap:butt; stroke-linejoin:round; stroke-width:4; stroke-opacity:1; fill:none\" points=\"\n",
       "  186.274,1445.72 205.172,1445.72 \n",
       "  \"/>\n",
       "<polyline clip-path=\"url(#clip890)\" style=\"stroke:#000000; stroke-linecap:butt; stroke-linejoin:round; stroke-width:4; stroke-opacity:1; fill:none\" points=\"\n",
       "  186.274,1137.14 205.172,1137.14 \n",
       "  \"/>\n",
       "<polyline clip-path=\"url(#clip890)\" style=\"stroke:#000000; stroke-linecap:butt; stroke-linejoin:round; stroke-width:4; stroke-opacity:1; fill:none\" points=\"\n",
       "  186.274,828.561 205.172,828.561 \n",
       "  \"/>\n",
       "<polyline clip-path=\"url(#clip890)\" style=\"stroke:#000000; stroke-linecap:butt; stroke-linejoin:round; stroke-width:4; stroke-opacity:1; fill:none\" points=\"\n",
       "  186.274,519.984 205.172,519.984 \n",
       "  \"/>\n",
       "<polyline clip-path=\"url(#clip890)\" style=\"stroke:#000000; stroke-linecap:butt; stroke-linejoin:round; stroke-width:4; stroke-opacity:1; fill:none\" points=\"\n",
       "  186.274,211.407 205.172,211.407 \n",
       "  \"/>\n",
       "<path clip-path=\"url(#clip890)\" d=\"M62.9365 1431.51 Q59.3254 1431.51 57.4967 1435.08 Q55.6912 1438.62 55.6912 1445.75 Q55.6912 1452.86 57.4967 1456.42 Q59.3254 1459.96 62.9365 1459.96 Q66.5707 1459.96 68.3763 1456.42 Q70.205 1452.86 70.205 1445.75 Q70.205 1438.62 68.3763 1435.08 Q66.5707 1431.51 62.9365 1431.51 M62.9365 1427.81 Q68.7467 1427.81 71.8022 1432.42 Q74.8809 1437 74.8809 1445.75 Q74.8809 1454.48 71.8022 1459.08 Q68.7467 1463.67 62.9365 1463.67 Q57.1264 1463.67 54.0477 1459.08 Q50.9921 1454.48 50.9921 1445.75 Q50.9921 1437 54.0477 1432.42 Q57.1264 1427.81 62.9365 1427.81 Z\" fill=\"#000000\" fill-rule=\"evenodd\" fill-opacity=\"1\" /><path clip-path=\"url(#clip890)\" d=\"M83.0984 1457.12 L87.9827 1457.12 L87.9827 1463 L83.0984 1463 L83.0984 1457.12 Z\" fill=\"#000000\" fill-rule=\"evenodd\" fill-opacity=\"1\" /><path clip-path=\"url(#clip890)\" d=\"M108.168 1431.51 Q104.557 1431.51 102.728 1435.08 Q100.922 1438.62 100.922 1445.75 Q100.922 1452.86 102.728 1456.42 Q104.557 1459.96 108.168 1459.96 Q111.802 1459.96 113.608 1456.42 Q115.436 1452.86 115.436 1445.75 Q115.436 1438.62 113.608 1435.08 Q111.802 1431.51 108.168 1431.51 M108.168 1427.81 Q113.978 1427.81 117.033 1432.42 Q120.112 1437 120.112 1445.75 Q120.112 1454.48 117.033 1459.08 Q113.978 1463.67 108.168 1463.67 Q102.358 1463.67 99.2789 1459.08 Q96.2234 1454.48 96.2234 1445.75 Q96.2234 1437 99.2789 1432.42 Q102.358 1427.81 108.168 1427.81 Z\" fill=\"#000000\" fill-rule=\"evenodd\" fill-opacity=\"1\" /><path clip-path=\"url(#clip890)\" d=\"M138.33 1431.51 Q134.719 1431.51 132.89 1435.08 Q131.084 1438.62 131.084 1445.75 Q131.084 1452.86 132.89 1456.42 Q134.719 1459.96 138.33 1459.96 Q141.964 1459.96 143.769 1456.42 Q145.598 1452.86 145.598 1445.75 Q145.598 1438.62 143.769 1435.08 Q141.964 1431.51 138.33 1431.51 M138.33 1427.81 Q144.14 1427.81 147.195 1432.42 Q150.274 1437 150.274 1445.75 Q150.274 1454.48 147.195 1459.08 Q144.14 1463.67 138.33 1463.67 Q132.519 1463.67 129.441 1459.08 Q126.385 1454.48 126.385 1445.75 Q126.385 1437 129.441 1432.42 Q132.519 1427.81 138.33 1427.81 Z\" fill=\"#000000\" fill-rule=\"evenodd\" fill-opacity=\"1\" /><path clip-path=\"url(#clip890)\" d=\"M63.9319 1122.94 Q60.3208 1122.94 58.4921 1126.5 Q56.6865 1130.04 56.6865 1137.17 Q56.6865 1144.28 58.4921 1147.84 Q60.3208 1151.39 63.9319 1151.39 Q67.5661 1151.39 69.3717 1147.84 Q71.2004 1144.28 71.2004 1137.17 Q71.2004 1130.04 69.3717 1126.5 Q67.5661 1122.94 63.9319 1122.94 M63.9319 1119.23 Q69.742 1119.23 72.7976 1123.84 Q75.8763 1128.42 75.8763 1137.17 Q75.8763 1145.9 72.7976 1150.51 Q69.742 1155.09 63.9319 1155.09 Q58.1217 1155.09 55.043 1150.51 Q51.9875 1145.9 51.9875 1137.17 Q51.9875 1128.42 55.043 1123.84 Q58.1217 1119.23 63.9319 1119.23 Z\" fill=\"#000000\" fill-rule=\"evenodd\" fill-opacity=\"1\" /><path clip-path=\"url(#clip890)\" d=\"M84.0938 1148.54 L88.978 1148.54 L88.978 1154.42 L84.0938 1154.42 L84.0938 1148.54 Z\" fill=\"#000000\" fill-rule=\"evenodd\" fill-opacity=\"1\" /><path clip-path=\"url(#clip890)\" d=\"M103.191 1150.48 L119.51 1150.48 L119.51 1154.42 L97.566 1154.42 L97.566 1150.48 Q100.228 1147.73 104.811 1143.1 Q109.418 1138.45 110.598 1137.1 Q112.844 1134.58 113.723 1132.84 Q114.626 1131.09 114.626 1129.4 Q114.626 1126.64 112.682 1124.9 Q110.76 1123.17 107.658 1123.17 Q105.459 1123.17 103.006 1123.93 Q100.575 1124.7 97.7974 1126.25 L97.7974 1121.53 Q100.621 1120.39 103.075 1119.81 Q105.529 1119.23 107.566 1119.23 Q112.936 1119.23 116.131 1121.92 Q119.325 1124.6 119.325 1129.09 Q119.325 1131.22 118.515 1133.15 Q117.728 1135.04 115.621 1137.64 Q115.043 1138.31 111.941 1141.53 Q108.839 1144.72 103.191 1150.48 Z\" fill=\"#000000\" fill-rule=\"evenodd\" fill-opacity=\"1\" /><path clip-path=\"url(#clip890)\" d=\"M129.371 1119.86 L147.728 1119.86 L147.728 1123.79 L133.654 1123.79 L133.654 1132.27 Q134.672 1131.92 135.691 1131.76 Q136.709 1131.57 137.728 1131.57 Q143.515 1131.57 146.894 1134.74 Q150.274 1137.91 150.274 1143.33 Q150.274 1148.91 146.802 1152.01 Q143.33 1155.09 137.01 1155.09 Q134.834 1155.09 132.566 1154.72 Q130.32 1154.35 127.913 1153.61 L127.913 1148.91 Q129.996 1150.04 132.219 1150.6 Q134.441 1151.15 136.918 1151.15 Q140.922 1151.15 143.26 1149.05 Q145.598 1146.94 145.598 1143.33 Q145.598 1139.72 143.26 1137.61 Q140.922 1135.51 136.918 1135.51 Q135.043 1135.51 133.168 1135.92 Q131.316 1136.34 129.371 1137.22 L129.371 1119.86 Z\" fill=\"#000000\" fill-rule=\"evenodd\" fill-opacity=\"1\" /><path clip-path=\"url(#clip890)\" d=\"M62.9365 814.36 Q59.3254 814.36 57.4967 817.925 Q55.6912 821.467 55.6912 828.596 Q55.6912 835.703 57.4967 839.267 Q59.3254 842.809 62.9365 842.809 Q66.5707 842.809 68.3763 839.267 Q70.205 835.703 70.205 828.596 Q70.205 821.467 68.3763 817.925 Q66.5707 814.36 62.9365 814.36 M62.9365 810.656 Q68.7467 810.656 71.8022 815.263 Q74.8809 819.846 74.8809 828.596 Q74.8809 837.323 71.8022 841.929 Q68.7467 846.513 62.9365 846.513 Q57.1264 846.513 54.0477 841.929 Q50.9921 837.323 50.9921 828.596 Q50.9921 819.846 54.0477 815.263 Q57.1264 810.656 62.9365 810.656 Z\" fill=\"#000000\" fill-rule=\"evenodd\" fill-opacity=\"1\" /><path clip-path=\"url(#clip890)\" d=\"M83.0984 839.962 L87.9827 839.962 L87.9827 845.841 L83.0984 845.841 L83.0984 839.962 Z\" fill=\"#000000\" fill-rule=\"evenodd\" fill-opacity=\"1\" /><path clip-path=\"url(#clip890)\" d=\"M98.2141 811.281 L116.57 811.281 L116.57 815.217 L102.496 815.217 L102.496 823.689 Q103.515 823.342 104.534 823.179 Q105.552 822.994 106.571 822.994 Q112.358 822.994 115.737 826.166 Q119.117 829.337 119.117 834.754 Q119.117 840.332 115.645 843.434 Q112.172 846.513 105.853 846.513 Q103.677 846.513 101.409 846.142 Q99.1632 845.772 96.7558 845.031 L96.7558 840.332 Q98.8391 841.466 101.061 842.022 Q103.284 842.578 105.76 842.578 Q109.765 842.578 112.103 840.471 Q114.441 838.365 114.441 834.754 Q114.441 831.142 112.103 829.036 Q109.765 826.929 105.76 826.929 Q103.885 826.929 102.01 827.346 Q100.159 827.763 98.2141 828.642 L98.2141 811.281 Z\" fill=\"#000000\" fill-rule=\"evenodd\" fill-opacity=\"1\" /><path clip-path=\"url(#clip890)\" d=\"M138.33 814.36 Q134.719 814.36 132.89 817.925 Q131.084 821.467 131.084 828.596 Q131.084 835.703 132.89 839.267 Q134.719 842.809 138.33 842.809 Q141.964 842.809 143.769 839.267 Q145.598 835.703 145.598 828.596 Q145.598 821.467 143.769 817.925 Q141.964 814.36 138.33 814.36 M138.33 810.656 Q144.14 810.656 147.195 815.263 Q150.274 819.846 150.274 828.596 Q150.274 837.323 147.195 841.929 Q144.14 846.513 138.33 846.513 Q132.519 846.513 129.441 841.929 Q126.385 837.323 126.385 828.596 Q126.385 819.846 129.441 815.263 Q132.519 810.656 138.33 810.656 Z\" fill=\"#000000\" fill-rule=\"evenodd\" fill-opacity=\"1\" /><path clip-path=\"url(#clip890)\" d=\"M63.9319 505.783 Q60.3208 505.783 58.4921 509.348 Q56.6865 512.889 56.6865 520.019 Q56.6865 527.125 58.4921 530.69 Q60.3208 534.232 63.9319 534.232 Q67.5661 534.232 69.3717 530.69 Q71.2004 527.125 71.2004 520.019 Q71.2004 512.889 69.3717 509.348 Q67.5661 505.783 63.9319 505.783 M63.9319 502.079 Q69.742 502.079 72.7976 506.686 Q75.8763 511.269 75.8763 520.019 Q75.8763 528.746 72.7976 533.352 Q69.742 537.936 63.9319 537.936 Q58.1217 537.936 55.043 533.352 Q51.9875 528.746 51.9875 520.019 Q51.9875 511.269 55.043 506.686 Q58.1217 502.079 63.9319 502.079 Z\" fill=\"#000000\" fill-rule=\"evenodd\" fill-opacity=\"1\" /><path clip-path=\"url(#clip890)\" d=\"M84.0938 531.385 L88.978 531.385 L88.978 537.264 L84.0938 537.264 L84.0938 531.385 Z\" fill=\"#000000\" fill-rule=\"evenodd\" fill-opacity=\"1\" /><path clip-path=\"url(#clip890)\" d=\"M97.9826 502.704 L120.205 502.704 L120.205 504.695 L107.658 537.264 L102.774 537.264 L114.58 506.639 L97.9826 506.639 L97.9826 502.704 Z\" fill=\"#000000\" fill-rule=\"evenodd\" fill-opacity=\"1\" /><path clip-path=\"url(#clip890)\" d=\"M129.371 502.704 L147.728 502.704 L147.728 506.639 L133.654 506.639 L133.654 515.112 Q134.672 514.764 135.691 514.602 Q136.709 514.417 137.728 514.417 Q143.515 514.417 146.894 517.588 Q150.274 520.76 150.274 526.176 Q150.274 531.755 146.802 534.857 Q143.33 537.936 137.01 537.936 Q134.834 537.936 132.566 537.565 Q130.32 537.195 127.913 536.454 L127.913 531.755 Q129.996 532.889 132.219 533.445 Q134.441 534 136.918 534 Q140.922 534 143.26 531.894 Q145.598 529.787 145.598 526.176 Q145.598 522.565 143.26 520.459 Q140.922 518.352 136.918 518.352 Q135.043 518.352 133.168 518.769 Q131.316 519.186 129.371 520.065 L129.371 502.704 Z\" fill=\"#000000\" fill-rule=\"evenodd\" fill-opacity=\"1\" /><path clip-path=\"url(#clip890)\" d=\"M53.7467 224.752 L61.3856 224.752 L61.3856 198.386 L53.0754 200.053 L53.0754 195.794 L61.3393 194.127 L66.0152 194.127 L66.0152 224.752 L73.654 224.752 L73.654 228.687 L53.7467 228.687 L53.7467 224.752 Z\" fill=\"#000000\" fill-rule=\"evenodd\" fill-opacity=\"1\" /><path clip-path=\"url(#clip890)\" d=\"M83.0984 222.808 L87.9827 222.808 L87.9827 228.687 L83.0984 228.687 L83.0984 222.808 Z\" fill=\"#000000\" fill-rule=\"evenodd\" fill-opacity=\"1\" /><path clip-path=\"url(#clip890)\" d=\"M108.168 197.206 Q104.557 197.206 102.728 200.771 Q100.922 204.312 100.922 211.442 Q100.922 218.548 102.728 222.113 Q104.557 225.655 108.168 225.655 Q111.802 225.655 113.608 222.113 Q115.436 218.548 115.436 211.442 Q115.436 204.312 113.608 200.771 Q111.802 197.206 108.168 197.206 M108.168 193.502 Q113.978 193.502 117.033 198.109 Q120.112 202.692 120.112 211.442 Q120.112 220.169 117.033 224.775 Q113.978 229.358 108.168 229.358 Q102.358 229.358 99.2789 224.775 Q96.2234 220.169 96.2234 211.442 Q96.2234 202.692 99.2789 198.109 Q102.358 193.502 108.168 193.502 Z\" fill=\"#000000\" fill-rule=\"evenodd\" fill-opacity=\"1\" /><path clip-path=\"url(#clip890)\" d=\"M138.33 197.206 Q134.719 197.206 132.89 200.771 Q131.084 204.312 131.084 211.442 Q131.084 218.548 132.89 222.113 Q134.719 225.655 138.33 225.655 Q141.964 225.655 143.769 222.113 Q145.598 218.548 145.598 211.442 Q145.598 204.312 143.769 200.771 Q141.964 197.206 138.33 197.206 M138.33 193.502 Q144.14 193.502 147.195 198.109 Q150.274 202.692 150.274 211.442 Q150.274 220.169 147.195 224.775 Q144.14 229.358 138.33 229.358 Q132.519 229.358 129.441 224.775 Q126.385 220.169 126.385 211.442 Q126.385 202.692 129.441 198.109 Q132.519 193.502 138.33 193.502 Z\" fill=\"#000000\" fill-rule=\"evenodd\" fill-opacity=\"1\" /><path clip-path=\"url(#clip892)\" d=\"\n",
       "M247.59 1445.72 L2194.11 1322.28 L2291.44 828.561 L1318.18 87.9763 L247.59 766.846 L247.59 1445.72 L247.59 1445.72 L247.59 1445.72 L1318.18 1445.72 L2291.44 1445.72 \n",
       "  L2194.11 1445.72 L247.59 1445.72  Z\n",
       "  \" fill=\"#009af9\" fill-rule=\"evenodd\" fill-opacity=\"1\"/>\n",
       "<polyline clip-path=\"url(#clip892)\" style=\"stroke:#009af9; stroke-linecap:butt; stroke-linejoin:round; stroke-width:4; stroke-opacity:1; fill:none\" points=\"\n",
       "  247.59,1445.72 2194.11,1322.28 2291.44,828.561 1318.18,87.9763 247.59,766.846 247.59,1445.72 \n",
       "  \"/>\n",
       "</svg>\n"
      ]
     },
     "execution_count": 16,
     "metadata": {},
     "output_type": "execute_result"
    }
   ],
   "source": [
    "Q.sort();\n",
    "print(Q.angles())\n",
    "Q.plot()"
   ]
  },
  {
   "cell_type": "code",
   "execution_count": 17,
   "metadata": {
    "scrolled": true
   },
   "outputs": [
    {
     "name": "stdout",
     "output_type": "stream",
     "text": [
      "m=5 n=6\n",
      "angP= [0.49934672168013006, 2.792821650005886, 3.4903636571737002, 5.783838585499456, 100.0]\n",
      "angQ= [0.049958395721942765, 1.3258176636680323, 2.601173153319209, 3.6052402625905993, 4.71238898038469, 100.0]\n",
      "----- begin ----------\n",
      "R vertices: Vertex[Vertex(Real[-1.0, -0.6])]\n",
      "angQ[j] is minimal\n",
      "12\n",
      "R vertices: Vertex[Vertex(Real[-1.0, -0.6]), Vertex(Real[1.0, -0.5])]\n",
      "angP[i] is minimal\n",
      "22\n",
      "R vertices: Vertex[Vertex(Real[-1.0, -0.6]), Vertex(Real[1.0, -0.5]), Vertex(Real[2.1, 0.1])]\n",
      "angQ[j] is minimal\n",
      "23\n",
      "R vertices: Vertex[Vertex(Real[-1.0, -0.6]), Vertex(Real[1.0, -0.5]), Vertex(Real[2.1, 0.1]), Vertex(Real[2.2, 0.5])]\n",
      "angQ[j] is minimal\n",
      "24\n",
      "R vertices: Vertex[Vertex(Real[-1.0, -0.6]), Vertex(Real[1.0, -0.5]), Vertex(Real[2.1, 0.1]), Vertex(Real[2.2, 0.5]), Vertex(Real[1.2000000000000002, 1.1])]\n",
      "angP[i] is minimal\n",
      "34\n",
      "R vertices: Vertex[Vertex(Real[-1.0, -0.6]), Vertex(Real[1.0, -0.5]), Vertex(Real[2.1, 0.1]), Vertex(Real[2.2, 0.5]), Vertex(Real[1.2000000000000002, 1.1]), Vertex(Real[0.1, 1.5])]\n",
      "angP[i] is minimal\n",
      "44\n",
      "R vertices: Vertex[Vertex(Real[-1.0, -0.6]), Vertex(Real[1.0, -0.5]), Vertex(Real[2.1, 0.1]), Vertex(Real[2.2, 0.5]), Vertex(Real[1.2000000000000002, 1.1]), Vertex(Real[0.1, 1.5]), Vertex(Real[-1.0, 1.1])]\n",
      "angQ[j] is minimal\n",
      "45\n",
      "R vertices: Vertex[Vertex(Real[-1.0, -0.6]), Vertex(Real[1.0, -0.5]), Vertex(Real[2.1, 0.1]), Vertex(Real[2.2, 0.5]), Vertex(Real[1.2000000000000002, 1.1]), Vertex(Real[0.1, 1.5]), Vertex(Real[-1.0, 1.1]), Vertex(Real[-2.1, 0.55])]\n",
      "angQ[j] is minimal\n",
      "46\n",
      "R vertices: Vertex[Vertex(Real[-1.0, -0.6]), Vertex(Real[1.0, -0.5]), Vertex(Real[2.1, 0.1]), Vertex(Real[2.2, 0.5]), Vertex(Real[1.2000000000000002, 1.1]), Vertex(Real[0.1, 1.5]), Vertex(Real[-1.0, 1.1]), Vertex(Real[-2.1, 0.55]), Vertex(Real[-2.1, 0.0])]\n",
      "angP[i] is minimal\n",
      "56\n",
      "R vertices: Vertex[Vertex(Real[-1.0, -0.6]), Vertex(Real[1.0, -0.5]), Vertex(Real[2.1, 0.1]), Vertex(Real[2.2, 0.5]), Vertex(Real[1.2000000000000002, 1.1]), Vertex(Real[0.1, 1.5]), Vertex(Real[-1.0, 1.1]), Vertex(Real[-2.1, 0.55]), Vertex(Real[-2.1, 0.0]), Vertex(Real[-1.0, -0.6])]\n"
     ]
    },
    {
     "data": {
      "text/plain": [
       "Polygon(Vertex[Vertex(Real[-1.0, -0.6]), Vertex(Real[1.0, -0.5]), Vertex(Real[2.1, 0.1]), Vertex(Real[2.2, 0.5]), Vertex(Real[1.2000000000000002, 1.1]), Vertex(Real[0.1, 1.5]), Vertex(Real[-1.0, 1.1]), Vertex(Real[-2.1, 0.55]), Vertex(Real[-2.1, 0.0]), Vertex(Real[-1.0, -0.6])], var\"#7#11\"{Polygon}(Polygon(#= circular reference @-2 =#)), var\"#9#13\"{Polygon}(Polygon(#= circular reference @-2 =#)), var\"#8#12\"{Polygon}(Polygon(#= circular reference @-2 =#)), var\"#10#14\"{Polygon}(Polygon(#= circular reference @-2 =#)))"
      ]
     },
     "execution_count": 17,
     "metadata": {},
     "output_type": "execute_result"
    }
   ],
   "source": [
    "R=minkowskiSum(P,Q)\n",
    "#print(R.angles())"
   ]
  },
  {
   "cell_type": "code",
   "execution_count": 18,
   "metadata": {},
   "outputs": [
    {
     "data": {
      "image/svg+xml": [
       "<?xml version=\"1.0\" encoding=\"utf-8\"?>\n",
       "<svg xmlns=\"http://www.w3.org/2000/svg\" xmlns:xlink=\"http://www.w3.org/1999/xlink\" width=\"600\" height=\"400\" viewBox=\"0 0 2400 1600\">\n",
       "<defs>\n",
       "  <clipPath id=\"clip930\">\n",
       "    <rect x=\"0\" y=\"0\" width=\"2400\" height=\"1600\"/>\n",
       "  </clipPath>\n",
       "</defs>\n",
       "<path clip-path=\"url(#clip930)\" d=\"\n",
       "M0 1600 L2400 1600 L2400 0 L0 0  Z\n",
       "  \" fill=\"#ffffff\" fill-rule=\"evenodd\" fill-opacity=\"1\"/>\n",
       "<defs>\n",
       "  <clipPath id=\"clip931\">\n",
       "    <rect x=\"480\" y=\"0\" width=\"1681\" height=\"1600\"/>\n",
       "  </clipPath>\n",
       "</defs>\n",
       "<path clip-path=\"url(#clip930)\" d=\"\n",
       "M192.941 1486.45 L2352.76 1486.45 L2352.76 47.2441 L192.941 47.2441  Z\n",
       "  \" fill=\"#ffffff\" fill-rule=\"evenodd\" fill-opacity=\"1\"/>\n",
       "<defs>\n",
       "  <clipPath id=\"clip932\">\n",
       "    <rect x=\"192\" y=\"47\" width=\"2161\" height=\"1440\"/>\n",
       "  </clipPath>\n",
       "</defs>\n",
       "<polyline clip-path=\"url(#clip932)\" style=\"stroke:#000000; stroke-linecap:butt; stroke-linejoin:round; stroke-width:2; stroke-opacity:0.1; fill:none\" points=\"\n",
       "  301.453,1486.45 301.453,47.2441 \n",
       "  \"/>\n",
       "<polyline clip-path=\"url(#clip932)\" style=\"stroke:#000000; stroke-linecap:butt; stroke-linejoin:round; stroke-width:2; stroke-opacity:0.1; fill:none\" points=\"\n",
       "  775.304,1486.45 775.304,47.2441 \n",
       "  \"/>\n",
       "<polyline clip-path=\"url(#clip932)\" style=\"stroke:#000000; stroke-linecap:butt; stroke-linejoin:round; stroke-width:2; stroke-opacity:0.1; fill:none\" points=\"\n",
       "  1249.16,1486.45 1249.16,47.2441 \n",
       "  \"/>\n",
       "<polyline clip-path=\"url(#clip932)\" style=\"stroke:#000000; stroke-linecap:butt; stroke-linejoin:round; stroke-width:2; stroke-opacity:0.1; fill:none\" points=\"\n",
       "  1723.01,1486.45 1723.01,47.2441 \n",
       "  \"/>\n",
       "<polyline clip-path=\"url(#clip932)\" style=\"stroke:#000000; stroke-linecap:butt; stroke-linejoin:round; stroke-width:2; stroke-opacity:0.1; fill:none\" points=\"\n",
       "  2196.86,1486.45 2196.86,47.2441 \n",
       "  \"/>\n",
       "<polyline clip-path=\"url(#clip930)\" style=\"stroke:#000000; stroke-linecap:butt; stroke-linejoin:round; stroke-width:4; stroke-opacity:1; fill:none\" points=\"\n",
       "  192.941,1486.45 2352.76,1486.45 \n",
       "  \"/>\n",
       "<polyline clip-path=\"url(#clip930)\" style=\"stroke:#000000; stroke-linecap:butt; stroke-linejoin:round; stroke-width:4; stroke-opacity:1; fill:none\" points=\"\n",
       "  301.453,1486.45 301.453,1467.55 \n",
       "  \"/>\n",
       "<polyline clip-path=\"url(#clip930)\" style=\"stroke:#000000; stroke-linecap:butt; stroke-linejoin:round; stroke-width:4; stroke-opacity:1; fill:none\" points=\"\n",
       "  775.304,1486.45 775.304,1467.55 \n",
       "  \"/>\n",
       "<polyline clip-path=\"url(#clip930)\" style=\"stroke:#000000; stroke-linecap:butt; stroke-linejoin:round; stroke-width:4; stroke-opacity:1; fill:none\" points=\"\n",
       "  1249.16,1486.45 1249.16,1467.55 \n",
       "  \"/>\n",
       "<polyline clip-path=\"url(#clip930)\" style=\"stroke:#000000; stroke-linecap:butt; stroke-linejoin:round; stroke-width:4; stroke-opacity:1; fill:none\" points=\"\n",
       "  1723.01,1486.45 1723.01,1467.55 \n",
       "  \"/>\n",
       "<polyline clip-path=\"url(#clip930)\" style=\"stroke:#000000; stroke-linecap:butt; stroke-linejoin:round; stroke-width:4; stroke-opacity:1; fill:none\" points=\"\n",
       "  2196.86,1486.45 2196.86,1467.55 \n",
       "  \"/>\n",
       "<path clip-path=\"url(#clip930)\" d=\"M271.395 1532.02 L301.071 1532.02 L301.071 1535.95 L271.395 1535.95 L271.395 1532.02 Z\" fill=\"#000000\" fill-rule=\"evenodd\" fill-opacity=\"1\" /><path clip-path=\"url(#clip930)\" d=\"M315.191 1544.91 L331.51 1544.91 L331.51 1548.85 L309.566 1548.85 L309.566 1544.91 Q312.228 1542.16 316.811 1537.53 Q321.418 1532.88 322.598 1531.53 Q324.844 1529.01 325.723 1527.27 Q326.626 1525.51 326.626 1523.82 Q326.626 1521.07 324.682 1519.33 Q322.76 1517.6 319.659 1517.6 Q317.459 1517.6 315.006 1518.36 Q312.575 1519.13 309.797 1520.68 L309.797 1515.95 Q312.622 1514.82 315.075 1514.24 Q317.529 1513.66 319.566 1513.66 Q324.936 1513.66 328.131 1516.35 Q331.325 1519.03 331.325 1523.52 Q331.325 1525.65 330.515 1527.57 Q329.728 1529.47 327.621 1532.07 Q327.043 1532.74 323.941 1535.95 Q320.839 1539.15 315.191 1544.91 Z\" fill=\"#000000\" fill-rule=\"evenodd\" fill-opacity=\"1\" /><path clip-path=\"url(#clip930)\" d=\"M745.061 1532.02 L774.737 1532.02 L774.737 1535.95 L745.061 1535.95 L745.061 1532.02 Z\" fill=\"#000000\" fill-rule=\"evenodd\" fill-opacity=\"1\" /><path clip-path=\"url(#clip930)\" d=\"M785.64 1544.91 L793.279 1544.91 L793.279 1518.55 L784.968 1520.21 L784.968 1515.95 L793.232 1514.29 L797.908 1514.29 L797.908 1544.91 L805.547 1544.91 L805.547 1548.85 L785.64 1548.85 L785.64 1544.91 Z\" fill=\"#000000\" fill-rule=\"evenodd\" fill-opacity=\"1\" /><path clip-path=\"url(#clip930)\" d=\"M1249.16 1517.37 Q1245.54 1517.37 1243.72 1520.93 Q1241.91 1524.47 1241.91 1531.6 Q1241.91 1538.71 1243.72 1542.27 Q1245.54 1545.82 1249.16 1545.82 Q1252.79 1545.82 1254.6 1542.27 Q1256.42 1538.71 1256.42 1531.6 Q1256.42 1524.47 1254.6 1520.93 Q1252.79 1517.37 1249.16 1517.37 M1249.16 1513.66 Q1254.97 1513.66 1258.02 1518.27 Q1261.1 1522.85 1261.1 1531.6 Q1261.1 1540.33 1258.02 1544.94 Q1254.97 1549.52 1249.16 1549.52 Q1243.35 1549.52 1240.27 1544.94 Q1237.21 1540.33 1237.21 1531.6 Q1237.21 1522.85 1240.27 1518.27 Q1243.35 1513.66 1249.16 1513.66 Z\" fill=\"#000000\" fill-rule=\"evenodd\" fill-opacity=\"1\" /><path clip-path=\"url(#clip930)\" d=\"M1713.39 1544.91 L1721.03 1544.91 L1721.03 1518.55 L1712.72 1520.21 L1712.72 1515.95 L1720.98 1514.29 L1725.66 1514.29 L1725.66 1544.91 L1733.3 1544.91 L1733.3 1548.85 L1713.39 1548.85 L1713.39 1544.91 Z\" fill=\"#000000\" fill-rule=\"evenodd\" fill-opacity=\"1\" /><path clip-path=\"url(#clip930)\" d=\"M2191.51 1544.91 L2207.83 1544.91 L2207.83 1548.85 L2185.89 1548.85 L2185.89 1544.91 Q2188.55 1542.16 2193.13 1537.53 Q2197.74 1532.88 2198.92 1531.53 Q2201.16 1529.01 2202.04 1527.27 Q2202.95 1525.51 2202.95 1523.82 Q2202.95 1521.07 2201 1519.33 Q2199.08 1517.6 2195.98 1517.6 Q2193.78 1517.6 2191.33 1518.36 Q2188.9 1519.13 2186.12 1520.68 L2186.12 1515.95 Q2188.94 1514.82 2191.4 1514.24 Q2193.85 1513.66 2195.89 1513.66 Q2201.26 1513.66 2204.45 1516.35 Q2207.65 1519.03 2207.65 1523.52 Q2207.65 1525.65 2206.84 1527.57 Q2206.05 1529.47 2203.94 1532.07 Q2203.36 1532.74 2200.26 1535.95 Q2197.16 1539.15 2191.51 1544.91 Z\" fill=\"#000000\" fill-rule=\"evenodd\" fill-opacity=\"1\" /><polyline clip-path=\"url(#clip932)\" style=\"stroke:#000000; stroke-linecap:butt; stroke-linejoin:round; stroke-width:2; stroke-opacity:0.1; fill:none\" points=\"\n",
       "  192.941,1381.06 2352.76,1381.06 \n",
       "  \"/>\n",
       "<polyline clip-path=\"url(#clip932)\" style=\"stroke:#000000; stroke-linecap:butt; stroke-linejoin:round; stroke-width:2; stroke-opacity:0.1; fill:none\" points=\"\n",
       "  192.941,1057.79 2352.76,1057.79 \n",
       "  \"/>\n",
       "<polyline clip-path=\"url(#clip932)\" style=\"stroke:#000000; stroke-linecap:butt; stroke-linejoin:round; stroke-width:2; stroke-opacity:0.1; fill:none\" points=\"\n",
       "  192.941,734.519 2352.76,734.519 \n",
       "  \"/>\n",
       "<polyline clip-path=\"url(#clip932)\" style=\"stroke:#000000; stroke-linecap:butt; stroke-linejoin:round; stroke-width:2; stroke-opacity:0.1; fill:none\" points=\"\n",
       "  192.941,411.248 2352.76,411.248 \n",
       "  \"/>\n",
       "<polyline clip-path=\"url(#clip932)\" style=\"stroke:#000000; stroke-linecap:butt; stroke-linejoin:round; stroke-width:2; stroke-opacity:0.1; fill:none\" points=\"\n",
       "  192.941,87.9763 2352.76,87.9763 \n",
       "  \"/>\n",
       "<polyline clip-path=\"url(#clip930)\" style=\"stroke:#000000; stroke-linecap:butt; stroke-linejoin:round; stroke-width:4; stroke-opacity:1; fill:none\" points=\"\n",
       "  192.941,1486.45 192.941,47.2441 \n",
       "  \"/>\n",
       "<polyline clip-path=\"url(#clip930)\" style=\"stroke:#000000; stroke-linecap:butt; stroke-linejoin:round; stroke-width:4; stroke-opacity:1; fill:none\" points=\"\n",
       "  192.941,1381.06 211.838,1381.06 \n",
       "  \"/>\n",
       "<polyline clip-path=\"url(#clip930)\" style=\"stroke:#000000; stroke-linecap:butt; stroke-linejoin:round; stroke-width:4; stroke-opacity:1; fill:none\" points=\"\n",
       "  192.941,1057.79 211.838,1057.79 \n",
       "  \"/>\n",
       "<polyline clip-path=\"url(#clip930)\" style=\"stroke:#000000; stroke-linecap:butt; stroke-linejoin:round; stroke-width:4; stroke-opacity:1; fill:none\" points=\"\n",
       "  192.941,734.519 211.838,734.519 \n",
       "  \"/>\n",
       "<polyline clip-path=\"url(#clip930)\" style=\"stroke:#000000; stroke-linecap:butt; stroke-linejoin:round; stroke-width:4; stroke-opacity:1; fill:none\" points=\"\n",
       "  192.941,411.248 211.838,411.248 \n",
       "  \"/>\n",
       "<polyline clip-path=\"url(#clip930)\" style=\"stroke:#000000; stroke-linecap:butt; stroke-linejoin:round; stroke-width:4; stroke-opacity:1; fill:none\" points=\"\n",
       "  192.941,87.9763 211.838,87.9763 \n",
       "  \"/>\n",
       "<path clip-path=\"url(#clip930)\" d=\"M50.9921 1381.51 L80.6679 1381.51 L80.6679 1385.45 L50.9921 1385.45 L50.9921 1381.51 Z\" fill=\"#000000\" fill-rule=\"evenodd\" fill-opacity=\"1\" /><path clip-path=\"url(#clip930)\" d=\"M100.76 1366.86 Q97.1493 1366.86 95.3206 1370.42 Q93.515 1373.97 93.515 1381.1 Q93.515 1388.2 95.3206 1391.77 Q97.1493 1395.31 100.76 1395.31 Q104.395 1395.31 106.2 1391.77 Q108.029 1388.2 108.029 1381.1 Q108.029 1373.97 106.2 1370.42 Q104.395 1366.86 100.76 1366.86 M100.76 1363.16 Q106.571 1363.16 109.626 1367.76 Q112.705 1372.35 112.705 1381.1 Q112.705 1389.82 109.626 1394.43 Q106.571 1399.01 100.76 1399.01 Q94.9502 1399.01 91.8715 1394.43 Q88.816 1389.82 88.816 1381.1 Q88.816 1372.35 91.8715 1367.76 Q94.9502 1363.16 100.76 1363.16 Z\" fill=\"#000000\" fill-rule=\"evenodd\" fill-opacity=\"1\" /><path clip-path=\"url(#clip930)\" d=\"M120.922 1392.46 L125.807 1392.46 L125.807 1398.34 L120.922 1398.34 L120.922 1392.46 Z\" fill=\"#000000\" fill-rule=\"evenodd\" fill-opacity=\"1\" /><path clip-path=\"url(#clip930)\" d=\"M136.038 1363.78 L154.394 1363.78 L154.394 1367.72 L140.32 1367.72 L140.32 1376.19 Q141.339 1375.84 142.357 1375.68 Q143.376 1375.49 144.394 1375.49 Q150.181 1375.49 153.561 1378.67 Q156.941 1381.84 156.941 1387.25 Q156.941 1392.83 153.468 1395.93 Q149.996 1399.01 143.677 1399.01 Q141.501 1399.01 139.232 1398.64 Q136.987 1398.27 134.58 1397.53 L134.58 1392.83 Q136.663 1393.97 138.885 1394.52 Q141.107 1395.08 143.584 1395.08 Q147.589 1395.08 149.927 1392.97 Q152.265 1390.86 152.265 1387.25 Q152.265 1383.64 149.927 1381.54 Q147.589 1379.43 143.584 1379.43 Q141.709 1379.43 139.834 1379.85 Q137.982 1380.26 136.038 1381.14 L136.038 1363.78 Z\" fill=\"#000000\" fill-rule=\"evenodd\" fill-opacity=\"1\" /><path clip-path=\"url(#clip930)\" d=\"M99.765 1043.59 Q96.1539 1043.59 94.3252 1047.15 Q92.5197 1050.7 92.5197 1057.82 Q92.5197 1064.93 94.3252 1068.5 Q96.1539 1072.04 99.765 1072.04 Q103.399 1072.04 105.205 1068.5 Q107.033 1064.93 107.033 1057.82 Q107.033 1050.7 105.205 1047.15 Q103.399 1043.59 99.765 1043.59 M99.765 1039.89 Q105.575 1039.89 108.631 1044.49 Q111.709 1049.07 111.709 1057.82 Q111.709 1066.55 108.631 1071.16 Q105.575 1075.74 99.765 1075.74 Q93.9549 1075.74 90.8762 1071.16 Q87.8206 1066.55 87.8206 1057.82 Q87.8206 1049.07 90.8762 1044.49 Q93.9549 1039.89 99.765 1039.89 Z\" fill=\"#000000\" fill-rule=\"evenodd\" fill-opacity=\"1\" /><path clip-path=\"url(#clip930)\" d=\"M119.927 1069.19 L124.811 1069.19 L124.811 1075.07 L119.927 1075.07 L119.927 1069.19 Z\" fill=\"#000000\" fill-rule=\"evenodd\" fill-opacity=\"1\" /><path clip-path=\"url(#clip930)\" d=\"M144.996 1043.59 Q141.385 1043.59 139.556 1047.15 Q137.751 1050.7 137.751 1057.82 Q137.751 1064.93 139.556 1068.5 Q141.385 1072.04 144.996 1072.04 Q148.63 1072.04 150.436 1068.5 Q152.265 1064.93 152.265 1057.82 Q152.265 1050.7 150.436 1047.15 Q148.63 1043.59 144.996 1043.59 M144.996 1039.89 Q150.806 1039.89 153.862 1044.49 Q156.941 1049.07 156.941 1057.82 Q156.941 1066.55 153.862 1071.16 Q150.806 1075.74 144.996 1075.74 Q139.186 1075.74 136.107 1071.16 Q133.052 1066.55 133.052 1057.82 Q133.052 1049.07 136.107 1044.49 Q139.186 1039.89 144.996 1039.89 Z\" fill=\"#000000\" fill-rule=\"evenodd\" fill-opacity=\"1\" /><path clip-path=\"url(#clip930)\" d=\"M100.76 720.318 Q97.1493 720.318 95.3206 723.882 Q93.515 727.424 93.515 734.554 Q93.515 741.66 95.3206 745.225 Q97.1493 748.766 100.76 748.766 Q104.395 748.766 106.2 745.225 Q108.029 741.66 108.029 734.554 Q108.029 727.424 106.2 723.882 Q104.395 720.318 100.76 720.318 M100.76 716.614 Q106.571 716.614 109.626 721.22 Q112.705 725.804 112.705 734.554 Q112.705 743.28 109.626 747.887 Q106.571 752.47 100.76 752.47 Q94.9502 752.47 91.8715 747.887 Q88.816 743.28 88.816 734.554 Q88.816 725.804 91.8715 721.22 Q94.9502 716.614 100.76 716.614 Z\" fill=\"#000000\" fill-rule=\"evenodd\" fill-opacity=\"1\" /><path clip-path=\"url(#clip930)\" d=\"M120.922 745.919 L125.807 745.919 L125.807 751.799 L120.922 751.799 L120.922 745.919 Z\" fill=\"#000000\" fill-rule=\"evenodd\" fill-opacity=\"1\" /><path clip-path=\"url(#clip930)\" d=\"M136.038 717.239 L154.394 717.239 L154.394 721.174 L140.32 721.174 L140.32 729.646 Q141.339 729.299 142.357 729.137 Q143.376 728.952 144.394 728.952 Q150.181 728.952 153.561 732.123 Q156.941 735.294 156.941 740.711 Q156.941 746.29 153.468 749.391 Q149.996 752.47 143.677 752.47 Q141.501 752.47 139.232 752.1 Q136.987 751.729 134.58 750.989 L134.58 746.29 Q136.663 747.424 138.885 747.979 Q141.107 748.535 143.584 748.535 Q147.589 748.535 149.927 746.429 Q152.265 744.322 152.265 740.711 Q152.265 737.1 149.927 734.993 Q147.589 732.887 143.584 732.887 Q141.709 732.887 139.834 733.304 Q137.982 733.72 136.038 734.6 L136.038 717.239 Z\" fill=\"#000000\" fill-rule=\"evenodd\" fill-opacity=\"1\" /><path clip-path=\"url(#clip930)\" d=\"M90.5752 424.592 L98.2141 424.592 L98.2141 398.227 L89.904 399.893 L89.904 395.634 L98.1678 393.968 L102.844 393.968 L102.844 424.592 L110.483 424.592 L110.483 428.528 L90.5752 428.528 L90.5752 424.592 Z\" fill=\"#000000\" fill-rule=\"evenodd\" fill-opacity=\"1\" /><path clip-path=\"url(#clip930)\" d=\"M119.927 422.648 L124.811 422.648 L124.811 428.528 L119.927 428.528 L119.927 422.648 Z\" fill=\"#000000\" fill-rule=\"evenodd\" fill-opacity=\"1\" /><path clip-path=\"url(#clip930)\" d=\"M144.996 397.046 Q141.385 397.046 139.556 400.611 Q137.751 404.153 137.751 411.282 Q137.751 418.389 139.556 421.954 Q141.385 425.495 144.996 425.495 Q148.63 425.495 150.436 421.954 Q152.265 418.389 152.265 411.282 Q152.265 404.153 150.436 400.611 Q148.63 397.046 144.996 397.046 M144.996 393.343 Q150.806 393.343 153.862 397.949 Q156.941 402.532 156.941 411.282 Q156.941 420.009 153.862 424.616 Q150.806 429.199 144.996 429.199 Q139.186 429.199 136.107 424.616 Q133.052 420.009 133.052 411.282 Q133.052 402.532 136.107 397.949 Q139.186 393.343 144.996 393.343 Z\" fill=\"#000000\" fill-rule=\"evenodd\" fill-opacity=\"1\" /><path clip-path=\"url(#clip930)\" d=\"M91.5706 101.321 L99.2095 101.321 L99.2095 74.9555 L90.8993 76.6222 L90.8993 72.3629 L99.1632 70.6963 L103.839 70.6963 L103.839 101.321 L111.478 101.321 L111.478 105.256 L91.5706 105.256 L91.5706 101.321 Z\" fill=\"#000000\" fill-rule=\"evenodd\" fill-opacity=\"1\" /><path clip-path=\"url(#clip930)\" d=\"M120.922 99.3767 L125.807 99.3767 L125.807 105.256 L120.922 105.256 L120.922 99.3767 Z\" fill=\"#000000\" fill-rule=\"evenodd\" fill-opacity=\"1\" /><path clip-path=\"url(#clip930)\" d=\"M136.038 70.6963 L154.394 70.6963 L154.394 74.6314 L140.32 74.6314 L140.32 83.1036 Q141.339 82.7564 142.357 82.5944 Q143.376 82.4092 144.394 82.4092 Q150.181 82.4092 153.561 85.5805 Q156.941 88.7517 156.941 94.1684 Q156.941 99.747 153.468 102.849 Q149.996 105.928 143.677 105.928 Q141.501 105.928 139.232 105.557 Q136.987 105.187 134.58 104.446 L134.58 99.747 Q136.663 100.881 138.885 101.437 Q141.107 101.992 143.584 101.992 Q147.589 101.992 149.927 99.8859 Q152.265 97.7795 152.265 94.1684 Q152.265 90.5573 149.927 88.4508 Q147.589 86.3443 143.584 86.3443 Q141.709 86.3443 139.834 86.761 Q137.982 87.1777 136.038 88.0573 L136.038 70.6963 Z\" fill=\"#000000\" fill-rule=\"evenodd\" fill-opacity=\"1\" /><path clip-path=\"url(#clip932)\" d=\"\n",
       "M775.304 1445.72 L775.304 1445.72 L1723.01 1381.06 L2244.24 993.136 L2291.63 734.519 L1817.78 346.593 L1296.54 87.9763 L775.304 346.593 L254.067 702.192 L254.067 1057.79 \n",
       "  L775.304 1445.72 L775.304 1057.79 L254.067 1057.79 L254.067 1057.79 L775.304 1057.79 L1296.54 1057.79 L1817.78 1057.79 L2291.63 1057.79 L2244.24 1057.79 L1723.01 1057.79 \n",
       "  L775.304 1057.79 L775.304 1057.79  Z\n",
       "  \" fill=\"#009af9\" fill-rule=\"evenodd\" fill-opacity=\"1\"/>\n",
       "<polyline clip-path=\"url(#clip932)\" style=\"stroke:#009af9; stroke-linecap:butt; stroke-linejoin:round; stroke-width:4; stroke-opacity:1; fill:none\" points=\"\n",
       "  775.304,1445.72 775.304,1445.72 1723.01,1381.06 2244.24,993.136 2291.63,734.519 1817.78,346.593 1296.54,87.9763 775.304,346.593 254.067,702.192 254.067,1057.79 \n",
       "  775.304,1445.72 \n",
       "  \"/>\n",
       "</svg>\n"
      ]
     },
     "execution_count": 18,
     "metadata": {},
     "output_type": "execute_result"
    }
   ],
   "source": [
    "R.sort();\n",
    "R.plot()"
   ]
  },
  {
   "cell_type": "code",
   "execution_count": 19,
   "metadata": {},
   "outputs": [
    {
     "data": {
      "image/svg+xml": [
       "<?xml version=\"1.0\" encoding=\"utf-8\"?>\n",
       "<svg xmlns=\"http://www.w3.org/2000/svg\" xmlns:xlink=\"http://www.w3.org/1999/xlink\" width=\"600\" height=\"400\" viewBox=\"0 0 2400 1600\">\n",
       "<defs>\n",
       "  <clipPath id=\"clip970\">\n",
       "    <rect x=\"0\" y=\"0\" width=\"2400\" height=\"1600\"/>\n",
       "  </clipPath>\n",
       "</defs>\n",
       "<path clip-path=\"url(#clip970)\" d=\"\n",
       "M0 1600 L2400 1600 L2400 0 L0 0  Z\n",
       "  \" fill=\"#ffffff\" fill-rule=\"evenodd\" fill-opacity=\"1\"/>\n",
       "<defs>\n",
       "  <clipPath id=\"clip971\">\n",
       "    <rect x=\"480\" y=\"0\" width=\"1681\" height=\"1600\"/>\n",
       "  </clipPath>\n",
       "</defs>\n",
       "<path clip-path=\"url(#clip970)\" d=\"\n",
       "M192.941 1486.45 L2352.76 1486.45 L2352.76 47.2441 L192.941 47.2441  Z\n",
       "  \" fill=\"#ffffff\" fill-rule=\"evenodd\" fill-opacity=\"1\"/>\n",
       "<defs>\n",
       "  <clipPath id=\"clip972\">\n",
       "    <rect x=\"192\" y=\"47\" width=\"2161\" height=\"1440\"/>\n",
       "  </clipPath>\n",
       "</defs>\n",
       "<polyline clip-path=\"url(#clip972)\" style=\"stroke:#000000; stroke-linecap:butt; stroke-linejoin:round; stroke-width:2; stroke-opacity:0.1; fill:none\" points=\"\n",
       "  301.453,1486.45 301.453,47.2441 \n",
       "  \"/>\n",
       "<polyline clip-path=\"url(#clip972)\" style=\"stroke:#000000; stroke-linecap:butt; stroke-linejoin:round; stroke-width:2; stroke-opacity:0.1; fill:none\" points=\"\n",
       "  775.304,1486.45 775.304,47.2441 \n",
       "  \"/>\n",
       "<polyline clip-path=\"url(#clip972)\" style=\"stroke:#000000; stroke-linecap:butt; stroke-linejoin:round; stroke-width:2; stroke-opacity:0.1; fill:none\" points=\"\n",
       "  1249.16,1486.45 1249.16,47.2441 \n",
       "  \"/>\n",
       "<polyline clip-path=\"url(#clip972)\" style=\"stroke:#000000; stroke-linecap:butt; stroke-linejoin:round; stroke-width:2; stroke-opacity:0.1; fill:none\" points=\"\n",
       "  1723.01,1486.45 1723.01,47.2441 \n",
       "  \"/>\n",
       "<polyline clip-path=\"url(#clip972)\" style=\"stroke:#000000; stroke-linecap:butt; stroke-linejoin:round; stroke-width:2; stroke-opacity:0.1; fill:none\" points=\"\n",
       "  2196.86,1486.45 2196.86,47.2441 \n",
       "  \"/>\n",
       "<polyline clip-path=\"url(#clip970)\" style=\"stroke:#000000; stroke-linecap:butt; stroke-linejoin:round; stroke-width:4; stroke-opacity:1; fill:none\" points=\"\n",
       "  192.941,1486.45 2352.76,1486.45 \n",
       "  \"/>\n",
       "<polyline clip-path=\"url(#clip970)\" style=\"stroke:#000000; stroke-linecap:butt; stroke-linejoin:round; stroke-width:4; stroke-opacity:1; fill:none\" points=\"\n",
       "  301.453,1486.45 301.453,1467.55 \n",
       "  \"/>\n",
       "<polyline clip-path=\"url(#clip970)\" style=\"stroke:#000000; stroke-linecap:butt; stroke-linejoin:round; stroke-width:4; stroke-opacity:1; fill:none\" points=\"\n",
       "  775.304,1486.45 775.304,1467.55 \n",
       "  \"/>\n",
       "<polyline clip-path=\"url(#clip970)\" style=\"stroke:#000000; stroke-linecap:butt; stroke-linejoin:round; stroke-width:4; stroke-opacity:1; fill:none\" points=\"\n",
       "  1249.16,1486.45 1249.16,1467.55 \n",
       "  \"/>\n",
       "<polyline clip-path=\"url(#clip970)\" style=\"stroke:#000000; stroke-linecap:butt; stroke-linejoin:round; stroke-width:4; stroke-opacity:1; fill:none\" points=\"\n",
       "  1723.01,1486.45 1723.01,1467.55 \n",
       "  \"/>\n",
       "<polyline clip-path=\"url(#clip970)\" style=\"stroke:#000000; stroke-linecap:butt; stroke-linejoin:round; stroke-width:4; stroke-opacity:1; fill:none\" points=\"\n",
       "  2196.86,1486.45 2196.86,1467.55 \n",
       "  \"/>\n",
       "<path clip-path=\"url(#clip970)\" d=\"M271.395 1532.02 L301.071 1532.02 L301.071 1535.95 L271.395 1535.95 L271.395 1532.02 Z\" fill=\"#000000\" fill-rule=\"evenodd\" fill-opacity=\"1\" /><path clip-path=\"url(#clip970)\" d=\"M315.191 1544.91 L331.51 1544.91 L331.51 1548.85 L309.566 1548.85 L309.566 1544.91 Q312.228 1542.16 316.811 1537.53 Q321.418 1532.88 322.598 1531.53 Q324.844 1529.01 325.723 1527.27 Q326.626 1525.51 326.626 1523.82 Q326.626 1521.07 324.682 1519.33 Q322.76 1517.6 319.659 1517.6 Q317.459 1517.6 315.006 1518.36 Q312.575 1519.13 309.797 1520.68 L309.797 1515.95 Q312.622 1514.82 315.075 1514.24 Q317.529 1513.66 319.566 1513.66 Q324.936 1513.66 328.131 1516.35 Q331.325 1519.03 331.325 1523.52 Q331.325 1525.65 330.515 1527.57 Q329.728 1529.47 327.621 1532.07 Q327.043 1532.74 323.941 1535.95 Q320.839 1539.15 315.191 1544.91 Z\" fill=\"#000000\" fill-rule=\"evenodd\" fill-opacity=\"1\" /><path clip-path=\"url(#clip970)\" d=\"M745.061 1532.02 L774.737 1532.02 L774.737 1535.95 L745.061 1535.95 L745.061 1532.02 Z\" fill=\"#000000\" fill-rule=\"evenodd\" fill-opacity=\"1\" /><path clip-path=\"url(#clip970)\" d=\"M785.64 1544.91 L793.279 1544.91 L793.279 1518.55 L784.968 1520.21 L784.968 1515.95 L793.232 1514.29 L797.908 1514.29 L797.908 1544.91 L805.547 1544.91 L805.547 1548.85 L785.64 1548.85 L785.64 1544.91 Z\" fill=\"#000000\" fill-rule=\"evenodd\" fill-opacity=\"1\" /><path clip-path=\"url(#clip970)\" d=\"M1249.16 1517.37 Q1245.54 1517.37 1243.72 1520.93 Q1241.91 1524.47 1241.91 1531.6 Q1241.91 1538.71 1243.72 1542.27 Q1245.54 1545.82 1249.16 1545.82 Q1252.79 1545.82 1254.6 1542.27 Q1256.42 1538.71 1256.42 1531.6 Q1256.42 1524.47 1254.6 1520.93 Q1252.79 1517.37 1249.16 1517.37 M1249.16 1513.66 Q1254.97 1513.66 1258.02 1518.27 Q1261.1 1522.85 1261.1 1531.6 Q1261.1 1540.33 1258.02 1544.94 Q1254.97 1549.52 1249.16 1549.52 Q1243.35 1549.52 1240.27 1544.94 Q1237.21 1540.33 1237.21 1531.6 Q1237.21 1522.85 1240.27 1518.27 Q1243.35 1513.66 1249.16 1513.66 Z\" fill=\"#000000\" fill-rule=\"evenodd\" fill-opacity=\"1\" /><path clip-path=\"url(#clip970)\" d=\"M1713.39 1544.91 L1721.03 1544.91 L1721.03 1518.55 L1712.72 1520.21 L1712.72 1515.95 L1720.98 1514.29 L1725.66 1514.29 L1725.66 1544.91 L1733.3 1544.91 L1733.3 1548.85 L1713.39 1548.85 L1713.39 1544.91 Z\" fill=\"#000000\" fill-rule=\"evenodd\" fill-opacity=\"1\" /><path clip-path=\"url(#clip970)\" d=\"M2191.51 1544.91 L2207.83 1544.91 L2207.83 1548.85 L2185.89 1548.85 L2185.89 1544.91 Q2188.55 1542.16 2193.13 1537.53 Q2197.74 1532.88 2198.92 1531.53 Q2201.16 1529.01 2202.04 1527.27 Q2202.95 1525.51 2202.95 1523.82 Q2202.95 1521.07 2201 1519.33 Q2199.08 1517.6 2195.98 1517.6 Q2193.78 1517.6 2191.33 1518.36 Q2188.9 1519.13 2186.12 1520.68 L2186.12 1515.95 Q2188.94 1514.82 2191.4 1514.24 Q2193.85 1513.66 2195.89 1513.66 Q2201.26 1513.66 2204.45 1516.35 Q2207.65 1519.03 2207.65 1523.52 Q2207.65 1525.65 2206.84 1527.57 Q2206.05 1529.47 2203.94 1532.07 Q2203.36 1532.74 2200.26 1535.95 Q2197.16 1539.15 2191.51 1544.91 Z\" fill=\"#000000\" fill-rule=\"evenodd\" fill-opacity=\"1\" /><polyline clip-path=\"url(#clip972)\" style=\"stroke:#000000; stroke-linecap:butt; stroke-linejoin:round; stroke-width:2; stroke-opacity:0.1; fill:none\" points=\"\n",
       "  192.941,1381.06 2352.76,1381.06 \n",
       "  \"/>\n",
       "<polyline clip-path=\"url(#clip972)\" style=\"stroke:#000000; stroke-linecap:butt; stroke-linejoin:round; stroke-width:2; stroke-opacity:0.1; fill:none\" points=\"\n",
       "  192.941,1057.79 2352.76,1057.79 \n",
       "  \"/>\n",
       "<polyline clip-path=\"url(#clip972)\" style=\"stroke:#000000; stroke-linecap:butt; stroke-linejoin:round; stroke-width:2; stroke-opacity:0.1; fill:none\" points=\"\n",
       "  192.941,734.519 2352.76,734.519 \n",
       "  \"/>\n",
       "<polyline clip-path=\"url(#clip972)\" style=\"stroke:#000000; stroke-linecap:butt; stroke-linejoin:round; stroke-width:2; stroke-opacity:0.1; fill:none\" points=\"\n",
       "  192.941,411.248 2352.76,411.248 \n",
       "  \"/>\n",
       "<polyline clip-path=\"url(#clip972)\" style=\"stroke:#000000; stroke-linecap:butt; stroke-linejoin:round; stroke-width:2; stroke-opacity:0.1; fill:none\" points=\"\n",
       "  192.941,87.9763 2352.76,87.9763 \n",
       "  \"/>\n",
       "<polyline clip-path=\"url(#clip970)\" style=\"stroke:#000000; stroke-linecap:butt; stroke-linejoin:round; stroke-width:4; stroke-opacity:1; fill:none\" points=\"\n",
       "  192.941,1486.45 192.941,47.2441 \n",
       "  \"/>\n",
       "<polyline clip-path=\"url(#clip970)\" style=\"stroke:#000000; stroke-linecap:butt; stroke-linejoin:round; stroke-width:4; stroke-opacity:1; fill:none\" points=\"\n",
       "  192.941,1381.06 211.838,1381.06 \n",
       "  \"/>\n",
       "<polyline clip-path=\"url(#clip970)\" style=\"stroke:#000000; stroke-linecap:butt; stroke-linejoin:round; stroke-width:4; stroke-opacity:1; fill:none\" points=\"\n",
       "  192.941,1057.79 211.838,1057.79 \n",
       "  \"/>\n",
       "<polyline clip-path=\"url(#clip970)\" style=\"stroke:#000000; stroke-linecap:butt; stroke-linejoin:round; stroke-width:4; stroke-opacity:1; fill:none\" points=\"\n",
       "  192.941,734.519 211.838,734.519 \n",
       "  \"/>\n",
       "<polyline clip-path=\"url(#clip970)\" style=\"stroke:#000000; stroke-linecap:butt; stroke-linejoin:round; stroke-width:4; stroke-opacity:1; fill:none\" points=\"\n",
       "  192.941,411.248 211.838,411.248 \n",
       "  \"/>\n",
       "<polyline clip-path=\"url(#clip970)\" style=\"stroke:#000000; stroke-linecap:butt; stroke-linejoin:round; stroke-width:4; stroke-opacity:1; fill:none\" points=\"\n",
       "  192.941,87.9763 211.838,87.9763 \n",
       "  \"/>\n",
       "<path clip-path=\"url(#clip970)\" d=\"M50.9921 1381.51 L80.6679 1381.51 L80.6679 1385.45 L50.9921 1385.45 L50.9921 1381.51 Z\" fill=\"#000000\" fill-rule=\"evenodd\" fill-opacity=\"1\" /><path clip-path=\"url(#clip970)\" d=\"M100.76 1366.86 Q97.1493 1366.86 95.3206 1370.42 Q93.515 1373.97 93.515 1381.1 Q93.515 1388.2 95.3206 1391.77 Q97.1493 1395.31 100.76 1395.31 Q104.395 1395.31 106.2 1391.77 Q108.029 1388.2 108.029 1381.1 Q108.029 1373.97 106.2 1370.42 Q104.395 1366.86 100.76 1366.86 M100.76 1363.16 Q106.571 1363.16 109.626 1367.76 Q112.705 1372.35 112.705 1381.1 Q112.705 1389.82 109.626 1394.43 Q106.571 1399.01 100.76 1399.01 Q94.9502 1399.01 91.8715 1394.43 Q88.816 1389.82 88.816 1381.1 Q88.816 1372.35 91.8715 1367.76 Q94.9502 1363.16 100.76 1363.16 Z\" fill=\"#000000\" fill-rule=\"evenodd\" fill-opacity=\"1\" /><path clip-path=\"url(#clip970)\" d=\"M120.922 1392.46 L125.807 1392.46 L125.807 1398.34 L120.922 1398.34 L120.922 1392.46 Z\" fill=\"#000000\" fill-rule=\"evenodd\" fill-opacity=\"1\" /><path clip-path=\"url(#clip970)\" d=\"M136.038 1363.78 L154.394 1363.78 L154.394 1367.72 L140.32 1367.72 L140.32 1376.19 Q141.339 1375.84 142.357 1375.68 Q143.376 1375.49 144.394 1375.49 Q150.181 1375.49 153.561 1378.67 Q156.941 1381.84 156.941 1387.25 Q156.941 1392.83 153.468 1395.93 Q149.996 1399.01 143.677 1399.01 Q141.501 1399.01 139.232 1398.64 Q136.987 1398.27 134.58 1397.53 L134.58 1392.83 Q136.663 1393.97 138.885 1394.52 Q141.107 1395.08 143.584 1395.08 Q147.589 1395.08 149.927 1392.97 Q152.265 1390.86 152.265 1387.25 Q152.265 1383.64 149.927 1381.54 Q147.589 1379.43 143.584 1379.43 Q141.709 1379.43 139.834 1379.85 Q137.982 1380.26 136.038 1381.14 L136.038 1363.78 Z\" fill=\"#000000\" fill-rule=\"evenodd\" fill-opacity=\"1\" /><path clip-path=\"url(#clip970)\" d=\"M99.765 1043.59 Q96.1539 1043.59 94.3252 1047.15 Q92.5197 1050.7 92.5197 1057.82 Q92.5197 1064.93 94.3252 1068.5 Q96.1539 1072.04 99.765 1072.04 Q103.399 1072.04 105.205 1068.5 Q107.033 1064.93 107.033 1057.82 Q107.033 1050.7 105.205 1047.15 Q103.399 1043.59 99.765 1043.59 M99.765 1039.89 Q105.575 1039.89 108.631 1044.49 Q111.709 1049.07 111.709 1057.82 Q111.709 1066.55 108.631 1071.16 Q105.575 1075.74 99.765 1075.74 Q93.9549 1075.74 90.8762 1071.16 Q87.8206 1066.55 87.8206 1057.82 Q87.8206 1049.07 90.8762 1044.49 Q93.9549 1039.89 99.765 1039.89 Z\" fill=\"#000000\" fill-rule=\"evenodd\" fill-opacity=\"1\" /><path clip-path=\"url(#clip970)\" d=\"M119.927 1069.19 L124.811 1069.19 L124.811 1075.07 L119.927 1075.07 L119.927 1069.19 Z\" fill=\"#000000\" fill-rule=\"evenodd\" fill-opacity=\"1\" /><path clip-path=\"url(#clip970)\" d=\"M144.996 1043.59 Q141.385 1043.59 139.556 1047.15 Q137.751 1050.7 137.751 1057.82 Q137.751 1064.93 139.556 1068.5 Q141.385 1072.04 144.996 1072.04 Q148.63 1072.04 150.436 1068.5 Q152.265 1064.93 152.265 1057.82 Q152.265 1050.7 150.436 1047.15 Q148.63 1043.59 144.996 1043.59 M144.996 1039.89 Q150.806 1039.89 153.862 1044.49 Q156.941 1049.07 156.941 1057.82 Q156.941 1066.55 153.862 1071.16 Q150.806 1075.74 144.996 1075.74 Q139.186 1075.74 136.107 1071.16 Q133.052 1066.55 133.052 1057.82 Q133.052 1049.07 136.107 1044.49 Q139.186 1039.89 144.996 1039.89 Z\" fill=\"#000000\" fill-rule=\"evenodd\" fill-opacity=\"1\" /><path clip-path=\"url(#clip970)\" d=\"M100.76 720.318 Q97.1493 720.318 95.3206 723.882 Q93.515 727.424 93.515 734.554 Q93.515 741.66 95.3206 745.225 Q97.1493 748.766 100.76 748.766 Q104.395 748.766 106.2 745.225 Q108.029 741.66 108.029 734.554 Q108.029 727.424 106.2 723.882 Q104.395 720.318 100.76 720.318 M100.76 716.614 Q106.571 716.614 109.626 721.22 Q112.705 725.804 112.705 734.554 Q112.705 743.28 109.626 747.887 Q106.571 752.47 100.76 752.47 Q94.9502 752.47 91.8715 747.887 Q88.816 743.28 88.816 734.554 Q88.816 725.804 91.8715 721.22 Q94.9502 716.614 100.76 716.614 Z\" fill=\"#000000\" fill-rule=\"evenodd\" fill-opacity=\"1\" /><path clip-path=\"url(#clip970)\" d=\"M120.922 745.919 L125.807 745.919 L125.807 751.799 L120.922 751.799 L120.922 745.919 Z\" fill=\"#000000\" fill-rule=\"evenodd\" fill-opacity=\"1\" /><path clip-path=\"url(#clip970)\" d=\"M136.038 717.239 L154.394 717.239 L154.394 721.174 L140.32 721.174 L140.32 729.646 Q141.339 729.299 142.357 729.137 Q143.376 728.952 144.394 728.952 Q150.181 728.952 153.561 732.123 Q156.941 735.294 156.941 740.711 Q156.941 746.29 153.468 749.391 Q149.996 752.47 143.677 752.47 Q141.501 752.47 139.232 752.1 Q136.987 751.729 134.58 750.989 L134.58 746.29 Q136.663 747.424 138.885 747.979 Q141.107 748.535 143.584 748.535 Q147.589 748.535 149.927 746.429 Q152.265 744.322 152.265 740.711 Q152.265 737.1 149.927 734.993 Q147.589 732.887 143.584 732.887 Q141.709 732.887 139.834 733.304 Q137.982 733.72 136.038 734.6 L136.038 717.239 Z\" fill=\"#000000\" fill-rule=\"evenodd\" fill-opacity=\"1\" /><path clip-path=\"url(#clip970)\" d=\"M90.5752 424.592 L98.2141 424.592 L98.2141 398.227 L89.904 399.893 L89.904 395.634 L98.1678 393.968 L102.844 393.968 L102.844 424.592 L110.483 424.592 L110.483 428.528 L90.5752 428.528 L90.5752 424.592 Z\" fill=\"#000000\" fill-rule=\"evenodd\" fill-opacity=\"1\" /><path clip-path=\"url(#clip970)\" d=\"M119.927 422.648 L124.811 422.648 L124.811 428.528 L119.927 428.528 L119.927 422.648 Z\" fill=\"#000000\" fill-rule=\"evenodd\" fill-opacity=\"1\" /><path clip-path=\"url(#clip970)\" d=\"M144.996 397.046 Q141.385 397.046 139.556 400.611 Q137.751 404.153 137.751 411.282 Q137.751 418.389 139.556 421.954 Q141.385 425.495 144.996 425.495 Q148.63 425.495 150.436 421.954 Q152.265 418.389 152.265 411.282 Q152.265 404.153 150.436 400.611 Q148.63 397.046 144.996 397.046 M144.996 393.343 Q150.806 393.343 153.862 397.949 Q156.941 402.532 156.941 411.282 Q156.941 420.009 153.862 424.616 Q150.806 429.199 144.996 429.199 Q139.186 429.199 136.107 424.616 Q133.052 420.009 133.052 411.282 Q133.052 402.532 136.107 397.949 Q139.186 393.343 144.996 393.343 Z\" fill=\"#000000\" fill-rule=\"evenodd\" fill-opacity=\"1\" /><path clip-path=\"url(#clip970)\" d=\"M91.5706 101.321 L99.2095 101.321 L99.2095 74.9555 L90.8993 76.6222 L90.8993 72.3629 L99.1632 70.6963 L103.839 70.6963 L103.839 101.321 L111.478 101.321 L111.478 105.256 L91.5706 105.256 L91.5706 101.321 Z\" fill=\"#000000\" fill-rule=\"evenodd\" fill-opacity=\"1\" /><path clip-path=\"url(#clip970)\" d=\"M120.922 99.3767 L125.807 99.3767 L125.807 105.256 L120.922 105.256 L120.922 99.3767 Z\" fill=\"#000000\" fill-rule=\"evenodd\" fill-opacity=\"1\" /><path clip-path=\"url(#clip970)\" d=\"M136.038 70.6963 L154.394 70.6963 L154.394 74.6314 L140.32 74.6314 L140.32 83.1036 Q141.339 82.7564 142.357 82.5944 Q143.376 82.4092 144.394 82.4092 Q150.181 82.4092 153.561 85.5805 Q156.941 88.7517 156.941 94.1684 Q156.941 99.747 153.468 102.849 Q149.996 105.928 143.677 105.928 Q141.501 105.928 139.232 105.557 Q136.987 105.187 134.58 104.446 L134.58 99.747 Q136.663 100.881 138.885 101.437 Q141.107 101.992 143.584 101.992 Q147.589 101.992 149.927 99.8859 Q152.265 97.7795 152.265 94.1684 Q152.265 90.5573 149.927 88.4508 Q147.589 86.3443 143.584 86.3443 Q141.709 86.3443 139.834 86.761 Q137.982 87.1777 136.038 88.0573 L136.038 70.6963 Z\" fill=\"#000000\" fill-rule=\"evenodd\" fill-opacity=\"1\" /><circle clip-path=\"url(#clip972)\" cx=\"775.304\" cy=\"1445.72\" r=\"14\" fill=\"#009af9\" fill-rule=\"evenodd\" fill-opacity=\"1\" stroke=\"#000000\" stroke-opacity=\"1\" stroke-width=\"3.2\"/>\n",
       "<circle clip-path=\"url(#clip972)\" cx=\"775.304\" cy=\"1445.72\" r=\"14\" fill=\"#009af9\" fill-rule=\"evenodd\" fill-opacity=\"1\" stroke=\"#000000\" stroke-opacity=\"1\" stroke-width=\"3.2\"/>\n",
       "<circle clip-path=\"url(#clip972)\" cx=\"1723.01\" cy=\"1381.06\" r=\"14\" fill=\"#009af9\" fill-rule=\"evenodd\" fill-opacity=\"1\" stroke=\"#000000\" stroke-opacity=\"1\" stroke-width=\"3.2\"/>\n",
       "<circle clip-path=\"url(#clip972)\" cx=\"2244.24\" cy=\"993.136\" r=\"14\" fill=\"#009af9\" fill-rule=\"evenodd\" fill-opacity=\"1\" stroke=\"#000000\" stroke-opacity=\"1\" stroke-width=\"3.2\"/>\n",
       "<circle clip-path=\"url(#clip972)\" cx=\"2291.63\" cy=\"734.519\" r=\"14\" fill=\"#009af9\" fill-rule=\"evenodd\" fill-opacity=\"1\" stroke=\"#000000\" stroke-opacity=\"1\" stroke-width=\"3.2\"/>\n",
       "<circle clip-path=\"url(#clip972)\" cx=\"1817.78\" cy=\"346.593\" r=\"14\" fill=\"#009af9\" fill-rule=\"evenodd\" fill-opacity=\"1\" stroke=\"#000000\" stroke-opacity=\"1\" stroke-width=\"3.2\"/>\n",
       "<circle clip-path=\"url(#clip972)\" cx=\"1296.54\" cy=\"87.9763\" r=\"14\" fill=\"#009af9\" fill-rule=\"evenodd\" fill-opacity=\"1\" stroke=\"#000000\" stroke-opacity=\"1\" stroke-width=\"3.2\"/>\n",
       "<circle clip-path=\"url(#clip972)\" cx=\"775.304\" cy=\"346.593\" r=\"14\" fill=\"#009af9\" fill-rule=\"evenodd\" fill-opacity=\"1\" stroke=\"#000000\" stroke-opacity=\"1\" stroke-width=\"3.2\"/>\n",
       "<circle clip-path=\"url(#clip972)\" cx=\"254.067\" cy=\"702.192\" r=\"14\" fill=\"#009af9\" fill-rule=\"evenodd\" fill-opacity=\"1\" stroke=\"#000000\" stroke-opacity=\"1\" stroke-width=\"3.2\"/>\n",
       "<circle clip-path=\"url(#clip972)\" cx=\"254.067\" cy=\"1057.79\" r=\"14\" fill=\"#009af9\" fill-rule=\"evenodd\" fill-opacity=\"1\" stroke=\"#000000\" stroke-opacity=\"1\" stroke-width=\"3.2\"/>\n",
       "</svg>\n"
      ]
     },
     "execution_count": 19,
     "metadata": {},
     "output_type": "execute_result"
    }
   ],
   "source": [
    "R.scatter()"
   ]
  },
  {
   "cell_type": "code",
   "execution_count": 20,
   "metadata": {},
   "outputs": [
    {
     "data": {
      "text/plain": [
       "10-element Vector{Float64}:\n",
       " 0.0\n",
       " 0.04995839572194275\n",
       " 0.49934672168013006\n",
       " 1.3258176636680323\n",
       " 2.601173153319209\n",
       " 2.7928216500058864\n",
       " 3.4903636571737\n",
       " 3.6052402625905993\n",
       " 4.71238898038469\n",
       " 5.783838585499456"
      ]
     },
     "execution_count": 20,
     "metadata": {},
     "output_type": "execute_result"
    }
   ],
   "source": [
    "R.angles()"
   ]
  },
  {
   "cell_type": "code",
   "execution_count": 21,
   "metadata": {},
   "outputs": [
    {
     "data": {
      "text/plain": [
       "10-element Vector{Vertex}:\n",
       " Vertex(Real[-1.0, -0.6])\n",
       " Vertex(Real[-1.0, -0.6])\n",
       " Vertex(Real[1.0, -0.5])\n",
       " Vertex(Real[2.1, 0.1])\n",
       " Vertex(Real[2.2, 0.5])\n",
       " Vertex(Real[1.2000000000000002, 1.1])\n",
       " Vertex(Real[0.1, 1.5])\n",
       " Vertex(Real[-1.0, 1.1])\n",
       " Vertex(Real[-2.1, 0.55])\n",
       " Vertex(Real[-2.1, 0.0])"
      ]
     },
     "execution_count": 21,
     "metadata": {},
     "output_type": "execute_result"
    }
   ],
   "source": [
    "R.vertices"
   ]
  },
  {
   "cell_type": "code",
   "execution_count": 22,
   "metadata": {},
   "outputs": [
    {
     "data": {
      "text/plain": [
       "4-element Vector{Float64}:\n",
       " 0.49934672168013006\n",
       " 2.792821650005886\n",
       " 3.4903636571737002\n",
       " 5.783838585499456"
      ]
     },
     "execution_count": 22,
     "metadata": {},
     "output_type": "execute_result"
    }
   ],
   "source": [
    "P.angles()"
   ]
  },
  {
   "cell_type": "code",
   "execution_count": 23,
   "metadata": {},
   "outputs": [
    {
     "data": {
      "text/plain": [
       "5-element Vector{Float64}:\n",
       " 0.049958395721942765\n",
       " 1.3258176636680323\n",
       " 2.601173153319209\n",
       " 3.6052402625905993\n",
       " 4.71238898038469"
      ]
     },
     "execution_count": 23,
     "metadata": {},
     "output_type": "execute_result"
    }
   ],
   "source": [
    " Q.angles()"
   ]
  },
  {
   "cell_type": "code",
   "execution_count": 24,
   "metadata": {},
   "outputs": [
    {
     "data": {
      "text/plain": [
       "Polygon(Vertex[Vertex(Real[1.1, -0.09999999999999998]), Vertex(Real[2.2, 0.5]), Vertex(Real[1.1, 0.9]), Vertex(Real[0.0, 0.5])], var\"#7#11\"{Polygon}(Polygon(#= circular reference @-2 =#)), var\"#9#13\"{Polygon}(Polygon(#= circular reference @-2 =#)), var\"#8#12\"{Polygon}(Polygon(#= circular reference @-2 =#)), var\"#10#14\"{Polygon}(Polygon(#= circular reference @-2 =#)))"
      ]
     },
     "execution_count": 24,
     "metadata": {},
     "output_type": "execute_result"
    }
   ],
   "source": [
    "RR = u1+P"
   ]
  },
  {
   "cell_type": "code",
   "execution_count": 25,
   "metadata": {},
   "outputs": [
    {
     "data": {
      "image/svg+xml": [
       "<?xml version=\"1.0\" encoding=\"utf-8\"?>\n",
       "<svg xmlns=\"http://www.w3.org/2000/svg\" xmlns:xlink=\"http://www.w3.org/1999/xlink\" width=\"600\" height=\"400\" viewBox=\"0 0 2400 1600\">\n",
       "<defs>\n",
       "  <clipPath id=\"clip010\">\n",
       "    <rect x=\"0\" y=\"0\" width=\"2400\" height=\"1600\"/>\n",
       "  </clipPath>\n",
       "</defs>\n",
       "<path clip-path=\"url(#clip010)\" d=\"\n",
       "M0 1600 L2400 1600 L2400 0 L0 0  Z\n",
       "  \" fill=\"#ffffff\" fill-rule=\"evenodd\" fill-opacity=\"1\"/>\n",
       "<defs>\n",
       "  <clipPath id=\"clip011\">\n",
       "    <rect x=\"480\" y=\"0\" width=\"1681\" height=\"1600\"/>\n",
       "  </clipPath>\n",
       "</defs>\n",
       "<path clip-path=\"url(#clip010)\" d=\"\n",
       "M156.598 1486.45 L2352.76 1486.45 L2352.76 47.2441 L156.598 47.2441  Z\n",
       "  \" fill=\"#ffffff\" fill-rule=\"evenodd\" fill-opacity=\"1\"/>\n",
       "<defs>\n",
       "  <clipPath id=\"clip012\">\n",
       "    <rect x=\"156\" y=\"47\" width=\"2197\" height=\"1440\"/>\n",
       "  </clipPath>\n",
       "</defs>\n",
       "<polyline clip-path=\"url(#clip012)\" style=\"stroke:#000000; stroke-linecap:butt; stroke-linejoin:round; stroke-width:2; stroke-opacity:0.1; fill:none\" points=\"\n",
       "  218.754,1486.45 218.754,47.2441 \n",
       "  \"/>\n",
       "<polyline clip-path=\"url(#clip012)\" style=\"stroke:#000000; stroke-linecap:butt; stroke-linejoin:round; stroke-width:2; stroke-opacity:0.1; fill:none\" points=\"\n",
       "  689.628,1486.45 689.628,47.2441 \n",
       "  \"/>\n",
       "<polyline clip-path=\"url(#clip012)\" style=\"stroke:#000000; stroke-linecap:butt; stroke-linejoin:round; stroke-width:2; stroke-opacity:0.1; fill:none\" points=\"\n",
       "  1160.5,1486.45 1160.5,47.2441 \n",
       "  \"/>\n",
       "<polyline clip-path=\"url(#clip012)\" style=\"stroke:#000000; stroke-linecap:butt; stroke-linejoin:round; stroke-width:2; stroke-opacity:0.1; fill:none\" points=\"\n",
       "  1631.38,1486.45 1631.38,47.2441 \n",
       "  \"/>\n",
       "<polyline clip-path=\"url(#clip012)\" style=\"stroke:#000000; stroke-linecap:butt; stroke-linejoin:round; stroke-width:2; stroke-opacity:0.1; fill:none\" points=\"\n",
       "  2102.25,1486.45 2102.25,47.2441 \n",
       "  \"/>\n",
       "<polyline clip-path=\"url(#clip010)\" style=\"stroke:#000000; stroke-linecap:butt; stroke-linejoin:round; stroke-width:4; stroke-opacity:1; fill:none\" points=\"\n",
       "  156.598,1486.45 2352.76,1486.45 \n",
       "  \"/>\n",
       "<polyline clip-path=\"url(#clip010)\" style=\"stroke:#000000; stroke-linecap:butt; stroke-linejoin:round; stroke-width:4; stroke-opacity:1; fill:none\" points=\"\n",
       "  218.754,1486.45 218.754,1467.55 \n",
       "  \"/>\n",
       "<polyline clip-path=\"url(#clip010)\" style=\"stroke:#000000; stroke-linecap:butt; stroke-linejoin:round; stroke-width:4; stroke-opacity:1; fill:none\" points=\"\n",
       "  689.628,1486.45 689.628,1467.55 \n",
       "  \"/>\n",
       "<polyline clip-path=\"url(#clip010)\" style=\"stroke:#000000; stroke-linecap:butt; stroke-linejoin:round; stroke-width:4; stroke-opacity:1; fill:none\" points=\"\n",
       "  1160.5,1486.45 1160.5,1467.55 \n",
       "  \"/>\n",
       "<polyline clip-path=\"url(#clip010)\" style=\"stroke:#000000; stroke-linecap:butt; stroke-linejoin:round; stroke-width:4; stroke-opacity:1; fill:none\" points=\"\n",
       "  1631.38,1486.45 1631.38,1467.55 \n",
       "  \"/>\n",
       "<polyline clip-path=\"url(#clip010)\" style=\"stroke:#000000; stroke-linecap:butt; stroke-linejoin:round; stroke-width:4; stroke-opacity:1; fill:none\" points=\"\n",
       "  2102.25,1486.45 2102.25,1467.55 \n",
       "  \"/>\n",
       "<path clip-path=\"url(#clip010)\" d=\"M196.138 1517.37 Q192.527 1517.37 190.698 1520.93 Q188.893 1524.47 188.893 1531.6 Q188.893 1538.71 190.698 1542.27 Q192.527 1545.82 196.138 1545.82 Q199.772 1545.82 201.578 1542.27 Q203.407 1538.71 203.407 1531.6 Q203.407 1524.47 201.578 1520.93 Q199.772 1517.37 196.138 1517.37 M196.138 1513.66 Q201.948 1513.66 205.004 1518.27 Q208.082 1522.85 208.082 1531.6 Q208.082 1540.33 205.004 1544.94 Q201.948 1549.52 196.138 1549.52 Q190.328 1549.52 187.249 1544.94 Q184.194 1540.33 184.194 1531.6 Q184.194 1522.85 187.249 1518.27 Q190.328 1513.66 196.138 1513.66 Z\" fill=\"#000000\" fill-rule=\"evenodd\" fill-opacity=\"1\" /><path clip-path=\"url(#clip010)\" d=\"M216.3 1542.97 L221.184 1542.97 L221.184 1548.85 L216.3 1548.85 L216.3 1542.97 Z\" fill=\"#000000\" fill-rule=\"evenodd\" fill-opacity=\"1\" /><path clip-path=\"url(#clip010)\" d=\"M241.369 1517.37 Q237.758 1517.37 235.929 1520.93 Q234.124 1524.47 234.124 1531.6 Q234.124 1538.71 235.929 1542.27 Q237.758 1545.82 241.369 1545.82 Q245.003 1545.82 246.809 1542.27 Q248.638 1538.71 248.638 1531.6 Q248.638 1524.47 246.809 1520.93 Q245.003 1517.37 241.369 1517.37 M241.369 1513.66 Q247.179 1513.66 250.235 1518.27 Q253.314 1522.85 253.314 1531.6 Q253.314 1540.33 250.235 1544.94 Q247.179 1549.52 241.369 1549.52 Q235.559 1549.52 232.48 1544.94 Q229.425 1540.33 229.425 1531.6 Q229.425 1522.85 232.48 1518.27 Q235.559 1513.66 241.369 1513.66 Z\" fill=\"#000000\" fill-rule=\"evenodd\" fill-opacity=\"1\" /><path clip-path=\"url(#clip010)\" d=\"M667.51 1517.37 Q663.899 1517.37 662.07 1520.93 Q660.265 1524.47 660.265 1531.6 Q660.265 1538.71 662.07 1542.27 Q663.899 1545.82 667.51 1545.82 Q671.144 1545.82 672.95 1542.27 Q674.778 1538.71 674.778 1531.6 Q674.778 1524.47 672.95 1520.93 Q671.144 1517.37 667.51 1517.37 M667.51 1513.66 Q673.32 1513.66 676.376 1518.27 Q679.454 1522.85 679.454 1531.6 Q679.454 1540.33 676.376 1544.94 Q673.32 1549.52 667.51 1549.52 Q661.7 1549.52 658.621 1544.94 Q655.566 1540.33 655.566 1531.6 Q655.566 1522.85 658.621 1518.27 Q661.7 1513.66 667.51 1513.66 Z\" fill=\"#000000\" fill-rule=\"evenodd\" fill-opacity=\"1\" /><path clip-path=\"url(#clip010)\" d=\"M687.672 1542.97 L692.556 1542.97 L692.556 1548.85 L687.672 1548.85 L687.672 1542.97 Z\" fill=\"#000000\" fill-rule=\"evenodd\" fill-opacity=\"1\" /><path clip-path=\"url(#clip010)\" d=\"M702.788 1514.29 L721.144 1514.29 L721.144 1518.22 L707.07 1518.22 L707.07 1526.7 Q708.088 1526.35 709.107 1526.19 Q710.126 1526 711.144 1526 Q716.931 1526 720.311 1529.17 Q723.69 1532.34 723.69 1537.76 Q723.69 1543.34 720.218 1546.44 Q716.746 1549.52 710.426 1549.52 Q708.251 1549.52 705.982 1549.15 Q703.737 1548.78 701.329 1548.04 L701.329 1543.34 Q703.413 1544.47 705.635 1545.03 Q707.857 1545.58 710.334 1545.58 Q714.338 1545.58 716.676 1543.48 Q719.014 1541.37 719.014 1537.76 Q719.014 1534.15 716.676 1532.04 Q714.338 1529.94 710.334 1529.94 Q708.459 1529.94 706.584 1530.35 Q704.732 1530.77 702.788 1531.65 L702.788 1514.29 Z\" fill=\"#000000\" fill-rule=\"evenodd\" fill-opacity=\"1\" /><path clip-path=\"url(#clip010)\" d=\"M1127.66 1544.91 L1135.29 1544.91 L1135.29 1518.55 L1126.98 1520.21 L1126.98 1515.95 L1135.25 1514.29 L1139.92 1514.29 L1139.92 1544.91 L1147.56 1544.91 L1147.56 1548.85 L1127.66 1548.85 L1127.66 1544.91 Z\" fill=\"#000000\" fill-rule=\"evenodd\" fill-opacity=\"1\" /><path clip-path=\"url(#clip010)\" d=\"M1157.01 1542.97 L1161.89 1542.97 L1161.89 1548.85 L1157.01 1548.85 L1157.01 1542.97 Z\" fill=\"#000000\" fill-rule=\"evenodd\" fill-opacity=\"1\" /><path clip-path=\"url(#clip010)\" d=\"M1182.08 1517.37 Q1178.47 1517.37 1176.64 1520.93 Q1174.83 1524.47 1174.83 1531.6 Q1174.83 1538.71 1176.64 1542.27 Q1178.47 1545.82 1182.08 1545.82 Q1185.71 1545.82 1187.52 1542.27 Q1189.34 1538.71 1189.34 1531.6 Q1189.34 1524.47 1187.52 1520.93 Q1185.71 1517.37 1182.08 1517.37 M1182.08 1513.66 Q1187.89 1513.66 1190.94 1518.27 Q1194.02 1522.85 1194.02 1531.6 Q1194.02 1540.33 1190.94 1544.94 Q1187.89 1549.52 1182.08 1549.52 Q1176.27 1549.52 1173.19 1544.94 Q1170.13 1540.33 1170.13 1531.6 Q1170.13 1522.85 1173.19 1518.27 Q1176.27 1513.66 1182.08 1513.66 Z\" fill=\"#000000\" fill-rule=\"evenodd\" fill-opacity=\"1\" /><path clip-path=\"url(#clip010)\" d=\"M1599.03 1544.91 L1606.67 1544.91 L1606.67 1518.55 L1598.36 1520.21 L1598.36 1515.95 L1606.62 1514.29 L1611.3 1514.29 L1611.3 1544.91 L1618.93 1544.91 L1618.93 1548.85 L1599.03 1548.85 L1599.03 1544.91 Z\" fill=\"#000000\" fill-rule=\"evenodd\" fill-opacity=\"1\" /><path clip-path=\"url(#clip010)\" d=\"M1628.38 1542.97 L1633.26 1542.97 L1633.26 1548.85 L1628.38 1548.85 L1628.38 1542.97 Z\" fill=\"#000000\" fill-rule=\"evenodd\" fill-opacity=\"1\" /><path clip-path=\"url(#clip010)\" d=\"M1643.49 1514.29 L1661.85 1514.29 L1661.85 1518.22 L1647.78 1518.22 L1647.78 1526.7 Q1648.8 1526.35 1649.81 1526.19 Q1650.83 1526 1651.85 1526 Q1657.64 1526 1661.02 1529.17 Q1664.4 1532.34 1664.4 1537.76 Q1664.4 1543.34 1660.92 1546.44 Q1657.45 1549.52 1651.13 1549.52 Q1648.96 1549.52 1646.69 1549.15 Q1644.44 1548.78 1642.04 1548.04 L1642.04 1543.34 Q1644.12 1544.47 1646.34 1545.03 Q1648.56 1545.58 1651.04 1545.58 Q1655.05 1545.58 1657.38 1543.48 Q1659.72 1541.37 1659.72 1537.76 Q1659.72 1534.15 1657.38 1532.04 Q1655.05 1529.94 1651.04 1529.94 Q1649.17 1529.94 1647.29 1530.35 Q1645.44 1530.77 1643.49 1531.65 L1643.49 1514.29 Z\" fill=\"#000000\" fill-rule=\"evenodd\" fill-opacity=\"1\" /><path clip-path=\"url(#clip010)\" d=\"M2073.49 1544.91 L2089.81 1544.91 L2089.81 1548.85 L2067.86 1548.85 L2067.86 1544.91 Q2070.53 1542.16 2075.11 1537.53 Q2079.72 1532.88 2080.9 1531.53 Q2083.14 1529.01 2084.02 1527.27 Q2084.92 1525.51 2084.92 1523.82 Q2084.92 1521.07 2082.98 1519.33 Q2081.06 1517.6 2077.96 1517.6 Q2075.76 1517.6 2073.3 1518.36 Q2070.87 1519.13 2068.1 1520.68 L2068.1 1515.95 Q2070.92 1514.82 2073.37 1514.24 Q2075.83 1513.66 2077.86 1513.66 Q2083.23 1513.66 2086.43 1516.35 Q2089.62 1519.03 2089.62 1523.52 Q2089.62 1525.65 2088.81 1527.57 Q2088.03 1529.47 2085.92 1532.07 Q2085.34 1532.74 2082.24 1535.95 Q2079.14 1539.15 2073.49 1544.91 Z\" fill=\"#000000\" fill-rule=\"evenodd\" fill-opacity=\"1\" /><path clip-path=\"url(#clip010)\" d=\"M2099.62 1542.97 L2104.51 1542.97 L2104.51 1548.85 L2099.62 1548.85 L2099.62 1542.97 Z\" fill=\"#000000\" fill-rule=\"evenodd\" fill-opacity=\"1\" /><path clip-path=\"url(#clip010)\" d=\"M2124.69 1517.37 Q2121.08 1517.37 2119.25 1520.93 Q2117.45 1524.47 2117.45 1531.6 Q2117.45 1538.71 2119.25 1542.27 Q2121.08 1545.82 2124.69 1545.82 Q2128.33 1545.82 2130.13 1542.27 Q2131.96 1538.71 2131.96 1531.6 Q2131.96 1524.47 2130.13 1520.93 Q2128.33 1517.37 2124.69 1517.37 M2124.69 1513.66 Q2130.5 1513.66 2133.56 1518.27 Q2136.64 1522.85 2136.64 1531.6 Q2136.64 1540.33 2133.56 1544.94 Q2130.5 1549.52 2124.69 1549.52 Q2118.88 1549.52 2115.8 1544.94 Q2112.75 1540.33 2112.75 1531.6 Q2112.75 1522.85 2115.8 1518.27 Q2118.88 1513.66 2124.69 1513.66 Z\" fill=\"#000000\" fill-rule=\"evenodd\" fill-opacity=\"1\" /><polyline clip-path=\"url(#clip012)\" style=\"stroke:#000000; stroke-linecap:butt; stroke-linejoin:round; stroke-width:2; stroke-opacity:0.1; fill:none\" points=\"\n",
       "  156.598,1309.94 2352.76,1309.94 \n",
       "  \"/>\n",
       "<polyline clip-path=\"url(#clip012)\" style=\"stroke:#000000; stroke-linecap:butt; stroke-linejoin:round; stroke-width:2; stroke-opacity:0.1; fill:none\" points=\"\n",
       "  156.598,1038.39 2352.76,1038.39 \n",
       "  \"/>\n",
       "<polyline clip-path=\"url(#clip012)\" style=\"stroke:#000000; stroke-linecap:butt; stroke-linejoin:round; stroke-width:2; stroke-opacity:0.1; fill:none\" points=\"\n",
       "  156.598,766.846 2352.76,766.846 \n",
       "  \"/>\n",
       "<polyline clip-path=\"url(#clip012)\" style=\"stroke:#000000; stroke-linecap:butt; stroke-linejoin:round; stroke-width:2; stroke-opacity:0.1; fill:none\" points=\"\n",
       "  156.598,495.298 2352.76,495.298 \n",
       "  \"/>\n",
       "<polyline clip-path=\"url(#clip012)\" style=\"stroke:#000000; stroke-linecap:butt; stroke-linejoin:round; stroke-width:2; stroke-opacity:0.1; fill:none\" points=\"\n",
       "  156.598,223.75 2352.76,223.75 \n",
       "  \"/>\n",
       "<polyline clip-path=\"url(#clip010)\" style=\"stroke:#000000; stroke-linecap:butt; stroke-linejoin:round; stroke-width:4; stroke-opacity:1; fill:none\" points=\"\n",
       "  156.598,1486.45 156.598,47.2441 \n",
       "  \"/>\n",
       "<polyline clip-path=\"url(#clip010)\" style=\"stroke:#000000; stroke-linecap:butt; stroke-linejoin:round; stroke-width:4; stroke-opacity:1; fill:none\" points=\"\n",
       "  156.598,1309.94 175.496,1309.94 \n",
       "  \"/>\n",
       "<polyline clip-path=\"url(#clip010)\" style=\"stroke:#000000; stroke-linecap:butt; stroke-linejoin:round; stroke-width:4; stroke-opacity:1; fill:none\" points=\"\n",
       "  156.598,1038.39 175.496,1038.39 \n",
       "  \"/>\n",
       "<polyline clip-path=\"url(#clip010)\" style=\"stroke:#000000; stroke-linecap:butt; stroke-linejoin:round; stroke-width:4; stroke-opacity:1; fill:none\" points=\"\n",
       "  156.598,766.846 175.496,766.846 \n",
       "  \"/>\n",
       "<polyline clip-path=\"url(#clip010)\" style=\"stroke:#000000; stroke-linecap:butt; stroke-linejoin:round; stroke-width:4; stroke-opacity:1; fill:none\" points=\"\n",
       "  156.598,495.298 175.496,495.298 \n",
       "  \"/>\n",
       "<polyline clip-path=\"url(#clip010)\" style=\"stroke:#000000; stroke-linecap:butt; stroke-linejoin:round; stroke-width:4; stroke-opacity:1; fill:none\" points=\"\n",
       "  156.598,223.75 175.496,223.75 \n",
       "  \"/>\n",
       "<path clip-path=\"url(#clip010)\" d=\"M63.4226 1295.74 Q59.8115 1295.74 57.9828 1299.31 Q56.1773 1302.85 56.1773 1309.98 Q56.1773 1317.08 57.9828 1320.65 Q59.8115 1324.19 63.4226 1324.19 Q67.0569 1324.19 68.8624 1320.65 Q70.6911 1317.08 70.6911 1309.98 Q70.6911 1302.85 68.8624 1299.31 Q67.0569 1295.74 63.4226 1295.74 M63.4226 1292.04 Q69.2328 1292.04 72.2883 1296.64 Q75.367 1301.23 75.367 1309.98 Q75.367 1318.7 72.2883 1323.31 Q69.2328 1327.89 63.4226 1327.89 Q57.6125 1327.89 54.5338 1323.31 Q51.4782 1318.7 51.4782 1309.98 Q51.4782 1301.23 54.5338 1296.64 Q57.6125 1292.04 63.4226 1292.04 Z\" fill=\"#000000\" fill-rule=\"evenodd\" fill-opacity=\"1\" /><path clip-path=\"url(#clip010)\" d=\"M83.5845 1321.34 L88.4688 1321.34 L88.4688 1327.22 L83.5845 1327.22 L83.5845 1321.34 Z\" fill=\"#000000\" fill-rule=\"evenodd\" fill-opacity=\"1\" /><path clip-path=\"url(#clip010)\" d=\"M108.654 1295.74 Q105.043 1295.74 103.214 1299.31 Q101.409 1302.85 101.409 1309.98 Q101.409 1317.08 103.214 1320.65 Q105.043 1324.19 108.654 1324.19 Q112.288 1324.19 114.094 1320.65 Q115.922 1317.08 115.922 1309.98 Q115.922 1302.85 114.094 1299.31 Q112.288 1295.74 108.654 1295.74 M108.654 1292.04 Q114.464 1292.04 117.52 1296.64 Q120.598 1301.23 120.598 1309.98 Q120.598 1318.7 117.52 1323.31 Q114.464 1327.89 108.654 1327.89 Q102.844 1327.89 99.765 1323.31 Q96.7095 1318.7 96.7095 1309.98 Q96.7095 1301.23 99.765 1296.64 Q102.844 1292.04 108.654 1292.04 Z\" fill=\"#000000\" fill-rule=\"evenodd\" fill-opacity=\"1\" /><path clip-path=\"url(#clip010)\" d=\"M65.0198 1024.19 Q61.4087 1024.19 59.58 1027.76 Q57.7745 1031.3 57.7745 1038.43 Q57.7745 1045.54 59.58 1049.1 Q61.4087 1052.64 65.0198 1052.64 Q68.6541 1052.64 70.4596 1049.1 Q72.2883 1045.54 72.2883 1038.43 Q72.2883 1031.3 70.4596 1027.76 Q68.6541 1024.19 65.0198 1024.19 M65.0198 1020.49 Q70.83 1020.49 73.8855 1025.1 Q76.9642 1029.68 76.9642 1038.43 Q76.9642 1047.16 73.8855 1051.76 Q70.83 1056.35 65.0198 1056.35 Q59.2097 1056.35 56.131 1051.76 Q53.0754 1047.16 53.0754 1038.43 Q53.0754 1029.68 56.131 1025.1 Q59.2097 1020.49 65.0198 1020.49 Z\" fill=\"#000000\" fill-rule=\"evenodd\" fill-opacity=\"1\" /><path clip-path=\"url(#clip010)\" d=\"M85.1818 1049.79 L90.066 1049.79 L90.066 1055.67 L85.1818 1055.67 L85.1818 1049.79 Z\" fill=\"#000000\" fill-rule=\"evenodd\" fill-opacity=\"1\" /><path clip-path=\"url(#clip010)\" d=\"M104.279 1051.74 L120.598 1051.74 L120.598 1055.67 L98.6539 1055.67 L98.6539 1051.74 Q101.316 1048.98 105.899 1044.35 Q110.506 1039.7 111.686 1038.36 Q113.932 1035.84 114.811 1034.1 Q115.714 1032.34 115.714 1030.65 Q115.714 1027.9 113.77 1026.16 Q111.848 1024.42 108.746 1024.42 Q106.547 1024.42 104.094 1025.19 Q101.663 1025.95 98.8854 1027.5 L98.8854 1022.78 Q101.709 1021.65 104.163 1021.07 Q106.617 1020.49 108.654 1020.49 Q114.024 1020.49 117.219 1023.17 Q120.413 1025.86 120.413 1030.35 Q120.413 1032.48 119.603 1034.4 Q118.816 1036.3 116.709 1038.89 Q116.131 1039.56 113.029 1042.78 Q109.927 1045.97 104.279 1051.74 Z\" fill=\"#000000\" fill-rule=\"evenodd\" fill-opacity=\"1\" /><path clip-path=\"url(#clip010)\" d=\"M62.9365 752.645 Q59.3254 752.645 57.4967 756.209 Q55.6912 759.751 55.6912 766.881 Q55.6912 773.987 57.4967 777.552 Q59.3254 781.094 62.9365 781.094 Q66.5707 781.094 68.3763 777.552 Q70.205 773.987 70.205 766.881 Q70.205 759.751 68.3763 756.209 Q66.5707 752.645 62.9365 752.645 M62.9365 748.941 Q68.7467 748.941 71.8022 753.547 Q74.8809 758.131 74.8809 766.881 Q74.8809 775.608 71.8022 780.214 Q68.7467 784.797 62.9365 784.797 Q57.1264 784.797 54.0477 780.214 Q50.9921 775.608 50.9921 766.881 Q50.9921 758.131 54.0477 753.547 Q57.1264 748.941 62.9365 748.941 Z\" fill=\"#000000\" fill-rule=\"evenodd\" fill-opacity=\"1\" /><path clip-path=\"url(#clip010)\" d=\"M83.0984 778.246 L87.9827 778.246 L87.9827 784.126 L83.0984 784.126 L83.0984 778.246 Z\" fill=\"#000000\" fill-rule=\"evenodd\" fill-opacity=\"1\" /><path clip-path=\"url(#clip010)\" d=\"M111.015 753.64 L99.2095 772.089 L111.015 772.089 L111.015 753.64 M109.788 749.566 L115.668 749.566 L115.668 772.089 L120.598 772.089 L120.598 775.978 L115.668 775.978 L115.668 784.126 L111.015 784.126 L111.015 775.978 L95.4132 775.978 L95.4132 771.464 L109.788 749.566 Z\" fill=\"#000000\" fill-rule=\"evenodd\" fill-opacity=\"1\" /><path clip-path=\"url(#clip010)\" d=\"M63.2606 481.097 Q59.6495 481.097 57.8208 484.662 Q56.0152 488.203 56.0152 495.333 Q56.0152 502.439 57.8208 506.004 Q59.6495 509.546 63.2606 509.546 Q66.8948 509.546 68.7004 506.004 Q70.5291 502.439 70.5291 495.333 Q70.5291 488.203 68.7004 484.662 Q66.8948 481.097 63.2606 481.097 M63.2606 477.393 Q69.0707 477.393 72.1263 482 Q75.205 486.583 75.205 495.333 Q75.205 504.06 72.1263 508.666 Q69.0707 513.249 63.2606 513.249 Q57.4504 513.249 54.3717 508.666 Q51.3162 504.06 51.3162 495.333 Q51.3162 486.583 54.3717 482 Q57.4504 477.393 63.2606 477.393 Z\" fill=\"#000000\" fill-rule=\"evenodd\" fill-opacity=\"1\" /><path clip-path=\"url(#clip010)\" d=\"M83.4225 506.699 L88.3067 506.699 L88.3067 512.578 L83.4225 512.578 L83.4225 506.699 Z\" fill=\"#000000\" fill-rule=\"evenodd\" fill-opacity=\"1\" /><path clip-path=\"url(#clip010)\" d=\"M109.071 493.435 Q105.922 493.435 104.071 495.587 Q102.242 497.74 102.242 501.49 Q102.242 505.217 104.071 507.393 Q105.922 509.546 109.071 509.546 Q112.219 509.546 114.047 507.393 Q115.899 505.217 115.899 501.49 Q115.899 497.74 114.047 495.587 Q112.219 493.435 109.071 493.435 M118.353 478.782 L118.353 483.041 Q116.594 482.208 114.788 481.768 Q113.006 481.328 111.246 481.328 Q106.617 481.328 104.163 484.453 Q101.733 487.578 101.385 493.898 Q102.751 491.884 104.811 490.819 Q106.871 489.731 109.348 489.731 Q114.557 489.731 117.566 492.902 Q120.598 496.05 120.598 501.49 Q120.598 506.814 117.45 510.032 Q114.302 513.249 109.071 513.249 Q103.075 513.249 99.9039 508.666 Q96.7326 504.06 96.7326 495.333 Q96.7326 487.138 100.621 482.277 Q104.51 477.393 111.061 477.393 Q112.82 477.393 114.603 477.74 Q116.408 478.088 118.353 478.782 Z\" fill=\"#000000\" fill-rule=\"evenodd\" fill-opacity=\"1\" /><path clip-path=\"url(#clip010)\" d=\"M63.5152 209.549 Q59.9041 209.549 58.0754 213.114 Q56.2699 216.655 56.2699 223.785 Q56.2699 230.891 58.0754 234.456 Q59.9041 237.998 63.5152 237.998 Q67.1494 237.998 68.955 234.456 Q70.7837 230.891 70.7837 223.785 Q70.7837 216.655 68.955 213.114 Q67.1494 209.549 63.5152 209.549 M63.5152 205.845 Q69.3254 205.845 72.3809 210.452 Q75.4596 215.035 75.4596 223.785 Q75.4596 232.512 72.3809 237.118 Q69.3254 241.702 63.5152 241.702 Q57.7051 241.702 54.6264 237.118 Q51.5708 232.512 51.5708 223.785 Q51.5708 215.035 54.6264 210.452 Q57.7051 205.845 63.5152 205.845 Z\" fill=\"#000000\" fill-rule=\"evenodd\" fill-opacity=\"1\" /><path clip-path=\"url(#clip010)\" d=\"M83.6771 235.151 L88.5614 235.151 L88.5614 241.03 L83.6771 241.03 L83.6771 235.151 Z\" fill=\"#000000\" fill-rule=\"evenodd\" fill-opacity=\"1\" /><path clip-path=\"url(#clip010)\" d=\"M108.746 224.618 Q105.413 224.618 103.492 226.401 Q101.594 228.183 101.594 231.308 Q101.594 234.433 103.492 236.215 Q105.413 237.998 108.746 237.998 Q112.08 237.998 114.001 236.215 Q115.922 234.41 115.922 231.308 Q115.922 228.183 114.001 226.401 Q112.103 224.618 108.746 224.618 M104.071 222.628 Q101.061 221.887 99.3715 219.827 Q97.7048 217.766 97.7048 214.804 Q97.7048 210.66 100.645 208.253 Q103.608 205.845 108.746 205.845 Q113.908 205.845 116.848 208.253 Q119.788 210.66 119.788 214.804 Q119.788 217.766 118.098 219.827 Q116.432 221.887 113.445 222.628 Q116.825 223.415 118.7 225.706 Q120.598 227.998 120.598 231.308 Q120.598 236.331 117.52 239.016 Q114.464 241.702 108.746 241.702 Q103.029 241.702 99.9502 239.016 Q96.8947 236.331 96.8947 231.308 Q96.8947 227.998 98.7928 225.706 Q100.691 223.415 104.071 222.628 M102.358 215.243 Q102.358 217.928 104.024 219.433 Q105.714 220.938 108.746 220.938 Q111.756 220.938 113.445 219.433 Q115.158 217.928 115.158 215.243 Q115.158 212.558 113.445 211.054 Q111.756 209.549 108.746 209.549 Q105.714 209.549 104.024 211.054 Q102.358 212.558 102.358 215.243 Z\" fill=\"#000000\" fill-rule=\"evenodd\" fill-opacity=\"1\" /><path clip-path=\"url(#clip012)\" d=\"\n",
       "M1254.68 1445.72 L2290.6 631.072 L1254.68 87.9763 L218.754 631.072 L1254.68 1445.72 L1254.68 1309.94 L218.754 1309.94 L1254.68 1309.94 L2290.6 1309.94 L1254.68 1309.94 \n",
       "   Z\n",
       "  \" fill=\"#009af9\" fill-rule=\"evenodd\" fill-opacity=\"1\"/>\n",
       "<polyline clip-path=\"url(#clip012)\" style=\"stroke:#009af9; stroke-linecap:butt; stroke-linejoin:round; stroke-width:4; stroke-opacity:1; fill:none\" points=\"\n",
       "  1254.68,1445.72 2290.6,631.072 1254.68,87.9763 218.754,631.072 1254.68,1445.72 \n",
       "  \"/>\n",
       "</svg>\n"
      ]
     },
     "execution_count": 25,
     "metadata": {},
     "output_type": "execute_result"
    }
   ],
   "source": [
    "RR.plot()"
   ]
  },
  {
   "cell_type": "code",
   "execution_count": 26,
   "metadata": {},
   "outputs": [
    {
     "data": {
      "image/svg+xml": [
       "<?xml version=\"1.0\" encoding=\"utf-8\"?>\n",
       "<svg xmlns=\"http://www.w3.org/2000/svg\" xmlns:xlink=\"http://www.w3.org/1999/xlink\" width=\"600\" height=\"400\" viewBox=\"0 0 2400 1600\">\n",
       "<defs>\n",
       "  <clipPath id=\"clip050\">\n",
       "    <rect x=\"0\" y=\"0\" width=\"2400\" height=\"1600\"/>\n",
       "  </clipPath>\n",
       "</defs>\n",
       "<path clip-path=\"url(#clip050)\" d=\"\n",
       "M0 1600 L2400 1600 L2400 0 L0 0  Z\n",
       "  \" fill=\"#ffffff\" fill-rule=\"evenodd\" fill-opacity=\"1\"/>\n",
       "<defs>\n",
       "  <clipPath id=\"clip051\">\n",
       "    <rect x=\"480\" y=\"0\" width=\"1681\" height=\"1600\"/>\n",
       "  </clipPath>\n",
       "</defs>\n",
       "<path clip-path=\"url(#clip050)\" d=\"\n",
       "M156.598 1486.45 L2352.76 1486.45 L2352.76 47.2441 L156.598 47.2441  Z\n",
       "  \" fill=\"#ffffff\" fill-rule=\"evenodd\" fill-opacity=\"1\"/>\n",
       "<defs>\n",
       "  <clipPath id=\"clip052\">\n",
       "    <rect x=\"156\" y=\"47\" width=\"2197\" height=\"1440\"/>\n",
       "  </clipPath>\n",
       "</defs>\n",
       "<polyline clip-path=\"url(#clip052)\" style=\"stroke:#000000; stroke-linecap:butt; stroke-linejoin:round; stroke-width:2; stroke-opacity:0.1; fill:none\" points=\"\n",
       "  218.754,1486.45 218.754,47.2441 \n",
       "  \"/>\n",
       "<polyline clip-path=\"url(#clip052)\" style=\"stroke:#000000; stroke-linecap:butt; stroke-linejoin:round; stroke-width:2; stroke-opacity:0.1; fill:none\" points=\"\n",
       "  689.628,1486.45 689.628,47.2441 \n",
       "  \"/>\n",
       "<polyline clip-path=\"url(#clip052)\" style=\"stroke:#000000; stroke-linecap:butt; stroke-linejoin:round; stroke-width:2; stroke-opacity:0.1; fill:none\" points=\"\n",
       "  1160.5,1486.45 1160.5,47.2441 \n",
       "  \"/>\n",
       "<polyline clip-path=\"url(#clip052)\" style=\"stroke:#000000; stroke-linecap:butt; stroke-linejoin:round; stroke-width:2; stroke-opacity:0.1; fill:none\" points=\"\n",
       "  1631.38,1486.45 1631.38,47.2441 \n",
       "  \"/>\n",
       "<polyline clip-path=\"url(#clip052)\" style=\"stroke:#000000; stroke-linecap:butt; stroke-linejoin:round; stroke-width:2; stroke-opacity:0.1; fill:none\" points=\"\n",
       "  2102.25,1486.45 2102.25,47.2441 \n",
       "  \"/>\n",
       "<polyline clip-path=\"url(#clip050)\" style=\"stroke:#000000; stroke-linecap:butt; stroke-linejoin:round; stroke-width:4; stroke-opacity:1; fill:none\" points=\"\n",
       "  156.598,1486.45 2352.76,1486.45 \n",
       "  \"/>\n",
       "<polyline clip-path=\"url(#clip050)\" style=\"stroke:#000000; stroke-linecap:butt; stroke-linejoin:round; stroke-width:4; stroke-opacity:1; fill:none\" points=\"\n",
       "  218.754,1486.45 218.754,1467.55 \n",
       "  \"/>\n",
       "<polyline clip-path=\"url(#clip050)\" style=\"stroke:#000000; stroke-linecap:butt; stroke-linejoin:round; stroke-width:4; stroke-opacity:1; fill:none\" points=\"\n",
       "  689.628,1486.45 689.628,1467.55 \n",
       "  \"/>\n",
       "<polyline clip-path=\"url(#clip050)\" style=\"stroke:#000000; stroke-linecap:butt; stroke-linejoin:round; stroke-width:4; stroke-opacity:1; fill:none\" points=\"\n",
       "  1160.5,1486.45 1160.5,1467.55 \n",
       "  \"/>\n",
       "<polyline clip-path=\"url(#clip050)\" style=\"stroke:#000000; stroke-linecap:butt; stroke-linejoin:round; stroke-width:4; stroke-opacity:1; fill:none\" points=\"\n",
       "  1631.38,1486.45 1631.38,1467.55 \n",
       "  \"/>\n",
       "<polyline clip-path=\"url(#clip050)\" style=\"stroke:#000000; stroke-linecap:butt; stroke-linejoin:round; stroke-width:4; stroke-opacity:1; fill:none\" points=\"\n",
       "  2102.25,1486.45 2102.25,1467.55 \n",
       "  \"/>\n",
       "<path clip-path=\"url(#clip050)\" d=\"M196.138 1517.37 Q192.527 1517.37 190.698 1520.93 Q188.893 1524.47 188.893 1531.6 Q188.893 1538.71 190.698 1542.27 Q192.527 1545.82 196.138 1545.82 Q199.772 1545.82 201.578 1542.27 Q203.407 1538.71 203.407 1531.6 Q203.407 1524.47 201.578 1520.93 Q199.772 1517.37 196.138 1517.37 M196.138 1513.66 Q201.948 1513.66 205.004 1518.27 Q208.082 1522.85 208.082 1531.6 Q208.082 1540.33 205.004 1544.94 Q201.948 1549.52 196.138 1549.52 Q190.328 1549.52 187.249 1544.94 Q184.194 1540.33 184.194 1531.6 Q184.194 1522.85 187.249 1518.27 Q190.328 1513.66 196.138 1513.66 Z\" fill=\"#000000\" fill-rule=\"evenodd\" fill-opacity=\"1\" /><path clip-path=\"url(#clip050)\" d=\"M216.3 1542.97 L221.184 1542.97 L221.184 1548.85 L216.3 1548.85 L216.3 1542.97 Z\" fill=\"#000000\" fill-rule=\"evenodd\" fill-opacity=\"1\" /><path clip-path=\"url(#clip050)\" d=\"M241.369 1517.37 Q237.758 1517.37 235.929 1520.93 Q234.124 1524.47 234.124 1531.6 Q234.124 1538.71 235.929 1542.27 Q237.758 1545.82 241.369 1545.82 Q245.003 1545.82 246.809 1542.27 Q248.638 1538.71 248.638 1531.6 Q248.638 1524.47 246.809 1520.93 Q245.003 1517.37 241.369 1517.37 M241.369 1513.66 Q247.179 1513.66 250.235 1518.27 Q253.314 1522.85 253.314 1531.6 Q253.314 1540.33 250.235 1544.94 Q247.179 1549.52 241.369 1549.52 Q235.559 1549.52 232.48 1544.94 Q229.425 1540.33 229.425 1531.6 Q229.425 1522.85 232.48 1518.27 Q235.559 1513.66 241.369 1513.66 Z\" fill=\"#000000\" fill-rule=\"evenodd\" fill-opacity=\"1\" /><path clip-path=\"url(#clip050)\" d=\"M667.51 1517.37 Q663.899 1517.37 662.07 1520.93 Q660.265 1524.47 660.265 1531.6 Q660.265 1538.71 662.07 1542.27 Q663.899 1545.82 667.51 1545.82 Q671.144 1545.82 672.95 1542.27 Q674.778 1538.71 674.778 1531.6 Q674.778 1524.47 672.95 1520.93 Q671.144 1517.37 667.51 1517.37 M667.51 1513.66 Q673.32 1513.66 676.376 1518.27 Q679.454 1522.85 679.454 1531.6 Q679.454 1540.33 676.376 1544.94 Q673.32 1549.52 667.51 1549.52 Q661.7 1549.52 658.621 1544.94 Q655.566 1540.33 655.566 1531.6 Q655.566 1522.85 658.621 1518.27 Q661.7 1513.66 667.51 1513.66 Z\" fill=\"#000000\" fill-rule=\"evenodd\" fill-opacity=\"1\" /><path clip-path=\"url(#clip050)\" d=\"M687.672 1542.97 L692.556 1542.97 L692.556 1548.85 L687.672 1548.85 L687.672 1542.97 Z\" fill=\"#000000\" fill-rule=\"evenodd\" fill-opacity=\"1\" /><path clip-path=\"url(#clip050)\" d=\"M702.788 1514.29 L721.144 1514.29 L721.144 1518.22 L707.07 1518.22 L707.07 1526.7 Q708.088 1526.35 709.107 1526.19 Q710.126 1526 711.144 1526 Q716.931 1526 720.311 1529.17 Q723.69 1532.34 723.69 1537.76 Q723.69 1543.34 720.218 1546.44 Q716.746 1549.52 710.426 1549.52 Q708.251 1549.52 705.982 1549.15 Q703.737 1548.78 701.329 1548.04 L701.329 1543.34 Q703.413 1544.47 705.635 1545.03 Q707.857 1545.58 710.334 1545.58 Q714.338 1545.58 716.676 1543.48 Q719.014 1541.37 719.014 1537.76 Q719.014 1534.15 716.676 1532.04 Q714.338 1529.94 710.334 1529.94 Q708.459 1529.94 706.584 1530.35 Q704.732 1530.77 702.788 1531.65 L702.788 1514.29 Z\" fill=\"#000000\" fill-rule=\"evenodd\" fill-opacity=\"1\" /><path clip-path=\"url(#clip050)\" d=\"M1127.66 1544.91 L1135.29 1544.91 L1135.29 1518.55 L1126.98 1520.21 L1126.98 1515.95 L1135.25 1514.29 L1139.92 1514.29 L1139.92 1544.91 L1147.56 1544.91 L1147.56 1548.85 L1127.66 1548.85 L1127.66 1544.91 Z\" fill=\"#000000\" fill-rule=\"evenodd\" fill-opacity=\"1\" /><path clip-path=\"url(#clip050)\" d=\"M1157.01 1542.97 L1161.89 1542.97 L1161.89 1548.85 L1157.01 1548.85 L1157.01 1542.97 Z\" fill=\"#000000\" fill-rule=\"evenodd\" fill-opacity=\"1\" /><path clip-path=\"url(#clip050)\" d=\"M1182.08 1517.37 Q1178.47 1517.37 1176.64 1520.93 Q1174.83 1524.47 1174.83 1531.6 Q1174.83 1538.71 1176.64 1542.27 Q1178.47 1545.82 1182.08 1545.82 Q1185.71 1545.82 1187.52 1542.27 Q1189.34 1538.71 1189.34 1531.6 Q1189.34 1524.47 1187.52 1520.93 Q1185.71 1517.37 1182.08 1517.37 M1182.08 1513.66 Q1187.89 1513.66 1190.94 1518.27 Q1194.02 1522.85 1194.02 1531.6 Q1194.02 1540.33 1190.94 1544.94 Q1187.89 1549.52 1182.08 1549.52 Q1176.27 1549.52 1173.19 1544.94 Q1170.13 1540.33 1170.13 1531.6 Q1170.13 1522.85 1173.19 1518.27 Q1176.27 1513.66 1182.08 1513.66 Z\" fill=\"#000000\" fill-rule=\"evenodd\" fill-opacity=\"1\" /><path clip-path=\"url(#clip050)\" d=\"M1599.03 1544.91 L1606.67 1544.91 L1606.67 1518.55 L1598.36 1520.21 L1598.36 1515.95 L1606.62 1514.29 L1611.3 1514.29 L1611.3 1544.91 L1618.93 1544.91 L1618.93 1548.85 L1599.03 1548.85 L1599.03 1544.91 Z\" fill=\"#000000\" fill-rule=\"evenodd\" fill-opacity=\"1\" /><path clip-path=\"url(#clip050)\" d=\"M1628.38 1542.97 L1633.26 1542.97 L1633.26 1548.85 L1628.38 1548.85 L1628.38 1542.97 Z\" fill=\"#000000\" fill-rule=\"evenodd\" fill-opacity=\"1\" /><path clip-path=\"url(#clip050)\" d=\"M1643.49 1514.29 L1661.85 1514.29 L1661.85 1518.22 L1647.78 1518.22 L1647.78 1526.7 Q1648.8 1526.35 1649.81 1526.19 Q1650.83 1526 1651.85 1526 Q1657.64 1526 1661.02 1529.17 Q1664.4 1532.34 1664.4 1537.76 Q1664.4 1543.34 1660.92 1546.44 Q1657.45 1549.52 1651.13 1549.52 Q1648.96 1549.52 1646.69 1549.15 Q1644.44 1548.78 1642.04 1548.04 L1642.04 1543.34 Q1644.12 1544.47 1646.34 1545.03 Q1648.56 1545.58 1651.04 1545.58 Q1655.05 1545.58 1657.38 1543.48 Q1659.72 1541.37 1659.72 1537.76 Q1659.72 1534.15 1657.38 1532.04 Q1655.05 1529.94 1651.04 1529.94 Q1649.17 1529.94 1647.29 1530.35 Q1645.44 1530.77 1643.49 1531.65 L1643.49 1514.29 Z\" fill=\"#000000\" fill-rule=\"evenodd\" fill-opacity=\"1\" /><path clip-path=\"url(#clip050)\" d=\"M2073.49 1544.91 L2089.81 1544.91 L2089.81 1548.85 L2067.86 1548.85 L2067.86 1544.91 Q2070.53 1542.16 2075.11 1537.53 Q2079.72 1532.88 2080.9 1531.53 Q2083.14 1529.01 2084.02 1527.27 Q2084.92 1525.51 2084.92 1523.82 Q2084.92 1521.07 2082.98 1519.33 Q2081.06 1517.6 2077.96 1517.6 Q2075.76 1517.6 2073.3 1518.36 Q2070.87 1519.13 2068.1 1520.68 L2068.1 1515.95 Q2070.92 1514.82 2073.37 1514.24 Q2075.83 1513.66 2077.86 1513.66 Q2083.23 1513.66 2086.43 1516.35 Q2089.62 1519.03 2089.62 1523.52 Q2089.62 1525.65 2088.81 1527.57 Q2088.03 1529.47 2085.92 1532.07 Q2085.34 1532.74 2082.24 1535.95 Q2079.14 1539.15 2073.49 1544.91 Z\" fill=\"#000000\" fill-rule=\"evenodd\" fill-opacity=\"1\" /><path clip-path=\"url(#clip050)\" d=\"M2099.62 1542.97 L2104.51 1542.97 L2104.51 1548.85 L2099.62 1548.85 L2099.62 1542.97 Z\" fill=\"#000000\" fill-rule=\"evenodd\" fill-opacity=\"1\" /><path clip-path=\"url(#clip050)\" d=\"M2124.69 1517.37 Q2121.08 1517.37 2119.25 1520.93 Q2117.45 1524.47 2117.45 1531.6 Q2117.45 1538.71 2119.25 1542.27 Q2121.08 1545.82 2124.69 1545.82 Q2128.33 1545.82 2130.13 1542.27 Q2131.96 1538.71 2131.96 1531.6 Q2131.96 1524.47 2130.13 1520.93 Q2128.33 1517.37 2124.69 1517.37 M2124.69 1513.66 Q2130.5 1513.66 2133.56 1518.27 Q2136.64 1522.85 2136.64 1531.6 Q2136.64 1540.33 2133.56 1544.94 Q2130.5 1549.52 2124.69 1549.52 Q2118.88 1549.52 2115.8 1544.94 Q2112.75 1540.33 2112.75 1531.6 Q2112.75 1522.85 2115.8 1518.27 Q2118.88 1513.66 2124.69 1513.66 Z\" fill=\"#000000\" fill-rule=\"evenodd\" fill-opacity=\"1\" /><polyline clip-path=\"url(#clip052)\" style=\"stroke:#000000; stroke-linecap:butt; stroke-linejoin:round; stroke-width:2; stroke-opacity:0.1; fill:none\" points=\"\n",
       "  156.598,1309.94 2352.76,1309.94 \n",
       "  \"/>\n",
       "<polyline clip-path=\"url(#clip052)\" style=\"stroke:#000000; stroke-linecap:butt; stroke-linejoin:round; stroke-width:2; stroke-opacity:0.1; fill:none\" points=\"\n",
       "  156.598,1038.39 2352.76,1038.39 \n",
       "  \"/>\n",
       "<polyline clip-path=\"url(#clip052)\" style=\"stroke:#000000; stroke-linecap:butt; stroke-linejoin:round; stroke-width:2; stroke-opacity:0.1; fill:none\" points=\"\n",
       "  156.598,766.846 2352.76,766.846 \n",
       "  \"/>\n",
       "<polyline clip-path=\"url(#clip052)\" style=\"stroke:#000000; stroke-linecap:butt; stroke-linejoin:round; stroke-width:2; stroke-opacity:0.1; fill:none\" points=\"\n",
       "  156.598,495.298 2352.76,495.298 \n",
       "  \"/>\n",
       "<polyline clip-path=\"url(#clip052)\" style=\"stroke:#000000; stroke-linecap:butt; stroke-linejoin:round; stroke-width:2; stroke-opacity:0.1; fill:none\" points=\"\n",
       "  156.598,223.75 2352.76,223.75 \n",
       "  \"/>\n",
       "<polyline clip-path=\"url(#clip050)\" style=\"stroke:#000000; stroke-linecap:butt; stroke-linejoin:round; stroke-width:4; stroke-opacity:1; fill:none\" points=\"\n",
       "  156.598,1486.45 156.598,47.2441 \n",
       "  \"/>\n",
       "<polyline clip-path=\"url(#clip050)\" style=\"stroke:#000000; stroke-linecap:butt; stroke-linejoin:round; stroke-width:4; stroke-opacity:1; fill:none\" points=\"\n",
       "  156.598,1309.94 175.496,1309.94 \n",
       "  \"/>\n",
       "<polyline clip-path=\"url(#clip050)\" style=\"stroke:#000000; stroke-linecap:butt; stroke-linejoin:round; stroke-width:4; stroke-opacity:1; fill:none\" points=\"\n",
       "  156.598,1038.39 175.496,1038.39 \n",
       "  \"/>\n",
       "<polyline clip-path=\"url(#clip050)\" style=\"stroke:#000000; stroke-linecap:butt; stroke-linejoin:round; stroke-width:4; stroke-opacity:1; fill:none\" points=\"\n",
       "  156.598,766.846 175.496,766.846 \n",
       "  \"/>\n",
       "<polyline clip-path=\"url(#clip050)\" style=\"stroke:#000000; stroke-linecap:butt; stroke-linejoin:round; stroke-width:4; stroke-opacity:1; fill:none\" points=\"\n",
       "  156.598,495.298 175.496,495.298 \n",
       "  \"/>\n",
       "<polyline clip-path=\"url(#clip050)\" style=\"stroke:#000000; stroke-linecap:butt; stroke-linejoin:round; stroke-width:4; stroke-opacity:1; fill:none\" points=\"\n",
       "  156.598,223.75 175.496,223.75 \n",
       "  \"/>\n",
       "<path clip-path=\"url(#clip050)\" d=\"M63.4226 1295.74 Q59.8115 1295.74 57.9828 1299.31 Q56.1773 1302.85 56.1773 1309.98 Q56.1773 1317.08 57.9828 1320.65 Q59.8115 1324.19 63.4226 1324.19 Q67.0569 1324.19 68.8624 1320.65 Q70.6911 1317.08 70.6911 1309.98 Q70.6911 1302.85 68.8624 1299.31 Q67.0569 1295.74 63.4226 1295.74 M63.4226 1292.04 Q69.2328 1292.04 72.2883 1296.64 Q75.367 1301.23 75.367 1309.98 Q75.367 1318.7 72.2883 1323.31 Q69.2328 1327.89 63.4226 1327.89 Q57.6125 1327.89 54.5338 1323.31 Q51.4782 1318.7 51.4782 1309.98 Q51.4782 1301.23 54.5338 1296.64 Q57.6125 1292.04 63.4226 1292.04 Z\" fill=\"#000000\" fill-rule=\"evenodd\" fill-opacity=\"1\" /><path clip-path=\"url(#clip050)\" d=\"M83.5845 1321.34 L88.4688 1321.34 L88.4688 1327.22 L83.5845 1327.22 L83.5845 1321.34 Z\" fill=\"#000000\" fill-rule=\"evenodd\" fill-opacity=\"1\" /><path clip-path=\"url(#clip050)\" d=\"M108.654 1295.74 Q105.043 1295.74 103.214 1299.31 Q101.409 1302.85 101.409 1309.98 Q101.409 1317.08 103.214 1320.65 Q105.043 1324.19 108.654 1324.19 Q112.288 1324.19 114.094 1320.65 Q115.922 1317.08 115.922 1309.98 Q115.922 1302.85 114.094 1299.31 Q112.288 1295.74 108.654 1295.74 M108.654 1292.04 Q114.464 1292.04 117.52 1296.64 Q120.598 1301.23 120.598 1309.98 Q120.598 1318.7 117.52 1323.31 Q114.464 1327.89 108.654 1327.89 Q102.844 1327.89 99.765 1323.31 Q96.7095 1318.7 96.7095 1309.98 Q96.7095 1301.23 99.765 1296.64 Q102.844 1292.04 108.654 1292.04 Z\" fill=\"#000000\" fill-rule=\"evenodd\" fill-opacity=\"1\" /><path clip-path=\"url(#clip050)\" d=\"M65.0198 1024.19 Q61.4087 1024.19 59.58 1027.76 Q57.7745 1031.3 57.7745 1038.43 Q57.7745 1045.54 59.58 1049.1 Q61.4087 1052.64 65.0198 1052.64 Q68.6541 1052.64 70.4596 1049.1 Q72.2883 1045.54 72.2883 1038.43 Q72.2883 1031.3 70.4596 1027.76 Q68.6541 1024.19 65.0198 1024.19 M65.0198 1020.49 Q70.83 1020.49 73.8855 1025.1 Q76.9642 1029.68 76.9642 1038.43 Q76.9642 1047.16 73.8855 1051.76 Q70.83 1056.35 65.0198 1056.35 Q59.2097 1056.35 56.131 1051.76 Q53.0754 1047.16 53.0754 1038.43 Q53.0754 1029.68 56.131 1025.1 Q59.2097 1020.49 65.0198 1020.49 Z\" fill=\"#000000\" fill-rule=\"evenodd\" fill-opacity=\"1\" /><path clip-path=\"url(#clip050)\" d=\"M85.1818 1049.79 L90.066 1049.79 L90.066 1055.67 L85.1818 1055.67 L85.1818 1049.79 Z\" fill=\"#000000\" fill-rule=\"evenodd\" fill-opacity=\"1\" /><path clip-path=\"url(#clip050)\" d=\"M104.279 1051.74 L120.598 1051.74 L120.598 1055.67 L98.6539 1055.67 L98.6539 1051.74 Q101.316 1048.98 105.899 1044.35 Q110.506 1039.7 111.686 1038.36 Q113.932 1035.84 114.811 1034.1 Q115.714 1032.34 115.714 1030.65 Q115.714 1027.9 113.77 1026.16 Q111.848 1024.42 108.746 1024.42 Q106.547 1024.42 104.094 1025.19 Q101.663 1025.95 98.8854 1027.5 L98.8854 1022.78 Q101.709 1021.65 104.163 1021.07 Q106.617 1020.49 108.654 1020.49 Q114.024 1020.49 117.219 1023.17 Q120.413 1025.86 120.413 1030.35 Q120.413 1032.48 119.603 1034.4 Q118.816 1036.3 116.709 1038.89 Q116.131 1039.56 113.029 1042.78 Q109.927 1045.97 104.279 1051.74 Z\" fill=\"#000000\" fill-rule=\"evenodd\" fill-opacity=\"1\" /><path clip-path=\"url(#clip050)\" d=\"M62.9365 752.645 Q59.3254 752.645 57.4967 756.209 Q55.6912 759.751 55.6912 766.881 Q55.6912 773.987 57.4967 777.552 Q59.3254 781.094 62.9365 781.094 Q66.5707 781.094 68.3763 777.552 Q70.205 773.987 70.205 766.881 Q70.205 759.751 68.3763 756.209 Q66.5707 752.645 62.9365 752.645 M62.9365 748.941 Q68.7467 748.941 71.8022 753.547 Q74.8809 758.131 74.8809 766.881 Q74.8809 775.608 71.8022 780.214 Q68.7467 784.797 62.9365 784.797 Q57.1264 784.797 54.0477 780.214 Q50.9921 775.608 50.9921 766.881 Q50.9921 758.131 54.0477 753.547 Q57.1264 748.941 62.9365 748.941 Z\" fill=\"#000000\" fill-rule=\"evenodd\" fill-opacity=\"1\" /><path clip-path=\"url(#clip050)\" d=\"M83.0984 778.246 L87.9827 778.246 L87.9827 784.126 L83.0984 784.126 L83.0984 778.246 Z\" fill=\"#000000\" fill-rule=\"evenodd\" fill-opacity=\"1\" /><path clip-path=\"url(#clip050)\" d=\"M111.015 753.64 L99.2095 772.089 L111.015 772.089 L111.015 753.64 M109.788 749.566 L115.668 749.566 L115.668 772.089 L120.598 772.089 L120.598 775.978 L115.668 775.978 L115.668 784.126 L111.015 784.126 L111.015 775.978 L95.4132 775.978 L95.4132 771.464 L109.788 749.566 Z\" fill=\"#000000\" fill-rule=\"evenodd\" fill-opacity=\"1\" /><path clip-path=\"url(#clip050)\" d=\"M63.2606 481.097 Q59.6495 481.097 57.8208 484.662 Q56.0152 488.203 56.0152 495.333 Q56.0152 502.439 57.8208 506.004 Q59.6495 509.546 63.2606 509.546 Q66.8948 509.546 68.7004 506.004 Q70.5291 502.439 70.5291 495.333 Q70.5291 488.203 68.7004 484.662 Q66.8948 481.097 63.2606 481.097 M63.2606 477.393 Q69.0707 477.393 72.1263 482 Q75.205 486.583 75.205 495.333 Q75.205 504.06 72.1263 508.666 Q69.0707 513.249 63.2606 513.249 Q57.4504 513.249 54.3717 508.666 Q51.3162 504.06 51.3162 495.333 Q51.3162 486.583 54.3717 482 Q57.4504 477.393 63.2606 477.393 Z\" fill=\"#000000\" fill-rule=\"evenodd\" fill-opacity=\"1\" /><path clip-path=\"url(#clip050)\" d=\"M83.4225 506.699 L88.3067 506.699 L88.3067 512.578 L83.4225 512.578 L83.4225 506.699 Z\" fill=\"#000000\" fill-rule=\"evenodd\" fill-opacity=\"1\" /><path clip-path=\"url(#clip050)\" d=\"M109.071 493.435 Q105.922 493.435 104.071 495.587 Q102.242 497.74 102.242 501.49 Q102.242 505.217 104.071 507.393 Q105.922 509.546 109.071 509.546 Q112.219 509.546 114.047 507.393 Q115.899 505.217 115.899 501.49 Q115.899 497.74 114.047 495.587 Q112.219 493.435 109.071 493.435 M118.353 478.782 L118.353 483.041 Q116.594 482.208 114.788 481.768 Q113.006 481.328 111.246 481.328 Q106.617 481.328 104.163 484.453 Q101.733 487.578 101.385 493.898 Q102.751 491.884 104.811 490.819 Q106.871 489.731 109.348 489.731 Q114.557 489.731 117.566 492.902 Q120.598 496.05 120.598 501.49 Q120.598 506.814 117.45 510.032 Q114.302 513.249 109.071 513.249 Q103.075 513.249 99.9039 508.666 Q96.7326 504.06 96.7326 495.333 Q96.7326 487.138 100.621 482.277 Q104.51 477.393 111.061 477.393 Q112.82 477.393 114.603 477.74 Q116.408 478.088 118.353 478.782 Z\" fill=\"#000000\" fill-rule=\"evenodd\" fill-opacity=\"1\" /><path clip-path=\"url(#clip050)\" d=\"M63.5152 209.549 Q59.9041 209.549 58.0754 213.114 Q56.2699 216.655 56.2699 223.785 Q56.2699 230.891 58.0754 234.456 Q59.9041 237.998 63.5152 237.998 Q67.1494 237.998 68.955 234.456 Q70.7837 230.891 70.7837 223.785 Q70.7837 216.655 68.955 213.114 Q67.1494 209.549 63.5152 209.549 M63.5152 205.845 Q69.3254 205.845 72.3809 210.452 Q75.4596 215.035 75.4596 223.785 Q75.4596 232.512 72.3809 237.118 Q69.3254 241.702 63.5152 241.702 Q57.7051 241.702 54.6264 237.118 Q51.5708 232.512 51.5708 223.785 Q51.5708 215.035 54.6264 210.452 Q57.7051 205.845 63.5152 205.845 Z\" fill=\"#000000\" fill-rule=\"evenodd\" fill-opacity=\"1\" /><path clip-path=\"url(#clip050)\" d=\"M83.6771 235.151 L88.5614 235.151 L88.5614 241.03 L83.6771 241.03 L83.6771 235.151 Z\" fill=\"#000000\" fill-rule=\"evenodd\" fill-opacity=\"1\" /><path clip-path=\"url(#clip050)\" d=\"M108.746 224.618 Q105.413 224.618 103.492 226.401 Q101.594 228.183 101.594 231.308 Q101.594 234.433 103.492 236.215 Q105.413 237.998 108.746 237.998 Q112.08 237.998 114.001 236.215 Q115.922 234.41 115.922 231.308 Q115.922 228.183 114.001 226.401 Q112.103 224.618 108.746 224.618 M104.071 222.628 Q101.061 221.887 99.3715 219.827 Q97.7048 217.766 97.7048 214.804 Q97.7048 210.66 100.645 208.253 Q103.608 205.845 108.746 205.845 Q113.908 205.845 116.848 208.253 Q119.788 210.66 119.788 214.804 Q119.788 217.766 118.098 219.827 Q116.432 221.887 113.445 222.628 Q116.825 223.415 118.7 225.706 Q120.598 227.998 120.598 231.308 Q120.598 236.331 117.52 239.016 Q114.464 241.702 108.746 241.702 Q103.029 241.702 99.9502 239.016 Q96.8947 236.331 96.8947 231.308 Q96.8947 227.998 98.7928 225.706 Q100.691 223.415 104.071 222.628 M102.358 215.243 Q102.358 217.928 104.024 219.433 Q105.714 220.938 108.746 220.938 Q111.756 220.938 113.445 219.433 Q115.158 217.928 115.158 215.243 Q115.158 212.558 113.445 211.054 Q111.756 209.549 108.746 209.549 Q105.714 209.549 104.024 211.054 Q102.358 212.558 102.358 215.243 Z\" fill=\"#000000\" fill-rule=\"evenodd\" fill-opacity=\"1\" /><path clip-path=\"url(#clip052)\" d=\"\n",
       "M1254.68 1445.72 L2290.6 631.072 L1254.68 87.9763 L218.754 631.072 L1254.68 1445.72 L1254.68 1309.94 L218.754 1309.94 L1254.68 1309.94 L2290.6 1309.94 L1254.68 1309.94 \n",
       "   Z\n",
       "  \" fill=\"#009af9\" fill-rule=\"evenodd\" fill-opacity=\"1\"/>\n",
       "<polyline clip-path=\"url(#clip052)\" style=\"stroke:#009af9; stroke-linecap:butt; stroke-linejoin:round; stroke-width:4; stroke-opacity:1; fill:none\" points=\"\n",
       "  1254.68,1445.72 2290.6,631.072 1254.68,87.9763 218.754,631.072 1254.68,1445.72 \n",
       "  \"/>\n",
       "</svg>\n"
      ]
     },
     "execution_count": 26,
     "metadata": {},
     "output_type": "execute_result"
    }
   ],
   "source": [
    "P.plot()"
   ]
  },
  {
   "cell_type": "code",
   "execution_count": 27,
   "metadata": {},
   "outputs": [
    {
     "data": {
      "text/plain": [
       "10"
      ]
     },
     "execution_count": 27,
     "metadata": {},
     "output_type": "execute_result"
    }
   ],
   "source": [
    "length(R.vertices)"
   ]
  },
  {
   "cell_type": "code",
   "execution_count": null,
   "metadata": {},
   "outputs": [],
   "source": []
  }
 ],
 "metadata": {
  "@webio": {
   "lastCommId": null,
   "lastKernelId": null
  },
  "kernelspec": {
   "display_name": "Julia 1.7.2",
   "language": "julia",
   "name": "julia-1.7"
  },
  "language_info": {
   "file_extension": ".jl",
   "mimetype": "application/julia",
   "name": "julia",
   "version": "1.7.2"
  }
 },
 "nbformat": 4,
 "nbformat_minor": 4
}
