{
 "cells": [
  {
   "cell_type": "code",
   "execution_count": 1,
   "id": "04ece091",
   "metadata": {},
   "outputs": [],
   "source": [
    "import pandas as pd\n",
    "import numpy as np\n",
    "import statsmodels.formula.api as smf\n",
    "import statsmodels.api as sm"
   ]
  },
  {
   "cell_type": "markdown",
   "id": "e4f27db1",
   "metadata": {},
   "source": [
    "# Uploading CPS data"
   ]
  },
  {
   "cell_type": "code",
   "execution_count": 2,
   "id": "b0bc0089",
   "metadata": {},
   "outputs": [],
   "source": [
    "cps = pd.read_csv('cps_test.csv')"
   ]
  },
  {
   "cell_type": "markdown",
   "id": "fa0d5fd1",
   "metadata": {},
   "source": [
    "# Best Linear Predictor"
   ]
  },
  {
   "cell_type": "code",
   "execution_count": 3,
   "id": "b0ea07e1",
   "metadata": {
    "scrolled": true
   },
   "outputs": [
    {
     "name": "stdout",
     "output_type": "stream",
     "text": [
      "                            OLS Regression Results                            \n",
      "==============================================================================\n",
      "Dep. Variable:               log_wage   R-squared:                       0.209\n",
      "Model:                            OLS   Adj. R-squared:                  0.209\n",
      "Method:                 Least Squares   F-statistic:                     2684.\n",
      "Date:                Thu, 06 Jul 2023   Prob (F-statistic):               0.00\n",
      "Time:                        19:21:12   Log-Likelihood:                -28323.\n",
      "No. Observations:               22715   AIC:                         5.665e+04\n",
      "Df Residuals:                   22712   BIC:                         5.668e+04\n",
      "Df Model:                           2                                         \n",
      "Covariance Type:                  HC1                                         \n",
      "==============================================================================\n",
      "                 coef    std err          z      P>|z|      [0.025      0.975]\n",
      "------------------------------------------------------------------------------\n",
      "Intercept      7.4145      0.039    187.891      0.000       7.337       7.492\n",
      "educ           0.1109      0.002     45.926      0.000       0.106       0.116\n",
      "age            0.0377      0.001     52.950      0.000       0.036       0.039\n",
      "==============================================================================\n",
      "Omnibus:                     9245.542   Durbin-Watson:                   1.884\n",
      "Prob(Omnibus):                  0.000   Jarque-Bera (JB):            76076.119\n",
      "Skew:                          -1.747   Prob(JB):                         0.00\n",
      "Kurtosis:                      11.257   Cond. No.                         263.\n",
      "==============================================================================\n",
      "\n",
      "Notes:\n",
      "[1] Standard Errors are heteroscedasticity robust (HC1)\n"
     ]
    }
   ],
   "source": [
    "ols1 = smf.ols(formula='log_wage ~ educ+age',data=cps).fit(cov_type='HC1')\n",
    "\n",
    "print(ols1.summary())"
   ]
  },
  {
   "cell_type": "code",
   "execution_count": 4,
   "id": "9ccaebe8",
   "metadata": {},
   "outputs": [],
   "source": [
    "beta1 = ols1._results.params"
   ]
  },
  {
   "cell_type": "markdown",
   "id": "5e5545bf",
   "metadata": {},
   "source": [
    "# Creating Interval Data"
   ]
  },
  {
   "cell_type": "code",
   "execution_count": 5,
   "id": "c722613d",
   "metadata": {},
   "outputs": [],
   "source": [
    "def createIntervalData(df, Y, thresholds):\n",
    "    # The function accepts a dataframe, df, and make interval data from the Y (string) variable. \n",
    "    # It adds to the dataframe the lower and upper values for Y (based on the thresholds) and the covariates.\n",
    "    \n",
    "    thresholds = np.array(thresholds)\n",
    "\n",
    "    idx = [sum(t <= y for t in thresholds)-1 for y in df[Y]]\n",
    "    df[Y+'_l'] = thresholds[idx]\n",
    "    df[Y+'_u'] = thresholds[np.array(idx)+1]\n",
    "    \n",
    "    df['log'+Y+'_l']= np.log(df[Y+'_l'])\n",
    "    df['log'+Y+'_u']= np.log(df[Y+'_u'])\n",
    "    \n",
    "    return df"
   ]
  },
  {
   "cell_type": "code",
   "execution_count": 6,
   "id": "a69378bc",
   "metadata": {},
   "outputs": [],
   "source": [
    "wage_quantiles = np.array(cps['wage'].quantile(np.linspace(0,1,11)))\n",
    "wage_quantiles[-1]+=1\n",
    "interval_cps = createIntervalData(cps, 'wage', wage_quantiles)"
   ]
  },
  {
   "cell_type": "markdown",
   "id": "72ebdb01",
   "metadata": {},
   "source": [
    "## add dummy education "
   ]
  },
  {
   "cell_type": "code",
   "execution_count": 7,
   "id": "313a6614",
   "metadata": {
    "scrolled": true
   },
   "outputs": [
    {
     "data": {
      "text/html": [
       "<div>\n",
       "<style scoped>\n",
       "    .dataframe tbody tr th:only-of-type {\n",
       "        vertical-align: middle;\n",
       "    }\n",
       "\n",
       "    .dataframe tbody tr th {\n",
       "        vertical-align: top;\n",
       "    }\n",
       "\n",
       "    .dataframe thead th {\n",
       "        text-align: right;\n",
       "    }\n",
       "</style>\n",
       "<table border=\"1\" class=\"dataframe\">\n",
       "  <thead>\n",
       "    <tr style=\"text-align: right;\">\n",
       "      <th></th>\n",
       "      <th>Unnamed: 0</th>\n",
       "      <th>age</th>\n",
       "      <th>wage</th>\n",
       "      <th>educ</th>\n",
       "      <th>log_wage</th>\n",
       "      <th>wage_l</th>\n",
       "      <th>wage_u</th>\n",
       "      <th>logwage_l</th>\n",
       "      <th>logwage_u</th>\n",
       "      <th>educ_d</th>\n",
       "    </tr>\n",
       "  </thead>\n",
       "  <tbody>\n",
       "    <tr>\n",
       "      <th>0</th>\n",
       "      <td>0</td>\n",
       "      <td>22</td>\n",
       "      <td>12000</td>\n",
       "      <td>13</td>\n",
       "      <td>9.392662</td>\n",
       "      <td>9000.0</td>\n",
       "      <td>15000.0</td>\n",
       "      <td>9.104980</td>\n",
       "      <td>9.615805</td>\n",
       "      <td>True</td>\n",
       "    </tr>\n",
       "    <tr>\n",
       "      <th>1</th>\n",
       "      <td>1</td>\n",
       "      <td>21</td>\n",
       "      <td>3500</td>\n",
       "      <td>13</td>\n",
       "      <td>8.160518</td>\n",
       "      <td>1.0</td>\n",
       "      <td>9000.0</td>\n",
       "      <td>0.000000</td>\n",
       "      <td>9.104980</td>\n",
       "      <td>True</td>\n",
       "    </tr>\n",
       "    <tr>\n",
       "      <th>2</th>\n",
       "      <td>3</td>\n",
       "      <td>49</td>\n",
       "      <td>30000</td>\n",
       "      <td>13</td>\n",
       "      <td>10.308953</td>\n",
       "      <td>30000.0</td>\n",
       "      <td>36000.0</td>\n",
       "      <td>10.308953</td>\n",
       "      <td>10.491274</td>\n",
       "      <td>True</td>\n",
       "    </tr>\n",
       "    <tr>\n",
       "      <th>3</th>\n",
       "      <td>4</td>\n",
       "      <td>31</td>\n",
       "      <td>32000</td>\n",
       "      <td>16</td>\n",
       "      <td>10.373491</td>\n",
       "      <td>30000.0</td>\n",
       "      <td>36000.0</td>\n",
       "      <td>10.308953</td>\n",
       "      <td>10.491274</td>\n",
       "      <td>True</td>\n",
       "    </tr>\n",
       "    <tr>\n",
       "      <th>4</th>\n",
       "      <td>5</td>\n",
       "      <td>42</td>\n",
       "      <td>89630</td>\n",
       "      <td>21</td>\n",
       "      <td>11.403445</td>\n",
       "      <td>71000.0</td>\n",
       "      <td>362303.0</td>\n",
       "      <td>11.170435</td>\n",
       "      <td>12.800236</td>\n",
       "      <td>True</td>\n",
       "    </tr>\n",
       "    <tr>\n",
       "      <th>...</th>\n",
       "      <td>...</td>\n",
       "      <td>...</td>\n",
       "      <td>...</td>\n",
       "      <td>...</td>\n",
       "      <td>...</td>\n",
       "      <td>...</td>\n",
       "      <td>...</td>\n",
       "      <td>...</td>\n",
       "      <td>...</td>\n",
       "      <td>...</td>\n",
       "    </tr>\n",
       "    <tr>\n",
       "      <th>22710</th>\n",
       "      <td>26111</td>\n",
       "      <td>37</td>\n",
       "      <td>32000</td>\n",
       "      <td>14</td>\n",
       "      <td>10.373491</td>\n",
       "      <td>30000.0</td>\n",
       "      <td>36000.0</td>\n",
       "      <td>10.308953</td>\n",
       "      <td>10.491274</td>\n",
       "      <td>True</td>\n",
       "    </tr>\n",
       "    <tr>\n",
       "      <th>22711</th>\n",
       "      <td>26112</td>\n",
       "      <td>50</td>\n",
       "      <td>56000</td>\n",
       "      <td>12</td>\n",
       "      <td>10.933107</td>\n",
       "      <td>53000.0</td>\n",
       "      <td>71000.0</td>\n",
       "      <td>10.878047</td>\n",
       "      <td>11.170435</td>\n",
       "      <td>False</td>\n",
       "    </tr>\n",
       "    <tr>\n",
       "      <th>22712</th>\n",
       "      <td>26113</td>\n",
       "      <td>24</td>\n",
       "      <td>9000</td>\n",
       "      <td>12</td>\n",
       "      <td>9.104980</td>\n",
       "      <td>9000.0</td>\n",
       "      <td>15000.0</td>\n",
       "      <td>9.104980</td>\n",
       "      <td>9.615805</td>\n",
       "      <td>False</td>\n",
       "    </tr>\n",
       "    <tr>\n",
       "      <th>22713</th>\n",
       "      <td>26114</td>\n",
       "      <td>49</td>\n",
       "      <td>29000</td>\n",
       "      <td>12</td>\n",
       "      <td>10.275051</td>\n",
       "      <td>25000.0</td>\n",
       "      <td>30000.0</td>\n",
       "      <td>10.126631</td>\n",
       "      <td>10.308953</td>\n",
       "      <td>False</td>\n",
       "    </tr>\n",
       "    <tr>\n",
       "      <th>22714</th>\n",
       "      <td>26116</td>\n",
       "      <td>35</td>\n",
       "      <td>24000</td>\n",
       "      <td>14</td>\n",
       "      <td>10.085809</td>\n",
       "      <td>20000.0</td>\n",
       "      <td>25000.0</td>\n",
       "      <td>9.903488</td>\n",
       "      <td>10.126631</td>\n",
       "      <td>True</td>\n",
       "    </tr>\n",
       "  </tbody>\n",
       "</table>\n",
       "<p>22715 rows × 10 columns</p>\n",
       "</div>"
      ],
      "text/plain": [
       "       Unnamed: 0  age   wage  educ   log_wage   wage_l    wage_u  logwage_l  \\\n",
       "0               0   22  12000    13   9.392662   9000.0   15000.0   9.104980   \n",
       "1               1   21   3500    13   8.160518      1.0    9000.0   0.000000   \n",
       "2               3   49  30000    13  10.308953  30000.0   36000.0  10.308953   \n",
       "3               4   31  32000    16  10.373491  30000.0   36000.0  10.308953   \n",
       "4               5   42  89630    21  11.403445  71000.0  362303.0  11.170435   \n",
       "...           ...  ...    ...   ...        ...      ...       ...        ...   \n",
       "22710       26111   37  32000    14  10.373491  30000.0   36000.0  10.308953   \n",
       "22711       26112   50  56000    12  10.933107  53000.0   71000.0  10.878047   \n",
       "22712       26113   24   9000    12   9.104980   9000.0   15000.0   9.104980   \n",
       "22713       26114   49  29000    12  10.275051  25000.0   30000.0  10.126631   \n",
       "22714       26116   35  24000    14  10.085809  20000.0   25000.0   9.903488   \n",
       "\n",
       "       logwage_u  educ_d  \n",
       "0       9.615805    True  \n",
       "1       9.104980    True  \n",
       "2      10.491274    True  \n",
       "3      10.491274    True  \n",
       "4      12.800236    True  \n",
       "...          ...     ...  \n",
       "22710  10.491274    True  \n",
       "22711  11.170435   False  \n",
       "22712   9.615805   False  \n",
       "22713  10.308953   False  \n",
       "22714  10.126631    True  \n",
       "\n",
       "[22715 rows x 10 columns]"
      ]
     },
     "execution_count": 7,
     "metadata": {},
     "output_type": "execute_result"
    }
   ],
   "source": [
    "interval_cps['educ_d'] = interval_cps.educ>12\n",
    "interval_cps"
   ]
  },
  {
   "cell_type": "markdown",
   "id": "b082e4fc",
   "metadata": {},
   "source": [
    "# OLS using dummy education instead of education"
   ]
  },
  {
   "cell_type": "code",
   "execution_count": 8,
   "id": "bd8cb20d",
   "metadata": {
    "scrolled": true
   },
   "outputs": [
    {
     "name": "stdout",
     "output_type": "stream",
     "text": [
      "                            OLS Regression Results                            \n",
      "==============================================================================\n",
      "Dep. Variable:               log_wage   R-squared:                       0.180\n",
      "Model:                            OLS   Adj. R-squared:                  0.179\n",
      "Method:                 Least Squares   F-statistic:                     2341.\n",
      "Date:                Thu, 06 Jul 2023   Prob (F-statistic):               0.00\n",
      "Time:                        19:21:12   Log-Likelihood:                -28745.\n",
      "No. Observations:               22715   AIC:                         5.750e+04\n",
      "Df Residuals:                   22712   BIC:                         5.752e+04\n",
      "Df Model:                           2                                         \n",
      "Covariance Type:                  HC1                                         \n",
      "==================================================================================\n",
      "                     coef    std err          z      P>|z|      [0.025      0.975]\n",
      "----------------------------------------------------------------------------------\n",
      "Intercept          8.5907      0.027    318.881      0.000       8.538       8.644\n",
      "educ_d[T.True]     0.3933      0.011     34.250      0.000       0.371       0.416\n",
      "age                0.0392      0.001     53.584      0.000       0.038       0.041\n",
      "==============================================================================\n",
      "Omnibus:                     8849.499   Durbin-Watson:                   1.877\n",
      "Prob(Omnibus):                  0.000   Jarque-Bera (JB):            66985.731\n",
      "Skew:                          -1.684   Prob(JB):                         0.00\n",
      "Kurtosis:                      10.709   Cond. No.                         159.\n",
      "==============================================================================\n",
      "\n",
      "Notes:\n",
      "[1] Standard Errors are heteroscedasticity robust (HC1)\n"
     ]
    }
   ],
   "source": [
    "ols2 = smf.ols(formula='log_wage ~ educ_d+age',data=interval_cps).fit(cov_type='HC1')\n",
    "\n",
    "print(ols2.summary())"
   ]
  },
  {
   "cell_type": "code",
   "execution_count": 9,
   "id": "79d2e407",
   "metadata": {},
   "outputs": [],
   "source": [
    "beta2 = ols2._results.params"
   ]
  },
  {
   "cell_type": "markdown",
   "id": "08d1556d",
   "metadata": {},
   "source": [
    "# OneDproj"
   ]
  },
  {
   "cell_type": "code",
   "execution_count": 10,
   "id": "390f482c",
   "metadata": {},
   "outputs": [
    {
     "data": {
      "text/plain": [
       "<module 'setBLP' from '/Users/yunyun/Desktop/Bounds/Bounds_Python/setBLP.py'>"
      ]
     },
     "execution_count": 10,
     "metadata": {},
     "output_type": "execute_result"
    }
   ],
   "source": [
    "import setBLP\n",
    "from importlib import reload # reload \n",
    "reload(setBLP)"
   ]
  },
  {
   "cell_type": "code",
   "execution_count": 11,
   "id": "b603ecbe",
   "metadata": {},
   "outputs": [
    {
     "data": {
      "text/plain": [
       "[0.001786042221938278, 0.3685793555816805]"
      ]
     },
     "execution_count": 11,
     "metadata": {},
     "output_type": "execute_result"
    }
   ],
   "source": [
    "r = setBLP.oneDproj(interval_cps.logwage_l, interval_cps.logwage_u, interval_cps.educ)\n",
    "r"
   ]
  },
  {
   "cell_type": "code",
   "execution_count": 12,
   "id": "f1443c9c",
   "metadata": {},
   "outputs": [
    {
     "data": {
      "text/plain": [
       "True"
      ]
     },
     "execution_count": 12,
     "metadata": {},
     "output_type": "execute_result"
    }
   ],
   "source": [
    "beta1[1]>=min(r) and beta1[1] <=max(r)"
   ]
  },
  {
   "cell_type": "code",
   "execution_count": 13,
   "id": "136d57e7",
   "metadata": {},
   "outputs": [
    {
     "data": {
      "text/plain": [
       "[-0.004887858329797926, 0.14865963017398875]"
      ]
     },
     "execution_count": 13,
     "metadata": {},
     "output_type": "execute_result"
    }
   ],
   "source": [
    "r = setBLP.oneDproj(interval_cps.logwage_l, interval_cps.logwage_u, interval_cps.age)\n",
    "r"
   ]
  },
  {
   "cell_type": "markdown",
   "id": "1c80e792",
   "metadata": {},
   "source": [
    "# OneDproj_V2"
   ]
  },
  {
   "cell_type": "code",
   "execution_count": 14,
   "id": "66f19268",
   "metadata": {},
   "outputs": [],
   "source": [
    "def oneDproj_v2(yl:list, yu:list, x:pd.DataFrame, j: int):\n",
    "    \n",
    "    # linear projection of x_j on x_(-j)\n",
    "    r = sm.OLS(X.iloc[:, j], X.drop(X.columns[j], axis = 1)).fit().resid\n",
    "    \n",
    "    M1 = np.multiply(r, yl)\n",
    "    M2 = np.multiply(r, yu)\n",
    "    s = np.dot(r,r)\n",
    "    bound = [sum(np.minimum(M1, M2))/s, sum(np.maximum(M1, M2))/s]\n",
    "    return bound"
   ]
  },
  {
   "cell_type": "markdown",
   "id": "7b07a314",
   "metadata": {},
   "source": [
    "## x is education"
   ]
  },
  {
   "cell_type": "code",
   "execution_count": 15,
   "id": "2d0e6c2c",
   "metadata": {},
   "outputs": [],
   "source": [
    "X = sm.add_constant(interval_cps[['educ','age']])"
   ]
  },
  {
   "cell_type": "code",
   "execution_count": 16,
   "id": "4bd751a6",
   "metadata": {},
   "outputs": [
    {
     "data": {
      "text/plain": [
       "[-0.025567837808631744, 0.3456382284305771]"
      ]
     },
     "execution_count": 16,
     "metadata": {},
     "output_type": "execute_result"
    }
   ],
   "source": [
    "r = oneDproj_v2(interval_cps.logwage_l, interval_cps.logwage_u, X,1)\n",
    "r"
   ]
  },
  {
   "cell_type": "code",
   "execution_count": 17,
   "id": "3feee9f2",
   "metadata": {},
   "outputs": [
    {
     "data": {
      "text/plain": [
       "True"
      ]
     },
     "execution_count": 17,
     "metadata": {},
     "output_type": "execute_result"
    }
   ],
   "source": [
    "beta1[1]>=min(r) and beta1[1] <=max(r)"
   ]
  },
  {
   "cell_type": "markdown",
   "id": "ad6228a4",
   "metadata": {},
   "source": [
    "## x is age"
   ]
  },
  {
   "cell_type": "code",
   "execution_count": 18,
   "id": "995ac933",
   "metadata": {},
   "outputs": [
    {
     "data": {
      "text/plain": [
       "[-0.009051777215647453, 0.14432389300937354]"
      ]
     },
     "execution_count": 18,
     "metadata": {},
     "output_type": "execute_result"
    }
   ],
   "source": [
    "r = oneDproj_v2(interval_cps.logwage_l, interval_cps.logwage_u, X,2)\n",
    "r"
   ]
  },
  {
   "cell_type": "code",
   "execution_count": 19,
   "id": "c48a7085",
   "metadata": {
    "scrolled": true
   },
   "outputs": [
    {
     "data": {
      "text/plain": [
       "True"
      ]
     },
     "execution_count": 19,
     "metadata": {},
     "output_type": "execute_result"
    }
   ],
   "source": [
    "beta1[2]>=min(r) and beta1[2] <=max(r)"
   ]
  },
  {
   "cell_type": "markdown",
   "id": "fa02a737",
   "metadata": {},
   "source": [
    "## x is the constant"
   ]
  },
  {
   "cell_type": "code",
   "execution_count": 20,
   "id": "0f295bd3",
   "metadata": {
    "scrolled": true
   },
   "outputs": [
    {
     "data": {
      "text/plain": [
       "[1.4596840360564338, 9.379493860118757]"
      ]
     },
     "execution_count": 20,
     "metadata": {},
     "output_type": "execute_result"
    }
   ],
   "source": [
    "r = oneDproj_v2(interval_cps.logwage_l, interval_cps.logwage_u, X,0)\n",
    "r"
   ]
  },
  {
   "cell_type": "code",
   "execution_count": 21,
   "id": "ab94efb0",
   "metadata": {},
   "outputs": [
    {
     "data": {
      "text/plain": [
       "True"
      ]
     },
     "execution_count": 21,
     "metadata": {},
     "output_type": "execute_result"
    }
   ],
   "source": [
    "beta1[0]>=min(r) and beta1[0] <=max(r)"
   ]
  },
  {
   "cell_type": "markdown",
   "id": "3e980099",
   "metadata": {},
   "source": [
    "## x is dummy education"
   ]
  },
  {
   "cell_type": "code",
   "execution_count": 22,
   "id": "6a907795",
   "metadata": {},
   "outputs": [
    {
     "data": {
      "text/plain": [
       "[-0.7590053281491242, 1.7318699827566628]"
      ]
     },
     "execution_count": 22,
     "metadata": {},
     "output_type": "execute_result"
    }
   ],
   "source": [
    "X = sm.add_constant(interval_cps[['educ_d','age']])\n",
    "r = oneDproj_v2(interval_cps.logwage_l, interval_cps.logwage_u, X,1)\n",
    "r"
   ]
  },
  {
   "cell_type": "code",
   "execution_count": 23,
   "id": "a816bd0d",
   "metadata": {},
   "outputs": [
    {
     "data": {
      "text/plain": [
       "True"
      ]
     },
     "execution_count": 23,
     "metadata": {},
     "output_type": "execute_result"
    }
   ],
   "source": [
    "beta2[1]>=min(r) and beta2[1] <=max(r)"
   ]
  },
  {
   "cell_type": "code",
   "execution_count": null,
   "id": "a4910c88",
   "metadata": {},
   "outputs": [],
   "source": []
  },
  {
   "cell_type": "code",
   "execution_count": 24,
   "id": "6075d84f",
   "metadata": {},
   "outputs": [
    {
     "data": {
      "text/plain": [
       "[0.0017860422218549156, 0.3685793555816234]"
      ]
     },
     "execution_count": 24,
     "metadata": {},
     "output_type": "execute_result"
    }
   ],
   "source": [
    "X = sm.add_constant(interval_cps['educ'])\n",
    "oneDproj_v2(interval_cps.logwage_l, interval_cps.logwage_u, X,1)"
   ]
  },
  {
   "cell_type": "code",
   "execution_count": null,
   "id": "abaea490",
   "metadata": {},
   "outputs": [],
   "source": []
  },
  {
   "cell_type": "markdown",
   "id": "94b8520a",
   "metadata": {},
   "source": [
    "# Combined as OneDproj"
   ]
  },
  {
   "cell_type": "code",
   "execution_count": 25,
   "id": "a02e5a57",
   "metadata": {},
   "outputs": [],
   "source": [
    "def oneDproj(df, yl, yu, x, j=0):\n",
    "    \n",
    "    # df is the data\n",
    "    # x is the (list of) name(s) of independent variable(s), must be included in df\n",
    "    # j is the index of independent variable (in x) that we are interested in\n",
    "    # yl(yu) is a list of the lower(upper) bounds or its column name in df\n",
    "    \n",
    "    if type(yl) == str:\n",
    "        yl = df[yl]\n",
    "    if type(yu) == str:\n",
    "        yu = df[yu]\n",
    "    x = sm.add_constant(df[x])\n",
    "    \n",
    "    # linear projection of x_j on x_(-j)\n",
    "    j+= 1\n",
    "    r = sm.OLS(x.iloc[:, j], x.drop(x.columns[j], axis = 1)).fit().resid\n",
    "    \n",
    "\n",
    "    M1 = np.multiply(r, yl)\n",
    "    M2 = np.multiply(r, yu)\n",
    "    s = np.dot(r,r)\n",
    "    bound = [sum(np.minimum(M1, M2))/s, sum(np.maximum(M1, M2))/s]\n",
    "    return bound"
   ]
  },
  {
   "cell_type": "code",
   "execution_count": 26,
   "id": "c374853f",
   "metadata": {},
   "outputs": [
    {
     "data": {
      "text/plain": [
       "[-0.7590053281491242, 1.7318699827566628]"
      ]
     },
     "execution_count": 26,
     "metadata": {},
     "output_type": "execute_result"
    }
   ],
   "source": [
    "oneDproj(interval_cps, 'logwage_l', 'logwage_u', ['educ_d','age'],0)\n",
    "\n",
    "## problem if x=['educ_d','age'] and j=1"
   ]
  },
  {
   "cell_type": "code",
   "execution_count": null,
   "id": "031e98ad",
   "metadata": {},
   "outputs": [],
   "source": []
  },
  {
   "cell_type": "code",
   "execution_count": null,
   "id": "2319db08",
   "metadata": {},
   "outputs": [],
   "source": []
  }
 ],
 "metadata": {
  "kernelspec": {
   "display_name": "Python 3 (ipykernel)",
   "language": "python",
   "name": "python3"
  },
  "language_info": {
   "codemirror_mode": {
    "name": "ipython",
    "version": 3
   },
   "file_extension": ".py",
   "mimetype": "text/x-python",
   "name": "python",
   "nbconvert_exporter": "python",
   "pygments_lexer": "ipython3",
   "version": "3.8.12"
  }
 },
 "nbformat": 4,
 "nbformat_minor": 5
}
