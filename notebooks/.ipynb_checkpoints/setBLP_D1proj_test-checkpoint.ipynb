{
 "cells": [
  {
   "cell_type": "markdown",
   "metadata": {},
   "source": [
    "# Packages"
   ]
  },
  {
   "cell_type": "code",
   "execution_count": 1,
   "metadata": {},
   "outputs": [],
   "source": [
    "using CSV, DataFrames"
   ]
  },
  {
   "cell_type": "code",
   "execution_count": 2,
   "metadata": {},
   "outputs": [],
   "source": [
    "using FixedEffectModels"
   ]
  },
  {
   "cell_type": "code",
   "execution_count": 3,
   "metadata": {},
   "outputs": [],
   "source": [
    "using Plots"
   ]
  },
  {
   "cell_type": "code",
   "execution_count": 4,
   "metadata": {},
   "outputs": [],
   "source": [
    "using Statistics"
   ]
  },
  {
   "cell_type": "markdown",
   "metadata": {},
   "source": [
    "# Uploading CPS data"
   ]
  },
  {
   "cell_type": "code",
   "execution_count": 5,
   "metadata": {},
   "outputs": [
    {
     "data": {
      "text/html": [
       "<div><div style = \"float: left;\"><span>5×3 DataFrame</span></div><div style = \"clear: both;\"></div></div><div class = \"data-frame\" style = \"overflow-x: scroll;\"><table class = \"data-frame\" style = \"margin-bottom: 6px;\"><thead><tr class = \"header\"><th class = \"rowNumber\" style = \"font-weight: bold; text-align: right;\">Row</th><th style = \"text-align: left;\">age</th><th style = \"text-align: left;\">wage</th><th style = \"text-align: left;\">educ</th></tr><tr class = \"subheader headerLastRow\"><th class = \"rowNumber\" style = \"font-weight: bold; text-align: right;\"></th><th title = \"Int64\" style = \"text-align: left;\">Int64</th><th title = \"Int64\" style = \"text-align: left;\">Int64</th><th title = \"String\" style = \"text-align: left;\">String</th></tr></thead><tbody><tr><td class = \"rowNumber\" style = \"font-weight: bold; text-align: right;\">1</td><td style = \"text-align: right;\">22</td><td style = \"text-align: right;\">12000</td><td style = \"text-align: left;\">some college but no degree</td></tr><tr><td class = \"rowNumber\" style = \"font-weight: bold; text-align: right;\">2</td><td style = \"text-align: right;\">21</td><td style = \"text-align: right;\">3500</td><td style = \"text-align: left;\">some college but no degree</td></tr><tr><td class = \"rowNumber\" style = \"font-weight: bold; text-align: right;\">3</td><td style = \"text-align: right;\">49</td><td style = \"text-align: right;\">30000</td><td style = \"text-align: left;\">some college but no degree</td></tr><tr><td class = \"rowNumber\" style = \"font-weight: bold; text-align: right;\">4</td><td style = \"text-align: right;\">31</td><td style = \"text-align: right;\">32000</td><td style = \"text-align: left;\">bachelor&apos;s degree</td></tr><tr><td class = \"rowNumber\" style = \"font-weight: bold; text-align: right;\">5</td><td style = \"text-align: right;\">42</td><td style = \"text-align: right;\">89630</td><td style = \"text-align: left;\">doctorate degree</td></tr></tbody></table></div>"
      ],
      "text/latex": [
       "\\begin{tabular}{r|ccc}\n",
       "\t& age & wage & educ\\\\\n",
       "\t\\hline\n",
       "\t& Int64 & Int64 & String\\\\\n",
       "\t\\hline\n",
       "\t1 & 22 & 12000 & some college but no degree \\\\\n",
       "\t2 & 21 & 3500 & some college but no degree \\\\\n",
       "\t3 & 49 & 30000 & some college but no degree \\\\\n",
       "\t4 & 31 & 32000 & bachelor's degree \\\\\n",
       "\t5 & 42 & 89630 & doctorate degree \\\\\n",
       "\\end{tabular}\n"
      ],
      "text/plain": [
       "\u001b[1m5×3 DataFrame\u001b[0m\n",
       "\u001b[1m Row \u001b[0m│\u001b[1m age   \u001b[0m\u001b[1m wage  \u001b[0m\u001b[1m educ                       \u001b[0m\n",
       "     │\u001b[90m Int64 \u001b[0m\u001b[90m Int64 \u001b[0m\u001b[90m String                     \u001b[0m\n",
       "─────┼──────────────────────────────────────────\n",
       "   1 │    22  12000  some college but no degree\n",
       "   2 │    21   3500  some college but no degree\n",
       "   3 │    49  30000  some college but no degree\n",
       "   4 │    31  32000  bachelor's degree\n",
       "   5 │    42  89630  doctorate degree"
      ]
     },
     "execution_count": 5,
     "metadata": {},
     "output_type": "execute_result"
    }
   ],
   "source": [
    "cps = DataFrame(CSV.File(\"c:\\\\data\\\\Bounds\\\\cps.csv\")) # <-change this to the right directory\n",
    "\n",
    "## Cleaning zero wage\n",
    "\n",
    "cps = cps[cps.wage .> 0, :]\n",
    "first(cps,5)"
   ]
  },
  {
   "cell_type": "code",
   "execution_count": 6,
   "metadata": {},
   "outputs": [
    {
     "data": {
      "text/plain": [
       "Dict{String, Int64} with 16 entries:\n",
       "  \"grade 11\"                                            => 11\n",
       "  \"some college but no degree\"                          => 13\n",
       "  \"associate's degree, academic program\"                => 14\n",
       "  \"none or preschool\"                                   => 0\n",
       "  \"doctorate degree\"                                    => 21\n",
       "  \"grade 10\"                                            => 10\n",
       "  \"bachelor's degree\"                                   => 16\n",
       "  \"master's degree\"                                     => 14\n",
       "  \"grades 5 or 6\"                                       => 6\n",
       "  \"grades 7 or 8\"                                       => 8\n",
       "  \"grades 1, 2, 3, or 4\"                                => 4\n",
       "  \"associate's degree, occupational/vocational program\" => 14\n",
       "  \"professional school degree\"                          => 14\n",
       "  \"high school diploma or equivalent\"                   => 12\n",
       "  \"grade 9\"                                             => 9\n",
       "  \"12th grade, no diploma\"                              => 12"
      ]
     },
     "execution_count": 6,
     "metadata": {},
     "output_type": "execute_result"
    }
   ],
   "source": [
    "# Numerical value for education\n",
    "\n",
    "#1.Creating a dictionary\n",
    "\n",
    "educ_dict = Dict( \n",
    "    \"grade 11\" => 11, \n",
    "    \"some college but no degree\" => 13, \n",
    "    \"associate's degree, academic program\" => 14,\n",
    "    \"grade 10\" => 10, \n",
    "    \"grades 7 or 8\" => 8, \n",
    "    \"grades 1, 2, 3, or 4\" => 4, \n",
    "    \"associate's degree, occupational/vocational program\" => 14, \n",
    "    \"high school diploma or equivalent\" => 12, \n",
    "    \"grade 9\" => 9, \n",
    "    \"none or preschool\" => 0, \n",
    "    \"doctorate degree\" => 21,\n",
    "    \"bachelor's degree\" => 16, \n",
    "    \"master's degree\" => 14, \n",
    "    \"grades 5 or 6\" => 6, \n",
    "    \"professional school degree\" => 14, \n",
    "    \"12th grade, no diploma\" => 12\n",
    "    )"
   ]
  },
  {
   "cell_type": "code",
   "execution_count": 7,
   "metadata": {},
   "outputs": [
    {
     "data": {
      "text/html": [
       "<div><div style = \"float: left;\"><span>3×5 DataFrame</span></div><div style = \"clear: both;\"></div></div><div class = \"data-frame\" style = \"overflow-x: scroll;\"><table class = \"data-frame\" style = \"margin-bottom: 6px;\"><thead><tr class = \"header\"><th class = \"rowNumber\" style = \"font-weight: bold; text-align: right;\">Row</th><th style = \"text-align: left;\">age</th><th style = \"text-align: left;\">wage</th><th style = \"text-align: left;\">educ</th><th style = \"text-align: left;\">educ_num</th><th style = \"text-align: left;\">log_wage</th></tr><tr class = \"subheader headerLastRow\"><th class = \"rowNumber\" style = \"font-weight: bold; text-align: right;\"></th><th title = \"Int64\" style = \"text-align: left;\">Int64</th><th title = \"Int64\" style = \"text-align: left;\">Int64</th><th title = \"String\" style = \"text-align: left;\">String</th><th title = \"Int64\" style = \"text-align: left;\">Int64</th><th title = \"Float64\" style = \"text-align: left;\">Float64</th></tr></thead><tbody><tr><td class = \"rowNumber\" style = \"font-weight: bold; text-align: right;\">1</td><td style = \"text-align: right;\">22</td><td style = \"text-align: right;\">12000</td><td style = \"text-align: left;\">some college but no degree</td><td style = \"text-align: right;\">13</td><td style = \"text-align: right;\">9.39266</td></tr><tr><td class = \"rowNumber\" style = \"font-weight: bold; text-align: right;\">2</td><td style = \"text-align: right;\">21</td><td style = \"text-align: right;\">3500</td><td style = \"text-align: left;\">some college but no degree</td><td style = \"text-align: right;\">13</td><td style = \"text-align: right;\">8.16052</td></tr><tr><td class = \"rowNumber\" style = \"font-weight: bold; text-align: right;\">3</td><td style = \"text-align: right;\">49</td><td style = \"text-align: right;\">30000</td><td style = \"text-align: left;\">some college but no degree</td><td style = \"text-align: right;\">13</td><td style = \"text-align: right;\">10.309</td></tr></tbody></table></div>"
      ],
      "text/latex": [
       "\\begin{tabular}{r|ccccc}\n",
       "\t& age & wage & educ & educ\\_num & log\\_wage\\\\\n",
       "\t\\hline\n",
       "\t& Int64 & Int64 & String & Int64 & Float64\\\\\n",
       "\t\\hline\n",
       "\t1 & 22 & 12000 & some college but no degree & 13 & 9.39266 \\\\\n",
       "\t2 & 21 & 3500 & some college but no degree & 13 & 8.16052 \\\\\n",
       "\t3 & 49 & 30000 & some college but no degree & 13 & 10.309 \\\\\n",
       "\\end{tabular}\n"
      ],
      "text/plain": [
       "\u001b[1m3×5 DataFrame\u001b[0m\n",
       "\u001b[1m Row \u001b[0m│\u001b[1m age   \u001b[0m\u001b[1m wage  \u001b[0m\u001b[1m educ                       \u001b[0m\u001b[1m educ_num \u001b[0m\u001b[1m log_wage \u001b[0m\n",
       "     │\u001b[90m Int64 \u001b[0m\u001b[90m Int64 \u001b[0m\u001b[90m String                     \u001b[0m\u001b[90m Int64    \u001b[0m\u001b[90m Float64  \u001b[0m\n",
       "─────┼──────────────────────────────────────────────────────────────\n",
       "   1 │    22  12000  some college but no degree        13   9.39266\n",
       "   2 │    21   3500  some college but no degree        13   8.16052\n",
       "   3 │    49  30000  some college but no degree        13  10.309"
      ]
     },
     "execution_count": 7,
     "metadata": {},
     "output_type": "execute_result"
    }
   ],
   "source": [
    "#2. transforming cps.educ\n",
    "f(x) = educ_dict[x]\n",
    "cps.educ_num = f.(cps.educ)\n",
    "\n",
    "#3. log of wage\n",
    "cps.log_wage = log.(cps.wage)\n",
    "first(cps,3)"
   ]
  },
  {
   "cell_type": "code",
   "execution_count": 8,
   "metadata": {},
   "outputs": [
    {
     "name": "stdout",
     "output_type": "stream",
     "text": [
      "The original data contains 22715 observations and 5 columns."
     ]
    }
   ],
   "source": [
    "Nobs, c = size(cps)\n",
    "print(\"The original data contains \", Nobs, \" observations and \",c, \" columns.\")"
   ]
  },
  {
   "cell_type": "markdown",
   "metadata": {},
   "source": [
    "# Best Linear Predictor "
   ]
  },
  {
   "cell_type": "code",
   "execution_count": 9,
   "metadata": {},
   "outputs": [],
   "source": [
    "#reg(cps, @formula(log_wage ~ educ_num ), Vcov.robust())"
   ]
  },
  {
   "cell_type": "code",
   "execution_count": 10,
   "metadata": {
    "scrolled": true
   },
   "outputs": [],
   "source": [
    "#reg(cps, @formula(log_wage ~ educ_num + age ), Vcov.robust())"
   ]
  },
  {
   "cell_type": "markdown",
   "metadata": {},
   "source": [
    "# Creating Interval Data"
   ]
  },
  {
   "cell_type": "code",
   "execution_count": 11,
   "metadata": {},
   "outputs": [
    {
     "data": {
      "text/plain": [
       "362303.0"
      ]
     },
     "execution_count": 11,
     "metadata": {},
     "output_type": "execute_result"
    }
   ],
   "source": [
    "wage_quantiles = quantile(cps[!,:wage],[0.0, 0.1,0.2,0.3,0.4,0.5,0.6,0.7,0.8,0.9,1.0], sorted=false);\n",
    "#wage_quantiles[1] +=-1\n",
    "wage_quantiles[end] +=1"
   ]
  },
  {
   "cell_type": "code",
   "execution_count": 12,
   "metadata": {},
   "outputs": [
    {
     "data": {
      "text/html": [
       "<div><div style = \"float: left;\"><span>3×9 DataFrame</span></div><div style = \"clear: both;\"></div></div><div class = \"data-frame\" style = \"overflow-x: scroll;\"><table class = \"data-frame\" style = \"margin-bottom: 6px;\"><thead><tr class = \"header\"><th class = \"rowNumber\" style = \"font-weight: bold; text-align: right;\">Row</th><th style = \"text-align: left;\">age</th><th style = \"text-align: left;\">wage</th><th style = \"text-align: left;\">educ</th><th style = \"text-align: left;\">educ_num</th><th style = \"text-align: left;\">log_wage</th><th style = \"text-align: left;\">wage_lower</th><th style = \"text-align: left;\">wage_upper</th><th style = \"text-align: left;\">logwage_lower</th><th style = \"text-align: left;\">logwage_upper</th></tr><tr class = \"subheader headerLastRow\"><th class = \"rowNumber\" style = \"font-weight: bold; text-align: right;\"></th><th title = \"Int64\" style = \"text-align: left;\">Int64</th><th title = \"Int64\" style = \"text-align: left;\">Int64</th><th title = \"String\" style = \"text-align: left;\">String</th><th title = \"Int64\" style = \"text-align: left;\">Int64</th><th title = \"Float64\" style = \"text-align: left;\">Float64</th><th title = \"Float64\" style = \"text-align: left;\">Float64</th><th title = \"Float64\" style = \"text-align: left;\">Float64</th><th title = \"Float64\" style = \"text-align: left;\">Float64</th><th title = \"Float64\" style = \"text-align: left;\">Float64</th></tr></thead><tbody><tr><td class = \"rowNumber\" style = \"font-weight: bold; text-align: right;\">1</td><td style = \"text-align: right;\">22</td><td style = \"text-align: right;\">12000</td><td style = \"text-align: left;\">some college but no degree</td><td style = \"text-align: right;\">13</td><td style = \"text-align: right;\">9.39266</td><td style = \"text-align: right;\">9000.0</td><td style = \"text-align: right;\">15000.0</td><td style = \"text-align: right;\">9.10498</td><td style = \"text-align: right;\">9.61581</td></tr><tr><td class = \"rowNumber\" style = \"font-weight: bold; text-align: right;\">2</td><td style = \"text-align: right;\">21</td><td style = \"text-align: right;\">3500</td><td style = \"text-align: left;\">some college but no degree</td><td style = \"text-align: right;\">13</td><td style = \"text-align: right;\">8.16052</td><td style = \"text-align: right;\">1.0</td><td style = \"text-align: right;\">9000.0</td><td style = \"text-align: right;\">0.0</td><td style = \"text-align: right;\">9.10498</td></tr><tr><td class = \"rowNumber\" style = \"font-weight: bold; text-align: right;\">3</td><td style = \"text-align: right;\">49</td><td style = \"text-align: right;\">30000</td><td style = \"text-align: left;\">some college but no degree</td><td style = \"text-align: right;\">13</td><td style = \"text-align: right;\">10.309</td><td style = \"text-align: right;\">30000.0</td><td style = \"text-align: right;\">36000.0</td><td style = \"text-align: right;\">10.309</td><td style = \"text-align: right;\">10.4913</td></tr></tbody></table></div>"
      ],
      "text/latex": [
       "\\begin{tabular}{r|cccccccc}\n",
       "\t& age & wage & educ & educ\\_num & log\\_wage & wage\\_lower & wage\\_upper & \\\\\n",
       "\t\\hline\n",
       "\t& Int64 & Int64 & String & Int64 & Float64 & Float64 & Float64 & \\\\\n",
       "\t\\hline\n",
       "\t1 & 22 & 12000 & some college but no degree & 13 & 9.39266 & 9000.0 & 15000.0 & $\\dots$ \\\\\n",
       "\t2 & 21 & 3500 & some college but no degree & 13 & 8.16052 & 1.0 & 9000.0 & $\\dots$ \\\\\n",
       "\t3 & 49 & 30000 & some college but no degree & 13 & 10.309 & 30000.0 & 36000.0 & $\\dots$ \\\\\n",
       "\\end{tabular}\n"
      ],
      "text/plain": [
       "\u001b[1m3×9 DataFrame\u001b[0m\n",
       "\u001b[1m Row \u001b[0m│\u001b[1m age   \u001b[0m\u001b[1m wage  \u001b[0m\u001b[1m educ                       \u001b[0m\u001b[1m educ_num \u001b[0m\u001b[1m log_wage \u001b[0m\u001b[1m wage_lowe\u001b[0m ⋯\n",
       "     │\u001b[90m Int64 \u001b[0m\u001b[90m Int64 \u001b[0m\u001b[90m String                     \u001b[0m\u001b[90m Int64    \u001b[0m\u001b[90m Float64  \u001b[0m\u001b[90m Float64  \u001b[0m ⋯\n",
       "─────┼──────────────────────────────────────────────────────────────────────────\n",
       "   1 │    22  12000  some college but no degree        13   9.39266      9000. ⋯\n",
       "   2 │    21   3500  some college but no degree        13   8.16052         1.\n",
       "   3 │    49  30000  some college but no degree        13  10.309       30000.\n",
       "\u001b[36m                                                               4 columns omitted\u001b[0m"
      ]
     },
     "execution_count": 12,
     "metadata": {},
     "output_type": "execute_result"
    }
   ],
   "source": [
    "lower(x) = wage_quantiles[sum(wage_quantiles .<=x)]\n",
    "upper(x) = wage_quantiles[sum(wage_quantiles .<=x)+1]\n",
    "\n",
    "cps.wage_lower = lower.(cps.wage)\n",
    "cps.wage_upper = upper.(cps.wage)\n",
    "\n",
    "cps.logwage_lower = log.(cps.wage_lower)\n",
    "cps.logwage_upper = log.(cps.wage_upper)\n",
    "\n",
    "first(cps,3)"
   ]
  },
  {
   "cell_type": "code",
   "execution_count": 13,
   "metadata": {},
   "outputs": [
    {
     "name": "stdout",
     "output_type": "stream",
     "text": [
      "The complete data contains 22715 observations and 9 columns."
     ]
    }
   ],
   "source": [
    "Nobs, c = size(cps)\n",
    "print(\"The complete data contains \", Nobs, \" observations and \",c, \" columns.\")"
   ]
  },
  {
   "cell_type": "markdown",
   "metadata": {},
   "source": [
    "# Partial Indentification"
   ]
  },
  {
   "cell_type": "markdown",
   "metadata": {},
   "source": [
    "### Reading the module"
   ]
  },
  {
   "cell_type": "code",
   "execution_count": 14,
   "metadata": {},
   "outputs": [
    {
     "data": {
      "text/plain": [
       "Main.setBLP"
      ]
     },
     "execution_count": 14,
     "metadata": {},
     "output_type": "execute_result"
    }
   ],
   "source": [
    "include(\"C:\\\\Users\\\\The Group Leader\\\\Notebooks\\\\Research\\\\Bounds.jl-1\\\\src\\\\setBLP.jl\")"
   ]
  },
  {
   "cell_type": "code",
   "execution_count": 15,
   "metadata": {},
   "outputs": [],
   "source": [
    "using Main.setBLP"
   ]
  },
  {
   "cell_type": "markdown",
   "metadata": {},
   "source": [
    "## Testing oneDproj function"
   ]
  },
  {
   "cell_type": "code",
   "execution_count": 16,
   "metadata": {},
   "outputs": [
    {
     "data": {
      "text/html": [
       "# 7 methods for generic function <b>oneDproj</b>:<ul><li> oneDproj(yl::<b>Vector{<:Real}</b>, yu::<b>Vector{<:Real}</b>, x::<b>Vector{<:Real}</b>) in Main.setBLP at <a href=\"https://github.com/ArieBeresteanu/Bounds.jl/tree/04d71bc717519298cd8ca9cfab6435a9f300fed7//src/setBLP.jl#L196\" target=\"_blank\">C:\\Users\\The Group Leader\\Notebooks\\Research\\Bounds.jl-1\\src\\setBLP.jl:196</a></li> <li> oneDproj(yl::<b>Vector{<:Real}</b>, yu::<b>Vector{<:Real}</b>, x::<b>Matrix{<:Real}</b>) in Main.setBLP at <a href=\"https://github.com/ArieBeresteanu/Bounds.jl/tree/04d71bc717519298cd8ca9cfab6435a9f300fed7//src/setBLP.jl#L237\" target=\"_blank\">C:\\Users\\The Group Leader\\Notebooks\\Research\\Bounds.jl-1\\src\\setBLP.jl:237</a></li> <li> oneDproj(yl::<b>Vector{<:Real}</b>, yu::<b>Vector{<:Real}</b>, x::<b>Matrix{<:Real}</b>, cord::<b>Int64</b>) in Main.setBLP at <a href=\"https://github.com/ArieBeresteanu/Bounds.jl/tree/04d71bc717519298cd8ca9cfab6435a9f300fed7//src/setBLP.jl#L207\" target=\"_blank\">C:\\Users\\The Group Leader\\Notebooks\\Research\\Bounds.jl-1\\src\\setBLP.jl:207</a></li> <li> oneDproj(yl::<b>Vector{<:Real}</b>, yu::<b>Vector{<:Real}</b>, x::<b>Matrix{<:Real}</b>, cords::<b>Vector{Int64}</b>) in Main.setBLP at <a href=\"https://github.com/ArieBeresteanu/Bounds.jl/tree/04d71bc717519298cd8ca9cfab6435a9f300fed7//src/setBLP.jl#L220\" target=\"_blank\">C:\\Users\\The Group Leader\\Notebooks\\Research\\Bounds.jl-1\\src\\setBLP.jl:220</a></li> <li> oneDproj(df::<b>DataFrame</b>, yl::<b>Symbol</b>, yu::<b>Symbol</b>, x::<b>Symbol</b>) in Main.setBLP at <a href=\"https://github.com/ArieBeresteanu/Bounds.jl/tree/04d71bc717519298cd8ca9cfab6435a9f300fed7//src/setBLP.jl#L255\" target=\"_blank\">C:\\Users\\The Group Leader\\Notebooks\\Research\\Bounds.jl-1\\src\\setBLP.jl:255</a></li> <li> oneDproj(df::<b>DataFrame</b>, yl::<b>Symbol</b>, yu::<b>Symbol</b>, x::<b>Vector{Symbol}</b>) in Main.setBLP at <a href=\"https://github.com/ArieBeresteanu/Bounds.jl/tree/04d71bc717519298cd8ca9cfab6435a9f300fed7//src/setBLP.jl#L263\" target=\"_blank\">C:\\Users\\The Group Leader\\Notebooks\\Research\\Bounds.jl-1\\src\\setBLP.jl:263</a></li> <li> oneDproj(df::<b>DataFrame</b>, yl::<b>Symbol</b>, yu::<b>Symbol</b>, x::<b>Vector{Symbol}</b>, cord::<b>Int64</b>) in Main.setBLP at <a href=\"https://github.com/ArieBeresteanu/Bounds.jl/tree/04d71bc717519298cd8ca9cfab6435a9f300fed7//src/setBLP.jl#L271\" target=\"_blank\">C:\\Users\\The Group Leader\\Notebooks\\Research\\Bounds.jl-1\\src\\setBLP.jl:271</a></li> </ul>"
      ],
      "text/plain": [
       "# 7 methods for generic function \"oneDproj\":\n",
       "[1] oneDproj(yl::Vector{<:Real}, yu::Vector{<:Real}, x::Vector{<:Real}) in Main.setBLP at C:\\Users\\The Group Leader\\Notebooks\\Research\\Bounds.jl-1\\src\\setBLP.jl:196\n",
       "[2] oneDproj(yl::Vector{<:Real}, yu::Vector{<:Real}, x::Matrix{<:Real}) in Main.setBLP at C:\\Users\\The Group Leader\\Notebooks\\Research\\Bounds.jl-1\\src\\setBLP.jl:237\n",
       "[3] oneDproj(yl::Vector{<:Real}, yu::Vector{<:Real}, x::Matrix{<:Real}, cord::Int64) in Main.setBLP at C:\\Users\\The Group Leader\\Notebooks\\Research\\Bounds.jl-1\\src\\setBLP.jl:207\n",
       "[4] oneDproj(yl::Vector{<:Real}, yu::Vector{<:Real}, x::Matrix{<:Real}, cords::Vector{Int64}) in Main.setBLP at C:\\Users\\The Group Leader\\Notebooks\\Research\\Bounds.jl-1\\src\\setBLP.jl:220\n",
       "[5] oneDproj(df::DataFrame, yl::Symbol, yu::Symbol, x::Symbol) in Main.setBLP at C:\\Users\\The Group Leader\\Notebooks\\Research\\Bounds.jl-1\\src\\setBLP.jl:255\n",
       "[6] oneDproj(df::DataFrame, yl::Symbol, yu::Symbol, x::Vector{Symbol}) in Main.setBLP at C:\\Users\\The Group Leader\\Notebooks\\Research\\Bounds.jl-1\\src\\setBLP.jl:263\n",
       "[7] oneDproj(df::DataFrame, yl::Symbol, yu::Symbol, x::Vector{Symbol}, cord::Int64) in Main.setBLP at C:\\Users\\The Group Leader\\Notebooks\\Research\\Bounds.jl-1\\src\\setBLP.jl:271"
      ]
     },
     "execution_count": 16,
     "metadata": {},
     "output_type": "execute_result"
    }
   ],
   "source": [
    "methods(oneDproj)"
   ]
  },
  {
   "cell_type": "code",
   "execution_count": 17,
   "metadata": {},
   "outputs": [
    {
     "name": "stdout",
     "output_type": "stream",
     "text": [
      "Options:\n",
      "  Number of MC iterations: 2000\n",
      "  Seed: 15217\n",
      "  Random Number Generator: Random.MersenneTwister(0xb7e9d55d6588549f92f8d266e780b887)\n",
      "  Confidence level: 0.95\n"
     ]
    }
   ],
   "source": [
    "show(default_options)"
   ]
  },
  {
   "cell_type": "markdown",
   "metadata": {},
   "source": [
    "### 1. Testing the vector/matrix functions"
   ]
  },
  {
   "cell_type": "code",
   "execution_count": 18,
   "metadata": {},
   "outputs": [],
   "source": [
    "# Preparing vector and matrix versions of the data\n",
    "\n",
    "yl = cps.logwage_lower;\n",
    "yu = cps.logwage_upper;\n",
    "x1 = cps.age;\n",
    "x2 = cps.educ_num;\n",
    "x = [x1 x2];"
   ]
  },
  {
   "cell_type": "code",
   "execution_count": 19,
   "metadata": {},
   "outputs": [],
   "source": [
    "#oneDproj(yl,yu,x1)"
   ]
  },
  {
   "cell_type": "code",
   "execution_count": 20,
   "metadata": {},
   "outputs": [],
   "source": [
    "#oneDproj(yl,yu,x1)"
   ]
  },
  {
   "cell_type": "code",
   "execution_count": 21,
   "metadata": {},
   "outputs": [
    {
     "data": {
      "text/plain": [
       "1×2 Matrix{Float64}:\n",
       " -0.00905178  0.144324"
      ]
     },
     "execution_count": 21,
     "metadata": {},
     "output_type": "execute_result"
    }
   ],
   "source": [
    "oneDproj(yl,yu,x,1)"
   ]
  },
  {
   "cell_type": "code",
   "execution_count": 22,
   "metadata": {},
   "outputs": [],
   "source": [
    "#oneDproj(yl,yu,x,2)"
   ]
  },
  {
   "cell_type": "code",
   "execution_count": 23,
   "metadata": {},
   "outputs": [],
   "source": [
    "#oneDproj(yl,yu,x)"
   ]
  },
  {
   "cell_type": "markdown",
   "metadata": {},
   "source": [
    "### 2. Testing the Dataframe version of the functions"
   ]
  },
  {
   "cell_type": "code",
   "execution_count": 24,
   "metadata": {},
   "outputs": [
    {
     "data": {
      "text/plain": [
       "1×2 Matrix{Float64}:\n",
       " -0.00488786  0.14866"
      ]
     },
     "execution_count": 24,
     "metadata": {},
     "output_type": "execute_result"
    }
   ],
   "source": [
    "oneDproj(cps,:logwage_lower,:logwage_upper,:age)"
   ]
  },
  {
   "cell_type": "code",
   "execution_count": 25,
   "metadata": {},
   "outputs": [],
   "source": [
    "#oneDproj(cps,:logwage_lower,:logwage_upper,:educ_num)"
   ]
  },
  {
   "cell_type": "code",
   "execution_count": 26,
   "metadata": {},
   "outputs": [],
   "source": [
    "#oneDproj(cps,:logwage_lower,:logwage_upper,[:age,:educ_num],1)"
   ]
  },
  {
   "cell_type": "code",
   "execution_count": 27,
   "metadata": {},
   "outputs": [],
   "source": [
    "#oneDproj(cps,:logwage_lower,:logwage_upper,[:age,:educ_num],2)"
   ]
  },
  {
   "cell_type": "code",
   "execution_count": 28,
   "metadata": {},
   "outputs": [],
   "source": [
    "#oneDproj(cps,:logwage_lower,:logwage_upper,[:age,:educ_num])"
   ]
  },
  {
   "cell_type": "markdown",
   "metadata": {},
   "source": [
    "## Testing CI1d function"
   ]
  },
  {
   "cell_type": "code",
   "execution_count": 29,
   "metadata": {},
   "outputs": [
    {
     "name": "stdout",
     "output_type": "stream",
     "text": [
      "Results: \n",
      "  Null: [0.0, 0.15]\n",
      "  Bound: [-0.0049, 0.1487]\n",
      "  Hausdorff based test: \n",
      "    Test Stat: 0.7367\n",
      "    Critical Value: 0.6957\n",
      "    Confidence Interval: [-0.0095, 0.1533]\n",
      "  directed Hausdorff test: \n",
      "    Test Stat: 0.202\n",
      "    Critical Value: 0.6082\n",
      "    Confidence Interval: [-0.0089, 0.1527]\n"
     ]
    }
   ],
   "source": [
    "res = CI1d(yl,yu,float.(x1),[0, 0.15]);\n",
    "show(res)"
   ]
  },
  {
   "cell_type": "code",
   "execution_count": 30,
   "metadata": {},
   "outputs": [
    {
     "name": "stdout",
     "output_type": "stream",
     "text": [
      "Results: \n",
      "  Null: [0.1, 0.15]\n",
      "  Bound: [-0.0049, 0.1487]\n",
      "  Hausdorff based test: \n",
      "    Test Stat: 15.8082\n",
      "    Critical Value: 0.7515\n",
      "    Confidence Interval: [-0.0099, 0.1536]\n",
      "  directed Hausdorff test: \n",
      "    Test Stat: 0.202\n",
      "    Critical Value: 0.6416\n",
      "    Confidence Interval: [-0.0091, 0.1529]\n"
     ]
    }
   ],
   "source": [
    "res = CI1d(yl,yu,float.(x1),[0.1,0.15]);\n",
    "show(res)"
   ]
  },
  {
   "cell_type": "code",
   "execution_count": 31,
   "metadata": {},
   "outputs": [
    {
     "name": "stdout",
     "output_type": "stream",
     "text": [
      "Results: \n",
      "  Null: [0.0, 0.1]\n",
      "  Bound: [-0.0049, 0.1487]\n",
      "  Hausdorff based test: \n",
      "    Test Stat: 7.3337\n",
      "    Critical Value: 0.7368\n",
      "    Confidence Interval: [-0.0098, 0.1535]\n",
      "  directed Hausdorff test: \n",
      "    Test Stat: 0.0\n",
      "    Critical Value: 0.6159\n",
      "    Confidence Interval: [-0.009, 0.1527]\n"
     ]
    }
   ],
   "source": [
    "res = CI1d(yl,yu,float.(x1),[0.0,0.1]);\n",
    "show(res)"
   ]
  },
  {
   "cell_type": "code",
   "execution_count": 32,
   "metadata": {},
   "outputs": [
    {
     "name": "stdout",
     "output_type": "stream",
     "text": [
      "Results: \n",
      "  Null: [-0.1, 0.15]\n",
      "  Bound: [-0.0049, 0.1487]\n",
      "  Hausdorff based test: \n",
      "    Test Stat: 14.3348\n",
      "    Critical Value: 0.689\n",
      "    Confidence Interval: [-0.0095, 0.1532]\n",
      "  directed Hausdorff test: \n",
      "    Test Stat: 14.3348\n",
      "    Critical Value: 0.6079\n",
      "    Confidence Interval: [-0.0089, 0.1527]\n"
     ]
    }
   ],
   "source": [
    "res = CI1d(yl,yu,float.(x1),[-0.1,0.15]);\n",
    "show(res)"
   ]
  },
  {
   "cell_type": "code",
   "execution_count": 33,
   "metadata": {},
   "outputs": [
    {
     "data": {
      "image/svg+xml": [
       "<?xml version=\"1.0\" encoding=\"utf-8\"?>\n",
       "<svg xmlns=\"http://www.w3.org/2000/svg\" xmlns:xlink=\"http://www.w3.org/1999/xlink\" width=\"600\" height=\"400\" viewBox=\"0 0 2400 1600\">\n",
       "<defs>\n",
       "  <clipPath id=\"clip790\">\n",
       "    <rect x=\"0\" y=\"0\" width=\"2400\" height=\"1600\"/>\n",
       "  </clipPath>\n",
       "</defs>\n",
       "<path clip-path=\"url(#clip790)\" d=\"M0 1600 L2400 1600 L2400 0 L0 0  Z\" fill=\"#ffffff\" fill-rule=\"evenodd\" fill-opacity=\"1\"/>\n",
       "<defs>\n",
       "  <clipPath id=\"clip791\">\n",
       "    <rect x=\"480\" y=\"0\" width=\"1681\" height=\"1600\"/>\n",
       "  </clipPath>\n",
       "</defs>\n",
       "<path clip-path=\"url(#clip790)\" d=\"M222.871 1486.45 L2352.76 1486.45 L2352.76 47.2441 L222.871 47.2441  Z\" fill=\"#ffffff\" fill-rule=\"evenodd\" fill-opacity=\"1\"/>\n",
       "<defs>\n",
       "  <clipPath id=\"clip792\">\n",
       "    <rect x=\"222\" y=\"47\" width=\"2131\" height=\"1440\"/>\n",
       "  </clipPath>\n",
       "</defs>\n",
       "<polyline clip-path=\"url(#clip792)\" style=\"stroke:#000000; stroke-linecap:round; stroke-linejoin:round; stroke-width:2; stroke-opacity:0.1; fill:none\" points=\"503.558,1486.45 503.558,47.2441 \"/>\n",
       "<polyline clip-path=\"url(#clip792)\" style=\"stroke:#000000; stroke-linecap:round; stroke-linejoin:round; stroke-width:2; stroke-opacity:0.1; fill:none\" points=\"1049.04,1486.45 1049.04,47.2441 \"/>\n",
       "<polyline clip-path=\"url(#clip792)\" style=\"stroke:#000000; stroke-linecap:round; stroke-linejoin:round; stroke-width:2; stroke-opacity:0.1; fill:none\" points=\"1594.53,1486.45 1594.53,47.2441 \"/>\n",
       "<polyline clip-path=\"url(#clip792)\" style=\"stroke:#000000; stroke-linecap:round; stroke-linejoin:round; stroke-width:2; stroke-opacity:0.1; fill:none\" points=\"2140.02,1486.45 2140.02,47.2441 \"/>\n",
       "<polyline clip-path=\"url(#clip790)\" style=\"stroke:#000000; stroke-linecap:round; stroke-linejoin:round; stroke-width:4; stroke-opacity:1; fill:none\" points=\"222.871,1486.45 2352.76,1486.45 \"/>\n",
       "<polyline clip-path=\"url(#clip790)\" style=\"stroke:#000000; stroke-linecap:round; stroke-linejoin:round; stroke-width:4; stroke-opacity:1; fill:none\" points=\"503.558,1486.45 503.558,1467.55 \"/>\n",
       "<polyline clip-path=\"url(#clip790)\" style=\"stroke:#000000; stroke-linecap:round; stroke-linejoin:round; stroke-width:4; stroke-opacity:1; fill:none\" points=\"1049.04,1486.45 1049.04,1467.55 \"/>\n",
       "<polyline clip-path=\"url(#clip790)\" style=\"stroke:#000000; stroke-linecap:round; stroke-linejoin:round; stroke-width:4; stroke-opacity:1; fill:none\" points=\"1594.53,1486.45 1594.53,1467.55 \"/>\n",
       "<polyline clip-path=\"url(#clip790)\" style=\"stroke:#000000; stroke-linecap:round; stroke-linejoin:round; stroke-width:4; stroke-opacity:1; fill:none\" points=\"2140.02,1486.45 2140.02,1467.55 \"/>\n",
       "<path clip-path=\"url(#clip790)\" d=\"M465.862 1517.37 Q462.251 1517.37 460.422 1520.93 Q458.617 1524.47 458.617 1531.6 Q458.617 1538.71 460.422 1542.27 Q462.251 1545.82 465.862 1545.82 Q469.496 1545.82 471.302 1542.27 Q473.13 1538.71 473.13 1531.6 Q473.13 1524.47 471.302 1520.93 Q469.496 1517.37 465.862 1517.37 M465.862 1513.66 Q471.672 1513.66 474.728 1518.27 Q477.806 1522.85 477.806 1531.6 Q477.806 1540.33 474.728 1544.94 Q471.672 1549.52 465.862 1549.52 Q460.052 1549.52 456.973 1544.94 Q453.917 1540.33 453.917 1531.6 Q453.917 1522.85 456.973 1518.27 Q460.052 1513.66 465.862 1513.66 Z\" fill=\"#000000\" fill-rule=\"nonzero\" fill-opacity=\"1\" /><path clip-path=\"url(#clip790)\" d=\"M486.024 1542.97 L490.908 1542.97 L490.908 1548.85 L486.024 1548.85 L486.024 1542.97 Z\" fill=\"#000000\" fill-rule=\"nonzero\" fill-opacity=\"1\" /><path clip-path=\"url(#clip790)\" d=\"M511.093 1517.37 Q507.482 1517.37 505.653 1520.93 Q503.848 1524.47 503.848 1531.6 Q503.848 1538.71 505.653 1542.27 Q507.482 1545.82 511.093 1545.82 Q514.727 1545.82 516.533 1542.27 Q518.362 1538.71 518.362 1531.6 Q518.362 1524.47 516.533 1520.93 Q514.727 1517.37 511.093 1517.37 M511.093 1513.66 Q516.903 1513.66 519.959 1518.27 Q523.037 1522.85 523.037 1531.6 Q523.037 1540.33 519.959 1544.94 Q516.903 1549.52 511.093 1549.52 Q505.283 1549.52 502.204 1544.94 Q499.149 1540.33 499.149 1531.6 Q499.149 1522.85 502.204 1518.27 Q505.283 1513.66 511.093 1513.66 Z\" fill=\"#000000\" fill-rule=\"nonzero\" fill-opacity=\"1\" /><path clip-path=\"url(#clip790)\" d=\"M541.255 1517.37 Q537.644 1517.37 535.815 1520.93 Q534.01 1524.47 534.01 1531.6 Q534.01 1538.71 535.815 1542.27 Q537.644 1545.82 541.255 1545.82 Q544.889 1545.82 546.695 1542.27 Q548.523 1538.71 548.523 1531.6 Q548.523 1524.47 546.695 1520.93 Q544.889 1517.37 541.255 1517.37 M541.255 1513.66 Q547.065 1513.66 550.121 1518.27 Q553.199 1522.85 553.199 1531.6 Q553.199 1540.33 550.121 1544.94 Q547.065 1549.52 541.255 1549.52 Q535.445 1549.52 532.366 1544.94 Q529.311 1540.33 529.311 1531.6 Q529.311 1522.85 532.366 1518.27 Q535.445 1513.66 541.255 1513.66 Z\" fill=\"#000000\" fill-rule=\"nonzero\" fill-opacity=\"1\" /><path clip-path=\"url(#clip790)\" d=\"M1011.85 1517.37 Q1008.23 1517.37 1006.41 1520.93 Q1004.6 1524.47 1004.6 1531.6 Q1004.6 1538.71 1006.41 1542.27 Q1008.23 1545.82 1011.85 1545.82 Q1015.48 1545.82 1017.29 1542.27 Q1019.11 1538.71 1019.11 1531.6 Q1019.11 1524.47 1017.29 1520.93 Q1015.48 1517.37 1011.85 1517.37 M1011.85 1513.66 Q1017.66 1513.66 1020.71 1518.27 Q1023.79 1522.85 1023.79 1531.6 Q1023.79 1540.33 1020.71 1544.94 Q1017.66 1549.52 1011.85 1549.52 Q1006.04 1549.52 1002.96 1544.94 Q999.901 1540.33 999.901 1531.6 Q999.901 1522.85 1002.96 1518.27 Q1006.04 1513.66 1011.85 1513.66 Z\" fill=\"#000000\" fill-rule=\"nonzero\" fill-opacity=\"1\" /><path clip-path=\"url(#clip790)\" d=\"M1032.01 1542.97 L1036.89 1542.97 L1036.89 1548.85 L1032.01 1548.85 L1032.01 1542.97 Z\" fill=\"#000000\" fill-rule=\"nonzero\" fill-opacity=\"1\" /><path clip-path=\"url(#clip790)\" d=\"M1057.08 1517.37 Q1053.47 1517.37 1051.64 1520.93 Q1049.83 1524.47 1049.83 1531.6 Q1049.83 1538.71 1051.64 1542.27 Q1053.47 1545.82 1057.08 1545.82 Q1060.71 1545.82 1062.52 1542.27 Q1064.35 1538.71 1064.35 1531.6 Q1064.35 1524.47 1062.52 1520.93 Q1060.71 1517.37 1057.08 1517.37 M1057.08 1513.66 Q1062.89 1513.66 1065.94 1518.27 Q1069.02 1522.85 1069.02 1531.6 Q1069.02 1540.33 1065.94 1544.94 Q1062.89 1549.52 1057.08 1549.52 Q1051.27 1549.52 1048.19 1544.94 Q1045.13 1540.33 1045.13 1531.6 Q1045.13 1522.85 1048.19 1518.27 Q1051.27 1513.66 1057.08 1513.66 Z\" fill=\"#000000\" fill-rule=\"nonzero\" fill-opacity=\"1\" /><path clip-path=\"url(#clip790)\" d=\"M1077.29 1514.29 L1095.64 1514.29 L1095.64 1518.22 L1081.57 1518.22 L1081.57 1526.7 Q1082.59 1526.35 1083.6 1526.19 Q1084.62 1526 1085.64 1526 Q1091.43 1526 1094.81 1529.17 Q1098.19 1532.34 1098.19 1537.76 Q1098.19 1543.34 1094.72 1546.44 Q1091.24 1549.52 1084.92 1549.52 Q1082.75 1549.52 1080.48 1549.15 Q1078.23 1548.78 1075.83 1548.04 L1075.83 1543.34 Q1077.91 1544.47 1080.13 1545.03 Q1082.35 1545.58 1084.83 1545.58 Q1088.84 1545.58 1091.17 1543.48 Q1093.51 1541.37 1093.51 1537.76 Q1093.51 1534.15 1091.17 1532.04 Q1088.84 1529.94 1084.83 1529.94 Q1082.96 1529.94 1081.08 1530.35 Q1079.23 1530.77 1077.29 1531.65 L1077.29 1514.29 Z\" fill=\"#000000\" fill-rule=\"nonzero\" fill-opacity=\"1\" /><path clip-path=\"url(#clip790)\" d=\"M1556.83 1517.37 Q1553.22 1517.37 1551.39 1520.93 Q1549.59 1524.47 1549.59 1531.6 Q1549.59 1538.71 1551.39 1542.27 Q1553.22 1545.82 1556.83 1545.82 Q1560.47 1545.82 1562.27 1542.27 Q1564.1 1538.71 1564.1 1531.6 Q1564.1 1524.47 1562.27 1520.93 Q1560.47 1517.37 1556.83 1517.37 M1556.83 1513.66 Q1562.64 1513.66 1565.7 1518.27 Q1568.78 1522.85 1568.78 1531.6 Q1568.78 1540.33 1565.7 1544.94 Q1562.64 1549.52 1556.83 1549.52 Q1551.02 1549.52 1547.95 1544.94 Q1544.89 1540.33 1544.89 1531.6 Q1544.89 1522.85 1547.95 1518.27 Q1551.02 1513.66 1556.83 1513.66 Z\" fill=\"#000000\" fill-rule=\"nonzero\" fill-opacity=\"1\" /><path clip-path=\"url(#clip790)\" d=\"M1577 1542.97 L1581.88 1542.97 L1581.88 1548.85 L1577 1548.85 L1577 1542.97 Z\" fill=\"#000000\" fill-rule=\"nonzero\" fill-opacity=\"1\" /><path clip-path=\"url(#clip790)\" d=\"M1592.88 1544.91 L1600.51 1544.91 L1600.51 1518.55 L1592.2 1520.21 L1592.2 1515.95 L1600.47 1514.29 L1605.14 1514.29 L1605.14 1544.91 L1612.78 1544.91 L1612.78 1548.85 L1592.88 1548.85 L1592.88 1544.91 Z\" fill=\"#000000\" fill-rule=\"nonzero\" fill-opacity=\"1\" /><path clip-path=\"url(#clip790)\" d=\"M1632.23 1517.37 Q1628.62 1517.37 1626.79 1520.93 Q1624.98 1524.47 1624.98 1531.6 Q1624.98 1538.71 1626.79 1542.27 Q1628.62 1545.82 1632.23 1545.82 Q1635.86 1545.82 1637.67 1542.27 Q1639.5 1538.71 1639.5 1531.6 Q1639.5 1524.47 1637.67 1520.93 Q1635.86 1517.37 1632.23 1517.37 M1632.23 1513.66 Q1638.04 1513.66 1641.09 1518.27 Q1644.17 1522.85 1644.17 1531.6 Q1644.17 1540.33 1641.09 1544.94 Q1638.04 1549.52 1632.23 1549.52 Q1626.42 1549.52 1623.34 1544.94 Q1620.28 1540.33 1620.28 1531.6 Q1620.28 1522.85 1623.34 1518.27 Q1626.42 1513.66 1632.23 1513.66 Z\" fill=\"#000000\" fill-rule=\"nonzero\" fill-opacity=\"1\" /><path clip-path=\"url(#clip790)\" d=\"M2102.82 1517.37 Q2099.21 1517.37 2097.38 1520.93 Q2095.57 1524.47 2095.57 1531.6 Q2095.57 1538.71 2097.38 1542.27 Q2099.21 1545.82 2102.82 1545.82 Q2106.45 1545.82 2108.26 1542.27 Q2110.09 1538.71 2110.09 1531.6 Q2110.09 1524.47 2108.26 1520.93 Q2106.45 1517.37 2102.82 1517.37 M2102.82 1513.66 Q2108.63 1513.66 2111.68 1518.27 Q2114.76 1522.85 2114.76 1531.6 Q2114.76 1540.33 2111.68 1544.94 Q2108.63 1549.52 2102.82 1549.52 Q2097.01 1549.52 2093.93 1544.94 Q2090.87 1540.33 2090.87 1531.6 Q2090.87 1522.85 2093.93 1518.27 Q2097.01 1513.66 2102.82 1513.66 Z\" fill=\"#000000\" fill-rule=\"nonzero\" fill-opacity=\"1\" /><path clip-path=\"url(#clip790)\" d=\"M2122.98 1542.97 L2127.86 1542.97 L2127.86 1548.85 L2122.98 1548.85 L2122.98 1542.97 Z\" fill=\"#000000\" fill-rule=\"nonzero\" fill-opacity=\"1\" /><path clip-path=\"url(#clip790)\" d=\"M2138.86 1544.91 L2146.5 1544.91 L2146.5 1518.55 L2138.19 1520.21 L2138.19 1515.95 L2146.45 1514.29 L2151.13 1514.29 L2151.13 1544.91 L2158.77 1544.91 L2158.77 1548.85 L2138.86 1548.85 L2138.86 1544.91 Z\" fill=\"#000000\" fill-rule=\"nonzero\" fill-opacity=\"1\" /><path clip-path=\"url(#clip790)\" d=\"M2168.26 1514.29 L2186.61 1514.29 L2186.61 1518.22 L2172.54 1518.22 L2172.54 1526.7 Q2173.56 1526.35 2174.58 1526.19 Q2175.6 1526 2176.61 1526 Q2182.4 1526 2185.78 1529.17 Q2189.16 1532.34 2189.16 1537.76 Q2189.16 1543.34 2185.69 1546.44 Q2182.22 1549.52 2175.9 1549.52 Q2173.72 1549.52 2171.45 1549.15 Q2169.21 1548.78 2166.8 1548.04 L2166.8 1543.34 Q2168.88 1544.47 2171.1 1545.03 Q2173.33 1545.58 2175.8 1545.58 Q2179.81 1545.58 2182.15 1543.48 Q2184.48 1541.37 2184.48 1537.76 Q2184.48 1534.15 2182.15 1532.04 Q2179.81 1529.94 2175.8 1529.94 Q2173.93 1529.94 2172.05 1530.35 Q2170.2 1530.77 2168.26 1531.65 L2168.26 1514.29 Z\" fill=\"#000000\" fill-rule=\"nonzero\" fill-opacity=\"1\" /><polyline clip-path=\"url(#clip792)\" style=\"stroke:#000000; stroke-linecap:round; stroke-linejoin:round; stroke-width:2; stroke-opacity:0.1; fill:none\" points=\"222.871,1486.45 2352.76,1486.45 \"/>\n",
       "<polyline clip-path=\"url(#clip792)\" style=\"stroke:#000000; stroke-linecap:round; stroke-linejoin:round; stroke-width:2; stroke-opacity:0.1; fill:none\" points=\"222.871,1126.65 2352.76,1126.65 \"/>\n",
       "<polyline clip-path=\"url(#clip792)\" style=\"stroke:#000000; stroke-linecap:round; stroke-linejoin:round; stroke-width:2; stroke-opacity:0.1; fill:none\" points=\"222.871,766.846 2352.76,766.846 \"/>\n",
       "<polyline clip-path=\"url(#clip792)\" style=\"stroke:#000000; stroke-linecap:round; stroke-linejoin:round; stroke-width:2; stroke-opacity:0.1; fill:none\" points=\"222.871,407.045 2352.76,407.045 \"/>\n",
       "<polyline clip-path=\"url(#clip792)\" style=\"stroke:#000000; stroke-linecap:round; stroke-linejoin:round; stroke-width:2; stroke-opacity:0.1; fill:none\" points=\"222.871,47.2441 2352.76,47.2441 \"/>\n",
       "<polyline clip-path=\"url(#clip790)\" style=\"stroke:#000000; stroke-linecap:round; stroke-linejoin:round; stroke-width:4; stroke-opacity:1; fill:none\" points=\"222.871,1486.45 222.871,47.2441 \"/>\n",
       "<polyline clip-path=\"url(#clip790)\" style=\"stroke:#000000; stroke-linecap:round; stroke-linejoin:round; stroke-width:4; stroke-opacity:1; fill:none\" points=\"222.871,1486.45 241.769,1486.45 \"/>\n",
       "<polyline clip-path=\"url(#clip790)\" style=\"stroke:#000000; stroke-linecap:round; stroke-linejoin:round; stroke-width:4; stroke-opacity:1; fill:none\" points=\"222.871,1126.65 241.769,1126.65 \"/>\n",
       "<polyline clip-path=\"url(#clip790)\" style=\"stroke:#000000; stroke-linecap:round; stroke-linejoin:round; stroke-width:4; stroke-opacity:1; fill:none\" points=\"222.871,766.846 241.769,766.846 \"/>\n",
       "<polyline clip-path=\"url(#clip790)\" style=\"stroke:#000000; stroke-linecap:round; stroke-linejoin:round; stroke-width:4; stroke-opacity:1; fill:none\" points=\"222.871,407.045 241.769,407.045 \"/>\n",
       "<polyline clip-path=\"url(#clip790)\" style=\"stroke:#000000; stroke-linecap:round; stroke-linejoin:round; stroke-width:4; stroke-opacity:1; fill:none\" points=\"222.871,47.2441 241.769,47.2441 \"/>\n",
       "<path clip-path=\"url(#clip790)\" d=\"M51.3625 1486.9 L81.0383 1486.9 L81.0383 1490.83 L51.3625 1490.83 L51.3625 1486.9 Z\" fill=\"#000000\" fill-rule=\"nonzero\" fill-opacity=\"1\" /><path clip-path=\"url(#clip790)\" d=\"M101.131 1472.25 Q97.5197 1472.25 95.691 1475.81 Q93.8854 1479.35 93.8854 1486.48 Q93.8854 1493.59 95.691 1497.15 Q97.5197 1500.7 101.131 1500.7 Q104.765 1500.7 106.571 1497.15 Q108.399 1493.59 108.399 1486.48 Q108.399 1479.35 106.571 1475.81 Q104.765 1472.25 101.131 1472.25 M101.131 1468.54 Q106.941 1468.54 109.996 1473.15 Q113.075 1477.73 113.075 1486.48 Q113.075 1495.21 109.996 1499.82 Q106.941 1504.4 101.131 1504.4 Q95.3206 1504.4 92.2419 1499.82 Q89.1864 1495.21 89.1864 1486.48 Q89.1864 1477.73 92.2419 1473.15 Q95.3206 1468.54 101.131 1468.54 Z\" fill=\"#000000\" fill-rule=\"nonzero\" fill-opacity=\"1\" /><path clip-path=\"url(#clip790)\" d=\"M121.293 1497.85 L126.177 1497.85 L126.177 1503.73 L121.293 1503.73 L121.293 1497.85 Z\" fill=\"#000000\" fill-rule=\"nonzero\" fill-opacity=\"1\" /><path clip-path=\"url(#clip790)\" d=\"M146.362 1472.25 Q142.751 1472.25 140.922 1475.81 Q139.117 1479.35 139.117 1486.48 Q139.117 1493.59 140.922 1497.15 Q142.751 1500.7 146.362 1500.7 Q149.996 1500.7 151.802 1497.15 Q153.63 1493.59 153.63 1486.48 Q153.63 1479.35 151.802 1475.81 Q149.996 1472.25 146.362 1472.25 M146.362 1468.54 Q152.172 1468.54 155.228 1473.15 Q158.306 1477.73 158.306 1486.48 Q158.306 1495.21 155.228 1499.82 Q152.172 1504.4 146.362 1504.4 Q140.552 1504.4 137.473 1499.82 Q134.418 1495.21 134.418 1486.48 Q134.418 1477.73 137.473 1473.15 Q140.552 1468.54 146.362 1468.54 Z\" fill=\"#000000\" fill-rule=\"nonzero\" fill-opacity=\"1\" /><path clip-path=\"url(#clip790)\" d=\"M170.552 1499.79 L186.871 1499.79 L186.871 1503.73 L164.927 1503.73 L164.927 1499.79 Q167.589 1497.04 172.172 1492.41 Q176.778 1487.76 177.959 1486.41 Q180.204 1483.89 181.084 1482.15 Q181.987 1480.39 181.987 1478.7 Q181.987 1475.95 180.042 1474.21 Q178.121 1472.48 175.019 1472.48 Q172.82 1472.48 170.366 1473.24 Q167.936 1474.01 165.158 1475.56 L165.158 1470.83 Q167.982 1469.7 170.436 1469.12 Q172.89 1468.54 174.927 1468.54 Q180.297 1468.54 183.491 1471.23 Q186.686 1473.91 186.686 1478.4 Q186.686 1480.53 185.876 1482.45 Q185.089 1484.35 182.982 1486.95 Q182.403 1487.62 179.302 1490.83 Q176.2 1494.03 170.552 1499.79 Z\" fill=\"#000000\" fill-rule=\"nonzero\" fill-opacity=\"1\" /><path clip-path=\"url(#clip790)\" d=\"M50.9921 1127.1 L80.6679 1127.1 L80.6679 1131.03 L50.9921 1131.03 L50.9921 1127.1 Z\" fill=\"#000000\" fill-rule=\"nonzero\" fill-opacity=\"1\" /><path clip-path=\"url(#clip790)\" d=\"M100.76 1112.45 Q97.1493 1112.45 95.3206 1116.01 Q93.515 1119.55 93.515 1126.68 Q93.515 1133.79 95.3206 1137.35 Q97.1493 1140.89 100.76 1140.89 Q104.395 1140.89 106.2 1137.35 Q108.029 1133.79 108.029 1126.68 Q108.029 1119.55 106.2 1116.01 Q104.395 1112.45 100.76 1112.45 M100.76 1108.74 Q106.571 1108.74 109.626 1113.35 Q112.705 1117.93 112.705 1126.68 Q112.705 1135.41 109.626 1140.01 Q106.571 1144.6 100.76 1144.6 Q94.9502 1144.6 91.8715 1140.01 Q88.816 1135.41 88.816 1126.68 Q88.816 1117.93 91.8715 1113.35 Q94.9502 1108.74 100.76 1108.74 Z\" fill=\"#000000\" fill-rule=\"nonzero\" fill-opacity=\"1\" /><path clip-path=\"url(#clip790)\" d=\"M120.922 1138.05 L125.807 1138.05 L125.807 1143.93 L120.922 1143.93 L120.922 1138.05 Z\" fill=\"#000000\" fill-rule=\"nonzero\" fill-opacity=\"1\" /><path clip-path=\"url(#clip790)\" d=\"M145.992 1112.45 Q142.381 1112.45 140.552 1116.01 Q138.746 1119.55 138.746 1126.68 Q138.746 1133.79 140.552 1137.35 Q142.381 1140.89 145.992 1140.89 Q149.626 1140.89 151.431 1137.35 Q153.26 1133.79 153.26 1126.68 Q153.26 1119.55 151.431 1116.01 Q149.626 1112.45 145.992 1112.45 M145.992 1108.74 Q151.802 1108.74 154.857 1113.35 Q157.936 1117.93 157.936 1126.68 Q157.936 1135.41 154.857 1140.01 Q151.802 1144.6 145.992 1144.6 Q140.181 1144.6 137.103 1140.01 Q134.047 1135.41 134.047 1126.68 Q134.047 1117.93 137.103 1113.35 Q140.181 1108.74 145.992 1108.74 Z\" fill=\"#000000\" fill-rule=\"nonzero\" fill-opacity=\"1\" /><path clip-path=\"url(#clip790)\" d=\"M166.964 1139.99 L174.603 1139.99 L174.603 1113.63 L166.292 1115.29 L166.292 1111.03 L174.556 1109.37 L179.232 1109.37 L179.232 1139.99 L186.871 1139.99 L186.871 1143.93 L166.964 1143.93 L166.964 1139.99 Z\" fill=\"#000000\" fill-rule=\"nonzero\" fill-opacity=\"1\" /><path clip-path=\"url(#clip790)\" d=\"M99.5335 752.645 Q95.9224 752.645 94.0937 756.209 Q92.2882 759.751 92.2882 766.881 Q92.2882 773.987 94.0937 777.552 Q95.9224 781.094 99.5335 781.094 Q103.168 781.094 104.973 777.552 Q106.802 773.987 106.802 766.881 Q106.802 759.751 104.973 756.209 Q103.168 752.645 99.5335 752.645 M99.5335 748.941 Q105.344 748.941 108.399 753.547 Q111.478 758.131 111.478 766.881 Q111.478 775.608 108.399 780.214 Q105.344 784.797 99.5335 784.797 Q93.7234 784.797 90.6447 780.214 Q87.5892 775.608 87.5892 766.881 Q87.5892 758.131 90.6447 753.547 Q93.7234 748.941 99.5335 748.941 Z\" fill=\"#000000\" fill-rule=\"nonzero\" fill-opacity=\"1\" /><path clip-path=\"url(#clip790)\" d=\"M119.695 778.246 L124.58 778.246 L124.58 784.126 L119.695 784.126 L119.695 778.246 Z\" fill=\"#000000\" fill-rule=\"nonzero\" fill-opacity=\"1\" /><path clip-path=\"url(#clip790)\" d=\"M144.765 752.645 Q141.154 752.645 139.325 756.209 Q137.519 759.751 137.519 766.881 Q137.519 773.987 139.325 777.552 Q141.154 781.094 144.765 781.094 Q148.399 781.094 150.205 777.552 Q152.033 773.987 152.033 766.881 Q152.033 759.751 150.205 756.209 Q148.399 752.645 144.765 752.645 M144.765 748.941 Q150.575 748.941 153.63 753.547 Q156.709 758.131 156.709 766.881 Q156.709 775.608 153.63 780.214 Q150.575 784.797 144.765 784.797 Q138.955 784.797 135.876 780.214 Q132.82 775.608 132.82 766.881 Q132.82 758.131 135.876 753.547 Q138.955 748.941 144.765 748.941 Z\" fill=\"#000000\" fill-rule=\"nonzero\" fill-opacity=\"1\" /><path clip-path=\"url(#clip790)\" d=\"M174.927 752.645 Q171.316 752.645 169.487 756.209 Q167.681 759.751 167.681 766.881 Q167.681 773.987 169.487 777.552 Q171.316 781.094 174.927 781.094 Q178.561 781.094 180.366 777.552 Q182.195 773.987 182.195 766.881 Q182.195 759.751 180.366 756.209 Q178.561 752.645 174.927 752.645 M174.927 748.941 Q180.737 748.941 183.792 753.547 Q186.871 758.131 186.871 766.881 Q186.871 775.608 183.792 780.214 Q180.737 784.797 174.927 784.797 Q169.116 784.797 166.038 780.214 Q162.982 775.608 162.982 766.881 Q162.982 758.131 166.038 753.547 Q169.116 748.941 174.927 748.941 Z\" fill=\"#000000\" fill-rule=\"nonzero\" fill-opacity=\"1\" /><path clip-path=\"url(#clip790)\" d=\"M100.76 392.844 Q97.1493 392.844 95.3206 396.409 Q93.515 399.95 93.515 407.08 Q93.515 414.186 95.3206 417.751 Q97.1493 421.293 100.76 421.293 Q104.395 421.293 106.2 417.751 Q108.029 414.186 108.029 407.08 Q108.029 399.95 106.2 396.409 Q104.395 392.844 100.76 392.844 M100.76 389.14 Q106.571 389.14 109.626 393.746 Q112.705 398.33 112.705 407.08 Q112.705 415.807 109.626 420.413 Q106.571 424.996 100.76 424.996 Q94.9502 424.996 91.8715 420.413 Q88.816 415.807 88.816 407.08 Q88.816 398.33 91.8715 393.746 Q94.9502 389.14 100.76 389.14 Z\" fill=\"#000000\" fill-rule=\"nonzero\" fill-opacity=\"1\" /><path clip-path=\"url(#clip790)\" d=\"M120.922 418.445 L125.807 418.445 L125.807 424.325 L120.922 424.325 L120.922 418.445 Z\" fill=\"#000000\" fill-rule=\"nonzero\" fill-opacity=\"1\" /><path clip-path=\"url(#clip790)\" d=\"M145.992 392.844 Q142.381 392.844 140.552 396.409 Q138.746 399.95 138.746 407.08 Q138.746 414.186 140.552 417.751 Q142.381 421.293 145.992 421.293 Q149.626 421.293 151.431 417.751 Q153.26 414.186 153.26 407.08 Q153.26 399.95 151.431 396.409 Q149.626 392.844 145.992 392.844 M145.992 389.14 Q151.802 389.14 154.857 393.746 Q157.936 398.33 157.936 407.08 Q157.936 415.807 154.857 420.413 Q151.802 424.996 145.992 424.996 Q140.181 424.996 137.103 420.413 Q134.047 415.807 134.047 407.08 Q134.047 398.33 137.103 393.746 Q140.181 389.14 145.992 389.14 Z\" fill=\"#000000\" fill-rule=\"nonzero\" fill-opacity=\"1\" /><path clip-path=\"url(#clip790)\" d=\"M166.964 420.39 L174.603 420.39 L174.603 394.024 L166.292 395.691 L166.292 391.432 L174.556 389.765 L179.232 389.765 L179.232 420.39 L186.871 420.39 L186.871 424.325 L166.964 424.325 L166.964 420.39 Z\" fill=\"#000000\" fill-rule=\"nonzero\" fill-opacity=\"1\" /><path clip-path=\"url(#clip790)\" d=\"M101.131 33.0428 Q97.5197 33.0428 95.691 36.6076 Q93.8854 40.1492 93.8854 47.2788 Q93.8854 54.3853 95.691 57.9501 Q97.5197 61.4917 101.131 61.4917 Q104.765 61.4917 106.571 57.9501 Q108.399 54.3853 108.399 47.2788 Q108.399 40.1492 106.571 36.6076 Q104.765 33.0428 101.131 33.0428 M101.131 29.3391 Q106.941 29.3391 109.996 33.9456 Q113.075 38.5289 113.075 47.2788 Q113.075 56.0056 109.996 60.6121 Q106.941 65.1954 101.131 65.1954 Q95.3206 65.1954 92.2419 60.6121 Q89.1864 56.0056 89.1864 47.2788 Q89.1864 38.5289 92.2419 33.9456 Q95.3206 29.3391 101.131 29.3391 Z\" fill=\"#000000\" fill-rule=\"nonzero\" fill-opacity=\"1\" /><path clip-path=\"url(#clip790)\" d=\"M121.293 58.6445 L126.177 58.6445 L126.177 64.5241 L121.293 64.5241 L121.293 58.6445 Z\" fill=\"#000000\" fill-rule=\"nonzero\" fill-opacity=\"1\" /><path clip-path=\"url(#clip790)\" d=\"M146.362 33.0428 Q142.751 33.0428 140.922 36.6076 Q139.117 40.1492 139.117 47.2788 Q139.117 54.3853 140.922 57.9501 Q142.751 61.4917 146.362 61.4917 Q149.996 61.4917 151.802 57.9501 Q153.63 54.3853 153.63 47.2788 Q153.63 40.1492 151.802 36.6076 Q149.996 33.0428 146.362 33.0428 M146.362 29.3391 Q152.172 29.3391 155.228 33.9456 Q158.306 38.5289 158.306 47.2788 Q158.306 56.0056 155.228 60.6121 Q152.172 65.1954 146.362 65.1954 Q140.552 65.1954 137.473 60.6121 Q134.418 56.0056 134.418 47.2788 Q134.418 38.5289 137.473 33.9456 Q140.552 29.3391 146.362 29.3391 Z\" fill=\"#000000\" fill-rule=\"nonzero\" fill-opacity=\"1\" /><path clip-path=\"url(#clip790)\" d=\"M170.552 60.5889 L186.871 60.5889 L186.871 64.5241 L164.927 64.5241 L164.927 60.5889 Q167.589 57.8343 172.172 53.2047 Q176.778 48.552 177.959 47.2094 Q180.204 44.6862 181.084 42.9501 Q181.987 41.1909 181.987 39.5011 Q181.987 36.7465 180.042 35.0104 Q178.121 33.2743 175.019 33.2743 Q172.82 33.2743 170.366 34.0381 Q167.936 34.802 165.158 36.3529 L165.158 31.6308 Q167.982 30.4965 170.436 29.9178 Q172.89 29.3391 174.927 29.3391 Q180.297 29.3391 183.491 32.0243 Q186.686 34.7094 186.686 39.2002 Q186.686 41.3298 185.876 43.2511 Q185.089 45.1492 182.982 47.7418 Q182.403 48.4131 179.302 51.6306 Q176.2 54.8251 170.552 60.5889 Z\" fill=\"#000000\" fill-rule=\"nonzero\" fill-opacity=\"1\" /><line clip-path=\"url(#clip792)\" x1=\"400.361\" y1=\"766.846\" x2=\"360.361\" y2=\"726.846\" style=\"stroke:#009af9; stroke-width:3.2; stroke-opacity:1\"/>\n",
       "<line clip-path=\"url(#clip792)\" x1=\"400.361\" y1=\"766.846\" x2=\"360.361\" y2=\"806.846\" style=\"stroke:#009af9; stroke-width:3.2; stroke-opacity:1\"/>\n",
       "<line clip-path=\"url(#clip792)\" x1=\"400.361\" y1=\"766.846\" x2=\"440.361\" y2=\"806.846\" style=\"stroke:#009af9; stroke-width:3.2; stroke-opacity:1\"/>\n",
       "<line clip-path=\"url(#clip792)\" x1=\"400.361\" y1=\"766.846\" x2=\"440.361\" y2=\"726.846\" style=\"stroke:#009af9; stroke-width:3.2; stroke-opacity:1\"/>\n",
       "<line clip-path=\"url(#clip792)\" x1=\"450.233\" y1=\"806.846\" x2=\"450.233\" y2=\"726.846\" style=\"stroke:#009af9; stroke-width:3.2; stroke-opacity:1\"/>\n",
       "<line clip-path=\"url(#clip792)\" x1=\"2125.39\" y1=\"806.846\" x2=\"2125.39\" y2=\"726.846\" style=\"stroke:#009af9; stroke-width:3.2; stroke-opacity:1\"/>\n",
       "<line clip-path=\"url(#clip792)\" x1=\"2175.27\" y1=\"766.846\" x2=\"2135.27\" y2=\"726.846\" style=\"stroke:#009af9; stroke-width:3.2; stroke-opacity:1\"/>\n",
       "<line clip-path=\"url(#clip792)\" x1=\"2175.27\" y1=\"766.846\" x2=\"2135.27\" y2=\"806.846\" style=\"stroke:#009af9; stroke-width:3.2; stroke-opacity:1\"/>\n",
       "<line clip-path=\"url(#clip792)\" x1=\"2175.27\" y1=\"766.846\" x2=\"2215.27\" y2=\"806.846\" style=\"stroke:#009af9; stroke-width:3.2; stroke-opacity:1\"/>\n",
       "<line clip-path=\"url(#clip792)\" x1=\"2175.27\" y1=\"766.846\" x2=\"2215.27\" y2=\"726.846\" style=\"stroke:#009af9; stroke-width:3.2; stroke-opacity:1\"/>\n",
       "</svg>\n"
      ]
     },
     "execution_count": 33,
     "metadata": {},
     "output_type": "execute_result"
    }
   ],
   "source": [
    "x = [res.Htest.ConfidenceInterval[1],res.bound[1],res.bound[2],res.Htest.ConfidenceInterval[2]]\n",
    "tol = (x[4]-x[1])/10\n",
    "y =[0,0,0,0]\n",
    "symbols =[:x,:vline,:vline,:x]\n",
    "\n",
    "scatter(x, y, markersize=10, xlim=(x[1]-tol,x[4]+tol), ylim=(-0.02,0.02),marker=symbols,label=\"\")"
   ]
  },
  {
   "cell_type": "code",
   "execution_count": 38,
   "metadata": {},
   "outputs": [
    {
     "data": {
      "text/plain": [
       "Union{Nothing, Vector{<:Real}}"
      ]
     },
     "execution_count": 38,
     "metadata": {},
     "output_type": "execute_result"
    }
   ],
   "source": [
    "T = Union{Vector{<:Real},Nothing}"
   ]
  },
  {
   "cell_type": "code",
   "execution_count": 39,
   "metadata": {},
   "outputs": [
    {
     "data": {
      "text/plain": [
       "true"
      ]
     },
     "execution_count": 39,
     "metadata": {},
     "output_type": "execute_result"
    }
   ],
   "source": [
    "isa([1,2],T)"
   ]
  },
  {
   "cell_type": "code",
   "execution_count": null,
   "metadata": {},
   "outputs": [],
   "source": []
  }
 ],
 "metadata": {
  "@webio": {
   "lastCommId": null,
   "lastKernelId": null
  },
  "kernelspec": {
   "display_name": "Julia 1.7.3",
   "language": "julia",
   "name": "julia-1.7"
  },
  "language_info": {
   "file_extension": ".jl",
   "mimetype": "application/julia",
   "name": "julia",
   "version": "1.7.3"
  }
 },
 "nbformat": 4,
 "nbformat_minor": 4
}
