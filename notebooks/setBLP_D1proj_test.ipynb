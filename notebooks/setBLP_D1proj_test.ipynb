{
 "cells": [
  {
   "cell_type": "markdown",
   "metadata": {},
   "source": [
    "# Packages"
   ]
  },
  {
   "cell_type": "code",
   "execution_count": 1,
   "metadata": {},
   "outputs": [],
   "source": [
    "using CSV, DataFrames"
   ]
  },
  {
   "cell_type": "code",
   "execution_count": 2,
   "metadata": {},
   "outputs": [
    {
     "ename": "LoadError",
     "evalue": "ArgumentError: Package FixedEffectModels not found in current path.\n- Run `import Pkg; Pkg.add(\"FixedEffectModels\")` to install the FixedEffectModels package.",
     "output_type": "error",
     "traceback": [
      "ArgumentError: Package FixedEffectModels not found in current path.\n- Run `import Pkg; Pkg.add(\"FixedEffectModels\")` to install the FixedEffectModels package.",
      "",
      "Stacktrace:",
      " [1] macro expansion",
      "   @ .\\loading.jl:1630 [inlined]",
      " [2] macro expansion",
      "   @ .\\lock.jl:267 [inlined]",
      " [3] require(into::Module, mod::Symbol)",
      "   @ Base .\\loading.jl:1611"
     ]
    }
   ],
   "source": [
    "using FixedEffectModels"
   ]
  },
  {
   "cell_type": "code",
   "execution_count": 3,
   "metadata": {},
   "outputs": [],
   "source": [
    "using Plots"
   ]
  },
  {
   "cell_type": "code",
   "execution_count": 4,
   "metadata": {},
   "outputs": [],
   "source": [
    "using Statistics"
   ]
  },
  {
   "cell_type": "markdown",
   "metadata": {},
   "source": [
    "# Uploading CPS data"
   ]
  },
  {
   "cell_type": "code",
   "execution_count": 5,
   "metadata": {},
   "outputs": [
    {
     "data": {
      "text/html": [
       "<div><div style = \"float: left;\"><span>5×3 DataFrame</span></div><div style = \"clear: both;\"></div></div><div class = \"data-frame\" style = \"overflow-x: scroll;\"><table class = \"data-frame\" style = \"margin-bottom: 6px;\"><thead><tr class = \"header\"><th class = \"rowNumber\" style = \"font-weight: bold; text-align: right;\">Row</th><th style = \"text-align: left;\">age</th><th style = \"text-align: left;\">wage</th><th style = \"text-align: left;\">educ</th></tr><tr class = \"subheader headerLastRow\"><th class = \"rowNumber\" style = \"font-weight: bold; text-align: right;\"></th><th title = \"Int64\" style = \"text-align: left;\">Int64</th><th title = \"Int64\" style = \"text-align: left;\">Int64</th><th title = \"String\" style = \"text-align: left;\">String</th></tr></thead><tbody><tr><td class = \"rowNumber\" style = \"font-weight: bold; text-align: right;\">1</td><td style = \"text-align: right;\">22</td><td style = \"text-align: right;\">12000</td><td style = \"text-align: left;\">some college but no degree</td></tr><tr><td class = \"rowNumber\" style = \"font-weight: bold; text-align: right;\">2</td><td style = \"text-align: right;\">21</td><td style = \"text-align: right;\">3500</td><td style = \"text-align: left;\">some college but no degree</td></tr><tr><td class = \"rowNumber\" style = \"font-weight: bold; text-align: right;\">3</td><td style = \"text-align: right;\">49</td><td style = \"text-align: right;\">30000</td><td style = \"text-align: left;\">some college but no degree</td></tr><tr><td class = \"rowNumber\" style = \"font-weight: bold; text-align: right;\">4</td><td style = \"text-align: right;\">31</td><td style = \"text-align: right;\">32000</td><td style = \"text-align: left;\">bachelor&apos;s degree</td></tr><tr><td class = \"rowNumber\" style = \"font-weight: bold; text-align: right;\">5</td><td style = \"text-align: right;\">42</td><td style = \"text-align: right;\">89630</td><td style = \"text-align: left;\">doctorate degree</td></tr></tbody></table></div>"
      ],
      "text/latex": [
       "\\begin{tabular}{r|ccc}\n",
       "\t& age & wage & educ\\\\\n",
       "\t\\hline\n",
       "\t& Int64 & Int64 & String\\\\\n",
       "\t\\hline\n",
       "\t1 & 22 & 12000 & some college but no degree \\\\\n",
       "\t2 & 21 & 3500 & some college but no degree \\\\\n",
       "\t3 & 49 & 30000 & some college but no degree \\\\\n",
       "\t4 & 31 & 32000 & bachelor's degree \\\\\n",
       "\t5 & 42 & 89630 & doctorate degree \\\\\n",
       "\\end{tabular}\n"
      ],
      "text/plain": [
       "\u001b[1m5×3 DataFrame\u001b[0m\n",
       "\u001b[1m Row \u001b[0m│\u001b[1m age   \u001b[0m\u001b[1m wage  \u001b[0m\u001b[1m educ                       \u001b[0m\n",
       "     │\u001b[90m Int64 \u001b[0m\u001b[90m Int64 \u001b[0m\u001b[90m String                     \u001b[0m\n",
       "─────┼──────────────────────────────────────────\n",
       "   1 │    22  12000  some college but no degree\n",
       "   2 │    21   3500  some college but no degree\n",
       "   3 │    49  30000  some college but no degree\n",
       "   4 │    31  32000  bachelor's degree\n",
       "   5 │    42  89630  doctorate degree"
      ]
     },
     "execution_count": 5,
     "metadata": {},
     "output_type": "execute_result"
    }
   ],
   "source": [
    "cps = DataFrame(CSV.File(\"c:\\\\data\\\\Bounds\\\\cps.csv\")) # <-change this to the right directory\n",
    "\n",
    "## Cleaning zero wage\n",
    "\n",
    "cps = cps[cps.wage .> 0, :]\n",
    "first(cps,5)"
   ]
  },
  {
   "cell_type": "code",
   "execution_count": 6,
   "metadata": {},
   "outputs": [
    {
     "data": {
      "text/plain": [
       "Dict{String, Int64} with 16 entries:\n",
       "  \"grade 11\"                                            => 11\n",
       "  \"some college but no degree\"                          => 13\n",
       "  \"associate's degree, academic program\"                => 14\n",
       "  \"none or preschool\"                                   => 0\n",
       "  \"doctorate degree\"                                    => 21\n",
       "  \"grade 10\"                                            => 10\n",
       "  \"bachelor's degree\"                                   => 16\n",
       "  \"master's degree\"                                     => 14\n",
       "  \"grades 5 or 6\"                                       => 6\n",
       "  \"grades 7 or 8\"                                       => 8\n",
       "  \"grades 1, 2, 3, or 4\"                                => 4\n",
       "  \"associate's degree, occupational/vocational program\" => 14\n",
       "  \"professional school degree\"                          => 14\n",
       "  \"high school diploma or equivalent\"                   => 12\n",
       "  \"grade 9\"                                             => 9\n",
       "  \"12th grade, no diploma\"                              => 12"
      ]
     },
     "execution_count": 6,
     "metadata": {},
     "output_type": "execute_result"
    }
   ],
   "source": [
    "# Numerical value for education\n",
    "\n",
    "#1.Creating a dictionary\n",
    "\n",
    "educ_dict = Dict( \n",
    "    \"grade 11\" => 11, \n",
    "    \"some college but no degree\" => 13, \n",
    "    \"associate's degree, academic program\" => 14,\n",
    "    \"grade 10\" => 10, \n",
    "    \"grades 7 or 8\" => 8, \n",
    "    \"grades 1, 2, 3, or 4\" => 4, \n",
    "    \"associate's degree, occupational/vocational program\" => 14, \n",
    "    \"high school diploma or equivalent\" => 12, \n",
    "    \"grade 9\" => 9, \n",
    "    \"none or preschool\" => 0, \n",
    "    \"doctorate degree\" => 21,\n",
    "    \"bachelor's degree\" => 16, \n",
    "    \"master's degree\" => 14, \n",
    "    \"grades 5 or 6\" => 6, \n",
    "    \"professional school degree\" => 14, \n",
    "    \"12th grade, no diploma\" => 12\n",
    "    )"
   ]
  },
  {
   "cell_type": "code",
   "execution_count": 7,
   "metadata": {},
   "outputs": [
    {
     "data": {
      "text/html": [
       "<div><div style = \"float: left;\"><span>3×5 DataFrame</span></div><div style = \"clear: both;\"></div></div><div class = \"data-frame\" style = \"overflow-x: scroll;\"><table class = \"data-frame\" style = \"margin-bottom: 6px;\"><thead><tr class = \"header\"><th class = \"rowNumber\" style = \"font-weight: bold; text-align: right;\">Row</th><th style = \"text-align: left;\">age</th><th style = \"text-align: left;\">wage</th><th style = \"text-align: left;\">educ</th><th style = \"text-align: left;\">educ_num</th><th style = \"text-align: left;\">log_wage</th></tr><tr class = \"subheader headerLastRow\"><th class = \"rowNumber\" style = \"font-weight: bold; text-align: right;\"></th><th title = \"Int64\" style = \"text-align: left;\">Int64</th><th title = \"Int64\" style = \"text-align: left;\">Int64</th><th title = \"String\" style = \"text-align: left;\">String</th><th title = \"Int64\" style = \"text-align: left;\">Int64</th><th title = \"Float64\" style = \"text-align: left;\">Float64</th></tr></thead><tbody><tr><td class = \"rowNumber\" style = \"font-weight: bold; text-align: right;\">1</td><td style = \"text-align: right;\">22</td><td style = \"text-align: right;\">12000</td><td style = \"text-align: left;\">some college but no degree</td><td style = \"text-align: right;\">13</td><td style = \"text-align: right;\">9.39266</td></tr><tr><td class = \"rowNumber\" style = \"font-weight: bold; text-align: right;\">2</td><td style = \"text-align: right;\">21</td><td style = \"text-align: right;\">3500</td><td style = \"text-align: left;\">some college but no degree</td><td style = \"text-align: right;\">13</td><td style = \"text-align: right;\">8.16052</td></tr><tr><td class = \"rowNumber\" style = \"font-weight: bold; text-align: right;\">3</td><td style = \"text-align: right;\">49</td><td style = \"text-align: right;\">30000</td><td style = \"text-align: left;\">some college but no degree</td><td style = \"text-align: right;\">13</td><td style = \"text-align: right;\">10.309</td></tr></tbody></table></div>"
      ],
      "text/latex": [
       "\\begin{tabular}{r|ccccc}\n",
       "\t& age & wage & educ & educ\\_num & log\\_wage\\\\\n",
       "\t\\hline\n",
       "\t& Int64 & Int64 & String & Int64 & Float64\\\\\n",
       "\t\\hline\n",
       "\t1 & 22 & 12000 & some college but no degree & 13 & 9.39266 \\\\\n",
       "\t2 & 21 & 3500 & some college but no degree & 13 & 8.16052 \\\\\n",
       "\t3 & 49 & 30000 & some college but no degree & 13 & 10.309 \\\\\n",
       "\\end{tabular}\n"
      ],
      "text/plain": [
       "\u001b[1m3×5 DataFrame\u001b[0m\n",
       "\u001b[1m Row \u001b[0m│\u001b[1m age   \u001b[0m\u001b[1m wage  \u001b[0m\u001b[1m educ                       \u001b[0m\u001b[1m educ_num \u001b[0m\u001b[1m log_wage \u001b[0m\n",
       "     │\u001b[90m Int64 \u001b[0m\u001b[90m Int64 \u001b[0m\u001b[90m String                     \u001b[0m\u001b[90m Int64    \u001b[0m\u001b[90m Float64  \u001b[0m\n",
       "─────┼──────────────────────────────────────────────────────────────\n",
       "   1 │    22  12000  some college but no degree        13   9.39266\n",
       "   2 │    21   3500  some college but no degree        13   8.16052\n",
       "   3 │    49  30000  some college but no degree        13  10.309"
      ]
     },
     "execution_count": 7,
     "metadata": {},
     "output_type": "execute_result"
    }
   ],
   "source": [
    "#2. transforming cps.educ\n",
    "f(x) = educ_dict[x]\n",
    "cps.educ_num = f.(cps.educ)\n",
    "\n",
    "#3. log of wage\n",
    "cps.log_wage = log.(cps.wage)\n",
    "first(cps,3)"
   ]
  },
  {
   "cell_type": "code",
   "execution_count": 8,
   "metadata": {},
   "outputs": [
    {
     "name": "stdout",
     "output_type": "stream",
     "text": [
      "The original data contains 22715 observations and 5 columns."
     ]
    }
   ],
   "source": [
    "Nobs, c = size(cps)\n",
    "print(\"The original data contains \", Nobs, \" observations and \",c, \" columns.\")"
   ]
  },
  {
   "cell_type": "markdown",
   "metadata": {},
   "source": [
    "# Best Linear Predictor "
   ]
  },
  {
   "cell_type": "code",
   "execution_count": 9,
   "metadata": {},
   "outputs": [],
   "source": [
    "#reg(cps, @formula(log_wage ~ educ_num ), Vcov.robust())"
   ]
  },
  {
   "cell_type": "code",
   "execution_count": 10,
   "metadata": {
    "scrolled": true
   },
   "outputs": [],
   "source": [
    "#reg(cps, @formula(log_wage ~ educ_num + age ), Vcov.robust())"
   ]
  },
  {
   "cell_type": "markdown",
   "metadata": {},
   "source": [
    "# Creating Interval Data"
   ]
  },
  {
   "cell_type": "code",
   "execution_count": 11,
   "metadata": {},
   "outputs": [
    {
     "data": {
      "text/plain": [
       "362303.0"
      ]
     },
     "execution_count": 11,
     "metadata": {},
     "output_type": "execute_result"
    }
   ],
   "source": [
    "wage_quantiles = quantile(cps[!,:wage],[0.0, 0.1,0.2,0.3,0.4,0.5,0.6,0.7,0.8,0.9,1.0], sorted=false);\n",
    "#wage_quantiles[1] +=-1\n",
    "wage_quantiles[end] +=1"
   ]
  },
  {
   "cell_type": "code",
   "execution_count": 12,
   "metadata": {},
   "outputs": [
    {
     "data": {
      "text/html": [
       "<div><div style = \"float: left;\"><span>3×9 DataFrame</span></div><div style = \"clear: both;\"></div></div><div class = \"data-frame\" style = \"overflow-x: scroll;\"><table class = \"data-frame\" style = \"margin-bottom: 6px;\"><thead><tr class = \"header\"><th class = \"rowNumber\" style = \"font-weight: bold; text-align: right;\">Row</th><th style = \"text-align: left;\">age</th><th style = \"text-align: left;\">wage</th><th style = \"text-align: left;\">educ</th><th style = \"text-align: left;\">educ_num</th><th style = \"text-align: left;\">log_wage</th><th style = \"text-align: left;\">wage_lower</th><th style = \"text-align: left;\">wage_upper</th><th style = \"text-align: left;\">logwage_lower</th><th style = \"text-align: left;\">logwage_upper</th></tr><tr class = \"subheader headerLastRow\"><th class = \"rowNumber\" style = \"font-weight: bold; text-align: right;\"></th><th title = \"Int64\" style = \"text-align: left;\">Int64</th><th title = \"Int64\" style = \"text-align: left;\">Int64</th><th title = \"String\" style = \"text-align: left;\">String</th><th title = \"Int64\" style = \"text-align: left;\">Int64</th><th title = \"Float64\" style = \"text-align: left;\">Float64</th><th title = \"Float64\" style = \"text-align: left;\">Float64</th><th title = \"Float64\" style = \"text-align: left;\">Float64</th><th title = \"Float64\" style = \"text-align: left;\">Float64</th><th title = \"Float64\" style = \"text-align: left;\">Float64</th></tr></thead><tbody><tr><td class = \"rowNumber\" style = \"font-weight: bold; text-align: right;\">1</td><td style = \"text-align: right;\">22</td><td style = \"text-align: right;\">12000</td><td style = \"text-align: left;\">some college but no degree</td><td style = \"text-align: right;\">13</td><td style = \"text-align: right;\">9.39266</td><td style = \"text-align: right;\">9000.0</td><td style = \"text-align: right;\">15000.0</td><td style = \"text-align: right;\">9.10498</td><td style = \"text-align: right;\">9.61581</td></tr><tr><td class = \"rowNumber\" style = \"font-weight: bold; text-align: right;\">2</td><td style = \"text-align: right;\">21</td><td style = \"text-align: right;\">3500</td><td style = \"text-align: left;\">some college but no degree</td><td style = \"text-align: right;\">13</td><td style = \"text-align: right;\">8.16052</td><td style = \"text-align: right;\">1.0</td><td style = \"text-align: right;\">9000.0</td><td style = \"text-align: right;\">0.0</td><td style = \"text-align: right;\">9.10498</td></tr><tr><td class = \"rowNumber\" style = \"font-weight: bold; text-align: right;\">3</td><td style = \"text-align: right;\">49</td><td style = \"text-align: right;\">30000</td><td style = \"text-align: left;\">some college but no degree</td><td style = \"text-align: right;\">13</td><td style = \"text-align: right;\">10.309</td><td style = \"text-align: right;\">30000.0</td><td style = \"text-align: right;\">36000.0</td><td style = \"text-align: right;\">10.309</td><td style = \"text-align: right;\">10.4913</td></tr></tbody></table></div>"
      ],
      "text/latex": [
       "\\begin{tabular}{r|cccccccc}\n",
       "\t& age & wage & educ & educ\\_num & log\\_wage & wage\\_lower & wage\\_upper & \\\\\n",
       "\t\\hline\n",
       "\t& Int64 & Int64 & String & Int64 & Float64 & Float64 & Float64 & \\\\\n",
       "\t\\hline\n",
       "\t1 & 22 & 12000 & some college but no degree & 13 & 9.39266 & 9000.0 & 15000.0 & $\\dots$ \\\\\n",
       "\t2 & 21 & 3500 & some college but no degree & 13 & 8.16052 & 1.0 & 9000.0 & $\\dots$ \\\\\n",
       "\t3 & 49 & 30000 & some college but no degree & 13 & 10.309 & 30000.0 & 36000.0 & $\\dots$ \\\\\n",
       "\\end{tabular}\n"
      ],
      "text/plain": [
       "\u001b[1m3×9 DataFrame\u001b[0m\n",
       "\u001b[1m Row \u001b[0m│\u001b[1m age   \u001b[0m\u001b[1m wage  \u001b[0m\u001b[1m educ                       \u001b[0m\u001b[1m educ_num \u001b[0m\u001b[1m log_wage \u001b[0m\u001b[1m wage_lowe\u001b[0m ⋯\n",
       "     │\u001b[90m Int64 \u001b[0m\u001b[90m Int64 \u001b[0m\u001b[90m String                     \u001b[0m\u001b[90m Int64    \u001b[0m\u001b[90m Float64  \u001b[0m\u001b[90m Float64  \u001b[0m ⋯\n",
       "─────┼──────────────────────────────────────────────────────────────────────────\n",
       "   1 │    22  12000  some college but no degree        13   9.39266      9000. ⋯\n",
       "   2 │    21   3500  some college but no degree        13   8.16052         1.\n",
       "   3 │    49  30000  some college but no degree        13  10.309       30000.\n",
       "\u001b[36m                                                               4 columns omitted\u001b[0m"
      ]
     },
     "execution_count": 12,
     "metadata": {},
     "output_type": "execute_result"
    }
   ],
   "source": [
    "lower(x) = wage_quantiles[sum(wage_quantiles .<=x)]\n",
    "upper(x) = wage_quantiles[sum(wage_quantiles .<=x)+1]\n",
    "\n",
    "cps.wage_lower = lower.(cps.wage)\n",
    "cps.wage_upper = upper.(cps.wage)\n",
    "\n",
    "cps.logwage_lower = log.(cps.wage_lower)\n",
    "cps.logwage_upper = log.(cps.wage_upper)\n",
    "\n",
    "first(cps,3)"
   ]
  },
  {
   "cell_type": "code",
   "execution_count": 13,
   "metadata": {},
   "outputs": [
    {
     "name": "stdout",
     "output_type": "stream",
     "text": [
      "The complete data contains 22715 observations and 9 columns."
     ]
    }
   ],
   "source": [
    "Nobs, c = size(cps)\n",
    "print(\"The complete data contains \", Nobs, \" observations and \",c, \" columns.\")"
   ]
  },
  {
   "cell_type": "markdown",
   "metadata": {},
   "source": [
    "# Partial Indentification"
   ]
  },
  {
   "cell_type": "markdown",
   "metadata": {},
   "source": [
    "### Reading the module"
   ]
  },
  {
   "cell_type": "code",
   "execution_count": 14,
   "metadata": {},
   "outputs": [
    {
     "data": {
      "text/plain": [
       "Main.setBLP"
      ]
     },
     "execution_count": 14,
     "metadata": {},
     "output_type": "execute_result"
    }
   ],
   "source": [
    "include(\"C:\\\\Users\\\\arie\\\\OneDrive - University of Pittsburgh\\\\Documents\\\\Bounds.jl\\\\Bounds.jl\\\\src\\\\setBLP.jl\")"
   ]
  },
  {
   "cell_type": "code",
   "execution_count": 15,
   "metadata": {},
   "outputs": [],
   "source": [
    "using Main.setBLP"
   ]
  },
  {
   "cell_type": "markdown",
   "metadata": {},
   "source": [
    "## Testing projection function"
   ]
  },
  {
   "cell_type": "code",
   "execution_count": 16,
   "metadata": {},
   "outputs": [
    {
     "data": {
      "text/html": [
       "# 7 methods for generic function <b>projection</b> from \u001b[35mMain.setBLP\u001b[39m:<ul><li> projection(yl::<b>Vector{<:Real}</b>, yu::<b>Vector{<:Real}</b>, x::<b>Vector{<:Real}</b>) in Main.setBLP at <a href=\"https://github.com/ArieBeresteanu/Bounds.jl/tree/305cdaf5d99c1543f12d58e3873c4c96ab132cd9//src/setBLP.jl#L199\" target=\"_blank\">C:\\Users\\arie\\OneDrive - University of Pittsburgh\\Documents\\Bounds.jl\\Bounds.jl\\src\\setBLP.jl:199</a></li> <li> projection(yl::<b>Vector{<:Real}</b>, yu::<b>Vector{<:Real}</b>, x::<b>Matrix{<:Real}</b>) in Main.setBLP at <a href=\"https://github.com/ArieBeresteanu/Bounds.jl/tree/305cdaf5d99c1543f12d58e3873c4c96ab132cd9//src/setBLP.jl#L240\" target=\"_blank\">C:\\Users\\arie\\OneDrive - University of Pittsburgh\\Documents\\Bounds.jl\\Bounds.jl\\src\\setBLP.jl:240</a></li> <li> projection(yl::<b>Vector{<:Real}</b>, yu::<b>Vector{<:Real}</b>, x::<b>Matrix{<:Real}</b>, cord::<b>Int64</b>) in Main.setBLP at <a href=\"https://github.com/ArieBeresteanu/Bounds.jl/tree/305cdaf5d99c1543f12d58e3873c4c96ab132cd9//src/setBLP.jl#L210\" target=\"_blank\">C:\\Users\\arie\\OneDrive - University of Pittsburgh\\Documents\\Bounds.jl\\Bounds.jl\\src\\setBLP.jl:210</a></li> <li> projection(yl::<b>Vector{<:Real}</b>, yu::<b>Vector{<:Real}</b>, x::<b>Matrix{<:Real}</b>, cords::<b>Vector{Int64}</b>) in Main.setBLP at <a href=\"https://github.com/ArieBeresteanu/Bounds.jl/tree/305cdaf5d99c1543f12d58e3873c4c96ab132cd9//src/setBLP.jl#L223\" target=\"_blank\">C:\\Users\\arie\\OneDrive - University of Pittsburgh\\Documents\\Bounds.jl\\Bounds.jl\\src\\setBLP.jl:223</a></li> <li> projection(df::<b>DataFrame</b>, yl::<b>Symbol</b>, yu::<b>Symbol</b>, x::<b>Symbol</b>) in Main.setBLP at <a href=\"https://github.com/ArieBeresteanu/Bounds.jl/tree/305cdaf5d99c1543f12d58e3873c4c96ab132cd9//src/setBLP.jl#L258\" target=\"_blank\">C:\\Users\\arie\\OneDrive - University of Pittsburgh\\Documents\\Bounds.jl\\Bounds.jl\\src\\setBLP.jl:258</a></li> <li> projection(df::<b>DataFrame</b>, yl::<b>Symbol</b>, yu::<b>Symbol</b>, x::<b>Vector{Symbol}</b>) in Main.setBLP at <a href=\"https://github.com/ArieBeresteanu/Bounds.jl/tree/305cdaf5d99c1543f12d58e3873c4c96ab132cd9//src/setBLP.jl#L266\" target=\"_blank\">C:\\Users\\arie\\OneDrive - University of Pittsburgh\\Documents\\Bounds.jl\\Bounds.jl\\src\\setBLP.jl:266</a></li> <li> projection(df::<b>DataFrame</b>, yl::<b>Symbol</b>, yu::<b>Symbol</b>, x::<b>Vector{Symbol}</b>, cord::<b>Int64</b>) in Main.setBLP at <a href=\"https://github.com/ArieBeresteanu/Bounds.jl/tree/305cdaf5d99c1543f12d58e3873c4c96ab132cd9//src/setBLP.jl#L274\" target=\"_blank\">C:\\Users\\arie\\OneDrive - University of Pittsburgh\\Documents\\Bounds.jl\\Bounds.jl\\src\\setBLP.jl:274</a></li> </ul>"
      ],
      "text/plain": [
       "# 7 methods for generic function \"projection\" from \u001b[35mMain.setBLP\u001b[39m:\n",
       " [1] projection(\u001b[90myl\u001b[39m::\u001b[1mVector\u001b[22m\u001b[0m{<:Real}, \u001b[90myu\u001b[39m::\u001b[1mVector\u001b[22m\u001b[0m{<:Real}, \u001b[90mx\u001b[39m::\u001b[1mVector\u001b[22m\u001b[0m{<:Real})\n",
       "\u001b[90m     @\u001b[39m \u001b[90mC:\\Users\\arie\\OneDrive - University of Pittsburgh\\Documents\\Bounds.jl\\Bounds.jl\\src\\\u001b[39m\u001b[90m\u001b[4msetBLP.jl:199\u001b[24m\u001b[39m\n",
       " [2] projection(\u001b[90myl\u001b[39m::\u001b[1mVector\u001b[22m\u001b[0m{<:Real}, \u001b[90myu\u001b[39m::\u001b[1mVector\u001b[22m\u001b[0m{<:Real}, \u001b[90mx\u001b[39m::\u001b[1mMatrix\u001b[22m\u001b[0m{<:Real})\n",
       "\u001b[90m     @\u001b[39m \u001b[90mC:\\Users\\arie\\OneDrive - University of Pittsburgh\\Documents\\Bounds.jl\\Bounds.jl\\src\\\u001b[39m\u001b[90m\u001b[4msetBLP.jl:240\u001b[24m\u001b[39m\n",
       " [3] projection(\u001b[90myl\u001b[39m::\u001b[1mVector\u001b[22m\u001b[0m{<:Real}, \u001b[90myu\u001b[39m::\u001b[1mVector\u001b[22m\u001b[0m{<:Real}, \u001b[90mx\u001b[39m::\u001b[1mMatrix\u001b[22m\u001b[0m{<:Real}, \u001b[90mcord\u001b[39m::\u001b[1mInt64\u001b[22m)\n",
       "\u001b[90m     @\u001b[39m \u001b[90mC:\\Users\\arie\\OneDrive - University of Pittsburgh\\Documents\\Bounds.jl\\Bounds.jl\\src\\\u001b[39m\u001b[90m\u001b[4msetBLP.jl:210\u001b[24m\u001b[39m\n",
       " [4] projection(\u001b[90myl\u001b[39m::\u001b[1mVector\u001b[22m\u001b[0m{<:Real}, \u001b[90myu\u001b[39m::\u001b[1mVector\u001b[22m\u001b[0m{<:Real}, \u001b[90mx\u001b[39m::\u001b[1mMatrix\u001b[22m\u001b[0m{<:Real}, \u001b[90mcords\u001b[39m::\u001b[1mVector\u001b[22m\u001b[0m{Int64})\n",
       "\u001b[90m     @\u001b[39m \u001b[90mC:\\Users\\arie\\OneDrive - University of Pittsburgh\\Documents\\Bounds.jl\\Bounds.jl\\src\\\u001b[39m\u001b[90m\u001b[4msetBLP.jl:223\u001b[24m\u001b[39m\n",
       " [5] projection(\u001b[90mdf\u001b[39m::\u001b[1mDataFrame\u001b[22m, \u001b[90myl\u001b[39m::\u001b[1mSymbol\u001b[22m, \u001b[90myu\u001b[39m::\u001b[1mSymbol\u001b[22m, \u001b[90mx\u001b[39m::\u001b[1mSymbol\u001b[22m)\n",
       "\u001b[90m     @\u001b[39m \u001b[90mC:\\Users\\arie\\OneDrive - University of Pittsburgh\\Documents\\Bounds.jl\\Bounds.jl\\src\\\u001b[39m\u001b[90m\u001b[4msetBLP.jl:258\u001b[24m\u001b[39m\n",
       " [6] projection(\u001b[90mdf\u001b[39m::\u001b[1mDataFrame\u001b[22m, \u001b[90myl\u001b[39m::\u001b[1mSymbol\u001b[22m, \u001b[90myu\u001b[39m::\u001b[1mSymbol\u001b[22m, \u001b[90mx\u001b[39m::\u001b[1mVector\u001b[22m\u001b[0m{Symbol})\n",
       "\u001b[90m     @\u001b[39m \u001b[90mC:\\Users\\arie\\OneDrive - University of Pittsburgh\\Documents\\Bounds.jl\\Bounds.jl\\src\\\u001b[39m\u001b[90m\u001b[4msetBLP.jl:266\u001b[24m\u001b[39m\n",
       " [7] projection(\u001b[90mdf\u001b[39m::\u001b[1mDataFrame\u001b[22m, \u001b[90myl\u001b[39m::\u001b[1mSymbol\u001b[22m, \u001b[90myu\u001b[39m::\u001b[1mSymbol\u001b[22m, \u001b[90mx\u001b[39m::\u001b[1mVector\u001b[22m\u001b[0m{Symbol}, \u001b[90mcord\u001b[39m::\u001b[1mInt64\u001b[22m)\n",
       "\u001b[90m     @\u001b[39m \u001b[90mC:\\Users\\arie\\OneDrive - University of Pittsburgh\\Documents\\Bounds.jl\\Bounds.jl\\src\\\u001b[39m\u001b[90m\u001b[4msetBLP.jl:274\u001b[24m\u001b[39m"
      ]
     },
     "execution_count": 16,
     "metadata": {},
     "output_type": "execute_result"
    }
   ],
   "source": [
    "methods(projection)"
   ]
  },
  {
   "cell_type": "code",
   "execution_count": 17,
   "metadata": {},
   "outputs": [
    {
     "name": "stdout",
     "output_type": "stream",
     "text": [
      "Options:\n",
      "  Number of MC iterations: 2000\n",
      "  Seed: 15217\n",
      "  Random Number Generator: Random.MersenneTwister(0x50fc16363fea45a5d8eb9ed6fb752a6c)\n",
      "  Confidence level: 0.95\n"
     ]
    }
   ],
   "source": [
    "show(default_options)"
   ]
  },
  {
   "cell_type": "markdown",
   "metadata": {},
   "source": [
    "### 1. Testing the vector/matrix functions"
   ]
  },
  {
   "cell_type": "code",
   "execution_count": 18,
   "metadata": {},
   "outputs": [],
   "source": [
    "# Preparing vector and matrix versions of the data\n",
    "\n",
    "yl = cps.logwage_lower;\n",
    "yu = cps.logwage_upper;\n",
    "x1 = cps.age;\n",
    "x2 = cps.educ_num;\n",
    "x = [x1 x2];"
   ]
  },
  {
   "cell_type": "code",
   "execution_count": 19,
   "metadata": {},
   "outputs": [],
   "source": [
    "#projection(yl,yu,x1)"
   ]
  },
  {
   "cell_type": "code",
   "execution_count": 20,
   "metadata": {},
   "outputs": [],
   "source": [
    "#projection(yl,yu,x1)"
   ]
  },
  {
   "cell_type": "code",
   "execution_count": 21,
   "metadata": {},
   "outputs": [
    {
     "data": {
      "text/plain": [
       "1×2 Matrix{Float64}:\n",
       " -0.00905178  0.144324"
      ]
     },
     "execution_count": 21,
     "metadata": {},
     "output_type": "execute_result"
    }
   ],
   "source": [
    "projection(yl,yu,x,1)"
   ]
  },
  {
   "cell_type": "code",
   "execution_count": 22,
   "metadata": {},
   "outputs": [],
   "source": [
    "#projection(yl,yu,x,2)"
   ]
  },
  {
   "cell_type": "code",
   "execution_count": 23,
   "metadata": {},
   "outputs": [],
   "source": [
    "#projection(yl,yu,x)"
   ]
  },
  {
   "cell_type": "markdown",
   "metadata": {},
   "source": [
    "### 2. Testing the Dataframe version of the functions"
   ]
  },
  {
   "cell_type": "code",
   "execution_count": 24,
   "metadata": {},
   "outputs": [
    {
     "data": {
      "text/plain": [
       "1×2 Matrix{Float64}:\n",
       " -0.00488786  0.14866"
      ]
     },
     "execution_count": 24,
     "metadata": {},
     "output_type": "execute_result"
    }
   ],
   "source": [
    "projection(cps,:logwage_lower,:logwage_upper,:age)"
   ]
  },
  {
   "cell_type": "code",
   "execution_count": 25,
   "metadata": {},
   "outputs": [],
   "source": [
    "#projection(cps,:logwage_lower,:logwage_upper,:educ_num)"
   ]
  },
  {
   "cell_type": "code",
   "execution_count": 26,
   "metadata": {},
   "outputs": [],
   "source": [
    "#projection(cps,:logwage_lower,:logwage_upper,[:age,:educ_num],1)"
   ]
  },
  {
   "cell_type": "code",
   "execution_count": 27,
   "metadata": {},
   "outputs": [],
   "source": [
    "#projection(cps,:logwage_lower,:logwage_upper,[:age,:educ_num],2)"
   ]
  },
  {
   "cell_type": "code",
   "execution_count": 28,
   "metadata": {},
   "outputs": [],
   "source": [
    "#projection(cps,:logwage_lower,:logwage_upper,[:age,:educ_num])"
   ]
  },
  {
   "cell_type": "markdown",
   "metadata": {},
   "source": [
    "## Testing oneDproj function"
   ]
  },
  {
   "cell_type": "code",
   "execution_count": 29,
   "metadata": {},
   "outputs": [
    {
     "name": "stdout",
     "output_type": "stream",
     "text": [
      "Results: \n",
      "  Null: [0.0, 0.15]\n",
      "  Bound: [-0.0049, 0.1487]\n",
      "  Hausdorff based test: \n",
      "    Test Stat: 0.7367\n",
      "    Critical Value: 0.7514\n",
      "    Confidence Interval: [-0.0099, 0.1536]\n",
      "  directed Hausdorff test: \n",
      "    Test Stat: 0.202\n",
      "    Critical Value: 0.6243\n",
      "    Confidence Interval: [-0.009, 0.1528]\n"
     ]
    }
   ],
   "source": [
    "res = oneDproj(yl,yu,float.(x1);CI=true,H0=[0, 0.15]);\n",
    "show(res)"
   ]
  },
  {
   "cell_type": "code",
   "execution_count": 30,
   "metadata": {},
   "outputs": [
    {
     "name": "stdout",
     "output_type": "stream",
     "text": [
      "Results: \n",
      "  Null: [0.1, 0.15]\n",
      "  Bound: [-0.0049, 0.1487]\n",
      "  Hausdorff based test: \n",
      "    Test Stat: 15.8082\n",
      "    Critical Value: 0.7119\n",
      "    Confidence Interval: [-0.0096, 0.1534]\n",
      "  directed Hausdorff test: \n",
      "    Test Stat: 0.202\n",
      "    Critical Value: 0.6032\n",
      "    Confidence Interval: [-0.0089, 0.1527]\n"
     ]
    }
   ],
   "source": [
    "res = oneDproj(yl,yu,float.(x1);CI=true,H0=[0.1,0.15]);\n",
    "show(res)"
   ]
  },
  {
   "cell_type": "code",
   "execution_count": 31,
   "metadata": {},
   "outputs": [
    {
     "name": "stdout",
     "output_type": "stream",
     "text": [
      "Results: \n",
      "  Null: [0.0, 0.1]\n",
      "  Bound: [-0.0049, 0.1487]\n",
      "  Hausdorff based test: \n",
      "    Test Stat: 7.3337\n",
      "    Critical Value: 0.7187\n",
      "    Confidence Interval: [-0.0097, 0.1534]\n",
      "  directed Hausdorff test: \n",
      "    Test Stat: 0.0\n",
      "    Critical Value: 0.6366\n",
      "    Confidence Interval: [-0.0091, 0.1529]\n"
     ]
    }
   ],
   "source": [
    "res = oneDproj(yl,yu,float.(x1);CI=true,H0=[0.0,0.1]);\n",
    "show(res)"
   ]
  },
  {
   "cell_type": "code",
   "execution_count": 32,
   "metadata": {},
   "outputs": [
    {
     "name": "stdout",
     "output_type": "stream",
     "text": [
      "Results: \n",
      "  Null: [-0.1, 0.15]\n",
      "  Bound: [-0.0049, 0.1487]\n",
      "  Hausdorff based test: \n",
      "    Test Stat: 14.3348\n",
      "    Critical Value: 0.724\n",
      "    Confidence Interval: [-0.0097, 0.1535]\n",
      "  directed Hausdorff test: \n",
      "    Test Stat: 14.3348\n",
      "    Critical Value: 0.6247\n",
      "    Confidence Interval: [-0.009, 0.1528]\n"
     ]
    }
   ],
   "source": [
    "res = oneDproj(yl,yu,float.(x1);CI=true,H0=[-0.1,0.15]);\n",
    "show(res)"
   ]
  },
  {
   "cell_type": "code",
   "execution_count": 33,
   "metadata": {},
   "outputs": [
    {
     "data": {
      "text/plain": [
       "Results([-0.004887858329799178, 0.14865963017399053], nothing, nothing, nothing)"
      ]
     },
     "execution_count": 33,
     "metadata": {},
     "output_type": "execute_result"
    }
   ],
   "source": [
    "res = oneDproj(yl,yu,float.(x1);CI=false,H0=nothing)"
   ]
  },
  {
   "cell_type": "code",
   "execution_count": 34,
   "metadata": {},
   "outputs": [
    {
     "data": {
      "text/plain": [
       "Results([-0.004887858329799178, 0.14865963017399053], nothing, TestResults([-0.00952979500414291, 0.15330156684833426], 0.6996093130118718, nothing), TestResults([-0.008881530832729518, 0.15265330267692087], 0.6019062025581184, nothing))"
      ]
     },
     "execution_count": 34,
     "metadata": {},
     "output_type": "execute_result"
    }
   ],
   "source": [
    "res = oneDproj(yl,yu,real.(x1))"
   ]
  },
  {
   "cell_type": "code",
   "execution_count": 35,
   "metadata": {},
   "outputs": [
    {
     "data": {
      "text/plain": [
       "Results([0.001786042221944126, 0.3685793555817362], nothing, TestResults([-0.013974350685624555, 0.3843397484893049], 2.375327030160348, nothing), TestResults([-0.011306668277929135, 0.3816720660816095], 1.973267375426797, nothing))"
      ]
     },
     "execution_count": 35,
     "metadata": {},
     "output_type": "execute_result"
    }
   ],
   "source": [
    "res = oneDproj(cps,:logwage_lower,:logwage_upper,:educ_num)"
   ]
  },
  {
   "cell_type": "markdown",
   "metadata": {},
   "source": [
    "### Plotting"
   ]
  },
  {
   "cell_type": "code",
   "execution_count": 36,
   "metadata": {},
   "outputs": [
    {
     "data": {
      "image/png": "[encoded data removed]",
      "image/svg+xml": [
       "<?xml version=\"1.0\" encoding=\"utf-8\"?>\n",
       "<svg xmlns=\"http://www.w3.org/2000/svg\" xmlns:xlink=\"http://www.w3.org/1999/xlink\" width=\"600\" height=\"120\" viewBox=\"0 0 2400 480\">\n",
       "<defs>\n",
       "  <clipPath id=\"clip900\">\n",
       "    <rect x=\"0\" y=\"0\" width=\"2400\" height=\"480\"/>\n",
       "  </clipPath>\n",
       "</defs>\n",
       "<path clip-path=\"url(#clip900)\" d=\"M0 480 L2400 480 L2400 0 L0 0  Z\" fill=\"#ffffff\" fill-rule=\"evenodd\" fill-opacity=\"1\"/>\n",
       "<defs>\n",
       "  <clipPath id=\"clip901\">\n",
       "    <rect x=\"480\" y=\"0\" width=\"1681\" height=\"480\"/>\n",
       "  </clipPath>\n",
       "</defs>\n",
       "<path clip-path=\"url(#clip900)\" d=\"M223.45 401.84 L2352.76 401.84 L2352.76 47.2441 L223.45 47.2441  Z\" fill=\"#ffffff\" fill-rule=\"evenodd\" fill-opacity=\"1\"/>\n",
       "<defs>\n",
       "  <clipPath id=\"clip902\">\n",
       "    <rect x=\"223\" y=\"47\" width=\"2130\" height=\"356\"/>\n",
       "  </clipPath>\n",
       "</defs>\n",
       "<polyline clip-path=\"url(#clip902)\" style=\"stroke:#000000; stroke-linecap:round; stroke-linejoin:round; stroke-width:2; stroke-opacity:0.1; fill:none\" points=\"463.145,401.84 463.145,47.2441 \"/>\n",
       "<polyline clip-path=\"url(#clip902)\" style=\"stroke:#000000; stroke-linecap:round; stroke-linejoin:round; stroke-width:2; stroke-opacity:0.1; fill:none\" points=\"908.628,401.84 908.628,47.2441 \"/>\n",
       "<polyline clip-path=\"url(#clip902)\" style=\"stroke:#000000; stroke-linecap:round; stroke-linejoin:round; stroke-width:2; stroke-opacity:0.1; fill:none\" points=\"1354.11,401.84 1354.11,47.2441 \"/>\n",
       "<polyline clip-path=\"url(#clip902)\" style=\"stroke:#000000; stroke-linecap:round; stroke-linejoin:round; stroke-width:2; stroke-opacity:0.1; fill:none\" points=\"1799.59,401.84 1799.59,47.2441 \"/>\n",
       "<polyline clip-path=\"url(#clip902)\" style=\"stroke:#000000; stroke-linecap:round; stroke-linejoin:round; stroke-width:2; stroke-opacity:0.1; fill:none\" points=\"2245.08,401.84 2245.08,47.2441 \"/>\n",
       "<polyline clip-path=\"url(#clip900)\" style=\"stroke:#000000; stroke-linecap:round; stroke-linejoin:round; stroke-width:4; stroke-opacity:1; fill:none\" points=\"223.45,401.84 2352.76,401.84 \"/>\n",
       "<polyline clip-path=\"url(#clip900)\" style=\"stroke:#000000; stroke-linecap:round; stroke-linejoin:round; stroke-width:4; stroke-opacity:1; fill:none\" points=\"463.145,401.84 463.145,382.942 \"/>\n",
       "<polyline clip-path=\"url(#clip900)\" style=\"stroke:#000000; stroke-linecap:round; stroke-linejoin:round; stroke-width:4; stroke-opacity:1; fill:none\" points=\"908.628,401.84 908.628,382.942 \"/>\n",
       "<polyline clip-path=\"url(#clip900)\" style=\"stroke:#000000; stroke-linecap:round; stroke-linejoin:round; stroke-width:4; stroke-opacity:1; fill:none\" points=\"1354.11,401.84 1354.11,382.942 \"/>\n",
       "<polyline clip-path=\"url(#clip900)\" style=\"stroke:#000000; stroke-linecap:round; stroke-linejoin:round; stroke-width:4; stroke-opacity:1; fill:none\" points=\"1799.59,401.84 1799.59,382.942 \"/>\n",
       "<polyline clip-path=\"url(#clip900)\" style=\"stroke:#000000; stroke-linecap:round; stroke-linejoin:round; stroke-width:4; stroke-opacity:1; fill:none\" points=\"2245.08,401.84 2245.08,382.942 \"/>\n",
       "<path clip-path=\"url(#clip900)\" d=\"M440.53 432.759 Q436.919 432.759 435.09 436.323 Q433.284 439.865 433.284 446.995 Q433.284 454.101 435.09 457.666 Q436.919 461.207 440.53 461.207 Q444.164 461.207 445.969 457.666 Q447.798 454.101 447.798 446.995 Q447.798 439.865 445.969 436.323 Q444.164 432.759 440.53 432.759 M440.53 429.055 Q446.34 429.055 449.395 433.661 Q452.474 438.245 452.474 446.995 Q452.474 455.721 449.395 460.328 Q446.34 464.911 440.53 464.911 Q434.72 464.911 431.641 460.328 Q428.585 455.721 428.585 446.995 Q428.585 438.245 431.641 433.661 Q434.72 429.055 440.53 429.055 Z\" fill=\"#000000\" fill-rule=\"nonzero\" fill-opacity=\"1\" /><path clip-path=\"url(#clip900)\" d=\"M460.692 458.36 L465.576 458.36 L465.576 464.24 L460.692 464.24 L460.692 458.36 Z\" fill=\"#000000\" fill-rule=\"nonzero\" fill-opacity=\"1\" /><path clip-path=\"url(#clip900)\" d=\"M485.761 432.759 Q482.15 432.759 480.321 436.323 Q478.516 439.865 478.516 446.995 Q478.516 454.101 480.321 457.666 Q482.15 461.207 485.761 461.207 Q489.395 461.207 491.201 457.666 Q493.029 454.101 493.029 446.995 Q493.029 439.865 491.201 436.323 Q489.395 432.759 485.761 432.759 M485.761 429.055 Q491.571 429.055 494.627 433.661 Q497.705 438.245 497.705 446.995 Q497.705 455.721 494.627 460.328 Q491.571 464.911 485.761 464.911 Q479.951 464.911 476.872 460.328 Q473.817 455.721 473.817 446.995 Q473.817 438.245 476.872 433.661 Q479.951 429.055 485.761 429.055 Z\" fill=\"#000000\" fill-rule=\"nonzero\" fill-opacity=\"1\" /><path clip-path=\"url(#clip900)\" d=\"M886.626 432.759 Q883.015 432.759 881.186 436.323 Q879.381 439.865 879.381 446.995 Q879.381 454.101 881.186 457.666 Q883.015 461.207 886.626 461.207 Q890.26 461.207 892.066 457.666 Q893.895 454.101 893.895 446.995 Q893.895 439.865 892.066 436.323 Q890.26 432.759 886.626 432.759 M886.626 429.055 Q892.436 429.055 895.492 433.661 Q898.571 438.245 898.571 446.995 Q898.571 455.721 895.492 460.328 Q892.436 464.911 886.626 464.911 Q880.816 464.911 877.737 460.328 Q874.682 455.721 874.682 446.995 Q874.682 438.245 877.737 433.661 Q880.816 429.055 886.626 429.055 Z\" fill=\"#000000\" fill-rule=\"nonzero\" fill-opacity=\"1\" /><path clip-path=\"url(#clip900)\" d=\"M906.788 458.36 L911.672 458.36 L911.672 464.24 L906.788 464.24 L906.788 458.36 Z\" fill=\"#000000\" fill-rule=\"nonzero\" fill-opacity=\"1\" /><path clip-path=\"url(#clip900)\" d=\"M922.668 460.305 L930.306 460.305 L930.306 433.939 L921.996 435.606 L921.996 431.347 L930.26 429.68 L934.936 429.68 L934.936 460.305 L942.575 460.305 L942.575 464.24 L922.668 464.24 L922.668 460.305 Z\" fill=\"#000000\" fill-rule=\"nonzero\" fill-opacity=\"1\" /><path clip-path=\"url(#clip900)\" d=\"M1332.29 432.759 Q1328.68 432.759 1326.85 436.323 Q1325.05 439.865 1325.05 446.995 Q1325.05 454.101 1326.85 457.666 Q1328.68 461.207 1332.29 461.207 Q1335.93 461.207 1337.73 457.666 Q1339.56 454.101 1339.56 446.995 Q1339.56 439.865 1337.73 436.323 Q1335.93 432.759 1332.29 432.759 M1332.29 429.055 Q1338.1 429.055 1341.16 433.661 Q1344.24 438.245 1344.24 446.995 Q1344.24 455.721 1341.16 460.328 Q1338.1 464.911 1332.29 464.911 Q1326.48 464.911 1323.41 460.328 Q1320.35 455.721 1320.35 446.995 Q1320.35 438.245 1323.41 433.661 Q1326.48 429.055 1332.29 429.055 Z\" fill=\"#000000\" fill-rule=\"nonzero\" fill-opacity=\"1\" /><path clip-path=\"url(#clip900)\" d=\"M1352.46 458.36 L1357.34 458.36 L1357.34 464.24 L1352.46 464.24 L1352.46 458.36 Z\" fill=\"#000000\" fill-rule=\"nonzero\" fill-opacity=\"1\" /><path clip-path=\"url(#clip900)\" d=\"M1371.55 460.305 L1387.87 460.305 L1387.87 464.24 L1365.93 464.24 L1365.93 460.305 Q1368.59 457.55 1373.17 452.92 Q1377.78 448.268 1378.96 446.925 Q1381.21 444.402 1382.09 442.666 Q1382.99 440.907 1382.99 439.217 Q1382.99 436.462 1381.04 434.726 Q1379.12 432.99 1376.02 432.99 Q1373.82 432.99 1371.37 433.754 Q1368.94 434.518 1366.16 436.069 L1366.16 431.347 Q1368.98 430.212 1371.44 429.634 Q1373.89 429.055 1375.93 429.055 Q1381.3 429.055 1384.49 431.74 Q1387.69 434.425 1387.69 438.916 Q1387.69 441.046 1386.88 442.967 Q1386.09 444.865 1383.98 447.458 Q1383.41 448.129 1380.3 451.346 Q1377.2 454.541 1371.55 460.305 Z\" fill=\"#000000\" fill-rule=\"nonzero\" fill-opacity=\"1\" /><path clip-path=\"url(#clip900)\" d=\"M1777.3 432.759 Q1773.69 432.759 1771.86 436.323 Q1770.06 439.865 1770.06 446.995 Q1770.06 454.101 1771.86 457.666 Q1773.69 461.207 1777.3 461.207 Q1780.94 461.207 1782.74 457.666 Q1784.57 454.101 1784.57 446.995 Q1784.57 439.865 1782.74 436.323 Q1780.94 432.759 1777.3 432.759 M1777.3 429.055 Q1783.11 429.055 1786.17 433.661 Q1789.25 438.245 1789.25 446.995 Q1789.25 455.721 1786.17 460.328 Q1783.11 464.911 1777.3 464.911 Q1771.49 464.911 1768.41 460.328 Q1765.36 455.721 1765.36 446.995 Q1765.36 438.245 1768.41 433.661 Q1771.49 429.055 1777.3 429.055 Z\" fill=\"#000000\" fill-rule=\"nonzero\" fill-opacity=\"1\" /><path clip-path=\"url(#clip900)\" d=\"M1797.46 458.36 L1802.35 458.36 L1802.35 464.24 L1797.46 464.24 L1797.46 458.36 Z\" fill=\"#000000\" fill-rule=\"nonzero\" fill-opacity=\"1\" /><path clip-path=\"url(#clip900)\" d=\"M1826.7 445.606 Q1830.06 446.323 1831.93 448.592 Q1833.83 450.86 1833.83 454.194 Q1833.83 459.309 1830.31 462.11 Q1826.79 464.911 1820.31 464.911 Q1818.14 464.911 1815.82 464.471 Q1813.53 464.055 1811.08 463.198 L1811.08 458.684 Q1813.02 459.819 1815.34 460.397 Q1817.65 460.976 1820.17 460.976 Q1824.57 460.976 1826.86 459.24 Q1829.18 457.504 1829.18 454.194 Q1829.18 451.138 1827.02 449.425 Q1824.9 447.689 1821.08 447.689 L1817.05 447.689 L1817.05 443.846 L1821.26 443.846 Q1824.71 443.846 1826.54 442.481 Q1828.37 441.092 1828.37 438.499 Q1828.37 435.837 1826.47 434.425 Q1824.59 432.99 1821.08 432.99 Q1819.15 432.99 1816.96 433.407 Q1814.76 433.823 1812.12 434.703 L1812.12 430.536 Q1814.78 429.796 1817.09 429.425 Q1819.43 429.055 1821.49 429.055 Q1826.82 429.055 1829.92 431.485 Q1833.02 433.893 1833.02 438.013 Q1833.02 440.884 1831.38 442.874 Q1829.73 444.842 1826.7 445.606 Z\" fill=\"#000000\" fill-rule=\"nonzero\" fill-opacity=\"1\" /><path clip-path=\"url(#clip900)\" d=\"M2222.22 432.759 Q2218.61 432.759 2216.78 436.323 Q2214.97 439.865 2214.97 446.995 Q2214.97 454.101 2216.78 457.666 Q2218.61 461.207 2222.22 461.207 Q2225.85 461.207 2227.66 457.666 Q2229.49 454.101 2229.49 446.995 Q2229.49 439.865 2227.66 436.323 Q2225.85 432.759 2222.22 432.759 M2222.22 429.055 Q2228.03 429.055 2231.08 433.661 Q2234.16 438.245 2234.16 446.995 Q2234.16 455.721 2231.08 460.328 Q2228.03 464.911 2222.22 464.911 Q2216.41 464.911 2213.33 460.328 Q2210.27 455.721 2210.27 446.995 Q2210.27 438.245 2213.33 433.661 Q2216.41 429.055 2222.22 429.055 Z\" fill=\"#000000\" fill-rule=\"nonzero\" fill-opacity=\"1\" /><path clip-path=\"url(#clip900)\" d=\"M2242.38 458.36 L2247.26 458.36 L2247.26 464.24 L2242.38 464.24 L2242.38 458.36 Z\" fill=\"#000000\" fill-rule=\"nonzero\" fill-opacity=\"1\" /><path clip-path=\"url(#clip900)\" d=\"M2270.3 433.754 L2258.49 452.203 L2270.3 452.203 L2270.3 433.754 M2269.07 429.68 L2274.95 429.68 L2274.95 452.203 L2279.88 452.203 L2279.88 456.092 L2274.95 456.092 L2274.95 464.24 L2270.3 464.24 L2270.3 456.092 L2254.7 456.092 L2254.7 451.578 L2269.07 429.68 Z\" fill=\"#000000\" fill-rule=\"nonzero\" fill-opacity=\"1\" /><polyline clip-path=\"url(#clip902)\" style=\"stroke:#000000; stroke-linecap:round; stroke-linejoin:round; stroke-width:2; stroke-opacity:0.1; fill:none\" points=\"223.45,357.515 2352.76,357.515 \"/>\n",
       "<polyline clip-path=\"url(#clip902)\" style=\"stroke:#000000; stroke-linecap:round; stroke-linejoin:round; stroke-width:2; stroke-opacity:0.1; fill:none\" points=\"223.45,313.191 2352.76,313.191 \"/>\n",
       "<polyline clip-path=\"url(#clip902)\" style=\"stroke:#000000; stroke-linecap:round; stroke-linejoin:round; stroke-width:2; stroke-opacity:0.1; fill:none\" points=\"223.45,268.866 2352.76,268.866 \"/>\n",
       "<polyline clip-path=\"url(#clip902)\" style=\"stroke:#000000; stroke-linecap:round; stroke-linejoin:round; stroke-width:2; stroke-opacity:0.1; fill:none\" points=\"223.45,224.542 2352.76,224.542 \"/>\n",
       "<polyline clip-path=\"url(#clip902)\" style=\"stroke:#000000; stroke-linecap:round; stroke-linejoin:round; stroke-width:2; stroke-opacity:0.1; fill:none\" points=\"223.45,180.218 2352.76,180.218 \"/>\n",
       "<polyline clip-path=\"url(#clip902)\" style=\"stroke:#000000; stroke-linecap:round; stroke-linejoin:round; stroke-width:2; stroke-opacity:0.1; fill:none\" points=\"223.45,135.893 2352.76,135.893 \"/>\n",
       "<polyline clip-path=\"url(#clip902)\" style=\"stroke:#000000; stroke-linecap:round; stroke-linejoin:round; stroke-width:2; stroke-opacity:0.1; fill:none\" points=\"223.45,91.5686 2352.76,91.5686 \"/>\n",
       "<line clip-path=\"url(#clip902)\" x1=\"400.892\" y1=\"308.866\" x2=\"400.892\" y2=\"228.866\" style=\"stroke:#ff0000; stroke-width:3.84; stroke-opacity:1\"/>\n",
       "<line clip-path=\"url(#clip902)\" x1=\"471.102\" y1=\"220.218\" x2=\"471.102\" y2=\"140.218\" style=\"stroke:#0000ff; stroke-width:3.84; stroke-opacity:1\"/>\n",
       "<line clip-path=\"url(#clip902)\" x1=\"2105.1\" y1=\"220.218\" x2=\"2105.1\" y2=\"140.218\" style=\"stroke:#0000ff; stroke-width:3.84; stroke-opacity:1\"/>\n",
       "<line clip-path=\"url(#clip902)\" x1=\"2175.31\" y1=\"308.866\" x2=\"2175.31\" y2=\"228.866\" style=\"stroke:#ff0000; stroke-width:3.84; stroke-opacity:1\"/>\n",
       "<polyline clip-path=\"url(#clip902)\" style=\"stroke:#0000ff; stroke-linecap:round; stroke-linejoin:round; stroke-width:4; stroke-opacity:1; fill:none\" points=\"471.102,180.218 2105.1,180.218 \"/>\n",
       "<polyline clip-path=\"url(#clip902)\" style=\"stroke:#ff0000; stroke-linecap:round; stroke-linejoin:round; stroke-width:4; stroke-opacity:1; fill:none\" points=\"400.892,268.866 2175.31,268.866 \"/>\n",
       "<path clip-path=\"url(#clip900)\" d=\"M352.431 66.7163 Q346.111 66.7163 342.911 72.9547 Q339.751 79.1525 339.751 91.6293 Q339.751 104.066 342.911 110.304 Q346.111 116.502 352.431 116.502 Q358.79 116.502 361.95 110.304 Q365.15 104.066 365.15 91.6293 Q365.15 79.1525 361.95 72.9547 Q358.79 66.7163 352.431 66.7163 M352.431 60.2348 Q362.598 60.2348 367.946 68.2961 Q373.333 76.3169 373.333 91.6293 Q373.333 106.901 367.946 114.963 Q362.598 122.983 352.431 122.983 Q342.263 122.983 336.875 114.963 Q331.528 106.901 331.528 91.6293 Q331.528 76.3169 336.875 68.2961 Q342.263 60.2348 352.431 60.2348 Z\" fill=\"#0000ff\" fill-rule=\"nonzero\" fill-opacity=\"1\" /><path clip-path=\"url(#clip900)\" d=\"M387.714 111.519 L396.261 111.519 L396.261 121.809 L387.714 121.809 L387.714 111.519 Z\" fill=\"#0000ff\" fill-rule=\"nonzero\" fill-opacity=\"1\" /><path clip-path=\"url(#clip900)\" d=\"M431.585 66.7163 Q425.266 66.7163 422.066 72.9547 Q418.906 79.1525 418.906 91.6293 Q418.906 104.066 422.066 110.304 Q425.266 116.502 431.585 116.502 Q437.945 116.502 441.105 110.304 Q444.305 104.066 444.305 91.6293 Q444.305 79.1525 441.105 72.9547 Q437.945 66.7163 431.585 66.7163 M431.585 60.2348 Q441.753 60.2348 447.1 68.2961 Q452.488 76.3169 452.488 91.6293 Q452.488 106.901 447.1 114.963 Q441.753 122.983 431.585 122.983 Q421.417 122.983 416.03 114.963 Q410.683 106.901 410.683 91.6293 Q410.683 76.3169 416.03 68.2961 Q421.417 60.2348 431.585 60.2348 Z\" fill=\"#0000ff\" fill-rule=\"nonzero\" fill-opacity=\"1\" /><path clip-path=\"url(#clip900)\" d=\"M484.369 66.7163 Q478.049 66.7163 474.849 72.9547 Q471.689 79.1525 471.689 91.6293 Q471.689 104.066 474.849 110.304 Q478.049 116.502 484.369 116.502 Q490.728 116.502 493.888 110.304 Q497.088 104.066 497.088 91.6293 Q497.088 79.1525 493.888 72.9547 Q490.728 66.7163 484.369 66.7163 M484.369 60.2348 Q494.536 60.2348 499.883 68.2961 Q505.271 76.3169 505.271 91.6293 Q505.271 106.901 499.883 114.963 Q494.536 122.983 484.369 122.983 Q474.201 122.983 468.813 114.963 Q463.466 106.901 463.466 91.6293 Q463.466 76.3169 468.813 68.2961 Q474.201 60.2348 484.369 60.2348 Z\" fill=\"#0000ff\" fill-rule=\"nonzero\" fill-opacity=\"1\" /><path clip-path=\"url(#clip900)\" d=\"M521.07 114.922 L534.438 114.922 L534.438 68.7822 L519.895 71.6989 L519.895 64.2452 L534.357 61.3286 L542.539 61.3286 L542.539 114.922 L555.907 114.922 L555.907 121.809 L521.07 121.809 L521.07 114.922 Z\" fill=\"#0000ff\" fill-rule=\"nonzero\" fill-opacity=\"1\" /><path clip-path=\"url(#clip900)\" d=\"M589.935 93.0877 Q584.102 93.0877 580.74 96.2069 Q577.418 99.326 577.418 104.795 Q577.418 110.263 580.74 113.383 Q584.102 116.502 589.935 116.502 Q595.768 116.502 599.131 113.383 Q602.493 110.223 602.493 104.795 Q602.493 99.326 599.131 96.2069 Q595.809 93.0877 589.935 93.0877 M581.752 89.6039 Q576.486 88.3076 573.529 84.7023 Q570.612 81.097 570.612 75.9118 Q570.612 68.6607 575.757 64.4478 Q580.942 60.2348 589.935 60.2348 Q598.969 60.2348 604.113 64.4478 Q609.258 68.6607 609.258 75.9118 Q609.258 81.097 606.301 84.7023 Q603.384 88.3076 598.158 89.6039 Q604.073 90.9812 607.354 94.9916 Q610.676 99.002 610.676 104.795 Q610.676 113.585 605.288 118.284 Q599.941 122.983 589.935 122.983 Q579.929 122.983 574.542 118.284 Q569.194 113.585 569.194 104.795 Q569.194 99.002 572.516 94.9916 Q575.838 90.9812 581.752 89.6039 M578.755 76.6815 Q578.755 81.3805 581.671 84.0136 Q584.628 86.6467 589.935 86.6467 Q595.201 86.6467 598.158 84.0136 Q601.156 81.3805 601.156 76.6815 Q601.156 71.9824 598.158 69.3494 Q595.201 66.7163 589.935 66.7163 Q584.628 66.7163 581.671 69.3494 Q578.755 71.9824 578.755 76.6815 Z\" fill=\"#0000ff\" fill-rule=\"nonzero\" fill-opacity=\"1\" /><path clip-path=\"url(#clip900)\" d=\"M1986.21 66.7163 Q1979.89 66.7163 1976.69 72.9547 Q1973.53 79.1525 1973.53 91.6293 Q1973.53 104.066 1976.69 110.304 Q1979.89 116.502 1986.21 116.502 Q1992.57 116.502 1995.73 110.304 Q1998.93 104.066 1998.93 91.6293 Q1998.93 79.1525 1995.73 72.9547 Q1992.57 66.7163 1986.21 66.7163 M1986.21 60.2348 Q1996.38 60.2348 2001.72 68.2961 Q2007.11 76.3169 2007.11 91.6293 Q2007.11 106.901 2001.72 114.963 Q1996.38 122.983 1986.21 122.983 Q1976.04 122.983 1970.65 114.963 Q1965.31 106.901 1965.31 91.6293 Q1965.31 76.3169 1970.65 68.2961 Q1976.04 60.2348 1986.21 60.2348 Z\" fill=\"#0000ff\" fill-rule=\"nonzero\" fill-opacity=\"1\" /><path clip-path=\"url(#clip900)\" d=\"M2021.49 111.519 L2030.04 111.519 L2030.04 121.809 L2021.49 121.809 L2021.49 111.519 Z\" fill=\"#0000ff\" fill-rule=\"nonzero\" fill-opacity=\"1\" /><path clip-path=\"url(#clip900)\" d=\"M2072.66 89.1988 Q2078.53 90.4546 2081.81 94.4245 Q2085.13 98.3943 2085.13 104.228 Q2085.13 113.18 2078.98 118.082 Q2072.82 122.983 2061.48 122.983 Q2057.67 122.983 2053.62 122.214 Q2049.61 121.484 2045.31 119.986 L2045.31 112.086 Q2048.72 114.071 2052.77 115.084 Q2056.82 116.097 2061.23 116.097 Q2068.93 116.097 2072.94 113.059 Q2076.99 110.02 2076.99 104.228 Q2076.99 98.8804 2073.22 95.8828 Q2069.5 92.8446 2062.81 92.8446 L2055.76 92.8446 L2055.76 86.1201 L2063.14 86.1201 Q2069.17 86.1201 2072.37 83.7301 Q2075.57 81.2995 2075.57 76.7625 Q2075.57 72.104 2072.25 69.6329 Q2068.97 67.1214 2062.81 67.1214 Q2059.45 67.1214 2055.6 67.8505 Q2051.75 68.5797 2047.14 70.119 L2047.14 62.8274 Q2051.79 61.5311 2055.84 60.883 Q2059.94 60.2348 2063.54 60.2348 Q2072.86 60.2348 2078.29 64.4883 Q2083.72 68.7012 2083.72 75.9118 Q2083.72 80.9349 2080.84 84.4187 Q2077.96 87.862 2072.66 89.1988 Z\" fill=\"#0000ff\" fill-rule=\"nonzero\" fill-opacity=\"1\" /><path clip-path=\"url(#clip900)\" d=\"M2119.16 88.3076 Q2113.65 88.3076 2110.41 92.0749 Q2107.21 95.8423 2107.21 102.405 Q2107.21 108.927 2110.41 112.735 Q2113.65 116.502 2119.16 116.502 Q2124.67 116.502 2127.87 112.735 Q2131.11 108.927 2131.11 102.405 Q2131.11 95.8423 2127.87 92.0749 Q2124.67 88.3076 2119.16 88.3076 M2135.4 62.6654 L2135.4 70.119 Q2132.33 68.6607 2129.17 67.891 Q2126.05 67.1214 2122.97 67.1214 Q2114.87 67.1214 2110.57 72.5901 Q2106.32 78.0588 2105.71 89.1178 Q2108.1 85.5935 2111.71 83.7301 Q2115.31 81.8261 2119.65 81.8261 Q2128.76 81.8261 2134.03 87.3759 Q2139.33 92.8851 2139.33 102.405 Q2139.33 111.722 2133.82 117.353 Q2128.32 122.983 2119.16 122.983 Q2108.67 122.983 2103.12 114.963 Q2097.57 106.901 2097.57 91.6293 Q2097.57 77.2891 2104.37 68.7822 Q2111.18 60.2348 2122.64 60.2348 Q2125.72 60.2348 2128.84 60.8425 Q2132 61.4501 2135.4 62.6654 Z\" fill=\"#0000ff\" fill-rule=\"nonzero\" fill-opacity=\"1\" /><path clip-path=\"url(#clip900)\" d=\"M2170.93 93.0877 Q2165.1 93.0877 2161.74 96.2069 Q2158.41 99.326 2158.41 104.795 Q2158.41 110.263 2161.74 113.383 Q2165.1 116.502 2170.93 116.502 Q2176.76 116.502 2180.13 113.383 Q2183.49 110.223 2183.49 104.795 Q2183.49 99.326 2180.13 96.2069 Q2176.8 93.0877 2170.93 93.0877 M2162.75 89.6039 Q2157.48 88.3076 2154.52 84.7023 Q2151.61 81.097 2151.61 75.9118 Q2151.61 68.6607 2156.75 64.4478 Q2161.94 60.2348 2170.93 60.2348 Q2179.96 60.2348 2185.11 64.4478 Q2190.25 68.6607 2190.25 75.9118 Q2190.25 81.097 2187.3 84.7023 Q2184.38 88.3076 2179.15 89.6039 Q2185.07 90.9812 2188.35 94.9916 Q2191.67 99.002 2191.67 104.795 Q2191.67 113.585 2186.28 118.284 Q2180.94 122.983 2170.93 122.983 Q2160.93 122.983 2155.54 118.284 Q2150.19 113.585 2150.19 104.795 Q2150.19 99.002 2153.51 94.9916 Q2156.83 90.9812 2162.75 89.6039 M2159.75 76.6815 Q2159.75 81.3805 2162.67 84.0136 Q2165.62 86.6467 2170.93 86.6467 Q2176.2 86.6467 2179.15 84.0136 Q2182.15 81.3805 2182.15 76.6815 Q2182.15 71.9824 2179.15 69.3494 Q2176.2 66.7163 2170.93 66.7163 Q2165.62 66.7163 2162.67 69.3494 Q2159.75 71.9824 2159.75 76.6815 Z\" fill=\"#0000ff\" fill-rule=\"nonzero\" fill-opacity=\"1\" /><path clip-path=\"url(#clip900)\" d=\"M2224.73 88.3076 Q2219.22 88.3076 2215.98 92.0749 Q2212.78 95.8423 2212.78 102.405 Q2212.78 108.927 2215.98 112.735 Q2219.22 116.502 2224.73 116.502 Q2230.24 116.502 2233.44 112.735 Q2236.68 108.927 2236.68 102.405 Q2236.68 95.8423 2233.44 92.0749 Q2230.24 88.3076 2224.73 88.3076 M2240.97 62.6654 L2240.97 70.119 Q2237.89 68.6607 2234.73 67.891 Q2231.61 67.1214 2228.53 67.1214 Q2220.43 67.1214 2216.14 72.5901 Q2211.89 78.0588 2211.28 89.1178 Q2213.67 85.5935 2217.27 83.7301 Q2220.88 81.8261 2225.21 81.8261 Q2234.33 81.8261 2239.59 87.3759 Q2244.9 92.8851 2244.9 102.405 Q2244.9 111.722 2239.39 117.353 Q2233.88 122.983 2224.73 122.983 Q2214.24 122.983 2208.69 114.963 Q2203.14 106.901 2203.14 91.6293 Q2203.14 77.2891 2209.94 68.7822 Q2216.75 60.2348 2228.21 60.2348 Q2231.29 60.2348 2234.41 60.8425 Q2237.57 61.4501 2240.97 62.6654 Z\" fill=\"#0000ff\" fill-rule=\"nonzero\" fill-opacity=\"1\" /><path clip-path=\"url(#clip900)\" d=\"M271.526 361.708 L293.361 361.708 L293.361 368.352 L271.526 368.352 L271.526 361.708 Z\" fill=\"#ff0000\" fill-rule=\"nonzero\" fill-opacity=\"1\" /><path clip-path=\"url(#clip900)\" d=\"M323.783 332.663 Q317.464 332.663 314.263 338.901 Q311.104 345.099 311.104 357.576 Q311.104 370.012 314.263 376.251 Q317.464 382.449 323.783 382.449 Q330.143 382.449 333.303 376.251 Q336.503 370.012 336.503 357.576 Q336.503 345.099 333.303 338.901 Q330.143 332.663 323.783 332.663 M323.783 326.182 Q333.951 326.182 339.298 334.243 Q344.686 342.264 344.686 357.576 Q344.686 372.848 339.298 380.909 Q333.951 388.93 323.783 388.93 Q313.615 388.93 308.227 380.909 Q302.88 372.848 302.88 357.576 Q302.88 342.264 308.227 334.243 Q313.615 326.182 323.783 326.182 Z\" fill=\"#ff0000\" fill-rule=\"nonzero\" fill-opacity=\"1\" /><path clip-path=\"url(#clip900)\" d=\"M359.066 377.466 L367.614 377.466 L367.614 387.755 L359.066 387.755 L359.066 377.466 Z\" fill=\"#ff0000\" fill-rule=\"nonzero\" fill-opacity=\"1\" /><path clip-path=\"url(#clip900)\" d=\"M402.938 332.663 Q396.618 332.663 393.418 338.901 Q390.258 345.099 390.258 357.576 Q390.258 370.012 393.418 376.251 Q396.618 382.449 402.938 382.449 Q409.298 382.449 412.457 376.251 Q415.657 370.012 415.657 357.576 Q415.657 345.099 412.457 338.901 Q409.298 332.663 402.938 332.663 M402.938 326.182 Q413.105 326.182 418.453 334.243 Q423.84 342.264 423.84 357.576 Q423.84 372.848 418.453 380.909 Q413.105 388.93 402.938 388.93 Q392.77 388.93 387.382 380.909 Q382.035 372.848 382.035 357.576 Q382.035 342.264 387.382 334.243 Q392.77 326.182 402.938 326.182 Z\" fill=\"#ff0000\" fill-rule=\"nonzero\" fill-opacity=\"1\" /><path clip-path=\"url(#clip900)\" d=\"M439.639 380.869 L453.007 380.869 L453.007 334.729 L438.464 337.646 L438.464 330.192 L452.926 327.275 L461.109 327.275 L461.109 380.869 L474.477 380.869 L474.477 387.755 L439.639 387.755 L439.639 380.869 Z\" fill=\"#ff0000\" fill-rule=\"nonzero\" fill-opacity=\"1\" /><path clip-path=\"url(#clip900)\" d=\"M513.487 334.405 L492.827 366.691 L513.487 366.691 L513.487 334.405 M511.34 327.275 L521.629 327.275 L521.629 366.691 L530.258 366.691 L530.258 373.496 L521.629 373.496 L521.629 387.755 L513.487 387.755 L513.487 373.496 L486.184 373.496 L486.184 365.597 L511.34 327.275 Z\" fill=\"#ff0000\" fill-rule=\"nonzero\" fill-opacity=\"1\" /><path clip-path=\"url(#clip900)\" d=\"M2057.13 332.663 Q2050.81 332.663 2047.61 338.901 Q2044.45 345.099 2044.45 357.576 Q2044.45 370.012 2047.61 376.251 Q2050.81 382.449 2057.13 382.449 Q2063.49 382.449 2066.65 376.251 Q2069.85 370.012 2069.85 357.576 Q2069.85 345.099 2066.65 338.901 Q2063.49 332.663 2057.13 332.663 M2057.13 326.182 Q2067.3 326.182 2072.64 334.243 Q2078.03 342.264 2078.03 357.576 Q2078.03 372.848 2072.64 380.909 Q2067.3 388.93 2057.13 388.93 Q2046.96 388.93 2041.57 380.909 Q2036.23 372.848 2036.23 357.576 Q2036.23 342.264 2041.57 334.243 Q2046.96 326.182 2057.13 326.182 Z\" fill=\"#ff0000\" fill-rule=\"nonzero\" fill-opacity=\"1\" /><path clip-path=\"url(#clip900)\" d=\"M2092.41 377.466 L2100.96 377.466 L2100.96 387.755 L2092.41 387.755 L2092.41 377.466 Z\" fill=\"#ff0000\" fill-rule=\"nonzero\" fill-opacity=\"1\" /><path clip-path=\"url(#clip900)\" d=\"M2143.57 355.146 Q2149.45 356.401 2152.73 360.371 Q2156.05 364.341 2156.05 370.174 Q2156.05 379.127 2149.89 384.029 Q2143.74 388.93 2132.39 388.93 Q2128.59 388.93 2124.54 388.16 Q2120.53 387.431 2116.23 385.932 L2116.23 378.033 Q2119.63 380.018 2123.68 381.031 Q2127.74 382.044 2132.15 382.044 Q2139.85 382.044 2143.86 379.005 Q2147.91 375.967 2147.91 370.174 Q2147.91 364.827 2144.14 361.83 Q2140.42 358.791 2133.73 358.791 L2126.68 358.791 L2126.68 352.067 L2134.06 352.067 Q2140.09 352.067 2143.29 349.677 Q2146.49 347.246 2146.49 342.709 Q2146.49 338.051 2143.17 335.58 Q2139.89 333.068 2133.73 333.068 Q2130.37 333.068 2126.52 333.797 Q2122.67 334.527 2118.05 336.066 L2118.05 328.774 Q2122.71 327.478 2126.76 326.83 Q2130.86 326.182 2134.46 326.182 Q2143.78 326.182 2149.21 330.435 Q2154.63 334.648 2154.63 341.859 Q2154.63 346.882 2151.76 350.366 Q2148.88 353.809 2143.57 355.146 Z\" fill=\"#ff0000\" fill-rule=\"nonzero\" fill-opacity=\"1\" /><path clip-path=\"url(#clip900)\" d=\"M2189.07 359.034 Q2183.23 359.034 2179.87 362.154 Q2176.55 365.273 2176.55 370.742 Q2176.55 376.21 2179.87 379.33 Q2183.23 382.449 2189.07 382.449 Q2194.9 382.449 2198.26 379.33 Q2201.62 376.17 2201.62 370.742 Q2201.62 365.273 2198.26 362.154 Q2194.94 359.034 2189.07 359.034 M2180.88 355.551 Q2175.62 354.254 2172.66 350.649 Q2169.74 347.044 2169.74 341.859 Q2169.74 334.608 2174.89 330.395 Q2180.07 326.182 2189.07 326.182 Q2198.1 326.182 2203.24 330.395 Q2208.39 334.608 2208.39 341.859 Q2208.39 347.044 2205.43 350.649 Q2202.52 354.254 2197.29 355.551 Q2203.2 356.928 2206.49 360.938 Q2209.81 364.949 2209.81 370.742 Q2209.81 379.532 2204.42 384.231 Q2199.07 388.93 2189.07 388.93 Q2179.06 388.93 2173.67 384.231 Q2168.33 379.532 2168.33 370.742 Q2168.33 364.949 2171.65 360.938 Q2174.97 356.928 2180.88 355.551 M2177.89 342.628 Q2177.89 347.327 2180.8 349.96 Q2183.76 352.594 2189.07 352.594 Q2194.33 352.594 2197.29 349.96 Q2200.29 347.327 2200.29 342.628 Q2200.29 337.929 2197.29 335.296 Q2194.33 332.663 2189.07 332.663 Q2183.76 332.663 2180.8 335.296 Q2177.89 337.929 2177.89 342.628 Z\" fill=\"#ff0000\" fill-rule=\"nonzero\" fill-opacity=\"1\" /><path clip-path=\"url(#clip900)\" d=\"M2246.83 334.405 L2226.17 366.691 L2246.83 366.691 L2246.83 334.405 M2244.69 327.275 L2254.97 327.275 L2254.97 366.691 L2263.6 366.691 L2263.6 373.496 L2254.97 373.496 L2254.97 387.755 L2246.83 387.755 L2246.83 373.496 L2219.53 373.496 L2219.53 365.597 L2244.69 327.275 Z\" fill=\"#ff0000\" fill-rule=\"nonzero\" fill-opacity=\"1\" /><path clip-path=\"url(#clip900)\" d=\"M2301.92 355.146 Q2307.8 356.401 2311.08 360.371 Q2314.4 364.341 2314.4 370.174 Q2314.4 379.127 2308.24 384.029 Q2302.09 388.93 2290.74 388.93 Q2286.94 388.93 2282.89 388.16 Q2278.88 387.431 2274.58 385.932 L2274.58 378.033 Q2277.98 380.018 2282.03 381.031 Q2286.09 382.044 2290.5 382.044 Q2298.2 382.044 2302.21 379.005 Q2306.26 375.967 2306.26 370.174 Q2306.26 364.827 2302.49 361.83 Q2298.77 358.791 2292.08 358.791 L2285.03 358.791 L2285.03 352.067 L2292.41 352.067 Q2298.44 352.067 2301.64 349.677 Q2304.84 347.246 2304.84 342.709 Q2304.84 338.051 2301.52 335.58 Q2298.24 333.068 2292.08 333.068 Q2288.72 333.068 2284.87 333.797 Q2281.02 334.527 2276.4 336.066 L2276.4 328.774 Q2281.06 327.478 2285.11 326.83 Q2289.2 326.182 2292.81 326.182 Q2302.13 326.182 2307.56 330.435 Q2312.98 334.648 2312.98 341.859 Q2312.98 346.882 2310.11 350.366 Q2307.23 353.809 2301.92 355.146 Z\" fill=\"#ff0000\" fill-rule=\"nonzero\" fill-opacity=\"1\" /></svg>\n"
      ],
      "text/html": [
       "<?xml version=\"1.0\" encoding=\"utf-8\"?>\n",
       "<svg xmlns=\"http://www.w3.org/2000/svg\" xmlns:xlink=\"http://www.w3.org/1999/xlink\" width=\"600\" height=\"120\" viewBox=\"0 0 2400 480\">\n",
       "<defs>\n",
       "  <clipPath id=\"clip950\">\n",
       "    <rect x=\"0\" y=\"0\" width=\"2400\" height=\"480\"/>\n",
       "  </clipPath>\n",
       "</defs>\n",
       "<path clip-path=\"url(#clip950)\" d=\"M0 480 L2400 480 L2400 0 L0 0  Z\" fill=\"#ffffff\" fill-rule=\"evenodd\" fill-opacity=\"1\"/>\n",
       "<defs>\n",
       "  <clipPath id=\"clip951\">\n",
       "    <rect x=\"480\" y=\"0\" width=\"1681\" height=\"480\"/>\n",
       "  </clipPath>\n",
       "</defs>\n",
       "<path clip-path=\"url(#clip950)\" d=\"M223.45 401.84 L2352.76 401.84 L2352.76 47.2441 L223.45 47.2441  Z\" fill=\"#ffffff\" fill-rule=\"evenodd\" fill-opacity=\"1\"/>\n",
       "<defs>\n",
       "  <clipPath id=\"clip952\">\n",
       "    <rect x=\"223\" y=\"47\" width=\"2130\" height=\"356\"/>\n",
       "  </clipPath>\n",
       "</defs>\n",
       "<polyline clip-path=\"url(#clip952)\" style=\"stroke:#000000; stroke-linecap:round; stroke-linejoin:round; stroke-width:2; stroke-opacity:0.1; fill:none\" points=\"463.145,401.84 463.145,47.2441 \"/>\n",
       "<polyline clip-path=\"url(#clip952)\" style=\"stroke:#000000; stroke-linecap:round; stroke-linejoin:round; stroke-width:2; stroke-opacity:0.1; fill:none\" points=\"908.628,401.84 908.628,47.2441 \"/>\n",
       "<polyline clip-path=\"url(#clip952)\" style=\"stroke:#000000; stroke-linecap:round; stroke-linejoin:round; stroke-width:2; stroke-opacity:0.1; fill:none\" points=\"1354.11,401.84 1354.11,47.2441 \"/>\n",
       "<polyline clip-path=\"url(#clip952)\" style=\"stroke:#000000; stroke-linecap:round; stroke-linejoin:round; stroke-width:2; stroke-opacity:0.1; fill:none\" points=\"1799.59,401.84 1799.59,47.2441 \"/>\n",
       "<polyline clip-path=\"url(#clip952)\" style=\"stroke:#000000; stroke-linecap:round; stroke-linejoin:round; stroke-width:2; stroke-opacity:0.1; fill:none\" points=\"2245.08,401.84 2245.08,47.2441 \"/>\n",
       "<polyline clip-path=\"url(#clip950)\" style=\"stroke:#000000; stroke-linecap:round; stroke-linejoin:round; stroke-width:4; stroke-opacity:1; fill:none\" points=\"223.45,401.84 2352.76,401.84 \"/>\n",
       "<polyline clip-path=\"url(#clip950)\" style=\"stroke:#000000; stroke-linecap:round; stroke-linejoin:round; stroke-width:4; stroke-opacity:1; fill:none\" points=\"463.145,401.84 463.145,382.942 \"/>\n",
       "<polyline clip-path=\"url(#clip950)\" style=\"stroke:#000000; stroke-linecap:round; stroke-linejoin:round; stroke-width:4; stroke-opacity:1; fill:none\" points=\"908.628,401.84 908.628,382.942 \"/>\n",
       "<polyline clip-path=\"url(#clip950)\" style=\"stroke:#000000; stroke-linecap:round; stroke-linejoin:round; stroke-width:4; stroke-opacity:1; fill:none\" points=\"1354.11,401.84 1354.11,382.942 \"/>\n",
       "<polyline clip-path=\"url(#clip950)\" style=\"stroke:#000000; stroke-linecap:round; stroke-linejoin:round; stroke-width:4; stroke-opacity:1; fill:none\" points=\"1799.59,401.84 1799.59,382.942 \"/>\n",
       "<polyline clip-path=\"url(#clip950)\" style=\"stroke:#000000; stroke-linecap:round; stroke-linejoin:round; stroke-width:4; stroke-opacity:1; fill:none\" points=\"2245.08,401.84 2245.08,382.942 \"/>\n",
       "<path clip-path=\"url(#clip950)\" d=\"M440.53 432.759 Q436.919 432.759 435.09 436.323 Q433.284 439.865 433.284 446.995 Q433.284 454.101 435.09 457.666 Q436.919 461.207 440.53 461.207 Q444.164 461.207 445.969 457.666 Q447.798 454.101 447.798 446.995 Q447.798 439.865 445.969 436.323 Q444.164 432.759 440.53 432.759 M440.53 429.055 Q446.34 429.055 449.395 433.661 Q452.474 438.245 452.474 446.995 Q452.474 455.721 449.395 460.328 Q446.34 464.911 440.53 464.911 Q434.72 464.911 431.641 460.328 Q428.585 455.721 428.585 446.995 Q428.585 438.245 431.641 433.661 Q434.72 429.055 440.53 429.055 Z\" fill=\"#000000\" fill-rule=\"nonzero\" fill-opacity=\"1\" /><path clip-path=\"url(#clip950)\" d=\"M460.692 458.36 L465.576 458.36 L465.576 464.24 L460.692 464.24 L460.692 458.36 Z\" fill=\"#000000\" fill-rule=\"nonzero\" fill-opacity=\"1\" /><path clip-path=\"url(#clip950)\" d=\"M485.761 432.759 Q482.15 432.759 480.321 436.323 Q478.516 439.865 478.516 446.995 Q478.516 454.101 480.321 457.666 Q482.15 461.207 485.761 461.207 Q489.395 461.207 491.201 457.666 Q493.029 454.101 493.029 446.995 Q493.029 439.865 491.201 436.323 Q489.395 432.759 485.761 432.759 M485.761 429.055 Q491.571 429.055 494.627 433.661 Q497.705 438.245 497.705 446.995 Q497.705 455.721 494.627 460.328 Q491.571 464.911 485.761 464.911 Q479.951 464.911 476.872 460.328 Q473.817 455.721 473.817 446.995 Q473.817 438.245 476.872 433.661 Q479.951 429.055 485.761 429.055 Z\" fill=\"#000000\" fill-rule=\"nonzero\" fill-opacity=\"1\" /><path clip-path=\"url(#clip950)\" d=\"M886.626 432.759 Q883.015 432.759 881.186 436.323 Q879.381 439.865 879.381 446.995 Q879.381 454.101 881.186 457.666 Q883.015 461.207 886.626 461.207 Q890.26 461.207 892.066 457.666 Q893.895 454.101 893.895 446.995 Q893.895 439.865 892.066 436.323 Q890.26 432.759 886.626 432.759 M886.626 429.055 Q892.436 429.055 895.492 433.661 Q898.571 438.245 898.571 446.995 Q898.571 455.721 895.492 460.328 Q892.436 464.911 886.626 464.911 Q880.816 464.911 877.737 460.328 Q874.682 455.721 874.682 446.995 Q874.682 438.245 877.737 433.661 Q880.816 429.055 886.626 429.055 Z\" fill=\"#000000\" fill-rule=\"nonzero\" fill-opacity=\"1\" /><path clip-path=\"url(#clip950)\" d=\"M906.788 458.36 L911.672 458.36 L911.672 464.24 L906.788 464.24 L906.788 458.36 Z\" fill=\"#000000\" fill-rule=\"nonzero\" fill-opacity=\"1\" /><path clip-path=\"url(#clip950)\" d=\"M922.668 460.305 L930.306 460.305 L930.306 433.939 L921.996 435.606 L921.996 431.347 L930.26 429.68 L934.936 429.68 L934.936 460.305 L942.575 460.305 L942.575 464.24 L922.668 464.24 L922.668 460.305 Z\" fill=\"#000000\" fill-rule=\"nonzero\" fill-opacity=\"1\" /><path clip-path=\"url(#clip950)\" d=\"M1332.29 432.759 Q1328.68 432.759 1326.85 436.323 Q1325.05 439.865 1325.05 446.995 Q1325.05 454.101 1326.85 457.666 Q1328.68 461.207 1332.29 461.207 Q1335.93 461.207 1337.73 457.666 Q1339.56 454.101 1339.56 446.995 Q1339.56 439.865 1337.73 436.323 Q1335.93 432.759 1332.29 432.759 M1332.29 429.055 Q1338.1 429.055 1341.16 433.661 Q1344.24 438.245 1344.24 446.995 Q1344.24 455.721 1341.16 460.328 Q1338.1 464.911 1332.29 464.911 Q1326.48 464.911 1323.41 460.328 Q1320.35 455.721 1320.35 446.995 Q1320.35 438.245 1323.41 433.661 Q1326.48 429.055 1332.29 429.055 Z\" fill=\"#000000\" fill-rule=\"nonzero\" fill-opacity=\"1\" /><path clip-path=\"url(#clip950)\" d=\"M1352.46 458.36 L1357.34 458.36 L1357.34 464.24 L1352.46 464.24 L1352.46 458.36 Z\" fill=\"#000000\" fill-rule=\"nonzero\" fill-opacity=\"1\" /><path clip-path=\"url(#clip950)\" d=\"M1371.55 460.305 L1387.87 460.305 L1387.87 464.24 L1365.93 464.24 L1365.93 460.305 Q1368.59 457.55 1373.17 452.92 Q1377.78 448.268 1378.96 446.925 Q1381.21 444.402 1382.09 442.666 Q1382.99 440.907 1382.99 439.217 Q1382.99 436.462 1381.04 434.726 Q1379.12 432.99 1376.02 432.99 Q1373.82 432.99 1371.37 433.754 Q1368.94 434.518 1366.16 436.069 L1366.16 431.347 Q1368.98 430.212 1371.44 429.634 Q1373.89 429.055 1375.93 429.055 Q1381.3 429.055 1384.49 431.74 Q1387.69 434.425 1387.69 438.916 Q1387.69 441.046 1386.88 442.967 Q1386.09 444.865 1383.98 447.458 Q1383.41 448.129 1380.3 451.346 Q1377.2 454.541 1371.55 460.305 Z\" fill=\"#000000\" fill-rule=\"nonzero\" fill-opacity=\"1\" /><path clip-path=\"url(#clip950)\" d=\"M1777.3 432.759 Q1773.69 432.759 1771.86 436.323 Q1770.06 439.865 1770.06 446.995 Q1770.06 454.101 1771.86 457.666 Q1773.69 461.207 1777.3 461.207 Q1780.94 461.207 1782.74 457.666 Q1784.57 454.101 1784.57 446.995 Q1784.57 439.865 1782.74 436.323 Q1780.94 432.759 1777.3 432.759 M1777.3 429.055 Q1783.11 429.055 1786.17 433.661 Q1789.25 438.245 1789.25 446.995 Q1789.25 455.721 1786.17 460.328 Q1783.11 464.911 1777.3 464.911 Q1771.49 464.911 1768.41 460.328 Q1765.36 455.721 1765.36 446.995 Q1765.36 438.245 1768.41 433.661 Q1771.49 429.055 1777.3 429.055 Z\" fill=\"#000000\" fill-rule=\"nonzero\" fill-opacity=\"1\" /><path clip-path=\"url(#clip950)\" d=\"M1797.46 458.36 L1802.35 458.36 L1802.35 464.24 L1797.46 464.24 L1797.46 458.36 Z\" fill=\"#000000\" fill-rule=\"nonzero\" fill-opacity=\"1\" /><path clip-path=\"url(#clip950)\" d=\"M1826.7 445.606 Q1830.06 446.323 1831.93 448.592 Q1833.83 450.86 1833.83 454.194 Q1833.83 459.309 1830.31 462.11 Q1826.79 464.911 1820.31 464.911 Q1818.14 464.911 1815.82 464.471 Q1813.53 464.055 1811.08 463.198 L1811.08 458.684 Q1813.02 459.819 1815.34 460.397 Q1817.65 460.976 1820.17 460.976 Q1824.57 460.976 1826.86 459.24 Q1829.18 457.504 1829.18 454.194 Q1829.18 451.138 1827.02 449.425 Q1824.9 447.689 1821.08 447.689 L1817.05 447.689 L1817.05 443.846 L1821.26 443.846 Q1824.71 443.846 1826.54 442.481 Q1828.37 441.092 1828.37 438.499 Q1828.37 435.837 1826.47 434.425 Q1824.59 432.99 1821.08 432.99 Q1819.15 432.99 1816.96 433.407 Q1814.76 433.823 1812.12 434.703 L1812.12 430.536 Q1814.78 429.796 1817.09 429.425 Q1819.43 429.055 1821.49 429.055 Q1826.82 429.055 1829.92 431.485 Q1833.02 433.893 1833.02 438.013 Q1833.02 440.884 1831.38 442.874 Q1829.73 444.842 1826.7 445.606 Z\" fill=\"#000000\" fill-rule=\"nonzero\" fill-opacity=\"1\" /><path clip-path=\"url(#clip950)\" d=\"M2222.22 432.759 Q2218.61 432.759 2216.78 436.323 Q2214.97 439.865 2214.97 446.995 Q2214.97 454.101 2216.78 457.666 Q2218.61 461.207 2222.22 461.207 Q2225.85 461.207 2227.66 457.666 Q2229.49 454.101 2229.49 446.995 Q2229.49 439.865 2227.66 436.323 Q2225.85 432.759 2222.22 432.759 M2222.22 429.055 Q2228.03 429.055 2231.08 433.661 Q2234.16 438.245 2234.16 446.995 Q2234.16 455.721 2231.08 460.328 Q2228.03 464.911 2222.22 464.911 Q2216.41 464.911 2213.33 460.328 Q2210.27 455.721 2210.27 446.995 Q2210.27 438.245 2213.33 433.661 Q2216.41 429.055 2222.22 429.055 Z\" fill=\"#000000\" fill-rule=\"nonzero\" fill-opacity=\"1\" /><path clip-path=\"url(#clip950)\" d=\"M2242.38 458.36 L2247.26 458.36 L2247.26 464.24 L2242.38 464.24 L2242.38 458.36 Z\" fill=\"#000000\" fill-rule=\"nonzero\" fill-opacity=\"1\" /><path clip-path=\"url(#clip950)\" d=\"M2270.3 433.754 L2258.49 452.203 L2270.3 452.203 L2270.3 433.754 M2269.07 429.68 L2274.95 429.68 L2274.95 452.203 L2279.88 452.203 L2279.88 456.092 L2274.95 456.092 L2274.95 464.24 L2270.3 464.24 L2270.3 456.092 L2254.7 456.092 L2254.7 451.578 L2269.07 429.68 Z\" fill=\"#000000\" fill-rule=\"nonzero\" fill-opacity=\"1\" /><polyline clip-path=\"url(#clip952)\" style=\"stroke:#000000; stroke-linecap:round; stroke-linejoin:round; stroke-width:2; stroke-opacity:0.1; fill:none\" points=\"223.45,357.515 2352.76,357.515 \"/>\n",
       "<polyline clip-path=\"url(#clip952)\" style=\"stroke:#000000; stroke-linecap:round; stroke-linejoin:round; stroke-width:2; stroke-opacity:0.1; fill:none\" points=\"223.45,313.191 2352.76,313.191 \"/>\n",
       "<polyline clip-path=\"url(#clip952)\" style=\"stroke:#000000; stroke-linecap:round; stroke-linejoin:round; stroke-width:2; stroke-opacity:0.1; fill:none\" points=\"223.45,268.866 2352.76,268.866 \"/>\n",
       "<polyline clip-path=\"url(#clip952)\" style=\"stroke:#000000; stroke-linecap:round; stroke-linejoin:round; stroke-width:2; stroke-opacity:0.1; fill:none\" points=\"223.45,224.542 2352.76,224.542 \"/>\n",
       "<polyline clip-path=\"url(#clip952)\" style=\"stroke:#000000; stroke-linecap:round; stroke-linejoin:round; stroke-width:2; stroke-opacity:0.1; fill:none\" points=\"223.45,180.218 2352.76,180.218 \"/>\n",
       "<polyline clip-path=\"url(#clip952)\" style=\"stroke:#000000; stroke-linecap:round; stroke-linejoin:round; stroke-width:2; stroke-opacity:0.1; fill:none\" points=\"223.45,135.893 2352.76,135.893 \"/>\n",
       "<polyline clip-path=\"url(#clip952)\" style=\"stroke:#000000; stroke-linecap:round; stroke-linejoin:round; stroke-width:2; stroke-opacity:0.1; fill:none\" points=\"223.45,91.5686 2352.76,91.5686 \"/>\n",
       "<line clip-path=\"url(#clip952)\" x1=\"400.892\" y1=\"308.866\" x2=\"400.892\" y2=\"228.866\" style=\"stroke:#ff0000; stroke-width:3.84; stroke-opacity:1\"/>\n",
       "<line clip-path=\"url(#clip952)\" x1=\"471.102\" y1=\"220.218\" x2=\"471.102\" y2=\"140.218\" style=\"stroke:#0000ff; stroke-width:3.84; stroke-opacity:1\"/>\n",
       "<line clip-path=\"url(#clip952)\" x1=\"2105.1\" y1=\"220.218\" x2=\"2105.1\" y2=\"140.218\" style=\"stroke:#0000ff; stroke-width:3.84; stroke-opacity:1\"/>\n",
       "<line clip-path=\"url(#clip952)\" x1=\"2175.31\" y1=\"308.866\" x2=\"2175.31\" y2=\"228.866\" style=\"stroke:#ff0000; stroke-width:3.84; stroke-opacity:1\"/>\n",
       "<polyline clip-path=\"url(#clip952)\" style=\"stroke:#0000ff; stroke-linecap:round; stroke-linejoin:round; stroke-width:4; stroke-opacity:1; fill:none\" points=\"471.102,180.218 2105.1,180.218 \"/>\n",
       "<polyline clip-path=\"url(#clip952)\" style=\"stroke:#ff0000; stroke-linecap:round; stroke-linejoin:round; stroke-width:4; stroke-opacity:1; fill:none\" points=\"400.892,268.866 2175.31,268.866 \"/>\n",
       "<path clip-path=\"url(#clip950)\" d=\"M352.431 66.7163 Q346.111 66.7163 342.911 72.9547 Q339.751 79.1525 339.751 91.6293 Q339.751 104.066 342.911 110.304 Q346.111 116.502 352.431 116.502 Q358.79 116.502 361.95 110.304 Q365.15 104.066 365.15 91.6293 Q365.15 79.1525 361.95 72.9547 Q358.79 66.7163 352.431 66.7163 M352.431 60.2348 Q362.598 60.2348 367.946 68.2961 Q373.333 76.3169 373.333 91.6293 Q373.333 106.901 367.946 114.963 Q362.598 122.983 352.431 122.983 Q342.263 122.983 336.875 114.963 Q331.528 106.901 331.528 91.6293 Q331.528 76.3169 336.875 68.2961 Q342.263 60.2348 352.431 60.2348 Z\" fill=\"#0000ff\" fill-rule=\"nonzero\" fill-opacity=\"1\" /><path clip-path=\"url(#clip950)\" d=\"M387.714 111.519 L396.261 111.519 L396.261 121.809 L387.714 121.809 L387.714 111.519 Z\" fill=\"#0000ff\" fill-rule=\"nonzero\" fill-opacity=\"1\" /><path clip-path=\"url(#clip950)\" d=\"M431.585 66.7163 Q425.266 66.7163 422.066 72.9547 Q418.906 79.1525 418.906 91.6293 Q418.906 104.066 422.066 110.304 Q425.266 116.502 431.585 116.502 Q437.945 116.502 441.105 110.304 Q444.305 104.066 444.305 91.6293 Q444.305 79.1525 441.105 72.9547 Q437.945 66.7163 431.585 66.7163 M431.585 60.2348 Q441.753 60.2348 447.1 68.2961 Q452.488 76.3169 452.488 91.6293 Q452.488 106.901 447.1 114.963 Q441.753 122.983 431.585 122.983 Q421.417 122.983 416.03 114.963 Q410.683 106.901 410.683 91.6293 Q410.683 76.3169 416.03 68.2961 Q421.417 60.2348 431.585 60.2348 Z\" fill=\"#0000ff\" fill-rule=\"nonzero\" fill-opacity=\"1\" /><path clip-path=\"url(#clip950)\" d=\"M484.369 66.7163 Q478.049 66.7163 474.849 72.9547 Q471.689 79.1525 471.689 91.6293 Q471.689 104.066 474.849 110.304 Q478.049 116.502 484.369 116.502 Q490.728 116.502 493.888 110.304 Q497.088 104.066 497.088 91.6293 Q497.088 79.1525 493.888 72.9547 Q490.728 66.7163 484.369 66.7163 M484.369 60.2348 Q494.536 60.2348 499.883 68.2961 Q505.271 76.3169 505.271 91.6293 Q505.271 106.901 499.883 114.963 Q494.536 122.983 484.369 122.983 Q474.201 122.983 468.813 114.963 Q463.466 106.901 463.466 91.6293 Q463.466 76.3169 468.813 68.2961 Q474.201 60.2348 484.369 60.2348 Z\" fill=\"#0000ff\" fill-rule=\"nonzero\" fill-opacity=\"1\" /><path clip-path=\"url(#clip950)\" d=\"M521.07 114.922 L534.438 114.922 L534.438 68.7822 L519.895 71.6989 L519.895 64.2452 L534.357 61.3286 L542.539 61.3286 L542.539 114.922 L555.907 114.922 L555.907 121.809 L521.07 121.809 L521.07 114.922 Z\" fill=\"#0000ff\" fill-rule=\"nonzero\" fill-opacity=\"1\" /><path clip-path=\"url(#clip950)\" d=\"M589.935 93.0877 Q584.102 93.0877 580.74 96.2069 Q577.418 99.326 577.418 104.795 Q577.418 110.263 580.74 113.383 Q584.102 116.502 589.935 116.502 Q595.768 116.502 599.131 113.383 Q602.493 110.223 602.493 104.795 Q602.493 99.326 599.131 96.2069 Q595.809 93.0877 589.935 93.0877 M581.752 89.6039 Q576.486 88.3076 573.529 84.7023 Q570.612 81.097 570.612 75.9118 Q570.612 68.6607 575.757 64.4478 Q580.942 60.2348 589.935 60.2348 Q598.969 60.2348 604.113 64.4478 Q609.258 68.6607 609.258 75.9118 Q609.258 81.097 606.301 84.7023 Q603.384 88.3076 598.158 89.6039 Q604.073 90.9812 607.354 94.9916 Q610.676 99.002 610.676 104.795 Q610.676 113.585 605.288 118.284 Q599.941 122.983 589.935 122.983 Q579.929 122.983 574.542 118.284 Q569.194 113.585 569.194 104.795 Q569.194 99.002 572.516 94.9916 Q575.838 90.9812 581.752 89.6039 M578.755 76.6815 Q578.755 81.3805 581.671 84.0136 Q584.628 86.6467 589.935 86.6467 Q595.201 86.6467 598.158 84.0136 Q601.156 81.3805 601.156 76.6815 Q601.156 71.9824 598.158 69.3494 Q595.201 66.7163 589.935 66.7163 Q584.628 66.7163 581.671 69.3494 Q578.755 71.9824 578.755 76.6815 Z\" fill=\"#0000ff\" fill-rule=\"nonzero\" fill-opacity=\"1\" /><path clip-path=\"url(#clip950)\" d=\"M1986.21 66.7163 Q1979.89 66.7163 1976.69 72.9547 Q1973.53 79.1525 1973.53 91.6293 Q1973.53 104.066 1976.69 110.304 Q1979.89 116.502 1986.21 116.502 Q1992.57 116.502 1995.73 110.304 Q1998.93 104.066 1998.93 91.6293 Q1998.93 79.1525 1995.73 72.9547 Q1992.57 66.7163 1986.21 66.7163 M1986.21 60.2348 Q1996.38 60.2348 2001.72 68.2961 Q2007.11 76.3169 2007.11 91.6293 Q2007.11 106.901 2001.72 114.963 Q1996.38 122.983 1986.21 122.983 Q1976.04 122.983 1970.65 114.963 Q1965.31 106.901 1965.31 91.6293 Q1965.31 76.3169 1970.65 68.2961 Q1976.04 60.2348 1986.21 60.2348 Z\" fill=\"#0000ff\" fill-rule=\"nonzero\" fill-opacity=\"1\" /><path clip-path=\"url(#clip950)\" d=\"M2021.49 111.519 L2030.04 111.519 L2030.04 121.809 L2021.49 121.809 L2021.49 111.519 Z\" fill=\"#0000ff\" fill-rule=\"nonzero\" fill-opacity=\"1\" /><path clip-path=\"url(#clip950)\" d=\"M2072.66 89.1988 Q2078.53 90.4546 2081.81 94.4245 Q2085.13 98.3943 2085.13 104.228 Q2085.13 113.18 2078.98 118.082 Q2072.82 122.983 2061.48 122.983 Q2057.67 122.983 2053.62 122.214 Q2049.61 121.484 2045.31 119.986 L2045.31 112.086 Q2048.72 114.071 2052.77 115.084 Q2056.82 116.097 2061.23 116.097 Q2068.93 116.097 2072.94 113.059 Q2076.99 110.02 2076.99 104.228 Q2076.99 98.8804 2073.22 95.8828 Q2069.5 92.8446 2062.81 92.8446 L2055.76 92.8446 L2055.76 86.1201 L2063.14 86.1201 Q2069.17 86.1201 2072.37 83.7301 Q2075.57 81.2995 2075.57 76.7625 Q2075.57 72.104 2072.25 69.6329 Q2068.97 67.1214 2062.81 67.1214 Q2059.45 67.1214 2055.6 67.8505 Q2051.75 68.5797 2047.14 70.119 L2047.14 62.8274 Q2051.79 61.5311 2055.84 60.883 Q2059.94 60.2348 2063.54 60.2348 Q2072.86 60.2348 2078.29 64.4883 Q2083.72 68.7012 2083.72 75.9118 Q2083.72 80.9349 2080.84 84.4187 Q2077.96 87.862 2072.66 89.1988 Z\" fill=\"#0000ff\" fill-rule=\"nonzero\" fill-opacity=\"1\" /><path clip-path=\"url(#clip950)\" d=\"M2119.16 88.3076 Q2113.65 88.3076 2110.41 92.0749 Q2107.21 95.8423 2107.21 102.405 Q2107.21 108.927 2110.41 112.735 Q2113.65 116.502 2119.16 116.502 Q2124.67 116.502 2127.87 112.735 Q2131.11 108.927 2131.11 102.405 Q2131.11 95.8423 2127.87 92.0749 Q2124.67 88.3076 2119.16 88.3076 M2135.4 62.6654 L2135.4 70.119 Q2132.33 68.6607 2129.17 67.891 Q2126.05 67.1214 2122.97 67.1214 Q2114.87 67.1214 2110.57 72.5901 Q2106.32 78.0588 2105.71 89.1178 Q2108.1 85.5935 2111.71 83.7301 Q2115.31 81.8261 2119.65 81.8261 Q2128.76 81.8261 2134.03 87.3759 Q2139.33 92.8851 2139.33 102.405 Q2139.33 111.722 2133.82 117.353 Q2128.32 122.983 2119.16 122.983 Q2108.67 122.983 2103.12 114.963 Q2097.57 106.901 2097.57 91.6293 Q2097.57 77.2891 2104.37 68.7822 Q2111.18 60.2348 2122.64 60.2348 Q2125.72 60.2348 2128.84 60.8425 Q2132 61.4501 2135.4 62.6654 Z\" fill=\"#0000ff\" fill-rule=\"nonzero\" fill-opacity=\"1\" /><path clip-path=\"url(#clip950)\" d=\"M2170.93 93.0877 Q2165.1 93.0877 2161.74 96.2069 Q2158.41 99.326 2158.41 104.795 Q2158.41 110.263 2161.74 113.383 Q2165.1 116.502 2170.93 116.502 Q2176.76 116.502 2180.13 113.383 Q2183.49 110.223 2183.49 104.795 Q2183.49 99.326 2180.13 96.2069 Q2176.8 93.0877 2170.93 93.0877 M2162.75 89.6039 Q2157.48 88.3076 2154.52 84.7023 Q2151.61 81.097 2151.61 75.9118 Q2151.61 68.6607 2156.75 64.4478 Q2161.94 60.2348 2170.93 60.2348 Q2179.96 60.2348 2185.11 64.4478 Q2190.25 68.6607 2190.25 75.9118 Q2190.25 81.097 2187.3 84.7023 Q2184.38 88.3076 2179.15 89.6039 Q2185.07 90.9812 2188.35 94.9916 Q2191.67 99.002 2191.67 104.795 Q2191.67 113.585 2186.28 118.284 Q2180.94 122.983 2170.93 122.983 Q2160.93 122.983 2155.54 118.284 Q2150.19 113.585 2150.19 104.795 Q2150.19 99.002 2153.51 94.9916 Q2156.83 90.9812 2162.75 89.6039 M2159.75 76.6815 Q2159.75 81.3805 2162.67 84.0136 Q2165.62 86.6467 2170.93 86.6467 Q2176.2 86.6467 2179.15 84.0136 Q2182.15 81.3805 2182.15 76.6815 Q2182.15 71.9824 2179.15 69.3494 Q2176.2 66.7163 2170.93 66.7163 Q2165.62 66.7163 2162.67 69.3494 Q2159.75 71.9824 2159.75 76.6815 Z\" fill=\"#0000ff\" fill-rule=\"nonzero\" fill-opacity=\"1\" /><path clip-path=\"url(#clip950)\" d=\"M2224.73 88.3076 Q2219.22 88.3076 2215.98 92.0749 Q2212.78 95.8423 2212.78 102.405 Q2212.78 108.927 2215.98 112.735 Q2219.22 116.502 2224.73 116.502 Q2230.24 116.502 2233.44 112.735 Q2236.68 108.927 2236.68 102.405 Q2236.68 95.8423 2233.44 92.0749 Q2230.24 88.3076 2224.73 88.3076 M2240.97 62.6654 L2240.97 70.119 Q2237.89 68.6607 2234.73 67.891 Q2231.61 67.1214 2228.53 67.1214 Q2220.43 67.1214 2216.14 72.5901 Q2211.89 78.0588 2211.28 89.1178 Q2213.67 85.5935 2217.27 83.7301 Q2220.88 81.8261 2225.21 81.8261 Q2234.33 81.8261 2239.59 87.3759 Q2244.9 92.8851 2244.9 102.405 Q2244.9 111.722 2239.39 117.353 Q2233.88 122.983 2224.73 122.983 Q2214.24 122.983 2208.69 114.963 Q2203.14 106.901 2203.14 91.6293 Q2203.14 77.2891 2209.94 68.7822 Q2216.75 60.2348 2228.21 60.2348 Q2231.29 60.2348 2234.41 60.8425 Q2237.57 61.4501 2240.97 62.6654 Z\" fill=\"#0000ff\" fill-rule=\"nonzero\" fill-opacity=\"1\" /><path clip-path=\"url(#clip950)\" d=\"M271.526 361.708 L293.361 361.708 L293.361 368.352 L271.526 368.352 L271.526 361.708 Z\" fill=\"#ff0000\" fill-rule=\"nonzero\" fill-opacity=\"1\" /><path clip-path=\"url(#clip950)\" d=\"M323.783 332.663 Q317.464 332.663 314.263 338.901 Q311.104 345.099 311.104 357.576 Q311.104 370.012 314.263 376.251 Q317.464 382.449 323.783 382.449 Q330.143 382.449 333.303 376.251 Q336.503 370.012 336.503 357.576 Q336.503 345.099 333.303 338.901 Q330.143 332.663 323.783 332.663 M323.783 326.182 Q333.951 326.182 339.298 334.243 Q344.686 342.264 344.686 357.576 Q344.686 372.848 339.298 380.909 Q333.951 388.93 323.783 388.93 Q313.615 388.93 308.227 380.909 Q302.88 372.848 302.88 357.576 Q302.88 342.264 308.227 334.243 Q313.615 326.182 323.783 326.182 Z\" fill=\"#ff0000\" fill-rule=\"nonzero\" fill-opacity=\"1\" /><path clip-path=\"url(#clip950)\" d=\"M359.066 377.466 L367.614 377.466 L367.614 387.755 L359.066 387.755 L359.066 377.466 Z\" fill=\"#ff0000\" fill-rule=\"nonzero\" fill-opacity=\"1\" /><path clip-path=\"url(#clip950)\" d=\"M402.938 332.663 Q396.618 332.663 393.418 338.901 Q390.258 345.099 390.258 357.576 Q390.258 370.012 393.418 376.251 Q396.618 382.449 402.938 382.449 Q409.298 382.449 412.457 376.251 Q415.657 370.012 415.657 357.576 Q415.657 345.099 412.457 338.901 Q409.298 332.663 402.938 332.663 M402.938 326.182 Q413.105 326.182 418.453 334.243 Q423.84 342.264 423.84 357.576 Q423.84 372.848 418.453 380.909 Q413.105 388.93 402.938 388.93 Q392.77 388.93 387.382 380.909 Q382.035 372.848 382.035 357.576 Q382.035 342.264 387.382 334.243 Q392.77 326.182 402.938 326.182 Z\" fill=\"#ff0000\" fill-rule=\"nonzero\" fill-opacity=\"1\" /><path clip-path=\"url(#clip950)\" d=\"M439.639 380.869 L453.007 380.869 L453.007 334.729 L438.464 337.646 L438.464 330.192 L452.926 327.275 L461.109 327.275 L461.109 380.869 L474.477 380.869 L474.477 387.755 L439.639 387.755 L439.639 380.869 Z\" fill=\"#ff0000\" fill-rule=\"nonzero\" fill-opacity=\"1\" /><path clip-path=\"url(#clip950)\" d=\"M513.487 334.405 L492.827 366.691 L513.487 366.691 L513.487 334.405 M511.34 327.275 L521.629 327.275 L521.629 366.691 L530.258 366.691 L530.258 373.496 L521.629 373.496 L521.629 387.755 L513.487 387.755 L513.487 373.496 L486.184 373.496 L486.184 365.597 L511.34 327.275 Z\" fill=\"#ff0000\" fill-rule=\"nonzero\" fill-opacity=\"1\" /><path clip-path=\"url(#clip950)\" d=\"M2057.13 332.663 Q2050.81 332.663 2047.61 338.901 Q2044.45 345.099 2044.45 357.576 Q2044.45 370.012 2047.61 376.251 Q2050.81 382.449 2057.13 382.449 Q2063.49 382.449 2066.65 376.251 Q2069.85 370.012 2069.85 357.576 Q2069.85 345.099 2066.65 338.901 Q2063.49 332.663 2057.13 332.663 M2057.13 326.182 Q2067.3 326.182 2072.64 334.243 Q2078.03 342.264 2078.03 357.576 Q2078.03 372.848 2072.64 380.909 Q2067.3 388.93 2057.13 388.93 Q2046.96 388.93 2041.57 380.909 Q2036.23 372.848 2036.23 357.576 Q2036.23 342.264 2041.57 334.243 Q2046.96 326.182 2057.13 326.182 Z\" fill=\"#ff0000\" fill-rule=\"nonzero\" fill-opacity=\"1\" /><path clip-path=\"url(#clip950)\" d=\"M2092.41 377.466 L2100.96 377.466 L2100.96 387.755 L2092.41 387.755 L2092.41 377.466 Z\" fill=\"#ff0000\" fill-rule=\"nonzero\" fill-opacity=\"1\" /><path clip-path=\"url(#clip950)\" d=\"M2143.57 355.146 Q2149.45 356.401 2152.73 360.371 Q2156.05 364.341 2156.05 370.174 Q2156.05 379.127 2149.89 384.029 Q2143.74 388.93 2132.39 388.93 Q2128.59 388.93 2124.54 388.16 Q2120.53 387.431 2116.23 385.932 L2116.23 378.033 Q2119.63 380.018 2123.68 381.031 Q2127.74 382.044 2132.15 382.044 Q2139.85 382.044 2143.86 379.005 Q2147.91 375.967 2147.91 370.174 Q2147.91 364.827 2144.14 361.83 Q2140.42 358.791 2133.73 358.791 L2126.68 358.791 L2126.68 352.067 L2134.06 352.067 Q2140.09 352.067 2143.29 349.677 Q2146.49 347.246 2146.49 342.709 Q2146.49 338.051 2143.17 335.58 Q2139.89 333.068 2133.73 333.068 Q2130.37 333.068 2126.52 333.797 Q2122.67 334.527 2118.05 336.066 L2118.05 328.774 Q2122.71 327.478 2126.76 326.83 Q2130.86 326.182 2134.46 326.182 Q2143.78 326.182 2149.21 330.435 Q2154.63 334.648 2154.63 341.859 Q2154.63 346.882 2151.76 350.366 Q2148.88 353.809 2143.57 355.146 Z\" fill=\"#ff0000\" fill-rule=\"nonzero\" fill-opacity=\"1\" /><path clip-path=\"url(#clip950)\" d=\"M2189.07 359.034 Q2183.23 359.034 2179.87 362.154 Q2176.55 365.273 2176.55 370.742 Q2176.55 376.21 2179.87 379.33 Q2183.23 382.449 2189.07 382.449 Q2194.9 382.449 2198.26 379.33 Q2201.62 376.17 2201.62 370.742 Q2201.62 365.273 2198.26 362.154 Q2194.94 359.034 2189.07 359.034 M2180.88 355.551 Q2175.62 354.254 2172.66 350.649 Q2169.74 347.044 2169.74 341.859 Q2169.74 334.608 2174.89 330.395 Q2180.07 326.182 2189.07 326.182 Q2198.1 326.182 2203.24 330.395 Q2208.39 334.608 2208.39 341.859 Q2208.39 347.044 2205.43 350.649 Q2202.52 354.254 2197.29 355.551 Q2203.2 356.928 2206.49 360.938 Q2209.81 364.949 2209.81 370.742 Q2209.81 379.532 2204.42 384.231 Q2199.07 388.93 2189.07 388.93 Q2179.06 388.93 2173.67 384.231 Q2168.33 379.532 2168.33 370.742 Q2168.33 364.949 2171.65 360.938 Q2174.97 356.928 2180.88 355.551 M2177.89 342.628 Q2177.89 347.327 2180.8 349.96 Q2183.76 352.594 2189.07 352.594 Q2194.33 352.594 2197.29 349.96 Q2200.29 347.327 2200.29 342.628 Q2200.29 337.929 2197.29 335.296 Q2194.33 332.663 2189.07 332.663 Q2183.76 332.663 2180.8 335.296 Q2177.89 337.929 2177.89 342.628 Z\" fill=\"#ff0000\" fill-rule=\"nonzero\" fill-opacity=\"1\" /><path clip-path=\"url(#clip950)\" d=\"M2246.83 334.405 L2226.17 366.691 L2246.83 366.691 L2246.83 334.405 M2244.69 327.275 L2254.97 327.275 L2254.97 366.691 L2263.6 366.691 L2263.6 373.496 L2254.97 373.496 L2254.97 387.755 L2246.83 387.755 L2246.83 373.496 L2219.53 373.496 L2219.53 365.597 L2244.69 327.275 Z\" fill=\"#ff0000\" fill-rule=\"nonzero\" fill-opacity=\"1\" /><path clip-path=\"url(#clip950)\" d=\"M2301.92 355.146 Q2307.8 356.401 2311.08 360.371 Q2314.4 364.341 2314.4 370.174 Q2314.4 379.127 2308.24 384.029 Q2302.09 388.93 2290.74 388.93 Q2286.94 388.93 2282.89 388.16 Q2278.88 387.431 2274.58 385.932 L2274.58 378.033 Q2277.98 380.018 2282.03 381.031 Q2286.09 382.044 2290.5 382.044 Q2298.2 382.044 2302.21 379.005 Q2306.26 375.967 2306.26 370.174 Q2306.26 364.827 2302.49 361.83 Q2298.77 358.791 2292.08 358.791 L2285.03 358.791 L2285.03 352.067 L2292.41 352.067 Q2298.44 352.067 2301.64 349.677 Q2304.84 347.246 2304.84 342.709 Q2304.84 338.051 2301.52 335.58 Q2298.24 333.068 2292.08 333.068 Q2288.72 333.068 2284.87 333.797 Q2281.02 334.527 2276.4 336.066 L2276.4 328.774 Q2281.06 327.478 2285.11 326.83 Q2289.2 326.182 2292.81 326.182 Q2302.13 326.182 2307.56 330.435 Q2312.98 334.648 2312.98 341.859 Q2312.98 346.882 2310.11 350.366 Q2307.23 353.809 2301.92 355.146 Z\" fill=\"#ff0000\" fill-rule=\"nonzero\" fill-opacity=\"1\" /></svg>\n"
      ]
     },
     "execution_count": 36,
     "metadata": {},
     "output_type": "execute_result"
    }
   ],
   "source": [
    "x = [res.Htest.ConfidenceInterval[1],res.bound[1],res.bound[2],res.Htest.ConfidenceInterval[2]]\n",
    "tol = (x[4]-x[1])/10\n",
    "y =[-0.01,0.01,0.01,-0.01]\n",
    "symbols =[:vline,:vline,:vline,:vline]\n",
    "\n",
    "scatter(x, y, markersize=10,\n",
    "    xlim=(x[1]-tol,x[4]+tol),\n",
    "    ylim=(-0.04,0.04),\n",
    "    markershape=symbols,\n",
    "    markerstrokewidth=4,\n",
    "    label=\"\",\n",
    "    c=[:red,:blue,:blue,:red],\n",
    "    showaxis=:x,\n",
    "    size =(600,120))\n",
    "plot!(x[2:3],y[2:3],label=\"\",c=:blue)\n",
    "plot!(x[1:3:4],y[1:3:4],label=\"\",c=:red)\n",
    "annotate!(x[2], 0.03, string(round(x[2],digits=4)),:blue)\n",
    "annotate!(x[3], 0.03, string(round(x[3],digits=4)),:blue)\n",
    "annotate!(x[1], -0.03, string(round(x[1],digits=4)),:red)\n",
    "annotate!(x[4], -0.03, string(round(x[4],digits=4)),:red)\n"
   ]
  },
  {
   "cell_type": "code",
   "execution_count": 37,
   "metadata": {},
   "outputs": [
    {
     "name": "stdout",
     "output_type": "stream",
     "text": [
      "Results: \n",
      "  Null: [1.0, 2.0]\n",
      "  Bound: [9.2963, 10.5299]\n",
      "  Hausdorff based test: \n",
      "    Test Stat: 1285.5883\n",
      "    Critical Value: 5.9938\n",
      "    Confidence Interval: [9.2566, 10.5697]\n",
      "  directed Hausdorff test: \n",
      "    Test Stat: 1250.3817\n",
      "    Critical Value: 4.9193\n",
      "    Confidence Interval: [9.2637, 10.5626]\n"
     ]
    }
   ],
   "source": [
    "show(EY(yl,yu,[1,2]))"
   ]
  },
  {
   "cell_type": "code",
   "execution_count": 38,
   "metadata": {},
   "outputs": [
    {
     "name": "stdout",
     "output_type": "stream",
     "text": [
      "Results: \n",
      "  Null: [9.2963, 10.5299]\n",
      "  Bound: [9.2963, 10.5299]\n",
      "  Hausdorff based test: \n",
      "    Test Stat: 0.0051\n",
      "    Critical Value: 5.9938\n",
      "    Confidence Interval: [9.2566, 10.5697]\n",
      "  directed Hausdorff test: \n",
      "    Test Stat: 0.0051\n",
      "    Critical Value: 4.9193\n",
      "    Confidence Interval: [9.2637, 10.5626]\n"
     ]
    }
   ],
   "source": [
    "show(EY(yl,yu,[9.2963, 10.5299]))"
   ]
  },
  {
   "cell_type": "code",
   "execution_count": 39,
   "metadata": {},
   "outputs": [
    {
     "name": "stdout",
     "output_type": "stream",
     "text": [
      "Options:\n",
      "  Number of MC iterations: 2000\n",
      "  Seed: 15217\n",
      "  Random Number Generator: Random.MersenneTwister(0x50fc16363fea45a5d8eb9ed6fb752a6c, (0, 341133144, 0, 0, 341131890, 930))\n",
      "  Confidence level: 0.95\n"
     ]
    }
   ],
   "source": [
    "show(default_options)"
   ]
  },
  {
   "cell_type": "code",
   "execution_count": 40,
   "metadata": {},
   "outputs": [
    {
     "ename": "LoadError",
     "evalue": "MethodError: no method matching EY(::Vector{Float64}, ::Vector{Float64}, ::Vector{Int64}, ::Options, ::String)\n\n\u001b[0mClosest candidates are:\n\u001b[0m  EY(::Vector{<:Real}, ::Vector{<:Real}, ::Vector{<:Real}; options, method)\n\u001b[0m\u001b[90m   @\u001b[39m \u001b[35mMain.setBLP\u001b[39m \u001b[90mC:\\Users\\arie\\OneDrive - University of Pittsburgh\\Documents\\Bounds.jl\\Bounds.jl\\src\\\u001b[39m\u001b[90m\u001b[4msetBLP.jl:91\u001b[24m\u001b[39m\n",
     "output_type": "error",
     "traceback": [
      "MethodError: no method matching EY(::Vector{Float64}, ::Vector{Float64}, ::Vector{Int64}, ::Options, ::String)\n\n\u001b[0mClosest candidates are:\n\u001b[0m  EY(::Vector{<:Real}, ::Vector{<:Real}, ::Vector{<:Real}; options, method)\n\u001b[0m\u001b[90m   @\u001b[39m \u001b[35mMain.setBLP\u001b[39m \u001b[90mC:\\Users\\arie\\OneDrive - University of Pittsburgh\\Documents\\Bounds.jl\\Bounds.jl\\src\\\u001b[39m\u001b[90m\u001b[4msetBLP.jl:91\u001b[24m\u001b[39m\n",
      "",
      "Stacktrace:",
      " [1] top-level scope",
      "   @ In[40]:1"
     ]
    }
   ],
   "source": [
    "show(EY(yl,yu,[1,2];options=default_options,met\"boot\"))"
   ]
  },
  {
   "cell_type": "code",
   "execution_count": 41,
   "metadata": {},
   "outputs": [
    {
     "data": {
      "text/plain": [
       "Options(2000, 15217, Random.MersenneTwister(0x50fc16363fea45a5d8eb9ed6fb752a6c, (0, 341133144, 0, 0, 341131890, 930)), 0.95)"
      ]
     },
     "execution_count": 41,
     "metadata": {},
     "output_type": "execute_result"
    }
   ],
   "source": [
    "default_options"
   ]
  },
  {
   "cell_type": "code",
   "execution_count": null,
   "metadata": {},
   "outputs": [],
   "source": []
  }
 ],
 "metadata": {
  "@webio": {
   "lastCommId": null,
   "lastKernelId": null
  },
  "kernelspec": {
   "display_name": "Julia 1.9.2",
   "language": "julia",
   "name": "julia-1.9"
  },
  "language_info": {
   "file_extension": ".jl",
   "mimetype": "application/julia",
   "name": "julia",
   "version": "1.9.2"
  }
 },
 "nbformat": 4,
 "nbformat_minor": 4
}
