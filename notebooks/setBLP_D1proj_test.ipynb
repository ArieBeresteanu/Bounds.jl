{
 "cells": [
  {
   "cell_type": "markdown",
   "metadata": {},
   "source": [
    "# Packages"
   ]
  },
  {
   "cell_type": "code",
   "execution_count": 1,
   "metadata": {},
   "outputs": [],
   "source": [
    "using CSV, DataFrames"
   ]
  },
  {
   "cell_type": "code",
   "execution_count": 2,
   "metadata": {},
   "outputs": [
    {
     "ename": "LoadError",
     "evalue": "ArgumentError: Package FixedEffectModels not found in current path.\n- Run `import Pkg; Pkg.add(\"FixedEffectModels\")` to install the FixedEffectModels package.",
     "output_type": "error",
     "traceback": [
      "ArgumentError: Package FixedEffectModels not found in current path.\n- Run `import Pkg; Pkg.add(\"FixedEffectModels\")` to install the FixedEffectModels package.",
      "",
      "Stacktrace:",
      " [1] macro expansion",
      "   @ .\\loading.jl:1630 [inlined]",
      " [2] macro expansion",
      "   @ .\\lock.jl:267 [inlined]",
      " [3] require(into::Module, mod::Symbol)",
      "   @ Base .\\loading.jl:1611"
     ]
    }
   ],
   "source": [
    "using FixedEffectModels"
   ]
  },
  {
   "cell_type": "code",
   "execution_count": 3,
   "metadata": {},
   "outputs": [],
   "source": [
    "using Plots"
   ]
  },
  {
   "cell_type": "code",
   "execution_count": 4,
   "metadata": {},
   "outputs": [],
   "source": [
    "using Statistics"
   ]
  },
  {
   "cell_type": "markdown",
   "metadata": {},
   "source": [
    "# Uploading CPS data"
   ]
  },
  {
   "cell_type": "code",
   "execution_count": 5,
   "metadata": {},
   "outputs": [
    {
     "data": {
      "text/html": [
       "<div><div style = \"float: left;\"><span>5×3 DataFrame</span></div><div style = \"clear: both;\"></div></div><div class = \"data-frame\" style = \"overflow-x: scroll;\"><table class = \"data-frame\" style = \"margin-bottom: 6px;\"><thead><tr class = \"header\"><th class = \"rowNumber\" style = \"font-weight: bold; text-align: right;\">Row</th><th style = \"text-align: left;\">age</th><th style = \"text-align: left;\">wage</th><th style = \"text-align: left;\">educ</th></tr><tr class = \"subheader headerLastRow\"><th class = \"rowNumber\" style = \"font-weight: bold; text-align: right;\"></th><th title = \"Int64\" style = \"text-align: left;\">Int64</th><th title = \"Int64\" style = \"text-align: left;\">Int64</th><th title = \"String\" style = \"text-align: left;\">String</th></tr></thead><tbody><tr><td class = \"rowNumber\" style = \"font-weight: bold; text-align: right;\">1</td><td style = \"text-align: right;\">22</td><td style = \"text-align: right;\">12000</td><td style = \"text-align: left;\">some college but no degree</td></tr><tr><td class = \"rowNumber\" style = \"font-weight: bold; text-align: right;\">2</td><td style = \"text-align: right;\">21</td><td style = \"text-align: right;\">3500</td><td style = \"text-align: left;\">some college but no degree</td></tr><tr><td class = \"rowNumber\" style = \"font-weight: bold; text-align: right;\">3</td><td style = \"text-align: right;\">49</td><td style = \"text-align: right;\">30000</td><td style = \"text-align: left;\">some college but no degree</td></tr><tr><td class = \"rowNumber\" style = \"font-weight: bold; text-align: right;\">4</td><td style = \"text-align: right;\">31</td><td style = \"text-align: right;\">32000</td><td style = \"text-align: left;\">bachelor&apos;s degree</td></tr><tr><td class = \"rowNumber\" style = \"font-weight: bold; text-align: right;\">5</td><td style = \"text-align: right;\">42</td><td style = \"text-align: right;\">89630</td><td style = \"text-align: left;\">doctorate degree</td></tr></tbody></table></div>"
      ],
      "text/latex": [
       "\\begin{tabular}{r|ccc}\n",
       "\t& age & wage & educ\\\\\n",
       "\t\\hline\n",
       "\t& Int64 & Int64 & String\\\\\n",
       "\t\\hline\n",
       "\t1 & 22 & 12000 & some college but no degree \\\\\n",
       "\t2 & 21 & 3500 & some college but no degree \\\\\n",
       "\t3 & 49 & 30000 & some college but no degree \\\\\n",
       "\t4 & 31 & 32000 & bachelor's degree \\\\\n",
       "\t5 & 42 & 89630 & doctorate degree \\\\\n",
       "\\end{tabular}\n"
      ],
      "text/plain": [
       "\u001b[1m5×3 DataFrame\u001b[0m\n",
       "\u001b[1m Row \u001b[0m│\u001b[1m age   \u001b[0m\u001b[1m wage  \u001b[0m\u001b[1m educ                       \u001b[0m\n",
       "     │\u001b[90m Int64 \u001b[0m\u001b[90m Int64 \u001b[0m\u001b[90m String                     \u001b[0m\n",
       "─────┼──────────────────────────────────────────\n",
       "   1 │    22  12000  some college but no degree\n",
       "   2 │    21   3500  some college but no degree\n",
       "   3 │    49  30000  some college but no degree\n",
       "   4 │    31  32000  bachelor's degree\n",
       "   5 │    42  89630  doctorate degree"
      ]
     },
     "execution_count": 5,
     "metadata": {},
     "output_type": "execute_result"
    }
   ],
   "source": [
    "cps = DataFrame(CSV.File(\"c:\\\\data\\\\Bounds\\\\cps.csv\")) # <-change this to the right directory\n",
    "\n",
    "## Cleaning zero wage\n",
    "\n",
    "cps = cps[cps.wage .> 0, :]\n",
    "first(cps,5)"
   ]
  },
  {
   "cell_type": "code",
   "execution_count": 6,
   "metadata": {},
   "outputs": [
    {
     "data": {
      "text/plain": [
       "Dict{String, Int64} with 16 entries:\n",
       "  \"grade 11\"                                            => 11\n",
       "  \"some college but no degree\"                          => 13\n",
       "  \"associate's degree, academic program\"                => 14\n",
       "  \"none or preschool\"                                   => 0\n",
       "  \"doctorate degree\"                                    => 21\n",
       "  \"grade 10\"                                            => 10\n",
       "  \"bachelor's degree\"                                   => 16\n",
       "  \"master's degree\"                                     => 14\n",
       "  \"grades 5 or 6\"                                       => 6\n",
       "  \"grades 7 or 8\"                                       => 8\n",
       "  \"grades 1, 2, 3, or 4\"                                => 4\n",
       "  \"associate's degree, occupational/vocational program\" => 14\n",
       "  \"professional school degree\"                          => 14\n",
       "  \"high school diploma or equivalent\"                   => 12\n",
       "  \"grade 9\"                                             => 9\n",
       "  \"12th grade, no diploma\"                              => 12"
      ]
     },
     "execution_count": 6,
     "metadata": {},
     "output_type": "execute_result"
    }
   ],
   "source": [
    "# Numerical value for education\n",
    "\n",
    "#1.Creating a dictionary\n",
    "\n",
    "educ_dict = Dict( \n",
    "    \"grade 11\" => 11, \n",
    "    \"some college but no degree\" => 13, \n",
    "    \"associate's degree, academic program\" => 14,\n",
    "    \"grade 10\" => 10, \n",
    "    \"grades 7 or 8\" => 8, \n",
    "    \"grades 1, 2, 3, or 4\" => 4, \n",
    "    \"associate's degree, occupational/vocational program\" => 14, \n",
    "    \"high school diploma or equivalent\" => 12, \n",
    "    \"grade 9\" => 9, \n",
    "    \"none or preschool\" => 0, \n",
    "    \"doctorate degree\" => 21,\n",
    "    \"bachelor's degree\" => 16, \n",
    "    \"master's degree\" => 14, \n",
    "    \"grades 5 or 6\" => 6, \n",
    "    \"professional school degree\" => 14, \n",
    "    \"12th grade, no diploma\" => 12\n",
    "    )"
   ]
  },
  {
   "cell_type": "code",
   "execution_count": 7,
   "metadata": {},
   "outputs": [
    {
     "data": {
      "text/html": [
       "<div><div style = \"float: left;\"><span>3×5 DataFrame</span></div><div style = \"clear: both;\"></div></div><div class = \"data-frame\" style = \"overflow-x: scroll;\"><table class = \"data-frame\" style = \"margin-bottom: 6px;\"><thead><tr class = \"header\"><th class = \"rowNumber\" style = \"font-weight: bold; text-align: right;\">Row</th><th style = \"text-align: left;\">age</th><th style = \"text-align: left;\">wage</th><th style = \"text-align: left;\">educ</th><th style = \"text-align: left;\">educ_num</th><th style = \"text-align: left;\">log_wage</th></tr><tr class = \"subheader headerLastRow\"><th class = \"rowNumber\" style = \"font-weight: bold; text-align: right;\"></th><th title = \"Int64\" style = \"text-align: left;\">Int64</th><th title = \"Int64\" style = \"text-align: left;\">Int64</th><th title = \"String\" style = \"text-align: left;\">String</th><th title = \"Int64\" style = \"text-align: left;\">Int64</th><th title = \"Float64\" style = \"text-align: left;\">Float64</th></tr></thead><tbody><tr><td class = \"rowNumber\" style = \"font-weight: bold; text-align: right;\">1</td><td style = \"text-align: right;\">22</td><td style = \"text-align: right;\">12000</td><td style = \"text-align: left;\">some college but no degree</td><td style = \"text-align: right;\">13</td><td style = \"text-align: right;\">9.39266</td></tr><tr><td class = \"rowNumber\" style = \"font-weight: bold; text-align: right;\">2</td><td style = \"text-align: right;\">21</td><td style = \"text-align: right;\">3500</td><td style = \"text-align: left;\">some college but no degree</td><td style = \"text-align: right;\">13</td><td style = \"text-align: right;\">8.16052</td></tr><tr><td class = \"rowNumber\" style = \"font-weight: bold; text-align: right;\">3</td><td style = \"text-align: right;\">49</td><td style = \"text-align: right;\">30000</td><td style = \"text-align: left;\">some college but no degree</td><td style = \"text-align: right;\">13</td><td style = \"text-align: right;\">10.309</td></tr></tbody></table></div>"
      ],
      "text/latex": [
       "\\begin{tabular}{r|ccccc}\n",
       "\t& age & wage & educ & educ\\_num & log\\_wage\\\\\n",
       "\t\\hline\n",
       "\t& Int64 & Int64 & String & Int64 & Float64\\\\\n",
       "\t\\hline\n",
       "\t1 & 22 & 12000 & some college but no degree & 13 & 9.39266 \\\\\n",
       "\t2 & 21 & 3500 & some college but no degree & 13 & 8.16052 \\\\\n",
       "\t3 & 49 & 30000 & some college but no degree & 13 & 10.309 \\\\\n",
       "\\end{tabular}\n"
      ],
      "text/plain": [
       "\u001b[1m3×5 DataFrame\u001b[0m\n",
       "\u001b[1m Row \u001b[0m│\u001b[1m age   \u001b[0m\u001b[1m wage  \u001b[0m\u001b[1m educ                       \u001b[0m\u001b[1m educ_num \u001b[0m\u001b[1m log_wage \u001b[0m\n",
       "     │\u001b[90m Int64 \u001b[0m\u001b[90m Int64 \u001b[0m\u001b[90m String                     \u001b[0m\u001b[90m Int64    \u001b[0m\u001b[90m Float64  \u001b[0m\n",
       "─────┼──────────────────────────────────────────────────────────────\n",
       "   1 │    22  12000  some college but no degree        13   9.39266\n",
       "   2 │    21   3500  some college but no degree        13   8.16052\n",
       "   3 │    49  30000  some college but no degree        13  10.309"
      ]
     },
     "execution_count": 7,
     "metadata": {},
     "output_type": "execute_result"
    }
   ],
   "source": [
    "#2. transforming cps.educ\n",
    "f(x) = educ_dict[x]\n",
    "cps.educ_num = f.(cps.educ)\n",
    "\n",
    "#3. log of wage\n",
    "cps.log_wage = log.(cps.wage)\n",
    "first(cps,3)"
   ]
  },
  {
   "cell_type": "code",
   "execution_count": 8,
   "metadata": {},
   "outputs": [
    {
     "name": "stdout",
     "output_type": "stream",
     "text": [
      "The original data contains 22715 observations and 5 columns."
     ]
    }
   ],
   "source": [
    "Nobs, c = size(cps)\n",
    "print(\"The original data contains \", Nobs, \" observations and \",c, \" columns.\")"
   ]
  },
  {
   "cell_type": "markdown",
   "metadata": {},
   "source": [
    "# Best Linear Predictor "
   ]
  },
  {
   "cell_type": "code",
   "execution_count": 9,
   "metadata": {},
   "outputs": [],
   "source": [
    "#reg(cps, @formula(log_wage ~ educ_num ), Vcov.robust())"
   ]
  },
  {
   "cell_type": "code",
   "execution_count": 10,
   "metadata": {
    "scrolled": true
   },
   "outputs": [],
   "source": [
    "#reg(cps, @formula(log_wage ~ educ_num + age ), Vcov.robust())"
   ]
  },
  {
   "cell_type": "markdown",
   "metadata": {},
   "source": [
    "# Creating Interval Data"
   ]
  },
  {
   "cell_type": "code",
   "execution_count": 11,
   "metadata": {},
   "outputs": [
    {
     "data": {
      "text/plain": [
       "362303.0"
      ]
     },
     "execution_count": 11,
     "metadata": {},
     "output_type": "execute_result"
    }
   ],
   "source": [
    "wage_quantiles = quantile(cps[!,:wage],[0.0, 0.1,0.2,0.3,0.4,0.5,0.6,0.7,0.8,0.9,1.0], sorted=false);\n",
    "#wage_quantiles[1] +=-1\n",
    "wage_quantiles[end] +=1"
   ]
  },
  {
   "cell_type": "code",
   "execution_count": 12,
   "metadata": {},
   "outputs": [
    {
     "data": {
      "text/html": [
       "<div><div style = \"float: left;\"><span>3×9 DataFrame</span></div><div style = \"clear: both;\"></div></div><div class = \"data-frame\" style = \"overflow-x: scroll;\"><table class = \"data-frame\" style = \"margin-bottom: 6px;\"><thead><tr class = \"header\"><th class = \"rowNumber\" style = \"font-weight: bold; text-align: right;\">Row</th><th style = \"text-align: left;\">age</th><th style = \"text-align: left;\">wage</th><th style = \"text-align: left;\">educ</th><th style = \"text-align: left;\">educ_num</th><th style = \"text-align: left;\">log_wage</th><th style = \"text-align: left;\">wage_lower</th><th style = \"text-align: left;\">wage_upper</th><th style = \"text-align: left;\">logwage_lower</th><th style = \"text-align: left;\">logwage_upper</th></tr><tr class = \"subheader headerLastRow\"><th class = \"rowNumber\" style = \"font-weight: bold; text-align: right;\"></th><th title = \"Int64\" style = \"text-align: left;\">Int64</th><th title = \"Int64\" style = \"text-align: left;\">Int64</th><th title = \"String\" style = \"text-align: left;\">String</th><th title = \"Int64\" style = \"text-align: left;\">Int64</th><th title = \"Float64\" style = \"text-align: left;\">Float64</th><th title = \"Float64\" style = \"text-align: left;\">Float64</th><th title = \"Float64\" style = \"text-align: left;\">Float64</th><th title = \"Float64\" style = \"text-align: left;\">Float64</th><th title = \"Float64\" style = \"text-align: left;\">Float64</th></tr></thead><tbody><tr><td class = \"rowNumber\" style = \"font-weight: bold; text-align: right;\">1</td><td style = \"text-align: right;\">22</td><td style = \"text-align: right;\">12000</td><td style = \"text-align: left;\">some college but no degree</td><td style = \"text-align: right;\">13</td><td style = \"text-align: right;\">9.39266</td><td style = \"text-align: right;\">9000.0</td><td style = \"text-align: right;\">15000.0</td><td style = \"text-align: right;\">9.10498</td><td style = \"text-align: right;\">9.61581</td></tr><tr><td class = \"rowNumber\" style = \"font-weight: bold; text-align: right;\">2</td><td style = \"text-align: right;\">21</td><td style = \"text-align: right;\">3500</td><td style = \"text-align: left;\">some college but no degree</td><td style = \"text-align: right;\">13</td><td style = \"text-align: right;\">8.16052</td><td style = \"text-align: right;\">1.0</td><td style = \"text-align: right;\">9000.0</td><td style = \"text-align: right;\">0.0</td><td style = \"text-align: right;\">9.10498</td></tr><tr><td class = \"rowNumber\" style = \"font-weight: bold; text-align: right;\">3</td><td style = \"text-align: right;\">49</td><td style = \"text-align: right;\">30000</td><td style = \"text-align: left;\">some college but no degree</td><td style = \"text-align: right;\">13</td><td style = \"text-align: right;\">10.309</td><td style = \"text-align: right;\">30000.0</td><td style = \"text-align: right;\">36000.0</td><td style = \"text-align: right;\">10.309</td><td style = \"text-align: right;\">10.4913</td></tr></tbody></table></div>"
      ],
      "text/latex": [
       "\\begin{tabular}{r|cccccccc}\n",
       "\t& age & wage & educ & educ\\_num & log\\_wage & wage\\_lower & wage\\_upper & \\\\\n",
       "\t\\hline\n",
       "\t& Int64 & Int64 & String & Int64 & Float64 & Float64 & Float64 & \\\\\n",
       "\t\\hline\n",
       "\t1 & 22 & 12000 & some college but no degree & 13 & 9.39266 & 9000.0 & 15000.0 & $\\dots$ \\\\\n",
       "\t2 & 21 & 3500 & some college but no degree & 13 & 8.16052 & 1.0 & 9000.0 & $\\dots$ \\\\\n",
       "\t3 & 49 & 30000 & some college but no degree & 13 & 10.309 & 30000.0 & 36000.0 & $\\dots$ \\\\\n",
       "\\end{tabular}\n"
      ],
      "text/plain": [
       "\u001b[1m3×9 DataFrame\u001b[0m\n",
       "\u001b[1m Row \u001b[0m│\u001b[1m age   \u001b[0m\u001b[1m wage  \u001b[0m\u001b[1m educ                       \u001b[0m\u001b[1m educ_num \u001b[0m\u001b[1m log_wage \u001b[0m\u001b[1m wage_lowe\u001b[0m ⋯\n",
       "     │\u001b[90m Int64 \u001b[0m\u001b[90m Int64 \u001b[0m\u001b[90m String                     \u001b[0m\u001b[90m Int64    \u001b[0m\u001b[90m Float64  \u001b[0m\u001b[90m Float64  \u001b[0m ⋯\n",
       "─────┼──────────────────────────────────────────────────────────────────────────\n",
       "   1 │    22  12000  some college but no degree        13   9.39266      9000. ⋯\n",
       "   2 │    21   3500  some college but no degree        13   8.16052         1.\n",
       "   3 │    49  30000  some college but no degree        13  10.309       30000.\n",
       "\u001b[36m                                                               4 columns omitted\u001b[0m"
      ]
     },
     "execution_count": 12,
     "metadata": {},
     "output_type": "execute_result"
    }
   ],
   "source": [
    "lower(x) = wage_quantiles[sum(wage_quantiles .<=x)]\n",
    "upper(x) = wage_quantiles[sum(wage_quantiles .<=x)+1]\n",
    "\n",
    "cps.wage_lower = lower.(cps.wage)\n",
    "cps.wage_upper = upper.(cps.wage)\n",
    "\n",
    "cps.logwage_lower = log.(cps.wage_lower)\n",
    "cps.logwage_upper = log.(cps.wage_upper)\n",
    "\n",
    "first(cps,3)"
   ]
  },
  {
   "cell_type": "code",
   "execution_count": 13,
   "metadata": {},
   "outputs": [
    {
     "name": "stdout",
     "output_type": "stream",
     "text": [
      "The complete data contains 22715 observations and 9 columns."
     ]
    }
   ],
   "source": [
    "Nobs, c = size(cps)\n",
    "print(\"The complete data contains \", Nobs, \" observations and \",c, \" columns.\")"
   ]
  },
  {
   "cell_type": "markdown",
   "metadata": {},
   "source": [
    "# Partial Indentification"
   ]
  },
  {
   "cell_type": "markdown",
   "metadata": {},
   "source": [
    "### Reading the module"
   ]
  },
  {
   "cell_type": "code",
   "execution_count": 14,
   "metadata": {},
   "outputs": [
    {
     "data": {
      "text/plain": [
       "Main.setBLP"
      ]
     },
     "execution_count": 14,
     "metadata": {},
     "output_type": "execute_result"
    }
   ],
   "source": [
    "include(\"C:\\\\Users\\\\arie\\\\OneDrive - University of Pittsburgh\\\\Documents\\\\Bounds.jl\\\\Bounds.jl\\\\src\\\\setBLP.jl\")"
   ]
  },
  {
   "cell_type": "code",
   "execution_count": 15,
   "metadata": {},
   "outputs": [],
   "source": [
    "using Main.setBLP"
   ]
  },
  {
   "cell_type": "markdown",
   "metadata": {},
   "source": [
    "## Testing projection function"
   ]
  },
  {
   "cell_type": "code",
   "execution_count": 16,
   "metadata": {},
   "outputs": [
    {
     "data": {
      "text/html": [
       "# 7 methods for generic function <b>projection</b> from \u001b[35mMain.setBLP\u001b[39m:<ul><li> projection(yl::<b>Vector{<:Real}</b>, yu::<b>Vector{<:Real}</b>, x::<b>Vector{<:Real}</b>) in Main.setBLP at <a href=\"https://github.com/ArieBeresteanu/Bounds.jl/tree/baaa7625da2c43f60bc7f0ff9170d7634adb58e3//src/setBLP.jl#L197\" target=\"_blank\">C:\\Users\\arie\\OneDrive - University of Pittsburgh\\Documents\\Bounds.jl\\Bounds.jl\\src\\setBLP.jl:197</a></li> <li> projection(yl::<b>Vector{<:Real}</b>, yu::<b>Vector{<:Real}</b>, x::<b>Matrix{<:Real}</b>) in Main.setBLP at <a href=\"https://github.com/ArieBeresteanu/Bounds.jl/tree/baaa7625da2c43f60bc7f0ff9170d7634adb58e3//src/setBLP.jl#L238\" target=\"_blank\">C:\\Users\\arie\\OneDrive - University of Pittsburgh\\Documents\\Bounds.jl\\Bounds.jl\\src\\setBLP.jl:238</a></li> <li> projection(yl::<b>Vector{<:Real}</b>, yu::<b>Vector{<:Real}</b>, x::<b>Matrix{<:Real}</b>, cord::<b>Int64</b>) in Main.setBLP at <a href=\"https://github.com/ArieBeresteanu/Bounds.jl/tree/baaa7625da2c43f60bc7f0ff9170d7634adb58e3//src/setBLP.jl#L208\" target=\"_blank\">C:\\Users\\arie\\OneDrive - University of Pittsburgh\\Documents\\Bounds.jl\\Bounds.jl\\src\\setBLP.jl:208</a></li> <li> projection(yl::<b>Vector{<:Real}</b>, yu::<b>Vector{<:Real}</b>, x::<b>Matrix{<:Real}</b>, cords::<b>Vector{Int64}</b>) in Main.setBLP at <a href=\"https://github.com/ArieBeresteanu/Bounds.jl/tree/baaa7625da2c43f60bc7f0ff9170d7634adb58e3//src/setBLP.jl#L221\" target=\"_blank\">C:\\Users\\arie\\OneDrive - University of Pittsburgh\\Documents\\Bounds.jl\\Bounds.jl\\src\\setBLP.jl:221</a></li> <li> projection(df::<b>DataFrame</b>, yl::<b>Symbol</b>, yu::<b>Symbol</b>, x::<b>Symbol</b>) in Main.setBLP at <a href=\"https://github.com/ArieBeresteanu/Bounds.jl/tree/baaa7625da2c43f60bc7f0ff9170d7634adb58e3//src/setBLP.jl#L256\" target=\"_blank\">C:\\Users\\arie\\OneDrive - University of Pittsburgh\\Documents\\Bounds.jl\\Bounds.jl\\src\\setBLP.jl:256</a></li> <li> projection(df::<b>DataFrame</b>, yl::<b>Symbol</b>, yu::<b>Symbol</b>, x::<b>Vector{Symbol}</b>) in Main.setBLP at <a href=\"https://github.com/ArieBeresteanu/Bounds.jl/tree/baaa7625da2c43f60bc7f0ff9170d7634adb58e3//src/setBLP.jl#L264\" target=\"_blank\">C:\\Users\\arie\\OneDrive - University of Pittsburgh\\Documents\\Bounds.jl\\Bounds.jl\\src\\setBLP.jl:264</a></li> <li> projection(df::<b>DataFrame</b>, yl::<b>Symbol</b>, yu::<b>Symbol</b>, x::<b>Vector{Symbol}</b>, cord::<b>Int64</b>) in Main.setBLP at <a href=\"https://github.com/ArieBeresteanu/Bounds.jl/tree/baaa7625da2c43f60bc7f0ff9170d7634adb58e3//src/setBLP.jl#L272\" target=\"_blank\">C:\\Users\\arie\\OneDrive - University of Pittsburgh\\Documents\\Bounds.jl\\Bounds.jl\\src\\setBLP.jl:272</a></li> </ul>"
      ],
      "text/plain": [
       "# 7 methods for generic function \"projection\" from \u001b[35mMain.setBLP\u001b[39m:\n",
       " [1] projection(\u001b[90myl\u001b[39m::\u001b[1mVector\u001b[22m\u001b[0m{<:Real}, \u001b[90myu\u001b[39m::\u001b[1mVector\u001b[22m\u001b[0m{<:Real}, \u001b[90mx\u001b[39m::\u001b[1mVector\u001b[22m\u001b[0m{<:Real})\n",
       "\u001b[90m     @\u001b[39m \u001b[90mC:\\Users\\arie\\OneDrive - University of Pittsburgh\\Documents\\Bounds.jl\\Bounds.jl\\src\\\u001b[39m\u001b[90m\u001b[4msetBLP.jl:197\u001b[24m\u001b[39m\n",
       " [2] projection(\u001b[90myl\u001b[39m::\u001b[1mVector\u001b[22m\u001b[0m{<:Real}, \u001b[90myu\u001b[39m::\u001b[1mVector\u001b[22m\u001b[0m{<:Real}, \u001b[90mx\u001b[39m::\u001b[1mMatrix\u001b[22m\u001b[0m{<:Real})\n",
       "\u001b[90m     @\u001b[39m \u001b[90mC:\\Users\\arie\\OneDrive - University of Pittsburgh\\Documents\\Bounds.jl\\Bounds.jl\\src\\\u001b[39m\u001b[90m\u001b[4msetBLP.jl:238\u001b[24m\u001b[39m\n",
       " [3] projection(\u001b[90myl\u001b[39m::\u001b[1mVector\u001b[22m\u001b[0m{<:Real}, \u001b[90myu\u001b[39m::\u001b[1mVector\u001b[22m\u001b[0m{<:Real}, \u001b[90mx\u001b[39m::\u001b[1mMatrix\u001b[22m\u001b[0m{<:Real}, \u001b[90mcord\u001b[39m::\u001b[1mInt64\u001b[22m)\n",
       "\u001b[90m     @\u001b[39m \u001b[90mC:\\Users\\arie\\OneDrive - University of Pittsburgh\\Documents\\Bounds.jl\\Bounds.jl\\src\\\u001b[39m\u001b[90m\u001b[4msetBLP.jl:208\u001b[24m\u001b[39m\n",
       " [4] projection(\u001b[90myl\u001b[39m::\u001b[1mVector\u001b[22m\u001b[0m{<:Real}, \u001b[90myu\u001b[39m::\u001b[1mVector\u001b[22m\u001b[0m{<:Real}, \u001b[90mx\u001b[39m::\u001b[1mMatrix\u001b[22m\u001b[0m{<:Real}, \u001b[90mcords\u001b[39m::\u001b[1mVector\u001b[22m\u001b[0m{Int64})\n",
       "\u001b[90m     @\u001b[39m \u001b[90mC:\\Users\\arie\\OneDrive - University of Pittsburgh\\Documents\\Bounds.jl\\Bounds.jl\\src\\\u001b[39m\u001b[90m\u001b[4msetBLP.jl:221\u001b[24m\u001b[39m\n",
       " [5] projection(\u001b[90mdf\u001b[39m::\u001b[1mDataFrame\u001b[22m, \u001b[90myl\u001b[39m::\u001b[1mSymbol\u001b[22m, \u001b[90myu\u001b[39m::\u001b[1mSymbol\u001b[22m, \u001b[90mx\u001b[39m::\u001b[1mSymbol\u001b[22m)\n",
       "\u001b[90m     @\u001b[39m \u001b[90mC:\\Users\\arie\\OneDrive - University of Pittsburgh\\Documents\\Bounds.jl\\Bounds.jl\\src\\\u001b[39m\u001b[90m\u001b[4msetBLP.jl:256\u001b[24m\u001b[39m\n",
       " [6] projection(\u001b[90mdf\u001b[39m::\u001b[1mDataFrame\u001b[22m, \u001b[90myl\u001b[39m::\u001b[1mSymbol\u001b[22m, \u001b[90myu\u001b[39m::\u001b[1mSymbol\u001b[22m, \u001b[90mx\u001b[39m::\u001b[1mVector\u001b[22m\u001b[0m{Symbol})\n",
       "\u001b[90m     @\u001b[39m \u001b[90mC:\\Users\\arie\\OneDrive - University of Pittsburgh\\Documents\\Bounds.jl\\Bounds.jl\\src\\\u001b[39m\u001b[90m\u001b[4msetBLP.jl:264\u001b[24m\u001b[39m\n",
       " [7] projection(\u001b[90mdf\u001b[39m::\u001b[1mDataFrame\u001b[22m, \u001b[90myl\u001b[39m::\u001b[1mSymbol\u001b[22m, \u001b[90myu\u001b[39m::\u001b[1mSymbol\u001b[22m, \u001b[90mx\u001b[39m::\u001b[1mVector\u001b[22m\u001b[0m{Symbol}, \u001b[90mcord\u001b[39m::\u001b[1mInt64\u001b[22m)\n",
       "\u001b[90m     @\u001b[39m \u001b[90mC:\\Users\\arie\\OneDrive - University of Pittsburgh\\Documents\\Bounds.jl\\Bounds.jl\\src\\\u001b[39m\u001b[90m\u001b[4msetBLP.jl:272\u001b[24m\u001b[39m"
      ]
     },
     "execution_count": 16,
     "metadata": {},
     "output_type": "execute_result"
    }
   ],
   "source": [
    "methods(projection)"
   ]
  },
  {
   "cell_type": "code",
   "execution_count": 17,
   "metadata": {},
   "outputs": [
    {
     "name": "stdout",
     "output_type": "stream",
     "text": [
      "Options:\n",
      "  Number of MC iterations: 2000\n",
      "  Seed: 15217\n",
      "  Random Number Generator: Random.MersenneTwister(0xb9ee945df82d27a6e9849054923ac6c9)\n",
      "  Confidence level: 0.95\n"
     ]
    }
   ],
   "source": [
    "show(default_options)"
   ]
  },
  {
   "cell_type": "markdown",
   "metadata": {},
   "source": [
    "### 1. Testing the vector/matrix functions"
   ]
  },
  {
   "cell_type": "code",
   "execution_count": 18,
   "metadata": {},
   "outputs": [],
   "source": [
    "# Preparing vector and matrix versions of the data\n",
    "\n",
    "yl = cps.logwage_lower;\n",
    "yu = cps.logwage_upper;\n",
    "x1 = cps.age;\n",
    "x2 = cps.educ_num;\n",
    "x = [x1 x2];"
   ]
  },
  {
   "cell_type": "code",
   "execution_count": 19,
   "metadata": {},
   "outputs": [],
   "source": [
    "#projection(yl,yu,x1)"
   ]
  },
  {
   "cell_type": "code",
   "execution_count": 20,
   "metadata": {},
   "outputs": [],
   "source": [
    "#projection(yl,yu,x1)"
   ]
  },
  {
   "cell_type": "code",
   "execution_count": 21,
   "metadata": {},
   "outputs": [
    {
     "data": {
      "text/plain": [
       "1×2 Matrix{Float64}:\n",
       " -0.00905178  0.144324"
      ]
     },
     "execution_count": 21,
     "metadata": {},
     "output_type": "execute_result"
    }
   ],
   "source": [
    "projection(yl,yu,x,1)"
   ]
  },
  {
   "cell_type": "code",
   "execution_count": 22,
   "metadata": {},
   "outputs": [],
   "source": [
    "#projection(yl,yu,x,2)"
   ]
  },
  {
   "cell_type": "code",
   "execution_count": 23,
   "metadata": {},
   "outputs": [],
   "source": [
    "#projection(yl,yu,x)"
   ]
  },
  {
   "cell_type": "markdown",
   "metadata": {},
   "source": [
    "### 2. Testing the Dataframe version of the functions"
   ]
  },
  {
   "cell_type": "code",
   "execution_count": 24,
   "metadata": {},
   "outputs": [
    {
     "data": {
      "text/plain": [
       "1×2 Matrix{Float64}:\n",
       " -0.00488786  0.14866"
      ]
     },
     "execution_count": 24,
     "metadata": {},
     "output_type": "execute_result"
    }
   ],
   "source": [
    "projection(cps,:logwage_lower,:logwage_upper,:age)"
   ]
  },
  {
   "cell_type": "code",
   "execution_count": 25,
   "metadata": {},
   "outputs": [],
   "source": [
    "#projection(cps,:logwage_lower,:logwage_upper,:educ_num)"
   ]
  },
  {
   "cell_type": "code",
   "execution_count": 26,
   "metadata": {},
   "outputs": [],
   "source": [
    "#projection(cps,:logwage_lower,:logwage_upper,[:age,:educ_num],1)"
   ]
  },
  {
   "cell_type": "code",
   "execution_count": 27,
   "metadata": {},
   "outputs": [],
   "source": [
    "#projection(cps,:logwage_lower,:logwage_upper,[:age,:educ_num],2)"
   ]
  },
  {
   "cell_type": "code",
   "execution_count": 28,
   "metadata": {},
   "outputs": [],
   "source": [
    "#projection(cps,:logwage_lower,:logwage_upper,[:age,:educ_num])"
   ]
  },
  {
   "cell_type": "markdown",
   "metadata": {},
   "source": [
    "## Testing oneDproj function"
   ]
  },
  {
   "cell_type": "code",
   "execution_count": 29,
   "metadata": {},
   "outputs": [
    {
     "name": "stdout",
     "output_type": "stream",
     "text": [
      "Results: \n",
      "  Null: [0.0, 0.15]\n",
      "  Bound: [-0.0049, 0.1487]\n",
      "  Hausdorff based test: \n",
      "    Test Stat: 0.7367\n",
      "    Critical Value: 0.7318\n",
      "    Confidence Interval: [-0.0097, 0.1535]\n",
      "  directed Hausdorff test: \n",
      "    Test Stat: 0.202\n",
      "    Critical Value: 0.6078\n",
      "    Confidence Interval: [-0.0089, 0.1527]\n"
     ]
    }
   ],
   "source": [
    "res = oneDproj(yl,yu,float.(x1);CI=true,H0=[0, 0.15]);\n",
    "show(res)"
   ]
  },
  {
   "cell_type": "code",
   "execution_count": 30,
   "metadata": {},
   "outputs": [
    {
     "name": "stdout",
     "output_type": "stream",
     "text": [
      "Results: \n",
      "  Null: [0.1, 0.15]\n",
      "  Bound: [-0.0049, 0.1487]\n",
      "  Hausdorff based test: \n",
      "    Test Stat: 15.8082\n",
      "    Critical Value: 0.7453\n",
      "    Confidence Interval: [-0.0098, 0.1536]\n",
      "  directed Hausdorff test: \n",
      "    Test Stat: 0.202\n",
      "    Critical Value: 0.6172\n",
      "    Confidence Interval: [-0.009, 0.1528]\n"
     ]
    }
   ],
   "source": [
    "res = oneDproj(yl,yu,float.(x1);CI=true,H0=[0.1,0.15]);\n",
    "show(res)"
   ]
  },
  {
   "cell_type": "code",
   "execution_count": 31,
   "metadata": {},
   "outputs": [
    {
     "name": "stdout",
     "output_type": "stream",
     "text": [
      "Results: \n",
      "  Null: [0.0, 0.1]\n",
      "  Bound: [-0.0049, 0.1487]\n",
      "  Hausdorff based test: \n",
      "    Test Stat: 7.3337\n",
      "    Critical Value: 0.7391\n",
      "    Confidence Interval: [-0.0098, 0.1536]\n",
      "  directed Hausdorff test: \n",
      "    Test Stat: 0.0\n",
      "    Critical Value: 0.6135\n",
      "    Confidence Interval: [-0.009, 0.1527]\n"
     ]
    }
   ],
   "source": [
    "res = oneDproj(yl,yu,float.(x1);CI=true,H0=[0.0,0.1]);\n",
    "show(res)"
   ]
  },
  {
   "cell_type": "code",
   "execution_count": 32,
   "metadata": {},
   "outputs": [
    {
     "name": "stdout",
     "output_type": "stream",
     "text": [
      "Results: \n",
      "  Null: [-0.1, 0.15]\n",
      "  Bound: [-0.0049, 0.1487]\n",
      "  Hausdorff based test: \n",
      "    Test Stat: 14.3348\n",
      "    Critical Value: 0.711\n",
      "    Confidence Interval: [-0.0096, 0.1534]\n",
      "  directed Hausdorff test: \n",
      "    Test Stat: 14.3348\n",
      "    Critical Value: 0.5924\n",
      "    Confidence Interval: [-0.0088, 0.1526]\n"
     ]
    }
   ],
   "source": [
    "res = oneDproj(yl,yu,float.(x1);CI=true,H0=[-0.1,0.15]);\n",
    "show(res)"
   ]
  },
  {
   "cell_type": "code",
   "execution_count": 33,
   "metadata": {},
   "outputs": [
    {
     "data": {
      "text/plain": [
       "Results([-0.004887858329799178, 0.14865963017399053], nothing, nothing, nothing)"
      ]
     },
     "execution_count": 33,
     "metadata": {},
     "output_type": "execute_result"
    }
   ],
   "source": [
    "res = oneDproj(yl,yu,float.(x1);CI=false,H0=nothing)"
   ]
  },
  {
   "cell_type": "code",
   "execution_count": 34,
   "metadata": {},
   "outputs": [
    {
     "data": {
      "text/plain": [
       "Results([-0.004887858329799178, 0.14865963017399053], nothing, TestResults([-0.009749455401468926, 0.15352122724566028], 0.7327154216148926, nothing), TestResults([-0.00898769039072605, 0.1527594622349174], 0.6179060363882726, nothing))"
      ]
     },
     "execution_count": 34,
     "metadata": {},
     "output_type": "execute_result"
    }
   ],
   "source": [
    "res = oneDproj(yl,yu,real.(x1))"
   ]
  },
  {
   "cell_type": "code",
   "execution_count": 35,
   "metadata": {},
   "outputs": [
    {
     "data": {
      "text/plain": [
       "Results([0.001786042221944126, 0.3685793555817362], nothing, TestResults([-0.014426434654824674, 0.384791832458505], 2.4434628487431147, nothing), TestResults([-0.011791022966321691, 0.382156420770002], 2.046266874250917, nothing))"
      ]
     },
     "execution_count": 35,
     "metadata": {},
     "output_type": "execute_result"
    }
   ],
   "source": [
    "res = oneDproj(cps,:logwage_lower,:logwage_upper,:educ_num)"
   ]
  },
  {
   "cell_type": "markdown",
   "metadata": {},
   "source": [
    "### Plotting"
   ]
  },
  {
   "cell_type": "code",
   "execution_count": 36,
   "metadata": {},
   "outputs": [
    {
     "data": {
      "image/png": "[encoded data removed]",
      "image/svg+xml": [
       "<?xml version=\"1.0\" encoding=\"utf-8\"?>\n",
       "<svg xmlns=\"http://www.w3.org/2000/svg\" xmlns:xlink=\"http://www.w3.org/1999/xlink\" width=\"600\" height=\"120\" viewBox=\"0 0 2400 480\">\n",
       "<defs>\n",
       "  <clipPath id=\"clip940\">\n",
       "    <rect x=\"0\" y=\"0\" width=\"2400\" height=\"480\"/>\n",
       "  </clipPath>\n",
       "</defs>\n",
       "<path clip-path=\"url(#clip940)\" d=\"M0 480 L2400 480 L2400 0 L0 0  Z\" fill=\"#ffffff\" fill-rule=\"evenodd\" fill-opacity=\"1\"/>\n",
       "<defs>\n",
       "  <clipPath id=\"clip941\">\n",
       "    <rect x=\"480\" y=\"0\" width=\"1681\" height=\"480\"/>\n",
       "  </clipPath>\n",
       "</defs>\n",
       "<path clip-path=\"url(#clip940)\" d=\"M223.45 401.84 L2352.76 401.84 L2352.76 47.2441 L223.45 47.2441  Z\" fill=\"#ffffff\" fill-rule=\"evenodd\" fill-opacity=\"1\"/>\n",
       "<defs>\n",
       "  <clipPath id=\"clip942\">\n",
       "    <rect x=\"223\" y=\"47\" width=\"2130\" height=\"356\"/>\n",
       "  </clipPath>\n",
       "</defs>\n",
       "<polyline clip-path=\"url(#clip942)\" style=\"stroke:#000000; stroke-linecap:round; stroke-linejoin:round; stroke-width:2; stroke-opacity:0.1; fill:none\" points=\"465.014,401.84 465.014,47.2441 \"/>\n",
       "<polyline clip-path=\"url(#clip942)\" style=\"stroke:#000000; stroke-linecap:round; stroke-linejoin:round; stroke-width:2; stroke-opacity:0.1; fill:none\" points=\"909.488,401.84 909.488,47.2441 \"/>\n",
       "<polyline clip-path=\"url(#clip942)\" style=\"stroke:#000000; stroke-linecap:round; stroke-linejoin:round; stroke-width:2; stroke-opacity:0.1; fill:none\" points=\"1353.96,401.84 1353.96,47.2441 \"/>\n",
       "<polyline clip-path=\"url(#clip942)\" style=\"stroke:#000000; stroke-linecap:round; stroke-linejoin:round; stroke-width:2; stroke-opacity:0.1; fill:none\" points=\"1798.44,401.84 1798.44,47.2441 \"/>\n",
       "<polyline clip-path=\"url(#clip942)\" style=\"stroke:#000000; stroke-linecap:round; stroke-linejoin:round; stroke-width:2; stroke-opacity:0.1; fill:none\" points=\"2242.91,401.84 2242.91,47.2441 \"/>\n",
       "<polyline clip-path=\"url(#clip940)\" style=\"stroke:#000000; stroke-linecap:round; stroke-linejoin:round; stroke-width:4; stroke-opacity:1; fill:none\" points=\"223.45,401.84 2352.76,401.84 \"/>\n",
       "<polyline clip-path=\"url(#clip940)\" style=\"stroke:#000000; stroke-linecap:round; stroke-linejoin:round; stroke-width:4; stroke-opacity:1; fill:none\" points=\"465.014,401.84 465.014,382.942 \"/>\n",
       "<polyline clip-path=\"url(#clip940)\" style=\"stroke:#000000; stroke-linecap:round; stroke-linejoin:round; stroke-width:4; stroke-opacity:1; fill:none\" points=\"909.488,401.84 909.488,382.942 \"/>\n",
       "<polyline clip-path=\"url(#clip940)\" style=\"stroke:#000000; stroke-linecap:round; stroke-linejoin:round; stroke-width:4; stroke-opacity:1; fill:none\" points=\"1353.96,401.84 1353.96,382.942 \"/>\n",
       "<polyline clip-path=\"url(#clip940)\" style=\"stroke:#000000; stroke-linecap:round; stroke-linejoin:round; stroke-width:4; stroke-opacity:1; fill:none\" points=\"1798.44,401.84 1798.44,382.942 \"/>\n",
       "<polyline clip-path=\"url(#clip940)\" style=\"stroke:#000000; stroke-linecap:round; stroke-linejoin:round; stroke-width:4; stroke-opacity:1; fill:none\" points=\"2242.91,401.84 2242.91,382.942 \"/>\n",
       "<path clip-path=\"url(#clip940)\" d=\"M442.398 432.759 Q438.787 432.759 436.958 436.323 Q435.153 439.865 435.153 446.995 Q435.153 454.101 436.958 457.666 Q438.787 461.207 442.398 461.207 Q446.032 461.207 447.838 457.666 Q449.667 454.101 449.667 446.995 Q449.667 439.865 447.838 436.323 Q446.032 432.759 442.398 432.759 M442.398 429.055 Q448.208 429.055 451.264 433.661 Q454.342 438.245 454.342 446.995 Q454.342 455.721 451.264 460.328 Q448.208 464.911 442.398 464.911 Q436.588 464.911 433.509 460.328 Q430.454 455.721 430.454 446.995 Q430.454 438.245 433.509 433.661 Q436.588 429.055 442.398 429.055 Z\" fill=\"#000000\" fill-rule=\"nonzero\" fill-opacity=\"1\" /><path clip-path=\"url(#clip940)\" d=\"M462.56 458.36 L467.444 458.36 L467.444 464.24 L462.56 464.24 L462.56 458.36 Z\" fill=\"#000000\" fill-rule=\"nonzero\" fill-opacity=\"1\" /><path clip-path=\"url(#clip940)\" d=\"M487.629 432.759 Q484.018 432.759 482.19 436.323 Q480.384 439.865 480.384 446.995 Q480.384 454.101 482.19 457.666 Q484.018 461.207 487.629 461.207 Q491.264 461.207 493.069 457.666 Q494.898 454.101 494.898 446.995 Q494.898 439.865 493.069 436.323 Q491.264 432.759 487.629 432.759 M487.629 429.055 Q493.439 429.055 496.495 433.661 Q499.574 438.245 499.574 446.995 Q499.574 455.721 496.495 460.328 Q493.439 464.911 487.629 464.911 Q481.819 464.911 478.74 460.328 Q475.685 455.721 475.685 446.995 Q475.685 438.245 478.74 433.661 Q481.819 429.055 487.629 429.055 Z\" fill=\"#000000\" fill-rule=\"nonzero\" fill-opacity=\"1\" /><path clip-path=\"url(#clip940)\" d=\"M887.486 432.759 Q883.874 432.759 882.046 436.323 Q880.24 439.865 880.24 446.995 Q880.24 454.101 882.046 457.666 Q883.874 461.207 887.486 461.207 Q891.12 461.207 892.925 457.666 Q894.754 454.101 894.754 446.995 Q894.754 439.865 892.925 436.323 Q891.12 432.759 887.486 432.759 M887.486 429.055 Q893.296 429.055 896.351 433.661 Q899.43 438.245 899.43 446.995 Q899.43 455.721 896.351 460.328 Q893.296 464.911 887.486 464.911 Q881.675 464.911 878.597 460.328 Q875.541 455.721 875.541 446.995 Q875.541 438.245 878.597 433.661 Q881.675 429.055 887.486 429.055 Z\" fill=\"#000000\" fill-rule=\"nonzero\" fill-opacity=\"1\" /><path clip-path=\"url(#clip940)\" d=\"M907.648 458.36 L912.532 458.36 L912.532 464.24 L907.648 464.24 L907.648 458.36 Z\" fill=\"#000000\" fill-rule=\"nonzero\" fill-opacity=\"1\" /><path clip-path=\"url(#clip940)\" d=\"M923.527 460.305 L931.166 460.305 L931.166 433.939 L922.856 435.606 L922.856 431.347 L931.12 429.68 L935.796 429.68 L935.796 460.305 L943.434 460.305 L943.434 464.24 L923.527 464.24 L923.527 460.305 Z\" fill=\"#000000\" fill-rule=\"nonzero\" fill-opacity=\"1\" /><path clip-path=\"url(#clip940)\" d=\"M1332.14 432.759 Q1328.53 432.759 1326.71 436.323 Q1324.9 439.865 1324.9 446.995 Q1324.9 454.101 1326.71 457.666 Q1328.53 461.207 1332.14 461.207 Q1335.78 461.207 1337.58 457.666 Q1339.41 454.101 1339.41 446.995 Q1339.41 439.865 1337.58 436.323 Q1335.78 432.759 1332.14 432.759 M1332.14 429.055 Q1337.96 429.055 1341.01 433.661 Q1344.09 438.245 1344.09 446.995 Q1344.09 455.721 1341.01 460.328 Q1337.96 464.911 1332.14 464.911 Q1326.33 464.911 1323.26 460.328 Q1320.2 455.721 1320.2 446.995 Q1320.2 438.245 1323.26 433.661 Q1326.33 429.055 1332.14 429.055 Z\" fill=\"#000000\" fill-rule=\"nonzero\" fill-opacity=\"1\" /><path clip-path=\"url(#clip940)\" d=\"M1352.31 458.36 L1357.19 458.36 L1357.19 464.24 L1352.31 464.24 L1352.31 458.36 Z\" fill=\"#000000\" fill-rule=\"nonzero\" fill-opacity=\"1\" /><path clip-path=\"url(#clip940)\" d=\"M1371.4 460.305 L1387.72 460.305 L1387.72 464.24 L1365.78 464.24 L1365.78 460.305 Q1368.44 457.55 1373.02 452.92 Q1377.63 448.268 1378.81 446.925 Q1381.06 444.402 1381.94 442.666 Q1382.84 440.907 1382.84 439.217 Q1382.84 436.462 1380.89 434.726 Q1378.97 432.99 1375.87 432.99 Q1373.67 432.99 1371.22 433.754 Q1368.79 434.518 1366.01 436.069 L1366.01 431.347 Q1368.83 430.212 1371.29 429.634 Q1373.74 429.055 1375.78 429.055 Q1381.15 429.055 1384.34 431.74 Q1387.54 434.425 1387.54 438.916 Q1387.54 441.046 1386.73 442.967 Q1385.94 444.865 1383.83 447.458 Q1383.26 448.129 1380.15 451.346 Q1377.05 454.541 1371.4 460.305 Z\" fill=\"#000000\" fill-rule=\"nonzero\" fill-opacity=\"1\" /><path clip-path=\"url(#clip940)\" d=\"M1776.14 432.759 Q1772.53 432.759 1770.7 436.323 Q1768.9 439.865 1768.9 446.995 Q1768.9 454.101 1770.7 457.666 Q1772.53 461.207 1776.14 461.207 Q1779.78 461.207 1781.58 457.666 Q1783.41 454.101 1783.41 446.995 Q1783.41 439.865 1781.58 436.323 Q1779.78 432.759 1776.14 432.759 M1776.14 429.055 Q1781.95 429.055 1785.01 433.661 Q1788.09 438.245 1788.09 446.995 Q1788.09 455.721 1785.01 460.328 Q1781.95 464.911 1776.14 464.911 Q1770.33 464.911 1767.26 460.328 Q1764.2 455.721 1764.2 446.995 Q1764.2 438.245 1767.26 433.661 Q1770.33 429.055 1776.14 429.055 Z\" fill=\"#000000\" fill-rule=\"nonzero\" fill-opacity=\"1\" /><path clip-path=\"url(#clip940)\" d=\"M1796.31 458.36 L1801.19 458.36 L1801.19 464.24 L1796.31 464.24 L1796.31 458.36 Z\" fill=\"#000000\" fill-rule=\"nonzero\" fill-opacity=\"1\" /><path clip-path=\"url(#clip940)\" d=\"M1825.54 445.606 Q1828.9 446.323 1830.77 448.592 Q1832.67 450.86 1832.67 454.194 Q1832.67 459.309 1829.15 462.11 Q1825.63 464.911 1819.15 464.911 Q1816.98 464.911 1814.66 464.471 Q1812.37 464.055 1809.92 463.198 L1809.92 458.684 Q1811.86 459.819 1814.18 460.397 Q1816.49 460.976 1819.01 460.976 Q1823.41 460.976 1825.7 459.24 Q1828.02 457.504 1828.02 454.194 Q1828.02 451.138 1825.87 449.425 Q1823.74 447.689 1819.92 447.689 L1815.89 447.689 L1815.89 443.846 L1820.1 443.846 Q1823.55 443.846 1825.38 442.481 Q1827.21 441.092 1827.21 438.499 Q1827.21 435.837 1825.31 434.425 Q1823.44 432.99 1819.92 432.99 Q1818 432.99 1815.8 433.407 Q1813.6 433.823 1810.96 434.703 L1810.96 430.536 Q1813.62 429.796 1815.94 429.425 Q1818.27 429.055 1820.33 429.055 Q1825.66 429.055 1828.76 431.485 Q1831.86 433.893 1831.86 438.013 Q1831.86 440.884 1830.22 442.874 Q1828.57 444.842 1825.54 445.606 Z\" fill=\"#000000\" fill-rule=\"nonzero\" fill-opacity=\"1\" /><path clip-path=\"url(#clip940)\" d=\"M2220.05 432.759 Q2216.44 432.759 2214.61 436.323 Q2212.81 439.865 2212.81 446.995 Q2212.81 454.101 2214.61 457.666 Q2216.44 461.207 2220.05 461.207 Q2223.69 461.207 2225.49 457.666 Q2227.32 454.101 2227.32 446.995 Q2227.32 439.865 2225.49 436.323 Q2223.69 432.759 2220.05 432.759 M2220.05 429.055 Q2225.86 429.055 2228.92 433.661 Q2232 438.245 2232 446.995 Q2232 455.721 2228.92 460.328 Q2225.86 464.911 2220.05 464.911 Q2214.24 464.911 2211.16 460.328 Q2208.11 455.721 2208.11 446.995 Q2208.11 438.245 2211.16 433.661 Q2214.24 429.055 2220.05 429.055 Z\" fill=\"#000000\" fill-rule=\"nonzero\" fill-opacity=\"1\" /><path clip-path=\"url(#clip940)\" d=\"M2240.21 458.36 L2245.1 458.36 L2245.1 464.24 L2240.21 464.24 L2240.21 458.36 Z\" fill=\"#000000\" fill-rule=\"nonzero\" fill-opacity=\"1\" /><path clip-path=\"url(#clip940)\" d=\"M2268.13 433.754 L2256.32 452.203 L2268.13 452.203 L2268.13 433.754 M2266.9 429.68 L2272.78 429.68 L2272.78 452.203 L2277.71 452.203 L2277.71 456.092 L2272.78 456.092 L2272.78 464.24 L2268.13 464.24 L2268.13 456.092 L2252.53 456.092 L2252.53 451.578 L2266.9 429.68 Z\" fill=\"#000000\" fill-rule=\"nonzero\" fill-opacity=\"1\" /><polyline clip-path=\"url(#clip942)\" style=\"stroke:#000000; stroke-linecap:round; stroke-linejoin:round; stroke-width:2; stroke-opacity:0.1; fill:none\" points=\"223.45,357.515 2352.76,357.515 \"/>\n",
       "<polyline clip-path=\"url(#clip942)\" style=\"stroke:#000000; stroke-linecap:round; stroke-linejoin:round; stroke-width:2; stroke-opacity:0.1; fill:none\" points=\"223.45,313.191 2352.76,313.191 \"/>\n",
       "<polyline clip-path=\"url(#clip942)\" style=\"stroke:#000000; stroke-linecap:round; stroke-linejoin:round; stroke-width:2; stroke-opacity:0.1; fill:none\" points=\"223.45,268.866 2352.76,268.866 \"/>\n",
       "<polyline clip-path=\"url(#clip942)\" style=\"stroke:#000000; stroke-linecap:round; stroke-linejoin:round; stroke-width:2; stroke-opacity:0.1; fill:none\" points=\"223.45,224.542 2352.76,224.542 \"/>\n",
       "<polyline clip-path=\"url(#clip942)\" style=\"stroke:#000000; stroke-linecap:round; stroke-linejoin:round; stroke-width:2; stroke-opacity:0.1; fill:none\" points=\"223.45,180.218 2352.76,180.218 \"/>\n",
       "<polyline clip-path=\"url(#clip942)\" style=\"stroke:#000000; stroke-linecap:round; stroke-linejoin:round; stroke-width:2; stroke-opacity:0.1; fill:none\" points=\"223.45,135.893 2352.76,135.893 \"/>\n",
       "<polyline clip-path=\"url(#clip942)\" style=\"stroke:#000000; stroke-linecap:round; stroke-linejoin:round; stroke-width:2; stroke-opacity:0.1; fill:none\" points=\"223.45,91.5686 2352.76,91.5686 \"/>\n",
       "<line clip-path=\"url(#clip942)\" x1=\"400.892\" y1=\"308.866\" x2=\"400.892\" y2=\"228.866\" style=\"stroke:#ff0000; stroke-width:3.84; stroke-opacity:1\"/>\n",
       "<line clip-path=\"url(#clip942)\" x1=\"472.952\" y1=\"220.218\" x2=\"472.952\" y2=\"140.218\" style=\"stroke:#0000ff; stroke-width:3.84; stroke-opacity:1\"/>\n",
       "<line clip-path=\"url(#clip942)\" x1=\"2103.25\" y1=\"220.218\" x2=\"2103.25\" y2=\"140.218\" style=\"stroke:#0000ff; stroke-width:3.84; stroke-opacity:1\"/>\n",
       "<line clip-path=\"url(#clip942)\" x1=\"2175.31\" y1=\"308.866\" x2=\"2175.31\" y2=\"228.866\" style=\"stroke:#ff0000; stroke-width:3.84; stroke-opacity:1\"/>\n",
       "<polyline clip-path=\"url(#clip942)\" style=\"stroke:#0000ff; stroke-linecap:round; stroke-linejoin:round; stroke-width:4; stroke-opacity:1; fill:none\" points=\"472.952,180.218 2103.25,180.218 \"/>\n",
       "<polyline clip-path=\"url(#clip942)\" style=\"stroke:#ff0000; stroke-linecap:round; stroke-linejoin:round; stroke-width:4; stroke-opacity:1; fill:none\" points=\"400.892,268.866 2175.31,268.866 \"/>\n",
       "<path clip-path=\"url(#clip940)\" d=\"M354.281 66.7163 Q347.962 66.7163 344.761 72.9547 Q341.602 79.1525 341.602 91.6293 Q341.602 104.066 344.761 110.304 Q347.962 116.502 354.281 116.502 Q360.641 116.502 363.801 110.304 Q367.001 104.066 367.001 91.6293 Q367.001 79.1525 363.801 72.9547 Q360.641 66.7163 354.281 66.7163 M354.281 60.2348 Q364.449 60.2348 369.796 68.2961 Q375.184 76.3169 375.184 91.6293 Q375.184 106.901 369.796 114.963 Q364.449 122.983 354.281 122.983 Q344.113 122.983 338.725 114.963 Q333.378 106.901 333.378 91.6293 Q333.378 76.3169 338.725 68.2961 Q344.113 60.2348 354.281 60.2348 Z\" fill=\"#0000ff\" fill-rule=\"nonzero\" fill-opacity=\"1\" /><path clip-path=\"url(#clip940)\" d=\"M389.564 111.519 L398.112 111.519 L398.112 121.809 L389.564 121.809 L389.564 111.519 Z\" fill=\"#0000ff\" fill-rule=\"nonzero\" fill-opacity=\"1\" /><path clip-path=\"url(#clip940)\" d=\"M433.436 66.7163 Q427.116 66.7163 423.916 72.9547 Q420.756 79.1525 420.756 91.6293 Q420.756 104.066 423.916 110.304 Q427.116 116.502 433.436 116.502 Q439.796 116.502 442.955 110.304 Q446.155 104.066 446.155 91.6293 Q446.155 79.1525 442.955 72.9547 Q439.796 66.7163 433.436 66.7163 M433.436 60.2348 Q443.603 60.2348 448.951 68.2961 Q454.338 76.3169 454.338 91.6293 Q454.338 106.901 448.951 114.963 Q443.603 122.983 433.436 122.983 Q423.268 122.983 417.88 114.963 Q412.533 106.901 412.533 91.6293 Q412.533 76.3169 417.88 68.2961 Q423.268 60.2348 433.436 60.2348 Z\" fill=\"#0000ff\" fill-rule=\"nonzero\" fill-opacity=\"1\" /><path clip-path=\"url(#clip940)\" d=\"M486.219 66.7163 Q479.899 66.7163 476.699 72.9547 Q473.54 79.1525 473.54 91.6293 Q473.54 104.066 476.699 110.304 Q479.899 116.502 486.219 116.502 Q492.579 116.502 495.739 110.304 Q498.939 104.066 498.939 91.6293 Q498.939 79.1525 495.739 72.9547 Q492.579 66.7163 486.219 66.7163 M486.219 60.2348 Q496.387 60.2348 501.734 68.2961 Q507.122 76.3169 507.122 91.6293 Q507.122 106.901 501.734 114.963 Q496.387 122.983 486.219 122.983 Q476.051 122.983 470.663 114.963 Q465.316 106.901 465.316 91.6293 Q465.316 76.3169 470.663 68.2961 Q476.051 60.2348 486.219 60.2348 Z\" fill=\"#0000ff\" fill-rule=\"nonzero\" fill-opacity=\"1\" /><path clip-path=\"url(#clip940)\" d=\"M522.92 114.922 L536.288 114.922 L536.288 68.7822 L521.745 71.6989 L521.745 64.2452 L536.207 61.3286 L544.39 61.3286 L544.39 114.922 L557.758 114.922 L557.758 121.809 L522.92 121.809 L522.92 114.922 Z\" fill=\"#0000ff\" fill-rule=\"nonzero\" fill-opacity=\"1\" /><path clip-path=\"url(#clip940)\" d=\"M591.785 93.0877 Q585.952 93.0877 582.59 96.2069 Q579.268 99.326 579.268 104.795 Q579.268 110.263 582.59 113.383 Q585.952 116.502 591.785 116.502 Q597.619 116.502 600.981 113.383 Q604.343 110.223 604.343 104.795 Q604.343 99.326 600.981 96.2069 Q597.659 93.0877 591.785 93.0877 M583.603 89.6039 Q578.336 88.3076 575.379 84.7023 Q572.463 81.097 572.463 75.9118 Q572.463 68.6607 577.607 64.4478 Q582.792 60.2348 591.785 60.2348 Q600.819 60.2348 605.964 64.4478 Q611.108 68.6607 611.108 75.9118 Q611.108 81.097 608.151 84.7023 Q605.234 88.3076 600.009 89.6039 Q605.923 90.9812 609.204 94.9916 Q612.526 99.002 612.526 104.795 Q612.526 113.585 607.138 118.284 Q601.791 122.983 591.785 122.983 Q581.78 122.983 576.392 118.284 Q571.045 113.585 571.045 104.795 Q571.045 99.002 574.367 94.9916 Q577.688 90.9812 583.603 89.6039 M580.605 76.6815 Q580.605 81.3805 583.522 84.0136 Q586.479 86.6467 591.785 86.6467 Q597.052 86.6467 600.009 84.0136 Q603.006 81.3805 603.006 76.6815 Q603.006 71.9824 600.009 69.3494 Q597.052 66.7163 591.785 66.7163 Q586.479 66.7163 583.522 69.3494 Q580.605 71.9824 580.605 76.6815 Z\" fill=\"#0000ff\" fill-rule=\"nonzero\" fill-opacity=\"1\" /><path clip-path=\"url(#clip940)\" d=\"M1984.36 66.7163 Q1978.04 66.7163 1974.84 72.9547 Q1971.68 79.1525 1971.68 91.6293 Q1971.68 104.066 1974.84 110.304 Q1978.04 116.502 1984.36 116.502 Q1990.72 116.502 1993.88 110.304 Q1997.08 104.066 1997.08 91.6293 Q1997.08 79.1525 1993.88 72.9547 Q1990.72 66.7163 1984.36 66.7163 M1984.36 60.2348 Q1994.53 60.2348 1999.87 68.2961 Q2005.26 76.3169 2005.26 91.6293 Q2005.26 106.901 1999.87 114.963 Q1994.53 122.983 1984.36 122.983 Q1974.19 122.983 1968.8 114.963 Q1963.46 106.901 1963.46 91.6293 Q1963.46 76.3169 1968.8 68.2961 Q1974.19 60.2348 1984.36 60.2348 Z\" fill=\"#0000ff\" fill-rule=\"nonzero\" fill-opacity=\"1\" /><path clip-path=\"url(#clip940)\" d=\"M2019.64 111.519 L2028.19 111.519 L2028.19 121.809 L2019.64 121.809 L2019.64 111.519 Z\" fill=\"#0000ff\" fill-rule=\"nonzero\" fill-opacity=\"1\" /><path clip-path=\"url(#clip940)\" d=\"M2070.81 89.1988 Q2076.68 90.4546 2079.96 94.4245 Q2083.28 98.3943 2083.28 104.228 Q2083.28 113.18 2077.13 118.082 Q2070.97 122.983 2059.63 122.983 Q2055.82 122.983 2051.77 122.214 Q2047.76 121.484 2043.46 119.986 L2043.46 112.086 Q2046.86 114.071 2050.92 115.084 Q2054.97 116.097 2059.38 116.097 Q2067.08 116.097 2071.09 113.059 Q2075.14 110.02 2075.14 104.228 Q2075.14 98.8804 2071.37 95.8828 Q2067.65 92.8446 2060.96 92.8446 L2053.91 92.8446 L2053.91 86.1201 L2061.29 86.1201 Q2067.32 86.1201 2070.52 83.7301 Q2073.72 81.2995 2073.72 76.7625 Q2073.72 72.104 2070.4 69.6329 Q2067.12 67.1214 2060.96 67.1214 Q2057.6 67.1214 2053.75 67.8505 Q2049.9 68.5797 2045.29 70.119 L2045.29 62.8274 Q2049.94 61.5311 2053.99 60.883 Q2058.09 60.2348 2061.69 60.2348 Q2071.01 60.2348 2076.44 64.4883 Q2081.86 68.7012 2081.86 75.9118 Q2081.86 80.9349 2078.99 84.4187 Q2076.11 87.862 2070.81 89.1988 Z\" fill=\"#0000ff\" fill-rule=\"nonzero\" fill-opacity=\"1\" /><path clip-path=\"url(#clip940)\" d=\"M2117.31 88.3076 Q2111.8 88.3076 2108.56 92.0749 Q2105.36 95.8423 2105.36 102.405 Q2105.36 108.927 2108.56 112.735 Q2111.8 116.502 2117.31 116.502 Q2122.82 116.502 2126.02 112.735 Q2129.26 108.927 2129.26 102.405 Q2129.26 95.8423 2126.02 92.0749 Q2122.82 88.3076 2117.31 88.3076 M2133.55 62.6654 L2133.55 70.119 Q2130.48 68.6607 2127.32 67.891 Q2124.2 67.1214 2121.12 67.1214 Q2113.02 67.1214 2108.72 72.5901 Q2104.47 78.0588 2103.86 89.1178 Q2106.25 85.5935 2109.86 83.7301 Q2113.46 81.8261 2117.8 81.8261 Q2126.91 81.8261 2132.18 87.3759 Q2137.48 92.8851 2137.48 102.405 Q2137.48 111.722 2131.97 117.353 Q2126.47 122.983 2117.31 122.983 Q2106.82 122.983 2101.27 114.963 Q2095.72 106.901 2095.72 91.6293 Q2095.72 77.2891 2102.52 68.7822 Q2109.33 60.2348 2120.79 60.2348 Q2123.87 60.2348 2126.99 60.8425 Q2130.15 61.4501 2133.55 62.6654 Z\" fill=\"#0000ff\" fill-rule=\"nonzero\" fill-opacity=\"1\" /><path clip-path=\"url(#clip940)\" d=\"M2169.08 93.0877 Q2163.25 93.0877 2159.89 96.2069 Q2156.56 99.326 2156.56 104.795 Q2156.56 110.263 2159.89 113.383 Q2163.25 116.502 2169.08 116.502 Q2174.91 116.502 2178.28 113.383 Q2181.64 110.223 2181.64 104.795 Q2181.64 99.326 2178.28 96.2069 Q2174.95 93.0877 2169.08 93.0877 M2160.9 89.6039 Q2155.63 88.3076 2152.67 84.7023 Q2149.76 81.097 2149.76 75.9118 Q2149.76 68.6607 2154.9 64.4478 Q2160.09 60.2348 2169.08 60.2348 Q2178.11 60.2348 2183.26 64.4478 Q2188.4 68.6607 2188.4 75.9118 Q2188.4 81.097 2185.45 84.7023 Q2182.53 88.3076 2177.3 89.6039 Q2183.22 90.9812 2186.5 94.9916 Q2189.82 99.002 2189.82 104.795 Q2189.82 113.585 2184.43 118.284 Q2179.09 122.983 2169.08 122.983 Q2159.07 122.983 2153.69 118.284 Q2148.34 113.585 2148.34 104.795 Q2148.34 99.002 2151.66 94.9916 Q2154.98 90.9812 2160.9 89.6039 M2157.9 76.6815 Q2157.9 81.3805 2160.82 84.0136 Q2163.77 86.6467 2169.08 86.6467 Q2174.35 86.6467 2177.3 84.0136 Q2180.3 81.3805 2180.3 76.6815 Q2180.3 71.9824 2177.3 69.3494 Q2174.35 66.7163 2169.08 66.7163 Q2163.77 66.7163 2160.82 69.3494 Q2157.9 71.9824 2157.9 76.6815 Z\" fill=\"#0000ff\" fill-rule=\"nonzero\" fill-opacity=\"1\" /><path clip-path=\"url(#clip940)\" d=\"M2222.88 88.3076 Q2217.37 88.3076 2214.13 92.0749 Q2210.93 95.8423 2210.93 102.405 Q2210.93 108.927 2214.13 112.735 Q2217.37 116.502 2222.88 116.502 Q2228.39 116.502 2231.59 112.735 Q2234.83 108.927 2234.83 102.405 Q2234.83 95.8423 2231.59 92.0749 Q2228.39 88.3076 2222.88 88.3076 M2239.12 62.6654 L2239.12 70.119 Q2236.04 68.6607 2232.88 67.891 Q2229.76 67.1214 2226.68 67.1214 Q2218.58 67.1214 2214.29 72.5901 Q2210.04 78.0588 2209.43 89.1178 Q2211.82 85.5935 2215.42 83.7301 Q2219.03 81.8261 2223.36 81.8261 Q2232.48 81.8261 2237.74 87.3759 Q2243.05 92.8851 2243.05 102.405 Q2243.05 111.722 2237.54 117.353 Q2232.03 122.983 2222.88 122.983 Q2212.38 122.983 2206.84 114.963 Q2201.29 106.901 2201.29 91.6293 Q2201.29 77.2891 2208.09 68.7822 Q2214.9 60.2348 2226.36 60.2348 Q2229.44 60.2348 2232.56 60.8425 Q2235.72 61.4501 2239.12 62.6654 Z\" fill=\"#0000ff\" fill-rule=\"nonzero\" fill-opacity=\"1\" /><path clip-path=\"url(#clip940)\" d=\"M245.135 361.708 L266.969 361.708 L266.969 368.352 L245.135 368.352 L245.135 361.708 Z\" fill=\"#ff0000\" fill-rule=\"nonzero\" fill-opacity=\"1\" /><path clip-path=\"url(#clip940)\" d=\"M297.391 332.663 Q291.072 332.663 287.872 338.901 Q284.712 345.099 284.712 357.576 Q284.712 370.012 287.872 376.251 Q291.072 382.449 297.391 382.449 Q303.751 382.449 306.911 376.251 Q310.111 370.012 310.111 357.576 Q310.111 345.099 306.911 338.901 Q303.751 332.663 297.391 332.663 M297.391 326.182 Q307.559 326.182 312.906 334.243 Q318.294 342.264 318.294 357.576 Q318.294 372.848 312.906 380.909 Q307.559 388.93 297.391 388.93 Q287.224 388.93 281.836 380.909 Q276.489 372.848 276.489 357.576 Q276.489 342.264 281.836 334.243 Q287.224 326.182 297.391 326.182 Z\" fill=\"#ff0000\" fill-rule=\"nonzero\" fill-opacity=\"1\" /><path clip-path=\"url(#clip940)\" d=\"M332.675 377.466 L341.222 377.466 L341.222 387.755 L332.675 387.755 L332.675 377.466 Z\" fill=\"#ff0000\" fill-rule=\"nonzero\" fill-opacity=\"1\" /><path clip-path=\"url(#clip940)\" d=\"M376.546 332.663 Q370.227 332.663 367.026 338.901 Q363.867 345.099 363.867 357.576 Q363.867 370.012 367.026 376.251 Q370.227 382.449 376.546 382.449 Q382.906 382.449 386.066 376.251 Q389.266 370.012 389.266 357.576 Q389.266 345.099 386.066 338.901 Q382.906 332.663 376.546 332.663 M376.546 326.182 Q386.714 326.182 392.061 334.243 Q397.449 342.264 397.449 357.576 Q397.449 372.848 392.061 380.909 Q386.714 388.93 376.546 388.93 Q366.378 388.93 360.991 380.909 Q355.643 372.848 355.643 357.576 Q355.643 342.264 360.991 334.243 Q366.378 326.182 376.546 326.182 Z\" fill=\"#ff0000\" fill-rule=\"nonzero\" fill-opacity=\"1\" /><path clip-path=\"url(#clip940)\" d=\"M413.247 380.869 L426.615 380.869 L426.615 334.729 L412.072 337.646 L412.072 330.192 L426.534 327.275 L434.717 327.275 L434.717 380.869 L448.085 380.869 L448.085 387.755 L413.247 387.755 L413.247 380.869 Z\" fill=\"#ff0000\" fill-rule=\"nonzero\" fill-opacity=\"1\" /><path clip-path=\"url(#clip940)\" d=\"M487.095 334.405 L466.436 366.691 L487.095 366.691 L487.095 334.405 M484.948 327.275 L495.237 327.275 L495.237 366.691 L503.866 366.691 L503.866 373.496 L495.237 373.496 L495.237 387.755 L487.095 387.755 L487.095 373.496 L459.792 373.496 L459.792 365.597 L484.948 327.275 Z\" fill=\"#ff0000\" fill-rule=\"nonzero\" fill-opacity=\"1\" /><path clip-path=\"url(#clip940)\" d=\"M539.878 334.405 L519.219 366.691 L539.878 366.691 L539.878 334.405 M537.731 327.275 L548.021 327.275 L548.021 366.691 L556.649 366.691 L556.649 373.496 L548.021 373.496 L548.021 387.755 L539.878 387.755 L539.878 373.496 L512.575 373.496 L512.575 365.597 L537.731 327.275 Z\" fill=\"#ff0000\" fill-rule=\"nonzero\" fill-opacity=\"1\" /><path clip-path=\"url(#clip940)\" d=\"M2056.64 332.663 Q2050.32 332.663 2047.12 338.901 Q2043.96 345.099 2043.96 357.576 Q2043.96 370.012 2047.12 376.251 Q2050.32 382.449 2056.64 382.449 Q2063 382.449 2066.16 376.251 Q2069.36 370.012 2069.36 357.576 Q2069.36 345.099 2066.16 338.901 Q2063 332.663 2056.64 332.663 M2056.64 326.182 Q2066.81 326.182 2072.16 334.243 Q2077.55 342.264 2077.55 357.576 Q2077.55 372.848 2072.16 380.909 Q2066.81 388.93 2056.64 388.93 Q2046.47 388.93 2041.09 380.909 Q2035.74 372.848 2035.74 357.576 Q2035.74 342.264 2041.09 334.243 Q2046.47 326.182 2056.64 326.182 Z\" fill=\"#ff0000\" fill-rule=\"nonzero\" fill-opacity=\"1\" /><path clip-path=\"url(#clip940)\" d=\"M2091.93 377.466 L2100.47 377.466 L2100.47 387.755 L2091.93 387.755 L2091.93 377.466 Z\" fill=\"#ff0000\" fill-rule=\"nonzero\" fill-opacity=\"1\" /><path clip-path=\"url(#clip940)\" d=\"M2143.09 355.146 Q2148.96 356.401 2152.24 360.371 Q2155.57 364.341 2155.57 370.174 Q2155.57 379.127 2149.41 384.029 Q2143.25 388.93 2131.91 388.93 Q2128.1 388.93 2124.05 388.16 Q2120.04 387.431 2115.75 385.932 L2115.75 378.033 Q2119.15 380.018 2123.2 381.031 Q2127.25 382.044 2131.67 382.044 Q2139.36 382.044 2143.37 379.005 Q2147.42 375.967 2147.42 370.174 Q2147.42 364.827 2143.66 361.83 Q2139.93 358.791 2133.25 358.791 L2126.2 358.791 L2126.2 352.067 L2133.57 352.067 Q2139.61 352.067 2142.81 349.677 Q2146.01 347.246 2146.01 342.709 Q2146.01 338.051 2142.68 335.58 Q2139.4 333.068 2133.25 333.068 Q2129.88 333.068 2126.03 333.797 Q2122.19 334.527 2117.57 336.066 L2117.57 328.774 Q2122.23 327.478 2126.28 326.83 Q2130.37 326.182 2133.97 326.182 Q2143.29 326.182 2148.72 330.435 Q2154.15 334.648 2154.15 341.859 Q2154.15 346.882 2151.27 350.366 Q2148.4 353.809 2143.09 355.146 Z\" fill=\"#ff0000\" fill-rule=\"nonzero\" fill-opacity=\"1\" /><path clip-path=\"url(#clip940)\" d=\"M2188.58 359.034 Q2182.75 359.034 2179.38 362.154 Q2176.06 365.273 2176.06 370.742 Q2176.06 376.21 2179.38 379.33 Q2182.75 382.449 2188.58 382.449 Q2194.41 382.449 2197.78 379.33 Q2201.14 376.17 2201.14 370.742 Q2201.14 365.273 2197.78 362.154 Q2194.45 359.034 2188.58 359.034 M2180.4 355.551 Q2175.13 354.254 2172.17 350.649 Q2169.26 347.044 2169.26 341.859 Q2169.26 334.608 2174.4 330.395 Q2179.59 326.182 2188.58 326.182 Q2197.61 326.182 2202.76 330.395 Q2207.9 334.608 2207.9 341.859 Q2207.9 347.044 2204.95 350.649 Q2202.03 354.254 2196.8 355.551 Q2202.72 356.928 2206 360.938 Q2209.32 364.949 2209.32 370.742 Q2209.32 379.532 2203.93 384.231 Q2198.59 388.93 2188.58 388.93 Q2178.57 388.93 2173.19 384.231 Q2167.84 379.532 2167.84 370.742 Q2167.84 364.949 2171.16 360.938 Q2174.48 356.928 2180.4 355.551 M2177.4 342.628 Q2177.4 347.327 2180.32 349.96 Q2183.27 352.594 2188.58 352.594 Q2193.85 352.594 2196.8 349.96 Q2199.8 347.327 2199.8 342.628 Q2199.8 337.929 2196.8 335.296 Q2193.85 332.663 2188.58 332.663 Q2183.27 332.663 2180.32 335.296 Q2177.4 337.929 2177.4 342.628 Z\" fill=\"#ff0000\" fill-rule=\"nonzero\" fill-opacity=\"1\" /><path clip-path=\"url(#clip940)\" d=\"M2246.35 334.405 L2225.69 366.691 L2246.35 366.691 L2246.35 334.405 M2244.2 327.275 L2254.49 327.275 L2254.49 366.691 L2263.12 366.691 L2263.12 373.496 L2254.49 373.496 L2254.49 387.755 L2246.35 387.755 L2246.35 373.496 L2219.04 373.496 L2219.04 365.597 L2244.2 327.275 Z\" fill=\"#ff0000\" fill-rule=\"nonzero\" fill-opacity=\"1\" /><path clip-path=\"url(#clip940)\" d=\"M2294.15 359.034 Q2288.31 359.034 2284.95 362.154 Q2281.63 365.273 2281.63 370.742 Q2281.63 376.21 2284.95 379.33 Q2288.31 382.449 2294.15 382.449 Q2299.98 382.449 2303.34 379.33 Q2306.7 376.17 2306.7 370.742 Q2306.7 365.273 2303.34 362.154 Q2300.02 359.034 2294.15 359.034 M2285.96 355.551 Q2280.7 354.254 2277.74 350.649 Q2274.82 347.044 2274.82 341.859 Q2274.82 334.608 2279.97 330.395 Q2285.15 326.182 2294.15 326.182 Q2303.18 326.182 2308.33 330.395 Q2313.47 334.608 2313.47 341.859 Q2313.47 347.044 2310.51 350.649 Q2307.6 354.254 2302.37 355.551 Q2308.28 356.928 2311.57 360.938 Q2314.89 364.949 2314.89 370.742 Q2314.89 379.532 2309.5 384.231 Q2304.15 388.93 2294.15 388.93 Q2284.14 388.93 2278.75 384.231 Q2273.41 379.532 2273.41 370.742 Q2273.41 364.949 2276.73 360.938 Q2280.05 356.928 2285.96 355.551 M2282.97 342.628 Q2282.97 347.327 2285.88 349.96 Q2288.84 352.594 2294.15 352.594 Q2299.41 352.594 2302.37 349.96 Q2305.37 347.327 2305.37 342.628 Q2305.37 337.929 2302.37 335.296 Q2299.41 332.663 2294.15 332.663 Q2288.84 332.663 2285.88 335.296 Q2282.97 337.929 2282.97 342.628 Z\" fill=\"#ff0000\" fill-rule=\"nonzero\" fill-opacity=\"1\" /></svg>\n"
      ],
      "text/html": [
       "<?xml version=\"1.0\" encoding=\"utf-8\"?>\n",
       "<svg xmlns=\"http://www.w3.org/2000/svg\" xmlns:xlink=\"http://www.w3.org/1999/xlink\" width=\"600\" height=\"120\" viewBox=\"0 0 2400 480\">\n",
       "<defs>\n",
       "  <clipPath id=\"clip990\">\n",
       "    <rect x=\"0\" y=\"0\" width=\"2400\" height=\"480\"/>\n",
       "  </clipPath>\n",
       "</defs>\n",
       "<path clip-path=\"url(#clip990)\" d=\"M0 480 L2400 480 L2400 0 L0 0  Z\" fill=\"#ffffff\" fill-rule=\"evenodd\" fill-opacity=\"1\"/>\n",
       "<defs>\n",
       "  <clipPath id=\"clip991\">\n",
       "    <rect x=\"480\" y=\"0\" width=\"1681\" height=\"480\"/>\n",
       "  </clipPath>\n",
       "</defs>\n",
       "<path clip-path=\"url(#clip990)\" d=\"M223.45 401.84 L2352.76 401.84 L2352.76 47.2441 L223.45 47.2441  Z\" fill=\"#ffffff\" fill-rule=\"evenodd\" fill-opacity=\"1\"/>\n",
       "<defs>\n",
       "  <clipPath id=\"clip992\">\n",
       "    <rect x=\"223\" y=\"47\" width=\"2130\" height=\"356\"/>\n",
       "  </clipPath>\n",
       "</defs>\n",
       "<polyline clip-path=\"url(#clip992)\" style=\"stroke:#000000; stroke-linecap:round; stroke-linejoin:round; stroke-width:2; stroke-opacity:0.1; fill:none\" points=\"465.014,401.84 465.014,47.2441 \"/>\n",
       "<polyline clip-path=\"url(#clip992)\" style=\"stroke:#000000; stroke-linecap:round; stroke-linejoin:round; stroke-width:2; stroke-opacity:0.1; fill:none\" points=\"909.488,401.84 909.488,47.2441 \"/>\n",
       "<polyline clip-path=\"url(#clip992)\" style=\"stroke:#000000; stroke-linecap:round; stroke-linejoin:round; stroke-width:2; stroke-opacity:0.1; fill:none\" points=\"1353.96,401.84 1353.96,47.2441 \"/>\n",
       "<polyline clip-path=\"url(#clip992)\" style=\"stroke:#000000; stroke-linecap:round; stroke-linejoin:round; stroke-width:2; stroke-opacity:0.1; fill:none\" points=\"1798.44,401.84 1798.44,47.2441 \"/>\n",
       "<polyline clip-path=\"url(#clip992)\" style=\"stroke:#000000; stroke-linecap:round; stroke-linejoin:round; stroke-width:2; stroke-opacity:0.1; fill:none\" points=\"2242.91,401.84 2242.91,47.2441 \"/>\n",
       "<polyline clip-path=\"url(#clip990)\" style=\"stroke:#000000; stroke-linecap:round; stroke-linejoin:round; stroke-width:4; stroke-opacity:1; fill:none\" points=\"223.45,401.84 2352.76,401.84 \"/>\n",
       "<polyline clip-path=\"url(#clip990)\" style=\"stroke:#000000; stroke-linecap:round; stroke-linejoin:round; stroke-width:4; stroke-opacity:1; fill:none\" points=\"465.014,401.84 465.014,382.942 \"/>\n",
       "<polyline clip-path=\"url(#clip990)\" style=\"stroke:#000000; stroke-linecap:round; stroke-linejoin:round; stroke-width:4; stroke-opacity:1; fill:none\" points=\"909.488,401.84 909.488,382.942 \"/>\n",
       "<polyline clip-path=\"url(#clip990)\" style=\"stroke:#000000; stroke-linecap:round; stroke-linejoin:round; stroke-width:4; stroke-opacity:1; fill:none\" points=\"1353.96,401.84 1353.96,382.942 \"/>\n",
       "<polyline clip-path=\"url(#clip990)\" style=\"stroke:#000000; stroke-linecap:round; stroke-linejoin:round; stroke-width:4; stroke-opacity:1; fill:none\" points=\"1798.44,401.84 1798.44,382.942 \"/>\n",
       "<polyline clip-path=\"url(#clip990)\" style=\"stroke:#000000; stroke-linecap:round; stroke-linejoin:round; stroke-width:4; stroke-opacity:1; fill:none\" points=\"2242.91,401.84 2242.91,382.942 \"/>\n",
       "<path clip-path=\"url(#clip990)\" d=\"M442.398 432.759 Q438.787 432.759 436.958 436.323 Q435.153 439.865 435.153 446.995 Q435.153 454.101 436.958 457.666 Q438.787 461.207 442.398 461.207 Q446.032 461.207 447.838 457.666 Q449.667 454.101 449.667 446.995 Q449.667 439.865 447.838 436.323 Q446.032 432.759 442.398 432.759 M442.398 429.055 Q448.208 429.055 451.264 433.661 Q454.342 438.245 454.342 446.995 Q454.342 455.721 451.264 460.328 Q448.208 464.911 442.398 464.911 Q436.588 464.911 433.509 460.328 Q430.454 455.721 430.454 446.995 Q430.454 438.245 433.509 433.661 Q436.588 429.055 442.398 429.055 Z\" fill=\"#000000\" fill-rule=\"nonzero\" fill-opacity=\"1\" /><path clip-path=\"url(#clip990)\" d=\"M462.56 458.36 L467.444 458.36 L467.444 464.24 L462.56 464.24 L462.56 458.36 Z\" fill=\"#000000\" fill-rule=\"nonzero\" fill-opacity=\"1\" /><path clip-path=\"url(#clip990)\" d=\"M487.629 432.759 Q484.018 432.759 482.19 436.323 Q480.384 439.865 480.384 446.995 Q480.384 454.101 482.19 457.666 Q484.018 461.207 487.629 461.207 Q491.264 461.207 493.069 457.666 Q494.898 454.101 494.898 446.995 Q494.898 439.865 493.069 436.323 Q491.264 432.759 487.629 432.759 M487.629 429.055 Q493.439 429.055 496.495 433.661 Q499.574 438.245 499.574 446.995 Q499.574 455.721 496.495 460.328 Q493.439 464.911 487.629 464.911 Q481.819 464.911 478.74 460.328 Q475.685 455.721 475.685 446.995 Q475.685 438.245 478.74 433.661 Q481.819 429.055 487.629 429.055 Z\" fill=\"#000000\" fill-rule=\"nonzero\" fill-opacity=\"1\" /><path clip-path=\"url(#clip990)\" d=\"M887.486 432.759 Q883.874 432.759 882.046 436.323 Q880.24 439.865 880.24 446.995 Q880.24 454.101 882.046 457.666 Q883.874 461.207 887.486 461.207 Q891.12 461.207 892.925 457.666 Q894.754 454.101 894.754 446.995 Q894.754 439.865 892.925 436.323 Q891.12 432.759 887.486 432.759 M887.486 429.055 Q893.296 429.055 896.351 433.661 Q899.43 438.245 899.43 446.995 Q899.43 455.721 896.351 460.328 Q893.296 464.911 887.486 464.911 Q881.675 464.911 878.597 460.328 Q875.541 455.721 875.541 446.995 Q875.541 438.245 878.597 433.661 Q881.675 429.055 887.486 429.055 Z\" fill=\"#000000\" fill-rule=\"nonzero\" fill-opacity=\"1\" /><path clip-path=\"url(#clip990)\" d=\"M907.648 458.36 L912.532 458.36 L912.532 464.24 L907.648 464.24 L907.648 458.36 Z\" fill=\"#000000\" fill-rule=\"nonzero\" fill-opacity=\"1\" /><path clip-path=\"url(#clip990)\" d=\"M923.527 460.305 L931.166 460.305 L931.166 433.939 L922.856 435.606 L922.856 431.347 L931.12 429.68 L935.796 429.68 L935.796 460.305 L943.434 460.305 L943.434 464.24 L923.527 464.24 L923.527 460.305 Z\" fill=\"#000000\" fill-rule=\"nonzero\" fill-opacity=\"1\" /><path clip-path=\"url(#clip990)\" d=\"M1332.14 432.759 Q1328.53 432.759 1326.71 436.323 Q1324.9 439.865 1324.9 446.995 Q1324.9 454.101 1326.71 457.666 Q1328.53 461.207 1332.14 461.207 Q1335.78 461.207 1337.58 457.666 Q1339.41 454.101 1339.41 446.995 Q1339.41 439.865 1337.58 436.323 Q1335.78 432.759 1332.14 432.759 M1332.14 429.055 Q1337.96 429.055 1341.01 433.661 Q1344.09 438.245 1344.09 446.995 Q1344.09 455.721 1341.01 460.328 Q1337.96 464.911 1332.14 464.911 Q1326.33 464.911 1323.26 460.328 Q1320.2 455.721 1320.2 446.995 Q1320.2 438.245 1323.26 433.661 Q1326.33 429.055 1332.14 429.055 Z\" fill=\"#000000\" fill-rule=\"nonzero\" fill-opacity=\"1\" /><path clip-path=\"url(#clip990)\" d=\"M1352.31 458.36 L1357.19 458.36 L1357.19 464.24 L1352.31 464.24 L1352.31 458.36 Z\" fill=\"#000000\" fill-rule=\"nonzero\" fill-opacity=\"1\" /><path clip-path=\"url(#clip990)\" d=\"M1371.4 460.305 L1387.72 460.305 L1387.72 464.24 L1365.78 464.24 L1365.78 460.305 Q1368.44 457.55 1373.02 452.92 Q1377.63 448.268 1378.81 446.925 Q1381.06 444.402 1381.94 442.666 Q1382.84 440.907 1382.84 439.217 Q1382.84 436.462 1380.89 434.726 Q1378.97 432.99 1375.87 432.99 Q1373.67 432.99 1371.22 433.754 Q1368.79 434.518 1366.01 436.069 L1366.01 431.347 Q1368.83 430.212 1371.29 429.634 Q1373.74 429.055 1375.78 429.055 Q1381.15 429.055 1384.34 431.74 Q1387.54 434.425 1387.54 438.916 Q1387.54 441.046 1386.73 442.967 Q1385.94 444.865 1383.83 447.458 Q1383.26 448.129 1380.15 451.346 Q1377.05 454.541 1371.4 460.305 Z\" fill=\"#000000\" fill-rule=\"nonzero\" fill-opacity=\"1\" /><path clip-path=\"url(#clip990)\" d=\"M1776.14 432.759 Q1772.53 432.759 1770.7 436.323 Q1768.9 439.865 1768.9 446.995 Q1768.9 454.101 1770.7 457.666 Q1772.53 461.207 1776.14 461.207 Q1779.78 461.207 1781.58 457.666 Q1783.41 454.101 1783.41 446.995 Q1783.41 439.865 1781.58 436.323 Q1779.78 432.759 1776.14 432.759 M1776.14 429.055 Q1781.95 429.055 1785.01 433.661 Q1788.09 438.245 1788.09 446.995 Q1788.09 455.721 1785.01 460.328 Q1781.95 464.911 1776.14 464.911 Q1770.33 464.911 1767.26 460.328 Q1764.2 455.721 1764.2 446.995 Q1764.2 438.245 1767.26 433.661 Q1770.33 429.055 1776.14 429.055 Z\" fill=\"#000000\" fill-rule=\"nonzero\" fill-opacity=\"1\" /><path clip-path=\"url(#clip990)\" d=\"M1796.31 458.36 L1801.19 458.36 L1801.19 464.24 L1796.31 464.24 L1796.31 458.36 Z\" fill=\"#000000\" fill-rule=\"nonzero\" fill-opacity=\"1\" /><path clip-path=\"url(#clip990)\" d=\"M1825.54 445.606 Q1828.9 446.323 1830.77 448.592 Q1832.67 450.86 1832.67 454.194 Q1832.67 459.309 1829.15 462.11 Q1825.63 464.911 1819.15 464.911 Q1816.98 464.911 1814.66 464.471 Q1812.37 464.055 1809.92 463.198 L1809.92 458.684 Q1811.86 459.819 1814.18 460.397 Q1816.49 460.976 1819.01 460.976 Q1823.41 460.976 1825.7 459.24 Q1828.02 457.504 1828.02 454.194 Q1828.02 451.138 1825.87 449.425 Q1823.74 447.689 1819.92 447.689 L1815.89 447.689 L1815.89 443.846 L1820.1 443.846 Q1823.55 443.846 1825.38 442.481 Q1827.21 441.092 1827.21 438.499 Q1827.21 435.837 1825.31 434.425 Q1823.44 432.99 1819.92 432.99 Q1818 432.99 1815.8 433.407 Q1813.6 433.823 1810.96 434.703 L1810.96 430.536 Q1813.62 429.796 1815.94 429.425 Q1818.27 429.055 1820.33 429.055 Q1825.66 429.055 1828.76 431.485 Q1831.86 433.893 1831.86 438.013 Q1831.86 440.884 1830.22 442.874 Q1828.57 444.842 1825.54 445.606 Z\" fill=\"#000000\" fill-rule=\"nonzero\" fill-opacity=\"1\" /><path clip-path=\"url(#clip990)\" d=\"M2220.05 432.759 Q2216.44 432.759 2214.61 436.323 Q2212.81 439.865 2212.81 446.995 Q2212.81 454.101 2214.61 457.666 Q2216.44 461.207 2220.05 461.207 Q2223.69 461.207 2225.49 457.666 Q2227.32 454.101 2227.32 446.995 Q2227.32 439.865 2225.49 436.323 Q2223.69 432.759 2220.05 432.759 M2220.05 429.055 Q2225.86 429.055 2228.92 433.661 Q2232 438.245 2232 446.995 Q2232 455.721 2228.92 460.328 Q2225.86 464.911 2220.05 464.911 Q2214.24 464.911 2211.16 460.328 Q2208.11 455.721 2208.11 446.995 Q2208.11 438.245 2211.16 433.661 Q2214.24 429.055 2220.05 429.055 Z\" fill=\"#000000\" fill-rule=\"nonzero\" fill-opacity=\"1\" /><path clip-path=\"url(#clip990)\" d=\"M2240.21 458.36 L2245.1 458.36 L2245.1 464.24 L2240.21 464.24 L2240.21 458.36 Z\" fill=\"#000000\" fill-rule=\"nonzero\" fill-opacity=\"1\" /><path clip-path=\"url(#clip990)\" d=\"M2268.13 433.754 L2256.32 452.203 L2268.13 452.203 L2268.13 433.754 M2266.9 429.68 L2272.78 429.68 L2272.78 452.203 L2277.71 452.203 L2277.71 456.092 L2272.78 456.092 L2272.78 464.24 L2268.13 464.24 L2268.13 456.092 L2252.53 456.092 L2252.53 451.578 L2266.9 429.68 Z\" fill=\"#000000\" fill-rule=\"nonzero\" fill-opacity=\"1\" /><polyline clip-path=\"url(#clip992)\" style=\"stroke:#000000; stroke-linecap:round; stroke-linejoin:round; stroke-width:2; stroke-opacity:0.1; fill:none\" points=\"223.45,357.515 2352.76,357.515 \"/>\n",
       "<polyline clip-path=\"url(#clip992)\" style=\"stroke:#000000; stroke-linecap:round; stroke-linejoin:round; stroke-width:2; stroke-opacity:0.1; fill:none\" points=\"223.45,313.191 2352.76,313.191 \"/>\n",
       "<polyline clip-path=\"url(#clip992)\" style=\"stroke:#000000; stroke-linecap:round; stroke-linejoin:round; stroke-width:2; stroke-opacity:0.1; fill:none\" points=\"223.45,268.866 2352.76,268.866 \"/>\n",
       "<polyline clip-path=\"url(#clip992)\" style=\"stroke:#000000; stroke-linecap:round; stroke-linejoin:round; stroke-width:2; stroke-opacity:0.1; fill:none\" points=\"223.45,224.542 2352.76,224.542 \"/>\n",
       "<polyline clip-path=\"url(#clip992)\" style=\"stroke:#000000; stroke-linecap:round; stroke-linejoin:round; stroke-width:2; stroke-opacity:0.1; fill:none\" points=\"223.45,180.218 2352.76,180.218 \"/>\n",
       "<polyline clip-path=\"url(#clip992)\" style=\"stroke:#000000; stroke-linecap:round; stroke-linejoin:round; stroke-width:2; stroke-opacity:0.1; fill:none\" points=\"223.45,135.893 2352.76,135.893 \"/>\n",
       "<polyline clip-path=\"url(#clip992)\" style=\"stroke:#000000; stroke-linecap:round; stroke-linejoin:round; stroke-width:2; stroke-opacity:0.1; fill:none\" points=\"223.45,91.5686 2352.76,91.5686 \"/>\n",
       "<line clip-path=\"url(#clip992)\" x1=\"400.892\" y1=\"308.866\" x2=\"400.892\" y2=\"228.866\" style=\"stroke:#ff0000; stroke-width:3.84; stroke-opacity:1\"/>\n",
       "<line clip-path=\"url(#clip992)\" x1=\"472.952\" y1=\"220.218\" x2=\"472.952\" y2=\"140.218\" style=\"stroke:#0000ff; stroke-width:3.84; stroke-opacity:1\"/>\n",
       "<line clip-path=\"url(#clip992)\" x1=\"2103.25\" y1=\"220.218\" x2=\"2103.25\" y2=\"140.218\" style=\"stroke:#0000ff; stroke-width:3.84; stroke-opacity:1\"/>\n",
       "<line clip-path=\"url(#clip992)\" x1=\"2175.31\" y1=\"308.866\" x2=\"2175.31\" y2=\"228.866\" style=\"stroke:#ff0000; stroke-width:3.84; stroke-opacity:1\"/>\n",
       "<polyline clip-path=\"url(#clip992)\" style=\"stroke:#0000ff; stroke-linecap:round; stroke-linejoin:round; stroke-width:4; stroke-opacity:1; fill:none\" points=\"472.952,180.218 2103.25,180.218 \"/>\n",
       "<polyline clip-path=\"url(#clip992)\" style=\"stroke:#ff0000; stroke-linecap:round; stroke-linejoin:round; stroke-width:4; stroke-opacity:1; fill:none\" points=\"400.892,268.866 2175.31,268.866 \"/>\n",
       "<path clip-path=\"url(#clip990)\" d=\"M354.281 66.7163 Q347.962 66.7163 344.761 72.9547 Q341.602 79.1525 341.602 91.6293 Q341.602 104.066 344.761 110.304 Q347.962 116.502 354.281 116.502 Q360.641 116.502 363.801 110.304 Q367.001 104.066 367.001 91.6293 Q367.001 79.1525 363.801 72.9547 Q360.641 66.7163 354.281 66.7163 M354.281 60.2348 Q364.449 60.2348 369.796 68.2961 Q375.184 76.3169 375.184 91.6293 Q375.184 106.901 369.796 114.963 Q364.449 122.983 354.281 122.983 Q344.113 122.983 338.725 114.963 Q333.378 106.901 333.378 91.6293 Q333.378 76.3169 338.725 68.2961 Q344.113 60.2348 354.281 60.2348 Z\" fill=\"#0000ff\" fill-rule=\"nonzero\" fill-opacity=\"1\" /><path clip-path=\"url(#clip990)\" d=\"M389.564 111.519 L398.112 111.519 L398.112 121.809 L389.564 121.809 L389.564 111.519 Z\" fill=\"#0000ff\" fill-rule=\"nonzero\" fill-opacity=\"1\" /><path clip-path=\"url(#clip990)\" d=\"M433.436 66.7163 Q427.116 66.7163 423.916 72.9547 Q420.756 79.1525 420.756 91.6293 Q420.756 104.066 423.916 110.304 Q427.116 116.502 433.436 116.502 Q439.796 116.502 442.955 110.304 Q446.155 104.066 446.155 91.6293 Q446.155 79.1525 442.955 72.9547 Q439.796 66.7163 433.436 66.7163 M433.436 60.2348 Q443.603 60.2348 448.951 68.2961 Q454.338 76.3169 454.338 91.6293 Q454.338 106.901 448.951 114.963 Q443.603 122.983 433.436 122.983 Q423.268 122.983 417.88 114.963 Q412.533 106.901 412.533 91.6293 Q412.533 76.3169 417.88 68.2961 Q423.268 60.2348 433.436 60.2348 Z\" fill=\"#0000ff\" fill-rule=\"nonzero\" fill-opacity=\"1\" /><path clip-path=\"url(#clip990)\" d=\"M486.219 66.7163 Q479.899 66.7163 476.699 72.9547 Q473.54 79.1525 473.54 91.6293 Q473.54 104.066 476.699 110.304 Q479.899 116.502 486.219 116.502 Q492.579 116.502 495.739 110.304 Q498.939 104.066 498.939 91.6293 Q498.939 79.1525 495.739 72.9547 Q492.579 66.7163 486.219 66.7163 M486.219 60.2348 Q496.387 60.2348 501.734 68.2961 Q507.122 76.3169 507.122 91.6293 Q507.122 106.901 501.734 114.963 Q496.387 122.983 486.219 122.983 Q476.051 122.983 470.663 114.963 Q465.316 106.901 465.316 91.6293 Q465.316 76.3169 470.663 68.2961 Q476.051 60.2348 486.219 60.2348 Z\" fill=\"#0000ff\" fill-rule=\"nonzero\" fill-opacity=\"1\" /><path clip-path=\"url(#clip990)\" d=\"M522.92 114.922 L536.288 114.922 L536.288 68.7822 L521.745 71.6989 L521.745 64.2452 L536.207 61.3286 L544.39 61.3286 L544.39 114.922 L557.758 114.922 L557.758 121.809 L522.92 121.809 L522.92 114.922 Z\" fill=\"#0000ff\" fill-rule=\"nonzero\" fill-opacity=\"1\" /><path clip-path=\"url(#clip990)\" d=\"M591.785 93.0877 Q585.952 93.0877 582.59 96.2069 Q579.268 99.326 579.268 104.795 Q579.268 110.263 582.59 113.383 Q585.952 116.502 591.785 116.502 Q597.619 116.502 600.981 113.383 Q604.343 110.223 604.343 104.795 Q604.343 99.326 600.981 96.2069 Q597.659 93.0877 591.785 93.0877 M583.603 89.6039 Q578.336 88.3076 575.379 84.7023 Q572.463 81.097 572.463 75.9118 Q572.463 68.6607 577.607 64.4478 Q582.792 60.2348 591.785 60.2348 Q600.819 60.2348 605.964 64.4478 Q611.108 68.6607 611.108 75.9118 Q611.108 81.097 608.151 84.7023 Q605.234 88.3076 600.009 89.6039 Q605.923 90.9812 609.204 94.9916 Q612.526 99.002 612.526 104.795 Q612.526 113.585 607.138 118.284 Q601.791 122.983 591.785 122.983 Q581.78 122.983 576.392 118.284 Q571.045 113.585 571.045 104.795 Q571.045 99.002 574.367 94.9916 Q577.688 90.9812 583.603 89.6039 M580.605 76.6815 Q580.605 81.3805 583.522 84.0136 Q586.479 86.6467 591.785 86.6467 Q597.052 86.6467 600.009 84.0136 Q603.006 81.3805 603.006 76.6815 Q603.006 71.9824 600.009 69.3494 Q597.052 66.7163 591.785 66.7163 Q586.479 66.7163 583.522 69.3494 Q580.605 71.9824 580.605 76.6815 Z\" fill=\"#0000ff\" fill-rule=\"nonzero\" fill-opacity=\"1\" /><path clip-path=\"url(#clip990)\" d=\"M1984.36 66.7163 Q1978.04 66.7163 1974.84 72.9547 Q1971.68 79.1525 1971.68 91.6293 Q1971.68 104.066 1974.84 110.304 Q1978.04 116.502 1984.36 116.502 Q1990.72 116.502 1993.88 110.304 Q1997.08 104.066 1997.08 91.6293 Q1997.08 79.1525 1993.88 72.9547 Q1990.72 66.7163 1984.36 66.7163 M1984.36 60.2348 Q1994.53 60.2348 1999.87 68.2961 Q2005.26 76.3169 2005.26 91.6293 Q2005.26 106.901 1999.87 114.963 Q1994.53 122.983 1984.36 122.983 Q1974.19 122.983 1968.8 114.963 Q1963.46 106.901 1963.46 91.6293 Q1963.46 76.3169 1968.8 68.2961 Q1974.19 60.2348 1984.36 60.2348 Z\" fill=\"#0000ff\" fill-rule=\"nonzero\" fill-opacity=\"1\" /><path clip-path=\"url(#clip990)\" d=\"M2019.64 111.519 L2028.19 111.519 L2028.19 121.809 L2019.64 121.809 L2019.64 111.519 Z\" fill=\"#0000ff\" fill-rule=\"nonzero\" fill-opacity=\"1\" /><path clip-path=\"url(#clip990)\" d=\"M2070.81 89.1988 Q2076.68 90.4546 2079.96 94.4245 Q2083.28 98.3943 2083.28 104.228 Q2083.28 113.18 2077.13 118.082 Q2070.97 122.983 2059.63 122.983 Q2055.82 122.983 2051.77 122.214 Q2047.76 121.484 2043.46 119.986 L2043.46 112.086 Q2046.86 114.071 2050.92 115.084 Q2054.97 116.097 2059.38 116.097 Q2067.08 116.097 2071.09 113.059 Q2075.14 110.02 2075.14 104.228 Q2075.14 98.8804 2071.37 95.8828 Q2067.65 92.8446 2060.96 92.8446 L2053.91 92.8446 L2053.91 86.1201 L2061.29 86.1201 Q2067.32 86.1201 2070.52 83.7301 Q2073.72 81.2995 2073.72 76.7625 Q2073.72 72.104 2070.4 69.6329 Q2067.12 67.1214 2060.96 67.1214 Q2057.6 67.1214 2053.75 67.8505 Q2049.9 68.5797 2045.29 70.119 L2045.29 62.8274 Q2049.94 61.5311 2053.99 60.883 Q2058.09 60.2348 2061.69 60.2348 Q2071.01 60.2348 2076.44 64.4883 Q2081.86 68.7012 2081.86 75.9118 Q2081.86 80.9349 2078.99 84.4187 Q2076.11 87.862 2070.81 89.1988 Z\" fill=\"#0000ff\" fill-rule=\"nonzero\" fill-opacity=\"1\" /><path clip-path=\"url(#clip990)\" d=\"M2117.31 88.3076 Q2111.8 88.3076 2108.56 92.0749 Q2105.36 95.8423 2105.36 102.405 Q2105.36 108.927 2108.56 112.735 Q2111.8 116.502 2117.31 116.502 Q2122.82 116.502 2126.02 112.735 Q2129.26 108.927 2129.26 102.405 Q2129.26 95.8423 2126.02 92.0749 Q2122.82 88.3076 2117.31 88.3076 M2133.55 62.6654 L2133.55 70.119 Q2130.48 68.6607 2127.32 67.891 Q2124.2 67.1214 2121.12 67.1214 Q2113.02 67.1214 2108.72 72.5901 Q2104.47 78.0588 2103.86 89.1178 Q2106.25 85.5935 2109.86 83.7301 Q2113.46 81.8261 2117.8 81.8261 Q2126.91 81.8261 2132.18 87.3759 Q2137.48 92.8851 2137.48 102.405 Q2137.48 111.722 2131.97 117.353 Q2126.47 122.983 2117.31 122.983 Q2106.82 122.983 2101.27 114.963 Q2095.72 106.901 2095.72 91.6293 Q2095.72 77.2891 2102.52 68.7822 Q2109.33 60.2348 2120.79 60.2348 Q2123.87 60.2348 2126.99 60.8425 Q2130.15 61.4501 2133.55 62.6654 Z\" fill=\"#0000ff\" fill-rule=\"nonzero\" fill-opacity=\"1\" /><path clip-path=\"url(#clip990)\" d=\"M2169.08 93.0877 Q2163.25 93.0877 2159.89 96.2069 Q2156.56 99.326 2156.56 104.795 Q2156.56 110.263 2159.89 113.383 Q2163.25 116.502 2169.08 116.502 Q2174.91 116.502 2178.28 113.383 Q2181.64 110.223 2181.64 104.795 Q2181.64 99.326 2178.28 96.2069 Q2174.95 93.0877 2169.08 93.0877 M2160.9 89.6039 Q2155.63 88.3076 2152.67 84.7023 Q2149.76 81.097 2149.76 75.9118 Q2149.76 68.6607 2154.9 64.4478 Q2160.09 60.2348 2169.08 60.2348 Q2178.11 60.2348 2183.26 64.4478 Q2188.4 68.6607 2188.4 75.9118 Q2188.4 81.097 2185.45 84.7023 Q2182.53 88.3076 2177.3 89.6039 Q2183.22 90.9812 2186.5 94.9916 Q2189.82 99.002 2189.82 104.795 Q2189.82 113.585 2184.43 118.284 Q2179.09 122.983 2169.08 122.983 Q2159.07 122.983 2153.69 118.284 Q2148.34 113.585 2148.34 104.795 Q2148.34 99.002 2151.66 94.9916 Q2154.98 90.9812 2160.9 89.6039 M2157.9 76.6815 Q2157.9 81.3805 2160.82 84.0136 Q2163.77 86.6467 2169.08 86.6467 Q2174.35 86.6467 2177.3 84.0136 Q2180.3 81.3805 2180.3 76.6815 Q2180.3 71.9824 2177.3 69.3494 Q2174.35 66.7163 2169.08 66.7163 Q2163.77 66.7163 2160.82 69.3494 Q2157.9 71.9824 2157.9 76.6815 Z\" fill=\"#0000ff\" fill-rule=\"nonzero\" fill-opacity=\"1\" /><path clip-path=\"url(#clip990)\" d=\"M2222.88 88.3076 Q2217.37 88.3076 2214.13 92.0749 Q2210.93 95.8423 2210.93 102.405 Q2210.93 108.927 2214.13 112.735 Q2217.37 116.502 2222.88 116.502 Q2228.39 116.502 2231.59 112.735 Q2234.83 108.927 2234.83 102.405 Q2234.83 95.8423 2231.59 92.0749 Q2228.39 88.3076 2222.88 88.3076 M2239.12 62.6654 L2239.12 70.119 Q2236.04 68.6607 2232.88 67.891 Q2229.76 67.1214 2226.68 67.1214 Q2218.58 67.1214 2214.29 72.5901 Q2210.04 78.0588 2209.43 89.1178 Q2211.82 85.5935 2215.42 83.7301 Q2219.03 81.8261 2223.36 81.8261 Q2232.48 81.8261 2237.74 87.3759 Q2243.05 92.8851 2243.05 102.405 Q2243.05 111.722 2237.54 117.353 Q2232.03 122.983 2222.88 122.983 Q2212.38 122.983 2206.84 114.963 Q2201.29 106.901 2201.29 91.6293 Q2201.29 77.2891 2208.09 68.7822 Q2214.9 60.2348 2226.36 60.2348 Q2229.44 60.2348 2232.56 60.8425 Q2235.72 61.4501 2239.12 62.6654 Z\" fill=\"#0000ff\" fill-rule=\"nonzero\" fill-opacity=\"1\" /><path clip-path=\"url(#clip990)\" d=\"M245.135 361.708 L266.969 361.708 L266.969 368.352 L245.135 368.352 L245.135 361.708 Z\" fill=\"#ff0000\" fill-rule=\"nonzero\" fill-opacity=\"1\" /><path clip-path=\"url(#clip990)\" d=\"M297.391 332.663 Q291.072 332.663 287.872 338.901 Q284.712 345.099 284.712 357.576 Q284.712 370.012 287.872 376.251 Q291.072 382.449 297.391 382.449 Q303.751 382.449 306.911 376.251 Q310.111 370.012 310.111 357.576 Q310.111 345.099 306.911 338.901 Q303.751 332.663 297.391 332.663 M297.391 326.182 Q307.559 326.182 312.906 334.243 Q318.294 342.264 318.294 357.576 Q318.294 372.848 312.906 380.909 Q307.559 388.93 297.391 388.93 Q287.224 388.93 281.836 380.909 Q276.489 372.848 276.489 357.576 Q276.489 342.264 281.836 334.243 Q287.224 326.182 297.391 326.182 Z\" fill=\"#ff0000\" fill-rule=\"nonzero\" fill-opacity=\"1\" /><path clip-path=\"url(#clip990)\" d=\"M332.675 377.466 L341.222 377.466 L341.222 387.755 L332.675 387.755 L332.675 377.466 Z\" fill=\"#ff0000\" fill-rule=\"nonzero\" fill-opacity=\"1\" /><path clip-path=\"url(#clip990)\" d=\"M376.546 332.663 Q370.227 332.663 367.026 338.901 Q363.867 345.099 363.867 357.576 Q363.867 370.012 367.026 376.251 Q370.227 382.449 376.546 382.449 Q382.906 382.449 386.066 376.251 Q389.266 370.012 389.266 357.576 Q389.266 345.099 386.066 338.901 Q382.906 332.663 376.546 332.663 M376.546 326.182 Q386.714 326.182 392.061 334.243 Q397.449 342.264 397.449 357.576 Q397.449 372.848 392.061 380.909 Q386.714 388.93 376.546 388.93 Q366.378 388.93 360.991 380.909 Q355.643 372.848 355.643 357.576 Q355.643 342.264 360.991 334.243 Q366.378 326.182 376.546 326.182 Z\" fill=\"#ff0000\" fill-rule=\"nonzero\" fill-opacity=\"1\" /><path clip-path=\"url(#clip990)\" d=\"M413.247 380.869 L426.615 380.869 L426.615 334.729 L412.072 337.646 L412.072 330.192 L426.534 327.275 L434.717 327.275 L434.717 380.869 L448.085 380.869 L448.085 387.755 L413.247 387.755 L413.247 380.869 Z\" fill=\"#ff0000\" fill-rule=\"nonzero\" fill-opacity=\"1\" /><path clip-path=\"url(#clip990)\" d=\"M487.095 334.405 L466.436 366.691 L487.095 366.691 L487.095 334.405 M484.948 327.275 L495.237 327.275 L495.237 366.691 L503.866 366.691 L503.866 373.496 L495.237 373.496 L495.237 387.755 L487.095 387.755 L487.095 373.496 L459.792 373.496 L459.792 365.597 L484.948 327.275 Z\" fill=\"#ff0000\" fill-rule=\"nonzero\" fill-opacity=\"1\" /><path clip-path=\"url(#clip990)\" d=\"M539.878 334.405 L519.219 366.691 L539.878 366.691 L539.878 334.405 M537.731 327.275 L548.021 327.275 L548.021 366.691 L556.649 366.691 L556.649 373.496 L548.021 373.496 L548.021 387.755 L539.878 387.755 L539.878 373.496 L512.575 373.496 L512.575 365.597 L537.731 327.275 Z\" fill=\"#ff0000\" fill-rule=\"nonzero\" fill-opacity=\"1\" /><path clip-path=\"url(#clip990)\" d=\"M2056.64 332.663 Q2050.32 332.663 2047.12 338.901 Q2043.96 345.099 2043.96 357.576 Q2043.96 370.012 2047.12 376.251 Q2050.32 382.449 2056.64 382.449 Q2063 382.449 2066.16 376.251 Q2069.36 370.012 2069.36 357.576 Q2069.36 345.099 2066.16 338.901 Q2063 332.663 2056.64 332.663 M2056.64 326.182 Q2066.81 326.182 2072.16 334.243 Q2077.55 342.264 2077.55 357.576 Q2077.55 372.848 2072.16 380.909 Q2066.81 388.93 2056.64 388.93 Q2046.47 388.93 2041.09 380.909 Q2035.74 372.848 2035.74 357.576 Q2035.74 342.264 2041.09 334.243 Q2046.47 326.182 2056.64 326.182 Z\" fill=\"#ff0000\" fill-rule=\"nonzero\" fill-opacity=\"1\" /><path clip-path=\"url(#clip990)\" d=\"M2091.93 377.466 L2100.47 377.466 L2100.47 387.755 L2091.93 387.755 L2091.93 377.466 Z\" fill=\"#ff0000\" fill-rule=\"nonzero\" fill-opacity=\"1\" /><path clip-path=\"url(#clip990)\" d=\"M2143.09 355.146 Q2148.96 356.401 2152.24 360.371 Q2155.57 364.341 2155.57 370.174 Q2155.57 379.127 2149.41 384.029 Q2143.25 388.93 2131.91 388.93 Q2128.1 388.93 2124.05 388.16 Q2120.04 387.431 2115.75 385.932 L2115.75 378.033 Q2119.15 380.018 2123.2 381.031 Q2127.25 382.044 2131.67 382.044 Q2139.36 382.044 2143.37 379.005 Q2147.42 375.967 2147.42 370.174 Q2147.42 364.827 2143.66 361.83 Q2139.93 358.791 2133.25 358.791 L2126.2 358.791 L2126.2 352.067 L2133.57 352.067 Q2139.61 352.067 2142.81 349.677 Q2146.01 347.246 2146.01 342.709 Q2146.01 338.051 2142.68 335.58 Q2139.4 333.068 2133.25 333.068 Q2129.88 333.068 2126.03 333.797 Q2122.19 334.527 2117.57 336.066 L2117.57 328.774 Q2122.23 327.478 2126.28 326.83 Q2130.37 326.182 2133.97 326.182 Q2143.29 326.182 2148.72 330.435 Q2154.15 334.648 2154.15 341.859 Q2154.15 346.882 2151.27 350.366 Q2148.4 353.809 2143.09 355.146 Z\" fill=\"#ff0000\" fill-rule=\"nonzero\" fill-opacity=\"1\" /><path clip-path=\"url(#clip990)\" d=\"M2188.58 359.034 Q2182.75 359.034 2179.38 362.154 Q2176.06 365.273 2176.06 370.742 Q2176.06 376.21 2179.38 379.33 Q2182.75 382.449 2188.58 382.449 Q2194.41 382.449 2197.78 379.33 Q2201.14 376.17 2201.14 370.742 Q2201.14 365.273 2197.78 362.154 Q2194.45 359.034 2188.58 359.034 M2180.4 355.551 Q2175.13 354.254 2172.17 350.649 Q2169.26 347.044 2169.26 341.859 Q2169.26 334.608 2174.4 330.395 Q2179.59 326.182 2188.58 326.182 Q2197.61 326.182 2202.76 330.395 Q2207.9 334.608 2207.9 341.859 Q2207.9 347.044 2204.95 350.649 Q2202.03 354.254 2196.8 355.551 Q2202.72 356.928 2206 360.938 Q2209.32 364.949 2209.32 370.742 Q2209.32 379.532 2203.93 384.231 Q2198.59 388.93 2188.58 388.93 Q2178.57 388.93 2173.19 384.231 Q2167.84 379.532 2167.84 370.742 Q2167.84 364.949 2171.16 360.938 Q2174.48 356.928 2180.4 355.551 M2177.4 342.628 Q2177.4 347.327 2180.32 349.96 Q2183.27 352.594 2188.58 352.594 Q2193.85 352.594 2196.8 349.96 Q2199.8 347.327 2199.8 342.628 Q2199.8 337.929 2196.8 335.296 Q2193.85 332.663 2188.58 332.663 Q2183.27 332.663 2180.32 335.296 Q2177.4 337.929 2177.4 342.628 Z\" fill=\"#ff0000\" fill-rule=\"nonzero\" fill-opacity=\"1\" /><path clip-path=\"url(#clip990)\" d=\"M2246.35 334.405 L2225.69 366.691 L2246.35 366.691 L2246.35 334.405 M2244.2 327.275 L2254.49 327.275 L2254.49 366.691 L2263.12 366.691 L2263.12 373.496 L2254.49 373.496 L2254.49 387.755 L2246.35 387.755 L2246.35 373.496 L2219.04 373.496 L2219.04 365.597 L2244.2 327.275 Z\" fill=\"#ff0000\" fill-rule=\"nonzero\" fill-opacity=\"1\" /><path clip-path=\"url(#clip990)\" d=\"M2294.15 359.034 Q2288.31 359.034 2284.95 362.154 Q2281.63 365.273 2281.63 370.742 Q2281.63 376.21 2284.95 379.33 Q2288.31 382.449 2294.15 382.449 Q2299.98 382.449 2303.34 379.33 Q2306.7 376.17 2306.7 370.742 Q2306.7 365.273 2303.34 362.154 Q2300.02 359.034 2294.15 359.034 M2285.96 355.551 Q2280.7 354.254 2277.74 350.649 Q2274.82 347.044 2274.82 341.859 Q2274.82 334.608 2279.97 330.395 Q2285.15 326.182 2294.15 326.182 Q2303.18 326.182 2308.33 330.395 Q2313.47 334.608 2313.47 341.859 Q2313.47 347.044 2310.51 350.649 Q2307.6 354.254 2302.37 355.551 Q2308.28 356.928 2311.57 360.938 Q2314.89 364.949 2314.89 370.742 Q2314.89 379.532 2309.5 384.231 Q2304.15 388.93 2294.15 388.93 Q2284.14 388.93 2278.75 384.231 Q2273.41 379.532 2273.41 370.742 Q2273.41 364.949 2276.73 360.938 Q2280.05 356.928 2285.96 355.551 M2282.97 342.628 Q2282.97 347.327 2285.88 349.96 Q2288.84 352.594 2294.15 352.594 Q2299.41 352.594 2302.37 349.96 Q2305.37 347.327 2305.37 342.628 Q2305.37 337.929 2302.37 335.296 Q2299.41 332.663 2294.15 332.663 Q2288.84 332.663 2285.88 335.296 Q2282.97 337.929 2282.97 342.628 Z\" fill=\"#ff0000\" fill-rule=\"nonzero\" fill-opacity=\"1\" /></svg>\n"
      ]
     },
     "execution_count": 36,
     "metadata": {},
     "output_type": "execute_result"
    }
   ],
   "source": [
    "x = [res.Htest.ConfidenceInterval[1],res.bound[1],res.bound[2],res.Htest.ConfidenceInterval[2]]\n",
    "tol = (x[4]-x[1])/10\n",
    "y =[-0.01,0.01,0.01,-0.01]\n",
    "symbols =[:vline,:vline,:vline,:vline]\n",
    "\n",
    "scatter(x, y, markersize=10,\n",
    "    xlim=(x[1]-tol,x[4]+tol),\n",
    "    ylim=(-0.04,0.04),\n",
    "    markershape=symbols,\n",
    "    markerstrokewidth=4,\n",
    "    label=\"\",\n",
    "    c=[:red,:blue,:blue,:red],\n",
    "    showaxis=:x,\n",
    "    size =(600,120))\n",
    "plot!(x[2:3],y[2:3],label=\"\",c=:blue)\n",
    "plot!(x[1:3:4],y[1:3:4],label=\"\",c=:red)\n",
    "annotate!(x[2], 0.03, string(round(x[2],digits=4)),:blue)\n",
    "annotate!(x[3], 0.03, string(round(x[3],digits=4)),:blue)\n",
    "annotate!(x[1], -0.03, string(round(x[1],digits=4)),:red)\n",
    "annotate!(x[4], -0.03, string(round(x[4],digits=4)),:red)\n"
   ]
  },
  {
   "cell_type": "code",
   "execution_count": 37,
   "metadata": {},
   "outputs": [
    {
     "ename": "LoadError",
     "evalue": "UndefVarError: `cI_H` not defined",
     "output_type": "error",
     "traceback": [
      "UndefVarError: `cI_H` not defined",
      "",
      "Stacktrace:",
      " [1] EYasy(yl::Vector{Float64}, yu::Vector{Float64}, H0::Vector{Int64}, options::Options)",
      "   @ Main.setBLP C:\\Users\\arie\\OneDrive - University of Pittsburgh\\Documents\\Bounds.jl\\Bounds.jl\\src\\setBLP.jl:175",
      " [2] EY(yl::Vector{Float64}, yu::Vector{Float64}, H0::Vector{Int64}, options::Options, method::String)",
      "   @ Main.setBLP C:\\Users\\arie\\OneDrive - University of Pittsburgh\\Documents\\Bounds.jl\\Bounds.jl\\src\\setBLP.jl:94",
      " [3] EY(yl::Vector{Float64}, yu::Vector{Float64}, H0::Vector{Int64})",
      "   @ Main.setBLP C:\\Users\\arie\\OneDrive - University of Pittsburgh\\Documents\\Bounds.jl\\Bounds.jl\\src\\setBLP.jl:93",
      " [4] top-level scope",
      "   @ In[37]:1"
     ]
    }
   ],
   "source": [
    "EY(yl,yu,[1,2])"
   ]
  },
  {
   "cell_type": "code",
   "execution_count": null,
   "metadata": {},
   "outputs": [],
   "source": []
  }
 ],
 "metadata": {
  "@webio": {
   "lastCommId": null,
   "lastKernelId": null
  },
  "kernelspec": {
   "display_name": "Julia 1.9.2",
   "language": "julia",
   "name": "julia-1.9"
  },
  "language_info": {
   "file_extension": ".jl",
   "mimetype": "application/julia",
   "name": "julia",
   "version": "1.9.2"
  }
 },
 "nbformat": 4,
 "nbformat_minor": 4
}
