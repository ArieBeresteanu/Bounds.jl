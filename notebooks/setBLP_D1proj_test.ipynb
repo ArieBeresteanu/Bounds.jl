{
 "cells": [
  {
   "cell_type": "code",
   "execution_count": 1,
   "metadata": {},
   "outputs": [],
   "source": [
    "using CSV, DataFrames"
   ]
  },
  {
   "cell_type": "markdown",
   "metadata": {},
   "source": [
    "# Uploading CPS data"
   ]
  },
  {
   "cell_type": "code",
   "execution_count": 2,
   "metadata": {},
   "outputs": [
    {
     "data": {
      "text/html": [
       "<div><div style = \"float: left;\"><span>5×3 DataFrame</span></div><div style = \"clear: both;\"></div></div><div class = \"data-frame\" style = \"overflow-x: scroll;\"><table class = \"data-frame\" style = \"margin-bottom: 6px;\"><thead><tr class = \"header\"><th class = \"rowNumber\" style = \"font-weight: bold; text-align: right;\">Row</th><th style = \"text-align: left;\">age</th><th style = \"text-align: left;\">wage</th><th style = \"text-align: left;\">educ</th></tr><tr class = \"subheader headerLastRow\"><th class = \"rowNumber\" style = \"font-weight: bold; text-align: right;\"></th><th title = \"Int64\" style = \"text-align: left;\">Int64</th><th title = \"Int64\" style = \"text-align: left;\">Int64</th><th title = \"String\" style = \"text-align: left;\">String</th></tr></thead><tbody><tr><td class = \"rowNumber\" style = \"font-weight: bold; text-align: right;\">1</td><td style = \"text-align: right;\">22</td><td style = \"text-align: right;\">12000</td><td style = \"text-align: left;\">some college but no degree</td></tr><tr><td class = \"rowNumber\" style = \"font-weight: bold; text-align: right;\">2</td><td style = \"text-align: right;\">21</td><td style = \"text-align: right;\">3500</td><td style = \"text-align: left;\">some college but no degree</td></tr><tr><td class = \"rowNumber\" style = \"font-weight: bold; text-align: right;\">3</td><td style = \"text-align: right;\">49</td><td style = \"text-align: right;\">30000</td><td style = \"text-align: left;\">some college but no degree</td></tr><tr><td class = \"rowNumber\" style = \"font-weight: bold; text-align: right;\">4</td><td style = \"text-align: right;\">31</td><td style = \"text-align: right;\">32000</td><td style = \"text-align: left;\">bachelor&apos;s degree</td></tr><tr><td class = \"rowNumber\" style = \"font-weight: bold; text-align: right;\">5</td><td style = \"text-align: right;\">42</td><td style = \"text-align: right;\">89630</td><td style = \"text-align: left;\">doctorate degree</td></tr></tbody></table></div>"
      ],
      "text/latex": [
       "\\begin{tabular}{r|ccc}\n",
       "\t& age & wage & educ\\\\\n",
       "\t\\hline\n",
       "\t& Int64 & Int64 & String\\\\\n",
       "\t\\hline\n",
       "\t1 & 22 & 12000 & some college but no degree \\\\\n",
       "\t2 & 21 & 3500 & some college but no degree \\\\\n",
       "\t3 & 49 & 30000 & some college but no degree \\\\\n",
       "\t4 & 31 & 32000 & bachelor's degree \\\\\n",
       "\t5 & 42 & 89630 & doctorate degree \\\\\n",
       "\\end{tabular}\n"
      ],
      "text/plain": [
       "\u001b[1m5×3 DataFrame\u001b[0m\n",
       "\u001b[1m Row \u001b[0m│\u001b[1m age   \u001b[0m\u001b[1m wage  \u001b[0m\u001b[1m educ                       \u001b[0m\n",
       "     │\u001b[90m Int64 \u001b[0m\u001b[90m Int64 \u001b[0m\u001b[90m String                     \u001b[0m\n",
       "─────┼──────────────────────────────────────────\n",
       "   1 │    22  12000  some college but no degree\n",
       "   2 │    21   3500  some college but no degree\n",
       "   3 │    49  30000  some college but no degree\n",
       "   4 │    31  32000  bachelor's degree\n",
       "   5 │    42  89630  doctorate degree"
      ]
     },
     "execution_count": 2,
     "metadata": {},
     "output_type": "execute_result"
    }
   ],
   "source": [
    "cps = DataFrame(CSV.File(\"c:\\\\data\\\\Bounds\\\\cps.csv\")) # <-change this to the right directory\n",
    "\n",
    "## Cleaning zero wage\n",
    "\n",
    "cps = cps[cps.wage .> 0, :]\n",
    "first(cps,5)"
   ]
  },
  {
   "cell_type": "code",
   "execution_count": 3,
   "metadata": {},
   "outputs": [
    {
     "data": {
      "text/plain": [
       "Dict{String, Int64} with 16 entries:\n",
       "  \"grade 11\"                                            => 11\n",
       "  \"some college but no degree\"                          => 13\n",
       "  \"associate's degree, academic program\"                => 14\n",
       "  \"none or preschool\"                                   => 0\n",
       "  \"doctorate degree\"                                    => 21\n",
       "  \"grade 10\"                                            => 10\n",
       "  \"bachelor's degree\"                                   => 16\n",
       "  \"master's degree\"                                     => 14\n",
       "  \"grades 5 or 6\"                                       => 6\n",
       "  \"grades 7 or 8\"                                       => 8\n",
       "  \"grades 1, 2, 3, or 4\"                                => 4\n",
       "  \"associate's degree, occupational/vocational program\" => 14\n",
       "  \"professional school degree\"                          => 14\n",
       "  \"high school diploma or equivalent\"                   => 12\n",
       "  \"grade 9\"                                             => 9\n",
       "  \"12th grade, no diploma\"                              => 12"
      ]
     },
     "execution_count": 3,
     "metadata": {},
     "output_type": "execute_result"
    }
   ],
   "source": [
    "# Numerical value for education\n",
    "\n",
    "#1.Creating a dictionary\n",
    "\n",
    "educ_dict = Dict( \n",
    "    \"grade 11\" => 11, \n",
    "    \"some college but no degree\" => 13, \n",
    "    \"associate's degree, academic program\" => 14,\n",
    "    \"grade 10\" => 10, \n",
    "    \"grades 7 or 8\" => 8, \n",
    "    \"grades 1, 2, 3, or 4\" => 4, \n",
    "    \"associate's degree, occupational/vocational program\" => 14, \n",
    "    \"high school diploma or equivalent\" => 12, \n",
    "    \"grade 9\" => 9, \n",
    "    \"none or preschool\" => 0, \n",
    "    \"doctorate degree\" => 21,\n",
    "    \"bachelor's degree\" => 16, \n",
    "    \"master's degree\" => 14, \n",
    "    \"grades 5 or 6\" => 6, \n",
    "    \"professional school degree\" => 14, \n",
    "    \"12th grade, no diploma\" => 12\n",
    "    )"
   ]
  },
  {
   "cell_type": "code",
   "execution_count": 4,
   "metadata": {},
   "outputs": [
    {
     "data": {
      "text/html": [
       "<div><div style = \"float: left;\"><span>10×5 DataFrame</span></div><div style = \"clear: both;\"></div></div><div class = \"data-frame\" style = \"overflow-x: scroll;\"><table class = \"data-frame\" style = \"margin-bottom: 6px;\"><thead><tr class = \"header\"><th class = \"rowNumber\" style = \"font-weight: bold; text-align: right;\">Row</th><th style = \"text-align: left;\">age</th><th style = \"text-align: left;\">wage</th><th style = \"text-align: left;\">educ</th><th style = \"text-align: left;\">educ_num</th><th style = \"text-align: left;\">log_wage</th></tr><tr class = \"subheader headerLastRow\"><th class = \"rowNumber\" style = \"font-weight: bold; text-align: right;\"></th><th title = \"Int64\" style = \"text-align: left;\">Int64</th><th title = \"Int64\" style = \"text-align: left;\">Int64</th><th title = \"String\" style = \"text-align: left;\">String</th><th title = \"Int64\" style = \"text-align: left;\">Int64</th><th title = \"Float64\" style = \"text-align: left;\">Float64</th></tr></thead><tbody><tr><td class = \"rowNumber\" style = \"font-weight: bold; text-align: right;\">1</td><td style = \"text-align: right;\">22</td><td style = \"text-align: right;\">12000</td><td style = \"text-align: left;\">some college but no degree</td><td style = \"text-align: right;\">13</td><td style = \"text-align: right;\">9.39266</td></tr><tr><td class = \"rowNumber\" style = \"font-weight: bold; text-align: right;\">2</td><td style = \"text-align: right;\">21</td><td style = \"text-align: right;\">3500</td><td style = \"text-align: left;\">some college but no degree</td><td style = \"text-align: right;\">13</td><td style = \"text-align: right;\">8.16052</td></tr><tr><td class = \"rowNumber\" style = \"font-weight: bold; text-align: right;\">3</td><td style = \"text-align: right;\">49</td><td style = \"text-align: right;\">30000</td><td style = \"text-align: left;\">some college but no degree</td><td style = \"text-align: right;\">13</td><td style = \"text-align: right;\">10.309</td></tr><tr><td class = \"rowNumber\" style = \"font-weight: bold; text-align: right;\">4</td><td style = \"text-align: right;\">31</td><td style = \"text-align: right;\">32000</td><td style = \"text-align: left;\">bachelor&apos;s degree</td><td style = \"text-align: right;\">16</td><td style = \"text-align: right;\">10.3735</td></tr><tr><td class = \"rowNumber\" style = \"font-weight: bold; text-align: right;\">5</td><td style = \"text-align: right;\">42</td><td style = \"text-align: right;\">89630</td><td style = \"text-align: left;\">doctorate degree</td><td style = \"text-align: right;\">21</td><td style = \"text-align: right;\">11.4034</td></tr><tr><td class = \"rowNumber\" style = \"font-weight: bold; text-align: right;\">6</td><td style = \"text-align: right;\">35</td><td style = \"text-align: right;\">229339</td><td style = \"text-align: left;\">doctorate degree</td><td style = \"text-align: right;\">21</td><td style = \"text-align: right;\">12.343</td></tr><tr><td class = \"rowNumber\" style = \"font-weight: bold; text-align: right;\">7</td><td style = \"text-align: right;\">42</td><td style = \"text-align: right;\">39000</td><td style = \"text-align: left;\">high school diploma or equivalent</td><td style = \"text-align: right;\">12</td><td style = \"text-align: right;\">10.5713</td></tr><tr><td class = \"rowNumber\" style = \"font-weight: bold; text-align: right;\">8</td><td style = \"text-align: right;\">48</td><td style = \"text-align: right;\">50000</td><td style = \"text-align: left;\">high school diploma or equivalent</td><td style = \"text-align: right;\">12</td><td style = \"text-align: right;\">10.8198</td></tr><tr><td class = \"rowNumber\" style = \"font-weight: bold; text-align: right;\">9</td><td style = \"text-align: right;\">41</td><td style = \"text-align: right;\">37500</td><td style = \"text-align: left;\">some college but no degree</td><td style = \"text-align: right;\">13</td><td style = \"text-align: right;\">10.5321</td></tr><tr><td class = \"rowNumber\" style = \"font-weight: bold; text-align: right;\">10</td><td style = \"text-align: right;\">41</td><td style = \"text-align: right;\">52000</td><td style = \"text-align: left;\">associate&apos;s degree, occupational/vocational program</td><td style = \"text-align: right;\">14</td><td style = \"text-align: right;\">10.859</td></tr></tbody></table></div>"
      ],
      "text/latex": [
       "\\begin{tabular}{r|ccccc}\n",
       "\t& age & wage & educ & educ\\_num & log\\_wage\\\\\n",
       "\t\\hline\n",
       "\t& Int64 & Int64 & String & Int64 & Float64\\\\\n",
       "\t\\hline\n",
       "\t1 & 22 & 12000 & some college but no degree & 13 & 9.39266 \\\\\n",
       "\t2 & 21 & 3500 & some college but no degree & 13 & 8.16052 \\\\\n",
       "\t3 & 49 & 30000 & some college but no degree & 13 & 10.309 \\\\\n",
       "\t4 & 31 & 32000 & bachelor's degree & 16 & 10.3735 \\\\\n",
       "\t5 & 42 & 89630 & doctorate degree & 21 & 11.4034 \\\\\n",
       "\t6 & 35 & 229339 & doctorate degree & 21 & 12.343 \\\\\n",
       "\t7 & 42 & 39000 & high school diploma or equivalent & 12 & 10.5713 \\\\\n",
       "\t8 & 48 & 50000 & high school diploma or equivalent & 12 & 10.8198 \\\\\n",
       "\t9 & 41 & 37500 & some college but no degree & 13 & 10.5321 \\\\\n",
       "\t10 & 41 & 52000 & associate's degree, occupational/vocational program & 14 & 10.859 \\\\\n",
       "\\end{tabular}\n"
      ],
      "text/plain": [
       "\u001b[1m10×5 DataFrame\u001b[0m\n",
       "\u001b[1m Row \u001b[0m│\u001b[1m age   \u001b[0m\u001b[1m wage   \u001b[0m\u001b[1m educ                              \u001b[0m\u001b[1m educ_num \u001b[0m\u001b[1m log_wage \u001b[0m\n",
       "     │\u001b[90m Int64 \u001b[0m\u001b[90m Int64  \u001b[0m\u001b[90m String                            \u001b[0m\u001b[90m Int64    \u001b[0m\u001b[90m Float64  \u001b[0m\n",
       "─────┼──────────────────────────────────────────────────────────────────────\n",
       "   1 │    22   12000  some college but no degree               13   9.39266\n",
       "   2 │    21    3500  some college but no degree               13   8.16052\n",
       "   3 │    49   30000  some college but no degree               13  10.309\n",
       "   4 │    31   32000  bachelor's degree                        16  10.3735\n",
       "   5 │    42   89630  doctorate degree                         21  11.4034\n",
       "   6 │    35  229339  doctorate degree                         21  12.343\n",
       "   7 │    42   39000  high school diploma or equivalent        12  10.5713\n",
       "   8 │    48   50000  high school diploma or equivalent        12  10.8198\n",
       "   9 │    41   37500  some college but no degree               13  10.5321\n",
       "  10 │    41   52000  associate's degree, occupational…        14  10.859"
      ]
     },
     "execution_count": 4,
     "metadata": {},
     "output_type": "execute_result"
    }
   ],
   "source": [
    "#2. transforming cps.educ\n",
    "f(x) = educ_dict[x]\n",
    "cps.educ_num = f.(cps.educ)\n",
    "\n",
    "#3. log of wage\n",
    "cps.log_wage = log.(cps.wage)\n",
    "first(cps,10)"
   ]
  },
  {
   "cell_type": "code",
   "execution_count": 5,
   "metadata": {},
   "outputs": [
    {
     "data": {
      "text/plain": [
       "(22715, 5)"
      ]
     },
     "execution_count": 5,
     "metadata": {},
     "output_type": "execute_result"
    }
   ],
   "source": [
    "Nobs, = size(cps)"
   ]
  },
  {
   "cell_type": "markdown",
   "metadata": {},
   "source": [
    "# Best Linear Predictor "
   ]
  },
  {
   "cell_type": "code",
   "execution_count": 6,
   "metadata": {},
   "outputs": [],
   "source": [
    "using FixedEffectModels"
   ]
  },
  {
   "cell_type": "code",
   "execution_count": 7,
   "metadata": {},
   "outputs": [
    {
     "data": {
      "text/plain": [
       "                             FixedEffectModel                             \n",
       "===========================================================================\n",
       "Number of obs:                 22715   Converged:                      true\n",
       "dof (model):                       1   dof (residuals):               22712\n",
       "R²:                            0.092   R² adjusted:                   0.092\n",
       "F-statistic:                 2440.69   P-value:                       0.000\n",
       "===========================================================================\n",
       "             Estimate  Std. Error    t-stat  Pr(>|t|)  Lower 95%  Upper 95%\n",
       "───────────────────────────────────────────────────────────────────────────\n",
       "educ_num     0.124936  0.00252889   49.4034    <1e-99   0.119979   0.129893\n",
       "(Intercept)  8.57109   0.0336583   254.65      <1e-99   8.50512    8.63707\n",
       "===========================================================================\n"
      ]
     },
     "execution_count": 7,
     "metadata": {},
     "output_type": "execute_result"
    }
   ],
   "source": [
    "reg(cps, @formula(log_wage ~ educ_num ), Vcov.robust())"
   ]
  },
  {
   "cell_type": "code",
   "execution_count": 8,
   "metadata": {
    "scrolled": true
   },
   "outputs": [
    {
     "data": {
      "text/plain": [
       "                              FixedEffectModel                              \n",
       "=============================================================================\n",
       "Number of obs:                  22715   Converged:                       true\n",
       "dof (model):                        2   dof (residuals):                22711\n",
       "R²:                             0.209   R² adjusted:                    0.209\n",
       "F-statistic:                  2684.15   P-value:                        0.000\n",
       "=============================================================================\n",
       "              Estimate   Std. Error    t-stat  Pr(>|t|)  Lower 95%  Upper 95%\n",
       "─────────────────────────────────────────────────────────────────────────────\n",
       "educ_num     0.110902   0.0024148     45.926     <1e-99  0.106169   0.115635\n",
       "age          0.0377451  0.000712846   52.9498    <1e-99  0.0363478  0.0391423\n",
       "(Intercept)  7.41447    0.0394616    187.891     <1e-99  7.33712    7.49182\n",
       "=============================================================================\n"
      ]
     },
     "execution_count": 8,
     "metadata": {},
     "output_type": "execute_result"
    }
   ],
   "source": [
    "reg(cps, @formula(log_wage ~ educ_num + age ), Vcov.robust())"
   ]
  },
  {
   "cell_type": "markdown",
   "metadata": {},
   "source": [
    "# Interval Data"
   ]
  },
  {
   "cell_type": "code",
   "execution_count": 9,
   "metadata": {},
   "outputs": [],
   "source": [
    "using Statistics"
   ]
  },
  {
   "cell_type": "code",
   "execution_count": 10,
   "metadata": {},
   "outputs": [
    {
     "data": {
      "text/plain": [
       "362303.0"
      ]
     },
     "execution_count": 10,
     "metadata": {},
     "output_type": "execute_result"
    }
   ],
   "source": [
    "wage_quantiles = quantile(cps[!,:wage],[0.0, 0.1,0.2,0.3,0.4,0.5,0.6,0.7,0.8,0.9,1.0], sorted=false);\n",
    "#wage_quantiles[1] +=-1\n",
    "wage_quantiles[end] +=1"
   ]
  },
  {
   "cell_type": "code",
   "execution_count": 11,
   "metadata": {},
   "outputs": [
    {
     "data": {
      "text/html": [
       "<div><div style = \"float: left;\"><span>5×9 DataFrame</span></div><div style = \"clear: both;\"></div></div><div class = \"data-frame\" style = \"overflow-x: scroll;\"><table class = \"data-frame\" style = \"margin-bottom: 6px;\"><thead><tr class = \"header\"><th class = \"rowNumber\" style = \"font-weight: bold; text-align: right;\">Row</th><th style = \"text-align: left;\">age</th><th style = \"text-align: left;\">wage</th><th style = \"text-align: left;\">educ</th><th style = \"text-align: left;\">educ_num</th><th style = \"text-align: left;\">log_wage</th><th style = \"text-align: left;\">wage_lower</th><th style = \"text-align: left;\">wage_upper</th><th style = \"text-align: left;\">logwage_lower</th><th style = \"text-align: left;\">logwage_upper</th></tr><tr class = \"subheader headerLastRow\"><th class = \"rowNumber\" style = \"font-weight: bold; text-align: right;\"></th><th title = \"Int64\" style = \"text-align: left;\">Int64</th><th title = \"Int64\" style = \"text-align: left;\">Int64</th><th title = \"String\" style = \"text-align: left;\">String</th><th title = \"Int64\" style = \"text-align: left;\">Int64</th><th title = \"Float64\" style = \"text-align: left;\">Float64</th><th title = \"Float64\" style = \"text-align: left;\">Float64</th><th title = \"Float64\" style = \"text-align: left;\">Float64</th><th title = \"Float64\" style = \"text-align: left;\">Float64</th><th title = \"Float64\" style = \"text-align: left;\">Float64</th></tr></thead><tbody><tr><td class = \"rowNumber\" style = \"font-weight: bold; text-align: right;\">1</td><td style = \"text-align: right;\">22</td><td style = \"text-align: right;\">12000</td><td style = \"text-align: left;\">some college but no degree</td><td style = \"text-align: right;\">13</td><td style = \"text-align: right;\">9.39266</td><td style = \"text-align: right;\">9000.0</td><td style = \"text-align: right;\">15000.0</td><td style = \"text-align: right;\">9.10498</td><td style = \"text-align: right;\">9.61581</td></tr><tr><td class = \"rowNumber\" style = \"font-weight: bold; text-align: right;\">2</td><td style = \"text-align: right;\">21</td><td style = \"text-align: right;\">3500</td><td style = \"text-align: left;\">some college but no degree</td><td style = \"text-align: right;\">13</td><td style = \"text-align: right;\">8.16052</td><td style = \"text-align: right;\">1.0</td><td style = \"text-align: right;\">9000.0</td><td style = \"text-align: right;\">0.0</td><td style = \"text-align: right;\">9.10498</td></tr><tr><td class = \"rowNumber\" style = \"font-weight: bold; text-align: right;\">3</td><td style = \"text-align: right;\">49</td><td style = \"text-align: right;\">30000</td><td style = \"text-align: left;\">some college but no degree</td><td style = \"text-align: right;\">13</td><td style = \"text-align: right;\">10.309</td><td style = \"text-align: right;\">30000.0</td><td style = \"text-align: right;\">36000.0</td><td style = \"text-align: right;\">10.309</td><td style = \"text-align: right;\">10.4913</td></tr><tr><td class = \"rowNumber\" style = \"font-weight: bold; text-align: right;\">4</td><td style = \"text-align: right;\">31</td><td style = \"text-align: right;\">32000</td><td style = \"text-align: left;\">bachelor&apos;s degree</td><td style = \"text-align: right;\">16</td><td style = \"text-align: right;\">10.3735</td><td style = \"text-align: right;\">30000.0</td><td style = \"text-align: right;\">36000.0</td><td style = \"text-align: right;\">10.309</td><td style = \"text-align: right;\">10.4913</td></tr><tr><td class = \"rowNumber\" style = \"font-weight: bold; text-align: right;\">5</td><td style = \"text-align: right;\">42</td><td style = \"text-align: right;\">89630</td><td style = \"text-align: left;\">doctorate degree</td><td style = \"text-align: right;\">21</td><td style = \"text-align: right;\">11.4034</td><td style = \"text-align: right;\">71000.0</td><td style = \"text-align: right;\">362303.0</td><td style = \"text-align: right;\">11.1704</td><td style = \"text-align: right;\">12.8002</td></tr></tbody></table></div>"
      ],
      "text/latex": [
       "\\begin{tabular}{r|cccccccc}\n",
       "\t& age & wage & educ & educ\\_num & log\\_wage & wage\\_lower & wage\\_upper & \\\\\n",
       "\t\\hline\n",
       "\t& Int64 & Int64 & String & Int64 & Float64 & Float64 & Float64 & \\\\\n",
       "\t\\hline\n",
       "\t1 & 22 & 12000 & some college but no degree & 13 & 9.39266 & 9000.0 & 15000.0 & $\\dots$ \\\\\n",
       "\t2 & 21 & 3500 & some college but no degree & 13 & 8.16052 & 1.0 & 9000.0 & $\\dots$ \\\\\n",
       "\t3 & 49 & 30000 & some college but no degree & 13 & 10.309 & 30000.0 & 36000.0 & $\\dots$ \\\\\n",
       "\t4 & 31 & 32000 & bachelor's degree & 16 & 10.3735 & 30000.0 & 36000.0 & $\\dots$ \\\\\n",
       "\t5 & 42 & 89630 & doctorate degree & 21 & 11.4034 & 71000.0 & 362303.0 & $\\dots$ \\\\\n",
       "\\end{tabular}\n"
      ],
      "text/plain": [
       "\u001b[1m5×9 DataFrame\u001b[0m\n",
       "\u001b[1m Row \u001b[0m│\u001b[1m age   \u001b[0m\u001b[1m wage  \u001b[0m\u001b[1m educ                       \u001b[0m\u001b[1m educ_num \u001b[0m\u001b[1m log_wage \u001b[0m\u001b[1m wage_lowe\u001b[0m ⋯\n",
       "     │\u001b[90m Int64 \u001b[0m\u001b[90m Int64 \u001b[0m\u001b[90m String                     \u001b[0m\u001b[90m Int64    \u001b[0m\u001b[90m Float64  \u001b[0m\u001b[90m Float64  \u001b[0m ⋯\n",
       "─────┼──────────────────────────────────────────────────────────────────────────\n",
       "   1 │    22  12000  some college but no degree        13   9.39266      9000. ⋯\n",
       "   2 │    21   3500  some college but no degree        13   8.16052         1.\n",
       "   3 │    49  30000  some college but no degree        13  10.309       30000.\n",
       "   4 │    31  32000  bachelor's degree                 16  10.3735      30000.\n",
       "   5 │    42  89630  doctorate degree                  21  11.4034      71000. ⋯\n",
       "\u001b[36m                                                               4 columns omitted\u001b[0m"
      ]
     },
     "execution_count": 11,
     "metadata": {},
     "output_type": "execute_result"
    }
   ],
   "source": [
    "lower(x) = wage_quantiles[sum(wage_quantiles .<=x)]\n",
    "upper(x) = wage_quantiles[sum(wage_quantiles .<=x)+1]\n",
    "\n",
    "cps.wage_lower = lower.(cps.wage)\n",
    "cps.wage_upper = upper.(cps.wage)\n",
    "\n",
    "cps.logwage_lower = log.(cps.wage_lower)\n",
    "cps.logwage_upper = log.(cps.wage_upper)\n",
    "\n",
    "first(cps,5)"
   ]
  },
  {
   "cell_type": "markdown",
   "metadata": {},
   "source": [
    "# Partial Indentification"
   ]
  },
  {
   "cell_type": "code",
   "execution_count": 12,
   "metadata": {},
   "outputs": [
    {
     "data": {
      "text/plain": [
       "Main.setBLP"
      ]
     },
     "execution_count": 12,
     "metadata": {},
     "output_type": "execute_result"
    }
   ],
   "source": [
    "include(\"C:\\\\Users\\\\The Group Leader\\\\Notebooks\\\\Research\\\\Bounds.jl-1\\\\src\\\\setBLP.jl\")"
   ]
  },
  {
   "cell_type": "code",
   "execution_count": 13,
   "metadata": {},
   "outputs": [],
   "source": [
    "using Main.setBLP"
   ]
  },
  {
   "cell_type": "code",
   "execution_count": 14,
   "metadata": {},
   "outputs": [],
   "source": [
    "yl = cps.logwage_lower;\n",
    "yu = cps.logwage_upper;\n",
    "x1 = cps.age;\n",
    "x2 = cps.educ_num;\n",
    "x = [x1 x2];"
   ]
  },
  {
   "cell_type": "code",
   "execution_count": 15,
   "metadata": {},
   "outputs": [
    {
     "data": {
      "text/plain": [
       "1×2 Matrix{Float64}:\n",
       " -0.00488786  0.14866"
      ]
     },
     "execution_count": 15,
     "metadata": {},
     "output_type": "execute_result"
    }
   ],
   "source": [
    "oneDproj(yl,yu,x1)"
   ]
  },
  {
   "cell_type": "code",
   "execution_count": 16,
   "metadata": {},
   "outputs": [
    {
     "data": {
      "text/plain": [
       "1×2 Matrix{Float64}:\n",
       " -0.00488786  0.14866"
      ]
     },
     "execution_count": 16,
     "metadata": {},
     "output_type": "execute_result"
    }
   ],
   "source": [
    "oneDproj(yl,yu,x1)"
   ]
  },
  {
   "cell_type": "code",
   "execution_count": 17,
   "metadata": {},
   "outputs": [
    {
     "data": {
      "text/plain": [
       "1×2 Matrix{Float64}:\n",
       " -0.00905178  0.144324"
      ]
     },
     "execution_count": 17,
     "metadata": {},
     "output_type": "execute_result"
    }
   ],
   "source": [
    "oneDproj(yl,yu,x,1)"
   ]
  },
  {
   "cell_type": "code",
   "execution_count": 18,
   "metadata": {},
   "outputs": [
    {
     "data": {
      "text/plain": [
       "1×2 Matrix{Float64}:\n",
       " -0.0255678  0.345638"
      ]
     },
     "execution_count": 18,
     "metadata": {},
     "output_type": "execute_result"
    }
   ],
   "source": [
    "oneDproj(yl,yu,x,2)"
   ]
  },
  {
   "cell_type": "code",
   "execution_count": 19,
   "metadata": {},
   "outputs": [
    {
     "data": {
      "text/plain": [
       "2-element Vector{Any}:\n",
       " [-0.009051777215652151 0.14432389300937035]\n",
       " [-0.025567837808784674 0.3456382284304261]"
      ]
     },
     "execution_count": 19,
     "metadata": {},
     "output_type": "execute_result"
    }
   ],
   "source": [
    "oneDproj(yl,yu,x)"
   ]
  },
  {
   "cell_type": "code",
   "execution_count": 20,
   "metadata": {},
   "outputs": [
    {
     "data": {
      "text/plain": [
       "1×2 Matrix{Float64}:\n",
       " -0.00905178  0.144324"
      ]
     },
     "execution_count": 20,
     "metadata": {},
     "output_type": "execute_result"
    }
   ],
   "source": [
    "oneDproj(cps,:logwage_lower,:logwage_upper,[:age,:educ_num],1)"
   ]
  },
  {
   "cell_type": "code",
   "execution_count": 21,
   "metadata": {},
   "outputs": [
    {
     "data": {
      "text/plain": [
       "1×2 Matrix{Float64}:\n",
       " -0.0255678  0.345638"
      ]
     },
     "execution_count": 21,
     "metadata": {},
     "output_type": "execute_result"
    }
   ],
   "source": [
    "oneDproj(cps,:logwage_lower,:logwage_upper,[:age,:educ_num],2)"
   ]
  }
 ],
 "metadata": {
  "@webio": {
   "lastCommId": null,
   "lastKernelId": null
  },
  "kernelspec": {
   "display_name": "Julia 1.7.3",
   "language": "julia",
   "name": "julia-1.7"
  },
  "language_info": {
   "file_extension": ".jl",
   "mimetype": "application/julia",
   "name": "julia",
   "version": "1.7.3"
  }
 },
 "nbformat": 4,
 "nbformat_minor": 4
}
