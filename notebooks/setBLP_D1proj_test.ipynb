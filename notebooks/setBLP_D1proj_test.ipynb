{
 "cells": [
  {
   "cell_type": "markdown",
   "metadata": {},
   "source": [
    "# Packages"
   ]
  },
  {
   "cell_type": "code",
   "execution_count": 1,
   "metadata": {},
   "outputs": [],
   "source": [
    "using CSV, DataFrames\n",
    "using Statistics"
   ]
  },
  {
   "cell_type": "code",
   "execution_count": 19,
   "metadata": {},
   "outputs": [],
   "source": [
    "using Random"
   ]
  },
  {
   "cell_type": "markdown",
   "metadata": {},
   "source": [
    "# Uploading CPS data"
   ]
  },
  {
   "cell_type": "code",
   "execution_count": 2,
   "metadata": {},
   "outputs": [
    {
     "data": {
      "text/html": [
       "<div><div style = \"float: left;\"><span>5×3 DataFrame</span></div><div style = \"clear: both;\"></div></div><div class = \"data-frame\" style = \"overflow-x: scroll;\"><table class = \"data-frame\" style = \"margin-bottom: 6px;\"><thead><tr class = \"header\"><th class = \"rowNumber\" style = \"font-weight: bold; text-align: right;\">Row</th><th style = \"text-align: left;\">age</th><th style = \"text-align: left;\">wage</th><th style = \"text-align: left;\">educ</th></tr><tr class = \"subheader headerLastRow\"><th class = \"rowNumber\" style = \"font-weight: bold; text-align: right;\"></th><th title = \"Int64\" style = \"text-align: left;\">Int64</th><th title = \"Int64\" style = \"text-align: left;\">Int64</th><th title = \"String\" style = \"text-align: left;\">String</th></tr></thead><tbody><tr><td class = \"rowNumber\" style = \"font-weight: bold; text-align: right;\">1</td><td style = \"text-align: right;\">22</td><td style = \"text-align: right;\">12000</td><td style = \"text-align: left;\">some college but no degree</td></tr><tr><td class = \"rowNumber\" style = \"font-weight: bold; text-align: right;\">2</td><td style = \"text-align: right;\">21</td><td style = \"text-align: right;\">3500</td><td style = \"text-align: left;\">some college but no degree</td></tr><tr><td class = \"rowNumber\" style = \"font-weight: bold; text-align: right;\">3</td><td style = \"text-align: right;\">49</td><td style = \"text-align: right;\">30000</td><td style = \"text-align: left;\">some college but no degree</td></tr><tr><td class = \"rowNumber\" style = \"font-weight: bold; text-align: right;\">4</td><td style = \"text-align: right;\">31</td><td style = \"text-align: right;\">32000</td><td style = \"text-align: left;\">bachelor&apos;s degree</td></tr><tr><td class = \"rowNumber\" style = \"font-weight: bold; text-align: right;\">5</td><td style = \"text-align: right;\">42</td><td style = \"text-align: right;\">89630</td><td style = \"text-align: left;\">doctorate degree</td></tr></tbody></table></div>"
      ],
      "text/latex": [
       "\\begin{tabular}{r|ccc}\n",
       "\t& age & wage & educ\\\\\n",
       "\t\\hline\n",
       "\t& Int64 & Int64 & String\\\\\n",
       "\t\\hline\n",
       "\t1 & 22 & 12000 & some college but no degree \\\\\n",
       "\t2 & 21 & 3500 & some college but no degree \\\\\n",
       "\t3 & 49 & 30000 & some college but no degree \\\\\n",
       "\t4 & 31 & 32000 & bachelor's degree \\\\\n",
       "\t5 & 42 & 89630 & doctorate degree \\\\\n",
       "\\end{tabular}\n"
      ],
      "text/plain": [
       "\u001b[1m5×3 DataFrame\u001b[0m\n",
       "\u001b[1m Row \u001b[0m│\u001b[1m age   \u001b[0m\u001b[1m wage  \u001b[0m\u001b[1m educ                       \u001b[0m\n",
       "     │\u001b[90m Int64 \u001b[0m\u001b[90m Int64 \u001b[0m\u001b[90m String                     \u001b[0m\n",
       "─────┼──────────────────────────────────────────\n",
       "   1 │    22  12000  some college but no degree\n",
       "   2 │    21   3500  some college but no degree\n",
       "   3 │    49  30000  some college but no degree\n",
       "   4 │    31  32000  bachelor's degree\n",
       "   5 │    42  89630  doctorate degree"
      ]
     },
     "execution_count": 2,
     "metadata": {},
     "output_type": "execute_result"
    }
   ],
   "source": [
    "cps = DataFrame(CSV.File(\"c:\\\\data\\\\Bounds\\\\cps.csv\")) # <-change this to the right directory\n",
    "\n",
    "## Cleaning zero wage\n",
    "\n",
    "cps = cps[cps.wage .> 0, :]\n",
    "first(cps,5)"
   ]
  },
  {
   "cell_type": "code",
   "execution_count": 3,
   "metadata": {},
   "outputs": [
    {
     "data": {
      "text/plain": [
       "Dict{String, Int64} with 16 entries:\n",
       "  \"grade 11\"                                            => 11\n",
       "  \"some college but no degree\"                          => 13\n",
       "  \"associate's degree, academic program\"                => 14\n",
       "  \"none or preschool\"                                   => 0\n",
       "  \"doctorate degree\"                                    => 21\n",
       "  \"grade 10\"                                            => 10\n",
       "  \"bachelor's degree\"                                   => 16\n",
       "  \"master's degree\"                                     => 14\n",
       "  \"grades 5 or 6\"                                       => 6\n",
       "  \"grades 7 or 8\"                                       => 8\n",
       "  \"grades 1, 2, 3, or 4\"                                => 4\n",
       "  \"associate's degree, occupational/vocational program\" => 14\n",
       "  \"professional school degree\"                          => 14\n",
       "  \"high school diploma or equivalent\"                   => 12\n",
       "  \"grade 9\"                                             => 9\n",
       "  \"12th grade, no diploma\"                              => 12"
      ]
     },
     "execution_count": 3,
     "metadata": {},
     "output_type": "execute_result"
    }
   ],
   "source": [
    "# Numerical value for education\n",
    "\n",
    "#1.Creating a dictionary\n",
    "\n",
    "educ_dict = Dict( \n",
    "    \"grade 11\" => 11, \n",
    "    \"some college but no degree\" => 13, \n",
    "    \"associate's degree, academic program\" => 14,\n",
    "    \"grade 10\" => 10, \n",
    "    \"grades 7 or 8\" => 8, \n",
    "    \"grades 1, 2, 3, or 4\" => 4, \n",
    "    \"associate's degree, occupational/vocational program\" => 14, \n",
    "    \"high school diploma or equivalent\" => 12, \n",
    "    \"grade 9\" => 9, \n",
    "    \"none or preschool\" => 0, \n",
    "    \"doctorate degree\" => 21,\n",
    "    \"bachelor's degree\" => 16, \n",
    "    \"master's degree\" => 14, \n",
    "    \"grades 5 or 6\" => 6, \n",
    "    \"professional school degree\" => 14, \n",
    "    \"12th grade, no diploma\" => 12\n",
    "    )"
   ]
  },
  {
   "cell_type": "code",
   "execution_count": 4,
   "metadata": {},
   "outputs": [
    {
     "data": {
      "text/html": [
       "<div><div style = \"float: left;\"><span>10×5 DataFrame</span></div><div style = \"clear: both;\"></div></div><div class = \"data-frame\" style = \"overflow-x: scroll;\"><table class = \"data-frame\" style = \"margin-bottom: 6px;\"><thead><tr class = \"header\"><th class = \"rowNumber\" style = \"font-weight: bold; text-align: right;\">Row</th><th style = \"text-align: left;\">age</th><th style = \"text-align: left;\">wage</th><th style = \"text-align: left;\">educ</th><th style = \"text-align: left;\">educ_num</th><th style = \"text-align: left;\">log_wage</th></tr><tr class = \"subheader headerLastRow\"><th class = \"rowNumber\" style = \"font-weight: bold; text-align: right;\"></th><th title = \"Int64\" style = \"text-align: left;\">Int64</th><th title = \"Int64\" style = \"text-align: left;\">Int64</th><th title = \"String\" style = \"text-align: left;\">String</th><th title = \"Int64\" style = \"text-align: left;\">Int64</th><th title = \"Float64\" style = \"text-align: left;\">Float64</th></tr></thead><tbody><tr><td class = \"rowNumber\" style = \"font-weight: bold; text-align: right;\">1</td><td style = \"text-align: right;\">22</td><td style = \"text-align: right;\">12000</td><td style = \"text-align: left;\">some college but no degree</td><td style = \"text-align: right;\">13</td><td style = \"text-align: right;\">9.39266</td></tr><tr><td class = \"rowNumber\" style = \"font-weight: bold; text-align: right;\">2</td><td style = \"text-align: right;\">21</td><td style = \"text-align: right;\">3500</td><td style = \"text-align: left;\">some college but no degree</td><td style = \"text-align: right;\">13</td><td style = \"text-align: right;\">8.16052</td></tr><tr><td class = \"rowNumber\" style = \"font-weight: bold; text-align: right;\">3</td><td style = \"text-align: right;\">49</td><td style = \"text-align: right;\">30000</td><td style = \"text-align: left;\">some college but no degree</td><td style = \"text-align: right;\">13</td><td style = \"text-align: right;\">10.309</td></tr><tr><td class = \"rowNumber\" style = \"font-weight: bold; text-align: right;\">4</td><td style = \"text-align: right;\">31</td><td style = \"text-align: right;\">32000</td><td style = \"text-align: left;\">bachelor&apos;s degree</td><td style = \"text-align: right;\">16</td><td style = \"text-align: right;\">10.3735</td></tr><tr><td class = \"rowNumber\" style = \"font-weight: bold; text-align: right;\">5</td><td style = \"text-align: right;\">42</td><td style = \"text-align: right;\">89630</td><td style = \"text-align: left;\">doctorate degree</td><td style = \"text-align: right;\">21</td><td style = \"text-align: right;\">11.4034</td></tr><tr><td class = \"rowNumber\" style = \"font-weight: bold; text-align: right;\">6</td><td style = \"text-align: right;\">35</td><td style = \"text-align: right;\">229339</td><td style = \"text-align: left;\">doctorate degree</td><td style = \"text-align: right;\">21</td><td style = \"text-align: right;\">12.343</td></tr><tr><td class = \"rowNumber\" style = \"font-weight: bold; text-align: right;\">7</td><td style = \"text-align: right;\">42</td><td style = \"text-align: right;\">39000</td><td style = \"text-align: left;\">high school diploma or equivalent</td><td style = \"text-align: right;\">12</td><td style = \"text-align: right;\">10.5713</td></tr><tr><td class = \"rowNumber\" style = \"font-weight: bold; text-align: right;\">8</td><td style = \"text-align: right;\">48</td><td style = \"text-align: right;\">50000</td><td style = \"text-align: left;\">high school diploma or equivalent</td><td style = \"text-align: right;\">12</td><td style = \"text-align: right;\">10.8198</td></tr><tr><td class = \"rowNumber\" style = \"font-weight: bold; text-align: right;\">9</td><td style = \"text-align: right;\">41</td><td style = \"text-align: right;\">37500</td><td style = \"text-align: left;\">some college but no degree</td><td style = \"text-align: right;\">13</td><td style = \"text-align: right;\">10.5321</td></tr><tr><td class = \"rowNumber\" style = \"font-weight: bold; text-align: right;\">10</td><td style = \"text-align: right;\">41</td><td style = \"text-align: right;\">52000</td><td style = \"text-align: left;\">associate&apos;s degree, occupational/vocational program</td><td style = \"text-align: right;\">14</td><td style = \"text-align: right;\">10.859</td></tr></tbody></table></div>"
      ],
      "text/latex": [
       "\\begin{tabular}{r|ccccc}\n",
       "\t& age & wage & educ & educ\\_num & log\\_wage\\\\\n",
       "\t\\hline\n",
       "\t& Int64 & Int64 & String & Int64 & Float64\\\\\n",
       "\t\\hline\n",
       "\t1 & 22 & 12000 & some college but no degree & 13 & 9.39266 \\\\\n",
       "\t2 & 21 & 3500 & some college but no degree & 13 & 8.16052 \\\\\n",
       "\t3 & 49 & 30000 & some college but no degree & 13 & 10.309 \\\\\n",
       "\t4 & 31 & 32000 & bachelor's degree & 16 & 10.3735 \\\\\n",
       "\t5 & 42 & 89630 & doctorate degree & 21 & 11.4034 \\\\\n",
       "\t6 & 35 & 229339 & doctorate degree & 21 & 12.343 \\\\\n",
       "\t7 & 42 & 39000 & high school diploma or equivalent & 12 & 10.5713 \\\\\n",
       "\t8 & 48 & 50000 & high school diploma or equivalent & 12 & 10.8198 \\\\\n",
       "\t9 & 41 & 37500 & some college but no degree & 13 & 10.5321 \\\\\n",
       "\t10 & 41 & 52000 & associate's degree, occupational/vocational program & 14 & 10.859 \\\\\n",
       "\\end{tabular}\n"
      ],
      "text/plain": [
       "\u001b[1m10×5 DataFrame\u001b[0m\n",
       "\u001b[1m Row \u001b[0m│\u001b[1m age   \u001b[0m\u001b[1m wage   \u001b[0m\u001b[1m educ                              \u001b[0m\u001b[1m educ_num \u001b[0m\u001b[1m log_wage \u001b[0m\n",
       "     │\u001b[90m Int64 \u001b[0m\u001b[90m Int64  \u001b[0m\u001b[90m String                            \u001b[0m\u001b[90m Int64    \u001b[0m\u001b[90m Float64  \u001b[0m\n",
       "─────┼──────────────────────────────────────────────────────────────────────\n",
       "   1 │    22   12000  some college but no degree               13   9.39266\n",
       "   2 │    21    3500  some college but no degree               13   8.16052\n",
       "   3 │    49   30000  some college but no degree               13  10.309\n",
       "   4 │    31   32000  bachelor's degree                        16  10.3735\n",
       "   5 │    42   89630  doctorate degree                         21  11.4034\n",
       "   6 │    35  229339  doctorate degree                         21  12.343\n",
       "   7 │    42   39000  high school diploma or equivalent        12  10.5713\n",
       "   8 │    48   50000  high school diploma or equivalent        12  10.8198\n",
       "   9 │    41   37500  some college but no degree               13  10.5321\n",
       "  10 │    41   52000  associate's degree, occupational…        14  10.859"
      ]
     },
     "execution_count": 4,
     "metadata": {},
     "output_type": "execute_result"
    }
   ],
   "source": [
    "#2. transforming cps.educ\n",
    "f(x) = educ_dict[x]\n",
    "cps.educ_num = f.(cps.educ)\n",
    "\n",
    "#3. log of wage\n",
    "cps.log_wage = log.(cps.wage)\n",
    "first(cps,10)"
   ]
  },
  {
   "cell_type": "code",
   "execution_count": 5,
   "metadata": {},
   "outputs": [
    {
     "data": {
      "text/plain": [
       "(22715, 5)"
      ]
     },
     "execution_count": 5,
     "metadata": {},
     "output_type": "execute_result"
    }
   ],
   "source": [
    "Nobs, = size(cps)"
   ]
  },
  {
   "cell_type": "markdown",
   "metadata": {},
   "source": [
    "# Best Linear Predictor "
   ]
  },
  {
   "cell_type": "code",
   "execution_count": 6,
   "metadata": {},
   "outputs": [],
   "source": [
    "using FixedEffectModels"
   ]
  },
  {
   "cell_type": "code",
   "execution_count": 7,
   "metadata": {},
   "outputs": [
    {
     "data": {
      "text/plain": [
       "                             FixedEffectModel                             \n",
       "===========================================================================\n",
       "Number of obs:                 22715   Converged:                      true\n",
       "dof (model):                       1   dof (residuals):               22712\n",
       "R²:                            0.092   R² adjusted:                   0.092\n",
       "F-statistic:                 2440.69   P-value:                       0.000\n",
       "===========================================================================\n",
       "             Estimate  Std. Error    t-stat  Pr(>|t|)  Lower 95%  Upper 95%\n",
       "───────────────────────────────────────────────────────────────────────────\n",
       "educ_num     0.124936  0.00252889   49.4034    <1e-99   0.119979   0.129893\n",
       "(Intercept)  8.57109   0.0336583   254.65      <1e-99   8.50512    8.63707\n",
       "===========================================================================\n"
      ]
     },
     "execution_count": 7,
     "metadata": {},
     "output_type": "execute_result"
    }
   ],
   "source": [
    "ols1 = reg(cps, @formula(log_wage ~ educ_num ), Vcov.robust())"
   ]
  },
  {
   "cell_type": "code",
   "execution_count": 8,
   "metadata": {},
   "outputs": [
    {
     "data": {
      "text/plain": [
       "0.12493581688862578"
      ]
     },
     "execution_count": 8,
     "metadata": {},
     "output_type": "execute_result"
    }
   ],
   "source": [
    "β₁ = ols1.coef[2]"
   ]
  },
  {
   "cell_type": "code",
   "execution_count": 9,
   "metadata": {
    "scrolled": true
   },
   "outputs": [
    {
     "data": {
      "text/plain": [
       "                              FixedEffectModel                              \n",
       "=============================================================================\n",
       "Number of obs:                  22715   Converged:                       true\n",
       "dof (model):                        2   dof (residuals):                22711\n",
       "R²:                             0.209   R² adjusted:                    0.209\n",
       "F-statistic:                  2684.15   P-value:                        0.000\n",
       "=============================================================================\n",
       "              Estimate   Std. Error    t-stat  Pr(>|t|)  Lower 95%  Upper 95%\n",
       "─────────────────────────────────────────────────────────────────────────────\n",
       "educ_num     0.110902   0.0024148     45.926     <1e-99  0.106169   0.115635\n",
       "age          0.0377451  0.000712846   52.9498    <1e-99  0.0363478  0.0391423\n",
       "(Intercept)  7.41447    0.0394616    187.891     <1e-99  7.33712    7.49182\n",
       "=============================================================================\n"
      ]
     },
     "execution_count": 9,
     "metadata": {},
     "output_type": "execute_result"
    }
   ],
   "source": [
    "reg(cps, @formula(log_wage ~ educ_num + age ), Vcov.robust())"
   ]
  },
  {
   "cell_type": "markdown",
   "metadata": {},
   "source": [
    "# Creating Interval Data"
   ]
  },
  {
   "cell_type": "code",
   "execution_count": 10,
   "metadata": {},
   "outputs": [
    {
     "data": {
      "text/plain": [
       "createIntervalData (generic function with 1 method)"
      ]
     },
     "execution_count": 10,
     "metadata": {},
     "output_type": "execute_result"
    }
   ],
   "source": [
    "function createIntervalData(df::DataFrame,\n",
    "                            Y::Symbol,\n",
    "                            X::Vector{Symbol},\n",
    "                            thresholds::Vector{<:Real})\n",
    "    # The function accepts a dataframe and make interval data from the Y variable. It creates a new dataframe\n",
    "    # which contains the lower and upper values for Y (based on the thresholds) and the covariates.\n",
    "    \n",
    "    data = DataFrame()  \n",
    "    ql = x -> thresholds[sum(thresholds .<=x)]\n",
    "    qu = x -> thresholds[sum(thresholds .<=x)+1]\n",
    "    \n",
    "    data.yl = ql.(df[!,Y])\n",
    "    data.yu = qu.(df[!,Y])\n",
    "    \n",
    "    data.lyl = log.(data.yl)\n",
    "    data.lyu = log.(data.yu)\n",
    "    \n",
    "    for s in X\n",
    "        data[:,s] = df[:,s]\n",
    "    end\n",
    "    \n",
    "    return data\n",
    "end\n",
    "    "
   ]
  },
  {
   "cell_type": "code",
<<<<<<< HEAD
   "execution_count": 10,
=======
   "execution_count": 11,
>>>>>>> 60d988a3101ed967b22708901a8e4376170a6781
   "metadata": {},
   "outputs": [
    {
     "data": {
      "text/plain": [
       "362303.0"
      ]
     },
<<<<<<< HEAD
     "execution_count": 10,
=======
     "execution_count": 11,
>>>>>>> 60d988a3101ed967b22708901a8e4376170a6781
     "metadata": {},
     "output_type": "execute_result"
    }
   ],
   "source": [
    "wage_quantiles = quantile(cps[!,:wage],[0.0, 0.1,0.2,0.3,0.4,0.5,0.6,0.7,0.8,0.9,1.0], sorted=false);\n",
    "\n",
    "wage_quantiles[end] +=1"
   ]
  },
  {
   "cell_type": "code",
<<<<<<< HEAD
   "execution_count": 11,
=======
   "execution_count": 12,
>>>>>>> 60d988a3101ed967b22708901a8e4376170a6781
   "metadata": {},
   "outputs": [
    {
     "data": {
      "text/html": [
<<<<<<< HEAD
       "<div><div style = \"float: left;\"><span>5×9 DataFrame</span></div><div style = \"clear: both;\"></div></div><div class = \"data-frame\" style = \"overflow-x: scroll;\"><table class = \"data-frame\" style = \"margin-bottom: 6px;\"><thead><tr class = \"header\"><th class = \"rowNumber\" style = \"font-weight: bold; text-align: right;\">Row</th><th style = \"text-align: left;\">age</th><th style = \"text-align: left;\">wage</th><th style = \"text-align: left;\">educ</th><th style = \"text-align: left;\">educ_num</th><th style = \"text-align: left;\">log_wage</th><th style = \"text-align: left;\">wage_lower</th><th style = \"text-align: left;\">wage_upper</th><th style = \"text-align: left;\">logwage_lower</th><th style = \"text-align: left;\">logwage_upper</th></tr><tr class = \"subheader headerLastRow\"><th class = \"rowNumber\" style = \"font-weight: bold; text-align: right;\"></th><th title = \"Int64\" style = \"text-align: left;\">Int64</th><th title = \"Int64\" style = \"text-align: left;\">Int64</th><th title = \"String\" style = \"text-align: left;\">String</th><th title = \"Int64\" style = \"text-align: left;\">Int64</th><th title = \"Float64\" style = \"text-align: left;\">Float64</th><th title = \"Float64\" style = \"text-align: left;\">Float64</th><th title = \"Float64\" style = \"text-align: left;\">Float64</th><th title = \"Float64\" style = \"text-align: left;\">Float64</th><th title = \"Float64\" style = \"text-align: left;\">Float64</th></tr></thead><tbody><tr><td class = \"rowNumber\" style = \"font-weight: bold; text-align: right;\">1</td><td style = \"text-align: right;\">22</td><td style = \"text-align: right;\">12000</td><td style = \"text-align: left;\">some college but no degree</td><td style = \"text-align: right;\">13</td><td style = \"text-align: right;\">9.39266</td><td style = \"text-align: right;\">9000.0</td><td style = \"text-align: right;\">15000.0</td><td style = \"text-align: right;\">9.10498</td><td style = \"text-align: right;\">9.61581</td></tr><tr><td class = \"rowNumber\" style = \"font-weight: bold; text-align: right;\">2</td><td style = \"text-align: right;\">21</td><td style = \"text-align: right;\">3500</td><td style = \"text-align: left;\">some college but no degree</td><td style = \"text-align: right;\">13</td><td style = \"text-align: right;\">8.16052</td><td style = \"text-align: right;\">1.0</td><td style = \"text-align: right;\">9000.0</td><td style = \"text-align: right;\">0.0</td><td style = \"text-align: right;\">9.10498</td></tr><tr><td class = \"rowNumber\" style = \"font-weight: bold; text-align: right;\">3</td><td style = \"text-align: right;\">49</td><td style = \"text-align: right;\">30000</td><td style = \"text-align: left;\">some college but no degree</td><td style = \"text-align: right;\">13</td><td style = \"text-align: right;\">10.309</td><td style = \"text-align: right;\">30000.0</td><td style = \"text-align: right;\">36000.0</td><td style = \"text-align: right;\">10.309</td><td style = \"text-align: right;\">10.4913</td></tr><tr><td class = \"rowNumber\" style = \"font-weight: bold; text-align: right;\">4</td><td style = \"text-align: right;\">31</td><td style = \"text-align: right;\">32000</td><td style = \"text-align: left;\">bachelor&apos;s degree</td><td style = \"text-align: right;\">16</td><td style = \"text-align: right;\">10.3735</td><td style = \"text-align: right;\">30000.0</td><td style = \"text-align: right;\">36000.0</td><td style = \"text-align: right;\">10.309</td><td style = \"text-align: right;\">10.4913</td></tr><tr><td class = \"rowNumber\" style = \"font-weight: bold; text-align: right;\">5</td><td style = \"text-align: right;\">42</td><td style = \"text-align: right;\">89630</td><td style = \"text-align: left;\">doctorate degree</td><td style = \"text-align: right;\">21</td><td style = \"text-align: right;\">11.4034</td><td style = \"text-align: right;\">71000.0</td><td style = \"text-align: right;\">362303.0</td><td style = \"text-align: right;\">11.1704</td><td style = \"text-align: right;\">12.8002</td></tr></tbody></table></div>"
=======
       "<div class=\"data-frame\"><p>5 rows × 6 columns</p><table class=\"data-frame\"><thead><tr><th></th><th>yl</th><th>yu</th><th>lyl</th><th>lyu</th><th>educ_num</th><th>age</th></tr><tr><th></th><th title=\"Float64\">Float64</th><th title=\"Float64\">Float64</th><th title=\"Float64\">Float64</th><th title=\"Float64\">Float64</th><th title=\"Int64\">Int64</th><th title=\"Int64\">Int64</th></tr></thead><tbody><tr><th>1</th><td>9000.0</td><td>15000.0</td><td>9.10498</td><td>9.61581</td><td>13</td><td>22</td></tr><tr><th>2</th><td>1.0</td><td>9000.0</td><td>0.0</td><td>9.10498</td><td>13</td><td>21</td></tr><tr><th>3</th><td>30000.0</td><td>36000.0</td><td>10.309</td><td>10.4913</td><td>13</td><td>49</td></tr><tr><th>4</th><td>30000.0</td><td>36000.0</td><td>10.309</td><td>10.4913</td><td>16</td><td>31</td></tr><tr><th>5</th><td>71000.0</td><td>362303.0</td><td>11.1704</td><td>12.8002</td><td>21</td><td>42</td></tr></tbody></table></div>"
>>>>>>> 60d988a3101ed967b22708901a8e4376170a6781
      ],
      "text/latex": [
       "\\begin{tabular}{r|cccccc}\n",
       "\t& yl & yu & lyl & lyu & educ\\_num & age\\\\\n",
       "\t\\hline\n",
       "\t& Float64 & Float64 & Float64 & Float64 & Int64 & Int64\\\\\n",
       "\t\\hline\n",
       "\t1 & 9000.0 & 15000.0 & 9.10498 & 9.61581 & 13 & 22 \\\\\n",
       "\t2 & 1.0 & 9000.0 & 0.0 & 9.10498 & 13 & 21 \\\\\n",
       "\t3 & 30000.0 & 36000.0 & 10.309 & 10.4913 & 13 & 49 \\\\\n",
       "\t4 & 30000.0 & 36000.0 & 10.309 & 10.4913 & 16 & 31 \\\\\n",
       "\t5 & 71000.0 & 362303.0 & 11.1704 & 12.8002 & 21 & 42 \\\\\n",
       "\\end{tabular}\n"
      ],
      "text/plain": [
<<<<<<< HEAD
       "\u001b[1m5×9 DataFrame\u001b[0m\n",
       "\u001b[1m Row \u001b[0m│\u001b[1m age   \u001b[0m\u001b[1m wage  \u001b[0m\u001b[1m educ                       \u001b[0m\u001b[1m educ_num \u001b[0m\u001b[1m log_wage \u001b[0m\u001b[1m wage_lowe\u001b[0m ⋯\n",
       "     │\u001b[90m Int64 \u001b[0m\u001b[90m Int64 \u001b[0m\u001b[90m String                     \u001b[0m\u001b[90m Int64    \u001b[0m\u001b[90m Float64  \u001b[0m\u001b[90m Float64  \u001b[0m ⋯\n",
       "─────┼──────────────────────────────────────────────────────────────────────────\n",
       "   1 │    22  12000  some college but no degree        13   9.39266      9000. ⋯\n",
       "   2 │    21   3500  some college but no degree        13   8.16052         1.\n",
       "   3 │    49  30000  some college but no degree        13  10.309       30000.\n",
       "   4 │    31  32000  bachelor's degree                 16  10.3735      30000.\n",
       "   5 │    42  89630  doctorate degree                  21  11.4034      71000. ⋯\n",
       "\u001b[36m                                                               4 columns omitted\u001b[0m"
      ]
     },
     "execution_count": 11,
=======
       "\u001b[1m5×6 DataFrame\u001b[0m\n",
       "\u001b[1m Row \u001b[0m│\u001b[1m yl      \u001b[0m\u001b[1m yu       \u001b[0m\u001b[1m lyl      \u001b[0m\u001b[1m lyu      \u001b[0m\u001b[1m educ_num \u001b[0m\u001b[1m age   \u001b[0m\n",
       "\u001b[1m     \u001b[0m│\u001b[90m Float64 \u001b[0m\u001b[90m Float64  \u001b[0m\u001b[90m Float64  \u001b[0m\u001b[90m Float64  \u001b[0m\u001b[90m Int64    \u001b[0m\u001b[90m Int64 \u001b[0m\n",
       "─────┼────────────────────────────────────────────────────────\n",
       "   1 │  9000.0   15000.0   9.10498   9.61581        13     22\n",
       "   2 │     1.0    9000.0   0.0       9.10498        13     21\n",
       "   3 │ 30000.0   36000.0  10.309    10.4913         13     49\n",
       "   4 │ 30000.0   36000.0  10.309    10.4913         16     31\n",
       "   5 │ 71000.0  362303.0  11.1704   12.8002         21     42"
      ]
     },
     "execution_count": 12,
>>>>>>> 60d988a3101ed967b22708901a8e4376170a6781
     "metadata": {},
     "output_type": "execute_result"
    }
   ],
   "source": [
    "interval_cps = createIntervalData(cps,:wage,[:educ_num,:age],wage_quantiles)\n",
    "\n",
    "first(interval_cps,5)"
   ]
  },
  {
   "cell_type": "markdown",
   "metadata": {},
   "source": [
    "# Partial Indentification"
   ]
  },
  {
   "cell_type": "code",
<<<<<<< HEAD
   "execution_count": 12,
=======
   "execution_count": 13,
>>>>>>> 60d988a3101ed967b22708901a8e4376170a6781
   "metadata": {},
   "outputs": [
    {
     "data": {
      "text/plain": [
       "Main.setBLP"
      ]
     },
<<<<<<< HEAD
     "execution_count": 12,
=======
     "execution_count": 13,
>>>>>>> 60d988a3101ed967b22708901a8e4376170a6781
     "metadata": {},
     "output_type": "execute_result"
    }
   ],
   "source": [
    "include(\"C:\\\\Users\\\\The Group Leader\\\\Notebooks\\\\Research\\\\Bounds.jl-1\\\\src\\\\setBLP.jl\")"
   ]
  },
  {
   "cell_type": "code",
<<<<<<< HEAD
   "execution_count": 13,
   "metadata": {},
   "outputs": [],
=======
   "execution_count": 14,
   "metadata": {},
   "outputs": [],
   "source": [
    "using Main.setBLP"
   ]
  },
  {
   "cell_type": "code",
   "execution_count": 15,
   "metadata": {},
   "outputs": [
    {
     "data": {
      "text/plain": [
       "1×2 Matrix{Float64}:\n",
       " 0.00178604  0.368579"
      ]
     },
     "execution_count": 15,
     "metadata": {},
     "output_type": "execute_result"
    }
   ],
>>>>>>> 60d988a3101ed967b22708901a8e4376170a6781
   "source": [
    "r = oneDproj(interval_cps.lyl,interval_cps.lyu,interval_cps.educ_num)"
   ]
  },
  {
   "cell_type": "code",
   "execution_count": 16,
   "metadata": {},
   "outputs": [],
   "source": [
    "import Base"
   ]
  },
  {
   "cell_type": "code",
   "execution_count": 17,
   "metadata": {},
   "outputs": [],
   "source": [
    "#Overloading the function just in case\n",
    "\n",
    "function Base.:(∈)(x::Real,v::Vector{<:Real})\n",
    "    return minimum(v) <= x <=maximum(v)\n",
    "end\n",
    "\n",
    "function Base.:(∈)(x::Real,v::Matrix{<:Real})\n",
    "    return minimum(v) <= x <=maximum(v)\n",
    "end"
   ]
  },
  {
   "cell_type": "code",
   "execution_count": 18,
   "metadata": {},
   "outputs": [
    {
     "data": {
      "text/plain": [
       "true"
      ]
     },
     "execution_count": 18,
     "metadata": {},
     "output_type": "execute_result"
    }
   ],
   "source": [
    "β₁ ∈ r"
   ]
  },
  {
   "cell_type": "markdown",
   "metadata": {},
   "source": [
    "## Simulations"
   ]
  },
  {
   "cell_type": "markdown",
   "metadata": {},
   "source": [
    "#### parameter"
   ]
  },
  {
   "cell_type": "code",
<<<<<<< HEAD
   "execution_count": 14,
=======
   "execution_count": 21,
   "metadata": {},
   "outputs": [],
   "source": [
    "rng = MersenneTwister(15217);"
   ]
  },
  {
   "cell_type": "code",
   "execution_count": 32,
>>>>>>> 60d988a3101ed967b22708901a8e4376170a6781
   "metadata": {},
   "outputs": [
    {
     "data": {
      "text/plain": [
<<<<<<< HEAD
       "1×2 Matrix{Float64}:\n",
       " 0.00178604  0.368579"
      ]
     },
     "execution_count": 14,
=======
       "(22715, 6)"
      ]
     },
     "execution_count": 32,
>>>>>>> 60d988a3101ed967b22708901a8e4376170a6781
     "metadata": {},
     "output_type": "execute_result"
    }
   ],
   "source": [
<<<<<<< HEAD
    "oneDproj(cps[!,:logwage_lower],cps[!,:logwage_upper],cps[!,:educ_num])"
=======
    "popSize, =size(interval_cps) #number of observations in the \"population\" (i.e. the whole cps sample)"
>>>>>>> 60d988a3101ed967b22708901a8e4376170a6781
   ]
  },
  {
   "cell_type": "code",
<<<<<<< HEAD
   "execution_count": 15,
   "metadata": {},
   "outputs": [],
   "source": [
    "# function oneDProj(y1::Vector{<:Real},yu::Vector{<:Real},x::Matrix{<:Real},cord::Int64)\n",
    "#     # The function assumes that the matrix x does not contain a 1 Vector\n",
    "#     our_x = x[:,cord] #taking out the coordinate of interest\n",
    "#     new_x = copy(x)\n",
    "#     new_x[:,cord] .= 1.0  #replacing the column with a vector of ones\n",
    "#     pred_x =new_x*(inv(new_x'*new_x)*new_x'*our_x)\n",
    "#     bound = oneDproj(yl,yu,pred_x)\n",
    "#     return bound\n",
    "# end"
=======
   "execution_count": 44,
   "metadata": {},
   "outputs": [],
   "source": [
    "Nobs = 100; #size of sub sample\n",
    "Nsim = 5000; #number of simulations"
>>>>>>> 60d988a3101ed967b22708901a8e4376170a6781
   ]
  },
  {
   "cell_type": "code",
<<<<<<< HEAD
   "execution_count": 16,
=======
   "execution_count": 67,
   "metadata": {},
   "outputs": [],
   "source": [
    "Nintervals = 8; #number of intervals in the survey"
   ]
  },
  {
   "cell_type": "markdown",
   "metadata": {},
   "source": [
    "### Using quantiles"
   ]
  },
  {
   "cell_type": "code",
   "execution_count": 45,
   "metadata": {},
   "outputs": [],
   "source": [
    "c = 0\n",
    "\n",
    "for i in 1:Nsim\n",
    "    indx = rand(1:popSize,Nobs)\n",
    "    sample = interval_cps[indx,:]\n",
    "    r = oneDproj(sample.lyl,sample.lyu,sample.educ_num)\n",
    "    c += β₁ ∈ r\n",
    "end"
   ]
  },
  {
   "cell_type": "code",
   "execution_count": 47,
   "metadata": {},
   "outputs": [
    {
     "data": {
      "text/plain": [
       "0.9944"
      ]
     },
     "execution_count": 47,
     "metadata": {},
     "output_type": "execute_result"
    }
   ],
   "source": [
    "c/Nsim"
   ]
  },
  {
   "cell_type": "markdown",
   "metadata": {},
   "source": [
    "### Using fixed intervals, ver 1"
   ]
  },
  {
   "cell_type": "code",
   "execution_count": 60,
>>>>>>> 60d988a3101ed967b22708901a8e4376170a6781
   "metadata": {},
   "outputs": [
    {
     "data": {
      "text/plain": [
<<<<<<< HEAD
       "2"
      ]
     },
     "execution_count": 16,
=======
       "10-element Vector{Float64}:\n",
       "      1.0\n",
       "  40256.77777777778\n",
       "  80512.55555555556\n",
       " 120768.33333333333\n",
       " 161024.11111111112\n",
       " 201279.88888888888\n",
       " 241535.66666666666\n",
       " 281791.44444444444\n",
       " 322047.22222222225\n",
       " 362303.0"
      ]
     },
     "execution_count": 60,
>>>>>>> 60d988a3101ed967b22708901a8e4376170a6781
     "metadata": {},
     "output_type": "execute_result"
    }
   ],
   "source": [
<<<<<<< HEAD
    "yl = cps.logwage_lower\n",
    "yu = cps.logwage_upper\n",
    "x  = [cps.age cps.educ_num]\n",
    "cord = 2"
=======
    "thresholds = convert(Vector,range(1,stop=maximum(cps.wage)+1,length=10))"
>>>>>>> 60d988a3101ed967b22708901a8e4376170a6781
   ]
  },
  {
   "cell_type": "code",
<<<<<<< HEAD
   "execution_count": 17,
=======
   "execution_count": 62,
>>>>>>> 60d988a3101ed967b22708901a8e4376170a6781
   "metadata": {},
   "outputs": [
    {
     "data": {
<<<<<<< HEAD
      "text/plain": [
       "1×2 Matrix{Float64}:\n",
       " -0.184061  5.59806"
      ]
     },
     "execution_count": 17,
=======
      "text/html": [
       "<div class=\"data-frame\"><p>15 rows × 6 columns</p><table class=\"data-frame\"><thead><tr><th></th><th>yl</th><th>yu</th><th>lyl</th><th>lyu</th><th>educ_num</th><th>age</th></tr><tr><th></th><th title=\"Float64\">Float64</th><th title=\"Float64\">Float64</th><th title=\"Float64\">Float64</th><th title=\"Float64\">Float64</th><th title=\"Int64\">Int64</th><th title=\"Int64\">Int64</th></tr></thead><tbody><tr><th>1</th><td>1.0</td><td>40256.8</td><td>0.0</td><td>10.603</td><td>13</td><td>22</td></tr><tr><th>2</th><td>1.0</td><td>40256.8</td><td>0.0</td><td>10.603</td><td>13</td><td>21</td></tr><tr><th>3</th><td>1.0</td><td>40256.8</td><td>0.0</td><td>10.603</td><td>13</td><td>49</td></tr><tr><th>4</th><td>1.0</td><td>40256.8</td><td>0.0</td><td>10.603</td><td>16</td><td>31</td></tr><tr><th>5</th><td>80512.6</td><td>1.20768e5</td><td>11.2962</td><td>11.7016</td><td>21</td><td>42</td></tr><tr><th>6</th><td>2.0128e5</td><td>2.41536e5</td><td>12.2125</td><td>12.3948</td><td>21</td><td>35</td></tr><tr><th>7</th><td>1.0</td><td>40256.8</td><td>0.0</td><td>10.603</td><td>12</td><td>42</td></tr><tr><th>8</th><td>40256.8</td><td>80512.6</td><td>10.603</td><td>11.2962</td><td>12</td><td>48</td></tr><tr><th>9</th><td>1.0</td><td>40256.8</td><td>0.0</td><td>10.603</td><td>13</td><td>41</td></tr><tr><th>10</th><td>40256.8</td><td>80512.6</td><td>10.603</td><td>11.2962</td><td>14</td><td>41</td></tr><tr><th>11</th><td>1.0</td><td>40256.8</td><td>0.0</td><td>10.603</td><td>12</td><td>46</td></tr><tr><th>12</th><td>1.0</td><td>40256.8</td><td>0.0</td><td>10.603</td><td>13</td><td>22</td></tr><tr><th>13</th><td>40256.8</td><td>80512.6</td><td>10.603</td><td>11.2962</td><td>14</td><td>45</td></tr><tr><th>14</th><td>1.0</td><td>40256.8</td><td>0.0</td><td>10.603</td><td>13</td><td>20</td></tr><tr><th>15</th><td>2.0128e5</td><td>2.41536e5</td><td>12.2125</td><td>12.3948</td><td>16</td><td>36</td></tr></tbody></table></div>"
      ],
      "text/latex": [
       "\\begin{tabular}{r|cccccc}\n",
       "\t& yl & yu & lyl & lyu & educ\\_num & age\\\\\n",
       "\t\\hline\n",
       "\t& Float64 & Float64 & Float64 & Float64 & Int64 & Int64\\\\\n",
       "\t\\hline\n",
       "\t1 & 1.0 & 40256.8 & 0.0 & 10.603 & 13 & 22 \\\\\n",
       "\t2 & 1.0 & 40256.8 & 0.0 & 10.603 & 13 & 21 \\\\\n",
       "\t3 & 1.0 & 40256.8 & 0.0 & 10.603 & 13 & 49 \\\\\n",
       "\t4 & 1.0 & 40256.8 & 0.0 & 10.603 & 16 & 31 \\\\\n",
       "\t5 & 80512.6 & 1.20768e5 & 11.2962 & 11.7016 & 21 & 42 \\\\\n",
       "\t6 & 2.0128e5 & 2.41536e5 & 12.2125 & 12.3948 & 21 & 35 \\\\\n",
       "\t7 & 1.0 & 40256.8 & 0.0 & 10.603 & 12 & 42 \\\\\n",
       "\t8 & 40256.8 & 80512.6 & 10.603 & 11.2962 & 12 & 48 \\\\\n",
       "\t9 & 1.0 & 40256.8 & 0.0 & 10.603 & 13 & 41 \\\\\n",
       "\t10 & 40256.8 & 80512.6 & 10.603 & 11.2962 & 14 & 41 \\\\\n",
       "\t11 & 1.0 & 40256.8 & 0.0 & 10.603 & 12 & 46 \\\\\n",
       "\t12 & 1.0 & 40256.8 & 0.0 & 10.603 & 13 & 22 \\\\\n",
       "\t13 & 40256.8 & 80512.6 & 10.603 & 11.2962 & 14 & 45 \\\\\n",
       "\t14 & 1.0 & 40256.8 & 0.0 & 10.603 & 13 & 20 \\\\\n",
       "\t15 & 2.0128e5 & 2.41536e5 & 12.2125 & 12.3948 & 16 & 36 \\\\\n",
       "\\end{tabular}\n"
      ],
      "text/plain": [
       "\u001b[1m15×6 DataFrame\u001b[0m\n",
       "\u001b[1m Row \u001b[0m│\u001b[1m yl           \u001b[0m\u001b[1m yu            \u001b[0m\u001b[1m lyl     \u001b[0m\u001b[1m lyu     \u001b[0m\u001b[1m educ_num \u001b[0m\u001b[1m age   \u001b[0m\n",
       "\u001b[1m     \u001b[0m│\u001b[90m Float64      \u001b[0m\u001b[90m Float64       \u001b[0m\u001b[90m Float64 \u001b[0m\u001b[90m Float64 \u001b[0m\u001b[90m Int64    \u001b[0m\u001b[90m Int64 \u001b[0m\n",
       "─────┼────────────────────────────────────────────────────────────────\n",
       "   1 │     1.0       40256.8         0.0     10.603         13     22\n",
       "   2 │     1.0       40256.8         0.0     10.603         13     21\n",
       "   3 │     1.0       40256.8         0.0     10.603         13     49\n",
       "   4 │     1.0       40256.8         0.0     10.603         16     31\n",
       "   5 │ 80512.6           1.20768e5  11.2962  11.7016        21     42\n",
       "   6 │     2.0128e5      2.41536e5  12.2125  12.3948        21     35\n",
       "   7 │     1.0       40256.8         0.0     10.603         12     42\n",
       "   8 │ 40256.8       80512.6        10.603   11.2962        12     48\n",
       "   9 │     1.0       40256.8         0.0     10.603         13     41\n",
       "  10 │ 40256.8       80512.6        10.603   11.2962        14     41\n",
       "  11 │     1.0       40256.8         0.0     10.603         12     46\n",
       "  12 │     1.0       40256.8         0.0     10.603         13     22\n",
       "  13 │ 40256.8       80512.6        10.603   11.2962        14     45\n",
       "  14 │     1.0       40256.8         0.0     10.603         13     20\n",
       "  15 │     2.0128e5      2.41536e5  12.2125  12.3948        16     36"
      ]
     },
     "execution_count": 62,
>>>>>>> 60d988a3101ed967b22708901a8e4376170a6781
     "metadata": {},
     "output_type": "execute_result"
    }
   ],
   "source": [
<<<<<<< HEAD
    "oneDproj(yl,yu,x,cord)"
=======
    "interval_cps = createIntervalData(cps,:wage,[:educ_num,:age],thresholds)\n",
    "\n",
    "first(interval_cps,15)"
>>>>>>> 60d988a3101ed967b22708901a8e4376170a6781
   ]
  },
  {
   "cell_type": "code",
<<<<<<< HEAD
   "execution_count": 21,
   "metadata": {},
   "outputs": [
    {
     "ename": "LoadError",
     "evalue": "MethodError: no method matching oneDproj(::Vector{Float64}, ::Vector{Float64}, ::Vector{Vector{Int64}}, ::Int64)\n\u001b[0mClosest candidates are:\n\u001b[0m  oneDproj(::Vector{<:Real}, ::Vector{<:Real}, \u001b[91m::Matrix{<:Real}\u001b[39m, ::Int64) at C:\\Users\\The Group Leader\\Notebooks\\Research\\Bounds.jl-1\\src\\setBLP.jl:174\n\u001b[0m  oneDproj(::Vector{<:Real}, ::Vector{<:Real}, \u001b[91m::Vector{<:Real}\u001b[39m) at C:\\Users\\The Group Leader\\Notebooks\\Research\\Bounds.jl-1\\src\\setBLP.jl:165",
     "output_type": "error",
     "traceback": [
      "MethodError: no method matching oneDproj(::Vector{Float64}, ::Vector{Float64}, ::Vector{Vector{Int64}}, ::Int64)\n\u001b[0mClosest candidates are:\n\u001b[0m  oneDproj(::Vector{<:Real}, ::Vector{<:Real}, \u001b[91m::Matrix{<:Real}\u001b[39m, ::Int64) at C:\\Users\\The Group Leader\\Notebooks\\Research\\Bounds.jl-1\\src\\setBLP.jl:174\n\u001b[0m  oneDproj(::Vector{<:Real}, ::Vector{<:Real}, \u001b[91m::Vector{<:Real}\u001b[39m) at C:\\Users\\The Group Leader\\Notebooks\\Research\\Bounds.jl-1\\src\\setBLP.jl:165",
      "",
      "Stacktrace:",
      " [1] top-level scope",
      "   @ In[21]:1"
     ]
    }
   ],
   "source": [
    "oneDproj(cps[!,:logwage_lower],cps[!,:logwage_upper],[cps.educ_num],1)"
=======
   "execution_count": 63,
   "metadata": {},
   "outputs": [],
   "source": [
    "c = 0\n",
    "\n",
    "for i in 1:Nsim\n",
    "    indx = rand(1:popSize,Nobs)\n",
    "    sample = interval_cps[indx,:]\n",
    "    r = oneDproj(sample.lyl,sample.lyu,sample.educ_num)\n",
    "    c += β₁ ∈ r\n",
    "end"
   ]
  },
  {
   "cell_type": "code",
   "execution_count": 64,
   "metadata": {},
   "outputs": [
    {
     "data": {
      "text/plain": [
       "1.0"
      ]
     },
     "execution_count": 64,
     "metadata": {},
     "output_type": "execute_result"
    }
   ],
   "source": [
    "c/Nsim "
   ]
  },
  {
   "cell_type": "markdown",
   "metadata": {},
   "source": [
    "### Using fixed intervals, ver 2"
   ]
  },
  {
   "cell_type": "code",
   "execution_count": 66,
   "metadata": {},
   "outputs": [
    {
     "data": {
      "text/plain": [
       "36230.2"
      ]
     },
     "execution_count": 66,
     "metadata": {},
     "output_type": "execute_result"
    }
   ],
   "source": [
    "maximum(cps.wage)"
   ]
  },
  {
   "cell_type": "code",
   "execution_count": 72,
   "metadata": {},
   "outputs": [
    {
     "data": {
      "text/plain": [
       "1.0"
      ]
     },
     "execution_count": 72,
     "metadata": {},
     "output_type": "execute_result"
    }
   ],
   "source": [
    "thresholds = [0, 10.0, 20, 40, 75, 100, 200, 300, 500 ] *1000\n",
    "thresholds[1] =1.0"
   ]
  },
  {
   "cell_type": "code",
   "execution_count": 73,
   "metadata": {},
   "outputs": [
    {
     "data": {
      "text/html": [
       "<div class=\"data-frame\"><p>15 rows × 6 columns</p><table class=\"data-frame\"><thead><tr><th></th><th>yl</th><th>yu</th><th>lyl</th><th>lyu</th><th>educ_num</th><th>age</th></tr><tr><th></th><th title=\"Float64\">Float64</th><th title=\"Float64\">Float64</th><th title=\"Float64\">Float64</th><th title=\"Float64\">Float64</th><th title=\"Int64\">Int64</th><th title=\"Int64\">Int64</th></tr></thead><tbody><tr><th>1</th><td>10000.0</td><td>20000.0</td><td>9.21034</td><td>9.90349</td><td>13</td><td>22</td></tr><tr><th>2</th><td>1.0</td><td>10000.0</td><td>0.0</td><td>9.21034</td><td>13</td><td>21</td></tr><tr><th>3</th><td>20000.0</td><td>40000.0</td><td>9.90349</td><td>10.5966</td><td>13</td><td>49</td></tr><tr><th>4</th><td>20000.0</td><td>40000.0</td><td>9.90349</td><td>10.5966</td><td>16</td><td>31</td></tr><tr><th>5</th><td>75000.0</td><td>100000.0</td><td>11.2252</td><td>11.5129</td><td>21</td><td>42</td></tr><tr><th>6</th><td>200000.0</td><td>300000.0</td><td>12.2061</td><td>12.6115</td><td>21</td><td>35</td></tr><tr><th>7</th><td>20000.0</td><td>40000.0</td><td>9.90349</td><td>10.5966</td><td>12</td><td>42</td></tr><tr><th>8</th><td>40000.0</td><td>75000.0</td><td>10.5966</td><td>11.2252</td><td>12</td><td>48</td></tr><tr><th>9</th><td>20000.0</td><td>40000.0</td><td>9.90349</td><td>10.5966</td><td>13</td><td>41</td></tr><tr><th>10</th><td>40000.0</td><td>75000.0</td><td>10.5966</td><td>11.2252</td><td>14</td><td>41</td></tr><tr><th>11</th><td>20000.0</td><td>40000.0</td><td>9.90349</td><td>10.5966</td><td>12</td><td>46</td></tr><tr><th>12</th><td>1.0</td><td>10000.0</td><td>0.0</td><td>9.21034</td><td>13</td><td>22</td></tr><tr><th>13</th><td>40000.0</td><td>75000.0</td><td>10.5966</td><td>11.2252</td><td>14</td><td>45</td></tr><tr><th>14</th><td>1.0</td><td>10000.0</td><td>0.0</td><td>9.21034</td><td>13</td><td>20</td></tr><tr><th>15</th><td>200000.0</td><td>300000.0</td><td>12.2061</td><td>12.6115</td><td>16</td><td>36</td></tr></tbody></table></div>"
      ],
      "text/latex": [
       "\\begin{tabular}{r|cccccc}\n",
       "\t& yl & yu & lyl & lyu & educ\\_num & age\\\\\n",
       "\t\\hline\n",
       "\t& Float64 & Float64 & Float64 & Float64 & Int64 & Int64\\\\\n",
       "\t\\hline\n",
       "\t1 & 10000.0 & 20000.0 & 9.21034 & 9.90349 & 13 & 22 \\\\\n",
       "\t2 & 1.0 & 10000.0 & 0.0 & 9.21034 & 13 & 21 \\\\\n",
       "\t3 & 20000.0 & 40000.0 & 9.90349 & 10.5966 & 13 & 49 \\\\\n",
       "\t4 & 20000.0 & 40000.0 & 9.90349 & 10.5966 & 16 & 31 \\\\\n",
       "\t5 & 75000.0 & 100000.0 & 11.2252 & 11.5129 & 21 & 42 \\\\\n",
       "\t6 & 200000.0 & 300000.0 & 12.2061 & 12.6115 & 21 & 35 \\\\\n",
       "\t7 & 20000.0 & 40000.0 & 9.90349 & 10.5966 & 12 & 42 \\\\\n",
       "\t8 & 40000.0 & 75000.0 & 10.5966 & 11.2252 & 12 & 48 \\\\\n",
       "\t9 & 20000.0 & 40000.0 & 9.90349 & 10.5966 & 13 & 41 \\\\\n",
       "\t10 & 40000.0 & 75000.0 & 10.5966 & 11.2252 & 14 & 41 \\\\\n",
       "\t11 & 20000.0 & 40000.0 & 9.90349 & 10.5966 & 12 & 46 \\\\\n",
       "\t12 & 1.0 & 10000.0 & 0.0 & 9.21034 & 13 & 22 \\\\\n",
       "\t13 & 40000.0 & 75000.0 & 10.5966 & 11.2252 & 14 & 45 \\\\\n",
       "\t14 & 1.0 & 10000.0 & 0.0 & 9.21034 & 13 & 20 \\\\\n",
       "\t15 & 200000.0 & 300000.0 & 12.2061 & 12.6115 & 16 & 36 \\\\\n",
       "\\end{tabular}\n"
      ],
      "text/plain": [
       "\u001b[1m15×6 DataFrame\u001b[0m\n",
       "\u001b[1m Row \u001b[0m│\u001b[1m yl       \u001b[0m\u001b[1m yu       \u001b[0m\u001b[1m lyl      \u001b[0m\u001b[1m lyu      \u001b[0m\u001b[1m educ_num \u001b[0m\u001b[1m age   \u001b[0m\n",
       "\u001b[1m     \u001b[0m│\u001b[90m Float64  \u001b[0m\u001b[90m Float64  \u001b[0m\u001b[90m Float64  \u001b[0m\u001b[90m Float64  \u001b[0m\u001b[90m Int64    \u001b[0m\u001b[90m Int64 \u001b[0m\n",
       "─────┼─────────────────────────────────────────────────────────\n",
       "   1 │  10000.0   20000.0   9.21034   9.90349        13     22\n",
       "   2 │      1.0   10000.0   0.0       9.21034        13     21\n",
       "   3 │  20000.0   40000.0   9.90349  10.5966         13     49\n",
       "   4 │  20000.0   40000.0   9.90349  10.5966         16     31\n",
       "   5 │  75000.0  100000.0  11.2252   11.5129         21     42\n",
       "   6 │ 200000.0  300000.0  12.2061   12.6115         21     35\n",
       "   7 │  20000.0   40000.0   9.90349  10.5966         12     42\n",
       "   8 │  40000.0   75000.0  10.5966   11.2252         12     48\n",
       "   9 │  20000.0   40000.0   9.90349  10.5966         13     41\n",
       "  10 │  40000.0   75000.0  10.5966   11.2252         14     41\n",
       "  11 │  20000.0   40000.0   9.90349  10.5966         12     46\n",
       "  12 │      1.0   10000.0   0.0       9.21034        13     22\n",
       "  13 │  40000.0   75000.0  10.5966   11.2252         14     45\n",
       "  14 │      1.0   10000.0   0.0       9.21034        13     20\n",
       "  15 │ 200000.0  300000.0  12.2061   12.6115         16     36"
      ]
     },
     "execution_count": 73,
     "metadata": {},
     "output_type": "execute_result"
    }
   ],
   "source": [
    "interval_cps = createIntervalData(cps,:wage,[:educ_num,:age],thresholds)\n",
    "\n",
    "first(interval_cps,15)"
   ]
  },
  {
   "cell_type": "code",
   "execution_count": 74,
   "metadata": {},
   "outputs": [],
   "source": [
    "c = 0\n",
    "\n",
    "for i in 1:Nsim\n",
    "    indx = rand(1:popSize,Nobs)\n",
    "    sample = interval_cps[indx,:]\n",
    "    r = oneDproj(sample.lyl,sample.lyu,sample.educ_num)\n",
    "    c += β₁ ∈ r\n",
    "end"
   ]
  },
  {
   "cell_type": "code",
   "execution_count": 75,
   "metadata": {},
   "outputs": [
    {
     "data": {
      "text/plain": [
       "0.9994"
      ]
     },
     "execution_count": 75,
     "metadata": {},
     "output_type": "execute_result"
    }
   ],
   "source": [
    "c/Nsim "
   ]
  },
  {
   "cell_type": "markdown",
   "metadata": {},
   "source": [
    "**Conclusion:** The id interval is so wide that there is no chance that true $\\beta_1$ is not in the computed identification set."
>>>>>>> 60d988a3101ed967b22708901a8e4376170a6781
   ]
  },
  {
   "cell_type": "code",
   "execution_count": null,
   "metadata": {},
   "outputs": [],
   "source": []
  }
 ],
 "metadata": {
  "@webio": {
   "lastCommId": null,
   "lastKernelId": null
  },
  "kernelspec": {
   "display_name": "Julia 1.7.3",
   "language": "julia",
   "name": "julia-1.7"
  },
  "language_info": {
   "file_extension": ".jl",
   "mimetype": "application/julia",
   "name": "julia",
   "version": "1.7.3"
  }
 },
 "nbformat": 4,
 "nbformat_minor": 4
}
