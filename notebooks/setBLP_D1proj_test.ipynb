{
 "cells": [
  {
   "cell_type": "markdown",
   "metadata": {},
   "source": [
    "# Packages"
   ]
  },
  {
   "cell_type": "code",
   "execution_count": 1,
   "metadata": {},
   "outputs": [],
   "source": [
    "using CSV, DataFrames"
   ]
  },
  {
   "cell_type": "code",
   "execution_count": 2,
   "metadata": {},
   "outputs": [
    {
     "ename": "LoadError",
     "evalue": "ArgumentError: Package FixedEffectModels not found in current path.\n- Run `import Pkg; Pkg.add(\"FixedEffectModels\")` to install the FixedEffectModels package.",
     "output_type": "error",
     "traceback": [
      "ArgumentError: Package FixedEffectModels not found in current path.\n- Run `import Pkg; Pkg.add(\"FixedEffectModels\")` to install the FixedEffectModels package.",
      "",
      "Stacktrace:",
      " [1] macro expansion",
      "   @ .\\loading.jl:1630 [inlined]",
      " [2] macro expansion",
      "   @ .\\lock.jl:267 [inlined]",
      " [3] require(into::Module, mod::Symbol)",
      "   @ Base .\\loading.jl:1611"
     ]
    }
   ],
   "source": [
    "using FixedEffectModels"
   ]
  },
  {
   "cell_type": "code",
   "execution_count": 3,
   "metadata": {},
   "outputs": [],
   "source": [
    "using Plots"
   ]
  },
  {
   "cell_type": "code",
   "execution_count": 4,
   "metadata": {},
   "outputs": [],
   "source": [
    "using Statistics"
   ]
  },
  {
   "cell_type": "markdown",
   "metadata": {},
   "source": [
    "# Uploading CPS data"
   ]
  },
  {
   "cell_type": "code",
   "execution_count": 5,
   "metadata": {},
   "outputs": [
    {
     "data": {
      "text/html": [
       "<div><div style = \"float: left;\"><span>5×3 DataFrame</span></div><div style = \"clear: both;\"></div></div><div class = \"data-frame\" style = \"overflow-x: scroll;\"><table class = \"data-frame\" style = \"margin-bottom: 6px;\"><thead><tr class = \"header\"><th class = \"rowNumber\" style = \"font-weight: bold; text-align: right;\">Row</th><th style = \"text-align: left;\">age</th><th style = \"text-align: left;\">wage</th><th style = \"text-align: left;\">educ</th></tr><tr class = \"subheader headerLastRow\"><th class = \"rowNumber\" style = \"font-weight: bold; text-align: right;\"></th><th title = \"Int64\" style = \"text-align: left;\">Int64</th><th title = \"Int64\" style = \"text-align: left;\">Int64</th><th title = \"String\" style = \"text-align: left;\">String</th></tr></thead><tbody><tr><td class = \"rowNumber\" style = \"font-weight: bold; text-align: right;\">1</td><td style = \"text-align: right;\">22</td><td style = \"text-align: right;\">12000</td><td style = \"text-align: left;\">some college but no degree</td></tr><tr><td class = \"rowNumber\" style = \"font-weight: bold; text-align: right;\">2</td><td style = \"text-align: right;\">21</td><td style = \"text-align: right;\">3500</td><td style = \"text-align: left;\">some college but no degree</td></tr><tr><td class = \"rowNumber\" style = \"font-weight: bold; text-align: right;\">3</td><td style = \"text-align: right;\">49</td><td style = \"text-align: right;\">30000</td><td style = \"text-align: left;\">some college but no degree</td></tr><tr><td class = \"rowNumber\" style = \"font-weight: bold; text-align: right;\">4</td><td style = \"text-align: right;\">31</td><td style = \"text-align: right;\">32000</td><td style = \"text-align: left;\">bachelor&apos;s degree</td></tr><tr><td class = \"rowNumber\" style = \"font-weight: bold; text-align: right;\">5</td><td style = \"text-align: right;\">42</td><td style = \"text-align: right;\">89630</td><td style = \"text-align: left;\">doctorate degree</td></tr></tbody></table></div>"
      ],
      "text/latex": [
       "\\begin{tabular}{r|ccc}\n",
       "\t& age & wage & educ\\\\\n",
       "\t\\hline\n",
       "\t& Int64 & Int64 & String\\\\\n",
       "\t\\hline\n",
       "\t1 & 22 & 12000 & some college but no degree \\\\\n",
       "\t2 & 21 & 3500 & some college but no degree \\\\\n",
       "\t3 & 49 & 30000 & some college but no degree \\\\\n",
       "\t4 & 31 & 32000 & bachelor's degree \\\\\n",
       "\t5 & 42 & 89630 & doctorate degree \\\\\n",
       "\\end{tabular}\n"
      ],
      "text/plain": [
       "\u001b[1m5×3 DataFrame\u001b[0m\n",
       "\u001b[1m Row \u001b[0m│\u001b[1m age   \u001b[0m\u001b[1m wage  \u001b[0m\u001b[1m educ                       \u001b[0m\n",
       "     │\u001b[90m Int64 \u001b[0m\u001b[90m Int64 \u001b[0m\u001b[90m String                     \u001b[0m\n",
       "─────┼──────────────────────────────────────────\n",
       "   1 │    22  12000  some college but no degree\n",
       "   2 │    21   3500  some college but no degree\n",
       "   3 │    49  30000  some college but no degree\n",
       "   4 │    31  32000  bachelor's degree\n",
       "   5 │    42  89630  doctorate degree"
      ]
     },
     "execution_count": 5,
     "metadata": {},
     "output_type": "execute_result"
    }
   ],
   "source": [
    "cps = DataFrame(CSV.File(\"c:\\\\data\\\\Bounds\\\\cps.csv\")) # <-change this to the right directory\n",
    "\n",
    "## Cleaning zero wage\n",
    "\n",
    "cps = cps[cps.wage .> 0, :]\n",
    "first(cps,5)"
   ]
  },
  {
   "cell_type": "code",
   "execution_count": 6,
   "metadata": {},
   "outputs": [
    {
     "data": {
      "text/plain": [
       "Dict{String, Int64} with 16 entries:\n",
       "  \"grade 11\"                                            => 11\n",
       "  \"some college but no degree\"                          => 13\n",
       "  \"associate's degree, academic program\"                => 14\n",
       "  \"none or preschool\"                                   => 0\n",
       "  \"doctorate degree\"                                    => 21\n",
       "  \"grade 10\"                                            => 10\n",
       "  \"bachelor's degree\"                                   => 16\n",
       "  \"master's degree\"                                     => 14\n",
       "  \"grades 5 or 6\"                                       => 6\n",
       "  \"grades 7 or 8\"                                       => 8\n",
       "  \"grades 1, 2, 3, or 4\"                                => 4\n",
       "  \"associate's degree, occupational/vocational program\" => 14\n",
       "  \"professional school degree\"                          => 14\n",
       "  \"high school diploma or equivalent\"                   => 12\n",
       "  \"grade 9\"                                             => 9\n",
       "  \"12th grade, no diploma\"                              => 12"
      ]
     },
     "execution_count": 6,
     "metadata": {},
     "output_type": "execute_result"
    }
   ],
   "source": [
    "# Numerical value for education\n",
    "\n",
    "#1.Creating a dictionary\n",
    "\n",
    "educ_dict = Dict( \n",
    "    \"grade 11\" => 11, \n",
    "    \"some college but no degree\" => 13, \n",
    "    \"associate's degree, academic program\" => 14,\n",
    "    \"grade 10\" => 10, \n",
    "    \"grades 7 or 8\" => 8, \n",
    "    \"grades 1, 2, 3, or 4\" => 4, \n",
    "    \"associate's degree, occupational/vocational program\" => 14, \n",
    "    \"high school diploma or equivalent\" => 12, \n",
    "    \"grade 9\" => 9, \n",
    "    \"none or preschool\" => 0, \n",
    "    \"doctorate degree\" => 21,\n",
    "    \"bachelor's degree\" => 16, \n",
    "    \"master's degree\" => 14, \n",
    "    \"grades 5 or 6\" => 6, \n",
    "    \"professional school degree\" => 14, \n",
    "    \"12th grade, no diploma\" => 12\n",
    "    )"
   ]
  },
  {
   "cell_type": "code",
   "execution_count": 7,
   "metadata": {},
   "outputs": [
    {
     "data": {
      "text/html": [
       "<div><div style = \"float: left;\"><span>3×5 DataFrame</span></div><div style = \"clear: both;\"></div></div><div class = \"data-frame\" style = \"overflow-x: scroll;\"><table class = \"data-frame\" style = \"margin-bottom: 6px;\"><thead><tr class = \"header\"><th class = \"rowNumber\" style = \"font-weight: bold; text-align: right;\">Row</th><th style = \"text-align: left;\">age</th><th style = \"text-align: left;\">wage</th><th style = \"text-align: left;\">educ</th><th style = \"text-align: left;\">educ_num</th><th style = \"text-align: left;\">log_wage</th></tr><tr class = \"subheader headerLastRow\"><th class = \"rowNumber\" style = \"font-weight: bold; text-align: right;\"></th><th title = \"Int64\" style = \"text-align: left;\">Int64</th><th title = \"Int64\" style = \"text-align: left;\">Int64</th><th title = \"String\" style = \"text-align: left;\">String</th><th title = \"Int64\" style = \"text-align: left;\">Int64</th><th title = \"Float64\" style = \"text-align: left;\">Float64</th></tr></thead><tbody><tr><td class = \"rowNumber\" style = \"font-weight: bold; text-align: right;\">1</td><td style = \"text-align: right;\">22</td><td style = \"text-align: right;\">12000</td><td style = \"text-align: left;\">some college but no degree</td><td style = \"text-align: right;\">13</td><td style = \"text-align: right;\">9.39266</td></tr><tr><td class = \"rowNumber\" style = \"font-weight: bold; text-align: right;\">2</td><td style = \"text-align: right;\">21</td><td style = \"text-align: right;\">3500</td><td style = \"text-align: left;\">some college but no degree</td><td style = \"text-align: right;\">13</td><td style = \"text-align: right;\">8.16052</td></tr><tr><td class = \"rowNumber\" style = \"font-weight: bold; text-align: right;\">3</td><td style = \"text-align: right;\">49</td><td style = \"text-align: right;\">30000</td><td style = \"text-align: left;\">some college but no degree</td><td style = \"text-align: right;\">13</td><td style = \"text-align: right;\">10.309</td></tr></tbody></table></div>"
      ],
      "text/latex": [
       "\\begin{tabular}{r|ccccc}\n",
       "\t& age & wage & educ & educ\\_num & log\\_wage\\\\\n",
       "\t\\hline\n",
       "\t& Int64 & Int64 & String & Int64 & Float64\\\\\n",
       "\t\\hline\n",
       "\t1 & 22 & 12000 & some college but no degree & 13 & 9.39266 \\\\\n",
       "\t2 & 21 & 3500 & some college but no degree & 13 & 8.16052 \\\\\n",
       "\t3 & 49 & 30000 & some college but no degree & 13 & 10.309 \\\\\n",
       "\\end{tabular}\n"
      ],
      "text/plain": [
       "\u001b[1m3×5 DataFrame\u001b[0m\n",
       "\u001b[1m Row \u001b[0m│\u001b[1m age   \u001b[0m\u001b[1m wage  \u001b[0m\u001b[1m educ                       \u001b[0m\u001b[1m educ_num \u001b[0m\u001b[1m log_wage \u001b[0m\n",
       "     │\u001b[90m Int64 \u001b[0m\u001b[90m Int64 \u001b[0m\u001b[90m String                     \u001b[0m\u001b[90m Int64    \u001b[0m\u001b[90m Float64  \u001b[0m\n",
       "─────┼──────────────────────────────────────────────────────────────\n",
       "   1 │    22  12000  some college but no degree        13   9.39266\n",
       "   2 │    21   3500  some college but no degree        13   8.16052\n",
       "   3 │    49  30000  some college but no degree        13  10.309"
      ]
     },
     "execution_count": 7,
     "metadata": {},
     "output_type": "execute_result"
    }
   ],
   "source": [
    "#2. transforming cps.educ\n",
    "f(x) = educ_dict[x]\n",
    "cps.educ_num = f.(cps.educ)\n",
    "\n",
    "#3. log of wage\n",
    "cps.log_wage = log.(cps.wage)\n",
    "first(cps,3)"
   ]
  },
  {
   "cell_type": "code",
   "execution_count": 8,
   "metadata": {},
   "outputs": [
    {
     "name": "stdout",
     "output_type": "stream",
     "text": [
      "The original data contains 22715 observations and 5 columns."
     ]
    }
   ],
   "source": [
    "Nobs, c = size(cps)\n",
    "print(\"The original data contains \", Nobs, \" observations and \",c, \" columns.\")"
   ]
  },
  {
   "cell_type": "markdown",
   "metadata": {},
   "source": [
    "# Best Linear Predictor "
   ]
  },
  {
   "cell_type": "code",
   "execution_count": 9,
   "metadata": {},
   "outputs": [],
   "source": [
    "#reg(cps, @formula(log_wage ~ educ_num ), Vcov.robust())"
   ]
  },
  {
   "cell_type": "code",
   "execution_count": 10,
   "metadata": {
    "scrolled": true
   },
   "outputs": [],
   "source": [
    "#reg(cps, @formula(log_wage ~ educ_num + age ), Vcov.robust())"
   ]
  },
  {
   "cell_type": "markdown",
   "metadata": {},
   "source": [
    "# Creating Interval Data"
   ]
  },
  {
   "cell_type": "code",
   "execution_count": 11,
   "metadata": {},
   "outputs": [
    {
     "data": {
      "text/plain": [
       "362303.0"
      ]
     },
     "execution_count": 11,
     "metadata": {},
     "output_type": "execute_result"
    }
   ],
   "source": [
    "wage_quantiles = quantile(cps[!,:wage],[0.0, 0.1,0.2,0.3,0.4,0.5,0.6,0.7,0.8,0.9,1.0], sorted=false);\n",
    "#wage_quantiles[1] +=-1\n",
    "wage_quantiles[end] +=1"
   ]
  },
  {
   "cell_type": "code",
   "execution_count": 12,
   "metadata": {},
   "outputs": [
    {
     "data": {
      "text/html": [
       "<div><div style = \"float: left;\"><span>3×9 DataFrame</span></div><div style = \"clear: both;\"></div></div><div class = \"data-frame\" style = \"overflow-x: scroll;\"><table class = \"data-frame\" style = \"margin-bottom: 6px;\"><thead><tr class = \"header\"><th class = \"rowNumber\" style = \"font-weight: bold; text-align: right;\">Row</th><th style = \"text-align: left;\">age</th><th style = \"text-align: left;\">wage</th><th style = \"text-align: left;\">educ</th><th style = \"text-align: left;\">educ_num</th><th style = \"text-align: left;\">log_wage</th><th style = \"text-align: left;\">wage_lower</th><th style = \"text-align: left;\">wage_upper</th><th style = \"text-align: left;\">logwage_lower</th><th style = \"text-align: left;\">logwage_upper</th></tr><tr class = \"subheader headerLastRow\"><th class = \"rowNumber\" style = \"font-weight: bold; text-align: right;\"></th><th title = \"Int64\" style = \"text-align: left;\">Int64</th><th title = \"Int64\" style = \"text-align: left;\">Int64</th><th title = \"String\" style = \"text-align: left;\">String</th><th title = \"Int64\" style = \"text-align: left;\">Int64</th><th title = \"Float64\" style = \"text-align: left;\">Float64</th><th title = \"Float64\" style = \"text-align: left;\">Float64</th><th title = \"Float64\" style = \"text-align: left;\">Float64</th><th title = \"Float64\" style = \"text-align: left;\">Float64</th><th title = \"Float64\" style = \"text-align: left;\">Float64</th></tr></thead><tbody><tr><td class = \"rowNumber\" style = \"font-weight: bold; text-align: right;\">1</td><td style = \"text-align: right;\">22</td><td style = \"text-align: right;\">12000</td><td style = \"text-align: left;\">some college but no degree</td><td style = \"text-align: right;\">13</td><td style = \"text-align: right;\">9.39266</td><td style = \"text-align: right;\">9000.0</td><td style = \"text-align: right;\">15000.0</td><td style = \"text-align: right;\">9.10498</td><td style = \"text-align: right;\">9.61581</td></tr><tr><td class = \"rowNumber\" style = \"font-weight: bold; text-align: right;\">2</td><td style = \"text-align: right;\">21</td><td style = \"text-align: right;\">3500</td><td style = \"text-align: left;\">some college but no degree</td><td style = \"text-align: right;\">13</td><td style = \"text-align: right;\">8.16052</td><td style = \"text-align: right;\">1.0</td><td style = \"text-align: right;\">9000.0</td><td style = \"text-align: right;\">0.0</td><td style = \"text-align: right;\">9.10498</td></tr><tr><td class = \"rowNumber\" style = \"font-weight: bold; text-align: right;\">3</td><td style = \"text-align: right;\">49</td><td style = \"text-align: right;\">30000</td><td style = \"text-align: left;\">some college but no degree</td><td style = \"text-align: right;\">13</td><td style = \"text-align: right;\">10.309</td><td style = \"text-align: right;\">30000.0</td><td style = \"text-align: right;\">36000.0</td><td style = \"text-align: right;\">10.309</td><td style = \"text-align: right;\">10.4913</td></tr></tbody></table></div>"
      ],
      "text/latex": [
       "\\begin{tabular}{r|cccccccc}\n",
       "\t& age & wage & educ & educ\\_num & log\\_wage & wage\\_lower & wage\\_upper & \\\\\n",
       "\t\\hline\n",
       "\t& Int64 & Int64 & String & Int64 & Float64 & Float64 & Float64 & \\\\\n",
       "\t\\hline\n",
       "\t1 & 22 & 12000 & some college but no degree & 13 & 9.39266 & 9000.0 & 15000.0 & $\\dots$ \\\\\n",
       "\t2 & 21 & 3500 & some college but no degree & 13 & 8.16052 & 1.0 & 9000.0 & $\\dots$ \\\\\n",
       "\t3 & 49 & 30000 & some college but no degree & 13 & 10.309 & 30000.0 & 36000.0 & $\\dots$ \\\\\n",
       "\\end{tabular}\n"
      ],
      "text/plain": [
       "\u001b[1m3×9 DataFrame\u001b[0m\n",
       "\u001b[1m Row \u001b[0m│\u001b[1m age   \u001b[0m\u001b[1m wage  \u001b[0m\u001b[1m educ                       \u001b[0m\u001b[1m educ_num \u001b[0m\u001b[1m log_wage \u001b[0m\u001b[1m wage_lowe\u001b[0m ⋯\n",
       "     │\u001b[90m Int64 \u001b[0m\u001b[90m Int64 \u001b[0m\u001b[90m String                     \u001b[0m\u001b[90m Int64    \u001b[0m\u001b[90m Float64  \u001b[0m\u001b[90m Float64  \u001b[0m ⋯\n",
       "─────┼──────────────────────────────────────────────────────────────────────────\n",
       "   1 │    22  12000  some college but no degree        13   9.39266      9000. ⋯\n",
       "   2 │    21   3500  some college but no degree        13   8.16052         1.\n",
       "   3 │    49  30000  some college but no degree        13  10.309       30000.\n",
       "\u001b[36m                                                               4 columns omitted\u001b[0m"
      ]
     },
     "execution_count": 12,
     "metadata": {},
     "output_type": "execute_result"
    }
   ],
   "source": [
    "lower(x) = wage_quantiles[sum(wage_quantiles .<=x)]\n",
    "upper(x) = wage_quantiles[sum(wage_quantiles .<=x)+1]\n",
    "\n",
    "cps.wage_lower = lower.(cps.wage)\n",
    "cps.wage_upper = upper.(cps.wage)\n",
    "\n",
    "cps.logwage_lower = log.(cps.wage_lower)\n",
    "cps.logwage_upper = log.(cps.wage_upper)\n",
    "\n",
    "first(cps,3)"
   ]
  },
  {
   "cell_type": "code",
   "execution_count": 13,
   "metadata": {},
   "outputs": [
    {
     "name": "stdout",
     "output_type": "stream",
     "text": [
      "The complete data contains 22715 observations and 9 columns."
     ]
    }
   ],
   "source": [
    "Nobs, c = size(cps)\n",
    "print(\"The complete data contains \", Nobs, \" observations and \",c, \" columns.\")"
   ]
  },
  {
   "cell_type": "markdown",
   "metadata": {},
   "source": [
    "# Partial Indentification"
   ]
  },
  {
   "cell_type": "markdown",
   "metadata": {},
   "source": [
    "### Reading the module"
   ]
  },
  {
   "cell_type": "code",
   "execution_count": 40,
   "metadata": {},
   "outputs": [
    {
     "data": {
      "text/plain": [
       "Main.setBLP"
      ]
     },
     "execution_count": 40,
     "metadata": {},
     "output_type": "execute_result"
    }
   ],
   "source": [
    "include(\"C:\\\\Users\\\\arie\\\\OneDrive - University of Pittsburgh\\\\Documents\\\\Bounds.jl\\\\Bounds.jl\\\\src\\\\setBLP.jl\")"
   ]
  },
  {
   "cell_type": "code",
   "execution_count": 41,
   "metadata": {},
   "outputs": [],
   "source": [
    "using Main.setBLP"
   ]
  },
  {
   "cell_type": "markdown",
   "metadata": {},
   "source": [
    "## Testing projection function"
   ]
  },
  {
   "cell_type": "code",
   "execution_count": 42,
   "metadata": {},
   "outputs": [
    {
     "data": {
      "text/html": [
       "# 7 methods for generic function <b>projection</b> from \u001b[35mMain.setBLP\u001b[39m:<ul><li> projection(yl::<b>Vector{<:Real}</b>, yu::<b>Vector{<:Real}</b>, x::<b>Vector{<:Real}</b>) in Main.setBLP at <a href=\"https://github.com/ArieBeresteanu/Bounds.jl/tree/c2cfd46834dd81182f27d66369d3bc7bb91ea184//src/setBLP.jl#L196\" target=\"_blank\">C:\\Users\\arie\\OneDrive - University of Pittsburgh\\Documents\\Bounds.jl\\Bounds.jl\\src\\setBLP.jl:196</a></li> <li> projection(yl::<b>Vector{<:Real}</b>, yu::<b>Vector{<:Real}</b>, x::<b>Matrix{<:Real}</b>) in Main.setBLP at <a href=\"https://github.com/ArieBeresteanu/Bounds.jl/tree/c2cfd46834dd81182f27d66369d3bc7bb91ea184//src/setBLP.jl#L237\" target=\"_blank\">C:\\Users\\arie\\OneDrive - University of Pittsburgh\\Documents\\Bounds.jl\\Bounds.jl\\src\\setBLP.jl:237</a></li> <li> projection(yl::<b>Vector{<:Real}</b>, yu::<b>Vector{<:Real}</b>, x::<b>Matrix{<:Real}</b>, cord::<b>Int64</b>) in Main.setBLP at <a href=\"https://github.com/ArieBeresteanu/Bounds.jl/tree/c2cfd46834dd81182f27d66369d3bc7bb91ea184//src/setBLP.jl#L207\" target=\"_blank\">C:\\Users\\arie\\OneDrive - University of Pittsburgh\\Documents\\Bounds.jl\\Bounds.jl\\src\\setBLP.jl:207</a></li> <li> projection(yl::<b>Vector{<:Real}</b>, yu::<b>Vector{<:Real}</b>, x::<b>Matrix{<:Real}</b>, cords::<b>Vector{Int64}</b>) in Main.setBLP at <a href=\"https://github.com/ArieBeresteanu/Bounds.jl/tree/c2cfd46834dd81182f27d66369d3bc7bb91ea184//src/setBLP.jl#L220\" target=\"_blank\">C:\\Users\\arie\\OneDrive - University of Pittsburgh\\Documents\\Bounds.jl\\Bounds.jl\\src\\setBLP.jl:220</a></li> <li> projection(df::<b>DataFrame</b>, yl::<b>Symbol</b>, yu::<b>Symbol</b>, x::<b>Symbol</b>) in Main.setBLP at <a href=\"https://github.com/ArieBeresteanu/Bounds.jl/tree/c2cfd46834dd81182f27d66369d3bc7bb91ea184//src/setBLP.jl#L255\" target=\"_blank\">C:\\Users\\arie\\OneDrive - University of Pittsburgh\\Documents\\Bounds.jl\\Bounds.jl\\src\\setBLP.jl:255</a></li> <li> projection(df::<b>DataFrame</b>, yl::<b>Symbol</b>, yu::<b>Symbol</b>, x::<b>Vector{Symbol}</b>) in Main.setBLP at <a href=\"https://github.com/ArieBeresteanu/Bounds.jl/tree/c2cfd46834dd81182f27d66369d3bc7bb91ea184//src/setBLP.jl#L263\" target=\"_blank\">C:\\Users\\arie\\OneDrive - University of Pittsburgh\\Documents\\Bounds.jl\\Bounds.jl\\src\\setBLP.jl:263</a></li> <li> projection(df::<b>DataFrame</b>, yl::<b>Symbol</b>, yu::<b>Symbol</b>, x::<b>Vector{Symbol}</b>, cord::<b>Int64</b>) in Main.setBLP at <a href=\"https://github.com/ArieBeresteanu/Bounds.jl/tree/c2cfd46834dd81182f27d66369d3bc7bb91ea184//src/setBLP.jl#L271\" target=\"_blank\">C:\\Users\\arie\\OneDrive - University of Pittsburgh\\Documents\\Bounds.jl\\Bounds.jl\\src\\setBLP.jl:271</a></li> </ul>"
      ],
      "text/plain": [
       "# 7 methods for generic function \"projection\" from \u001b[35mMain.setBLP\u001b[39m:\n",
       " [1] projection(\u001b[90myl\u001b[39m::\u001b[1mVector\u001b[22m\u001b[0m{<:Real}, \u001b[90myu\u001b[39m::\u001b[1mVector\u001b[22m\u001b[0m{<:Real}, \u001b[90mx\u001b[39m::\u001b[1mVector\u001b[22m\u001b[0m{<:Real})\n",
       "\u001b[90m     @\u001b[39m \u001b[90mC:\\Users\\arie\\OneDrive - University of Pittsburgh\\Documents\\Bounds.jl\\Bounds.jl\\src\\\u001b[39m\u001b[90m\u001b[4msetBLP.jl:196\u001b[24m\u001b[39m\n",
       " [2] projection(\u001b[90myl\u001b[39m::\u001b[1mVector\u001b[22m\u001b[0m{<:Real}, \u001b[90myu\u001b[39m::\u001b[1mVector\u001b[22m\u001b[0m{<:Real}, \u001b[90mx\u001b[39m::\u001b[1mMatrix\u001b[22m\u001b[0m{<:Real})\n",
       "\u001b[90m     @\u001b[39m \u001b[90mC:\\Users\\arie\\OneDrive - University of Pittsburgh\\Documents\\Bounds.jl\\Bounds.jl\\src\\\u001b[39m\u001b[90m\u001b[4msetBLP.jl:237\u001b[24m\u001b[39m\n",
       " [3] projection(\u001b[90myl\u001b[39m::\u001b[1mVector\u001b[22m\u001b[0m{<:Real}, \u001b[90myu\u001b[39m::\u001b[1mVector\u001b[22m\u001b[0m{<:Real}, \u001b[90mx\u001b[39m::\u001b[1mMatrix\u001b[22m\u001b[0m{<:Real}, \u001b[90mcord\u001b[39m::\u001b[1mInt64\u001b[22m)\n",
       "\u001b[90m     @\u001b[39m \u001b[90mC:\\Users\\arie\\OneDrive - University of Pittsburgh\\Documents\\Bounds.jl\\Bounds.jl\\src\\\u001b[39m\u001b[90m\u001b[4msetBLP.jl:207\u001b[24m\u001b[39m\n",
       " [4] projection(\u001b[90myl\u001b[39m::\u001b[1mVector\u001b[22m\u001b[0m{<:Real}, \u001b[90myu\u001b[39m::\u001b[1mVector\u001b[22m\u001b[0m{<:Real}, \u001b[90mx\u001b[39m::\u001b[1mMatrix\u001b[22m\u001b[0m{<:Real}, \u001b[90mcords\u001b[39m::\u001b[1mVector\u001b[22m\u001b[0m{Int64})\n",
       "\u001b[90m     @\u001b[39m \u001b[90mC:\\Users\\arie\\OneDrive - University of Pittsburgh\\Documents\\Bounds.jl\\Bounds.jl\\src\\\u001b[39m\u001b[90m\u001b[4msetBLP.jl:220\u001b[24m\u001b[39m\n",
       " [5] projection(\u001b[90mdf\u001b[39m::\u001b[1mDataFrame\u001b[22m, \u001b[90myl\u001b[39m::\u001b[1mSymbol\u001b[22m, \u001b[90myu\u001b[39m::\u001b[1mSymbol\u001b[22m, \u001b[90mx\u001b[39m::\u001b[1mSymbol\u001b[22m)\n",
       "\u001b[90m     @\u001b[39m \u001b[90mC:\\Users\\arie\\OneDrive - University of Pittsburgh\\Documents\\Bounds.jl\\Bounds.jl\\src\\\u001b[39m\u001b[90m\u001b[4msetBLP.jl:255\u001b[24m\u001b[39m\n",
       " [6] projection(\u001b[90mdf\u001b[39m::\u001b[1mDataFrame\u001b[22m, \u001b[90myl\u001b[39m::\u001b[1mSymbol\u001b[22m, \u001b[90myu\u001b[39m::\u001b[1mSymbol\u001b[22m, \u001b[90mx\u001b[39m::\u001b[1mVector\u001b[22m\u001b[0m{Symbol})\n",
       "\u001b[90m     @\u001b[39m \u001b[90mC:\\Users\\arie\\OneDrive - University of Pittsburgh\\Documents\\Bounds.jl\\Bounds.jl\\src\\\u001b[39m\u001b[90m\u001b[4msetBLP.jl:263\u001b[24m\u001b[39m\n",
       " [7] projection(\u001b[90mdf\u001b[39m::\u001b[1mDataFrame\u001b[22m, \u001b[90myl\u001b[39m::\u001b[1mSymbol\u001b[22m, \u001b[90myu\u001b[39m::\u001b[1mSymbol\u001b[22m, \u001b[90mx\u001b[39m::\u001b[1mVector\u001b[22m\u001b[0m{Symbol}, \u001b[90mcord\u001b[39m::\u001b[1mInt64\u001b[22m)\n",
       "\u001b[90m     @\u001b[39m \u001b[90mC:\\Users\\arie\\OneDrive - University of Pittsburgh\\Documents\\Bounds.jl\\Bounds.jl\\src\\\u001b[39m\u001b[90m\u001b[4msetBLP.jl:271\u001b[24m\u001b[39m"
      ]
     },
     "execution_count": 42,
     "metadata": {},
     "output_type": "execute_result"
    }
   ],
   "source": [
    "methods(projection)"
   ]
  },
  {
   "cell_type": "code",
   "execution_count": 43,
   "metadata": {},
   "outputs": [
    {
     "name": "stdout",
     "output_type": "stream",
     "text": [
      "Options:\n",
      "  Number of MC iterations: 2000\n",
      "  Seed: 15217\n",
      "  Random Number Generator: Random.MersenneTwister(0x8665695610f99914e3e059b6c4e28aeb)\n",
      "  Confidence level: 0.95\n"
     ]
    }
   ],
   "source": [
    "show(default_options)"
   ]
  },
  {
   "cell_type": "markdown",
   "metadata": {},
   "source": [
    "### 1. Testing the vector/matrix functions"
   ]
  },
  {
   "cell_type": "code",
   "execution_count": 44,
   "metadata": {},
   "outputs": [],
   "source": [
    "# Preparing vector and matrix versions of the data\n",
    "\n",
    "yl = cps.logwage_lower;\n",
    "yu = cps.logwage_upper;\n",
    "x1 = cps.age;\n",
    "x2 = cps.educ_num;\n",
    "x = [x1 x2];"
   ]
  },
  {
   "cell_type": "code",
   "execution_count": 45,
   "metadata": {},
   "outputs": [],
   "source": [
    "#projection(yl,yu,x1)"
   ]
  },
  {
   "cell_type": "code",
   "execution_count": 46,
   "metadata": {},
   "outputs": [],
   "source": [
    "#projection(yl,yu,x1)"
   ]
  },
  {
   "cell_type": "code",
   "execution_count": 47,
   "metadata": {},
   "outputs": [
    {
     "data": {
      "text/plain": [
       "1×2 Matrix{Float64}:\n",
       " -0.00905178  0.144324"
      ]
     },
     "execution_count": 47,
     "metadata": {},
     "output_type": "execute_result"
    }
   ],
   "source": [
    "projection(yl,yu,x,1)"
   ]
  },
  {
   "cell_type": "code",
   "execution_count": 48,
   "metadata": {},
   "outputs": [],
   "source": [
    "#projection(yl,yu,x,2)"
   ]
  },
  {
   "cell_type": "code",
   "execution_count": 49,
   "metadata": {},
   "outputs": [],
   "source": [
    "#projection(yl,yu,x)"
   ]
  },
  {
   "cell_type": "markdown",
   "metadata": {},
   "source": [
    "### 2. Testing the Dataframe version of the functions"
   ]
  },
  {
   "cell_type": "code",
   "execution_count": 50,
   "metadata": {},
   "outputs": [
    {
     "data": {
      "text/plain": [
       "1×2 Matrix{Float64}:\n",
       " -0.00488786  0.14866"
      ]
     },
     "execution_count": 50,
     "metadata": {},
     "output_type": "execute_result"
    }
   ],
   "source": [
    "projection(cps,:logwage_lower,:logwage_upper,:age)"
   ]
  },
  {
   "cell_type": "code",
   "execution_count": 51,
   "metadata": {},
   "outputs": [],
   "source": [
    "#projection(cps,:logwage_lower,:logwage_upper,:educ_num)"
   ]
  },
  {
   "cell_type": "code",
   "execution_count": 52,
   "metadata": {},
   "outputs": [],
   "source": [
    "#projection(cps,:logwage_lower,:logwage_upper,[:age,:educ_num],1)"
   ]
  },
  {
   "cell_type": "code",
   "execution_count": 53,
   "metadata": {},
   "outputs": [],
   "source": [
    "#projection(cps,:logwage_lower,:logwage_upper,[:age,:educ_num],2)"
   ]
  },
  {
   "cell_type": "code",
   "execution_count": 54,
   "metadata": {},
   "outputs": [],
   "source": [
    "#projection(cps,:logwage_lower,:logwage_upper,[:age,:educ_num])"
   ]
  },
  {
   "cell_type": "markdown",
   "metadata": {},
   "source": [
    "## Testing oneDproj function"
   ]
  },
  {
   "cell_type": "code",
   "execution_count": 55,
   "metadata": {},
   "outputs": [
    {
     "name": "stdout",
     "output_type": "stream",
     "text": [
      "Results: \n",
      "  Null: [0.0, 0.15]\n",
      "  Bound: [-0.0049, 0.1487]\n",
      "  Hausdorff based test: \n",
      "    Test Stat: 0.7367\n",
      "    Critical Value: 0.7083\n",
      "    Confidence Interval: [-0.0096, 0.1534]\n",
      "  directed Hausdorff test: \n",
      "    Test Stat: 0.202\n",
      "    Critical Value: 0.598\n",
      "    Confidence Interval: [-0.0089, 0.1526]\n"
     ]
    }
   ],
   "source": [
    "res = oneDproj(yl,yu,float.(x1);CI=true,H0=[0, 0.15]);\n",
    "show(res)"
   ]
  },
  {
   "cell_type": "code",
   "execution_count": 56,
   "metadata": {},
   "outputs": [
    {
     "name": "stdout",
     "output_type": "stream",
     "text": [
      "Results: \n",
      "  Null: [0.1, 0.15]\n",
      "  Bound: [-0.0049, 0.1487]\n",
      "  Hausdorff based test: \n",
      "    Test Stat: 15.8082\n",
      "    Critical Value: 0.7458\n",
      "    Confidence Interval: [-0.0098, 0.1536]\n",
      "  directed Hausdorff test: \n",
      "    Test Stat: 0.202\n",
      "    Critical Value: 0.6111\n",
      "    Confidence Interval: [-0.0089, 0.1527]\n"
     ]
    }
   ],
   "source": [
    "res = oneDproj(yl,yu,float.(x1);CI=true,H0=[0.1,0.15]);\n",
    "show(res)"
   ]
  },
  {
   "cell_type": "code",
   "execution_count": 57,
   "metadata": {},
   "outputs": [
    {
     "name": "stdout",
     "output_type": "stream",
     "text": [
      "Results: \n",
      "  Null: [0.0, 0.1]\n",
      "  Bound: [-0.0049, 0.1487]\n",
      "  Hausdorff based test: \n",
      "    Test Stat: 7.3337\n",
      "    Critical Value: 0.7363\n",
      "    Confidence Interval: [-0.0098, 0.1535]\n",
      "  directed Hausdorff test: \n",
      "    Test Stat: 0.0\n",
      "    Critical Value: 0.6198\n",
      "    Confidence Interval: [-0.009, 0.1528]\n"
     ]
    }
   ],
   "source": [
    "res = oneDproj(yl,yu,float.(x1);CI=true,H0=[0.0,0.1]);\n",
    "show(res)"
   ]
  },
  {
   "cell_type": "code",
   "execution_count": 58,
   "metadata": {},
   "outputs": [
    {
     "name": "stdout",
     "output_type": "stream",
     "text": [
      "Results: \n",
      "  Null: [-0.1, 0.15]\n",
      "  Bound: [-0.0049, 0.1487]\n",
      "  Hausdorff based test: \n",
      "    Test Stat: 14.3348\n",
      "    Critical Value: 0.69\n",
      "    Confidence Interval: [-0.0095, 0.1532]\n",
      "  directed Hausdorff test: \n",
      "    Test Stat: 14.3348\n",
      "    Critical Value: 0.5819\n",
      "    Confidence Interval: [-0.0087, 0.1525]\n"
     ]
    }
   ],
   "source": [
    "res = oneDproj(yl,yu,float.(x1);CI=true,H0=[-0.1,0.15]);\n",
    "show(res)"
   ]
  },
  {
   "cell_type": "code",
   "execution_count": 59,
   "metadata": {},
   "outputs": [
    {
     "data": {
      "text/plain": [
       "Results([-0.004887858329799178, 0.14865963017399053], nothing, nothing, nothing)"
      ]
     },
     "execution_count": 59,
     "metadata": {},
     "output_type": "execute_result"
    }
   ],
   "source": [
    "res = oneDproj(yl,yu,float.(x1);CI=false,H0=nothing)"
   ]
  },
  {
   "cell_type": "code",
   "execution_count": 60,
   "metadata": {},
   "outputs": [
    {
     "data": {
      "text/plain": [
       "Results([-0.004887858329799178, 0.14865963017399053], nothing, TestResults([-0.009744472013914507, 0.15351624385810586], 0.7319643505452055, nothing), TestResults([-0.00913628732061405, 0.1529080591648054], 0.6403018171427171, nothing))"
      ]
     },
     "execution_count": 60,
     "metadata": {},
     "output_type": "execute_result"
    }
   ],
   "source": [
    "res = oneDproj(yl,yu,real.(x1))"
   ]
  },
  {
   "cell_type": "code",
   "execution_count": 62,
   "metadata": {},
   "outputs": [
    {
     "data": {
      "text/plain": [
       "Results([0.001786042221944126, 0.3685793555817362], nothing, TestResults([-0.014438346254592052, 0.3848037440582724], 2.445258105058477, nothing), TestResults([-0.011584735568554317, 0.38195013337223466], 2.015176276778378, nothing))"
      ]
     },
     "execution_count": 62,
     "metadata": {},
     "output_type": "execute_result"
    }
   ],
   "source": [
    "res = oneDproj(cps,:logwage_lower,:logwage_upper,:educ_num)"
   ]
  },
  {
   "cell_type": "markdown",
   "metadata": {},
   "source": [
    "### Plotting"
   ]
  },
  {
   "cell_type": "code",
   "execution_count": 61,
   "metadata": {},
   "outputs": [
    {
     "data": {
      "image/png": "[encoded data removed]",
      "image/svg+xml": [
       "<?xml version=\"1.0\" encoding=\"utf-8\"?>\n",
       "<svg xmlns=\"http://www.w3.org/2000/svg\" xmlns:xlink=\"http://www.w3.org/1999/xlink\" width=\"600\" height=\"120\" viewBox=\"0 0 2400 480\">\n",
       "<defs>\n",
       "  <clipPath id=\"clip380\">\n",
       "    <rect x=\"0\" y=\"0\" width=\"2400\" height=\"480\"/>\n",
       "  </clipPath>\n",
       "</defs>\n",
       "<path clip-path=\"url(#clip380)\" d=\"M0 480 L2400 480 L2400 0 L0 0  Z\" fill=\"#ffffff\" fill-rule=\"evenodd\" fill-opacity=\"1\"/>\n",
       "<defs>\n",
       "  <clipPath id=\"clip381\">\n",
       "    <rect x=\"480\" y=\"0\" width=\"1681\" height=\"480\"/>\n",
       "  </clipPath>\n",
       "</defs>\n",
       "<path clip-path=\"url(#clip380)\" d=\"M223.45 401.84 L2352.76 401.84 L2352.76 47.2441 L223.45 47.2441  Z\" fill=\"#ffffff\" fill-rule=\"evenodd\" fill-opacity=\"1\"/>\n",
       "<defs>\n",
       "  <clipPath id=\"clip382\">\n",
       "    <rect x=\"223\" y=\"47\" width=\"2130\" height=\"356\"/>\n",
       "  </clipPath>\n",
       "</defs>\n",
       "<polyline clip-path=\"url(#clip382)\" style=\"stroke:#000000; stroke-linecap:round; stroke-linejoin:round; stroke-width:2; stroke-opacity:0.1; fill:none\" points=\"506.801,401.84 506.801,47.2441 \"/>\n",
       "<polyline clip-path=\"url(#clip382)\" style=\"stroke:#000000; stroke-linecap:round; stroke-linejoin:round; stroke-width:2; stroke-opacity:0.1; fill:none\" points=\"1050.23,401.84 1050.23,47.2441 \"/>\n",
       "<polyline clip-path=\"url(#clip382)\" style=\"stroke:#000000; stroke-linecap:round; stroke-linejoin:round; stroke-width:2; stroke-opacity:0.1; fill:none\" points=\"1593.66,401.84 1593.66,47.2441 \"/>\n",
       "<polyline clip-path=\"url(#clip382)\" style=\"stroke:#000000; stroke-linecap:round; stroke-linejoin:round; stroke-width:2; stroke-opacity:0.1; fill:none\" points=\"2137.1,401.84 2137.1,47.2441 \"/>\n",
       "<polyline clip-path=\"url(#clip380)\" style=\"stroke:#000000; stroke-linecap:round; stroke-linejoin:round; stroke-width:4; stroke-opacity:1; fill:none\" points=\"223.45,401.84 2352.76,401.84 \"/>\n",
       "<polyline clip-path=\"url(#clip380)\" style=\"stroke:#000000; stroke-linecap:round; stroke-linejoin:round; stroke-width:4; stroke-opacity:1; fill:none\" points=\"506.801,401.84 506.801,382.942 \"/>\n",
       "<polyline clip-path=\"url(#clip380)\" style=\"stroke:#000000; stroke-linecap:round; stroke-linejoin:round; stroke-width:4; stroke-opacity:1; fill:none\" points=\"1050.23,401.84 1050.23,382.942 \"/>\n",
       "<polyline clip-path=\"url(#clip380)\" style=\"stroke:#000000; stroke-linecap:round; stroke-linejoin:round; stroke-width:4; stroke-opacity:1; fill:none\" points=\"1593.66,401.84 1593.66,382.942 \"/>\n",
       "<polyline clip-path=\"url(#clip380)\" style=\"stroke:#000000; stroke-linecap:round; stroke-linejoin:round; stroke-width:4; stroke-opacity:1; fill:none\" points=\"2137.1,401.84 2137.1,382.942 \"/>\n",
       "<path clip-path=\"url(#clip380)\" d=\"M469.105 432.759 Q465.493 432.759 463.665 436.323 Q461.859 439.865 461.859 446.995 Q461.859 454.101 463.665 457.666 Q465.493 461.207 469.105 461.207 Q472.739 461.207 474.544 457.666 Q476.373 454.101 476.373 446.995 Q476.373 439.865 474.544 436.323 Q472.739 432.759 469.105 432.759 M469.105 429.055 Q474.915 429.055 477.97 433.661 Q481.049 438.245 481.049 446.995 Q481.049 455.721 477.97 460.328 Q474.915 464.911 469.105 464.911 Q463.294 464.911 460.216 460.328 Q457.16 455.721 457.16 446.995 Q457.16 438.245 460.216 433.661 Q463.294 429.055 469.105 429.055 Z\" fill=\"#000000\" fill-rule=\"nonzero\" fill-opacity=\"1\" /><path clip-path=\"url(#clip380)\" d=\"M489.266 458.36 L494.151 458.36 L494.151 464.24 L489.266 464.24 L489.266 458.36 Z\" fill=\"#000000\" fill-rule=\"nonzero\" fill-opacity=\"1\" /><path clip-path=\"url(#clip380)\" d=\"M514.336 432.759 Q510.725 432.759 508.896 436.323 Q507.09 439.865 507.09 446.995 Q507.09 454.101 508.896 457.666 Q510.725 461.207 514.336 461.207 Q517.97 461.207 519.776 457.666 Q521.604 454.101 521.604 446.995 Q521.604 439.865 519.776 436.323 Q517.97 432.759 514.336 432.759 M514.336 429.055 Q520.146 429.055 523.201 433.661 Q526.28 438.245 526.28 446.995 Q526.28 455.721 523.201 460.328 Q520.146 464.911 514.336 464.911 Q508.526 464.911 505.447 460.328 Q502.391 455.721 502.391 446.995 Q502.391 438.245 505.447 433.661 Q508.526 429.055 514.336 429.055 Z\" fill=\"#000000\" fill-rule=\"nonzero\" fill-opacity=\"1\" /><path clip-path=\"url(#clip380)\" d=\"M544.498 432.759 Q540.887 432.759 539.058 436.323 Q537.252 439.865 537.252 446.995 Q537.252 454.101 539.058 457.666 Q540.887 461.207 544.498 461.207 Q548.132 461.207 549.937 457.666 Q551.766 454.101 551.766 446.995 Q551.766 439.865 549.937 436.323 Q548.132 432.759 544.498 432.759 M544.498 429.055 Q550.308 429.055 553.363 433.661 Q556.442 438.245 556.442 446.995 Q556.442 455.721 553.363 460.328 Q550.308 464.911 544.498 464.911 Q538.687 464.911 535.609 460.328 Q532.553 455.721 532.553 446.995 Q532.553 438.245 535.609 433.661 Q538.687 429.055 544.498 429.055 Z\" fill=\"#000000\" fill-rule=\"nonzero\" fill-opacity=\"1\" /><path clip-path=\"url(#clip380)\" d=\"M1013.03 432.759 Q1009.42 432.759 1007.59 436.323 Q1005.79 439.865 1005.79 446.995 Q1005.79 454.101 1007.59 457.666 Q1009.42 461.207 1013.03 461.207 Q1016.67 461.207 1018.47 457.666 Q1020.3 454.101 1020.3 446.995 Q1020.3 439.865 1018.47 436.323 Q1016.67 432.759 1013.03 432.759 M1013.03 429.055 Q1018.84 429.055 1021.9 433.661 Q1024.98 438.245 1024.98 446.995 Q1024.98 455.721 1021.9 460.328 Q1018.84 464.911 1013.03 464.911 Q1007.22 464.911 1004.15 460.328 Q1001.09 455.721 1001.09 446.995 Q1001.09 438.245 1004.15 433.661 Q1007.22 429.055 1013.03 429.055 Z\" fill=\"#000000\" fill-rule=\"nonzero\" fill-opacity=\"1\" /><path clip-path=\"url(#clip380)\" d=\"M1033.2 458.36 L1038.08 458.36 L1038.08 464.24 L1033.2 464.24 L1033.2 458.36 Z\" fill=\"#000000\" fill-rule=\"nonzero\" fill-opacity=\"1\" /><path clip-path=\"url(#clip380)\" d=\"M1058.27 432.759 Q1054.65 432.759 1052.83 436.323 Q1051.02 439.865 1051.02 446.995 Q1051.02 454.101 1052.83 457.666 Q1054.65 461.207 1058.27 461.207 Q1061.9 461.207 1063.71 457.666 Q1065.53 454.101 1065.53 446.995 Q1065.53 439.865 1063.71 436.323 Q1061.9 432.759 1058.27 432.759 M1058.27 429.055 Q1064.08 429.055 1067.13 433.661 Q1070.21 438.245 1070.21 446.995 Q1070.21 455.721 1067.13 460.328 Q1064.08 464.911 1058.27 464.911 Q1052.46 464.911 1049.38 460.328 Q1046.32 455.721 1046.32 446.995 Q1046.32 438.245 1049.38 433.661 Q1052.46 429.055 1058.27 429.055 Z\" fill=\"#000000\" fill-rule=\"nonzero\" fill-opacity=\"1\" /><path clip-path=\"url(#clip380)\" d=\"M1078.47 429.68 L1096.83 429.68 L1096.83 433.615 L1082.76 433.615 L1082.76 442.087 Q1083.77 441.74 1084.79 441.578 Q1085.81 441.393 1086.83 441.393 Q1092.62 441.393 1096 444.564 Q1099.38 447.735 1099.38 453.152 Q1099.38 458.731 1095.9 461.832 Q1092.43 464.911 1086.11 464.911 Q1083.94 464.911 1081.67 464.541 Q1079.42 464.17 1077.02 463.43 L1077.02 458.731 Q1079.1 459.865 1081.32 460.42 Q1083.54 460.976 1086.02 460.976 Q1090.02 460.976 1092.36 458.87 Q1094.7 456.763 1094.7 453.152 Q1094.7 449.541 1092.36 447.434 Q1090.02 445.328 1086.02 445.328 Q1084.14 445.328 1082.27 445.745 Q1080.42 446.161 1078.47 447.041 L1078.47 429.68 Z\" fill=\"#000000\" fill-rule=\"nonzero\" fill-opacity=\"1\" /><path clip-path=\"url(#clip380)\" d=\"M1555.97 432.759 Q1552.36 432.759 1550.53 436.323 Q1548.72 439.865 1548.72 446.995 Q1548.72 454.101 1550.53 457.666 Q1552.36 461.207 1555.97 461.207 Q1559.6 461.207 1561.41 457.666 Q1563.24 454.101 1563.24 446.995 Q1563.24 439.865 1561.41 436.323 Q1559.6 432.759 1555.97 432.759 M1555.97 429.055 Q1561.78 429.055 1564.83 433.661 Q1567.91 438.245 1567.91 446.995 Q1567.91 455.721 1564.83 460.328 Q1561.78 464.911 1555.97 464.911 Q1550.16 464.911 1547.08 460.328 Q1544.02 455.721 1544.02 446.995 Q1544.02 438.245 1547.08 433.661 Q1550.16 429.055 1555.97 429.055 Z\" fill=\"#000000\" fill-rule=\"nonzero\" fill-opacity=\"1\" /><path clip-path=\"url(#clip380)\" d=\"M1576.13 458.36 L1581.01 458.36 L1581.01 464.24 L1576.13 464.24 L1576.13 458.36 Z\" fill=\"#000000\" fill-rule=\"nonzero\" fill-opacity=\"1\" /><path clip-path=\"url(#clip380)\" d=\"M1592.01 460.305 L1599.65 460.305 L1599.65 433.939 L1591.34 435.606 L1591.34 431.347 L1599.6 429.68 L1604.28 429.68 L1604.28 460.305 L1611.92 460.305 L1611.92 464.24 L1592.01 464.24 L1592.01 460.305 Z\" fill=\"#000000\" fill-rule=\"nonzero\" fill-opacity=\"1\" /><path clip-path=\"url(#clip380)\" d=\"M1631.36 432.759 Q1627.75 432.759 1625.92 436.323 Q1624.12 439.865 1624.12 446.995 Q1624.12 454.101 1625.92 457.666 Q1627.75 461.207 1631.36 461.207 Q1635 461.207 1636.8 457.666 Q1638.63 454.101 1638.63 446.995 Q1638.63 439.865 1636.8 436.323 Q1635 432.759 1631.36 432.759 M1631.36 429.055 Q1637.17 429.055 1640.23 433.661 Q1643.31 438.245 1643.31 446.995 Q1643.31 455.721 1640.23 460.328 Q1637.17 464.911 1631.36 464.911 Q1625.55 464.911 1622.47 460.328 Q1619.42 455.721 1619.42 446.995 Q1619.42 438.245 1622.47 433.661 Q1625.55 429.055 1631.36 429.055 Z\" fill=\"#000000\" fill-rule=\"nonzero\" fill-opacity=\"1\" /><path clip-path=\"url(#clip380)\" d=\"M2099.9 432.759 Q2096.29 432.759 2094.46 436.323 Q2092.65 439.865 2092.65 446.995 Q2092.65 454.101 2094.46 457.666 Q2096.29 461.207 2099.9 461.207 Q2103.53 461.207 2105.34 457.666 Q2107.17 454.101 2107.17 446.995 Q2107.17 439.865 2105.34 436.323 Q2103.53 432.759 2099.9 432.759 M2099.9 429.055 Q2105.71 429.055 2108.76 433.661 Q2111.84 438.245 2111.84 446.995 Q2111.84 455.721 2108.76 460.328 Q2105.71 464.911 2099.9 464.911 Q2094.09 464.911 2091.01 460.328 Q2087.95 455.721 2087.95 446.995 Q2087.95 438.245 2091.01 433.661 Q2094.09 429.055 2099.9 429.055 Z\" fill=\"#000000\" fill-rule=\"nonzero\" fill-opacity=\"1\" /><path clip-path=\"url(#clip380)\" d=\"M2120.06 458.36 L2124.94 458.36 L2124.94 464.24 L2120.06 464.24 L2120.06 458.36 Z\" fill=\"#000000\" fill-rule=\"nonzero\" fill-opacity=\"1\" /><path clip-path=\"url(#clip380)\" d=\"M2135.94 460.305 L2143.58 460.305 L2143.58 433.939 L2135.27 435.606 L2135.27 431.347 L2143.53 429.68 L2148.21 429.68 L2148.21 460.305 L2155.85 460.305 L2155.85 464.24 L2135.94 464.24 L2135.94 460.305 Z\" fill=\"#000000\" fill-rule=\"nonzero\" fill-opacity=\"1\" /><path clip-path=\"url(#clip380)\" d=\"M2165.34 429.68 L2183.69 429.68 L2183.69 433.615 L2169.62 433.615 L2169.62 442.087 Q2170.64 441.74 2171.66 441.578 Q2172.68 441.393 2173.69 441.393 Q2179.48 441.393 2182.86 444.564 Q2186.24 447.735 2186.24 453.152 Q2186.24 458.731 2182.77 461.832 Q2179.3 464.911 2172.98 464.911 Q2170.8 464.911 2168.53 464.541 Q2166.29 464.17 2163.88 463.43 L2163.88 458.731 Q2165.96 459.865 2168.18 460.42 Q2170.41 460.976 2172.88 460.976 Q2176.89 460.976 2179.23 458.87 Q2181.56 456.763 2181.56 453.152 Q2181.56 449.541 2179.23 447.434 Q2176.89 445.328 2172.88 445.328 Q2171.01 445.328 2169.13 445.745 Q2167.28 446.161 2165.34 447.041 L2165.34 429.68 Z\" fill=\"#000000\" fill-rule=\"nonzero\" fill-opacity=\"1\" /><polyline clip-path=\"url(#clip382)\" style=\"stroke:#000000; stroke-linecap:round; stroke-linejoin:round; stroke-width:2; stroke-opacity:0.1; fill:none\" points=\"223.45,357.515 2352.76,357.515 \"/>\n",
       "<polyline clip-path=\"url(#clip382)\" style=\"stroke:#000000; stroke-linecap:round; stroke-linejoin:round; stroke-width:2; stroke-opacity:0.1; fill:none\" points=\"223.45,313.191 2352.76,313.191 \"/>\n",
       "<polyline clip-path=\"url(#clip382)\" style=\"stroke:#000000; stroke-linecap:round; stroke-linejoin:round; stroke-width:2; stroke-opacity:0.1; fill:none\" points=\"223.45,268.866 2352.76,268.866 \"/>\n",
       "<polyline clip-path=\"url(#clip382)\" style=\"stroke:#000000; stroke-linecap:round; stroke-linejoin:round; stroke-width:2; stroke-opacity:0.1; fill:none\" points=\"223.45,224.542 2352.76,224.542 \"/>\n",
       "<polyline clip-path=\"url(#clip382)\" style=\"stroke:#000000; stroke-linecap:round; stroke-linejoin:round; stroke-width:2; stroke-opacity:0.1; fill:none\" points=\"223.45,180.218 2352.76,180.218 \"/>\n",
       "<polyline clip-path=\"url(#clip382)\" style=\"stroke:#000000; stroke-linecap:round; stroke-linejoin:round; stroke-width:2; stroke-opacity:0.1; fill:none\" points=\"223.45,135.893 2352.76,135.893 \"/>\n",
       "<polyline clip-path=\"url(#clip382)\" style=\"stroke:#000000; stroke-linecap:round; stroke-linejoin:round; stroke-width:2; stroke-opacity:0.1; fill:none\" points=\"223.45,91.5686 2352.76,91.5686 \"/>\n",
       "<line clip-path=\"url(#clip382)\" x1=\"400.892\" y1=\"308.866\" x2=\"400.892\" y2=\"228.866\" style=\"stroke:#ff0000; stroke-width:3.84; stroke-opacity:1\"/>\n",
       "<line clip-path=\"url(#clip382)\" x1=\"453.677\" y1=\"220.218\" x2=\"453.677\" y2=\"140.218\" style=\"stroke:#0000ff; stroke-width:3.84; stroke-opacity:1\"/>\n",
       "<line clip-path=\"url(#clip382)\" x1=\"2122.53\" y1=\"220.218\" x2=\"2122.53\" y2=\"140.218\" style=\"stroke:#0000ff; stroke-width:3.84; stroke-opacity:1\"/>\n",
       "<line clip-path=\"url(#clip382)\" x1=\"2175.31\" y1=\"308.866\" x2=\"2175.31\" y2=\"228.866\" style=\"stroke:#ff0000; stroke-width:3.84; stroke-opacity:1\"/>\n",
       "<polyline clip-path=\"url(#clip382)\" style=\"stroke:#0000ff; stroke-linecap:round; stroke-linejoin:round; stroke-width:4; stroke-opacity:1; fill:none\" points=\"453.677,180.218 2122.53,180.218 \"/>\n",
       "<polyline clip-path=\"url(#clip382)\" style=\"stroke:#ff0000; stroke-linecap:round; stroke-linejoin:round; stroke-width:4; stroke-opacity:1; fill:none\" points=\"400.892,268.866 2175.31,268.866 \"/>\n",
       "<path clip-path=\"url(#clip380)\" d=\"M298.507 95.7613 L320.341 95.7613 L320.341 102.405 L298.507 102.405 L298.507 95.7613 Z\" fill=\"#0000ff\" fill-rule=\"nonzero\" fill-opacity=\"1\" /><path clip-path=\"url(#clip380)\" d=\"M350.763 66.7163 Q344.444 66.7163 341.244 72.9547 Q338.084 79.1525 338.084 91.6293 Q338.084 104.066 341.244 110.304 Q344.444 116.502 350.763 116.502 Q357.123 116.502 360.283 110.304 Q363.483 104.066 363.483 91.6293 Q363.483 79.1525 360.283 72.9547 Q357.123 66.7163 350.763 66.7163 M350.763 60.2348 Q360.931 60.2348 366.278 68.2961 Q371.666 76.3169 371.666 91.6293 Q371.666 106.901 366.278 114.963 Q360.931 122.983 350.763 122.983 Q340.596 122.983 335.208 114.963 Q329.861 106.901 329.861 91.6293 Q329.861 76.3169 335.208 68.2961 Q340.596 60.2348 350.763 60.2348 Z\" fill=\"#0000ff\" fill-rule=\"nonzero\" fill-opacity=\"1\" /><path clip-path=\"url(#clip380)\" d=\"M386.047 111.519 L394.594 111.519 L394.594 121.809 L386.047 121.809 L386.047 111.519 Z\" fill=\"#0000ff\" fill-rule=\"nonzero\" fill-opacity=\"1\" /><path clip-path=\"url(#clip380)\" d=\"M429.918 66.7163 Q423.599 66.7163 420.399 72.9547 Q417.239 79.1525 417.239 91.6293 Q417.239 104.066 420.399 110.304 Q423.599 116.502 429.918 116.502 Q436.278 116.502 439.438 110.304 Q442.638 104.066 442.638 91.6293 Q442.638 79.1525 439.438 72.9547 Q436.278 66.7163 429.918 66.7163 M429.918 60.2348 Q440.086 60.2348 445.433 68.2961 Q450.821 76.3169 450.821 91.6293 Q450.821 106.901 445.433 114.963 Q440.086 122.983 429.918 122.983 Q419.75 122.983 414.363 114.963 Q409.015 106.901 409.015 91.6293 Q409.015 76.3169 414.363 68.2961 Q419.75 60.2348 429.918 60.2348 Z\" fill=\"#0000ff\" fill-rule=\"nonzero\" fill-opacity=\"1\" /><path clip-path=\"url(#clip380)\" d=\"M482.701 66.7163 Q476.382 66.7163 473.182 72.9547 Q470.022 79.1525 470.022 91.6293 Q470.022 104.066 473.182 110.304 Q476.382 116.502 482.701 116.502 Q489.061 116.502 492.221 110.304 Q495.421 104.066 495.421 91.6293 Q495.421 79.1525 492.221 72.9547 Q489.061 66.7163 482.701 66.7163 M482.701 60.2348 Q492.869 60.2348 498.216 68.2961 Q503.604 76.3169 503.604 91.6293 Q503.604 106.901 498.216 114.963 Q492.869 122.983 482.701 122.983 Q472.534 122.983 467.146 114.963 Q461.799 106.901 461.799 91.6293 Q461.799 76.3169 467.146 68.2961 Q472.534 60.2348 482.701 60.2348 Z\" fill=\"#0000ff\" fill-rule=\"nonzero\" fill-opacity=\"1\" /><path clip-path=\"url(#clip380)\" d=\"M540.467 68.4582 L519.808 100.744 L540.467 100.744 L540.467 68.4582 M538.32 61.3286 L548.61 61.3286 L548.61 100.744 L557.238 100.744 L557.238 107.549 L548.61 107.549 L548.61 121.809 L540.467 121.809 L540.467 107.549 L513.164 107.549 L513.164 99.6501 L538.32 61.3286 Z\" fill=\"#0000ff\" fill-rule=\"nonzero\" fill-opacity=\"1\" /><path clip-path=\"url(#clip380)\" d=\"M571.011 120.553 L571.011 113.099 Q574.09 114.557 577.25 115.327 Q580.409 116.097 583.447 116.097 Q591.549 116.097 595.803 110.669 Q600.097 105.2 600.704 94.1004 Q598.355 97.5842 594.749 99.4476 Q591.144 101.311 586.769 101.311 Q577.695 101.311 572.388 95.8423 Q567.122 90.333 567.122 80.8134 Q567.122 71.4963 572.631 65.8656 Q578.141 60.2348 587.296 60.2348 Q597.788 60.2348 603.297 68.2961 Q608.847 76.3169 608.847 91.6293 Q608.847 105.929 602.041 114.476 Q595.276 122.983 583.812 122.983 Q580.733 122.983 577.574 122.376 Q574.414 121.768 571.011 120.553 M587.296 94.9106 Q592.805 94.9106 596.005 91.1432 Q599.246 87.3759 599.246 80.8134 Q599.246 74.2915 596.005 70.5241 Q592.805 66.7163 587.296 66.7163 Q581.787 66.7163 578.546 70.5241 Q575.346 74.2915 575.346 80.8134 Q575.346 87.3759 578.546 91.1432 Q581.787 94.9106 587.296 94.9106 Z\" fill=\"#0000ff\" fill-rule=\"nonzero\" fill-opacity=\"1\" /><path clip-path=\"url(#clip380)\" d=\"M2004.57 66.7163 Q1998.25 66.7163 1995.05 72.9547 Q1991.89 79.1525 1991.89 91.6293 Q1991.89 104.066 1995.05 110.304 Q1998.25 116.502 2004.57 116.502 Q2010.93 116.502 2014.09 110.304 Q2017.29 104.066 2017.29 91.6293 Q2017.29 79.1525 2014.09 72.9547 Q2010.93 66.7163 2004.57 66.7163 M2004.57 60.2348 Q2014.73 60.2348 2020.08 68.2961 Q2025.47 76.3169 2025.47 91.6293 Q2025.47 106.901 2020.08 114.963 Q2014.73 122.983 2004.57 122.983 Q1994.4 122.983 1989.01 114.963 Q1983.66 106.901 1983.66 91.6293 Q1983.66 76.3169 1989.01 68.2961 Q1994.4 60.2348 2004.57 60.2348 Z\" fill=\"#0000ff\" fill-rule=\"nonzero\" fill-opacity=\"1\" /><path clip-path=\"url(#clip380)\" d=\"M2039.85 111.519 L2048.4 111.519 L2048.4 121.809 L2039.85 121.809 L2039.85 111.519 Z\" fill=\"#0000ff\" fill-rule=\"nonzero\" fill-opacity=\"1\" /><path clip-path=\"url(#clip380)\" d=\"M2067.64 114.922 L2081.01 114.922 L2081.01 68.7822 L2066.46 71.6989 L2066.46 64.2452 L2080.93 61.3286 L2089.11 61.3286 L2089.11 114.922 L2102.48 114.922 L2102.48 121.809 L2067.64 121.809 L2067.64 114.922 Z\" fill=\"#0000ff\" fill-rule=\"nonzero\" fill-opacity=\"1\" /><path clip-path=\"url(#clip380)\" d=\"M2141.49 68.4582 L2120.83 100.744 L2141.49 100.744 L2141.49 68.4582 M2139.34 61.3286 L2149.63 61.3286 L2149.63 100.744 L2158.26 100.744 L2158.26 107.549 L2149.63 107.549 L2149.63 121.809 L2141.49 121.809 L2141.49 107.549 L2114.18 107.549 L2114.18 99.6501 L2139.34 61.3286 Z\" fill=\"#0000ff\" fill-rule=\"nonzero\" fill-opacity=\"1\" /><path clip-path=\"url(#clip380)\" d=\"M2189.29 93.0877 Q2183.45 93.0877 2180.09 96.2069 Q2176.77 99.326 2176.77 104.795 Q2176.77 110.263 2180.09 113.383 Q2183.45 116.502 2189.29 116.502 Q2195.12 116.502 2198.48 113.383 Q2201.85 110.223 2201.85 104.795 Q2201.85 99.326 2198.48 96.2069 Q2195.16 93.0877 2189.29 93.0877 M2181.11 89.6039 Q2175.84 88.3076 2172.88 84.7023 Q2169.97 81.097 2169.97 75.9118 Q2169.97 68.6607 2175.11 64.4478 Q2180.29 60.2348 2189.29 60.2348 Q2198.32 60.2348 2203.47 64.4478 Q2208.61 68.6607 2208.61 75.9118 Q2208.61 81.097 2205.65 84.7023 Q2202.74 88.3076 2197.51 89.6039 Q2203.43 90.9812 2206.71 94.9916 Q2210.03 99.002 2210.03 104.795 Q2210.03 113.585 2204.64 118.284 Q2199.29 122.983 2189.29 122.983 Q2179.28 122.983 2173.89 118.284 Q2168.55 113.585 2168.55 104.795 Q2168.55 99.002 2171.87 94.9916 Q2175.19 90.9812 2181.11 89.6039 M2178.11 76.6815 Q2178.11 81.3805 2181.02 84.0136 Q2183.98 86.6467 2189.29 86.6467 Q2194.55 86.6467 2197.51 84.0136 Q2200.51 81.3805 2200.51 76.6815 Q2200.51 71.9824 2197.51 69.3494 Q2194.55 66.7163 2189.29 66.7163 Q2183.98 66.7163 2181.02 69.3494 Q2178.11 71.9824 2178.11 76.6815 Z\" fill=\"#0000ff\" fill-rule=\"nonzero\" fill-opacity=\"1\" /><path clip-path=\"url(#clip380)\" d=\"M2222.51 61.3286 L2261.39 61.3286 L2261.39 64.8123 L2239.44 121.809 L2230.89 121.809 L2251.55 68.2151 L2222.51 68.2151 L2222.51 61.3286 Z\" fill=\"#0000ff\" fill-rule=\"nonzero\" fill-opacity=\"1\" /><path clip-path=\"url(#clip380)\" d=\"M246.35 361.708 L268.184 361.708 L268.184 368.352 L246.35 368.352 L246.35 361.708 Z\" fill=\"#ff0000\" fill-rule=\"nonzero\" fill-opacity=\"1\" /><path clip-path=\"url(#clip380)\" d=\"M298.607 332.663 Q292.287 332.663 289.087 338.901 Q285.927 345.099 285.927 357.576 Q285.927 370.012 289.087 376.251 Q292.287 382.449 298.607 382.449 Q304.966 382.449 308.126 376.251 Q311.326 370.012 311.326 357.576 Q311.326 345.099 308.126 338.901 Q304.966 332.663 298.607 332.663 M298.607 326.182 Q308.774 326.182 314.122 334.243 Q319.509 342.264 319.509 357.576 Q319.509 372.848 314.122 380.909 Q308.774 388.93 298.607 388.93 Q288.439 388.93 283.051 380.909 Q277.704 372.848 277.704 357.576 Q277.704 342.264 283.051 334.243 Q288.439 326.182 298.607 326.182 Z\" fill=\"#ff0000\" fill-rule=\"nonzero\" fill-opacity=\"1\" /><path clip-path=\"url(#clip380)\" d=\"M333.89 377.466 L342.437 377.466 L342.437 387.755 L333.89 387.755 L333.89 377.466 Z\" fill=\"#ff0000\" fill-rule=\"nonzero\" fill-opacity=\"1\" /><path clip-path=\"url(#clip380)\" d=\"M377.761 332.663 Q371.442 332.663 368.242 338.901 Q365.082 345.099 365.082 357.576 Q365.082 370.012 368.242 376.251 Q371.442 382.449 377.761 382.449 Q384.121 382.449 387.281 376.251 Q390.481 370.012 390.481 357.576 Q390.481 345.099 387.281 338.901 Q384.121 332.663 377.761 332.663 M377.761 326.182 Q387.929 326.182 393.276 334.243 Q398.664 342.264 398.664 357.576 Q398.664 372.848 393.276 380.909 Q387.929 388.93 377.761 388.93 Q367.593 388.93 362.206 380.909 Q356.859 372.848 356.859 357.576 Q356.859 342.264 362.206 334.243 Q367.593 326.182 377.761 326.182 Z\" fill=\"#ff0000\" fill-rule=\"nonzero\" fill-opacity=\"1\" /><path clip-path=\"url(#clip380)\" d=\"M430.545 332.663 Q424.225 332.663 421.025 338.901 Q417.865 345.099 417.865 357.576 Q417.865 370.012 421.025 376.251 Q424.225 382.449 430.545 382.449 Q436.904 382.449 440.064 376.251 Q443.264 370.012 443.264 357.576 Q443.264 345.099 440.064 338.901 Q436.904 332.663 430.545 332.663 M430.545 326.182 Q440.712 326.182 446.059 334.243 Q451.447 342.264 451.447 357.576 Q451.447 372.848 446.059 380.909 Q440.712 388.93 430.545 388.93 Q420.377 388.93 414.989 380.909 Q409.642 372.848 409.642 357.576 Q409.642 342.264 414.989 334.243 Q420.377 326.182 430.545 326.182 Z\" fill=\"#ff0000\" fill-rule=\"nonzero\" fill-opacity=\"1\" /><path clip-path=\"url(#clip380)\" d=\"M466.071 386.5 L466.071 379.046 Q469.15 380.504 472.309 381.274 Q475.469 382.044 478.507 382.044 Q486.609 382.044 490.862 376.615 Q495.156 371.147 495.764 360.047 Q493.415 363.531 489.809 365.394 Q486.204 367.258 481.829 367.258 Q472.755 367.258 467.448 361.789 Q462.182 356.28 462.182 346.76 Q462.182 337.443 467.691 331.812 Q473.201 326.182 482.356 326.182 Q492.847 326.182 498.357 334.243 Q503.906 342.264 503.906 357.576 Q503.906 371.876 497.101 380.423 Q490.336 388.93 478.872 388.93 Q475.793 388.93 472.633 388.323 Q469.474 387.715 466.071 386.5 M482.356 360.857 Q487.865 360.857 491.065 357.09 Q494.306 353.323 494.306 346.76 Q494.306 340.238 491.065 336.471 Q487.865 332.663 482.356 332.663 Q476.846 332.663 473.606 336.471 Q470.405 340.238 470.405 346.76 Q470.405 353.323 473.606 357.09 Q476.846 360.857 482.356 360.857 Z\" fill=\"#ff0000\" fill-rule=\"nonzero\" fill-opacity=\"1\" /><path clip-path=\"url(#clip380)\" d=\"M516.545 327.275 L555.434 327.275 L555.434 330.759 L533.478 387.755 L524.931 387.755 L545.59 334.162 L516.545 334.162 L516.545 327.275 Z\" fill=\"#ff0000\" fill-rule=\"nonzero\" fill-opacity=\"1\" /><path clip-path=\"url(#clip380)\" d=\"M2057.43 332.663 Q2051.11 332.663 2047.91 338.901 Q2044.75 345.099 2044.75 357.576 Q2044.75 370.012 2047.91 376.251 Q2051.11 382.449 2057.43 382.449 Q2063.79 382.449 2066.95 376.251 Q2070.15 370.012 2070.15 357.576 Q2070.15 345.099 2066.95 338.901 Q2063.79 332.663 2057.43 332.663 M2057.43 326.182 Q2067.6 326.182 2072.95 334.243 Q2078.34 342.264 2078.34 357.576 Q2078.34 372.848 2072.95 380.909 Q2067.6 388.93 2057.43 388.93 Q2047.26 388.93 2041.88 380.909 Q2036.53 372.848 2036.53 357.576 Q2036.53 342.264 2041.88 334.243 Q2047.26 326.182 2057.43 326.182 Z\" fill=\"#ff0000\" fill-rule=\"nonzero\" fill-opacity=\"1\" /><path clip-path=\"url(#clip380)\" d=\"M2092.72 377.466 L2101.26 377.466 L2101.26 387.755 L2092.72 387.755 L2092.72 377.466 Z\" fill=\"#ff0000\" fill-rule=\"nonzero\" fill-opacity=\"1\" /><path clip-path=\"url(#clip380)\" d=\"M2120.5 380.869 L2133.87 380.869 L2133.87 334.729 L2119.33 337.646 L2119.33 330.192 L2133.79 327.275 L2141.97 327.275 L2141.97 380.869 L2155.34 380.869 L2155.34 387.755 L2120.5 387.755 L2120.5 380.869 Z\" fill=\"#ff0000\" fill-rule=\"nonzero\" fill-opacity=\"1\" /><path clip-path=\"url(#clip380)\" d=\"M2171.95 327.275 L2204.08 327.275 L2204.08 334.162 L2179.45 334.162 L2179.45 348.988 Q2181.23 348.381 2183.01 348.097 Q2184.79 347.773 2186.58 347.773 Q2196.7 347.773 2202.62 353.323 Q2208.53 358.872 2208.53 368.352 Q2208.53 378.114 2202.45 383.542 Q2196.38 388.93 2185.32 388.93 Q2181.51 388.93 2177.54 388.282 Q2173.61 387.634 2169.4 386.338 L2169.4 378.114 Q2173.05 380.099 2176.93 381.071 Q2180.82 382.044 2185.16 382.044 Q2192.17 382.044 2196.26 378.357 Q2200.35 374.671 2200.35 368.352 Q2200.35 362.032 2196.26 358.346 Q2192.17 354.66 2185.16 354.66 Q2181.88 354.66 2178.59 355.389 Q2175.35 356.118 2171.95 357.657 L2171.95 327.275 Z\" fill=\"#ff0000\" fill-rule=\"nonzero\" fill-opacity=\"1\" /><path clip-path=\"url(#clip380)\" d=\"M2249.45 355.146 Q2255.32 356.401 2258.6 360.371 Q2261.92 364.341 2261.92 370.174 Q2261.92 379.127 2255.76 384.029 Q2249.61 388.93 2238.26 388.93 Q2234.46 388.93 2230.41 388.16 Q2226.4 387.431 2222.1 385.932 L2222.1 378.033 Q2225.5 380.018 2229.56 381.031 Q2233.61 382.044 2238.02 382.044 Q2245.72 382.044 2249.73 379.005 Q2253.78 375.967 2253.78 370.174 Q2253.78 364.827 2250.01 361.83 Q2246.29 358.791 2239.6 358.791 L2232.55 358.791 L2232.55 352.067 L2239.93 352.067 Q2245.96 352.067 2249.16 349.677 Q2252.36 347.246 2252.36 342.709 Q2252.36 338.051 2249.04 335.58 Q2245.76 333.068 2239.6 333.068 Q2236.24 333.068 2232.39 333.797 Q2228.54 334.527 2223.92 336.066 L2223.92 328.774 Q2228.58 327.478 2232.63 326.83 Q2236.73 326.182 2240.33 326.182 Q2249.65 326.182 2255.08 330.435 Q2260.5 334.648 2260.5 341.859 Q2260.5 346.882 2257.63 350.366 Q2254.75 353.809 2249.45 355.146 Z\" fill=\"#ff0000\" fill-rule=\"nonzero\" fill-opacity=\"1\" /><path clip-path=\"url(#clip380)\" d=\"M2277.52 327.275 L2309.64 327.275 L2309.64 334.162 L2285.01 334.162 L2285.01 348.988 Q2286.79 348.381 2288.58 348.097 Q2290.36 347.773 2292.14 347.773 Q2302.27 347.773 2308.18 353.323 Q2314.1 358.872 2314.1 368.352 Q2314.1 378.114 2308.02 383.542 Q2301.94 388.93 2290.89 388.93 Q2287.08 388.93 2283.11 388.282 Q2279.18 387.634 2274.97 386.338 L2274.97 378.114 Q2278.61 380.099 2282.5 381.071 Q2286.39 382.044 2290.72 382.044 Q2297.73 382.044 2301.82 378.357 Q2305.91 374.671 2305.91 368.352 Q2305.91 362.032 2301.82 358.346 Q2297.73 354.66 2290.72 354.66 Q2287.44 354.66 2284.16 355.389 Q2280.92 356.118 2277.52 357.657 L2277.52 327.275 Z\" fill=\"#ff0000\" fill-rule=\"nonzero\" fill-opacity=\"1\" /></svg>\n"
      ],
      "text/html": [
       "<?xml version=\"1.0\" encoding=\"utf-8\"?>\n",
       "<svg xmlns=\"http://www.w3.org/2000/svg\" xmlns:xlink=\"http://www.w3.org/1999/xlink\" width=\"600\" height=\"120\" viewBox=\"0 0 2400 480\">\n",
       "<defs>\n",
       "  <clipPath id=\"clip430\">\n",
       "    <rect x=\"0\" y=\"0\" width=\"2400\" height=\"480\"/>\n",
       "  </clipPath>\n",
       "</defs>\n",
       "<path clip-path=\"url(#clip430)\" d=\"M0 480 L2400 480 L2400 0 L0 0  Z\" fill=\"#ffffff\" fill-rule=\"evenodd\" fill-opacity=\"1\"/>\n",
       "<defs>\n",
       "  <clipPath id=\"clip431\">\n",
       "    <rect x=\"480\" y=\"0\" width=\"1681\" height=\"480\"/>\n",
       "  </clipPath>\n",
       "</defs>\n",
       "<path clip-path=\"url(#clip430)\" d=\"M223.45 401.84 L2352.76 401.84 L2352.76 47.2441 L223.45 47.2441  Z\" fill=\"#ffffff\" fill-rule=\"evenodd\" fill-opacity=\"1\"/>\n",
       "<defs>\n",
       "  <clipPath id=\"clip432\">\n",
       "    <rect x=\"223\" y=\"47\" width=\"2130\" height=\"356\"/>\n",
       "  </clipPath>\n",
       "</defs>\n",
       "<polyline clip-path=\"url(#clip432)\" style=\"stroke:#000000; stroke-linecap:round; stroke-linejoin:round; stroke-width:2; stroke-opacity:0.1; fill:none\" points=\"506.801,401.84 506.801,47.2441 \"/>\n",
       "<polyline clip-path=\"url(#clip432)\" style=\"stroke:#000000; stroke-linecap:round; stroke-linejoin:round; stroke-width:2; stroke-opacity:0.1; fill:none\" points=\"1050.23,401.84 1050.23,47.2441 \"/>\n",
       "<polyline clip-path=\"url(#clip432)\" style=\"stroke:#000000; stroke-linecap:round; stroke-linejoin:round; stroke-width:2; stroke-opacity:0.1; fill:none\" points=\"1593.66,401.84 1593.66,47.2441 \"/>\n",
       "<polyline clip-path=\"url(#clip432)\" style=\"stroke:#000000; stroke-linecap:round; stroke-linejoin:round; stroke-width:2; stroke-opacity:0.1; fill:none\" points=\"2137.1,401.84 2137.1,47.2441 \"/>\n",
       "<polyline clip-path=\"url(#clip430)\" style=\"stroke:#000000; stroke-linecap:round; stroke-linejoin:round; stroke-width:4; stroke-opacity:1; fill:none\" points=\"223.45,401.84 2352.76,401.84 \"/>\n",
       "<polyline clip-path=\"url(#clip430)\" style=\"stroke:#000000; stroke-linecap:round; stroke-linejoin:round; stroke-width:4; stroke-opacity:1; fill:none\" points=\"506.801,401.84 506.801,382.942 \"/>\n",
       "<polyline clip-path=\"url(#clip430)\" style=\"stroke:#000000; stroke-linecap:round; stroke-linejoin:round; stroke-width:4; stroke-opacity:1; fill:none\" points=\"1050.23,401.84 1050.23,382.942 \"/>\n",
       "<polyline clip-path=\"url(#clip430)\" style=\"stroke:#000000; stroke-linecap:round; stroke-linejoin:round; stroke-width:4; stroke-opacity:1; fill:none\" points=\"1593.66,401.84 1593.66,382.942 \"/>\n",
       "<polyline clip-path=\"url(#clip430)\" style=\"stroke:#000000; stroke-linecap:round; stroke-linejoin:round; stroke-width:4; stroke-opacity:1; fill:none\" points=\"2137.1,401.84 2137.1,382.942 \"/>\n",
       "<path clip-path=\"url(#clip430)\" d=\"M469.105 432.759 Q465.493 432.759 463.665 436.323 Q461.859 439.865 461.859 446.995 Q461.859 454.101 463.665 457.666 Q465.493 461.207 469.105 461.207 Q472.739 461.207 474.544 457.666 Q476.373 454.101 476.373 446.995 Q476.373 439.865 474.544 436.323 Q472.739 432.759 469.105 432.759 M469.105 429.055 Q474.915 429.055 477.97 433.661 Q481.049 438.245 481.049 446.995 Q481.049 455.721 477.97 460.328 Q474.915 464.911 469.105 464.911 Q463.294 464.911 460.216 460.328 Q457.16 455.721 457.16 446.995 Q457.16 438.245 460.216 433.661 Q463.294 429.055 469.105 429.055 Z\" fill=\"#000000\" fill-rule=\"nonzero\" fill-opacity=\"1\" /><path clip-path=\"url(#clip430)\" d=\"M489.266 458.36 L494.151 458.36 L494.151 464.24 L489.266 464.24 L489.266 458.36 Z\" fill=\"#000000\" fill-rule=\"nonzero\" fill-opacity=\"1\" /><path clip-path=\"url(#clip430)\" d=\"M514.336 432.759 Q510.725 432.759 508.896 436.323 Q507.09 439.865 507.09 446.995 Q507.09 454.101 508.896 457.666 Q510.725 461.207 514.336 461.207 Q517.97 461.207 519.776 457.666 Q521.604 454.101 521.604 446.995 Q521.604 439.865 519.776 436.323 Q517.97 432.759 514.336 432.759 M514.336 429.055 Q520.146 429.055 523.201 433.661 Q526.28 438.245 526.28 446.995 Q526.28 455.721 523.201 460.328 Q520.146 464.911 514.336 464.911 Q508.526 464.911 505.447 460.328 Q502.391 455.721 502.391 446.995 Q502.391 438.245 505.447 433.661 Q508.526 429.055 514.336 429.055 Z\" fill=\"#000000\" fill-rule=\"nonzero\" fill-opacity=\"1\" /><path clip-path=\"url(#clip430)\" d=\"M544.498 432.759 Q540.887 432.759 539.058 436.323 Q537.252 439.865 537.252 446.995 Q537.252 454.101 539.058 457.666 Q540.887 461.207 544.498 461.207 Q548.132 461.207 549.937 457.666 Q551.766 454.101 551.766 446.995 Q551.766 439.865 549.937 436.323 Q548.132 432.759 544.498 432.759 M544.498 429.055 Q550.308 429.055 553.363 433.661 Q556.442 438.245 556.442 446.995 Q556.442 455.721 553.363 460.328 Q550.308 464.911 544.498 464.911 Q538.687 464.911 535.609 460.328 Q532.553 455.721 532.553 446.995 Q532.553 438.245 535.609 433.661 Q538.687 429.055 544.498 429.055 Z\" fill=\"#000000\" fill-rule=\"nonzero\" fill-opacity=\"1\" /><path clip-path=\"url(#clip430)\" d=\"M1013.03 432.759 Q1009.42 432.759 1007.59 436.323 Q1005.79 439.865 1005.79 446.995 Q1005.79 454.101 1007.59 457.666 Q1009.42 461.207 1013.03 461.207 Q1016.67 461.207 1018.47 457.666 Q1020.3 454.101 1020.3 446.995 Q1020.3 439.865 1018.47 436.323 Q1016.67 432.759 1013.03 432.759 M1013.03 429.055 Q1018.84 429.055 1021.9 433.661 Q1024.98 438.245 1024.98 446.995 Q1024.98 455.721 1021.9 460.328 Q1018.84 464.911 1013.03 464.911 Q1007.22 464.911 1004.15 460.328 Q1001.09 455.721 1001.09 446.995 Q1001.09 438.245 1004.15 433.661 Q1007.22 429.055 1013.03 429.055 Z\" fill=\"#000000\" fill-rule=\"nonzero\" fill-opacity=\"1\" /><path clip-path=\"url(#clip430)\" d=\"M1033.2 458.36 L1038.08 458.36 L1038.08 464.24 L1033.2 464.24 L1033.2 458.36 Z\" fill=\"#000000\" fill-rule=\"nonzero\" fill-opacity=\"1\" /><path clip-path=\"url(#clip430)\" d=\"M1058.27 432.759 Q1054.65 432.759 1052.83 436.323 Q1051.02 439.865 1051.02 446.995 Q1051.02 454.101 1052.83 457.666 Q1054.65 461.207 1058.27 461.207 Q1061.9 461.207 1063.71 457.666 Q1065.53 454.101 1065.53 446.995 Q1065.53 439.865 1063.71 436.323 Q1061.9 432.759 1058.27 432.759 M1058.27 429.055 Q1064.08 429.055 1067.13 433.661 Q1070.21 438.245 1070.21 446.995 Q1070.21 455.721 1067.13 460.328 Q1064.08 464.911 1058.27 464.911 Q1052.46 464.911 1049.38 460.328 Q1046.32 455.721 1046.32 446.995 Q1046.32 438.245 1049.38 433.661 Q1052.46 429.055 1058.27 429.055 Z\" fill=\"#000000\" fill-rule=\"nonzero\" fill-opacity=\"1\" /><path clip-path=\"url(#clip430)\" d=\"M1078.47 429.68 L1096.83 429.68 L1096.83 433.615 L1082.76 433.615 L1082.76 442.087 Q1083.77 441.74 1084.79 441.578 Q1085.81 441.393 1086.83 441.393 Q1092.62 441.393 1096 444.564 Q1099.38 447.735 1099.38 453.152 Q1099.38 458.731 1095.9 461.832 Q1092.43 464.911 1086.11 464.911 Q1083.94 464.911 1081.67 464.541 Q1079.42 464.17 1077.02 463.43 L1077.02 458.731 Q1079.1 459.865 1081.32 460.42 Q1083.54 460.976 1086.02 460.976 Q1090.02 460.976 1092.36 458.87 Q1094.7 456.763 1094.7 453.152 Q1094.7 449.541 1092.36 447.434 Q1090.02 445.328 1086.02 445.328 Q1084.14 445.328 1082.27 445.745 Q1080.42 446.161 1078.47 447.041 L1078.47 429.68 Z\" fill=\"#000000\" fill-rule=\"nonzero\" fill-opacity=\"1\" /><path clip-path=\"url(#clip430)\" d=\"M1555.97 432.759 Q1552.36 432.759 1550.53 436.323 Q1548.72 439.865 1548.72 446.995 Q1548.72 454.101 1550.53 457.666 Q1552.36 461.207 1555.97 461.207 Q1559.6 461.207 1561.41 457.666 Q1563.24 454.101 1563.24 446.995 Q1563.24 439.865 1561.41 436.323 Q1559.6 432.759 1555.97 432.759 M1555.97 429.055 Q1561.78 429.055 1564.83 433.661 Q1567.91 438.245 1567.91 446.995 Q1567.91 455.721 1564.83 460.328 Q1561.78 464.911 1555.97 464.911 Q1550.16 464.911 1547.08 460.328 Q1544.02 455.721 1544.02 446.995 Q1544.02 438.245 1547.08 433.661 Q1550.16 429.055 1555.97 429.055 Z\" fill=\"#000000\" fill-rule=\"nonzero\" fill-opacity=\"1\" /><path clip-path=\"url(#clip430)\" d=\"M1576.13 458.36 L1581.01 458.36 L1581.01 464.24 L1576.13 464.24 L1576.13 458.36 Z\" fill=\"#000000\" fill-rule=\"nonzero\" fill-opacity=\"1\" /><path clip-path=\"url(#clip430)\" d=\"M1592.01 460.305 L1599.65 460.305 L1599.65 433.939 L1591.34 435.606 L1591.34 431.347 L1599.6 429.68 L1604.28 429.68 L1604.28 460.305 L1611.92 460.305 L1611.92 464.24 L1592.01 464.24 L1592.01 460.305 Z\" fill=\"#000000\" fill-rule=\"nonzero\" fill-opacity=\"1\" /><path clip-path=\"url(#clip430)\" d=\"M1631.36 432.759 Q1627.75 432.759 1625.92 436.323 Q1624.12 439.865 1624.12 446.995 Q1624.12 454.101 1625.92 457.666 Q1627.75 461.207 1631.36 461.207 Q1635 461.207 1636.8 457.666 Q1638.63 454.101 1638.63 446.995 Q1638.63 439.865 1636.8 436.323 Q1635 432.759 1631.36 432.759 M1631.36 429.055 Q1637.17 429.055 1640.23 433.661 Q1643.31 438.245 1643.31 446.995 Q1643.31 455.721 1640.23 460.328 Q1637.17 464.911 1631.36 464.911 Q1625.55 464.911 1622.47 460.328 Q1619.42 455.721 1619.42 446.995 Q1619.42 438.245 1622.47 433.661 Q1625.55 429.055 1631.36 429.055 Z\" fill=\"#000000\" fill-rule=\"nonzero\" fill-opacity=\"1\" /><path clip-path=\"url(#clip430)\" d=\"M2099.9 432.759 Q2096.29 432.759 2094.46 436.323 Q2092.65 439.865 2092.65 446.995 Q2092.65 454.101 2094.46 457.666 Q2096.29 461.207 2099.9 461.207 Q2103.53 461.207 2105.34 457.666 Q2107.17 454.101 2107.17 446.995 Q2107.17 439.865 2105.34 436.323 Q2103.53 432.759 2099.9 432.759 M2099.9 429.055 Q2105.71 429.055 2108.76 433.661 Q2111.84 438.245 2111.84 446.995 Q2111.84 455.721 2108.76 460.328 Q2105.71 464.911 2099.9 464.911 Q2094.09 464.911 2091.01 460.328 Q2087.95 455.721 2087.95 446.995 Q2087.95 438.245 2091.01 433.661 Q2094.09 429.055 2099.9 429.055 Z\" fill=\"#000000\" fill-rule=\"nonzero\" fill-opacity=\"1\" /><path clip-path=\"url(#clip430)\" d=\"M2120.06 458.36 L2124.94 458.36 L2124.94 464.24 L2120.06 464.24 L2120.06 458.36 Z\" fill=\"#000000\" fill-rule=\"nonzero\" fill-opacity=\"1\" /><path clip-path=\"url(#clip430)\" d=\"M2135.94 460.305 L2143.58 460.305 L2143.58 433.939 L2135.27 435.606 L2135.27 431.347 L2143.53 429.68 L2148.21 429.68 L2148.21 460.305 L2155.85 460.305 L2155.85 464.24 L2135.94 464.24 L2135.94 460.305 Z\" fill=\"#000000\" fill-rule=\"nonzero\" fill-opacity=\"1\" /><path clip-path=\"url(#clip430)\" d=\"M2165.34 429.68 L2183.69 429.68 L2183.69 433.615 L2169.62 433.615 L2169.62 442.087 Q2170.64 441.74 2171.66 441.578 Q2172.68 441.393 2173.69 441.393 Q2179.48 441.393 2182.86 444.564 Q2186.24 447.735 2186.24 453.152 Q2186.24 458.731 2182.77 461.832 Q2179.3 464.911 2172.98 464.911 Q2170.8 464.911 2168.53 464.541 Q2166.29 464.17 2163.88 463.43 L2163.88 458.731 Q2165.96 459.865 2168.18 460.42 Q2170.41 460.976 2172.88 460.976 Q2176.89 460.976 2179.23 458.87 Q2181.56 456.763 2181.56 453.152 Q2181.56 449.541 2179.23 447.434 Q2176.89 445.328 2172.88 445.328 Q2171.01 445.328 2169.13 445.745 Q2167.28 446.161 2165.34 447.041 L2165.34 429.68 Z\" fill=\"#000000\" fill-rule=\"nonzero\" fill-opacity=\"1\" /><polyline clip-path=\"url(#clip432)\" style=\"stroke:#000000; stroke-linecap:round; stroke-linejoin:round; stroke-width:2; stroke-opacity:0.1; fill:none\" points=\"223.45,357.515 2352.76,357.515 \"/>\n",
       "<polyline clip-path=\"url(#clip432)\" style=\"stroke:#000000; stroke-linecap:round; stroke-linejoin:round; stroke-width:2; stroke-opacity:0.1; fill:none\" points=\"223.45,313.191 2352.76,313.191 \"/>\n",
       "<polyline clip-path=\"url(#clip432)\" style=\"stroke:#000000; stroke-linecap:round; stroke-linejoin:round; stroke-width:2; stroke-opacity:0.1; fill:none\" points=\"223.45,268.866 2352.76,268.866 \"/>\n",
       "<polyline clip-path=\"url(#clip432)\" style=\"stroke:#000000; stroke-linecap:round; stroke-linejoin:round; stroke-width:2; stroke-opacity:0.1; fill:none\" points=\"223.45,224.542 2352.76,224.542 \"/>\n",
       "<polyline clip-path=\"url(#clip432)\" style=\"stroke:#000000; stroke-linecap:round; stroke-linejoin:round; stroke-width:2; stroke-opacity:0.1; fill:none\" points=\"223.45,180.218 2352.76,180.218 \"/>\n",
       "<polyline clip-path=\"url(#clip432)\" style=\"stroke:#000000; stroke-linecap:round; stroke-linejoin:round; stroke-width:2; stroke-opacity:0.1; fill:none\" points=\"223.45,135.893 2352.76,135.893 \"/>\n",
       "<polyline clip-path=\"url(#clip432)\" style=\"stroke:#000000; stroke-linecap:round; stroke-linejoin:round; stroke-width:2; stroke-opacity:0.1; fill:none\" points=\"223.45,91.5686 2352.76,91.5686 \"/>\n",
       "<line clip-path=\"url(#clip432)\" x1=\"400.892\" y1=\"308.866\" x2=\"400.892\" y2=\"228.866\" style=\"stroke:#ff0000; stroke-width:3.84; stroke-opacity:1\"/>\n",
       "<line clip-path=\"url(#clip432)\" x1=\"453.677\" y1=\"220.218\" x2=\"453.677\" y2=\"140.218\" style=\"stroke:#0000ff; stroke-width:3.84; stroke-opacity:1\"/>\n",
       "<line clip-path=\"url(#clip432)\" x1=\"2122.53\" y1=\"220.218\" x2=\"2122.53\" y2=\"140.218\" style=\"stroke:#0000ff; stroke-width:3.84; stroke-opacity:1\"/>\n",
       "<line clip-path=\"url(#clip432)\" x1=\"2175.31\" y1=\"308.866\" x2=\"2175.31\" y2=\"228.866\" style=\"stroke:#ff0000; stroke-width:3.84; stroke-opacity:1\"/>\n",
       "<polyline clip-path=\"url(#clip432)\" style=\"stroke:#0000ff; stroke-linecap:round; stroke-linejoin:round; stroke-width:4; stroke-opacity:1; fill:none\" points=\"453.677,180.218 2122.53,180.218 \"/>\n",
       "<polyline clip-path=\"url(#clip432)\" style=\"stroke:#ff0000; stroke-linecap:round; stroke-linejoin:round; stroke-width:4; stroke-opacity:1; fill:none\" points=\"400.892,268.866 2175.31,268.866 \"/>\n",
       "<path clip-path=\"url(#clip430)\" d=\"M298.507 95.7613 L320.341 95.7613 L320.341 102.405 L298.507 102.405 L298.507 95.7613 Z\" fill=\"#0000ff\" fill-rule=\"nonzero\" fill-opacity=\"1\" /><path clip-path=\"url(#clip430)\" d=\"M350.763 66.7163 Q344.444 66.7163 341.244 72.9547 Q338.084 79.1525 338.084 91.6293 Q338.084 104.066 341.244 110.304 Q344.444 116.502 350.763 116.502 Q357.123 116.502 360.283 110.304 Q363.483 104.066 363.483 91.6293 Q363.483 79.1525 360.283 72.9547 Q357.123 66.7163 350.763 66.7163 M350.763 60.2348 Q360.931 60.2348 366.278 68.2961 Q371.666 76.3169 371.666 91.6293 Q371.666 106.901 366.278 114.963 Q360.931 122.983 350.763 122.983 Q340.596 122.983 335.208 114.963 Q329.861 106.901 329.861 91.6293 Q329.861 76.3169 335.208 68.2961 Q340.596 60.2348 350.763 60.2348 Z\" fill=\"#0000ff\" fill-rule=\"nonzero\" fill-opacity=\"1\" /><path clip-path=\"url(#clip430)\" d=\"M386.047 111.519 L394.594 111.519 L394.594 121.809 L386.047 121.809 L386.047 111.519 Z\" fill=\"#0000ff\" fill-rule=\"nonzero\" fill-opacity=\"1\" /><path clip-path=\"url(#clip430)\" d=\"M429.918 66.7163 Q423.599 66.7163 420.399 72.9547 Q417.239 79.1525 417.239 91.6293 Q417.239 104.066 420.399 110.304 Q423.599 116.502 429.918 116.502 Q436.278 116.502 439.438 110.304 Q442.638 104.066 442.638 91.6293 Q442.638 79.1525 439.438 72.9547 Q436.278 66.7163 429.918 66.7163 M429.918 60.2348 Q440.086 60.2348 445.433 68.2961 Q450.821 76.3169 450.821 91.6293 Q450.821 106.901 445.433 114.963 Q440.086 122.983 429.918 122.983 Q419.75 122.983 414.363 114.963 Q409.015 106.901 409.015 91.6293 Q409.015 76.3169 414.363 68.2961 Q419.75 60.2348 429.918 60.2348 Z\" fill=\"#0000ff\" fill-rule=\"nonzero\" fill-opacity=\"1\" /><path clip-path=\"url(#clip430)\" d=\"M482.701 66.7163 Q476.382 66.7163 473.182 72.9547 Q470.022 79.1525 470.022 91.6293 Q470.022 104.066 473.182 110.304 Q476.382 116.502 482.701 116.502 Q489.061 116.502 492.221 110.304 Q495.421 104.066 495.421 91.6293 Q495.421 79.1525 492.221 72.9547 Q489.061 66.7163 482.701 66.7163 M482.701 60.2348 Q492.869 60.2348 498.216 68.2961 Q503.604 76.3169 503.604 91.6293 Q503.604 106.901 498.216 114.963 Q492.869 122.983 482.701 122.983 Q472.534 122.983 467.146 114.963 Q461.799 106.901 461.799 91.6293 Q461.799 76.3169 467.146 68.2961 Q472.534 60.2348 482.701 60.2348 Z\" fill=\"#0000ff\" fill-rule=\"nonzero\" fill-opacity=\"1\" /><path clip-path=\"url(#clip430)\" d=\"M540.467 68.4582 L519.808 100.744 L540.467 100.744 L540.467 68.4582 M538.32 61.3286 L548.61 61.3286 L548.61 100.744 L557.238 100.744 L557.238 107.549 L548.61 107.549 L548.61 121.809 L540.467 121.809 L540.467 107.549 L513.164 107.549 L513.164 99.6501 L538.32 61.3286 Z\" fill=\"#0000ff\" fill-rule=\"nonzero\" fill-opacity=\"1\" /><path clip-path=\"url(#clip430)\" d=\"M571.011 120.553 L571.011 113.099 Q574.09 114.557 577.25 115.327 Q580.409 116.097 583.447 116.097 Q591.549 116.097 595.803 110.669 Q600.097 105.2 600.704 94.1004 Q598.355 97.5842 594.749 99.4476 Q591.144 101.311 586.769 101.311 Q577.695 101.311 572.388 95.8423 Q567.122 90.333 567.122 80.8134 Q567.122 71.4963 572.631 65.8656 Q578.141 60.2348 587.296 60.2348 Q597.788 60.2348 603.297 68.2961 Q608.847 76.3169 608.847 91.6293 Q608.847 105.929 602.041 114.476 Q595.276 122.983 583.812 122.983 Q580.733 122.983 577.574 122.376 Q574.414 121.768 571.011 120.553 M587.296 94.9106 Q592.805 94.9106 596.005 91.1432 Q599.246 87.3759 599.246 80.8134 Q599.246 74.2915 596.005 70.5241 Q592.805 66.7163 587.296 66.7163 Q581.787 66.7163 578.546 70.5241 Q575.346 74.2915 575.346 80.8134 Q575.346 87.3759 578.546 91.1432 Q581.787 94.9106 587.296 94.9106 Z\" fill=\"#0000ff\" fill-rule=\"nonzero\" fill-opacity=\"1\" /><path clip-path=\"url(#clip430)\" d=\"M2004.57 66.7163 Q1998.25 66.7163 1995.05 72.9547 Q1991.89 79.1525 1991.89 91.6293 Q1991.89 104.066 1995.05 110.304 Q1998.25 116.502 2004.57 116.502 Q2010.93 116.502 2014.09 110.304 Q2017.29 104.066 2017.29 91.6293 Q2017.29 79.1525 2014.09 72.9547 Q2010.93 66.7163 2004.57 66.7163 M2004.57 60.2348 Q2014.73 60.2348 2020.08 68.2961 Q2025.47 76.3169 2025.47 91.6293 Q2025.47 106.901 2020.08 114.963 Q2014.73 122.983 2004.57 122.983 Q1994.4 122.983 1989.01 114.963 Q1983.66 106.901 1983.66 91.6293 Q1983.66 76.3169 1989.01 68.2961 Q1994.4 60.2348 2004.57 60.2348 Z\" fill=\"#0000ff\" fill-rule=\"nonzero\" fill-opacity=\"1\" /><path clip-path=\"url(#clip430)\" d=\"M2039.85 111.519 L2048.4 111.519 L2048.4 121.809 L2039.85 121.809 L2039.85 111.519 Z\" fill=\"#0000ff\" fill-rule=\"nonzero\" fill-opacity=\"1\" /><path clip-path=\"url(#clip430)\" d=\"M2067.64 114.922 L2081.01 114.922 L2081.01 68.7822 L2066.46 71.6989 L2066.46 64.2452 L2080.93 61.3286 L2089.11 61.3286 L2089.11 114.922 L2102.48 114.922 L2102.48 121.809 L2067.64 121.809 L2067.64 114.922 Z\" fill=\"#0000ff\" fill-rule=\"nonzero\" fill-opacity=\"1\" /><path clip-path=\"url(#clip430)\" d=\"M2141.49 68.4582 L2120.83 100.744 L2141.49 100.744 L2141.49 68.4582 M2139.34 61.3286 L2149.63 61.3286 L2149.63 100.744 L2158.26 100.744 L2158.26 107.549 L2149.63 107.549 L2149.63 121.809 L2141.49 121.809 L2141.49 107.549 L2114.18 107.549 L2114.18 99.6501 L2139.34 61.3286 Z\" fill=\"#0000ff\" fill-rule=\"nonzero\" fill-opacity=\"1\" /><path clip-path=\"url(#clip430)\" d=\"M2189.29 93.0877 Q2183.45 93.0877 2180.09 96.2069 Q2176.77 99.326 2176.77 104.795 Q2176.77 110.263 2180.09 113.383 Q2183.45 116.502 2189.29 116.502 Q2195.12 116.502 2198.48 113.383 Q2201.85 110.223 2201.85 104.795 Q2201.85 99.326 2198.48 96.2069 Q2195.16 93.0877 2189.29 93.0877 M2181.11 89.6039 Q2175.84 88.3076 2172.88 84.7023 Q2169.97 81.097 2169.97 75.9118 Q2169.97 68.6607 2175.11 64.4478 Q2180.29 60.2348 2189.29 60.2348 Q2198.32 60.2348 2203.47 64.4478 Q2208.61 68.6607 2208.61 75.9118 Q2208.61 81.097 2205.65 84.7023 Q2202.74 88.3076 2197.51 89.6039 Q2203.43 90.9812 2206.71 94.9916 Q2210.03 99.002 2210.03 104.795 Q2210.03 113.585 2204.64 118.284 Q2199.29 122.983 2189.29 122.983 Q2179.28 122.983 2173.89 118.284 Q2168.55 113.585 2168.55 104.795 Q2168.55 99.002 2171.87 94.9916 Q2175.19 90.9812 2181.11 89.6039 M2178.11 76.6815 Q2178.11 81.3805 2181.02 84.0136 Q2183.98 86.6467 2189.29 86.6467 Q2194.55 86.6467 2197.51 84.0136 Q2200.51 81.3805 2200.51 76.6815 Q2200.51 71.9824 2197.51 69.3494 Q2194.55 66.7163 2189.29 66.7163 Q2183.98 66.7163 2181.02 69.3494 Q2178.11 71.9824 2178.11 76.6815 Z\" fill=\"#0000ff\" fill-rule=\"nonzero\" fill-opacity=\"1\" /><path clip-path=\"url(#clip430)\" d=\"M2222.51 61.3286 L2261.39 61.3286 L2261.39 64.8123 L2239.44 121.809 L2230.89 121.809 L2251.55 68.2151 L2222.51 68.2151 L2222.51 61.3286 Z\" fill=\"#0000ff\" fill-rule=\"nonzero\" fill-opacity=\"1\" /><path clip-path=\"url(#clip430)\" d=\"M246.35 361.708 L268.184 361.708 L268.184 368.352 L246.35 368.352 L246.35 361.708 Z\" fill=\"#ff0000\" fill-rule=\"nonzero\" fill-opacity=\"1\" /><path clip-path=\"url(#clip430)\" d=\"M298.607 332.663 Q292.287 332.663 289.087 338.901 Q285.927 345.099 285.927 357.576 Q285.927 370.012 289.087 376.251 Q292.287 382.449 298.607 382.449 Q304.966 382.449 308.126 376.251 Q311.326 370.012 311.326 357.576 Q311.326 345.099 308.126 338.901 Q304.966 332.663 298.607 332.663 M298.607 326.182 Q308.774 326.182 314.122 334.243 Q319.509 342.264 319.509 357.576 Q319.509 372.848 314.122 380.909 Q308.774 388.93 298.607 388.93 Q288.439 388.93 283.051 380.909 Q277.704 372.848 277.704 357.576 Q277.704 342.264 283.051 334.243 Q288.439 326.182 298.607 326.182 Z\" fill=\"#ff0000\" fill-rule=\"nonzero\" fill-opacity=\"1\" /><path clip-path=\"url(#clip430)\" d=\"M333.89 377.466 L342.437 377.466 L342.437 387.755 L333.89 387.755 L333.89 377.466 Z\" fill=\"#ff0000\" fill-rule=\"nonzero\" fill-opacity=\"1\" /><path clip-path=\"url(#clip430)\" d=\"M377.761 332.663 Q371.442 332.663 368.242 338.901 Q365.082 345.099 365.082 357.576 Q365.082 370.012 368.242 376.251 Q371.442 382.449 377.761 382.449 Q384.121 382.449 387.281 376.251 Q390.481 370.012 390.481 357.576 Q390.481 345.099 387.281 338.901 Q384.121 332.663 377.761 332.663 M377.761 326.182 Q387.929 326.182 393.276 334.243 Q398.664 342.264 398.664 357.576 Q398.664 372.848 393.276 380.909 Q387.929 388.93 377.761 388.93 Q367.593 388.93 362.206 380.909 Q356.859 372.848 356.859 357.576 Q356.859 342.264 362.206 334.243 Q367.593 326.182 377.761 326.182 Z\" fill=\"#ff0000\" fill-rule=\"nonzero\" fill-opacity=\"1\" /><path clip-path=\"url(#clip430)\" d=\"M430.545 332.663 Q424.225 332.663 421.025 338.901 Q417.865 345.099 417.865 357.576 Q417.865 370.012 421.025 376.251 Q424.225 382.449 430.545 382.449 Q436.904 382.449 440.064 376.251 Q443.264 370.012 443.264 357.576 Q443.264 345.099 440.064 338.901 Q436.904 332.663 430.545 332.663 M430.545 326.182 Q440.712 326.182 446.059 334.243 Q451.447 342.264 451.447 357.576 Q451.447 372.848 446.059 380.909 Q440.712 388.93 430.545 388.93 Q420.377 388.93 414.989 380.909 Q409.642 372.848 409.642 357.576 Q409.642 342.264 414.989 334.243 Q420.377 326.182 430.545 326.182 Z\" fill=\"#ff0000\" fill-rule=\"nonzero\" fill-opacity=\"1\" /><path clip-path=\"url(#clip430)\" d=\"M466.071 386.5 L466.071 379.046 Q469.15 380.504 472.309 381.274 Q475.469 382.044 478.507 382.044 Q486.609 382.044 490.862 376.615 Q495.156 371.147 495.764 360.047 Q493.415 363.531 489.809 365.394 Q486.204 367.258 481.829 367.258 Q472.755 367.258 467.448 361.789 Q462.182 356.28 462.182 346.76 Q462.182 337.443 467.691 331.812 Q473.201 326.182 482.356 326.182 Q492.847 326.182 498.357 334.243 Q503.906 342.264 503.906 357.576 Q503.906 371.876 497.101 380.423 Q490.336 388.93 478.872 388.93 Q475.793 388.93 472.633 388.323 Q469.474 387.715 466.071 386.5 M482.356 360.857 Q487.865 360.857 491.065 357.09 Q494.306 353.323 494.306 346.76 Q494.306 340.238 491.065 336.471 Q487.865 332.663 482.356 332.663 Q476.846 332.663 473.606 336.471 Q470.405 340.238 470.405 346.76 Q470.405 353.323 473.606 357.09 Q476.846 360.857 482.356 360.857 Z\" fill=\"#ff0000\" fill-rule=\"nonzero\" fill-opacity=\"1\" /><path clip-path=\"url(#clip430)\" d=\"M516.545 327.275 L555.434 327.275 L555.434 330.759 L533.478 387.755 L524.931 387.755 L545.59 334.162 L516.545 334.162 L516.545 327.275 Z\" fill=\"#ff0000\" fill-rule=\"nonzero\" fill-opacity=\"1\" /><path clip-path=\"url(#clip430)\" d=\"M2057.43 332.663 Q2051.11 332.663 2047.91 338.901 Q2044.75 345.099 2044.75 357.576 Q2044.75 370.012 2047.91 376.251 Q2051.11 382.449 2057.43 382.449 Q2063.79 382.449 2066.95 376.251 Q2070.15 370.012 2070.15 357.576 Q2070.15 345.099 2066.95 338.901 Q2063.79 332.663 2057.43 332.663 M2057.43 326.182 Q2067.6 326.182 2072.95 334.243 Q2078.34 342.264 2078.34 357.576 Q2078.34 372.848 2072.95 380.909 Q2067.6 388.93 2057.43 388.93 Q2047.26 388.93 2041.88 380.909 Q2036.53 372.848 2036.53 357.576 Q2036.53 342.264 2041.88 334.243 Q2047.26 326.182 2057.43 326.182 Z\" fill=\"#ff0000\" fill-rule=\"nonzero\" fill-opacity=\"1\" /><path clip-path=\"url(#clip430)\" d=\"M2092.72 377.466 L2101.26 377.466 L2101.26 387.755 L2092.72 387.755 L2092.72 377.466 Z\" fill=\"#ff0000\" fill-rule=\"nonzero\" fill-opacity=\"1\" /><path clip-path=\"url(#clip430)\" d=\"M2120.5 380.869 L2133.87 380.869 L2133.87 334.729 L2119.33 337.646 L2119.33 330.192 L2133.79 327.275 L2141.97 327.275 L2141.97 380.869 L2155.34 380.869 L2155.34 387.755 L2120.5 387.755 L2120.5 380.869 Z\" fill=\"#ff0000\" fill-rule=\"nonzero\" fill-opacity=\"1\" /><path clip-path=\"url(#clip430)\" d=\"M2171.95 327.275 L2204.08 327.275 L2204.08 334.162 L2179.45 334.162 L2179.45 348.988 Q2181.23 348.381 2183.01 348.097 Q2184.79 347.773 2186.58 347.773 Q2196.7 347.773 2202.62 353.323 Q2208.53 358.872 2208.53 368.352 Q2208.53 378.114 2202.45 383.542 Q2196.38 388.93 2185.32 388.93 Q2181.51 388.93 2177.54 388.282 Q2173.61 387.634 2169.4 386.338 L2169.4 378.114 Q2173.05 380.099 2176.93 381.071 Q2180.82 382.044 2185.16 382.044 Q2192.17 382.044 2196.26 378.357 Q2200.35 374.671 2200.35 368.352 Q2200.35 362.032 2196.26 358.346 Q2192.17 354.66 2185.16 354.66 Q2181.88 354.66 2178.59 355.389 Q2175.35 356.118 2171.95 357.657 L2171.95 327.275 Z\" fill=\"#ff0000\" fill-rule=\"nonzero\" fill-opacity=\"1\" /><path clip-path=\"url(#clip430)\" d=\"M2249.45 355.146 Q2255.32 356.401 2258.6 360.371 Q2261.92 364.341 2261.92 370.174 Q2261.92 379.127 2255.76 384.029 Q2249.61 388.93 2238.26 388.93 Q2234.46 388.93 2230.41 388.16 Q2226.4 387.431 2222.1 385.932 L2222.1 378.033 Q2225.5 380.018 2229.56 381.031 Q2233.61 382.044 2238.02 382.044 Q2245.72 382.044 2249.73 379.005 Q2253.78 375.967 2253.78 370.174 Q2253.78 364.827 2250.01 361.83 Q2246.29 358.791 2239.6 358.791 L2232.55 358.791 L2232.55 352.067 L2239.93 352.067 Q2245.96 352.067 2249.16 349.677 Q2252.36 347.246 2252.36 342.709 Q2252.36 338.051 2249.04 335.58 Q2245.76 333.068 2239.6 333.068 Q2236.24 333.068 2232.39 333.797 Q2228.54 334.527 2223.92 336.066 L2223.92 328.774 Q2228.58 327.478 2232.63 326.83 Q2236.73 326.182 2240.33 326.182 Q2249.65 326.182 2255.08 330.435 Q2260.5 334.648 2260.5 341.859 Q2260.5 346.882 2257.63 350.366 Q2254.75 353.809 2249.45 355.146 Z\" fill=\"#ff0000\" fill-rule=\"nonzero\" fill-opacity=\"1\" /><path clip-path=\"url(#clip430)\" d=\"M2277.52 327.275 L2309.64 327.275 L2309.64 334.162 L2285.01 334.162 L2285.01 348.988 Q2286.79 348.381 2288.58 348.097 Q2290.36 347.773 2292.14 347.773 Q2302.27 347.773 2308.18 353.323 Q2314.1 358.872 2314.1 368.352 Q2314.1 378.114 2308.02 383.542 Q2301.94 388.93 2290.89 388.93 Q2287.08 388.93 2283.11 388.282 Q2279.18 387.634 2274.97 386.338 L2274.97 378.114 Q2278.61 380.099 2282.5 381.071 Q2286.39 382.044 2290.72 382.044 Q2297.73 382.044 2301.82 378.357 Q2305.91 374.671 2305.91 368.352 Q2305.91 362.032 2301.82 358.346 Q2297.73 354.66 2290.72 354.66 Q2287.44 354.66 2284.16 355.389 Q2280.92 356.118 2277.52 357.657 L2277.52 327.275 Z\" fill=\"#ff0000\" fill-rule=\"nonzero\" fill-opacity=\"1\" /></svg>\n"
      ]
     },
     "execution_count": 61,
     "metadata": {},
     "output_type": "execute_result"
    }
   ],
   "source": [
    "x = [res.Htest.ConfidenceInterval[1],res.bound[1],res.bound[2],res.Htest.ConfidenceInterval[2]]\n",
    "tol = (x[4]-x[1])/10\n",
    "y =[-0.01,0.01,0.01,-0.01]\n",
    "symbols =[:vline,:vline,:vline,:vline]\n",
    "\n",
    "scatter(x, y, markersize=10,\n",
    "    xlim=(x[1]-tol,x[4]+tol),\n",
    "    ylim=(-0.04,0.04),\n",
    "    markershape=symbols,\n",
    "    markerstrokewidth=4,\n",
    "    label=\"\",\n",
    "    c=[:red,:blue,:blue,:red],\n",
    "    showaxis=:x,\n",
    "    size =(600,120))\n",
    "plot!(x[2:3],y[2:3],label=\"\",c=:blue)\n",
    "plot!(x[1:3:4],y[1:3:4],label=\"\",c=:red)\n",
    "annotate!(x[2], 0.03, string(round(x[2],digits=4)),:blue)\n",
    "annotate!(x[3], 0.03, string(round(x[3],digits=4)),:blue)\n",
    "annotate!(x[1], -0.03, string(round(x[1],digits=4)),:red)\n",
    "annotate!(x[4], -0.03, string(round(x[4],digits=4)),:red)\n"
   ]
  },
  {
   "cell_type": "code",
   "execution_count": 63,
   "metadata": {},
   "outputs": [
    {
     "ename": "LoadError",
     "evalue": "MethodError: \u001b[0mCannot `convert` an object of type \n\u001b[0m  \u001b[92mFloat64\u001b[39m\u001b[0m to an object of type \n\u001b[0m  \u001b[91mVector{<:Real}\u001b[39m\n\n\u001b[0mClosest candidates are:\n\u001b[0m  convert(::Type{T}, \u001b[91m::AbstractArray\u001b[39m) where T<:Array\n\u001b[0m\u001b[90m   @\u001b[39m \u001b[90mBase\u001b[39m \u001b[90m\u001b[4marray.jl:613\u001b[24m\u001b[39m\n\u001b[0m  convert(::Type{T}, \u001b[91m::LinearAlgebra.Factorization\u001b[39m) where T<:AbstractArray\n\u001b[0m\u001b[90m   @\u001b[39m \u001b[36mLinearAlgebra\u001b[39m \u001b[90mC:\\Users\\arie\\AppData\\Local\\Programs\\Julia-1.9.2\\share\\julia\\stdlib\\v1.9\\LinearAlgebra\\src\\\u001b[39m\u001b[90m\u001b[4mfactorization.jl:59\u001b[24m\u001b[39m\n\u001b[0m  convert(::Type{T}, \u001b[91m::T\u001b[39m) where T<:AbstractArray\n\u001b[0m\u001b[90m   @\u001b[39m \u001b[90mBase\u001b[39m \u001b[90m\u001b[4mabstractarray.jl:16\u001b[24m\u001b[39m\n\u001b[0m  ...\n",
     "output_type": "error",
     "traceback": [
      "MethodError: \u001b[0mCannot `convert` an object of type \n\u001b[0m  \u001b[92mFloat64\u001b[39m\u001b[0m to an object of type \n\u001b[0m  \u001b[91mVector{<:Real}\u001b[39m\n\n\u001b[0mClosest candidates are:\n\u001b[0m  convert(::Type{T}, \u001b[91m::AbstractArray\u001b[39m) where T<:Array\n\u001b[0m\u001b[90m   @\u001b[39m \u001b[90mBase\u001b[39m \u001b[90m\u001b[4marray.jl:613\u001b[24m\u001b[39m\n\u001b[0m  convert(::Type{T}, \u001b[91m::LinearAlgebra.Factorization\u001b[39m) where T<:AbstractArray\n\u001b[0m\u001b[90m   @\u001b[39m \u001b[36mLinearAlgebra\u001b[39m \u001b[90mC:\\Users\\arie\\AppData\\Local\\Programs\\Julia-1.9.2\\share\\julia\\stdlib\\v1.9\\LinearAlgebra\\src\\\u001b[39m\u001b[90m\u001b[4mfactorization.jl:59\u001b[24m\u001b[39m\n\u001b[0m  convert(::Type{T}, \u001b[91m::T\u001b[39m) where T<:AbstractArray\n\u001b[0m\u001b[90m   @\u001b[39m \u001b[90mBase\u001b[39m \u001b[90m\u001b[4mabstractarray.jl:16\u001b[24m\u001b[39m\n\u001b[0m  ...\n",
      "",
      "Stacktrace:",
      " [1] convert(#unused#::Type{Union{Nothing, Vector{<:Real}}}, x::Float64)",
      "   @ Base .\\some.jl:36",
      " [2] TestResults(ConfidenceInterval::Float64, criticalVal::Float64, testStat::Vector{Float64})",
      "   @ Main.setBLP C:\\Users\\arie\\OneDrive - University of Pittsburgh\\Documents\\Bounds.jl\\Bounds.jl\\src\\setBLP.jl:40",
      " [3] EYasy(yl::Vector{Float64}, yu::Vector{Float64}, H0::Vector{Int64}, options::Options)",
      "   @ Main.setBLP C:\\Users\\arie\\OneDrive - University of Pittsburgh\\Documents\\Bounds.jl\\Bounds.jl\\src\\setBLP.jl:174",
      " [4] EY(yl::Vector{Float64}, yu::Vector{Float64}, H0::Vector{Int64}, options::Options, method::String)",
      "   @ Main.setBLP C:\\Users\\arie\\OneDrive - University of Pittsburgh\\Documents\\Bounds.jl\\Bounds.jl\\src\\setBLP.jl:94",
      " [5] EY(yl::Vector{Float64}, yu::Vector{Float64}, H0::Vector{Int64})",
      "   @ Main.setBLP C:\\Users\\arie\\OneDrive - University of Pittsburgh\\Documents\\Bounds.jl\\Bounds.jl\\src\\setBLP.jl:93",
      " [6] top-level scope",
      "   @ In[63]:1"
     ]
    }
   ],
   "source": [
    "EY(yl,yu,[1,2])"
   ]
  },
  {
   "cell_type": "code",
   "execution_count": null,
   "metadata": {},
   "outputs": [],
   "source": []
  }
 ],
 "metadata": {
  "@webio": {
   "lastCommId": null,
   "lastKernelId": null
  },
  "kernelspec": {
   "display_name": "Julia 1.9.2",
   "language": "julia",
   "name": "julia-1.9"
  },
  "language_info": {
   "file_extension": ".jl",
   "mimetype": "application/julia",
   "name": "julia",
   "version": "1.9.2"
  }
 },
 "nbformat": 4,
 "nbformat_minor": 4
}
