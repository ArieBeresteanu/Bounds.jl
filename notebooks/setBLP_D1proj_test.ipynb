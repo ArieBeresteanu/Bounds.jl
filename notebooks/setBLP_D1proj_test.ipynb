{
 "cells": [
  {
   "cell_type": "markdown",
   "metadata": {},
   "source": [
    "# Packages"
   ]
  },
  {
   "cell_type": "code",
   "execution_count": 1,
   "metadata": {},
   "outputs": [],
   "source": [
    "using CSV, DataFrames"
   ]
  },
  {
   "cell_type": "code",
   "execution_count": 2,
   "metadata": {},
   "outputs": [
    {
     "ename": "LoadError",
     "evalue": "ArgumentError: Package FixedEffectModels not found in current path.\n- Run `import Pkg; Pkg.add(\"FixedEffectModels\")` to install the FixedEffectModels package.",
     "output_type": "error",
     "traceback": [
      "ArgumentError: Package FixedEffectModels not found in current path.\n- Run `import Pkg; Pkg.add(\"FixedEffectModels\")` to install the FixedEffectModels package.",
      "",
      "Stacktrace:",
      " [1] macro expansion",
      "   @ .\\loading.jl:1630 [inlined]",
      " [2] macro expansion",
      "   @ .\\lock.jl:267 [inlined]",
      " [3] require(into::Module, mod::Symbol)",
      "   @ Base .\\loading.jl:1611"
     ]
    }
   ],
   "source": [
    "using FixedEffectModels"
   ]
  },
  {
   "cell_type": "code",
   "execution_count": 3,
   "metadata": {},
   "outputs": [],
   "source": [
    "using Plots"
   ]
  },
  {
   "cell_type": "code",
   "execution_count": 4,
   "metadata": {},
   "outputs": [],
   "source": [
    "using Statistics"
   ]
  },
  {
   "cell_type": "markdown",
   "metadata": {},
   "source": [
    "# Uploading CPS data"
   ]
  },
  {
   "cell_type": "code",
   "execution_count": 5,
   "metadata": {},
   "outputs": [
    {
     "data": {
      "text/html": [
       "<div><div style = \"float: left;\"><span>5×3 DataFrame</span></div><div style = \"clear: both;\"></div></div><div class = \"data-frame\" style = \"overflow-x: scroll;\"><table class = \"data-frame\" style = \"margin-bottom: 6px;\"><thead><tr class = \"header\"><th class = \"rowNumber\" style = \"font-weight: bold; text-align: right;\">Row</th><th style = \"text-align: left;\">age</th><th style = \"text-align: left;\">wage</th><th style = \"text-align: left;\">educ</th></tr><tr class = \"subheader headerLastRow\"><th class = \"rowNumber\" style = \"font-weight: bold; text-align: right;\"></th><th title = \"Int64\" style = \"text-align: left;\">Int64</th><th title = \"Int64\" style = \"text-align: left;\">Int64</th><th title = \"String\" style = \"text-align: left;\">String</th></tr></thead><tbody><tr><td class = \"rowNumber\" style = \"font-weight: bold; text-align: right;\">1</td><td style = \"text-align: right;\">22</td><td style = \"text-align: right;\">12000</td><td style = \"text-align: left;\">some college but no degree</td></tr><tr><td class = \"rowNumber\" style = \"font-weight: bold; text-align: right;\">2</td><td style = \"text-align: right;\">21</td><td style = \"text-align: right;\">3500</td><td style = \"text-align: left;\">some college but no degree</td></tr><tr><td class = \"rowNumber\" style = \"font-weight: bold; text-align: right;\">3</td><td style = \"text-align: right;\">49</td><td style = \"text-align: right;\">30000</td><td style = \"text-align: left;\">some college but no degree</td></tr><tr><td class = \"rowNumber\" style = \"font-weight: bold; text-align: right;\">4</td><td style = \"text-align: right;\">31</td><td style = \"text-align: right;\">32000</td><td style = \"text-align: left;\">bachelor&apos;s degree</td></tr><tr><td class = \"rowNumber\" style = \"font-weight: bold; text-align: right;\">5</td><td style = \"text-align: right;\">42</td><td style = \"text-align: right;\">89630</td><td style = \"text-align: left;\">doctorate degree</td></tr></tbody></table></div>"
      ],
      "text/latex": [
       "\\begin{tabular}{r|ccc}\n",
       "\t& age & wage & educ\\\\\n",
       "\t\\hline\n",
       "\t& Int64 & Int64 & String\\\\\n",
       "\t\\hline\n",
       "\t1 & 22 & 12000 & some college but no degree \\\\\n",
       "\t2 & 21 & 3500 & some college but no degree \\\\\n",
       "\t3 & 49 & 30000 & some college but no degree \\\\\n",
       "\t4 & 31 & 32000 & bachelor's degree \\\\\n",
       "\t5 & 42 & 89630 & doctorate degree \\\\\n",
       "\\end{tabular}\n"
      ],
      "text/plain": [
       "\u001b[1m5×3 DataFrame\u001b[0m\n",
       "\u001b[1m Row \u001b[0m│\u001b[1m age   \u001b[0m\u001b[1m wage  \u001b[0m\u001b[1m educ                       \u001b[0m\n",
       "     │\u001b[90m Int64 \u001b[0m\u001b[90m Int64 \u001b[0m\u001b[90m String                     \u001b[0m\n",
       "─────┼──────────────────────────────────────────\n",
       "   1 │    22  12000  some college but no degree\n",
       "   2 │    21   3500  some college but no degree\n",
       "   3 │    49  30000  some college but no degree\n",
       "   4 │    31  32000  bachelor's degree\n",
       "   5 │    42  89630  doctorate degree"
      ]
     },
     "execution_count": 5,
     "metadata": {},
     "output_type": "execute_result"
    }
   ],
   "source": [
    "cps = DataFrame(CSV.File(\"c:\\\\data\\\\Bounds\\\\cps.csv\")) # <-change this to the right directory\n",
    "\n",
    "## Cleaning zero wage\n",
    "\n",
    "cps = cps[cps.wage .> 0, :]\n",
    "first(cps,5)"
   ]
  },
  {
   "cell_type": "code",
   "execution_count": 6,
   "metadata": {},
   "outputs": [
    {
     "data": {
      "text/plain": [
       "Dict{String, Int64} with 16 entries:\n",
       "  \"grade 11\"                                            => 11\n",
       "  \"some college but no degree\"                          => 13\n",
       "  \"associate's degree, academic program\"                => 14\n",
       "  \"none or preschool\"                                   => 0\n",
       "  \"doctorate degree\"                                    => 21\n",
       "  \"grade 10\"                                            => 10\n",
       "  \"bachelor's degree\"                                   => 16\n",
       "  \"master's degree\"                                     => 14\n",
       "  \"grades 5 or 6\"                                       => 6\n",
       "  \"grades 7 or 8\"                                       => 8\n",
       "  \"grades 1, 2, 3, or 4\"                                => 4\n",
       "  \"associate's degree, occupational/vocational program\" => 14\n",
       "  \"professional school degree\"                          => 14\n",
       "  \"high school diploma or equivalent\"                   => 12\n",
       "  \"grade 9\"                                             => 9\n",
       "  \"12th grade, no diploma\"                              => 12"
      ]
     },
     "execution_count": 6,
     "metadata": {},
     "output_type": "execute_result"
    }
   ],
   "source": [
    "# Numerical value for education\n",
    "\n",
    "#1.Creating a dictionary\n",
    "\n",
    "educ_dict = Dict( \n",
    "    \"grade 11\" => 11, \n",
    "    \"some college but no degree\" => 13, \n",
    "    \"associate's degree, academic program\" => 14,\n",
    "    \"grade 10\" => 10, \n",
    "    \"grades 7 or 8\" => 8, \n",
    "    \"grades 1, 2, 3, or 4\" => 4, \n",
    "    \"associate's degree, occupational/vocational program\" => 14, \n",
    "    \"high school diploma or equivalent\" => 12, \n",
    "    \"grade 9\" => 9, \n",
    "    \"none or preschool\" => 0, \n",
    "    \"doctorate degree\" => 21,\n",
    "    \"bachelor's degree\" => 16, \n",
    "    \"master's degree\" => 14, \n",
    "    \"grades 5 or 6\" => 6, \n",
    "    \"professional school degree\" => 14, \n",
    "    \"12th grade, no diploma\" => 12\n",
    "    )"
   ]
  },
  {
   "cell_type": "code",
   "execution_count": 7,
   "metadata": {},
   "outputs": [
    {
     "data": {
      "text/html": [
       "<div><div style = \"float: left;\"><span>3×5 DataFrame</span></div><div style = \"clear: both;\"></div></div><div class = \"data-frame\" style = \"overflow-x: scroll;\"><table class = \"data-frame\" style = \"margin-bottom: 6px;\"><thead><tr class = \"header\"><th class = \"rowNumber\" style = \"font-weight: bold; text-align: right;\">Row</th><th style = \"text-align: left;\">age</th><th style = \"text-align: left;\">wage</th><th style = \"text-align: left;\">educ</th><th style = \"text-align: left;\">educ_num</th><th style = \"text-align: left;\">log_wage</th></tr><tr class = \"subheader headerLastRow\"><th class = \"rowNumber\" style = \"font-weight: bold; text-align: right;\"></th><th title = \"Int64\" style = \"text-align: left;\">Int64</th><th title = \"Int64\" style = \"text-align: left;\">Int64</th><th title = \"String\" style = \"text-align: left;\">String</th><th title = \"Int64\" style = \"text-align: left;\">Int64</th><th title = \"Float64\" style = \"text-align: left;\">Float64</th></tr></thead><tbody><tr><td class = \"rowNumber\" style = \"font-weight: bold; text-align: right;\">1</td><td style = \"text-align: right;\">22</td><td style = \"text-align: right;\">12000</td><td style = \"text-align: left;\">some college but no degree</td><td style = \"text-align: right;\">13</td><td style = \"text-align: right;\">9.39266</td></tr><tr><td class = \"rowNumber\" style = \"font-weight: bold; text-align: right;\">2</td><td style = \"text-align: right;\">21</td><td style = \"text-align: right;\">3500</td><td style = \"text-align: left;\">some college but no degree</td><td style = \"text-align: right;\">13</td><td style = \"text-align: right;\">8.16052</td></tr><tr><td class = \"rowNumber\" style = \"font-weight: bold; text-align: right;\">3</td><td style = \"text-align: right;\">49</td><td style = \"text-align: right;\">30000</td><td style = \"text-align: left;\">some college but no degree</td><td style = \"text-align: right;\">13</td><td style = \"text-align: right;\">10.309</td></tr></tbody></table></div>"
      ],
      "text/latex": [
       "\\begin{tabular}{r|ccccc}\n",
       "\t& age & wage & educ & educ\\_num & log\\_wage\\\\\n",
       "\t\\hline\n",
       "\t& Int64 & Int64 & String & Int64 & Float64\\\\\n",
       "\t\\hline\n",
       "\t1 & 22 & 12000 & some college but no degree & 13 & 9.39266 \\\\\n",
       "\t2 & 21 & 3500 & some college but no degree & 13 & 8.16052 \\\\\n",
       "\t3 & 49 & 30000 & some college but no degree & 13 & 10.309 \\\\\n",
       "\\end{tabular}\n"
      ],
      "text/plain": [
       "\u001b[1m3×5 DataFrame\u001b[0m\n",
       "\u001b[1m Row \u001b[0m│\u001b[1m age   \u001b[0m\u001b[1m wage  \u001b[0m\u001b[1m educ                       \u001b[0m\u001b[1m educ_num \u001b[0m\u001b[1m log_wage \u001b[0m\n",
       "     │\u001b[90m Int64 \u001b[0m\u001b[90m Int64 \u001b[0m\u001b[90m String                     \u001b[0m\u001b[90m Int64    \u001b[0m\u001b[90m Float64  \u001b[0m\n",
       "─────┼──────────────────────────────────────────────────────────────\n",
       "   1 │    22  12000  some college but no degree        13   9.39266\n",
       "   2 │    21   3500  some college but no degree        13   8.16052\n",
       "   3 │    49  30000  some college but no degree        13  10.309"
      ]
     },
     "execution_count": 7,
     "metadata": {},
     "output_type": "execute_result"
    }
   ],
   "source": [
    "#2. transforming cps.educ\n",
    "f(x) = educ_dict[x]\n",
    "cps.educ_num = f.(cps.educ)\n",
    "\n",
    "#3. log of wage\n",
    "cps.log_wage = log.(cps.wage)\n",
    "first(cps,3)"
   ]
  },
  {
   "cell_type": "code",
   "execution_count": 8,
   "metadata": {},
   "outputs": [
    {
     "name": "stdout",
     "output_type": "stream",
     "text": [
      "The original data contains 22715 observations and 5 columns."
     ]
    }
   ],
   "source": [
    "Nobs, c = size(cps)\n",
    "print(\"The original data contains \", Nobs, \" observations and \",c, \" columns.\")"
   ]
  },
  {
   "cell_type": "markdown",
   "metadata": {},
   "source": [
    "# Best Linear Predictor "
   ]
  },
  {
   "cell_type": "code",
   "execution_count": 9,
   "metadata": {},
   "outputs": [],
   "source": [
    "#reg(cps, @formula(log_wage ~ educ_num ), Vcov.robust())"
   ]
  },
  {
   "cell_type": "code",
   "execution_count": 10,
   "metadata": {
    "scrolled": true
   },
   "outputs": [],
   "source": [
    "#reg(cps, @formula(log_wage ~ educ_num + age ), Vcov.robust())"
   ]
  },
  {
   "cell_type": "markdown",
   "metadata": {},
   "source": [
    "# Creating Interval Data"
   ]
  },
  {
   "cell_type": "code",
   "execution_count": 11,
   "metadata": {},
   "outputs": [
    {
     "data": {
      "text/plain": [
       "362303.0"
      ]
     },
     "execution_count": 11,
     "metadata": {},
     "output_type": "execute_result"
    }
   ],
   "source": [
    "wage_quantiles = quantile(cps[!,:wage],[0.0, 0.1,0.2,0.3,0.4,0.5,0.6,0.7,0.8,0.9,1.0], sorted=false);\n",
    "#wage_quantiles[1] +=-1\n",
    "wage_quantiles[end] +=1"
   ]
  },
  {
   "cell_type": "code",
   "execution_count": 12,
   "metadata": {},
   "outputs": [
    {
     "data": {
      "text/html": [
       "<div><div style = \"float: left;\"><span>3×9 DataFrame</span></div><div style = \"clear: both;\"></div></div><div class = \"data-frame\" style = \"overflow-x: scroll;\"><table class = \"data-frame\" style = \"margin-bottom: 6px;\"><thead><tr class = \"header\"><th class = \"rowNumber\" style = \"font-weight: bold; text-align: right;\">Row</th><th style = \"text-align: left;\">age</th><th style = \"text-align: left;\">wage</th><th style = \"text-align: left;\">educ</th><th style = \"text-align: left;\">educ_num</th><th style = \"text-align: left;\">log_wage</th><th style = \"text-align: left;\">wage_lower</th><th style = \"text-align: left;\">wage_upper</th><th style = \"text-align: left;\">logwage_lower</th><th style = \"text-align: left;\">logwage_upper</th></tr><tr class = \"subheader headerLastRow\"><th class = \"rowNumber\" style = \"font-weight: bold; text-align: right;\"></th><th title = \"Int64\" style = \"text-align: left;\">Int64</th><th title = \"Int64\" style = \"text-align: left;\">Int64</th><th title = \"String\" style = \"text-align: left;\">String</th><th title = \"Int64\" style = \"text-align: left;\">Int64</th><th title = \"Float64\" style = \"text-align: left;\">Float64</th><th title = \"Float64\" style = \"text-align: left;\">Float64</th><th title = \"Float64\" style = \"text-align: left;\">Float64</th><th title = \"Float64\" style = \"text-align: left;\">Float64</th><th title = \"Float64\" style = \"text-align: left;\">Float64</th></tr></thead><tbody><tr><td class = \"rowNumber\" style = \"font-weight: bold; text-align: right;\">1</td><td style = \"text-align: right;\">22</td><td style = \"text-align: right;\">12000</td><td style = \"text-align: left;\">some college but no degree</td><td style = \"text-align: right;\">13</td><td style = \"text-align: right;\">9.39266</td><td style = \"text-align: right;\">9000.0</td><td style = \"text-align: right;\">15000.0</td><td style = \"text-align: right;\">9.10498</td><td style = \"text-align: right;\">9.61581</td></tr><tr><td class = \"rowNumber\" style = \"font-weight: bold; text-align: right;\">2</td><td style = \"text-align: right;\">21</td><td style = \"text-align: right;\">3500</td><td style = \"text-align: left;\">some college but no degree</td><td style = \"text-align: right;\">13</td><td style = \"text-align: right;\">8.16052</td><td style = \"text-align: right;\">1.0</td><td style = \"text-align: right;\">9000.0</td><td style = \"text-align: right;\">0.0</td><td style = \"text-align: right;\">9.10498</td></tr><tr><td class = \"rowNumber\" style = \"font-weight: bold; text-align: right;\">3</td><td style = \"text-align: right;\">49</td><td style = \"text-align: right;\">30000</td><td style = \"text-align: left;\">some college but no degree</td><td style = \"text-align: right;\">13</td><td style = \"text-align: right;\">10.309</td><td style = \"text-align: right;\">30000.0</td><td style = \"text-align: right;\">36000.0</td><td style = \"text-align: right;\">10.309</td><td style = \"text-align: right;\">10.4913</td></tr></tbody></table></div>"
      ],
      "text/latex": [
       "\\begin{tabular}{r|cccccccc}\n",
       "\t& age & wage & educ & educ\\_num & log\\_wage & wage\\_lower & wage\\_upper & \\\\\n",
       "\t\\hline\n",
       "\t& Int64 & Int64 & String & Int64 & Float64 & Float64 & Float64 & \\\\\n",
       "\t\\hline\n",
       "\t1 & 22 & 12000 & some college but no degree & 13 & 9.39266 & 9000.0 & 15000.0 & $\\dots$ \\\\\n",
       "\t2 & 21 & 3500 & some college but no degree & 13 & 8.16052 & 1.0 & 9000.0 & $\\dots$ \\\\\n",
       "\t3 & 49 & 30000 & some college but no degree & 13 & 10.309 & 30000.0 & 36000.0 & $\\dots$ \\\\\n",
       "\\end{tabular}\n"
      ],
      "text/plain": [
       "\u001b[1m3×9 DataFrame\u001b[0m\n",
       "\u001b[1m Row \u001b[0m│\u001b[1m age   \u001b[0m\u001b[1m wage  \u001b[0m\u001b[1m educ                       \u001b[0m\u001b[1m educ_num \u001b[0m\u001b[1m log_wage \u001b[0m\u001b[1m wage_lowe\u001b[0m ⋯\n",
       "     │\u001b[90m Int64 \u001b[0m\u001b[90m Int64 \u001b[0m\u001b[90m String                     \u001b[0m\u001b[90m Int64    \u001b[0m\u001b[90m Float64  \u001b[0m\u001b[90m Float64  \u001b[0m ⋯\n",
       "─────┼──────────────────────────────────────────────────────────────────────────\n",
       "   1 │    22  12000  some college but no degree        13   9.39266      9000. ⋯\n",
       "   2 │    21   3500  some college but no degree        13   8.16052         1.\n",
       "   3 │    49  30000  some college but no degree        13  10.309       30000.\n",
       "\u001b[36m                                                               4 columns omitted\u001b[0m"
      ]
     },
     "execution_count": 12,
     "metadata": {},
     "output_type": "execute_result"
    }
   ],
   "source": [
    "lower(x) = wage_quantiles[sum(wage_quantiles .<=x)]\n",
    "upper(x) = wage_quantiles[sum(wage_quantiles .<=x)+1]\n",
    "\n",
    "cps.wage_lower = lower.(cps.wage)\n",
    "cps.wage_upper = upper.(cps.wage)\n",
    "\n",
    "cps.logwage_lower = log.(cps.wage_lower)\n",
    "cps.logwage_upper = log.(cps.wage_upper)\n",
    "\n",
    "first(cps,3)"
   ]
  },
  {
   "cell_type": "code",
   "execution_count": 13,
   "metadata": {},
   "outputs": [
    {
     "name": "stdout",
     "output_type": "stream",
     "text": [
      "The complete data contains 22715 observations and 9 columns."
     ]
    }
   ],
   "source": [
    "Nobs, c = size(cps)\n",
    "print(\"The complete data contains \", Nobs, \" observations and \",c, \" columns.\")"
   ]
  },
  {
   "cell_type": "markdown",
   "metadata": {},
   "source": [
    "# Partial Indentification"
   ]
  },
  {
   "cell_type": "markdown",
   "metadata": {},
   "source": [
    "### Reading the module"
   ]
  },
  {
   "cell_type": "code",
   "execution_count": 14,
   "metadata": {},
   "outputs": [
    {
     "data": {
      "text/plain": [
       "Main.setBLP"
      ]
     },
     "execution_count": 14,
     "metadata": {},
     "output_type": "execute_result"
    }
   ],
   "source": [
    "include(\"C:\\\\Users\\\\arie\\\\OneDrive - University of Pittsburgh\\\\Documents\\\\Bounds.jl\\\\Bounds.jl\\\\src\\\\setBLP.jl\")"
   ]
  },
  {
   "cell_type": "code",
   "execution_count": 15,
   "metadata": {},
   "outputs": [],
   "source": [
    "using Main.setBLP"
   ]
  },
  {
   "cell_type": "markdown",
   "metadata": {},
   "source": [
    "## Testing projection function"
   ]
  },
  {
   "cell_type": "code",
   "execution_count": 16,
   "metadata": {},
   "outputs": [
    {
     "data": {
      "text/html": [
       "# 7 methods for generic function <b>projection</b> from \u001b[35mMain.setBLP\u001b[39m:<ul><li> projection(yl::<b>Vector{<:Real}</b>, yu::<b>Vector{<:Real}</b>, x::<b>Vector{<:Real}</b>) in Main.setBLP at <a href=\"https://github.com/ArieBeresteanu/Bounds.jl/tree/23fb00f714b1b3d89f8cc3e05460d85cc36c98ee//src/setBLP.jl#L197\" target=\"_blank\">C:\\Users\\arie\\OneDrive - University of Pittsburgh\\Documents\\Bounds.jl\\Bounds.jl\\src\\setBLP.jl:197</a></li> <li> projection(yl::<b>Vector{<:Real}</b>, yu::<b>Vector{<:Real}</b>, x::<b>Matrix{<:Real}</b>) in Main.setBLP at <a href=\"https://github.com/ArieBeresteanu/Bounds.jl/tree/23fb00f714b1b3d89f8cc3e05460d85cc36c98ee//src/setBLP.jl#L238\" target=\"_blank\">C:\\Users\\arie\\OneDrive - University of Pittsburgh\\Documents\\Bounds.jl\\Bounds.jl\\src\\setBLP.jl:238</a></li> <li> projection(yl::<b>Vector{<:Real}</b>, yu::<b>Vector{<:Real}</b>, x::<b>Matrix{<:Real}</b>, cord::<b>Int64</b>) in Main.setBLP at <a href=\"https://github.com/ArieBeresteanu/Bounds.jl/tree/23fb00f714b1b3d89f8cc3e05460d85cc36c98ee//src/setBLP.jl#L208\" target=\"_blank\">C:\\Users\\arie\\OneDrive - University of Pittsburgh\\Documents\\Bounds.jl\\Bounds.jl\\src\\setBLP.jl:208</a></li> <li> projection(yl::<b>Vector{<:Real}</b>, yu::<b>Vector{<:Real}</b>, x::<b>Matrix{<:Real}</b>, cords::<b>Vector{Int64}</b>) in Main.setBLP at <a href=\"https://github.com/ArieBeresteanu/Bounds.jl/tree/23fb00f714b1b3d89f8cc3e05460d85cc36c98ee//src/setBLP.jl#L221\" target=\"_blank\">C:\\Users\\arie\\OneDrive - University of Pittsburgh\\Documents\\Bounds.jl\\Bounds.jl\\src\\setBLP.jl:221</a></li> <li> projection(df::<b>DataFrame</b>, yl::<b>Symbol</b>, yu::<b>Symbol</b>, x::<b>Symbol</b>) in Main.setBLP at <a href=\"https://github.com/ArieBeresteanu/Bounds.jl/tree/23fb00f714b1b3d89f8cc3e05460d85cc36c98ee//src/setBLP.jl#L256\" target=\"_blank\">C:\\Users\\arie\\OneDrive - University of Pittsburgh\\Documents\\Bounds.jl\\Bounds.jl\\src\\setBLP.jl:256</a></li> <li> projection(df::<b>DataFrame</b>, yl::<b>Symbol</b>, yu::<b>Symbol</b>, x::<b>Vector{Symbol}</b>) in Main.setBLP at <a href=\"https://github.com/ArieBeresteanu/Bounds.jl/tree/23fb00f714b1b3d89f8cc3e05460d85cc36c98ee//src/setBLP.jl#L264\" target=\"_blank\">C:\\Users\\arie\\OneDrive - University of Pittsburgh\\Documents\\Bounds.jl\\Bounds.jl\\src\\setBLP.jl:264</a></li> <li> projection(df::<b>DataFrame</b>, yl::<b>Symbol</b>, yu::<b>Symbol</b>, x::<b>Vector{Symbol}</b>, cord::<b>Int64</b>) in Main.setBLP at <a href=\"https://github.com/ArieBeresteanu/Bounds.jl/tree/23fb00f714b1b3d89f8cc3e05460d85cc36c98ee//src/setBLP.jl#L272\" target=\"_blank\">C:\\Users\\arie\\OneDrive - University of Pittsburgh\\Documents\\Bounds.jl\\Bounds.jl\\src\\setBLP.jl:272</a></li> </ul>"
      ],
      "text/plain": [
       "# 7 methods for generic function \"projection\" from \u001b[35mMain.setBLP\u001b[39m:\n",
       " [1] projection(\u001b[90myl\u001b[39m::\u001b[1mVector\u001b[22m\u001b[0m{<:Real}, \u001b[90myu\u001b[39m::\u001b[1mVector\u001b[22m\u001b[0m{<:Real}, \u001b[90mx\u001b[39m::\u001b[1mVector\u001b[22m\u001b[0m{<:Real})\n",
       "\u001b[90m     @\u001b[39m \u001b[90mC:\\Users\\arie\\OneDrive - University of Pittsburgh\\Documents\\Bounds.jl\\Bounds.jl\\src\\\u001b[39m\u001b[90m\u001b[4msetBLP.jl:197\u001b[24m\u001b[39m\n",
       " [2] projection(\u001b[90myl\u001b[39m::\u001b[1mVector\u001b[22m\u001b[0m{<:Real}, \u001b[90myu\u001b[39m::\u001b[1mVector\u001b[22m\u001b[0m{<:Real}, \u001b[90mx\u001b[39m::\u001b[1mMatrix\u001b[22m\u001b[0m{<:Real})\n",
       "\u001b[90m     @\u001b[39m \u001b[90mC:\\Users\\arie\\OneDrive - University of Pittsburgh\\Documents\\Bounds.jl\\Bounds.jl\\src\\\u001b[39m\u001b[90m\u001b[4msetBLP.jl:238\u001b[24m\u001b[39m\n",
       " [3] projection(\u001b[90myl\u001b[39m::\u001b[1mVector\u001b[22m\u001b[0m{<:Real}, \u001b[90myu\u001b[39m::\u001b[1mVector\u001b[22m\u001b[0m{<:Real}, \u001b[90mx\u001b[39m::\u001b[1mMatrix\u001b[22m\u001b[0m{<:Real}, \u001b[90mcord\u001b[39m::\u001b[1mInt64\u001b[22m)\n",
       "\u001b[90m     @\u001b[39m \u001b[90mC:\\Users\\arie\\OneDrive - University of Pittsburgh\\Documents\\Bounds.jl\\Bounds.jl\\src\\\u001b[39m\u001b[90m\u001b[4msetBLP.jl:208\u001b[24m\u001b[39m\n",
       " [4] projection(\u001b[90myl\u001b[39m::\u001b[1mVector\u001b[22m\u001b[0m{<:Real}, \u001b[90myu\u001b[39m::\u001b[1mVector\u001b[22m\u001b[0m{<:Real}, \u001b[90mx\u001b[39m::\u001b[1mMatrix\u001b[22m\u001b[0m{<:Real}, \u001b[90mcords\u001b[39m::\u001b[1mVector\u001b[22m\u001b[0m{Int64})\n",
       "\u001b[90m     @\u001b[39m \u001b[90mC:\\Users\\arie\\OneDrive - University of Pittsburgh\\Documents\\Bounds.jl\\Bounds.jl\\src\\\u001b[39m\u001b[90m\u001b[4msetBLP.jl:221\u001b[24m\u001b[39m\n",
       " [5] projection(\u001b[90mdf\u001b[39m::\u001b[1mDataFrame\u001b[22m, \u001b[90myl\u001b[39m::\u001b[1mSymbol\u001b[22m, \u001b[90myu\u001b[39m::\u001b[1mSymbol\u001b[22m, \u001b[90mx\u001b[39m::\u001b[1mSymbol\u001b[22m)\n",
       "\u001b[90m     @\u001b[39m \u001b[90mC:\\Users\\arie\\OneDrive - University of Pittsburgh\\Documents\\Bounds.jl\\Bounds.jl\\src\\\u001b[39m\u001b[90m\u001b[4msetBLP.jl:256\u001b[24m\u001b[39m\n",
       " [6] projection(\u001b[90mdf\u001b[39m::\u001b[1mDataFrame\u001b[22m, \u001b[90myl\u001b[39m::\u001b[1mSymbol\u001b[22m, \u001b[90myu\u001b[39m::\u001b[1mSymbol\u001b[22m, \u001b[90mx\u001b[39m::\u001b[1mVector\u001b[22m\u001b[0m{Symbol})\n",
       "\u001b[90m     @\u001b[39m \u001b[90mC:\\Users\\arie\\OneDrive - University of Pittsburgh\\Documents\\Bounds.jl\\Bounds.jl\\src\\\u001b[39m\u001b[90m\u001b[4msetBLP.jl:264\u001b[24m\u001b[39m\n",
       " [7] projection(\u001b[90mdf\u001b[39m::\u001b[1mDataFrame\u001b[22m, \u001b[90myl\u001b[39m::\u001b[1mSymbol\u001b[22m, \u001b[90myu\u001b[39m::\u001b[1mSymbol\u001b[22m, \u001b[90mx\u001b[39m::\u001b[1mVector\u001b[22m\u001b[0m{Symbol}, \u001b[90mcord\u001b[39m::\u001b[1mInt64\u001b[22m)\n",
       "\u001b[90m     @\u001b[39m \u001b[90mC:\\Users\\arie\\OneDrive - University of Pittsburgh\\Documents\\Bounds.jl\\Bounds.jl\\src\\\u001b[39m\u001b[90m\u001b[4msetBLP.jl:272\u001b[24m\u001b[39m"
      ]
     },
     "execution_count": 16,
     "metadata": {},
     "output_type": "execute_result"
    }
   ],
   "source": [
    "methods(projection)"
   ]
  },
  {
   "cell_type": "code",
   "execution_count": 17,
   "metadata": {},
   "outputs": [
    {
     "name": "stdout",
     "output_type": "stream",
     "text": [
      "Options:\n",
      "  Number of MC iterations: 2000\n",
      "  Seed: 15217\n",
      "  Random Number Generator: Random.MersenneTwister(0x608026d7c7a3731cab9953ce7ca95c24)\n",
      "  Confidence level: 0.95\n"
     ]
    }
   ],
   "source": [
    "show(default_options)"
   ]
  },
  {
   "cell_type": "markdown",
   "metadata": {},
   "source": [
    "### 1. Testing the vector/matrix functions"
   ]
  },
  {
   "cell_type": "code",
   "execution_count": 18,
   "metadata": {},
   "outputs": [],
   "source": [
    "# Preparing vector and matrix versions of the data\n",
    "\n",
    "yl = cps.logwage_lower;\n",
    "yu = cps.logwage_upper;\n",
    "x1 = cps.age;\n",
    "x2 = cps.educ_num;\n",
    "x = [x1 x2];"
   ]
  },
  {
   "cell_type": "code",
   "execution_count": 19,
   "metadata": {},
   "outputs": [],
   "source": [
    "#projection(yl,yu,x1)"
   ]
  },
  {
   "cell_type": "code",
   "execution_count": 20,
   "metadata": {},
   "outputs": [],
   "source": [
    "#projection(yl,yu,x1)"
   ]
  },
  {
   "cell_type": "code",
   "execution_count": 21,
   "metadata": {},
   "outputs": [
    {
     "data": {
      "text/plain": [
       "1×2 Matrix{Float64}:\n",
       " -0.00905178  0.144324"
      ]
     },
     "execution_count": 21,
     "metadata": {},
     "output_type": "execute_result"
    }
   ],
   "source": [
    "projection(yl,yu,x,1)"
   ]
  },
  {
   "cell_type": "code",
   "execution_count": 22,
   "metadata": {},
   "outputs": [],
   "source": [
    "#projection(yl,yu,x,2)"
   ]
  },
  {
   "cell_type": "code",
   "execution_count": 23,
   "metadata": {},
   "outputs": [],
   "source": [
    "#projection(yl,yu,x)"
   ]
  },
  {
   "cell_type": "markdown",
   "metadata": {},
   "source": [
    "### 2. Testing the Dataframe version of the functions"
   ]
  },
  {
   "cell_type": "code",
   "execution_count": 24,
   "metadata": {},
   "outputs": [
    {
     "data": {
      "text/plain": [
       "1×2 Matrix{Float64}:\n",
       " -0.00488786  0.14866"
      ]
     },
     "execution_count": 24,
     "metadata": {},
     "output_type": "execute_result"
    }
   ],
   "source": [
    "projection(cps,:logwage_lower,:logwage_upper,:age)"
   ]
  },
  {
   "cell_type": "code",
   "execution_count": 25,
   "metadata": {},
   "outputs": [],
   "source": [
    "#projection(cps,:logwage_lower,:logwage_upper,:educ_num)"
   ]
  },
  {
   "cell_type": "code",
   "execution_count": 26,
   "metadata": {},
   "outputs": [],
   "source": [
    "#projection(cps,:logwage_lower,:logwage_upper,[:age,:educ_num],1)"
   ]
  },
  {
   "cell_type": "code",
   "execution_count": 27,
   "metadata": {},
   "outputs": [],
   "source": [
    "#projection(cps,:logwage_lower,:logwage_upper,[:age,:educ_num],2)"
   ]
  },
  {
   "cell_type": "code",
   "execution_count": 28,
   "metadata": {},
   "outputs": [],
   "source": [
    "#projection(cps,:logwage_lower,:logwage_upper,[:age,:educ_num])"
   ]
  },
  {
   "cell_type": "markdown",
   "metadata": {},
   "source": [
    "## Testing oneDproj function"
   ]
  },
  {
   "cell_type": "code",
   "execution_count": 29,
   "metadata": {},
   "outputs": [
    {
     "name": "stdout",
     "output_type": "stream",
     "text": [
      "Results: \n",
      "  Null: [0.0, 0.15]\n",
      "  Bound: [-0.0049, 0.1487]\n",
      "  Hausdorff based test: \n",
      "    Test Stat: 0.7367\n",
      "    Critical Value: 0.7109\n",
      "    Confidence Interval: [-0.0096, 0.1534]\n",
      "  directed Hausdorff test: \n",
      "    Test Stat: 0.202\n",
      "    Critical Value: 0.611\n",
      "    Confidence Interval: [-0.0089, 0.1527]\n"
     ]
    }
   ],
   "source": [
    "res = oneDproj(yl,yu,float.(x1);CI=true,H0=[0, 0.15]);\n",
    "show(res)"
   ]
  },
  {
   "cell_type": "code",
   "execution_count": 30,
   "metadata": {},
   "outputs": [
    {
     "name": "stdout",
     "output_type": "stream",
     "text": [
      "Results: \n",
      "  Null: [0.1, 0.15]\n",
      "  Bound: [-0.0049, 0.1487]\n",
      "  Hausdorff based test: \n",
      "    Test Stat: 15.8082\n",
      "    Critical Value: 0.7447\n",
      "    Confidence Interval: [-0.0098, 0.1536]\n",
      "  directed Hausdorff test: \n",
      "    Test Stat: 0.202\n",
      "    Critical Value: 0.6288\n",
      "    Confidence Interval: [-0.0091, 0.1528]\n"
     ]
    }
   ],
   "source": [
    "res = oneDproj(yl,yu,float.(x1);CI=true,H0=[0.1,0.15]);\n",
    "show(res)"
   ]
  },
  {
   "cell_type": "code",
   "execution_count": 31,
   "metadata": {},
   "outputs": [
    {
     "name": "stdout",
     "output_type": "stream",
     "text": [
      "Results: \n",
      "  Null: [0.0, 0.1]\n",
      "  Bound: [-0.0049, 0.1487]\n",
      "  Hausdorff based test: \n",
      "    Test Stat: 7.3337\n",
      "    Critical Value: 0.7578\n",
      "    Confidence Interval: [-0.0099, 0.1537]\n",
      "  directed Hausdorff test: \n",
      "    Test Stat: 0.0\n",
      "    Critical Value: 0.6432\n",
      "    Confidence Interval: [-0.0092, 0.1529]\n"
     ]
    }
   ],
   "source": [
    "res = oneDproj(yl,yu,float.(x1);CI=true,H0=[0.0,0.1]);\n",
    "show(res)"
   ]
  },
  {
   "cell_type": "code",
   "execution_count": 32,
   "metadata": {},
   "outputs": [
    {
     "name": "stdout",
     "output_type": "stream",
     "text": [
      "Results: \n",
      "  Null: [-0.1, 0.15]\n",
      "  Bound: [-0.0049, 0.1487]\n",
      "  Hausdorff based test: \n",
      "    Test Stat: 14.3348\n",
      "    Critical Value: 0.7146\n",
      "    Confidence Interval: [-0.0096, 0.1534]\n",
      "  directed Hausdorff test: \n",
      "    Test Stat: 14.3348\n",
      "    Critical Value: 0.6037\n",
      "    Confidence Interval: [-0.0089, 0.1527]\n"
     ]
    }
   ],
   "source": [
    "res = oneDproj(yl,yu,float.(x1);CI=true,H0=[-0.1,0.15]);\n",
    "show(res)"
   ]
  },
  {
   "cell_type": "code",
   "execution_count": 33,
   "metadata": {},
   "outputs": [
    {
     "data": {
      "text/plain": [
       "Results([-0.004887858329799178, 0.14865963017399053], nothing, nothing, nothing)"
      ]
     },
     "execution_count": 33,
     "metadata": {},
     "output_type": "execute_result"
    }
   ],
   "source": [
    "res = oneDproj(yl,yu,float.(x1);CI=false,H0=nothing)"
   ]
  },
  {
   "cell_type": "code",
   "execution_count": 34,
   "metadata": {},
   "outputs": [
    {
     "data": {
      "text/plain": [
       "Results([-0.004887858329799178, 0.14865963017399053], nothing, TestResults([-0.009706141388664597, 0.15347791323285595], 0.7261873517880657, nothing), TestResults([-0.008860569744610936, 0.1526323415888023], 0.5987470529428998, nothing))"
      ]
     },
     "execution_count": 34,
     "metadata": {},
     "output_type": "execute_result"
    }
   ],
   "source": [
    "res = oneDproj(yl,yu,real.(x1))"
   ]
  },
  {
   "cell_type": "code",
   "execution_count": 35,
   "metadata": {},
   "outputs": [
    {
     "data": {
      "text/plain": [
       "Results([0.001786042221944126, 0.3685793555817362], nothing, TestResults([-0.014598294019799942, 0.3849636918234803], 2.469364626535463, nothing), TestResults([-0.012359674818729119, 0.38272507262240946], 2.1319712170103826, nothing))"
      ]
     },
     "execution_count": 35,
     "metadata": {},
     "output_type": "execute_result"
    }
   ],
   "source": [
    "res = oneDproj(cps,:logwage_lower,:logwage_upper,:educ_num)"
   ]
  },
  {
   "cell_type": "markdown",
   "metadata": {},
   "source": [
    "### Plotting"
   ]
  },
  {
   "cell_type": "code",
   "execution_count": 36,
   "metadata": {},
   "outputs": [
    {
     "data": {
      "image/png": "[encoded data removed]",
      "image/svg+xml": [
       "<?xml version=\"1.0\" encoding=\"utf-8\"?>\n",
       "<svg xmlns=\"http://www.w3.org/2000/svg\" xmlns:xlink=\"http://www.w3.org/1999/xlink\" width=\"600\" height=\"120\" viewBox=\"0 0 2400 480\">\n",
       "<defs>\n",
       "  <clipPath id=\"clip860\">\n",
       "    <rect x=\"0\" y=\"0\" width=\"2400\" height=\"480\"/>\n",
       "  </clipPath>\n",
       "</defs>\n",
       "<path clip-path=\"url(#clip860)\" d=\"M0 480 L2400 480 L2400 0 L0 0  Z\" fill=\"#ffffff\" fill-rule=\"evenodd\" fill-opacity=\"1\"/>\n",
       "<defs>\n",
       "  <clipPath id=\"clip861\">\n",
       "    <rect x=\"480\" y=\"0\" width=\"1681\" height=\"480\"/>\n",
       "  </clipPath>\n",
       "</defs>\n",
       "<path clip-path=\"url(#clip860)\" d=\"M223.45 401.84 L2352.76 401.84 L2352.76 47.2441 L223.45 47.2441  Z\" fill=\"#ffffff\" fill-rule=\"evenodd\" fill-opacity=\"1\"/>\n",
       "<defs>\n",
       "  <clipPath id=\"clip862\">\n",
       "    <rect x=\"223\" y=\"47\" width=\"2130\" height=\"356\"/>\n",
       "  </clipPath>\n",
       "</defs>\n",
       "<polyline clip-path=\"url(#clip862)\" style=\"stroke:#000000; stroke-linecap:round; stroke-linejoin:round; stroke-width:2; stroke-opacity:0.1; fill:none\" points=\"465.722,401.84 465.722,47.2441 \"/>\n",
       "<polyline clip-path=\"url(#clip862)\" style=\"stroke:#000000; stroke-linecap:round; stroke-linejoin:round; stroke-width:2; stroke-opacity:0.1; fill:none\" points=\"909.813,401.84 909.813,47.2441 \"/>\n",
       "<polyline clip-path=\"url(#clip862)\" style=\"stroke:#000000; stroke-linecap:round; stroke-linejoin:round; stroke-width:2; stroke-opacity:0.1; fill:none\" points=\"1353.91,401.84 1353.91,47.2441 \"/>\n",
       "<polyline clip-path=\"url(#clip862)\" style=\"stroke:#000000; stroke-linecap:round; stroke-linejoin:round; stroke-width:2; stroke-opacity:0.1; fill:none\" points=\"1798,401.84 1798,47.2441 \"/>\n",
       "<polyline clip-path=\"url(#clip862)\" style=\"stroke:#000000; stroke-linecap:round; stroke-linejoin:round; stroke-width:2; stroke-opacity:0.1; fill:none\" points=\"2242.09,401.84 2242.09,47.2441 \"/>\n",
       "<polyline clip-path=\"url(#clip860)\" style=\"stroke:#000000; stroke-linecap:round; stroke-linejoin:round; stroke-width:4; stroke-opacity:1; fill:none\" points=\"223.45,401.84 2352.76,401.84 \"/>\n",
       "<polyline clip-path=\"url(#clip860)\" style=\"stroke:#000000; stroke-linecap:round; stroke-linejoin:round; stroke-width:4; stroke-opacity:1; fill:none\" points=\"465.722,401.84 465.722,382.942 \"/>\n",
       "<polyline clip-path=\"url(#clip860)\" style=\"stroke:#000000; stroke-linecap:round; stroke-linejoin:round; stroke-width:4; stroke-opacity:1; fill:none\" points=\"909.813,401.84 909.813,382.942 \"/>\n",
       "<polyline clip-path=\"url(#clip860)\" style=\"stroke:#000000; stroke-linecap:round; stroke-linejoin:round; stroke-width:4; stroke-opacity:1; fill:none\" points=\"1353.91,401.84 1353.91,382.942 \"/>\n",
       "<polyline clip-path=\"url(#clip860)\" style=\"stroke:#000000; stroke-linecap:round; stroke-linejoin:round; stroke-width:4; stroke-opacity:1; fill:none\" points=\"1798,401.84 1798,382.942 \"/>\n",
       "<polyline clip-path=\"url(#clip860)\" style=\"stroke:#000000; stroke-linecap:round; stroke-linejoin:round; stroke-width:4; stroke-opacity:1; fill:none\" points=\"2242.09,401.84 2242.09,382.942 \"/>\n",
       "<path clip-path=\"url(#clip860)\" d=\"M443.106 432.759 Q439.495 432.759 437.666 436.323 Q435.861 439.865 435.861 446.995 Q435.861 454.101 437.666 457.666 Q439.495 461.207 443.106 461.207 Q446.74 461.207 448.546 457.666 Q450.375 454.101 450.375 446.995 Q450.375 439.865 448.546 436.323 Q446.74 432.759 443.106 432.759 M443.106 429.055 Q448.916 429.055 451.972 433.661 Q455.05 438.245 455.05 446.995 Q455.05 455.721 451.972 460.328 Q448.916 464.911 443.106 464.911 Q437.296 464.911 434.217 460.328 Q431.162 455.721 431.162 446.995 Q431.162 438.245 434.217 433.661 Q437.296 429.055 443.106 429.055 Z\" fill=\"#000000\" fill-rule=\"nonzero\" fill-opacity=\"1\" /><path clip-path=\"url(#clip860)\" d=\"M463.268 458.36 L468.152 458.36 L468.152 464.24 L463.268 464.24 L463.268 458.36 Z\" fill=\"#000000\" fill-rule=\"nonzero\" fill-opacity=\"1\" /><path clip-path=\"url(#clip860)\" d=\"M488.337 432.759 Q484.726 432.759 482.898 436.323 Q481.092 439.865 481.092 446.995 Q481.092 454.101 482.898 457.666 Q484.726 461.207 488.337 461.207 Q491.972 461.207 493.777 457.666 Q495.606 454.101 495.606 446.995 Q495.606 439.865 493.777 436.323 Q491.972 432.759 488.337 432.759 M488.337 429.055 Q494.148 429.055 497.203 433.661 Q500.282 438.245 500.282 446.995 Q500.282 455.721 497.203 460.328 Q494.148 464.911 488.337 464.911 Q482.527 464.911 479.449 460.328 Q476.393 455.721 476.393 446.995 Q476.393 438.245 479.449 433.661 Q482.527 429.055 488.337 429.055 Z\" fill=\"#000000\" fill-rule=\"nonzero\" fill-opacity=\"1\" /><path clip-path=\"url(#clip860)\" d=\"M887.811 432.759 Q884.2 432.759 882.371 436.323 Q880.566 439.865 880.566 446.995 Q880.566 454.101 882.371 457.666 Q884.2 461.207 887.811 461.207 Q891.446 461.207 893.251 457.666 Q895.08 454.101 895.08 446.995 Q895.08 439.865 893.251 436.323 Q891.446 432.759 887.811 432.759 M887.811 429.055 Q893.621 429.055 896.677 433.661 Q899.756 438.245 899.756 446.995 Q899.756 455.721 896.677 460.328 Q893.621 464.911 887.811 464.911 Q882.001 464.911 878.922 460.328 Q875.867 455.721 875.867 446.995 Q875.867 438.245 878.922 433.661 Q882.001 429.055 887.811 429.055 Z\" fill=\"#000000\" fill-rule=\"nonzero\" fill-opacity=\"1\" /><path clip-path=\"url(#clip860)\" d=\"M907.973 458.36 L912.857 458.36 L912.857 464.24 L907.973 464.24 L907.973 458.36 Z\" fill=\"#000000\" fill-rule=\"nonzero\" fill-opacity=\"1\" /><path clip-path=\"url(#clip860)\" d=\"M923.853 460.305 L931.492 460.305 L931.492 433.939 L923.181 435.606 L923.181 431.347 L931.445 429.68 L936.121 429.68 L936.121 460.305 L943.76 460.305 L943.76 464.24 L923.853 464.24 L923.853 460.305 Z\" fill=\"#000000\" fill-rule=\"nonzero\" fill-opacity=\"1\" /><path clip-path=\"url(#clip860)\" d=\"M1332.09 432.759 Q1328.48 432.759 1326.65 436.323 Q1324.84 439.865 1324.84 446.995 Q1324.84 454.101 1326.65 457.666 Q1328.48 461.207 1332.09 461.207 Q1335.72 461.207 1337.53 457.666 Q1339.36 454.101 1339.36 446.995 Q1339.36 439.865 1337.53 436.323 Q1335.72 432.759 1332.09 432.759 M1332.09 429.055 Q1337.9 429.055 1340.95 433.661 Q1344.03 438.245 1344.03 446.995 Q1344.03 455.721 1340.95 460.328 Q1337.9 464.911 1332.09 464.911 Q1326.28 464.911 1323.2 460.328 Q1320.14 455.721 1320.14 446.995 Q1320.14 438.245 1323.2 433.661 Q1326.28 429.055 1332.09 429.055 Z\" fill=\"#000000\" fill-rule=\"nonzero\" fill-opacity=\"1\" /><path clip-path=\"url(#clip860)\" d=\"M1352.25 458.36 L1357.13 458.36 L1357.13 464.24 L1352.25 464.24 L1352.25 458.36 Z\" fill=\"#000000\" fill-rule=\"nonzero\" fill-opacity=\"1\" /><path clip-path=\"url(#clip860)\" d=\"M1371.35 460.305 L1387.67 460.305 L1387.67 464.24 L1365.72 464.24 L1365.72 460.305 Q1368.38 457.55 1372.97 452.92 Q1377.57 448.268 1378.75 446.925 Q1381 444.402 1381.88 442.666 Q1382.78 440.907 1382.78 439.217 Q1382.78 436.462 1380.84 434.726 Q1378.92 432.99 1375.81 432.99 Q1373.62 432.99 1371.16 433.754 Q1368.73 434.518 1365.95 436.069 L1365.95 431.347 Q1368.78 430.212 1371.23 429.634 Q1373.69 429.055 1375.72 429.055 Q1381.09 429.055 1384.29 431.74 Q1387.48 434.425 1387.48 438.916 Q1387.48 441.046 1386.67 442.967 Q1385.88 444.865 1383.78 447.458 Q1383.2 448.129 1380.1 451.346 Q1377 454.541 1371.35 460.305 Z\" fill=\"#000000\" fill-rule=\"nonzero\" fill-opacity=\"1\" /><path clip-path=\"url(#clip860)\" d=\"M1775.71 432.759 Q1772.09 432.759 1770.27 436.323 Q1768.46 439.865 1768.46 446.995 Q1768.46 454.101 1770.27 457.666 Q1772.09 461.207 1775.71 461.207 Q1779.34 461.207 1781.15 457.666 Q1782.97 454.101 1782.97 446.995 Q1782.97 439.865 1781.15 436.323 Q1779.34 432.759 1775.71 432.759 M1775.71 429.055 Q1781.52 429.055 1784.57 433.661 Q1787.65 438.245 1787.65 446.995 Q1787.65 455.721 1784.57 460.328 Q1781.52 464.911 1775.71 464.911 Q1769.9 464.911 1766.82 460.328 Q1763.76 455.721 1763.76 446.995 Q1763.76 438.245 1766.82 433.661 Q1769.9 429.055 1775.71 429.055 Z\" fill=\"#000000\" fill-rule=\"nonzero\" fill-opacity=\"1\" /><path clip-path=\"url(#clip860)\" d=\"M1795.87 458.36 L1800.75 458.36 L1800.75 464.24 L1795.87 464.24 L1795.87 458.36 Z\" fill=\"#000000\" fill-rule=\"nonzero\" fill-opacity=\"1\" /><path clip-path=\"url(#clip860)\" d=\"M1825.1 445.606 Q1828.46 446.323 1830.33 448.592 Q1832.23 450.86 1832.23 454.194 Q1832.23 459.309 1828.71 462.11 Q1825.2 464.911 1818.71 464.911 Q1816.54 464.911 1814.22 464.471 Q1811.93 464.055 1809.48 463.198 L1809.48 458.684 Q1811.42 459.819 1813.74 460.397 Q1816.05 460.976 1818.58 460.976 Q1822.97 460.976 1825.27 459.24 Q1827.58 457.504 1827.58 454.194 Q1827.58 451.138 1825.43 449.425 Q1823.3 447.689 1819.48 447.689 L1815.45 447.689 L1815.45 443.846 L1819.66 443.846 Q1823.11 443.846 1824.94 442.481 Q1826.77 441.092 1826.77 438.499 Q1826.77 435.837 1824.87 434.425 Q1823 432.99 1819.48 432.99 Q1817.56 432.99 1815.36 433.407 Q1813.16 433.823 1810.52 434.703 L1810.52 430.536 Q1813.18 429.796 1815.5 429.425 Q1817.83 429.055 1819.9 429.055 Q1825.22 429.055 1828.32 431.485 Q1831.42 433.893 1831.42 438.013 Q1831.42 440.884 1829.78 442.874 Q1828.14 444.842 1825.1 445.606 Z\" fill=\"#000000\" fill-rule=\"nonzero\" fill-opacity=\"1\" /><path clip-path=\"url(#clip860)\" d=\"M2219.23 432.759 Q2215.62 432.759 2213.79 436.323 Q2211.98 439.865 2211.98 446.995 Q2211.98 454.101 2213.79 457.666 Q2215.62 461.207 2219.23 461.207 Q2222.86 461.207 2224.67 457.666 Q2226.5 454.101 2226.5 446.995 Q2226.5 439.865 2224.67 436.323 Q2222.86 432.759 2219.23 432.759 M2219.23 429.055 Q2225.04 429.055 2228.1 433.661 Q2231.17 438.245 2231.17 446.995 Q2231.17 455.721 2228.1 460.328 Q2225.04 464.911 2219.23 464.911 Q2213.42 464.911 2210.34 460.328 Q2207.29 455.721 2207.29 446.995 Q2207.29 438.245 2210.34 433.661 Q2213.42 429.055 2219.23 429.055 Z\" fill=\"#000000\" fill-rule=\"nonzero\" fill-opacity=\"1\" /><path clip-path=\"url(#clip860)\" d=\"M2239.39 458.36 L2244.28 458.36 L2244.28 464.24 L2239.39 464.24 L2239.39 458.36 Z\" fill=\"#000000\" fill-rule=\"nonzero\" fill-opacity=\"1\" /><path clip-path=\"url(#clip860)\" d=\"M2267.31 433.754 L2255.5 452.203 L2267.31 452.203 L2267.31 433.754 M2266.08 429.68 L2271.96 429.68 L2271.96 452.203 L2276.89 452.203 L2276.89 456.092 L2271.96 456.092 L2271.96 464.24 L2267.31 464.24 L2267.31 456.092 L2251.71 456.092 L2251.71 451.578 L2266.08 429.68 Z\" fill=\"#000000\" fill-rule=\"nonzero\" fill-opacity=\"1\" /><polyline clip-path=\"url(#clip862)\" style=\"stroke:#000000; stroke-linecap:round; stroke-linejoin:round; stroke-width:2; stroke-opacity:0.1; fill:none\" points=\"223.45,357.515 2352.76,357.515 \"/>\n",
       "<polyline clip-path=\"url(#clip862)\" style=\"stroke:#000000; stroke-linecap:round; stroke-linejoin:round; stroke-width:2; stroke-opacity:0.1; fill:none\" points=\"223.45,313.191 2352.76,313.191 \"/>\n",
       "<polyline clip-path=\"url(#clip862)\" style=\"stroke:#000000; stroke-linecap:round; stroke-linejoin:round; stroke-width:2; stroke-opacity:0.1; fill:none\" points=\"223.45,268.866 2352.76,268.866 \"/>\n",
       "<polyline clip-path=\"url(#clip862)\" style=\"stroke:#000000; stroke-linecap:round; stroke-linejoin:round; stroke-width:2; stroke-opacity:0.1; fill:none\" points=\"223.45,224.542 2352.76,224.542 \"/>\n",
       "<polyline clip-path=\"url(#clip862)\" style=\"stroke:#000000; stroke-linecap:round; stroke-linejoin:round; stroke-width:2; stroke-opacity:0.1; fill:none\" points=\"223.45,180.218 2352.76,180.218 \"/>\n",
       "<polyline clip-path=\"url(#clip862)\" style=\"stroke:#000000; stroke-linecap:round; stroke-linejoin:round; stroke-width:2; stroke-opacity:0.1; fill:none\" points=\"223.45,135.893 2352.76,135.893 \"/>\n",
       "<polyline clip-path=\"url(#clip862)\" style=\"stroke:#000000; stroke-linecap:round; stroke-linejoin:round; stroke-width:2; stroke-opacity:0.1; fill:none\" points=\"223.45,91.5686 2352.76,91.5686 \"/>\n",
       "<line clip-path=\"url(#clip862)\" x1=\"400.892\" y1=\"308.866\" x2=\"400.892\" y2=\"228.866\" style=\"stroke:#ff0000; stroke-width:3.84; stroke-opacity:1\"/>\n",
       "<line clip-path=\"url(#clip862)\" x1=\"473.653\" y1=\"220.218\" x2=\"473.653\" y2=\"140.218\" style=\"stroke:#0000ff; stroke-width:3.84; stroke-opacity:1\"/>\n",
       "<line clip-path=\"url(#clip862)\" x1=\"2102.55\" y1=\"220.218\" x2=\"2102.55\" y2=\"140.218\" style=\"stroke:#0000ff; stroke-width:3.84; stroke-opacity:1\"/>\n",
       "<line clip-path=\"url(#clip862)\" x1=\"2175.31\" y1=\"308.866\" x2=\"2175.31\" y2=\"228.866\" style=\"stroke:#ff0000; stroke-width:3.84; stroke-opacity:1\"/>\n",
       "<polyline clip-path=\"url(#clip862)\" style=\"stroke:#0000ff; stroke-linecap:round; stroke-linejoin:round; stroke-width:4; stroke-opacity:1; fill:none\" points=\"473.653,180.218 2102.55,180.218 \"/>\n",
       "<polyline clip-path=\"url(#clip862)\" style=\"stroke:#ff0000; stroke-linecap:round; stroke-linejoin:round; stroke-width:4; stroke-opacity:1; fill:none\" points=\"400.892,268.866 2175.31,268.866 \"/>\n",
       "<path clip-path=\"url(#clip860)\" d=\"M354.982 66.7163 Q348.663 66.7163 345.463 72.9547 Q342.303 79.1525 342.303 91.6293 Q342.303 104.066 345.463 110.304 Q348.663 116.502 354.982 116.502 Q361.342 116.502 364.502 110.304 Q367.702 104.066 367.702 91.6293 Q367.702 79.1525 364.502 72.9547 Q361.342 66.7163 354.982 66.7163 M354.982 60.2348 Q365.15 60.2348 370.497 68.2961 Q375.885 76.3169 375.885 91.6293 Q375.885 106.901 370.497 114.963 Q365.15 122.983 354.982 122.983 Q344.814 122.983 339.427 114.963 Q334.079 106.901 334.079 91.6293 Q334.079 76.3169 339.427 68.2961 Q344.814 60.2348 354.982 60.2348 Z\" fill=\"#0000ff\" fill-rule=\"nonzero\" fill-opacity=\"1\" /><path clip-path=\"url(#clip860)\" d=\"M390.266 111.519 L398.813 111.519 L398.813 121.809 L390.266 121.809 L390.266 111.519 Z\" fill=\"#0000ff\" fill-rule=\"nonzero\" fill-opacity=\"1\" /><path clip-path=\"url(#clip860)\" d=\"M434.137 66.7163 Q427.817 66.7163 424.617 72.9547 Q421.457 79.1525 421.457 91.6293 Q421.457 104.066 424.617 110.304 Q427.817 116.502 434.137 116.502 Q440.497 116.502 443.656 110.304 Q446.857 104.066 446.857 91.6293 Q446.857 79.1525 443.656 72.9547 Q440.497 66.7163 434.137 66.7163 M434.137 60.2348 Q444.305 60.2348 449.652 68.2961 Q455.039 76.3169 455.039 91.6293 Q455.039 106.901 449.652 114.963 Q444.305 122.983 434.137 122.983 Q423.969 122.983 418.581 114.963 Q413.234 106.901 413.234 91.6293 Q413.234 76.3169 418.581 68.2961 Q423.969 60.2348 434.137 60.2348 Z\" fill=\"#0000ff\" fill-rule=\"nonzero\" fill-opacity=\"1\" /><path clip-path=\"url(#clip860)\" d=\"M486.92 66.7163 Q480.601 66.7163 477.4 72.9547 Q474.241 79.1525 474.241 91.6293 Q474.241 104.066 477.4 110.304 Q480.601 116.502 486.92 116.502 Q493.28 116.502 496.44 110.304 Q499.64 104.066 499.64 91.6293 Q499.64 79.1525 496.44 72.9547 Q493.28 66.7163 486.92 66.7163 M486.92 60.2348 Q497.088 60.2348 502.435 68.2961 Q507.823 76.3169 507.823 91.6293 Q507.823 106.901 502.435 114.963 Q497.088 122.983 486.92 122.983 Q476.752 122.983 471.365 114.963 Q466.017 106.901 466.017 91.6293 Q466.017 76.3169 471.365 68.2961 Q476.752 60.2348 486.92 60.2348 Z\" fill=\"#0000ff\" fill-rule=\"nonzero\" fill-opacity=\"1\" /><path clip-path=\"url(#clip860)\" d=\"M523.621 114.922 L536.989 114.922 L536.989 68.7822 L522.447 71.6989 L522.447 64.2452 L536.908 61.3286 L545.091 61.3286 L545.091 114.922 L558.459 114.922 L558.459 121.809 L523.621 121.809 L523.621 114.922 Z\" fill=\"#0000ff\" fill-rule=\"nonzero\" fill-opacity=\"1\" /><path clip-path=\"url(#clip860)\" d=\"M592.487 93.0877 Q586.653 93.0877 583.291 96.2069 Q579.969 99.326 579.969 104.795 Q579.969 110.263 583.291 113.383 Q586.653 116.502 592.487 116.502 Q598.32 116.502 601.682 113.383 Q605.044 110.223 605.044 104.795 Q605.044 99.326 601.682 96.2069 Q598.36 93.0877 592.487 93.0877 M584.304 89.6039 Q579.038 88.3076 576.081 84.7023 Q573.164 81.097 573.164 75.9118 Q573.164 68.6607 578.309 64.4478 Q583.494 60.2348 592.487 60.2348 Q601.52 60.2348 606.665 64.4478 Q611.809 68.6607 611.809 75.9118 Q611.809 81.097 608.852 84.7023 Q605.936 88.3076 600.71 89.6039 Q606.624 90.9812 609.906 94.9916 Q613.227 99.002 613.227 104.795 Q613.227 113.585 607.84 118.284 Q602.492 122.983 592.487 122.983 Q582.481 122.983 577.093 118.284 Q571.746 113.585 571.746 104.795 Q571.746 99.002 575.068 94.9916 Q578.39 90.9812 584.304 89.6039 M581.306 76.6815 Q581.306 81.3805 584.223 84.0136 Q587.18 86.6467 592.487 86.6467 Q597.753 86.6467 600.71 84.0136 Q603.708 81.3805 603.708 76.6815 Q603.708 71.9824 600.71 69.3494 Q597.753 66.7163 592.487 66.7163 Q587.18 66.7163 584.223 69.3494 Q581.306 71.9824 581.306 76.6815 Z\" fill=\"#0000ff\" fill-rule=\"nonzero\" fill-opacity=\"1\" /><path clip-path=\"url(#clip860)\" d=\"M1983.66 66.7163 Q1977.34 66.7163 1974.14 72.9547 Q1970.98 79.1525 1970.98 91.6293 Q1970.98 104.066 1974.14 110.304 Q1977.34 116.502 1983.66 116.502 Q1990.02 116.502 1993.18 110.304 Q1996.38 104.066 1996.38 91.6293 Q1996.38 79.1525 1993.18 72.9547 Q1990.02 66.7163 1983.66 66.7163 M1983.66 60.2348 Q1993.83 60.2348 1999.17 68.2961 Q2004.56 76.3169 2004.56 91.6293 Q2004.56 106.901 1999.17 114.963 Q1993.83 122.983 1983.66 122.983 Q1973.49 122.983 1968.1 114.963 Q1962.76 106.901 1962.76 91.6293 Q1962.76 76.3169 1968.1 68.2961 Q1973.49 60.2348 1983.66 60.2348 Z\" fill=\"#0000ff\" fill-rule=\"nonzero\" fill-opacity=\"1\" /><path clip-path=\"url(#clip860)\" d=\"M2018.94 111.519 L2027.49 111.519 L2027.49 121.809 L2018.94 121.809 L2018.94 111.519 Z\" fill=\"#0000ff\" fill-rule=\"nonzero\" fill-opacity=\"1\" /><path clip-path=\"url(#clip860)\" d=\"M2070.1 89.1988 Q2075.98 90.4546 2079.26 94.4245 Q2082.58 98.3943 2082.58 104.228 Q2082.58 113.18 2076.42 118.082 Q2070.27 122.983 2058.92 122.983 Q2055.12 122.983 2051.07 122.214 Q2047.05 121.484 2042.76 119.986 L2042.76 112.086 Q2046.16 114.071 2050.21 115.084 Q2054.27 116.097 2058.68 116.097 Q2066.38 116.097 2070.39 113.059 Q2074.44 110.02 2074.44 104.228 Q2074.44 98.8804 2070.67 95.8828 Q2066.94 92.8446 2060.26 92.8446 L2053.21 92.8446 L2053.21 86.1201 L2060.58 86.1201 Q2066.62 86.1201 2069.82 83.7301 Q2073.02 81.2995 2073.02 76.7625 Q2073.02 72.104 2069.7 69.6329 Q2066.42 67.1214 2060.26 67.1214 Q2056.9 67.1214 2053.05 67.8505 Q2049.2 68.5797 2044.58 70.119 L2044.58 62.8274 Q2049.24 61.5311 2053.29 60.883 Q2057.38 60.2348 2060.99 60.2348 Q2070.31 60.2348 2075.74 64.4883 Q2081.16 68.7012 2081.16 75.9118 Q2081.16 80.9349 2078.29 84.4187 Q2075.41 87.862 2070.1 89.1988 Z\" fill=\"#0000ff\" fill-rule=\"nonzero\" fill-opacity=\"1\" /><path clip-path=\"url(#clip860)\" d=\"M2116.61 88.3076 Q2111.1 88.3076 2107.86 92.0749 Q2104.66 95.8423 2104.66 102.405 Q2104.66 108.927 2107.86 112.735 Q2111.1 116.502 2116.61 116.502 Q2122.12 116.502 2125.32 112.735 Q2128.56 108.927 2128.56 102.405 Q2128.56 95.8423 2125.32 92.0749 Q2122.12 88.3076 2116.61 88.3076 M2132.85 62.6654 L2132.85 70.119 Q2129.77 68.6607 2126.61 67.891 Q2123.5 67.1214 2120.42 67.1214 Q2112.31 67.1214 2108.02 72.5901 Q2103.77 78.0588 2103.16 89.1178 Q2105.55 85.5935 2109.16 83.7301 Q2112.76 81.8261 2117.09 81.8261 Q2126.21 81.8261 2131.48 87.3759 Q2136.78 92.8851 2136.78 102.405 Q2136.78 111.722 2131.27 117.353 Q2125.76 122.983 2116.61 122.983 Q2106.12 122.983 2100.57 114.963 Q2095.02 106.901 2095.02 91.6293 Q2095.02 77.2891 2101.82 68.7822 Q2108.63 60.2348 2120.09 60.2348 Q2123.17 60.2348 2126.29 60.8425 Q2129.45 61.4501 2132.85 62.6654 Z\" fill=\"#0000ff\" fill-rule=\"nonzero\" fill-opacity=\"1\" /><path clip-path=\"url(#clip860)\" d=\"M2168.38 93.0877 Q2162.55 93.0877 2159.18 96.2069 Q2155.86 99.326 2155.86 104.795 Q2155.86 110.263 2159.18 113.383 Q2162.55 116.502 2168.38 116.502 Q2174.21 116.502 2177.57 113.383 Q2180.94 110.223 2180.94 104.795 Q2180.94 99.326 2177.57 96.2069 Q2174.25 93.0877 2168.38 93.0877 M2160.2 89.6039 Q2154.93 88.3076 2151.97 84.7023 Q2149.06 81.097 2149.06 75.9118 Q2149.06 68.6607 2154.2 64.4478 Q2159.39 60.2348 2168.38 60.2348 Q2177.41 60.2348 2182.56 64.4478 Q2187.7 68.6607 2187.7 75.9118 Q2187.7 81.097 2184.75 84.7023 Q2181.83 88.3076 2176.6 89.6039 Q2182.52 90.9812 2185.8 94.9916 Q2189.12 99.002 2189.12 104.795 Q2189.12 113.585 2183.73 118.284 Q2178.39 122.983 2168.38 122.983 Q2158.37 122.983 2152.99 118.284 Q2147.64 113.585 2147.64 104.795 Q2147.64 99.002 2150.96 94.9916 Q2154.28 90.9812 2160.2 89.6039 M2157.2 76.6815 Q2157.2 81.3805 2160.12 84.0136 Q2163.07 86.6467 2168.38 86.6467 Q2173.65 86.6467 2176.6 84.0136 Q2179.6 81.3805 2179.6 76.6815 Q2179.6 71.9824 2176.6 69.3494 Q2173.65 66.7163 2168.38 66.7163 Q2163.07 66.7163 2160.12 69.3494 Q2157.2 71.9824 2157.2 76.6815 Z\" fill=\"#0000ff\" fill-rule=\"nonzero\" fill-opacity=\"1\" /><path clip-path=\"url(#clip860)\" d=\"M2222.18 88.3076 Q2216.67 88.3076 2213.43 92.0749 Q2210.23 95.8423 2210.23 102.405 Q2210.23 108.927 2213.43 112.735 Q2216.67 116.502 2222.18 116.502 Q2227.68 116.502 2230.88 112.735 Q2234.13 108.927 2234.13 102.405 Q2234.13 95.8423 2230.88 92.0749 Q2227.68 88.3076 2222.18 88.3076 M2238.42 62.6654 L2238.42 70.119 Q2235.34 68.6607 2232.18 67.891 Q2229.06 67.1214 2225.98 67.1214 Q2217.88 67.1214 2213.59 72.5901 Q2209.33 78.0588 2208.73 89.1178 Q2211.12 85.5935 2214.72 83.7301 Q2218.33 81.8261 2222.66 81.8261 Q2231.78 81.8261 2237.04 87.3759 Q2242.35 92.8851 2242.35 102.405 Q2242.35 111.722 2236.84 117.353 Q2231.33 122.983 2222.18 122.983 Q2211.68 122.983 2206.13 114.963 Q2200.58 106.901 2200.58 91.6293 Q2200.58 77.2891 2207.39 68.7822 Q2214.2 60.2348 2225.66 60.2348 Q2228.74 60.2348 2231.86 60.8425 Q2235.02 61.4501 2238.42 62.6654 Z\" fill=\"#0000ff\" fill-rule=\"nonzero\" fill-opacity=\"1\" /><path clip-path=\"url(#clip860)\" d=\"M245.418 361.708 L267.253 361.708 L267.253 368.352 L245.418 368.352 L245.418 361.708 Z\" fill=\"#ff0000\" fill-rule=\"nonzero\" fill-opacity=\"1\" /><path clip-path=\"url(#clip860)\" d=\"M297.675 332.663 Q291.355 332.663 288.155 338.901 Q284.996 345.099 284.996 357.576 Q284.996 370.012 288.155 376.251 Q291.355 382.449 297.675 382.449 Q304.035 382.449 307.194 376.251 Q310.395 370.012 310.395 357.576 Q310.395 345.099 307.194 338.901 Q304.035 332.663 297.675 332.663 M297.675 326.182 Q307.843 326.182 313.19 334.243 Q318.578 342.264 318.578 357.576 Q318.578 372.848 313.19 380.909 Q307.843 388.93 297.675 388.93 Q287.507 388.93 282.119 380.909 Q276.772 372.848 276.772 357.576 Q276.772 342.264 282.119 334.243 Q287.507 326.182 297.675 326.182 Z\" fill=\"#ff0000\" fill-rule=\"nonzero\" fill-opacity=\"1\" /><path clip-path=\"url(#clip860)\" d=\"M332.958 377.466 L341.506 377.466 L341.506 387.755 L332.958 387.755 L332.958 377.466 Z\" fill=\"#ff0000\" fill-rule=\"nonzero\" fill-opacity=\"1\" /><path clip-path=\"url(#clip860)\" d=\"M376.83 332.663 Q370.51 332.663 367.31 338.901 Q364.15 345.099 364.15 357.576 Q364.15 370.012 367.31 376.251 Q370.51 382.449 376.83 382.449 Q383.189 382.449 386.349 376.251 Q389.549 370.012 389.549 357.576 Q389.549 345.099 386.349 338.901 Q383.189 332.663 376.83 332.663 M376.83 326.182 Q386.997 326.182 392.345 334.243 Q397.732 342.264 397.732 357.576 Q397.732 372.848 392.345 380.909 Q386.997 388.93 376.83 388.93 Q366.662 388.93 361.274 380.909 Q355.927 372.848 355.927 357.576 Q355.927 342.264 361.274 334.243 Q366.662 326.182 376.83 326.182 Z\" fill=\"#ff0000\" fill-rule=\"nonzero\" fill-opacity=\"1\" /><path clip-path=\"url(#clip860)\" d=\"M413.531 380.869 L426.899 380.869 L426.899 334.729 L412.356 337.646 L412.356 330.192 L426.818 327.275 L435.001 327.275 L435.001 380.869 L448.369 380.869 L448.369 387.755 L413.531 387.755 L413.531 380.869 Z\" fill=\"#ff0000\" fill-rule=\"nonzero\" fill-opacity=\"1\" /><path clip-path=\"url(#clip860)\" d=\"M487.379 334.405 L466.719 366.691 L487.379 366.691 L487.379 334.405 M485.232 327.275 L495.521 327.275 L495.521 366.691 L504.149 366.691 L504.149 373.496 L495.521 373.496 L495.521 387.755 L487.379 387.755 L487.379 373.496 L460.076 373.496 L460.076 365.597 L485.232 327.275 Z\" fill=\"#ff0000\" fill-rule=\"nonzero\" fill-opacity=\"1\" /><path clip-path=\"url(#clip860)\" d=\"M536.192 354.254 Q530.683 354.254 527.442 358.022 Q524.242 361.789 524.242 368.352 Q524.242 374.874 527.442 378.681 Q530.683 382.449 536.192 382.449 Q541.701 382.449 544.902 378.681 Q548.142 374.874 548.142 368.352 Q548.142 361.789 544.902 358.022 Q541.701 354.254 536.192 354.254 M552.436 328.612 L552.436 336.066 Q549.358 334.608 546.198 333.838 Q543.079 333.068 540 333.068 Q531.898 333.068 527.604 338.537 Q523.351 344.006 522.743 355.065 Q525.133 351.54 528.738 349.677 Q532.344 347.773 536.678 347.773 Q545.793 347.773 551.059 353.323 Q556.366 358.832 556.366 368.352 Q556.366 377.669 550.856 383.299 Q545.347 388.93 536.192 388.93 Q525.7 388.93 520.151 380.909 Q514.601 372.848 514.601 357.576 Q514.601 343.236 521.406 334.729 Q528.212 326.182 539.676 326.182 Q542.755 326.182 545.874 326.789 Q549.033 327.397 552.436 328.612 Z\" fill=\"#ff0000\" fill-rule=\"nonzero\" fill-opacity=\"1\" /><path clip-path=\"url(#clip860)\" d=\"M2083.82 332.663 Q2077.5 332.663 2074.3 338.901 Q2071.14 345.099 2071.14 357.576 Q2071.14 370.012 2074.3 376.251 Q2077.5 382.449 2083.82 382.449 Q2090.18 382.449 2093.34 376.251 Q2096.54 370.012 2096.54 357.576 Q2096.54 345.099 2093.34 338.901 Q2090.18 332.663 2083.82 332.663 M2083.82 326.182 Q2093.99 326.182 2099.34 334.243 Q2104.73 342.264 2104.73 357.576 Q2104.73 372.848 2099.34 380.909 Q2093.99 388.93 2083.82 388.93 Q2073.66 388.93 2068.27 380.909 Q2062.92 372.848 2062.92 357.576 Q2062.92 342.264 2068.27 334.243 Q2073.66 326.182 2083.82 326.182 Z\" fill=\"#ff0000\" fill-rule=\"nonzero\" fill-opacity=\"1\" /><path clip-path=\"url(#clip860)\" d=\"M2119.11 377.466 L2127.65 377.466 L2127.65 387.755 L2119.11 387.755 L2119.11 377.466 Z\" fill=\"#ff0000\" fill-rule=\"nonzero\" fill-opacity=\"1\" /><path clip-path=\"url(#clip860)\" d=\"M2170.27 355.146 Q2176.14 356.401 2179.43 360.371 Q2182.75 364.341 2182.75 370.174 Q2182.75 379.127 2176.59 384.029 Q2170.43 388.93 2159.09 388.93 Q2155.28 388.93 2151.23 388.16 Q2147.22 387.431 2142.93 385.932 L2142.93 378.033 Q2146.33 380.018 2150.38 381.031 Q2154.43 382.044 2158.85 382.044 Q2166.54 382.044 2170.55 379.005 Q2174.6 375.967 2174.6 370.174 Q2174.6 364.827 2170.84 361.83 Q2167.11 358.791 2160.43 358.791 L2153.38 358.791 L2153.38 352.067 L2160.75 352.067 Q2166.79 352.067 2169.99 349.677 Q2173.19 347.246 2173.19 342.709 Q2173.19 338.051 2169.87 335.58 Q2166.58 333.068 2160.43 333.068 Q2157.06 333.068 2153.22 333.797 Q2149.37 334.527 2144.75 336.066 L2144.75 328.774 Q2149.41 327.478 2153.46 326.83 Q2157.55 326.182 2161.16 326.182 Q2170.47 326.182 2175.9 330.435 Q2181.33 334.648 2181.33 341.859 Q2181.33 346.882 2178.45 350.366 Q2175.58 353.809 2170.27 355.146 Z\" fill=\"#ff0000\" fill-rule=\"nonzero\" fill-opacity=\"1\" /><path clip-path=\"url(#clip860)\" d=\"M2215.76 359.034 Q2209.93 359.034 2206.57 362.154 Q2203.24 365.273 2203.24 370.742 Q2203.24 376.21 2206.57 379.33 Q2209.93 382.449 2215.76 382.449 Q2221.6 382.449 2224.96 379.33 Q2228.32 376.17 2228.32 370.742 Q2228.32 365.273 2224.96 362.154 Q2221.64 359.034 2215.76 359.034 M2207.58 355.551 Q2202.31 354.254 2199.36 350.649 Q2196.44 347.044 2196.44 341.859 Q2196.44 334.608 2201.58 330.395 Q2206.77 326.182 2215.76 326.182 Q2224.8 326.182 2229.94 330.395 Q2235.08 334.608 2235.08 341.859 Q2235.08 347.044 2232.13 350.649 Q2229.21 354.254 2223.99 355.551 Q2229.9 356.928 2233.18 360.938 Q2236.5 364.949 2236.5 370.742 Q2236.5 379.532 2231.11 384.231 Q2225.77 388.93 2215.76 388.93 Q2205.76 388.93 2200.37 384.231 Q2195.02 379.532 2195.02 370.742 Q2195.02 364.949 2198.34 360.938 Q2201.66 356.928 2207.58 355.551 M2204.58 342.628 Q2204.58 347.327 2207.5 349.96 Q2210.46 352.594 2215.76 352.594 Q2221.03 352.594 2223.99 349.96 Q2226.98 347.327 2226.98 342.628 Q2226.98 337.929 2223.99 335.296 Q2221.03 332.663 2215.76 332.663 Q2210.46 332.663 2207.5 335.296 Q2204.58 337.929 2204.58 342.628 Z\" fill=\"#ff0000\" fill-rule=\"nonzero\" fill-opacity=\"1\" /><path clip-path=\"url(#clip860)\" d=\"M2251.13 327.275 L2283.25 327.275 L2283.25 334.162 L2258.62 334.162 L2258.62 348.988 Q2260.4 348.381 2262.19 348.097 Q2263.97 347.773 2265.75 347.773 Q2275.88 347.773 2281.79 353.323 Q2287.71 358.872 2287.71 368.352 Q2287.71 378.114 2281.63 383.542 Q2275.55 388.93 2264.49 388.93 Q2260.69 388.93 2256.72 388.282 Q2252.79 387.634 2248.57 386.338 L2248.57 378.114 Q2252.22 380.099 2256.11 381.071 Q2260 382.044 2264.33 382.044 Q2271.34 382.044 2275.43 378.357 Q2279.52 374.671 2279.52 368.352 Q2279.52 362.032 2275.43 358.346 Q2271.34 354.66 2264.33 354.66 Q2261.05 354.66 2257.77 355.389 Q2254.53 356.118 2251.13 357.657 L2251.13 327.275 Z\" fill=\"#ff0000\" fill-rule=\"nonzero\" fill-opacity=\"1\" /></svg>\n"
      ],
      "text/html": [
       "<?xml version=\"1.0\" encoding=\"utf-8\"?>\n",
       "<svg xmlns=\"http://www.w3.org/2000/svg\" xmlns:xlink=\"http://www.w3.org/1999/xlink\" width=\"600\" height=\"120\" viewBox=\"0 0 2400 480\">\n",
       "<defs>\n",
       "  <clipPath id=\"clip910\">\n",
       "    <rect x=\"0\" y=\"0\" width=\"2400\" height=\"480\"/>\n",
       "  </clipPath>\n",
       "</defs>\n",
       "<path clip-path=\"url(#clip910)\" d=\"M0 480 L2400 480 L2400 0 L0 0  Z\" fill=\"#ffffff\" fill-rule=\"evenodd\" fill-opacity=\"1\"/>\n",
       "<defs>\n",
       "  <clipPath id=\"clip911\">\n",
       "    <rect x=\"480\" y=\"0\" width=\"1681\" height=\"480\"/>\n",
       "  </clipPath>\n",
       "</defs>\n",
       "<path clip-path=\"url(#clip910)\" d=\"M223.45 401.84 L2352.76 401.84 L2352.76 47.2441 L223.45 47.2441  Z\" fill=\"#ffffff\" fill-rule=\"evenodd\" fill-opacity=\"1\"/>\n",
       "<defs>\n",
       "  <clipPath id=\"clip912\">\n",
       "    <rect x=\"223\" y=\"47\" width=\"2130\" height=\"356\"/>\n",
       "  </clipPath>\n",
       "</defs>\n",
       "<polyline clip-path=\"url(#clip912)\" style=\"stroke:#000000; stroke-linecap:round; stroke-linejoin:round; stroke-width:2; stroke-opacity:0.1; fill:none\" points=\"465.722,401.84 465.722,47.2441 \"/>\n",
       "<polyline clip-path=\"url(#clip912)\" style=\"stroke:#000000; stroke-linecap:round; stroke-linejoin:round; stroke-width:2; stroke-opacity:0.1; fill:none\" points=\"909.813,401.84 909.813,47.2441 \"/>\n",
       "<polyline clip-path=\"url(#clip912)\" style=\"stroke:#000000; stroke-linecap:round; stroke-linejoin:round; stroke-width:2; stroke-opacity:0.1; fill:none\" points=\"1353.91,401.84 1353.91,47.2441 \"/>\n",
       "<polyline clip-path=\"url(#clip912)\" style=\"stroke:#000000; stroke-linecap:round; stroke-linejoin:round; stroke-width:2; stroke-opacity:0.1; fill:none\" points=\"1798,401.84 1798,47.2441 \"/>\n",
       "<polyline clip-path=\"url(#clip912)\" style=\"stroke:#000000; stroke-linecap:round; stroke-linejoin:round; stroke-width:2; stroke-opacity:0.1; fill:none\" points=\"2242.09,401.84 2242.09,47.2441 \"/>\n",
       "<polyline clip-path=\"url(#clip910)\" style=\"stroke:#000000; stroke-linecap:round; stroke-linejoin:round; stroke-width:4; stroke-opacity:1; fill:none\" points=\"223.45,401.84 2352.76,401.84 \"/>\n",
       "<polyline clip-path=\"url(#clip910)\" style=\"stroke:#000000; stroke-linecap:round; stroke-linejoin:round; stroke-width:4; stroke-opacity:1; fill:none\" points=\"465.722,401.84 465.722,382.942 \"/>\n",
       "<polyline clip-path=\"url(#clip910)\" style=\"stroke:#000000; stroke-linecap:round; stroke-linejoin:round; stroke-width:4; stroke-opacity:1; fill:none\" points=\"909.813,401.84 909.813,382.942 \"/>\n",
       "<polyline clip-path=\"url(#clip910)\" style=\"stroke:#000000; stroke-linecap:round; stroke-linejoin:round; stroke-width:4; stroke-opacity:1; fill:none\" points=\"1353.91,401.84 1353.91,382.942 \"/>\n",
       "<polyline clip-path=\"url(#clip910)\" style=\"stroke:#000000; stroke-linecap:round; stroke-linejoin:round; stroke-width:4; stroke-opacity:1; fill:none\" points=\"1798,401.84 1798,382.942 \"/>\n",
       "<polyline clip-path=\"url(#clip910)\" style=\"stroke:#000000; stroke-linecap:round; stroke-linejoin:round; stroke-width:4; stroke-opacity:1; fill:none\" points=\"2242.09,401.84 2242.09,382.942 \"/>\n",
       "<path clip-path=\"url(#clip910)\" d=\"M443.106 432.759 Q439.495 432.759 437.666 436.323 Q435.861 439.865 435.861 446.995 Q435.861 454.101 437.666 457.666 Q439.495 461.207 443.106 461.207 Q446.74 461.207 448.546 457.666 Q450.375 454.101 450.375 446.995 Q450.375 439.865 448.546 436.323 Q446.74 432.759 443.106 432.759 M443.106 429.055 Q448.916 429.055 451.972 433.661 Q455.05 438.245 455.05 446.995 Q455.05 455.721 451.972 460.328 Q448.916 464.911 443.106 464.911 Q437.296 464.911 434.217 460.328 Q431.162 455.721 431.162 446.995 Q431.162 438.245 434.217 433.661 Q437.296 429.055 443.106 429.055 Z\" fill=\"#000000\" fill-rule=\"nonzero\" fill-opacity=\"1\" /><path clip-path=\"url(#clip910)\" d=\"M463.268 458.36 L468.152 458.36 L468.152 464.24 L463.268 464.24 L463.268 458.36 Z\" fill=\"#000000\" fill-rule=\"nonzero\" fill-opacity=\"1\" /><path clip-path=\"url(#clip910)\" d=\"M488.337 432.759 Q484.726 432.759 482.898 436.323 Q481.092 439.865 481.092 446.995 Q481.092 454.101 482.898 457.666 Q484.726 461.207 488.337 461.207 Q491.972 461.207 493.777 457.666 Q495.606 454.101 495.606 446.995 Q495.606 439.865 493.777 436.323 Q491.972 432.759 488.337 432.759 M488.337 429.055 Q494.148 429.055 497.203 433.661 Q500.282 438.245 500.282 446.995 Q500.282 455.721 497.203 460.328 Q494.148 464.911 488.337 464.911 Q482.527 464.911 479.449 460.328 Q476.393 455.721 476.393 446.995 Q476.393 438.245 479.449 433.661 Q482.527 429.055 488.337 429.055 Z\" fill=\"#000000\" fill-rule=\"nonzero\" fill-opacity=\"1\" /><path clip-path=\"url(#clip910)\" d=\"M887.811 432.759 Q884.2 432.759 882.371 436.323 Q880.566 439.865 880.566 446.995 Q880.566 454.101 882.371 457.666 Q884.2 461.207 887.811 461.207 Q891.446 461.207 893.251 457.666 Q895.08 454.101 895.08 446.995 Q895.08 439.865 893.251 436.323 Q891.446 432.759 887.811 432.759 M887.811 429.055 Q893.621 429.055 896.677 433.661 Q899.756 438.245 899.756 446.995 Q899.756 455.721 896.677 460.328 Q893.621 464.911 887.811 464.911 Q882.001 464.911 878.922 460.328 Q875.867 455.721 875.867 446.995 Q875.867 438.245 878.922 433.661 Q882.001 429.055 887.811 429.055 Z\" fill=\"#000000\" fill-rule=\"nonzero\" fill-opacity=\"1\" /><path clip-path=\"url(#clip910)\" d=\"M907.973 458.36 L912.857 458.36 L912.857 464.24 L907.973 464.24 L907.973 458.36 Z\" fill=\"#000000\" fill-rule=\"nonzero\" fill-opacity=\"1\" /><path clip-path=\"url(#clip910)\" d=\"M923.853 460.305 L931.492 460.305 L931.492 433.939 L923.181 435.606 L923.181 431.347 L931.445 429.68 L936.121 429.68 L936.121 460.305 L943.76 460.305 L943.76 464.24 L923.853 464.24 L923.853 460.305 Z\" fill=\"#000000\" fill-rule=\"nonzero\" fill-opacity=\"1\" /><path clip-path=\"url(#clip910)\" d=\"M1332.09 432.759 Q1328.48 432.759 1326.65 436.323 Q1324.84 439.865 1324.84 446.995 Q1324.84 454.101 1326.65 457.666 Q1328.48 461.207 1332.09 461.207 Q1335.72 461.207 1337.53 457.666 Q1339.36 454.101 1339.36 446.995 Q1339.36 439.865 1337.53 436.323 Q1335.72 432.759 1332.09 432.759 M1332.09 429.055 Q1337.9 429.055 1340.95 433.661 Q1344.03 438.245 1344.03 446.995 Q1344.03 455.721 1340.95 460.328 Q1337.9 464.911 1332.09 464.911 Q1326.28 464.911 1323.2 460.328 Q1320.14 455.721 1320.14 446.995 Q1320.14 438.245 1323.2 433.661 Q1326.28 429.055 1332.09 429.055 Z\" fill=\"#000000\" fill-rule=\"nonzero\" fill-opacity=\"1\" /><path clip-path=\"url(#clip910)\" d=\"M1352.25 458.36 L1357.13 458.36 L1357.13 464.24 L1352.25 464.24 L1352.25 458.36 Z\" fill=\"#000000\" fill-rule=\"nonzero\" fill-opacity=\"1\" /><path clip-path=\"url(#clip910)\" d=\"M1371.35 460.305 L1387.67 460.305 L1387.67 464.24 L1365.72 464.24 L1365.72 460.305 Q1368.38 457.55 1372.97 452.92 Q1377.57 448.268 1378.75 446.925 Q1381 444.402 1381.88 442.666 Q1382.78 440.907 1382.78 439.217 Q1382.78 436.462 1380.84 434.726 Q1378.92 432.99 1375.81 432.99 Q1373.62 432.99 1371.16 433.754 Q1368.73 434.518 1365.95 436.069 L1365.95 431.347 Q1368.78 430.212 1371.23 429.634 Q1373.69 429.055 1375.72 429.055 Q1381.09 429.055 1384.29 431.74 Q1387.48 434.425 1387.48 438.916 Q1387.48 441.046 1386.67 442.967 Q1385.88 444.865 1383.78 447.458 Q1383.2 448.129 1380.1 451.346 Q1377 454.541 1371.35 460.305 Z\" fill=\"#000000\" fill-rule=\"nonzero\" fill-opacity=\"1\" /><path clip-path=\"url(#clip910)\" d=\"M1775.71 432.759 Q1772.09 432.759 1770.27 436.323 Q1768.46 439.865 1768.46 446.995 Q1768.46 454.101 1770.27 457.666 Q1772.09 461.207 1775.71 461.207 Q1779.34 461.207 1781.15 457.666 Q1782.97 454.101 1782.97 446.995 Q1782.97 439.865 1781.15 436.323 Q1779.34 432.759 1775.71 432.759 M1775.71 429.055 Q1781.52 429.055 1784.57 433.661 Q1787.65 438.245 1787.65 446.995 Q1787.65 455.721 1784.57 460.328 Q1781.52 464.911 1775.71 464.911 Q1769.9 464.911 1766.82 460.328 Q1763.76 455.721 1763.76 446.995 Q1763.76 438.245 1766.82 433.661 Q1769.9 429.055 1775.71 429.055 Z\" fill=\"#000000\" fill-rule=\"nonzero\" fill-opacity=\"1\" /><path clip-path=\"url(#clip910)\" d=\"M1795.87 458.36 L1800.75 458.36 L1800.75 464.24 L1795.87 464.24 L1795.87 458.36 Z\" fill=\"#000000\" fill-rule=\"nonzero\" fill-opacity=\"1\" /><path clip-path=\"url(#clip910)\" d=\"M1825.1 445.606 Q1828.46 446.323 1830.33 448.592 Q1832.23 450.86 1832.23 454.194 Q1832.23 459.309 1828.71 462.11 Q1825.2 464.911 1818.71 464.911 Q1816.54 464.911 1814.22 464.471 Q1811.93 464.055 1809.48 463.198 L1809.48 458.684 Q1811.42 459.819 1813.74 460.397 Q1816.05 460.976 1818.58 460.976 Q1822.97 460.976 1825.27 459.24 Q1827.58 457.504 1827.58 454.194 Q1827.58 451.138 1825.43 449.425 Q1823.3 447.689 1819.48 447.689 L1815.45 447.689 L1815.45 443.846 L1819.66 443.846 Q1823.11 443.846 1824.94 442.481 Q1826.77 441.092 1826.77 438.499 Q1826.77 435.837 1824.87 434.425 Q1823 432.99 1819.48 432.99 Q1817.56 432.99 1815.36 433.407 Q1813.16 433.823 1810.52 434.703 L1810.52 430.536 Q1813.18 429.796 1815.5 429.425 Q1817.83 429.055 1819.9 429.055 Q1825.22 429.055 1828.32 431.485 Q1831.42 433.893 1831.42 438.013 Q1831.42 440.884 1829.78 442.874 Q1828.14 444.842 1825.1 445.606 Z\" fill=\"#000000\" fill-rule=\"nonzero\" fill-opacity=\"1\" /><path clip-path=\"url(#clip910)\" d=\"M2219.23 432.759 Q2215.62 432.759 2213.79 436.323 Q2211.98 439.865 2211.98 446.995 Q2211.98 454.101 2213.79 457.666 Q2215.62 461.207 2219.23 461.207 Q2222.86 461.207 2224.67 457.666 Q2226.5 454.101 2226.5 446.995 Q2226.5 439.865 2224.67 436.323 Q2222.86 432.759 2219.23 432.759 M2219.23 429.055 Q2225.04 429.055 2228.1 433.661 Q2231.17 438.245 2231.17 446.995 Q2231.17 455.721 2228.1 460.328 Q2225.04 464.911 2219.23 464.911 Q2213.42 464.911 2210.34 460.328 Q2207.29 455.721 2207.29 446.995 Q2207.29 438.245 2210.34 433.661 Q2213.42 429.055 2219.23 429.055 Z\" fill=\"#000000\" fill-rule=\"nonzero\" fill-opacity=\"1\" /><path clip-path=\"url(#clip910)\" d=\"M2239.39 458.36 L2244.28 458.36 L2244.28 464.24 L2239.39 464.24 L2239.39 458.36 Z\" fill=\"#000000\" fill-rule=\"nonzero\" fill-opacity=\"1\" /><path clip-path=\"url(#clip910)\" d=\"M2267.31 433.754 L2255.5 452.203 L2267.31 452.203 L2267.31 433.754 M2266.08 429.68 L2271.96 429.68 L2271.96 452.203 L2276.89 452.203 L2276.89 456.092 L2271.96 456.092 L2271.96 464.24 L2267.31 464.24 L2267.31 456.092 L2251.71 456.092 L2251.71 451.578 L2266.08 429.68 Z\" fill=\"#000000\" fill-rule=\"nonzero\" fill-opacity=\"1\" /><polyline clip-path=\"url(#clip912)\" style=\"stroke:#000000; stroke-linecap:round; stroke-linejoin:round; stroke-width:2; stroke-opacity:0.1; fill:none\" points=\"223.45,357.515 2352.76,357.515 \"/>\n",
       "<polyline clip-path=\"url(#clip912)\" style=\"stroke:#000000; stroke-linecap:round; stroke-linejoin:round; stroke-width:2; stroke-opacity:0.1; fill:none\" points=\"223.45,313.191 2352.76,313.191 \"/>\n",
       "<polyline clip-path=\"url(#clip912)\" style=\"stroke:#000000; stroke-linecap:round; stroke-linejoin:round; stroke-width:2; stroke-opacity:0.1; fill:none\" points=\"223.45,268.866 2352.76,268.866 \"/>\n",
       "<polyline clip-path=\"url(#clip912)\" style=\"stroke:#000000; stroke-linecap:round; stroke-linejoin:round; stroke-width:2; stroke-opacity:0.1; fill:none\" points=\"223.45,224.542 2352.76,224.542 \"/>\n",
       "<polyline clip-path=\"url(#clip912)\" style=\"stroke:#000000; stroke-linecap:round; stroke-linejoin:round; stroke-width:2; stroke-opacity:0.1; fill:none\" points=\"223.45,180.218 2352.76,180.218 \"/>\n",
       "<polyline clip-path=\"url(#clip912)\" style=\"stroke:#000000; stroke-linecap:round; stroke-linejoin:round; stroke-width:2; stroke-opacity:0.1; fill:none\" points=\"223.45,135.893 2352.76,135.893 \"/>\n",
       "<polyline clip-path=\"url(#clip912)\" style=\"stroke:#000000; stroke-linecap:round; stroke-linejoin:round; stroke-width:2; stroke-opacity:0.1; fill:none\" points=\"223.45,91.5686 2352.76,91.5686 \"/>\n",
       "<line clip-path=\"url(#clip912)\" x1=\"400.892\" y1=\"308.866\" x2=\"400.892\" y2=\"228.866\" style=\"stroke:#ff0000; stroke-width:3.84; stroke-opacity:1\"/>\n",
       "<line clip-path=\"url(#clip912)\" x1=\"473.653\" y1=\"220.218\" x2=\"473.653\" y2=\"140.218\" style=\"stroke:#0000ff; stroke-width:3.84; stroke-opacity:1\"/>\n",
       "<line clip-path=\"url(#clip912)\" x1=\"2102.55\" y1=\"220.218\" x2=\"2102.55\" y2=\"140.218\" style=\"stroke:#0000ff; stroke-width:3.84; stroke-opacity:1\"/>\n",
       "<line clip-path=\"url(#clip912)\" x1=\"2175.31\" y1=\"308.866\" x2=\"2175.31\" y2=\"228.866\" style=\"stroke:#ff0000; stroke-width:3.84; stroke-opacity:1\"/>\n",
       "<polyline clip-path=\"url(#clip912)\" style=\"stroke:#0000ff; stroke-linecap:round; stroke-linejoin:round; stroke-width:4; stroke-opacity:1; fill:none\" points=\"473.653,180.218 2102.55,180.218 \"/>\n",
       "<polyline clip-path=\"url(#clip912)\" style=\"stroke:#ff0000; stroke-linecap:round; stroke-linejoin:round; stroke-width:4; stroke-opacity:1; fill:none\" points=\"400.892,268.866 2175.31,268.866 \"/>\n",
       "<path clip-path=\"url(#clip910)\" d=\"M354.982 66.7163 Q348.663 66.7163 345.463 72.9547 Q342.303 79.1525 342.303 91.6293 Q342.303 104.066 345.463 110.304 Q348.663 116.502 354.982 116.502 Q361.342 116.502 364.502 110.304 Q367.702 104.066 367.702 91.6293 Q367.702 79.1525 364.502 72.9547 Q361.342 66.7163 354.982 66.7163 M354.982 60.2348 Q365.15 60.2348 370.497 68.2961 Q375.885 76.3169 375.885 91.6293 Q375.885 106.901 370.497 114.963 Q365.15 122.983 354.982 122.983 Q344.814 122.983 339.427 114.963 Q334.079 106.901 334.079 91.6293 Q334.079 76.3169 339.427 68.2961 Q344.814 60.2348 354.982 60.2348 Z\" fill=\"#0000ff\" fill-rule=\"nonzero\" fill-opacity=\"1\" /><path clip-path=\"url(#clip910)\" d=\"M390.266 111.519 L398.813 111.519 L398.813 121.809 L390.266 121.809 L390.266 111.519 Z\" fill=\"#0000ff\" fill-rule=\"nonzero\" fill-opacity=\"1\" /><path clip-path=\"url(#clip910)\" d=\"M434.137 66.7163 Q427.817 66.7163 424.617 72.9547 Q421.457 79.1525 421.457 91.6293 Q421.457 104.066 424.617 110.304 Q427.817 116.502 434.137 116.502 Q440.497 116.502 443.656 110.304 Q446.857 104.066 446.857 91.6293 Q446.857 79.1525 443.656 72.9547 Q440.497 66.7163 434.137 66.7163 M434.137 60.2348 Q444.305 60.2348 449.652 68.2961 Q455.039 76.3169 455.039 91.6293 Q455.039 106.901 449.652 114.963 Q444.305 122.983 434.137 122.983 Q423.969 122.983 418.581 114.963 Q413.234 106.901 413.234 91.6293 Q413.234 76.3169 418.581 68.2961 Q423.969 60.2348 434.137 60.2348 Z\" fill=\"#0000ff\" fill-rule=\"nonzero\" fill-opacity=\"1\" /><path clip-path=\"url(#clip910)\" d=\"M486.92 66.7163 Q480.601 66.7163 477.4 72.9547 Q474.241 79.1525 474.241 91.6293 Q474.241 104.066 477.4 110.304 Q480.601 116.502 486.92 116.502 Q493.28 116.502 496.44 110.304 Q499.64 104.066 499.64 91.6293 Q499.64 79.1525 496.44 72.9547 Q493.28 66.7163 486.92 66.7163 M486.92 60.2348 Q497.088 60.2348 502.435 68.2961 Q507.823 76.3169 507.823 91.6293 Q507.823 106.901 502.435 114.963 Q497.088 122.983 486.92 122.983 Q476.752 122.983 471.365 114.963 Q466.017 106.901 466.017 91.6293 Q466.017 76.3169 471.365 68.2961 Q476.752 60.2348 486.92 60.2348 Z\" fill=\"#0000ff\" fill-rule=\"nonzero\" fill-opacity=\"1\" /><path clip-path=\"url(#clip910)\" d=\"M523.621 114.922 L536.989 114.922 L536.989 68.7822 L522.447 71.6989 L522.447 64.2452 L536.908 61.3286 L545.091 61.3286 L545.091 114.922 L558.459 114.922 L558.459 121.809 L523.621 121.809 L523.621 114.922 Z\" fill=\"#0000ff\" fill-rule=\"nonzero\" fill-opacity=\"1\" /><path clip-path=\"url(#clip910)\" d=\"M592.487 93.0877 Q586.653 93.0877 583.291 96.2069 Q579.969 99.326 579.969 104.795 Q579.969 110.263 583.291 113.383 Q586.653 116.502 592.487 116.502 Q598.32 116.502 601.682 113.383 Q605.044 110.223 605.044 104.795 Q605.044 99.326 601.682 96.2069 Q598.36 93.0877 592.487 93.0877 M584.304 89.6039 Q579.038 88.3076 576.081 84.7023 Q573.164 81.097 573.164 75.9118 Q573.164 68.6607 578.309 64.4478 Q583.494 60.2348 592.487 60.2348 Q601.52 60.2348 606.665 64.4478 Q611.809 68.6607 611.809 75.9118 Q611.809 81.097 608.852 84.7023 Q605.936 88.3076 600.71 89.6039 Q606.624 90.9812 609.906 94.9916 Q613.227 99.002 613.227 104.795 Q613.227 113.585 607.84 118.284 Q602.492 122.983 592.487 122.983 Q582.481 122.983 577.093 118.284 Q571.746 113.585 571.746 104.795 Q571.746 99.002 575.068 94.9916 Q578.39 90.9812 584.304 89.6039 M581.306 76.6815 Q581.306 81.3805 584.223 84.0136 Q587.18 86.6467 592.487 86.6467 Q597.753 86.6467 600.71 84.0136 Q603.708 81.3805 603.708 76.6815 Q603.708 71.9824 600.71 69.3494 Q597.753 66.7163 592.487 66.7163 Q587.18 66.7163 584.223 69.3494 Q581.306 71.9824 581.306 76.6815 Z\" fill=\"#0000ff\" fill-rule=\"nonzero\" fill-opacity=\"1\" /><path clip-path=\"url(#clip910)\" d=\"M1983.66 66.7163 Q1977.34 66.7163 1974.14 72.9547 Q1970.98 79.1525 1970.98 91.6293 Q1970.98 104.066 1974.14 110.304 Q1977.34 116.502 1983.66 116.502 Q1990.02 116.502 1993.18 110.304 Q1996.38 104.066 1996.38 91.6293 Q1996.38 79.1525 1993.18 72.9547 Q1990.02 66.7163 1983.66 66.7163 M1983.66 60.2348 Q1993.83 60.2348 1999.17 68.2961 Q2004.56 76.3169 2004.56 91.6293 Q2004.56 106.901 1999.17 114.963 Q1993.83 122.983 1983.66 122.983 Q1973.49 122.983 1968.1 114.963 Q1962.76 106.901 1962.76 91.6293 Q1962.76 76.3169 1968.1 68.2961 Q1973.49 60.2348 1983.66 60.2348 Z\" fill=\"#0000ff\" fill-rule=\"nonzero\" fill-opacity=\"1\" /><path clip-path=\"url(#clip910)\" d=\"M2018.94 111.519 L2027.49 111.519 L2027.49 121.809 L2018.94 121.809 L2018.94 111.519 Z\" fill=\"#0000ff\" fill-rule=\"nonzero\" fill-opacity=\"1\" /><path clip-path=\"url(#clip910)\" d=\"M2070.1 89.1988 Q2075.98 90.4546 2079.26 94.4245 Q2082.58 98.3943 2082.58 104.228 Q2082.58 113.18 2076.42 118.082 Q2070.27 122.983 2058.92 122.983 Q2055.12 122.983 2051.07 122.214 Q2047.05 121.484 2042.76 119.986 L2042.76 112.086 Q2046.16 114.071 2050.21 115.084 Q2054.27 116.097 2058.68 116.097 Q2066.38 116.097 2070.39 113.059 Q2074.44 110.02 2074.44 104.228 Q2074.44 98.8804 2070.67 95.8828 Q2066.94 92.8446 2060.26 92.8446 L2053.21 92.8446 L2053.21 86.1201 L2060.58 86.1201 Q2066.62 86.1201 2069.82 83.7301 Q2073.02 81.2995 2073.02 76.7625 Q2073.02 72.104 2069.7 69.6329 Q2066.42 67.1214 2060.26 67.1214 Q2056.9 67.1214 2053.05 67.8505 Q2049.2 68.5797 2044.58 70.119 L2044.58 62.8274 Q2049.24 61.5311 2053.29 60.883 Q2057.38 60.2348 2060.99 60.2348 Q2070.31 60.2348 2075.74 64.4883 Q2081.16 68.7012 2081.16 75.9118 Q2081.16 80.9349 2078.29 84.4187 Q2075.41 87.862 2070.1 89.1988 Z\" fill=\"#0000ff\" fill-rule=\"nonzero\" fill-opacity=\"1\" /><path clip-path=\"url(#clip910)\" d=\"M2116.61 88.3076 Q2111.1 88.3076 2107.86 92.0749 Q2104.66 95.8423 2104.66 102.405 Q2104.66 108.927 2107.86 112.735 Q2111.1 116.502 2116.61 116.502 Q2122.12 116.502 2125.32 112.735 Q2128.56 108.927 2128.56 102.405 Q2128.56 95.8423 2125.32 92.0749 Q2122.12 88.3076 2116.61 88.3076 M2132.85 62.6654 L2132.85 70.119 Q2129.77 68.6607 2126.61 67.891 Q2123.5 67.1214 2120.42 67.1214 Q2112.31 67.1214 2108.02 72.5901 Q2103.77 78.0588 2103.16 89.1178 Q2105.55 85.5935 2109.16 83.7301 Q2112.76 81.8261 2117.09 81.8261 Q2126.21 81.8261 2131.48 87.3759 Q2136.78 92.8851 2136.78 102.405 Q2136.78 111.722 2131.27 117.353 Q2125.76 122.983 2116.61 122.983 Q2106.12 122.983 2100.57 114.963 Q2095.02 106.901 2095.02 91.6293 Q2095.02 77.2891 2101.82 68.7822 Q2108.63 60.2348 2120.09 60.2348 Q2123.17 60.2348 2126.29 60.8425 Q2129.45 61.4501 2132.85 62.6654 Z\" fill=\"#0000ff\" fill-rule=\"nonzero\" fill-opacity=\"1\" /><path clip-path=\"url(#clip910)\" d=\"M2168.38 93.0877 Q2162.55 93.0877 2159.18 96.2069 Q2155.86 99.326 2155.86 104.795 Q2155.86 110.263 2159.18 113.383 Q2162.55 116.502 2168.38 116.502 Q2174.21 116.502 2177.57 113.383 Q2180.94 110.223 2180.94 104.795 Q2180.94 99.326 2177.57 96.2069 Q2174.25 93.0877 2168.38 93.0877 M2160.2 89.6039 Q2154.93 88.3076 2151.97 84.7023 Q2149.06 81.097 2149.06 75.9118 Q2149.06 68.6607 2154.2 64.4478 Q2159.39 60.2348 2168.38 60.2348 Q2177.41 60.2348 2182.56 64.4478 Q2187.7 68.6607 2187.7 75.9118 Q2187.7 81.097 2184.75 84.7023 Q2181.83 88.3076 2176.6 89.6039 Q2182.52 90.9812 2185.8 94.9916 Q2189.12 99.002 2189.12 104.795 Q2189.12 113.585 2183.73 118.284 Q2178.39 122.983 2168.38 122.983 Q2158.37 122.983 2152.99 118.284 Q2147.64 113.585 2147.64 104.795 Q2147.64 99.002 2150.96 94.9916 Q2154.28 90.9812 2160.2 89.6039 M2157.2 76.6815 Q2157.2 81.3805 2160.12 84.0136 Q2163.07 86.6467 2168.38 86.6467 Q2173.65 86.6467 2176.6 84.0136 Q2179.6 81.3805 2179.6 76.6815 Q2179.6 71.9824 2176.6 69.3494 Q2173.65 66.7163 2168.38 66.7163 Q2163.07 66.7163 2160.12 69.3494 Q2157.2 71.9824 2157.2 76.6815 Z\" fill=\"#0000ff\" fill-rule=\"nonzero\" fill-opacity=\"1\" /><path clip-path=\"url(#clip910)\" d=\"M2222.18 88.3076 Q2216.67 88.3076 2213.43 92.0749 Q2210.23 95.8423 2210.23 102.405 Q2210.23 108.927 2213.43 112.735 Q2216.67 116.502 2222.18 116.502 Q2227.68 116.502 2230.88 112.735 Q2234.13 108.927 2234.13 102.405 Q2234.13 95.8423 2230.88 92.0749 Q2227.68 88.3076 2222.18 88.3076 M2238.42 62.6654 L2238.42 70.119 Q2235.34 68.6607 2232.18 67.891 Q2229.06 67.1214 2225.98 67.1214 Q2217.88 67.1214 2213.59 72.5901 Q2209.33 78.0588 2208.73 89.1178 Q2211.12 85.5935 2214.72 83.7301 Q2218.33 81.8261 2222.66 81.8261 Q2231.78 81.8261 2237.04 87.3759 Q2242.35 92.8851 2242.35 102.405 Q2242.35 111.722 2236.84 117.353 Q2231.33 122.983 2222.18 122.983 Q2211.68 122.983 2206.13 114.963 Q2200.58 106.901 2200.58 91.6293 Q2200.58 77.2891 2207.39 68.7822 Q2214.2 60.2348 2225.66 60.2348 Q2228.74 60.2348 2231.86 60.8425 Q2235.02 61.4501 2238.42 62.6654 Z\" fill=\"#0000ff\" fill-rule=\"nonzero\" fill-opacity=\"1\" /><path clip-path=\"url(#clip910)\" d=\"M245.418 361.708 L267.253 361.708 L267.253 368.352 L245.418 368.352 L245.418 361.708 Z\" fill=\"#ff0000\" fill-rule=\"nonzero\" fill-opacity=\"1\" /><path clip-path=\"url(#clip910)\" d=\"M297.675 332.663 Q291.355 332.663 288.155 338.901 Q284.996 345.099 284.996 357.576 Q284.996 370.012 288.155 376.251 Q291.355 382.449 297.675 382.449 Q304.035 382.449 307.194 376.251 Q310.395 370.012 310.395 357.576 Q310.395 345.099 307.194 338.901 Q304.035 332.663 297.675 332.663 M297.675 326.182 Q307.843 326.182 313.19 334.243 Q318.578 342.264 318.578 357.576 Q318.578 372.848 313.19 380.909 Q307.843 388.93 297.675 388.93 Q287.507 388.93 282.119 380.909 Q276.772 372.848 276.772 357.576 Q276.772 342.264 282.119 334.243 Q287.507 326.182 297.675 326.182 Z\" fill=\"#ff0000\" fill-rule=\"nonzero\" fill-opacity=\"1\" /><path clip-path=\"url(#clip910)\" d=\"M332.958 377.466 L341.506 377.466 L341.506 387.755 L332.958 387.755 L332.958 377.466 Z\" fill=\"#ff0000\" fill-rule=\"nonzero\" fill-opacity=\"1\" /><path clip-path=\"url(#clip910)\" d=\"M376.83 332.663 Q370.51 332.663 367.31 338.901 Q364.15 345.099 364.15 357.576 Q364.15 370.012 367.31 376.251 Q370.51 382.449 376.83 382.449 Q383.189 382.449 386.349 376.251 Q389.549 370.012 389.549 357.576 Q389.549 345.099 386.349 338.901 Q383.189 332.663 376.83 332.663 M376.83 326.182 Q386.997 326.182 392.345 334.243 Q397.732 342.264 397.732 357.576 Q397.732 372.848 392.345 380.909 Q386.997 388.93 376.83 388.93 Q366.662 388.93 361.274 380.909 Q355.927 372.848 355.927 357.576 Q355.927 342.264 361.274 334.243 Q366.662 326.182 376.83 326.182 Z\" fill=\"#ff0000\" fill-rule=\"nonzero\" fill-opacity=\"1\" /><path clip-path=\"url(#clip910)\" d=\"M413.531 380.869 L426.899 380.869 L426.899 334.729 L412.356 337.646 L412.356 330.192 L426.818 327.275 L435.001 327.275 L435.001 380.869 L448.369 380.869 L448.369 387.755 L413.531 387.755 L413.531 380.869 Z\" fill=\"#ff0000\" fill-rule=\"nonzero\" fill-opacity=\"1\" /><path clip-path=\"url(#clip910)\" d=\"M487.379 334.405 L466.719 366.691 L487.379 366.691 L487.379 334.405 M485.232 327.275 L495.521 327.275 L495.521 366.691 L504.149 366.691 L504.149 373.496 L495.521 373.496 L495.521 387.755 L487.379 387.755 L487.379 373.496 L460.076 373.496 L460.076 365.597 L485.232 327.275 Z\" fill=\"#ff0000\" fill-rule=\"nonzero\" fill-opacity=\"1\" /><path clip-path=\"url(#clip910)\" d=\"M536.192 354.254 Q530.683 354.254 527.442 358.022 Q524.242 361.789 524.242 368.352 Q524.242 374.874 527.442 378.681 Q530.683 382.449 536.192 382.449 Q541.701 382.449 544.902 378.681 Q548.142 374.874 548.142 368.352 Q548.142 361.789 544.902 358.022 Q541.701 354.254 536.192 354.254 M552.436 328.612 L552.436 336.066 Q549.358 334.608 546.198 333.838 Q543.079 333.068 540 333.068 Q531.898 333.068 527.604 338.537 Q523.351 344.006 522.743 355.065 Q525.133 351.54 528.738 349.677 Q532.344 347.773 536.678 347.773 Q545.793 347.773 551.059 353.323 Q556.366 358.832 556.366 368.352 Q556.366 377.669 550.856 383.299 Q545.347 388.93 536.192 388.93 Q525.7 388.93 520.151 380.909 Q514.601 372.848 514.601 357.576 Q514.601 343.236 521.406 334.729 Q528.212 326.182 539.676 326.182 Q542.755 326.182 545.874 326.789 Q549.033 327.397 552.436 328.612 Z\" fill=\"#ff0000\" fill-rule=\"nonzero\" fill-opacity=\"1\" /><path clip-path=\"url(#clip910)\" d=\"M2083.82 332.663 Q2077.5 332.663 2074.3 338.901 Q2071.14 345.099 2071.14 357.576 Q2071.14 370.012 2074.3 376.251 Q2077.5 382.449 2083.82 382.449 Q2090.18 382.449 2093.34 376.251 Q2096.54 370.012 2096.54 357.576 Q2096.54 345.099 2093.34 338.901 Q2090.18 332.663 2083.82 332.663 M2083.82 326.182 Q2093.99 326.182 2099.34 334.243 Q2104.73 342.264 2104.73 357.576 Q2104.73 372.848 2099.34 380.909 Q2093.99 388.93 2083.82 388.93 Q2073.66 388.93 2068.27 380.909 Q2062.92 372.848 2062.92 357.576 Q2062.92 342.264 2068.27 334.243 Q2073.66 326.182 2083.82 326.182 Z\" fill=\"#ff0000\" fill-rule=\"nonzero\" fill-opacity=\"1\" /><path clip-path=\"url(#clip910)\" d=\"M2119.11 377.466 L2127.65 377.466 L2127.65 387.755 L2119.11 387.755 L2119.11 377.466 Z\" fill=\"#ff0000\" fill-rule=\"nonzero\" fill-opacity=\"1\" /><path clip-path=\"url(#clip910)\" d=\"M2170.27 355.146 Q2176.14 356.401 2179.43 360.371 Q2182.75 364.341 2182.75 370.174 Q2182.75 379.127 2176.59 384.029 Q2170.43 388.93 2159.09 388.93 Q2155.28 388.93 2151.23 388.16 Q2147.22 387.431 2142.93 385.932 L2142.93 378.033 Q2146.33 380.018 2150.38 381.031 Q2154.43 382.044 2158.85 382.044 Q2166.54 382.044 2170.55 379.005 Q2174.6 375.967 2174.6 370.174 Q2174.6 364.827 2170.84 361.83 Q2167.11 358.791 2160.43 358.791 L2153.38 358.791 L2153.38 352.067 L2160.75 352.067 Q2166.79 352.067 2169.99 349.677 Q2173.19 347.246 2173.19 342.709 Q2173.19 338.051 2169.87 335.58 Q2166.58 333.068 2160.43 333.068 Q2157.06 333.068 2153.22 333.797 Q2149.37 334.527 2144.75 336.066 L2144.75 328.774 Q2149.41 327.478 2153.46 326.83 Q2157.55 326.182 2161.16 326.182 Q2170.47 326.182 2175.9 330.435 Q2181.33 334.648 2181.33 341.859 Q2181.33 346.882 2178.45 350.366 Q2175.58 353.809 2170.27 355.146 Z\" fill=\"#ff0000\" fill-rule=\"nonzero\" fill-opacity=\"1\" /><path clip-path=\"url(#clip910)\" d=\"M2215.76 359.034 Q2209.93 359.034 2206.57 362.154 Q2203.24 365.273 2203.24 370.742 Q2203.24 376.21 2206.57 379.33 Q2209.93 382.449 2215.76 382.449 Q2221.6 382.449 2224.96 379.33 Q2228.32 376.17 2228.32 370.742 Q2228.32 365.273 2224.96 362.154 Q2221.64 359.034 2215.76 359.034 M2207.58 355.551 Q2202.31 354.254 2199.36 350.649 Q2196.44 347.044 2196.44 341.859 Q2196.44 334.608 2201.58 330.395 Q2206.77 326.182 2215.76 326.182 Q2224.8 326.182 2229.94 330.395 Q2235.08 334.608 2235.08 341.859 Q2235.08 347.044 2232.13 350.649 Q2229.21 354.254 2223.99 355.551 Q2229.9 356.928 2233.18 360.938 Q2236.5 364.949 2236.5 370.742 Q2236.5 379.532 2231.11 384.231 Q2225.77 388.93 2215.76 388.93 Q2205.76 388.93 2200.37 384.231 Q2195.02 379.532 2195.02 370.742 Q2195.02 364.949 2198.34 360.938 Q2201.66 356.928 2207.58 355.551 M2204.58 342.628 Q2204.58 347.327 2207.5 349.96 Q2210.46 352.594 2215.76 352.594 Q2221.03 352.594 2223.99 349.96 Q2226.98 347.327 2226.98 342.628 Q2226.98 337.929 2223.99 335.296 Q2221.03 332.663 2215.76 332.663 Q2210.46 332.663 2207.5 335.296 Q2204.58 337.929 2204.58 342.628 Z\" fill=\"#ff0000\" fill-rule=\"nonzero\" fill-opacity=\"1\" /><path clip-path=\"url(#clip910)\" d=\"M2251.13 327.275 L2283.25 327.275 L2283.25 334.162 L2258.62 334.162 L2258.62 348.988 Q2260.4 348.381 2262.19 348.097 Q2263.97 347.773 2265.75 347.773 Q2275.88 347.773 2281.79 353.323 Q2287.71 358.872 2287.71 368.352 Q2287.71 378.114 2281.63 383.542 Q2275.55 388.93 2264.49 388.93 Q2260.69 388.93 2256.72 388.282 Q2252.79 387.634 2248.57 386.338 L2248.57 378.114 Q2252.22 380.099 2256.11 381.071 Q2260 382.044 2264.33 382.044 Q2271.34 382.044 2275.43 378.357 Q2279.52 374.671 2279.52 368.352 Q2279.52 362.032 2275.43 358.346 Q2271.34 354.66 2264.33 354.66 Q2261.05 354.66 2257.77 355.389 Q2254.53 356.118 2251.13 357.657 L2251.13 327.275 Z\" fill=\"#ff0000\" fill-rule=\"nonzero\" fill-opacity=\"1\" /></svg>\n"
      ]
     },
     "execution_count": 36,
     "metadata": {},
     "output_type": "execute_result"
    }
   ],
   "source": [
    "x = [res.Htest.ConfidenceInterval[1],res.bound[1],res.bound[2],res.Htest.ConfidenceInterval[2]]\n",
    "tol = (x[4]-x[1])/10\n",
    "y =[-0.01,0.01,0.01,-0.01]\n",
    "symbols =[:vline,:vline,:vline,:vline]\n",
    "\n",
    "scatter(x, y, markersize=10,\n",
    "    xlim=(x[1]-tol,x[4]+tol),\n",
    "    ylim=(-0.04,0.04),\n",
    "    markershape=symbols,\n",
    "    markerstrokewidth=4,\n",
    "    label=\"\",\n",
    "    c=[:red,:blue,:blue,:red],\n",
    "    showaxis=:x,\n",
    "    size =(600,120))\n",
    "plot!(x[2:3],y[2:3],label=\"\",c=:blue)\n",
    "plot!(x[1:3:4],y[1:3:4],label=\"\",c=:red)\n",
    "annotate!(x[2], 0.03, string(round(x[2],digits=4)),:blue)\n",
    "annotate!(x[3], 0.03, string(round(x[3],digits=4)),:blue)\n",
    "annotate!(x[1], -0.03, string(round(x[1],digits=4)),:red)\n",
    "annotate!(x[4], -0.03, string(round(x[4],digits=4)),:red)\n"
   ]
  },
  {
   "cell_type": "code",
   "execution_count": 37,
   "metadata": {},
   "outputs": [
    {
     "ename": "LoadError",
     "evalue": "MethodError: no method matching Results(::Vector{Float64}, ::TestResults, ::TestResults)\n\n\u001b[0mClosest candidates are:\n\u001b[0m  Results(::Any, ::Any, ::Any, \u001b[91m::Any\u001b[39m)\n\u001b[0m\u001b[90m   @\u001b[39m \u001b[35mMain.setBLP\u001b[39m \u001b[90mC:\\Users\\arie\\OneDrive - University of Pittsburgh\\Documents\\Bounds.jl\\Bounds.jl\\src\\\u001b[39m\u001b[90m\u001b[4msetBLP.jl:46\u001b[24m\u001b[39m\n\u001b[0m  Results(::Vector{<:Real}, \u001b[91m::Union{Nothing, Vector{<:Real}}\u001b[39m, ::Union{Nothing, TestResults}, \u001b[91m::Union{Nothing, TestResults}\u001b[39m)\n\u001b[0m\u001b[90m   @\u001b[39m \u001b[35mMain.setBLP\u001b[39m \u001b[90mC:\\Users\\arie\\OneDrive - University of Pittsburgh\\Documents\\Bounds.jl\\Bounds.jl\\src\\\u001b[39m\u001b[90m\u001b[4msetBLP.jl:46\u001b[24m\u001b[39m\n",
     "output_type": "error",
     "traceback": [
      "MethodError: no method matching Results(::Vector{Float64}, ::TestResults, ::TestResults)\n\n\u001b[0mClosest candidates are:\n\u001b[0m  Results(::Any, ::Any, ::Any, \u001b[91m::Any\u001b[39m)\n\u001b[0m\u001b[90m   @\u001b[39m \u001b[35mMain.setBLP\u001b[39m \u001b[90mC:\\Users\\arie\\OneDrive - University of Pittsburgh\\Documents\\Bounds.jl\\Bounds.jl\\src\\\u001b[39m\u001b[90m\u001b[4msetBLP.jl:46\u001b[24m\u001b[39m\n\u001b[0m  Results(::Vector{<:Real}, \u001b[91m::Union{Nothing, Vector{<:Real}}\u001b[39m, ::Union{Nothing, TestResults}, \u001b[91m::Union{Nothing, TestResults}\u001b[39m)\n\u001b[0m\u001b[90m   @\u001b[39m \u001b[35mMain.setBLP\u001b[39m \u001b[90mC:\\Users\\arie\\OneDrive - University of Pittsburgh\\Documents\\Bounds.jl\\Bounds.jl\\src\\\u001b[39m\u001b[90m\u001b[4msetBLP.jl:46\u001b[24m\u001b[39m\n",
      "",
      "Stacktrace:",
      " [1] EYasy(yl::Vector{Float64}, yu::Vector{Float64}, H0::Vector{Int64}, options::Options)",
      "   @ Main.setBLP C:\\Users\\arie\\OneDrive - University of Pittsburgh\\Documents\\Bounds.jl\\Bounds.jl\\src\\setBLP.jl:184",
      " [2] EY(yl::Vector{Float64}, yu::Vector{Float64}, H0::Vector{Int64}, options::Options, method::String)",
      "   @ Main.setBLP C:\\Users\\arie\\OneDrive - University of Pittsburgh\\Documents\\Bounds.jl\\Bounds.jl\\src\\setBLP.jl:94",
      " [3] EY(yl::Vector{Float64}, yu::Vector{Float64}, H0::Vector{Int64})",
      "   @ Main.setBLP C:\\Users\\arie\\OneDrive - University of Pittsburgh\\Documents\\Bounds.jl\\Bounds.jl\\src\\setBLP.jl:93",
      " [4] top-level scope",
      "   @ In[37]:1"
     ]
    }
   ],
   "source": [
    "EY(yl,yu,[1,2])"
   ]
  },
  {
   "cell_type": "code",
   "execution_count": null,
   "metadata": {},
   "outputs": [],
   "source": []
  }
 ],
 "metadata": {
  "@webio": {
   "lastCommId": null,
   "lastKernelId": null
  },
  "kernelspec": {
   "display_name": "Julia 1.9.2",
   "language": "julia",
   "name": "julia-1.9"
  },
  "language_info": {
   "file_extension": ".jl",
   "mimetype": "application/julia",
   "name": "julia",
   "version": "1.9.2"
  }
 },
 "nbformat": 4,
 "nbformat_minor": 4
}
