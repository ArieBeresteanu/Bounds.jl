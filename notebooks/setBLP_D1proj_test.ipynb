{
 "cells": [
  {
   "cell_type": "markdown",
   "metadata": {},
   "source": [
    "# Packages"
   ]
  },
  {
   "cell_type": "code",
   "execution_count": 1,
   "metadata": {},
   "outputs": [],
   "source": [
    "using CSV, DataFrames"
   ]
  },
  {
   "cell_type": "code",
   "execution_count": 2,
   "metadata": {},
   "outputs": [
    {
     "ename": "LoadError",
     "evalue": "ArgumentError: Package FixedEffectModels not found in current path.\n- Run `import Pkg; Pkg.add(\"FixedEffectModels\")` to install the FixedEffectModels package.",
     "output_type": "error",
     "traceback": [
      "ArgumentError: Package FixedEffectModels not found in current path.\n- Run `import Pkg; Pkg.add(\"FixedEffectModels\")` to install the FixedEffectModels package.",
      "",
      "Stacktrace:",
      " [1] macro expansion",
      "   @ .\\loading.jl:1630 [inlined]",
      " [2] macro expansion",
      "   @ .\\lock.jl:267 [inlined]",
      " [3] require(into::Module, mod::Symbol)",
      "   @ Base .\\loading.jl:1611"
     ]
    }
   ],
   "source": [
    "using FixedEffectModels"
   ]
  },
  {
   "cell_type": "code",
   "execution_count": 3,
   "metadata": {},
   "outputs": [],
   "source": [
    "using Plots"
   ]
  },
  {
   "cell_type": "code",
   "execution_count": 4,
   "metadata": {},
   "outputs": [],
   "source": [
    "using Statistics"
   ]
  },
  {
   "cell_type": "markdown",
   "metadata": {},
   "source": [
    "# Uploading CPS data"
   ]
  },
  {
   "cell_type": "code",
   "execution_count": 5,
   "metadata": {},
   "outputs": [
    {
     "data": {
      "text/html": [
       "<div><div style = \"float: left;\"><span>5×3 DataFrame</span></div><div style = \"clear: both;\"></div></div><div class = \"data-frame\" style = \"overflow-x: scroll;\"><table class = \"data-frame\" style = \"margin-bottom: 6px;\"><thead><tr class = \"header\"><th class = \"rowNumber\" style = \"font-weight: bold; text-align: right;\">Row</th><th style = \"text-align: left;\">age</th><th style = \"text-align: left;\">wage</th><th style = \"text-align: left;\">educ</th></tr><tr class = \"subheader headerLastRow\"><th class = \"rowNumber\" style = \"font-weight: bold; text-align: right;\"></th><th title = \"Int64\" style = \"text-align: left;\">Int64</th><th title = \"Int64\" style = \"text-align: left;\">Int64</th><th title = \"String\" style = \"text-align: left;\">String</th></tr></thead><tbody><tr><td class = \"rowNumber\" style = \"font-weight: bold; text-align: right;\">1</td><td style = \"text-align: right;\">22</td><td style = \"text-align: right;\">12000</td><td style = \"text-align: left;\">some college but no degree</td></tr><tr><td class = \"rowNumber\" style = \"font-weight: bold; text-align: right;\">2</td><td style = \"text-align: right;\">21</td><td style = \"text-align: right;\">3500</td><td style = \"text-align: left;\">some college but no degree</td></tr><tr><td class = \"rowNumber\" style = \"font-weight: bold; text-align: right;\">3</td><td style = \"text-align: right;\">49</td><td style = \"text-align: right;\">30000</td><td style = \"text-align: left;\">some college but no degree</td></tr><tr><td class = \"rowNumber\" style = \"font-weight: bold; text-align: right;\">4</td><td style = \"text-align: right;\">31</td><td style = \"text-align: right;\">32000</td><td style = \"text-align: left;\">bachelor&apos;s degree</td></tr><tr><td class = \"rowNumber\" style = \"font-weight: bold; text-align: right;\">5</td><td style = \"text-align: right;\">42</td><td style = \"text-align: right;\">89630</td><td style = \"text-align: left;\">doctorate degree</td></tr></tbody></table></div>"
      ],
      "text/latex": [
       "\\begin{tabular}{r|ccc}\n",
       "\t& age & wage & educ\\\\\n",
       "\t\\hline\n",
       "\t& Int64 & Int64 & String\\\\\n",
       "\t\\hline\n",
       "\t1 & 22 & 12000 & some college but no degree \\\\\n",
       "\t2 & 21 & 3500 & some college but no degree \\\\\n",
       "\t3 & 49 & 30000 & some college but no degree \\\\\n",
       "\t4 & 31 & 32000 & bachelor's degree \\\\\n",
       "\t5 & 42 & 89630 & doctorate degree \\\\\n",
       "\\end{tabular}\n"
      ],
      "text/plain": [
       "\u001b[1m5×3 DataFrame\u001b[0m\n",
       "\u001b[1m Row \u001b[0m│\u001b[1m age   \u001b[0m\u001b[1m wage  \u001b[0m\u001b[1m educ                       \u001b[0m\n",
       "     │\u001b[90m Int64 \u001b[0m\u001b[90m Int64 \u001b[0m\u001b[90m String                     \u001b[0m\n",
       "─────┼──────────────────────────────────────────\n",
       "   1 │    22  12000  some college but no degree\n",
       "   2 │    21   3500  some college but no degree\n",
       "   3 │    49  30000  some college but no degree\n",
       "   4 │    31  32000  bachelor's degree\n",
       "   5 │    42  89630  doctorate degree"
      ]
     },
     "execution_count": 5,
     "metadata": {},
     "output_type": "execute_result"
    }
   ],
   "source": [
    "cps = DataFrame(CSV.File(\"c:\\\\data\\\\Bounds\\\\cps.csv\")) # <-change this to the right directory\n",
    "\n",
    "## Cleaning zero wage\n",
    "\n",
    "cps = cps[cps.wage .> 0, :]\n",
    "first(cps,5)"
   ]
  },
  {
   "cell_type": "code",
   "execution_count": 6,
   "metadata": {},
   "outputs": [
    {
     "data": {
      "text/plain": [
       "Dict{String, Int64} with 16 entries:\n",
       "  \"grade 11\"                                            => 11\n",
       "  \"some college but no degree\"                          => 13\n",
       "  \"associate's degree, academic program\"                => 14\n",
       "  \"none or preschool\"                                   => 0\n",
       "  \"doctorate degree\"                                    => 21\n",
       "  \"grade 10\"                                            => 10\n",
       "  \"bachelor's degree\"                                   => 16\n",
       "  \"master's degree\"                                     => 14\n",
       "  \"grades 5 or 6\"                                       => 6\n",
       "  \"grades 7 or 8\"                                       => 8\n",
       "  \"grades 1, 2, 3, or 4\"                                => 4\n",
       "  \"associate's degree, occupational/vocational program\" => 14\n",
       "  \"professional school degree\"                          => 14\n",
       "  \"high school diploma or equivalent\"                   => 12\n",
       "  \"grade 9\"                                             => 9\n",
       "  \"12th grade, no diploma\"                              => 12"
      ]
     },
     "execution_count": 6,
     "metadata": {},
     "output_type": "execute_result"
    }
   ],
   "source": [
    "# Numerical value for education\n",
    "\n",
    "#1.Creating a dictionary\n",
    "\n",
    "educ_dict = Dict( \n",
    "    \"grade 11\" => 11, \n",
    "    \"some college but no degree\" => 13, \n",
    "    \"associate's degree, academic program\" => 14,\n",
    "    \"grade 10\" => 10, \n",
    "    \"grades 7 or 8\" => 8, \n",
    "    \"grades 1, 2, 3, or 4\" => 4, \n",
    "    \"associate's degree, occupational/vocational program\" => 14, \n",
    "    \"high school diploma or equivalent\" => 12, \n",
    "    \"grade 9\" => 9, \n",
    "    \"none or preschool\" => 0, \n",
    "    \"doctorate degree\" => 21,\n",
    "    \"bachelor's degree\" => 16, \n",
    "    \"master's degree\" => 14, \n",
    "    \"grades 5 or 6\" => 6, \n",
    "    \"professional school degree\" => 14, \n",
    "    \"12th grade, no diploma\" => 12\n",
    "    )"
   ]
  },
  {
   "cell_type": "code",
   "execution_count": 7,
   "metadata": {},
   "outputs": [
    {
     "data": {
      "text/html": [
       "<div><div style = \"float: left;\"><span>3×5 DataFrame</span></div><div style = \"clear: both;\"></div></div><div class = \"data-frame\" style = \"overflow-x: scroll;\"><table class = \"data-frame\" style = \"margin-bottom: 6px;\"><thead><tr class = \"header\"><th class = \"rowNumber\" style = \"font-weight: bold; text-align: right;\">Row</th><th style = \"text-align: left;\">age</th><th style = \"text-align: left;\">wage</th><th style = \"text-align: left;\">educ</th><th style = \"text-align: left;\">educ_num</th><th style = \"text-align: left;\">log_wage</th></tr><tr class = \"subheader headerLastRow\"><th class = \"rowNumber\" style = \"font-weight: bold; text-align: right;\"></th><th title = \"Int64\" style = \"text-align: left;\">Int64</th><th title = \"Int64\" style = \"text-align: left;\">Int64</th><th title = \"String\" style = \"text-align: left;\">String</th><th title = \"Int64\" style = \"text-align: left;\">Int64</th><th title = \"Float64\" style = \"text-align: left;\">Float64</th></tr></thead><tbody><tr><td class = \"rowNumber\" style = \"font-weight: bold; text-align: right;\">1</td><td style = \"text-align: right;\">22</td><td style = \"text-align: right;\">12000</td><td style = \"text-align: left;\">some college but no degree</td><td style = \"text-align: right;\">13</td><td style = \"text-align: right;\">9.39266</td></tr><tr><td class = \"rowNumber\" style = \"font-weight: bold; text-align: right;\">2</td><td style = \"text-align: right;\">21</td><td style = \"text-align: right;\">3500</td><td style = \"text-align: left;\">some college but no degree</td><td style = \"text-align: right;\">13</td><td style = \"text-align: right;\">8.16052</td></tr><tr><td class = \"rowNumber\" style = \"font-weight: bold; text-align: right;\">3</td><td style = \"text-align: right;\">49</td><td style = \"text-align: right;\">30000</td><td style = \"text-align: left;\">some college but no degree</td><td style = \"text-align: right;\">13</td><td style = \"text-align: right;\">10.309</td></tr></tbody></table></div>"
      ],
      "text/latex": [
       "\\begin{tabular}{r|ccccc}\n",
       "\t& age & wage & educ & educ\\_num & log\\_wage\\\\\n",
       "\t\\hline\n",
       "\t& Int64 & Int64 & String & Int64 & Float64\\\\\n",
       "\t\\hline\n",
       "\t1 & 22 & 12000 & some college but no degree & 13 & 9.39266 \\\\\n",
       "\t2 & 21 & 3500 & some college but no degree & 13 & 8.16052 \\\\\n",
       "\t3 & 49 & 30000 & some college but no degree & 13 & 10.309 \\\\\n",
       "\\end{tabular}\n"
      ],
      "text/plain": [
       "\u001b[1m3×5 DataFrame\u001b[0m\n",
       "\u001b[1m Row \u001b[0m│\u001b[1m age   \u001b[0m\u001b[1m wage  \u001b[0m\u001b[1m educ                       \u001b[0m\u001b[1m educ_num \u001b[0m\u001b[1m log_wage \u001b[0m\n",
       "     │\u001b[90m Int64 \u001b[0m\u001b[90m Int64 \u001b[0m\u001b[90m String                     \u001b[0m\u001b[90m Int64    \u001b[0m\u001b[90m Float64  \u001b[0m\n",
       "─────┼──────────────────────────────────────────────────────────────\n",
       "   1 │    22  12000  some college but no degree        13   9.39266\n",
       "   2 │    21   3500  some college but no degree        13   8.16052\n",
       "   3 │    49  30000  some college but no degree        13  10.309"
      ]
     },
     "execution_count": 7,
     "metadata": {},
     "output_type": "execute_result"
    }
   ],
   "source": [
    "#2. transforming cps.educ\n",
    "f(x) = educ_dict[x]\n",
    "cps.educ_num = f.(cps.educ)\n",
    "\n",
    "#3. log of wage\n",
    "cps.log_wage = log.(cps.wage)\n",
    "first(cps,3)"
   ]
  },
  {
   "cell_type": "code",
   "execution_count": 8,
   "metadata": {},
   "outputs": [
    {
     "name": "stdout",
     "output_type": "stream",
     "text": [
      "The original data contains 22715 observations and 5 columns."
     ]
    }
   ],
   "source": [
    "Nobs, c = size(cps)\n",
    "print(\"The original data contains \", Nobs, \" observations and \",c, \" columns.\")"
   ]
  },
  {
   "cell_type": "markdown",
   "metadata": {},
   "source": [
    "# Best Linear Predictor "
   ]
  },
  {
   "cell_type": "code",
   "execution_count": 9,
   "metadata": {},
   "outputs": [],
   "source": [
    "#reg(cps, @formula(log_wage ~ educ_num ), Vcov.robust())"
   ]
  },
  {
   "cell_type": "code",
   "execution_count": 10,
   "metadata": {
    "scrolled": true
   },
   "outputs": [],
   "source": [
    "#reg(cps, @formula(log_wage ~ educ_num + age ), Vcov.robust())"
   ]
  },
  {
   "cell_type": "markdown",
   "metadata": {},
   "source": [
    "# Creating Interval Data"
   ]
  },
  {
   "cell_type": "code",
   "execution_count": 11,
   "metadata": {},
   "outputs": [
    {
     "data": {
      "text/plain": [
       "362303.0"
      ]
     },
     "execution_count": 11,
     "metadata": {},
     "output_type": "execute_result"
    }
   ],
   "source": [
    "wage_quantiles = quantile(cps[!,:wage],[0.0, 0.1,0.2,0.3,0.4,0.5,0.6,0.7,0.8,0.9,1.0], sorted=false);\n",
    "#wage_quantiles[1] +=-1\n",
    "wage_quantiles[end] +=1"
   ]
  },
  {
   "cell_type": "code",
   "execution_count": 12,
   "metadata": {},
   "outputs": [
    {
     "data": {
      "text/html": [
       "<div><div style = \"float: left;\"><span>3×9 DataFrame</span></div><div style = \"clear: both;\"></div></div><div class = \"data-frame\" style = \"overflow-x: scroll;\"><table class = \"data-frame\" style = \"margin-bottom: 6px;\"><thead><tr class = \"header\"><th class = \"rowNumber\" style = \"font-weight: bold; text-align: right;\">Row</th><th style = \"text-align: left;\">age</th><th style = \"text-align: left;\">wage</th><th style = \"text-align: left;\">educ</th><th style = \"text-align: left;\">educ_num</th><th style = \"text-align: left;\">log_wage</th><th style = \"text-align: left;\">wage_lower</th><th style = \"text-align: left;\">wage_upper</th><th style = \"text-align: left;\">logwage_lower</th><th style = \"text-align: left;\">logwage_upper</th></tr><tr class = \"subheader headerLastRow\"><th class = \"rowNumber\" style = \"font-weight: bold; text-align: right;\"></th><th title = \"Int64\" style = \"text-align: left;\">Int64</th><th title = \"Int64\" style = \"text-align: left;\">Int64</th><th title = \"String\" style = \"text-align: left;\">String</th><th title = \"Int64\" style = \"text-align: left;\">Int64</th><th title = \"Float64\" style = \"text-align: left;\">Float64</th><th title = \"Float64\" style = \"text-align: left;\">Float64</th><th title = \"Float64\" style = \"text-align: left;\">Float64</th><th title = \"Float64\" style = \"text-align: left;\">Float64</th><th title = \"Float64\" style = \"text-align: left;\">Float64</th></tr></thead><tbody><tr><td class = \"rowNumber\" style = \"font-weight: bold; text-align: right;\">1</td><td style = \"text-align: right;\">22</td><td style = \"text-align: right;\">12000</td><td style = \"text-align: left;\">some college but no degree</td><td style = \"text-align: right;\">13</td><td style = \"text-align: right;\">9.39266</td><td style = \"text-align: right;\">9000.0</td><td style = \"text-align: right;\">15000.0</td><td style = \"text-align: right;\">9.10498</td><td style = \"text-align: right;\">9.61581</td></tr><tr><td class = \"rowNumber\" style = \"font-weight: bold; text-align: right;\">2</td><td style = \"text-align: right;\">21</td><td style = \"text-align: right;\">3500</td><td style = \"text-align: left;\">some college but no degree</td><td style = \"text-align: right;\">13</td><td style = \"text-align: right;\">8.16052</td><td style = \"text-align: right;\">1.0</td><td style = \"text-align: right;\">9000.0</td><td style = \"text-align: right;\">0.0</td><td style = \"text-align: right;\">9.10498</td></tr><tr><td class = \"rowNumber\" style = \"font-weight: bold; text-align: right;\">3</td><td style = \"text-align: right;\">49</td><td style = \"text-align: right;\">30000</td><td style = \"text-align: left;\">some college but no degree</td><td style = \"text-align: right;\">13</td><td style = \"text-align: right;\">10.309</td><td style = \"text-align: right;\">30000.0</td><td style = \"text-align: right;\">36000.0</td><td style = \"text-align: right;\">10.309</td><td style = \"text-align: right;\">10.4913</td></tr></tbody></table></div>"
      ],
      "text/latex": [
       "\\begin{tabular}{r|cccccccc}\n",
       "\t& age & wage & educ & educ\\_num & log\\_wage & wage\\_lower & wage\\_upper & \\\\\n",
       "\t\\hline\n",
       "\t& Int64 & Int64 & String & Int64 & Float64 & Float64 & Float64 & \\\\\n",
       "\t\\hline\n",
       "\t1 & 22 & 12000 & some college but no degree & 13 & 9.39266 & 9000.0 & 15000.0 & $\\dots$ \\\\\n",
       "\t2 & 21 & 3500 & some college but no degree & 13 & 8.16052 & 1.0 & 9000.0 & $\\dots$ \\\\\n",
       "\t3 & 49 & 30000 & some college but no degree & 13 & 10.309 & 30000.0 & 36000.0 & $\\dots$ \\\\\n",
       "\\end{tabular}\n"
      ],
      "text/plain": [
       "\u001b[1m3×9 DataFrame\u001b[0m\n",
       "\u001b[1m Row \u001b[0m│\u001b[1m age   \u001b[0m\u001b[1m wage  \u001b[0m\u001b[1m educ                       \u001b[0m\u001b[1m educ_num \u001b[0m\u001b[1m log_wage \u001b[0m\u001b[1m wage_lowe\u001b[0m ⋯\n",
       "     │\u001b[90m Int64 \u001b[0m\u001b[90m Int64 \u001b[0m\u001b[90m String                     \u001b[0m\u001b[90m Int64    \u001b[0m\u001b[90m Float64  \u001b[0m\u001b[90m Float64  \u001b[0m ⋯\n",
       "─────┼──────────────────────────────────────────────────────────────────────────\n",
       "   1 │    22  12000  some college but no degree        13   9.39266      9000. ⋯\n",
       "   2 │    21   3500  some college but no degree        13   8.16052         1.\n",
       "   3 │    49  30000  some college but no degree        13  10.309       30000.\n",
       "\u001b[36m                                                               4 columns omitted\u001b[0m"
      ]
     },
     "execution_count": 12,
     "metadata": {},
     "output_type": "execute_result"
    }
   ],
   "source": [
    "lower(x) = wage_quantiles[sum(wage_quantiles .<=x)]\n",
    "upper(x) = wage_quantiles[sum(wage_quantiles .<=x)+1]\n",
    "\n",
    "cps.wage_lower = lower.(cps.wage)\n",
    "cps.wage_upper = upper.(cps.wage)\n",
    "\n",
    "cps.logwage_lower = log.(cps.wage_lower)\n",
    "cps.logwage_upper = log.(cps.wage_upper)\n",
    "\n",
    "first(cps,3)"
   ]
  },
  {
   "cell_type": "code",
   "execution_count": 13,
   "metadata": {},
   "outputs": [
    {
     "name": "stdout",
     "output_type": "stream",
     "text": [
      "The complete data contains 22715 observations and 9 columns."
     ]
    }
   ],
   "source": [
    "Nobs, c = size(cps)\n",
    "print(\"The complete data contains \", Nobs, \" observations and \",c, \" columns.\")"
   ]
  },
  {
   "cell_type": "markdown",
   "metadata": {},
   "source": [
    "# Partial Indentification"
   ]
  },
  {
   "cell_type": "markdown",
   "metadata": {},
   "source": [
    "### Reading the module"
   ]
  },
  {
   "cell_type": "code",
   "execution_count": 14,
   "metadata": {},
   "outputs": [
    {
     "data": {
      "text/plain": [
       "Main.setBLP"
      ]
     },
     "execution_count": 14,
     "metadata": {},
     "output_type": "execute_result"
    }
   ],
   "source": [
    "include(\"C:\\\\Users\\\\arie\\\\OneDrive - University of Pittsburgh\\\\Documents\\\\Bounds.jl\\\\Bounds.jl\\\\src\\\\setBLP.jl\")"
   ]
  },
  {
   "cell_type": "code",
   "execution_count": 15,
   "metadata": {},
   "outputs": [],
   "source": [
    "using Main.setBLP"
   ]
  },
  {
   "cell_type": "markdown",
   "metadata": {},
   "source": [
    "## Testing projection function"
   ]
  },
  {
   "cell_type": "code",
   "execution_count": 16,
   "metadata": {},
   "outputs": [
    {
     "data": {
      "text/html": [
       "# 7 methods for generic function <b>projection</b> from \u001b[35mMain.setBLP\u001b[39m:<ul><li> projection(yl::<b>Vector{<:Real}</b>, yu::<b>Vector{<:Real}</b>, x::<b>Vector{<:Real}</b>) in Main.setBLP at <a href=\"https://github.com/ArieBeresteanu/Bounds.jl/tree/f3016c5bdb58e07601be8caa395b4228a242262d//src/setBLP.jl#L197\" target=\"_blank\">C:\\Users\\arie\\OneDrive - University of Pittsburgh\\Documents\\Bounds.jl\\Bounds.jl\\src\\setBLP.jl:197</a></li> <li> projection(yl::<b>Vector{<:Real}</b>, yu::<b>Vector{<:Real}</b>, x::<b>Matrix{<:Real}</b>) in Main.setBLP at <a href=\"https://github.com/ArieBeresteanu/Bounds.jl/tree/f3016c5bdb58e07601be8caa395b4228a242262d//src/setBLP.jl#L238\" target=\"_blank\">C:\\Users\\arie\\OneDrive - University of Pittsburgh\\Documents\\Bounds.jl\\Bounds.jl\\src\\setBLP.jl:238</a></li> <li> projection(yl::<b>Vector{<:Real}</b>, yu::<b>Vector{<:Real}</b>, x::<b>Matrix{<:Real}</b>, cord::<b>Int64</b>) in Main.setBLP at <a href=\"https://github.com/ArieBeresteanu/Bounds.jl/tree/f3016c5bdb58e07601be8caa395b4228a242262d//src/setBLP.jl#L208\" target=\"_blank\">C:\\Users\\arie\\OneDrive - University of Pittsburgh\\Documents\\Bounds.jl\\Bounds.jl\\src\\setBLP.jl:208</a></li> <li> projection(yl::<b>Vector{<:Real}</b>, yu::<b>Vector{<:Real}</b>, x::<b>Matrix{<:Real}</b>, cords::<b>Vector{Int64}</b>) in Main.setBLP at <a href=\"https://github.com/ArieBeresteanu/Bounds.jl/tree/f3016c5bdb58e07601be8caa395b4228a242262d//src/setBLP.jl#L221\" target=\"_blank\">C:\\Users\\arie\\OneDrive - University of Pittsburgh\\Documents\\Bounds.jl\\Bounds.jl\\src\\setBLP.jl:221</a></li> <li> projection(df::<b>DataFrame</b>, yl::<b>Symbol</b>, yu::<b>Symbol</b>, x::<b>Symbol</b>) in Main.setBLP at <a href=\"https://github.com/ArieBeresteanu/Bounds.jl/tree/f3016c5bdb58e07601be8caa395b4228a242262d//src/setBLP.jl#L256\" target=\"_blank\">C:\\Users\\arie\\OneDrive - University of Pittsburgh\\Documents\\Bounds.jl\\Bounds.jl\\src\\setBLP.jl:256</a></li> <li> projection(df::<b>DataFrame</b>, yl::<b>Symbol</b>, yu::<b>Symbol</b>, x::<b>Vector{Symbol}</b>) in Main.setBLP at <a href=\"https://github.com/ArieBeresteanu/Bounds.jl/tree/f3016c5bdb58e07601be8caa395b4228a242262d//src/setBLP.jl#L264\" target=\"_blank\">C:\\Users\\arie\\OneDrive - University of Pittsburgh\\Documents\\Bounds.jl\\Bounds.jl\\src\\setBLP.jl:264</a></li> <li> projection(df::<b>DataFrame</b>, yl::<b>Symbol</b>, yu::<b>Symbol</b>, x::<b>Vector{Symbol}</b>, cord::<b>Int64</b>) in Main.setBLP at <a href=\"https://github.com/ArieBeresteanu/Bounds.jl/tree/f3016c5bdb58e07601be8caa395b4228a242262d//src/setBLP.jl#L272\" target=\"_blank\">C:\\Users\\arie\\OneDrive - University of Pittsburgh\\Documents\\Bounds.jl\\Bounds.jl\\src\\setBLP.jl:272</a></li> </ul>"
      ],
      "text/plain": [
       "# 7 methods for generic function \"projection\" from \u001b[35mMain.setBLP\u001b[39m:\n",
       " [1] projection(\u001b[90myl\u001b[39m::\u001b[1mVector\u001b[22m\u001b[0m{<:Real}, \u001b[90myu\u001b[39m::\u001b[1mVector\u001b[22m\u001b[0m{<:Real}, \u001b[90mx\u001b[39m::\u001b[1mVector\u001b[22m\u001b[0m{<:Real})\n",
       "\u001b[90m     @\u001b[39m \u001b[90mC:\\Users\\arie\\OneDrive - University of Pittsburgh\\Documents\\Bounds.jl\\Bounds.jl\\src\\\u001b[39m\u001b[90m\u001b[4msetBLP.jl:197\u001b[24m\u001b[39m\n",
       " [2] projection(\u001b[90myl\u001b[39m::\u001b[1mVector\u001b[22m\u001b[0m{<:Real}, \u001b[90myu\u001b[39m::\u001b[1mVector\u001b[22m\u001b[0m{<:Real}, \u001b[90mx\u001b[39m::\u001b[1mMatrix\u001b[22m\u001b[0m{<:Real})\n",
       "\u001b[90m     @\u001b[39m \u001b[90mC:\\Users\\arie\\OneDrive - University of Pittsburgh\\Documents\\Bounds.jl\\Bounds.jl\\src\\\u001b[39m\u001b[90m\u001b[4msetBLP.jl:238\u001b[24m\u001b[39m\n",
       " [3] projection(\u001b[90myl\u001b[39m::\u001b[1mVector\u001b[22m\u001b[0m{<:Real}, \u001b[90myu\u001b[39m::\u001b[1mVector\u001b[22m\u001b[0m{<:Real}, \u001b[90mx\u001b[39m::\u001b[1mMatrix\u001b[22m\u001b[0m{<:Real}, \u001b[90mcord\u001b[39m::\u001b[1mInt64\u001b[22m)\n",
       "\u001b[90m     @\u001b[39m \u001b[90mC:\\Users\\arie\\OneDrive - University of Pittsburgh\\Documents\\Bounds.jl\\Bounds.jl\\src\\\u001b[39m\u001b[90m\u001b[4msetBLP.jl:208\u001b[24m\u001b[39m\n",
       " [4] projection(\u001b[90myl\u001b[39m::\u001b[1mVector\u001b[22m\u001b[0m{<:Real}, \u001b[90myu\u001b[39m::\u001b[1mVector\u001b[22m\u001b[0m{<:Real}, \u001b[90mx\u001b[39m::\u001b[1mMatrix\u001b[22m\u001b[0m{<:Real}, \u001b[90mcords\u001b[39m::\u001b[1mVector\u001b[22m\u001b[0m{Int64})\n",
       "\u001b[90m     @\u001b[39m \u001b[90mC:\\Users\\arie\\OneDrive - University of Pittsburgh\\Documents\\Bounds.jl\\Bounds.jl\\src\\\u001b[39m\u001b[90m\u001b[4msetBLP.jl:221\u001b[24m\u001b[39m\n",
       " [5] projection(\u001b[90mdf\u001b[39m::\u001b[1mDataFrame\u001b[22m, \u001b[90myl\u001b[39m::\u001b[1mSymbol\u001b[22m, \u001b[90myu\u001b[39m::\u001b[1mSymbol\u001b[22m, \u001b[90mx\u001b[39m::\u001b[1mSymbol\u001b[22m)\n",
       "\u001b[90m     @\u001b[39m \u001b[90mC:\\Users\\arie\\OneDrive - University of Pittsburgh\\Documents\\Bounds.jl\\Bounds.jl\\src\\\u001b[39m\u001b[90m\u001b[4msetBLP.jl:256\u001b[24m\u001b[39m\n",
       " [6] projection(\u001b[90mdf\u001b[39m::\u001b[1mDataFrame\u001b[22m, \u001b[90myl\u001b[39m::\u001b[1mSymbol\u001b[22m, \u001b[90myu\u001b[39m::\u001b[1mSymbol\u001b[22m, \u001b[90mx\u001b[39m::\u001b[1mVector\u001b[22m\u001b[0m{Symbol})\n",
       "\u001b[90m     @\u001b[39m \u001b[90mC:\\Users\\arie\\OneDrive - University of Pittsburgh\\Documents\\Bounds.jl\\Bounds.jl\\src\\\u001b[39m\u001b[90m\u001b[4msetBLP.jl:264\u001b[24m\u001b[39m\n",
       " [7] projection(\u001b[90mdf\u001b[39m::\u001b[1mDataFrame\u001b[22m, \u001b[90myl\u001b[39m::\u001b[1mSymbol\u001b[22m, \u001b[90myu\u001b[39m::\u001b[1mSymbol\u001b[22m, \u001b[90mx\u001b[39m::\u001b[1mVector\u001b[22m\u001b[0m{Symbol}, \u001b[90mcord\u001b[39m::\u001b[1mInt64\u001b[22m)\n",
       "\u001b[90m     @\u001b[39m \u001b[90mC:\\Users\\arie\\OneDrive - University of Pittsburgh\\Documents\\Bounds.jl\\Bounds.jl\\src\\\u001b[39m\u001b[90m\u001b[4msetBLP.jl:272\u001b[24m\u001b[39m"
      ]
     },
     "execution_count": 16,
     "metadata": {},
     "output_type": "execute_result"
    }
   ],
   "source": [
    "methods(projection)"
   ]
  },
  {
   "cell_type": "code",
   "execution_count": 17,
   "metadata": {},
   "outputs": [
    {
     "name": "stdout",
     "output_type": "stream",
     "text": [
      "Options:\n",
      "  Number of MC iterations: 2000\n",
      "  Seed: 15217\n",
      "  Random Number Generator: Random.MersenneTwister(0xf13944c1b6b521afdf5bc6f53e1ccad2)\n",
      "  Confidence level: 0.95\n"
     ]
    }
   ],
   "source": [
    "show(default_options)"
   ]
  },
  {
   "cell_type": "markdown",
   "metadata": {},
   "source": [
    "### 1. Testing the vector/matrix functions"
   ]
  },
  {
   "cell_type": "code",
   "execution_count": 18,
   "metadata": {},
   "outputs": [],
   "source": [
    "# Preparing vector and matrix versions of the data\n",
    "\n",
    "yl = cps.logwage_lower;\n",
    "yu = cps.logwage_upper;\n",
    "x1 = cps.age;\n",
    "x2 = cps.educ_num;\n",
    "x = [x1 x2];"
   ]
  },
  {
   "cell_type": "code",
   "execution_count": 19,
   "metadata": {},
   "outputs": [],
   "source": [
    "#projection(yl,yu,x1)"
   ]
  },
  {
   "cell_type": "code",
   "execution_count": 20,
   "metadata": {},
   "outputs": [],
   "source": [
    "#projection(yl,yu,x1)"
   ]
  },
  {
   "cell_type": "code",
   "execution_count": 21,
   "metadata": {},
   "outputs": [
    {
     "data": {
      "text/plain": [
       "1×2 Matrix{Float64}:\n",
       " -0.00905178  0.144324"
      ]
     },
     "execution_count": 21,
     "metadata": {},
     "output_type": "execute_result"
    }
   ],
   "source": [
    "projection(yl,yu,x,1)"
   ]
  },
  {
   "cell_type": "code",
   "execution_count": 22,
   "metadata": {},
   "outputs": [],
   "source": [
    "#projection(yl,yu,x,2)"
   ]
  },
  {
   "cell_type": "code",
   "execution_count": 23,
   "metadata": {},
   "outputs": [],
   "source": [
    "#projection(yl,yu,x)"
   ]
  },
  {
   "cell_type": "markdown",
   "metadata": {},
   "source": [
    "### 2. Testing the Dataframe version of the functions"
   ]
  },
  {
   "cell_type": "code",
   "execution_count": 24,
   "metadata": {},
   "outputs": [
    {
     "data": {
      "text/plain": [
       "1×2 Matrix{Float64}:\n",
       " -0.00488786  0.14866"
      ]
     },
     "execution_count": 24,
     "metadata": {},
     "output_type": "execute_result"
    }
   ],
   "source": [
    "projection(cps,:logwage_lower,:logwage_upper,:age)"
   ]
  },
  {
   "cell_type": "code",
   "execution_count": 25,
   "metadata": {},
   "outputs": [],
   "source": [
    "#projection(cps,:logwage_lower,:logwage_upper,:educ_num)"
   ]
  },
  {
   "cell_type": "code",
   "execution_count": 26,
   "metadata": {},
   "outputs": [],
   "source": [
    "#projection(cps,:logwage_lower,:logwage_upper,[:age,:educ_num],1)"
   ]
  },
  {
   "cell_type": "code",
   "execution_count": 27,
   "metadata": {},
   "outputs": [],
   "source": [
    "#projection(cps,:logwage_lower,:logwage_upper,[:age,:educ_num],2)"
   ]
  },
  {
   "cell_type": "code",
   "execution_count": 28,
   "metadata": {},
   "outputs": [],
   "source": [
    "#projection(cps,:logwage_lower,:logwage_upper,[:age,:educ_num])"
   ]
  },
  {
   "cell_type": "markdown",
   "metadata": {},
   "source": [
    "## Testing oneDproj function"
   ]
  },
  {
   "cell_type": "code",
   "execution_count": 29,
   "metadata": {},
   "outputs": [
    {
     "name": "stdout",
     "output_type": "stream",
     "text": [
      "Results: \n",
      "  Null: [0.0, 0.15]\n",
      "  Bound: [-0.0049, 0.1487]\n",
      "  Hausdorff based test: \n",
      "    Test Stat: 0.7367\n",
      "    Critical Value: 0.7576\n",
      "    Confidence Interval: [-0.0099, 0.1537]\n",
      "  directed Hausdorff test: \n",
      "    Test Stat: 0.202\n",
      "    Critical Value: 0.6457\n",
      "    Confidence Interval: [-0.0092, 0.1529]\n"
     ]
    }
   ],
   "source": [
    "res = oneDproj(yl,yu,float.(x1);CI=true,H0=[0, 0.15]);\n",
    "show(res)"
   ]
  },
  {
   "cell_type": "code",
   "execution_count": 30,
   "metadata": {},
   "outputs": [
    {
     "name": "stdout",
     "output_type": "stream",
     "text": [
      "Results: \n",
      "  Null: [0.1, 0.15]\n",
      "  Bound: [-0.0049, 0.1487]\n",
      "  Hausdorff based test: \n",
      "    Test Stat: 15.8082\n",
      "    Critical Value: 0.7224\n",
      "    Confidence Interval: [-0.0097, 0.1535]\n",
      "  directed Hausdorff test: \n",
      "    Test Stat: 0.202\n",
      "    Critical Value: 0.6211\n",
      "    Confidence Interval: [-0.009, 0.1528]\n"
     ]
    }
   ],
   "source": [
    "res = oneDproj(yl,yu,float.(x1);CI=true,H0=[0.1,0.15]);\n",
    "show(res)"
   ]
  },
  {
   "cell_type": "code",
   "execution_count": 31,
   "metadata": {},
   "outputs": [
    {
     "name": "stdout",
     "output_type": "stream",
     "text": [
      "Results: \n",
      "  Null: [0.0, 0.1]\n",
      "  Bound: [-0.0049, 0.1487]\n",
      "  Hausdorff based test: \n",
      "    Test Stat: 7.3337\n",
      "    Critical Value: 0.7288\n",
      "    Confidence Interval: [-0.0097, 0.1535]\n",
      "  directed Hausdorff test: \n",
      "    Test Stat: 0.0\n",
      "    Critical Value: 0.6377\n",
      "    Confidence Interval: [-0.0091, 0.1529]\n"
     ]
    }
   ],
   "source": [
    "res = oneDproj(yl,yu,float.(x1);CI=true,H0=[0.0,0.1]);\n",
    "show(res)"
   ]
  },
  {
   "cell_type": "code",
   "execution_count": 32,
   "metadata": {},
   "outputs": [
    {
     "name": "stdout",
     "output_type": "stream",
     "text": [
      "Results: \n",
      "  Null: [-0.1, 0.15]\n",
      "  Bound: [-0.0049, 0.1487]\n",
      "  Hausdorff based test: \n",
      "    Test Stat: 14.3348\n",
      "    Critical Value: 0.7398\n",
      "    Confidence Interval: [-0.0098, 0.1536]\n",
      "  directed Hausdorff test: \n",
      "    Test Stat: 14.3348\n",
      "    Critical Value: 0.6589\n",
      "    Confidence Interval: [-0.0093, 0.153]\n"
     ]
    }
   ],
   "source": [
    "res = oneDproj(yl,yu,float.(x1);CI=true,H0=[-0.1,0.15]);\n",
    "show(res)"
   ]
  },
  {
   "cell_type": "code",
   "execution_count": 33,
   "metadata": {},
   "outputs": [
    {
     "data": {
      "text/plain": [
       "Results([-0.004887858329799178, 0.14865963017399053], nothing, nothing, nothing)"
      ]
     },
     "execution_count": 33,
     "metadata": {},
     "output_type": "execute_result"
    }
   ],
   "source": [
    "res = oneDproj(yl,yu,float.(x1);CI=false,H0=nothing)"
   ]
  },
  {
   "cell_type": "code",
   "execution_count": 34,
   "metadata": {},
   "outputs": [
    {
     "data": {
      "text/plain": [
       "Results([-0.004887858329799178, 0.14865963017399053], nothing, TestResults([-0.00960457174511114, 0.1533763435893025], 0.7108792867422752, nothing), TestResults([-0.00905748150130844, 0.1528292533454998], 0.6284246010207348, nothing))"
      ]
     },
     "execution_count": 34,
     "metadata": {},
     "output_type": "execute_result"
    }
   ],
   "source": [
    "res = oneDproj(yl,yu,real.(x1))"
   ]
  },
  {
   "cell_type": "code",
   "execution_count": 35,
   "metadata": {},
   "outputs": [
    {
     "data": {
      "text/plain": [
       "Results([0.001786042221944126, 0.3685793555817362], nothing, TestResults([-0.014476871975842067, 0.3848422697795224], 2.4510645077020072, nothing), TestResults([-0.01192694418767009, 0.3822923419913504], 2.0667522360648483, nothing))"
      ]
     },
     "execution_count": 35,
     "metadata": {},
     "output_type": "execute_result"
    }
   ],
   "source": [
    "res = oneDproj(cps,:logwage_lower,:logwage_upper,:educ_num)"
   ]
  },
  {
   "cell_type": "markdown",
   "metadata": {},
   "source": [
    "### Plotting"
   ]
  },
  {
   "cell_type": "code",
   "execution_count": 36,
   "metadata": {},
   "outputs": [
    {
     "data": {
      "image/png": "[encoded data removed]",
      "image/svg+xml": [
       "<?xml version=\"1.0\" encoding=\"utf-8\"?>\n",
       "<svg xmlns=\"http://www.w3.org/2000/svg\" xmlns:xlink=\"http://www.w3.org/1999/xlink\" width=\"600\" height=\"120\" viewBox=\"0 0 2400 480\">\n",
       "<defs>\n",
       "  <clipPath id=\"clip330\">\n",
       "    <rect x=\"0\" y=\"0\" width=\"2400\" height=\"480\"/>\n",
       "  </clipPath>\n",
       "</defs>\n",
       "<path clip-path=\"url(#clip330)\" d=\"M0 480 L2400 480 L2400 0 L0 0  Z\" fill=\"#ffffff\" fill-rule=\"evenodd\" fill-opacity=\"1\"/>\n",
       "<defs>\n",
       "  <clipPath id=\"clip331\">\n",
       "    <rect x=\"480\" y=\"0\" width=\"1681\" height=\"480\"/>\n",
       "  </clipPath>\n",
       "</defs>\n",
       "<path clip-path=\"url(#clip330)\" d=\"M223.45 401.84 L2352.76 401.84 L2352.76 47.2441 L223.45 47.2441  Z\" fill=\"#ffffff\" fill-rule=\"evenodd\" fill-opacity=\"1\"/>\n",
       "<defs>\n",
       "  <clipPath id=\"clip332\">\n",
       "    <rect x=\"223\" y=\"47\" width=\"2130\" height=\"356\"/>\n",
       "  </clipPath>\n",
       "</defs>\n",
       "<polyline clip-path=\"url(#clip332)\" style=\"stroke:#000000; stroke-linecap:round; stroke-linejoin:round; stroke-width:2; stroke-opacity:0.1; fill:none\" points=\"465.222,401.84 465.222,47.2441 \"/>\n",
       "<polyline clip-path=\"url(#clip332)\" style=\"stroke:#000000; stroke-linecap:round; stroke-linejoin:round; stroke-width:2; stroke-opacity:0.1; fill:none\" points=\"909.583,401.84 909.583,47.2441 \"/>\n",
       "<polyline clip-path=\"url(#clip332)\" style=\"stroke:#000000; stroke-linecap:round; stroke-linejoin:round; stroke-width:2; stroke-opacity:0.1; fill:none\" points=\"1353.95,401.84 1353.95,47.2441 \"/>\n",
       "<polyline clip-path=\"url(#clip332)\" style=\"stroke:#000000; stroke-linecap:round; stroke-linejoin:round; stroke-width:2; stroke-opacity:0.1; fill:none\" points=\"1798.31,401.84 1798.31,47.2441 \"/>\n",
       "<polyline clip-path=\"url(#clip332)\" style=\"stroke:#000000; stroke-linecap:round; stroke-linejoin:round; stroke-width:2; stroke-opacity:0.1; fill:none\" points=\"2242.67,401.84 2242.67,47.2441 \"/>\n",
       "<polyline clip-path=\"url(#clip330)\" style=\"stroke:#000000; stroke-linecap:round; stroke-linejoin:round; stroke-width:4; stroke-opacity:1; fill:none\" points=\"223.45,401.84 2352.76,401.84 \"/>\n",
       "<polyline clip-path=\"url(#clip330)\" style=\"stroke:#000000; stroke-linecap:round; stroke-linejoin:round; stroke-width:4; stroke-opacity:1; fill:none\" points=\"465.222,401.84 465.222,382.942 \"/>\n",
       "<polyline clip-path=\"url(#clip330)\" style=\"stroke:#000000; stroke-linecap:round; stroke-linejoin:round; stroke-width:4; stroke-opacity:1; fill:none\" points=\"909.583,401.84 909.583,382.942 \"/>\n",
       "<polyline clip-path=\"url(#clip330)\" style=\"stroke:#000000; stroke-linecap:round; stroke-linejoin:round; stroke-width:4; stroke-opacity:1; fill:none\" points=\"1353.95,401.84 1353.95,382.942 \"/>\n",
       "<polyline clip-path=\"url(#clip330)\" style=\"stroke:#000000; stroke-linecap:round; stroke-linejoin:round; stroke-width:4; stroke-opacity:1; fill:none\" points=\"1798.31,401.84 1798.31,382.942 \"/>\n",
       "<polyline clip-path=\"url(#clip330)\" style=\"stroke:#000000; stroke-linecap:round; stroke-linejoin:round; stroke-width:4; stroke-opacity:1; fill:none\" points=\"2242.67,401.84 2242.67,382.942 \"/>\n",
       "<path clip-path=\"url(#clip330)\" d=\"M442.606 432.759 Q438.995 432.759 437.166 436.323 Q435.361 439.865 435.361 446.995 Q435.361 454.101 437.166 457.666 Q438.995 461.207 442.606 461.207 Q446.24 461.207 448.046 457.666 Q449.874 454.101 449.874 446.995 Q449.874 439.865 448.046 436.323 Q446.24 432.759 442.606 432.759 M442.606 429.055 Q448.416 429.055 451.472 433.661 Q454.55 438.245 454.55 446.995 Q454.55 455.721 451.472 460.328 Q448.416 464.911 442.606 464.911 Q436.796 464.911 433.717 460.328 Q430.662 455.721 430.662 446.995 Q430.662 438.245 433.717 433.661 Q436.796 429.055 442.606 429.055 Z\" fill=\"#000000\" fill-rule=\"nonzero\" fill-opacity=\"1\" /><path clip-path=\"url(#clip330)\" d=\"M462.768 458.36 L467.652 458.36 L467.652 464.24 L462.768 464.24 L462.768 458.36 Z\" fill=\"#000000\" fill-rule=\"nonzero\" fill-opacity=\"1\" /><path clip-path=\"url(#clip330)\" d=\"M487.837 432.759 Q484.226 432.759 482.397 436.323 Q480.592 439.865 480.592 446.995 Q480.592 454.101 482.397 457.666 Q484.226 461.207 487.837 461.207 Q491.471 461.207 493.277 457.666 Q495.106 454.101 495.106 446.995 Q495.106 439.865 493.277 436.323 Q491.471 432.759 487.837 432.759 M487.837 429.055 Q493.647 429.055 496.703 433.661 Q499.782 438.245 499.782 446.995 Q499.782 455.721 496.703 460.328 Q493.647 464.911 487.837 464.911 Q482.027 464.911 478.948 460.328 Q475.893 455.721 475.893 446.995 Q475.893 438.245 478.948 433.661 Q482.027 429.055 487.837 429.055 Z\" fill=\"#000000\" fill-rule=\"nonzero\" fill-opacity=\"1\" /><path clip-path=\"url(#clip330)\" d=\"M887.581 432.759 Q883.97 432.759 882.141 436.323 Q880.336 439.865 880.336 446.995 Q880.336 454.101 882.141 457.666 Q883.97 461.207 887.581 461.207 Q891.215 461.207 893.021 457.666 Q894.85 454.101 894.85 446.995 Q894.85 439.865 893.021 436.323 Q891.215 432.759 887.581 432.759 M887.581 429.055 Q893.391 429.055 896.447 433.661 Q899.526 438.245 899.526 446.995 Q899.526 455.721 896.447 460.328 Q893.391 464.911 887.581 464.911 Q881.771 464.911 878.692 460.328 Q875.637 455.721 875.637 446.995 Q875.637 438.245 878.692 433.661 Q881.771 429.055 887.581 429.055 Z\" fill=\"#000000\" fill-rule=\"nonzero\" fill-opacity=\"1\" /><path clip-path=\"url(#clip330)\" d=\"M907.743 458.36 L912.627 458.36 L912.627 464.24 L907.743 464.24 L907.743 458.36 Z\" fill=\"#000000\" fill-rule=\"nonzero\" fill-opacity=\"1\" /><path clip-path=\"url(#clip330)\" d=\"M923.623 460.305 L931.262 460.305 L931.262 433.939 L922.951 435.606 L922.951 431.347 L931.215 429.68 L935.891 429.68 L935.891 460.305 L943.53 460.305 L943.53 464.24 L923.623 464.24 L923.623 460.305 Z\" fill=\"#000000\" fill-rule=\"nonzero\" fill-opacity=\"1\" /><path clip-path=\"url(#clip330)\" d=\"M1332.13 432.759 Q1328.52 432.759 1326.69 436.323 Q1324.88 439.865 1324.88 446.995 Q1324.88 454.101 1326.69 457.666 Q1328.52 461.207 1332.13 461.207 Q1335.76 461.207 1337.57 457.666 Q1339.4 454.101 1339.4 446.995 Q1339.4 439.865 1337.57 436.323 Q1335.76 432.759 1332.13 432.759 M1332.13 429.055 Q1337.94 429.055 1340.99 433.661 Q1344.07 438.245 1344.07 446.995 Q1344.07 455.721 1340.99 460.328 Q1337.94 464.911 1332.13 464.911 Q1326.32 464.911 1323.24 460.328 Q1320.18 455.721 1320.18 446.995 Q1320.18 438.245 1323.24 433.661 Q1326.32 429.055 1332.13 429.055 Z\" fill=\"#000000\" fill-rule=\"nonzero\" fill-opacity=\"1\" /><path clip-path=\"url(#clip330)\" d=\"M1352.29 458.36 L1357.17 458.36 L1357.17 464.24 L1352.29 464.24 L1352.29 458.36 Z\" fill=\"#000000\" fill-rule=\"nonzero\" fill-opacity=\"1\" /><path clip-path=\"url(#clip330)\" d=\"M1371.39 460.305 L1387.71 460.305 L1387.71 464.24 L1365.76 464.24 L1365.76 460.305 Q1368.42 457.55 1373.01 452.92 Q1377.61 448.268 1378.79 446.925 Q1381.04 444.402 1381.92 442.666 Q1382.82 440.907 1382.82 439.217 Q1382.82 436.462 1380.88 434.726 Q1378.96 432.99 1375.85 432.99 Q1373.66 432.99 1371.2 433.754 Q1368.77 434.518 1365.99 436.069 L1365.99 431.347 Q1368.82 430.212 1371.27 429.634 Q1373.73 429.055 1375.76 429.055 Q1381.13 429.055 1384.33 431.74 Q1387.52 434.425 1387.52 438.916 Q1387.52 441.046 1386.71 442.967 Q1385.92 444.865 1383.82 447.458 Q1383.24 448.129 1380.14 451.346 Q1377.04 454.541 1371.39 460.305 Z\" fill=\"#000000\" fill-rule=\"nonzero\" fill-opacity=\"1\" /><path clip-path=\"url(#clip330)\" d=\"M1776.02 432.759 Q1772.4 432.759 1770.58 436.323 Q1768.77 439.865 1768.77 446.995 Q1768.77 454.101 1770.58 457.666 Q1772.4 461.207 1776.02 461.207 Q1779.65 461.207 1781.46 457.666 Q1783.28 454.101 1783.28 446.995 Q1783.28 439.865 1781.46 436.323 Q1779.65 432.759 1776.02 432.759 M1776.02 429.055 Q1781.83 429.055 1784.88 433.661 Q1787.96 438.245 1787.96 446.995 Q1787.96 455.721 1784.88 460.328 Q1781.83 464.911 1776.02 464.911 Q1770.21 464.911 1767.13 460.328 Q1764.07 455.721 1764.07 446.995 Q1764.07 438.245 1767.13 433.661 Q1770.21 429.055 1776.02 429.055 Z\" fill=\"#000000\" fill-rule=\"nonzero\" fill-opacity=\"1\" /><path clip-path=\"url(#clip330)\" d=\"M1796.18 458.36 L1801.06 458.36 L1801.06 464.24 L1796.18 464.24 L1796.18 458.36 Z\" fill=\"#000000\" fill-rule=\"nonzero\" fill-opacity=\"1\" /><path clip-path=\"url(#clip330)\" d=\"M1825.41 445.606 Q1828.77 446.323 1830.64 448.592 Q1832.54 450.86 1832.54 454.194 Q1832.54 459.309 1829.02 462.11 Q1825.51 464.911 1819.02 464.911 Q1816.85 464.911 1814.53 464.471 Q1812.24 464.055 1809.79 463.198 L1809.79 458.684 Q1811.73 459.819 1814.05 460.397 Q1816.36 460.976 1818.89 460.976 Q1823.28 460.976 1825.58 459.24 Q1827.89 457.504 1827.89 454.194 Q1827.89 451.138 1825.74 449.425 Q1823.61 447.689 1819.79 447.689 L1815.76 447.689 L1815.76 443.846 L1819.97 443.846 Q1823.42 443.846 1825.25 442.481 Q1827.08 441.092 1827.08 438.499 Q1827.08 435.837 1825.18 434.425 Q1823.31 432.99 1819.79 432.99 Q1817.87 432.99 1815.67 433.407 Q1813.47 433.823 1810.83 434.703 L1810.83 430.536 Q1813.49 429.796 1815.81 429.425 Q1818.14 429.055 1820.21 429.055 Q1825.53 429.055 1828.63 431.485 Q1831.73 433.893 1831.73 438.013 Q1831.73 440.884 1830.09 442.874 Q1828.45 444.842 1825.41 445.606 Z\" fill=\"#000000\" fill-rule=\"nonzero\" fill-opacity=\"1\" /><path clip-path=\"url(#clip330)\" d=\"M2219.81 432.759 Q2216.2 432.759 2214.37 436.323 Q2212.56 439.865 2212.56 446.995 Q2212.56 454.101 2214.37 457.666 Q2216.2 461.207 2219.81 461.207 Q2223.44 461.207 2225.25 457.666 Q2227.08 454.101 2227.08 446.995 Q2227.08 439.865 2225.25 436.323 Q2223.44 432.759 2219.81 432.759 M2219.81 429.055 Q2225.62 429.055 2228.68 433.661 Q2231.75 438.245 2231.75 446.995 Q2231.75 455.721 2228.68 460.328 Q2225.62 464.911 2219.81 464.911 Q2214 464.911 2210.92 460.328 Q2207.87 455.721 2207.87 446.995 Q2207.87 438.245 2210.92 433.661 Q2214 429.055 2219.81 429.055 Z\" fill=\"#000000\" fill-rule=\"nonzero\" fill-opacity=\"1\" /><path clip-path=\"url(#clip330)\" d=\"M2239.97 458.36 L2244.86 458.36 L2244.86 464.24 L2239.97 464.24 L2239.97 458.36 Z\" fill=\"#000000\" fill-rule=\"nonzero\" fill-opacity=\"1\" /><path clip-path=\"url(#clip330)\" d=\"M2267.89 433.754 L2256.08 452.203 L2267.89 452.203 L2267.89 433.754 M2266.66 429.68 L2272.54 429.68 L2272.54 452.203 L2277.47 452.203 L2277.47 456.092 L2272.54 456.092 L2272.54 464.24 L2267.89 464.24 L2267.89 456.092 L2252.29 456.092 L2252.29 451.578 L2266.66 429.68 Z\" fill=\"#000000\" fill-rule=\"nonzero\" fill-opacity=\"1\" /><polyline clip-path=\"url(#clip332)\" style=\"stroke:#000000; stroke-linecap:round; stroke-linejoin:round; stroke-width:2; stroke-opacity:0.1; fill:none\" points=\"223.45,357.515 2352.76,357.515 \"/>\n",
       "<polyline clip-path=\"url(#clip332)\" style=\"stroke:#000000; stroke-linecap:round; stroke-linejoin:round; stroke-width:2; stroke-opacity:0.1; fill:none\" points=\"223.45,313.191 2352.76,313.191 \"/>\n",
       "<polyline clip-path=\"url(#clip332)\" style=\"stroke:#000000; stroke-linecap:round; stroke-linejoin:round; stroke-width:2; stroke-opacity:0.1; fill:none\" points=\"223.45,268.866 2352.76,268.866 \"/>\n",
       "<polyline clip-path=\"url(#clip332)\" style=\"stroke:#000000; stroke-linecap:round; stroke-linejoin:round; stroke-width:2; stroke-opacity:0.1; fill:none\" points=\"223.45,224.542 2352.76,224.542 \"/>\n",
       "<polyline clip-path=\"url(#clip332)\" style=\"stroke:#000000; stroke-linecap:round; stroke-linejoin:round; stroke-width:2; stroke-opacity:0.1; fill:none\" points=\"223.45,180.218 2352.76,180.218 \"/>\n",
       "<polyline clip-path=\"url(#clip332)\" style=\"stroke:#000000; stroke-linecap:round; stroke-linejoin:round; stroke-width:2; stroke-opacity:0.1; fill:none\" points=\"223.45,135.893 2352.76,135.893 \"/>\n",
       "<polyline clip-path=\"url(#clip332)\" style=\"stroke:#000000; stroke-linecap:round; stroke-linejoin:round; stroke-width:2; stroke-opacity:0.1; fill:none\" points=\"223.45,91.5686 2352.76,91.5686 \"/>\n",
       "<line clip-path=\"url(#clip332)\" x1=\"400.892\" y1=\"308.866\" x2=\"400.892\" y2=\"228.866\" style=\"stroke:#ff0000; stroke-width:3.84; stroke-opacity:1\"/>\n",
       "<line clip-path=\"url(#clip332)\" x1=\"473.158\" y1=\"220.218\" x2=\"473.158\" y2=\"140.218\" style=\"stroke:#0000ff; stroke-width:3.84; stroke-opacity:1\"/>\n",
       "<line clip-path=\"url(#clip332)\" x1=\"2103.05\" y1=\"220.218\" x2=\"2103.05\" y2=\"140.218\" style=\"stroke:#0000ff; stroke-width:3.84; stroke-opacity:1\"/>\n",
       "<line clip-path=\"url(#clip332)\" x1=\"2175.31\" y1=\"308.866\" x2=\"2175.31\" y2=\"228.866\" style=\"stroke:#ff0000; stroke-width:3.84; stroke-opacity:1\"/>\n",
       "<polyline clip-path=\"url(#clip332)\" style=\"stroke:#0000ff; stroke-linecap:round; stroke-linejoin:round; stroke-width:4; stroke-opacity:1; fill:none\" points=\"473.158,180.218 2103.05,180.218 \"/>\n",
       "<polyline clip-path=\"url(#clip332)\" style=\"stroke:#ff0000; stroke-linecap:round; stroke-linejoin:round; stroke-width:4; stroke-opacity:1; fill:none\" points=\"400.892,268.866 2175.31,268.866 \"/>\n",
       "<path clip-path=\"url(#clip330)\" d=\"M354.487 66.7163 Q348.167 66.7163 344.967 72.9547 Q341.808 79.1525 341.808 91.6293 Q341.808 104.066 344.967 110.304 Q348.167 116.502 354.487 116.502 Q360.847 116.502 364.006 110.304 Q367.207 104.066 367.207 91.6293 Q367.207 79.1525 364.006 72.9547 Q360.847 66.7163 354.487 66.7163 M354.487 60.2348 Q364.655 60.2348 370.002 68.2961 Q375.39 76.3169 375.39 91.6293 Q375.39 106.901 370.002 114.963 Q364.655 122.983 354.487 122.983 Q344.319 122.983 338.931 114.963 Q333.584 106.901 333.584 91.6293 Q333.584 76.3169 338.931 68.2961 Q344.319 60.2348 354.487 60.2348 Z\" fill=\"#0000ff\" fill-rule=\"nonzero\" fill-opacity=\"1\" /><path clip-path=\"url(#clip330)\" d=\"M389.77 111.519 L398.318 111.519 L398.318 121.809 L389.77 121.809 L389.77 111.519 Z\" fill=\"#0000ff\" fill-rule=\"nonzero\" fill-opacity=\"1\" /><path clip-path=\"url(#clip330)\" d=\"M433.642 66.7163 Q427.322 66.7163 424.122 72.9547 Q420.962 79.1525 420.962 91.6293 Q420.962 104.066 424.122 110.304 Q427.322 116.502 433.642 116.502 Q440.001 116.502 443.161 110.304 Q446.361 104.066 446.361 91.6293 Q446.361 79.1525 443.161 72.9547 Q440.001 66.7163 433.642 66.7163 M433.642 60.2348 Q443.809 60.2348 449.156 68.2961 Q454.544 76.3169 454.544 91.6293 Q454.544 106.901 449.156 114.963 Q443.809 122.983 433.642 122.983 Q423.474 122.983 418.086 114.963 Q412.739 106.901 412.739 91.6293 Q412.739 76.3169 418.086 68.2961 Q423.474 60.2348 433.642 60.2348 Z\" fill=\"#0000ff\" fill-rule=\"nonzero\" fill-opacity=\"1\" /><path clip-path=\"url(#clip330)\" d=\"M486.425 66.7163 Q480.105 66.7163 476.905 72.9547 Q473.745 79.1525 473.745 91.6293 Q473.745 104.066 476.905 110.304 Q480.105 116.502 486.425 116.502 Q492.785 116.502 495.944 110.304 Q499.145 104.066 499.145 91.6293 Q499.145 79.1525 495.944 72.9547 Q492.785 66.7163 486.425 66.7163 M486.425 60.2348 Q496.593 60.2348 501.94 68.2961 Q507.327 76.3169 507.327 91.6293 Q507.327 106.901 501.94 114.963 Q496.593 122.983 486.425 122.983 Q476.257 122.983 470.869 114.963 Q465.522 106.901 465.522 91.6293 Q465.522 76.3169 470.869 68.2961 Q476.257 60.2348 486.425 60.2348 Z\" fill=\"#0000ff\" fill-rule=\"nonzero\" fill-opacity=\"1\" /><path clip-path=\"url(#clip330)\" d=\"M523.126 114.922 L536.494 114.922 L536.494 68.7822 L521.951 71.6989 L521.951 64.2452 L536.413 61.3286 L544.596 61.3286 L544.596 114.922 L557.964 114.922 L557.964 121.809 L523.126 121.809 L523.126 114.922 Z\" fill=\"#0000ff\" fill-rule=\"nonzero\" fill-opacity=\"1\" /><path clip-path=\"url(#clip330)\" d=\"M591.991 93.0877 Q586.158 93.0877 582.796 96.2069 Q579.474 99.326 579.474 104.795 Q579.474 110.263 582.796 113.383 Q586.158 116.502 591.991 116.502 Q597.825 116.502 601.187 113.383 Q604.549 110.223 604.549 104.795 Q604.549 99.326 601.187 96.2069 Q597.865 93.0877 591.991 93.0877 M583.809 89.6039 Q578.542 88.3076 575.585 84.7023 Q572.669 81.097 572.669 75.9118 Q572.669 68.6607 577.813 64.4478 Q582.998 60.2348 591.991 60.2348 Q601.025 60.2348 606.17 64.4478 Q611.314 68.6607 611.314 75.9118 Q611.314 81.097 608.357 84.7023 Q605.44 88.3076 600.215 89.6039 Q606.129 90.9812 609.41 94.9916 Q612.732 99.002 612.732 104.795 Q612.732 113.585 607.344 118.284 Q601.997 122.983 591.991 122.983 Q581.986 122.983 576.598 118.284 Q571.251 113.585 571.251 104.795 Q571.251 99.002 574.572 94.9916 Q577.894 90.9812 583.809 89.6039 M580.811 76.6815 Q580.811 81.3805 583.728 84.0136 Q586.685 86.6467 591.991 86.6467 Q597.258 86.6467 600.215 84.0136 Q603.212 81.3805 603.212 76.6815 Q603.212 71.9824 600.215 69.3494 Q597.258 66.7163 591.991 66.7163 Q586.685 66.7163 583.728 69.3494 Q580.811 71.9824 580.811 76.6815 Z\" fill=\"#0000ff\" fill-rule=\"nonzero\" fill-opacity=\"1\" /><path clip-path=\"url(#clip330)\" d=\"M1984.15 66.7163 Q1977.83 66.7163 1974.63 72.9547 Q1971.47 79.1525 1971.47 91.6293 Q1971.47 104.066 1974.63 110.304 Q1977.83 116.502 1984.15 116.502 Q1990.51 116.502 1993.67 110.304 Q1996.87 104.066 1996.87 91.6293 Q1996.87 79.1525 1993.67 72.9547 Q1990.51 66.7163 1984.15 66.7163 M1984.15 60.2348 Q1994.32 60.2348 1999.67 68.2961 Q2005.06 76.3169 2005.06 91.6293 Q2005.06 106.901 1999.67 114.963 Q1994.32 122.983 1984.15 122.983 Q1973.99 122.983 1968.6 114.963 Q1963.25 106.901 1963.25 91.6293 Q1963.25 76.3169 1968.6 68.2961 Q1973.99 60.2348 1984.15 60.2348 Z\" fill=\"#0000ff\" fill-rule=\"nonzero\" fill-opacity=\"1\" /><path clip-path=\"url(#clip330)\" d=\"M2019.44 111.519 L2027.98 111.519 L2027.98 121.809 L2019.44 121.809 L2019.44 111.519 Z\" fill=\"#0000ff\" fill-rule=\"nonzero\" fill-opacity=\"1\" /><path clip-path=\"url(#clip330)\" d=\"M2070.6 89.1988 Q2076.47 90.4546 2079.75 94.4245 Q2083.08 98.3943 2083.08 104.228 Q2083.08 113.18 2076.92 118.082 Q2070.76 122.983 2059.42 122.983 Q2055.61 122.983 2051.56 122.214 Q2047.55 121.484 2043.26 119.986 L2043.26 112.086 Q2046.66 114.071 2050.71 115.084 Q2054.76 116.097 2059.18 116.097 Q2066.87 116.097 2070.88 113.059 Q2074.93 110.02 2074.93 104.228 Q2074.93 98.8804 2071.17 95.8828 Q2067.44 92.8446 2060.76 92.8446 L2053.71 92.8446 L2053.71 86.1201 L2061.08 86.1201 Q2067.12 86.1201 2070.32 83.7301 Q2073.52 81.2995 2073.52 76.7625 Q2073.52 72.104 2070.19 69.6329 Q2066.91 67.1214 2060.76 67.1214 Q2057.39 67.1214 2053.55 67.8505 Q2049.7 68.5797 2045.08 70.119 L2045.08 62.8274 Q2049.74 61.5311 2053.79 60.883 Q2057.88 60.2348 2061.49 60.2348 Q2070.8 60.2348 2076.23 64.4883 Q2081.66 68.7012 2081.66 75.9118 Q2081.66 80.9349 2078.78 84.4187 Q2075.91 87.862 2070.6 89.1988 Z\" fill=\"#0000ff\" fill-rule=\"nonzero\" fill-opacity=\"1\" /><path clip-path=\"url(#clip330)\" d=\"M2117.1 88.3076 Q2111.59 88.3076 2108.35 92.0749 Q2105.15 95.8423 2105.15 102.405 Q2105.15 108.927 2108.35 112.735 Q2111.59 116.502 2117.1 116.502 Q2122.61 116.502 2125.81 112.735 Q2129.05 108.927 2129.05 102.405 Q2129.05 95.8423 2125.81 92.0749 Q2122.61 88.3076 2117.1 88.3076 M2133.35 62.6654 L2133.35 70.119 Q2130.27 68.6607 2127.11 67.891 Q2123.99 67.1214 2120.91 67.1214 Q2112.81 67.1214 2108.52 72.5901 Q2104.26 78.0588 2103.66 89.1178 Q2106.05 85.5935 2109.65 83.7301 Q2113.26 81.8261 2117.59 81.8261 Q2126.7 81.8261 2131.97 87.3759 Q2137.28 92.8851 2137.28 102.405 Q2137.28 111.722 2131.77 117.353 Q2126.26 122.983 2117.1 122.983 Q2106.61 122.983 2101.06 114.963 Q2095.51 106.901 2095.51 91.6293 Q2095.51 77.2891 2102.32 68.7822 Q2109.12 60.2348 2120.59 60.2348 Q2123.67 60.2348 2126.79 60.8425 Q2129.95 61.4501 2133.35 62.6654 Z\" fill=\"#0000ff\" fill-rule=\"nonzero\" fill-opacity=\"1\" /><path clip-path=\"url(#clip330)\" d=\"M2168.87 93.0877 Q2163.04 93.0877 2159.68 96.2069 Q2156.36 99.326 2156.36 104.795 Q2156.36 110.263 2159.68 113.383 Q2163.04 116.502 2168.87 116.502 Q2174.71 116.502 2178.07 113.383 Q2181.43 110.223 2181.43 104.795 Q2181.43 99.326 2178.07 96.2069 Q2174.75 93.0877 2168.87 93.0877 M2160.69 89.6039 Q2155.43 88.3076 2152.47 84.7023 Q2149.55 81.097 2149.55 75.9118 Q2149.55 68.6607 2154.7 64.4478 Q2159.88 60.2348 2168.87 60.2348 Q2177.91 60.2348 2183.05 64.4478 Q2188.2 68.6607 2188.2 75.9118 Q2188.2 81.097 2185.24 84.7023 Q2182.32 88.3076 2177.1 89.6039 Q2183.01 90.9812 2186.29 94.9916 Q2189.62 99.002 2189.62 104.795 Q2189.62 113.585 2184.23 118.284 Q2178.88 122.983 2168.87 122.983 Q2158.87 122.983 2153.48 118.284 Q2148.13 113.585 2148.13 104.795 Q2148.13 99.002 2151.46 94.9916 Q2154.78 90.9812 2160.69 89.6039 M2157.69 76.6815 Q2157.69 81.3805 2160.61 84.0136 Q2163.57 86.6467 2168.87 86.6467 Q2174.14 86.6467 2177.1 84.0136 Q2180.1 81.3805 2180.1 76.6815 Q2180.1 71.9824 2177.1 69.3494 Q2174.14 66.7163 2168.87 66.7163 Q2163.57 66.7163 2160.61 69.3494 Q2157.69 71.9824 2157.69 76.6815 Z\" fill=\"#0000ff\" fill-rule=\"nonzero\" fill-opacity=\"1\" /><path clip-path=\"url(#clip330)\" d=\"M2222.67 88.3076 Q2217.16 88.3076 2213.92 92.0749 Q2210.72 95.8423 2210.72 102.405 Q2210.72 108.927 2213.92 112.735 Q2217.16 116.502 2222.67 116.502 Q2228.18 116.502 2231.38 112.735 Q2234.62 108.927 2234.62 102.405 Q2234.62 95.8423 2231.38 92.0749 Q2228.18 88.3076 2222.67 88.3076 M2238.91 62.6654 L2238.91 70.119 Q2235.84 68.6607 2232.68 67.891 Q2229.56 67.1214 2226.48 67.1214 Q2218.38 67.1214 2214.08 72.5901 Q2209.83 78.0588 2209.22 89.1178 Q2211.61 85.5935 2215.22 83.7301 Q2218.82 81.8261 2223.16 81.8261 Q2232.27 81.8261 2237.54 87.3759 Q2242.84 92.8851 2242.84 102.405 Q2242.84 111.722 2237.34 117.353 Q2231.83 122.983 2222.67 122.983 Q2212.18 122.983 2206.63 114.963 Q2201.08 106.901 2201.08 91.6293 Q2201.08 77.2891 2207.88 68.7822 Q2214.69 60.2348 2226.15 60.2348 Q2229.23 60.2348 2232.35 60.8425 Q2235.51 61.4501 2238.91 62.6654 Z\" fill=\"#0000ff\" fill-rule=\"nonzero\" fill-opacity=\"1\" /><path clip-path=\"url(#clip330)\" d=\"M246.431 361.708 L268.265 361.708 L268.265 368.352 L246.431 368.352 L246.431 361.708 Z\" fill=\"#ff0000\" fill-rule=\"nonzero\" fill-opacity=\"1\" /><path clip-path=\"url(#clip330)\" d=\"M298.688 332.663 Q292.368 332.663 289.168 338.901 Q286.008 345.099 286.008 357.576 Q286.008 370.012 289.168 376.251 Q292.368 382.449 298.688 382.449 Q305.048 382.449 308.207 376.251 Q311.407 370.012 311.407 357.576 Q311.407 345.099 308.207 338.901 Q305.048 332.663 298.688 332.663 M298.688 326.182 Q308.855 326.182 314.203 334.243 Q319.59 342.264 319.59 357.576 Q319.59 372.848 314.203 380.909 Q308.855 388.93 298.688 388.93 Q288.52 388.93 283.132 380.909 Q277.785 372.848 277.785 357.576 Q277.785 342.264 283.132 334.243 Q288.52 326.182 298.688 326.182 Z\" fill=\"#ff0000\" fill-rule=\"nonzero\" fill-opacity=\"1\" /><path clip-path=\"url(#clip330)\" d=\"M333.971 377.466 L342.518 377.466 L342.518 387.755 L333.971 387.755 L333.971 377.466 Z\" fill=\"#ff0000\" fill-rule=\"nonzero\" fill-opacity=\"1\" /><path clip-path=\"url(#clip330)\" d=\"M377.842 332.663 Q371.523 332.663 368.323 338.901 Q365.163 345.099 365.163 357.576 Q365.163 370.012 368.323 376.251 Q371.523 382.449 377.842 382.449 Q384.202 382.449 387.362 376.251 Q390.562 370.012 390.562 357.576 Q390.562 345.099 387.362 338.901 Q384.202 332.663 377.842 332.663 M377.842 326.182 Q388.01 326.182 393.357 334.243 Q398.745 342.264 398.745 357.576 Q398.745 372.848 393.357 380.909 Q388.01 388.93 377.842 388.93 Q367.674 388.93 362.287 380.909 Q356.94 372.848 356.94 357.576 Q356.94 342.264 362.287 334.243 Q367.674 326.182 377.842 326.182 Z\" fill=\"#ff0000\" fill-rule=\"nonzero\" fill-opacity=\"1\" /><path clip-path=\"url(#clip330)\" d=\"M414.543 380.869 L427.911 380.869 L427.911 334.729 L413.369 337.646 L413.369 330.192 L427.83 327.275 L436.013 327.275 L436.013 380.869 L449.381 380.869 L449.381 387.755 L414.543 387.755 L414.543 380.869 Z\" fill=\"#ff0000\" fill-rule=\"nonzero\" fill-opacity=\"1\" /><path clip-path=\"url(#clip330)\" d=\"M488.391 334.405 L467.732 366.691 L488.391 366.691 L488.391 334.405 M486.244 327.275 L496.534 327.275 L496.534 366.691 L505.162 366.691 L505.162 373.496 L496.534 373.496 L496.534 387.755 L488.391 387.755 L488.391 373.496 L461.088 373.496 L461.088 365.597 L486.244 327.275 Z\" fill=\"#ff0000\" fill-rule=\"nonzero\" fill-opacity=\"1\" /><path clip-path=\"url(#clip330)\" d=\"M518.773 327.275 L550.897 327.275 L550.897 334.162 L526.267 334.162 L526.267 348.988 Q528.05 348.381 529.832 348.097 Q531.615 347.773 533.397 347.773 Q543.524 347.773 549.439 353.323 Q555.353 358.872 555.353 368.352 Q555.353 378.114 549.277 383.542 Q543.2 388.93 532.141 388.93 Q528.333 388.93 524.363 388.282 Q520.434 387.634 516.221 386.338 L516.221 378.114 Q519.867 380.099 523.756 381.071 Q527.645 382.044 531.979 382.044 Q538.987 382.044 543.079 378.357 Q547.17 374.671 547.17 368.352 Q547.17 362.032 543.079 358.346 Q538.987 354.66 531.979 354.66 Q528.698 354.66 525.417 355.389 Q522.176 356.118 518.773 357.657 L518.773 327.275 Z\" fill=\"#ff0000\" fill-rule=\"nonzero\" fill-opacity=\"1\" /><path clip-path=\"url(#clip330)\" d=\"M2056.64 332.663 Q2050.32 332.663 2047.12 338.901 Q2043.96 345.099 2043.96 357.576 Q2043.96 370.012 2047.12 376.251 Q2050.32 382.449 2056.64 382.449 Q2063 382.449 2066.16 376.251 Q2069.36 370.012 2069.36 357.576 Q2069.36 345.099 2066.16 338.901 Q2063 332.663 2056.64 332.663 M2056.64 326.182 Q2066.81 326.182 2072.16 334.243 Q2077.55 342.264 2077.55 357.576 Q2077.55 372.848 2072.16 380.909 Q2066.81 388.93 2056.64 388.93 Q2046.47 388.93 2041.09 380.909 Q2035.74 372.848 2035.74 357.576 Q2035.74 342.264 2041.09 334.243 Q2046.47 326.182 2056.64 326.182 Z\" fill=\"#ff0000\" fill-rule=\"nonzero\" fill-opacity=\"1\" /><path clip-path=\"url(#clip330)\" d=\"M2091.93 377.466 L2100.47 377.466 L2100.47 387.755 L2091.93 387.755 L2091.93 377.466 Z\" fill=\"#ff0000\" fill-rule=\"nonzero\" fill-opacity=\"1\" /><path clip-path=\"url(#clip330)\" d=\"M2143.09 355.146 Q2148.96 356.401 2152.24 360.371 Q2155.57 364.341 2155.57 370.174 Q2155.57 379.127 2149.41 384.029 Q2143.25 388.93 2131.91 388.93 Q2128.1 388.93 2124.05 388.16 Q2120.04 387.431 2115.75 385.932 L2115.75 378.033 Q2119.15 380.018 2123.2 381.031 Q2127.25 382.044 2131.67 382.044 Q2139.36 382.044 2143.37 379.005 Q2147.42 375.967 2147.42 370.174 Q2147.42 364.827 2143.66 361.83 Q2139.93 358.791 2133.25 358.791 L2126.2 358.791 L2126.2 352.067 L2133.57 352.067 Q2139.61 352.067 2142.81 349.677 Q2146.01 347.246 2146.01 342.709 Q2146.01 338.051 2142.68 335.58 Q2139.4 333.068 2133.25 333.068 Q2129.88 333.068 2126.03 333.797 Q2122.19 334.527 2117.57 336.066 L2117.57 328.774 Q2122.23 327.478 2126.28 326.83 Q2130.37 326.182 2133.97 326.182 Q2143.29 326.182 2148.72 330.435 Q2154.15 334.648 2154.15 341.859 Q2154.15 346.882 2151.27 350.366 Q2148.4 353.809 2143.09 355.146 Z\" fill=\"#ff0000\" fill-rule=\"nonzero\" fill-opacity=\"1\" /><path clip-path=\"url(#clip330)\" d=\"M2188.58 359.034 Q2182.75 359.034 2179.38 362.154 Q2176.06 365.273 2176.06 370.742 Q2176.06 376.21 2179.38 379.33 Q2182.75 382.449 2188.58 382.449 Q2194.41 382.449 2197.78 379.33 Q2201.14 376.17 2201.14 370.742 Q2201.14 365.273 2197.78 362.154 Q2194.45 359.034 2188.58 359.034 M2180.4 355.551 Q2175.13 354.254 2172.17 350.649 Q2169.26 347.044 2169.26 341.859 Q2169.26 334.608 2174.4 330.395 Q2179.59 326.182 2188.58 326.182 Q2197.61 326.182 2202.76 330.395 Q2207.9 334.608 2207.9 341.859 Q2207.9 347.044 2204.95 350.649 Q2202.03 354.254 2196.8 355.551 Q2202.72 356.928 2206 360.938 Q2209.32 364.949 2209.32 370.742 Q2209.32 379.532 2203.93 384.231 Q2198.59 388.93 2188.58 388.93 Q2178.57 388.93 2173.19 384.231 Q2167.84 379.532 2167.84 370.742 Q2167.84 364.949 2171.16 360.938 Q2174.48 356.928 2180.4 355.551 M2177.4 342.628 Q2177.4 347.327 2180.32 349.96 Q2183.27 352.594 2188.58 352.594 Q2193.85 352.594 2196.8 349.96 Q2199.8 347.327 2199.8 342.628 Q2199.8 337.929 2196.8 335.296 Q2193.85 332.663 2188.58 332.663 Q2183.27 332.663 2180.32 335.296 Q2177.4 337.929 2177.4 342.628 Z\" fill=\"#ff0000\" fill-rule=\"nonzero\" fill-opacity=\"1\" /><path clip-path=\"url(#clip330)\" d=\"M2246.35 334.405 L2225.69 366.691 L2246.35 366.691 L2246.35 334.405 M2244.2 327.275 L2254.49 327.275 L2254.49 366.691 L2263.12 366.691 L2263.12 373.496 L2254.49 373.496 L2254.49 387.755 L2246.35 387.755 L2246.35 373.496 L2219.04 373.496 L2219.04 365.597 L2244.2 327.275 Z\" fill=\"#ff0000\" fill-rule=\"nonzero\" fill-opacity=\"1\" /><path clip-path=\"url(#clip330)\" d=\"M2294.15 359.034 Q2288.31 359.034 2284.95 362.154 Q2281.63 365.273 2281.63 370.742 Q2281.63 376.21 2284.95 379.33 Q2288.31 382.449 2294.15 382.449 Q2299.98 382.449 2303.34 379.33 Q2306.7 376.17 2306.7 370.742 Q2306.7 365.273 2303.34 362.154 Q2300.02 359.034 2294.15 359.034 M2285.96 355.551 Q2280.7 354.254 2277.74 350.649 Q2274.82 347.044 2274.82 341.859 Q2274.82 334.608 2279.97 330.395 Q2285.15 326.182 2294.15 326.182 Q2303.18 326.182 2308.33 330.395 Q2313.47 334.608 2313.47 341.859 Q2313.47 347.044 2310.51 350.649 Q2307.6 354.254 2302.37 355.551 Q2308.28 356.928 2311.57 360.938 Q2314.89 364.949 2314.89 370.742 Q2314.89 379.532 2309.5 384.231 Q2304.15 388.93 2294.15 388.93 Q2284.14 388.93 2278.75 384.231 Q2273.41 379.532 2273.41 370.742 Q2273.41 364.949 2276.73 360.938 Q2280.05 356.928 2285.96 355.551 M2282.97 342.628 Q2282.97 347.327 2285.88 349.96 Q2288.84 352.594 2294.15 352.594 Q2299.41 352.594 2302.37 349.96 Q2305.37 347.327 2305.37 342.628 Q2305.37 337.929 2302.37 335.296 Q2299.41 332.663 2294.15 332.663 Q2288.84 332.663 2285.88 335.296 Q2282.97 337.929 2282.97 342.628 Z\" fill=\"#ff0000\" fill-rule=\"nonzero\" fill-opacity=\"1\" /></svg>\n"
      ],
      "text/html": [
       "<?xml version=\"1.0\" encoding=\"utf-8\"?>\n",
       "<svg xmlns=\"http://www.w3.org/2000/svg\" xmlns:xlink=\"http://www.w3.org/1999/xlink\" width=\"600\" height=\"120\" viewBox=\"0 0 2400 480\">\n",
       "<defs>\n",
       "  <clipPath id=\"clip380\">\n",
       "    <rect x=\"0\" y=\"0\" width=\"2400\" height=\"480\"/>\n",
       "  </clipPath>\n",
       "</defs>\n",
       "<path clip-path=\"url(#clip380)\" d=\"M0 480 L2400 480 L2400 0 L0 0  Z\" fill=\"#ffffff\" fill-rule=\"evenodd\" fill-opacity=\"1\"/>\n",
       "<defs>\n",
       "  <clipPath id=\"clip381\">\n",
       "    <rect x=\"480\" y=\"0\" width=\"1681\" height=\"480\"/>\n",
       "  </clipPath>\n",
       "</defs>\n",
       "<path clip-path=\"url(#clip380)\" d=\"M223.45 401.84 L2352.76 401.84 L2352.76 47.2441 L223.45 47.2441  Z\" fill=\"#ffffff\" fill-rule=\"evenodd\" fill-opacity=\"1\"/>\n",
       "<defs>\n",
       "  <clipPath id=\"clip382\">\n",
       "    <rect x=\"223\" y=\"47\" width=\"2130\" height=\"356\"/>\n",
       "  </clipPath>\n",
       "</defs>\n",
       "<polyline clip-path=\"url(#clip382)\" style=\"stroke:#000000; stroke-linecap:round; stroke-linejoin:round; stroke-width:2; stroke-opacity:0.1; fill:none\" points=\"465.222,401.84 465.222,47.2441 \"/>\n",
       "<polyline clip-path=\"url(#clip382)\" style=\"stroke:#000000; stroke-linecap:round; stroke-linejoin:round; stroke-width:2; stroke-opacity:0.1; fill:none\" points=\"909.583,401.84 909.583,47.2441 \"/>\n",
       "<polyline clip-path=\"url(#clip382)\" style=\"stroke:#000000; stroke-linecap:round; stroke-linejoin:round; stroke-width:2; stroke-opacity:0.1; fill:none\" points=\"1353.95,401.84 1353.95,47.2441 \"/>\n",
       "<polyline clip-path=\"url(#clip382)\" style=\"stroke:#000000; stroke-linecap:round; stroke-linejoin:round; stroke-width:2; stroke-opacity:0.1; fill:none\" points=\"1798.31,401.84 1798.31,47.2441 \"/>\n",
       "<polyline clip-path=\"url(#clip382)\" style=\"stroke:#000000; stroke-linecap:round; stroke-linejoin:round; stroke-width:2; stroke-opacity:0.1; fill:none\" points=\"2242.67,401.84 2242.67,47.2441 \"/>\n",
       "<polyline clip-path=\"url(#clip380)\" style=\"stroke:#000000; stroke-linecap:round; stroke-linejoin:round; stroke-width:4; stroke-opacity:1; fill:none\" points=\"223.45,401.84 2352.76,401.84 \"/>\n",
       "<polyline clip-path=\"url(#clip380)\" style=\"stroke:#000000; stroke-linecap:round; stroke-linejoin:round; stroke-width:4; stroke-opacity:1; fill:none\" points=\"465.222,401.84 465.222,382.942 \"/>\n",
       "<polyline clip-path=\"url(#clip380)\" style=\"stroke:#000000; stroke-linecap:round; stroke-linejoin:round; stroke-width:4; stroke-opacity:1; fill:none\" points=\"909.583,401.84 909.583,382.942 \"/>\n",
       "<polyline clip-path=\"url(#clip380)\" style=\"stroke:#000000; stroke-linecap:round; stroke-linejoin:round; stroke-width:4; stroke-opacity:1; fill:none\" points=\"1353.95,401.84 1353.95,382.942 \"/>\n",
       "<polyline clip-path=\"url(#clip380)\" style=\"stroke:#000000; stroke-linecap:round; stroke-linejoin:round; stroke-width:4; stroke-opacity:1; fill:none\" points=\"1798.31,401.84 1798.31,382.942 \"/>\n",
       "<polyline clip-path=\"url(#clip380)\" style=\"stroke:#000000; stroke-linecap:round; stroke-linejoin:round; stroke-width:4; stroke-opacity:1; fill:none\" points=\"2242.67,401.84 2242.67,382.942 \"/>\n",
       "<path clip-path=\"url(#clip380)\" d=\"M442.606 432.759 Q438.995 432.759 437.166 436.323 Q435.361 439.865 435.361 446.995 Q435.361 454.101 437.166 457.666 Q438.995 461.207 442.606 461.207 Q446.24 461.207 448.046 457.666 Q449.874 454.101 449.874 446.995 Q449.874 439.865 448.046 436.323 Q446.24 432.759 442.606 432.759 M442.606 429.055 Q448.416 429.055 451.472 433.661 Q454.55 438.245 454.55 446.995 Q454.55 455.721 451.472 460.328 Q448.416 464.911 442.606 464.911 Q436.796 464.911 433.717 460.328 Q430.662 455.721 430.662 446.995 Q430.662 438.245 433.717 433.661 Q436.796 429.055 442.606 429.055 Z\" fill=\"#000000\" fill-rule=\"nonzero\" fill-opacity=\"1\" /><path clip-path=\"url(#clip380)\" d=\"M462.768 458.36 L467.652 458.36 L467.652 464.24 L462.768 464.24 L462.768 458.36 Z\" fill=\"#000000\" fill-rule=\"nonzero\" fill-opacity=\"1\" /><path clip-path=\"url(#clip380)\" d=\"M487.837 432.759 Q484.226 432.759 482.397 436.323 Q480.592 439.865 480.592 446.995 Q480.592 454.101 482.397 457.666 Q484.226 461.207 487.837 461.207 Q491.471 461.207 493.277 457.666 Q495.106 454.101 495.106 446.995 Q495.106 439.865 493.277 436.323 Q491.471 432.759 487.837 432.759 M487.837 429.055 Q493.647 429.055 496.703 433.661 Q499.782 438.245 499.782 446.995 Q499.782 455.721 496.703 460.328 Q493.647 464.911 487.837 464.911 Q482.027 464.911 478.948 460.328 Q475.893 455.721 475.893 446.995 Q475.893 438.245 478.948 433.661 Q482.027 429.055 487.837 429.055 Z\" fill=\"#000000\" fill-rule=\"nonzero\" fill-opacity=\"1\" /><path clip-path=\"url(#clip380)\" d=\"M887.581 432.759 Q883.97 432.759 882.141 436.323 Q880.336 439.865 880.336 446.995 Q880.336 454.101 882.141 457.666 Q883.97 461.207 887.581 461.207 Q891.215 461.207 893.021 457.666 Q894.85 454.101 894.85 446.995 Q894.85 439.865 893.021 436.323 Q891.215 432.759 887.581 432.759 M887.581 429.055 Q893.391 429.055 896.447 433.661 Q899.526 438.245 899.526 446.995 Q899.526 455.721 896.447 460.328 Q893.391 464.911 887.581 464.911 Q881.771 464.911 878.692 460.328 Q875.637 455.721 875.637 446.995 Q875.637 438.245 878.692 433.661 Q881.771 429.055 887.581 429.055 Z\" fill=\"#000000\" fill-rule=\"nonzero\" fill-opacity=\"1\" /><path clip-path=\"url(#clip380)\" d=\"M907.743 458.36 L912.627 458.36 L912.627 464.24 L907.743 464.24 L907.743 458.36 Z\" fill=\"#000000\" fill-rule=\"nonzero\" fill-opacity=\"1\" /><path clip-path=\"url(#clip380)\" d=\"M923.623 460.305 L931.262 460.305 L931.262 433.939 L922.951 435.606 L922.951 431.347 L931.215 429.68 L935.891 429.68 L935.891 460.305 L943.53 460.305 L943.53 464.24 L923.623 464.24 L923.623 460.305 Z\" fill=\"#000000\" fill-rule=\"nonzero\" fill-opacity=\"1\" /><path clip-path=\"url(#clip380)\" d=\"M1332.13 432.759 Q1328.52 432.759 1326.69 436.323 Q1324.88 439.865 1324.88 446.995 Q1324.88 454.101 1326.69 457.666 Q1328.52 461.207 1332.13 461.207 Q1335.76 461.207 1337.57 457.666 Q1339.4 454.101 1339.4 446.995 Q1339.4 439.865 1337.57 436.323 Q1335.76 432.759 1332.13 432.759 M1332.13 429.055 Q1337.94 429.055 1340.99 433.661 Q1344.07 438.245 1344.07 446.995 Q1344.07 455.721 1340.99 460.328 Q1337.94 464.911 1332.13 464.911 Q1326.32 464.911 1323.24 460.328 Q1320.18 455.721 1320.18 446.995 Q1320.18 438.245 1323.24 433.661 Q1326.32 429.055 1332.13 429.055 Z\" fill=\"#000000\" fill-rule=\"nonzero\" fill-opacity=\"1\" /><path clip-path=\"url(#clip380)\" d=\"M1352.29 458.36 L1357.17 458.36 L1357.17 464.24 L1352.29 464.24 L1352.29 458.36 Z\" fill=\"#000000\" fill-rule=\"nonzero\" fill-opacity=\"1\" /><path clip-path=\"url(#clip380)\" d=\"M1371.39 460.305 L1387.71 460.305 L1387.71 464.24 L1365.76 464.24 L1365.76 460.305 Q1368.42 457.55 1373.01 452.92 Q1377.61 448.268 1378.79 446.925 Q1381.04 444.402 1381.92 442.666 Q1382.82 440.907 1382.82 439.217 Q1382.82 436.462 1380.88 434.726 Q1378.96 432.99 1375.85 432.99 Q1373.66 432.99 1371.2 433.754 Q1368.77 434.518 1365.99 436.069 L1365.99 431.347 Q1368.82 430.212 1371.27 429.634 Q1373.73 429.055 1375.76 429.055 Q1381.13 429.055 1384.33 431.74 Q1387.52 434.425 1387.52 438.916 Q1387.52 441.046 1386.71 442.967 Q1385.92 444.865 1383.82 447.458 Q1383.24 448.129 1380.14 451.346 Q1377.04 454.541 1371.39 460.305 Z\" fill=\"#000000\" fill-rule=\"nonzero\" fill-opacity=\"1\" /><path clip-path=\"url(#clip380)\" d=\"M1776.02 432.759 Q1772.4 432.759 1770.58 436.323 Q1768.77 439.865 1768.77 446.995 Q1768.77 454.101 1770.58 457.666 Q1772.4 461.207 1776.02 461.207 Q1779.65 461.207 1781.46 457.666 Q1783.28 454.101 1783.28 446.995 Q1783.28 439.865 1781.46 436.323 Q1779.65 432.759 1776.02 432.759 M1776.02 429.055 Q1781.83 429.055 1784.88 433.661 Q1787.96 438.245 1787.96 446.995 Q1787.96 455.721 1784.88 460.328 Q1781.83 464.911 1776.02 464.911 Q1770.21 464.911 1767.13 460.328 Q1764.07 455.721 1764.07 446.995 Q1764.07 438.245 1767.13 433.661 Q1770.21 429.055 1776.02 429.055 Z\" fill=\"#000000\" fill-rule=\"nonzero\" fill-opacity=\"1\" /><path clip-path=\"url(#clip380)\" d=\"M1796.18 458.36 L1801.06 458.36 L1801.06 464.24 L1796.18 464.24 L1796.18 458.36 Z\" fill=\"#000000\" fill-rule=\"nonzero\" fill-opacity=\"1\" /><path clip-path=\"url(#clip380)\" d=\"M1825.41 445.606 Q1828.77 446.323 1830.64 448.592 Q1832.54 450.86 1832.54 454.194 Q1832.54 459.309 1829.02 462.11 Q1825.51 464.911 1819.02 464.911 Q1816.85 464.911 1814.53 464.471 Q1812.24 464.055 1809.79 463.198 L1809.79 458.684 Q1811.73 459.819 1814.05 460.397 Q1816.36 460.976 1818.89 460.976 Q1823.28 460.976 1825.58 459.24 Q1827.89 457.504 1827.89 454.194 Q1827.89 451.138 1825.74 449.425 Q1823.61 447.689 1819.79 447.689 L1815.76 447.689 L1815.76 443.846 L1819.97 443.846 Q1823.42 443.846 1825.25 442.481 Q1827.08 441.092 1827.08 438.499 Q1827.08 435.837 1825.18 434.425 Q1823.31 432.99 1819.79 432.99 Q1817.87 432.99 1815.67 433.407 Q1813.47 433.823 1810.83 434.703 L1810.83 430.536 Q1813.49 429.796 1815.81 429.425 Q1818.14 429.055 1820.21 429.055 Q1825.53 429.055 1828.63 431.485 Q1831.73 433.893 1831.73 438.013 Q1831.73 440.884 1830.09 442.874 Q1828.45 444.842 1825.41 445.606 Z\" fill=\"#000000\" fill-rule=\"nonzero\" fill-opacity=\"1\" /><path clip-path=\"url(#clip380)\" d=\"M2219.81 432.759 Q2216.2 432.759 2214.37 436.323 Q2212.56 439.865 2212.56 446.995 Q2212.56 454.101 2214.37 457.666 Q2216.2 461.207 2219.81 461.207 Q2223.44 461.207 2225.25 457.666 Q2227.08 454.101 2227.08 446.995 Q2227.08 439.865 2225.25 436.323 Q2223.44 432.759 2219.81 432.759 M2219.81 429.055 Q2225.62 429.055 2228.68 433.661 Q2231.75 438.245 2231.75 446.995 Q2231.75 455.721 2228.68 460.328 Q2225.62 464.911 2219.81 464.911 Q2214 464.911 2210.92 460.328 Q2207.87 455.721 2207.87 446.995 Q2207.87 438.245 2210.92 433.661 Q2214 429.055 2219.81 429.055 Z\" fill=\"#000000\" fill-rule=\"nonzero\" fill-opacity=\"1\" /><path clip-path=\"url(#clip380)\" d=\"M2239.97 458.36 L2244.86 458.36 L2244.86 464.24 L2239.97 464.24 L2239.97 458.36 Z\" fill=\"#000000\" fill-rule=\"nonzero\" fill-opacity=\"1\" /><path clip-path=\"url(#clip380)\" d=\"M2267.89 433.754 L2256.08 452.203 L2267.89 452.203 L2267.89 433.754 M2266.66 429.68 L2272.54 429.68 L2272.54 452.203 L2277.47 452.203 L2277.47 456.092 L2272.54 456.092 L2272.54 464.24 L2267.89 464.24 L2267.89 456.092 L2252.29 456.092 L2252.29 451.578 L2266.66 429.68 Z\" fill=\"#000000\" fill-rule=\"nonzero\" fill-opacity=\"1\" /><polyline clip-path=\"url(#clip382)\" style=\"stroke:#000000; stroke-linecap:round; stroke-linejoin:round; stroke-width:2; stroke-opacity:0.1; fill:none\" points=\"223.45,357.515 2352.76,357.515 \"/>\n",
       "<polyline clip-path=\"url(#clip382)\" style=\"stroke:#000000; stroke-linecap:round; stroke-linejoin:round; stroke-width:2; stroke-opacity:0.1; fill:none\" points=\"223.45,313.191 2352.76,313.191 \"/>\n",
       "<polyline clip-path=\"url(#clip382)\" style=\"stroke:#000000; stroke-linecap:round; stroke-linejoin:round; stroke-width:2; stroke-opacity:0.1; fill:none\" points=\"223.45,268.866 2352.76,268.866 \"/>\n",
       "<polyline clip-path=\"url(#clip382)\" style=\"stroke:#000000; stroke-linecap:round; stroke-linejoin:round; stroke-width:2; stroke-opacity:0.1; fill:none\" points=\"223.45,224.542 2352.76,224.542 \"/>\n",
       "<polyline clip-path=\"url(#clip382)\" style=\"stroke:#000000; stroke-linecap:round; stroke-linejoin:round; stroke-width:2; stroke-opacity:0.1; fill:none\" points=\"223.45,180.218 2352.76,180.218 \"/>\n",
       "<polyline clip-path=\"url(#clip382)\" style=\"stroke:#000000; stroke-linecap:round; stroke-linejoin:round; stroke-width:2; stroke-opacity:0.1; fill:none\" points=\"223.45,135.893 2352.76,135.893 \"/>\n",
       "<polyline clip-path=\"url(#clip382)\" style=\"stroke:#000000; stroke-linecap:round; stroke-linejoin:round; stroke-width:2; stroke-opacity:0.1; fill:none\" points=\"223.45,91.5686 2352.76,91.5686 \"/>\n",
       "<line clip-path=\"url(#clip382)\" x1=\"400.892\" y1=\"308.866\" x2=\"400.892\" y2=\"228.866\" style=\"stroke:#ff0000; stroke-width:3.84; stroke-opacity:1\"/>\n",
       "<line clip-path=\"url(#clip382)\" x1=\"473.158\" y1=\"220.218\" x2=\"473.158\" y2=\"140.218\" style=\"stroke:#0000ff; stroke-width:3.84; stroke-opacity:1\"/>\n",
       "<line clip-path=\"url(#clip382)\" x1=\"2103.05\" y1=\"220.218\" x2=\"2103.05\" y2=\"140.218\" style=\"stroke:#0000ff; stroke-width:3.84; stroke-opacity:1\"/>\n",
       "<line clip-path=\"url(#clip382)\" x1=\"2175.31\" y1=\"308.866\" x2=\"2175.31\" y2=\"228.866\" style=\"stroke:#ff0000; stroke-width:3.84; stroke-opacity:1\"/>\n",
       "<polyline clip-path=\"url(#clip382)\" style=\"stroke:#0000ff; stroke-linecap:round; stroke-linejoin:round; stroke-width:4; stroke-opacity:1; fill:none\" points=\"473.158,180.218 2103.05,180.218 \"/>\n",
       "<polyline clip-path=\"url(#clip382)\" style=\"stroke:#ff0000; stroke-linecap:round; stroke-linejoin:round; stroke-width:4; stroke-opacity:1; fill:none\" points=\"400.892,268.866 2175.31,268.866 \"/>\n",
       "<path clip-path=\"url(#clip380)\" d=\"M354.487 66.7163 Q348.167 66.7163 344.967 72.9547 Q341.808 79.1525 341.808 91.6293 Q341.808 104.066 344.967 110.304 Q348.167 116.502 354.487 116.502 Q360.847 116.502 364.006 110.304 Q367.207 104.066 367.207 91.6293 Q367.207 79.1525 364.006 72.9547 Q360.847 66.7163 354.487 66.7163 M354.487 60.2348 Q364.655 60.2348 370.002 68.2961 Q375.39 76.3169 375.39 91.6293 Q375.39 106.901 370.002 114.963 Q364.655 122.983 354.487 122.983 Q344.319 122.983 338.931 114.963 Q333.584 106.901 333.584 91.6293 Q333.584 76.3169 338.931 68.2961 Q344.319 60.2348 354.487 60.2348 Z\" fill=\"#0000ff\" fill-rule=\"nonzero\" fill-opacity=\"1\" /><path clip-path=\"url(#clip380)\" d=\"M389.77 111.519 L398.318 111.519 L398.318 121.809 L389.77 121.809 L389.77 111.519 Z\" fill=\"#0000ff\" fill-rule=\"nonzero\" fill-opacity=\"1\" /><path clip-path=\"url(#clip380)\" d=\"M433.642 66.7163 Q427.322 66.7163 424.122 72.9547 Q420.962 79.1525 420.962 91.6293 Q420.962 104.066 424.122 110.304 Q427.322 116.502 433.642 116.502 Q440.001 116.502 443.161 110.304 Q446.361 104.066 446.361 91.6293 Q446.361 79.1525 443.161 72.9547 Q440.001 66.7163 433.642 66.7163 M433.642 60.2348 Q443.809 60.2348 449.156 68.2961 Q454.544 76.3169 454.544 91.6293 Q454.544 106.901 449.156 114.963 Q443.809 122.983 433.642 122.983 Q423.474 122.983 418.086 114.963 Q412.739 106.901 412.739 91.6293 Q412.739 76.3169 418.086 68.2961 Q423.474 60.2348 433.642 60.2348 Z\" fill=\"#0000ff\" fill-rule=\"nonzero\" fill-opacity=\"1\" /><path clip-path=\"url(#clip380)\" d=\"M486.425 66.7163 Q480.105 66.7163 476.905 72.9547 Q473.745 79.1525 473.745 91.6293 Q473.745 104.066 476.905 110.304 Q480.105 116.502 486.425 116.502 Q492.785 116.502 495.944 110.304 Q499.145 104.066 499.145 91.6293 Q499.145 79.1525 495.944 72.9547 Q492.785 66.7163 486.425 66.7163 M486.425 60.2348 Q496.593 60.2348 501.94 68.2961 Q507.327 76.3169 507.327 91.6293 Q507.327 106.901 501.94 114.963 Q496.593 122.983 486.425 122.983 Q476.257 122.983 470.869 114.963 Q465.522 106.901 465.522 91.6293 Q465.522 76.3169 470.869 68.2961 Q476.257 60.2348 486.425 60.2348 Z\" fill=\"#0000ff\" fill-rule=\"nonzero\" fill-opacity=\"1\" /><path clip-path=\"url(#clip380)\" d=\"M523.126 114.922 L536.494 114.922 L536.494 68.7822 L521.951 71.6989 L521.951 64.2452 L536.413 61.3286 L544.596 61.3286 L544.596 114.922 L557.964 114.922 L557.964 121.809 L523.126 121.809 L523.126 114.922 Z\" fill=\"#0000ff\" fill-rule=\"nonzero\" fill-opacity=\"1\" /><path clip-path=\"url(#clip380)\" d=\"M591.991 93.0877 Q586.158 93.0877 582.796 96.2069 Q579.474 99.326 579.474 104.795 Q579.474 110.263 582.796 113.383 Q586.158 116.502 591.991 116.502 Q597.825 116.502 601.187 113.383 Q604.549 110.223 604.549 104.795 Q604.549 99.326 601.187 96.2069 Q597.865 93.0877 591.991 93.0877 M583.809 89.6039 Q578.542 88.3076 575.585 84.7023 Q572.669 81.097 572.669 75.9118 Q572.669 68.6607 577.813 64.4478 Q582.998 60.2348 591.991 60.2348 Q601.025 60.2348 606.17 64.4478 Q611.314 68.6607 611.314 75.9118 Q611.314 81.097 608.357 84.7023 Q605.44 88.3076 600.215 89.6039 Q606.129 90.9812 609.41 94.9916 Q612.732 99.002 612.732 104.795 Q612.732 113.585 607.344 118.284 Q601.997 122.983 591.991 122.983 Q581.986 122.983 576.598 118.284 Q571.251 113.585 571.251 104.795 Q571.251 99.002 574.572 94.9916 Q577.894 90.9812 583.809 89.6039 M580.811 76.6815 Q580.811 81.3805 583.728 84.0136 Q586.685 86.6467 591.991 86.6467 Q597.258 86.6467 600.215 84.0136 Q603.212 81.3805 603.212 76.6815 Q603.212 71.9824 600.215 69.3494 Q597.258 66.7163 591.991 66.7163 Q586.685 66.7163 583.728 69.3494 Q580.811 71.9824 580.811 76.6815 Z\" fill=\"#0000ff\" fill-rule=\"nonzero\" fill-opacity=\"1\" /><path clip-path=\"url(#clip380)\" d=\"M1984.15 66.7163 Q1977.83 66.7163 1974.63 72.9547 Q1971.47 79.1525 1971.47 91.6293 Q1971.47 104.066 1974.63 110.304 Q1977.83 116.502 1984.15 116.502 Q1990.51 116.502 1993.67 110.304 Q1996.87 104.066 1996.87 91.6293 Q1996.87 79.1525 1993.67 72.9547 Q1990.51 66.7163 1984.15 66.7163 M1984.15 60.2348 Q1994.32 60.2348 1999.67 68.2961 Q2005.06 76.3169 2005.06 91.6293 Q2005.06 106.901 1999.67 114.963 Q1994.32 122.983 1984.15 122.983 Q1973.99 122.983 1968.6 114.963 Q1963.25 106.901 1963.25 91.6293 Q1963.25 76.3169 1968.6 68.2961 Q1973.99 60.2348 1984.15 60.2348 Z\" fill=\"#0000ff\" fill-rule=\"nonzero\" fill-opacity=\"1\" /><path clip-path=\"url(#clip380)\" d=\"M2019.44 111.519 L2027.98 111.519 L2027.98 121.809 L2019.44 121.809 L2019.44 111.519 Z\" fill=\"#0000ff\" fill-rule=\"nonzero\" fill-opacity=\"1\" /><path clip-path=\"url(#clip380)\" d=\"M2070.6 89.1988 Q2076.47 90.4546 2079.75 94.4245 Q2083.08 98.3943 2083.08 104.228 Q2083.08 113.18 2076.92 118.082 Q2070.76 122.983 2059.42 122.983 Q2055.61 122.983 2051.56 122.214 Q2047.55 121.484 2043.26 119.986 L2043.26 112.086 Q2046.66 114.071 2050.71 115.084 Q2054.76 116.097 2059.18 116.097 Q2066.87 116.097 2070.88 113.059 Q2074.93 110.02 2074.93 104.228 Q2074.93 98.8804 2071.17 95.8828 Q2067.44 92.8446 2060.76 92.8446 L2053.71 92.8446 L2053.71 86.1201 L2061.08 86.1201 Q2067.12 86.1201 2070.32 83.7301 Q2073.52 81.2995 2073.52 76.7625 Q2073.52 72.104 2070.19 69.6329 Q2066.91 67.1214 2060.76 67.1214 Q2057.39 67.1214 2053.55 67.8505 Q2049.7 68.5797 2045.08 70.119 L2045.08 62.8274 Q2049.74 61.5311 2053.79 60.883 Q2057.88 60.2348 2061.49 60.2348 Q2070.8 60.2348 2076.23 64.4883 Q2081.66 68.7012 2081.66 75.9118 Q2081.66 80.9349 2078.78 84.4187 Q2075.91 87.862 2070.6 89.1988 Z\" fill=\"#0000ff\" fill-rule=\"nonzero\" fill-opacity=\"1\" /><path clip-path=\"url(#clip380)\" d=\"M2117.1 88.3076 Q2111.59 88.3076 2108.35 92.0749 Q2105.15 95.8423 2105.15 102.405 Q2105.15 108.927 2108.35 112.735 Q2111.59 116.502 2117.1 116.502 Q2122.61 116.502 2125.81 112.735 Q2129.05 108.927 2129.05 102.405 Q2129.05 95.8423 2125.81 92.0749 Q2122.61 88.3076 2117.1 88.3076 M2133.35 62.6654 L2133.35 70.119 Q2130.27 68.6607 2127.11 67.891 Q2123.99 67.1214 2120.91 67.1214 Q2112.81 67.1214 2108.52 72.5901 Q2104.26 78.0588 2103.66 89.1178 Q2106.05 85.5935 2109.65 83.7301 Q2113.26 81.8261 2117.59 81.8261 Q2126.7 81.8261 2131.97 87.3759 Q2137.28 92.8851 2137.28 102.405 Q2137.28 111.722 2131.77 117.353 Q2126.26 122.983 2117.1 122.983 Q2106.61 122.983 2101.06 114.963 Q2095.51 106.901 2095.51 91.6293 Q2095.51 77.2891 2102.32 68.7822 Q2109.12 60.2348 2120.59 60.2348 Q2123.67 60.2348 2126.79 60.8425 Q2129.95 61.4501 2133.35 62.6654 Z\" fill=\"#0000ff\" fill-rule=\"nonzero\" fill-opacity=\"1\" /><path clip-path=\"url(#clip380)\" d=\"M2168.87 93.0877 Q2163.04 93.0877 2159.68 96.2069 Q2156.36 99.326 2156.36 104.795 Q2156.36 110.263 2159.68 113.383 Q2163.04 116.502 2168.87 116.502 Q2174.71 116.502 2178.07 113.383 Q2181.43 110.223 2181.43 104.795 Q2181.43 99.326 2178.07 96.2069 Q2174.75 93.0877 2168.87 93.0877 M2160.69 89.6039 Q2155.43 88.3076 2152.47 84.7023 Q2149.55 81.097 2149.55 75.9118 Q2149.55 68.6607 2154.7 64.4478 Q2159.88 60.2348 2168.87 60.2348 Q2177.91 60.2348 2183.05 64.4478 Q2188.2 68.6607 2188.2 75.9118 Q2188.2 81.097 2185.24 84.7023 Q2182.32 88.3076 2177.1 89.6039 Q2183.01 90.9812 2186.29 94.9916 Q2189.62 99.002 2189.62 104.795 Q2189.62 113.585 2184.23 118.284 Q2178.88 122.983 2168.87 122.983 Q2158.87 122.983 2153.48 118.284 Q2148.13 113.585 2148.13 104.795 Q2148.13 99.002 2151.46 94.9916 Q2154.78 90.9812 2160.69 89.6039 M2157.69 76.6815 Q2157.69 81.3805 2160.61 84.0136 Q2163.57 86.6467 2168.87 86.6467 Q2174.14 86.6467 2177.1 84.0136 Q2180.1 81.3805 2180.1 76.6815 Q2180.1 71.9824 2177.1 69.3494 Q2174.14 66.7163 2168.87 66.7163 Q2163.57 66.7163 2160.61 69.3494 Q2157.69 71.9824 2157.69 76.6815 Z\" fill=\"#0000ff\" fill-rule=\"nonzero\" fill-opacity=\"1\" /><path clip-path=\"url(#clip380)\" d=\"M2222.67 88.3076 Q2217.16 88.3076 2213.92 92.0749 Q2210.72 95.8423 2210.72 102.405 Q2210.72 108.927 2213.92 112.735 Q2217.16 116.502 2222.67 116.502 Q2228.18 116.502 2231.38 112.735 Q2234.62 108.927 2234.62 102.405 Q2234.62 95.8423 2231.38 92.0749 Q2228.18 88.3076 2222.67 88.3076 M2238.91 62.6654 L2238.91 70.119 Q2235.84 68.6607 2232.68 67.891 Q2229.56 67.1214 2226.48 67.1214 Q2218.38 67.1214 2214.08 72.5901 Q2209.83 78.0588 2209.22 89.1178 Q2211.61 85.5935 2215.22 83.7301 Q2218.82 81.8261 2223.16 81.8261 Q2232.27 81.8261 2237.54 87.3759 Q2242.84 92.8851 2242.84 102.405 Q2242.84 111.722 2237.34 117.353 Q2231.83 122.983 2222.67 122.983 Q2212.18 122.983 2206.63 114.963 Q2201.08 106.901 2201.08 91.6293 Q2201.08 77.2891 2207.88 68.7822 Q2214.69 60.2348 2226.15 60.2348 Q2229.23 60.2348 2232.35 60.8425 Q2235.51 61.4501 2238.91 62.6654 Z\" fill=\"#0000ff\" fill-rule=\"nonzero\" fill-opacity=\"1\" /><path clip-path=\"url(#clip380)\" d=\"M246.431 361.708 L268.265 361.708 L268.265 368.352 L246.431 368.352 L246.431 361.708 Z\" fill=\"#ff0000\" fill-rule=\"nonzero\" fill-opacity=\"1\" /><path clip-path=\"url(#clip380)\" d=\"M298.688 332.663 Q292.368 332.663 289.168 338.901 Q286.008 345.099 286.008 357.576 Q286.008 370.012 289.168 376.251 Q292.368 382.449 298.688 382.449 Q305.048 382.449 308.207 376.251 Q311.407 370.012 311.407 357.576 Q311.407 345.099 308.207 338.901 Q305.048 332.663 298.688 332.663 M298.688 326.182 Q308.855 326.182 314.203 334.243 Q319.59 342.264 319.59 357.576 Q319.59 372.848 314.203 380.909 Q308.855 388.93 298.688 388.93 Q288.52 388.93 283.132 380.909 Q277.785 372.848 277.785 357.576 Q277.785 342.264 283.132 334.243 Q288.52 326.182 298.688 326.182 Z\" fill=\"#ff0000\" fill-rule=\"nonzero\" fill-opacity=\"1\" /><path clip-path=\"url(#clip380)\" d=\"M333.971 377.466 L342.518 377.466 L342.518 387.755 L333.971 387.755 L333.971 377.466 Z\" fill=\"#ff0000\" fill-rule=\"nonzero\" fill-opacity=\"1\" /><path clip-path=\"url(#clip380)\" d=\"M377.842 332.663 Q371.523 332.663 368.323 338.901 Q365.163 345.099 365.163 357.576 Q365.163 370.012 368.323 376.251 Q371.523 382.449 377.842 382.449 Q384.202 382.449 387.362 376.251 Q390.562 370.012 390.562 357.576 Q390.562 345.099 387.362 338.901 Q384.202 332.663 377.842 332.663 M377.842 326.182 Q388.01 326.182 393.357 334.243 Q398.745 342.264 398.745 357.576 Q398.745 372.848 393.357 380.909 Q388.01 388.93 377.842 388.93 Q367.674 388.93 362.287 380.909 Q356.94 372.848 356.94 357.576 Q356.94 342.264 362.287 334.243 Q367.674 326.182 377.842 326.182 Z\" fill=\"#ff0000\" fill-rule=\"nonzero\" fill-opacity=\"1\" /><path clip-path=\"url(#clip380)\" d=\"M414.543 380.869 L427.911 380.869 L427.911 334.729 L413.369 337.646 L413.369 330.192 L427.83 327.275 L436.013 327.275 L436.013 380.869 L449.381 380.869 L449.381 387.755 L414.543 387.755 L414.543 380.869 Z\" fill=\"#ff0000\" fill-rule=\"nonzero\" fill-opacity=\"1\" /><path clip-path=\"url(#clip380)\" d=\"M488.391 334.405 L467.732 366.691 L488.391 366.691 L488.391 334.405 M486.244 327.275 L496.534 327.275 L496.534 366.691 L505.162 366.691 L505.162 373.496 L496.534 373.496 L496.534 387.755 L488.391 387.755 L488.391 373.496 L461.088 373.496 L461.088 365.597 L486.244 327.275 Z\" fill=\"#ff0000\" fill-rule=\"nonzero\" fill-opacity=\"1\" /><path clip-path=\"url(#clip380)\" d=\"M518.773 327.275 L550.897 327.275 L550.897 334.162 L526.267 334.162 L526.267 348.988 Q528.05 348.381 529.832 348.097 Q531.615 347.773 533.397 347.773 Q543.524 347.773 549.439 353.323 Q555.353 358.872 555.353 368.352 Q555.353 378.114 549.277 383.542 Q543.2 388.93 532.141 388.93 Q528.333 388.93 524.363 388.282 Q520.434 387.634 516.221 386.338 L516.221 378.114 Q519.867 380.099 523.756 381.071 Q527.645 382.044 531.979 382.044 Q538.987 382.044 543.079 378.357 Q547.17 374.671 547.17 368.352 Q547.17 362.032 543.079 358.346 Q538.987 354.66 531.979 354.66 Q528.698 354.66 525.417 355.389 Q522.176 356.118 518.773 357.657 L518.773 327.275 Z\" fill=\"#ff0000\" fill-rule=\"nonzero\" fill-opacity=\"1\" /><path clip-path=\"url(#clip380)\" d=\"M2056.64 332.663 Q2050.32 332.663 2047.12 338.901 Q2043.96 345.099 2043.96 357.576 Q2043.96 370.012 2047.12 376.251 Q2050.32 382.449 2056.64 382.449 Q2063 382.449 2066.16 376.251 Q2069.36 370.012 2069.36 357.576 Q2069.36 345.099 2066.16 338.901 Q2063 332.663 2056.64 332.663 M2056.64 326.182 Q2066.81 326.182 2072.16 334.243 Q2077.55 342.264 2077.55 357.576 Q2077.55 372.848 2072.16 380.909 Q2066.81 388.93 2056.64 388.93 Q2046.47 388.93 2041.09 380.909 Q2035.74 372.848 2035.74 357.576 Q2035.74 342.264 2041.09 334.243 Q2046.47 326.182 2056.64 326.182 Z\" fill=\"#ff0000\" fill-rule=\"nonzero\" fill-opacity=\"1\" /><path clip-path=\"url(#clip380)\" d=\"M2091.93 377.466 L2100.47 377.466 L2100.47 387.755 L2091.93 387.755 L2091.93 377.466 Z\" fill=\"#ff0000\" fill-rule=\"nonzero\" fill-opacity=\"1\" /><path clip-path=\"url(#clip380)\" d=\"M2143.09 355.146 Q2148.96 356.401 2152.24 360.371 Q2155.57 364.341 2155.57 370.174 Q2155.57 379.127 2149.41 384.029 Q2143.25 388.93 2131.91 388.93 Q2128.1 388.93 2124.05 388.16 Q2120.04 387.431 2115.75 385.932 L2115.75 378.033 Q2119.15 380.018 2123.2 381.031 Q2127.25 382.044 2131.67 382.044 Q2139.36 382.044 2143.37 379.005 Q2147.42 375.967 2147.42 370.174 Q2147.42 364.827 2143.66 361.83 Q2139.93 358.791 2133.25 358.791 L2126.2 358.791 L2126.2 352.067 L2133.57 352.067 Q2139.61 352.067 2142.81 349.677 Q2146.01 347.246 2146.01 342.709 Q2146.01 338.051 2142.68 335.58 Q2139.4 333.068 2133.25 333.068 Q2129.88 333.068 2126.03 333.797 Q2122.19 334.527 2117.57 336.066 L2117.57 328.774 Q2122.23 327.478 2126.28 326.83 Q2130.37 326.182 2133.97 326.182 Q2143.29 326.182 2148.72 330.435 Q2154.15 334.648 2154.15 341.859 Q2154.15 346.882 2151.27 350.366 Q2148.4 353.809 2143.09 355.146 Z\" fill=\"#ff0000\" fill-rule=\"nonzero\" fill-opacity=\"1\" /><path clip-path=\"url(#clip380)\" d=\"M2188.58 359.034 Q2182.75 359.034 2179.38 362.154 Q2176.06 365.273 2176.06 370.742 Q2176.06 376.21 2179.38 379.33 Q2182.75 382.449 2188.58 382.449 Q2194.41 382.449 2197.78 379.33 Q2201.14 376.17 2201.14 370.742 Q2201.14 365.273 2197.78 362.154 Q2194.45 359.034 2188.58 359.034 M2180.4 355.551 Q2175.13 354.254 2172.17 350.649 Q2169.26 347.044 2169.26 341.859 Q2169.26 334.608 2174.4 330.395 Q2179.59 326.182 2188.58 326.182 Q2197.61 326.182 2202.76 330.395 Q2207.9 334.608 2207.9 341.859 Q2207.9 347.044 2204.95 350.649 Q2202.03 354.254 2196.8 355.551 Q2202.72 356.928 2206 360.938 Q2209.32 364.949 2209.32 370.742 Q2209.32 379.532 2203.93 384.231 Q2198.59 388.93 2188.58 388.93 Q2178.57 388.93 2173.19 384.231 Q2167.84 379.532 2167.84 370.742 Q2167.84 364.949 2171.16 360.938 Q2174.48 356.928 2180.4 355.551 M2177.4 342.628 Q2177.4 347.327 2180.32 349.96 Q2183.27 352.594 2188.58 352.594 Q2193.85 352.594 2196.8 349.96 Q2199.8 347.327 2199.8 342.628 Q2199.8 337.929 2196.8 335.296 Q2193.85 332.663 2188.58 332.663 Q2183.27 332.663 2180.32 335.296 Q2177.4 337.929 2177.4 342.628 Z\" fill=\"#ff0000\" fill-rule=\"nonzero\" fill-opacity=\"1\" /><path clip-path=\"url(#clip380)\" d=\"M2246.35 334.405 L2225.69 366.691 L2246.35 366.691 L2246.35 334.405 M2244.2 327.275 L2254.49 327.275 L2254.49 366.691 L2263.12 366.691 L2263.12 373.496 L2254.49 373.496 L2254.49 387.755 L2246.35 387.755 L2246.35 373.496 L2219.04 373.496 L2219.04 365.597 L2244.2 327.275 Z\" fill=\"#ff0000\" fill-rule=\"nonzero\" fill-opacity=\"1\" /><path clip-path=\"url(#clip380)\" d=\"M2294.15 359.034 Q2288.31 359.034 2284.95 362.154 Q2281.63 365.273 2281.63 370.742 Q2281.63 376.21 2284.95 379.33 Q2288.31 382.449 2294.15 382.449 Q2299.98 382.449 2303.34 379.33 Q2306.7 376.17 2306.7 370.742 Q2306.7 365.273 2303.34 362.154 Q2300.02 359.034 2294.15 359.034 M2285.96 355.551 Q2280.7 354.254 2277.74 350.649 Q2274.82 347.044 2274.82 341.859 Q2274.82 334.608 2279.97 330.395 Q2285.15 326.182 2294.15 326.182 Q2303.18 326.182 2308.33 330.395 Q2313.47 334.608 2313.47 341.859 Q2313.47 347.044 2310.51 350.649 Q2307.6 354.254 2302.37 355.551 Q2308.28 356.928 2311.57 360.938 Q2314.89 364.949 2314.89 370.742 Q2314.89 379.532 2309.5 384.231 Q2304.15 388.93 2294.15 388.93 Q2284.14 388.93 2278.75 384.231 Q2273.41 379.532 2273.41 370.742 Q2273.41 364.949 2276.73 360.938 Q2280.05 356.928 2285.96 355.551 M2282.97 342.628 Q2282.97 347.327 2285.88 349.96 Q2288.84 352.594 2294.15 352.594 Q2299.41 352.594 2302.37 349.96 Q2305.37 347.327 2305.37 342.628 Q2305.37 337.929 2302.37 335.296 Q2299.41 332.663 2294.15 332.663 Q2288.84 332.663 2285.88 335.296 Q2282.97 337.929 2282.97 342.628 Z\" fill=\"#ff0000\" fill-rule=\"nonzero\" fill-opacity=\"1\" /></svg>\n"
      ]
     },
     "execution_count": 36,
     "metadata": {},
     "output_type": "execute_result"
    }
   ],
   "source": [
    "x = [res.Htest.ConfidenceInterval[1],res.bound[1],res.bound[2],res.Htest.ConfidenceInterval[2]]\n",
    "tol = (x[4]-x[1])/10\n",
    "y =[-0.01,0.01,0.01,-0.01]\n",
    "symbols =[:vline,:vline,:vline,:vline]\n",
    "\n",
    "scatter(x, y, markersize=10,\n",
    "    xlim=(x[1]-tol,x[4]+tol),\n",
    "    ylim=(-0.04,0.04),\n",
    "    markershape=symbols,\n",
    "    markerstrokewidth=4,\n",
    "    label=\"\",\n",
    "    c=[:red,:blue,:blue,:red],\n",
    "    showaxis=:x,\n",
    "    size =(600,120))\n",
    "plot!(x[2:3],y[2:3],label=\"\",c=:blue)\n",
    "plot!(x[1:3:4],y[1:3:4],label=\"\",c=:red)\n",
    "annotate!(x[2], 0.03, string(round(x[2],digits=4)),:blue)\n",
    "annotate!(x[3], 0.03, string(round(x[3],digits=4)),:blue)\n",
    "annotate!(x[1], -0.03, string(round(x[1],digits=4)),:red)\n",
    "annotate!(x[4], -0.03, string(round(x[4],digits=4)),:red)\n"
   ]
  },
  {
   "cell_type": "code",
   "execution_count": 37,
   "metadata": {},
   "outputs": [
    {
     "data": {
      "text/plain": [
       "Results([9.29633395085602, 10.529931600617003], [1, 2], TestResults([9.25660244913031, 10.569663102342712], 5.988131803022339, 1285.5883235394647), TestResults([9.263130853321446, 10.563134698151577], 5.004203608467894, 1250.3816624547194))"
      ]
     },
     "execution_count": 37,
     "metadata": {},
     "output_type": "execute_result"
    }
   ],
   "source": [
    "EY(yl,yu,[1,2])"
   ]
  },
  {
   "cell_type": "code",
   "execution_count": 39,
   "metadata": {},
   "outputs": [
    {
     "data": {
      "text/plain": [
       "Results([9.29633395085602, 10.529931600617003], [9.21, 10.52], TestResults([9.256654335776245, 10.569611215696778], 5.980311709112707, 13.011818188260767), TestResults([9.263547474355617, 10.562718077117406], 4.941412584817238, 13.011818188260767))"
      ]
     },
     "execution_count": 39,
     "metadata": {},
     "output_type": "execute_result"
    }
   ],
   "source": [
    "EY(yl,yu,[9.21,10.52])"
   ]
  },
  {
   "cell_type": "code",
   "execution_count": null,
   "metadata": {},
   "outputs": [],
   "source": []
  }
 ],
 "metadata": {
  "@webio": {
   "lastCommId": null,
   "lastKernelId": null
  },
  "kernelspec": {
   "display_name": "Julia 1.9.2",
   "language": "julia",
   "name": "julia-1.9"
  },
  "language_info": {
   "file_extension": ".jl",
   "mimetype": "application/julia",
   "name": "julia",
   "version": "1.9.2"
  }
 },
 "nbformat": 4,
 "nbformat_minor": 4
}
