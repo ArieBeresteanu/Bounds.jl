{
 "cells": [
  {
   "cell_type": "markdown",
   "metadata": {},
   "source": [
    "# Packages"
   ]
  },
  {
   "cell_type": "code",
   "execution_count": 1,
   "metadata": {},
   "outputs": [],
   "source": [
    "using CSV, DataFrames"
   ]
  },
  {
   "cell_type": "code",
   "execution_count": 2,
   "metadata": {},
   "outputs": [
    {
     "ename": "LoadError",
     "evalue": "ArgumentError: Package FixedEffectModels not found in current path.\n- Run `import Pkg; Pkg.add(\"FixedEffectModels\")` to install the FixedEffectModels package.",
     "output_type": "error",
     "traceback": [
      "ArgumentError: Package FixedEffectModels not found in current path.\n- Run `import Pkg; Pkg.add(\"FixedEffectModels\")` to install the FixedEffectModels package.",
      "",
      "Stacktrace:",
      " [1] macro expansion",
      "   @ .\\loading.jl:1630 [inlined]",
      " [2] macro expansion",
      "   @ .\\lock.jl:267 [inlined]",
      " [3] require(into::Module, mod::Symbol)",
      "   @ Base .\\loading.jl:1611"
     ]
    }
   ],
   "source": [
    "using FixedEffectModels"
   ]
  },
  {
   "cell_type": "code",
   "execution_count": 3,
   "metadata": {},
   "outputs": [],
   "source": [
    "using Plots"
   ]
  },
  {
   "cell_type": "code",
   "execution_count": 4,
   "metadata": {},
   "outputs": [],
   "source": [
    "using Statistics"
   ]
  },
  {
   "cell_type": "markdown",
   "metadata": {},
   "source": [
    "# Uploading CPS data"
   ]
  },
  {
   "cell_type": "code",
   "execution_count": 5,
   "metadata": {},
   "outputs": [
    {
     "data": {
      "text/html": [
       "<div><div style = \"float: left;\"><span>5×3 DataFrame</span></div><div style = \"clear: both;\"></div></div><div class = \"data-frame\" style = \"overflow-x: scroll;\"><table class = \"data-frame\" style = \"margin-bottom: 6px;\"><thead><tr class = \"header\"><th class = \"rowNumber\" style = \"font-weight: bold; text-align: right;\">Row</th><th style = \"text-align: left;\">age</th><th style = \"text-align: left;\">wage</th><th style = \"text-align: left;\">educ</th></tr><tr class = \"subheader headerLastRow\"><th class = \"rowNumber\" style = \"font-weight: bold; text-align: right;\"></th><th title = \"Int64\" style = \"text-align: left;\">Int64</th><th title = \"Int64\" style = \"text-align: left;\">Int64</th><th title = \"String\" style = \"text-align: left;\">String</th></tr></thead><tbody><tr><td class = \"rowNumber\" style = \"font-weight: bold; text-align: right;\">1</td><td style = \"text-align: right;\">22</td><td style = \"text-align: right;\">12000</td><td style = \"text-align: left;\">some college but no degree</td></tr><tr><td class = \"rowNumber\" style = \"font-weight: bold; text-align: right;\">2</td><td style = \"text-align: right;\">21</td><td style = \"text-align: right;\">3500</td><td style = \"text-align: left;\">some college but no degree</td></tr><tr><td class = \"rowNumber\" style = \"font-weight: bold; text-align: right;\">3</td><td style = \"text-align: right;\">49</td><td style = \"text-align: right;\">30000</td><td style = \"text-align: left;\">some college but no degree</td></tr><tr><td class = \"rowNumber\" style = \"font-weight: bold; text-align: right;\">4</td><td style = \"text-align: right;\">31</td><td style = \"text-align: right;\">32000</td><td style = \"text-align: left;\">bachelor&apos;s degree</td></tr><tr><td class = \"rowNumber\" style = \"font-weight: bold; text-align: right;\">5</td><td style = \"text-align: right;\">42</td><td style = \"text-align: right;\">89630</td><td style = \"text-align: left;\">doctorate degree</td></tr></tbody></table></div>"
      ],
      "text/latex": [
       "\\begin{tabular}{r|ccc}\n",
       "\t& age & wage & educ\\\\\n",
       "\t\\hline\n",
       "\t& Int64 & Int64 & String\\\\\n",
       "\t\\hline\n",
       "\t1 & 22 & 12000 & some college but no degree \\\\\n",
       "\t2 & 21 & 3500 & some college but no degree \\\\\n",
       "\t3 & 49 & 30000 & some college but no degree \\\\\n",
       "\t4 & 31 & 32000 & bachelor's degree \\\\\n",
       "\t5 & 42 & 89630 & doctorate degree \\\\\n",
       "\\end{tabular}\n"
      ],
      "text/plain": [
       "\u001b[1m5×3 DataFrame\u001b[0m\n",
       "\u001b[1m Row \u001b[0m│\u001b[1m age   \u001b[0m\u001b[1m wage  \u001b[0m\u001b[1m educ                       \u001b[0m\n",
       "     │\u001b[90m Int64 \u001b[0m\u001b[90m Int64 \u001b[0m\u001b[90m String                     \u001b[0m\n",
       "─────┼──────────────────────────────────────────\n",
       "   1 │    22  12000  some college but no degree\n",
       "   2 │    21   3500  some college but no degree\n",
       "   3 │    49  30000  some college but no degree\n",
       "   4 │    31  32000  bachelor's degree\n",
       "   5 │    42  89630  doctorate degree"
      ]
     },
     "execution_count": 5,
     "metadata": {},
     "output_type": "execute_result"
    }
   ],
   "source": [
    "cps = DataFrame(CSV.File(\"c:\\\\data\\\\Bounds\\\\cps.csv\")) # <-change this to the right directory\n",
    "\n",
    "## Cleaning zero wage\n",
    "\n",
    "cps = cps[cps.wage .> 0, :]\n",
    "first(cps,5)"
   ]
  },
  {
   "cell_type": "code",
   "execution_count": 6,
   "metadata": {},
   "outputs": [
    {
     "data": {
      "text/plain": [
       "Dict{String, Int64} with 16 entries:\n",
       "  \"grade 11\"                                            => 11\n",
       "  \"some college but no degree\"                          => 13\n",
       "  \"associate's degree, academic program\"                => 14\n",
       "  \"none or preschool\"                                   => 0\n",
       "  \"doctorate degree\"                                    => 21\n",
       "  \"grade 10\"                                            => 10\n",
       "  \"bachelor's degree\"                                   => 16\n",
       "  \"master's degree\"                                     => 14\n",
       "  \"grades 5 or 6\"                                       => 6\n",
       "  \"grades 7 or 8\"                                       => 8\n",
       "  \"grades 1, 2, 3, or 4\"                                => 4\n",
       "  \"associate's degree, occupational/vocational program\" => 14\n",
       "  \"professional school degree\"                          => 14\n",
       "  \"high school diploma or equivalent\"                   => 12\n",
       "  \"grade 9\"                                             => 9\n",
       "  \"12th grade, no diploma\"                              => 12"
      ]
     },
     "execution_count": 6,
     "metadata": {},
     "output_type": "execute_result"
    }
   ],
   "source": [
    "# Numerical value for education\n",
    "\n",
    "#1.Creating a dictionary\n",
    "\n",
    "educ_dict = Dict( \n",
    "    \"grade 11\" => 11, \n",
    "    \"some college but no degree\" => 13, \n",
    "    \"associate's degree, academic program\" => 14,\n",
    "    \"grade 10\" => 10, \n",
    "    \"grades 7 or 8\" => 8, \n",
    "    \"grades 1, 2, 3, or 4\" => 4, \n",
    "    \"associate's degree, occupational/vocational program\" => 14, \n",
    "    \"high school diploma or equivalent\" => 12, \n",
    "    \"grade 9\" => 9, \n",
    "    \"none or preschool\" => 0, \n",
    "    \"doctorate degree\" => 21,\n",
    "    \"bachelor's degree\" => 16, \n",
    "    \"master's degree\" => 14, \n",
    "    \"grades 5 or 6\" => 6, \n",
    "    \"professional school degree\" => 14, \n",
    "    \"12th grade, no diploma\" => 12\n",
    "    )"
   ]
  },
  {
   "cell_type": "code",
   "execution_count": 7,
   "metadata": {},
   "outputs": [
    {
     "data": {
      "text/html": [
       "<div><div style = \"float: left;\"><span>3×5 DataFrame</span></div><div style = \"clear: both;\"></div></div><div class = \"data-frame\" style = \"overflow-x: scroll;\"><table class = \"data-frame\" style = \"margin-bottom: 6px;\"><thead><tr class = \"header\"><th class = \"rowNumber\" style = \"font-weight: bold; text-align: right;\">Row</th><th style = \"text-align: left;\">age</th><th style = \"text-align: left;\">wage</th><th style = \"text-align: left;\">educ</th><th style = \"text-align: left;\">educ_num</th><th style = \"text-align: left;\">log_wage</th></tr><tr class = \"subheader headerLastRow\"><th class = \"rowNumber\" style = \"font-weight: bold; text-align: right;\"></th><th title = \"Int64\" style = \"text-align: left;\">Int64</th><th title = \"Int64\" style = \"text-align: left;\">Int64</th><th title = \"String\" style = \"text-align: left;\">String</th><th title = \"Int64\" style = \"text-align: left;\">Int64</th><th title = \"Float64\" style = \"text-align: left;\">Float64</th></tr></thead><tbody><tr><td class = \"rowNumber\" style = \"font-weight: bold; text-align: right;\">1</td><td style = \"text-align: right;\">22</td><td style = \"text-align: right;\">12000</td><td style = \"text-align: left;\">some college but no degree</td><td style = \"text-align: right;\">13</td><td style = \"text-align: right;\">9.39266</td></tr><tr><td class = \"rowNumber\" style = \"font-weight: bold; text-align: right;\">2</td><td style = \"text-align: right;\">21</td><td style = \"text-align: right;\">3500</td><td style = \"text-align: left;\">some college but no degree</td><td style = \"text-align: right;\">13</td><td style = \"text-align: right;\">8.16052</td></tr><tr><td class = \"rowNumber\" style = \"font-weight: bold; text-align: right;\">3</td><td style = \"text-align: right;\">49</td><td style = \"text-align: right;\">30000</td><td style = \"text-align: left;\">some college but no degree</td><td style = \"text-align: right;\">13</td><td style = \"text-align: right;\">10.309</td></tr></tbody></table></div>"
      ],
      "text/latex": [
       "\\begin{tabular}{r|ccccc}\n",
       "\t& age & wage & educ & educ\\_num & log\\_wage\\\\\n",
       "\t\\hline\n",
       "\t& Int64 & Int64 & String & Int64 & Float64\\\\\n",
       "\t\\hline\n",
       "\t1 & 22 & 12000 & some college but no degree & 13 & 9.39266 \\\\\n",
       "\t2 & 21 & 3500 & some college but no degree & 13 & 8.16052 \\\\\n",
       "\t3 & 49 & 30000 & some college but no degree & 13 & 10.309 \\\\\n",
       "\\end{tabular}\n"
      ],
      "text/plain": [
       "\u001b[1m3×5 DataFrame\u001b[0m\n",
       "\u001b[1m Row \u001b[0m│\u001b[1m age   \u001b[0m\u001b[1m wage  \u001b[0m\u001b[1m educ                       \u001b[0m\u001b[1m educ_num \u001b[0m\u001b[1m log_wage \u001b[0m\n",
       "     │\u001b[90m Int64 \u001b[0m\u001b[90m Int64 \u001b[0m\u001b[90m String                     \u001b[0m\u001b[90m Int64    \u001b[0m\u001b[90m Float64  \u001b[0m\n",
       "─────┼──────────────────────────────────────────────────────────────\n",
       "   1 │    22  12000  some college but no degree        13   9.39266\n",
       "   2 │    21   3500  some college but no degree        13   8.16052\n",
       "   3 │    49  30000  some college but no degree        13  10.309"
      ]
     },
     "execution_count": 7,
     "metadata": {},
     "output_type": "execute_result"
    }
   ],
   "source": [
    "#2. transforming cps.educ\n",
    "f(x) = educ_dict[x]\n",
    "cps.educ_num = f.(cps.educ)\n",
    "\n",
    "#3. log of wage\n",
    "cps.log_wage = log.(cps.wage)\n",
    "first(cps,3)"
   ]
  },
  {
   "cell_type": "code",
   "execution_count": 8,
   "metadata": {},
   "outputs": [
    {
     "name": "stdout",
     "output_type": "stream",
     "text": [
      "The original data contains 22715 observations and 5 columns."
     ]
    }
   ],
   "source": [
    "Nobs, c = size(cps)\n",
    "print(\"The original data contains \", Nobs, \" observations and \",c, \" columns.\")"
   ]
  },
  {
   "cell_type": "markdown",
   "metadata": {},
   "source": [
    "# Best Linear Predictor "
   ]
  },
  {
   "cell_type": "code",
   "execution_count": 9,
   "metadata": {},
   "outputs": [],
   "source": [
    "#reg(cps, @formula(log_wage ~ educ_num ), Vcov.robust())"
   ]
  },
  {
   "cell_type": "code",
   "execution_count": 10,
   "metadata": {
    "scrolled": true
   },
   "outputs": [],
   "source": [
    "#reg(cps, @formula(log_wage ~ educ_num + age ), Vcov.robust())"
   ]
  },
  {
   "cell_type": "markdown",
   "metadata": {},
   "source": [
    "# Creating Interval Data"
   ]
  },
  {
   "cell_type": "code",
   "execution_count": 11,
   "metadata": {},
   "outputs": [
    {
     "data": {
      "text/plain": [
       "362303.0"
      ]
     },
     "execution_count": 11,
     "metadata": {},
     "output_type": "execute_result"
    }
   ],
   "source": [
    "wage_quantiles = quantile(cps[!,:wage],[0.0, 0.1,0.2,0.3,0.4,0.5,0.6,0.7,0.8,0.9,1.0], sorted=false);\n",
    "#wage_quantiles[1] +=-1\n",
    "wage_quantiles[end] +=1"
   ]
  },
  {
   "cell_type": "code",
   "execution_count": 12,
   "metadata": {},
   "outputs": [
    {
     "data": {
      "text/html": [
       "<div><div style = \"float: left;\"><span>3×9 DataFrame</span></div><div style = \"clear: both;\"></div></div><div class = \"data-frame\" style = \"overflow-x: scroll;\"><table class = \"data-frame\" style = \"margin-bottom: 6px;\"><thead><tr class = \"header\"><th class = \"rowNumber\" style = \"font-weight: bold; text-align: right;\">Row</th><th style = \"text-align: left;\">age</th><th style = \"text-align: left;\">wage</th><th style = \"text-align: left;\">educ</th><th style = \"text-align: left;\">educ_num</th><th style = \"text-align: left;\">log_wage</th><th style = \"text-align: left;\">wage_lower</th><th style = \"text-align: left;\">wage_upper</th><th style = \"text-align: left;\">logwage_lower</th><th style = \"text-align: left;\">logwage_upper</th></tr><tr class = \"subheader headerLastRow\"><th class = \"rowNumber\" style = \"font-weight: bold; text-align: right;\"></th><th title = \"Int64\" style = \"text-align: left;\">Int64</th><th title = \"Int64\" style = \"text-align: left;\">Int64</th><th title = \"String\" style = \"text-align: left;\">String</th><th title = \"Int64\" style = \"text-align: left;\">Int64</th><th title = \"Float64\" style = \"text-align: left;\">Float64</th><th title = \"Float64\" style = \"text-align: left;\">Float64</th><th title = \"Float64\" style = \"text-align: left;\">Float64</th><th title = \"Float64\" style = \"text-align: left;\">Float64</th><th title = \"Float64\" style = \"text-align: left;\">Float64</th></tr></thead><tbody><tr><td class = \"rowNumber\" style = \"font-weight: bold; text-align: right;\">1</td><td style = \"text-align: right;\">22</td><td style = \"text-align: right;\">12000</td><td style = \"text-align: left;\">some college but no degree</td><td style = \"text-align: right;\">13</td><td style = \"text-align: right;\">9.39266</td><td style = \"text-align: right;\">9000.0</td><td style = \"text-align: right;\">15000.0</td><td style = \"text-align: right;\">9.10498</td><td style = \"text-align: right;\">9.61581</td></tr><tr><td class = \"rowNumber\" style = \"font-weight: bold; text-align: right;\">2</td><td style = \"text-align: right;\">21</td><td style = \"text-align: right;\">3500</td><td style = \"text-align: left;\">some college but no degree</td><td style = \"text-align: right;\">13</td><td style = \"text-align: right;\">8.16052</td><td style = \"text-align: right;\">1.0</td><td style = \"text-align: right;\">9000.0</td><td style = \"text-align: right;\">0.0</td><td style = \"text-align: right;\">9.10498</td></tr><tr><td class = \"rowNumber\" style = \"font-weight: bold; text-align: right;\">3</td><td style = \"text-align: right;\">49</td><td style = \"text-align: right;\">30000</td><td style = \"text-align: left;\">some college but no degree</td><td style = \"text-align: right;\">13</td><td style = \"text-align: right;\">10.309</td><td style = \"text-align: right;\">30000.0</td><td style = \"text-align: right;\">36000.0</td><td style = \"text-align: right;\">10.309</td><td style = \"text-align: right;\">10.4913</td></tr></tbody></table></div>"
      ],
      "text/latex": [
       "\\begin{tabular}{r|cccccccc}\n",
       "\t& age & wage & educ & educ\\_num & log\\_wage & wage\\_lower & wage\\_upper & \\\\\n",
       "\t\\hline\n",
       "\t& Int64 & Int64 & String & Int64 & Float64 & Float64 & Float64 & \\\\\n",
       "\t\\hline\n",
       "\t1 & 22 & 12000 & some college but no degree & 13 & 9.39266 & 9000.0 & 15000.0 & $\\dots$ \\\\\n",
       "\t2 & 21 & 3500 & some college but no degree & 13 & 8.16052 & 1.0 & 9000.0 & $\\dots$ \\\\\n",
       "\t3 & 49 & 30000 & some college but no degree & 13 & 10.309 & 30000.0 & 36000.0 & $\\dots$ \\\\\n",
       "\\end{tabular}\n"
      ],
      "text/plain": [
       "\u001b[1m3×9 DataFrame\u001b[0m\n",
       "\u001b[1m Row \u001b[0m│\u001b[1m age   \u001b[0m\u001b[1m wage  \u001b[0m\u001b[1m educ                       \u001b[0m\u001b[1m educ_num \u001b[0m\u001b[1m log_wage \u001b[0m\u001b[1m wage_lowe\u001b[0m ⋯\n",
       "     │\u001b[90m Int64 \u001b[0m\u001b[90m Int64 \u001b[0m\u001b[90m String                     \u001b[0m\u001b[90m Int64    \u001b[0m\u001b[90m Float64  \u001b[0m\u001b[90m Float64  \u001b[0m ⋯\n",
       "─────┼──────────────────────────────────────────────────────────────────────────\n",
       "   1 │    22  12000  some college but no degree        13   9.39266      9000. ⋯\n",
       "   2 │    21   3500  some college but no degree        13   8.16052         1.\n",
       "   3 │    49  30000  some college but no degree        13  10.309       30000.\n",
       "\u001b[36m                                                               4 columns omitted\u001b[0m"
      ]
     },
     "execution_count": 12,
     "metadata": {},
     "output_type": "execute_result"
    }
   ],
   "source": [
    "lower(x) = wage_quantiles[sum(wage_quantiles .<=x)]\n",
    "upper(x) = wage_quantiles[sum(wage_quantiles .<=x)+1]\n",
    "\n",
    "cps.wage_lower = lower.(cps.wage)\n",
    "cps.wage_upper = upper.(cps.wage)\n",
    "\n",
    "cps.logwage_lower = log.(cps.wage_lower)\n",
    "cps.logwage_upper = log.(cps.wage_upper)\n",
    "\n",
    "first(cps,3)"
   ]
  },
  {
   "cell_type": "code",
   "execution_count": 13,
   "metadata": {},
   "outputs": [
    {
     "name": "stdout",
     "output_type": "stream",
     "text": [
      "The complete data contains 22715 observations and 9 columns."
     ]
    }
   ],
   "source": [
    "Nobs, c = size(cps)\n",
    "print(\"The complete data contains \", Nobs, \" observations and \",c, \" columns.\")"
   ]
  },
  {
   "cell_type": "markdown",
   "metadata": {},
   "source": [
    "# Partial Indentification"
   ]
  },
  {
   "cell_type": "markdown",
   "metadata": {},
   "source": [
    "### Reading the module"
   ]
  },
  {
   "cell_type": "code",
   "execution_count": 14,
   "metadata": {},
   "outputs": [
    {
     "data": {
      "text/plain": [
       "Main.setBLP"
      ]
     },
     "execution_count": 14,
     "metadata": {},
     "output_type": "execute_result"
    }
   ],
   "source": [
    "include(\"C:\\\\Users\\\\arie\\\\OneDrive - University of Pittsburgh\\\\Documents\\\\Bounds.jl\\\\Bounds.jl\\\\src\\\\setBLP.jl\")"
   ]
  },
  {
   "cell_type": "code",
   "execution_count": 15,
   "metadata": {},
   "outputs": [],
   "source": [
    "using Main.setBLP"
   ]
  },
  {
   "cell_type": "markdown",
   "metadata": {},
   "source": [
    "## Testing projection function"
   ]
  },
  {
   "cell_type": "code",
   "execution_count": 16,
   "metadata": {},
   "outputs": [
    {
     "data": {
      "text/html": [
       "# 7 methods for generic function <b>projection</b> from \u001b[35mMain.setBLP\u001b[39m:<ul><li> projection(yl::<b>Vector{<:Real}</b>, yu::<b>Vector{<:Real}</b>, x::<b>Vector{<:Real}</b>) in Main.setBLP at <a href=\"https://github.com/ArieBeresteanu/Bounds.jl/tree/eee1bb3cb1eb4fe0218079fb78fec3d26d742421//src/setBLP.jl#L199\" target=\"_blank\">C:\\Users\\arie\\OneDrive - University of Pittsburgh\\Documents\\Bounds.jl\\Bounds.jl\\src\\setBLP.jl:199</a></li> <li> projection(yl::<b>Vector{<:Real}</b>, yu::<b>Vector{<:Real}</b>, x::<b>Matrix{<:Real}</b>) in Main.setBLP at <a href=\"https://github.com/ArieBeresteanu/Bounds.jl/tree/eee1bb3cb1eb4fe0218079fb78fec3d26d742421//src/setBLP.jl#L240\" target=\"_blank\">C:\\Users\\arie\\OneDrive - University of Pittsburgh\\Documents\\Bounds.jl\\Bounds.jl\\src\\setBLP.jl:240</a></li> <li> projection(yl::<b>Vector{<:Real}</b>, yu::<b>Vector{<:Real}</b>, x::<b>Matrix{<:Real}</b>, cord::<b>Int64</b>) in Main.setBLP at <a href=\"https://github.com/ArieBeresteanu/Bounds.jl/tree/eee1bb3cb1eb4fe0218079fb78fec3d26d742421//src/setBLP.jl#L210\" target=\"_blank\">C:\\Users\\arie\\OneDrive - University of Pittsburgh\\Documents\\Bounds.jl\\Bounds.jl\\src\\setBLP.jl:210</a></li> <li> projection(yl::<b>Vector{<:Real}</b>, yu::<b>Vector{<:Real}</b>, x::<b>Matrix{<:Real}</b>, cords::<b>Vector{Int64}</b>) in Main.setBLP at <a href=\"https://github.com/ArieBeresteanu/Bounds.jl/tree/eee1bb3cb1eb4fe0218079fb78fec3d26d742421//src/setBLP.jl#L223\" target=\"_blank\">C:\\Users\\arie\\OneDrive - University of Pittsburgh\\Documents\\Bounds.jl\\Bounds.jl\\src\\setBLP.jl:223</a></li> <li> projection(df::<b>DataFrame</b>, yl::<b>Symbol</b>, yu::<b>Symbol</b>, x::<b>Symbol</b>) in Main.setBLP at <a href=\"https://github.com/ArieBeresteanu/Bounds.jl/tree/eee1bb3cb1eb4fe0218079fb78fec3d26d742421//src/setBLP.jl#L258\" target=\"_blank\">C:\\Users\\arie\\OneDrive - University of Pittsburgh\\Documents\\Bounds.jl\\Bounds.jl\\src\\setBLP.jl:258</a></li> <li> projection(df::<b>DataFrame</b>, yl::<b>Symbol</b>, yu::<b>Symbol</b>, x::<b>Vector{Symbol}</b>) in Main.setBLP at <a href=\"https://github.com/ArieBeresteanu/Bounds.jl/tree/eee1bb3cb1eb4fe0218079fb78fec3d26d742421//src/setBLP.jl#L266\" target=\"_blank\">C:\\Users\\arie\\OneDrive - University of Pittsburgh\\Documents\\Bounds.jl\\Bounds.jl\\src\\setBLP.jl:266</a></li> <li> projection(df::<b>DataFrame</b>, yl::<b>Symbol</b>, yu::<b>Symbol</b>, x::<b>Vector{Symbol}</b>, cord::<b>Int64</b>) in Main.setBLP at <a href=\"https://github.com/ArieBeresteanu/Bounds.jl/tree/eee1bb3cb1eb4fe0218079fb78fec3d26d742421//src/setBLP.jl#L274\" target=\"_blank\">C:\\Users\\arie\\OneDrive - University of Pittsburgh\\Documents\\Bounds.jl\\Bounds.jl\\src\\setBLP.jl:274</a></li> </ul>"
      ],
      "text/plain": [
       "# 7 methods for generic function \"projection\" from \u001b[35mMain.setBLP\u001b[39m:\n",
       " [1] projection(\u001b[90myl\u001b[39m::\u001b[1mVector\u001b[22m\u001b[0m{<:Real}, \u001b[90myu\u001b[39m::\u001b[1mVector\u001b[22m\u001b[0m{<:Real}, \u001b[90mx\u001b[39m::\u001b[1mVector\u001b[22m\u001b[0m{<:Real})\n",
       "\u001b[90m     @\u001b[39m \u001b[90mC:\\Users\\arie\\OneDrive - University of Pittsburgh\\Documents\\Bounds.jl\\Bounds.jl\\src\\\u001b[39m\u001b[90m\u001b[4msetBLP.jl:199\u001b[24m\u001b[39m\n",
       " [2] projection(\u001b[90myl\u001b[39m::\u001b[1mVector\u001b[22m\u001b[0m{<:Real}, \u001b[90myu\u001b[39m::\u001b[1mVector\u001b[22m\u001b[0m{<:Real}, \u001b[90mx\u001b[39m::\u001b[1mMatrix\u001b[22m\u001b[0m{<:Real})\n",
       "\u001b[90m     @\u001b[39m \u001b[90mC:\\Users\\arie\\OneDrive - University of Pittsburgh\\Documents\\Bounds.jl\\Bounds.jl\\src\\\u001b[39m\u001b[90m\u001b[4msetBLP.jl:240\u001b[24m\u001b[39m\n",
       " [3] projection(\u001b[90myl\u001b[39m::\u001b[1mVector\u001b[22m\u001b[0m{<:Real}, \u001b[90myu\u001b[39m::\u001b[1mVector\u001b[22m\u001b[0m{<:Real}, \u001b[90mx\u001b[39m::\u001b[1mMatrix\u001b[22m\u001b[0m{<:Real}, \u001b[90mcord\u001b[39m::\u001b[1mInt64\u001b[22m)\n",
       "\u001b[90m     @\u001b[39m \u001b[90mC:\\Users\\arie\\OneDrive - University of Pittsburgh\\Documents\\Bounds.jl\\Bounds.jl\\src\\\u001b[39m\u001b[90m\u001b[4msetBLP.jl:210\u001b[24m\u001b[39m\n",
       " [4] projection(\u001b[90myl\u001b[39m::\u001b[1mVector\u001b[22m\u001b[0m{<:Real}, \u001b[90myu\u001b[39m::\u001b[1mVector\u001b[22m\u001b[0m{<:Real}, \u001b[90mx\u001b[39m::\u001b[1mMatrix\u001b[22m\u001b[0m{<:Real}, \u001b[90mcords\u001b[39m::\u001b[1mVector\u001b[22m\u001b[0m{Int64})\n",
       "\u001b[90m     @\u001b[39m \u001b[90mC:\\Users\\arie\\OneDrive - University of Pittsburgh\\Documents\\Bounds.jl\\Bounds.jl\\src\\\u001b[39m\u001b[90m\u001b[4msetBLP.jl:223\u001b[24m\u001b[39m\n",
       " [5] projection(\u001b[90mdf\u001b[39m::\u001b[1mDataFrame\u001b[22m, \u001b[90myl\u001b[39m::\u001b[1mSymbol\u001b[22m, \u001b[90myu\u001b[39m::\u001b[1mSymbol\u001b[22m, \u001b[90mx\u001b[39m::\u001b[1mSymbol\u001b[22m)\n",
       "\u001b[90m     @\u001b[39m \u001b[90mC:\\Users\\arie\\OneDrive - University of Pittsburgh\\Documents\\Bounds.jl\\Bounds.jl\\src\\\u001b[39m\u001b[90m\u001b[4msetBLP.jl:258\u001b[24m\u001b[39m\n",
       " [6] projection(\u001b[90mdf\u001b[39m::\u001b[1mDataFrame\u001b[22m, \u001b[90myl\u001b[39m::\u001b[1mSymbol\u001b[22m, \u001b[90myu\u001b[39m::\u001b[1mSymbol\u001b[22m, \u001b[90mx\u001b[39m::\u001b[1mVector\u001b[22m\u001b[0m{Symbol})\n",
       "\u001b[90m     @\u001b[39m \u001b[90mC:\\Users\\arie\\OneDrive - University of Pittsburgh\\Documents\\Bounds.jl\\Bounds.jl\\src\\\u001b[39m\u001b[90m\u001b[4msetBLP.jl:266\u001b[24m\u001b[39m\n",
       " [7] projection(\u001b[90mdf\u001b[39m::\u001b[1mDataFrame\u001b[22m, \u001b[90myl\u001b[39m::\u001b[1mSymbol\u001b[22m, \u001b[90myu\u001b[39m::\u001b[1mSymbol\u001b[22m, \u001b[90mx\u001b[39m::\u001b[1mVector\u001b[22m\u001b[0m{Symbol}, \u001b[90mcord\u001b[39m::\u001b[1mInt64\u001b[22m)\n",
       "\u001b[90m     @\u001b[39m \u001b[90mC:\\Users\\arie\\OneDrive - University of Pittsburgh\\Documents\\Bounds.jl\\Bounds.jl\\src\\\u001b[39m\u001b[90m\u001b[4msetBLP.jl:274\u001b[24m\u001b[39m"
      ]
     },
     "execution_count": 16,
     "metadata": {},
     "output_type": "execute_result"
    }
   ],
   "source": [
    "methods(projection)"
   ]
  },
  {
   "cell_type": "code",
   "execution_count": 17,
   "metadata": {},
   "outputs": [
    {
     "name": "stdout",
     "output_type": "stream",
     "text": [
      "Options:\n",
      "  Number of MC iterations: 2000\n",
      "  Seed: 15217\n",
      "  Random Number Generator: Random.MersenneTwister(0x276f842bf45eeee35ef489af6f9c2ee5)\n",
      "  Confidence level: 0.95\n"
     ]
    }
   ],
   "source": [
    "show(default_options)"
   ]
  },
  {
   "cell_type": "markdown",
   "metadata": {},
   "source": [
    "### 1. Testing the vector/matrix functions"
   ]
  },
  {
   "cell_type": "code",
   "execution_count": 18,
   "metadata": {},
   "outputs": [],
   "source": [
    "# Preparing vector and matrix versions of the data\n",
    "\n",
    "yl = cps.logwage_lower;\n",
    "yu = cps.logwage_upper;\n",
    "x1 = cps.age;\n",
    "x2 = cps.educ_num;\n",
    "x = [x1 x2];"
   ]
  },
  {
   "cell_type": "code",
   "execution_count": 19,
   "metadata": {},
   "outputs": [],
   "source": [
    "#projection(yl,yu,x1)"
   ]
  },
  {
   "cell_type": "code",
   "execution_count": 20,
   "metadata": {},
   "outputs": [],
   "source": [
    "#projection(yl,yu,x1)"
   ]
  },
  {
   "cell_type": "code",
   "execution_count": 21,
   "metadata": {},
   "outputs": [
    {
     "data": {
      "text/plain": [
       "1×2 Matrix{Float64}:\n",
       " -0.00905178  0.144324"
      ]
     },
     "execution_count": 21,
     "metadata": {},
     "output_type": "execute_result"
    }
   ],
   "source": [
    "projection(yl,yu,x,1)"
   ]
  },
  {
   "cell_type": "code",
   "execution_count": 22,
   "metadata": {},
   "outputs": [],
   "source": [
    "#projection(yl,yu,x,2)"
   ]
  },
  {
   "cell_type": "code",
   "execution_count": 23,
   "metadata": {},
   "outputs": [],
   "source": [
    "#projection(yl,yu,x)"
   ]
  },
  {
   "cell_type": "markdown",
   "metadata": {},
   "source": [
    "### 2. Testing the Dataframe version of the functions"
   ]
  },
  {
   "cell_type": "code",
   "execution_count": 24,
   "metadata": {},
   "outputs": [
    {
     "data": {
      "text/plain": [
       "1×2 Matrix{Float64}:\n",
       " -0.00488786  0.14866"
      ]
     },
     "execution_count": 24,
     "metadata": {},
     "output_type": "execute_result"
    }
   ],
   "source": [
    "projection(cps,:logwage_lower,:logwage_upper,:age)"
   ]
  },
  {
   "cell_type": "code",
   "execution_count": 25,
   "metadata": {},
   "outputs": [],
   "source": [
    "#projection(cps,:logwage_lower,:logwage_upper,:educ_num)"
   ]
  },
  {
   "cell_type": "code",
   "execution_count": 26,
   "metadata": {},
   "outputs": [],
   "source": [
    "#projection(cps,:logwage_lower,:logwage_upper,[:age,:educ_num],1)"
   ]
  },
  {
   "cell_type": "code",
   "execution_count": 27,
   "metadata": {},
   "outputs": [],
   "source": [
    "#projection(cps,:logwage_lower,:logwage_upper,[:age,:educ_num],2)"
   ]
  },
  {
   "cell_type": "code",
   "execution_count": 28,
   "metadata": {},
   "outputs": [],
   "source": [
    "#projection(cps,:logwage_lower,:logwage_upper,[:age,:educ_num])"
   ]
  },
  {
   "cell_type": "markdown",
   "metadata": {},
   "source": [
    "## Testing oneDproj function"
   ]
  },
  {
   "cell_type": "code",
   "execution_count": 29,
   "metadata": {},
   "outputs": [
    {
     "name": "stdout",
     "output_type": "stream",
     "text": [
      "Results: \n",
      "  Null: [0.0, 0.15]\n",
      "  Bound: [-0.0049, 0.1487]\n",
      "  Hausdorff based test: \n",
      "    Test Stat: 0.7367\n",
      "    Critical Value: 0.7381\n",
      "    Confidence Interval: [-0.0098, 0.1536]\n",
      "  directed Hausdorff test: \n",
      "    Test Stat: 0.202\n",
      "    Critical Value: 0.5927\n",
      "    Confidence Interval: [-0.0088, 0.1526]\n"
     ]
    }
   ],
   "source": [
    "res = oneDproj(yl,yu,float.(x1);CI=true,H0=[0, 0.15]);\n",
    "show(res)"
   ]
  },
  {
   "cell_type": "code",
   "execution_count": 30,
   "metadata": {},
   "outputs": [
    {
     "name": "stdout",
     "output_type": "stream",
     "text": [
      "Results: \n",
      "  Null: [0.1, 0.15]\n",
      "  Bound: [-0.0049, 0.1487]\n",
      "  Hausdorff based test: \n",
      "    Test Stat: 15.8082\n",
      "    Critical Value: 0.7366\n",
      "    Confidence Interval: [-0.0098, 0.1535]\n",
      "  directed Hausdorff test: \n",
      "    Test Stat: 0.202\n",
      "    Critical Value: 0.602\n",
      "    Confidence Interval: [-0.0089, 0.1527]\n"
     ]
    }
   ],
   "source": [
    "res = oneDproj(yl,yu,float.(x1);CI=true,H0=[0.1,0.15]);\n",
    "show(res)"
   ]
  },
  {
   "cell_type": "code",
   "execution_count": 31,
   "metadata": {},
   "outputs": [
    {
     "name": "stdout",
     "output_type": "stream",
     "text": [
      "Results: \n",
      "  Null: [0.0, 0.1]\n",
      "  Bound: [-0.0049, 0.1487]\n",
      "  Hausdorff based test: \n",
      "    Test Stat: 7.3337\n",
      "    Critical Value: 0.7323\n",
      "    Confidence Interval: [-0.0097, 0.1535]\n",
      "  directed Hausdorff test: \n",
      "    Test Stat: 0.0\n",
      "    Critical Value: 0.6049\n",
      "    Confidence Interval: [-0.0089, 0.1527]\n"
     ]
    }
   ],
   "source": [
    "res = oneDproj(yl,yu,float.(x1);CI=true,H0=[0.0,0.1]);\n",
    "show(res)"
   ]
  },
  {
   "cell_type": "code",
   "execution_count": 32,
   "metadata": {},
   "outputs": [
    {
     "name": "stdout",
     "output_type": "stream",
     "text": [
      "Results: \n",
      "  Null: [-0.1, 0.15]\n",
      "  Bound: [-0.0049, 0.1487]\n",
      "  Hausdorff based test: \n",
      "    Test Stat: 14.3348\n",
      "    Critical Value: 0.7238\n",
      "    Confidence Interval: [-0.0097, 0.1535]\n",
      "  directed Hausdorff test: \n",
      "    Test Stat: 14.3348\n",
      "    Critical Value: 0.6202\n",
      "    Confidence Interval: [-0.009, 0.1528]\n"
     ]
    }
   ],
   "source": [
    "res = oneDproj(yl,yu,float.(x1);CI=true,H0=[-0.1,0.15]);\n",
    "show(res)"
   ]
  },
  {
   "cell_type": "code",
   "execution_count": 33,
   "metadata": {},
   "outputs": [
    {
     "data": {
      "text/plain": [
       "Results([-0.004887858329799178, 0.14865963017399053], nothing, nothing, nothing)"
      ]
     },
     "execution_count": 33,
     "metadata": {},
     "output_type": "execute_result"
    }
   ],
   "source": [
    "res = oneDproj(yl,yu,float.(x1);CI=false,H0=nothing)"
   ]
  },
  {
   "cell_type": "code",
   "execution_count": 34,
   "metadata": {},
   "outputs": [
    {
     "data": {
      "text/plain": [
       "Results([-0.004887858329799178, 0.14865963017399053], nothing, TestResults([-0.009667461828362695, 0.15343923367255405], 0.7203577632975591, nothing), TestResults([-0.009150201043119694, 0.15292197288731105], 0.6423988233120197, nothing))"
      ]
     },
     "execution_count": 34,
     "metadata": {},
     "output_type": "execute_result"
    }
   ],
   "source": [
    "res = oneDproj(yl,yu,real.(x1))"
   ]
  },
  {
   "cell_type": "code",
   "execution_count": 35,
   "metadata": {},
   "outputs": [
    {
     "data": {
      "text/plain": [
       "Results([0.001786042221944126, 0.3685793555817362], nothing, TestResults([-0.015271921445293093, 0.38563731924897343], 2.5708903588833407, nothing), TestResults([-0.012312504202308274, 0.3826779020059886], 2.1248618993131094, nothing))"
      ]
     },
     "execution_count": 35,
     "metadata": {},
     "output_type": "execute_result"
    }
   ],
   "source": [
    "res = oneDproj(cps,:logwage_lower,:logwage_upper,:educ_num)"
   ]
  },
  {
   "cell_type": "markdown",
   "metadata": {},
   "source": [
    "### Plotting"
   ]
  },
  {
   "cell_type": "code",
   "execution_count": 36,
   "metadata": {},
   "outputs": [
    {
     "data": {
      "image/png": "[encoded data removed]",
      "image/svg+xml": [
       "<?xml version=\"1.0\" encoding=\"utf-8\"?>\n",
       "<svg xmlns=\"http://www.w3.org/2000/svg\" xmlns:xlink=\"http://www.w3.org/1999/xlink\" width=\"600\" height=\"120\" viewBox=\"0 0 2400 480\">\n",
       "<defs>\n",
       "  <clipPath id=\"clip490\">\n",
       "    <rect x=\"0\" y=\"0\" width=\"2400\" height=\"480\"/>\n",
       "  </clipPath>\n",
       "</defs>\n",
       "<path clip-path=\"url(#clip490)\" d=\"M0 480 L2400 480 L2400 0 L0 0  Z\" fill=\"#ffffff\" fill-rule=\"evenodd\" fill-opacity=\"1\"/>\n",
       "<defs>\n",
       "  <clipPath id=\"clip491\">\n",
       "    <rect x=\"480\" y=\"0\" width=\"1681\" height=\"480\"/>\n",
       "  </clipPath>\n",
       "</defs>\n",
       "<path clip-path=\"url(#clip490)\" d=\"M223.45 401.84 L2352.76 401.84 L2352.76 47.2441 L223.45 47.2441  Z\" fill=\"#ffffff\" fill-rule=\"evenodd\" fill-opacity=\"1\"/>\n",
       "<defs>\n",
       "  <clipPath id=\"clip492\">\n",
       "    <rect x=\"223\" y=\"47\" width=\"2130\" height=\"356\"/>\n",
       "  </clipPath>\n",
       "</defs>\n",
       "<polyline clip-path=\"url(#clip492)\" style=\"stroke:#000000; stroke-linecap:round; stroke-linejoin:round; stroke-width:2; stroke-opacity:0.1; fill:none\" points=\"468.485,401.84 468.485,47.2441 \"/>\n",
       "<polyline clip-path=\"url(#clip492)\" style=\"stroke:#000000; stroke-linecap:round; stroke-linejoin:round; stroke-width:2; stroke-opacity:0.1; fill:none\" points=\"911.085,401.84 911.085,47.2441 \"/>\n",
       "<polyline clip-path=\"url(#clip492)\" style=\"stroke:#000000; stroke-linecap:round; stroke-linejoin:round; stroke-width:2; stroke-opacity:0.1; fill:none\" points=\"1353.68,401.84 1353.68,47.2441 \"/>\n",
       "<polyline clip-path=\"url(#clip492)\" style=\"stroke:#000000; stroke-linecap:round; stroke-linejoin:round; stroke-width:2; stroke-opacity:0.1; fill:none\" points=\"1796.28,401.84 1796.28,47.2441 \"/>\n",
       "<polyline clip-path=\"url(#clip492)\" style=\"stroke:#000000; stroke-linecap:round; stroke-linejoin:round; stroke-width:2; stroke-opacity:0.1; fill:none\" points=\"2238.88,401.84 2238.88,47.2441 \"/>\n",
       "<polyline clip-path=\"url(#clip490)\" style=\"stroke:#000000; stroke-linecap:round; stroke-linejoin:round; stroke-width:4; stroke-opacity:1; fill:none\" points=\"223.45,401.84 2352.76,401.84 \"/>\n",
       "<polyline clip-path=\"url(#clip490)\" style=\"stroke:#000000; stroke-linecap:round; stroke-linejoin:round; stroke-width:4; stroke-opacity:1; fill:none\" points=\"468.485,401.84 468.485,382.942 \"/>\n",
       "<polyline clip-path=\"url(#clip490)\" style=\"stroke:#000000; stroke-linecap:round; stroke-linejoin:round; stroke-width:4; stroke-opacity:1; fill:none\" points=\"911.085,401.84 911.085,382.942 \"/>\n",
       "<polyline clip-path=\"url(#clip490)\" style=\"stroke:#000000; stroke-linecap:round; stroke-linejoin:round; stroke-width:4; stroke-opacity:1; fill:none\" points=\"1353.68,401.84 1353.68,382.942 \"/>\n",
       "<polyline clip-path=\"url(#clip490)\" style=\"stroke:#000000; stroke-linecap:round; stroke-linejoin:round; stroke-width:4; stroke-opacity:1; fill:none\" points=\"1796.28,401.84 1796.28,382.942 \"/>\n",
       "<polyline clip-path=\"url(#clip490)\" style=\"stroke:#000000; stroke-linecap:round; stroke-linejoin:round; stroke-width:4; stroke-opacity:1; fill:none\" points=\"2238.88,401.84 2238.88,382.942 \"/>\n",
       "<path clip-path=\"url(#clip490)\" d=\"M445.87 432.759 Q442.259 432.759 440.43 436.323 Q438.624 439.865 438.624 446.995 Q438.624 454.101 440.43 457.666 Q442.259 461.207 445.87 461.207 Q449.504 461.207 451.31 457.666 Q453.138 454.101 453.138 446.995 Q453.138 439.865 451.31 436.323 Q449.504 432.759 445.87 432.759 M445.87 429.055 Q451.68 429.055 454.735 433.661 Q457.814 438.245 457.814 446.995 Q457.814 455.721 454.735 460.328 Q451.68 464.911 445.87 464.911 Q440.06 464.911 436.981 460.328 Q433.925 455.721 433.925 446.995 Q433.925 438.245 436.981 433.661 Q440.06 429.055 445.87 429.055 Z\" fill=\"#000000\" fill-rule=\"nonzero\" fill-opacity=\"1\" /><path clip-path=\"url(#clip490)\" d=\"M466.032 458.36 L470.916 458.36 L470.916 464.24 L466.032 464.24 L466.032 458.36 Z\" fill=\"#000000\" fill-rule=\"nonzero\" fill-opacity=\"1\" /><path clip-path=\"url(#clip490)\" d=\"M491.101 432.759 Q487.49 432.759 485.661 436.323 Q483.856 439.865 483.856 446.995 Q483.856 454.101 485.661 457.666 Q487.49 461.207 491.101 461.207 Q494.735 461.207 496.541 457.666 Q498.369 454.101 498.369 446.995 Q498.369 439.865 496.541 436.323 Q494.735 432.759 491.101 432.759 M491.101 429.055 Q496.911 429.055 499.967 433.661 Q503.045 438.245 503.045 446.995 Q503.045 455.721 499.967 460.328 Q496.911 464.911 491.101 464.911 Q485.291 464.911 482.212 460.328 Q479.157 455.721 479.157 446.995 Q479.157 438.245 482.212 433.661 Q485.291 429.055 491.101 429.055 Z\" fill=\"#000000\" fill-rule=\"nonzero\" fill-opacity=\"1\" /><path clip-path=\"url(#clip490)\" d=\"M889.083 432.759 Q885.471 432.759 883.643 436.323 Q881.837 439.865 881.837 446.995 Q881.837 454.101 883.643 457.666 Q885.471 461.207 889.083 461.207 Q892.717 461.207 894.522 457.666 Q896.351 454.101 896.351 446.995 Q896.351 439.865 894.522 436.323 Q892.717 432.759 889.083 432.759 M889.083 429.055 Q894.893 429.055 897.948 433.661 Q901.027 438.245 901.027 446.995 Q901.027 455.721 897.948 460.328 Q894.893 464.911 889.083 464.911 Q883.272 464.911 880.194 460.328 Q877.138 455.721 877.138 446.995 Q877.138 438.245 880.194 433.661 Q883.272 429.055 889.083 429.055 Z\" fill=\"#000000\" fill-rule=\"nonzero\" fill-opacity=\"1\" /><path clip-path=\"url(#clip490)\" d=\"M909.244 458.36 L914.129 458.36 L914.129 464.24 L909.244 464.24 L909.244 458.36 Z\" fill=\"#000000\" fill-rule=\"nonzero\" fill-opacity=\"1\" /><path clip-path=\"url(#clip490)\" d=\"M925.124 460.305 L932.763 460.305 L932.763 433.939 L924.453 435.606 L924.453 431.347 L932.717 429.68 L937.392 429.68 L937.392 460.305 L945.031 460.305 L945.031 464.24 L925.124 464.24 L925.124 460.305 Z\" fill=\"#000000\" fill-rule=\"nonzero\" fill-opacity=\"1\" /><path clip-path=\"url(#clip490)\" d=\"M1331.87 432.759 Q1328.26 432.759 1326.43 436.323 Q1324.62 439.865 1324.62 446.995 Q1324.62 454.101 1326.43 457.666 Q1328.26 461.207 1331.87 461.207 Q1335.5 461.207 1337.31 457.666 Q1339.14 454.101 1339.14 446.995 Q1339.14 439.865 1337.31 436.323 Q1335.5 432.759 1331.87 432.759 M1331.87 429.055 Q1337.68 429.055 1340.73 433.661 Q1343.81 438.245 1343.81 446.995 Q1343.81 455.721 1340.73 460.328 Q1337.68 464.911 1331.87 464.911 Q1326.06 464.911 1322.98 460.328 Q1319.92 455.721 1319.92 446.995 Q1319.92 438.245 1322.98 433.661 Q1326.06 429.055 1331.87 429.055 Z\" fill=\"#000000\" fill-rule=\"nonzero\" fill-opacity=\"1\" /><path clip-path=\"url(#clip490)\" d=\"M1352.03 458.36 L1356.91 458.36 L1356.91 464.24 L1352.03 464.24 L1352.03 458.36 Z\" fill=\"#000000\" fill-rule=\"nonzero\" fill-opacity=\"1\" /><path clip-path=\"url(#clip490)\" d=\"M1371.13 460.305 L1387.45 460.305 L1387.45 464.24 L1365.5 464.24 L1365.5 460.305 Q1368.16 457.55 1372.75 452.92 Q1377.35 448.268 1378.53 446.925 Q1380.78 444.402 1381.66 442.666 Q1382.56 440.907 1382.56 439.217 Q1382.56 436.462 1380.62 434.726 Q1378.7 432.99 1375.59 432.99 Q1373.39 432.99 1370.94 433.754 Q1368.51 434.518 1365.73 436.069 L1365.73 431.347 Q1368.56 430.212 1371.01 429.634 Q1373.46 429.055 1375.5 429.055 Q1380.87 429.055 1384.07 431.74 Q1387.26 434.425 1387.26 438.916 Q1387.26 441.046 1386.45 442.967 Q1385.66 444.865 1383.56 447.458 Q1382.98 448.129 1379.88 451.346 Q1376.77 454.541 1371.13 460.305 Z\" fill=\"#000000\" fill-rule=\"nonzero\" fill-opacity=\"1\" /><path clip-path=\"url(#clip490)\" d=\"M1773.99 432.759 Q1770.38 432.759 1768.55 436.323 Q1766.75 439.865 1766.75 446.995 Q1766.75 454.101 1768.55 457.666 Q1770.38 461.207 1773.99 461.207 Q1777.63 461.207 1779.43 457.666 Q1781.26 454.101 1781.26 446.995 Q1781.26 439.865 1779.43 436.323 Q1777.63 432.759 1773.99 432.759 M1773.99 429.055 Q1779.8 429.055 1782.86 433.661 Q1785.94 438.245 1785.94 446.995 Q1785.94 455.721 1782.86 460.328 Q1779.8 464.911 1773.99 464.911 Q1768.18 464.911 1765.1 460.328 Q1762.05 455.721 1762.05 446.995 Q1762.05 438.245 1765.1 433.661 Q1768.18 429.055 1773.99 429.055 Z\" fill=\"#000000\" fill-rule=\"nonzero\" fill-opacity=\"1\" /><path clip-path=\"url(#clip490)\" d=\"M1794.15 458.36 L1799.04 458.36 L1799.04 464.24 L1794.15 464.24 L1794.15 458.36 Z\" fill=\"#000000\" fill-rule=\"nonzero\" fill-opacity=\"1\" /><path clip-path=\"url(#clip490)\" d=\"M1823.39 445.606 Q1826.75 446.323 1828.62 448.592 Q1830.52 450.86 1830.52 454.194 Q1830.52 459.309 1827 462.11 Q1823.48 464.911 1817 464.911 Q1814.83 464.911 1812.51 464.471 Q1810.22 464.055 1807.76 463.198 L1807.76 458.684 Q1809.71 459.819 1812.02 460.397 Q1814.34 460.976 1816.86 460.976 Q1821.26 460.976 1823.55 459.24 Q1825.87 457.504 1825.87 454.194 Q1825.87 451.138 1823.71 449.425 Q1821.58 447.689 1817.76 447.689 L1813.74 447.689 L1813.74 443.846 L1817.95 443.846 Q1821.4 443.846 1823.23 442.481 Q1825.06 441.092 1825.06 438.499 Q1825.06 435.837 1823.16 434.425 Q1821.28 432.99 1817.76 432.99 Q1815.84 432.99 1813.64 433.407 Q1811.45 433.823 1808.81 434.703 L1808.81 430.536 Q1811.47 429.796 1813.78 429.425 Q1816.12 429.055 1818.18 429.055 Q1823.51 429.055 1826.61 431.485 Q1829.71 433.893 1829.71 438.013 Q1829.71 440.884 1828.07 442.874 Q1826.42 444.842 1823.39 445.606 Z\" fill=\"#000000\" fill-rule=\"nonzero\" fill-opacity=\"1\" /><path clip-path=\"url(#clip490)\" d=\"M2216.02 432.759 Q2212.41 432.759 2210.58 436.323 Q2208.78 439.865 2208.78 446.995 Q2208.78 454.101 2210.58 457.666 Q2212.41 461.207 2216.02 461.207 Q2219.66 461.207 2221.46 457.666 Q2223.29 454.101 2223.29 446.995 Q2223.29 439.865 2221.46 436.323 Q2219.66 432.759 2216.02 432.759 M2216.02 429.055 Q2221.83 429.055 2224.89 433.661 Q2227.97 438.245 2227.97 446.995 Q2227.97 455.721 2224.89 460.328 Q2221.83 464.911 2216.02 464.911 Q2210.21 464.911 2207.14 460.328 Q2204.08 455.721 2204.08 446.995 Q2204.08 438.245 2207.14 433.661 Q2210.21 429.055 2216.02 429.055 Z\" fill=\"#000000\" fill-rule=\"nonzero\" fill-opacity=\"1\" /><path clip-path=\"url(#clip490)\" d=\"M2236.19 458.36 L2241.07 458.36 L2241.07 464.24 L2236.19 464.24 L2236.19 458.36 Z\" fill=\"#000000\" fill-rule=\"nonzero\" fill-opacity=\"1\" /><path clip-path=\"url(#clip490)\" d=\"M2264.1 433.754 L2252.3 452.203 L2264.1 452.203 L2264.1 433.754 M2262.88 429.68 L2268.76 429.68 L2268.76 452.203 L2273.69 452.203 L2273.69 456.092 L2268.76 456.092 L2268.76 464.24 L2264.1 464.24 L2264.1 456.092 L2248.5 456.092 L2248.5 451.578 L2262.88 429.68 Z\" fill=\"#000000\" fill-rule=\"nonzero\" fill-opacity=\"1\" /><polyline clip-path=\"url(#clip492)\" style=\"stroke:#000000; stroke-linecap:round; stroke-linejoin:round; stroke-width:2; stroke-opacity:0.1; fill:none\" points=\"223.45,357.515 2352.76,357.515 \"/>\n",
       "<polyline clip-path=\"url(#clip492)\" style=\"stroke:#000000; stroke-linecap:round; stroke-linejoin:round; stroke-width:2; stroke-opacity:0.1; fill:none\" points=\"223.45,313.191 2352.76,313.191 \"/>\n",
       "<polyline clip-path=\"url(#clip492)\" style=\"stroke:#000000; stroke-linecap:round; stroke-linejoin:round; stroke-width:2; stroke-opacity:0.1; fill:none\" points=\"223.45,268.866 2352.76,268.866 \"/>\n",
       "<polyline clip-path=\"url(#clip492)\" style=\"stroke:#000000; stroke-linecap:round; stroke-linejoin:round; stroke-width:2; stroke-opacity:0.1; fill:none\" points=\"223.45,224.542 2352.76,224.542 \"/>\n",
       "<polyline clip-path=\"url(#clip492)\" style=\"stroke:#000000; stroke-linecap:round; stroke-linejoin:round; stroke-width:2; stroke-opacity:0.1; fill:none\" points=\"223.45,180.218 2352.76,180.218 \"/>\n",
       "<polyline clip-path=\"url(#clip492)\" style=\"stroke:#000000; stroke-linecap:round; stroke-linejoin:round; stroke-width:2; stroke-opacity:0.1; fill:none\" points=\"223.45,135.893 2352.76,135.893 \"/>\n",
       "<polyline clip-path=\"url(#clip492)\" style=\"stroke:#000000; stroke-linecap:round; stroke-linejoin:round; stroke-width:2; stroke-opacity:0.1; fill:none\" points=\"223.45,91.5686 2352.76,91.5686 \"/>\n",
       "<line clip-path=\"url(#clip492)\" x1=\"400.892\" y1=\"308.866\" x2=\"400.892\" y2=\"228.866\" style=\"stroke:#ff0000; stroke-width:3.84; stroke-opacity:1\"/>\n",
       "<line clip-path=\"url(#clip492)\" x1=\"476.39\" y1=\"220.218\" x2=\"476.39\" y2=\"140.218\" style=\"stroke:#0000ff; stroke-width:3.84; stroke-opacity:1\"/>\n",
       "<line clip-path=\"url(#clip492)\" x1=\"2099.82\" y1=\"220.218\" x2=\"2099.82\" y2=\"140.218\" style=\"stroke:#0000ff; stroke-width:3.84; stroke-opacity:1\"/>\n",
       "<line clip-path=\"url(#clip492)\" x1=\"2175.31\" y1=\"308.866\" x2=\"2175.31\" y2=\"228.866\" style=\"stroke:#ff0000; stroke-width:3.84; stroke-opacity:1\"/>\n",
       "<polyline clip-path=\"url(#clip492)\" style=\"stroke:#0000ff; stroke-linecap:round; stroke-linejoin:round; stroke-width:4; stroke-opacity:1; fill:none\" points=\"476.39,180.218 2099.82,180.218 \"/>\n",
       "<polyline clip-path=\"url(#clip492)\" style=\"stroke:#ff0000; stroke-linecap:round; stroke-linejoin:round; stroke-width:4; stroke-opacity:1; fill:none\" points=\"400.892,268.866 2175.31,268.866 \"/>\n",
       "<path clip-path=\"url(#clip490)\" d=\"M357.719 66.7163 Q351.4 66.7163 348.199 72.9547 Q345.04 79.1525 345.04 91.6293 Q345.04 104.066 348.199 110.304 Q351.4 116.502 357.719 116.502 Q364.079 116.502 367.239 110.304 Q370.439 104.066 370.439 91.6293 Q370.439 79.1525 367.239 72.9547 Q364.079 66.7163 357.719 66.7163 M357.719 60.2348 Q367.887 60.2348 373.234 68.2961 Q378.622 76.3169 378.622 91.6293 Q378.622 106.901 373.234 114.963 Q367.887 122.983 357.719 122.983 Q347.551 122.983 342.164 114.963 Q336.816 106.901 336.816 91.6293 Q336.816 76.3169 342.164 68.2961 Q347.551 60.2348 357.719 60.2348 Z\" fill=\"#0000ff\" fill-rule=\"nonzero\" fill-opacity=\"1\" /><path clip-path=\"url(#clip490)\" d=\"M393.002 111.519 L401.55 111.519 L401.55 121.809 L393.002 121.809 L393.002 111.519 Z\" fill=\"#0000ff\" fill-rule=\"nonzero\" fill-opacity=\"1\" /><path clip-path=\"url(#clip490)\" d=\"M436.874 66.7163 Q430.554 66.7163 427.354 72.9547 Q424.194 79.1525 424.194 91.6293 Q424.194 104.066 427.354 110.304 Q430.554 116.502 436.874 116.502 Q443.234 116.502 446.393 110.304 Q449.594 104.066 449.594 91.6293 Q449.594 79.1525 446.393 72.9547 Q443.234 66.7163 436.874 66.7163 M436.874 60.2348 Q447.042 60.2348 452.389 68.2961 Q457.776 76.3169 457.776 91.6293 Q457.776 106.901 452.389 114.963 Q447.042 122.983 436.874 122.983 Q426.706 122.983 421.318 114.963 Q415.971 106.901 415.971 91.6293 Q415.971 76.3169 421.318 68.2961 Q426.706 60.2348 436.874 60.2348 Z\" fill=\"#0000ff\" fill-rule=\"nonzero\" fill-opacity=\"1\" /><path clip-path=\"url(#clip490)\" d=\"M489.657 66.7163 Q483.338 66.7163 480.137 72.9547 Q476.978 79.1525 476.978 91.6293 Q476.978 104.066 480.137 110.304 Q483.338 116.502 489.657 116.502 Q496.017 116.502 499.177 110.304 Q502.377 104.066 502.377 91.6293 Q502.377 79.1525 499.177 72.9547 Q496.017 66.7163 489.657 66.7163 M489.657 60.2348 Q499.825 60.2348 505.172 68.2961 Q510.56 76.3169 510.56 91.6293 Q510.56 106.901 505.172 114.963 Q499.825 122.983 489.657 122.983 Q479.489 122.983 474.102 114.963 Q468.754 106.901 468.754 91.6293 Q468.754 76.3169 474.102 68.2961 Q479.489 60.2348 489.657 60.2348 Z\" fill=\"#0000ff\" fill-rule=\"nonzero\" fill-opacity=\"1\" /><path clip-path=\"url(#clip490)\" d=\"M526.358 114.922 L539.726 114.922 L539.726 68.7822 L525.183 71.6989 L525.183 64.2452 L539.645 61.3286 L547.828 61.3286 L547.828 114.922 L561.196 114.922 L561.196 121.809 L526.358 121.809 L526.358 114.922 Z\" fill=\"#0000ff\" fill-rule=\"nonzero\" fill-opacity=\"1\" /><path clip-path=\"url(#clip490)\" d=\"M595.224 93.0877 Q589.39 93.0877 586.028 96.2069 Q582.706 99.326 582.706 104.795 Q582.706 110.263 586.028 113.383 Q589.39 116.502 595.224 116.502 Q601.057 116.502 604.419 113.383 Q607.781 110.223 607.781 104.795 Q607.781 99.326 604.419 96.2069 Q601.097 93.0877 595.224 93.0877 M587.041 89.6039 Q581.775 88.3076 578.817 84.7023 Q575.901 81.097 575.901 75.9118 Q575.901 68.6607 581.045 64.4478 Q586.231 60.2348 595.224 60.2348 Q604.257 60.2348 609.402 64.4478 Q614.546 68.6607 614.546 75.9118 Q614.546 81.097 611.589 84.7023 Q608.673 88.3076 603.447 89.6039 Q609.361 90.9812 612.643 94.9916 Q615.964 99.002 615.964 104.795 Q615.964 113.585 610.577 118.284 Q605.229 122.983 595.224 122.983 Q585.218 122.983 579.83 118.284 Q574.483 113.585 574.483 104.795 Q574.483 99.002 577.805 94.9916 Q581.126 90.9812 587.041 89.6039 M584.043 76.6815 Q584.043 81.3805 586.96 84.0136 Q589.917 86.6467 595.224 86.6467 Q600.49 86.6467 603.447 84.0136 Q606.445 81.3805 606.445 76.6815 Q606.445 71.9824 603.447 69.3494 Q600.49 66.7163 595.224 66.7163 Q589.917 66.7163 586.96 69.3494 Q584.043 71.9824 584.043 76.6815 Z\" fill=\"#0000ff\" fill-rule=\"nonzero\" fill-opacity=\"1\" /><path clip-path=\"url(#clip490)\" d=\"M1980.92 66.7163 Q1974.6 66.7163 1971.4 72.9547 Q1968.24 79.1525 1968.24 91.6293 Q1968.24 104.066 1971.4 110.304 Q1974.6 116.502 1980.92 116.502 Q1987.28 116.502 1990.44 110.304 Q1993.64 104.066 1993.64 91.6293 Q1993.64 79.1525 1990.44 72.9547 Q1987.28 66.7163 1980.92 66.7163 M1980.92 60.2348 Q1991.09 60.2348 1996.44 68.2961 Q2001.82 76.3169 2001.82 91.6293 Q2001.82 106.901 1996.44 114.963 Q1991.09 122.983 1980.92 122.983 Q1970.75 122.983 1965.37 114.963 Q1960.02 106.901 1960.02 91.6293 Q1960.02 76.3169 1965.37 68.2961 Q1970.75 60.2348 1980.92 60.2348 Z\" fill=\"#0000ff\" fill-rule=\"nonzero\" fill-opacity=\"1\" /><path clip-path=\"url(#clip490)\" d=\"M2016.2 111.519 L2024.75 111.519 L2024.75 121.809 L2016.2 121.809 L2016.2 111.519 Z\" fill=\"#0000ff\" fill-rule=\"nonzero\" fill-opacity=\"1\" /><path clip-path=\"url(#clip490)\" d=\"M2067.37 89.1988 Q2073.24 90.4546 2076.52 94.4245 Q2079.84 98.3943 2079.84 104.228 Q2079.84 113.18 2073.69 118.082 Q2067.53 122.983 2056.19 122.983 Q2052.38 122.983 2048.33 122.214 Q2044.32 121.484 2040.02 119.986 L2040.02 112.086 Q2043.43 114.071 2047.48 115.084 Q2051.53 116.097 2055.94 116.097 Q2063.64 116.097 2067.65 113.059 Q2071.7 110.02 2071.7 104.228 Q2071.7 98.8804 2067.93 95.8828 Q2064.21 92.8446 2057.52 92.8446 L2050.48 92.8446 L2050.48 86.1201 L2057.85 86.1201 Q2063.88 86.1201 2067.08 83.7301 Q2070.28 81.2995 2070.28 76.7625 Q2070.28 72.104 2066.96 69.6329 Q2063.68 67.1214 2057.52 67.1214 Q2054.16 67.1214 2050.31 67.8505 Q2046.46 68.5797 2041.85 70.119 L2041.85 62.8274 Q2046.51 61.5311 2050.56 60.883 Q2054.65 60.2348 2058.25 60.2348 Q2067.57 60.2348 2073 64.4883 Q2078.43 68.7012 2078.43 75.9118 Q2078.43 80.9349 2075.55 84.4187 Q2072.67 87.862 2067.37 89.1988 Z\" fill=\"#0000ff\" fill-rule=\"nonzero\" fill-opacity=\"1\" /><path clip-path=\"url(#clip490)\" d=\"M2113.87 88.3076 Q2108.36 88.3076 2105.12 92.0749 Q2101.92 95.8423 2101.92 102.405 Q2101.92 108.927 2105.12 112.735 Q2108.36 116.502 2113.87 116.502 Q2119.38 116.502 2122.58 112.735 Q2125.82 108.927 2125.82 102.405 Q2125.82 95.8423 2122.58 92.0749 Q2119.38 88.3076 2113.87 88.3076 M2130.12 62.6654 L2130.12 70.119 Q2127.04 68.6607 2123.88 67.891 Q2120.76 67.1214 2117.68 67.1214 Q2109.58 67.1214 2105.28 72.5901 Q2101.03 78.0588 2100.42 89.1178 Q2102.81 85.5935 2106.42 83.7301 Q2110.02 81.8261 2114.36 81.8261 Q2123.47 81.8261 2128.74 87.3759 Q2134.05 92.8851 2134.05 102.405 Q2134.05 111.722 2128.54 117.353 Q2123.03 122.983 2113.87 122.983 Q2103.38 122.983 2097.83 114.963 Q2092.28 106.901 2092.28 91.6293 Q2092.28 77.2891 2099.09 68.7822 Q2105.89 60.2348 2117.36 60.2348 Q2120.43 60.2348 2123.55 60.8425 Q2126.71 61.4501 2130.12 62.6654 Z\" fill=\"#0000ff\" fill-rule=\"nonzero\" fill-opacity=\"1\" /><path clip-path=\"url(#clip490)\" d=\"M2165.64 93.0877 Q2159.81 93.0877 2156.45 96.2069 Q2153.13 99.326 2153.13 104.795 Q2153.13 110.263 2156.45 113.383 Q2159.81 116.502 2165.64 116.502 Q2171.48 116.502 2174.84 113.383 Q2178.2 110.223 2178.2 104.795 Q2178.2 99.326 2174.84 96.2069 Q2171.52 93.0877 2165.64 93.0877 M2157.46 89.6039 Q2152.19 88.3076 2149.24 84.7023 Q2146.32 81.097 2146.32 75.9118 Q2146.32 68.6607 2151.46 64.4478 Q2156.65 60.2348 2165.64 60.2348 Q2174.68 60.2348 2179.82 64.4478 Q2184.97 68.6607 2184.97 75.9118 Q2184.97 81.097 2182.01 84.7023 Q2179.09 88.3076 2173.87 89.6039 Q2179.78 90.9812 2183.06 94.9916 Q2186.38 99.002 2186.38 104.795 Q2186.38 113.585 2181 118.284 Q2175.65 122.983 2165.64 122.983 Q2155.64 122.983 2150.25 118.284 Q2144.9 113.585 2144.9 104.795 Q2144.9 99.002 2148.22 94.9916 Q2151.55 90.9812 2157.46 89.6039 M2154.46 76.6815 Q2154.46 81.3805 2157.38 84.0136 Q2160.34 86.6467 2165.64 86.6467 Q2170.91 86.6467 2173.87 84.0136 Q2176.86 81.3805 2176.86 76.6815 Q2176.86 71.9824 2173.87 69.3494 Q2170.91 66.7163 2165.64 66.7163 Q2160.34 66.7163 2157.38 69.3494 Q2154.46 71.9824 2154.46 76.6815 Z\" fill=\"#0000ff\" fill-rule=\"nonzero\" fill-opacity=\"1\" /><path clip-path=\"url(#clip490)\" d=\"M2219.44 88.3076 Q2213.93 88.3076 2210.69 92.0749 Q2207.49 95.8423 2207.49 102.405 Q2207.49 108.927 2210.69 112.735 Q2213.93 116.502 2219.44 116.502 Q2224.95 116.502 2228.15 112.735 Q2231.39 108.927 2231.39 102.405 Q2231.39 95.8423 2228.15 92.0749 Q2224.95 88.3076 2219.44 88.3076 M2235.68 62.6654 L2235.68 70.119 Q2232.6 68.6607 2229.44 67.891 Q2226.33 67.1214 2223.25 67.1214 Q2215.14 67.1214 2210.85 72.5901 Q2206.6 78.0588 2205.99 89.1178 Q2208.38 85.5935 2211.98 83.7301 Q2215.59 81.8261 2219.92 81.8261 Q2229.04 81.8261 2234.31 87.3759 Q2239.61 92.8851 2239.61 102.405 Q2239.61 111.722 2234.1 117.353 Q2228.59 122.983 2219.44 122.983 Q2208.95 122.983 2203.4 114.963 Q2197.85 106.901 2197.85 91.6293 Q2197.85 77.2891 2204.65 68.7822 Q2211.46 60.2348 2222.92 60.2348 Q2226 60.2348 2229.12 60.8425 Q2232.28 61.4501 2235.68 62.6654 Z\" fill=\"#0000ff\" fill-rule=\"nonzero\" fill-opacity=\"1\" /><path clip-path=\"url(#clip490)\" d=\"M246.127 361.708 L267.961 361.708 L267.961 368.352 L246.127 368.352 L246.127 361.708 Z\" fill=\"#ff0000\" fill-rule=\"nonzero\" fill-opacity=\"1\" /><path clip-path=\"url(#clip490)\" d=\"M298.384 332.663 Q292.064 332.663 288.864 338.901 Q285.704 345.099 285.704 357.576 Q285.704 370.012 288.864 376.251 Q292.064 382.449 298.384 382.449 Q304.744 382.449 307.903 376.251 Q311.104 370.012 311.104 357.576 Q311.104 345.099 307.903 338.901 Q304.744 332.663 298.384 332.663 M298.384 326.182 Q308.552 326.182 313.899 334.243 Q319.286 342.264 319.286 357.576 Q319.286 372.848 313.899 380.909 Q308.552 388.93 298.384 388.93 Q288.216 388.93 282.828 380.909 Q277.481 372.848 277.481 357.576 Q277.481 342.264 282.828 334.243 Q288.216 326.182 298.384 326.182 Z\" fill=\"#ff0000\" fill-rule=\"nonzero\" fill-opacity=\"1\" /><path clip-path=\"url(#clip490)\" d=\"M333.667 377.466 L342.215 377.466 L342.215 387.755 L333.667 387.755 L333.667 377.466 Z\" fill=\"#ff0000\" fill-rule=\"nonzero\" fill-opacity=\"1\" /><path clip-path=\"url(#clip490)\" d=\"M377.538 332.663 Q371.219 332.663 368.019 338.901 Q364.859 345.099 364.859 357.576 Q364.859 370.012 368.019 376.251 Q371.219 382.449 377.538 382.449 Q383.898 382.449 387.058 376.251 Q390.258 370.012 390.258 357.576 Q390.258 345.099 387.058 338.901 Q383.898 332.663 377.538 332.663 M377.538 326.182 Q387.706 326.182 393.053 334.243 Q398.441 342.264 398.441 357.576 Q398.441 372.848 393.053 380.909 Q387.706 388.93 377.538 388.93 Q367.371 388.93 361.983 380.909 Q356.636 372.848 356.636 357.576 Q356.636 342.264 361.983 334.243 Q367.371 326.182 377.538 326.182 Z\" fill=\"#ff0000\" fill-rule=\"nonzero\" fill-opacity=\"1\" /><path clip-path=\"url(#clip490)\" d=\"M414.24 380.869 L427.608 380.869 L427.608 334.729 L413.065 337.646 L413.065 330.192 L427.527 327.275 L435.709 327.275 L435.709 380.869 L449.077 380.869 L449.077 387.755 L414.24 387.755 L414.24 380.869 Z\" fill=\"#ff0000\" fill-rule=\"nonzero\" fill-opacity=\"1\" /><path clip-path=\"url(#clip490)\" d=\"M465.686 327.275 L497.81 327.275 L497.81 334.162 L473.18 334.162 L473.18 348.988 Q474.963 348.381 476.745 348.097 Q478.527 347.773 480.31 347.773 Q490.437 347.773 496.351 353.323 Q502.266 358.872 502.266 368.352 Q502.266 378.114 496.189 383.542 Q490.113 388.93 479.054 388.93 Q475.246 388.93 471.276 388.282 Q467.347 387.634 463.134 386.338 L463.134 378.114 Q466.78 380.099 470.669 381.071 Q474.558 382.044 478.892 382.044 Q485.9 382.044 489.992 378.357 Q494.083 374.671 494.083 368.352 Q494.083 362.032 489.992 358.346 Q485.9 354.66 478.892 354.66 Q475.611 354.66 472.33 355.389 Q469.089 356.118 465.686 357.657 L465.686 327.275 Z\" fill=\"#ff0000\" fill-rule=\"nonzero\" fill-opacity=\"1\" /><path clip-path=\"url(#clip490)\" d=\"M543.18 355.146 Q549.054 356.401 552.335 360.371 Q555.657 364.341 555.657 370.174 Q555.657 379.127 549.499 384.029 Q543.342 388.93 531.999 388.93 Q528.192 388.93 524.141 388.16 Q520.13 387.431 515.836 385.932 L515.836 378.033 Q519.239 380.018 523.29 381.031 Q527.341 382.044 531.756 382.044 Q539.453 382.044 543.463 379.005 Q547.514 375.967 547.514 370.174 Q547.514 364.827 543.747 361.83 Q540.02 358.791 533.336 358.791 L526.288 358.791 L526.288 352.067 L533.66 352.067 Q539.696 352.067 542.896 349.677 Q546.097 347.246 546.097 342.709 Q546.097 338.051 542.775 335.58 Q539.494 333.068 533.336 333.068 Q529.974 333.068 526.126 333.797 Q522.277 334.527 517.659 336.066 L517.659 328.774 Q522.318 327.478 526.369 326.83 Q530.46 326.182 534.065 326.182 Q543.382 326.182 548.811 330.435 Q554.239 334.648 554.239 341.859 Q554.239 346.882 551.363 350.366 Q548.487 353.809 543.18 355.146 Z\" fill=\"#ff0000\" fill-rule=\"nonzero\" fill-opacity=\"1\" /><path clip-path=\"url(#clip490)\" d=\"M2056.42 332.663 Q2050.1 332.663 2046.9 338.901 Q2043.74 345.099 2043.74 357.576 Q2043.74 370.012 2046.9 376.251 Q2050.1 382.449 2056.42 382.449 Q2062.78 382.449 2065.94 376.251 Q2069.14 370.012 2069.14 357.576 Q2069.14 345.099 2065.94 338.901 Q2062.78 332.663 2056.42 332.663 M2056.42 326.182 Q2066.59 326.182 2071.93 334.243 Q2077.32 342.264 2077.32 357.576 Q2077.32 372.848 2071.93 380.909 Q2066.59 388.93 2056.42 388.93 Q2046.25 388.93 2040.86 380.909 Q2035.52 372.848 2035.52 357.576 Q2035.52 342.264 2040.86 334.243 Q2046.25 326.182 2056.42 326.182 Z\" fill=\"#ff0000\" fill-rule=\"nonzero\" fill-opacity=\"1\" /><path clip-path=\"url(#clip490)\" d=\"M2091.7 377.466 L2100.25 377.466 L2100.25 387.755 L2091.7 387.755 L2091.7 377.466 Z\" fill=\"#ff0000\" fill-rule=\"nonzero\" fill-opacity=\"1\" /><path clip-path=\"url(#clip490)\" d=\"M2142.87 355.146 Q2148.74 356.401 2152.02 360.371 Q2155.34 364.341 2155.34 370.174 Q2155.34 379.127 2149.19 384.029 Q2143.03 388.93 2131.69 388.93 Q2127.88 388.93 2123.83 388.16 Q2119.82 387.431 2115.52 385.932 L2115.52 378.033 Q2118.93 380.018 2122.98 381.031 Q2127.03 382.044 2131.44 382.044 Q2139.14 382.044 2143.15 379.005 Q2147.2 375.967 2147.2 370.174 Q2147.2 364.827 2143.43 361.83 Q2139.71 358.791 2133.02 358.791 L2125.97 358.791 L2125.97 352.067 L2133.35 352.067 Q2139.38 352.067 2142.58 349.677 Q2145.78 347.246 2145.78 342.709 Q2145.78 338.051 2142.46 335.58 Q2139.18 333.068 2133.02 333.068 Q2129.66 333.068 2125.81 333.797 Q2121.96 334.527 2117.35 336.066 L2117.35 328.774 Q2122 327.478 2126.05 326.83 Q2130.15 326.182 2133.75 326.182 Q2143.07 326.182 2148.5 330.435 Q2153.92 334.648 2153.92 341.859 Q2153.92 346.882 2151.05 350.366 Q2148.17 353.809 2142.87 355.146 Z\" fill=\"#ff0000\" fill-rule=\"nonzero\" fill-opacity=\"1\" /><path clip-path=\"url(#clip490)\" d=\"M2188.36 359.034 Q2182.52 359.034 2179.16 362.154 Q2175.84 365.273 2175.84 370.742 Q2175.84 376.21 2179.16 379.33 Q2182.52 382.449 2188.36 382.449 Q2194.19 382.449 2197.55 379.33 Q2200.92 376.17 2200.92 370.742 Q2200.92 365.273 2197.55 362.154 Q2194.23 359.034 2188.36 359.034 M2180.17 355.551 Q2174.91 354.254 2171.95 350.649 Q2169.03 347.044 2169.03 341.859 Q2169.03 334.608 2174.18 330.395 Q2179.36 326.182 2188.36 326.182 Q2197.39 326.182 2202.54 330.395 Q2207.68 334.608 2207.68 341.859 Q2207.68 347.044 2204.72 350.649 Q2201.81 354.254 2196.58 355.551 Q2202.5 356.928 2205.78 360.938 Q2209.1 364.949 2209.1 370.742 Q2209.1 379.532 2203.71 384.231 Q2198.36 388.93 2188.36 388.93 Q2178.35 388.93 2172.96 384.231 Q2167.62 379.532 2167.62 370.742 Q2167.62 364.949 2170.94 360.938 Q2174.26 356.928 2180.17 355.551 M2177.18 342.628 Q2177.18 347.327 2180.09 349.96 Q2183.05 352.594 2188.36 352.594 Q2193.62 352.594 2196.58 349.96 Q2199.58 347.327 2199.58 342.628 Q2199.58 337.929 2196.58 335.296 Q2193.62 332.663 2188.36 332.663 Q2183.05 332.663 2180.09 335.296 Q2177.18 337.929 2177.18 342.628 Z\" fill=\"#ff0000\" fill-rule=\"nonzero\" fill-opacity=\"1\" /><path clip-path=\"url(#clip490)\" d=\"M2223.72 327.275 L2255.85 327.275 L2255.85 334.162 L2231.22 334.162 L2231.22 348.988 Q2233 348.381 2234.78 348.097 Q2236.56 347.773 2238.35 347.773 Q2248.47 347.773 2254.39 353.323 Q2260.3 358.872 2260.3 368.352 Q2260.3 378.114 2254.23 383.542 Q2248.15 388.93 2237.09 388.93 Q2233.28 388.93 2229.31 388.282 Q2225.38 387.634 2221.17 386.338 L2221.17 378.114 Q2224.82 380.099 2228.7 381.071 Q2232.59 382.044 2236.93 382.044 Q2243.94 382.044 2248.03 378.357 Q2252.12 374.671 2252.12 368.352 Q2252.12 362.032 2248.03 358.346 Q2243.94 354.66 2236.93 354.66 Q2233.65 354.66 2230.37 355.389 Q2227.12 356.118 2223.72 357.657 L2223.72 327.275 Z\" fill=\"#ff0000\" fill-rule=\"nonzero\" fill-opacity=\"1\" /><path clip-path=\"url(#clip490)\" d=\"M2294.94 354.254 Q2289.43 354.254 2286.19 358.022 Q2282.99 361.789 2282.99 368.352 Q2282.99 374.874 2286.19 378.681 Q2289.43 382.449 2294.94 382.449 Q2300.45 382.449 2303.65 378.681 Q2306.89 374.874 2306.89 368.352 Q2306.89 361.789 2303.65 358.022 Q2300.45 354.254 2294.94 354.254 M2311.18 328.612 L2311.18 336.066 Q2308.1 334.608 2304.94 333.838 Q2301.82 333.068 2298.74 333.068 Q2290.64 333.068 2286.35 338.537 Q2282.1 344.006 2281.49 355.065 Q2283.88 351.54 2287.48 349.677 Q2291.09 347.773 2295.42 347.773 Q2304.54 347.773 2309.8 353.323 Q2315.11 358.832 2315.11 368.352 Q2315.11 377.669 2309.6 383.299 Q2304.09 388.93 2294.94 388.93 Q2284.45 388.93 2278.9 380.909 Q2273.35 372.848 2273.35 357.576 Q2273.35 343.236 2280.15 334.729 Q2286.96 326.182 2298.42 326.182 Q2301.5 326.182 2304.62 326.789 Q2307.78 327.397 2311.18 328.612 Z\" fill=\"#ff0000\" fill-rule=\"nonzero\" fill-opacity=\"1\" /></svg>\n"
      ],
      "text/html": [
       "<?xml version=\"1.0\" encoding=\"utf-8\"?>\n",
       "<svg xmlns=\"http://www.w3.org/2000/svg\" xmlns:xlink=\"http://www.w3.org/1999/xlink\" width=\"600\" height=\"120\" viewBox=\"0 0 2400 480\">\n",
       "<defs>\n",
       "  <clipPath id=\"clip540\">\n",
       "    <rect x=\"0\" y=\"0\" width=\"2400\" height=\"480\"/>\n",
       "  </clipPath>\n",
       "</defs>\n",
       "<path clip-path=\"url(#clip540)\" d=\"M0 480 L2400 480 L2400 0 L0 0  Z\" fill=\"#ffffff\" fill-rule=\"evenodd\" fill-opacity=\"1\"/>\n",
       "<defs>\n",
       "  <clipPath id=\"clip541\">\n",
       "    <rect x=\"480\" y=\"0\" width=\"1681\" height=\"480\"/>\n",
       "  </clipPath>\n",
       "</defs>\n",
       "<path clip-path=\"url(#clip540)\" d=\"M223.45 401.84 L2352.76 401.84 L2352.76 47.2441 L223.45 47.2441  Z\" fill=\"#ffffff\" fill-rule=\"evenodd\" fill-opacity=\"1\"/>\n",
       "<defs>\n",
       "  <clipPath id=\"clip542\">\n",
       "    <rect x=\"223\" y=\"47\" width=\"2130\" height=\"356\"/>\n",
       "  </clipPath>\n",
       "</defs>\n",
       "<polyline clip-path=\"url(#clip542)\" style=\"stroke:#000000; stroke-linecap:round; stroke-linejoin:round; stroke-width:2; stroke-opacity:0.1; fill:none\" points=\"468.485,401.84 468.485,47.2441 \"/>\n",
       "<polyline clip-path=\"url(#clip542)\" style=\"stroke:#000000; stroke-linecap:round; stroke-linejoin:round; stroke-width:2; stroke-opacity:0.1; fill:none\" points=\"911.085,401.84 911.085,47.2441 \"/>\n",
       "<polyline clip-path=\"url(#clip542)\" style=\"stroke:#000000; stroke-linecap:round; stroke-linejoin:round; stroke-width:2; stroke-opacity:0.1; fill:none\" points=\"1353.68,401.84 1353.68,47.2441 \"/>\n",
       "<polyline clip-path=\"url(#clip542)\" style=\"stroke:#000000; stroke-linecap:round; stroke-linejoin:round; stroke-width:2; stroke-opacity:0.1; fill:none\" points=\"1796.28,401.84 1796.28,47.2441 \"/>\n",
       "<polyline clip-path=\"url(#clip542)\" style=\"stroke:#000000; stroke-linecap:round; stroke-linejoin:round; stroke-width:2; stroke-opacity:0.1; fill:none\" points=\"2238.88,401.84 2238.88,47.2441 \"/>\n",
       "<polyline clip-path=\"url(#clip540)\" style=\"stroke:#000000; stroke-linecap:round; stroke-linejoin:round; stroke-width:4; stroke-opacity:1; fill:none\" points=\"223.45,401.84 2352.76,401.84 \"/>\n",
       "<polyline clip-path=\"url(#clip540)\" style=\"stroke:#000000; stroke-linecap:round; stroke-linejoin:round; stroke-width:4; stroke-opacity:1; fill:none\" points=\"468.485,401.84 468.485,382.942 \"/>\n",
       "<polyline clip-path=\"url(#clip540)\" style=\"stroke:#000000; stroke-linecap:round; stroke-linejoin:round; stroke-width:4; stroke-opacity:1; fill:none\" points=\"911.085,401.84 911.085,382.942 \"/>\n",
       "<polyline clip-path=\"url(#clip540)\" style=\"stroke:#000000; stroke-linecap:round; stroke-linejoin:round; stroke-width:4; stroke-opacity:1; fill:none\" points=\"1353.68,401.84 1353.68,382.942 \"/>\n",
       "<polyline clip-path=\"url(#clip540)\" style=\"stroke:#000000; stroke-linecap:round; stroke-linejoin:round; stroke-width:4; stroke-opacity:1; fill:none\" points=\"1796.28,401.84 1796.28,382.942 \"/>\n",
       "<polyline clip-path=\"url(#clip540)\" style=\"stroke:#000000; stroke-linecap:round; stroke-linejoin:round; stroke-width:4; stroke-opacity:1; fill:none\" points=\"2238.88,401.84 2238.88,382.942 \"/>\n",
       "<path clip-path=\"url(#clip540)\" d=\"M445.87 432.759 Q442.259 432.759 440.43 436.323 Q438.624 439.865 438.624 446.995 Q438.624 454.101 440.43 457.666 Q442.259 461.207 445.87 461.207 Q449.504 461.207 451.31 457.666 Q453.138 454.101 453.138 446.995 Q453.138 439.865 451.31 436.323 Q449.504 432.759 445.87 432.759 M445.87 429.055 Q451.68 429.055 454.735 433.661 Q457.814 438.245 457.814 446.995 Q457.814 455.721 454.735 460.328 Q451.68 464.911 445.87 464.911 Q440.06 464.911 436.981 460.328 Q433.925 455.721 433.925 446.995 Q433.925 438.245 436.981 433.661 Q440.06 429.055 445.87 429.055 Z\" fill=\"#000000\" fill-rule=\"nonzero\" fill-opacity=\"1\" /><path clip-path=\"url(#clip540)\" d=\"M466.032 458.36 L470.916 458.36 L470.916 464.24 L466.032 464.24 L466.032 458.36 Z\" fill=\"#000000\" fill-rule=\"nonzero\" fill-opacity=\"1\" /><path clip-path=\"url(#clip540)\" d=\"M491.101 432.759 Q487.49 432.759 485.661 436.323 Q483.856 439.865 483.856 446.995 Q483.856 454.101 485.661 457.666 Q487.49 461.207 491.101 461.207 Q494.735 461.207 496.541 457.666 Q498.369 454.101 498.369 446.995 Q498.369 439.865 496.541 436.323 Q494.735 432.759 491.101 432.759 M491.101 429.055 Q496.911 429.055 499.967 433.661 Q503.045 438.245 503.045 446.995 Q503.045 455.721 499.967 460.328 Q496.911 464.911 491.101 464.911 Q485.291 464.911 482.212 460.328 Q479.157 455.721 479.157 446.995 Q479.157 438.245 482.212 433.661 Q485.291 429.055 491.101 429.055 Z\" fill=\"#000000\" fill-rule=\"nonzero\" fill-opacity=\"1\" /><path clip-path=\"url(#clip540)\" d=\"M889.083 432.759 Q885.471 432.759 883.643 436.323 Q881.837 439.865 881.837 446.995 Q881.837 454.101 883.643 457.666 Q885.471 461.207 889.083 461.207 Q892.717 461.207 894.522 457.666 Q896.351 454.101 896.351 446.995 Q896.351 439.865 894.522 436.323 Q892.717 432.759 889.083 432.759 M889.083 429.055 Q894.893 429.055 897.948 433.661 Q901.027 438.245 901.027 446.995 Q901.027 455.721 897.948 460.328 Q894.893 464.911 889.083 464.911 Q883.272 464.911 880.194 460.328 Q877.138 455.721 877.138 446.995 Q877.138 438.245 880.194 433.661 Q883.272 429.055 889.083 429.055 Z\" fill=\"#000000\" fill-rule=\"nonzero\" fill-opacity=\"1\" /><path clip-path=\"url(#clip540)\" d=\"M909.244 458.36 L914.129 458.36 L914.129 464.24 L909.244 464.24 L909.244 458.36 Z\" fill=\"#000000\" fill-rule=\"nonzero\" fill-opacity=\"1\" /><path clip-path=\"url(#clip540)\" d=\"M925.124 460.305 L932.763 460.305 L932.763 433.939 L924.453 435.606 L924.453 431.347 L932.717 429.68 L937.392 429.68 L937.392 460.305 L945.031 460.305 L945.031 464.24 L925.124 464.24 L925.124 460.305 Z\" fill=\"#000000\" fill-rule=\"nonzero\" fill-opacity=\"1\" /><path clip-path=\"url(#clip540)\" d=\"M1331.87 432.759 Q1328.26 432.759 1326.43 436.323 Q1324.62 439.865 1324.62 446.995 Q1324.62 454.101 1326.43 457.666 Q1328.26 461.207 1331.87 461.207 Q1335.5 461.207 1337.31 457.666 Q1339.14 454.101 1339.14 446.995 Q1339.14 439.865 1337.31 436.323 Q1335.5 432.759 1331.87 432.759 M1331.87 429.055 Q1337.68 429.055 1340.73 433.661 Q1343.81 438.245 1343.81 446.995 Q1343.81 455.721 1340.73 460.328 Q1337.68 464.911 1331.87 464.911 Q1326.06 464.911 1322.98 460.328 Q1319.92 455.721 1319.92 446.995 Q1319.92 438.245 1322.98 433.661 Q1326.06 429.055 1331.87 429.055 Z\" fill=\"#000000\" fill-rule=\"nonzero\" fill-opacity=\"1\" /><path clip-path=\"url(#clip540)\" d=\"M1352.03 458.36 L1356.91 458.36 L1356.91 464.24 L1352.03 464.24 L1352.03 458.36 Z\" fill=\"#000000\" fill-rule=\"nonzero\" fill-opacity=\"1\" /><path clip-path=\"url(#clip540)\" d=\"M1371.13 460.305 L1387.45 460.305 L1387.45 464.24 L1365.5 464.24 L1365.5 460.305 Q1368.16 457.55 1372.75 452.92 Q1377.35 448.268 1378.53 446.925 Q1380.78 444.402 1381.66 442.666 Q1382.56 440.907 1382.56 439.217 Q1382.56 436.462 1380.62 434.726 Q1378.7 432.99 1375.59 432.99 Q1373.39 432.99 1370.94 433.754 Q1368.51 434.518 1365.73 436.069 L1365.73 431.347 Q1368.56 430.212 1371.01 429.634 Q1373.46 429.055 1375.5 429.055 Q1380.87 429.055 1384.07 431.74 Q1387.26 434.425 1387.26 438.916 Q1387.26 441.046 1386.45 442.967 Q1385.66 444.865 1383.56 447.458 Q1382.98 448.129 1379.88 451.346 Q1376.77 454.541 1371.13 460.305 Z\" fill=\"#000000\" fill-rule=\"nonzero\" fill-opacity=\"1\" /><path clip-path=\"url(#clip540)\" d=\"M1773.99 432.759 Q1770.38 432.759 1768.55 436.323 Q1766.75 439.865 1766.75 446.995 Q1766.75 454.101 1768.55 457.666 Q1770.38 461.207 1773.99 461.207 Q1777.63 461.207 1779.43 457.666 Q1781.26 454.101 1781.26 446.995 Q1781.26 439.865 1779.43 436.323 Q1777.63 432.759 1773.99 432.759 M1773.99 429.055 Q1779.8 429.055 1782.86 433.661 Q1785.94 438.245 1785.94 446.995 Q1785.94 455.721 1782.86 460.328 Q1779.8 464.911 1773.99 464.911 Q1768.18 464.911 1765.1 460.328 Q1762.05 455.721 1762.05 446.995 Q1762.05 438.245 1765.1 433.661 Q1768.18 429.055 1773.99 429.055 Z\" fill=\"#000000\" fill-rule=\"nonzero\" fill-opacity=\"1\" /><path clip-path=\"url(#clip540)\" d=\"M1794.15 458.36 L1799.04 458.36 L1799.04 464.24 L1794.15 464.24 L1794.15 458.36 Z\" fill=\"#000000\" fill-rule=\"nonzero\" fill-opacity=\"1\" /><path clip-path=\"url(#clip540)\" d=\"M1823.39 445.606 Q1826.75 446.323 1828.62 448.592 Q1830.52 450.86 1830.52 454.194 Q1830.52 459.309 1827 462.11 Q1823.48 464.911 1817 464.911 Q1814.83 464.911 1812.51 464.471 Q1810.22 464.055 1807.76 463.198 L1807.76 458.684 Q1809.71 459.819 1812.02 460.397 Q1814.34 460.976 1816.86 460.976 Q1821.26 460.976 1823.55 459.24 Q1825.87 457.504 1825.87 454.194 Q1825.87 451.138 1823.71 449.425 Q1821.58 447.689 1817.76 447.689 L1813.74 447.689 L1813.74 443.846 L1817.95 443.846 Q1821.4 443.846 1823.23 442.481 Q1825.06 441.092 1825.06 438.499 Q1825.06 435.837 1823.16 434.425 Q1821.28 432.99 1817.76 432.99 Q1815.84 432.99 1813.64 433.407 Q1811.45 433.823 1808.81 434.703 L1808.81 430.536 Q1811.47 429.796 1813.78 429.425 Q1816.12 429.055 1818.18 429.055 Q1823.51 429.055 1826.61 431.485 Q1829.71 433.893 1829.71 438.013 Q1829.71 440.884 1828.07 442.874 Q1826.42 444.842 1823.39 445.606 Z\" fill=\"#000000\" fill-rule=\"nonzero\" fill-opacity=\"1\" /><path clip-path=\"url(#clip540)\" d=\"M2216.02 432.759 Q2212.41 432.759 2210.58 436.323 Q2208.78 439.865 2208.78 446.995 Q2208.78 454.101 2210.58 457.666 Q2212.41 461.207 2216.02 461.207 Q2219.66 461.207 2221.46 457.666 Q2223.29 454.101 2223.29 446.995 Q2223.29 439.865 2221.46 436.323 Q2219.66 432.759 2216.02 432.759 M2216.02 429.055 Q2221.83 429.055 2224.89 433.661 Q2227.97 438.245 2227.97 446.995 Q2227.97 455.721 2224.89 460.328 Q2221.83 464.911 2216.02 464.911 Q2210.21 464.911 2207.14 460.328 Q2204.08 455.721 2204.08 446.995 Q2204.08 438.245 2207.14 433.661 Q2210.21 429.055 2216.02 429.055 Z\" fill=\"#000000\" fill-rule=\"nonzero\" fill-opacity=\"1\" /><path clip-path=\"url(#clip540)\" d=\"M2236.19 458.36 L2241.07 458.36 L2241.07 464.24 L2236.19 464.24 L2236.19 458.36 Z\" fill=\"#000000\" fill-rule=\"nonzero\" fill-opacity=\"1\" /><path clip-path=\"url(#clip540)\" d=\"M2264.1 433.754 L2252.3 452.203 L2264.1 452.203 L2264.1 433.754 M2262.88 429.68 L2268.76 429.68 L2268.76 452.203 L2273.69 452.203 L2273.69 456.092 L2268.76 456.092 L2268.76 464.24 L2264.1 464.24 L2264.1 456.092 L2248.5 456.092 L2248.5 451.578 L2262.88 429.68 Z\" fill=\"#000000\" fill-rule=\"nonzero\" fill-opacity=\"1\" /><polyline clip-path=\"url(#clip542)\" style=\"stroke:#000000; stroke-linecap:round; stroke-linejoin:round; stroke-width:2; stroke-opacity:0.1; fill:none\" points=\"223.45,357.515 2352.76,357.515 \"/>\n",
       "<polyline clip-path=\"url(#clip542)\" style=\"stroke:#000000; stroke-linecap:round; stroke-linejoin:round; stroke-width:2; stroke-opacity:0.1; fill:none\" points=\"223.45,313.191 2352.76,313.191 \"/>\n",
       "<polyline clip-path=\"url(#clip542)\" style=\"stroke:#000000; stroke-linecap:round; stroke-linejoin:round; stroke-width:2; stroke-opacity:0.1; fill:none\" points=\"223.45,268.866 2352.76,268.866 \"/>\n",
       "<polyline clip-path=\"url(#clip542)\" style=\"stroke:#000000; stroke-linecap:round; stroke-linejoin:round; stroke-width:2; stroke-opacity:0.1; fill:none\" points=\"223.45,224.542 2352.76,224.542 \"/>\n",
       "<polyline clip-path=\"url(#clip542)\" style=\"stroke:#000000; stroke-linecap:round; stroke-linejoin:round; stroke-width:2; stroke-opacity:0.1; fill:none\" points=\"223.45,180.218 2352.76,180.218 \"/>\n",
       "<polyline clip-path=\"url(#clip542)\" style=\"stroke:#000000; stroke-linecap:round; stroke-linejoin:round; stroke-width:2; stroke-opacity:0.1; fill:none\" points=\"223.45,135.893 2352.76,135.893 \"/>\n",
       "<polyline clip-path=\"url(#clip542)\" style=\"stroke:#000000; stroke-linecap:round; stroke-linejoin:round; stroke-width:2; stroke-opacity:0.1; fill:none\" points=\"223.45,91.5686 2352.76,91.5686 \"/>\n",
       "<line clip-path=\"url(#clip542)\" x1=\"400.892\" y1=\"308.866\" x2=\"400.892\" y2=\"228.866\" style=\"stroke:#ff0000; stroke-width:3.84; stroke-opacity:1\"/>\n",
       "<line clip-path=\"url(#clip542)\" x1=\"476.39\" y1=\"220.218\" x2=\"476.39\" y2=\"140.218\" style=\"stroke:#0000ff; stroke-width:3.84; stroke-opacity:1\"/>\n",
       "<line clip-path=\"url(#clip542)\" x1=\"2099.82\" y1=\"220.218\" x2=\"2099.82\" y2=\"140.218\" style=\"stroke:#0000ff; stroke-width:3.84; stroke-opacity:1\"/>\n",
       "<line clip-path=\"url(#clip542)\" x1=\"2175.31\" y1=\"308.866\" x2=\"2175.31\" y2=\"228.866\" style=\"stroke:#ff0000; stroke-width:3.84; stroke-opacity:1\"/>\n",
       "<polyline clip-path=\"url(#clip542)\" style=\"stroke:#0000ff; stroke-linecap:round; stroke-linejoin:round; stroke-width:4; stroke-opacity:1; fill:none\" points=\"476.39,180.218 2099.82,180.218 \"/>\n",
       "<polyline clip-path=\"url(#clip542)\" style=\"stroke:#ff0000; stroke-linecap:round; stroke-linejoin:round; stroke-width:4; stroke-opacity:1; fill:none\" points=\"400.892,268.866 2175.31,268.866 \"/>\n",
       "<path clip-path=\"url(#clip540)\" d=\"M357.719 66.7163 Q351.4 66.7163 348.199 72.9547 Q345.04 79.1525 345.04 91.6293 Q345.04 104.066 348.199 110.304 Q351.4 116.502 357.719 116.502 Q364.079 116.502 367.239 110.304 Q370.439 104.066 370.439 91.6293 Q370.439 79.1525 367.239 72.9547 Q364.079 66.7163 357.719 66.7163 M357.719 60.2348 Q367.887 60.2348 373.234 68.2961 Q378.622 76.3169 378.622 91.6293 Q378.622 106.901 373.234 114.963 Q367.887 122.983 357.719 122.983 Q347.551 122.983 342.164 114.963 Q336.816 106.901 336.816 91.6293 Q336.816 76.3169 342.164 68.2961 Q347.551 60.2348 357.719 60.2348 Z\" fill=\"#0000ff\" fill-rule=\"nonzero\" fill-opacity=\"1\" /><path clip-path=\"url(#clip540)\" d=\"M393.002 111.519 L401.55 111.519 L401.55 121.809 L393.002 121.809 L393.002 111.519 Z\" fill=\"#0000ff\" fill-rule=\"nonzero\" fill-opacity=\"1\" /><path clip-path=\"url(#clip540)\" d=\"M436.874 66.7163 Q430.554 66.7163 427.354 72.9547 Q424.194 79.1525 424.194 91.6293 Q424.194 104.066 427.354 110.304 Q430.554 116.502 436.874 116.502 Q443.234 116.502 446.393 110.304 Q449.594 104.066 449.594 91.6293 Q449.594 79.1525 446.393 72.9547 Q443.234 66.7163 436.874 66.7163 M436.874 60.2348 Q447.042 60.2348 452.389 68.2961 Q457.776 76.3169 457.776 91.6293 Q457.776 106.901 452.389 114.963 Q447.042 122.983 436.874 122.983 Q426.706 122.983 421.318 114.963 Q415.971 106.901 415.971 91.6293 Q415.971 76.3169 421.318 68.2961 Q426.706 60.2348 436.874 60.2348 Z\" fill=\"#0000ff\" fill-rule=\"nonzero\" fill-opacity=\"1\" /><path clip-path=\"url(#clip540)\" d=\"M489.657 66.7163 Q483.338 66.7163 480.137 72.9547 Q476.978 79.1525 476.978 91.6293 Q476.978 104.066 480.137 110.304 Q483.338 116.502 489.657 116.502 Q496.017 116.502 499.177 110.304 Q502.377 104.066 502.377 91.6293 Q502.377 79.1525 499.177 72.9547 Q496.017 66.7163 489.657 66.7163 M489.657 60.2348 Q499.825 60.2348 505.172 68.2961 Q510.56 76.3169 510.56 91.6293 Q510.56 106.901 505.172 114.963 Q499.825 122.983 489.657 122.983 Q479.489 122.983 474.102 114.963 Q468.754 106.901 468.754 91.6293 Q468.754 76.3169 474.102 68.2961 Q479.489 60.2348 489.657 60.2348 Z\" fill=\"#0000ff\" fill-rule=\"nonzero\" fill-opacity=\"1\" /><path clip-path=\"url(#clip540)\" d=\"M526.358 114.922 L539.726 114.922 L539.726 68.7822 L525.183 71.6989 L525.183 64.2452 L539.645 61.3286 L547.828 61.3286 L547.828 114.922 L561.196 114.922 L561.196 121.809 L526.358 121.809 L526.358 114.922 Z\" fill=\"#0000ff\" fill-rule=\"nonzero\" fill-opacity=\"1\" /><path clip-path=\"url(#clip540)\" d=\"M595.224 93.0877 Q589.39 93.0877 586.028 96.2069 Q582.706 99.326 582.706 104.795 Q582.706 110.263 586.028 113.383 Q589.39 116.502 595.224 116.502 Q601.057 116.502 604.419 113.383 Q607.781 110.223 607.781 104.795 Q607.781 99.326 604.419 96.2069 Q601.097 93.0877 595.224 93.0877 M587.041 89.6039 Q581.775 88.3076 578.817 84.7023 Q575.901 81.097 575.901 75.9118 Q575.901 68.6607 581.045 64.4478 Q586.231 60.2348 595.224 60.2348 Q604.257 60.2348 609.402 64.4478 Q614.546 68.6607 614.546 75.9118 Q614.546 81.097 611.589 84.7023 Q608.673 88.3076 603.447 89.6039 Q609.361 90.9812 612.643 94.9916 Q615.964 99.002 615.964 104.795 Q615.964 113.585 610.577 118.284 Q605.229 122.983 595.224 122.983 Q585.218 122.983 579.83 118.284 Q574.483 113.585 574.483 104.795 Q574.483 99.002 577.805 94.9916 Q581.126 90.9812 587.041 89.6039 M584.043 76.6815 Q584.043 81.3805 586.96 84.0136 Q589.917 86.6467 595.224 86.6467 Q600.49 86.6467 603.447 84.0136 Q606.445 81.3805 606.445 76.6815 Q606.445 71.9824 603.447 69.3494 Q600.49 66.7163 595.224 66.7163 Q589.917 66.7163 586.96 69.3494 Q584.043 71.9824 584.043 76.6815 Z\" fill=\"#0000ff\" fill-rule=\"nonzero\" fill-opacity=\"1\" /><path clip-path=\"url(#clip540)\" d=\"M1980.92 66.7163 Q1974.6 66.7163 1971.4 72.9547 Q1968.24 79.1525 1968.24 91.6293 Q1968.24 104.066 1971.4 110.304 Q1974.6 116.502 1980.92 116.502 Q1987.28 116.502 1990.44 110.304 Q1993.64 104.066 1993.64 91.6293 Q1993.64 79.1525 1990.44 72.9547 Q1987.28 66.7163 1980.92 66.7163 M1980.92 60.2348 Q1991.09 60.2348 1996.44 68.2961 Q2001.82 76.3169 2001.82 91.6293 Q2001.82 106.901 1996.44 114.963 Q1991.09 122.983 1980.92 122.983 Q1970.75 122.983 1965.37 114.963 Q1960.02 106.901 1960.02 91.6293 Q1960.02 76.3169 1965.37 68.2961 Q1970.75 60.2348 1980.92 60.2348 Z\" fill=\"#0000ff\" fill-rule=\"nonzero\" fill-opacity=\"1\" /><path clip-path=\"url(#clip540)\" d=\"M2016.2 111.519 L2024.75 111.519 L2024.75 121.809 L2016.2 121.809 L2016.2 111.519 Z\" fill=\"#0000ff\" fill-rule=\"nonzero\" fill-opacity=\"1\" /><path clip-path=\"url(#clip540)\" d=\"M2067.37 89.1988 Q2073.24 90.4546 2076.52 94.4245 Q2079.84 98.3943 2079.84 104.228 Q2079.84 113.18 2073.69 118.082 Q2067.53 122.983 2056.19 122.983 Q2052.38 122.983 2048.33 122.214 Q2044.32 121.484 2040.02 119.986 L2040.02 112.086 Q2043.43 114.071 2047.48 115.084 Q2051.53 116.097 2055.94 116.097 Q2063.64 116.097 2067.65 113.059 Q2071.7 110.02 2071.7 104.228 Q2071.7 98.8804 2067.93 95.8828 Q2064.21 92.8446 2057.52 92.8446 L2050.48 92.8446 L2050.48 86.1201 L2057.85 86.1201 Q2063.88 86.1201 2067.08 83.7301 Q2070.28 81.2995 2070.28 76.7625 Q2070.28 72.104 2066.96 69.6329 Q2063.68 67.1214 2057.52 67.1214 Q2054.16 67.1214 2050.31 67.8505 Q2046.46 68.5797 2041.85 70.119 L2041.85 62.8274 Q2046.51 61.5311 2050.56 60.883 Q2054.65 60.2348 2058.25 60.2348 Q2067.57 60.2348 2073 64.4883 Q2078.43 68.7012 2078.43 75.9118 Q2078.43 80.9349 2075.55 84.4187 Q2072.67 87.862 2067.37 89.1988 Z\" fill=\"#0000ff\" fill-rule=\"nonzero\" fill-opacity=\"1\" /><path clip-path=\"url(#clip540)\" d=\"M2113.87 88.3076 Q2108.36 88.3076 2105.12 92.0749 Q2101.92 95.8423 2101.92 102.405 Q2101.92 108.927 2105.12 112.735 Q2108.36 116.502 2113.87 116.502 Q2119.38 116.502 2122.58 112.735 Q2125.82 108.927 2125.82 102.405 Q2125.82 95.8423 2122.58 92.0749 Q2119.38 88.3076 2113.87 88.3076 M2130.12 62.6654 L2130.12 70.119 Q2127.04 68.6607 2123.88 67.891 Q2120.76 67.1214 2117.68 67.1214 Q2109.58 67.1214 2105.28 72.5901 Q2101.03 78.0588 2100.42 89.1178 Q2102.81 85.5935 2106.42 83.7301 Q2110.02 81.8261 2114.36 81.8261 Q2123.47 81.8261 2128.74 87.3759 Q2134.05 92.8851 2134.05 102.405 Q2134.05 111.722 2128.54 117.353 Q2123.03 122.983 2113.87 122.983 Q2103.38 122.983 2097.83 114.963 Q2092.28 106.901 2092.28 91.6293 Q2092.28 77.2891 2099.09 68.7822 Q2105.89 60.2348 2117.36 60.2348 Q2120.43 60.2348 2123.55 60.8425 Q2126.71 61.4501 2130.12 62.6654 Z\" fill=\"#0000ff\" fill-rule=\"nonzero\" fill-opacity=\"1\" /><path clip-path=\"url(#clip540)\" d=\"M2165.64 93.0877 Q2159.81 93.0877 2156.45 96.2069 Q2153.13 99.326 2153.13 104.795 Q2153.13 110.263 2156.45 113.383 Q2159.81 116.502 2165.64 116.502 Q2171.48 116.502 2174.84 113.383 Q2178.2 110.223 2178.2 104.795 Q2178.2 99.326 2174.84 96.2069 Q2171.52 93.0877 2165.64 93.0877 M2157.46 89.6039 Q2152.19 88.3076 2149.24 84.7023 Q2146.32 81.097 2146.32 75.9118 Q2146.32 68.6607 2151.46 64.4478 Q2156.65 60.2348 2165.64 60.2348 Q2174.68 60.2348 2179.82 64.4478 Q2184.97 68.6607 2184.97 75.9118 Q2184.97 81.097 2182.01 84.7023 Q2179.09 88.3076 2173.87 89.6039 Q2179.78 90.9812 2183.06 94.9916 Q2186.38 99.002 2186.38 104.795 Q2186.38 113.585 2181 118.284 Q2175.65 122.983 2165.64 122.983 Q2155.64 122.983 2150.25 118.284 Q2144.9 113.585 2144.9 104.795 Q2144.9 99.002 2148.22 94.9916 Q2151.55 90.9812 2157.46 89.6039 M2154.46 76.6815 Q2154.46 81.3805 2157.38 84.0136 Q2160.34 86.6467 2165.64 86.6467 Q2170.91 86.6467 2173.87 84.0136 Q2176.86 81.3805 2176.86 76.6815 Q2176.86 71.9824 2173.87 69.3494 Q2170.91 66.7163 2165.64 66.7163 Q2160.34 66.7163 2157.38 69.3494 Q2154.46 71.9824 2154.46 76.6815 Z\" fill=\"#0000ff\" fill-rule=\"nonzero\" fill-opacity=\"1\" /><path clip-path=\"url(#clip540)\" d=\"M2219.44 88.3076 Q2213.93 88.3076 2210.69 92.0749 Q2207.49 95.8423 2207.49 102.405 Q2207.49 108.927 2210.69 112.735 Q2213.93 116.502 2219.44 116.502 Q2224.95 116.502 2228.15 112.735 Q2231.39 108.927 2231.39 102.405 Q2231.39 95.8423 2228.15 92.0749 Q2224.95 88.3076 2219.44 88.3076 M2235.68 62.6654 L2235.68 70.119 Q2232.6 68.6607 2229.44 67.891 Q2226.33 67.1214 2223.25 67.1214 Q2215.14 67.1214 2210.85 72.5901 Q2206.6 78.0588 2205.99 89.1178 Q2208.38 85.5935 2211.98 83.7301 Q2215.59 81.8261 2219.92 81.8261 Q2229.04 81.8261 2234.31 87.3759 Q2239.61 92.8851 2239.61 102.405 Q2239.61 111.722 2234.1 117.353 Q2228.59 122.983 2219.44 122.983 Q2208.95 122.983 2203.4 114.963 Q2197.85 106.901 2197.85 91.6293 Q2197.85 77.2891 2204.65 68.7822 Q2211.46 60.2348 2222.92 60.2348 Q2226 60.2348 2229.12 60.8425 Q2232.28 61.4501 2235.68 62.6654 Z\" fill=\"#0000ff\" fill-rule=\"nonzero\" fill-opacity=\"1\" /><path clip-path=\"url(#clip540)\" d=\"M246.127 361.708 L267.961 361.708 L267.961 368.352 L246.127 368.352 L246.127 361.708 Z\" fill=\"#ff0000\" fill-rule=\"nonzero\" fill-opacity=\"1\" /><path clip-path=\"url(#clip540)\" d=\"M298.384 332.663 Q292.064 332.663 288.864 338.901 Q285.704 345.099 285.704 357.576 Q285.704 370.012 288.864 376.251 Q292.064 382.449 298.384 382.449 Q304.744 382.449 307.903 376.251 Q311.104 370.012 311.104 357.576 Q311.104 345.099 307.903 338.901 Q304.744 332.663 298.384 332.663 M298.384 326.182 Q308.552 326.182 313.899 334.243 Q319.286 342.264 319.286 357.576 Q319.286 372.848 313.899 380.909 Q308.552 388.93 298.384 388.93 Q288.216 388.93 282.828 380.909 Q277.481 372.848 277.481 357.576 Q277.481 342.264 282.828 334.243 Q288.216 326.182 298.384 326.182 Z\" fill=\"#ff0000\" fill-rule=\"nonzero\" fill-opacity=\"1\" /><path clip-path=\"url(#clip540)\" d=\"M333.667 377.466 L342.215 377.466 L342.215 387.755 L333.667 387.755 L333.667 377.466 Z\" fill=\"#ff0000\" fill-rule=\"nonzero\" fill-opacity=\"1\" /><path clip-path=\"url(#clip540)\" d=\"M377.538 332.663 Q371.219 332.663 368.019 338.901 Q364.859 345.099 364.859 357.576 Q364.859 370.012 368.019 376.251 Q371.219 382.449 377.538 382.449 Q383.898 382.449 387.058 376.251 Q390.258 370.012 390.258 357.576 Q390.258 345.099 387.058 338.901 Q383.898 332.663 377.538 332.663 M377.538 326.182 Q387.706 326.182 393.053 334.243 Q398.441 342.264 398.441 357.576 Q398.441 372.848 393.053 380.909 Q387.706 388.93 377.538 388.93 Q367.371 388.93 361.983 380.909 Q356.636 372.848 356.636 357.576 Q356.636 342.264 361.983 334.243 Q367.371 326.182 377.538 326.182 Z\" fill=\"#ff0000\" fill-rule=\"nonzero\" fill-opacity=\"1\" /><path clip-path=\"url(#clip540)\" d=\"M414.24 380.869 L427.608 380.869 L427.608 334.729 L413.065 337.646 L413.065 330.192 L427.527 327.275 L435.709 327.275 L435.709 380.869 L449.077 380.869 L449.077 387.755 L414.24 387.755 L414.24 380.869 Z\" fill=\"#ff0000\" fill-rule=\"nonzero\" fill-opacity=\"1\" /><path clip-path=\"url(#clip540)\" d=\"M465.686 327.275 L497.81 327.275 L497.81 334.162 L473.18 334.162 L473.18 348.988 Q474.963 348.381 476.745 348.097 Q478.527 347.773 480.31 347.773 Q490.437 347.773 496.351 353.323 Q502.266 358.872 502.266 368.352 Q502.266 378.114 496.189 383.542 Q490.113 388.93 479.054 388.93 Q475.246 388.93 471.276 388.282 Q467.347 387.634 463.134 386.338 L463.134 378.114 Q466.78 380.099 470.669 381.071 Q474.558 382.044 478.892 382.044 Q485.9 382.044 489.992 378.357 Q494.083 374.671 494.083 368.352 Q494.083 362.032 489.992 358.346 Q485.9 354.66 478.892 354.66 Q475.611 354.66 472.33 355.389 Q469.089 356.118 465.686 357.657 L465.686 327.275 Z\" fill=\"#ff0000\" fill-rule=\"nonzero\" fill-opacity=\"1\" /><path clip-path=\"url(#clip540)\" d=\"M543.18 355.146 Q549.054 356.401 552.335 360.371 Q555.657 364.341 555.657 370.174 Q555.657 379.127 549.499 384.029 Q543.342 388.93 531.999 388.93 Q528.192 388.93 524.141 388.16 Q520.13 387.431 515.836 385.932 L515.836 378.033 Q519.239 380.018 523.29 381.031 Q527.341 382.044 531.756 382.044 Q539.453 382.044 543.463 379.005 Q547.514 375.967 547.514 370.174 Q547.514 364.827 543.747 361.83 Q540.02 358.791 533.336 358.791 L526.288 358.791 L526.288 352.067 L533.66 352.067 Q539.696 352.067 542.896 349.677 Q546.097 347.246 546.097 342.709 Q546.097 338.051 542.775 335.58 Q539.494 333.068 533.336 333.068 Q529.974 333.068 526.126 333.797 Q522.277 334.527 517.659 336.066 L517.659 328.774 Q522.318 327.478 526.369 326.83 Q530.46 326.182 534.065 326.182 Q543.382 326.182 548.811 330.435 Q554.239 334.648 554.239 341.859 Q554.239 346.882 551.363 350.366 Q548.487 353.809 543.18 355.146 Z\" fill=\"#ff0000\" fill-rule=\"nonzero\" fill-opacity=\"1\" /><path clip-path=\"url(#clip540)\" d=\"M2056.42 332.663 Q2050.1 332.663 2046.9 338.901 Q2043.74 345.099 2043.74 357.576 Q2043.74 370.012 2046.9 376.251 Q2050.1 382.449 2056.42 382.449 Q2062.78 382.449 2065.94 376.251 Q2069.14 370.012 2069.14 357.576 Q2069.14 345.099 2065.94 338.901 Q2062.78 332.663 2056.42 332.663 M2056.42 326.182 Q2066.59 326.182 2071.93 334.243 Q2077.32 342.264 2077.32 357.576 Q2077.32 372.848 2071.93 380.909 Q2066.59 388.93 2056.42 388.93 Q2046.25 388.93 2040.86 380.909 Q2035.52 372.848 2035.52 357.576 Q2035.52 342.264 2040.86 334.243 Q2046.25 326.182 2056.42 326.182 Z\" fill=\"#ff0000\" fill-rule=\"nonzero\" fill-opacity=\"1\" /><path clip-path=\"url(#clip540)\" d=\"M2091.7 377.466 L2100.25 377.466 L2100.25 387.755 L2091.7 387.755 L2091.7 377.466 Z\" fill=\"#ff0000\" fill-rule=\"nonzero\" fill-opacity=\"1\" /><path clip-path=\"url(#clip540)\" d=\"M2142.87 355.146 Q2148.74 356.401 2152.02 360.371 Q2155.34 364.341 2155.34 370.174 Q2155.34 379.127 2149.19 384.029 Q2143.03 388.93 2131.69 388.93 Q2127.88 388.93 2123.83 388.16 Q2119.82 387.431 2115.52 385.932 L2115.52 378.033 Q2118.93 380.018 2122.98 381.031 Q2127.03 382.044 2131.44 382.044 Q2139.14 382.044 2143.15 379.005 Q2147.2 375.967 2147.2 370.174 Q2147.2 364.827 2143.43 361.83 Q2139.71 358.791 2133.02 358.791 L2125.97 358.791 L2125.97 352.067 L2133.35 352.067 Q2139.38 352.067 2142.58 349.677 Q2145.78 347.246 2145.78 342.709 Q2145.78 338.051 2142.46 335.58 Q2139.18 333.068 2133.02 333.068 Q2129.66 333.068 2125.81 333.797 Q2121.96 334.527 2117.35 336.066 L2117.35 328.774 Q2122 327.478 2126.05 326.83 Q2130.15 326.182 2133.75 326.182 Q2143.07 326.182 2148.5 330.435 Q2153.92 334.648 2153.92 341.859 Q2153.92 346.882 2151.05 350.366 Q2148.17 353.809 2142.87 355.146 Z\" fill=\"#ff0000\" fill-rule=\"nonzero\" fill-opacity=\"1\" /><path clip-path=\"url(#clip540)\" d=\"M2188.36 359.034 Q2182.52 359.034 2179.16 362.154 Q2175.84 365.273 2175.84 370.742 Q2175.84 376.21 2179.16 379.33 Q2182.52 382.449 2188.36 382.449 Q2194.19 382.449 2197.55 379.33 Q2200.92 376.17 2200.92 370.742 Q2200.92 365.273 2197.55 362.154 Q2194.23 359.034 2188.36 359.034 M2180.17 355.551 Q2174.91 354.254 2171.95 350.649 Q2169.03 347.044 2169.03 341.859 Q2169.03 334.608 2174.18 330.395 Q2179.36 326.182 2188.36 326.182 Q2197.39 326.182 2202.54 330.395 Q2207.68 334.608 2207.68 341.859 Q2207.68 347.044 2204.72 350.649 Q2201.81 354.254 2196.58 355.551 Q2202.5 356.928 2205.78 360.938 Q2209.1 364.949 2209.1 370.742 Q2209.1 379.532 2203.71 384.231 Q2198.36 388.93 2188.36 388.93 Q2178.35 388.93 2172.96 384.231 Q2167.62 379.532 2167.62 370.742 Q2167.62 364.949 2170.94 360.938 Q2174.26 356.928 2180.17 355.551 M2177.18 342.628 Q2177.18 347.327 2180.09 349.96 Q2183.05 352.594 2188.36 352.594 Q2193.62 352.594 2196.58 349.96 Q2199.58 347.327 2199.58 342.628 Q2199.58 337.929 2196.58 335.296 Q2193.62 332.663 2188.36 332.663 Q2183.05 332.663 2180.09 335.296 Q2177.18 337.929 2177.18 342.628 Z\" fill=\"#ff0000\" fill-rule=\"nonzero\" fill-opacity=\"1\" /><path clip-path=\"url(#clip540)\" d=\"M2223.72 327.275 L2255.85 327.275 L2255.85 334.162 L2231.22 334.162 L2231.22 348.988 Q2233 348.381 2234.78 348.097 Q2236.56 347.773 2238.35 347.773 Q2248.47 347.773 2254.39 353.323 Q2260.3 358.872 2260.3 368.352 Q2260.3 378.114 2254.23 383.542 Q2248.15 388.93 2237.09 388.93 Q2233.28 388.93 2229.31 388.282 Q2225.38 387.634 2221.17 386.338 L2221.17 378.114 Q2224.82 380.099 2228.7 381.071 Q2232.59 382.044 2236.93 382.044 Q2243.94 382.044 2248.03 378.357 Q2252.12 374.671 2252.12 368.352 Q2252.12 362.032 2248.03 358.346 Q2243.94 354.66 2236.93 354.66 Q2233.65 354.66 2230.37 355.389 Q2227.12 356.118 2223.72 357.657 L2223.72 327.275 Z\" fill=\"#ff0000\" fill-rule=\"nonzero\" fill-opacity=\"1\" /><path clip-path=\"url(#clip540)\" d=\"M2294.94 354.254 Q2289.43 354.254 2286.19 358.022 Q2282.99 361.789 2282.99 368.352 Q2282.99 374.874 2286.19 378.681 Q2289.43 382.449 2294.94 382.449 Q2300.45 382.449 2303.65 378.681 Q2306.89 374.874 2306.89 368.352 Q2306.89 361.789 2303.65 358.022 Q2300.45 354.254 2294.94 354.254 M2311.18 328.612 L2311.18 336.066 Q2308.1 334.608 2304.94 333.838 Q2301.82 333.068 2298.74 333.068 Q2290.64 333.068 2286.35 338.537 Q2282.1 344.006 2281.49 355.065 Q2283.88 351.54 2287.48 349.677 Q2291.09 347.773 2295.42 347.773 Q2304.54 347.773 2309.8 353.323 Q2315.11 358.832 2315.11 368.352 Q2315.11 377.669 2309.6 383.299 Q2304.09 388.93 2294.94 388.93 Q2284.45 388.93 2278.9 380.909 Q2273.35 372.848 2273.35 357.576 Q2273.35 343.236 2280.15 334.729 Q2286.96 326.182 2298.42 326.182 Q2301.5 326.182 2304.62 326.789 Q2307.78 327.397 2311.18 328.612 Z\" fill=\"#ff0000\" fill-rule=\"nonzero\" fill-opacity=\"1\" /></svg>\n"
      ]
     },
     "execution_count": 36,
     "metadata": {},
     "output_type": "execute_result"
    }
   ],
   "source": [
    "x = [res.Htest.ConfidenceInterval[1],res.bound[1],res.bound[2],res.Htest.ConfidenceInterval[2]]\n",
    "tol = (x[4]-x[1])/10\n",
    "y =[-0.01,0.01,0.01,-0.01]\n",
    "symbols =[:vline,:vline,:vline,:vline]\n",
    "\n",
    "scatter(x, y, markersize=10,\n",
    "    xlim=(x[1]-tol,x[4]+tol),\n",
    "    ylim=(-0.04,0.04),\n",
    "    markershape=symbols,\n",
    "    markerstrokewidth=4,\n",
    "    label=\"\",\n",
    "    c=[:red,:blue,:blue,:red],\n",
    "    showaxis=:x,\n",
    "    size =(600,120))\n",
    "plot!(x[2:3],y[2:3],label=\"\",c=:blue)\n",
    "plot!(x[1:3:4],y[1:3:4],label=\"\",c=:red)\n",
    "annotate!(x[2], 0.03, string(round(x[2],digits=4)),:blue)\n",
    "annotate!(x[3], 0.03, string(round(x[3],digits=4)),:blue)\n",
    "annotate!(x[1], -0.03, string(round(x[1],digits=4)),:red)\n",
    "annotate!(x[4], -0.03, string(round(x[4],digits=4)),:red)\n"
   ]
  },
  {
   "cell_type": "code",
   "execution_count": null,
   "metadata": {},
   "outputs": [],
   "source": [
    "show(EY(yl,yu,[1,2]))"
   ]
  },
  {
   "cell_type": "code",
   "execution_count": null,
   "metadata": {},
   "outputs": [],
   "source": [
    "show(EY(yl,yu,[9.2963, 10.5299]))"
   ]
  },
  {
   "cell_type": "code",
   "execution_count": null,
   "metadata": {},
   "outputs": [],
   "source": [
    "show(default_options)"
   ]
  },
  {
   "cell_type": "code",
   "execution_count": null,
   "metadata": {},
   "outputs": [],
   "source": [
    "show(EY(yl,yu,[1,2];options=default_options,method=\"boot\"))"
   ]
  },
  {
   "cell_type": "code",
   "execution_count": null,
   "metadata": {},
   "outputs": [],
   "source": [
    "default_options"
   ]
  },
  {
   "cell_type": "code",
   "execution_count": null,
   "metadata": {},
   "outputs": [],
   "source": []
  }
 ],
 "metadata": {
  "@webio": {
   "lastCommId": null,
   "lastKernelId": null
  },
  "kernelspec": {
   "display_name": "Julia 1.9.2",
   "language": "julia",
   "name": "julia-1.9"
  },
  "language_info": {
   "file_extension": ".jl",
   "mimetype": "application/julia",
   "name": "julia",
   "version": "1.9.2"
  }
 },
 "nbformat": 4,
 "nbformat_minor": 4
}
