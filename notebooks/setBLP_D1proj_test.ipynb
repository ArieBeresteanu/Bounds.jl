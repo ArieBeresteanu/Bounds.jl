{
 "cells": [
  {
   "cell_type": "code",
   "execution_count": 1,
   "metadata": {},
   "outputs": [],
   "source": [
    "using CSV, DataFrames"
   ]
  },
  {
   "cell_type": "markdown",
   "metadata": {},
   "source": [
    "# Uploading CPS data"
   ]
  },
  {
   "cell_type": "code",
   "execution_count": 2,
   "metadata": {},
   "outputs": [
    {
     "data": {
      "text/plain": [
       "(22715, 3)"
      ]
     },
     "execution_count": 2,
     "metadata": {},
     "output_type": "execute_result"
    }
   ],
   "source": [
    "cps = DataFrame(CSV.File(\"c:\\\\data\\\\Bounds\\\\cps.csv\")) # <-change this to the right directory\n",
    "\n",
    "## Cleaning zero wage\n",
    "\n",
    "cps = cps[cps.wage .> 0, :]"
   ]
  },
  {
   "cell_type": "code",
   "execution_count": 3,
   "metadata": {},
   "outputs": [
    {
     "data": {
      "text/html": [
       "<div class=\"data-frame\"><p>5 rows × 3 columns</p><table class=\"data-frame\"><thead><tr><th></th><th>age</th><th>wage</th><th>educ</th></tr><tr><th></th><th title=\"Int64\">Int64</th><th title=\"Int64\">Int64</th><th title=\"String\">String</th></tr></thead><tbody><tr><th>1</th><td>22</td><td>12000</td><td>some college but no degree</td></tr><tr><th>2</th><td>21</td><td>3500</td><td>some college but no degree</td></tr><tr><th>3</th><td>49</td><td>30000</td><td>some college but no degree</td></tr><tr><th>4</th><td>31</td><td>32000</td><td>bachelor&apos;s degree</td></tr><tr><th>5</th><td>42</td><td>89630</td><td>doctorate degree</td></tr></tbody></table></div>"
      ],
      "text/latex": [
       "\\begin{tabular}{r|ccc}\n",
       "\t& age & wage & educ\\\\\n",
       "\t\\hline\n",
       "\t& Int64 & Int64 & String\\\\\n",
       "\t\\hline\n",
       "\t1 & 22 & 12000 & some college but no degree \\\\\n",
       "\t2 & 21 & 3500 & some college but no degree \\\\\n",
       "\t3 & 49 & 30000 & some college but no degree \\\\\n",
       "\t4 & 31 & 32000 & bachelor's degree \\\\\n",
       "\t5 & 42 & 89630 & doctorate degree \\\\\n",
       "\\end{tabular}\n"
      ],
      "text/plain": [
       "\u001b[1m5×3 DataFrame\u001b[0m\n",
       "\u001b[1m Row \u001b[0m│\u001b[1m age   \u001b[0m\u001b[1m wage  \u001b[0m\u001b[1m educ                       \u001b[0m\n",
       "\u001b[1m     \u001b[0m│\u001b[90m Int64 \u001b[0m\u001b[90m Int64 \u001b[0m\u001b[90m String                     \u001b[0m\n",
       "─────┼──────────────────────────────────────────\n",
       "   1 │    22  12000  some college but no degree\n",
       "   2 │    21   3500  some college but no degree\n",
       "   3 │    49  30000  some college but no degree\n",
       "   4 │    31  32000  bachelor's degree\n",
       "   5 │    42  89630  doctorate degree"
      ]
     },
     "execution_count": 3,
     "metadata": {},
     "output_type": "execute_result"
    }
   ],
   "source": [
    "first(cps,5)"
   ]
  },
  {
   "cell_type": "code",
   "execution_count": 4,
   "metadata": {},
   "outputs": [
    {
     "data": {
      "text/plain": [
       "Dict{Any, Any} with 16 entries:\n",
       "  \"grade 11\"                                            => 10\n",
       "  \"some college but no degree\"                          => 13\n",
       "  \"associate's degree, academic program\"                => 13\n",
       "  \"grade 10\"                                            => 9\n",
       "  \"grades 7 or 8\"                                       => 8\n",
       "  \"grades 1, 2, 3, or 4\"                                => 4\n",
       "  \"associate's degree, occupational/vocational program\" => 12\n",
       "  \"high school diploma or equivalent\"                   => 21\n",
       "  \"grade 9\"                                             => 11\n",
       "  \"none or preschool\"                                   => 0\n",
       "  \"doctorate degree\"                                    => 16\n",
       "  \"bachelor's degree\"                                   => 14\n",
       "  \"master's degree\"                                     => 14\n",
       "  \"grades 5 or 6\"                                       => 6\n",
       "  \"professional school degree\"                          => 14\n",
       "  \"12th grade, no diploma\"                              => 12"
      ]
     },
     "execution_count": 4,
     "metadata": {},
     "output_type": "execute_result"
    }
   ],
   "source": [
    "# Numerical value for education\n",
    "\n",
    "#1.Creating a dictionary\n",
    "\n",
    "educ_key = unique(cps.educ);\n",
    "educ_val = [13,14,16,21,12,14,14,13,10,12,11,9,8,6,4,0];\n",
    "\n",
    "educ_dict = Dict()\n",
    "for (k,v) in zip(educ_key,educ_val)\n",
    "    push!(educ_dict, k =>v)\n",
    "end\n",
    "educ_dict"
   ]
  },
  {
   "cell_type": "code",
   "execution_count": 5,
   "metadata": {},
   "outputs": [
    {
     "data": {
      "text/html": [
       "<div class=\"data-frame\"><p>10 rows × 5 columns</p><table class=\"data-frame\"><thead><tr><th></th><th>age</th><th>wage</th><th>educ</th><th>educ_num</th><th>log_wage</th></tr><tr><th></th><th title=\"Int64\">Int64</th><th title=\"Int64\">Int64</th><th title=\"String\">String</th><th title=\"Int64\">Int64</th><th title=\"Float64\">Float64</th></tr></thead><tbody><tr><th>1</th><td>22</td><td>12000</td><td>some college but no degree</td><td>13</td><td>9.39266</td></tr><tr><th>2</th><td>21</td><td>3500</td><td>some college but no degree</td><td>13</td><td>8.16052</td></tr><tr><th>3</th><td>49</td><td>30000</td><td>some college but no degree</td><td>13</td><td>10.309</td></tr><tr><th>4</th><td>31</td><td>32000</td><td>bachelor&apos;s degree</td><td>14</td><td>10.3735</td></tr><tr><th>5</th><td>42</td><td>89630</td><td>doctorate degree</td><td>16</td><td>11.4034</td></tr><tr><th>6</th><td>35</td><td>229339</td><td>doctorate degree</td><td>16</td><td>12.343</td></tr><tr><th>7</th><td>42</td><td>39000</td><td>high school diploma or equivalent</td><td>21</td><td>10.5713</td></tr><tr><th>8</th><td>48</td><td>50000</td><td>high school diploma or equivalent</td><td>21</td><td>10.8198</td></tr><tr><th>9</th><td>41</td><td>37500</td><td>some college but no degree</td><td>13</td><td>10.5321</td></tr><tr><th>10</th><td>41</td><td>52000</td><td>associate&apos;s degree, occupational/vocational program</td><td>12</td><td>10.859</td></tr></tbody></table></div>"
      ],
      "text/latex": [
       "\\begin{tabular}{r|ccccc}\n",
       "\t& age & wage & educ & educ\\_num & log\\_wage\\\\\n",
       "\t\\hline\n",
       "\t& Int64 & Int64 & String & Int64 & Float64\\\\\n",
       "\t\\hline\n",
       "\t1 & 22 & 12000 & some college but no degree & 13 & 9.39266 \\\\\n",
       "\t2 & 21 & 3500 & some college but no degree & 13 & 8.16052 \\\\\n",
       "\t3 & 49 & 30000 & some college but no degree & 13 & 10.309 \\\\\n",
       "\t4 & 31 & 32000 & bachelor's degree & 14 & 10.3735 \\\\\n",
       "\t5 & 42 & 89630 & doctorate degree & 16 & 11.4034 \\\\\n",
       "\t6 & 35 & 229339 & doctorate degree & 16 & 12.343 \\\\\n",
       "\t7 & 42 & 39000 & high school diploma or equivalent & 21 & 10.5713 \\\\\n",
       "\t8 & 48 & 50000 & high school diploma or equivalent & 21 & 10.8198 \\\\\n",
       "\t9 & 41 & 37500 & some college but no degree & 13 & 10.5321 \\\\\n",
       "\t10 & 41 & 52000 & associate's degree, occupational/vocational program & 12 & 10.859 \\\\\n",
       "\\end{tabular}\n"
      ],
      "text/plain": [
       "\u001b[1m10×5 DataFrame\u001b[0m\n",
       "\u001b[1m Row \u001b[0m│\u001b[1m age   \u001b[0m\u001b[1m wage   \u001b[0m\u001b[1m educ                              \u001b[0m\u001b[1m educ_num \u001b[0m\u001b[1m log_wage \u001b[0m\n",
       "\u001b[1m     \u001b[0m│\u001b[90m Int64 \u001b[0m\u001b[90m Int64  \u001b[0m\u001b[90m String                            \u001b[0m\u001b[90m Int64    \u001b[0m\u001b[90m Float64  \u001b[0m\n",
       "─────┼──────────────────────────────────────────────────────────────────────\n",
       "   1 │    22   12000  some college but no degree               13   9.39266\n",
       "   2 │    21    3500  some college but no degree               13   8.16052\n",
       "   3 │    49   30000  some college but no degree               13  10.309\n",
       "   4 │    31   32000  bachelor's degree                        14  10.3735\n",
       "   5 │    42   89630  doctorate degree                         16  11.4034\n",
       "   6 │    35  229339  doctorate degree                         16  12.343\n",
       "   7 │    42   39000  high school diploma or equivalent        21  10.5713\n",
       "   8 │    48   50000  high school diploma or equivalent        21  10.8198\n",
       "   9 │    41   37500  some college but no degree               13  10.5321\n",
       "  10 │    41   52000  associate's degree, occupational…        12  10.859"
      ]
     },
     "execution_count": 5,
     "metadata": {},
     "output_type": "execute_result"
    }
   ],
   "source": [
    "#2. transforming cps.educ\n",
    "f(x) = educ_dict[x]\n",
    "cps.educ_num = f.(cps.educ)\n",
    "\n",
    "#3. log of wage\n",
    "cps.log_wage = log.(cps.wage)\n",
    "first(cps,10)"
   ]
  },
  {
   "cell_type": "code",
   "execution_count": 7,
   "metadata": {},
   "outputs": [
    {
     "data": {
      "text/plain": [
       "(22715, 5)"
      ]
     },
     "execution_count": 7,
     "metadata": {},
     "output_type": "execute_result"
    }
   ],
   "source": [
    "Nobs, = size(cps)"
   ]
  },
  {
   "cell_type": "code",
   "execution_count": null,
   "metadata": {},
   "outputs": [],
   "source": []
  }
 ],
 "metadata": {
  "@webio": {
   "lastCommId": null,
   "lastKernelId": null
  },
  "kernelspec": {
   "display_name": "Julia 1.7.3",
   "language": "julia",
   "name": "julia-1.7"
  },
  "language_info": {
   "file_extension": ".jl",
   "mimetype": "application/julia",
   "name": "julia",
   "version": "1.7.3"
  }
 },
 "nbformat": 4,
 "nbformat_minor": 4
}
