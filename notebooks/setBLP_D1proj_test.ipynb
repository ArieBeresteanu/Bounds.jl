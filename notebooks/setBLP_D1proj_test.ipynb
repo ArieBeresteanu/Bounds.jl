{
 "cells": [
  {
   "cell_type": "markdown",
   "metadata": {},
   "source": [
    "# Packages"
   ]
  },
  {
   "cell_type": "code",
   "execution_count": 1,
   "metadata": {},
   "outputs": [],
   "source": [
    "using CSV, DataFrames"
   ]
  },
  {
   "cell_type": "code",
   "execution_count": 2,
   "metadata": {},
   "outputs": [
    {
     "ename": "LoadError",
     "evalue": "ArgumentError: Package FixedEffectModels not found in current path.\n- Run `import Pkg; Pkg.add(\"FixedEffectModels\")` to install the FixedEffectModels package.",
     "output_type": "error",
     "traceback": [
      "ArgumentError: Package FixedEffectModels not found in current path.\n- Run `import Pkg; Pkg.add(\"FixedEffectModels\")` to install the FixedEffectModels package.",
      "",
      "Stacktrace:",
      " [1] macro expansion",
      "   @ .\\loading.jl:1630 [inlined]",
      " [2] macro expansion",
      "   @ .\\lock.jl:267 [inlined]",
      " [3] require(into::Module, mod::Symbol)",
      "   @ Base .\\loading.jl:1611"
     ]
    }
   ],
   "source": [
    "using FixedEffectModels"
   ]
  },
  {
   "cell_type": "code",
   "execution_count": 3,
   "metadata": {},
   "outputs": [],
   "source": [
    "using Plots"
   ]
  },
  {
   "cell_type": "code",
   "execution_count": 4,
   "metadata": {},
   "outputs": [],
   "source": [
    "using Statistics"
   ]
  },
  {
   "cell_type": "markdown",
   "metadata": {},
   "source": [
    "# Uploading CPS data"
   ]
  },
  {
   "cell_type": "code",
   "execution_count": 5,
   "metadata": {},
   "outputs": [
    {
     "data": {
      "text/html": [
       "<div><div style = \"float: left;\"><span>5×3 DataFrame</span></div><div style = \"clear: both;\"></div></div><div class = \"data-frame\" style = \"overflow-x: scroll;\"><table class = \"data-frame\" style = \"margin-bottom: 6px;\"><thead><tr class = \"header\"><th class = \"rowNumber\" style = \"font-weight: bold; text-align: right;\">Row</th><th style = \"text-align: left;\">age</th><th style = \"text-align: left;\">wage</th><th style = \"text-align: left;\">educ</th></tr><tr class = \"subheader headerLastRow\"><th class = \"rowNumber\" style = \"font-weight: bold; text-align: right;\"></th><th title = \"Int64\" style = \"text-align: left;\">Int64</th><th title = \"Int64\" style = \"text-align: left;\">Int64</th><th title = \"String\" style = \"text-align: left;\">String</th></tr></thead><tbody><tr><td class = \"rowNumber\" style = \"font-weight: bold; text-align: right;\">1</td><td style = \"text-align: right;\">22</td><td style = \"text-align: right;\">12000</td><td style = \"text-align: left;\">some college but no degree</td></tr><tr><td class = \"rowNumber\" style = \"font-weight: bold; text-align: right;\">2</td><td style = \"text-align: right;\">21</td><td style = \"text-align: right;\">3500</td><td style = \"text-align: left;\">some college but no degree</td></tr><tr><td class = \"rowNumber\" style = \"font-weight: bold; text-align: right;\">3</td><td style = \"text-align: right;\">49</td><td style = \"text-align: right;\">30000</td><td style = \"text-align: left;\">some college but no degree</td></tr><tr><td class = \"rowNumber\" style = \"font-weight: bold; text-align: right;\">4</td><td style = \"text-align: right;\">31</td><td style = \"text-align: right;\">32000</td><td style = \"text-align: left;\">bachelor&apos;s degree</td></tr><tr><td class = \"rowNumber\" style = \"font-weight: bold; text-align: right;\">5</td><td style = \"text-align: right;\">42</td><td style = \"text-align: right;\">89630</td><td style = \"text-align: left;\">doctorate degree</td></tr></tbody></table></div>"
      ],
      "text/latex": [
       "\\begin{tabular}{r|ccc}\n",
       "\t& age & wage & educ\\\\\n",
       "\t\\hline\n",
       "\t& Int64 & Int64 & String\\\\\n",
       "\t\\hline\n",
       "\t1 & 22 & 12000 & some college but no degree \\\\\n",
       "\t2 & 21 & 3500 & some college but no degree \\\\\n",
       "\t3 & 49 & 30000 & some college but no degree \\\\\n",
       "\t4 & 31 & 32000 & bachelor's degree \\\\\n",
       "\t5 & 42 & 89630 & doctorate degree \\\\\n",
       "\\end{tabular}\n"
      ],
      "text/plain": [
       "\u001b[1m5×3 DataFrame\u001b[0m\n",
       "\u001b[1m Row \u001b[0m│\u001b[1m age   \u001b[0m\u001b[1m wage  \u001b[0m\u001b[1m educ                       \u001b[0m\n",
       "     │\u001b[90m Int64 \u001b[0m\u001b[90m Int64 \u001b[0m\u001b[90m String                     \u001b[0m\n",
       "─────┼──────────────────────────────────────────\n",
       "   1 │    22  12000  some college but no degree\n",
       "   2 │    21   3500  some college but no degree\n",
       "   3 │    49  30000  some college but no degree\n",
       "   4 │    31  32000  bachelor's degree\n",
       "   5 │    42  89630  doctorate degree"
      ]
     },
     "execution_count": 5,
     "metadata": {},
     "output_type": "execute_result"
    }
   ],
   "source": [
    "cps = DataFrame(CSV.File(\"c:\\\\data\\\\Bounds\\\\cps.csv\")) # <-change this to the right directory\n",
    "\n",
    "## Cleaning zero wage\n",
    "\n",
    "cps = cps[cps.wage .> 0, :]\n",
    "first(cps,5)"
   ]
  },
  {
   "cell_type": "code",
   "execution_count": 6,
   "metadata": {},
   "outputs": [
    {
     "data": {
      "text/plain": [
       "Dict{String, Int64} with 16 entries:\n",
       "  \"grade 11\"                                            => 11\n",
       "  \"some college but no degree\"                          => 13\n",
       "  \"associate's degree, academic program\"                => 14\n",
       "  \"none or preschool\"                                   => 0\n",
       "  \"doctorate degree\"                                    => 21\n",
       "  \"grade 10\"                                            => 10\n",
       "  \"bachelor's degree\"                                   => 16\n",
       "  \"master's degree\"                                     => 14\n",
       "  \"grades 5 or 6\"                                       => 6\n",
       "  \"grades 7 or 8\"                                       => 8\n",
       "  \"grades 1, 2, 3, or 4\"                                => 4\n",
       "  \"associate's degree, occupational/vocational program\" => 14\n",
       "  \"professional school degree\"                          => 14\n",
       "  \"high school diploma or equivalent\"                   => 12\n",
       "  \"grade 9\"                                             => 9\n",
       "  \"12th grade, no diploma\"                              => 12"
      ]
     },
     "execution_count": 6,
     "metadata": {},
     "output_type": "execute_result"
    }
   ],
   "source": [
    "# Numerical value for education\n",
    "\n",
    "#1.Creating a dictionary\n",
    "\n",
    "educ_dict = Dict( \n",
    "    \"grade 11\" => 11, \n",
    "    \"some college but no degree\" => 13, \n",
    "    \"associate's degree, academic program\" => 14,\n",
    "    \"grade 10\" => 10, \n",
    "    \"grades 7 or 8\" => 8, \n",
    "    \"grades 1, 2, 3, or 4\" => 4, \n",
    "    \"associate's degree, occupational/vocational program\" => 14, \n",
    "    \"high school diploma or equivalent\" => 12, \n",
    "    \"grade 9\" => 9, \n",
    "    \"none or preschool\" => 0, \n",
    "    \"doctorate degree\" => 21,\n",
    "    \"bachelor's degree\" => 16, \n",
    "    \"master's degree\" => 14, \n",
    "    \"grades 5 or 6\" => 6, \n",
    "    \"professional school degree\" => 14, \n",
    "    \"12th grade, no diploma\" => 12\n",
    "    )"
   ]
  },
  {
   "cell_type": "code",
   "execution_count": 7,
   "metadata": {},
   "outputs": [
    {
     "data": {
      "text/html": [
       "<div><div style = \"float: left;\"><span>3×5 DataFrame</span></div><div style = \"clear: both;\"></div></div><div class = \"data-frame\" style = \"overflow-x: scroll;\"><table class = \"data-frame\" style = \"margin-bottom: 6px;\"><thead><tr class = \"header\"><th class = \"rowNumber\" style = \"font-weight: bold; text-align: right;\">Row</th><th style = \"text-align: left;\">age</th><th style = \"text-align: left;\">wage</th><th style = \"text-align: left;\">educ</th><th style = \"text-align: left;\">educ_num</th><th style = \"text-align: left;\">log_wage</th></tr><tr class = \"subheader headerLastRow\"><th class = \"rowNumber\" style = \"font-weight: bold; text-align: right;\"></th><th title = \"Int64\" style = \"text-align: left;\">Int64</th><th title = \"Int64\" style = \"text-align: left;\">Int64</th><th title = \"String\" style = \"text-align: left;\">String</th><th title = \"Int64\" style = \"text-align: left;\">Int64</th><th title = \"Float64\" style = \"text-align: left;\">Float64</th></tr></thead><tbody><tr><td class = \"rowNumber\" style = \"font-weight: bold; text-align: right;\">1</td><td style = \"text-align: right;\">22</td><td style = \"text-align: right;\">12000</td><td style = \"text-align: left;\">some college but no degree</td><td style = \"text-align: right;\">13</td><td style = \"text-align: right;\">9.39266</td></tr><tr><td class = \"rowNumber\" style = \"font-weight: bold; text-align: right;\">2</td><td style = \"text-align: right;\">21</td><td style = \"text-align: right;\">3500</td><td style = \"text-align: left;\">some college but no degree</td><td style = \"text-align: right;\">13</td><td style = \"text-align: right;\">8.16052</td></tr><tr><td class = \"rowNumber\" style = \"font-weight: bold; text-align: right;\">3</td><td style = \"text-align: right;\">49</td><td style = \"text-align: right;\">30000</td><td style = \"text-align: left;\">some college but no degree</td><td style = \"text-align: right;\">13</td><td style = \"text-align: right;\">10.309</td></tr></tbody></table></div>"
      ],
      "text/latex": [
       "\\begin{tabular}{r|ccccc}\n",
       "\t& age & wage & educ & educ\\_num & log\\_wage\\\\\n",
       "\t\\hline\n",
       "\t& Int64 & Int64 & String & Int64 & Float64\\\\\n",
       "\t\\hline\n",
       "\t1 & 22 & 12000 & some college but no degree & 13 & 9.39266 \\\\\n",
       "\t2 & 21 & 3500 & some college but no degree & 13 & 8.16052 \\\\\n",
       "\t3 & 49 & 30000 & some college but no degree & 13 & 10.309 \\\\\n",
       "\\end{tabular}\n"
      ],
      "text/plain": [
       "\u001b[1m3×5 DataFrame\u001b[0m\n",
       "\u001b[1m Row \u001b[0m│\u001b[1m age   \u001b[0m\u001b[1m wage  \u001b[0m\u001b[1m educ                       \u001b[0m\u001b[1m educ_num \u001b[0m\u001b[1m log_wage \u001b[0m\n",
       "     │\u001b[90m Int64 \u001b[0m\u001b[90m Int64 \u001b[0m\u001b[90m String                     \u001b[0m\u001b[90m Int64    \u001b[0m\u001b[90m Float64  \u001b[0m\n",
       "─────┼──────────────────────────────────────────────────────────────\n",
       "   1 │    22  12000  some college but no degree        13   9.39266\n",
       "   2 │    21   3500  some college but no degree        13   8.16052\n",
       "   3 │    49  30000  some college but no degree        13  10.309"
      ]
     },
     "execution_count": 7,
     "metadata": {},
     "output_type": "execute_result"
    }
   ],
   "source": [
    "#2. transforming cps.educ\n",
    "f(x) = educ_dict[x]\n",
    "cps.educ_num = f.(cps.educ)\n",
    "\n",
    "#3. log of wage\n",
    "cps.log_wage = log.(cps.wage)\n",
    "first(cps,3)"
   ]
  },
  {
   "cell_type": "code",
   "execution_count": 8,
   "metadata": {},
   "outputs": [
    {
     "name": "stdout",
     "output_type": "stream",
     "text": [
      "The original data contains 22715 observations and 5 columns."
     ]
    }
   ],
   "source": [
    "Nobs, c = size(cps)\n",
    "print(\"The original data contains \", Nobs, \" observations and \",c, \" columns.\")"
   ]
  },
  {
   "cell_type": "markdown",
   "metadata": {},
   "source": [
    "# Best Linear Predictor "
   ]
  },
  {
   "cell_type": "code",
   "execution_count": 9,
   "metadata": {},
   "outputs": [],
   "source": [
    "#reg(cps, @formula(log_wage ~ educ_num ), Vcov.robust())"
   ]
  },
  {
   "cell_type": "code",
   "execution_count": 10,
   "metadata": {
    "scrolled": true
   },
   "outputs": [],
   "source": [
    "#reg(cps, @formula(log_wage ~ educ_num + age ), Vcov.robust())"
   ]
  },
  {
   "cell_type": "markdown",
   "metadata": {},
   "source": [
    "# Creating Interval Data"
   ]
  },
  {
   "cell_type": "code",
   "execution_count": 11,
   "metadata": {},
   "outputs": [
    {
     "data": {
      "text/plain": [
       "362303.0"
      ]
     },
     "execution_count": 11,
     "metadata": {},
     "output_type": "execute_result"
    }
   ],
   "source": [
    "wage_quantiles = quantile(cps[!,:wage],[0.0, 0.1,0.2,0.3,0.4,0.5,0.6,0.7,0.8,0.9,1.0], sorted=false);\n",
    "#wage_quantiles[1] +=-1\n",
    "wage_quantiles[end] +=1"
   ]
  },
  {
   "cell_type": "code",
   "execution_count": 12,
   "metadata": {},
   "outputs": [
    {
     "data": {
      "text/html": [
       "<div><div style = \"float: left;\"><span>3×9 DataFrame</span></div><div style = \"clear: both;\"></div></div><div class = \"data-frame\" style = \"overflow-x: scroll;\"><table class = \"data-frame\" style = \"margin-bottom: 6px;\"><thead><tr class = \"header\"><th class = \"rowNumber\" style = \"font-weight: bold; text-align: right;\">Row</th><th style = \"text-align: left;\">age</th><th style = \"text-align: left;\">wage</th><th style = \"text-align: left;\">educ</th><th style = \"text-align: left;\">educ_num</th><th style = \"text-align: left;\">log_wage</th><th style = \"text-align: left;\">wage_lower</th><th style = \"text-align: left;\">wage_upper</th><th style = \"text-align: left;\">logwage_lower</th><th style = \"text-align: left;\">logwage_upper</th></tr><tr class = \"subheader headerLastRow\"><th class = \"rowNumber\" style = \"font-weight: bold; text-align: right;\"></th><th title = \"Int64\" style = \"text-align: left;\">Int64</th><th title = \"Int64\" style = \"text-align: left;\">Int64</th><th title = \"String\" style = \"text-align: left;\">String</th><th title = \"Int64\" style = \"text-align: left;\">Int64</th><th title = \"Float64\" style = \"text-align: left;\">Float64</th><th title = \"Float64\" style = \"text-align: left;\">Float64</th><th title = \"Float64\" style = \"text-align: left;\">Float64</th><th title = \"Float64\" style = \"text-align: left;\">Float64</th><th title = \"Float64\" style = \"text-align: left;\">Float64</th></tr></thead><tbody><tr><td class = \"rowNumber\" style = \"font-weight: bold; text-align: right;\">1</td><td style = \"text-align: right;\">22</td><td style = \"text-align: right;\">12000</td><td style = \"text-align: left;\">some college but no degree</td><td style = \"text-align: right;\">13</td><td style = \"text-align: right;\">9.39266</td><td style = \"text-align: right;\">9000.0</td><td style = \"text-align: right;\">15000.0</td><td style = \"text-align: right;\">9.10498</td><td style = \"text-align: right;\">9.61581</td></tr><tr><td class = \"rowNumber\" style = \"font-weight: bold; text-align: right;\">2</td><td style = \"text-align: right;\">21</td><td style = \"text-align: right;\">3500</td><td style = \"text-align: left;\">some college but no degree</td><td style = \"text-align: right;\">13</td><td style = \"text-align: right;\">8.16052</td><td style = \"text-align: right;\">1.0</td><td style = \"text-align: right;\">9000.0</td><td style = \"text-align: right;\">0.0</td><td style = \"text-align: right;\">9.10498</td></tr><tr><td class = \"rowNumber\" style = \"font-weight: bold; text-align: right;\">3</td><td style = \"text-align: right;\">49</td><td style = \"text-align: right;\">30000</td><td style = \"text-align: left;\">some college but no degree</td><td style = \"text-align: right;\">13</td><td style = \"text-align: right;\">10.309</td><td style = \"text-align: right;\">30000.0</td><td style = \"text-align: right;\">36000.0</td><td style = \"text-align: right;\">10.309</td><td style = \"text-align: right;\">10.4913</td></tr></tbody></table></div>"
      ],
      "text/latex": [
       "\\begin{tabular}{r|cccccccc}\n",
       "\t& age & wage & educ & educ\\_num & log\\_wage & wage\\_lower & wage\\_upper & \\\\\n",
       "\t\\hline\n",
       "\t& Int64 & Int64 & String & Int64 & Float64 & Float64 & Float64 & \\\\\n",
       "\t\\hline\n",
       "\t1 & 22 & 12000 & some college but no degree & 13 & 9.39266 & 9000.0 & 15000.0 & $\\dots$ \\\\\n",
       "\t2 & 21 & 3500 & some college but no degree & 13 & 8.16052 & 1.0 & 9000.0 & $\\dots$ \\\\\n",
       "\t3 & 49 & 30000 & some college but no degree & 13 & 10.309 & 30000.0 & 36000.0 & $\\dots$ \\\\\n",
       "\\end{tabular}\n"
      ],
      "text/plain": [
       "\u001b[1m3×9 DataFrame\u001b[0m\n",
       "\u001b[1m Row \u001b[0m│\u001b[1m age   \u001b[0m\u001b[1m wage  \u001b[0m\u001b[1m educ                       \u001b[0m\u001b[1m educ_num \u001b[0m\u001b[1m log_wage \u001b[0m\u001b[1m wage_lowe\u001b[0m ⋯\n",
       "     │\u001b[90m Int64 \u001b[0m\u001b[90m Int64 \u001b[0m\u001b[90m String                     \u001b[0m\u001b[90m Int64    \u001b[0m\u001b[90m Float64  \u001b[0m\u001b[90m Float64  \u001b[0m ⋯\n",
       "─────┼──────────────────────────────────────────────────────────────────────────\n",
       "   1 │    22  12000  some college but no degree        13   9.39266      9000. ⋯\n",
       "   2 │    21   3500  some college but no degree        13   8.16052         1.\n",
       "   3 │    49  30000  some college but no degree        13  10.309       30000.\n",
       "\u001b[36m                                                               4 columns omitted\u001b[0m"
      ]
     },
     "execution_count": 12,
     "metadata": {},
     "output_type": "execute_result"
    }
   ],
   "source": [
    "lower(x) = wage_quantiles[sum(wage_quantiles .<=x)]\n",
    "upper(x) = wage_quantiles[sum(wage_quantiles .<=x)+1]\n",
    "\n",
    "cps.wage_lower = lower.(cps.wage)\n",
    "cps.wage_upper = upper.(cps.wage)\n",
    "\n",
    "cps.logwage_lower = log.(cps.wage_lower)\n",
    "cps.logwage_upper = log.(cps.wage_upper)\n",
    "\n",
    "first(cps,3)"
   ]
  },
  {
   "cell_type": "code",
   "execution_count": 13,
   "metadata": {},
   "outputs": [
    {
     "name": "stdout",
     "output_type": "stream",
     "text": [
      "The complete data contains 22715 observations and 9 columns."
     ]
    }
   ],
   "source": [
    "Nobs, c = size(cps)\n",
    "print(\"The complete data contains \", Nobs, \" observations and \",c, \" columns.\")"
   ]
  },
  {
   "cell_type": "markdown",
   "metadata": {},
   "source": [
    "# Partial Indentification"
   ]
  },
  {
   "cell_type": "markdown",
   "metadata": {},
   "source": [
    "### Reading the module"
   ]
  },
  {
   "cell_type": "code",
   "execution_count": 14,
   "metadata": {},
   "outputs": [
    {
     "data": {
      "text/plain": [
       "Main.setBLP"
      ]
     },
     "execution_count": 14,
     "metadata": {},
     "output_type": "execute_result"
    }
   ],
   "source": [
    "include(\"C:\\\\Users\\\\arie\\\\OneDrive - University of Pittsburgh\\\\Documents\\\\Bounds.jl\\\\Bounds.jl\\\\src\\\\setBLP.jl\")"
   ]
  },
  {
   "cell_type": "code",
   "execution_count": 15,
   "metadata": {},
   "outputs": [],
   "source": [
    "using Main.setBLP"
   ]
  },
  {
   "cell_type": "markdown",
   "metadata": {},
   "source": [
    "## Testing projection function"
   ]
  },
  {
   "cell_type": "code",
   "execution_count": 16,
   "metadata": {},
   "outputs": [
    {
     "data": {
      "text/html": [
       "# 7 methods for generic function <b>projection</b> from \u001b[35mMain.setBLP\u001b[39m:<ul><li> projection(yl::<b>Vector{<:Real}</b>, yu::<b>Vector{<:Real}</b>, x::<b>Vector{<:Real}</b>) in Main.setBLP at <a href=\"https://github.com/ArieBeresteanu/Bounds.jl/tree/91126bb59043908b308e1c03705ebaa798324bfb//src/setBLP.jl#L197\" target=\"_blank\">C:\\Users\\arie\\OneDrive - University of Pittsburgh\\Documents\\Bounds.jl\\Bounds.jl\\src\\setBLP.jl:197</a></li> <li> projection(yl::<b>Vector{<:Real}</b>, yu::<b>Vector{<:Real}</b>, x::<b>Matrix{<:Real}</b>) in Main.setBLP at <a href=\"https://github.com/ArieBeresteanu/Bounds.jl/tree/91126bb59043908b308e1c03705ebaa798324bfb//src/setBLP.jl#L238\" target=\"_blank\">C:\\Users\\arie\\OneDrive - University of Pittsburgh\\Documents\\Bounds.jl\\Bounds.jl\\src\\setBLP.jl:238</a></li> <li> projection(yl::<b>Vector{<:Real}</b>, yu::<b>Vector{<:Real}</b>, x::<b>Matrix{<:Real}</b>, cord::<b>Int64</b>) in Main.setBLP at <a href=\"https://github.com/ArieBeresteanu/Bounds.jl/tree/91126bb59043908b308e1c03705ebaa798324bfb//src/setBLP.jl#L208\" target=\"_blank\">C:\\Users\\arie\\OneDrive - University of Pittsburgh\\Documents\\Bounds.jl\\Bounds.jl\\src\\setBLP.jl:208</a></li> <li> projection(yl::<b>Vector{<:Real}</b>, yu::<b>Vector{<:Real}</b>, x::<b>Matrix{<:Real}</b>, cords::<b>Vector{Int64}</b>) in Main.setBLP at <a href=\"https://github.com/ArieBeresteanu/Bounds.jl/tree/91126bb59043908b308e1c03705ebaa798324bfb//src/setBLP.jl#L221\" target=\"_blank\">C:\\Users\\arie\\OneDrive - University of Pittsburgh\\Documents\\Bounds.jl\\Bounds.jl\\src\\setBLP.jl:221</a></li> <li> projection(df::<b>DataFrame</b>, yl::<b>Symbol</b>, yu::<b>Symbol</b>, x::<b>Symbol</b>) in Main.setBLP at <a href=\"https://github.com/ArieBeresteanu/Bounds.jl/tree/91126bb59043908b308e1c03705ebaa798324bfb//src/setBLP.jl#L256\" target=\"_blank\">C:\\Users\\arie\\OneDrive - University of Pittsburgh\\Documents\\Bounds.jl\\Bounds.jl\\src\\setBLP.jl:256</a></li> <li> projection(df::<b>DataFrame</b>, yl::<b>Symbol</b>, yu::<b>Symbol</b>, x::<b>Vector{Symbol}</b>) in Main.setBLP at <a href=\"https://github.com/ArieBeresteanu/Bounds.jl/tree/91126bb59043908b308e1c03705ebaa798324bfb//src/setBLP.jl#L264\" target=\"_blank\">C:\\Users\\arie\\OneDrive - University of Pittsburgh\\Documents\\Bounds.jl\\Bounds.jl\\src\\setBLP.jl:264</a></li> <li> projection(df::<b>DataFrame</b>, yl::<b>Symbol</b>, yu::<b>Symbol</b>, x::<b>Vector{Symbol}</b>, cord::<b>Int64</b>) in Main.setBLP at <a href=\"https://github.com/ArieBeresteanu/Bounds.jl/tree/91126bb59043908b308e1c03705ebaa798324bfb//src/setBLP.jl#L272\" target=\"_blank\">C:\\Users\\arie\\OneDrive - University of Pittsburgh\\Documents\\Bounds.jl\\Bounds.jl\\src\\setBLP.jl:272</a></li> </ul>"
      ],
      "text/plain": [
       "# 7 methods for generic function \"projection\" from \u001b[35mMain.setBLP\u001b[39m:\n",
       " [1] projection(\u001b[90myl\u001b[39m::\u001b[1mVector\u001b[22m\u001b[0m{<:Real}, \u001b[90myu\u001b[39m::\u001b[1mVector\u001b[22m\u001b[0m{<:Real}, \u001b[90mx\u001b[39m::\u001b[1mVector\u001b[22m\u001b[0m{<:Real})\n",
       "\u001b[90m     @\u001b[39m \u001b[90mC:\\Users\\arie\\OneDrive - University of Pittsburgh\\Documents\\Bounds.jl\\Bounds.jl\\src\\\u001b[39m\u001b[90m\u001b[4msetBLP.jl:197\u001b[24m\u001b[39m\n",
       " [2] projection(\u001b[90myl\u001b[39m::\u001b[1mVector\u001b[22m\u001b[0m{<:Real}, \u001b[90myu\u001b[39m::\u001b[1mVector\u001b[22m\u001b[0m{<:Real}, \u001b[90mx\u001b[39m::\u001b[1mMatrix\u001b[22m\u001b[0m{<:Real})\n",
       "\u001b[90m     @\u001b[39m \u001b[90mC:\\Users\\arie\\OneDrive - University of Pittsburgh\\Documents\\Bounds.jl\\Bounds.jl\\src\\\u001b[39m\u001b[90m\u001b[4msetBLP.jl:238\u001b[24m\u001b[39m\n",
       " [3] projection(\u001b[90myl\u001b[39m::\u001b[1mVector\u001b[22m\u001b[0m{<:Real}, \u001b[90myu\u001b[39m::\u001b[1mVector\u001b[22m\u001b[0m{<:Real}, \u001b[90mx\u001b[39m::\u001b[1mMatrix\u001b[22m\u001b[0m{<:Real}, \u001b[90mcord\u001b[39m::\u001b[1mInt64\u001b[22m)\n",
       "\u001b[90m     @\u001b[39m \u001b[90mC:\\Users\\arie\\OneDrive - University of Pittsburgh\\Documents\\Bounds.jl\\Bounds.jl\\src\\\u001b[39m\u001b[90m\u001b[4msetBLP.jl:208\u001b[24m\u001b[39m\n",
       " [4] projection(\u001b[90myl\u001b[39m::\u001b[1mVector\u001b[22m\u001b[0m{<:Real}, \u001b[90myu\u001b[39m::\u001b[1mVector\u001b[22m\u001b[0m{<:Real}, \u001b[90mx\u001b[39m::\u001b[1mMatrix\u001b[22m\u001b[0m{<:Real}, \u001b[90mcords\u001b[39m::\u001b[1mVector\u001b[22m\u001b[0m{Int64})\n",
       "\u001b[90m     @\u001b[39m \u001b[90mC:\\Users\\arie\\OneDrive - University of Pittsburgh\\Documents\\Bounds.jl\\Bounds.jl\\src\\\u001b[39m\u001b[90m\u001b[4msetBLP.jl:221\u001b[24m\u001b[39m\n",
       " [5] projection(\u001b[90mdf\u001b[39m::\u001b[1mDataFrame\u001b[22m, \u001b[90myl\u001b[39m::\u001b[1mSymbol\u001b[22m, \u001b[90myu\u001b[39m::\u001b[1mSymbol\u001b[22m, \u001b[90mx\u001b[39m::\u001b[1mSymbol\u001b[22m)\n",
       "\u001b[90m     @\u001b[39m \u001b[90mC:\\Users\\arie\\OneDrive - University of Pittsburgh\\Documents\\Bounds.jl\\Bounds.jl\\src\\\u001b[39m\u001b[90m\u001b[4msetBLP.jl:256\u001b[24m\u001b[39m\n",
       " [6] projection(\u001b[90mdf\u001b[39m::\u001b[1mDataFrame\u001b[22m, \u001b[90myl\u001b[39m::\u001b[1mSymbol\u001b[22m, \u001b[90myu\u001b[39m::\u001b[1mSymbol\u001b[22m, \u001b[90mx\u001b[39m::\u001b[1mVector\u001b[22m\u001b[0m{Symbol})\n",
       "\u001b[90m     @\u001b[39m \u001b[90mC:\\Users\\arie\\OneDrive - University of Pittsburgh\\Documents\\Bounds.jl\\Bounds.jl\\src\\\u001b[39m\u001b[90m\u001b[4msetBLP.jl:264\u001b[24m\u001b[39m\n",
       " [7] projection(\u001b[90mdf\u001b[39m::\u001b[1mDataFrame\u001b[22m, \u001b[90myl\u001b[39m::\u001b[1mSymbol\u001b[22m, \u001b[90myu\u001b[39m::\u001b[1mSymbol\u001b[22m, \u001b[90mx\u001b[39m::\u001b[1mVector\u001b[22m\u001b[0m{Symbol}, \u001b[90mcord\u001b[39m::\u001b[1mInt64\u001b[22m)\n",
       "\u001b[90m     @\u001b[39m \u001b[90mC:\\Users\\arie\\OneDrive - University of Pittsburgh\\Documents\\Bounds.jl\\Bounds.jl\\src\\\u001b[39m\u001b[90m\u001b[4msetBLP.jl:272\u001b[24m\u001b[39m"
      ]
     },
     "execution_count": 16,
     "metadata": {},
     "output_type": "execute_result"
    }
   ],
   "source": [
    "methods(projection)"
   ]
  },
  {
   "cell_type": "code",
   "execution_count": 17,
   "metadata": {},
   "outputs": [
    {
     "name": "stdout",
     "output_type": "stream",
     "text": [
      "Options:\n",
      "  Number of MC iterations: 2000\n",
      "  Seed: 15217\n",
      "  Random Number Generator: Random.MersenneTwister(0x59789b150e47a6803caf35060968d80b)\n",
      "  Confidence level: 0.95\n"
     ]
    }
   ],
   "source": [
    "show(default_options)"
   ]
  },
  {
   "cell_type": "markdown",
   "metadata": {},
   "source": [
    "### 1. Testing the vector/matrix functions"
   ]
  },
  {
   "cell_type": "code",
   "execution_count": 18,
   "metadata": {},
   "outputs": [],
   "source": [
    "# Preparing vector and matrix versions of the data\n",
    "\n",
    "yl = cps.logwage_lower;\n",
    "yu = cps.logwage_upper;\n",
    "x1 = cps.age;\n",
    "x2 = cps.educ_num;\n",
    "x = [x1 x2];"
   ]
  },
  {
   "cell_type": "code",
   "execution_count": 19,
   "metadata": {},
   "outputs": [],
   "source": [
    "#projection(yl,yu,x1)"
   ]
  },
  {
   "cell_type": "code",
   "execution_count": 20,
   "metadata": {},
   "outputs": [],
   "source": [
    "#projection(yl,yu,x1)"
   ]
  },
  {
   "cell_type": "code",
   "execution_count": 21,
   "metadata": {},
   "outputs": [
    {
     "data": {
      "text/plain": [
       "1×2 Matrix{Float64}:\n",
       " -0.00905178  0.144324"
      ]
     },
     "execution_count": 21,
     "metadata": {},
     "output_type": "execute_result"
    }
   ],
   "source": [
    "projection(yl,yu,x,1)"
   ]
  },
  {
   "cell_type": "code",
   "execution_count": 22,
   "metadata": {},
   "outputs": [],
   "source": [
    "#projection(yl,yu,x,2)"
   ]
  },
  {
   "cell_type": "code",
   "execution_count": 23,
   "metadata": {},
   "outputs": [],
   "source": [
    "#projection(yl,yu,x)"
   ]
  },
  {
   "cell_type": "markdown",
   "metadata": {},
   "source": [
    "### 2. Testing the Dataframe version of the functions"
   ]
  },
  {
   "cell_type": "code",
   "execution_count": 24,
   "metadata": {},
   "outputs": [
    {
     "data": {
      "text/plain": [
       "1×2 Matrix{Float64}:\n",
       " -0.00488786  0.14866"
      ]
     },
     "execution_count": 24,
     "metadata": {},
     "output_type": "execute_result"
    }
   ],
   "source": [
    "projection(cps,:logwage_lower,:logwage_upper,:age)"
   ]
  },
  {
   "cell_type": "code",
   "execution_count": 25,
   "metadata": {},
   "outputs": [],
   "source": [
    "#projection(cps,:logwage_lower,:logwage_upper,:educ_num)"
   ]
  },
  {
   "cell_type": "code",
   "execution_count": 26,
   "metadata": {},
   "outputs": [],
   "source": [
    "#projection(cps,:logwage_lower,:logwage_upper,[:age,:educ_num],1)"
   ]
  },
  {
   "cell_type": "code",
   "execution_count": 27,
   "metadata": {},
   "outputs": [],
   "source": [
    "#projection(cps,:logwage_lower,:logwage_upper,[:age,:educ_num],2)"
   ]
  },
  {
   "cell_type": "code",
   "execution_count": 28,
   "metadata": {},
   "outputs": [],
   "source": [
    "#projection(cps,:logwage_lower,:logwage_upper,[:age,:educ_num])"
   ]
  },
  {
   "cell_type": "markdown",
   "metadata": {},
   "source": [
    "## Testing oneDproj function"
   ]
  },
  {
   "cell_type": "code",
   "execution_count": 29,
   "metadata": {},
   "outputs": [
    {
     "name": "stdout",
     "output_type": "stream",
     "text": [
      "Results: \n",
      "  Null: [0.0, 0.15]\n",
      "  Bound: [-0.0049, 0.1487]\n",
      "  Hausdorff based test: \n",
      "    Test Stat: 0.7367\n",
      "    Critical Value: 0.7153\n",
      "    Confidence Interval: [-0.0096, 0.1534]\n",
      "  directed Hausdorff test: \n",
      "    Test Stat: 0.202\n",
      "    Critical Value: 0.5866\n",
      "    Confidence Interval: [-0.0088, 0.1526]\n"
     ]
    }
   ],
   "source": [
    "res = oneDproj(yl,yu,float.(x1);CI=true,H0=[0, 0.15]);\n",
    "show(res)"
   ]
  },
  {
   "cell_type": "code",
   "execution_count": 30,
   "metadata": {},
   "outputs": [
    {
     "name": "stdout",
     "output_type": "stream",
     "text": [
      "Results: \n",
      "  Null: [0.1, 0.15]\n",
      "  Bound: [-0.0049, 0.1487]\n",
      "  Hausdorff based test: \n",
      "    Test Stat: 15.8082\n",
      "    Critical Value: 0.7524\n",
      "    Confidence Interval: [-0.0099, 0.1537]\n",
      "  directed Hausdorff test: \n",
      "    Test Stat: 0.202\n",
      "    Critical Value: 0.6159\n",
      "    Confidence Interval: [-0.009, 0.1527]\n"
     ]
    }
   ],
   "source": [
    "res = oneDproj(yl,yu,float.(x1);CI=true,H0=[0.1,0.15]);\n",
    "show(res)"
   ]
  },
  {
   "cell_type": "code",
   "execution_count": 31,
   "metadata": {},
   "outputs": [
    {
     "name": "stdout",
     "output_type": "stream",
     "text": [
      "Results: \n",
      "  Null: [0.0, 0.1]\n",
      "  Bound: [-0.0049, 0.1487]\n",
      "  Hausdorff based test: \n",
      "    Test Stat: 7.3337\n",
      "    Critical Value: 0.7205\n",
      "    Confidence Interval: [-0.0097, 0.1534]\n",
      "  directed Hausdorff test: \n",
      "    Test Stat: 0.0\n",
      "    Critical Value: 0.619\n",
      "    Confidence Interval: [-0.009, 0.1528]\n"
     ]
    }
   ],
   "source": [
    "res = oneDproj(yl,yu,float.(x1);CI=true,H0=[0.0,0.1]);\n",
    "show(res)"
   ]
  },
  {
   "cell_type": "code",
   "execution_count": 32,
   "metadata": {},
   "outputs": [
    {
     "name": "stdout",
     "output_type": "stream",
     "text": [
      "Results: \n",
      "  Null: [-0.1, 0.15]\n",
      "  Bound: [-0.0049, 0.1487]\n",
      "  Hausdorff based test: \n",
      "    Test Stat: 14.3348\n",
      "    Critical Value: 0.7045\n",
      "    Confidence Interval: [-0.0096, 0.1533]\n",
      "  directed Hausdorff test: \n",
      "    Test Stat: 14.3348\n",
      "    Critical Value: 0.5964\n",
      "    Confidence Interval: [-0.0088, 0.1526]\n"
     ]
    }
   ],
   "source": [
    "res = oneDproj(yl,yu,float.(x1);CI=true,H0=[-0.1,0.15]);\n",
    "show(res)"
   ]
  },
  {
   "cell_type": "code",
   "execution_count": 33,
   "metadata": {},
   "outputs": [
    {
     "data": {
      "text/plain": [
       "Results([-0.004887858329799178, 0.14865963017399053], nothing, nothing, nothing)"
      ]
     },
     "execution_count": 33,
     "metadata": {},
     "output_type": "execute_result"
    }
   ],
   "source": [
    "res = oneDproj(yl,yu,float.(x1);CI=false,H0=nothing)"
   ]
  },
  {
   "cell_type": "code",
   "execution_count": 34,
   "metadata": {},
   "outputs": [
    {
     "data": {
      "text/plain": [
       "Results([-0.004887858329799178, 0.14865963017399053], nothing, TestResults([-0.00963521160836039, 0.15340698345255174], 0.7154971725908829, nothing), TestResults([-0.00877537116848553, 0.15254714301267688], 0.585906352714883, nothing))"
      ]
     },
     "execution_count": 34,
     "metadata": {},
     "output_type": "execute_result"
    }
   ],
   "source": [
    "res = oneDproj(yl,yu,real.(x1))"
   ]
  },
  {
   "cell_type": "code",
   "execution_count": 35,
   "metadata": {},
   "outputs": [
    {
     "data": {
      "text/plain": [
       "Results([0.001786042221944126, 0.3685793555817362], nothing, TestResults([-0.014609559046528544, 0.3849749568502089], 2.471062434619364, nothing), TestResults([-0.01188153914555922, 0.38224693694923956], 2.0599090168339544, nothing))"
      ]
     },
     "execution_count": 35,
     "metadata": {},
     "output_type": "execute_result"
    }
   ],
   "source": [
    "res = oneDproj(cps,:logwage_lower,:logwage_upper,:educ_num)"
   ]
  },
  {
   "cell_type": "markdown",
   "metadata": {},
   "source": [
    "### Plotting"
   ]
  },
  {
   "cell_type": "code",
   "execution_count": 36,
   "metadata": {},
   "outputs": [
    {
     "data": {
      "image/png": "[encoded data removed]",
      "image/svg+xml": [
       "<?xml version=\"1.0\" encoding=\"utf-8\"?>\n",
       "<svg xmlns=\"http://www.w3.org/2000/svg\" xmlns:xlink=\"http://www.w3.org/1999/xlink\" width=\"600\" height=\"120\" viewBox=\"0 0 2400 480\">\n",
       "<defs>\n",
       "  <clipPath id=\"clip200\">\n",
       "    <rect x=\"0\" y=\"0\" width=\"2400\" height=\"480\"/>\n",
       "  </clipPath>\n",
       "</defs>\n",
       "<path clip-path=\"url(#clip200)\" d=\"M0 480 L2400 480 L2400 0 L0 0  Z\" fill=\"#ffffff\" fill-rule=\"evenodd\" fill-opacity=\"1\"/>\n",
       "<defs>\n",
       "  <clipPath id=\"clip201\">\n",
       "    <rect x=\"480\" y=\"0\" width=\"1681\" height=\"480\"/>\n",
       "  </clipPath>\n",
       "</defs>\n",
       "<path clip-path=\"url(#clip200)\" d=\"M223.45 401.84 L2352.76 401.84 L2352.76 47.2441 L223.45 47.2441  Z\" fill=\"#ffffff\" fill-rule=\"evenodd\" fill-opacity=\"1\"/>\n",
       "<defs>\n",
       "  <clipPath id=\"clip202\">\n",
       "    <rect x=\"223\" y=\"47\" width=\"2130\" height=\"356\"/>\n",
       "  </clipPath>\n",
       "</defs>\n",
       "<polyline clip-path=\"url(#clip202)\" style=\"stroke:#000000; stroke-linecap:round; stroke-linejoin:round; stroke-width:2; stroke-opacity:0.1; fill:none\" points=\"465.768,401.84 465.768,47.2441 \"/>\n",
       "<polyline clip-path=\"url(#clip202)\" style=\"stroke:#000000; stroke-linecap:round; stroke-linejoin:round; stroke-width:2; stroke-opacity:0.1; fill:none\" points=\"909.835,401.84 909.835,47.2441 \"/>\n",
       "<polyline clip-path=\"url(#clip202)\" style=\"stroke:#000000; stroke-linecap:round; stroke-linejoin:round; stroke-width:2; stroke-opacity:0.1; fill:none\" points=\"1353.9,401.84 1353.9,47.2441 \"/>\n",
       "<polyline clip-path=\"url(#clip202)\" style=\"stroke:#000000; stroke-linecap:round; stroke-linejoin:round; stroke-width:2; stroke-opacity:0.1; fill:none\" points=\"1797.97,401.84 1797.97,47.2441 \"/>\n",
       "<polyline clip-path=\"url(#clip202)\" style=\"stroke:#000000; stroke-linecap:round; stroke-linejoin:round; stroke-width:2; stroke-opacity:0.1; fill:none\" points=\"2242.03,401.84 2242.03,47.2441 \"/>\n",
       "<polyline clip-path=\"url(#clip200)\" style=\"stroke:#000000; stroke-linecap:round; stroke-linejoin:round; stroke-width:4; stroke-opacity:1; fill:none\" points=\"223.45,401.84 2352.76,401.84 \"/>\n",
       "<polyline clip-path=\"url(#clip200)\" style=\"stroke:#000000; stroke-linecap:round; stroke-linejoin:round; stroke-width:4; stroke-opacity:1; fill:none\" points=\"465.768,401.84 465.768,382.942 \"/>\n",
       "<polyline clip-path=\"url(#clip200)\" style=\"stroke:#000000; stroke-linecap:round; stroke-linejoin:round; stroke-width:4; stroke-opacity:1; fill:none\" points=\"909.835,401.84 909.835,382.942 \"/>\n",
       "<polyline clip-path=\"url(#clip200)\" style=\"stroke:#000000; stroke-linecap:round; stroke-linejoin:round; stroke-width:4; stroke-opacity:1; fill:none\" points=\"1353.9,401.84 1353.9,382.942 \"/>\n",
       "<polyline clip-path=\"url(#clip200)\" style=\"stroke:#000000; stroke-linecap:round; stroke-linejoin:round; stroke-width:4; stroke-opacity:1; fill:none\" points=\"1797.97,401.84 1797.97,382.942 \"/>\n",
       "<polyline clip-path=\"url(#clip200)\" style=\"stroke:#000000; stroke-linecap:round; stroke-linejoin:round; stroke-width:4; stroke-opacity:1; fill:none\" points=\"2242.03,401.84 2242.03,382.942 \"/>\n",
       "<path clip-path=\"url(#clip200)\" d=\"M443.152 432.759 Q439.541 432.759 437.713 436.323 Q435.907 439.865 435.907 446.995 Q435.907 454.101 437.713 457.666 Q439.541 461.207 443.152 461.207 Q446.787 461.207 448.592 457.666 Q450.421 454.101 450.421 446.995 Q450.421 439.865 448.592 436.323 Q446.787 432.759 443.152 432.759 M443.152 429.055 Q448.963 429.055 452.018 433.661 Q455.097 438.245 455.097 446.995 Q455.097 455.721 452.018 460.328 Q448.963 464.911 443.152 464.911 Q437.342 464.911 434.264 460.328 Q431.208 455.721 431.208 446.995 Q431.208 438.245 434.264 433.661 Q437.342 429.055 443.152 429.055 Z\" fill=\"#000000\" fill-rule=\"nonzero\" fill-opacity=\"1\" /><path clip-path=\"url(#clip200)\" d=\"M463.314 458.36 L468.199 458.36 L468.199 464.24 L463.314 464.24 L463.314 458.36 Z\" fill=\"#000000\" fill-rule=\"nonzero\" fill-opacity=\"1\" /><path clip-path=\"url(#clip200)\" d=\"M488.384 432.759 Q484.773 432.759 482.944 436.323 Q481.138 439.865 481.138 446.995 Q481.138 454.101 482.944 457.666 Q484.773 461.207 488.384 461.207 Q492.018 461.207 493.824 457.666 Q495.652 454.101 495.652 446.995 Q495.652 439.865 493.824 436.323 Q492.018 432.759 488.384 432.759 M488.384 429.055 Q494.194 429.055 497.249 433.661 Q500.328 438.245 500.328 446.995 Q500.328 455.721 497.249 460.328 Q494.194 464.911 488.384 464.911 Q482.574 464.911 479.495 460.328 Q476.439 455.721 476.439 446.995 Q476.439 438.245 479.495 433.661 Q482.574 429.055 488.384 429.055 Z\" fill=\"#000000\" fill-rule=\"nonzero\" fill-opacity=\"1\" /><path clip-path=\"url(#clip200)\" d=\"M887.833 432.759 Q884.222 432.759 882.393 436.323 Q880.587 439.865 880.587 446.995 Q880.587 454.101 882.393 457.666 Q884.222 461.207 887.833 461.207 Q891.467 461.207 893.272 457.666 Q895.101 454.101 895.101 446.995 Q895.101 439.865 893.272 436.323 Q891.467 432.759 887.833 432.759 M887.833 429.055 Q893.643 429.055 896.698 433.661 Q899.777 438.245 899.777 446.995 Q899.777 455.721 896.698 460.328 Q893.643 464.911 887.833 464.911 Q882.022 464.911 878.944 460.328 Q875.888 455.721 875.888 446.995 Q875.888 438.245 878.944 433.661 Q882.022 429.055 887.833 429.055 Z\" fill=\"#000000\" fill-rule=\"nonzero\" fill-opacity=\"1\" /><path clip-path=\"url(#clip200)\" d=\"M907.995 458.36 L912.879 458.36 L912.879 464.24 L907.995 464.24 L907.995 458.36 Z\" fill=\"#000000\" fill-rule=\"nonzero\" fill-opacity=\"1\" /><path clip-path=\"url(#clip200)\" d=\"M923.874 460.305 L931.513 460.305 L931.513 433.939 L923.203 435.606 L923.203 431.347 L931.467 429.68 L936.143 429.68 L936.143 460.305 L943.781 460.305 L943.781 464.24 L923.874 464.24 L923.874 460.305 Z\" fill=\"#000000\" fill-rule=\"nonzero\" fill-opacity=\"1\" /><path clip-path=\"url(#clip200)\" d=\"M1332.08 432.759 Q1328.47 432.759 1326.64 436.323 Q1324.84 439.865 1324.84 446.995 Q1324.84 454.101 1326.64 457.666 Q1328.47 461.207 1332.08 461.207 Q1335.72 461.207 1337.52 457.666 Q1339.35 454.101 1339.35 446.995 Q1339.35 439.865 1337.52 436.323 Q1335.72 432.759 1332.08 432.759 M1332.08 429.055 Q1337.89 429.055 1340.95 433.661 Q1344.03 438.245 1344.03 446.995 Q1344.03 455.721 1340.95 460.328 Q1337.89 464.911 1332.08 464.911 Q1326.27 464.911 1323.2 460.328 Q1320.14 455.721 1320.14 446.995 Q1320.14 438.245 1323.2 433.661 Q1326.27 429.055 1332.08 429.055 Z\" fill=\"#000000\" fill-rule=\"nonzero\" fill-opacity=\"1\" /><path clip-path=\"url(#clip200)\" d=\"M1352.25 458.36 L1357.13 458.36 L1357.13 464.24 L1352.25 464.24 L1352.25 458.36 Z\" fill=\"#000000\" fill-rule=\"nonzero\" fill-opacity=\"1\" /><path clip-path=\"url(#clip200)\" d=\"M1371.34 460.305 L1387.66 460.305 L1387.66 464.24 L1365.72 464.24 L1365.72 460.305 Q1368.38 457.55 1372.96 452.92 Q1377.57 448.268 1378.75 446.925 Q1381 444.402 1381.88 442.666 Q1382.78 440.907 1382.78 439.217 Q1382.78 436.462 1380.83 434.726 Q1378.91 432.99 1375.81 432.99 Q1373.61 432.99 1371.16 433.754 Q1368.73 434.518 1365.95 436.069 L1365.95 431.347 Q1368.77 430.212 1371.23 429.634 Q1373.68 429.055 1375.72 429.055 Q1381.09 429.055 1384.28 431.74 Q1387.48 434.425 1387.48 438.916 Q1387.48 441.046 1386.67 442.967 Q1385.88 444.865 1383.77 447.458 Q1383.2 448.129 1380.09 451.346 Q1376.99 454.541 1371.34 460.305 Z\" fill=\"#000000\" fill-rule=\"nonzero\" fill-opacity=\"1\" /><path clip-path=\"url(#clip200)\" d=\"M1775.68 432.759 Q1772.07 432.759 1770.24 436.323 Q1768.43 439.865 1768.43 446.995 Q1768.43 454.101 1770.24 457.666 Q1772.07 461.207 1775.68 461.207 Q1779.31 461.207 1781.12 457.666 Q1782.95 454.101 1782.95 446.995 Q1782.95 439.865 1781.12 436.323 Q1779.31 432.759 1775.68 432.759 M1775.68 429.055 Q1781.49 429.055 1784.54 433.661 Q1787.62 438.245 1787.62 446.995 Q1787.62 455.721 1784.54 460.328 Q1781.49 464.911 1775.68 464.911 Q1769.87 464.911 1766.79 460.328 Q1763.73 455.721 1763.73 446.995 Q1763.73 438.245 1766.79 433.661 Q1769.87 429.055 1775.68 429.055 Z\" fill=\"#000000\" fill-rule=\"nonzero\" fill-opacity=\"1\" /><path clip-path=\"url(#clip200)\" d=\"M1795.84 458.36 L1800.72 458.36 L1800.72 464.24 L1795.84 464.24 L1795.84 458.36 Z\" fill=\"#000000\" fill-rule=\"nonzero\" fill-opacity=\"1\" /><path clip-path=\"url(#clip200)\" d=\"M1825.07 445.606 Q1828.43 446.323 1830.31 448.592 Q1832.2 450.86 1832.2 454.194 Q1832.2 459.309 1828.69 462.11 Q1825.17 464.911 1818.69 464.911 Q1816.51 464.911 1814.19 464.471 Q1811.9 464.055 1809.45 463.198 L1809.45 458.684 Q1811.39 459.819 1813.71 460.397 Q1816.02 460.976 1818.55 460.976 Q1822.94 460.976 1825.24 459.24 Q1827.55 457.504 1827.55 454.194 Q1827.55 451.138 1825.4 449.425 Q1823.27 447.689 1819.45 447.689 L1815.42 447.689 L1815.42 443.846 L1819.63 443.846 Q1823.08 443.846 1824.91 442.481 Q1826.74 441.092 1826.74 438.499 Q1826.74 435.837 1824.84 434.425 Q1822.97 432.99 1819.45 432.99 Q1817.53 432.99 1815.33 433.407 Q1813.13 433.823 1810.49 434.703 L1810.49 430.536 Q1813.15 429.796 1815.47 429.425 Q1817.81 429.055 1819.87 429.055 Q1825.19 429.055 1828.29 431.485 Q1831.39 433.893 1831.39 438.013 Q1831.39 440.884 1829.75 442.874 Q1828.11 444.842 1825.07 445.606 Z\" fill=\"#000000\" fill-rule=\"nonzero\" fill-opacity=\"1\" /><path clip-path=\"url(#clip200)\" d=\"M2219.18 432.759 Q2215.57 432.759 2213.74 436.323 Q2211.93 439.865 2211.93 446.995 Q2211.93 454.101 2213.74 457.666 Q2215.57 461.207 2219.18 461.207 Q2222.81 461.207 2224.62 457.666 Q2226.44 454.101 2226.44 446.995 Q2226.44 439.865 2224.62 436.323 Q2222.81 432.759 2219.18 432.759 M2219.18 429.055 Q2224.99 429.055 2228.04 433.661 Q2231.12 438.245 2231.12 446.995 Q2231.12 455.721 2228.04 460.328 Q2224.99 464.911 2219.18 464.911 Q2213.37 464.911 2210.29 460.328 Q2207.23 455.721 2207.23 446.995 Q2207.23 438.245 2210.29 433.661 Q2213.37 429.055 2219.18 429.055 Z\" fill=\"#000000\" fill-rule=\"nonzero\" fill-opacity=\"1\" /><path clip-path=\"url(#clip200)\" d=\"M2239.34 458.36 L2244.22 458.36 L2244.22 464.24 L2239.34 464.24 L2239.34 458.36 Z\" fill=\"#000000\" fill-rule=\"nonzero\" fill-opacity=\"1\" /><path clip-path=\"url(#clip200)\" d=\"M2267.25 433.754 L2255.45 452.203 L2267.25 452.203 L2267.25 433.754 M2266.03 429.68 L2271.91 429.68 L2271.91 452.203 L2276.84 452.203 L2276.84 456.092 L2271.91 456.092 L2271.91 464.24 L2267.25 464.24 L2267.25 456.092 L2251.65 456.092 L2251.65 451.578 L2266.03 429.68 Z\" fill=\"#000000\" fill-rule=\"nonzero\" fill-opacity=\"1\" /><polyline clip-path=\"url(#clip202)\" style=\"stroke:#000000; stroke-linecap:round; stroke-linejoin:round; stroke-width:2; stroke-opacity:0.1; fill:none\" points=\"223.45,357.515 2352.76,357.515 \"/>\n",
       "<polyline clip-path=\"url(#clip202)\" style=\"stroke:#000000; stroke-linecap:round; stroke-linejoin:round; stroke-width:2; stroke-opacity:0.1; fill:none\" points=\"223.45,313.191 2352.76,313.191 \"/>\n",
       "<polyline clip-path=\"url(#clip202)\" style=\"stroke:#000000; stroke-linecap:round; stroke-linejoin:round; stroke-width:2; stroke-opacity:0.1; fill:none\" points=\"223.45,268.866 2352.76,268.866 \"/>\n",
       "<polyline clip-path=\"url(#clip202)\" style=\"stroke:#000000; stroke-linecap:round; stroke-linejoin:round; stroke-width:2; stroke-opacity:0.1; fill:none\" points=\"223.45,224.542 2352.76,224.542 \"/>\n",
       "<polyline clip-path=\"url(#clip202)\" style=\"stroke:#000000; stroke-linecap:round; stroke-linejoin:round; stroke-width:2; stroke-opacity:0.1; fill:none\" points=\"223.45,180.218 2352.76,180.218 \"/>\n",
       "<polyline clip-path=\"url(#clip202)\" style=\"stroke:#000000; stroke-linecap:round; stroke-linejoin:round; stroke-width:2; stroke-opacity:0.1; fill:none\" points=\"223.45,135.893 2352.76,135.893 \"/>\n",
       "<polyline clip-path=\"url(#clip202)\" style=\"stroke:#000000; stroke-linecap:round; stroke-linejoin:round; stroke-width:2; stroke-opacity:0.1; fill:none\" points=\"223.45,91.5686 2352.76,91.5686 \"/>\n",
       "<line clip-path=\"url(#clip202)\" x1=\"400.892\" y1=\"308.866\" x2=\"400.892\" y2=\"228.866\" style=\"stroke:#ff0000; stroke-width:3.84; stroke-opacity:1\"/>\n",
       "<line clip-path=\"url(#clip202)\" x1=\"473.699\" y1=\"220.218\" x2=\"473.699\" y2=\"140.218\" style=\"stroke:#0000ff; stroke-width:3.84; stroke-opacity:1\"/>\n",
       "<line clip-path=\"url(#clip202)\" x1=\"2102.51\" y1=\"220.218\" x2=\"2102.51\" y2=\"140.218\" style=\"stroke:#0000ff; stroke-width:3.84; stroke-opacity:1\"/>\n",
       "<line clip-path=\"url(#clip202)\" x1=\"2175.31\" y1=\"308.866\" x2=\"2175.31\" y2=\"228.866\" style=\"stroke:#ff0000; stroke-width:3.84; stroke-opacity:1\"/>\n",
       "<polyline clip-path=\"url(#clip202)\" style=\"stroke:#0000ff; stroke-linecap:round; stroke-linejoin:round; stroke-width:4; stroke-opacity:1; fill:none\" points=\"473.699,180.218 2102.51,180.218 \"/>\n",
       "<polyline clip-path=\"url(#clip202)\" style=\"stroke:#ff0000; stroke-linecap:round; stroke-linejoin:round; stroke-width:4; stroke-opacity:1; fill:none\" points=\"400.892,268.866 2175.31,268.866 \"/>\n",
       "<path clip-path=\"url(#clip200)\" d=\"M355.028 66.7163 Q348.709 66.7163 345.508 72.9547 Q342.349 79.1525 342.349 91.6293 Q342.349 104.066 345.508 110.304 Q348.709 116.502 355.028 116.502 Q361.388 116.502 364.548 110.304 Q367.748 104.066 367.748 91.6293 Q367.748 79.1525 364.548 72.9547 Q361.388 66.7163 355.028 66.7163 M355.028 60.2348 Q365.196 60.2348 370.543 68.2961 Q375.931 76.3169 375.931 91.6293 Q375.931 106.901 370.543 114.963 Q365.196 122.983 355.028 122.983 Q344.86 122.983 339.473 114.963 Q334.125 106.901 334.125 91.6293 Q334.125 76.3169 339.473 68.2961 Q344.86 60.2348 355.028 60.2348 Z\" fill=\"#0000ff\" fill-rule=\"nonzero\" fill-opacity=\"1\" /><path clip-path=\"url(#clip200)\" d=\"M390.311 111.519 L398.859 111.519 L398.859 121.809 L390.311 121.809 L390.311 111.519 Z\" fill=\"#0000ff\" fill-rule=\"nonzero\" fill-opacity=\"1\" /><path clip-path=\"url(#clip200)\" d=\"M434.183 66.7163 Q427.863 66.7163 424.663 72.9547 Q421.503 79.1525 421.503 91.6293 Q421.503 104.066 424.663 110.304 Q427.863 116.502 434.183 116.502 Q440.543 116.502 443.702 110.304 Q446.903 104.066 446.903 91.6293 Q446.903 79.1525 443.702 72.9547 Q440.543 66.7163 434.183 66.7163 M434.183 60.2348 Q444.351 60.2348 449.698 68.2961 Q455.085 76.3169 455.085 91.6293 Q455.085 106.901 449.698 114.963 Q444.351 122.983 434.183 122.983 Q424.015 122.983 418.627 114.963 Q413.28 106.901 413.28 91.6293 Q413.28 76.3169 418.627 68.2961 Q424.015 60.2348 434.183 60.2348 Z\" fill=\"#0000ff\" fill-rule=\"nonzero\" fill-opacity=\"1\" /><path clip-path=\"url(#clip200)\" d=\"M486.966 66.7163 Q480.647 66.7163 477.446 72.9547 Q474.287 79.1525 474.287 91.6293 Q474.287 104.066 477.446 110.304 Q480.647 116.502 486.966 116.502 Q493.326 116.502 496.486 110.304 Q499.686 104.066 499.686 91.6293 Q499.686 79.1525 496.486 72.9547 Q493.326 66.7163 486.966 66.7163 M486.966 60.2348 Q497.134 60.2348 502.481 68.2961 Q507.869 76.3169 507.869 91.6293 Q507.869 106.901 502.481 114.963 Q497.134 122.983 486.966 122.983 Q476.798 122.983 471.411 114.963 Q466.063 106.901 466.063 91.6293 Q466.063 76.3169 471.411 68.2961 Q476.798 60.2348 486.966 60.2348 Z\" fill=\"#0000ff\" fill-rule=\"nonzero\" fill-opacity=\"1\" /><path clip-path=\"url(#clip200)\" d=\"M523.667 114.922 L537.035 114.922 L537.035 68.7822 L522.492 71.6989 L522.492 64.2452 L536.954 61.3286 L545.137 61.3286 L545.137 114.922 L558.505 114.922 L558.505 121.809 L523.667 121.809 L523.667 114.922 Z\" fill=\"#0000ff\" fill-rule=\"nonzero\" fill-opacity=\"1\" /><path clip-path=\"url(#clip200)\" d=\"M592.533 93.0877 Q586.699 93.0877 583.337 96.2069 Q580.015 99.326 580.015 104.795 Q580.015 110.263 583.337 113.383 Q586.699 116.502 592.533 116.502 Q598.366 116.502 601.728 113.383 Q605.09 110.223 605.09 104.795 Q605.09 99.326 601.728 96.2069 Q598.406 93.0877 592.533 93.0877 M584.35 89.6039 Q579.084 88.3076 576.126 84.7023 Q573.21 81.097 573.21 75.9118 Q573.21 68.6607 578.354 64.4478 Q583.54 60.2348 592.533 60.2348 Q601.566 60.2348 606.711 64.4478 Q611.855 68.6607 611.855 75.9118 Q611.855 81.097 608.898 84.7023 Q605.982 88.3076 600.756 89.6039 Q606.67 90.9812 609.951 94.9916 Q613.273 99.002 613.273 104.795 Q613.273 113.585 607.886 118.284 Q602.538 122.983 592.533 122.983 Q582.527 122.983 577.139 118.284 Q571.792 113.585 571.792 104.795 Q571.792 99.002 575.114 94.9916 Q578.435 90.9812 584.35 89.6039 M581.352 76.6815 Q581.352 81.3805 584.269 84.0136 Q587.226 86.6467 592.533 86.6467 Q597.799 86.6467 600.756 84.0136 Q603.754 81.3805 603.754 76.6815 Q603.754 71.9824 600.756 69.3494 Q597.799 66.7163 592.533 66.7163 Q587.226 66.7163 584.269 69.3494 Q581.352 71.9824 581.352 76.6815 Z\" fill=\"#0000ff\" fill-rule=\"nonzero\" fill-opacity=\"1\" /><path clip-path=\"url(#clip200)\" d=\"M1983.61 66.7163 Q1977.29 66.7163 1974.09 72.9547 Q1970.93 79.1525 1970.93 91.6293 Q1970.93 104.066 1974.09 110.304 Q1977.29 116.502 1983.61 116.502 Q1989.97 116.502 1993.13 110.304 Q1996.33 104.066 1996.33 91.6293 Q1996.33 79.1525 1993.13 72.9547 Q1989.97 66.7163 1983.61 66.7163 M1983.61 60.2348 Q1993.78 60.2348 1999.13 68.2961 Q2004.51 76.3169 2004.51 91.6293 Q2004.51 106.901 1999.13 114.963 Q1993.78 122.983 1983.61 122.983 Q1973.44 122.983 1968.06 114.963 Q1962.71 106.901 1962.71 91.6293 Q1962.71 76.3169 1968.06 68.2961 Q1973.44 60.2348 1983.61 60.2348 Z\" fill=\"#0000ff\" fill-rule=\"nonzero\" fill-opacity=\"1\" /><path clip-path=\"url(#clip200)\" d=\"M2018.9 111.519 L2027.44 111.519 L2027.44 121.809 L2018.9 121.809 L2018.9 111.519 Z\" fill=\"#0000ff\" fill-rule=\"nonzero\" fill-opacity=\"1\" /><path clip-path=\"url(#clip200)\" d=\"M2070.06 89.1988 Q2075.93 90.4546 2079.21 94.4245 Q2082.54 98.3943 2082.54 104.228 Q2082.54 113.18 2076.38 118.082 Q2070.22 122.983 2058.88 122.983 Q2055.07 122.983 2051.02 122.214 Q2047.01 121.484 2042.71 119.986 L2042.71 112.086 Q2046.12 114.071 2050.17 115.084 Q2054.22 116.097 2058.64 116.097 Q2066.33 116.097 2070.34 113.059 Q2074.39 110.02 2074.39 104.228 Q2074.39 98.8804 2070.63 95.8828 Q2066.9 92.8446 2060.21 92.8446 L2053.17 92.8446 L2053.17 86.1201 L2060.54 86.1201 Q2066.57 86.1201 2069.78 83.7301 Q2072.98 81.2995 2072.98 76.7625 Q2072.98 72.104 2069.65 69.6329 Q2066.37 67.1214 2060.21 67.1214 Q2056.85 67.1214 2053 67.8505 Q2049.16 68.5797 2044.54 70.119 L2044.54 62.8274 Q2049.2 61.5311 2053.25 60.883 Q2057.34 60.2348 2060.94 60.2348 Q2070.26 60.2348 2075.69 64.4883 Q2081.12 68.7012 2081.12 75.9118 Q2081.12 80.9349 2078.24 84.4187 Q2075.37 87.862 2070.06 89.1988 Z\" fill=\"#0000ff\" fill-rule=\"nonzero\" fill-opacity=\"1\" /><path clip-path=\"url(#clip200)\" d=\"M2116.56 88.3076 Q2111.05 88.3076 2107.81 92.0749 Q2104.61 95.8423 2104.61 102.405 Q2104.61 108.927 2107.81 112.735 Q2111.05 116.502 2116.56 116.502 Q2122.07 116.502 2125.27 112.735 Q2128.51 108.927 2128.51 102.405 Q2128.51 95.8423 2125.27 92.0749 Q2122.07 88.3076 2116.56 88.3076 M2132.81 62.6654 L2132.81 70.119 Q2129.73 68.6607 2126.57 67.891 Q2123.45 67.1214 2120.37 67.1214 Q2112.27 67.1214 2107.98 72.5901 Q2103.72 78.0588 2103.11 89.1178 Q2105.5 85.5935 2109.11 83.7301 Q2112.71 81.8261 2117.05 81.8261 Q2126.16 81.8261 2131.43 87.3759 Q2136.74 92.8851 2136.74 102.405 Q2136.74 111.722 2131.23 117.353 Q2125.72 122.983 2116.56 122.983 Q2106.07 122.983 2100.52 114.963 Q2094.97 106.901 2094.97 91.6293 Q2094.97 77.2891 2101.78 68.7822 Q2108.58 60.2348 2120.05 60.2348 Q2123.13 60.2348 2126.24 60.8425 Q2129.4 61.4501 2132.81 62.6654 Z\" fill=\"#0000ff\" fill-rule=\"nonzero\" fill-opacity=\"1\" /><path clip-path=\"url(#clip200)\" d=\"M2168.33 93.0877 Q2162.5 93.0877 2159.14 96.2069 Q2155.82 99.326 2155.82 104.795 Q2155.82 110.263 2159.14 113.383 Q2162.5 116.502 2168.33 116.502 Q2174.17 116.502 2177.53 113.383 Q2180.89 110.223 2180.89 104.795 Q2180.89 99.326 2177.53 96.2069 Q2174.21 93.0877 2168.33 93.0877 M2160.15 89.6039 Q2154.88 88.3076 2151.93 84.7023 Q2149.01 81.097 2149.01 75.9118 Q2149.01 68.6607 2154.16 64.4478 Q2159.34 60.2348 2168.33 60.2348 Q2177.37 60.2348 2182.51 64.4478 Q2187.66 68.6607 2187.66 75.9118 Q2187.66 81.097 2184.7 84.7023 Q2181.78 88.3076 2176.56 89.6039 Q2182.47 90.9812 2185.75 94.9916 Q2189.07 99.002 2189.07 104.795 Q2189.07 113.585 2183.69 118.284 Q2178.34 122.983 2168.33 122.983 Q2158.33 122.983 2152.94 118.284 Q2147.59 113.585 2147.59 104.795 Q2147.59 99.002 2150.91 94.9916 Q2154.24 90.9812 2160.15 89.6039 M2157.15 76.6815 Q2157.15 81.3805 2160.07 84.0136 Q2163.03 86.6467 2168.33 86.6467 Q2173.6 86.6467 2176.56 84.0136 Q2179.55 81.3805 2179.55 76.6815 Q2179.55 71.9824 2176.56 69.3494 Q2173.6 66.7163 2168.33 66.7163 Q2163.03 66.7163 2160.07 69.3494 Q2157.15 71.9824 2157.15 76.6815 Z\" fill=\"#0000ff\" fill-rule=\"nonzero\" fill-opacity=\"1\" /><path clip-path=\"url(#clip200)\" d=\"M2222.13 88.3076 Q2216.62 88.3076 2213.38 92.0749 Q2210.18 95.8423 2210.18 102.405 Q2210.18 108.927 2213.38 112.735 Q2216.62 116.502 2222.13 116.502 Q2227.64 116.502 2230.84 112.735 Q2234.08 108.927 2234.08 102.405 Q2234.08 95.8423 2230.84 92.0749 Q2227.64 88.3076 2222.13 88.3076 M2238.37 62.6654 L2238.37 70.119 Q2235.29 68.6607 2232.14 67.891 Q2229.02 67.1214 2225.94 67.1214 Q2217.84 67.1214 2213.54 72.5901 Q2209.29 78.0588 2208.68 89.1178 Q2211.07 85.5935 2214.68 83.7301 Q2218.28 81.8261 2222.62 81.8261 Q2231.73 81.8261 2237 87.3759 Q2242.3 92.8851 2242.3 102.405 Q2242.3 111.722 2236.79 117.353 Q2231.28 122.983 2222.13 122.983 Q2211.64 122.983 2206.09 114.963 Q2200.54 106.901 2200.54 91.6293 Q2200.54 77.2891 2207.34 68.7822 Q2214.15 60.2348 2225.61 60.2348 Q2228.69 60.2348 2231.81 60.8425 Q2234.97 61.4501 2238.37 62.6654 Z\" fill=\"#0000ff\" fill-rule=\"nonzero\" fill-opacity=\"1\" /><path clip-path=\"url(#clip200)\" d=\"M245.418 361.708 L267.253 361.708 L267.253 368.352 L245.418 368.352 L245.418 361.708 Z\" fill=\"#ff0000\" fill-rule=\"nonzero\" fill-opacity=\"1\" /><path clip-path=\"url(#clip200)\" d=\"M297.675 332.663 Q291.355 332.663 288.155 338.901 Q284.996 345.099 284.996 357.576 Q284.996 370.012 288.155 376.251 Q291.355 382.449 297.675 382.449 Q304.035 382.449 307.194 376.251 Q310.395 370.012 310.395 357.576 Q310.395 345.099 307.194 338.901 Q304.035 332.663 297.675 332.663 M297.675 326.182 Q307.843 326.182 313.19 334.243 Q318.578 342.264 318.578 357.576 Q318.578 372.848 313.19 380.909 Q307.843 388.93 297.675 388.93 Q287.507 388.93 282.119 380.909 Q276.772 372.848 276.772 357.576 Q276.772 342.264 282.119 334.243 Q287.507 326.182 297.675 326.182 Z\" fill=\"#ff0000\" fill-rule=\"nonzero\" fill-opacity=\"1\" /><path clip-path=\"url(#clip200)\" d=\"M332.958 377.466 L341.506 377.466 L341.506 387.755 L332.958 387.755 L332.958 377.466 Z\" fill=\"#ff0000\" fill-rule=\"nonzero\" fill-opacity=\"1\" /><path clip-path=\"url(#clip200)\" d=\"M376.83 332.663 Q370.51 332.663 367.31 338.901 Q364.15 345.099 364.15 357.576 Q364.15 370.012 367.31 376.251 Q370.51 382.449 376.83 382.449 Q383.189 382.449 386.349 376.251 Q389.549 370.012 389.549 357.576 Q389.549 345.099 386.349 338.901 Q383.189 332.663 376.83 332.663 M376.83 326.182 Q386.997 326.182 392.345 334.243 Q397.732 342.264 397.732 357.576 Q397.732 372.848 392.345 380.909 Q386.997 388.93 376.83 388.93 Q366.662 388.93 361.274 380.909 Q355.927 372.848 355.927 357.576 Q355.927 342.264 361.274 334.243 Q366.662 326.182 376.83 326.182 Z\" fill=\"#ff0000\" fill-rule=\"nonzero\" fill-opacity=\"1\" /><path clip-path=\"url(#clip200)\" d=\"M413.531 380.869 L426.899 380.869 L426.899 334.729 L412.356 337.646 L412.356 330.192 L426.818 327.275 L435.001 327.275 L435.001 380.869 L448.369 380.869 L448.369 387.755 L413.531 387.755 L413.531 380.869 Z\" fill=\"#ff0000\" fill-rule=\"nonzero\" fill-opacity=\"1\" /><path clip-path=\"url(#clip200)\" d=\"M487.379 334.405 L466.719 366.691 L487.379 366.691 L487.379 334.405 M485.232 327.275 L495.521 327.275 L495.521 366.691 L504.149 366.691 L504.149 373.496 L495.521 373.496 L495.521 387.755 L487.379 387.755 L487.379 373.496 L460.076 373.496 L460.076 365.597 L485.232 327.275 Z\" fill=\"#ff0000\" fill-rule=\"nonzero\" fill-opacity=\"1\" /><path clip-path=\"url(#clip200)\" d=\"M536.192 354.254 Q530.683 354.254 527.442 358.022 Q524.242 361.789 524.242 368.352 Q524.242 374.874 527.442 378.681 Q530.683 382.449 536.192 382.449 Q541.701 382.449 544.902 378.681 Q548.142 374.874 548.142 368.352 Q548.142 361.789 544.902 358.022 Q541.701 354.254 536.192 354.254 M552.436 328.612 L552.436 336.066 Q549.358 334.608 546.198 333.838 Q543.079 333.068 540 333.068 Q531.898 333.068 527.604 338.537 Q523.351 344.006 522.743 355.065 Q525.133 351.54 528.738 349.677 Q532.344 347.773 536.678 347.773 Q545.793 347.773 551.059 353.323 Q556.366 358.832 556.366 368.352 Q556.366 377.669 550.856 383.299 Q545.347 388.93 536.192 388.93 Q525.7 388.93 520.151 380.909 Q514.601 372.848 514.601 357.576 Q514.601 343.236 521.406 334.729 Q528.212 326.182 539.676 326.182 Q542.755 326.182 545.874 326.789 Q549.033 327.397 552.436 328.612 Z\" fill=\"#ff0000\" fill-rule=\"nonzero\" fill-opacity=\"1\" /><path clip-path=\"url(#clip200)\" d=\"M2083.82 332.663 Q2077.5 332.663 2074.3 338.901 Q2071.14 345.099 2071.14 357.576 Q2071.14 370.012 2074.3 376.251 Q2077.5 382.449 2083.82 382.449 Q2090.18 382.449 2093.34 376.251 Q2096.54 370.012 2096.54 357.576 Q2096.54 345.099 2093.34 338.901 Q2090.18 332.663 2083.82 332.663 M2083.82 326.182 Q2093.99 326.182 2099.34 334.243 Q2104.73 342.264 2104.73 357.576 Q2104.73 372.848 2099.34 380.909 Q2093.99 388.93 2083.82 388.93 Q2073.66 388.93 2068.27 380.909 Q2062.92 372.848 2062.92 357.576 Q2062.92 342.264 2068.27 334.243 Q2073.66 326.182 2083.82 326.182 Z\" fill=\"#ff0000\" fill-rule=\"nonzero\" fill-opacity=\"1\" /><path clip-path=\"url(#clip200)\" d=\"M2119.11 377.466 L2127.65 377.466 L2127.65 387.755 L2119.11 387.755 L2119.11 377.466 Z\" fill=\"#ff0000\" fill-rule=\"nonzero\" fill-opacity=\"1\" /><path clip-path=\"url(#clip200)\" d=\"M2170.27 355.146 Q2176.14 356.401 2179.43 360.371 Q2182.75 364.341 2182.75 370.174 Q2182.75 379.127 2176.59 384.029 Q2170.43 388.93 2159.09 388.93 Q2155.28 388.93 2151.23 388.16 Q2147.22 387.431 2142.93 385.932 L2142.93 378.033 Q2146.33 380.018 2150.38 381.031 Q2154.43 382.044 2158.85 382.044 Q2166.54 382.044 2170.55 379.005 Q2174.6 375.967 2174.6 370.174 Q2174.6 364.827 2170.84 361.83 Q2167.11 358.791 2160.43 358.791 L2153.38 358.791 L2153.38 352.067 L2160.75 352.067 Q2166.79 352.067 2169.99 349.677 Q2173.19 347.246 2173.19 342.709 Q2173.19 338.051 2169.87 335.58 Q2166.58 333.068 2160.43 333.068 Q2157.06 333.068 2153.22 333.797 Q2149.37 334.527 2144.75 336.066 L2144.75 328.774 Q2149.41 327.478 2153.46 326.83 Q2157.55 326.182 2161.16 326.182 Q2170.47 326.182 2175.9 330.435 Q2181.33 334.648 2181.33 341.859 Q2181.33 346.882 2178.45 350.366 Q2175.58 353.809 2170.27 355.146 Z\" fill=\"#ff0000\" fill-rule=\"nonzero\" fill-opacity=\"1\" /><path clip-path=\"url(#clip200)\" d=\"M2215.76 359.034 Q2209.93 359.034 2206.57 362.154 Q2203.24 365.273 2203.24 370.742 Q2203.24 376.21 2206.57 379.33 Q2209.93 382.449 2215.76 382.449 Q2221.6 382.449 2224.96 379.33 Q2228.32 376.17 2228.32 370.742 Q2228.32 365.273 2224.96 362.154 Q2221.64 359.034 2215.76 359.034 M2207.58 355.551 Q2202.31 354.254 2199.36 350.649 Q2196.44 347.044 2196.44 341.859 Q2196.44 334.608 2201.58 330.395 Q2206.77 326.182 2215.76 326.182 Q2224.8 326.182 2229.94 330.395 Q2235.08 334.608 2235.08 341.859 Q2235.08 347.044 2232.13 350.649 Q2229.21 354.254 2223.99 355.551 Q2229.9 356.928 2233.18 360.938 Q2236.5 364.949 2236.5 370.742 Q2236.5 379.532 2231.11 384.231 Q2225.77 388.93 2215.76 388.93 Q2205.76 388.93 2200.37 384.231 Q2195.02 379.532 2195.02 370.742 Q2195.02 364.949 2198.34 360.938 Q2201.66 356.928 2207.58 355.551 M2204.58 342.628 Q2204.58 347.327 2207.5 349.96 Q2210.46 352.594 2215.76 352.594 Q2221.03 352.594 2223.99 349.96 Q2226.98 347.327 2226.98 342.628 Q2226.98 337.929 2223.99 335.296 Q2221.03 332.663 2215.76 332.663 Q2210.46 332.663 2207.5 335.296 Q2204.58 337.929 2204.58 342.628 Z\" fill=\"#ff0000\" fill-rule=\"nonzero\" fill-opacity=\"1\" /><path clip-path=\"url(#clip200)\" d=\"M2251.13 327.275 L2283.25 327.275 L2283.25 334.162 L2258.62 334.162 L2258.62 348.988 Q2260.4 348.381 2262.19 348.097 Q2263.97 347.773 2265.75 347.773 Q2275.88 347.773 2281.79 353.323 Q2287.71 358.872 2287.71 368.352 Q2287.71 378.114 2281.63 383.542 Q2275.55 388.93 2264.49 388.93 Q2260.69 388.93 2256.72 388.282 Q2252.79 387.634 2248.57 386.338 L2248.57 378.114 Q2252.22 380.099 2256.11 381.071 Q2260 382.044 2264.33 382.044 Q2271.34 382.044 2275.43 378.357 Q2279.52 374.671 2279.52 368.352 Q2279.52 362.032 2275.43 358.346 Q2271.34 354.66 2264.33 354.66 Q2261.05 354.66 2257.77 355.389 Q2254.53 356.118 2251.13 357.657 L2251.13 327.275 Z\" fill=\"#ff0000\" fill-rule=\"nonzero\" fill-opacity=\"1\" /></svg>\n"
      ],
      "text/html": [
       "<?xml version=\"1.0\" encoding=\"utf-8\"?>\n",
       "<svg xmlns=\"http://www.w3.org/2000/svg\" xmlns:xlink=\"http://www.w3.org/1999/xlink\" width=\"600\" height=\"120\" viewBox=\"0 0 2400 480\">\n",
       "<defs>\n",
       "  <clipPath id=\"clip250\">\n",
       "    <rect x=\"0\" y=\"0\" width=\"2400\" height=\"480\"/>\n",
       "  </clipPath>\n",
       "</defs>\n",
       "<path clip-path=\"url(#clip250)\" d=\"M0 480 L2400 480 L2400 0 L0 0  Z\" fill=\"#ffffff\" fill-rule=\"evenodd\" fill-opacity=\"1\"/>\n",
       "<defs>\n",
       "  <clipPath id=\"clip251\">\n",
       "    <rect x=\"480\" y=\"0\" width=\"1681\" height=\"480\"/>\n",
       "  </clipPath>\n",
       "</defs>\n",
       "<path clip-path=\"url(#clip250)\" d=\"M223.45 401.84 L2352.76 401.84 L2352.76 47.2441 L223.45 47.2441  Z\" fill=\"#ffffff\" fill-rule=\"evenodd\" fill-opacity=\"1\"/>\n",
       "<defs>\n",
       "  <clipPath id=\"clip252\">\n",
       "    <rect x=\"223\" y=\"47\" width=\"2130\" height=\"356\"/>\n",
       "  </clipPath>\n",
       "</defs>\n",
       "<polyline clip-path=\"url(#clip252)\" style=\"stroke:#000000; stroke-linecap:round; stroke-linejoin:round; stroke-width:2; stroke-opacity:0.1; fill:none\" points=\"465.768,401.84 465.768,47.2441 \"/>\n",
       "<polyline clip-path=\"url(#clip252)\" style=\"stroke:#000000; stroke-linecap:round; stroke-linejoin:round; stroke-width:2; stroke-opacity:0.1; fill:none\" points=\"909.835,401.84 909.835,47.2441 \"/>\n",
       "<polyline clip-path=\"url(#clip252)\" style=\"stroke:#000000; stroke-linecap:round; stroke-linejoin:round; stroke-width:2; stroke-opacity:0.1; fill:none\" points=\"1353.9,401.84 1353.9,47.2441 \"/>\n",
       "<polyline clip-path=\"url(#clip252)\" style=\"stroke:#000000; stroke-linecap:round; stroke-linejoin:round; stroke-width:2; stroke-opacity:0.1; fill:none\" points=\"1797.97,401.84 1797.97,47.2441 \"/>\n",
       "<polyline clip-path=\"url(#clip252)\" style=\"stroke:#000000; stroke-linecap:round; stroke-linejoin:round; stroke-width:2; stroke-opacity:0.1; fill:none\" points=\"2242.03,401.84 2242.03,47.2441 \"/>\n",
       "<polyline clip-path=\"url(#clip250)\" style=\"stroke:#000000; stroke-linecap:round; stroke-linejoin:round; stroke-width:4; stroke-opacity:1; fill:none\" points=\"223.45,401.84 2352.76,401.84 \"/>\n",
       "<polyline clip-path=\"url(#clip250)\" style=\"stroke:#000000; stroke-linecap:round; stroke-linejoin:round; stroke-width:4; stroke-opacity:1; fill:none\" points=\"465.768,401.84 465.768,382.942 \"/>\n",
       "<polyline clip-path=\"url(#clip250)\" style=\"stroke:#000000; stroke-linecap:round; stroke-linejoin:round; stroke-width:4; stroke-opacity:1; fill:none\" points=\"909.835,401.84 909.835,382.942 \"/>\n",
       "<polyline clip-path=\"url(#clip250)\" style=\"stroke:#000000; stroke-linecap:round; stroke-linejoin:round; stroke-width:4; stroke-opacity:1; fill:none\" points=\"1353.9,401.84 1353.9,382.942 \"/>\n",
       "<polyline clip-path=\"url(#clip250)\" style=\"stroke:#000000; stroke-linecap:round; stroke-linejoin:round; stroke-width:4; stroke-opacity:1; fill:none\" points=\"1797.97,401.84 1797.97,382.942 \"/>\n",
       "<polyline clip-path=\"url(#clip250)\" style=\"stroke:#000000; stroke-linecap:round; stroke-linejoin:round; stroke-width:4; stroke-opacity:1; fill:none\" points=\"2242.03,401.84 2242.03,382.942 \"/>\n",
       "<path clip-path=\"url(#clip250)\" d=\"M443.152 432.759 Q439.541 432.759 437.713 436.323 Q435.907 439.865 435.907 446.995 Q435.907 454.101 437.713 457.666 Q439.541 461.207 443.152 461.207 Q446.787 461.207 448.592 457.666 Q450.421 454.101 450.421 446.995 Q450.421 439.865 448.592 436.323 Q446.787 432.759 443.152 432.759 M443.152 429.055 Q448.963 429.055 452.018 433.661 Q455.097 438.245 455.097 446.995 Q455.097 455.721 452.018 460.328 Q448.963 464.911 443.152 464.911 Q437.342 464.911 434.264 460.328 Q431.208 455.721 431.208 446.995 Q431.208 438.245 434.264 433.661 Q437.342 429.055 443.152 429.055 Z\" fill=\"#000000\" fill-rule=\"nonzero\" fill-opacity=\"1\" /><path clip-path=\"url(#clip250)\" d=\"M463.314 458.36 L468.199 458.36 L468.199 464.24 L463.314 464.24 L463.314 458.36 Z\" fill=\"#000000\" fill-rule=\"nonzero\" fill-opacity=\"1\" /><path clip-path=\"url(#clip250)\" d=\"M488.384 432.759 Q484.773 432.759 482.944 436.323 Q481.138 439.865 481.138 446.995 Q481.138 454.101 482.944 457.666 Q484.773 461.207 488.384 461.207 Q492.018 461.207 493.824 457.666 Q495.652 454.101 495.652 446.995 Q495.652 439.865 493.824 436.323 Q492.018 432.759 488.384 432.759 M488.384 429.055 Q494.194 429.055 497.249 433.661 Q500.328 438.245 500.328 446.995 Q500.328 455.721 497.249 460.328 Q494.194 464.911 488.384 464.911 Q482.574 464.911 479.495 460.328 Q476.439 455.721 476.439 446.995 Q476.439 438.245 479.495 433.661 Q482.574 429.055 488.384 429.055 Z\" fill=\"#000000\" fill-rule=\"nonzero\" fill-opacity=\"1\" /><path clip-path=\"url(#clip250)\" d=\"M887.833 432.759 Q884.222 432.759 882.393 436.323 Q880.587 439.865 880.587 446.995 Q880.587 454.101 882.393 457.666 Q884.222 461.207 887.833 461.207 Q891.467 461.207 893.272 457.666 Q895.101 454.101 895.101 446.995 Q895.101 439.865 893.272 436.323 Q891.467 432.759 887.833 432.759 M887.833 429.055 Q893.643 429.055 896.698 433.661 Q899.777 438.245 899.777 446.995 Q899.777 455.721 896.698 460.328 Q893.643 464.911 887.833 464.911 Q882.022 464.911 878.944 460.328 Q875.888 455.721 875.888 446.995 Q875.888 438.245 878.944 433.661 Q882.022 429.055 887.833 429.055 Z\" fill=\"#000000\" fill-rule=\"nonzero\" fill-opacity=\"1\" /><path clip-path=\"url(#clip250)\" d=\"M907.995 458.36 L912.879 458.36 L912.879 464.24 L907.995 464.24 L907.995 458.36 Z\" fill=\"#000000\" fill-rule=\"nonzero\" fill-opacity=\"1\" /><path clip-path=\"url(#clip250)\" d=\"M923.874 460.305 L931.513 460.305 L931.513 433.939 L923.203 435.606 L923.203 431.347 L931.467 429.68 L936.143 429.68 L936.143 460.305 L943.781 460.305 L943.781 464.24 L923.874 464.24 L923.874 460.305 Z\" fill=\"#000000\" fill-rule=\"nonzero\" fill-opacity=\"1\" /><path clip-path=\"url(#clip250)\" d=\"M1332.08 432.759 Q1328.47 432.759 1326.64 436.323 Q1324.84 439.865 1324.84 446.995 Q1324.84 454.101 1326.64 457.666 Q1328.47 461.207 1332.08 461.207 Q1335.72 461.207 1337.52 457.666 Q1339.35 454.101 1339.35 446.995 Q1339.35 439.865 1337.52 436.323 Q1335.72 432.759 1332.08 432.759 M1332.08 429.055 Q1337.89 429.055 1340.95 433.661 Q1344.03 438.245 1344.03 446.995 Q1344.03 455.721 1340.95 460.328 Q1337.89 464.911 1332.08 464.911 Q1326.27 464.911 1323.2 460.328 Q1320.14 455.721 1320.14 446.995 Q1320.14 438.245 1323.2 433.661 Q1326.27 429.055 1332.08 429.055 Z\" fill=\"#000000\" fill-rule=\"nonzero\" fill-opacity=\"1\" /><path clip-path=\"url(#clip250)\" d=\"M1352.25 458.36 L1357.13 458.36 L1357.13 464.24 L1352.25 464.24 L1352.25 458.36 Z\" fill=\"#000000\" fill-rule=\"nonzero\" fill-opacity=\"1\" /><path clip-path=\"url(#clip250)\" d=\"M1371.34 460.305 L1387.66 460.305 L1387.66 464.24 L1365.72 464.24 L1365.72 460.305 Q1368.38 457.55 1372.96 452.92 Q1377.57 448.268 1378.75 446.925 Q1381 444.402 1381.88 442.666 Q1382.78 440.907 1382.78 439.217 Q1382.78 436.462 1380.83 434.726 Q1378.91 432.99 1375.81 432.99 Q1373.61 432.99 1371.16 433.754 Q1368.73 434.518 1365.95 436.069 L1365.95 431.347 Q1368.77 430.212 1371.23 429.634 Q1373.68 429.055 1375.72 429.055 Q1381.09 429.055 1384.28 431.74 Q1387.48 434.425 1387.48 438.916 Q1387.48 441.046 1386.67 442.967 Q1385.88 444.865 1383.77 447.458 Q1383.2 448.129 1380.09 451.346 Q1376.99 454.541 1371.34 460.305 Z\" fill=\"#000000\" fill-rule=\"nonzero\" fill-opacity=\"1\" /><path clip-path=\"url(#clip250)\" d=\"M1775.68 432.759 Q1772.07 432.759 1770.24 436.323 Q1768.43 439.865 1768.43 446.995 Q1768.43 454.101 1770.24 457.666 Q1772.07 461.207 1775.68 461.207 Q1779.31 461.207 1781.12 457.666 Q1782.95 454.101 1782.95 446.995 Q1782.95 439.865 1781.12 436.323 Q1779.31 432.759 1775.68 432.759 M1775.68 429.055 Q1781.49 429.055 1784.54 433.661 Q1787.62 438.245 1787.62 446.995 Q1787.62 455.721 1784.54 460.328 Q1781.49 464.911 1775.68 464.911 Q1769.87 464.911 1766.79 460.328 Q1763.73 455.721 1763.73 446.995 Q1763.73 438.245 1766.79 433.661 Q1769.87 429.055 1775.68 429.055 Z\" fill=\"#000000\" fill-rule=\"nonzero\" fill-opacity=\"1\" /><path clip-path=\"url(#clip250)\" d=\"M1795.84 458.36 L1800.72 458.36 L1800.72 464.24 L1795.84 464.24 L1795.84 458.36 Z\" fill=\"#000000\" fill-rule=\"nonzero\" fill-opacity=\"1\" /><path clip-path=\"url(#clip250)\" d=\"M1825.07 445.606 Q1828.43 446.323 1830.31 448.592 Q1832.2 450.86 1832.2 454.194 Q1832.2 459.309 1828.69 462.11 Q1825.17 464.911 1818.69 464.911 Q1816.51 464.911 1814.19 464.471 Q1811.9 464.055 1809.45 463.198 L1809.45 458.684 Q1811.39 459.819 1813.71 460.397 Q1816.02 460.976 1818.55 460.976 Q1822.94 460.976 1825.24 459.24 Q1827.55 457.504 1827.55 454.194 Q1827.55 451.138 1825.4 449.425 Q1823.27 447.689 1819.45 447.689 L1815.42 447.689 L1815.42 443.846 L1819.63 443.846 Q1823.08 443.846 1824.91 442.481 Q1826.74 441.092 1826.74 438.499 Q1826.74 435.837 1824.84 434.425 Q1822.97 432.99 1819.45 432.99 Q1817.53 432.99 1815.33 433.407 Q1813.13 433.823 1810.49 434.703 L1810.49 430.536 Q1813.15 429.796 1815.47 429.425 Q1817.81 429.055 1819.87 429.055 Q1825.19 429.055 1828.29 431.485 Q1831.39 433.893 1831.39 438.013 Q1831.39 440.884 1829.75 442.874 Q1828.11 444.842 1825.07 445.606 Z\" fill=\"#000000\" fill-rule=\"nonzero\" fill-opacity=\"1\" /><path clip-path=\"url(#clip250)\" d=\"M2219.18 432.759 Q2215.57 432.759 2213.74 436.323 Q2211.93 439.865 2211.93 446.995 Q2211.93 454.101 2213.74 457.666 Q2215.57 461.207 2219.18 461.207 Q2222.81 461.207 2224.62 457.666 Q2226.44 454.101 2226.44 446.995 Q2226.44 439.865 2224.62 436.323 Q2222.81 432.759 2219.18 432.759 M2219.18 429.055 Q2224.99 429.055 2228.04 433.661 Q2231.12 438.245 2231.12 446.995 Q2231.12 455.721 2228.04 460.328 Q2224.99 464.911 2219.18 464.911 Q2213.37 464.911 2210.29 460.328 Q2207.23 455.721 2207.23 446.995 Q2207.23 438.245 2210.29 433.661 Q2213.37 429.055 2219.18 429.055 Z\" fill=\"#000000\" fill-rule=\"nonzero\" fill-opacity=\"1\" /><path clip-path=\"url(#clip250)\" d=\"M2239.34 458.36 L2244.22 458.36 L2244.22 464.24 L2239.34 464.24 L2239.34 458.36 Z\" fill=\"#000000\" fill-rule=\"nonzero\" fill-opacity=\"1\" /><path clip-path=\"url(#clip250)\" d=\"M2267.25 433.754 L2255.45 452.203 L2267.25 452.203 L2267.25 433.754 M2266.03 429.68 L2271.91 429.68 L2271.91 452.203 L2276.84 452.203 L2276.84 456.092 L2271.91 456.092 L2271.91 464.24 L2267.25 464.24 L2267.25 456.092 L2251.65 456.092 L2251.65 451.578 L2266.03 429.68 Z\" fill=\"#000000\" fill-rule=\"nonzero\" fill-opacity=\"1\" /><polyline clip-path=\"url(#clip252)\" style=\"stroke:#000000; stroke-linecap:round; stroke-linejoin:round; stroke-width:2; stroke-opacity:0.1; fill:none\" points=\"223.45,357.515 2352.76,357.515 \"/>\n",
       "<polyline clip-path=\"url(#clip252)\" style=\"stroke:#000000; stroke-linecap:round; stroke-linejoin:round; stroke-width:2; stroke-opacity:0.1; fill:none\" points=\"223.45,313.191 2352.76,313.191 \"/>\n",
       "<polyline clip-path=\"url(#clip252)\" style=\"stroke:#000000; stroke-linecap:round; stroke-linejoin:round; stroke-width:2; stroke-opacity:0.1; fill:none\" points=\"223.45,268.866 2352.76,268.866 \"/>\n",
       "<polyline clip-path=\"url(#clip252)\" style=\"stroke:#000000; stroke-linecap:round; stroke-linejoin:round; stroke-width:2; stroke-opacity:0.1; fill:none\" points=\"223.45,224.542 2352.76,224.542 \"/>\n",
       "<polyline clip-path=\"url(#clip252)\" style=\"stroke:#000000; stroke-linecap:round; stroke-linejoin:round; stroke-width:2; stroke-opacity:0.1; fill:none\" points=\"223.45,180.218 2352.76,180.218 \"/>\n",
       "<polyline clip-path=\"url(#clip252)\" style=\"stroke:#000000; stroke-linecap:round; stroke-linejoin:round; stroke-width:2; stroke-opacity:0.1; fill:none\" points=\"223.45,135.893 2352.76,135.893 \"/>\n",
       "<polyline clip-path=\"url(#clip252)\" style=\"stroke:#000000; stroke-linecap:round; stroke-linejoin:round; stroke-width:2; stroke-opacity:0.1; fill:none\" points=\"223.45,91.5686 2352.76,91.5686 \"/>\n",
       "<line clip-path=\"url(#clip252)\" x1=\"400.892\" y1=\"308.866\" x2=\"400.892\" y2=\"228.866\" style=\"stroke:#ff0000; stroke-width:3.84; stroke-opacity:1\"/>\n",
       "<line clip-path=\"url(#clip252)\" x1=\"473.699\" y1=\"220.218\" x2=\"473.699\" y2=\"140.218\" style=\"stroke:#0000ff; stroke-width:3.84; stroke-opacity:1\"/>\n",
       "<line clip-path=\"url(#clip252)\" x1=\"2102.51\" y1=\"220.218\" x2=\"2102.51\" y2=\"140.218\" style=\"stroke:#0000ff; stroke-width:3.84; stroke-opacity:1\"/>\n",
       "<line clip-path=\"url(#clip252)\" x1=\"2175.31\" y1=\"308.866\" x2=\"2175.31\" y2=\"228.866\" style=\"stroke:#ff0000; stroke-width:3.84; stroke-opacity:1\"/>\n",
       "<polyline clip-path=\"url(#clip252)\" style=\"stroke:#0000ff; stroke-linecap:round; stroke-linejoin:round; stroke-width:4; stroke-opacity:1; fill:none\" points=\"473.699,180.218 2102.51,180.218 \"/>\n",
       "<polyline clip-path=\"url(#clip252)\" style=\"stroke:#ff0000; stroke-linecap:round; stroke-linejoin:round; stroke-width:4; stroke-opacity:1; fill:none\" points=\"400.892,268.866 2175.31,268.866 \"/>\n",
       "<path clip-path=\"url(#clip250)\" d=\"M355.028 66.7163 Q348.709 66.7163 345.508 72.9547 Q342.349 79.1525 342.349 91.6293 Q342.349 104.066 345.508 110.304 Q348.709 116.502 355.028 116.502 Q361.388 116.502 364.548 110.304 Q367.748 104.066 367.748 91.6293 Q367.748 79.1525 364.548 72.9547 Q361.388 66.7163 355.028 66.7163 M355.028 60.2348 Q365.196 60.2348 370.543 68.2961 Q375.931 76.3169 375.931 91.6293 Q375.931 106.901 370.543 114.963 Q365.196 122.983 355.028 122.983 Q344.86 122.983 339.473 114.963 Q334.125 106.901 334.125 91.6293 Q334.125 76.3169 339.473 68.2961 Q344.86 60.2348 355.028 60.2348 Z\" fill=\"#0000ff\" fill-rule=\"nonzero\" fill-opacity=\"1\" /><path clip-path=\"url(#clip250)\" d=\"M390.311 111.519 L398.859 111.519 L398.859 121.809 L390.311 121.809 L390.311 111.519 Z\" fill=\"#0000ff\" fill-rule=\"nonzero\" fill-opacity=\"1\" /><path clip-path=\"url(#clip250)\" d=\"M434.183 66.7163 Q427.863 66.7163 424.663 72.9547 Q421.503 79.1525 421.503 91.6293 Q421.503 104.066 424.663 110.304 Q427.863 116.502 434.183 116.502 Q440.543 116.502 443.702 110.304 Q446.903 104.066 446.903 91.6293 Q446.903 79.1525 443.702 72.9547 Q440.543 66.7163 434.183 66.7163 M434.183 60.2348 Q444.351 60.2348 449.698 68.2961 Q455.085 76.3169 455.085 91.6293 Q455.085 106.901 449.698 114.963 Q444.351 122.983 434.183 122.983 Q424.015 122.983 418.627 114.963 Q413.28 106.901 413.28 91.6293 Q413.28 76.3169 418.627 68.2961 Q424.015 60.2348 434.183 60.2348 Z\" fill=\"#0000ff\" fill-rule=\"nonzero\" fill-opacity=\"1\" /><path clip-path=\"url(#clip250)\" d=\"M486.966 66.7163 Q480.647 66.7163 477.446 72.9547 Q474.287 79.1525 474.287 91.6293 Q474.287 104.066 477.446 110.304 Q480.647 116.502 486.966 116.502 Q493.326 116.502 496.486 110.304 Q499.686 104.066 499.686 91.6293 Q499.686 79.1525 496.486 72.9547 Q493.326 66.7163 486.966 66.7163 M486.966 60.2348 Q497.134 60.2348 502.481 68.2961 Q507.869 76.3169 507.869 91.6293 Q507.869 106.901 502.481 114.963 Q497.134 122.983 486.966 122.983 Q476.798 122.983 471.411 114.963 Q466.063 106.901 466.063 91.6293 Q466.063 76.3169 471.411 68.2961 Q476.798 60.2348 486.966 60.2348 Z\" fill=\"#0000ff\" fill-rule=\"nonzero\" fill-opacity=\"1\" /><path clip-path=\"url(#clip250)\" d=\"M523.667 114.922 L537.035 114.922 L537.035 68.7822 L522.492 71.6989 L522.492 64.2452 L536.954 61.3286 L545.137 61.3286 L545.137 114.922 L558.505 114.922 L558.505 121.809 L523.667 121.809 L523.667 114.922 Z\" fill=\"#0000ff\" fill-rule=\"nonzero\" fill-opacity=\"1\" /><path clip-path=\"url(#clip250)\" d=\"M592.533 93.0877 Q586.699 93.0877 583.337 96.2069 Q580.015 99.326 580.015 104.795 Q580.015 110.263 583.337 113.383 Q586.699 116.502 592.533 116.502 Q598.366 116.502 601.728 113.383 Q605.09 110.223 605.09 104.795 Q605.09 99.326 601.728 96.2069 Q598.406 93.0877 592.533 93.0877 M584.35 89.6039 Q579.084 88.3076 576.126 84.7023 Q573.21 81.097 573.21 75.9118 Q573.21 68.6607 578.354 64.4478 Q583.54 60.2348 592.533 60.2348 Q601.566 60.2348 606.711 64.4478 Q611.855 68.6607 611.855 75.9118 Q611.855 81.097 608.898 84.7023 Q605.982 88.3076 600.756 89.6039 Q606.67 90.9812 609.951 94.9916 Q613.273 99.002 613.273 104.795 Q613.273 113.585 607.886 118.284 Q602.538 122.983 592.533 122.983 Q582.527 122.983 577.139 118.284 Q571.792 113.585 571.792 104.795 Q571.792 99.002 575.114 94.9916 Q578.435 90.9812 584.35 89.6039 M581.352 76.6815 Q581.352 81.3805 584.269 84.0136 Q587.226 86.6467 592.533 86.6467 Q597.799 86.6467 600.756 84.0136 Q603.754 81.3805 603.754 76.6815 Q603.754 71.9824 600.756 69.3494 Q597.799 66.7163 592.533 66.7163 Q587.226 66.7163 584.269 69.3494 Q581.352 71.9824 581.352 76.6815 Z\" fill=\"#0000ff\" fill-rule=\"nonzero\" fill-opacity=\"1\" /><path clip-path=\"url(#clip250)\" d=\"M1983.61 66.7163 Q1977.29 66.7163 1974.09 72.9547 Q1970.93 79.1525 1970.93 91.6293 Q1970.93 104.066 1974.09 110.304 Q1977.29 116.502 1983.61 116.502 Q1989.97 116.502 1993.13 110.304 Q1996.33 104.066 1996.33 91.6293 Q1996.33 79.1525 1993.13 72.9547 Q1989.97 66.7163 1983.61 66.7163 M1983.61 60.2348 Q1993.78 60.2348 1999.13 68.2961 Q2004.51 76.3169 2004.51 91.6293 Q2004.51 106.901 1999.13 114.963 Q1993.78 122.983 1983.61 122.983 Q1973.44 122.983 1968.06 114.963 Q1962.71 106.901 1962.71 91.6293 Q1962.71 76.3169 1968.06 68.2961 Q1973.44 60.2348 1983.61 60.2348 Z\" fill=\"#0000ff\" fill-rule=\"nonzero\" fill-opacity=\"1\" /><path clip-path=\"url(#clip250)\" d=\"M2018.9 111.519 L2027.44 111.519 L2027.44 121.809 L2018.9 121.809 L2018.9 111.519 Z\" fill=\"#0000ff\" fill-rule=\"nonzero\" fill-opacity=\"1\" /><path clip-path=\"url(#clip250)\" d=\"M2070.06 89.1988 Q2075.93 90.4546 2079.21 94.4245 Q2082.54 98.3943 2082.54 104.228 Q2082.54 113.18 2076.38 118.082 Q2070.22 122.983 2058.88 122.983 Q2055.07 122.983 2051.02 122.214 Q2047.01 121.484 2042.71 119.986 L2042.71 112.086 Q2046.12 114.071 2050.17 115.084 Q2054.22 116.097 2058.64 116.097 Q2066.33 116.097 2070.34 113.059 Q2074.39 110.02 2074.39 104.228 Q2074.39 98.8804 2070.63 95.8828 Q2066.9 92.8446 2060.21 92.8446 L2053.17 92.8446 L2053.17 86.1201 L2060.54 86.1201 Q2066.57 86.1201 2069.78 83.7301 Q2072.98 81.2995 2072.98 76.7625 Q2072.98 72.104 2069.65 69.6329 Q2066.37 67.1214 2060.21 67.1214 Q2056.85 67.1214 2053 67.8505 Q2049.16 68.5797 2044.54 70.119 L2044.54 62.8274 Q2049.2 61.5311 2053.25 60.883 Q2057.34 60.2348 2060.94 60.2348 Q2070.26 60.2348 2075.69 64.4883 Q2081.12 68.7012 2081.12 75.9118 Q2081.12 80.9349 2078.24 84.4187 Q2075.37 87.862 2070.06 89.1988 Z\" fill=\"#0000ff\" fill-rule=\"nonzero\" fill-opacity=\"1\" /><path clip-path=\"url(#clip250)\" d=\"M2116.56 88.3076 Q2111.05 88.3076 2107.81 92.0749 Q2104.61 95.8423 2104.61 102.405 Q2104.61 108.927 2107.81 112.735 Q2111.05 116.502 2116.56 116.502 Q2122.07 116.502 2125.27 112.735 Q2128.51 108.927 2128.51 102.405 Q2128.51 95.8423 2125.27 92.0749 Q2122.07 88.3076 2116.56 88.3076 M2132.81 62.6654 L2132.81 70.119 Q2129.73 68.6607 2126.57 67.891 Q2123.45 67.1214 2120.37 67.1214 Q2112.27 67.1214 2107.98 72.5901 Q2103.72 78.0588 2103.11 89.1178 Q2105.5 85.5935 2109.11 83.7301 Q2112.71 81.8261 2117.05 81.8261 Q2126.16 81.8261 2131.43 87.3759 Q2136.74 92.8851 2136.74 102.405 Q2136.74 111.722 2131.23 117.353 Q2125.72 122.983 2116.56 122.983 Q2106.07 122.983 2100.52 114.963 Q2094.97 106.901 2094.97 91.6293 Q2094.97 77.2891 2101.78 68.7822 Q2108.58 60.2348 2120.05 60.2348 Q2123.13 60.2348 2126.24 60.8425 Q2129.4 61.4501 2132.81 62.6654 Z\" fill=\"#0000ff\" fill-rule=\"nonzero\" fill-opacity=\"1\" /><path clip-path=\"url(#clip250)\" d=\"M2168.33 93.0877 Q2162.5 93.0877 2159.14 96.2069 Q2155.82 99.326 2155.82 104.795 Q2155.82 110.263 2159.14 113.383 Q2162.5 116.502 2168.33 116.502 Q2174.17 116.502 2177.53 113.383 Q2180.89 110.223 2180.89 104.795 Q2180.89 99.326 2177.53 96.2069 Q2174.21 93.0877 2168.33 93.0877 M2160.15 89.6039 Q2154.88 88.3076 2151.93 84.7023 Q2149.01 81.097 2149.01 75.9118 Q2149.01 68.6607 2154.16 64.4478 Q2159.34 60.2348 2168.33 60.2348 Q2177.37 60.2348 2182.51 64.4478 Q2187.66 68.6607 2187.66 75.9118 Q2187.66 81.097 2184.7 84.7023 Q2181.78 88.3076 2176.56 89.6039 Q2182.47 90.9812 2185.75 94.9916 Q2189.07 99.002 2189.07 104.795 Q2189.07 113.585 2183.69 118.284 Q2178.34 122.983 2168.33 122.983 Q2158.33 122.983 2152.94 118.284 Q2147.59 113.585 2147.59 104.795 Q2147.59 99.002 2150.91 94.9916 Q2154.24 90.9812 2160.15 89.6039 M2157.15 76.6815 Q2157.15 81.3805 2160.07 84.0136 Q2163.03 86.6467 2168.33 86.6467 Q2173.6 86.6467 2176.56 84.0136 Q2179.55 81.3805 2179.55 76.6815 Q2179.55 71.9824 2176.56 69.3494 Q2173.6 66.7163 2168.33 66.7163 Q2163.03 66.7163 2160.07 69.3494 Q2157.15 71.9824 2157.15 76.6815 Z\" fill=\"#0000ff\" fill-rule=\"nonzero\" fill-opacity=\"1\" /><path clip-path=\"url(#clip250)\" d=\"M2222.13 88.3076 Q2216.62 88.3076 2213.38 92.0749 Q2210.18 95.8423 2210.18 102.405 Q2210.18 108.927 2213.38 112.735 Q2216.62 116.502 2222.13 116.502 Q2227.64 116.502 2230.84 112.735 Q2234.08 108.927 2234.08 102.405 Q2234.08 95.8423 2230.84 92.0749 Q2227.64 88.3076 2222.13 88.3076 M2238.37 62.6654 L2238.37 70.119 Q2235.29 68.6607 2232.14 67.891 Q2229.02 67.1214 2225.94 67.1214 Q2217.84 67.1214 2213.54 72.5901 Q2209.29 78.0588 2208.68 89.1178 Q2211.07 85.5935 2214.68 83.7301 Q2218.28 81.8261 2222.62 81.8261 Q2231.73 81.8261 2237 87.3759 Q2242.3 92.8851 2242.3 102.405 Q2242.3 111.722 2236.79 117.353 Q2231.28 122.983 2222.13 122.983 Q2211.64 122.983 2206.09 114.963 Q2200.54 106.901 2200.54 91.6293 Q2200.54 77.2891 2207.34 68.7822 Q2214.15 60.2348 2225.61 60.2348 Q2228.69 60.2348 2231.81 60.8425 Q2234.97 61.4501 2238.37 62.6654 Z\" fill=\"#0000ff\" fill-rule=\"nonzero\" fill-opacity=\"1\" /><path clip-path=\"url(#clip250)\" d=\"M245.418 361.708 L267.253 361.708 L267.253 368.352 L245.418 368.352 L245.418 361.708 Z\" fill=\"#ff0000\" fill-rule=\"nonzero\" fill-opacity=\"1\" /><path clip-path=\"url(#clip250)\" d=\"M297.675 332.663 Q291.355 332.663 288.155 338.901 Q284.996 345.099 284.996 357.576 Q284.996 370.012 288.155 376.251 Q291.355 382.449 297.675 382.449 Q304.035 382.449 307.194 376.251 Q310.395 370.012 310.395 357.576 Q310.395 345.099 307.194 338.901 Q304.035 332.663 297.675 332.663 M297.675 326.182 Q307.843 326.182 313.19 334.243 Q318.578 342.264 318.578 357.576 Q318.578 372.848 313.19 380.909 Q307.843 388.93 297.675 388.93 Q287.507 388.93 282.119 380.909 Q276.772 372.848 276.772 357.576 Q276.772 342.264 282.119 334.243 Q287.507 326.182 297.675 326.182 Z\" fill=\"#ff0000\" fill-rule=\"nonzero\" fill-opacity=\"1\" /><path clip-path=\"url(#clip250)\" d=\"M332.958 377.466 L341.506 377.466 L341.506 387.755 L332.958 387.755 L332.958 377.466 Z\" fill=\"#ff0000\" fill-rule=\"nonzero\" fill-opacity=\"1\" /><path clip-path=\"url(#clip250)\" d=\"M376.83 332.663 Q370.51 332.663 367.31 338.901 Q364.15 345.099 364.15 357.576 Q364.15 370.012 367.31 376.251 Q370.51 382.449 376.83 382.449 Q383.189 382.449 386.349 376.251 Q389.549 370.012 389.549 357.576 Q389.549 345.099 386.349 338.901 Q383.189 332.663 376.83 332.663 M376.83 326.182 Q386.997 326.182 392.345 334.243 Q397.732 342.264 397.732 357.576 Q397.732 372.848 392.345 380.909 Q386.997 388.93 376.83 388.93 Q366.662 388.93 361.274 380.909 Q355.927 372.848 355.927 357.576 Q355.927 342.264 361.274 334.243 Q366.662 326.182 376.83 326.182 Z\" fill=\"#ff0000\" fill-rule=\"nonzero\" fill-opacity=\"1\" /><path clip-path=\"url(#clip250)\" d=\"M413.531 380.869 L426.899 380.869 L426.899 334.729 L412.356 337.646 L412.356 330.192 L426.818 327.275 L435.001 327.275 L435.001 380.869 L448.369 380.869 L448.369 387.755 L413.531 387.755 L413.531 380.869 Z\" fill=\"#ff0000\" fill-rule=\"nonzero\" fill-opacity=\"1\" /><path clip-path=\"url(#clip250)\" d=\"M487.379 334.405 L466.719 366.691 L487.379 366.691 L487.379 334.405 M485.232 327.275 L495.521 327.275 L495.521 366.691 L504.149 366.691 L504.149 373.496 L495.521 373.496 L495.521 387.755 L487.379 387.755 L487.379 373.496 L460.076 373.496 L460.076 365.597 L485.232 327.275 Z\" fill=\"#ff0000\" fill-rule=\"nonzero\" fill-opacity=\"1\" /><path clip-path=\"url(#clip250)\" d=\"M536.192 354.254 Q530.683 354.254 527.442 358.022 Q524.242 361.789 524.242 368.352 Q524.242 374.874 527.442 378.681 Q530.683 382.449 536.192 382.449 Q541.701 382.449 544.902 378.681 Q548.142 374.874 548.142 368.352 Q548.142 361.789 544.902 358.022 Q541.701 354.254 536.192 354.254 M552.436 328.612 L552.436 336.066 Q549.358 334.608 546.198 333.838 Q543.079 333.068 540 333.068 Q531.898 333.068 527.604 338.537 Q523.351 344.006 522.743 355.065 Q525.133 351.54 528.738 349.677 Q532.344 347.773 536.678 347.773 Q545.793 347.773 551.059 353.323 Q556.366 358.832 556.366 368.352 Q556.366 377.669 550.856 383.299 Q545.347 388.93 536.192 388.93 Q525.7 388.93 520.151 380.909 Q514.601 372.848 514.601 357.576 Q514.601 343.236 521.406 334.729 Q528.212 326.182 539.676 326.182 Q542.755 326.182 545.874 326.789 Q549.033 327.397 552.436 328.612 Z\" fill=\"#ff0000\" fill-rule=\"nonzero\" fill-opacity=\"1\" /><path clip-path=\"url(#clip250)\" d=\"M2083.82 332.663 Q2077.5 332.663 2074.3 338.901 Q2071.14 345.099 2071.14 357.576 Q2071.14 370.012 2074.3 376.251 Q2077.5 382.449 2083.82 382.449 Q2090.18 382.449 2093.34 376.251 Q2096.54 370.012 2096.54 357.576 Q2096.54 345.099 2093.34 338.901 Q2090.18 332.663 2083.82 332.663 M2083.82 326.182 Q2093.99 326.182 2099.34 334.243 Q2104.73 342.264 2104.73 357.576 Q2104.73 372.848 2099.34 380.909 Q2093.99 388.93 2083.82 388.93 Q2073.66 388.93 2068.27 380.909 Q2062.92 372.848 2062.92 357.576 Q2062.92 342.264 2068.27 334.243 Q2073.66 326.182 2083.82 326.182 Z\" fill=\"#ff0000\" fill-rule=\"nonzero\" fill-opacity=\"1\" /><path clip-path=\"url(#clip250)\" d=\"M2119.11 377.466 L2127.65 377.466 L2127.65 387.755 L2119.11 387.755 L2119.11 377.466 Z\" fill=\"#ff0000\" fill-rule=\"nonzero\" fill-opacity=\"1\" /><path clip-path=\"url(#clip250)\" d=\"M2170.27 355.146 Q2176.14 356.401 2179.43 360.371 Q2182.75 364.341 2182.75 370.174 Q2182.75 379.127 2176.59 384.029 Q2170.43 388.93 2159.09 388.93 Q2155.28 388.93 2151.23 388.16 Q2147.22 387.431 2142.93 385.932 L2142.93 378.033 Q2146.33 380.018 2150.38 381.031 Q2154.43 382.044 2158.85 382.044 Q2166.54 382.044 2170.55 379.005 Q2174.6 375.967 2174.6 370.174 Q2174.6 364.827 2170.84 361.83 Q2167.11 358.791 2160.43 358.791 L2153.38 358.791 L2153.38 352.067 L2160.75 352.067 Q2166.79 352.067 2169.99 349.677 Q2173.19 347.246 2173.19 342.709 Q2173.19 338.051 2169.87 335.58 Q2166.58 333.068 2160.43 333.068 Q2157.06 333.068 2153.22 333.797 Q2149.37 334.527 2144.75 336.066 L2144.75 328.774 Q2149.41 327.478 2153.46 326.83 Q2157.55 326.182 2161.16 326.182 Q2170.47 326.182 2175.9 330.435 Q2181.33 334.648 2181.33 341.859 Q2181.33 346.882 2178.45 350.366 Q2175.58 353.809 2170.27 355.146 Z\" fill=\"#ff0000\" fill-rule=\"nonzero\" fill-opacity=\"1\" /><path clip-path=\"url(#clip250)\" d=\"M2215.76 359.034 Q2209.93 359.034 2206.57 362.154 Q2203.24 365.273 2203.24 370.742 Q2203.24 376.21 2206.57 379.33 Q2209.93 382.449 2215.76 382.449 Q2221.6 382.449 2224.96 379.33 Q2228.32 376.17 2228.32 370.742 Q2228.32 365.273 2224.96 362.154 Q2221.64 359.034 2215.76 359.034 M2207.58 355.551 Q2202.31 354.254 2199.36 350.649 Q2196.44 347.044 2196.44 341.859 Q2196.44 334.608 2201.58 330.395 Q2206.77 326.182 2215.76 326.182 Q2224.8 326.182 2229.94 330.395 Q2235.08 334.608 2235.08 341.859 Q2235.08 347.044 2232.13 350.649 Q2229.21 354.254 2223.99 355.551 Q2229.9 356.928 2233.18 360.938 Q2236.5 364.949 2236.5 370.742 Q2236.5 379.532 2231.11 384.231 Q2225.77 388.93 2215.76 388.93 Q2205.76 388.93 2200.37 384.231 Q2195.02 379.532 2195.02 370.742 Q2195.02 364.949 2198.34 360.938 Q2201.66 356.928 2207.58 355.551 M2204.58 342.628 Q2204.58 347.327 2207.5 349.96 Q2210.46 352.594 2215.76 352.594 Q2221.03 352.594 2223.99 349.96 Q2226.98 347.327 2226.98 342.628 Q2226.98 337.929 2223.99 335.296 Q2221.03 332.663 2215.76 332.663 Q2210.46 332.663 2207.5 335.296 Q2204.58 337.929 2204.58 342.628 Z\" fill=\"#ff0000\" fill-rule=\"nonzero\" fill-opacity=\"1\" /><path clip-path=\"url(#clip250)\" d=\"M2251.13 327.275 L2283.25 327.275 L2283.25 334.162 L2258.62 334.162 L2258.62 348.988 Q2260.4 348.381 2262.19 348.097 Q2263.97 347.773 2265.75 347.773 Q2275.88 347.773 2281.79 353.323 Q2287.71 358.872 2287.71 368.352 Q2287.71 378.114 2281.63 383.542 Q2275.55 388.93 2264.49 388.93 Q2260.69 388.93 2256.72 388.282 Q2252.79 387.634 2248.57 386.338 L2248.57 378.114 Q2252.22 380.099 2256.11 381.071 Q2260 382.044 2264.33 382.044 Q2271.34 382.044 2275.43 378.357 Q2279.52 374.671 2279.52 368.352 Q2279.52 362.032 2275.43 358.346 Q2271.34 354.66 2264.33 354.66 Q2261.05 354.66 2257.77 355.389 Q2254.53 356.118 2251.13 357.657 L2251.13 327.275 Z\" fill=\"#ff0000\" fill-rule=\"nonzero\" fill-opacity=\"1\" /></svg>\n"
      ]
     },
     "execution_count": 36,
     "metadata": {},
     "output_type": "execute_result"
    }
   ],
   "source": [
    "x = [res.Htest.ConfidenceInterval[1],res.bound[1],res.bound[2],res.Htest.ConfidenceInterval[2]]\n",
    "tol = (x[4]-x[1])/10\n",
    "y =[-0.01,0.01,0.01,-0.01]\n",
    "symbols =[:vline,:vline,:vline,:vline]\n",
    "\n",
    "scatter(x, y, markersize=10,\n",
    "    xlim=(x[1]-tol,x[4]+tol),\n",
    "    ylim=(-0.04,0.04),\n",
    "    markershape=symbols,\n",
    "    markerstrokewidth=4,\n",
    "    label=\"\",\n",
    "    c=[:red,:blue,:blue,:red],\n",
    "    showaxis=:x,\n",
    "    size =(600,120))\n",
    "plot!(x[2:3],y[2:3],label=\"\",c=:blue)\n",
    "plot!(x[1:3:4],y[1:3:4],label=\"\",c=:red)\n",
    "annotate!(x[2], 0.03, string(round(x[2],digits=4)),:blue)\n",
    "annotate!(x[3], 0.03, string(round(x[3],digits=4)),:blue)\n",
    "annotate!(x[1], -0.03, string(round(x[1],digits=4)),:red)\n",
    "annotate!(x[4], -0.03, string(round(x[4],digits=4)),:red)\n"
   ]
  },
  {
   "cell_type": "code",
   "execution_count": 37,
   "metadata": {},
   "outputs": [
    {
     "ename": "LoadError",
     "evalue": "MethodError: \u001b[0mCannot `convert` an object of type \n\u001b[0m  \u001b[92mFloat64\u001b[39m\u001b[0m to an object of type \n\u001b[0m  \u001b[91mVector{<:Real}\u001b[39m\n\n\u001b[0mClosest candidates are:\n\u001b[0m  convert(::Type{T}, \u001b[91m::AbstractArray\u001b[39m) where T<:Array\n\u001b[0m\u001b[90m   @\u001b[39m \u001b[90mBase\u001b[39m \u001b[90m\u001b[4marray.jl:613\u001b[24m\u001b[39m\n\u001b[0m  convert(::Type{T}, \u001b[91m::LinearAlgebra.Factorization\u001b[39m) where T<:AbstractArray\n\u001b[0m\u001b[90m   @\u001b[39m \u001b[36mLinearAlgebra\u001b[39m \u001b[90mC:\\Users\\arie\\AppData\\Local\\Programs\\Julia-1.9.2\\share\\julia\\stdlib\\v1.9\\LinearAlgebra\\src\\\u001b[39m\u001b[90m\u001b[4mfactorization.jl:59\u001b[24m\u001b[39m\n\u001b[0m  convert(::Type{T}, \u001b[91m::T\u001b[39m) where T<:AbstractArray\n\u001b[0m\u001b[90m   @\u001b[39m \u001b[90mBase\u001b[39m \u001b[90m\u001b[4mabstractarray.jl:16\u001b[24m\u001b[39m\n\u001b[0m  ...\n",
     "output_type": "error",
     "traceback": [
      "MethodError: \u001b[0mCannot `convert` an object of type \n\u001b[0m  \u001b[92mFloat64\u001b[39m\u001b[0m to an object of type \n\u001b[0m  \u001b[91mVector{<:Real}\u001b[39m\n\n\u001b[0mClosest candidates are:\n\u001b[0m  convert(::Type{T}, \u001b[91m::AbstractArray\u001b[39m) where T<:Array\n\u001b[0m\u001b[90m   @\u001b[39m \u001b[90mBase\u001b[39m \u001b[90m\u001b[4marray.jl:613\u001b[24m\u001b[39m\n\u001b[0m  convert(::Type{T}, \u001b[91m::LinearAlgebra.Factorization\u001b[39m) where T<:AbstractArray\n\u001b[0m\u001b[90m   @\u001b[39m \u001b[36mLinearAlgebra\u001b[39m \u001b[90mC:\\Users\\arie\\AppData\\Local\\Programs\\Julia-1.9.2\\share\\julia\\stdlib\\v1.9\\LinearAlgebra\\src\\\u001b[39m\u001b[90m\u001b[4mfactorization.jl:59\u001b[24m\u001b[39m\n\u001b[0m  convert(::Type{T}, \u001b[91m::T\u001b[39m) where T<:AbstractArray\n\u001b[0m\u001b[90m   @\u001b[39m \u001b[90mBase\u001b[39m \u001b[90m\u001b[4mabstractarray.jl:16\u001b[24m\u001b[39m\n\u001b[0m  ...\n",
      "",
      "Stacktrace:",
      " [1] convert(#unused#::Type{Union{Nothing, Vector{<:Real}}}, x::Float64)",
      "   @ Base .\\some.jl:36",
      " [2] TestResults(ConfidenceInterval::Float64, criticalVal::Float64, testStat::Vector{Float64})",
      "   @ Main.setBLP C:\\Users\\arie\\OneDrive - University of Pittsburgh\\Documents\\Bounds.jl\\Bounds.jl\\src\\setBLP.jl:40",
      " [3] EYasy(yl::Vector{Float64}, yu::Vector{Float64}, H0::Vector{Int64}, options::Options)",
      "   @ Main.setBLP C:\\Users\\arie\\OneDrive - University of Pittsburgh\\Documents\\Bounds.jl\\Bounds.jl\\src\\setBLP.jl:182",
      " [4] EY(yl::Vector{Float64}, yu::Vector{Float64}, H0::Vector{Int64}, options::Options, method::String)",
      "   @ Main.setBLP C:\\Users\\arie\\OneDrive - University of Pittsburgh\\Documents\\Bounds.jl\\Bounds.jl\\src\\setBLP.jl:94",
      " [5] EY(yl::Vector{Float64}, yu::Vector{Float64}, H0::Vector{Int64})",
      "   @ Main.setBLP C:\\Users\\arie\\OneDrive - University of Pittsburgh\\Documents\\Bounds.jl\\Bounds.jl\\src\\setBLP.jl:93",
      " [6] top-level scope",
      "   @ In[37]:1"
     ]
    }
   ],
   "source": [
    "EY(yl,yu,[1,2])"
   ]
  },
  {
   "cell_type": "code",
   "execution_count": null,
   "metadata": {},
   "outputs": [],
   "source": []
  }
 ],
 "metadata": {
  "@webio": {
   "lastCommId": null,
   "lastKernelId": null
  },
  "kernelspec": {
   "display_name": "Julia 1.9.2",
   "language": "julia",
   "name": "julia-1.9"
  },
  "language_info": {
   "file_extension": ".jl",
   "mimetype": "application/julia",
   "name": "julia",
   "version": "1.9.2"
  }
 },
 "nbformat": 4,
 "nbformat_minor": 4
}
