{
 "cells": [
  {
   "cell_type": "code",
   "execution_count": 1,
   "metadata": {},
   "outputs": [],
   "source": [
    "using CSV, DataFrames"
   ]
  },
  {
   "cell_type": "markdown",
   "metadata": {},
   "source": [
    "# Uploading CPS data"
   ]
  },
  {
   "cell_type": "code",
   "execution_count": 2,
   "metadata": {},
   "outputs": [
    {
     "data": {
      "text/html": [
       "<div class=\"data-frame\"><p>22,715 rows × 3 columns</p><table class=\"data-frame\"><thead><tr><th></th><th>age</th><th>wage</th><th>educ</th></tr><tr><th></th><th title=\"Int64\">Int64</th><th title=\"Int64\">Int64</th><th title=\"String\">String</th></tr></thead><tbody><tr><th>1</th><td>22</td><td>12000</td><td>some college but no degree</td></tr><tr><th>2</th><td>21</td><td>3500</td><td>some college but no degree</td></tr><tr><th>3</th><td>49</td><td>30000</td><td>some college but no degree</td></tr><tr><th>4</th><td>31</td><td>32000</td><td>bachelor&apos;s degree</td></tr><tr><th>5</th><td>42</td><td>89630</td><td>doctorate degree</td></tr><tr><th>6</th><td>35</td><td>229339</td><td>doctorate degree</td></tr><tr><th>7</th><td>42</td><td>39000</td><td>high school diploma or equivalent</td></tr><tr><th>8</th><td>48</td><td>50000</td><td>high school diploma or equivalent</td></tr><tr><th>9</th><td>41</td><td>37500</td><td>some college but no degree</td></tr><tr><th>10</th><td>41</td><td>52000</td><td>associate&apos;s degree, occupational/vocational program</td></tr><tr><th>11</th><td>46</td><td>35500</td><td>high school diploma or equivalent</td></tr><tr><th>12</th><td>22</td><td>2500</td><td>some college but no degree</td></tr><tr><th>13</th><td>45</td><td>46000</td><td>associate&apos;s degree, occupational/vocational program</td></tr><tr><th>14</th><td>20</td><td>4996</td><td>some college but no degree</td></tr><tr><th>15</th><td>36</td><td>229339</td><td>bachelor&apos;s degree</td></tr><tr><th>16</th><td>43</td><td>48000</td><td>high school diploma or equivalent</td></tr><tr><th>17</th><td>46</td><td>48000</td><td>master&apos;s degree</td></tr><tr><th>18</th><td>21</td><td>4000</td><td>some college but no degree</td></tr><tr><th>19</th><td>27</td><td>16500</td><td>high school diploma or equivalent</td></tr><tr><th>20</th><td>38</td><td>41923</td><td>bachelor&apos;s degree</td></tr><tr><th>21</th><td>26</td><td>22000</td><td>associate&apos;s degree, occupational/vocational program</td></tr><tr><th>22</th><td>46</td><td>140000</td><td>bachelor&apos;s degree</td></tr><tr><th>23</th><td>44</td><td>39767</td><td>some college but no degree</td></tr><tr><th>24</th><td>21</td><td>24500</td><td>some college but no degree</td></tr><tr><th>25</th><td>44</td><td>52000</td><td>high school diploma or equivalent</td></tr><tr><th>26</th><td>43</td><td>43000</td><td>some college but no degree</td></tr><tr><th>27</th><td>43</td><td>150000</td><td>bachelor&apos;s degree</td></tr><tr><th>28</th><td>43</td><td>53000</td><td>associate&apos;s degree, occupational/vocational program</td></tr><tr><th>29</th><td>45</td><td>22000</td><td>bachelor&apos;s degree</td></tr><tr><th>30</th><td>38</td><td>10000</td><td>high school diploma or equivalent</td></tr><tr><th>&vellip;</th><td>&vellip;</td><td>&vellip;</td><td>&vellip;</td></tr></tbody></table></div>"
      ],
      "text/latex": [
       "\\begin{tabular}{r|ccc}\n",
       "\t& age & wage & educ\\\\\n",
       "\t\\hline\n",
       "\t& Int64 & Int64 & String\\\\\n",
       "\t\\hline\n",
       "\t1 & 22 & 12000 & some college but no degree \\\\\n",
       "\t2 & 21 & 3500 & some college but no degree \\\\\n",
       "\t3 & 49 & 30000 & some college but no degree \\\\\n",
       "\t4 & 31 & 32000 & bachelor's degree \\\\\n",
       "\t5 & 42 & 89630 & doctorate degree \\\\\n",
       "\t6 & 35 & 229339 & doctorate degree \\\\\n",
       "\t7 & 42 & 39000 & high school diploma or equivalent \\\\\n",
       "\t8 & 48 & 50000 & high school diploma or equivalent \\\\\n",
       "\t9 & 41 & 37500 & some college but no degree \\\\\n",
       "\t10 & 41 & 52000 & associate's degree, occupational/vocational program \\\\\n",
       "\t11 & 46 & 35500 & high school diploma or equivalent \\\\\n",
       "\t12 & 22 & 2500 & some college but no degree \\\\\n",
       "\t13 & 45 & 46000 & associate's degree, occupational/vocational program \\\\\n",
       "\t14 & 20 & 4996 & some college but no degree \\\\\n",
       "\t15 & 36 & 229339 & bachelor's degree \\\\\n",
       "\t16 & 43 & 48000 & high school diploma or equivalent \\\\\n",
       "\t17 & 46 & 48000 & master's degree \\\\\n",
       "\t18 & 21 & 4000 & some college but no degree \\\\\n",
       "\t19 & 27 & 16500 & high school diploma or equivalent \\\\\n",
       "\t20 & 38 & 41923 & bachelor's degree \\\\\n",
       "\t21 & 26 & 22000 & associate's degree, occupational/vocational program \\\\\n",
       "\t22 & 46 & 140000 & bachelor's degree \\\\\n",
       "\t23 & 44 & 39767 & some college but no degree \\\\\n",
       "\t24 & 21 & 24500 & some college but no degree \\\\\n",
       "\t25 & 44 & 52000 & high school diploma or equivalent \\\\\n",
       "\t26 & 43 & 43000 & some college but no degree \\\\\n",
       "\t27 & 43 & 150000 & bachelor's degree \\\\\n",
       "\t28 & 43 & 53000 & associate's degree, occupational/vocational program \\\\\n",
       "\t29 & 45 & 22000 & bachelor's degree \\\\\n",
       "\t30 & 38 & 10000 & high school diploma or equivalent \\\\\n",
       "\t$\\dots$ & $\\dots$ & $\\dots$ & $\\dots$ \\\\\n",
       "\\end{tabular}\n"
      ],
      "text/plain": [
       "\u001b[1m22715×3 DataFrame\u001b[0m\n",
       "\u001b[1m   Row \u001b[0m│\u001b[1m age   \u001b[0m\u001b[1m wage   \u001b[0m\u001b[1m educ                              \u001b[0m\n",
       "\u001b[1m       \u001b[0m│\u001b[90m Int64 \u001b[0m\u001b[90m Int64  \u001b[0m\u001b[90m String                            \u001b[0m\n",
       "───────┼──────────────────────────────────────────────────\n",
       "     1 │    22   12000  some college but no degree\n",
       "     2 │    21    3500  some college but no degree\n",
       "     3 │    49   30000  some college but no degree\n",
       "     4 │    31   32000  bachelor's degree\n",
       "     5 │    42   89630  doctorate degree\n",
       "     6 │    35  229339  doctorate degree\n",
       "     7 │    42   39000  high school diploma or equivalent\n",
       "     8 │    48   50000  high school diploma or equivalent\n",
       "     9 │    41   37500  some college but no degree\n",
       "    10 │    41   52000  associate's degree, occupational…\n",
       "    11 │    46   35500  high school diploma or equivalent\n",
       "   ⋮   │   ⋮      ⋮                     ⋮\n",
       " 22706 │    26   20000  high school diploma or equivalent\n",
       " 22707 │    30   17000  high school diploma or equivalent\n",
       " 22708 │    49   30000  some college but no degree\n",
       " 22709 │    46   30000  high school diploma or equivalent\n",
       " 22710 │    22    1000  high school diploma or equivalent\n",
       " 22711 │    37   32000  master's degree\n",
       " 22712 │    50   56000  high school diploma or equivalent\n",
       " 22713 │    24    9000  high school diploma or equivalent\n",
       " 22714 │    49   29000  high school diploma or equivalent\n",
       " 22715 │    35   24000  associate's degree, academic pro…\n",
       "\u001b[36m                                        22694 rows omitted\u001b[0m"
      ]
     },
     "execution_count": 2,
     "metadata": {},
     "output_type": "execute_result"
    }
   ],
   "source": [
    "cps = DataFrame(CSV.File(\"c:\\\\data\\\\Bounds\\\\cps.csv\")) # <-change this to the right directory\n",
    "\n",
    "## Cleaning zero wage\n",
    "\n",
    "cps = cps[cps.wage .> 0, :]\n",
    "first(cps,5)"
   ]
  },
  {
   "cell_type": "code",
   "execution_count": 4,
   "metadata": {},
   "outputs": [
    {
     "data": {
      "text/plain": [
       "Dict{String, Int64} with 16 entries:\n",
       "  \"grade 11\"                                            => 11\n",
       "  \"some college but no degree\"                          => 13\n",
       "  \"associate's degree, academic program\"                => 14\n",
       "  \"none or preschool\"                                   => 0\n",
       "  \"doctorate degree\"                                    => 21\n",
       "  \"grade 10\"                                            => 10\n",
       "  \"bachelor's degree\"                                   => 16\n",
       "  \"master's degree\"                                     => 14\n",
       "  \"grades 5 or 6\"                                       => 6\n",
       "  \"grades 7 or 8\"                                       => 8\n",
       "  \"grades 1, 2, 3, or 4\"                                => 4\n",
       "  \"associate's degree, occupational/vocational program\" => 14\n",
       "  \"professional school degree\"                          => 14\n",
       "  \"high school diploma or equivalent\"                   => 12\n",
       "  \"grade 9\"                                             => 9\n",
       "  \"12th grade, no diploma\"                              => 12"
      ]
     },
     "execution_count": 4,
     "metadata": {},
     "output_type": "execute_result"
    }
   ],
   "source": [
    "# Numerical value for education\n",
    "\n",
    "#1.Creating a dictionary\n",
    "\n",
    "educ_dict = Dict( \n",
    "    \"grade 11\" => 11, \n",
    "    \"some college but no degree\" => 13, \n",
    "    \"associate's degree, academic program\" => 14,\n",
    "    \"grade 10\" => 10, \n",
    "    \"grades 7 or 8\" => 8, \n",
    "    \"grades 1, 2, 3, or 4\" => 4, \n",
    "    \"associate's degree, occupational/vocational program\" => 14, \n",
    "    \"high school diploma or equivalent\" => 12, \n",
    "    \"grade 9\" => 9, \n",
    "    \"none or preschool\" => 0, \n",
    "    \"doctorate degree\" => 21,\n",
    "    \"bachelor's degree\" => 16, \n",
    "    \"master's degree\" => 14, \n",
    "    \"grades 5 or 6\" => 6, \n",
    "    \"professional school degree\" => 14, \n",
    "    \"12th grade, no diploma\" => 12\n",
    "    )"
   ]
  },
  {
   "cell_type": "code",
   "execution_count": 5,
   "metadata": {},
   "outputs": [
    {
     "data": {
      "text/html": [
       "<div class=\"data-frame\"><p>10 rows × 5 columns</p><table class=\"data-frame\"><thead><tr><th></th><th>age</th><th>wage</th><th>educ</th><th>educ_num</th><th>log_wage</th></tr><tr><th></th><th title=\"Int64\">Int64</th><th title=\"Int64\">Int64</th><th title=\"String\">String</th><th title=\"Int64\">Int64</th><th title=\"Float64\">Float64</th></tr></thead><tbody><tr><th>1</th><td>22</td><td>12000</td><td>some college but no degree</td><td>13</td><td>9.39266</td></tr><tr><th>2</th><td>21</td><td>3500</td><td>some college but no degree</td><td>13</td><td>8.16052</td></tr><tr><th>3</th><td>49</td><td>30000</td><td>some college but no degree</td><td>13</td><td>10.309</td></tr><tr><th>4</th><td>31</td><td>32000</td><td>bachelor&apos;s degree</td><td>16</td><td>10.3735</td></tr><tr><th>5</th><td>42</td><td>89630</td><td>doctorate degree</td><td>21</td><td>11.4034</td></tr><tr><th>6</th><td>35</td><td>229339</td><td>doctorate degree</td><td>21</td><td>12.343</td></tr><tr><th>7</th><td>42</td><td>39000</td><td>high school diploma or equivalent</td><td>12</td><td>10.5713</td></tr><tr><th>8</th><td>48</td><td>50000</td><td>high school diploma or equivalent</td><td>12</td><td>10.8198</td></tr><tr><th>9</th><td>41</td><td>37500</td><td>some college but no degree</td><td>13</td><td>10.5321</td></tr><tr><th>10</th><td>41</td><td>52000</td><td>associate&apos;s degree, occupational/vocational program</td><td>14</td><td>10.859</td></tr></tbody></table></div>"
      ],
      "text/latex": [
       "\\begin{tabular}{r|ccccc}\n",
       "\t& age & wage & educ & educ\\_num & log\\_wage\\\\\n",
       "\t\\hline\n",
       "\t& Int64 & Int64 & String & Int64 & Float64\\\\\n",
       "\t\\hline\n",
       "\t1 & 22 & 12000 & some college but no degree & 13 & 9.39266 \\\\\n",
       "\t2 & 21 & 3500 & some college but no degree & 13 & 8.16052 \\\\\n",
       "\t3 & 49 & 30000 & some college but no degree & 13 & 10.309 \\\\\n",
       "\t4 & 31 & 32000 & bachelor's degree & 16 & 10.3735 \\\\\n",
       "\t5 & 42 & 89630 & doctorate degree & 21 & 11.4034 \\\\\n",
       "\t6 & 35 & 229339 & doctorate degree & 21 & 12.343 \\\\\n",
       "\t7 & 42 & 39000 & high school diploma or equivalent & 12 & 10.5713 \\\\\n",
       "\t8 & 48 & 50000 & high school diploma or equivalent & 12 & 10.8198 \\\\\n",
       "\t9 & 41 & 37500 & some college but no degree & 13 & 10.5321 \\\\\n",
       "\t10 & 41 & 52000 & associate's degree, occupational/vocational program & 14 & 10.859 \\\\\n",
       "\\end{tabular}\n"
      ],
      "text/plain": [
       "\u001b[1m10×5 DataFrame\u001b[0m\n",
       "\u001b[1m Row \u001b[0m│\u001b[1m age   \u001b[0m\u001b[1m wage   \u001b[0m\u001b[1m educ                              \u001b[0m\u001b[1m educ_num \u001b[0m\u001b[1m log_wage \u001b[0m\n",
       "\u001b[1m     \u001b[0m│\u001b[90m Int64 \u001b[0m\u001b[90m Int64  \u001b[0m\u001b[90m String                            \u001b[0m\u001b[90m Int64    \u001b[0m\u001b[90m Float64  \u001b[0m\n",
       "─────┼──────────────────────────────────────────────────────────────────────\n",
       "   1 │    22   12000  some college but no degree               13   9.39266\n",
       "   2 │    21    3500  some college but no degree               13   8.16052\n",
       "   3 │    49   30000  some college but no degree               13  10.309\n",
       "   4 │    31   32000  bachelor's degree                        16  10.3735\n",
       "   5 │    42   89630  doctorate degree                         21  11.4034\n",
       "   6 │    35  229339  doctorate degree                         21  12.343\n",
       "   7 │    42   39000  high school diploma or equivalent        12  10.5713\n",
       "   8 │    48   50000  high school diploma or equivalent        12  10.8198\n",
       "   9 │    41   37500  some college but no degree               13  10.5321\n",
       "  10 │    41   52000  associate's degree, occupational…        14  10.859"
      ]
     },
     "execution_count": 5,
     "metadata": {},
     "output_type": "execute_result"
    }
   ],
   "source": [
    "#2. transforming cps.educ\n",
    "f(x) = educ_dict[x]\n",
    "cps.educ_num = f.(cps.educ)\n",
    "\n",
    "#3. log of wage\n",
    "cps.log_wage = log.(cps.wage)\n",
    "first(cps,10)"
   ]
  },
  {
   "cell_type": "code",
   "execution_count": 6,
   "metadata": {},
   "outputs": [
    {
     "data": {
      "text/plain": [
       "(22715, 5)"
      ]
     },
     "execution_count": 6,
     "metadata": {},
     "output_type": "execute_result"
    }
   ],
   "source": [
    "Nobs, = size(cps)"
   ]
  },
  {
   "cell_type": "markdown",
   "metadata": {},
   "source": [
    "# Best Linear Predictor "
   ]
  },
  {
   "cell_type": "code",
   "execution_count": 7,
   "metadata": {},
   "outputs": [],
   "source": [
    "using FixedEffectModels"
   ]
  },
  {
   "cell_type": "code",
   "execution_count": 8,
   "metadata": {},
   "outputs": [
    {
     "data": {
      "text/plain": [
       "                             Linear Model                             \n",
       "======================================================================\n",
       "Number of obs:               22715  Degrees of freedom:              1\n",
       "R2:                          0.092  R2 Adjusted:                 0.092\n",
       "F-Stat:                    2440.69  p-value:                     0.000\n",
       "======================================================================\n",
       "log_wage    | Estimate  Std.Error t value Pr(>|t|) Lower 95% Upper 95%\n",
       "----------------------------------------------------------------------\n",
       "educ_num    | 0.124936 0.00252889 49.4034    0.000  0.119979  0.129893\n",
       "(Intercept) |  8.57109  0.0336583  254.65    0.000   8.50512   8.63707\n",
       "======================================================================\n"
      ]
     },
     "execution_count": 8,
     "metadata": {},
     "output_type": "execute_result"
    }
   ],
   "source": [
    "reg(cps, @formula(log_wage ~ educ_num ), Vcov.robust())"
   ]
  },
  {
   "cell_type": "code",
   "execution_count": 9,
   "metadata": {
    "scrolled": true
   },
   "outputs": [
    {
     "data": {
      "text/plain": [
       "                              Linear Model                              \n",
       "========================================================================\n",
       "Number of obs:                22715  Degrees of freedom:               2\n",
       "R2:                           0.209  R2 Adjusted:                  0.209\n",
       "F-Stat:                     2684.15  p-value:                      0.000\n",
       "========================================================================\n",
       "log_wage    |  Estimate   Std.Error t value Pr(>|t|) Lower 95% Upper 95%\n",
       "------------------------------------------------------------------------\n",
       "educ_num    |  0.110902   0.0024148  45.926    0.000  0.106169  0.115635\n",
       "age         | 0.0377451 0.000712846 52.9498    0.000 0.0363478 0.0391423\n",
       "(Intercept) |   7.41447   0.0394616 187.891    0.000   7.33712   7.49182\n",
       "========================================================================\n"
      ]
     },
     "execution_count": 9,
     "metadata": {},
     "output_type": "execute_result"
    }
   ],
   "source": [
    "reg(cps, @formula(log_wage ~ educ_num + age ), Vcov.robust())"
   ]
  },
  {
   "cell_type": "markdown",
   "metadata": {},
   "source": [
    "# Interval Data"
   ]
  },
  {
   "cell_type": "code",
   "execution_count": 13,
   "metadata": {},
   "outputs": [],
   "source": [
    "using Statistics"
   ]
  },
  {
   "cell_type": "code",
   "execution_count": 37,
   "metadata": {},
   "outputs": [
    {
     "data": {
      "text/plain": [
       "362303.0"
      ]
     },
     "execution_count": 37,
     "metadata": {},
     "output_type": "execute_result"
    }
   ],
   "source": [
    "wage_quantiles = quantile(cps[!,:wage],[0.0, 0.1,0.2,0.3,0.4,0.5,0.6,0.7,0.8,0.9,1.0], sorted=false);\n",
    "wage_quantiles[1] +=-1\n",
    "wage_quantiles[end] +=1"
   ]
  },
  {
   "cell_type": "code",
   "execution_count": 40,
   "metadata": {},
   "outputs": [
    {
     "data": {
      "text/html": [
       "<div class=\"data-frame\"><p>5 rows × 9 columns (omitted printing of 2 columns)</p><table class=\"data-frame\"><thead><tr><th></th><th>age</th><th>wage</th><th>educ</th><th>educ_num</th><th>log_wage</th><th>wage_lower</th><th>wage_upper</th></tr><tr><th></th><th title=\"Int64\">Int64</th><th title=\"Int64\">Int64</th><th title=\"String\">String</th><th title=\"Int64\">Int64</th><th title=\"Float64\">Float64</th><th title=\"Float64\">Float64</th><th title=\"Float64\">Float64</th></tr></thead><tbody><tr><th>1</th><td>22</td><td>12000</td><td>some college but no degree</td><td>13</td><td>9.39266</td><td>9000.0</td><td>15000.0</td></tr><tr><th>2</th><td>21</td><td>3500</td><td>some college but no degree</td><td>13</td><td>8.16052</td><td>0.0</td><td>9000.0</td></tr><tr><th>3</th><td>49</td><td>30000</td><td>some college but no degree</td><td>13</td><td>10.309</td><td>30000.0</td><td>36000.0</td></tr><tr><th>4</th><td>31</td><td>32000</td><td>bachelor&apos;s degree</td><td>16</td><td>10.3735</td><td>30000.0</td><td>36000.0</td></tr><tr><th>5</th><td>42</td><td>89630</td><td>doctorate degree</td><td>21</td><td>11.4034</td><td>71000.0</td><td>362303.0</td></tr></tbody></table></div>"
      ],
      "text/latex": [
       "\\begin{tabular}{r|cccccccc}\n",
       "\t& age & wage & educ & educ\\_num & log\\_wage & wage\\_lower & wage\\_upper & \\\\\n",
       "\t\\hline\n",
       "\t& Int64 & Int64 & String & Int64 & Float64 & Float64 & Float64 & \\\\\n",
       "\t\\hline\n",
       "\t1 & 22 & 12000 & some college but no degree & 13 & 9.39266 & 9000.0 & 15000.0 & $\\dots$ \\\\\n",
       "\t2 & 21 & 3500 & some college but no degree & 13 & 8.16052 & 0.0 & 9000.0 & $\\dots$ \\\\\n",
       "\t3 & 49 & 30000 & some college but no degree & 13 & 10.309 & 30000.0 & 36000.0 & $\\dots$ \\\\\n",
       "\t4 & 31 & 32000 & bachelor's degree & 16 & 10.3735 & 30000.0 & 36000.0 & $\\dots$ \\\\\n",
       "\t5 & 42 & 89630 & doctorate degree & 21 & 11.4034 & 71000.0 & 362303.0 & $\\dots$ \\\\\n",
       "\\end{tabular}\n"
      ],
      "text/plain": [
       "\u001b[1m5×9 DataFrame\u001b[0m\n",
       "\u001b[1m Row \u001b[0m│\u001b[1m age   \u001b[0m\u001b[1m wage  \u001b[0m\u001b[1m educ                       \u001b[0m\u001b[1m educ_num \u001b[0m\u001b[1m log_wage \u001b[0m\u001b[1m wage_lowe\u001b[0m ⋯\n",
       "\u001b[1m     \u001b[0m│\u001b[90m Int64 \u001b[0m\u001b[90m Int64 \u001b[0m\u001b[90m String                     \u001b[0m\u001b[90m Int64    \u001b[0m\u001b[90m Float64  \u001b[0m\u001b[90m Float64  \u001b[0m ⋯\n",
       "─────┼──────────────────────────────────────────────────────────────────────────\n",
       "   1 │    22  12000  some college but no degree        13   9.39266      9000. ⋯\n",
       "   2 │    21   3500  some college but no degree        13   8.16052         0.\n",
       "   3 │    49  30000  some college but no degree        13  10.309       30000.\n",
       "   4 │    31  32000  bachelor's degree                 16  10.3735      30000.\n",
       "   5 │    42  89630  doctorate degree                  21  11.4034      71000. ⋯\n",
       "\u001b[36m                                                               4 columns omitted\u001b[0m"
      ]
     },
     "execution_count": 40,
     "metadata": {},
     "output_type": "execute_result"
    }
   ],
   "source": [
    "lower(x) = wage_quantiles[sum(wage_quantiles .<=x)]\n",
    "upper(x) = wage_quantiles[sum(wage_quantiles .<=x)+1]\n",
    "\n",
    "cps.wage_lower = lower.(cps.wage)\n",
    "cps.wage_upper = upper.(cps.wage)\n",
    "\n",
    "cps.logwage_lower = log.(cps.wage_lower)\n",
    "cps.logwage_upper = log.(cps.wage_upper)\n",
    "\n",
    "first(cps,5)"
   ]
  },
  {
   "cell_type": "markdown",
   "metadata": {},
   "source": [
    "# Partial Indentification"
   ]
  },
  {
   "cell_type": "code",
   "execution_count": 10,
   "metadata": {},
   "outputs": [
    {
     "data": {
      "text/plain": [
       "Main.setBLP"
      ]
     },
     "execution_count": 10,
     "metadata": {},
     "output_type": "execute_result"
    }
   ],
   "source": [
    "include(\"C:\\\\Users\\\\The Group Leader\\\\Notebooks\\\\Research\\\\Bounds.jl-1\\\\src\\\\setBLP.jl\")"
   ]
  },
  {
   "cell_type": "code",
   "execution_count": 12,
   "metadata": {},
   "outputs": [],
   "source": [
    "using Main.setBLP"
   ]
  },
  {
   "cell_type": "code",
   "execution_count": null,
   "metadata": {},
   "outputs": [],
   "source": []
  }
 ],
 "metadata": {
  "@webio": {
   "lastCommId": null,
   "lastKernelId": null
  },
  "kernelspec": {
   "display_name": "Julia 1.7.3",
   "language": "julia",
   "name": "julia-1.7"
  },
  "language_info": {
   "file_extension": ".jl",
   "mimetype": "application/julia",
   "name": "julia",
   "version": "1.7.3"
  }
 },
 "nbformat": 4,
 "nbformat_minor": 4
}
