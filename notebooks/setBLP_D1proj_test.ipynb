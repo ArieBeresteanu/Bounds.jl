{
 "cells": [
  {
   "cell_type": "markdown",
   "metadata": {},
   "source": [
    "# Packages"
   ]
  },
  {
   "cell_type": "code",
   "execution_count": 1,
   "metadata": {},
   "outputs": [],
   "source": [
    "using CSV, DataFrames"
   ]
  },
  {
   "cell_type": "code",
   "execution_count": 2,
   "metadata": {},
   "outputs": [],
   "source": [
    "using FixedEffectModels"
   ]
  },
  {
   "cell_type": "code",
   "execution_count": 3,
   "metadata": {},
   "outputs": [],
   "source": [
    "using Plots"
   ]
  },
  {
   "cell_type": "code",
   "execution_count": 4,
   "metadata": {},
   "outputs": [],
   "source": [
    "using Statistics"
   ]
  },
  {
   "cell_type": "markdown",
   "metadata": {},
   "source": [
    "# Uploading CPS data"
   ]
  },
  {
   "cell_type": "code",
   "execution_count": 5,
   "metadata": {},
   "outputs": [
    {
     "data": {
      "text/html": [
       "<div><div style = \"float: left;\"><span>5×3 DataFrame</span></div><div style = \"clear: both;\"></div></div><div class = \"data-frame\" style = \"overflow-x: scroll;\"><table class = \"data-frame\" style = \"margin-bottom: 6px;\"><thead><tr class = \"header\"><th class = \"rowNumber\" style = \"font-weight: bold; text-align: right;\">Row</th><th style = \"text-align: left;\">age</th><th style = \"text-align: left;\">wage</th><th style = \"text-align: left;\">educ</th></tr><tr class = \"subheader headerLastRow\"><th class = \"rowNumber\" style = \"font-weight: bold; text-align: right;\"></th><th title = \"Int64\" style = \"text-align: left;\">Int64</th><th title = \"Int64\" style = \"text-align: left;\">Int64</th><th title = \"String\" style = \"text-align: left;\">String</th></tr></thead><tbody><tr><td class = \"rowNumber\" style = \"font-weight: bold; text-align: right;\">1</td><td style = \"text-align: right;\">22</td><td style = \"text-align: right;\">12000</td><td style = \"text-align: left;\">some college but no degree</td></tr><tr><td class = \"rowNumber\" style = \"font-weight: bold; text-align: right;\">2</td><td style = \"text-align: right;\">21</td><td style = \"text-align: right;\">3500</td><td style = \"text-align: left;\">some college but no degree</td></tr><tr><td class = \"rowNumber\" style = \"font-weight: bold; text-align: right;\">3</td><td style = \"text-align: right;\">49</td><td style = \"text-align: right;\">30000</td><td style = \"text-align: left;\">some college but no degree</td></tr><tr><td class = \"rowNumber\" style = \"font-weight: bold; text-align: right;\">4</td><td style = \"text-align: right;\">31</td><td style = \"text-align: right;\">32000</td><td style = \"text-align: left;\">bachelor&apos;s degree</td></tr><tr><td class = \"rowNumber\" style = \"font-weight: bold; text-align: right;\">5</td><td style = \"text-align: right;\">42</td><td style = \"text-align: right;\">89630</td><td style = \"text-align: left;\">doctorate degree</td></tr></tbody></table></div>"
      ],
      "text/latex": [
       "\\begin{tabular}{r|ccc}\n",
       "\t& age & wage & educ\\\\\n",
       "\t\\hline\n",
       "\t& Int64 & Int64 & String\\\\\n",
       "\t\\hline\n",
       "\t1 & 22 & 12000 & some college but no degree \\\\\n",
       "\t2 & 21 & 3500 & some college but no degree \\\\\n",
       "\t3 & 49 & 30000 & some college but no degree \\\\\n",
       "\t4 & 31 & 32000 & bachelor's degree \\\\\n",
       "\t5 & 42 & 89630 & doctorate degree \\\\\n",
       "\\end{tabular}\n"
      ],
      "text/plain": [
       "\u001b[1m5×3 DataFrame\u001b[0m\n",
       "\u001b[1m Row \u001b[0m│\u001b[1m age   \u001b[0m\u001b[1m wage  \u001b[0m\u001b[1m educ                       \u001b[0m\n",
       "     │\u001b[90m Int64 \u001b[0m\u001b[90m Int64 \u001b[0m\u001b[90m String                     \u001b[0m\n",
       "─────┼──────────────────────────────────────────\n",
       "   1 │    22  12000  some college but no degree\n",
       "   2 │    21   3500  some college but no degree\n",
       "   3 │    49  30000  some college but no degree\n",
       "   4 │    31  32000  bachelor's degree\n",
       "   5 │    42  89630  doctorate degree"
      ]
     },
     "execution_count": 5,
     "metadata": {},
     "output_type": "execute_result"
    }
   ],
   "source": [
    "cps = DataFrame(CSV.File(\"c:\\\\data\\\\Bounds\\\\cps.csv\")) # <-change this to the right directory\n",
    "\n",
    "## Cleaning zero wage\n",
    "\n",
    "cps = cps[cps.wage .> 0, :]\n",
    "first(cps,5)"
   ]
  },
  {
   "cell_type": "code",
   "execution_count": 6,
   "metadata": {},
   "outputs": [
    {
     "data": {
      "text/plain": [
       "Dict{String, Int64} with 16 entries:\n",
       "  \"grade 11\"                                            => 11\n",
       "  \"some college but no degree\"                          => 13\n",
       "  \"associate's degree, academic program\"                => 14\n",
       "  \"none or preschool\"                                   => 0\n",
       "  \"doctorate degree\"                                    => 21\n",
       "  \"grade 10\"                                            => 10\n",
       "  \"bachelor's degree\"                                   => 16\n",
       "  \"master's degree\"                                     => 14\n",
       "  \"grades 5 or 6\"                                       => 6\n",
       "  \"grades 7 or 8\"                                       => 8\n",
       "  \"grades 1, 2, 3, or 4\"                                => 4\n",
       "  \"associate's degree, occupational/vocational program\" => 14\n",
       "  \"professional school degree\"                          => 14\n",
       "  \"high school diploma or equivalent\"                   => 12\n",
       "  \"grade 9\"                                             => 9\n",
       "  \"12th grade, no diploma\"                              => 12"
      ]
     },
     "execution_count": 6,
     "metadata": {},
     "output_type": "execute_result"
    }
   ],
   "source": [
    "# Numerical value for education\n",
    "\n",
    "#1.Creating a dictionary\n",
    "\n",
    "educ_dict = Dict( \n",
    "    \"grade 11\" => 11, \n",
    "    \"some college but no degree\" => 13, \n",
    "    \"associate's degree, academic program\" => 14,\n",
    "    \"grade 10\" => 10, \n",
    "    \"grades 7 or 8\" => 8, \n",
    "    \"grades 1, 2, 3, or 4\" => 4, \n",
    "    \"associate's degree, occupational/vocational program\" => 14, \n",
    "    \"high school diploma or equivalent\" => 12, \n",
    "    \"grade 9\" => 9, \n",
    "    \"none or preschool\" => 0, \n",
    "    \"doctorate degree\" => 21,\n",
    "    \"bachelor's degree\" => 16, \n",
    "    \"master's degree\" => 14, \n",
    "    \"grades 5 or 6\" => 6, \n",
    "    \"professional school degree\" => 14, \n",
    "    \"12th grade, no diploma\" => 12\n",
    "    )"
   ]
  },
  {
   "cell_type": "code",
   "execution_count": 7,
   "metadata": {},
   "outputs": [
    {
     "data": {
      "text/html": [
       "<div><div style = \"float: left;\"><span>3×5 DataFrame</span></div><div style = \"clear: both;\"></div></div><div class = \"data-frame\" style = \"overflow-x: scroll;\"><table class = \"data-frame\" style = \"margin-bottom: 6px;\"><thead><tr class = \"header\"><th class = \"rowNumber\" style = \"font-weight: bold; text-align: right;\">Row</th><th style = \"text-align: left;\">age</th><th style = \"text-align: left;\">wage</th><th style = \"text-align: left;\">educ</th><th style = \"text-align: left;\">educ_num</th><th style = \"text-align: left;\">log_wage</th></tr><tr class = \"subheader headerLastRow\"><th class = \"rowNumber\" style = \"font-weight: bold; text-align: right;\"></th><th title = \"Int64\" style = \"text-align: left;\">Int64</th><th title = \"Int64\" style = \"text-align: left;\">Int64</th><th title = \"String\" style = \"text-align: left;\">String</th><th title = \"Int64\" style = \"text-align: left;\">Int64</th><th title = \"Float64\" style = \"text-align: left;\">Float64</th></tr></thead><tbody><tr><td class = \"rowNumber\" style = \"font-weight: bold; text-align: right;\">1</td><td style = \"text-align: right;\">22</td><td style = \"text-align: right;\">12000</td><td style = \"text-align: left;\">some college but no degree</td><td style = \"text-align: right;\">13</td><td style = \"text-align: right;\">9.39266</td></tr><tr><td class = \"rowNumber\" style = \"font-weight: bold; text-align: right;\">2</td><td style = \"text-align: right;\">21</td><td style = \"text-align: right;\">3500</td><td style = \"text-align: left;\">some college but no degree</td><td style = \"text-align: right;\">13</td><td style = \"text-align: right;\">8.16052</td></tr><tr><td class = \"rowNumber\" style = \"font-weight: bold; text-align: right;\">3</td><td style = \"text-align: right;\">49</td><td style = \"text-align: right;\">30000</td><td style = \"text-align: left;\">some college but no degree</td><td style = \"text-align: right;\">13</td><td style = \"text-align: right;\">10.309</td></tr></tbody></table></div>"
      ],
      "text/latex": [
       "\\begin{tabular}{r|ccccc}\n",
       "\t& age & wage & educ & educ\\_num & log\\_wage\\\\\n",
       "\t\\hline\n",
       "\t& Int64 & Int64 & String & Int64 & Float64\\\\\n",
       "\t\\hline\n",
       "\t1 & 22 & 12000 & some college but no degree & 13 & 9.39266 \\\\\n",
       "\t2 & 21 & 3500 & some college but no degree & 13 & 8.16052 \\\\\n",
       "\t3 & 49 & 30000 & some college but no degree & 13 & 10.309 \\\\\n",
       "\\end{tabular}\n"
      ],
      "text/plain": [
       "\u001b[1m3×5 DataFrame\u001b[0m\n",
       "\u001b[1m Row \u001b[0m│\u001b[1m age   \u001b[0m\u001b[1m wage  \u001b[0m\u001b[1m educ                       \u001b[0m\u001b[1m educ_num \u001b[0m\u001b[1m log_wage \u001b[0m\n",
       "     │\u001b[90m Int64 \u001b[0m\u001b[90m Int64 \u001b[0m\u001b[90m String                     \u001b[0m\u001b[90m Int64    \u001b[0m\u001b[90m Float64  \u001b[0m\n",
       "─────┼──────────────────────────────────────────────────────────────\n",
       "   1 │    22  12000  some college but no degree        13   9.39266\n",
       "   2 │    21   3500  some college but no degree        13   8.16052\n",
       "   3 │    49  30000  some college but no degree        13  10.309"
      ]
     },
     "execution_count": 7,
     "metadata": {},
     "output_type": "execute_result"
    }
   ],
   "source": [
    "#2. transforming cps.educ\n",
    "f(x) = educ_dict[x]\n",
    "cps.educ_num = f.(cps.educ)\n",
    "\n",
    "#3. log of wage\n",
    "cps.log_wage = log.(cps.wage)\n",
    "first(cps,3)"
   ]
  },
  {
   "cell_type": "code",
   "execution_count": 8,
   "metadata": {},
   "outputs": [
    {
     "name": "stdout",
     "output_type": "stream",
     "text": [
      "The original data contains 22715 observations and 5 columns."
     ]
    }
   ],
   "source": [
    "Nobs, c = size(cps)\n",
    "print(\"The original data contains \", Nobs, \" observations and \",c, \" columns.\")"
   ]
  },
  {
   "cell_type": "markdown",
   "metadata": {},
   "source": [
    "# Best Linear Predictor "
   ]
  },
  {
   "cell_type": "code",
   "execution_count": 9,
   "metadata": {},
   "outputs": [],
   "source": [
    "#reg(cps, @formula(log_wage ~ educ_num ), Vcov.robust())"
   ]
  },
  {
   "cell_type": "code",
   "execution_count": 10,
   "metadata": {
    "scrolled": true
   },
   "outputs": [],
   "source": [
    "#reg(cps, @formula(log_wage ~ educ_num + age ), Vcov.robust())"
   ]
  },
  {
   "cell_type": "markdown",
   "metadata": {},
   "source": [
    "# Creating Interval Data"
   ]
  },
  {
   "cell_type": "code",
   "execution_count": 11,
   "metadata": {},
   "outputs": [
    {
     "data": {
      "text/plain": [
       "362303.0"
      ]
     },
     "execution_count": 11,
     "metadata": {},
     "output_type": "execute_result"
    }
   ],
   "source": [
    "wage_quantiles = quantile(cps[!,:wage],[0.0, 0.1,0.2,0.3,0.4,0.5,0.6,0.7,0.8,0.9,1.0], sorted=false);\n",
    "#wage_quantiles[1] +=-1\n",
    "wage_quantiles[end] +=1"
   ]
  },
  {
   "cell_type": "code",
   "execution_count": 12,
   "metadata": {},
   "outputs": [
    {
     "data": {
      "text/html": [
       "<div><div style = \"float: left;\"><span>3×9 DataFrame</span></div><div style = \"clear: both;\"></div></div><div class = \"data-frame\" style = \"overflow-x: scroll;\"><table class = \"data-frame\" style = \"margin-bottom: 6px;\"><thead><tr class = \"header\"><th class = \"rowNumber\" style = \"font-weight: bold; text-align: right;\">Row</th><th style = \"text-align: left;\">age</th><th style = \"text-align: left;\">wage</th><th style = \"text-align: left;\">educ</th><th style = \"text-align: left;\">educ_num</th><th style = \"text-align: left;\">log_wage</th><th style = \"text-align: left;\">wage_lower</th><th style = \"text-align: left;\">wage_upper</th><th style = \"text-align: left;\">logwage_lower</th><th style = \"text-align: left;\">logwage_upper</th></tr><tr class = \"subheader headerLastRow\"><th class = \"rowNumber\" style = \"font-weight: bold; text-align: right;\"></th><th title = \"Int64\" style = \"text-align: left;\">Int64</th><th title = \"Int64\" style = \"text-align: left;\">Int64</th><th title = \"String\" style = \"text-align: left;\">String</th><th title = \"Int64\" style = \"text-align: left;\">Int64</th><th title = \"Float64\" style = \"text-align: left;\">Float64</th><th title = \"Float64\" style = \"text-align: left;\">Float64</th><th title = \"Float64\" style = \"text-align: left;\">Float64</th><th title = \"Float64\" style = \"text-align: left;\">Float64</th><th title = \"Float64\" style = \"text-align: left;\">Float64</th></tr></thead><tbody><tr><td class = \"rowNumber\" style = \"font-weight: bold; text-align: right;\">1</td><td style = \"text-align: right;\">22</td><td style = \"text-align: right;\">12000</td><td style = \"text-align: left;\">some college but no degree</td><td style = \"text-align: right;\">13</td><td style = \"text-align: right;\">9.39266</td><td style = \"text-align: right;\">9000.0</td><td style = \"text-align: right;\">15000.0</td><td style = \"text-align: right;\">9.10498</td><td style = \"text-align: right;\">9.61581</td></tr><tr><td class = \"rowNumber\" style = \"font-weight: bold; text-align: right;\">2</td><td style = \"text-align: right;\">21</td><td style = \"text-align: right;\">3500</td><td style = \"text-align: left;\">some college but no degree</td><td style = \"text-align: right;\">13</td><td style = \"text-align: right;\">8.16052</td><td style = \"text-align: right;\">1.0</td><td style = \"text-align: right;\">9000.0</td><td style = \"text-align: right;\">0.0</td><td style = \"text-align: right;\">9.10498</td></tr><tr><td class = \"rowNumber\" style = \"font-weight: bold; text-align: right;\">3</td><td style = \"text-align: right;\">49</td><td style = \"text-align: right;\">30000</td><td style = \"text-align: left;\">some college but no degree</td><td style = \"text-align: right;\">13</td><td style = \"text-align: right;\">10.309</td><td style = \"text-align: right;\">30000.0</td><td style = \"text-align: right;\">36000.0</td><td style = \"text-align: right;\">10.309</td><td style = \"text-align: right;\">10.4913</td></tr></tbody></table></div>"
      ],
      "text/latex": [
       "\\begin{tabular}{r|cccccccc}\n",
       "\t& age & wage & educ & educ\\_num & log\\_wage & wage\\_lower & wage\\_upper & \\\\\n",
       "\t\\hline\n",
       "\t& Int64 & Int64 & String & Int64 & Float64 & Float64 & Float64 & \\\\\n",
       "\t\\hline\n",
       "\t1 & 22 & 12000 & some college but no degree & 13 & 9.39266 & 9000.0 & 15000.0 & $\\dots$ \\\\\n",
       "\t2 & 21 & 3500 & some college but no degree & 13 & 8.16052 & 1.0 & 9000.0 & $\\dots$ \\\\\n",
       "\t3 & 49 & 30000 & some college but no degree & 13 & 10.309 & 30000.0 & 36000.0 & $\\dots$ \\\\\n",
       "\\end{tabular}\n"
      ],
      "text/plain": [
       "\u001b[1m3×9 DataFrame\u001b[0m\n",
       "\u001b[1m Row \u001b[0m│\u001b[1m age   \u001b[0m\u001b[1m wage  \u001b[0m\u001b[1m educ                       \u001b[0m\u001b[1m educ_num \u001b[0m\u001b[1m log_wage \u001b[0m\u001b[1m wage_lowe\u001b[0m ⋯\n",
       "     │\u001b[90m Int64 \u001b[0m\u001b[90m Int64 \u001b[0m\u001b[90m String                     \u001b[0m\u001b[90m Int64    \u001b[0m\u001b[90m Float64  \u001b[0m\u001b[90m Float64  \u001b[0m ⋯\n",
       "─────┼──────────────────────────────────────────────────────────────────────────\n",
       "   1 │    22  12000  some college but no degree        13   9.39266      9000. ⋯\n",
       "   2 │    21   3500  some college but no degree        13   8.16052         1.\n",
       "   3 │    49  30000  some college but no degree        13  10.309       30000.\n",
       "\u001b[36m                                                               4 columns omitted\u001b[0m"
      ]
     },
     "execution_count": 12,
     "metadata": {},
     "output_type": "execute_result"
    }
   ],
   "source": [
    "lower(x) = wage_quantiles[sum(wage_quantiles .<=x)]\n",
    "upper(x) = wage_quantiles[sum(wage_quantiles .<=x)+1]\n",
    "\n",
    "cps.wage_lower = lower.(cps.wage)\n",
    "cps.wage_upper = upper.(cps.wage)\n",
    "\n",
    "cps.logwage_lower = log.(cps.wage_lower)\n",
    "cps.logwage_upper = log.(cps.wage_upper)\n",
    "\n",
    "first(cps,3)"
   ]
  },
  {
   "cell_type": "code",
   "execution_count": 13,
   "metadata": {},
   "outputs": [
    {
     "name": "stdout",
     "output_type": "stream",
     "text": [
      "The complete data contains 22715 observations and 9 columns."
     ]
    }
   ],
   "source": [
    "Nobs, c = size(cps)\n",
    "print(\"The complete data contains \", Nobs, \" observations and \",c, \" columns.\")"
   ]
  },
  {
   "cell_type": "markdown",
   "metadata": {},
   "source": [
    "# Partial Indentification"
   ]
  },
  {
   "cell_type": "markdown",
   "metadata": {},
   "source": [
    "### Reading the module"
   ]
  },
  {
   "cell_type": "code",
   "execution_count": 14,
   "metadata": {},
   "outputs": [
    {
     "data": {
      "text/plain": [
       "Main.setBLP"
      ]
     },
     "execution_count": 14,
     "metadata": {},
     "output_type": "execute_result"
    }
   ],
   "source": [
    "include(\"C:\\\\Users\\\\The Group Leader\\\\Notebooks\\\\Research\\\\Bounds.jl-1\\\\src\\\\setBLP.jl\")"
   ]
  },
  {
   "cell_type": "code",
   "execution_count": 15,
   "metadata": {},
   "outputs": [],
   "source": [
    "using Main.setBLP"
   ]
  },
  {
   "cell_type": "markdown",
   "metadata": {},
   "source": [
    "## Testing projection function"
   ]
  },
  {
   "cell_type": "code",
   "execution_count": 16,
   "metadata": {},
   "outputs": [
    {
     "data": {
      "text/html": [
       "# 7 methods for generic function <b>projection</b> from \u001b[35mMain.setBLP\u001b[39m:<ul><li> projection(yl::<b>Vector{<:Real}</b>, yu::<b>Vector{<:Real}</b>, x::<b>Vector{<:Real}</b>) in Main.setBLP at <a href=\"https://github.com/ArieBeresteanu/Bounds.jl/tree/1e8010e87fff44c52ec338405e264d838ae8a835//src/setBLP.jl#L196\" target=\"_blank\">C:\\Users\\The Group Leader\\Notebooks\\Research\\Bounds.jl-1\\src\\setBLP.jl:196</a></li> <li> projection(yl::<b>Vector{<:Real}</b>, yu::<b>Vector{<:Real}</b>, x::<b>Matrix{<:Real}</b>) in Main.setBLP at <a href=\"https://github.com/ArieBeresteanu/Bounds.jl/tree/1e8010e87fff44c52ec338405e264d838ae8a835//src/setBLP.jl#L237\" target=\"_blank\">C:\\Users\\The Group Leader\\Notebooks\\Research\\Bounds.jl-1\\src\\setBLP.jl:237</a></li> <li> projection(yl::<b>Vector{<:Real}</b>, yu::<b>Vector{<:Real}</b>, x::<b>Matrix{<:Real}</b>, cord::<b>Int64</b>) in Main.setBLP at <a href=\"https://github.com/ArieBeresteanu/Bounds.jl/tree/1e8010e87fff44c52ec338405e264d838ae8a835//src/setBLP.jl#L207\" target=\"_blank\">C:\\Users\\The Group Leader\\Notebooks\\Research\\Bounds.jl-1\\src\\setBLP.jl:207</a></li> <li> projection(yl::<b>Vector{<:Real}</b>, yu::<b>Vector{<:Real}</b>, x::<b>Matrix{<:Real}</b>, cords::<b>Vector{Int64}</b>) in Main.setBLP at <a href=\"https://github.com/ArieBeresteanu/Bounds.jl/tree/1e8010e87fff44c52ec338405e264d838ae8a835//src/setBLP.jl#L220\" target=\"_blank\">C:\\Users\\The Group Leader\\Notebooks\\Research\\Bounds.jl-1\\src\\setBLP.jl:220</a></li> <li> projection(df::<b>DataFrame</b>, yl::<b>Symbol</b>, yu::<b>Symbol</b>, x::<b>Symbol</b>) in Main.setBLP at <a href=\"https://github.com/ArieBeresteanu/Bounds.jl/tree/1e8010e87fff44c52ec338405e264d838ae8a835//src/setBLP.jl#L255\" target=\"_blank\">C:\\Users\\The Group Leader\\Notebooks\\Research\\Bounds.jl-1\\src\\setBLP.jl:255</a></li> <li> projection(df::<b>DataFrame</b>, yl::<b>Symbol</b>, yu::<b>Symbol</b>, x::<b>Vector{Symbol}</b>) in Main.setBLP at <a href=\"https://github.com/ArieBeresteanu/Bounds.jl/tree/1e8010e87fff44c52ec338405e264d838ae8a835//src/setBLP.jl#L263\" target=\"_blank\">C:\\Users\\The Group Leader\\Notebooks\\Research\\Bounds.jl-1\\src\\setBLP.jl:263</a></li> <li> projection(df::<b>DataFrame</b>, yl::<b>Symbol</b>, yu::<b>Symbol</b>, x::<b>Vector{Symbol}</b>, cord::<b>Int64</b>) in Main.setBLP at <a href=\"https://github.com/ArieBeresteanu/Bounds.jl/tree/1e8010e87fff44c52ec338405e264d838ae8a835//src/setBLP.jl#L271\" target=\"_blank\">C:\\Users\\The Group Leader\\Notebooks\\Research\\Bounds.jl-1\\src\\setBLP.jl:271</a></li> </ul>"
      ],
      "text/plain": [
       "# 7 methods for generic function \"projection\" from \u001b[35mMain.setBLP\u001b[39m:\n",
       " [1] projection(\u001b[90myl\u001b[39m::\u001b[1mVector\u001b[22m\u001b[0m{<:Real}, \u001b[90myu\u001b[39m::\u001b[1mVector\u001b[22m\u001b[0m{<:Real}, \u001b[90mx\u001b[39m::\u001b[1mVector\u001b[22m\u001b[0m{<:Real})\n",
       "\u001b[90m     @\u001b[39m \u001b[90mC:\\Users\\The Group Leader\\Notebooks\\Research\\Bounds.jl-1\\src\\\u001b[39m\u001b[90m\u001b[4msetBLP.jl:196\u001b[24m\u001b[39m\n",
       " [2] projection(\u001b[90myl\u001b[39m::\u001b[1mVector\u001b[22m\u001b[0m{<:Real}, \u001b[90myu\u001b[39m::\u001b[1mVector\u001b[22m\u001b[0m{<:Real}, \u001b[90mx\u001b[39m::\u001b[1mMatrix\u001b[22m\u001b[0m{<:Real})\n",
       "\u001b[90m     @\u001b[39m \u001b[90mC:\\Users\\The Group Leader\\Notebooks\\Research\\Bounds.jl-1\\src\\\u001b[39m\u001b[90m\u001b[4msetBLP.jl:237\u001b[24m\u001b[39m\n",
       " [3] projection(\u001b[90myl\u001b[39m::\u001b[1mVector\u001b[22m\u001b[0m{<:Real}, \u001b[90myu\u001b[39m::\u001b[1mVector\u001b[22m\u001b[0m{<:Real}, \u001b[90mx\u001b[39m::\u001b[1mMatrix\u001b[22m\u001b[0m{<:Real}, \u001b[90mcord\u001b[39m::\u001b[1mInt64\u001b[22m)\n",
       "\u001b[90m     @\u001b[39m \u001b[90mC:\\Users\\The Group Leader\\Notebooks\\Research\\Bounds.jl-1\\src\\\u001b[39m\u001b[90m\u001b[4msetBLP.jl:207\u001b[24m\u001b[39m\n",
       " [4] projection(\u001b[90myl\u001b[39m::\u001b[1mVector\u001b[22m\u001b[0m{<:Real}, \u001b[90myu\u001b[39m::\u001b[1mVector\u001b[22m\u001b[0m{<:Real}, \u001b[90mx\u001b[39m::\u001b[1mMatrix\u001b[22m\u001b[0m{<:Real}, \u001b[90mcords\u001b[39m::\u001b[1mVector\u001b[22m\u001b[0m{Int64})\n",
       "\u001b[90m     @\u001b[39m \u001b[90mC:\\Users\\The Group Leader\\Notebooks\\Research\\Bounds.jl-1\\src\\\u001b[39m\u001b[90m\u001b[4msetBLP.jl:220\u001b[24m\u001b[39m\n",
       " [5] projection(\u001b[90mdf\u001b[39m::\u001b[1mDataFrame\u001b[22m, \u001b[90myl\u001b[39m::\u001b[1mSymbol\u001b[22m, \u001b[90myu\u001b[39m::\u001b[1mSymbol\u001b[22m, \u001b[90mx\u001b[39m::\u001b[1mSymbol\u001b[22m)\n",
       "\u001b[90m     @\u001b[39m \u001b[90mC:\\Users\\The Group Leader\\Notebooks\\Research\\Bounds.jl-1\\src\\\u001b[39m\u001b[90m\u001b[4msetBLP.jl:255\u001b[24m\u001b[39m\n",
       " [6] projection(\u001b[90mdf\u001b[39m::\u001b[1mDataFrame\u001b[22m, \u001b[90myl\u001b[39m::\u001b[1mSymbol\u001b[22m, \u001b[90myu\u001b[39m::\u001b[1mSymbol\u001b[22m, \u001b[90mx\u001b[39m::\u001b[1mVector\u001b[22m\u001b[0m{Symbol})\n",
       "\u001b[90m     @\u001b[39m \u001b[90mC:\\Users\\The Group Leader\\Notebooks\\Research\\Bounds.jl-1\\src\\\u001b[39m\u001b[90m\u001b[4msetBLP.jl:263\u001b[24m\u001b[39m\n",
       " [7] projection(\u001b[90mdf\u001b[39m::\u001b[1mDataFrame\u001b[22m, \u001b[90myl\u001b[39m::\u001b[1mSymbol\u001b[22m, \u001b[90myu\u001b[39m::\u001b[1mSymbol\u001b[22m, \u001b[90mx\u001b[39m::\u001b[1mVector\u001b[22m\u001b[0m{Symbol}, \u001b[90mcord\u001b[39m::\u001b[1mInt64\u001b[22m)\n",
       "\u001b[90m     @\u001b[39m \u001b[90mC:\\Users\\The Group Leader\\Notebooks\\Research\\Bounds.jl-1\\src\\\u001b[39m\u001b[90m\u001b[4msetBLP.jl:271\u001b[24m\u001b[39m"
      ]
     },
     "execution_count": 16,
     "metadata": {},
     "output_type": "execute_result"
    }
   ],
   "source": [
    "methods(projection)"
   ]
  },
  {
   "cell_type": "code",
   "execution_count": 17,
   "metadata": {},
   "outputs": [
    {
     "name": "stdout",
     "output_type": "stream",
     "text": [
      "Options:\n",
      "  Number of MC iterations: 2000\n",
      "  Seed: 15217\n",
      "  Random Number Generator: Random.MersenneTwister(0xe3840079d64e683fbf296421f9ae6299)\n",
      "  Confidence level: 0.95\n"
     ]
    }
   ],
   "source": [
    "show(default_options)"
   ]
  },
  {
   "cell_type": "markdown",
   "metadata": {},
   "source": [
    "### 1. Testing the vector/matrix functions"
   ]
  },
  {
   "cell_type": "code",
   "execution_count": 18,
   "metadata": {},
   "outputs": [],
   "source": [
    "# Preparing vector and matrix versions of the data\n",
    "\n",
    "yl = cps.logwage_lower;\n",
    "yu = cps.logwage_upper;\n",
    "x1 = cps.age;\n",
    "x2 = cps.educ_num;\n",
    "x = [x1 x2];"
   ]
  },
  {
   "cell_type": "code",
   "execution_count": 19,
   "metadata": {},
   "outputs": [],
   "source": [
    "#projection(yl,yu,x1)"
   ]
  },
  {
   "cell_type": "code",
   "execution_count": 20,
   "metadata": {},
   "outputs": [],
   "source": [
    "#projection(yl,yu,x1)"
   ]
  },
  {
   "cell_type": "code",
   "execution_count": 21,
   "metadata": {},
   "outputs": [
    {
     "data": {
      "text/plain": [
       "1×2 Matrix{Float64}:\n",
       " -0.00905178  0.144324"
      ]
     },
     "execution_count": 21,
     "metadata": {},
     "output_type": "execute_result"
    }
   ],
   "source": [
    "projection(yl,yu,x,1)"
   ]
  },
  {
   "cell_type": "code",
   "execution_count": 22,
   "metadata": {},
   "outputs": [],
   "source": [
    "#projection(yl,yu,x,2)"
   ]
  },
  {
   "cell_type": "code",
   "execution_count": 23,
   "metadata": {},
   "outputs": [],
   "source": [
    "#projection(yl,yu,x)"
   ]
  },
  {
   "cell_type": "markdown",
   "metadata": {},
   "source": [
    "### 2. Testing the Dataframe version of the functions"
   ]
  },
  {
   "cell_type": "code",
   "execution_count": 24,
   "metadata": {},
   "outputs": [
    {
     "data": {
      "text/plain": [
       "1×2 Matrix{Float64}:\n",
       " -0.00488786  0.14866"
      ]
     },
     "execution_count": 24,
     "metadata": {},
     "output_type": "execute_result"
    }
   ],
   "source": [
    "projection(cps,:logwage_lower,:logwage_upper,:age)"
   ]
  },
  {
   "cell_type": "code",
   "execution_count": 25,
   "metadata": {},
   "outputs": [],
   "source": [
    "#projection(cps,:logwage_lower,:logwage_upper,:educ_num)"
   ]
  },
  {
   "cell_type": "code",
   "execution_count": 26,
   "metadata": {},
   "outputs": [],
   "source": [
    "#projection(cps,:logwage_lower,:logwage_upper,[:age,:educ_num],1)"
   ]
  },
  {
   "cell_type": "code",
   "execution_count": 27,
   "metadata": {},
   "outputs": [],
   "source": [
    "#projection(cps,:logwage_lower,:logwage_upper,[:age,:educ_num],2)"
   ]
  },
  {
   "cell_type": "code",
   "execution_count": 28,
   "metadata": {},
   "outputs": [],
   "source": [
    "#projection(cps,:logwage_lower,:logwage_upper,[:age,:educ_num])"
   ]
  },
  {
   "cell_type": "markdown",
   "metadata": {},
   "source": [
    "## Testing oneDproj function"
   ]
  },
  {
   "cell_type": "code",
   "execution_count": 29,
   "metadata": {},
   "outputs": [
    {
     "name": "stdout",
     "output_type": "stream",
     "text": [
      "Results: \n",
      "  Null: [0.0, 0.15]\n",
      "  Bound: [-0.0049, 0.1487]\n",
      "  Hausdorff based test: \n",
      "    Test Stat: 0.7367\n",
      "    Critical Value: 0.7415\n",
      "    Confidence Interval: [-0.0098, 0.1536]\n",
      "  directed Hausdorff test: \n",
      "    Test Stat: 0.202\n",
      "    Critical Value: 0.6014\n",
      "    Confidence Interval: [-0.0089, 0.1526]\n"
     ]
    }
   ],
   "source": [
    "res = oneDproj(yl,yu,float.(x1);CI=true,H0=[0, 0.15]);\n",
    "show(res)"
   ]
  },
  {
   "cell_type": "code",
   "execution_count": 30,
   "metadata": {},
   "outputs": [
    {
     "name": "stdout",
     "output_type": "stream",
     "text": [
      "Results: \n",
      "  Null: [0.1, 0.15]\n",
      "  Bound: [-0.0049, 0.1487]\n",
      "  Hausdorff based test: \n",
      "    Test Stat: 15.8082\n",
      "    Critical Value: 0.7196\n",
      "    Confidence Interval: [-0.0097, 0.1534]\n",
      "  directed Hausdorff test: \n",
      "    Test Stat: 0.202\n",
      "    Critical Value: 0.565\n",
      "    Confidence Interval: [-0.0086, 0.1524]\n"
     ]
    }
   ],
   "source": [
    "res = oneDproj(yl,yu,float.(x1);CI=true,H0=[0.1,0.15]);\n",
    "show(res)"
   ]
  },
  {
   "cell_type": "code",
   "execution_count": 31,
   "metadata": {},
   "outputs": [
    {
     "name": "stdout",
     "output_type": "stream",
     "text": [
      "Results: \n",
      "  Null: [0.0, 0.1]\n",
      "  Bound: [-0.0049, 0.1487]\n",
      "  Hausdorff based test: \n",
      "    Test Stat: 7.3337\n",
      "    Critical Value: 0.7463\n",
      "    Confidence Interval: [-0.0098, 0.1536]\n",
      "  directed Hausdorff test: \n",
      "    Test Stat: 0.0\n",
      "    Critical Value: 0.6232\n",
      "    Confidence Interval: [-0.009, 0.1528]\n"
     ]
    }
   ],
   "source": [
    "res = oneDproj(yl,yu,float.(x1);CI=true,H0=[0.0,0.1]);\n",
    "show(res)"
   ]
  },
  {
   "cell_type": "code",
   "execution_count": 32,
   "metadata": {},
   "outputs": [
    {
     "name": "stdout",
     "output_type": "stream",
     "text": [
      "Results: \n",
      "  Null: [-0.1, 0.15]\n",
      "  Bound: [-0.0049, 0.1487]\n",
      "  Hausdorff based test: \n",
      "    Test Stat: 14.3348\n",
      "    Critical Value: 0.7428\n",
      "    Confidence Interval: [-0.0098, 0.1536]\n",
      "  directed Hausdorff test: \n",
      "    Test Stat: 14.3348\n",
      "    Critical Value: 0.6052\n",
      "    Confidence Interval: [-0.0089, 0.1527]\n"
     ]
    }
   ],
   "source": [
    "res = oneDproj(yl,yu,float.(x1);CI=true,H0=[-0.1,0.15]);\n",
    "show(res)"
   ]
  },
  {
   "cell_type": "code",
   "execution_count": 33,
   "metadata": {},
   "outputs": [
    {
     "data": {
      "text/plain": [
       "Results([-0.004887858329799178, 0.14865963017399053], nothing, nothing, nothing)"
      ]
     },
     "execution_count": 33,
     "metadata": {},
     "output_type": "execute_result"
    }
   ],
   "source": [
    "res = oneDproj(yl,yu,float.(x1);CI=false,H0=nothing)"
   ]
  },
  {
   "cell_type": "code",
   "execution_count": 34,
   "metadata": {},
   "outputs": [
    {
     "data": {
      "text/plain": [
       "Results([-0.004887858329799178, 0.14865963017399053], nothing, TestResults([-0.009756736174112319, 0.15352850801830367], 0.7338127429927115, nothing), TestResults([-0.008962829435515901, 0.15273460127970725], 0.6141591184495763, nothing))"
      ]
     },
     "execution_count": 34,
     "metadata": {},
     "output_type": "execute_result"
    }
   ],
   "source": [
    "res = oneDproj(yl,yu,real.(x1))"
   ]
  },
  {
   "cell_type": "markdown",
   "metadata": {},
   "source": [
    "### Plotting"
   ]
  },
  {
   "cell_type": "code",
   "execution_count": 35,
   "metadata": {},
   "outputs": [
    {
     "data": {
      "image/png": "[encoded data removed]",
      "image/svg+xml": [
       "<?xml version=\"1.0\" encoding=\"utf-8\"?>\n",
       "<svg xmlns=\"http://www.w3.org/2000/svg\" xmlns:xlink=\"http://www.w3.org/1999/xlink\" width=\"600\" height=\"120\" viewBox=\"0 0 2400 480\">\n",
       "<defs>\n",
       "  <clipPath id=\"clip040\">\n",
       "    <rect x=\"0\" y=\"0\" width=\"2400\" height=\"480\"/>\n",
       "  </clipPath>\n",
       "</defs>\n",
       "<path clip-path=\"url(#clip040)\" d=\"M0 480 L2400 480 L2400 0 L0 0  Z\" fill=\"#ffffff\" fill-rule=\"evenodd\" fill-opacity=\"1\"/>\n",
       "<defs>\n",
       "  <clipPath id=\"clip041\">\n",
       "    <rect x=\"480\" y=\"0\" width=\"1681\" height=\"480\"/>\n",
       "  </clipPath>\n",
       "</defs>\n",
       "<path clip-path=\"url(#clip040)\" d=\"M223.45 401.84 L2352.76 401.84 L2352.76 47.2441 L223.45 47.2441  Z\" fill=\"#ffffff\" fill-rule=\"evenodd\" fill-opacity=\"1\"/>\n",
       "<defs>\n",
       "  <clipPath id=\"clip042\">\n",
       "    <rect x=\"223\" y=\"47\" width=\"2130\" height=\"356\"/>\n",
       "  </clipPath>\n",
       "</defs>\n",
       "<polyline clip-path=\"url(#clip042)\" style=\"stroke:#000000; stroke-linecap:round; stroke-linejoin:round; stroke-width:2; stroke-opacity:0.1; fill:none\" points=\"506.918,401.84 506.918,47.2441 \"/>\n",
       "<polyline clip-path=\"url(#clip042)\" style=\"stroke:#000000; stroke-linecap:round; stroke-linejoin:round; stroke-width:2; stroke-opacity:0.1; fill:none\" points=\"1050.27,401.84 1050.27,47.2441 \"/>\n",
       "<polyline clip-path=\"url(#clip042)\" style=\"stroke:#000000; stroke-linecap:round; stroke-linejoin:round; stroke-width:2; stroke-opacity:0.1; fill:none\" points=\"1593.62,401.84 1593.62,47.2441 \"/>\n",
       "<polyline clip-path=\"url(#clip042)\" style=\"stroke:#000000; stroke-linecap:round; stroke-linejoin:round; stroke-width:2; stroke-opacity:0.1; fill:none\" points=\"2136.97,401.84 2136.97,47.2441 \"/>\n",
       "<polyline clip-path=\"url(#clip040)\" style=\"stroke:#000000; stroke-linecap:round; stroke-linejoin:round; stroke-width:4; stroke-opacity:1; fill:none\" points=\"223.45,401.84 2352.76,401.84 \"/>\n",
       "<polyline clip-path=\"url(#clip040)\" style=\"stroke:#000000; stroke-linecap:round; stroke-linejoin:round; stroke-width:4; stroke-opacity:1; fill:none\" points=\"506.918,401.84 506.918,382.942 \"/>\n",
       "<polyline clip-path=\"url(#clip040)\" style=\"stroke:#000000; stroke-linecap:round; stroke-linejoin:round; stroke-width:4; stroke-opacity:1; fill:none\" points=\"1050.27,401.84 1050.27,382.942 \"/>\n",
       "<polyline clip-path=\"url(#clip040)\" style=\"stroke:#000000; stroke-linecap:round; stroke-linejoin:round; stroke-width:4; stroke-opacity:1; fill:none\" points=\"1593.62,401.84 1593.62,382.942 \"/>\n",
       "<polyline clip-path=\"url(#clip040)\" style=\"stroke:#000000; stroke-linecap:round; stroke-linejoin:round; stroke-width:4; stroke-opacity:1; fill:none\" points=\"2136.97,401.84 2136.97,382.942 \"/>\n",
       "<path clip-path=\"url(#clip040)\" d=\"M469.222 432.759 Q465.611 432.759 463.782 436.323 Q461.977 439.865 461.977 446.995 Q461.977 454.101 463.782 457.666 Q465.611 461.207 469.222 461.207 Q472.856 461.207 474.662 457.666 Q476.49 454.101 476.49 446.995 Q476.49 439.865 474.662 436.323 Q472.856 432.759 469.222 432.759 M469.222 429.055 Q475.032 429.055 478.088 433.661 Q481.166 438.245 481.166 446.995 Q481.166 455.721 478.088 460.328 Q475.032 464.911 469.222 464.911 Q463.412 464.911 460.333 460.328 Q457.277 455.721 457.277 446.995 Q457.277 438.245 460.333 433.661 Q463.412 429.055 469.222 429.055 Z\" fill=\"#000000\" fill-rule=\"nonzero\" fill-opacity=\"1\" /><path clip-path=\"url(#clip040)\" d=\"M489.384 458.36 L494.268 458.36 L494.268 464.24 L489.384 464.24 L489.384 458.36 Z\" fill=\"#000000\" fill-rule=\"nonzero\" fill-opacity=\"1\" /><path clip-path=\"url(#clip040)\" d=\"M514.453 432.759 Q510.842 432.759 509.013 436.323 Q507.208 439.865 507.208 446.995 Q507.208 454.101 509.013 457.666 Q510.842 461.207 514.453 461.207 Q518.087 461.207 519.893 457.666 Q521.722 454.101 521.722 446.995 Q521.722 439.865 519.893 436.323 Q518.087 432.759 514.453 432.759 M514.453 429.055 Q520.263 429.055 523.319 433.661 Q526.397 438.245 526.397 446.995 Q526.397 455.721 523.319 460.328 Q520.263 464.911 514.453 464.911 Q508.643 464.911 505.564 460.328 Q502.509 455.721 502.509 446.995 Q502.509 438.245 505.564 433.661 Q508.643 429.055 514.453 429.055 Z\" fill=\"#000000\" fill-rule=\"nonzero\" fill-opacity=\"1\" /><path clip-path=\"url(#clip040)\" d=\"M544.615 432.759 Q541.004 432.759 539.175 436.323 Q537.37 439.865 537.37 446.995 Q537.37 454.101 539.175 457.666 Q541.004 461.207 544.615 461.207 Q548.249 461.207 550.055 457.666 Q551.883 454.101 551.883 446.995 Q551.883 439.865 550.055 436.323 Q548.249 432.759 544.615 432.759 M544.615 429.055 Q550.425 429.055 553.481 433.661 Q556.559 438.245 556.559 446.995 Q556.559 455.721 553.481 460.328 Q550.425 464.911 544.615 464.911 Q538.805 464.911 535.726 460.328 Q532.671 455.721 532.671 446.995 Q532.671 438.245 535.726 433.661 Q538.805 429.055 544.615 429.055 Z\" fill=\"#000000\" fill-rule=\"nonzero\" fill-opacity=\"1\" /><path clip-path=\"url(#clip040)\" d=\"M1013.07 432.759 Q1009.46 432.759 1007.63 436.323 Q1005.82 439.865 1005.82 446.995 Q1005.82 454.101 1007.63 457.666 Q1009.46 461.207 1013.07 461.207 Q1016.7 461.207 1018.51 457.666 Q1020.34 454.101 1020.34 446.995 Q1020.34 439.865 1018.51 436.323 Q1016.7 432.759 1013.07 432.759 M1013.07 429.055 Q1018.88 429.055 1021.94 433.661 Q1025.01 438.245 1025.01 446.995 Q1025.01 455.721 1021.94 460.328 Q1018.88 464.911 1013.07 464.911 Q1007.26 464.911 1004.18 460.328 Q1001.13 455.721 1001.13 446.995 Q1001.13 438.245 1004.18 433.661 Q1007.26 429.055 1013.07 429.055 Z\" fill=\"#000000\" fill-rule=\"nonzero\" fill-opacity=\"1\" /><path clip-path=\"url(#clip040)\" d=\"M1033.23 458.36 L1038.12 458.36 L1038.12 464.24 L1033.23 464.24 L1033.23 458.36 Z\" fill=\"#000000\" fill-rule=\"nonzero\" fill-opacity=\"1\" /><path clip-path=\"url(#clip040)\" d=\"M1058.3 432.759 Q1054.69 432.759 1052.86 436.323 Q1051.06 439.865 1051.06 446.995 Q1051.06 454.101 1052.86 457.666 Q1054.69 461.207 1058.3 461.207 Q1061.94 461.207 1063.74 457.666 Q1065.57 454.101 1065.57 446.995 Q1065.57 439.865 1063.74 436.323 Q1061.94 432.759 1058.3 432.759 M1058.3 429.055 Q1064.11 429.055 1067.17 433.661 Q1070.25 438.245 1070.25 446.995 Q1070.25 455.721 1067.17 460.328 Q1064.11 464.911 1058.3 464.911 Q1052.49 464.911 1049.41 460.328 Q1046.36 455.721 1046.36 446.995 Q1046.36 438.245 1049.41 433.661 Q1052.49 429.055 1058.3 429.055 Z\" fill=\"#000000\" fill-rule=\"nonzero\" fill-opacity=\"1\" /><path clip-path=\"url(#clip040)\" d=\"M1078.51 429.68 L1096.87 429.68 L1096.87 433.615 L1082.79 433.615 L1082.79 442.087 Q1083.81 441.74 1084.83 441.578 Q1085.85 441.393 1086.87 441.393 Q1092.65 441.393 1096.03 444.564 Q1099.41 447.735 1099.41 453.152 Q1099.41 458.731 1095.94 461.832 Q1092.47 464.911 1086.15 464.911 Q1083.97 464.911 1081.7 464.541 Q1079.46 464.17 1077.05 463.43 L1077.05 458.731 Q1079.13 459.865 1081.36 460.42 Q1083.58 460.976 1086.06 460.976 Q1090.06 460.976 1092.4 458.87 Q1094.74 456.763 1094.74 453.152 Q1094.74 449.541 1092.4 447.434 Q1090.06 445.328 1086.06 445.328 Q1084.18 445.328 1082.31 445.745 Q1080.45 446.161 1078.51 447.041 L1078.51 429.68 Z\" fill=\"#000000\" fill-rule=\"nonzero\" fill-opacity=\"1\" /><path clip-path=\"url(#clip040)\" d=\"M1555.92 432.759 Q1552.31 432.759 1550.48 436.323 Q1548.68 439.865 1548.68 446.995 Q1548.68 454.101 1550.48 457.666 Q1552.31 461.207 1555.92 461.207 Q1559.56 461.207 1561.36 457.666 Q1563.19 454.101 1563.19 446.995 Q1563.19 439.865 1561.36 436.323 Q1559.56 432.759 1555.92 432.759 M1555.92 429.055 Q1561.73 429.055 1564.79 433.661 Q1567.87 438.245 1567.87 446.995 Q1567.87 455.721 1564.79 460.328 Q1561.73 464.911 1555.92 464.911 Q1550.11 464.911 1547.03 460.328 Q1543.98 455.721 1543.98 446.995 Q1543.98 438.245 1547.03 433.661 Q1550.11 429.055 1555.92 429.055 Z\" fill=\"#000000\" fill-rule=\"nonzero\" fill-opacity=\"1\" /><path clip-path=\"url(#clip040)\" d=\"M1576.08 458.36 L1580.97 458.36 L1580.97 464.24 L1576.08 464.24 L1576.08 458.36 Z\" fill=\"#000000\" fill-rule=\"nonzero\" fill-opacity=\"1\" /><path clip-path=\"url(#clip040)\" d=\"M1591.96 460.305 L1599.6 460.305 L1599.6 433.939 L1591.29 435.606 L1591.29 431.347 L1599.56 429.68 L1604.23 429.68 L1604.23 460.305 L1611.87 460.305 L1611.87 464.24 L1591.96 464.24 L1591.96 460.305 Z\" fill=\"#000000\" fill-rule=\"nonzero\" fill-opacity=\"1\" /><path clip-path=\"url(#clip040)\" d=\"M1631.32 432.759 Q1627.7 432.759 1625.88 436.323 Q1624.07 439.865 1624.07 446.995 Q1624.07 454.101 1625.88 457.666 Q1627.7 461.207 1631.32 461.207 Q1634.95 461.207 1636.76 457.666 Q1638.58 454.101 1638.58 446.995 Q1638.58 439.865 1636.76 436.323 Q1634.95 432.759 1631.32 432.759 M1631.32 429.055 Q1637.13 429.055 1640.18 433.661 Q1643.26 438.245 1643.26 446.995 Q1643.26 455.721 1640.18 460.328 Q1637.13 464.911 1631.32 464.911 Q1625.51 464.911 1622.43 460.328 Q1619.37 455.721 1619.37 446.995 Q1619.37 438.245 1622.43 433.661 Q1625.51 429.055 1631.32 429.055 Z\" fill=\"#000000\" fill-rule=\"nonzero\" fill-opacity=\"1\" /><path clip-path=\"url(#clip040)\" d=\"M2099.77 432.759 Q2096.16 432.759 2094.33 436.323 Q2092.53 439.865 2092.53 446.995 Q2092.53 454.101 2094.33 457.666 Q2096.16 461.207 2099.77 461.207 Q2103.4 461.207 2105.21 457.666 Q2107.04 454.101 2107.04 446.995 Q2107.04 439.865 2105.21 436.323 Q2103.4 432.759 2099.77 432.759 M2099.77 429.055 Q2105.58 429.055 2108.64 433.661 Q2111.71 438.245 2111.71 446.995 Q2111.71 455.721 2108.64 460.328 Q2105.58 464.911 2099.77 464.911 Q2093.96 464.911 2090.88 460.328 Q2087.83 455.721 2087.83 446.995 Q2087.83 438.245 2090.88 433.661 Q2093.96 429.055 2099.77 429.055 Z\" fill=\"#000000\" fill-rule=\"nonzero\" fill-opacity=\"1\" /><path clip-path=\"url(#clip040)\" d=\"M2119.93 458.36 L2124.82 458.36 L2124.82 464.24 L2119.93 464.24 L2119.93 458.36 Z\" fill=\"#000000\" fill-rule=\"nonzero\" fill-opacity=\"1\" /><path clip-path=\"url(#clip040)\" d=\"M2135.81 460.305 L2143.45 460.305 L2143.45 433.939 L2135.14 435.606 L2135.14 431.347 L2143.4 429.68 L2148.08 429.68 L2148.08 460.305 L2155.72 460.305 L2155.72 464.24 L2135.81 464.24 L2135.81 460.305 Z\" fill=\"#000000\" fill-rule=\"nonzero\" fill-opacity=\"1\" /><path clip-path=\"url(#clip040)\" d=\"M2165.21 429.68 L2183.57 429.68 L2183.57 433.615 L2169.49 433.615 L2169.49 442.087 Q2170.51 441.74 2171.53 441.578 Q2172.55 441.393 2173.57 441.393 Q2179.35 441.393 2182.73 444.564 Q2186.11 447.735 2186.11 453.152 Q2186.11 458.731 2182.64 461.832 Q2179.17 464.911 2172.85 464.911 Q2170.67 464.911 2168.4 464.541 Q2166.16 464.17 2163.75 463.43 L2163.75 458.731 Q2165.83 459.865 2168.06 460.42 Q2170.28 460.976 2172.76 460.976 Q2176.76 460.976 2179.1 458.87 Q2181.44 456.763 2181.44 453.152 Q2181.44 449.541 2179.1 447.434 Q2176.76 445.328 2172.76 445.328 Q2170.88 445.328 2169.01 445.745 Q2167.15 446.161 2165.21 447.041 L2165.21 429.68 Z\" fill=\"#000000\" fill-rule=\"nonzero\" fill-opacity=\"1\" /><polyline clip-path=\"url(#clip042)\" style=\"stroke:#000000; stroke-linecap:round; stroke-linejoin:round; stroke-width:2; stroke-opacity:0.1; fill:none\" points=\"223.45,357.515 2352.76,357.515 \"/>\n",
       "<polyline clip-path=\"url(#clip042)\" style=\"stroke:#000000; stroke-linecap:round; stroke-linejoin:round; stroke-width:2; stroke-opacity:0.1; fill:none\" points=\"223.45,313.191 2352.76,313.191 \"/>\n",
       "<polyline clip-path=\"url(#clip042)\" style=\"stroke:#000000; stroke-linecap:round; stroke-linejoin:round; stroke-width:2; stroke-opacity:0.1; fill:none\" points=\"223.45,268.866 2352.76,268.866 \"/>\n",
       "<polyline clip-path=\"url(#clip042)\" style=\"stroke:#000000; stroke-linecap:round; stroke-linejoin:round; stroke-width:2; stroke-opacity:0.1; fill:none\" points=\"223.45,224.542 2352.76,224.542 \"/>\n",
       "<polyline clip-path=\"url(#clip042)\" style=\"stroke:#000000; stroke-linecap:round; stroke-linejoin:round; stroke-width:2; stroke-opacity:0.1; fill:none\" points=\"223.45,180.218 2352.76,180.218 \"/>\n",
       "<polyline clip-path=\"url(#clip042)\" style=\"stroke:#000000; stroke-linecap:round; stroke-linejoin:round; stroke-width:2; stroke-opacity:0.1; fill:none\" points=\"223.45,135.893 2352.76,135.893 \"/>\n",
       "<polyline clip-path=\"url(#clip042)\" style=\"stroke:#000000; stroke-linecap:round; stroke-linejoin:round; stroke-width:2; stroke-opacity:0.1; fill:none\" points=\"223.45,91.5686 2352.76,91.5686 \"/>\n",
       "<line clip-path=\"url(#clip042)\" x1=\"400.892\" y1=\"308.866\" x2=\"400.892\" y2=\"228.866\" style=\"stroke:#ff0000; stroke-width:3.84; stroke-opacity:1\"/>\n",
       "<line clip-path=\"url(#clip042)\" x1=\"453.802\" y1=\"220.218\" x2=\"453.802\" y2=\"140.218\" style=\"stroke:#0000ff; stroke-width:3.84; stroke-opacity:1\"/>\n",
       "<line clip-path=\"url(#clip042)\" x1=\"2122.4\" y1=\"220.218\" x2=\"2122.4\" y2=\"140.218\" style=\"stroke:#0000ff; stroke-width:3.84; stroke-opacity:1\"/>\n",
       "<line clip-path=\"url(#clip042)\" x1=\"2175.31\" y1=\"308.866\" x2=\"2175.31\" y2=\"228.866\" style=\"stroke:#ff0000; stroke-width:3.84; stroke-opacity:1\"/>\n",
       "<polyline clip-path=\"url(#clip042)\" style=\"stroke:#0000ff; stroke-linecap:round; stroke-linejoin:round; stroke-width:4; stroke-opacity:1; fill:none\" points=\"453.802,180.218 2122.4,180.218 \"/>\n",
       "<polyline clip-path=\"url(#clip042)\" style=\"stroke:#ff0000; stroke-linecap:round; stroke-linejoin:round; stroke-width:4; stroke-opacity:1; fill:none\" points=\"400.892,268.866 2175.31,268.866 \"/>\n",
       "<path clip-path=\"url(#clip040)\" d=\"M298.632 95.7613 L320.467 95.7613 L320.467 102.405 L298.632 102.405 L298.632 95.7613 Z\" fill=\"#0000ff\" fill-rule=\"nonzero\" fill-opacity=\"1\" /><path clip-path=\"url(#clip040)\" d=\"M350.889 66.7163 Q344.569 66.7163 341.369 72.9547 Q338.209 79.1525 338.209 91.6293 Q338.209 104.066 341.369 110.304 Q344.569 116.502 350.889 116.502 Q357.249 116.502 360.408 110.304 Q363.609 104.066 363.609 91.6293 Q363.609 79.1525 360.408 72.9547 Q357.249 66.7163 350.889 66.7163 M350.889 60.2348 Q361.057 60.2348 366.404 68.2961 Q371.791 76.3169 371.791 91.6293 Q371.791 106.901 366.404 114.963 Q361.057 122.983 350.889 122.983 Q340.721 122.983 335.333 114.963 Q329.986 106.901 329.986 91.6293 Q329.986 76.3169 335.333 68.2961 Q340.721 60.2348 350.889 60.2348 Z\" fill=\"#0000ff\" fill-rule=\"nonzero\" fill-opacity=\"1\" /><path clip-path=\"url(#clip040)\" d=\"M386.172 111.519 L394.72 111.519 L394.72 121.809 L386.172 121.809 L386.172 111.519 Z\" fill=\"#0000ff\" fill-rule=\"nonzero\" fill-opacity=\"1\" /><path clip-path=\"url(#clip040)\" d=\"M430.043 66.7163 Q423.724 66.7163 420.524 72.9547 Q417.364 79.1525 417.364 91.6293 Q417.364 104.066 420.524 110.304 Q423.724 116.502 430.043 116.502 Q436.403 116.502 439.563 110.304 Q442.763 104.066 442.763 91.6293 Q442.763 79.1525 439.563 72.9547 Q436.403 66.7163 430.043 66.7163 M430.043 60.2348 Q440.211 60.2348 445.558 68.2961 Q450.946 76.3169 450.946 91.6293 Q450.946 106.901 445.558 114.963 Q440.211 122.983 430.043 122.983 Q419.876 122.983 414.488 114.963 Q409.141 106.901 409.141 91.6293 Q409.141 76.3169 414.488 68.2961 Q419.876 60.2348 430.043 60.2348 Z\" fill=\"#0000ff\" fill-rule=\"nonzero\" fill-opacity=\"1\" /><path clip-path=\"url(#clip040)\" d=\"M482.827 66.7163 Q476.507 66.7163 473.307 72.9547 Q470.147 79.1525 470.147 91.6293 Q470.147 104.066 473.307 110.304 Q476.507 116.502 482.827 116.502 Q489.187 116.502 492.346 110.304 Q495.547 104.066 495.547 91.6293 Q495.547 79.1525 492.346 72.9547 Q489.187 66.7163 482.827 66.7163 M482.827 60.2348 Q492.995 60.2348 498.342 68.2961 Q503.729 76.3169 503.729 91.6293 Q503.729 106.901 498.342 114.963 Q492.995 122.983 482.827 122.983 Q472.659 122.983 467.271 114.963 Q461.924 106.901 461.924 91.6293 Q461.924 76.3169 467.271 68.2961 Q472.659 60.2348 482.827 60.2348 Z\" fill=\"#0000ff\" fill-rule=\"nonzero\" fill-opacity=\"1\" /><path clip-path=\"url(#clip040)\" d=\"M540.593 68.4582 L519.933 100.744 L540.593 100.744 L540.593 68.4582 M538.446 61.3286 L548.735 61.3286 L548.735 100.744 L557.363 100.744 L557.363 107.549 L548.735 107.549 L548.735 121.809 L540.593 121.809 L540.593 107.549 L513.29 107.549 L513.29 99.6501 L538.446 61.3286 Z\" fill=\"#0000ff\" fill-rule=\"nonzero\" fill-opacity=\"1\" /><path clip-path=\"url(#clip040)\" d=\"M571.136 120.553 L571.136 113.099 Q574.215 114.557 577.375 115.327 Q580.535 116.097 583.573 116.097 Q591.675 116.097 595.928 110.669 Q600.222 105.2 600.83 94.1004 Q598.48 97.5842 594.875 99.4476 Q591.269 101.311 586.894 101.311 Q577.82 101.311 572.514 95.8423 Q567.248 90.333 567.248 80.8134 Q567.248 71.4963 572.757 65.8656 Q578.266 60.2348 587.421 60.2348 Q597.913 60.2348 603.422 68.2961 Q608.972 76.3169 608.972 91.6293 Q608.972 105.929 602.166 114.476 Q595.401 122.983 583.937 122.983 Q580.859 122.983 577.699 122.376 Q574.539 121.768 571.136 120.553 M587.421 94.9106 Q592.93 94.9106 596.131 91.1432 Q599.371 87.3759 599.371 80.8134 Q599.371 74.2915 596.131 70.5241 Q592.93 66.7163 587.421 66.7163 Q581.912 66.7163 578.671 70.5241 Q575.471 74.2915 575.471 80.8134 Q575.471 87.3759 578.671 91.1432 Q581.912 94.9106 587.421 94.9106 Z\" fill=\"#0000ff\" fill-rule=\"nonzero\" fill-opacity=\"1\" /><path clip-path=\"url(#clip040)\" d=\"M2004.44 66.7163 Q1998.12 66.7163 1994.92 72.9547 Q1991.76 79.1525 1991.76 91.6293 Q1991.76 104.066 1994.92 110.304 Q1998.12 116.502 2004.44 116.502 Q2010.8 116.502 2013.96 110.304 Q2017.16 104.066 2017.16 91.6293 Q2017.16 79.1525 2013.96 72.9547 Q2010.8 66.7163 2004.44 66.7163 M2004.44 60.2348 Q2014.61 60.2348 2019.96 68.2961 Q2025.34 76.3169 2025.34 91.6293 Q2025.34 106.901 2019.96 114.963 Q2014.61 122.983 2004.44 122.983 Q1994.27 122.983 1988.89 114.963 Q1983.54 106.901 1983.54 91.6293 Q1983.54 76.3169 1988.89 68.2961 Q1994.27 60.2348 2004.44 60.2348 Z\" fill=\"#0000ff\" fill-rule=\"nonzero\" fill-opacity=\"1\" /><path clip-path=\"url(#clip040)\" d=\"M2039.72 111.519 L2048.27 111.519 L2048.27 121.809 L2039.72 121.809 L2039.72 111.519 Z\" fill=\"#0000ff\" fill-rule=\"nonzero\" fill-opacity=\"1\" /><path clip-path=\"url(#clip040)\" d=\"M2067.51 114.922 L2080.88 114.922 L2080.88 68.7822 L2066.34 71.6989 L2066.34 64.2452 L2080.8 61.3286 L2088.98 61.3286 L2088.98 114.922 L2102.35 114.922 L2102.35 121.809 L2067.51 121.809 L2067.51 114.922 Z\" fill=\"#0000ff\" fill-rule=\"nonzero\" fill-opacity=\"1\" /><path clip-path=\"url(#clip040)\" d=\"M2141.36 68.4582 L2120.7 100.744 L2141.36 100.744 L2141.36 68.4582 M2139.21 61.3286 L2149.5 61.3286 L2149.5 100.744 L2158.13 100.744 L2158.13 107.549 L2149.5 107.549 L2149.5 121.809 L2141.36 121.809 L2141.36 107.549 L2114.06 107.549 L2114.06 99.6501 L2139.21 61.3286 Z\" fill=\"#0000ff\" fill-rule=\"nonzero\" fill-opacity=\"1\" /><path clip-path=\"url(#clip040)\" d=\"M2189.16 93.0877 Q2183.33 93.0877 2179.97 96.2069 Q2176.65 99.326 2176.65 104.795 Q2176.65 110.263 2179.97 113.383 Q2183.33 116.502 2189.16 116.502 Q2195 116.502 2198.36 113.383 Q2201.72 110.223 2201.72 104.795 Q2201.72 99.326 2198.36 96.2069 Q2195.04 93.0877 2189.16 93.0877 M2180.98 89.6039 Q2175.71 88.3076 2172.76 84.7023 Q2169.84 81.097 2169.84 75.9118 Q2169.84 68.6607 2174.98 64.4478 Q2180.17 60.2348 2189.16 60.2348 Q2198.2 60.2348 2203.34 64.4478 Q2208.49 68.6607 2208.49 75.9118 Q2208.49 81.097 2205.53 84.7023 Q2202.61 88.3076 2197.39 89.6039 Q2203.3 90.9812 2206.58 94.9916 Q2209.9 99.002 2209.9 104.795 Q2209.9 113.585 2204.52 118.284 Q2199.17 122.983 2189.16 122.983 Q2179.16 122.983 2173.77 118.284 Q2168.42 113.585 2168.42 104.795 Q2168.42 99.002 2171.74 94.9916 Q2175.07 90.9812 2180.98 89.6039 M2177.98 76.6815 Q2177.98 81.3805 2180.9 84.0136 Q2183.86 86.6467 2189.16 86.6467 Q2194.43 86.6467 2197.39 84.0136 Q2200.38 81.3805 2200.38 76.6815 Q2200.38 71.9824 2197.39 69.3494 Q2194.43 66.7163 2189.16 66.7163 Q2183.86 66.7163 2180.9 69.3494 Q2177.98 71.9824 2177.98 76.6815 Z\" fill=\"#0000ff\" fill-rule=\"nonzero\" fill-opacity=\"1\" /><path clip-path=\"url(#clip040)\" d=\"M2222.38 61.3286 L2261.27 61.3286 L2261.27 64.8123 L2239.31 121.809 L2230.77 121.809 L2251.42 68.2151 L2222.38 68.2151 L2222.38 61.3286 Z\" fill=\"#0000ff\" fill-rule=\"nonzero\" fill-opacity=\"1\" /><path clip-path=\"url(#clip040)\" d=\"M245.641 361.708 L267.475 361.708 L267.475 368.352 L245.641 368.352 L245.641 361.708 Z\" fill=\"#ff0000\" fill-rule=\"nonzero\" fill-opacity=\"1\" /><path clip-path=\"url(#clip040)\" d=\"M297.898 332.663 Q291.578 332.663 288.378 338.901 Q285.218 345.099 285.218 357.576 Q285.218 370.012 288.378 376.251 Q291.578 382.449 297.898 382.449 Q304.258 382.449 307.417 376.251 Q310.618 370.012 310.618 357.576 Q310.618 345.099 307.417 338.901 Q304.258 332.663 297.898 332.663 M297.898 326.182 Q308.065 326.182 313.413 334.243 Q318.8 342.264 318.8 357.576 Q318.8 372.848 313.413 380.909 Q308.065 388.93 297.898 388.93 Q287.73 388.93 282.342 380.909 Q276.995 372.848 276.995 357.576 Q276.995 342.264 282.342 334.243 Q287.73 326.182 297.898 326.182 Z\" fill=\"#ff0000\" fill-rule=\"nonzero\" fill-opacity=\"1\" /><path clip-path=\"url(#clip040)\" d=\"M333.181 377.466 L341.728 377.466 L341.728 387.755 L333.181 387.755 L333.181 377.466 Z\" fill=\"#ff0000\" fill-rule=\"nonzero\" fill-opacity=\"1\" /><path clip-path=\"url(#clip040)\" d=\"M377.052 332.663 Q370.733 332.663 367.533 338.901 Q364.373 345.099 364.373 357.576 Q364.373 370.012 367.533 376.251 Q370.733 382.449 377.052 382.449 Q383.412 382.449 386.572 376.251 Q389.772 370.012 389.772 357.576 Q389.772 345.099 386.572 338.901 Q383.412 332.663 377.052 332.663 M377.052 326.182 Q387.22 326.182 392.567 334.243 Q397.955 342.264 397.955 357.576 Q397.955 372.848 392.567 380.909 Q387.22 388.93 377.052 388.93 Q366.885 388.93 361.497 380.909 Q356.15 372.848 356.15 357.576 Q356.15 342.264 361.497 334.243 Q366.885 326.182 377.052 326.182 Z\" fill=\"#ff0000\" fill-rule=\"nonzero\" fill-opacity=\"1\" /><path clip-path=\"url(#clip040)\" d=\"M429.836 332.663 Q423.516 332.663 420.316 338.901 Q417.156 345.099 417.156 357.576 Q417.156 370.012 420.316 376.251 Q423.516 382.449 429.836 382.449 Q436.196 382.449 439.355 376.251 Q442.555 370.012 442.555 357.576 Q442.555 345.099 439.355 338.901 Q436.196 332.663 429.836 332.663 M429.836 326.182 Q440.003 326.182 445.351 334.243 Q450.738 342.264 450.738 357.576 Q450.738 372.848 445.351 380.909 Q440.003 388.93 429.836 388.93 Q419.668 388.93 414.28 380.909 Q408.933 372.848 408.933 357.576 Q408.933 342.264 414.28 334.243 Q419.668 326.182 429.836 326.182 Z\" fill=\"#ff0000\" fill-rule=\"nonzero\" fill-opacity=\"1\" /><path clip-path=\"url(#clip040)\" d=\"M465.362 386.5 L465.362 379.046 Q468.441 380.504 471.6 381.274 Q474.76 382.044 477.798 382.044 Q485.9 382.044 490.154 376.615 Q494.448 371.147 495.055 360.047 Q492.706 363.531 489.1 365.394 Q485.495 367.258 481.12 367.258 Q472.046 367.258 466.739 361.789 Q461.473 356.28 461.473 346.76 Q461.473 337.443 466.982 331.812 Q472.492 326.182 481.647 326.182 Q492.139 326.182 497.648 334.243 Q503.197 342.264 503.197 357.576 Q503.197 371.876 496.392 380.423 Q489.627 388.93 478.163 388.93 Q475.084 388.93 471.925 388.323 Q468.765 387.715 465.362 386.5 M481.647 360.857 Q487.156 360.857 490.356 357.09 Q493.597 353.323 493.597 346.76 Q493.597 340.238 490.356 336.471 Q487.156 332.663 481.647 332.663 Q476.137 332.663 472.897 336.471 Q469.697 340.238 469.697 346.76 Q469.697 353.323 472.897 357.09 Q476.137 360.857 481.647 360.857 Z\" fill=\"#ff0000\" fill-rule=\"nonzero\" fill-opacity=\"1\" /><path clip-path=\"url(#clip040)\" d=\"M535.402 359.034 Q529.569 359.034 526.207 362.154 Q522.885 365.273 522.885 370.742 Q522.885 376.21 526.207 379.33 Q529.569 382.449 535.402 382.449 Q541.235 382.449 544.598 379.33 Q547.96 376.17 547.96 370.742 Q547.96 365.273 544.598 362.154 Q541.276 359.034 535.402 359.034 M527.219 355.551 Q521.953 354.254 518.996 350.649 Q516.079 347.044 516.079 341.859 Q516.079 334.608 521.224 330.395 Q526.409 326.182 535.402 326.182 Q544.436 326.182 549.58 330.395 Q554.725 334.608 554.725 341.859 Q554.725 347.044 551.768 350.649 Q548.851 354.254 543.626 355.551 Q549.54 356.928 552.821 360.938 Q556.143 364.949 556.143 370.742 Q556.143 379.532 550.755 384.231 Q545.408 388.93 535.402 388.93 Q525.396 388.93 520.009 384.231 Q514.662 379.532 514.662 370.742 Q514.662 364.949 517.983 360.938 Q521.305 356.928 527.219 355.551 M524.222 342.628 Q524.222 347.327 527.138 349.96 Q530.095 352.594 535.402 352.594 Q540.668 352.594 543.626 349.96 Q546.623 347.327 546.623 342.628 Q546.623 337.929 543.626 335.296 Q540.668 332.663 535.402 332.663 Q530.095 332.663 527.138 335.296 Q524.222 337.929 524.222 342.628 Z\" fill=\"#ff0000\" fill-rule=\"nonzero\" fill-opacity=\"1\" /><path clip-path=\"url(#clip040)\" d=\"M2057.43 332.663 Q2051.11 332.663 2047.91 338.901 Q2044.75 345.099 2044.75 357.576 Q2044.75 370.012 2047.91 376.251 Q2051.11 382.449 2057.43 382.449 Q2063.79 382.449 2066.95 376.251 Q2070.15 370.012 2070.15 357.576 Q2070.15 345.099 2066.95 338.901 Q2063.79 332.663 2057.43 332.663 M2057.43 326.182 Q2067.6 326.182 2072.95 334.243 Q2078.34 342.264 2078.34 357.576 Q2078.34 372.848 2072.95 380.909 Q2067.6 388.93 2057.43 388.93 Q2047.26 388.93 2041.88 380.909 Q2036.53 372.848 2036.53 357.576 Q2036.53 342.264 2041.88 334.243 Q2047.26 326.182 2057.43 326.182 Z\" fill=\"#ff0000\" fill-rule=\"nonzero\" fill-opacity=\"1\" /><path clip-path=\"url(#clip040)\" d=\"M2092.72 377.466 L2101.26 377.466 L2101.26 387.755 L2092.72 387.755 L2092.72 377.466 Z\" fill=\"#ff0000\" fill-rule=\"nonzero\" fill-opacity=\"1\" /><path clip-path=\"url(#clip040)\" d=\"M2120.5 380.869 L2133.87 380.869 L2133.87 334.729 L2119.33 337.646 L2119.33 330.192 L2133.79 327.275 L2141.97 327.275 L2141.97 380.869 L2155.34 380.869 L2155.34 387.755 L2120.5 387.755 L2120.5 380.869 Z\" fill=\"#ff0000\" fill-rule=\"nonzero\" fill-opacity=\"1\" /><path clip-path=\"url(#clip040)\" d=\"M2171.95 327.275 L2204.08 327.275 L2204.08 334.162 L2179.45 334.162 L2179.45 348.988 Q2181.23 348.381 2183.01 348.097 Q2184.79 347.773 2186.58 347.773 Q2196.7 347.773 2202.62 353.323 Q2208.53 358.872 2208.53 368.352 Q2208.53 378.114 2202.45 383.542 Q2196.38 388.93 2185.32 388.93 Q2181.51 388.93 2177.54 388.282 Q2173.61 387.634 2169.4 386.338 L2169.4 378.114 Q2173.05 380.099 2176.93 381.071 Q2180.82 382.044 2185.16 382.044 Q2192.17 382.044 2196.26 378.357 Q2200.35 374.671 2200.35 368.352 Q2200.35 362.032 2196.26 358.346 Q2192.17 354.66 2185.16 354.66 Q2181.88 354.66 2178.59 355.389 Q2175.35 356.118 2171.95 357.657 L2171.95 327.275 Z\" fill=\"#ff0000\" fill-rule=\"nonzero\" fill-opacity=\"1\" /><path clip-path=\"url(#clip040)\" d=\"M2249.45 355.146 Q2255.32 356.401 2258.6 360.371 Q2261.92 364.341 2261.92 370.174 Q2261.92 379.127 2255.76 384.029 Q2249.61 388.93 2238.26 388.93 Q2234.46 388.93 2230.41 388.16 Q2226.4 387.431 2222.1 385.932 L2222.1 378.033 Q2225.5 380.018 2229.56 381.031 Q2233.61 382.044 2238.02 382.044 Q2245.72 382.044 2249.73 379.005 Q2253.78 375.967 2253.78 370.174 Q2253.78 364.827 2250.01 361.83 Q2246.29 358.791 2239.6 358.791 L2232.55 358.791 L2232.55 352.067 L2239.93 352.067 Q2245.96 352.067 2249.16 349.677 Q2252.36 347.246 2252.36 342.709 Q2252.36 338.051 2249.04 335.58 Q2245.76 333.068 2239.6 333.068 Q2236.24 333.068 2232.39 333.797 Q2228.54 334.527 2223.92 336.066 L2223.92 328.774 Q2228.58 327.478 2232.63 326.83 Q2236.73 326.182 2240.33 326.182 Q2249.65 326.182 2255.08 330.435 Q2260.5 334.648 2260.5 341.859 Q2260.5 346.882 2257.63 350.366 Q2254.75 353.809 2249.45 355.146 Z\" fill=\"#ff0000\" fill-rule=\"nonzero\" fill-opacity=\"1\" /><path clip-path=\"url(#clip040)\" d=\"M2277.52 327.275 L2309.64 327.275 L2309.64 334.162 L2285.01 334.162 L2285.01 348.988 Q2286.79 348.381 2288.58 348.097 Q2290.36 347.773 2292.14 347.773 Q2302.27 347.773 2308.18 353.323 Q2314.1 358.872 2314.1 368.352 Q2314.1 378.114 2308.02 383.542 Q2301.94 388.93 2290.89 388.93 Q2287.08 388.93 2283.11 388.282 Q2279.18 387.634 2274.97 386.338 L2274.97 378.114 Q2278.61 380.099 2282.5 381.071 Q2286.39 382.044 2290.72 382.044 Q2297.73 382.044 2301.82 378.357 Q2305.91 374.671 2305.91 368.352 Q2305.91 362.032 2301.82 358.346 Q2297.73 354.66 2290.72 354.66 Q2287.44 354.66 2284.16 355.389 Q2280.92 356.118 2277.52 357.657 L2277.52 327.275 Z\" fill=\"#ff0000\" fill-rule=\"nonzero\" fill-opacity=\"1\" /></svg>\n"
      ],
      "text/html": [
       "<?xml version=\"1.0\" encoding=\"utf-8\"?>\n",
       "<svg xmlns=\"http://www.w3.org/2000/svg\" xmlns:xlink=\"http://www.w3.org/1999/xlink\" width=\"600\" height=\"120\" viewBox=\"0 0 2400 480\">\n",
       "<defs>\n",
       "  <clipPath id=\"clip090\">\n",
       "    <rect x=\"0\" y=\"0\" width=\"2400\" height=\"480\"/>\n",
       "  </clipPath>\n",
       "</defs>\n",
       "<path clip-path=\"url(#clip090)\" d=\"M0 480 L2400 480 L2400 0 L0 0  Z\" fill=\"#ffffff\" fill-rule=\"evenodd\" fill-opacity=\"1\"/>\n",
       "<defs>\n",
       "  <clipPath id=\"clip091\">\n",
       "    <rect x=\"480\" y=\"0\" width=\"1681\" height=\"480\"/>\n",
       "  </clipPath>\n",
       "</defs>\n",
       "<path clip-path=\"url(#clip090)\" d=\"M223.45 401.84 L2352.76 401.84 L2352.76 47.2441 L223.45 47.2441  Z\" fill=\"#ffffff\" fill-rule=\"evenodd\" fill-opacity=\"1\"/>\n",
       "<defs>\n",
       "  <clipPath id=\"clip092\">\n",
       "    <rect x=\"223\" y=\"47\" width=\"2130\" height=\"356\"/>\n",
       "  </clipPath>\n",
       "</defs>\n",
       "<polyline clip-path=\"url(#clip092)\" style=\"stroke:#000000; stroke-linecap:round; stroke-linejoin:round; stroke-width:2; stroke-opacity:0.1; fill:none\" points=\"506.918,401.84 506.918,47.2441 \"/>\n",
       "<polyline clip-path=\"url(#clip092)\" style=\"stroke:#000000; stroke-linecap:round; stroke-linejoin:round; stroke-width:2; stroke-opacity:0.1; fill:none\" points=\"1050.27,401.84 1050.27,47.2441 \"/>\n",
       "<polyline clip-path=\"url(#clip092)\" style=\"stroke:#000000; stroke-linecap:round; stroke-linejoin:round; stroke-width:2; stroke-opacity:0.1; fill:none\" points=\"1593.62,401.84 1593.62,47.2441 \"/>\n",
       "<polyline clip-path=\"url(#clip092)\" style=\"stroke:#000000; stroke-linecap:round; stroke-linejoin:round; stroke-width:2; stroke-opacity:0.1; fill:none\" points=\"2136.97,401.84 2136.97,47.2441 \"/>\n",
       "<polyline clip-path=\"url(#clip090)\" style=\"stroke:#000000; stroke-linecap:round; stroke-linejoin:round; stroke-width:4; stroke-opacity:1; fill:none\" points=\"223.45,401.84 2352.76,401.84 \"/>\n",
       "<polyline clip-path=\"url(#clip090)\" style=\"stroke:#000000; stroke-linecap:round; stroke-linejoin:round; stroke-width:4; stroke-opacity:1; fill:none\" points=\"506.918,401.84 506.918,382.942 \"/>\n",
       "<polyline clip-path=\"url(#clip090)\" style=\"stroke:#000000; stroke-linecap:round; stroke-linejoin:round; stroke-width:4; stroke-opacity:1; fill:none\" points=\"1050.27,401.84 1050.27,382.942 \"/>\n",
       "<polyline clip-path=\"url(#clip090)\" style=\"stroke:#000000; stroke-linecap:round; stroke-linejoin:round; stroke-width:4; stroke-opacity:1; fill:none\" points=\"1593.62,401.84 1593.62,382.942 \"/>\n",
       "<polyline clip-path=\"url(#clip090)\" style=\"stroke:#000000; stroke-linecap:round; stroke-linejoin:round; stroke-width:4; stroke-opacity:1; fill:none\" points=\"2136.97,401.84 2136.97,382.942 \"/>\n",
       "<path clip-path=\"url(#clip090)\" d=\"M469.222 432.759 Q465.611 432.759 463.782 436.323 Q461.977 439.865 461.977 446.995 Q461.977 454.101 463.782 457.666 Q465.611 461.207 469.222 461.207 Q472.856 461.207 474.662 457.666 Q476.49 454.101 476.49 446.995 Q476.49 439.865 474.662 436.323 Q472.856 432.759 469.222 432.759 M469.222 429.055 Q475.032 429.055 478.088 433.661 Q481.166 438.245 481.166 446.995 Q481.166 455.721 478.088 460.328 Q475.032 464.911 469.222 464.911 Q463.412 464.911 460.333 460.328 Q457.277 455.721 457.277 446.995 Q457.277 438.245 460.333 433.661 Q463.412 429.055 469.222 429.055 Z\" fill=\"#000000\" fill-rule=\"nonzero\" fill-opacity=\"1\" /><path clip-path=\"url(#clip090)\" d=\"M489.384 458.36 L494.268 458.36 L494.268 464.24 L489.384 464.24 L489.384 458.36 Z\" fill=\"#000000\" fill-rule=\"nonzero\" fill-opacity=\"1\" /><path clip-path=\"url(#clip090)\" d=\"M514.453 432.759 Q510.842 432.759 509.013 436.323 Q507.208 439.865 507.208 446.995 Q507.208 454.101 509.013 457.666 Q510.842 461.207 514.453 461.207 Q518.087 461.207 519.893 457.666 Q521.722 454.101 521.722 446.995 Q521.722 439.865 519.893 436.323 Q518.087 432.759 514.453 432.759 M514.453 429.055 Q520.263 429.055 523.319 433.661 Q526.397 438.245 526.397 446.995 Q526.397 455.721 523.319 460.328 Q520.263 464.911 514.453 464.911 Q508.643 464.911 505.564 460.328 Q502.509 455.721 502.509 446.995 Q502.509 438.245 505.564 433.661 Q508.643 429.055 514.453 429.055 Z\" fill=\"#000000\" fill-rule=\"nonzero\" fill-opacity=\"1\" /><path clip-path=\"url(#clip090)\" d=\"M544.615 432.759 Q541.004 432.759 539.175 436.323 Q537.37 439.865 537.37 446.995 Q537.37 454.101 539.175 457.666 Q541.004 461.207 544.615 461.207 Q548.249 461.207 550.055 457.666 Q551.883 454.101 551.883 446.995 Q551.883 439.865 550.055 436.323 Q548.249 432.759 544.615 432.759 M544.615 429.055 Q550.425 429.055 553.481 433.661 Q556.559 438.245 556.559 446.995 Q556.559 455.721 553.481 460.328 Q550.425 464.911 544.615 464.911 Q538.805 464.911 535.726 460.328 Q532.671 455.721 532.671 446.995 Q532.671 438.245 535.726 433.661 Q538.805 429.055 544.615 429.055 Z\" fill=\"#000000\" fill-rule=\"nonzero\" fill-opacity=\"1\" /><path clip-path=\"url(#clip090)\" d=\"M1013.07 432.759 Q1009.46 432.759 1007.63 436.323 Q1005.82 439.865 1005.82 446.995 Q1005.82 454.101 1007.63 457.666 Q1009.46 461.207 1013.07 461.207 Q1016.7 461.207 1018.51 457.666 Q1020.34 454.101 1020.34 446.995 Q1020.34 439.865 1018.51 436.323 Q1016.7 432.759 1013.07 432.759 M1013.07 429.055 Q1018.88 429.055 1021.94 433.661 Q1025.01 438.245 1025.01 446.995 Q1025.01 455.721 1021.94 460.328 Q1018.88 464.911 1013.07 464.911 Q1007.26 464.911 1004.18 460.328 Q1001.13 455.721 1001.13 446.995 Q1001.13 438.245 1004.18 433.661 Q1007.26 429.055 1013.07 429.055 Z\" fill=\"#000000\" fill-rule=\"nonzero\" fill-opacity=\"1\" /><path clip-path=\"url(#clip090)\" d=\"M1033.23 458.36 L1038.12 458.36 L1038.12 464.24 L1033.23 464.24 L1033.23 458.36 Z\" fill=\"#000000\" fill-rule=\"nonzero\" fill-opacity=\"1\" /><path clip-path=\"url(#clip090)\" d=\"M1058.3 432.759 Q1054.69 432.759 1052.86 436.323 Q1051.06 439.865 1051.06 446.995 Q1051.06 454.101 1052.86 457.666 Q1054.69 461.207 1058.3 461.207 Q1061.94 461.207 1063.74 457.666 Q1065.57 454.101 1065.57 446.995 Q1065.57 439.865 1063.74 436.323 Q1061.94 432.759 1058.3 432.759 M1058.3 429.055 Q1064.11 429.055 1067.17 433.661 Q1070.25 438.245 1070.25 446.995 Q1070.25 455.721 1067.17 460.328 Q1064.11 464.911 1058.3 464.911 Q1052.49 464.911 1049.41 460.328 Q1046.36 455.721 1046.36 446.995 Q1046.36 438.245 1049.41 433.661 Q1052.49 429.055 1058.3 429.055 Z\" fill=\"#000000\" fill-rule=\"nonzero\" fill-opacity=\"1\" /><path clip-path=\"url(#clip090)\" d=\"M1078.51 429.68 L1096.87 429.68 L1096.87 433.615 L1082.79 433.615 L1082.79 442.087 Q1083.81 441.74 1084.83 441.578 Q1085.85 441.393 1086.87 441.393 Q1092.65 441.393 1096.03 444.564 Q1099.41 447.735 1099.41 453.152 Q1099.41 458.731 1095.94 461.832 Q1092.47 464.911 1086.15 464.911 Q1083.97 464.911 1081.7 464.541 Q1079.46 464.17 1077.05 463.43 L1077.05 458.731 Q1079.13 459.865 1081.36 460.42 Q1083.58 460.976 1086.06 460.976 Q1090.06 460.976 1092.4 458.87 Q1094.74 456.763 1094.74 453.152 Q1094.74 449.541 1092.4 447.434 Q1090.06 445.328 1086.06 445.328 Q1084.18 445.328 1082.31 445.745 Q1080.45 446.161 1078.51 447.041 L1078.51 429.68 Z\" fill=\"#000000\" fill-rule=\"nonzero\" fill-opacity=\"1\" /><path clip-path=\"url(#clip090)\" d=\"M1555.92 432.759 Q1552.31 432.759 1550.48 436.323 Q1548.68 439.865 1548.68 446.995 Q1548.68 454.101 1550.48 457.666 Q1552.31 461.207 1555.92 461.207 Q1559.56 461.207 1561.36 457.666 Q1563.19 454.101 1563.19 446.995 Q1563.19 439.865 1561.36 436.323 Q1559.56 432.759 1555.92 432.759 M1555.92 429.055 Q1561.73 429.055 1564.79 433.661 Q1567.87 438.245 1567.87 446.995 Q1567.87 455.721 1564.79 460.328 Q1561.73 464.911 1555.92 464.911 Q1550.11 464.911 1547.03 460.328 Q1543.98 455.721 1543.98 446.995 Q1543.98 438.245 1547.03 433.661 Q1550.11 429.055 1555.92 429.055 Z\" fill=\"#000000\" fill-rule=\"nonzero\" fill-opacity=\"1\" /><path clip-path=\"url(#clip090)\" d=\"M1576.08 458.36 L1580.97 458.36 L1580.97 464.24 L1576.08 464.24 L1576.08 458.36 Z\" fill=\"#000000\" fill-rule=\"nonzero\" fill-opacity=\"1\" /><path clip-path=\"url(#clip090)\" d=\"M1591.96 460.305 L1599.6 460.305 L1599.6 433.939 L1591.29 435.606 L1591.29 431.347 L1599.56 429.68 L1604.23 429.68 L1604.23 460.305 L1611.87 460.305 L1611.87 464.24 L1591.96 464.24 L1591.96 460.305 Z\" fill=\"#000000\" fill-rule=\"nonzero\" fill-opacity=\"1\" /><path clip-path=\"url(#clip090)\" d=\"M1631.32 432.759 Q1627.7 432.759 1625.88 436.323 Q1624.07 439.865 1624.07 446.995 Q1624.07 454.101 1625.88 457.666 Q1627.7 461.207 1631.32 461.207 Q1634.95 461.207 1636.76 457.666 Q1638.58 454.101 1638.58 446.995 Q1638.58 439.865 1636.76 436.323 Q1634.95 432.759 1631.32 432.759 M1631.32 429.055 Q1637.13 429.055 1640.18 433.661 Q1643.26 438.245 1643.26 446.995 Q1643.26 455.721 1640.18 460.328 Q1637.13 464.911 1631.32 464.911 Q1625.51 464.911 1622.43 460.328 Q1619.37 455.721 1619.37 446.995 Q1619.37 438.245 1622.43 433.661 Q1625.51 429.055 1631.32 429.055 Z\" fill=\"#000000\" fill-rule=\"nonzero\" fill-opacity=\"1\" /><path clip-path=\"url(#clip090)\" d=\"M2099.77 432.759 Q2096.16 432.759 2094.33 436.323 Q2092.53 439.865 2092.53 446.995 Q2092.53 454.101 2094.33 457.666 Q2096.16 461.207 2099.77 461.207 Q2103.4 461.207 2105.21 457.666 Q2107.04 454.101 2107.04 446.995 Q2107.04 439.865 2105.21 436.323 Q2103.4 432.759 2099.77 432.759 M2099.77 429.055 Q2105.58 429.055 2108.64 433.661 Q2111.71 438.245 2111.71 446.995 Q2111.71 455.721 2108.64 460.328 Q2105.58 464.911 2099.77 464.911 Q2093.96 464.911 2090.88 460.328 Q2087.83 455.721 2087.83 446.995 Q2087.83 438.245 2090.88 433.661 Q2093.96 429.055 2099.77 429.055 Z\" fill=\"#000000\" fill-rule=\"nonzero\" fill-opacity=\"1\" /><path clip-path=\"url(#clip090)\" d=\"M2119.93 458.36 L2124.82 458.36 L2124.82 464.24 L2119.93 464.24 L2119.93 458.36 Z\" fill=\"#000000\" fill-rule=\"nonzero\" fill-opacity=\"1\" /><path clip-path=\"url(#clip090)\" d=\"M2135.81 460.305 L2143.45 460.305 L2143.45 433.939 L2135.14 435.606 L2135.14 431.347 L2143.4 429.68 L2148.08 429.68 L2148.08 460.305 L2155.72 460.305 L2155.72 464.24 L2135.81 464.24 L2135.81 460.305 Z\" fill=\"#000000\" fill-rule=\"nonzero\" fill-opacity=\"1\" /><path clip-path=\"url(#clip090)\" d=\"M2165.21 429.68 L2183.57 429.68 L2183.57 433.615 L2169.49 433.615 L2169.49 442.087 Q2170.51 441.74 2171.53 441.578 Q2172.55 441.393 2173.57 441.393 Q2179.35 441.393 2182.73 444.564 Q2186.11 447.735 2186.11 453.152 Q2186.11 458.731 2182.64 461.832 Q2179.17 464.911 2172.85 464.911 Q2170.67 464.911 2168.4 464.541 Q2166.16 464.17 2163.75 463.43 L2163.75 458.731 Q2165.83 459.865 2168.06 460.42 Q2170.28 460.976 2172.76 460.976 Q2176.76 460.976 2179.1 458.87 Q2181.44 456.763 2181.44 453.152 Q2181.44 449.541 2179.1 447.434 Q2176.76 445.328 2172.76 445.328 Q2170.88 445.328 2169.01 445.745 Q2167.15 446.161 2165.21 447.041 L2165.21 429.68 Z\" fill=\"#000000\" fill-rule=\"nonzero\" fill-opacity=\"1\" /><polyline clip-path=\"url(#clip092)\" style=\"stroke:#000000; stroke-linecap:round; stroke-linejoin:round; stroke-width:2; stroke-opacity:0.1; fill:none\" points=\"223.45,357.515 2352.76,357.515 \"/>\n",
       "<polyline clip-path=\"url(#clip092)\" style=\"stroke:#000000; stroke-linecap:round; stroke-linejoin:round; stroke-width:2; stroke-opacity:0.1; fill:none\" points=\"223.45,313.191 2352.76,313.191 \"/>\n",
       "<polyline clip-path=\"url(#clip092)\" style=\"stroke:#000000; stroke-linecap:round; stroke-linejoin:round; stroke-width:2; stroke-opacity:0.1; fill:none\" points=\"223.45,268.866 2352.76,268.866 \"/>\n",
       "<polyline clip-path=\"url(#clip092)\" style=\"stroke:#000000; stroke-linecap:round; stroke-linejoin:round; stroke-width:2; stroke-opacity:0.1; fill:none\" points=\"223.45,224.542 2352.76,224.542 \"/>\n",
       "<polyline clip-path=\"url(#clip092)\" style=\"stroke:#000000; stroke-linecap:round; stroke-linejoin:round; stroke-width:2; stroke-opacity:0.1; fill:none\" points=\"223.45,180.218 2352.76,180.218 \"/>\n",
       "<polyline clip-path=\"url(#clip092)\" style=\"stroke:#000000; stroke-linecap:round; stroke-linejoin:round; stroke-width:2; stroke-opacity:0.1; fill:none\" points=\"223.45,135.893 2352.76,135.893 \"/>\n",
       "<polyline clip-path=\"url(#clip092)\" style=\"stroke:#000000; stroke-linecap:round; stroke-linejoin:round; stroke-width:2; stroke-opacity:0.1; fill:none\" points=\"223.45,91.5686 2352.76,91.5686 \"/>\n",
       "<line clip-path=\"url(#clip092)\" x1=\"400.892\" y1=\"308.866\" x2=\"400.892\" y2=\"228.866\" style=\"stroke:#ff0000; stroke-width:3.84; stroke-opacity:1\"/>\n",
       "<line clip-path=\"url(#clip092)\" x1=\"453.802\" y1=\"220.218\" x2=\"453.802\" y2=\"140.218\" style=\"stroke:#0000ff; stroke-width:3.84; stroke-opacity:1\"/>\n",
       "<line clip-path=\"url(#clip092)\" x1=\"2122.4\" y1=\"220.218\" x2=\"2122.4\" y2=\"140.218\" style=\"stroke:#0000ff; stroke-width:3.84; stroke-opacity:1\"/>\n",
       "<line clip-path=\"url(#clip092)\" x1=\"2175.31\" y1=\"308.866\" x2=\"2175.31\" y2=\"228.866\" style=\"stroke:#ff0000; stroke-width:3.84; stroke-opacity:1\"/>\n",
       "<polyline clip-path=\"url(#clip092)\" style=\"stroke:#0000ff; stroke-linecap:round; stroke-linejoin:round; stroke-width:4; stroke-opacity:1; fill:none\" points=\"453.802,180.218 2122.4,180.218 \"/>\n",
       "<polyline clip-path=\"url(#clip092)\" style=\"stroke:#ff0000; stroke-linecap:round; stroke-linejoin:round; stroke-width:4; stroke-opacity:1; fill:none\" points=\"400.892,268.866 2175.31,268.866 \"/>\n",
       "<path clip-path=\"url(#clip090)\" d=\"M298.632 95.7613 L320.467 95.7613 L320.467 102.405 L298.632 102.405 L298.632 95.7613 Z\" fill=\"#0000ff\" fill-rule=\"nonzero\" fill-opacity=\"1\" /><path clip-path=\"url(#clip090)\" d=\"M350.889 66.7163 Q344.569 66.7163 341.369 72.9547 Q338.209 79.1525 338.209 91.6293 Q338.209 104.066 341.369 110.304 Q344.569 116.502 350.889 116.502 Q357.249 116.502 360.408 110.304 Q363.609 104.066 363.609 91.6293 Q363.609 79.1525 360.408 72.9547 Q357.249 66.7163 350.889 66.7163 M350.889 60.2348 Q361.057 60.2348 366.404 68.2961 Q371.791 76.3169 371.791 91.6293 Q371.791 106.901 366.404 114.963 Q361.057 122.983 350.889 122.983 Q340.721 122.983 335.333 114.963 Q329.986 106.901 329.986 91.6293 Q329.986 76.3169 335.333 68.2961 Q340.721 60.2348 350.889 60.2348 Z\" fill=\"#0000ff\" fill-rule=\"nonzero\" fill-opacity=\"1\" /><path clip-path=\"url(#clip090)\" d=\"M386.172 111.519 L394.72 111.519 L394.72 121.809 L386.172 121.809 L386.172 111.519 Z\" fill=\"#0000ff\" fill-rule=\"nonzero\" fill-opacity=\"1\" /><path clip-path=\"url(#clip090)\" d=\"M430.043 66.7163 Q423.724 66.7163 420.524 72.9547 Q417.364 79.1525 417.364 91.6293 Q417.364 104.066 420.524 110.304 Q423.724 116.502 430.043 116.502 Q436.403 116.502 439.563 110.304 Q442.763 104.066 442.763 91.6293 Q442.763 79.1525 439.563 72.9547 Q436.403 66.7163 430.043 66.7163 M430.043 60.2348 Q440.211 60.2348 445.558 68.2961 Q450.946 76.3169 450.946 91.6293 Q450.946 106.901 445.558 114.963 Q440.211 122.983 430.043 122.983 Q419.876 122.983 414.488 114.963 Q409.141 106.901 409.141 91.6293 Q409.141 76.3169 414.488 68.2961 Q419.876 60.2348 430.043 60.2348 Z\" fill=\"#0000ff\" fill-rule=\"nonzero\" fill-opacity=\"1\" /><path clip-path=\"url(#clip090)\" d=\"M482.827 66.7163 Q476.507 66.7163 473.307 72.9547 Q470.147 79.1525 470.147 91.6293 Q470.147 104.066 473.307 110.304 Q476.507 116.502 482.827 116.502 Q489.187 116.502 492.346 110.304 Q495.547 104.066 495.547 91.6293 Q495.547 79.1525 492.346 72.9547 Q489.187 66.7163 482.827 66.7163 M482.827 60.2348 Q492.995 60.2348 498.342 68.2961 Q503.729 76.3169 503.729 91.6293 Q503.729 106.901 498.342 114.963 Q492.995 122.983 482.827 122.983 Q472.659 122.983 467.271 114.963 Q461.924 106.901 461.924 91.6293 Q461.924 76.3169 467.271 68.2961 Q472.659 60.2348 482.827 60.2348 Z\" fill=\"#0000ff\" fill-rule=\"nonzero\" fill-opacity=\"1\" /><path clip-path=\"url(#clip090)\" d=\"M540.593 68.4582 L519.933 100.744 L540.593 100.744 L540.593 68.4582 M538.446 61.3286 L548.735 61.3286 L548.735 100.744 L557.363 100.744 L557.363 107.549 L548.735 107.549 L548.735 121.809 L540.593 121.809 L540.593 107.549 L513.29 107.549 L513.29 99.6501 L538.446 61.3286 Z\" fill=\"#0000ff\" fill-rule=\"nonzero\" fill-opacity=\"1\" /><path clip-path=\"url(#clip090)\" d=\"M571.136 120.553 L571.136 113.099 Q574.215 114.557 577.375 115.327 Q580.535 116.097 583.573 116.097 Q591.675 116.097 595.928 110.669 Q600.222 105.2 600.83 94.1004 Q598.48 97.5842 594.875 99.4476 Q591.269 101.311 586.894 101.311 Q577.82 101.311 572.514 95.8423 Q567.248 90.333 567.248 80.8134 Q567.248 71.4963 572.757 65.8656 Q578.266 60.2348 587.421 60.2348 Q597.913 60.2348 603.422 68.2961 Q608.972 76.3169 608.972 91.6293 Q608.972 105.929 602.166 114.476 Q595.401 122.983 583.937 122.983 Q580.859 122.983 577.699 122.376 Q574.539 121.768 571.136 120.553 M587.421 94.9106 Q592.93 94.9106 596.131 91.1432 Q599.371 87.3759 599.371 80.8134 Q599.371 74.2915 596.131 70.5241 Q592.93 66.7163 587.421 66.7163 Q581.912 66.7163 578.671 70.5241 Q575.471 74.2915 575.471 80.8134 Q575.471 87.3759 578.671 91.1432 Q581.912 94.9106 587.421 94.9106 Z\" fill=\"#0000ff\" fill-rule=\"nonzero\" fill-opacity=\"1\" /><path clip-path=\"url(#clip090)\" d=\"M2004.44 66.7163 Q1998.12 66.7163 1994.92 72.9547 Q1991.76 79.1525 1991.76 91.6293 Q1991.76 104.066 1994.92 110.304 Q1998.12 116.502 2004.44 116.502 Q2010.8 116.502 2013.96 110.304 Q2017.16 104.066 2017.16 91.6293 Q2017.16 79.1525 2013.96 72.9547 Q2010.8 66.7163 2004.44 66.7163 M2004.44 60.2348 Q2014.61 60.2348 2019.96 68.2961 Q2025.34 76.3169 2025.34 91.6293 Q2025.34 106.901 2019.96 114.963 Q2014.61 122.983 2004.44 122.983 Q1994.27 122.983 1988.89 114.963 Q1983.54 106.901 1983.54 91.6293 Q1983.54 76.3169 1988.89 68.2961 Q1994.27 60.2348 2004.44 60.2348 Z\" fill=\"#0000ff\" fill-rule=\"nonzero\" fill-opacity=\"1\" /><path clip-path=\"url(#clip090)\" d=\"M2039.72 111.519 L2048.27 111.519 L2048.27 121.809 L2039.72 121.809 L2039.72 111.519 Z\" fill=\"#0000ff\" fill-rule=\"nonzero\" fill-opacity=\"1\" /><path clip-path=\"url(#clip090)\" d=\"M2067.51 114.922 L2080.88 114.922 L2080.88 68.7822 L2066.34 71.6989 L2066.34 64.2452 L2080.8 61.3286 L2088.98 61.3286 L2088.98 114.922 L2102.35 114.922 L2102.35 121.809 L2067.51 121.809 L2067.51 114.922 Z\" fill=\"#0000ff\" fill-rule=\"nonzero\" fill-opacity=\"1\" /><path clip-path=\"url(#clip090)\" d=\"M2141.36 68.4582 L2120.7 100.744 L2141.36 100.744 L2141.36 68.4582 M2139.21 61.3286 L2149.5 61.3286 L2149.5 100.744 L2158.13 100.744 L2158.13 107.549 L2149.5 107.549 L2149.5 121.809 L2141.36 121.809 L2141.36 107.549 L2114.06 107.549 L2114.06 99.6501 L2139.21 61.3286 Z\" fill=\"#0000ff\" fill-rule=\"nonzero\" fill-opacity=\"1\" /><path clip-path=\"url(#clip090)\" d=\"M2189.16 93.0877 Q2183.33 93.0877 2179.97 96.2069 Q2176.65 99.326 2176.65 104.795 Q2176.65 110.263 2179.97 113.383 Q2183.33 116.502 2189.16 116.502 Q2195 116.502 2198.36 113.383 Q2201.72 110.223 2201.72 104.795 Q2201.72 99.326 2198.36 96.2069 Q2195.04 93.0877 2189.16 93.0877 M2180.98 89.6039 Q2175.71 88.3076 2172.76 84.7023 Q2169.84 81.097 2169.84 75.9118 Q2169.84 68.6607 2174.98 64.4478 Q2180.17 60.2348 2189.16 60.2348 Q2198.2 60.2348 2203.34 64.4478 Q2208.49 68.6607 2208.49 75.9118 Q2208.49 81.097 2205.53 84.7023 Q2202.61 88.3076 2197.39 89.6039 Q2203.3 90.9812 2206.58 94.9916 Q2209.9 99.002 2209.9 104.795 Q2209.9 113.585 2204.52 118.284 Q2199.17 122.983 2189.16 122.983 Q2179.16 122.983 2173.77 118.284 Q2168.42 113.585 2168.42 104.795 Q2168.42 99.002 2171.74 94.9916 Q2175.07 90.9812 2180.98 89.6039 M2177.98 76.6815 Q2177.98 81.3805 2180.9 84.0136 Q2183.86 86.6467 2189.16 86.6467 Q2194.43 86.6467 2197.39 84.0136 Q2200.38 81.3805 2200.38 76.6815 Q2200.38 71.9824 2197.39 69.3494 Q2194.43 66.7163 2189.16 66.7163 Q2183.86 66.7163 2180.9 69.3494 Q2177.98 71.9824 2177.98 76.6815 Z\" fill=\"#0000ff\" fill-rule=\"nonzero\" fill-opacity=\"1\" /><path clip-path=\"url(#clip090)\" d=\"M2222.38 61.3286 L2261.27 61.3286 L2261.27 64.8123 L2239.31 121.809 L2230.77 121.809 L2251.42 68.2151 L2222.38 68.2151 L2222.38 61.3286 Z\" fill=\"#0000ff\" fill-rule=\"nonzero\" fill-opacity=\"1\" /><path clip-path=\"url(#clip090)\" d=\"M245.641 361.708 L267.475 361.708 L267.475 368.352 L245.641 368.352 L245.641 361.708 Z\" fill=\"#ff0000\" fill-rule=\"nonzero\" fill-opacity=\"1\" /><path clip-path=\"url(#clip090)\" d=\"M297.898 332.663 Q291.578 332.663 288.378 338.901 Q285.218 345.099 285.218 357.576 Q285.218 370.012 288.378 376.251 Q291.578 382.449 297.898 382.449 Q304.258 382.449 307.417 376.251 Q310.618 370.012 310.618 357.576 Q310.618 345.099 307.417 338.901 Q304.258 332.663 297.898 332.663 M297.898 326.182 Q308.065 326.182 313.413 334.243 Q318.8 342.264 318.8 357.576 Q318.8 372.848 313.413 380.909 Q308.065 388.93 297.898 388.93 Q287.73 388.93 282.342 380.909 Q276.995 372.848 276.995 357.576 Q276.995 342.264 282.342 334.243 Q287.73 326.182 297.898 326.182 Z\" fill=\"#ff0000\" fill-rule=\"nonzero\" fill-opacity=\"1\" /><path clip-path=\"url(#clip090)\" d=\"M333.181 377.466 L341.728 377.466 L341.728 387.755 L333.181 387.755 L333.181 377.466 Z\" fill=\"#ff0000\" fill-rule=\"nonzero\" fill-opacity=\"1\" /><path clip-path=\"url(#clip090)\" d=\"M377.052 332.663 Q370.733 332.663 367.533 338.901 Q364.373 345.099 364.373 357.576 Q364.373 370.012 367.533 376.251 Q370.733 382.449 377.052 382.449 Q383.412 382.449 386.572 376.251 Q389.772 370.012 389.772 357.576 Q389.772 345.099 386.572 338.901 Q383.412 332.663 377.052 332.663 M377.052 326.182 Q387.22 326.182 392.567 334.243 Q397.955 342.264 397.955 357.576 Q397.955 372.848 392.567 380.909 Q387.22 388.93 377.052 388.93 Q366.885 388.93 361.497 380.909 Q356.15 372.848 356.15 357.576 Q356.15 342.264 361.497 334.243 Q366.885 326.182 377.052 326.182 Z\" fill=\"#ff0000\" fill-rule=\"nonzero\" fill-opacity=\"1\" /><path clip-path=\"url(#clip090)\" d=\"M429.836 332.663 Q423.516 332.663 420.316 338.901 Q417.156 345.099 417.156 357.576 Q417.156 370.012 420.316 376.251 Q423.516 382.449 429.836 382.449 Q436.196 382.449 439.355 376.251 Q442.555 370.012 442.555 357.576 Q442.555 345.099 439.355 338.901 Q436.196 332.663 429.836 332.663 M429.836 326.182 Q440.003 326.182 445.351 334.243 Q450.738 342.264 450.738 357.576 Q450.738 372.848 445.351 380.909 Q440.003 388.93 429.836 388.93 Q419.668 388.93 414.28 380.909 Q408.933 372.848 408.933 357.576 Q408.933 342.264 414.28 334.243 Q419.668 326.182 429.836 326.182 Z\" fill=\"#ff0000\" fill-rule=\"nonzero\" fill-opacity=\"1\" /><path clip-path=\"url(#clip090)\" d=\"M465.362 386.5 L465.362 379.046 Q468.441 380.504 471.6 381.274 Q474.76 382.044 477.798 382.044 Q485.9 382.044 490.154 376.615 Q494.448 371.147 495.055 360.047 Q492.706 363.531 489.1 365.394 Q485.495 367.258 481.12 367.258 Q472.046 367.258 466.739 361.789 Q461.473 356.28 461.473 346.76 Q461.473 337.443 466.982 331.812 Q472.492 326.182 481.647 326.182 Q492.139 326.182 497.648 334.243 Q503.197 342.264 503.197 357.576 Q503.197 371.876 496.392 380.423 Q489.627 388.93 478.163 388.93 Q475.084 388.93 471.925 388.323 Q468.765 387.715 465.362 386.5 M481.647 360.857 Q487.156 360.857 490.356 357.09 Q493.597 353.323 493.597 346.76 Q493.597 340.238 490.356 336.471 Q487.156 332.663 481.647 332.663 Q476.137 332.663 472.897 336.471 Q469.697 340.238 469.697 346.76 Q469.697 353.323 472.897 357.09 Q476.137 360.857 481.647 360.857 Z\" fill=\"#ff0000\" fill-rule=\"nonzero\" fill-opacity=\"1\" /><path clip-path=\"url(#clip090)\" d=\"M535.402 359.034 Q529.569 359.034 526.207 362.154 Q522.885 365.273 522.885 370.742 Q522.885 376.21 526.207 379.33 Q529.569 382.449 535.402 382.449 Q541.235 382.449 544.598 379.33 Q547.96 376.17 547.96 370.742 Q547.96 365.273 544.598 362.154 Q541.276 359.034 535.402 359.034 M527.219 355.551 Q521.953 354.254 518.996 350.649 Q516.079 347.044 516.079 341.859 Q516.079 334.608 521.224 330.395 Q526.409 326.182 535.402 326.182 Q544.436 326.182 549.58 330.395 Q554.725 334.608 554.725 341.859 Q554.725 347.044 551.768 350.649 Q548.851 354.254 543.626 355.551 Q549.54 356.928 552.821 360.938 Q556.143 364.949 556.143 370.742 Q556.143 379.532 550.755 384.231 Q545.408 388.93 535.402 388.93 Q525.396 388.93 520.009 384.231 Q514.662 379.532 514.662 370.742 Q514.662 364.949 517.983 360.938 Q521.305 356.928 527.219 355.551 M524.222 342.628 Q524.222 347.327 527.138 349.96 Q530.095 352.594 535.402 352.594 Q540.668 352.594 543.626 349.96 Q546.623 347.327 546.623 342.628 Q546.623 337.929 543.626 335.296 Q540.668 332.663 535.402 332.663 Q530.095 332.663 527.138 335.296 Q524.222 337.929 524.222 342.628 Z\" fill=\"#ff0000\" fill-rule=\"nonzero\" fill-opacity=\"1\" /><path clip-path=\"url(#clip090)\" d=\"M2057.43 332.663 Q2051.11 332.663 2047.91 338.901 Q2044.75 345.099 2044.75 357.576 Q2044.75 370.012 2047.91 376.251 Q2051.11 382.449 2057.43 382.449 Q2063.79 382.449 2066.95 376.251 Q2070.15 370.012 2070.15 357.576 Q2070.15 345.099 2066.95 338.901 Q2063.79 332.663 2057.43 332.663 M2057.43 326.182 Q2067.6 326.182 2072.95 334.243 Q2078.34 342.264 2078.34 357.576 Q2078.34 372.848 2072.95 380.909 Q2067.6 388.93 2057.43 388.93 Q2047.26 388.93 2041.88 380.909 Q2036.53 372.848 2036.53 357.576 Q2036.53 342.264 2041.88 334.243 Q2047.26 326.182 2057.43 326.182 Z\" fill=\"#ff0000\" fill-rule=\"nonzero\" fill-opacity=\"1\" /><path clip-path=\"url(#clip090)\" d=\"M2092.72 377.466 L2101.26 377.466 L2101.26 387.755 L2092.72 387.755 L2092.72 377.466 Z\" fill=\"#ff0000\" fill-rule=\"nonzero\" fill-opacity=\"1\" /><path clip-path=\"url(#clip090)\" d=\"M2120.5 380.869 L2133.87 380.869 L2133.87 334.729 L2119.33 337.646 L2119.33 330.192 L2133.79 327.275 L2141.97 327.275 L2141.97 380.869 L2155.34 380.869 L2155.34 387.755 L2120.5 387.755 L2120.5 380.869 Z\" fill=\"#ff0000\" fill-rule=\"nonzero\" fill-opacity=\"1\" /><path clip-path=\"url(#clip090)\" d=\"M2171.95 327.275 L2204.08 327.275 L2204.08 334.162 L2179.45 334.162 L2179.45 348.988 Q2181.23 348.381 2183.01 348.097 Q2184.79 347.773 2186.58 347.773 Q2196.7 347.773 2202.62 353.323 Q2208.53 358.872 2208.53 368.352 Q2208.53 378.114 2202.45 383.542 Q2196.38 388.93 2185.32 388.93 Q2181.51 388.93 2177.54 388.282 Q2173.61 387.634 2169.4 386.338 L2169.4 378.114 Q2173.05 380.099 2176.93 381.071 Q2180.82 382.044 2185.16 382.044 Q2192.17 382.044 2196.26 378.357 Q2200.35 374.671 2200.35 368.352 Q2200.35 362.032 2196.26 358.346 Q2192.17 354.66 2185.16 354.66 Q2181.88 354.66 2178.59 355.389 Q2175.35 356.118 2171.95 357.657 L2171.95 327.275 Z\" fill=\"#ff0000\" fill-rule=\"nonzero\" fill-opacity=\"1\" /><path clip-path=\"url(#clip090)\" d=\"M2249.45 355.146 Q2255.32 356.401 2258.6 360.371 Q2261.92 364.341 2261.92 370.174 Q2261.92 379.127 2255.76 384.029 Q2249.61 388.93 2238.26 388.93 Q2234.46 388.93 2230.41 388.16 Q2226.4 387.431 2222.1 385.932 L2222.1 378.033 Q2225.5 380.018 2229.56 381.031 Q2233.61 382.044 2238.02 382.044 Q2245.72 382.044 2249.73 379.005 Q2253.78 375.967 2253.78 370.174 Q2253.78 364.827 2250.01 361.83 Q2246.29 358.791 2239.6 358.791 L2232.55 358.791 L2232.55 352.067 L2239.93 352.067 Q2245.96 352.067 2249.16 349.677 Q2252.36 347.246 2252.36 342.709 Q2252.36 338.051 2249.04 335.58 Q2245.76 333.068 2239.6 333.068 Q2236.24 333.068 2232.39 333.797 Q2228.54 334.527 2223.92 336.066 L2223.92 328.774 Q2228.58 327.478 2232.63 326.83 Q2236.73 326.182 2240.33 326.182 Q2249.65 326.182 2255.08 330.435 Q2260.5 334.648 2260.5 341.859 Q2260.5 346.882 2257.63 350.366 Q2254.75 353.809 2249.45 355.146 Z\" fill=\"#ff0000\" fill-rule=\"nonzero\" fill-opacity=\"1\" /><path clip-path=\"url(#clip090)\" d=\"M2277.52 327.275 L2309.64 327.275 L2309.64 334.162 L2285.01 334.162 L2285.01 348.988 Q2286.79 348.381 2288.58 348.097 Q2290.36 347.773 2292.14 347.773 Q2302.27 347.773 2308.18 353.323 Q2314.1 358.872 2314.1 368.352 Q2314.1 378.114 2308.02 383.542 Q2301.94 388.93 2290.89 388.93 Q2287.08 388.93 2283.11 388.282 Q2279.18 387.634 2274.97 386.338 L2274.97 378.114 Q2278.61 380.099 2282.5 381.071 Q2286.39 382.044 2290.72 382.044 Q2297.73 382.044 2301.82 378.357 Q2305.91 374.671 2305.91 368.352 Q2305.91 362.032 2301.82 358.346 Q2297.73 354.66 2290.72 354.66 Q2287.44 354.66 2284.16 355.389 Q2280.92 356.118 2277.52 357.657 L2277.52 327.275 Z\" fill=\"#ff0000\" fill-rule=\"nonzero\" fill-opacity=\"1\" /></svg>\n"
      ]
     },
     "execution_count": 35,
     "metadata": {},
     "output_type": "execute_result"
    }
   ],
   "source": [
    "x = [res.Htest.ConfidenceInterval[1],res.bound[1],res.bound[2],res.Htest.ConfidenceInterval[2]]\n",
    "tol = (x[4]-x[1])/10\n",
    "y =[-0.01,0.01,0.01,-0.01]\n",
    "symbols =[:vline,:vline,:vline,:vline]\n",
    "\n",
    "scatter(x, y, markersize=10,\n",
    "    xlim=(x[1]-tol,x[4]+tol),\n",
    "    ylim=(-0.04,0.04),\n",
    "    markershape=symbols,\n",
    "    markerstrokewidth=4,\n",
    "    label=\"\",\n",
    "    c=[:red,:blue,:blue,:red],\n",
    "    showaxis=:x,\n",
    "    size =(600,120))\n",
    "plot!(x[2:3],y[2:3],label=\"\",c=:blue)\n",
    "plot!(x[1:3:4],y[1:3:4],label=\"\",c=:red)\n",
    "annotate!(x[2], 0.03, string(round(x[2],digits=4)),:blue)\n",
    "annotate!(x[3], 0.03, string(round(x[3],digits=4)),:blue)\n",
    "annotate!(x[1], -0.03, string(round(x[1],digits=4)),:red)\n",
    "annotate!(x[4], -0.03, string(round(x[4],digits=4)),:red)\n"
   ]
  },
  {
   "cell_type": "code",
   "execution_count": null,
   "metadata": {},
   "outputs": [],
   "source": []
  }
 ],
 "metadata": {
  "@webio": {
   "lastCommId": null,
   "lastKernelId": null
  },
  "kernelspec": {
   "display_name": "Julia 1.9.2",
   "language": "julia",
   "name": "julia-1.9"
  },
  "language_info": {
   "file_extension": ".jl",
   "mimetype": "application/julia",
   "name": "julia",
   "version": "1.9.2"
  }
 },
 "nbformat": 4,
 "nbformat_minor": 4
}
