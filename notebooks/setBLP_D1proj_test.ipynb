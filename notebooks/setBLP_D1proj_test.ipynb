{
 "cells": [
  {
   "cell_type": "markdown",
   "metadata": {},
   "source": [
    "# Packages"
   ]
  },
  {
   "cell_type": "code",
   "execution_count": 1,
   "metadata": {},
   "outputs": [],
   "source": [
    "using CSV, DataFrames"
   ]
  },
  {
   "cell_type": "code",
   "execution_count": 2,
   "metadata": {},
   "outputs": [
    {
     "ename": "LoadError",
     "evalue": "ArgumentError: Package FixedEffectModels not found in current path.\n- Run `import Pkg; Pkg.add(\"FixedEffectModels\")` to install the FixedEffectModels package.",
     "output_type": "error",
     "traceback": [
      "ArgumentError: Package FixedEffectModels not found in current path.\n- Run `import Pkg; Pkg.add(\"FixedEffectModels\")` to install the FixedEffectModels package.",
      "",
      "Stacktrace:",
      " [1] macro expansion",
      "   @ .\\loading.jl:1630 [inlined]",
      " [2] macro expansion",
      "   @ .\\lock.jl:267 [inlined]",
      " [3] require(into::Module, mod::Symbol)",
      "   @ Base .\\loading.jl:1611"
     ]
    }
   ],
   "source": [
    "using FixedEffectModels"
   ]
  },
  {
   "cell_type": "code",
   "execution_count": 3,
   "metadata": {},
   "outputs": [],
   "source": [
    "using Plots"
   ]
  },
  {
   "cell_type": "code",
   "execution_count": 4,
   "metadata": {},
   "outputs": [],
   "source": [
    "using Statistics"
   ]
  },
  {
   "cell_type": "markdown",
   "metadata": {},
   "source": [
    "# Uploading CPS data"
   ]
  },
  {
   "cell_type": "code",
   "execution_count": 5,
   "metadata": {},
   "outputs": [
    {
     "data": {
      "text/html": [
       "<div><div style = \"float: left;\"><span>5×3 DataFrame</span></div><div style = \"clear: both;\"></div></div><div class = \"data-frame\" style = \"overflow-x: scroll;\"><table class = \"data-frame\" style = \"margin-bottom: 6px;\"><thead><tr class = \"header\"><th class = \"rowNumber\" style = \"font-weight: bold; text-align: right;\">Row</th><th style = \"text-align: left;\">age</th><th style = \"text-align: left;\">wage</th><th style = \"text-align: left;\">educ</th></tr><tr class = \"subheader headerLastRow\"><th class = \"rowNumber\" style = \"font-weight: bold; text-align: right;\"></th><th title = \"Int64\" style = \"text-align: left;\">Int64</th><th title = \"Int64\" style = \"text-align: left;\">Int64</th><th title = \"String\" style = \"text-align: left;\">String</th></tr></thead><tbody><tr><td class = \"rowNumber\" style = \"font-weight: bold; text-align: right;\">1</td><td style = \"text-align: right;\">22</td><td style = \"text-align: right;\">12000</td><td style = \"text-align: left;\">some college but no degree</td></tr><tr><td class = \"rowNumber\" style = \"font-weight: bold; text-align: right;\">2</td><td style = \"text-align: right;\">21</td><td style = \"text-align: right;\">3500</td><td style = \"text-align: left;\">some college but no degree</td></tr><tr><td class = \"rowNumber\" style = \"font-weight: bold; text-align: right;\">3</td><td style = \"text-align: right;\">49</td><td style = \"text-align: right;\">30000</td><td style = \"text-align: left;\">some college but no degree</td></tr><tr><td class = \"rowNumber\" style = \"font-weight: bold; text-align: right;\">4</td><td style = \"text-align: right;\">31</td><td style = \"text-align: right;\">32000</td><td style = \"text-align: left;\">bachelor&apos;s degree</td></tr><tr><td class = \"rowNumber\" style = \"font-weight: bold; text-align: right;\">5</td><td style = \"text-align: right;\">42</td><td style = \"text-align: right;\">89630</td><td style = \"text-align: left;\">doctorate degree</td></tr></tbody></table></div>"
      ],
      "text/latex": [
       "\\begin{tabular}{r|ccc}\n",
       "\t& age & wage & educ\\\\\n",
       "\t\\hline\n",
       "\t& Int64 & Int64 & String\\\\\n",
       "\t\\hline\n",
       "\t1 & 22 & 12000 & some college but no degree \\\\\n",
       "\t2 & 21 & 3500 & some college but no degree \\\\\n",
       "\t3 & 49 & 30000 & some college but no degree \\\\\n",
       "\t4 & 31 & 32000 & bachelor's degree \\\\\n",
       "\t5 & 42 & 89630 & doctorate degree \\\\\n",
       "\\end{tabular}\n"
      ],
      "text/plain": [
       "\u001b[1m5×3 DataFrame\u001b[0m\n",
       "\u001b[1m Row \u001b[0m│\u001b[1m age   \u001b[0m\u001b[1m wage  \u001b[0m\u001b[1m educ                       \u001b[0m\n",
       "     │\u001b[90m Int64 \u001b[0m\u001b[90m Int64 \u001b[0m\u001b[90m String                     \u001b[0m\n",
       "─────┼──────────────────────────────────────────\n",
       "   1 │    22  12000  some college but no degree\n",
       "   2 │    21   3500  some college but no degree\n",
       "   3 │    49  30000  some college but no degree\n",
       "   4 │    31  32000  bachelor's degree\n",
       "   5 │    42  89630  doctorate degree"
      ]
     },
     "execution_count": 5,
     "metadata": {},
     "output_type": "execute_result"
    }
   ],
   "source": [
    "cps = DataFrame(CSV.File(\"c:\\\\data\\\\Bounds\\\\cps.csv\")) # <-change this to the right directory\n",
    "\n",
    "## Cleaning zero wage\n",
    "\n",
    "cps = cps[cps.wage .> 0, :]\n",
    "first(cps,5)"
   ]
  },
  {
   "cell_type": "code",
   "execution_count": 6,
   "metadata": {},
   "outputs": [
    {
     "data": {
      "text/plain": [
       "Dict{String, Int64} with 16 entries:\n",
       "  \"grade 11\"                                            => 11\n",
       "  \"some college but no degree\"                          => 13\n",
       "  \"associate's degree, academic program\"                => 14\n",
       "  \"none or preschool\"                                   => 0\n",
       "  \"doctorate degree\"                                    => 21\n",
       "  \"grade 10\"                                            => 10\n",
       "  \"bachelor's degree\"                                   => 16\n",
       "  \"master's degree\"                                     => 14\n",
       "  \"grades 5 or 6\"                                       => 6\n",
       "  \"grades 7 or 8\"                                       => 8\n",
       "  \"grades 1, 2, 3, or 4\"                                => 4\n",
       "  \"associate's degree, occupational/vocational program\" => 14\n",
       "  \"professional school degree\"                          => 14\n",
       "  \"high school diploma or equivalent\"                   => 12\n",
       "  \"grade 9\"                                             => 9\n",
       "  \"12th grade, no diploma\"                              => 12"
      ]
     },
     "execution_count": 6,
     "metadata": {},
     "output_type": "execute_result"
    }
   ],
   "source": [
    "# Numerical value for education\n",
    "\n",
    "#1.Creating a dictionary\n",
    "\n",
    "educ_dict = Dict( \n",
    "    \"grade 11\" => 11, \n",
    "    \"some college but no degree\" => 13, \n",
    "    \"associate's degree, academic program\" => 14,\n",
    "    \"grade 10\" => 10, \n",
    "    \"grades 7 or 8\" => 8, \n",
    "    \"grades 1, 2, 3, or 4\" => 4, \n",
    "    \"associate's degree, occupational/vocational program\" => 14, \n",
    "    \"high school diploma or equivalent\" => 12, \n",
    "    \"grade 9\" => 9, \n",
    "    \"none or preschool\" => 0, \n",
    "    \"doctorate degree\" => 21,\n",
    "    \"bachelor's degree\" => 16, \n",
    "    \"master's degree\" => 14, \n",
    "    \"grades 5 or 6\" => 6, \n",
    "    \"professional school degree\" => 14, \n",
    "    \"12th grade, no diploma\" => 12\n",
    "    )"
   ]
  },
  {
   "cell_type": "code",
   "execution_count": 7,
   "metadata": {},
   "outputs": [
    {
     "data": {
      "text/html": [
       "<div><div style = \"float: left;\"><span>3×5 DataFrame</span></div><div style = \"clear: both;\"></div></div><div class = \"data-frame\" style = \"overflow-x: scroll;\"><table class = \"data-frame\" style = \"margin-bottom: 6px;\"><thead><tr class = \"header\"><th class = \"rowNumber\" style = \"font-weight: bold; text-align: right;\">Row</th><th style = \"text-align: left;\">age</th><th style = \"text-align: left;\">wage</th><th style = \"text-align: left;\">educ</th><th style = \"text-align: left;\">educ_num</th><th style = \"text-align: left;\">log_wage</th></tr><tr class = \"subheader headerLastRow\"><th class = \"rowNumber\" style = \"font-weight: bold; text-align: right;\"></th><th title = \"Int64\" style = \"text-align: left;\">Int64</th><th title = \"Int64\" style = \"text-align: left;\">Int64</th><th title = \"String\" style = \"text-align: left;\">String</th><th title = \"Int64\" style = \"text-align: left;\">Int64</th><th title = \"Float64\" style = \"text-align: left;\">Float64</th></tr></thead><tbody><tr><td class = \"rowNumber\" style = \"font-weight: bold; text-align: right;\">1</td><td style = \"text-align: right;\">22</td><td style = \"text-align: right;\">12000</td><td style = \"text-align: left;\">some college but no degree</td><td style = \"text-align: right;\">13</td><td style = \"text-align: right;\">9.39266</td></tr><tr><td class = \"rowNumber\" style = \"font-weight: bold; text-align: right;\">2</td><td style = \"text-align: right;\">21</td><td style = \"text-align: right;\">3500</td><td style = \"text-align: left;\">some college but no degree</td><td style = \"text-align: right;\">13</td><td style = \"text-align: right;\">8.16052</td></tr><tr><td class = \"rowNumber\" style = \"font-weight: bold; text-align: right;\">3</td><td style = \"text-align: right;\">49</td><td style = \"text-align: right;\">30000</td><td style = \"text-align: left;\">some college but no degree</td><td style = \"text-align: right;\">13</td><td style = \"text-align: right;\">10.309</td></tr></tbody></table></div>"
      ],
      "text/latex": [
       "\\begin{tabular}{r|ccccc}\n",
       "\t& age & wage & educ & educ\\_num & log\\_wage\\\\\n",
       "\t\\hline\n",
       "\t& Int64 & Int64 & String & Int64 & Float64\\\\\n",
       "\t\\hline\n",
       "\t1 & 22 & 12000 & some college but no degree & 13 & 9.39266 \\\\\n",
       "\t2 & 21 & 3500 & some college but no degree & 13 & 8.16052 \\\\\n",
       "\t3 & 49 & 30000 & some college but no degree & 13 & 10.309 \\\\\n",
       "\\end{tabular}\n"
      ],
      "text/plain": [
       "\u001b[1m3×5 DataFrame\u001b[0m\n",
       "\u001b[1m Row \u001b[0m│\u001b[1m age   \u001b[0m\u001b[1m wage  \u001b[0m\u001b[1m educ                       \u001b[0m\u001b[1m educ_num \u001b[0m\u001b[1m log_wage \u001b[0m\n",
       "     │\u001b[90m Int64 \u001b[0m\u001b[90m Int64 \u001b[0m\u001b[90m String                     \u001b[0m\u001b[90m Int64    \u001b[0m\u001b[90m Float64  \u001b[0m\n",
       "─────┼──────────────────────────────────────────────────────────────\n",
       "   1 │    22  12000  some college but no degree        13   9.39266\n",
       "   2 │    21   3500  some college but no degree        13   8.16052\n",
       "   3 │    49  30000  some college but no degree        13  10.309"
      ]
     },
     "execution_count": 7,
     "metadata": {},
     "output_type": "execute_result"
    }
   ],
   "source": [
    "#2. transforming cps.educ\n",
    "f(x) = educ_dict[x]\n",
    "cps.educ_num = f.(cps.educ)\n",
    "\n",
    "#3. log of wage\n",
    "cps.log_wage = log.(cps.wage)\n",
    "first(cps,3)"
   ]
  },
  {
   "cell_type": "code",
   "execution_count": 8,
   "metadata": {},
   "outputs": [
    {
     "name": "stdout",
     "output_type": "stream",
     "text": [
      "The original data contains 22715 observations and 5 columns."
     ]
    }
   ],
   "source": [
    "Nobs, c = size(cps)\n",
    "print(\"The original data contains \", Nobs, \" observations and \",c, \" columns.\")"
   ]
  },
  {
   "cell_type": "markdown",
   "metadata": {},
   "source": [
    "# Best Linear Predictor "
   ]
  },
  {
   "cell_type": "code",
   "execution_count": 9,
   "metadata": {},
   "outputs": [],
   "source": [
    "#reg(cps, @formula(log_wage ~ educ_num ), Vcov.robust())"
   ]
  },
  {
   "cell_type": "code",
   "execution_count": 10,
   "metadata": {
    "scrolled": true
   },
   "outputs": [],
   "source": [
    "#reg(cps, @formula(log_wage ~ educ_num + age ), Vcov.robust())"
   ]
  },
  {
   "cell_type": "markdown",
   "metadata": {},
   "source": [
    "# Creating Interval Data"
   ]
  },
  {
   "cell_type": "code",
   "execution_count": 11,
   "metadata": {},
   "outputs": [
    {
     "data": {
      "text/plain": [
       "362303.0"
      ]
     },
     "execution_count": 11,
     "metadata": {},
     "output_type": "execute_result"
    }
   ],
   "source": [
    "wage_quantiles = quantile(cps[!,:wage],[0.0, 0.1,0.2,0.3,0.4,0.5,0.6,0.7,0.8,0.9,1.0], sorted=false);\n",
    "#wage_quantiles[1] +=-1\n",
    "wage_quantiles[end] +=1"
   ]
  },
  {
   "cell_type": "code",
   "execution_count": 12,
   "metadata": {},
   "outputs": [
    {
     "data": {
      "text/html": [
       "<div><div style = \"float: left;\"><span>3×9 DataFrame</span></div><div style = \"clear: both;\"></div></div><div class = \"data-frame\" style = \"overflow-x: scroll;\"><table class = \"data-frame\" style = \"margin-bottom: 6px;\"><thead><tr class = \"header\"><th class = \"rowNumber\" style = \"font-weight: bold; text-align: right;\">Row</th><th style = \"text-align: left;\">age</th><th style = \"text-align: left;\">wage</th><th style = \"text-align: left;\">educ</th><th style = \"text-align: left;\">educ_num</th><th style = \"text-align: left;\">log_wage</th><th style = \"text-align: left;\">wage_lower</th><th style = \"text-align: left;\">wage_upper</th><th style = \"text-align: left;\">logwage_lower</th><th style = \"text-align: left;\">logwage_upper</th></tr><tr class = \"subheader headerLastRow\"><th class = \"rowNumber\" style = \"font-weight: bold; text-align: right;\"></th><th title = \"Int64\" style = \"text-align: left;\">Int64</th><th title = \"Int64\" style = \"text-align: left;\">Int64</th><th title = \"String\" style = \"text-align: left;\">String</th><th title = \"Int64\" style = \"text-align: left;\">Int64</th><th title = \"Float64\" style = \"text-align: left;\">Float64</th><th title = \"Float64\" style = \"text-align: left;\">Float64</th><th title = \"Float64\" style = \"text-align: left;\">Float64</th><th title = \"Float64\" style = \"text-align: left;\">Float64</th><th title = \"Float64\" style = \"text-align: left;\">Float64</th></tr></thead><tbody><tr><td class = \"rowNumber\" style = \"font-weight: bold; text-align: right;\">1</td><td style = \"text-align: right;\">22</td><td style = \"text-align: right;\">12000</td><td style = \"text-align: left;\">some college but no degree</td><td style = \"text-align: right;\">13</td><td style = \"text-align: right;\">9.39266</td><td style = \"text-align: right;\">9000.0</td><td style = \"text-align: right;\">15000.0</td><td style = \"text-align: right;\">9.10498</td><td style = \"text-align: right;\">9.61581</td></tr><tr><td class = \"rowNumber\" style = \"font-weight: bold; text-align: right;\">2</td><td style = \"text-align: right;\">21</td><td style = \"text-align: right;\">3500</td><td style = \"text-align: left;\">some college but no degree</td><td style = \"text-align: right;\">13</td><td style = \"text-align: right;\">8.16052</td><td style = \"text-align: right;\">1.0</td><td style = \"text-align: right;\">9000.0</td><td style = \"text-align: right;\">0.0</td><td style = \"text-align: right;\">9.10498</td></tr><tr><td class = \"rowNumber\" style = \"font-weight: bold; text-align: right;\">3</td><td style = \"text-align: right;\">49</td><td style = \"text-align: right;\">30000</td><td style = \"text-align: left;\">some college but no degree</td><td style = \"text-align: right;\">13</td><td style = \"text-align: right;\">10.309</td><td style = \"text-align: right;\">30000.0</td><td style = \"text-align: right;\">36000.0</td><td style = \"text-align: right;\">10.309</td><td style = \"text-align: right;\">10.4913</td></tr></tbody></table></div>"
      ],
      "text/latex": [
       "\\begin{tabular}{r|cccccccc}\n",
       "\t& age & wage & educ & educ\\_num & log\\_wage & wage\\_lower & wage\\_upper & \\\\\n",
       "\t\\hline\n",
       "\t& Int64 & Int64 & String & Int64 & Float64 & Float64 & Float64 & \\\\\n",
       "\t\\hline\n",
       "\t1 & 22 & 12000 & some college but no degree & 13 & 9.39266 & 9000.0 & 15000.0 & $\\dots$ \\\\\n",
       "\t2 & 21 & 3500 & some college but no degree & 13 & 8.16052 & 1.0 & 9000.0 & $\\dots$ \\\\\n",
       "\t3 & 49 & 30000 & some college but no degree & 13 & 10.309 & 30000.0 & 36000.0 & $\\dots$ \\\\\n",
       "\\end{tabular}\n"
      ],
      "text/plain": [
       "\u001b[1m3×9 DataFrame\u001b[0m\n",
       "\u001b[1m Row \u001b[0m│\u001b[1m age   \u001b[0m\u001b[1m wage  \u001b[0m\u001b[1m educ                       \u001b[0m\u001b[1m educ_num \u001b[0m\u001b[1m log_wage \u001b[0m\u001b[1m wage_lowe\u001b[0m ⋯\n",
       "     │\u001b[90m Int64 \u001b[0m\u001b[90m Int64 \u001b[0m\u001b[90m String                     \u001b[0m\u001b[90m Int64    \u001b[0m\u001b[90m Float64  \u001b[0m\u001b[90m Float64  \u001b[0m ⋯\n",
       "─────┼──────────────────────────────────────────────────────────────────────────\n",
       "   1 │    22  12000  some college but no degree        13   9.39266      9000. ⋯\n",
       "   2 │    21   3500  some college but no degree        13   8.16052         1.\n",
       "   3 │    49  30000  some college but no degree        13  10.309       30000.\n",
       "\u001b[36m                                                               4 columns omitted\u001b[0m"
      ]
     },
     "execution_count": 12,
     "metadata": {},
     "output_type": "execute_result"
    }
   ],
   "source": [
    "lower(x) = wage_quantiles[sum(wage_quantiles .<=x)]\n",
    "upper(x) = wage_quantiles[sum(wage_quantiles .<=x)+1]\n",
    "\n",
    "cps.wage_lower = lower.(cps.wage)\n",
    "cps.wage_upper = upper.(cps.wage)\n",
    "\n",
    "cps.logwage_lower = log.(cps.wage_lower)\n",
    "cps.logwage_upper = log.(cps.wage_upper)\n",
    "\n",
    "first(cps,3)"
   ]
  },
  {
   "cell_type": "code",
   "execution_count": 13,
   "metadata": {},
   "outputs": [
    {
     "name": "stdout",
     "output_type": "stream",
     "text": [
      "The complete data contains 22715 observations and 9 columns."
     ]
    }
   ],
   "source": [
    "Nobs, c = size(cps)\n",
    "print(\"The complete data contains \", Nobs, \" observations and \",c, \" columns.\")"
   ]
  },
  {
   "cell_type": "markdown",
   "metadata": {},
   "source": [
    "# Partial Indentification"
   ]
  },
  {
   "cell_type": "markdown",
   "metadata": {},
   "source": [
    "### Reading the module"
   ]
  },
  {
   "cell_type": "code",
   "execution_count": 14,
   "metadata": {},
   "outputs": [
    {
     "data": {
      "text/plain": [
       "Main.setBLP"
      ]
     },
     "execution_count": 14,
     "metadata": {},
     "output_type": "execute_result"
    }
   ],
   "source": [
    "include(\"C:\\\\Users\\\\arie\\\\OneDrive - University of Pittsburgh\\\\Documents\\\\Bounds.jl\\\\Bounds.jl\\\\src\\\\setBLP.jl\")"
   ]
  },
  {
   "cell_type": "code",
   "execution_count": 15,
   "metadata": {},
   "outputs": [],
   "source": [
    "using Main.setBLP"
   ]
  },
  {
   "cell_type": "markdown",
   "metadata": {},
   "source": [
    "## Testing projection function"
   ]
  },
  {
   "cell_type": "code",
   "execution_count": 16,
   "metadata": {},
   "outputs": [
    {
     "data": {
      "text/html": [
       "# 7 methods for generic function <b>projection</b> from \u001b[35mMain.setBLP\u001b[39m:<ul><li> projection(yl::<b>Vector{<:Real}</b>, yu::<b>Vector{<:Real}</b>, x::<b>Vector{<:Real}</b>) in Main.setBLP at <a href=\"https://github.com/ArieBeresteanu/Bounds.jl/tree/f4e51c8e7d55ed1490614bb0c3489b137b02817e//src/setBLP.jl#L199\" target=\"_blank\">C:\\Users\\arie\\OneDrive - University of Pittsburgh\\Documents\\Bounds.jl\\Bounds.jl\\src\\setBLP.jl:199</a></li> <li> projection(yl::<b>Vector{<:Real}</b>, yu::<b>Vector{<:Real}</b>, x::<b>Matrix{<:Real}</b>) in Main.setBLP at <a href=\"https://github.com/ArieBeresteanu/Bounds.jl/tree/f4e51c8e7d55ed1490614bb0c3489b137b02817e//src/setBLP.jl#L240\" target=\"_blank\">C:\\Users\\arie\\OneDrive - University of Pittsburgh\\Documents\\Bounds.jl\\Bounds.jl\\src\\setBLP.jl:240</a></li> <li> projection(yl::<b>Vector{<:Real}</b>, yu::<b>Vector{<:Real}</b>, x::<b>Matrix{<:Real}</b>, cord::<b>Int64</b>) in Main.setBLP at <a href=\"https://github.com/ArieBeresteanu/Bounds.jl/tree/f4e51c8e7d55ed1490614bb0c3489b137b02817e//src/setBLP.jl#L210\" target=\"_blank\">C:\\Users\\arie\\OneDrive - University of Pittsburgh\\Documents\\Bounds.jl\\Bounds.jl\\src\\setBLP.jl:210</a></li> <li> projection(yl::<b>Vector{<:Real}</b>, yu::<b>Vector{<:Real}</b>, x::<b>Matrix{<:Real}</b>, cords::<b>Vector{Int64}</b>) in Main.setBLP at <a href=\"https://github.com/ArieBeresteanu/Bounds.jl/tree/f4e51c8e7d55ed1490614bb0c3489b137b02817e//src/setBLP.jl#L223\" target=\"_blank\">C:\\Users\\arie\\OneDrive - University of Pittsburgh\\Documents\\Bounds.jl\\Bounds.jl\\src\\setBLP.jl:223</a></li> <li> projection(df::<b>DataFrame</b>, yl::<b>Symbol</b>, yu::<b>Symbol</b>, x::<b>Symbol</b>) in Main.setBLP at <a href=\"https://github.com/ArieBeresteanu/Bounds.jl/tree/f4e51c8e7d55ed1490614bb0c3489b137b02817e//src/setBLP.jl#L258\" target=\"_blank\">C:\\Users\\arie\\OneDrive - University of Pittsburgh\\Documents\\Bounds.jl\\Bounds.jl\\src\\setBLP.jl:258</a></li> <li> projection(df::<b>DataFrame</b>, yl::<b>Symbol</b>, yu::<b>Symbol</b>, x::<b>Vector{Symbol}</b>) in Main.setBLP at <a href=\"https://github.com/ArieBeresteanu/Bounds.jl/tree/f4e51c8e7d55ed1490614bb0c3489b137b02817e//src/setBLP.jl#L266\" target=\"_blank\">C:\\Users\\arie\\OneDrive - University of Pittsburgh\\Documents\\Bounds.jl\\Bounds.jl\\src\\setBLP.jl:266</a></li> <li> projection(df::<b>DataFrame</b>, yl::<b>Symbol</b>, yu::<b>Symbol</b>, x::<b>Vector{Symbol}</b>, cord::<b>Int64</b>) in Main.setBLP at <a href=\"https://github.com/ArieBeresteanu/Bounds.jl/tree/f4e51c8e7d55ed1490614bb0c3489b137b02817e//src/setBLP.jl#L274\" target=\"_blank\">C:\\Users\\arie\\OneDrive - University of Pittsburgh\\Documents\\Bounds.jl\\Bounds.jl\\src\\setBLP.jl:274</a></li> </ul>"
      ],
      "text/plain": [
       "# 7 methods for generic function \"projection\" from \u001b[35mMain.setBLP\u001b[39m:\n",
       " [1] projection(\u001b[90myl\u001b[39m::\u001b[1mVector\u001b[22m\u001b[0m{<:Real}, \u001b[90myu\u001b[39m::\u001b[1mVector\u001b[22m\u001b[0m{<:Real}, \u001b[90mx\u001b[39m::\u001b[1mVector\u001b[22m\u001b[0m{<:Real})\n",
       "\u001b[90m     @\u001b[39m \u001b[90mC:\\Users\\arie\\OneDrive - University of Pittsburgh\\Documents\\Bounds.jl\\Bounds.jl\\src\\\u001b[39m\u001b[90m\u001b[4msetBLP.jl:199\u001b[24m\u001b[39m\n",
       " [2] projection(\u001b[90myl\u001b[39m::\u001b[1mVector\u001b[22m\u001b[0m{<:Real}, \u001b[90myu\u001b[39m::\u001b[1mVector\u001b[22m\u001b[0m{<:Real}, \u001b[90mx\u001b[39m::\u001b[1mMatrix\u001b[22m\u001b[0m{<:Real})\n",
       "\u001b[90m     @\u001b[39m \u001b[90mC:\\Users\\arie\\OneDrive - University of Pittsburgh\\Documents\\Bounds.jl\\Bounds.jl\\src\\\u001b[39m\u001b[90m\u001b[4msetBLP.jl:240\u001b[24m\u001b[39m\n",
       " [3] projection(\u001b[90myl\u001b[39m::\u001b[1mVector\u001b[22m\u001b[0m{<:Real}, \u001b[90myu\u001b[39m::\u001b[1mVector\u001b[22m\u001b[0m{<:Real}, \u001b[90mx\u001b[39m::\u001b[1mMatrix\u001b[22m\u001b[0m{<:Real}, \u001b[90mcord\u001b[39m::\u001b[1mInt64\u001b[22m)\n",
       "\u001b[90m     @\u001b[39m \u001b[90mC:\\Users\\arie\\OneDrive - University of Pittsburgh\\Documents\\Bounds.jl\\Bounds.jl\\src\\\u001b[39m\u001b[90m\u001b[4msetBLP.jl:210\u001b[24m\u001b[39m\n",
       " [4] projection(\u001b[90myl\u001b[39m::\u001b[1mVector\u001b[22m\u001b[0m{<:Real}, \u001b[90myu\u001b[39m::\u001b[1mVector\u001b[22m\u001b[0m{<:Real}, \u001b[90mx\u001b[39m::\u001b[1mMatrix\u001b[22m\u001b[0m{<:Real}, \u001b[90mcords\u001b[39m::\u001b[1mVector\u001b[22m\u001b[0m{Int64})\n",
       "\u001b[90m     @\u001b[39m \u001b[90mC:\\Users\\arie\\OneDrive - University of Pittsburgh\\Documents\\Bounds.jl\\Bounds.jl\\src\\\u001b[39m\u001b[90m\u001b[4msetBLP.jl:223\u001b[24m\u001b[39m\n",
       " [5] projection(\u001b[90mdf\u001b[39m::\u001b[1mDataFrame\u001b[22m, \u001b[90myl\u001b[39m::\u001b[1mSymbol\u001b[22m, \u001b[90myu\u001b[39m::\u001b[1mSymbol\u001b[22m, \u001b[90mx\u001b[39m::\u001b[1mSymbol\u001b[22m)\n",
       "\u001b[90m     @\u001b[39m \u001b[90mC:\\Users\\arie\\OneDrive - University of Pittsburgh\\Documents\\Bounds.jl\\Bounds.jl\\src\\\u001b[39m\u001b[90m\u001b[4msetBLP.jl:258\u001b[24m\u001b[39m\n",
       " [6] projection(\u001b[90mdf\u001b[39m::\u001b[1mDataFrame\u001b[22m, \u001b[90myl\u001b[39m::\u001b[1mSymbol\u001b[22m, \u001b[90myu\u001b[39m::\u001b[1mSymbol\u001b[22m, \u001b[90mx\u001b[39m::\u001b[1mVector\u001b[22m\u001b[0m{Symbol})\n",
       "\u001b[90m     @\u001b[39m \u001b[90mC:\\Users\\arie\\OneDrive - University of Pittsburgh\\Documents\\Bounds.jl\\Bounds.jl\\src\\\u001b[39m\u001b[90m\u001b[4msetBLP.jl:266\u001b[24m\u001b[39m\n",
       " [7] projection(\u001b[90mdf\u001b[39m::\u001b[1mDataFrame\u001b[22m, \u001b[90myl\u001b[39m::\u001b[1mSymbol\u001b[22m, \u001b[90myu\u001b[39m::\u001b[1mSymbol\u001b[22m, \u001b[90mx\u001b[39m::\u001b[1mVector\u001b[22m\u001b[0m{Symbol}, \u001b[90mcord\u001b[39m::\u001b[1mInt64\u001b[22m)\n",
       "\u001b[90m     @\u001b[39m \u001b[90mC:\\Users\\arie\\OneDrive - University of Pittsburgh\\Documents\\Bounds.jl\\Bounds.jl\\src\\\u001b[39m\u001b[90m\u001b[4msetBLP.jl:274\u001b[24m\u001b[39m"
      ]
     },
     "execution_count": 16,
     "metadata": {},
     "output_type": "execute_result"
    }
   ],
   "source": [
    "methods(projection)"
   ]
  },
  {
   "cell_type": "code",
   "execution_count": 17,
   "metadata": {},
   "outputs": [
    {
     "name": "stdout",
     "output_type": "stream",
     "text": [
      "Options:\n",
      "  Number of MC iterations: 2000\n",
      "  Seed: 15217\n",
      "  Random Number Generator: Random.MersenneTwister(0x8e1986c77bf649e30e3623d14baf3374)\n",
      "  Confidence level: 0.95\n"
     ]
    }
   ],
   "source": [
    "show(default_options)"
   ]
  },
  {
   "cell_type": "markdown",
   "metadata": {},
   "source": [
    "### 1. Testing the vector/matrix functions"
   ]
  },
  {
   "cell_type": "code",
   "execution_count": 18,
   "metadata": {},
   "outputs": [],
   "source": [
    "# Preparing vector and matrix versions of the data\n",
    "\n",
    "yl = cps.logwage_lower;\n",
    "yu = cps.logwage_upper;\n",
    "x1 = cps.age;\n",
    "x2 = cps.educ_num;\n",
    "x = [x1 x2];"
   ]
  },
  {
   "cell_type": "code",
   "execution_count": 19,
   "metadata": {},
   "outputs": [],
   "source": [
    "#projection(yl,yu,x1)"
   ]
  },
  {
   "cell_type": "code",
   "execution_count": 20,
   "metadata": {},
   "outputs": [],
   "source": [
    "#projection(yl,yu,x1)"
   ]
  },
  {
   "cell_type": "code",
   "execution_count": 21,
   "metadata": {},
   "outputs": [
    {
     "data": {
      "text/plain": [
       "1×2 Matrix{Float64}:\n",
       " -0.00905178  0.144324"
      ]
     },
     "execution_count": 21,
     "metadata": {},
     "output_type": "execute_result"
    }
   ],
   "source": [
    "projection(yl,yu,x,1)"
   ]
  },
  {
   "cell_type": "code",
   "execution_count": 22,
   "metadata": {},
   "outputs": [],
   "source": [
    "#projection(yl,yu,x,2)"
   ]
  },
  {
   "cell_type": "code",
   "execution_count": 23,
   "metadata": {},
   "outputs": [],
   "source": [
    "#projection(yl,yu,x)"
   ]
  },
  {
   "cell_type": "markdown",
   "metadata": {},
   "source": [
    "### 2. Testing the Dataframe version of the functions"
   ]
  },
  {
   "cell_type": "code",
   "execution_count": 24,
   "metadata": {},
   "outputs": [
    {
     "data": {
      "text/plain": [
       "1×2 Matrix{Float64}:\n",
       " -0.00488786  0.14866"
      ]
     },
     "execution_count": 24,
     "metadata": {},
     "output_type": "execute_result"
    }
   ],
   "source": [
    "projection(cps,:logwage_lower,:logwage_upper,:age)"
   ]
  },
  {
   "cell_type": "code",
   "execution_count": 25,
   "metadata": {},
   "outputs": [],
   "source": [
    "#projection(cps,:logwage_lower,:logwage_upper,:educ_num)"
   ]
  },
  {
   "cell_type": "code",
   "execution_count": 26,
   "metadata": {},
   "outputs": [],
   "source": [
    "#projection(cps,:logwage_lower,:logwage_upper,[:age,:educ_num],1)"
   ]
  },
  {
   "cell_type": "code",
   "execution_count": 27,
   "metadata": {},
   "outputs": [],
   "source": [
    "#projection(cps,:logwage_lower,:logwage_upper,[:age,:educ_num],2)"
   ]
  },
  {
   "cell_type": "code",
   "execution_count": 28,
   "metadata": {},
   "outputs": [],
   "source": [
    "#projection(cps,:logwage_lower,:logwage_upper,[:age,:educ_num])"
   ]
  },
  {
   "cell_type": "markdown",
   "metadata": {},
   "source": [
    "## Testing oneDproj function"
   ]
  },
  {
   "cell_type": "code",
   "execution_count": 29,
   "metadata": {},
   "outputs": [
    {
     "name": "stdout",
     "output_type": "stream",
     "text": [
      "Results: \n",
      "  Null: [0.0, 0.15]\n",
      "  Bound: [-0.0049, 0.1487]\n",
      "  Hausdorff based test: \n",
      "    Test Stat: 0.7367\n",
      "    Critical Value: 0.72\n",
      "    Confidence Interval: [-0.0097, 0.1534]\n",
      "  directed Hausdorff test: \n",
      "    Test Stat: 0.202\n",
      "    Critical Value: 0.6101\n",
      "    Confidence Interval: [-0.0089, 0.1527]\n"
     ]
    }
   ],
   "source": [
    "res = oneDproj(yl,yu,float.(x1);CI=true,H0=[0, 0.15]);\n",
    "show(res)"
   ]
  },
  {
   "cell_type": "code",
   "execution_count": 30,
   "metadata": {},
   "outputs": [
    {
     "name": "stdout",
     "output_type": "stream",
     "text": [
      "Results: \n",
      "  Null: [0.1, 0.15]\n",
      "  Bound: [-0.0049, 0.1487]\n",
      "  Hausdorff based test: \n",
      "    Test Stat: 15.8082\n",
      "    Critical Value: 0.7131\n",
      "    Confidence Interval: [-0.0096, 0.1534]\n",
      "  directed Hausdorff test: \n",
      "    Test Stat: 0.202\n",
      "    Critical Value: 0.6069\n",
      "    Confidence Interval: [-0.0089, 0.1527]\n"
     ]
    }
   ],
   "source": [
    "res = oneDproj(yl,yu,float.(x1);CI=true,H0=[0.1,0.15]);\n",
    "show(res)"
   ]
  },
  {
   "cell_type": "code",
   "execution_count": 31,
   "metadata": {},
   "outputs": [
    {
     "name": "stdout",
     "output_type": "stream",
     "text": [
      "Results: \n",
      "  Null: [0.0, 0.1]\n",
      "  Bound: [-0.0049, 0.1487]\n",
      "  Hausdorff based test: \n",
      "    Test Stat: 7.3337\n",
      "    Critical Value: 0.7344\n",
      "    Confidence Interval: [-0.0098, 0.1535]\n",
      "  directed Hausdorff test: \n",
      "    Test Stat: 0.0\n",
      "    Critical Value: 0.6269\n",
      "    Confidence Interval: [-0.009, 0.1528]\n"
     ]
    }
   ],
   "source": [
    "res = oneDproj(yl,yu,float.(x1);CI=true,H0=[0.0,0.1]);\n",
    "show(res)"
   ]
  },
  {
   "cell_type": "code",
   "execution_count": 32,
   "metadata": {},
   "outputs": [
    {
     "name": "stdout",
     "output_type": "stream",
     "text": [
      "Results: \n",
      "  Null: [-0.1, 0.15]\n",
      "  Bound: [-0.0049, 0.1487]\n",
      "  Hausdorff based test: \n",
      "    Test Stat: 14.3348\n",
      "    Critical Value: 0.7108\n",
      "    Confidence Interval: [-0.0096, 0.1534]\n",
      "  directed Hausdorff test: \n",
      "    Test Stat: 14.3348\n",
      "    Critical Value: 0.6118\n",
      "    Confidence Interval: [-0.0089, 0.1527]\n"
     ]
    }
   ],
   "source": [
    "res = oneDproj(yl,yu,float.(x1);CI=true,H0=[-0.1,0.15]);\n",
    "show(res)"
   ]
  },
  {
   "cell_type": "code",
   "execution_count": 33,
   "metadata": {},
   "outputs": [
    {
     "data": {
      "text/plain": [
       "Results([-0.004887858329799178, 0.14865963017399053], nothing, nothing, nothing)"
      ]
     },
     "execution_count": 33,
     "metadata": {},
     "output_type": "execute_result"
    }
   ],
   "source": [
    "res = oneDproj(yl,yu,float.(x1);CI=false,H0=nothing)"
   ]
  },
  {
   "cell_type": "code",
   "execution_count": 34,
   "metadata": {},
   "outputs": [
    {
     "data": {
      "text/plain": [
       "Results([-0.004887858329799178, 0.14865963017399053], nothing, TestResults([-0.009558259654662083, 0.15333003149885344], 0.703899361754869, nothing), TestResults([-0.008794465649276323, 0.15256623749346768], 0.588784176676205, nothing))"
      ]
     },
     "execution_count": 34,
     "metadata": {},
     "output_type": "execute_result"
    }
   ],
   "source": [
    "res = oneDproj(yl,yu,real.(x1))"
   ]
  },
  {
   "cell_type": "code",
   "execution_count": 35,
   "metadata": {},
   "outputs": [
    {
     "data": {
      "text/plain": [
       "Results([0.001786042221944126, 0.3685793555817362], nothing, TestResults([-0.014275130914976111, 0.38464052871865645], 2.4206591112262634, nothing), TestResults([-0.011558989546673606, 0.38192438735035394], 2.0112959660493868, nothing))"
      ]
     },
     "execution_count": 35,
     "metadata": {},
     "output_type": "execute_result"
    }
   ],
   "source": [
    "res = oneDproj(cps,:logwage_lower,:logwage_upper,:educ_num)"
   ]
  },
  {
   "cell_type": "markdown",
   "metadata": {},
   "source": [
    "### Plotting"
   ]
  },
  {
   "cell_type": "code",
   "execution_count": 36,
   "metadata": {},
   "outputs": [
    {
     "data": {
      "image/png": "[encoded data removed]",
      "image/svg+xml": [
       "<?xml version=\"1.0\" encoding=\"utf-8\"?>\n",
       "<svg xmlns=\"http://www.w3.org/2000/svg\" xmlns:xlink=\"http://www.w3.org/1999/xlink\" width=\"600\" height=\"120\" viewBox=\"0 0 2400 480\">\n",
       "<defs>\n",
       "  <clipPath id=\"clip260\">\n",
       "    <rect x=\"0\" y=\"0\" width=\"2400\" height=\"480\"/>\n",
       "  </clipPath>\n",
       "</defs>\n",
       "<path clip-path=\"url(#clip260)\" d=\"M0 480 L2400 480 L2400 0 L0 0  Z\" fill=\"#ffffff\" fill-rule=\"evenodd\" fill-opacity=\"1\"/>\n",
       "<defs>\n",
       "  <clipPath id=\"clip261\">\n",
       "    <rect x=\"480\" y=\"0\" width=\"1681\" height=\"480\"/>\n",
       "  </clipPath>\n",
       "</defs>\n",
       "<path clip-path=\"url(#clip260)\" d=\"M223.45 401.84 L2352.76 401.84 L2352.76 47.2441 L223.45 47.2441  Z\" fill=\"#ffffff\" fill-rule=\"evenodd\" fill-opacity=\"1\"/>\n",
       "<defs>\n",
       "  <clipPath id=\"clip262\">\n",
       "    <rect x=\"223\" y=\"47\" width=\"2130\" height=\"356\"/>\n",
       "  </clipPath>\n",
       "</defs>\n",
       "<polyline clip-path=\"url(#clip262)\" style=\"stroke:#000000; stroke-linecap:round; stroke-linejoin:round; stroke-width:2; stroke-opacity:0.1; fill:none\" points=\"464.389,401.84 464.389,47.2441 \"/>\n",
       "<polyline clip-path=\"url(#clip262)\" style=\"stroke:#000000; stroke-linecap:round; stroke-linejoin:round; stroke-width:2; stroke-opacity:0.1; fill:none\" points=\"909.201,401.84 909.201,47.2441 \"/>\n",
       "<polyline clip-path=\"url(#clip262)\" style=\"stroke:#000000; stroke-linecap:round; stroke-linejoin:round; stroke-width:2; stroke-opacity:0.1; fill:none\" points=\"1354.01,401.84 1354.01,47.2441 \"/>\n",
       "<polyline clip-path=\"url(#clip262)\" style=\"stroke:#000000; stroke-linecap:round; stroke-linejoin:round; stroke-width:2; stroke-opacity:0.1; fill:none\" points=\"1798.82,401.84 1798.82,47.2441 \"/>\n",
       "<polyline clip-path=\"url(#clip262)\" style=\"stroke:#000000; stroke-linecap:round; stroke-linejoin:round; stroke-width:2; stroke-opacity:0.1; fill:none\" points=\"2243.63,401.84 2243.63,47.2441 \"/>\n",
       "<polyline clip-path=\"url(#clip260)\" style=\"stroke:#000000; stroke-linecap:round; stroke-linejoin:round; stroke-width:4; stroke-opacity:1; fill:none\" points=\"223.45,401.84 2352.76,401.84 \"/>\n",
       "<polyline clip-path=\"url(#clip260)\" style=\"stroke:#000000; stroke-linecap:round; stroke-linejoin:round; stroke-width:4; stroke-opacity:1; fill:none\" points=\"464.389,401.84 464.389,382.942 \"/>\n",
       "<polyline clip-path=\"url(#clip260)\" style=\"stroke:#000000; stroke-linecap:round; stroke-linejoin:round; stroke-width:4; stroke-opacity:1; fill:none\" points=\"909.201,401.84 909.201,382.942 \"/>\n",
       "<polyline clip-path=\"url(#clip260)\" style=\"stroke:#000000; stroke-linecap:round; stroke-linejoin:round; stroke-width:4; stroke-opacity:1; fill:none\" points=\"1354.01,401.84 1354.01,382.942 \"/>\n",
       "<polyline clip-path=\"url(#clip260)\" style=\"stroke:#000000; stroke-linecap:round; stroke-linejoin:round; stroke-width:4; stroke-opacity:1; fill:none\" points=\"1798.82,401.84 1798.82,382.942 \"/>\n",
       "<polyline clip-path=\"url(#clip260)\" style=\"stroke:#000000; stroke-linecap:round; stroke-linejoin:round; stroke-width:4; stroke-opacity:1; fill:none\" points=\"2243.63,401.84 2243.63,382.942 \"/>\n",
       "<path clip-path=\"url(#clip260)\" d=\"M441.774 432.759 Q438.163 432.759 436.334 436.323 Q434.528 439.865 434.528 446.995 Q434.528 454.101 436.334 457.666 Q438.163 461.207 441.774 461.207 Q445.408 461.207 447.213 457.666 Q449.042 454.101 449.042 446.995 Q449.042 439.865 447.213 436.323 Q445.408 432.759 441.774 432.759 M441.774 429.055 Q447.584 429.055 450.639 433.661 Q453.718 438.245 453.718 446.995 Q453.718 455.721 450.639 460.328 Q447.584 464.911 441.774 464.911 Q435.964 464.911 432.885 460.328 Q429.829 455.721 429.829 446.995 Q429.829 438.245 432.885 433.661 Q435.964 429.055 441.774 429.055 Z\" fill=\"#000000\" fill-rule=\"nonzero\" fill-opacity=\"1\" /><path clip-path=\"url(#clip260)\" d=\"M461.936 458.36 L466.82 458.36 L466.82 464.24 L461.936 464.24 L461.936 458.36 Z\" fill=\"#000000\" fill-rule=\"nonzero\" fill-opacity=\"1\" /><path clip-path=\"url(#clip260)\" d=\"M487.005 432.759 Q483.394 432.759 481.565 436.323 Q479.76 439.865 479.76 446.995 Q479.76 454.101 481.565 457.666 Q483.394 461.207 487.005 461.207 Q490.639 461.207 492.445 457.666 Q494.273 454.101 494.273 446.995 Q494.273 439.865 492.445 436.323 Q490.639 432.759 487.005 432.759 M487.005 429.055 Q492.815 429.055 495.871 433.661 Q498.949 438.245 498.949 446.995 Q498.949 455.721 495.871 460.328 Q492.815 464.911 487.005 464.911 Q481.195 464.911 478.116 460.328 Q475.061 455.721 475.061 446.995 Q475.061 438.245 478.116 433.661 Q481.195 429.055 487.005 429.055 Z\" fill=\"#000000\" fill-rule=\"nonzero\" fill-opacity=\"1\" /><path clip-path=\"url(#clip260)\" d=\"M887.198 432.759 Q883.587 432.759 881.759 436.323 Q879.953 439.865 879.953 446.995 Q879.953 454.101 881.759 457.666 Q883.587 461.207 887.198 461.207 Q890.833 461.207 892.638 457.666 Q894.467 454.101 894.467 446.995 Q894.467 439.865 892.638 436.323 Q890.833 432.759 887.198 432.759 M887.198 429.055 Q893.009 429.055 896.064 433.661 Q899.143 438.245 899.143 446.995 Q899.143 455.721 896.064 460.328 Q893.009 464.911 887.198 464.911 Q881.388 464.911 878.31 460.328 Q875.254 455.721 875.254 446.995 Q875.254 438.245 878.31 433.661 Q881.388 429.055 887.198 429.055 Z\" fill=\"#000000\" fill-rule=\"nonzero\" fill-opacity=\"1\" /><path clip-path=\"url(#clip260)\" d=\"M907.36 458.36 L912.245 458.36 L912.245 464.24 L907.36 464.24 L907.36 458.36 Z\" fill=\"#000000\" fill-rule=\"nonzero\" fill-opacity=\"1\" /><path clip-path=\"url(#clip260)\" d=\"M923.24 460.305 L930.879 460.305 L930.879 433.939 L922.569 435.606 L922.569 431.347 L930.832 429.68 L935.508 429.68 L935.508 460.305 L943.147 460.305 L943.147 464.24 L923.24 464.24 L923.24 460.305 Z\" fill=\"#000000\" fill-rule=\"nonzero\" fill-opacity=\"1\" /><path clip-path=\"url(#clip260)\" d=\"M1332.19 432.759 Q1328.58 432.759 1326.76 436.323 Q1324.95 439.865 1324.95 446.995 Q1324.95 454.101 1326.76 457.666 Q1328.58 461.207 1332.19 461.207 Q1335.83 461.207 1337.63 457.666 Q1339.46 454.101 1339.46 446.995 Q1339.46 439.865 1337.63 436.323 Q1335.83 432.759 1332.19 432.759 M1332.19 429.055 Q1338 429.055 1341.06 433.661 Q1344.14 438.245 1344.14 446.995 Q1344.14 455.721 1341.06 460.328 Q1338 464.911 1332.19 464.911 Q1326.38 464.911 1323.31 460.328 Q1320.25 455.721 1320.25 446.995 Q1320.25 438.245 1323.31 433.661 Q1326.38 429.055 1332.19 429.055 Z\" fill=\"#000000\" fill-rule=\"nonzero\" fill-opacity=\"1\" /><path clip-path=\"url(#clip260)\" d=\"M1352.36 458.36 L1357.24 458.36 L1357.24 464.24 L1352.36 464.24 L1352.36 458.36 Z\" fill=\"#000000\" fill-rule=\"nonzero\" fill-opacity=\"1\" /><path clip-path=\"url(#clip260)\" d=\"M1371.45 460.305 L1387.77 460.305 L1387.77 464.24 L1365.83 464.24 L1365.83 460.305 Q1368.49 457.55 1373.07 452.92 Q1377.68 448.268 1378.86 446.925 Q1381.11 444.402 1381.99 442.666 Q1382.89 440.907 1382.89 439.217 Q1382.89 436.462 1380.94 434.726 Q1379.02 432.99 1375.92 432.99 Q1373.72 432.99 1371.27 433.754 Q1368.84 434.518 1366.06 436.069 L1366.06 431.347 Q1368.88 430.212 1371.34 429.634 Q1373.79 429.055 1375.83 429.055 Q1381.2 429.055 1384.39 431.74 Q1387.59 434.425 1387.59 438.916 Q1387.59 441.046 1386.78 442.967 Q1385.99 444.865 1383.88 447.458 Q1383.31 448.129 1380.2 451.346 Q1377.1 454.541 1371.45 460.305 Z\" fill=\"#000000\" fill-rule=\"nonzero\" fill-opacity=\"1\" /><path clip-path=\"url(#clip260)\" d=\"M1776.53 432.759 Q1772.92 432.759 1771.09 436.323 Q1769.29 439.865 1769.29 446.995 Q1769.29 454.101 1771.09 457.666 Q1772.92 461.207 1776.53 461.207 Q1780.17 461.207 1781.97 457.666 Q1783.8 454.101 1783.8 446.995 Q1783.8 439.865 1781.97 436.323 Q1780.17 432.759 1776.53 432.759 M1776.53 429.055 Q1782.34 429.055 1785.4 433.661 Q1788.48 438.245 1788.48 446.995 Q1788.48 455.721 1785.4 460.328 Q1782.34 464.911 1776.53 464.911 Q1770.72 464.911 1767.64 460.328 Q1764.59 455.721 1764.59 446.995 Q1764.59 438.245 1767.64 433.661 Q1770.72 429.055 1776.53 429.055 Z\" fill=\"#000000\" fill-rule=\"nonzero\" fill-opacity=\"1\" /><path clip-path=\"url(#clip260)\" d=\"M1796.69 458.36 L1801.58 458.36 L1801.58 464.24 L1796.69 464.24 L1796.69 458.36 Z\" fill=\"#000000\" fill-rule=\"nonzero\" fill-opacity=\"1\" /><path clip-path=\"url(#clip260)\" d=\"M1825.93 445.606 Q1829.29 446.323 1831.16 448.592 Q1833.06 450.86 1833.06 454.194 Q1833.06 459.309 1829.54 462.11 Q1826.02 464.911 1819.54 464.911 Q1817.36 464.911 1815.05 464.471 Q1812.76 464.055 1810.3 463.198 L1810.3 458.684 Q1812.25 459.819 1814.56 460.397 Q1816.88 460.976 1819.4 460.976 Q1823.8 460.976 1826.09 459.24 Q1828.41 457.504 1828.41 454.194 Q1828.41 451.138 1826.25 449.425 Q1824.12 447.689 1820.3 447.689 L1816.28 447.689 L1816.28 443.846 L1820.49 443.846 Q1823.94 443.846 1825.77 442.481 Q1827.6 441.092 1827.6 438.499 Q1827.6 435.837 1825.7 434.425 Q1823.82 432.99 1820.3 432.99 Q1818.38 432.99 1816.18 433.407 Q1813.99 433.823 1811.35 434.703 L1811.35 430.536 Q1814.01 429.796 1816.32 429.425 Q1818.66 429.055 1820.72 429.055 Q1826.05 429.055 1829.15 431.485 Q1832.25 433.893 1832.25 438.013 Q1832.25 440.884 1830.61 442.874 Q1828.96 444.842 1825.93 445.606 Z\" fill=\"#000000\" fill-rule=\"nonzero\" fill-opacity=\"1\" /><path clip-path=\"url(#clip260)\" d=\"M2220.78 432.759 Q2217.16 432.759 2215.34 436.323 Q2213.53 439.865 2213.53 446.995 Q2213.53 454.101 2215.34 457.666 Q2217.16 461.207 2220.78 461.207 Q2224.41 461.207 2226.22 457.666 Q2228.04 454.101 2228.04 446.995 Q2228.04 439.865 2226.22 436.323 Q2224.41 432.759 2220.78 432.759 M2220.78 429.055 Q2226.59 429.055 2229.64 433.661 Q2232.72 438.245 2232.72 446.995 Q2232.72 455.721 2229.64 460.328 Q2226.59 464.911 2220.78 464.911 Q2214.97 464.911 2211.89 460.328 Q2208.83 455.721 2208.83 446.995 Q2208.83 438.245 2211.89 433.661 Q2214.97 429.055 2220.78 429.055 Z\" fill=\"#000000\" fill-rule=\"nonzero\" fill-opacity=\"1\" /><path clip-path=\"url(#clip260)\" d=\"M2240.94 458.36 L2245.82 458.36 L2245.82 464.24 L2240.94 464.24 L2240.94 458.36 Z\" fill=\"#000000\" fill-rule=\"nonzero\" fill-opacity=\"1\" /><path clip-path=\"url(#clip260)\" d=\"M2268.85 433.754 L2257.05 452.203 L2268.85 452.203 L2268.85 433.754 M2267.63 429.68 L2273.51 429.68 L2273.51 452.203 L2278.44 452.203 L2278.44 456.092 L2273.51 456.092 L2273.51 464.24 L2268.85 464.24 L2268.85 456.092 L2253.25 456.092 L2253.25 451.578 L2267.63 429.68 Z\" fill=\"#000000\" fill-rule=\"nonzero\" fill-opacity=\"1\" /><polyline clip-path=\"url(#clip262)\" style=\"stroke:#000000; stroke-linecap:round; stroke-linejoin:round; stroke-width:2; stroke-opacity:0.1; fill:none\" points=\"223.45,357.515 2352.76,357.515 \"/>\n",
       "<polyline clip-path=\"url(#clip262)\" style=\"stroke:#000000; stroke-linecap:round; stroke-linejoin:round; stroke-width:2; stroke-opacity:0.1; fill:none\" points=\"223.45,313.191 2352.76,313.191 \"/>\n",
       "<polyline clip-path=\"url(#clip262)\" style=\"stroke:#000000; stroke-linecap:round; stroke-linejoin:round; stroke-width:2; stroke-opacity:0.1; fill:none\" points=\"223.45,268.866 2352.76,268.866 \"/>\n",
       "<polyline clip-path=\"url(#clip262)\" style=\"stroke:#000000; stroke-linecap:round; stroke-linejoin:round; stroke-width:2; stroke-opacity:0.1; fill:none\" points=\"223.45,224.542 2352.76,224.542 \"/>\n",
       "<polyline clip-path=\"url(#clip262)\" style=\"stroke:#000000; stroke-linecap:round; stroke-linejoin:round; stroke-width:2; stroke-opacity:0.1; fill:none\" points=\"223.45,180.218 2352.76,180.218 \"/>\n",
       "<polyline clip-path=\"url(#clip262)\" style=\"stroke:#000000; stroke-linecap:round; stroke-linejoin:round; stroke-width:2; stroke-opacity:0.1; fill:none\" points=\"223.45,135.893 2352.76,135.893 \"/>\n",
       "<polyline clip-path=\"url(#clip262)\" style=\"stroke:#000000; stroke-linecap:round; stroke-linejoin:round; stroke-width:2; stroke-opacity:0.1; fill:none\" points=\"223.45,91.5686 2352.76,91.5686 \"/>\n",
       "<line clip-path=\"url(#clip262)\" x1=\"400.892\" y1=\"308.866\" x2=\"400.892\" y2=\"228.866\" style=\"stroke:#ff0000; stroke-width:3.84; stroke-opacity:1\"/>\n",
       "<line clip-path=\"url(#clip262)\" x1=\"472.334\" y1=\"220.218\" x2=\"472.334\" y2=\"140.218\" style=\"stroke:#0000ff; stroke-width:3.84; stroke-opacity:1\"/>\n",
       "<line clip-path=\"url(#clip262)\" x1=\"2103.87\" y1=\"220.218\" x2=\"2103.87\" y2=\"140.218\" style=\"stroke:#0000ff; stroke-width:3.84; stroke-opacity:1\"/>\n",
       "<line clip-path=\"url(#clip262)\" x1=\"2175.31\" y1=\"308.866\" x2=\"2175.31\" y2=\"228.866\" style=\"stroke:#ff0000; stroke-width:3.84; stroke-opacity:1\"/>\n",
       "<polyline clip-path=\"url(#clip262)\" style=\"stroke:#0000ff; stroke-linecap:round; stroke-linejoin:round; stroke-width:4; stroke-opacity:1; fill:none\" points=\"472.334,180.218 2103.87,180.218 \"/>\n",
       "<polyline clip-path=\"url(#clip262)\" style=\"stroke:#ff0000; stroke-linecap:round; stroke-linejoin:round; stroke-width:4; stroke-opacity:1; fill:none\" points=\"400.892,268.866 2175.31,268.866 \"/>\n",
       "<path clip-path=\"url(#clip260)\" d=\"M353.663 66.7163 Q347.343 66.7163 344.143 72.9547 Q340.983 79.1525 340.983 91.6293 Q340.983 104.066 344.143 110.304 Q347.343 116.502 353.663 116.502 Q360.022 116.502 363.182 110.304 Q366.382 104.066 366.382 91.6293 Q366.382 79.1525 363.182 72.9547 Q360.022 66.7163 353.663 66.7163 M353.663 60.2348 Q363.83 60.2348 369.178 68.2961 Q374.565 76.3169 374.565 91.6293 Q374.565 106.901 369.178 114.963 Q363.83 122.983 353.663 122.983 Q343.495 122.983 338.107 114.963 Q332.76 106.901 332.76 91.6293 Q332.76 76.3169 338.107 68.2961 Q343.495 60.2348 353.663 60.2348 Z\" fill=\"#0000ff\" fill-rule=\"nonzero\" fill-opacity=\"1\" /><path clip-path=\"url(#clip260)\" d=\"M388.946 111.519 L397.493 111.519 L397.493 121.809 L388.946 121.809 L388.946 111.519 Z\" fill=\"#0000ff\" fill-rule=\"nonzero\" fill-opacity=\"1\" /><path clip-path=\"url(#clip260)\" d=\"M432.817 66.7163 Q426.498 66.7163 423.298 72.9547 Q420.138 79.1525 420.138 91.6293 Q420.138 104.066 423.298 110.304 Q426.498 116.502 432.817 116.502 Q439.177 116.502 442.337 110.304 Q445.537 104.066 445.537 91.6293 Q445.537 79.1525 442.337 72.9547 Q439.177 66.7163 432.817 66.7163 M432.817 60.2348 Q442.985 60.2348 448.332 68.2961 Q453.72 76.3169 453.72 91.6293 Q453.72 106.901 448.332 114.963 Q442.985 122.983 432.817 122.983 Q422.649 122.983 417.262 114.963 Q411.915 106.901 411.915 91.6293 Q411.915 76.3169 417.262 68.2961 Q422.649 60.2348 432.817 60.2348 Z\" fill=\"#0000ff\" fill-rule=\"nonzero\" fill-opacity=\"1\" /><path clip-path=\"url(#clip260)\" d=\"M485.601 66.7163 Q479.281 66.7163 476.081 72.9547 Q472.921 79.1525 472.921 91.6293 Q472.921 104.066 476.081 110.304 Q479.281 116.502 485.601 116.502 Q491.96 116.502 495.12 110.304 Q498.32 104.066 498.32 91.6293 Q498.32 79.1525 495.12 72.9547 Q491.96 66.7163 485.601 66.7163 M485.601 60.2348 Q495.768 60.2348 501.115 68.2961 Q506.503 76.3169 506.503 91.6293 Q506.503 106.901 501.115 114.963 Q495.768 122.983 485.601 122.983 Q475.433 122.983 470.045 114.963 Q464.698 106.901 464.698 91.6293 Q464.698 76.3169 470.045 68.2961 Q475.433 60.2348 485.601 60.2348 Z\" fill=\"#0000ff\" fill-rule=\"nonzero\" fill-opacity=\"1\" /><path clip-path=\"url(#clip260)\" d=\"M522.302 114.922 L535.67 114.922 L535.67 68.7822 L521.127 71.6989 L521.127 64.2452 L535.589 61.3286 L543.772 61.3286 L543.772 114.922 L557.139 114.922 L557.139 121.809 L522.302 121.809 L522.302 114.922 Z\" fill=\"#0000ff\" fill-rule=\"nonzero\" fill-opacity=\"1\" /><path clip-path=\"url(#clip260)\" d=\"M591.167 93.0877 Q585.334 93.0877 581.972 96.2069 Q578.65 99.326 578.65 104.795 Q578.65 110.263 581.972 113.383 Q585.334 116.502 591.167 116.502 Q597 116.502 600.363 113.383 Q603.725 110.223 603.725 104.795 Q603.725 99.326 600.363 96.2069 Q597.041 93.0877 591.167 93.0877 M582.984 89.6039 Q577.718 88.3076 574.761 84.7023 Q571.844 81.097 571.844 75.9118 Q571.844 68.6607 576.989 64.4478 Q582.174 60.2348 591.167 60.2348 Q600.201 60.2348 605.345 64.4478 Q610.49 68.6607 610.49 75.9118 Q610.49 81.097 607.533 84.7023 Q604.616 88.3076 599.39 89.6039 Q605.305 90.9812 608.586 94.9916 Q611.908 99.002 611.908 104.795 Q611.908 113.585 606.52 118.284 Q601.173 122.983 591.167 122.983 Q581.161 122.983 575.774 118.284 Q570.426 113.585 570.426 104.795 Q570.426 99.002 573.748 94.9916 Q577.07 90.9812 582.984 89.6039 M579.987 76.6815 Q579.987 81.3805 582.903 84.0136 Q585.86 86.6467 591.167 86.6467 Q596.433 86.6467 599.39 84.0136 Q602.388 81.3805 602.388 76.6815 Q602.388 71.9824 599.39 69.3494 Q596.433 66.7163 591.167 66.7163 Q585.86 66.7163 582.903 69.3494 Q579.987 71.9824 579.987 76.6815 Z\" fill=\"#0000ff\" fill-rule=\"nonzero\" fill-opacity=\"1\" /><path clip-path=\"url(#clip260)\" d=\"M1984.98 66.7163 Q1978.66 66.7163 1975.46 72.9547 Q1972.3 79.1525 1972.3 91.6293 Q1972.3 104.066 1975.46 110.304 Q1978.66 116.502 1984.98 116.502 Q1991.34 116.502 1994.5 110.304 Q1997.7 104.066 1997.7 91.6293 Q1997.7 79.1525 1994.5 72.9547 Q1991.34 66.7163 1984.98 66.7163 M1984.98 60.2348 Q1995.15 60.2348 2000.49 68.2961 Q2005.88 76.3169 2005.88 91.6293 Q2005.88 106.901 2000.49 114.963 Q1995.15 122.983 1984.98 122.983 Q1974.81 122.983 1969.42 114.963 Q1964.08 106.901 1964.08 91.6293 Q1964.08 76.3169 1969.42 68.2961 Q1974.81 60.2348 1984.98 60.2348 Z\" fill=\"#0000ff\" fill-rule=\"nonzero\" fill-opacity=\"1\" /><path clip-path=\"url(#clip260)\" d=\"M2020.26 111.519 L2028.81 111.519 L2028.81 121.809 L2020.26 121.809 L2020.26 111.519 Z\" fill=\"#0000ff\" fill-rule=\"nonzero\" fill-opacity=\"1\" /><path clip-path=\"url(#clip260)\" d=\"M2071.42 89.1988 Q2077.3 90.4546 2080.58 94.4245 Q2083.9 98.3943 2083.9 104.228 Q2083.9 113.18 2077.74 118.082 Q2071.59 122.983 2060.24 122.983 Q2056.44 122.983 2052.38 122.214 Q2048.37 121.484 2044.08 119.986 L2044.08 112.086 Q2047.48 114.071 2051.53 115.084 Q2055.59 116.097 2060 116.097 Q2067.7 116.097 2071.71 113.059 Q2075.76 110.02 2075.76 104.228 Q2075.76 98.8804 2071.99 95.8828 Q2068.26 92.8446 2061.58 92.8446 L2054.53 92.8446 L2054.53 86.1201 L2061.9 86.1201 Q2067.94 86.1201 2071.14 83.7301 Q2074.34 81.2995 2074.34 76.7625 Q2074.34 72.104 2071.02 69.6329 Q2067.74 67.1214 2061.58 67.1214 Q2058.22 67.1214 2054.37 67.8505 Q2050.52 68.5797 2045.9 70.119 L2045.9 62.8274 Q2050.56 61.5311 2054.61 60.883 Q2058.7 60.2348 2062.31 60.2348 Q2071.63 60.2348 2077.05 64.4883 Q2082.48 68.7012 2082.48 75.9118 Q2082.48 80.9349 2079.61 84.4187 Q2076.73 87.862 2071.42 89.1988 Z\" fill=\"#0000ff\" fill-rule=\"nonzero\" fill-opacity=\"1\" /><path clip-path=\"url(#clip260)\" d=\"M2117.93 88.3076 Q2112.42 88.3076 2109.18 92.0749 Q2105.98 95.8423 2105.98 102.405 Q2105.98 108.927 2109.18 112.735 Q2112.42 116.502 2117.93 116.502 Q2123.44 116.502 2126.64 112.735 Q2129.88 108.927 2129.88 102.405 Q2129.88 95.8423 2126.64 92.0749 Q2123.44 88.3076 2117.93 88.3076 M2134.17 62.6654 L2134.17 70.119 Q2131.09 68.6607 2127.93 67.891 Q2124.81 67.1214 2121.74 67.1214 Q2113.63 67.1214 2109.34 72.5901 Q2105.09 78.0588 2104.48 89.1178 Q2106.87 85.5935 2110.47 83.7301 Q2114.08 81.8261 2118.41 81.8261 Q2127.53 81.8261 2132.8 87.3759 Q2138.1 92.8851 2138.1 102.405 Q2138.1 111.722 2132.59 117.353 Q2127.08 122.983 2117.93 122.983 Q2107.44 122.983 2101.89 114.963 Q2096.34 106.901 2096.34 91.6293 Q2096.34 77.2891 2103.14 68.7822 Q2109.95 60.2348 2121.41 60.2348 Q2124.49 60.2348 2127.61 60.8425 Q2130.77 61.4501 2134.17 62.6654 Z\" fill=\"#0000ff\" fill-rule=\"nonzero\" fill-opacity=\"1\" /><path clip-path=\"url(#clip260)\" d=\"M2169.7 93.0877 Q2163.87 93.0877 2160.5 96.2069 Q2157.18 99.326 2157.18 104.795 Q2157.18 110.263 2160.5 113.383 Q2163.87 116.502 2169.7 116.502 Q2175.53 116.502 2178.89 113.383 Q2182.26 110.223 2182.26 104.795 Q2182.26 99.326 2178.89 96.2069 Q2175.57 93.0877 2169.7 93.0877 M2161.52 89.6039 Q2156.25 88.3076 2153.29 84.7023 Q2150.38 81.097 2150.38 75.9118 Q2150.38 68.6607 2155.52 64.4478 Q2160.71 60.2348 2169.7 60.2348 Q2178.73 60.2348 2183.88 64.4478 Q2189.02 68.6607 2189.02 75.9118 Q2189.02 81.097 2186.06 84.7023 Q2183.15 88.3076 2177.92 89.6039 Q2183.84 90.9812 2187.12 94.9916 Q2190.44 99.002 2190.44 104.795 Q2190.44 113.585 2185.05 118.284 Q2179.7 122.983 2169.7 122.983 Q2159.69 122.983 2154.31 118.284 Q2148.96 113.585 2148.96 104.795 Q2148.96 99.002 2152.28 94.9916 Q2155.6 90.9812 2161.52 89.6039 M2158.52 76.6815 Q2158.52 81.3805 2161.44 84.0136 Q2164.39 86.6467 2169.7 86.6467 Q2174.97 86.6467 2177.92 84.0136 Q2180.92 81.3805 2180.92 76.6815 Q2180.92 71.9824 2177.92 69.3494 Q2174.97 66.7163 2169.7 66.7163 Q2164.39 66.7163 2161.44 69.3494 Q2158.52 71.9824 2158.52 76.6815 Z\" fill=\"#0000ff\" fill-rule=\"nonzero\" fill-opacity=\"1\" /><path clip-path=\"url(#clip260)\" d=\"M2223.5 88.3076 Q2217.99 88.3076 2214.75 92.0749 Q2211.54 95.8423 2211.54 102.405 Q2211.54 108.927 2214.75 112.735 Q2217.99 116.502 2223.5 116.502 Q2229 116.502 2232.2 112.735 Q2235.45 108.927 2235.45 102.405 Q2235.45 95.8423 2232.2 92.0749 Q2229 88.3076 2223.5 88.3076 M2239.74 62.6654 L2239.74 70.119 Q2236.66 68.6607 2233.5 67.891 Q2230.38 67.1214 2227.3 67.1214 Q2219.2 67.1214 2214.91 72.5901 Q2210.65 78.0588 2210.05 89.1178 Q2212.44 85.5935 2216.04 83.7301 Q2219.65 81.8261 2223.98 81.8261 Q2233.1 81.8261 2238.36 87.3759 Q2243.67 92.8851 2243.67 102.405 Q2243.67 111.722 2238.16 117.353 Q2232.65 122.983 2223.5 122.983 Q2213 122.983 2207.45 114.963 Q2201.9 106.901 2201.9 91.6293 Q2201.9 77.2891 2208.71 68.7822 Q2215.51 60.2348 2226.98 60.2348 Q2230.06 60.2348 2233.18 60.8425 Q2236.34 61.4501 2239.74 62.6654 Z\" fill=\"#0000ff\" fill-rule=\"nonzero\" fill-opacity=\"1\" /><path clip-path=\"url(#clip260)\" d=\"M246.127 361.708 L267.961 361.708 L267.961 368.352 L246.127 368.352 L246.127 361.708 Z\" fill=\"#ff0000\" fill-rule=\"nonzero\" fill-opacity=\"1\" /><path clip-path=\"url(#clip260)\" d=\"M298.384 332.663 Q292.064 332.663 288.864 338.901 Q285.704 345.099 285.704 357.576 Q285.704 370.012 288.864 376.251 Q292.064 382.449 298.384 382.449 Q304.744 382.449 307.903 376.251 Q311.104 370.012 311.104 357.576 Q311.104 345.099 307.903 338.901 Q304.744 332.663 298.384 332.663 M298.384 326.182 Q308.552 326.182 313.899 334.243 Q319.286 342.264 319.286 357.576 Q319.286 372.848 313.899 380.909 Q308.552 388.93 298.384 388.93 Q288.216 388.93 282.828 380.909 Q277.481 372.848 277.481 357.576 Q277.481 342.264 282.828 334.243 Q288.216 326.182 298.384 326.182 Z\" fill=\"#ff0000\" fill-rule=\"nonzero\" fill-opacity=\"1\" /><path clip-path=\"url(#clip260)\" d=\"M333.667 377.466 L342.215 377.466 L342.215 387.755 L333.667 387.755 L333.667 377.466 Z\" fill=\"#ff0000\" fill-rule=\"nonzero\" fill-opacity=\"1\" /><path clip-path=\"url(#clip260)\" d=\"M377.538 332.663 Q371.219 332.663 368.019 338.901 Q364.859 345.099 364.859 357.576 Q364.859 370.012 368.019 376.251 Q371.219 382.449 377.538 382.449 Q383.898 382.449 387.058 376.251 Q390.258 370.012 390.258 357.576 Q390.258 345.099 387.058 338.901 Q383.898 332.663 377.538 332.663 M377.538 326.182 Q387.706 326.182 393.053 334.243 Q398.441 342.264 398.441 357.576 Q398.441 372.848 393.053 380.909 Q387.706 388.93 377.538 388.93 Q367.371 388.93 361.983 380.909 Q356.636 372.848 356.636 357.576 Q356.636 342.264 361.983 334.243 Q367.371 326.182 377.538 326.182 Z\" fill=\"#ff0000\" fill-rule=\"nonzero\" fill-opacity=\"1\" /><path clip-path=\"url(#clip260)\" d=\"M414.24 380.869 L427.608 380.869 L427.608 334.729 L413.065 337.646 L413.065 330.192 L427.527 327.275 L435.709 327.275 L435.709 380.869 L449.077 380.869 L449.077 387.755 L414.24 387.755 L414.24 380.869 Z\" fill=\"#ff0000\" fill-rule=\"nonzero\" fill-opacity=\"1\" /><path clip-path=\"url(#clip260)\" d=\"M488.088 334.405 L467.428 366.691 L488.088 366.691 L488.088 334.405 M485.941 327.275 L496.23 327.275 L496.23 366.691 L504.858 366.691 L504.858 373.496 L496.23 373.496 L496.23 387.755 L488.088 387.755 L488.088 373.496 L460.785 373.496 L460.785 365.597 L485.941 327.275 Z\" fill=\"#ff0000\" fill-rule=\"nonzero\" fill-opacity=\"1\" /><path clip-path=\"url(#clip260)\" d=\"M543.18 355.146 Q549.054 356.401 552.335 360.371 Q555.657 364.341 555.657 370.174 Q555.657 379.127 549.499 384.029 Q543.342 388.93 531.999 388.93 Q528.192 388.93 524.141 388.16 Q520.13 387.431 515.836 385.932 L515.836 378.033 Q519.239 380.018 523.29 381.031 Q527.341 382.044 531.756 382.044 Q539.453 382.044 543.463 379.005 Q547.514 375.967 547.514 370.174 Q547.514 364.827 543.747 361.83 Q540.02 358.791 533.336 358.791 L526.288 358.791 L526.288 352.067 L533.66 352.067 Q539.696 352.067 542.896 349.677 Q546.097 347.246 546.097 342.709 Q546.097 338.051 542.775 335.58 Q539.494 333.068 533.336 333.068 Q529.974 333.068 526.126 333.797 Q522.277 334.527 517.659 336.066 L517.659 328.774 Q522.318 327.478 526.369 326.83 Q530.46 326.182 534.065 326.182 Q543.382 326.182 548.811 330.435 Q554.239 334.648 554.239 341.859 Q554.239 346.882 551.363 350.366 Q548.487 353.809 543.18 355.146 Z\" fill=\"#ff0000\" fill-rule=\"nonzero\" fill-opacity=\"1\" /><path clip-path=\"url(#clip260)\" d=\"M2056.42 332.663 Q2050.1 332.663 2046.9 338.901 Q2043.74 345.099 2043.74 357.576 Q2043.74 370.012 2046.9 376.251 Q2050.1 382.449 2056.42 382.449 Q2062.78 382.449 2065.94 376.251 Q2069.14 370.012 2069.14 357.576 Q2069.14 345.099 2065.94 338.901 Q2062.78 332.663 2056.42 332.663 M2056.42 326.182 Q2066.59 326.182 2071.93 334.243 Q2077.32 342.264 2077.32 357.576 Q2077.32 372.848 2071.93 380.909 Q2066.59 388.93 2056.42 388.93 Q2046.25 388.93 2040.86 380.909 Q2035.52 372.848 2035.52 357.576 Q2035.52 342.264 2040.86 334.243 Q2046.25 326.182 2056.42 326.182 Z\" fill=\"#ff0000\" fill-rule=\"nonzero\" fill-opacity=\"1\" /><path clip-path=\"url(#clip260)\" d=\"M2091.7 377.466 L2100.25 377.466 L2100.25 387.755 L2091.7 387.755 L2091.7 377.466 Z\" fill=\"#ff0000\" fill-rule=\"nonzero\" fill-opacity=\"1\" /><path clip-path=\"url(#clip260)\" d=\"M2142.87 355.146 Q2148.74 356.401 2152.02 360.371 Q2155.34 364.341 2155.34 370.174 Q2155.34 379.127 2149.19 384.029 Q2143.03 388.93 2131.69 388.93 Q2127.88 388.93 2123.83 388.16 Q2119.82 387.431 2115.52 385.932 L2115.52 378.033 Q2118.93 380.018 2122.98 381.031 Q2127.03 382.044 2131.44 382.044 Q2139.14 382.044 2143.15 379.005 Q2147.2 375.967 2147.2 370.174 Q2147.2 364.827 2143.43 361.83 Q2139.71 358.791 2133.02 358.791 L2125.97 358.791 L2125.97 352.067 L2133.35 352.067 Q2139.38 352.067 2142.58 349.677 Q2145.78 347.246 2145.78 342.709 Q2145.78 338.051 2142.46 335.58 Q2139.18 333.068 2133.02 333.068 Q2129.66 333.068 2125.81 333.797 Q2121.96 334.527 2117.35 336.066 L2117.35 328.774 Q2122 327.478 2126.05 326.83 Q2130.15 326.182 2133.75 326.182 Q2143.07 326.182 2148.5 330.435 Q2153.92 334.648 2153.92 341.859 Q2153.92 346.882 2151.05 350.366 Q2148.17 353.809 2142.87 355.146 Z\" fill=\"#ff0000\" fill-rule=\"nonzero\" fill-opacity=\"1\" /><path clip-path=\"url(#clip260)\" d=\"M2188.36 359.034 Q2182.52 359.034 2179.16 362.154 Q2175.84 365.273 2175.84 370.742 Q2175.84 376.21 2179.16 379.33 Q2182.52 382.449 2188.36 382.449 Q2194.19 382.449 2197.55 379.33 Q2200.92 376.17 2200.92 370.742 Q2200.92 365.273 2197.55 362.154 Q2194.23 359.034 2188.36 359.034 M2180.17 355.551 Q2174.91 354.254 2171.95 350.649 Q2169.03 347.044 2169.03 341.859 Q2169.03 334.608 2174.18 330.395 Q2179.36 326.182 2188.36 326.182 Q2197.39 326.182 2202.54 330.395 Q2207.68 334.608 2207.68 341.859 Q2207.68 347.044 2204.72 350.649 Q2201.81 354.254 2196.58 355.551 Q2202.5 356.928 2205.78 360.938 Q2209.1 364.949 2209.1 370.742 Q2209.1 379.532 2203.71 384.231 Q2198.36 388.93 2188.36 388.93 Q2178.35 388.93 2172.96 384.231 Q2167.62 379.532 2167.62 370.742 Q2167.62 364.949 2170.94 360.938 Q2174.26 356.928 2180.17 355.551 M2177.18 342.628 Q2177.18 347.327 2180.09 349.96 Q2183.05 352.594 2188.36 352.594 Q2193.62 352.594 2196.58 349.96 Q2199.58 347.327 2199.58 342.628 Q2199.58 337.929 2196.58 335.296 Q2193.62 332.663 2188.36 332.663 Q2183.05 332.663 2180.09 335.296 Q2177.18 337.929 2177.18 342.628 Z\" fill=\"#ff0000\" fill-rule=\"nonzero\" fill-opacity=\"1\" /><path clip-path=\"url(#clip260)\" d=\"M2246.12 334.405 L2225.46 366.691 L2246.12 366.691 L2246.12 334.405 M2243.98 327.275 L2254.27 327.275 L2254.27 366.691 L2262.89 366.691 L2262.89 373.496 L2254.27 373.496 L2254.27 387.755 L2246.12 387.755 L2246.12 373.496 L2218.82 373.496 L2218.82 365.597 L2243.98 327.275 Z\" fill=\"#ff0000\" fill-rule=\"nonzero\" fill-opacity=\"1\" /><path clip-path=\"url(#clip260)\" d=\"M2294.94 354.254 Q2289.43 354.254 2286.19 358.022 Q2282.99 361.789 2282.99 368.352 Q2282.99 374.874 2286.19 378.681 Q2289.43 382.449 2294.94 382.449 Q2300.45 382.449 2303.65 378.681 Q2306.89 374.874 2306.89 368.352 Q2306.89 361.789 2303.65 358.022 Q2300.45 354.254 2294.94 354.254 M2311.18 328.612 L2311.18 336.066 Q2308.1 334.608 2304.94 333.838 Q2301.82 333.068 2298.74 333.068 Q2290.64 333.068 2286.35 338.537 Q2282.1 344.006 2281.49 355.065 Q2283.88 351.54 2287.48 349.677 Q2291.09 347.773 2295.42 347.773 Q2304.54 347.773 2309.8 353.323 Q2315.11 358.832 2315.11 368.352 Q2315.11 377.669 2309.6 383.299 Q2304.09 388.93 2294.94 388.93 Q2284.45 388.93 2278.9 380.909 Q2273.35 372.848 2273.35 357.576 Q2273.35 343.236 2280.15 334.729 Q2286.96 326.182 2298.42 326.182 Q2301.5 326.182 2304.62 326.789 Q2307.78 327.397 2311.18 328.612 Z\" fill=\"#ff0000\" fill-rule=\"nonzero\" fill-opacity=\"1\" /></svg>\n"
      ],
      "text/html": [
       "<?xml version=\"1.0\" encoding=\"utf-8\"?>\n",
       "<svg xmlns=\"http://www.w3.org/2000/svg\" xmlns:xlink=\"http://www.w3.org/1999/xlink\" width=\"600\" height=\"120\" viewBox=\"0 0 2400 480\">\n",
       "<defs>\n",
       "  <clipPath id=\"clip310\">\n",
       "    <rect x=\"0\" y=\"0\" width=\"2400\" height=\"480\"/>\n",
       "  </clipPath>\n",
       "</defs>\n",
       "<path clip-path=\"url(#clip310)\" d=\"M0 480 L2400 480 L2400 0 L0 0  Z\" fill=\"#ffffff\" fill-rule=\"evenodd\" fill-opacity=\"1\"/>\n",
       "<defs>\n",
       "  <clipPath id=\"clip311\">\n",
       "    <rect x=\"480\" y=\"0\" width=\"1681\" height=\"480\"/>\n",
       "  </clipPath>\n",
       "</defs>\n",
       "<path clip-path=\"url(#clip310)\" d=\"M223.45 401.84 L2352.76 401.84 L2352.76 47.2441 L223.45 47.2441  Z\" fill=\"#ffffff\" fill-rule=\"evenodd\" fill-opacity=\"1\"/>\n",
       "<defs>\n",
       "  <clipPath id=\"clip312\">\n",
       "    <rect x=\"223\" y=\"47\" width=\"2130\" height=\"356\"/>\n",
       "  </clipPath>\n",
       "</defs>\n",
       "<polyline clip-path=\"url(#clip312)\" style=\"stroke:#000000; stroke-linecap:round; stroke-linejoin:round; stroke-width:2; stroke-opacity:0.1; fill:none\" points=\"464.389,401.84 464.389,47.2441 \"/>\n",
       "<polyline clip-path=\"url(#clip312)\" style=\"stroke:#000000; stroke-linecap:round; stroke-linejoin:round; stroke-width:2; stroke-opacity:0.1; fill:none\" points=\"909.201,401.84 909.201,47.2441 \"/>\n",
       "<polyline clip-path=\"url(#clip312)\" style=\"stroke:#000000; stroke-linecap:round; stroke-linejoin:round; stroke-width:2; stroke-opacity:0.1; fill:none\" points=\"1354.01,401.84 1354.01,47.2441 \"/>\n",
       "<polyline clip-path=\"url(#clip312)\" style=\"stroke:#000000; stroke-linecap:round; stroke-linejoin:round; stroke-width:2; stroke-opacity:0.1; fill:none\" points=\"1798.82,401.84 1798.82,47.2441 \"/>\n",
       "<polyline clip-path=\"url(#clip312)\" style=\"stroke:#000000; stroke-linecap:round; stroke-linejoin:round; stroke-width:2; stroke-opacity:0.1; fill:none\" points=\"2243.63,401.84 2243.63,47.2441 \"/>\n",
       "<polyline clip-path=\"url(#clip310)\" style=\"stroke:#000000; stroke-linecap:round; stroke-linejoin:round; stroke-width:4; stroke-opacity:1; fill:none\" points=\"223.45,401.84 2352.76,401.84 \"/>\n",
       "<polyline clip-path=\"url(#clip310)\" style=\"stroke:#000000; stroke-linecap:round; stroke-linejoin:round; stroke-width:4; stroke-opacity:1; fill:none\" points=\"464.389,401.84 464.389,382.942 \"/>\n",
       "<polyline clip-path=\"url(#clip310)\" style=\"stroke:#000000; stroke-linecap:round; stroke-linejoin:round; stroke-width:4; stroke-opacity:1; fill:none\" points=\"909.201,401.84 909.201,382.942 \"/>\n",
       "<polyline clip-path=\"url(#clip310)\" style=\"stroke:#000000; stroke-linecap:round; stroke-linejoin:round; stroke-width:4; stroke-opacity:1; fill:none\" points=\"1354.01,401.84 1354.01,382.942 \"/>\n",
       "<polyline clip-path=\"url(#clip310)\" style=\"stroke:#000000; stroke-linecap:round; stroke-linejoin:round; stroke-width:4; stroke-opacity:1; fill:none\" points=\"1798.82,401.84 1798.82,382.942 \"/>\n",
       "<polyline clip-path=\"url(#clip310)\" style=\"stroke:#000000; stroke-linecap:round; stroke-linejoin:round; stroke-width:4; stroke-opacity:1; fill:none\" points=\"2243.63,401.84 2243.63,382.942 \"/>\n",
       "<path clip-path=\"url(#clip310)\" d=\"M441.774 432.759 Q438.163 432.759 436.334 436.323 Q434.528 439.865 434.528 446.995 Q434.528 454.101 436.334 457.666 Q438.163 461.207 441.774 461.207 Q445.408 461.207 447.213 457.666 Q449.042 454.101 449.042 446.995 Q449.042 439.865 447.213 436.323 Q445.408 432.759 441.774 432.759 M441.774 429.055 Q447.584 429.055 450.639 433.661 Q453.718 438.245 453.718 446.995 Q453.718 455.721 450.639 460.328 Q447.584 464.911 441.774 464.911 Q435.964 464.911 432.885 460.328 Q429.829 455.721 429.829 446.995 Q429.829 438.245 432.885 433.661 Q435.964 429.055 441.774 429.055 Z\" fill=\"#000000\" fill-rule=\"nonzero\" fill-opacity=\"1\" /><path clip-path=\"url(#clip310)\" d=\"M461.936 458.36 L466.82 458.36 L466.82 464.24 L461.936 464.24 L461.936 458.36 Z\" fill=\"#000000\" fill-rule=\"nonzero\" fill-opacity=\"1\" /><path clip-path=\"url(#clip310)\" d=\"M487.005 432.759 Q483.394 432.759 481.565 436.323 Q479.76 439.865 479.76 446.995 Q479.76 454.101 481.565 457.666 Q483.394 461.207 487.005 461.207 Q490.639 461.207 492.445 457.666 Q494.273 454.101 494.273 446.995 Q494.273 439.865 492.445 436.323 Q490.639 432.759 487.005 432.759 M487.005 429.055 Q492.815 429.055 495.871 433.661 Q498.949 438.245 498.949 446.995 Q498.949 455.721 495.871 460.328 Q492.815 464.911 487.005 464.911 Q481.195 464.911 478.116 460.328 Q475.061 455.721 475.061 446.995 Q475.061 438.245 478.116 433.661 Q481.195 429.055 487.005 429.055 Z\" fill=\"#000000\" fill-rule=\"nonzero\" fill-opacity=\"1\" /><path clip-path=\"url(#clip310)\" d=\"M887.198 432.759 Q883.587 432.759 881.759 436.323 Q879.953 439.865 879.953 446.995 Q879.953 454.101 881.759 457.666 Q883.587 461.207 887.198 461.207 Q890.833 461.207 892.638 457.666 Q894.467 454.101 894.467 446.995 Q894.467 439.865 892.638 436.323 Q890.833 432.759 887.198 432.759 M887.198 429.055 Q893.009 429.055 896.064 433.661 Q899.143 438.245 899.143 446.995 Q899.143 455.721 896.064 460.328 Q893.009 464.911 887.198 464.911 Q881.388 464.911 878.31 460.328 Q875.254 455.721 875.254 446.995 Q875.254 438.245 878.31 433.661 Q881.388 429.055 887.198 429.055 Z\" fill=\"#000000\" fill-rule=\"nonzero\" fill-opacity=\"1\" /><path clip-path=\"url(#clip310)\" d=\"M907.36 458.36 L912.245 458.36 L912.245 464.24 L907.36 464.24 L907.36 458.36 Z\" fill=\"#000000\" fill-rule=\"nonzero\" fill-opacity=\"1\" /><path clip-path=\"url(#clip310)\" d=\"M923.24 460.305 L930.879 460.305 L930.879 433.939 L922.569 435.606 L922.569 431.347 L930.832 429.68 L935.508 429.68 L935.508 460.305 L943.147 460.305 L943.147 464.24 L923.24 464.24 L923.24 460.305 Z\" fill=\"#000000\" fill-rule=\"nonzero\" fill-opacity=\"1\" /><path clip-path=\"url(#clip310)\" d=\"M1332.19 432.759 Q1328.58 432.759 1326.76 436.323 Q1324.95 439.865 1324.95 446.995 Q1324.95 454.101 1326.76 457.666 Q1328.58 461.207 1332.19 461.207 Q1335.83 461.207 1337.63 457.666 Q1339.46 454.101 1339.46 446.995 Q1339.46 439.865 1337.63 436.323 Q1335.83 432.759 1332.19 432.759 M1332.19 429.055 Q1338 429.055 1341.06 433.661 Q1344.14 438.245 1344.14 446.995 Q1344.14 455.721 1341.06 460.328 Q1338 464.911 1332.19 464.911 Q1326.38 464.911 1323.31 460.328 Q1320.25 455.721 1320.25 446.995 Q1320.25 438.245 1323.31 433.661 Q1326.38 429.055 1332.19 429.055 Z\" fill=\"#000000\" fill-rule=\"nonzero\" fill-opacity=\"1\" /><path clip-path=\"url(#clip310)\" d=\"M1352.36 458.36 L1357.24 458.36 L1357.24 464.24 L1352.36 464.24 L1352.36 458.36 Z\" fill=\"#000000\" fill-rule=\"nonzero\" fill-opacity=\"1\" /><path clip-path=\"url(#clip310)\" d=\"M1371.45 460.305 L1387.77 460.305 L1387.77 464.24 L1365.83 464.24 L1365.83 460.305 Q1368.49 457.55 1373.07 452.92 Q1377.68 448.268 1378.86 446.925 Q1381.11 444.402 1381.99 442.666 Q1382.89 440.907 1382.89 439.217 Q1382.89 436.462 1380.94 434.726 Q1379.02 432.99 1375.92 432.99 Q1373.72 432.99 1371.27 433.754 Q1368.84 434.518 1366.06 436.069 L1366.06 431.347 Q1368.88 430.212 1371.34 429.634 Q1373.79 429.055 1375.83 429.055 Q1381.2 429.055 1384.39 431.74 Q1387.59 434.425 1387.59 438.916 Q1387.59 441.046 1386.78 442.967 Q1385.99 444.865 1383.88 447.458 Q1383.31 448.129 1380.2 451.346 Q1377.1 454.541 1371.45 460.305 Z\" fill=\"#000000\" fill-rule=\"nonzero\" fill-opacity=\"1\" /><path clip-path=\"url(#clip310)\" d=\"M1776.53 432.759 Q1772.92 432.759 1771.09 436.323 Q1769.29 439.865 1769.29 446.995 Q1769.29 454.101 1771.09 457.666 Q1772.92 461.207 1776.53 461.207 Q1780.17 461.207 1781.97 457.666 Q1783.8 454.101 1783.8 446.995 Q1783.8 439.865 1781.97 436.323 Q1780.17 432.759 1776.53 432.759 M1776.53 429.055 Q1782.34 429.055 1785.4 433.661 Q1788.48 438.245 1788.48 446.995 Q1788.48 455.721 1785.4 460.328 Q1782.34 464.911 1776.53 464.911 Q1770.72 464.911 1767.64 460.328 Q1764.59 455.721 1764.59 446.995 Q1764.59 438.245 1767.64 433.661 Q1770.72 429.055 1776.53 429.055 Z\" fill=\"#000000\" fill-rule=\"nonzero\" fill-opacity=\"1\" /><path clip-path=\"url(#clip310)\" d=\"M1796.69 458.36 L1801.58 458.36 L1801.58 464.24 L1796.69 464.24 L1796.69 458.36 Z\" fill=\"#000000\" fill-rule=\"nonzero\" fill-opacity=\"1\" /><path clip-path=\"url(#clip310)\" d=\"M1825.93 445.606 Q1829.29 446.323 1831.16 448.592 Q1833.06 450.86 1833.06 454.194 Q1833.06 459.309 1829.54 462.11 Q1826.02 464.911 1819.54 464.911 Q1817.36 464.911 1815.05 464.471 Q1812.76 464.055 1810.3 463.198 L1810.3 458.684 Q1812.25 459.819 1814.56 460.397 Q1816.88 460.976 1819.4 460.976 Q1823.8 460.976 1826.09 459.24 Q1828.41 457.504 1828.41 454.194 Q1828.41 451.138 1826.25 449.425 Q1824.12 447.689 1820.3 447.689 L1816.28 447.689 L1816.28 443.846 L1820.49 443.846 Q1823.94 443.846 1825.77 442.481 Q1827.6 441.092 1827.6 438.499 Q1827.6 435.837 1825.7 434.425 Q1823.82 432.99 1820.3 432.99 Q1818.38 432.99 1816.18 433.407 Q1813.99 433.823 1811.35 434.703 L1811.35 430.536 Q1814.01 429.796 1816.32 429.425 Q1818.66 429.055 1820.72 429.055 Q1826.05 429.055 1829.15 431.485 Q1832.25 433.893 1832.25 438.013 Q1832.25 440.884 1830.61 442.874 Q1828.96 444.842 1825.93 445.606 Z\" fill=\"#000000\" fill-rule=\"nonzero\" fill-opacity=\"1\" /><path clip-path=\"url(#clip310)\" d=\"M2220.78 432.759 Q2217.16 432.759 2215.34 436.323 Q2213.53 439.865 2213.53 446.995 Q2213.53 454.101 2215.34 457.666 Q2217.16 461.207 2220.78 461.207 Q2224.41 461.207 2226.22 457.666 Q2228.04 454.101 2228.04 446.995 Q2228.04 439.865 2226.22 436.323 Q2224.41 432.759 2220.78 432.759 M2220.78 429.055 Q2226.59 429.055 2229.64 433.661 Q2232.72 438.245 2232.72 446.995 Q2232.72 455.721 2229.64 460.328 Q2226.59 464.911 2220.78 464.911 Q2214.97 464.911 2211.89 460.328 Q2208.83 455.721 2208.83 446.995 Q2208.83 438.245 2211.89 433.661 Q2214.97 429.055 2220.78 429.055 Z\" fill=\"#000000\" fill-rule=\"nonzero\" fill-opacity=\"1\" /><path clip-path=\"url(#clip310)\" d=\"M2240.94 458.36 L2245.82 458.36 L2245.82 464.24 L2240.94 464.24 L2240.94 458.36 Z\" fill=\"#000000\" fill-rule=\"nonzero\" fill-opacity=\"1\" /><path clip-path=\"url(#clip310)\" d=\"M2268.85 433.754 L2257.05 452.203 L2268.85 452.203 L2268.85 433.754 M2267.63 429.68 L2273.51 429.68 L2273.51 452.203 L2278.44 452.203 L2278.44 456.092 L2273.51 456.092 L2273.51 464.24 L2268.85 464.24 L2268.85 456.092 L2253.25 456.092 L2253.25 451.578 L2267.63 429.68 Z\" fill=\"#000000\" fill-rule=\"nonzero\" fill-opacity=\"1\" /><polyline clip-path=\"url(#clip312)\" style=\"stroke:#000000; stroke-linecap:round; stroke-linejoin:round; stroke-width:2; stroke-opacity:0.1; fill:none\" points=\"223.45,357.515 2352.76,357.515 \"/>\n",
       "<polyline clip-path=\"url(#clip312)\" style=\"stroke:#000000; stroke-linecap:round; stroke-linejoin:round; stroke-width:2; stroke-opacity:0.1; fill:none\" points=\"223.45,313.191 2352.76,313.191 \"/>\n",
       "<polyline clip-path=\"url(#clip312)\" style=\"stroke:#000000; stroke-linecap:round; stroke-linejoin:round; stroke-width:2; stroke-opacity:0.1; fill:none\" points=\"223.45,268.866 2352.76,268.866 \"/>\n",
       "<polyline clip-path=\"url(#clip312)\" style=\"stroke:#000000; stroke-linecap:round; stroke-linejoin:round; stroke-width:2; stroke-opacity:0.1; fill:none\" points=\"223.45,224.542 2352.76,224.542 \"/>\n",
       "<polyline clip-path=\"url(#clip312)\" style=\"stroke:#000000; stroke-linecap:round; stroke-linejoin:round; stroke-width:2; stroke-opacity:0.1; fill:none\" points=\"223.45,180.218 2352.76,180.218 \"/>\n",
       "<polyline clip-path=\"url(#clip312)\" style=\"stroke:#000000; stroke-linecap:round; stroke-linejoin:round; stroke-width:2; stroke-opacity:0.1; fill:none\" points=\"223.45,135.893 2352.76,135.893 \"/>\n",
       "<polyline clip-path=\"url(#clip312)\" style=\"stroke:#000000; stroke-linecap:round; stroke-linejoin:round; stroke-width:2; stroke-opacity:0.1; fill:none\" points=\"223.45,91.5686 2352.76,91.5686 \"/>\n",
       "<line clip-path=\"url(#clip312)\" x1=\"400.892\" y1=\"308.866\" x2=\"400.892\" y2=\"228.866\" style=\"stroke:#ff0000; stroke-width:3.84; stroke-opacity:1\"/>\n",
       "<line clip-path=\"url(#clip312)\" x1=\"472.334\" y1=\"220.218\" x2=\"472.334\" y2=\"140.218\" style=\"stroke:#0000ff; stroke-width:3.84; stroke-opacity:1\"/>\n",
       "<line clip-path=\"url(#clip312)\" x1=\"2103.87\" y1=\"220.218\" x2=\"2103.87\" y2=\"140.218\" style=\"stroke:#0000ff; stroke-width:3.84; stroke-opacity:1\"/>\n",
       "<line clip-path=\"url(#clip312)\" x1=\"2175.31\" y1=\"308.866\" x2=\"2175.31\" y2=\"228.866\" style=\"stroke:#ff0000; stroke-width:3.84; stroke-opacity:1\"/>\n",
       "<polyline clip-path=\"url(#clip312)\" style=\"stroke:#0000ff; stroke-linecap:round; stroke-linejoin:round; stroke-width:4; stroke-opacity:1; fill:none\" points=\"472.334,180.218 2103.87,180.218 \"/>\n",
       "<polyline clip-path=\"url(#clip312)\" style=\"stroke:#ff0000; stroke-linecap:round; stroke-linejoin:round; stroke-width:4; stroke-opacity:1; fill:none\" points=\"400.892,268.866 2175.31,268.866 \"/>\n",
       "<path clip-path=\"url(#clip310)\" d=\"M353.663 66.7163 Q347.343 66.7163 344.143 72.9547 Q340.983 79.1525 340.983 91.6293 Q340.983 104.066 344.143 110.304 Q347.343 116.502 353.663 116.502 Q360.022 116.502 363.182 110.304 Q366.382 104.066 366.382 91.6293 Q366.382 79.1525 363.182 72.9547 Q360.022 66.7163 353.663 66.7163 M353.663 60.2348 Q363.83 60.2348 369.178 68.2961 Q374.565 76.3169 374.565 91.6293 Q374.565 106.901 369.178 114.963 Q363.83 122.983 353.663 122.983 Q343.495 122.983 338.107 114.963 Q332.76 106.901 332.76 91.6293 Q332.76 76.3169 338.107 68.2961 Q343.495 60.2348 353.663 60.2348 Z\" fill=\"#0000ff\" fill-rule=\"nonzero\" fill-opacity=\"1\" /><path clip-path=\"url(#clip310)\" d=\"M388.946 111.519 L397.493 111.519 L397.493 121.809 L388.946 121.809 L388.946 111.519 Z\" fill=\"#0000ff\" fill-rule=\"nonzero\" fill-opacity=\"1\" /><path clip-path=\"url(#clip310)\" d=\"M432.817 66.7163 Q426.498 66.7163 423.298 72.9547 Q420.138 79.1525 420.138 91.6293 Q420.138 104.066 423.298 110.304 Q426.498 116.502 432.817 116.502 Q439.177 116.502 442.337 110.304 Q445.537 104.066 445.537 91.6293 Q445.537 79.1525 442.337 72.9547 Q439.177 66.7163 432.817 66.7163 M432.817 60.2348 Q442.985 60.2348 448.332 68.2961 Q453.72 76.3169 453.72 91.6293 Q453.72 106.901 448.332 114.963 Q442.985 122.983 432.817 122.983 Q422.649 122.983 417.262 114.963 Q411.915 106.901 411.915 91.6293 Q411.915 76.3169 417.262 68.2961 Q422.649 60.2348 432.817 60.2348 Z\" fill=\"#0000ff\" fill-rule=\"nonzero\" fill-opacity=\"1\" /><path clip-path=\"url(#clip310)\" d=\"M485.601 66.7163 Q479.281 66.7163 476.081 72.9547 Q472.921 79.1525 472.921 91.6293 Q472.921 104.066 476.081 110.304 Q479.281 116.502 485.601 116.502 Q491.96 116.502 495.12 110.304 Q498.32 104.066 498.32 91.6293 Q498.32 79.1525 495.12 72.9547 Q491.96 66.7163 485.601 66.7163 M485.601 60.2348 Q495.768 60.2348 501.115 68.2961 Q506.503 76.3169 506.503 91.6293 Q506.503 106.901 501.115 114.963 Q495.768 122.983 485.601 122.983 Q475.433 122.983 470.045 114.963 Q464.698 106.901 464.698 91.6293 Q464.698 76.3169 470.045 68.2961 Q475.433 60.2348 485.601 60.2348 Z\" fill=\"#0000ff\" fill-rule=\"nonzero\" fill-opacity=\"1\" /><path clip-path=\"url(#clip310)\" d=\"M522.302 114.922 L535.67 114.922 L535.67 68.7822 L521.127 71.6989 L521.127 64.2452 L535.589 61.3286 L543.772 61.3286 L543.772 114.922 L557.139 114.922 L557.139 121.809 L522.302 121.809 L522.302 114.922 Z\" fill=\"#0000ff\" fill-rule=\"nonzero\" fill-opacity=\"1\" /><path clip-path=\"url(#clip310)\" d=\"M591.167 93.0877 Q585.334 93.0877 581.972 96.2069 Q578.65 99.326 578.65 104.795 Q578.65 110.263 581.972 113.383 Q585.334 116.502 591.167 116.502 Q597 116.502 600.363 113.383 Q603.725 110.223 603.725 104.795 Q603.725 99.326 600.363 96.2069 Q597.041 93.0877 591.167 93.0877 M582.984 89.6039 Q577.718 88.3076 574.761 84.7023 Q571.844 81.097 571.844 75.9118 Q571.844 68.6607 576.989 64.4478 Q582.174 60.2348 591.167 60.2348 Q600.201 60.2348 605.345 64.4478 Q610.49 68.6607 610.49 75.9118 Q610.49 81.097 607.533 84.7023 Q604.616 88.3076 599.39 89.6039 Q605.305 90.9812 608.586 94.9916 Q611.908 99.002 611.908 104.795 Q611.908 113.585 606.52 118.284 Q601.173 122.983 591.167 122.983 Q581.161 122.983 575.774 118.284 Q570.426 113.585 570.426 104.795 Q570.426 99.002 573.748 94.9916 Q577.07 90.9812 582.984 89.6039 M579.987 76.6815 Q579.987 81.3805 582.903 84.0136 Q585.86 86.6467 591.167 86.6467 Q596.433 86.6467 599.39 84.0136 Q602.388 81.3805 602.388 76.6815 Q602.388 71.9824 599.39 69.3494 Q596.433 66.7163 591.167 66.7163 Q585.86 66.7163 582.903 69.3494 Q579.987 71.9824 579.987 76.6815 Z\" fill=\"#0000ff\" fill-rule=\"nonzero\" fill-opacity=\"1\" /><path clip-path=\"url(#clip310)\" d=\"M1984.98 66.7163 Q1978.66 66.7163 1975.46 72.9547 Q1972.3 79.1525 1972.3 91.6293 Q1972.3 104.066 1975.46 110.304 Q1978.66 116.502 1984.98 116.502 Q1991.34 116.502 1994.5 110.304 Q1997.7 104.066 1997.7 91.6293 Q1997.7 79.1525 1994.5 72.9547 Q1991.34 66.7163 1984.98 66.7163 M1984.98 60.2348 Q1995.15 60.2348 2000.49 68.2961 Q2005.88 76.3169 2005.88 91.6293 Q2005.88 106.901 2000.49 114.963 Q1995.15 122.983 1984.98 122.983 Q1974.81 122.983 1969.42 114.963 Q1964.08 106.901 1964.08 91.6293 Q1964.08 76.3169 1969.42 68.2961 Q1974.81 60.2348 1984.98 60.2348 Z\" fill=\"#0000ff\" fill-rule=\"nonzero\" fill-opacity=\"1\" /><path clip-path=\"url(#clip310)\" d=\"M2020.26 111.519 L2028.81 111.519 L2028.81 121.809 L2020.26 121.809 L2020.26 111.519 Z\" fill=\"#0000ff\" fill-rule=\"nonzero\" fill-opacity=\"1\" /><path clip-path=\"url(#clip310)\" d=\"M2071.42 89.1988 Q2077.3 90.4546 2080.58 94.4245 Q2083.9 98.3943 2083.9 104.228 Q2083.9 113.18 2077.74 118.082 Q2071.59 122.983 2060.24 122.983 Q2056.44 122.983 2052.38 122.214 Q2048.37 121.484 2044.08 119.986 L2044.08 112.086 Q2047.48 114.071 2051.53 115.084 Q2055.59 116.097 2060 116.097 Q2067.7 116.097 2071.71 113.059 Q2075.76 110.02 2075.76 104.228 Q2075.76 98.8804 2071.99 95.8828 Q2068.26 92.8446 2061.58 92.8446 L2054.53 92.8446 L2054.53 86.1201 L2061.9 86.1201 Q2067.94 86.1201 2071.14 83.7301 Q2074.34 81.2995 2074.34 76.7625 Q2074.34 72.104 2071.02 69.6329 Q2067.74 67.1214 2061.58 67.1214 Q2058.22 67.1214 2054.37 67.8505 Q2050.52 68.5797 2045.9 70.119 L2045.9 62.8274 Q2050.56 61.5311 2054.61 60.883 Q2058.7 60.2348 2062.31 60.2348 Q2071.63 60.2348 2077.05 64.4883 Q2082.48 68.7012 2082.48 75.9118 Q2082.48 80.9349 2079.61 84.4187 Q2076.73 87.862 2071.42 89.1988 Z\" fill=\"#0000ff\" fill-rule=\"nonzero\" fill-opacity=\"1\" /><path clip-path=\"url(#clip310)\" d=\"M2117.93 88.3076 Q2112.42 88.3076 2109.18 92.0749 Q2105.98 95.8423 2105.98 102.405 Q2105.98 108.927 2109.18 112.735 Q2112.42 116.502 2117.93 116.502 Q2123.44 116.502 2126.64 112.735 Q2129.88 108.927 2129.88 102.405 Q2129.88 95.8423 2126.64 92.0749 Q2123.44 88.3076 2117.93 88.3076 M2134.17 62.6654 L2134.17 70.119 Q2131.09 68.6607 2127.93 67.891 Q2124.81 67.1214 2121.74 67.1214 Q2113.63 67.1214 2109.34 72.5901 Q2105.09 78.0588 2104.48 89.1178 Q2106.87 85.5935 2110.47 83.7301 Q2114.08 81.8261 2118.41 81.8261 Q2127.53 81.8261 2132.8 87.3759 Q2138.1 92.8851 2138.1 102.405 Q2138.1 111.722 2132.59 117.353 Q2127.08 122.983 2117.93 122.983 Q2107.44 122.983 2101.89 114.963 Q2096.34 106.901 2096.34 91.6293 Q2096.34 77.2891 2103.14 68.7822 Q2109.95 60.2348 2121.41 60.2348 Q2124.49 60.2348 2127.61 60.8425 Q2130.77 61.4501 2134.17 62.6654 Z\" fill=\"#0000ff\" fill-rule=\"nonzero\" fill-opacity=\"1\" /><path clip-path=\"url(#clip310)\" d=\"M2169.7 93.0877 Q2163.87 93.0877 2160.5 96.2069 Q2157.18 99.326 2157.18 104.795 Q2157.18 110.263 2160.5 113.383 Q2163.87 116.502 2169.7 116.502 Q2175.53 116.502 2178.89 113.383 Q2182.26 110.223 2182.26 104.795 Q2182.26 99.326 2178.89 96.2069 Q2175.57 93.0877 2169.7 93.0877 M2161.52 89.6039 Q2156.25 88.3076 2153.29 84.7023 Q2150.38 81.097 2150.38 75.9118 Q2150.38 68.6607 2155.52 64.4478 Q2160.71 60.2348 2169.7 60.2348 Q2178.73 60.2348 2183.88 64.4478 Q2189.02 68.6607 2189.02 75.9118 Q2189.02 81.097 2186.06 84.7023 Q2183.15 88.3076 2177.92 89.6039 Q2183.84 90.9812 2187.12 94.9916 Q2190.44 99.002 2190.44 104.795 Q2190.44 113.585 2185.05 118.284 Q2179.7 122.983 2169.7 122.983 Q2159.69 122.983 2154.31 118.284 Q2148.96 113.585 2148.96 104.795 Q2148.96 99.002 2152.28 94.9916 Q2155.6 90.9812 2161.52 89.6039 M2158.52 76.6815 Q2158.52 81.3805 2161.44 84.0136 Q2164.39 86.6467 2169.7 86.6467 Q2174.97 86.6467 2177.92 84.0136 Q2180.92 81.3805 2180.92 76.6815 Q2180.92 71.9824 2177.92 69.3494 Q2174.97 66.7163 2169.7 66.7163 Q2164.39 66.7163 2161.44 69.3494 Q2158.52 71.9824 2158.52 76.6815 Z\" fill=\"#0000ff\" fill-rule=\"nonzero\" fill-opacity=\"1\" /><path clip-path=\"url(#clip310)\" d=\"M2223.5 88.3076 Q2217.99 88.3076 2214.75 92.0749 Q2211.54 95.8423 2211.54 102.405 Q2211.54 108.927 2214.75 112.735 Q2217.99 116.502 2223.5 116.502 Q2229 116.502 2232.2 112.735 Q2235.45 108.927 2235.45 102.405 Q2235.45 95.8423 2232.2 92.0749 Q2229 88.3076 2223.5 88.3076 M2239.74 62.6654 L2239.74 70.119 Q2236.66 68.6607 2233.5 67.891 Q2230.38 67.1214 2227.3 67.1214 Q2219.2 67.1214 2214.91 72.5901 Q2210.65 78.0588 2210.05 89.1178 Q2212.44 85.5935 2216.04 83.7301 Q2219.65 81.8261 2223.98 81.8261 Q2233.1 81.8261 2238.36 87.3759 Q2243.67 92.8851 2243.67 102.405 Q2243.67 111.722 2238.16 117.353 Q2232.65 122.983 2223.5 122.983 Q2213 122.983 2207.45 114.963 Q2201.9 106.901 2201.9 91.6293 Q2201.9 77.2891 2208.71 68.7822 Q2215.51 60.2348 2226.98 60.2348 Q2230.06 60.2348 2233.18 60.8425 Q2236.34 61.4501 2239.74 62.6654 Z\" fill=\"#0000ff\" fill-rule=\"nonzero\" fill-opacity=\"1\" /><path clip-path=\"url(#clip310)\" d=\"M246.127 361.708 L267.961 361.708 L267.961 368.352 L246.127 368.352 L246.127 361.708 Z\" fill=\"#ff0000\" fill-rule=\"nonzero\" fill-opacity=\"1\" /><path clip-path=\"url(#clip310)\" d=\"M298.384 332.663 Q292.064 332.663 288.864 338.901 Q285.704 345.099 285.704 357.576 Q285.704 370.012 288.864 376.251 Q292.064 382.449 298.384 382.449 Q304.744 382.449 307.903 376.251 Q311.104 370.012 311.104 357.576 Q311.104 345.099 307.903 338.901 Q304.744 332.663 298.384 332.663 M298.384 326.182 Q308.552 326.182 313.899 334.243 Q319.286 342.264 319.286 357.576 Q319.286 372.848 313.899 380.909 Q308.552 388.93 298.384 388.93 Q288.216 388.93 282.828 380.909 Q277.481 372.848 277.481 357.576 Q277.481 342.264 282.828 334.243 Q288.216 326.182 298.384 326.182 Z\" fill=\"#ff0000\" fill-rule=\"nonzero\" fill-opacity=\"1\" /><path clip-path=\"url(#clip310)\" d=\"M333.667 377.466 L342.215 377.466 L342.215 387.755 L333.667 387.755 L333.667 377.466 Z\" fill=\"#ff0000\" fill-rule=\"nonzero\" fill-opacity=\"1\" /><path clip-path=\"url(#clip310)\" d=\"M377.538 332.663 Q371.219 332.663 368.019 338.901 Q364.859 345.099 364.859 357.576 Q364.859 370.012 368.019 376.251 Q371.219 382.449 377.538 382.449 Q383.898 382.449 387.058 376.251 Q390.258 370.012 390.258 357.576 Q390.258 345.099 387.058 338.901 Q383.898 332.663 377.538 332.663 M377.538 326.182 Q387.706 326.182 393.053 334.243 Q398.441 342.264 398.441 357.576 Q398.441 372.848 393.053 380.909 Q387.706 388.93 377.538 388.93 Q367.371 388.93 361.983 380.909 Q356.636 372.848 356.636 357.576 Q356.636 342.264 361.983 334.243 Q367.371 326.182 377.538 326.182 Z\" fill=\"#ff0000\" fill-rule=\"nonzero\" fill-opacity=\"1\" /><path clip-path=\"url(#clip310)\" d=\"M414.24 380.869 L427.608 380.869 L427.608 334.729 L413.065 337.646 L413.065 330.192 L427.527 327.275 L435.709 327.275 L435.709 380.869 L449.077 380.869 L449.077 387.755 L414.24 387.755 L414.24 380.869 Z\" fill=\"#ff0000\" fill-rule=\"nonzero\" fill-opacity=\"1\" /><path clip-path=\"url(#clip310)\" d=\"M488.088 334.405 L467.428 366.691 L488.088 366.691 L488.088 334.405 M485.941 327.275 L496.23 327.275 L496.23 366.691 L504.858 366.691 L504.858 373.496 L496.23 373.496 L496.23 387.755 L488.088 387.755 L488.088 373.496 L460.785 373.496 L460.785 365.597 L485.941 327.275 Z\" fill=\"#ff0000\" fill-rule=\"nonzero\" fill-opacity=\"1\" /><path clip-path=\"url(#clip310)\" d=\"M543.18 355.146 Q549.054 356.401 552.335 360.371 Q555.657 364.341 555.657 370.174 Q555.657 379.127 549.499 384.029 Q543.342 388.93 531.999 388.93 Q528.192 388.93 524.141 388.16 Q520.13 387.431 515.836 385.932 L515.836 378.033 Q519.239 380.018 523.29 381.031 Q527.341 382.044 531.756 382.044 Q539.453 382.044 543.463 379.005 Q547.514 375.967 547.514 370.174 Q547.514 364.827 543.747 361.83 Q540.02 358.791 533.336 358.791 L526.288 358.791 L526.288 352.067 L533.66 352.067 Q539.696 352.067 542.896 349.677 Q546.097 347.246 546.097 342.709 Q546.097 338.051 542.775 335.58 Q539.494 333.068 533.336 333.068 Q529.974 333.068 526.126 333.797 Q522.277 334.527 517.659 336.066 L517.659 328.774 Q522.318 327.478 526.369 326.83 Q530.46 326.182 534.065 326.182 Q543.382 326.182 548.811 330.435 Q554.239 334.648 554.239 341.859 Q554.239 346.882 551.363 350.366 Q548.487 353.809 543.18 355.146 Z\" fill=\"#ff0000\" fill-rule=\"nonzero\" fill-opacity=\"1\" /><path clip-path=\"url(#clip310)\" d=\"M2056.42 332.663 Q2050.1 332.663 2046.9 338.901 Q2043.74 345.099 2043.74 357.576 Q2043.74 370.012 2046.9 376.251 Q2050.1 382.449 2056.42 382.449 Q2062.78 382.449 2065.94 376.251 Q2069.14 370.012 2069.14 357.576 Q2069.14 345.099 2065.94 338.901 Q2062.78 332.663 2056.42 332.663 M2056.42 326.182 Q2066.59 326.182 2071.93 334.243 Q2077.32 342.264 2077.32 357.576 Q2077.32 372.848 2071.93 380.909 Q2066.59 388.93 2056.42 388.93 Q2046.25 388.93 2040.86 380.909 Q2035.52 372.848 2035.52 357.576 Q2035.52 342.264 2040.86 334.243 Q2046.25 326.182 2056.42 326.182 Z\" fill=\"#ff0000\" fill-rule=\"nonzero\" fill-opacity=\"1\" /><path clip-path=\"url(#clip310)\" d=\"M2091.7 377.466 L2100.25 377.466 L2100.25 387.755 L2091.7 387.755 L2091.7 377.466 Z\" fill=\"#ff0000\" fill-rule=\"nonzero\" fill-opacity=\"1\" /><path clip-path=\"url(#clip310)\" d=\"M2142.87 355.146 Q2148.74 356.401 2152.02 360.371 Q2155.34 364.341 2155.34 370.174 Q2155.34 379.127 2149.19 384.029 Q2143.03 388.93 2131.69 388.93 Q2127.88 388.93 2123.83 388.16 Q2119.82 387.431 2115.52 385.932 L2115.52 378.033 Q2118.93 380.018 2122.98 381.031 Q2127.03 382.044 2131.44 382.044 Q2139.14 382.044 2143.15 379.005 Q2147.2 375.967 2147.2 370.174 Q2147.2 364.827 2143.43 361.83 Q2139.71 358.791 2133.02 358.791 L2125.97 358.791 L2125.97 352.067 L2133.35 352.067 Q2139.38 352.067 2142.58 349.677 Q2145.78 347.246 2145.78 342.709 Q2145.78 338.051 2142.46 335.58 Q2139.18 333.068 2133.02 333.068 Q2129.66 333.068 2125.81 333.797 Q2121.96 334.527 2117.35 336.066 L2117.35 328.774 Q2122 327.478 2126.05 326.83 Q2130.15 326.182 2133.75 326.182 Q2143.07 326.182 2148.5 330.435 Q2153.92 334.648 2153.92 341.859 Q2153.92 346.882 2151.05 350.366 Q2148.17 353.809 2142.87 355.146 Z\" fill=\"#ff0000\" fill-rule=\"nonzero\" fill-opacity=\"1\" /><path clip-path=\"url(#clip310)\" d=\"M2188.36 359.034 Q2182.52 359.034 2179.16 362.154 Q2175.84 365.273 2175.84 370.742 Q2175.84 376.21 2179.16 379.33 Q2182.52 382.449 2188.36 382.449 Q2194.19 382.449 2197.55 379.33 Q2200.92 376.17 2200.92 370.742 Q2200.92 365.273 2197.55 362.154 Q2194.23 359.034 2188.36 359.034 M2180.17 355.551 Q2174.91 354.254 2171.95 350.649 Q2169.03 347.044 2169.03 341.859 Q2169.03 334.608 2174.18 330.395 Q2179.36 326.182 2188.36 326.182 Q2197.39 326.182 2202.54 330.395 Q2207.68 334.608 2207.68 341.859 Q2207.68 347.044 2204.72 350.649 Q2201.81 354.254 2196.58 355.551 Q2202.5 356.928 2205.78 360.938 Q2209.1 364.949 2209.1 370.742 Q2209.1 379.532 2203.71 384.231 Q2198.36 388.93 2188.36 388.93 Q2178.35 388.93 2172.96 384.231 Q2167.62 379.532 2167.62 370.742 Q2167.62 364.949 2170.94 360.938 Q2174.26 356.928 2180.17 355.551 M2177.18 342.628 Q2177.18 347.327 2180.09 349.96 Q2183.05 352.594 2188.36 352.594 Q2193.62 352.594 2196.58 349.96 Q2199.58 347.327 2199.58 342.628 Q2199.58 337.929 2196.58 335.296 Q2193.62 332.663 2188.36 332.663 Q2183.05 332.663 2180.09 335.296 Q2177.18 337.929 2177.18 342.628 Z\" fill=\"#ff0000\" fill-rule=\"nonzero\" fill-opacity=\"1\" /><path clip-path=\"url(#clip310)\" d=\"M2246.12 334.405 L2225.46 366.691 L2246.12 366.691 L2246.12 334.405 M2243.98 327.275 L2254.27 327.275 L2254.27 366.691 L2262.89 366.691 L2262.89 373.496 L2254.27 373.496 L2254.27 387.755 L2246.12 387.755 L2246.12 373.496 L2218.82 373.496 L2218.82 365.597 L2243.98 327.275 Z\" fill=\"#ff0000\" fill-rule=\"nonzero\" fill-opacity=\"1\" /><path clip-path=\"url(#clip310)\" d=\"M2294.94 354.254 Q2289.43 354.254 2286.19 358.022 Q2282.99 361.789 2282.99 368.352 Q2282.99 374.874 2286.19 378.681 Q2289.43 382.449 2294.94 382.449 Q2300.45 382.449 2303.65 378.681 Q2306.89 374.874 2306.89 368.352 Q2306.89 361.789 2303.65 358.022 Q2300.45 354.254 2294.94 354.254 M2311.18 328.612 L2311.18 336.066 Q2308.1 334.608 2304.94 333.838 Q2301.82 333.068 2298.74 333.068 Q2290.64 333.068 2286.35 338.537 Q2282.1 344.006 2281.49 355.065 Q2283.88 351.54 2287.48 349.677 Q2291.09 347.773 2295.42 347.773 Q2304.54 347.773 2309.8 353.323 Q2315.11 358.832 2315.11 368.352 Q2315.11 377.669 2309.6 383.299 Q2304.09 388.93 2294.94 388.93 Q2284.45 388.93 2278.9 380.909 Q2273.35 372.848 2273.35 357.576 Q2273.35 343.236 2280.15 334.729 Q2286.96 326.182 2298.42 326.182 Q2301.5 326.182 2304.62 326.789 Q2307.78 327.397 2311.18 328.612 Z\" fill=\"#ff0000\" fill-rule=\"nonzero\" fill-opacity=\"1\" /></svg>\n"
      ]
     },
     "execution_count": 36,
     "metadata": {},
     "output_type": "execute_result"
    }
   ],
   "source": [
    "x = [res.Htest.ConfidenceInterval[1],res.bound[1],res.bound[2],res.Htest.ConfidenceInterval[2]]\n",
    "tol = (x[4]-x[1])/10\n",
    "y =[-0.01,0.01,0.01,-0.01]\n",
    "symbols =[:vline,:vline,:vline,:vline]\n",
    "\n",
    "scatter(x, y, markersize=10,\n",
    "    xlim=(x[1]-tol,x[4]+tol),\n",
    "    ylim=(-0.04,0.04),\n",
    "    markershape=symbols,\n",
    "    markerstrokewidth=4,\n",
    "    label=\"\",\n",
    "    c=[:red,:blue,:blue,:red],\n",
    "    showaxis=:x,\n",
    "    size =(600,120))\n",
    "plot!(x[2:3],y[2:3],label=\"\",c=:blue)\n",
    "plot!(x[1:3:4],y[1:3:4],label=\"\",c=:red)\n",
    "annotate!(x[2], 0.03, string(round(x[2],digits=4)),:blue)\n",
    "annotate!(x[3], 0.03, string(round(x[3],digits=4)),:blue)\n",
    "annotate!(x[1], -0.03, string(round(x[1],digits=4)),:red)\n",
    "annotate!(x[4], -0.03, string(round(x[4],digits=4)),:red)\n"
   ]
  },
  {
   "cell_type": "code",
   "execution_count": 37,
   "metadata": {},
   "outputs": [
    {
     "name": "stdout",
     "output_type": "stream",
     "text": [
      "Results: \n",
      "  Null: [1.0, 2.0]\n",
      "  Bound: [9.2963, 10.5299]\n",
      "  Hausdorff based test: \n",
      "    Test Stat: 1285.5883\n",
      "    Critical Value: 5.9938\n",
      "    Confidence Interval: [9.2566, 10.5697]\n",
      "  directed Hausdorff test: \n",
      "    Test Stat: 1250.3817\n",
      "    Critical Value: 4.9193\n",
      "    Confidence Interval: [9.2637, 10.5626]\n"
     ]
    }
   ],
   "source": [
    "show(EY(yl,yu,[1,2]))"
   ]
  },
  {
   "cell_type": "code",
   "execution_count": 38,
   "metadata": {},
   "outputs": [
    {
     "name": "stdout",
     "output_type": "stream",
     "text": [
      "Results: \n",
      "  Null: [9.2963, 10.5299]\n",
      "  Bound: [9.2963, 10.5299]\n",
      "  Hausdorff based test: \n",
      "    Test Stat: 0.0051\n",
      "    Critical Value: 5.9938\n",
      "    Confidence Interval: [9.2566, 10.5697]\n",
      "  directed Hausdorff test: \n",
      "    Test Stat: 0.0051\n",
      "    Critical Value: 4.9193\n",
      "    Confidence Interval: [9.2637, 10.5626]\n"
     ]
    }
   ],
   "source": [
    "show(EY(yl,yu,[9.2963, 10.5299]))"
   ]
  },
  {
   "cell_type": "code",
   "execution_count": 39,
   "metadata": {},
   "outputs": [
    {
     "name": "stdout",
     "output_type": "stream",
     "text": [
      "Options:\n",
      "  Number of MC iterations: 2000\n",
      "  Seed: 15217\n",
      "  Random Number Generator: Random.MersenneTwister(0x8e1986c77bf649e30e3623d14baf3374, (0, 341133144, 0, 0, 341131890, 930))\n",
      "  Confidence level: 0.95\n"
     ]
    }
   ],
   "source": [
    "show(default_options)"
   ]
  },
  {
   "cell_type": "code",
   "execution_count": 40,
   "metadata": {},
   "outputs": [
    {
     "ename": "LoadError",
     "evalue": "MethodError: \u001b[0mCannot `convert` an object of type \n\u001b[0m  \u001b[92mFloat64\u001b[39m\u001b[0m to an object of type \n\u001b[0m  \u001b[91mVector{<:Real}\u001b[39m\n\n\u001b[0mClosest candidates are:\n\u001b[0m  convert(::Type{T}, \u001b[91m::AbstractArray\u001b[39m) where T<:Array\n\u001b[0m\u001b[90m   @\u001b[39m \u001b[90mBase\u001b[39m \u001b[90m\u001b[4marray.jl:613\u001b[24m\u001b[39m\n\u001b[0m  convert(::Type{T}, \u001b[91m::LinearAlgebra.Factorization\u001b[39m) where T<:AbstractArray\n\u001b[0m\u001b[90m   @\u001b[39m \u001b[36mLinearAlgebra\u001b[39m \u001b[90mC:\\Users\\arie\\AppData\\Local\\Programs\\Julia-1.9.2\\share\\julia\\stdlib\\v1.9\\LinearAlgebra\\src\\\u001b[39m\u001b[90m\u001b[4mfactorization.jl:59\u001b[24m\u001b[39m\n\u001b[0m  convert(::Type{T}, \u001b[91m::T\u001b[39m) where T<:AbstractArray\n\u001b[0m\u001b[90m   @\u001b[39m \u001b[90mBase\u001b[39m \u001b[90m\u001b[4mabstractarray.jl:16\u001b[24m\u001b[39m\n\u001b[0m  ...\n",
     "output_type": "error",
     "traceback": [
      "MethodError: \u001b[0mCannot `convert` an object of type \n\u001b[0m  \u001b[92mFloat64\u001b[39m\u001b[0m to an object of type \n\u001b[0m  \u001b[91mVector{<:Real}\u001b[39m\n\n\u001b[0mClosest candidates are:\n\u001b[0m  convert(::Type{T}, \u001b[91m::AbstractArray\u001b[39m) where T<:Array\n\u001b[0m\u001b[90m   @\u001b[39m \u001b[90mBase\u001b[39m \u001b[90m\u001b[4marray.jl:613\u001b[24m\u001b[39m\n\u001b[0m  convert(::Type{T}, \u001b[91m::LinearAlgebra.Factorization\u001b[39m) where T<:AbstractArray\n\u001b[0m\u001b[90m   @\u001b[39m \u001b[36mLinearAlgebra\u001b[39m \u001b[90mC:\\Users\\arie\\AppData\\Local\\Programs\\Julia-1.9.2\\share\\julia\\stdlib\\v1.9\\LinearAlgebra\\src\\\u001b[39m\u001b[90m\u001b[4mfactorization.jl:59\u001b[24m\u001b[39m\n\u001b[0m  convert(::Type{T}, \u001b[91m::T\u001b[39m) where T<:AbstractArray\n\u001b[0m\u001b[90m   @\u001b[39m \u001b[90mBase\u001b[39m \u001b[90m\u001b[4mabstractarray.jl:16\u001b[24m\u001b[39m\n\u001b[0m  ...\n",
      "",
      "Stacktrace:",
      " [1] convert(#unused#::Type{Union{Nothing, Vector{<:Real}}}, x::Float64)",
      "   @ Base .\\some.jl:36",
      " [2] TestResults(ConfidenceInterval::Float64, criticalVal::Vector{Float64}, testStat::Float64)",
      "   @ Main.setBLP C:\\Users\\arie\\OneDrive - University of Pittsburgh\\Documents\\Bounds.jl\\Bounds.jl\\src\\setBLP.jl:40",
      " [3] EYboot(yl::Vector{Float64}, yu::Vector{Float64}, H0::Vector{Int64}, options::Options)",
      "   @ Main.setBLP C:\\Users\\arie\\OneDrive - University of Pittsburgh\\Documents\\Bounds.jl\\Bounds.jl\\src\\setBLP.jl:132",
      " [4] #EY#19",
      "   @ C:\\Users\\arie\\OneDrive - University of Pittsburgh\\Documents\\Bounds.jl\\Bounds.jl\\src\\setBLP.jl:96 [inlined]",
      " [5] top-level scope",
      "   @ In[40]:1"
     ]
    }
   ],
   "source": [
    "show(EY(yl,yu,[1,2];options=default_options,method=\"boot\"))"
   ]
  },
  {
   "cell_type": "code",
   "execution_count": 41,
   "metadata": {},
   "outputs": [
    {
     "data": {
      "text/plain": [
       "Options(2000, 15217, Random.MersenneTwister(0x8e1986c77bf649e30e3623d14baf3374, (0, 397989504, 0, 0, 397988250, 250)), 0.95)"
      ]
     },
     "execution_count": 41,
     "metadata": {},
     "output_type": "execute_result"
    }
   ],
   "source": [
    "default_options"
   ]
  },
  {
   "cell_type": "code",
   "execution_count": null,
   "metadata": {},
   "outputs": [],
   "source": []
  }
 ],
 "metadata": {
  "@webio": {
   "lastCommId": null,
   "lastKernelId": null
  },
  "kernelspec": {
   "display_name": "Julia 1.9.2",
   "language": "julia",
   "name": "julia-1.9"
  },
  "language_info": {
   "file_extension": ".jl",
   "mimetype": "application/julia",
   "name": "julia",
   "version": "1.9.2"
  }
 },
 "nbformat": 4,
 "nbformat_minor": 4
}
