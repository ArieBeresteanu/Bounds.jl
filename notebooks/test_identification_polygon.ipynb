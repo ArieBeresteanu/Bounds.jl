{
 "cells": [
  {
   "cell_type": "code",
   "execution_count": 1,
   "id": "90b57dea",
   "metadata": {},
   "outputs": [],
   "source": [
    "using CSV, DataFrames, Plots, Statistics"
   ]
  },
  {
   "cell_type": "code",
   "execution_count": 2,
   "id": "db729849",
   "metadata": {},
   "outputs": [],
   "source": [
    "cps = DataFrame(CSV.File(\"c:\\\\data\\\\Bounds\\\\cps.csv\")) # <-change this to the right directory\n",
    "\n",
    "## Cleaning zero wage\n",
    "\n",
    "cps = cps[cps.wage .> 0, :]\n",
    "first(cps,5)"
   ]
  },
  {
   "cell_type": "code",
   "execution_count": 3,
   "id": "6adf7ca9",
   "metadata": {},
   "outputs": [],
   "source": [
    "# Numerical value for education\n",
    "\n",
    "#1.Creating a dictionary\n",
    "\n",
    "educ_dict = Dict( \n",
    "    \"grade 11\" => 11, \n",
    "    \"some college but no degree\" => 13, \n",
    "    \"associate's degree, academic program\" => 14,\n",
    "    \"grade 10\" => 10, \n",
    "    \"grades 7 or 8\" => 8, \n",
    "    \"grades 1, 2, 3, or 4\" => 4, \n",
    "    \"associate's degree, occupational/vocational program\" => 14, \n",
    "    \"high school diploma or equivalent\" => 12, \n",
    "    \"grade 9\" => 9, \n",
    "    \"none or preschool\" => 0, \n",
    "    \"doctorate degree\" => 21,\n",
    "    \"bachelor's degree\" => 16, \n",
    "    \"master's degree\" => 14, \n",
    "    \"grades 5 or 6\" => 6, \n",
    "    \"professional school degree\" => 14, \n",
    "    \"12th grade, no diploma\" => 12\n",
    "    );"
   ]
  },
  {
   "cell_type": "code",
   "execution_count": 4,
   "id": "c4f9adda",
   "metadata": {},
   "outputs": [],
   "source": [
    "#2. transforming cps.educ\n",
    "f(x) = educ_dict[x]\n",
    "cps.educ_num = f.(cps.educ)\n",
    "\n",
    "#3. log of wage\n",
    "cps.log_wage = log.(cps.wage)\n",
    "first(cps,3)"
   ]
  },
  {
   "cell_type": "code",
   "execution_count": 5,
   "id": "cf29efe5",
   "metadata": {},
   "outputs": [],
   "source": [
    "Nobs, c = size(cps)\n",
    "print(\"The original data contains \", Nobs, \" observations and \",c, \" columns.\")"
   ]
  },
  {
   "cell_type": "code",
   "execution_count": 6,
   "id": "107b9d0c",
   "metadata": {},
   "outputs": [],
   "source": [
    "wage_quantiles = quantile(cps[!,:wage],[0.0, 0.1,0.2,0.3,0.4,0.5,0.6,0.7,0.8,0.9,1.0], sorted=false);\n",
    "#wage_quantiles[1] +=-1\n",
    "wage_quantiles[end] +=1"
   ]
  },
  {
   "cell_type": "code",
   "execution_count": 7,
   "id": "67aa939c",
   "metadata": {},
   "outputs": [],
   "source": [
    "lower(x) = wage_quantiles[sum(wage_quantiles .<=x)]\n",
    "upper(x) = wage_quantiles[sum(wage_quantiles .<=x)+1]\n",
    "\n",
    "cps.wage_lower = lower.(cps.wage)\n",
    "cps.wage_upper = upper.(cps.wage)\n",
    "\n",
    "cps.logwage_lower = log.(cps.wage_lower)\n",
    "cps.logwage_upper = log.(cps.wage_upper)\n",
    "\n",
    "first(cps,3)"
   ]
  },
  {
   "cell_type": "code",
   "execution_count": 8,
   "id": "9ccb0b7a",
   "metadata": {},
   "outputs": [],
   "source": [
    "df = cps[1:20,:]"
   ]
  },
  {
   "cell_type": "code",
   "execution_count": 9,
   "id": "f007a9cd",
   "metadata": {},
   "outputs": [],
   "source": [
    "describe(df)"
   ]
  },
  {
   "cell_type": "code",
   "execution_count": 10,
   "id": "d7de4c24",
   "metadata": {},
   "outputs": [],
   "source": [
    "include(\"C:\\\\Users\\\\arie\\\\OneDrive - University of Pittsburgh\\\\Documents\\\\Bounds.jl\\\\Bounds.jl\\\\src\\\\setBLP.jl\")"
   ]
  },
  {
   "cell_type": "code",
   "execution_count": 11,
   "id": "548f63db",
   "metadata": {},
   "outputs": [],
   "source": [
    "using Main.setBLP"
   ]
  },
  {
   "cell_type": "code",
   "execution_count": 12,
   "id": "2087d10f",
   "metadata": {},
   "outputs": [],
   "source": [
    "x = df[:,:age];\n",
    "yl = df[:,:logwage_lower];\n",
    "yu = df[:,:logwage_upper];\n",
    "xyl = x.*yl;\n",
    "xyu = x.*yu;"
   ]
  },
  {
   "cell_type": "code",
   "execution_count": 13,
   "id": "9df29526",
   "metadata": {},
   "outputs": [],
   "source": [
    "vl = Vertex([yl[1],xyl[1]])\n",
    "vu = Vertex([yu[1],xyu[1]])\n",
    "P = Polygon([vl,vu])\n",
    "sortPolygon!(P)\n",
    "\n",
    "for j = 2:20\n",
    "    vl = Vertex([yl[j],xyl[j]])\n",
    "    vu = Vertex([yu[j],xyu[j]])\n",
    "    P0 = Polygon([vl,vu])\n",
    "    sortPolygon!(P0)\n",
    "    P +=P0\n",
    "    sortPolygon!(P)\n",
    "end"
   ]
  },
  {
   "cell_type": "code",
   "execution_count": 14,
   "id": "8466f92c",
   "metadata": {},
   "outputs": [],
   "source": [
    "scatterPolygon(P)"
   ]
  },
  {
   "cell_type": "code",
   "execution_count": 15,
   "id": "e462d43c",
   "metadata": {},
   "outputs": [],
   "source": [
    "plotPolygon(P)"
   ]
  },
  {
   "cell_type": "code",
   "execution_count": 16,
   "id": "a07a781f",
   "metadata": {},
   "outputs": [],
   "source": [
    "P"
   ]
  },
  {
   "cell_type": "code",
   "execution_count": null,
   "id": "e358ea16",
   "metadata": {},
   "outputs": [],
   "source": []
  }
 ],
 "metadata": {
  "kernelspec": {
   "display_name": "Julia 1.9.2",
   "language": "julia",
   "name": "julia-1.9"
  },
  "language_info": {
   "file_extension": ".jl",
   "mimetype": "application/julia",
   "name": "julia",
   "version": "1.9.2"
  }
 },
 "nbformat": 4,
 "nbformat_minor": 5
}
