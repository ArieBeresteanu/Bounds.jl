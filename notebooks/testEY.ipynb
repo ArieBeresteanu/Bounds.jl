{
 "cells": [
  {
   "cell_type": "code",
   "execution_count": 1,
   "metadata": {},
   "outputs": [],
   "source": [
    "using CSV, DataFrames, Random, HTTP, Distributions"
   ]
  },
  {
   "cell_type": "code",
   "execution_count": 2,
   "metadata": {},
   "outputs": [
    {
     "data": {
      "text/html": [
       "<div class=\"data-frame\"><p>3 rows × 3 columns</p><table class=\"data-frame\"><thead><tr><th></th><th>yl</th><th>yu</th><th>edu</th></tr><tr><th></th><th title=\"Float64\">Float64</th><th title=\"Float64\">Float64</th><th title=\"Int64\">Int64</th></tr></thead><tbody><tr><th>1</th><td>4.0</td><td>4.0969</td><td>28</td></tr><tr><th>2</th><td>4.5441</td><td>4.699</td><td>28</td></tr><tr><th>3</th><td>4.1761</td><td>4.301</td><td>34</td></tr></tbody></table></div>"
      ],
      "text/latex": [
       "\\begin{tabular}{r|ccc}\n",
       "\t& yl & yu & edu\\\\\n",
       "\t\\hline\n",
       "\t& Float64 & Float64 & Int64\\\\\n",
       "\t\\hline\n",
       "\t1 & 4.0 & 4.0969 & 28 \\\\\n",
       "\t2 & 4.5441 & 4.699 & 28 \\\\\n",
       "\t3 & 4.1761 & 4.301 & 34 \\\\\n",
       "\\end{tabular}\n"
      ],
      "text/plain": [
       "\u001b[1m3×3 DataFrame\u001b[0m\n",
       "\u001b[1m Row \u001b[0m│\u001b[1m yl      \u001b[0m\u001b[1m yu      \u001b[0m\u001b[1m edu   \u001b[0m\n",
       "\u001b[1m     \u001b[0m│\u001b[90m Float64 \u001b[0m\u001b[90m Float64 \u001b[0m\u001b[90m Int64 \u001b[0m\n",
       "─────┼─────────────────────────\n",
       "   1 │  4.0      4.0969     28\n",
       "   2 │  4.5441   4.699      28\n",
       "   3 │  4.1761   4.301      34"
      ]
     },
     "execution_count": 2,
     "metadata": {},
     "output_type": "execute_result"
    }
   ],
   "source": [
    "url = \"https://raw.githubusercontent.com/ArieBeresteanu/Bounds.jl/main/Fortran/Chtdata.csv\"\n",
    "\n",
    "http_response = HTTP.get(url)\n",
    "file = CSV.File(http_response.body,header=false)\n",
    "\n",
    "cht = DataFrame(file)\n",
    "\n",
    "rename!(cht, :Column1 => :yl, :Column2 => :yu, :Column3 => :edu)\n",
    "first(cht,3)"
   ]
  },
  {
   "cell_type": "code",
   "execution_count": 3,
   "metadata": {},
   "outputs": [
    {
     "data": {
      "text/plain": [
       "2-element Vector{Float64}:\n",
       " 4.434663145221974\n",
       " 4.967426358164033"
      ]
     },
     "execution_count": 3,
     "metadata": {},
     "output_type": "execute_result"
    }
   ],
   "source": [
    "s = describe(cht, :mean, cols=[:yl,:yu])\n",
    "H0 = [s[1,2], s[2,2]]"
   ]
  },
  {
   "cell_type": "code",
   "execution_count": 10,
   "metadata": {},
   "outputs": [
    {
     "data": {
      "text/plain": [
       "13290"
      ]
     },
     "execution_count": 10,
     "metadata": {},
     "output_type": "execute_result"
    }
   ],
   "source": [
    "Nobs = size(cht)[1]"
   ]
  },
  {
   "cell_type": "code",
   "execution_count": 13,
   "metadata": {},
   "outputs": [
    {
     "data": {
      "text/plain": [
       "MersenneTwister(15217)"
      ]
     },
     "execution_count": 13,
     "metadata": {},
     "output_type": "execute_result"
    }
   ],
   "source": [
    "rng = setBLP.default_options.rng"
   ]
  },
  {
   "cell_type": "code",
   "execution_count": 4,
   "metadata": {},
   "outputs": [
    {
     "data": {
      "text/plain": [
       "Main.setBLP"
      ]
     },
     "execution_count": 4,
     "metadata": {},
     "output_type": "execute_result"
    }
   ],
   "source": [
    "include(\"C:\\\\Users\\\\The Group Leader\\\\Notebooks\\\\Research\\\\Bounds.jl-1\\\\src\\\\setBLP.jl\")"
   ]
  },
  {
   "cell_type": "code",
   "execution_count": 41,
   "metadata": {},
   "outputs": [],
   "source": [
    "N = [100,200,500,1000,2000]\n",
    "\n",
    "MC = 25000\n",
    "Rej_H = zeros(length(N))\n",
    "Rej_dH = zeros(length(N))\n",
    "\n",
    "for j=1:length(N)\n",
    "    n=N[j]\n",
    "    r_H, r_dH = 0,0\n",
    "    for i=1:MC\n",
    "        indx = rand(rng, 1:Nobs,n);\n",
    "        res = setBLP.EY(cht[indx,:yl],cht[indx,:yu],H0)\n",
    "        r_H += (res.Htest.testStat > res.Htest.criticalVal)\n",
    "        r_dH += (res.dHtest.testStat > res.dHtest.criticalVal)\n",
    "    end\n",
    "    Rej_H[j] = r_H/MC\n",
    "    Rej_dH[j] = r_dH/MC\n",
    "end"
   ]
  },
  {
   "cell_type": "code",
   "execution_count": 43,
   "metadata": {},
   "outputs": [
    {
     "data": {
      "text/plain": [
       "5×3 Matrix{Float64}:\n",
       "  100.0  0.04188  0.06012\n",
       "  200.0  0.04644  0.05828\n",
       "  500.0  0.05072  0.05656\n",
       " 1000.0  0.05136  0.05544\n",
       " 2000.0  0.05064  0.05436"
      ]
     },
     "execution_count": 43,
     "metadata": {},
     "output_type": "execute_result"
    }
   ],
   "source": [
    "[N Rej_H Rej_dH]"
   ]
  },
  {
   "cell_type": "code",
   "execution_count": null,
   "metadata": {},
   "outputs": [],
   "source": []
  }
 ],
 "metadata": {
  "@webio": {
   "lastCommId": null,
   "lastKernelId": null
  },
  "kernelspec": {
   "display_name": "Julia 1.7.3",
   "language": "julia",
   "name": "julia-1.7"
  },
  "language_info": {
   "file_extension": ".jl",
   "mimetype": "application/julia",
   "name": "julia",
   "version": "1.7.3"
  }
 },
 "nbformat": 4,
 "nbformat_minor": 4
}
