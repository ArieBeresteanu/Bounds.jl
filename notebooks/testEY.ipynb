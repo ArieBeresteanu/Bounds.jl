{
 "cells": [
  {
   "cell_type": "code",
   "execution_count": 1,
   "metadata": {},
   "outputs": [],
   "source": [
    "using CSV, DataFrames, Statistics, HTTP"
   ]
  },
  {
   "cell_type": "code",
   "execution_count": 5,
   "metadata": {},
   "outputs": [
    {
     "data": {
      "text/html": [
       "<div class=\"data-frame\"><p>3 rows × 3 columns</p><table class=\"data-frame\"><thead><tr><th></th><th>yl</th><th>yu</th><th>edu</th></tr><tr><th></th><th title=\"Float64\">Float64</th><th title=\"Float64\">Float64</th><th title=\"Int64\">Int64</th></tr></thead><tbody><tr><th>1</th><td>4.0</td><td>4.0969</td><td>28</td></tr><tr><th>2</th><td>4.5441</td><td>4.699</td><td>28</td></tr><tr><th>3</th><td>4.1761</td><td>4.301</td><td>34</td></tr></tbody></table></div>"
      ],
      "text/latex": [
       "\\begin{tabular}{r|ccc}\n",
       "\t& yl & yu & edu\\\\\n",
       "\t\\hline\n",
       "\t& Float64 & Float64 & Int64\\\\\n",
       "\t\\hline\n",
       "\t1 & 4.0 & 4.0969 & 28 \\\\\n",
       "\t2 & 4.5441 & 4.699 & 28 \\\\\n",
       "\t3 & 4.1761 & 4.301 & 34 \\\\\n",
       "\\end{tabular}\n"
      ],
      "text/plain": [
       "\u001b[1m3×3 DataFrame\u001b[0m\n",
       "\u001b[1m Row \u001b[0m│\u001b[1m yl      \u001b[0m\u001b[1m yu      \u001b[0m\u001b[1m edu   \u001b[0m\n",
       "\u001b[1m     \u001b[0m│\u001b[90m Float64 \u001b[0m\u001b[90m Float64 \u001b[0m\u001b[90m Int64 \u001b[0m\n",
       "─────┼─────────────────────────\n",
       "   1 │  4.0      4.0969     28\n",
       "   2 │  4.5441   4.699      28\n",
       "   3 │  4.1761   4.301      34"
      ]
     },
     "execution_count": 5,
     "metadata": {},
     "output_type": "execute_result"
    }
   ],
   "source": [
    "url = \"https://raw.githubusercontent.com/ArieBeresteanu/Bounds.jl/main/Fortran/Chtdata.csv\"\n",
    "\n",
    "http_response = HTTP.get(url)\n",
    "file = CSV.File(http_response.body,header=false)\n",
    "\n",
    "cht = DataFrame(file)\n",
    "\n",
    "rename!(cht, :Column1 => :yl, :Column2 => :yu, :Column3 => :edu)\n",
    "first(cht,3)"
   ]
  },
  {
   "cell_type": "code",
   "execution_count": 12,
   "metadata": {},
   "outputs": [
    {
     "data": {
      "text/plain": [
       "2-element Vector{Float64}:\n",
       " 4.434663145221974\n",
       " 4.967426358164033"
      ]
     },
     "execution_count": 12,
     "metadata": {},
     "output_type": "execute_result"
    }
   ],
   "source": [
    "s = describe(cht, :mean, cols=[:yl,:yu])\n",
    "H0 = [s[1,2], s[2,2]]"
   ]
  },
  {
   "cell_type": "code",
   "execution_count": 10,
   "metadata": {},
   "outputs": [
    {
     "data": {
      "text/plain": [
       "Main.setBLP"
      ]
     },
     "execution_count": 10,
     "metadata": {},
     "output_type": "execute_result"
    }
   ],
   "source": [
    "include(\"C:\\\\Users\\\\The Group Leader\\\\Notebooks\\\\Research\\\\Bounds.jl-1\\\\src\\\\setBLP.jl\")"
   ]
  },
  {
   "cell_type": "code",
   "execution_count": 13,
   "metadata": {},
   "outputs": [
    {
     "ename": "LoadError",
     "evalue": "MethodError: no method matching HdistInterval(::Vector{Float64}, ::Vector{Float64})",
     "output_type": "error",
     "traceback": [
      "MethodError: no method matching HdistInterval(::Vector{Float64}, ::Vector{Float64})",
      "",
      "Stacktrace:",
      " [1] EYasy(yl::Vector{Float64}, yu::Vector{Float64}, H0::Vector{Float64}, options::Main.setBLP.Options)",
      "   @ Main.setBLP C:\\Users\\The Group Leader\\Notebooks\\Research\\Bounds.jl-1\\src\\setBLP.jl:129",
      " [2] EY(yl::Vector{Float64}, yu::Vector{Float64}, H0::Vector{Float64}, options::Main.setBLP.Options, method::String)",
      "   @ Main.setBLP C:\\Users\\The Group Leader\\Notebooks\\Research\\Bounds.jl-1\\src\\setBLP.jl:71",
      " [3] EY(yl::Vector{Float64}, yu::Vector{Float64}, H0::Vector{Float64})",
      "   @ Main.setBLP C:\\Users\\The Group Leader\\Notebooks\\Research\\Bounds.jl-1\\src\\setBLP.jl:70",
      " [4] top-level scope",
      "   @ In[13]:1",
      " [5] eval",
      "   @ .\\boot.jl:373 [inlined]",
      " [6] include_string(mapexpr::typeof(REPL.softscope), mod::Module, code::String, filename::String)",
      "   @ Base .\\loading.jl:1196"
     ]
    }
   ],
   "source": [
    "setBLP.EY(cht[!,:yl],cht[!,:yu],H0)"
   ]
  },
  {
   "cell_type": "code",
   "execution_count": null,
   "metadata": {},
   "outputs": [],
   "source": []
  }
 ],
 "metadata": {
  "@webio": {
   "lastCommId": null,
   "lastKernelId": null
  },
  "kernelspec": {
   "display_name": "Julia 1.7.3",
   "language": "julia",
   "name": "julia-1.7"
  },
  "language_info": {
   "file_extension": ".jl",
   "mimetype": "application/julia",
   "name": "julia",
   "version": "1.7.3"
  }
 },
 "nbformat": 4,
 "nbformat_minor": 4
}
