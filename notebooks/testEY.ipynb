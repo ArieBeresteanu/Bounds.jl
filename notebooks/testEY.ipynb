{
 "cells": [
  {
   "cell_type": "code",
   "execution_count": 1,
   "metadata": {},
   "outputs": [],
   "source": [
    "using CSV, DataFrames, Random, HTTP, Distributions"
   ]
  },
  {
   "cell_type": "code",
   "execution_count": 2,
   "metadata": {},
   "outputs": [
    {
     "data": {
      "text/html": [
       "<div class=\"data-frame\"><p>3 rows × 3 columns</p><table class=\"data-frame\"><thead><tr><th></th><th>yl</th><th>yu</th><th>edu</th></tr><tr><th></th><th title=\"Float64\">Float64</th><th title=\"Float64\">Float64</th><th title=\"Int64\">Int64</th></tr></thead><tbody><tr><th>1</th><td>4.0</td><td>4.0969</td><td>28</td></tr><tr><th>2</th><td>4.5441</td><td>4.699</td><td>28</td></tr><tr><th>3</th><td>4.1761</td><td>4.301</td><td>34</td></tr></tbody></table></div>"
      ],
      "text/latex": [
       "\\begin{tabular}{r|ccc}\n",
       "\t& yl & yu & edu\\\\\n",
       "\t\\hline\n",
       "\t& Float64 & Float64 & Int64\\\\\n",
       "\t\\hline\n",
       "\t1 & 4.0 & 4.0969 & 28 \\\\\n",
       "\t2 & 4.5441 & 4.699 & 28 \\\\\n",
       "\t3 & 4.1761 & 4.301 & 34 \\\\\n",
       "\\end{tabular}\n"
      ],
      "text/plain": [
       "\u001b[1m3×3 DataFrame\u001b[0m\n",
       "\u001b[1m Row \u001b[0m│\u001b[1m yl      \u001b[0m\u001b[1m yu      \u001b[0m\u001b[1m edu   \u001b[0m\n",
       "\u001b[1m     \u001b[0m│\u001b[90m Float64 \u001b[0m\u001b[90m Float64 \u001b[0m\u001b[90m Int64 \u001b[0m\n",
       "─────┼─────────────────────────\n",
       "   1 │  4.0      4.0969     28\n",
       "   2 │  4.5441   4.699      28\n",
       "   3 │  4.1761   4.301      34"
      ]
     },
     "execution_count": 2,
     "metadata": {},
     "output_type": "execute_result"
    }
   ],
   "source": [
    "url = \"https://raw.githubusercontent.com/ArieBeresteanu/Bounds.jl/main/Fortran/Chtdata.csv\"\n",
    "\n",
    "http_response = HTTP.get(url)\n",
    "file = CSV.File(http_response.body,header=false)\n",
    "\n",
    "cht = DataFrame(file)\n",
    "\n",
    "rename!(cht, :Column1 => :yl, :Column2 => :yu, :Column3 => :edu)\n",
    "first(cht,3)"
   ]
  },
  {
   "cell_type": "code",
   "execution_count": 3,
   "metadata": {},
   "outputs": [
    {
     "data": {
      "text/plain": [
       "2-element Vector{Float64}:\n",
       " 4.434663145221974\n",
       " 4.967426358164033"
      ]
     },
     "execution_count": 3,
     "metadata": {},
     "output_type": "execute_result"
    }
   ],
   "source": [
    "s = describe(cht, :mean, cols=[:yl,:yu])\n",
    "H0 = [s[1,2], s[2,2]]"
   ]
  },
  {
   "cell_type": "code",
   "execution_count": 6,
   "metadata": {},
   "outputs": [
    {
     "name": "stderr",
     "output_type": "stream",
     "text": [
      "WARNING: replacing module setBLP.\n"
     ]
    },
    {
     "data": {
      "text/plain": [
       "Main.setBLP"
      ]
     },
     "execution_count": 6,
     "metadata": {},
     "output_type": "execute_result"
    }
   ],
   "source": [
    "include(\"C:\\\\Users\\\\The Group Leader\\\\Notebooks\\\\Research\\\\Bounds.jl-1\\\\src\\\\setBLP.jl\")"
   ]
  },
  {
   "cell_type": "code",
   "execution_count": 7,
   "metadata": {},
   "outputs": [
    {
     "ename": "LoadError",
     "evalue": "BoundsError: attempt to access 1-element Vector{Float64} at index [1900]",
     "output_type": "error",
     "traceback": [
      "BoundsError: attempt to access 1-element Vector{Float64} at index [1900]",
      "",
      "Stacktrace:",
      " [1] getindex",
      "   @ .\\array.jl:861 [inlined]",
      " [2] EYasy(yl::Vector{Float64}, yu::Vector{Float64}, H0::Vector{Float64}, options::Main.setBLP.Options)",
      "   @ Main.setBLP C:\\Users\\The Group Leader\\Notebooks\\Research\\Bounds.jl-1\\src\\setBLP.jl:155",
      " [3] EY",
      "   @ C:\\Users\\The Group Leader\\Notebooks\\Research\\Bounds.jl-1\\src\\setBLP.jl:71 [inlined]",
      " [4] EY(yl::Vector{Float64}, yu::Vector{Float64}, H0::Vector{Float64})",
      "   @ Main.setBLP C:\\Users\\The Group Leader\\Notebooks\\Research\\Bounds.jl-1\\src\\setBLP.jl:70",
      " [5] top-level scope",
      "   @ In[7]:1",
      " [6] eval",
      "   @ .\\boot.jl:373 [inlined]",
      " [7] include_string(mapexpr::typeof(REPL.softscope), mod::Module, code::String, filename::String)",
      "   @ Base .\\loading.jl:1196"
     ]
    }
   ],
   "source": [
    "setBLP.EY(cht[!,:yl],cht[!,:yu],H0)"
   ]
  },
  {
   "cell_type": "code",
   "execution_count": 11,
   "metadata": {},
   "outputs": [
    {
     "data": {
      "text/plain": [
       "minus (generic function with 1 method)"
      ]
     },
     "execution_count": 11,
     "metadata": {},
     "output_type": "execute_result"
    }
   ],
   "source": [
    "plus(x::Real)=max(0.0,x)\n",
    "minus(x::Real)=max(0.0,-x)"
   ]
  },
  {
   "cell_type": "code",
   "execution_count": 21,
   "metadata": {},
   "outputs": [
    {
     "ename": "LoadError",
     "evalue": "UndefKeywordError: keyword argument dims not assigned",
     "output_type": "error",
     "traceback": [
      "UndefKeywordError: keyword argument dims not assigned",
      "",
      "Stacktrace:",
      " [1] sort!(A::Matrix{Float64})",
      "   @ Base.Sort .\\sort.jl:1097",
      " [2] top-level scope",
      "   @ In[21]:22",
      " [3] eval",
      "   @ .\\boot.jl:373 [inlined]",
      " [4] include_string(mapexpr::typeof(REPL.softscope), mod::Module, code::String, filename::String)",
      "   @ Base .\\loading.jl:1196"
     ]
    }
   ],
   "source": [
    "σ = 0.25\n",
    "Pi = [1.0 σ; σ 1.21] #covariance matrix for yl,yu\n",
    "sqrt_n = 10\n",
    "LB,UB = H0\n",
    "\n",
    "d = MvNormal([0, 0],Pi) #defining the joint normal distribution\n",
    "B = 2000 #number of MC iterations to compute the critical value\n",
    "α = 0.95  #confidence level for the critical value1\n",
    "\n",
    "## Following Algorithm on page 780 in BM2008:\n",
    "rr = (rand(d,B)); #drawing B pairs from a bivariate-normal distribution.\n",
    "\n",
    "## test based on Hausdorff distance:\n",
    "r_H = maximum(abs.(rr),dims=1);\n",
    "sort!(r_H,dims=2)\n",
    "c_H = r_H[floor(Int64,α*B)]\n",
    "CI_H = [LB-c_H/sqrt_n,UB+c_H/sqrt_n]\n",
    "\n",
    "\n",
    "#test based on directed Hausdorff distance:\n",
    "r_dH = maximum([plus.(rr[1,:]) minus.(rr[2,:])],dims=2)\n",
    "sort!(r_dH,dims=1)\n",
    "c_dH = r_dH[floor(Int64,α*B)]\n",
    "CI_dH = [LB-c_dH/sqrt_n,UB+c_dH/sqrt_n]\n",
    "dHtest = testResults(testStat_dH,c_dH,CI_dH)"
   ]
  },
  {
   "cell_type": "code",
   "execution_count": 13,
   "metadata": {},
   "outputs": [
    {
     "data": {
      "text/plain": [
       "(2, 2000)"
      ]
     },
     "execution_count": 13,
     "metadata": {},
     "output_type": "execute_result"
    }
   ],
   "source": [
    "size(rr)"
   ]
  },
  {
   "cell_type": "code",
   "execution_count": 14,
   "metadata": {},
   "outputs": [
    {
     "data": {
      "text/plain": [
       "(1, 2000)"
      ]
     },
     "execution_count": 14,
     "metadata": {},
     "output_type": "execute_result"
    }
   ],
   "source": [
    "size(r_H)"
   ]
  },
  {
   "cell_type": "code",
   "execution_count": 16,
   "metadata": {},
   "outputs": [
    {
     "data": {
      "text/plain": [
       "Matrix{Float64} (alias for Array{Float64, 2})"
      ]
     },
     "execution_count": 16,
     "metadata": {},
     "output_type": "execute_result"
    }
   ],
   "source": [
    "typeof(r_H)"
   ]
  },
  {
   "cell_type": "code",
   "execution_count": 17,
   "metadata": {},
   "outputs": [
    {
     "data": {
      "text/plain": [
       "(1,)"
      ]
     },
     "execution_count": 17,
     "metadata": {},
     "output_type": "execute_result"
    }
   ],
   "source": [
    "size(r_dH)"
   ]
  },
  {
   "cell_type": "code",
   "execution_count": 27,
   "metadata": {},
   "outputs": [
    {
     "data": {
      "text/plain": [
       "2000×1 Matrix{Float64}:\n",
       " 0.0\n",
       " 0.0\n",
       " 0.0\n",
       " 0.0\n",
       " 0.0\n",
       " 0.0\n",
       " 0.0\n",
       " 0.0\n",
       " 0.0\n",
       " 0.0\n",
       " 0.0\n",
       " 0.0\n",
       " 0.0\n",
       " ⋮\n",
       " 2.8427004685518007\n",
       " 2.9203794846414604\n",
       " 2.9337797305236064\n",
       " 2.995705490745582\n",
       " 3.100997070100628\n",
       " 3.125232403907023\n",
       " 3.171814499008547\n",
       " 3.176882391013481\n",
       " 3.2808335857403694\n",
       " 3.283920336607822\n",
       " 3.3737426455009274\n",
       " 3.409149683677947"
      ]
     },
     "execution_count": 27,
     "metadata": {},
     "output_type": "execute_result"
    }
   ],
   "source": [
    "k = maximum([plus.(rr[1,:]) minus.(rr[2,:])],dims=2)\n",
    "sort!(k,dims=1)"
   ]
  },
  {
   "cell_type": "code",
   "execution_count": 25,
   "metadata": {},
   "outputs": [
    {
     "data": {
      "text/plain": [
       "(2000, 1)"
      ]
     },
     "execution_count": 25,
     "metadata": {},
     "output_type": "execute_result"
    }
   ],
   "source": [
    "size(k)"
   ]
  },
  {
   "cell_type": "code",
   "execution_count": null,
   "metadata": {},
   "outputs": [],
   "source": []
  }
 ],
 "metadata": {
  "@webio": {
   "lastCommId": null,
   "lastKernelId": null
  },
  "kernelspec": {
   "display_name": "Julia 1.7.3",
   "language": "julia",
   "name": "julia-1.7"
  },
  "language_info": {
   "file_extension": ".jl",
   "mimetype": "application/julia",
   "name": "julia",
   "version": "1.7.3"
  }
 },
 "nbformat": 4,
 "nbformat_minor": 4
}
